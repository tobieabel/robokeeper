{
  "nbformat": 4,
  "nbformat_minor": 0,
  "metadata": {
    "colab": {
      "name": "TF2 Object Detection from Saved Model_SSD.ipynb",
      "provenance": [],
      "toc_visible": true,
      "authorship_tag": "ABX9TyMfOdjahDeMWTYMj6dsXIms",
      "include_colab_link": true
    },
    "kernelspec": {
      "name": "python3",
      "display_name": "Python 3"
    },
    "accelerator": "GPU"
  },
  "cells": [
    {
      "cell_type": "markdown",
      "metadata": {
        "id": "view-in-github",
        "colab_type": "text"
      },
      "source": [
        "<a href=\"https://colab.research.google.com/github/tobieabel/robokeeper/blob/master/TF2_Object_Detection_from_Saved_Model_SSD.ipynb\" target=\"_parent\"><img src=\"https://colab.research.google.com/assets/colab-badge.svg\" alt=\"Open In Colab\"/></a>"
      ]
    },
    {
      "cell_type": "code",
      "metadata": {
        "id": "bCt7MFh_0ojh",
        "colab": {
          "base_uri": "https://localhost:8080/"
        },
        "outputId": "168574db-38b4-4cf4-d8ec-5f3baa4ba96d"
      },
      "source": [
        "!pip install tf-nightly"
      ],
      "execution_count": null,
      "outputs": [
        {
          "output_type": "stream",
          "text": [
            "Collecting tf-nightly\n",
            "\u001b[?25l  Downloading https://files.pythonhosted.org/packages/f8/e2/a63667b5ad66baae3bc6979f75d82f258871868f03b1eba937a6e206b83e/tf_nightly-2.5.0.dev20210114-cp36-cp36m-manylinux2010_x86_64.whl (400.1MB)\n",
            "\u001b[K     |████████████████████████████████| 400.1MB 40kB/s \n",
            "\u001b[?25hRequirement already satisfied: protobuf>=3.9.2 in /usr/local/lib/python3.6/dist-packages (from tf-nightly) (3.12.4)\n",
            "Requirement already satisfied: wheel~=0.35 in /usr/local/lib/python3.6/dist-packages (from tf-nightly) (0.36.2)\n",
            "Requirement already satisfied: termcolor~=1.1.0 in /usr/local/lib/python3.6/dist-packages (from tf-nightly) (1.1.0)\n",
            "Collecting tb-nightly~=2.5.0.a\n",
            "\u001b[?25l  Downloading https://files.pythonhosted.org/packages/53/87/6f0ec937d017f6a57cbd6b103dd31bf597d04dbbf59dd21a599683effae8/tb_nightly-2.5.0a20210114-py3-none-any.whl (12.2MB)\n",
            "\u001b[K     |████████████████████████████████| 12.2MB 52.0MB/s \n",
            "\u001b[?25hRequirement already satisfied: six~=1.15.0 in /usr/local/lib/python3.6/dist-packages (from tf-nightly) (1.15.0)\n",
            "Requirement already satisfied: typing-extensions~=3.7.4 in /usr/local/lib/python3.6/dist-packages (from tf-nightly) (3.7.4.3)\n",
            "Collecting tf-estimator-nightly~=2.5.0.dev\n",
            "\u001b[?25l  Downloading https://files.pythonhosted.org/packages/72/0f/60c3c9815db97d1708da626e19789740759622ad8042774b9a96602151bd/tf_estimator_nightly-2.5.0.dev2021011401-py2.py3-none-any.whl (462kB)\n",
            "\u001b[K     |████████████████████████████████| 471kB 45.8MB/s \n",
            "\u001b[?25hRequirement already satisfied: google-pasta~=0.2 in /usr/local/lib/python3.6/dist-packages (from tf-nightly) (0.2.0)\n",
            "Collecting h5py~=3.1.0\n",
            "\u001b[?25l  Downloading https://files.pythonhosted.org/packages/70/7a/e53e500335afb6b1aade11227cdf107fca54106a1dca5c9d13242a043f3b/h5py-3.1.0-cp36-cp36m-manylinux1_x86_64.whl (4.0MB)\n",
            "\u001b[K     |████████████████████████████████| 4.0MB 46.2MB/s \n",
            "\u001b[?25hRequirement already satisfied: numpy~=1.19.2 in /usr/local/lib/python3.6/dist-packages (from tf-nightly) (1.19.5)\n",
            "Collecting grpcio~=1.34.0\n",
            "\u001b[?25l  Downloading https://files.pythonhosted.org/packages/ab/f5/3d3bcb82beae990021cbf6877456a1aab650e68c902194566edd6a73e37c/grpcio-1.34.1-cp36-cp36m-manylinux2014_x86_64.whl (4.0MB)\n",
            "\u001b[K     |████████████████████████████████| 4.0MB 40.7MB/s \n",
            "\u001b[?25hCollecting gast==0.4.0\n",
            "  Downloading https://files.pythonhosted.org/packages/b6/48/583c032b79ae5b3daa02225a675aeb673e58d2cb698e78510feceb11958c/gast-0.4.0-py3-none-any.whl\n",
            "Requirement already satisfied: absl-py~=0.10 in /usr/local/lib/python3.6/dist-packages (from tf-nightly) (0.10.0)\n",
            "Requirement already satisfied: wrapt~=1.12.1 in /usr/local/lib/python3.6/dist-packages (from tf-nightly) (1.12.1)\n",
            "Requirement already satisfied: opt-einsum~=3.3.0 in /usr/local/lib/python3.6/dist-packages (from tf-nightly) (3.3.0)\n",
            "Requirement already satisfied: keras-preprocessing~=1.1.2 in /usr/local/lib/python3.6/dist-packages (from tf-nightly) (1.1.2)\n",
            "Requirement already satisfied: flatbuffers~=1.12.0 in /usr/local/lib/python3.6/dist-packages (from tf-nightly) (1.12)\n",
            "Requirement already satisfied: astunparse~=1.6.3 in /usr/local/lib/python3.6/dist-packages (from tf-nightly) (1.6.3)\n",
            "Requirement already satisfied: setuptools in /usr/local/lib/python3.6/dist-packages (from protobuf>=3.9.2->tf-nightly) (51.1.1)\n",
            "Requirement already satisfied: werkzeug>=0.11.15 in /usr/local/lib/python3.6/dist-packages (from tb-nightly~=2.5.0.a->tf-nightly) (1.0.1)\n",
            "Requirement already satisfied: tensorboard-plugin-wit>=1.6.0 in /usr/local/lib/python3.6/dist-packages (from tb-nightly~=2.5.0.a->tf-nightly) (1.7.0)\n",
            "Requirement already satisfied: google-auth-oauthlib<0.5,>=0.4.1 in /usr/local/lib/python3.6/dist-packages (from tb-nightly~=2.5.0.a->tf-nightly) (0.4.2)\n",
            "Requirement already satisfied: markdown>=2.6.8 in /usr/local/lib/python3.6/dist-packages (from tb-nightly~=2.5.0.a->tf-nightly) (3.3.3)\n",
            "Requirement already satisfied: google-auth<2,>=1.6.3 in /usr/local/lib/python3.6/dist-packages (from tb-nightly~=2.5.0.a->tf-nightly) (1.17.2)\n",
            "Requirement already satisfied: requests<3,>=2.21.0 in /usr/local/lib/python3.6/dist-packages (from tb-nightly~=2.5.0.a->tf-nightly) (2.23.0)\n",
            "Collecting cached-property; python_version < \"3.8\"\n",
            "  Downloading https://files.pythonhosted.org/packages/48/19/f2090f7dad41e225c7f2326e4cfe6fff49e57dedb5b53636c9551f86b069/cached_property-1.5.2-py2.py3-none-any.whl\n",
            "Requirement already satisfied: requests-oauthlib>=0.7.0 in /usr/local/lib/python3.6/dist-packages (from google-auth-oauthlib<0.5,>=0.4.1->tb-nightly~=2.5.0.a->tf-nightly) (1.3.0)\n",
            "Requirement already satisfied: importlib-metadata; python_version < \"3.8\" in /usr/local/lib/python3.6/dist-packages (from markdown>=2.6.8->tb-nightly~=2.5.0.a->tf-nightly) (3.3.0)\n",
            "Requirement already satisfied: cachetools<5.0,>=2.0.0 in /usr/local/lib/python3.6/dist-packages (from google-auth<2,>=1.6.3->tb-nightly~=2.5.0.a->tf-nightly) (4.2.0)\n",
            "Requirement already satisfied: rsa<5,>=3.1.4; python_version >= \"3\" in /usr/local/lib/python3.6/dist-packages (from google-auth<2,>=1.6.3->tb-nightly~=2.5.0.a->tf-nightly) (4.6)\n",
            "Requirement already satisfied: pyasn1-modules>=0.2.1 in /usr/local/lib/python3.6/dist-packages (from google-auth<2,>=1.6.3->tb-nightly~=2.5.0.a->tf-nightly) (0.2.8)\n",
            "Requirement already satisfied: urllib3!=1.25.0,!=1.25.1,<1.26,>=1.21.1 in /usr/local/lib/python3.6/dist-packages (from requests<3,>=2.21.0->tb-nightly~=2.5.0.a->tf-nightly) (1.24.3)\n",
            "Requirement already satisfied: certifi>=2017.4.17 in /usr/local/lib/python3.6/dist-packages (from requests<3,>=2.21.0->tb-nightly~=2.5.0.a->tf-nightly) (2020.12.5)\n",
            "Requirement already satisfied: idna<3,>=2.5 in /usr/local/lib/python3.6/dist-packages (from requests<3,>=2.21.0->tb-nightly~=2.5.0.a->tf-nightly) (2.10)\n",
            "Requirement already satisfied: chardet<4,>=3.0.2 in /usr/local/lib/python3.6/dist-packages (from requests<3,>=2.21.0->tb-nightly~=2.5.0.a->tf-nightly) (3.0.4)\n",
            "Requirement already satisfied: oauthlib>=3.0.0 in /usr/local/lib/python3.6/dist-packages (from requests-oauthlib>=0.7.0->google-auth-oauthlib<0.5,>=0.4.1->tb-nightly~=2.5.0.a->tf-nightly) (3.1.0)\n",
            "Requirement already satisfied: zipp>=0.5 in /usr/local/lib/python3.6/dist-packages (from importlib-metadata; python_version < \"3.8\"->markdown>=2.6.8->tb-nightly~=2.5.0.a->tf-nightly) (3.4.0)\n",
            "Requirement already satisfied: pyasn1>=0.1.3 in /usr/local/lib/python3.6/dist-packages (from rsa<5,>=3.1.4; python_version >= \"3\"->google-auth<2,>=1.6.3->tb-nightly~=2.5.0.a->tf-nightly) (0.4.8)\n",
            "\u001b[31mERROR: tensorflow 2.4.0 has requirement gast==0.3.3, but you'll have gast 0.4.0 which is incompatible.\u001b[0m\n",
            "\u001b[31mERROR: tensorflow 2.4.0 has requirement grpcio~=1.32.0, but you'll have grpcio 1.34.1 which is incompatible.\u001b[0m\n",
            "\u001b[31mERROR: tensorflow 2.4.0 has requirement h5py~=2.10.0, but you'll have h5py 3.1.0 which is incompatible.\u001b[0m\n",
            "Installing collected packages: grpcio, tb-nightly, tf-estimator-nightly, cached-property, h5py, gast, tf-nightly\n",
            "  Found existing installation: grpcio 1.32.0\n",
            "    Uninstalling grpcio-1.32.0:\n",
            "      Successfully uninstalled grpcio-1.32.0\n",
            "  Found existing installation: h5py 2.10.0\n",
            "    Uninstalling h5py-2.10.0:\n",
            "      Successfully uninstalled h5py-2.10.0\n",
            "  Found existing installation: gast 0.3.3\n",
            "    Uninstalling gast-0.3.3:\n",
            "      Successfully uninstalled gast-0.3.3\n",
            "Successfully installed cached-property-1.5.2 gast-0.4.0 grpcio-1.34.1 h5py-3.1.0 tb-nightly-2.5.0a20210114 tf-estimator-nightly-2.5.0.dev2021011401 tf-nightly-2.5.0.dev20210114\n"
          ],
          "name": "stdout"
        }
      ]
    },
    {
      "cell_type": "code",
      "metadata": {
        "id": "Sg2c-Uw71R0m",
        "colab": {
          "base_uri": "https://localhost:8080/"
        },
        "outputId": "33bacd39-1c28-4816-aeaa-60f36e8db8b4"
      },
      "source": [
        "import os\n",
        "import pathlib\n",
        "\n",
        "# Clone the tensorflow models repository if it doesn't already exist\n",
        "if \"models\" in pathlib.Path.cwd().parts:\n",
        "  while \"models\" in pathlib.Path.cwd().parts:\n",
        "    os.chdir('..')\n",
        "elif not pathlib.Path('models').exists():\n",
        "  !git clone --depth 1 https://github.com/tensorflow/models"
      ],
      "execution_count": null,
      "outputs": [
        {
          "output_type": "stream",
          "text": [
            "Cloning into 'models'...\n",
            "remote: Enumerating objects: 2402, done.\u001b[K\n",
            "remote: Counting objects: 100% (2402/2402), done.\u001b[K\n",
            "remote: Compressing objects: 100% (1997/1997), done.\u001b[K\n",
            "remote: Total 2402 (delta 560), reused 1461 (delta 378), pack-reused 0\u001b[K\n",
            "Receiving objects: 100% (2402/2402), 30.78 MiB | 26.17 MiB/s, done.\n",
            "Resolving deltas: 100% (560/560), done.\n"
          ],
          "name": "stdout"
        }
      ]
    },
    {
      "cell_type": "code",
      "metadata": {
        "id": "a2nnwMdI1lCY",
        "colab": {
          "base_uri": "https://localhost:8080/"
        },
        "outputId": "c2b68fc6-e49e-4b90-fb5c-b1e6c2a16156"
      },
      "source": [
        "# Compile the Object Detection API and run the setup python script\n",
        "%%bash\n",
        "cd models/research/\n",
        "protoc object_detection/protos/*.proto --python_out=.\n",
        "cp object_detection/packages/tf2/setup.py .\n",
        "python -m pip install ."
      ],
      "execution_count": null,
      "outputs": [
        {
          "output_type": "stream",
          "text": [
            "Processing /content/models/research\n",
            "Collecting avro-python3\n",
            "  Downloading https://files.pythonhosted.org/packages/3f/84/ef37f882a7d93674d6fe1aa6e99f18cf2f34e9b775952f3d85587c11c92e/avro-python3-1.10.1.tar.gz\n",
            "Collecting apache-beam\n",
            "  Downloading https://files.pythonhosted.org/packages/ba/f8/afcd9a457d92bd7858df5ece8f8ecae7d7387fbbb6e3438c6cb495278743/apache_beam-2.27.0-cp36-cp36m-manylinux2010_x86_64.whl (9.0MB)\n",
            "Requirement already satisfied: pillow in /usr/local/lib/python3.6/dist-packages (from object-detection==0.1) (7.0.0)\n",
            "Requirement already satisfied: lxml in /usr/local/lib/python3.6/dist-packages (from object-detection==0.1) (4.2.6)\n",
            "Requirement already satisfied: matplotlib in /usr/local/lib/python3.6/dist-packages (from object-detection==0.1) (3.2.2)\n",
            "Requirement already satisfied: Cython in /usr/local/lib/python3.6/dist-packages (from object-detection==0.1) (0.29.21)\n",
            "Requirement already satisfied: contextlib2 in /usr/local/lib/python3.6/dist-packages (from object-detection==0.1) (0.5.5)\n",
            "Collecting tf-slim\n",
            "  Downloading https://files.pythonhosted.org/packages/02/97/b0f4a64df018ca018cc035d44f2ef08f91e2e8aa67271f6f19633a015ff7/tf_slim-1.1.0-py2.py3-none-any.whl (352kB)\n",
            "Requirement already satisfied: six in /usr/local/lib/python3.6/dist-packages (from object-detection==0.1) (1.15.0)\n",
            "Requirement already satisfied: pycocotools in /usr/local/lib/python3.6/dist-packages (from object-detection==0.1) (2.0.2)\n",
            "Collecting lvis\n",
            "  Downloading https://files.pythonhosted.org/packages/72/b6/1992240ab48310b5360bfdd1d53163f43bb97d90dc5dc723c67d41c38e78/lvis-0.5.3-py3-none-any.whl\n",
            "Requirement already satisfied: scipy in /usr/local/lib/python3.6/dist-packages (from object-detection==0.1) (1.4.1)\n",
            "Requirement already satisfied: pandas in /usr/local/lib/python3.6/dist-packages (from object-detection==0.1) (1.1.5)\n",
            "Collecting tf-models-official\n",
            "  Downloading https://files.pythonhosted.org/packages/57/4a/23a08f8fd2747867ee223612e219eeb0d11c36116601d99b55ef3c72e707/tf_models_official-2.4.0-py2.py3-none-any.whl (1.1MB)\n",
            "Requirement already satisfied: grpcio<2,>=1.29.0 in /usr/local/lib/python3.6/dist-packages (from apache-beam->object-detection==0.1) (1.34.1)\n",
            "Requirement already satisfied: pymongo<4.0.0,>=3.8.0 in /usr/local/lib/python3.6/dist-packages (from apache-beam->object-detection==0.1) (3.11.2)\n",
            "Requirement already satisfied: pydot<2,>=1.2.0 in /usr/local/lib/python3.6/dist-packages (from apache-beam->object-detection==0.1) (1.3.0)\n",
            "Requirement already satisfied: crcmod<2.0,>=1.7 in /usr/local/lib/python3.6/dist-packages (from apache-beam->object-detection==0.1) (1.7)\n",
            "Requirement already satisfied: numpy<2,>=1.14.3 in /usr/local/lib/python3.6/dist-packages (from apache-beam->object-detection==0.1) (1.19.5)\n",
            "Requirement already satisfied: python-dateutil<3,>=2.8.0 in /usr/local/lib/python3.6/dist-packages (from apache-beam->object-detection==0.1) (2.8.1)\n",
            "Requirement already satisfied: typing-extensions<3.8.0,>=3.7.0 in /usr/local/lib/python3.6/dist-packages (from apache-beam->object-detection==0.1) (3.7.4.3)\n",
            "Collecting mock<3.0.0,>=1.0.1\n",
            "  Downloading https://files.pythonhosted.org/packages/e6/35/f187bdf23be87092bd0f1200d43d23076cee4d0dec109f195173fd3ebc79/mock-2.0.0-py2.py3-none-any.whl (56kB)\n",
            "Requirement already satisfied: pytz>=2018.3 in /usr/local/lib/python3.6/dist-packages (from apache-beam->object-detection==0.1) (2018.9)\n",
            "Collecting future<1.0.0,>=0.18.2\n",
            "  Downloading https://files.pythonhosted.org/packages/45/0b/38b06fd9b92dc2b68d58b75f900e97884c45bedd2ff83203d933cf5851c9/future-0.18.2.tar.gz (829kB)\n",
            "Collecting dill<0.3.2,>=0.3.1.1\n",
            "  Downloading https://files.pythonhosted.org/packages/c7/11/345f3173809cea7f1a193bfbf02403fff250a3360e0e118a1630985e547d/dill-0.3.1.1.tar.gz (151kB)\n",
            "Requirement already satisfied: oauth2client<5,>=2.0.1 in /usr/local/lib/python3.6/dist-packages (from apache-beam->object-detection==0.1) (4.1.3)\n",
            "Collecting fastavro<2,>=0.21.4\n",
            "  Downloading https://files.pythonhosted.org/packages/21/de/f3f8eb2406ba426c92330c1e02abfc74adc10d23eda1953871b087313b56/fastavro-1.2.3-cp36-cp36m-manylinux2014_x86_64.whl (2.0MB)\n",
            "Collecting hdfs<3.0.0,>=2.1.0\n",
            "  Downloading https://files.pythonhosted.org/packages/82/39/2c0879b1bcfd1f6ad078eb210d09dbce21072386a3997074ee91e60ddc5a/hdfs-2.5.8.tar.gz (41kB)\n",
            "Requirement already satisfied: protobuf<4,>=3.12.2 in /usr/local/lib/python3.6/dist-packages (from apache-beam->object-detection==0.1) (3.12.4)\n",
            "Collecting requests<3.0.0,>=2.24.0\n",
            "  Downloading https://files.pythonhosted.org/packages/29/c1/24814557f1d22c56d50280771a17307e6bf87b70727d975fd6b2ce6b014a/requests-2.25.1-py2.py3-none-any.whl (61kB)\n",
            "Requirement already satisfied: httplib2<0.18.0,>=0.8 in /usr/local/lib/python3.6/dist-packages (from apache-beam->object-detection==0.1) (0.17.4)\n",
            "Collecting pyarrow<3.0.0,>=0.15.1\n",
            "  Downloading https://files.pythonhosted.org/packages/d7/e1/27958a70848f8f7089bff8d6ebe42519daf01f976d28b481e1bfd52c8097/pyarrow-2.0.0-cp36-cp36m-manylinux2014_x86_64.whl (17.7MB)\n",
            "Requirement already satisfied: kiwisolver>=1.0.1 in /usr/local/lib/python3.6/dist-packages (from matplotlib->object-detection==0.1) (1.3.1)\n",
            "Requirement already satisfied: pyparsing!=2.0.4,!=2.1.2,!=2.1.6,>=2.0.1 in /usr/local/lib/python3.6/dist-packages (from matplotlib->object-detection==0.1) (2.4.7)\n",
            "Requirement already satisfied: cycler>=0.10 in /usr/local/lib/python3.6/dist-packages (from matplotlib->object-detection==0.1) (0.10.0)\n",
            "Requirement already satisfied: absl-py>=0.2.2 in /usr/local/lib/python3.6/dist-packages (from tf-slim->object-detection==0.1) (0.10.0)\n",
            "Requirement already satisfied: setuptools>=18.0 in /usr/local/lib/python3.6/dist-packages (from pycocotools->object-detection==0.1) (51.1.1)\n",
            "Requirement already satisfied: opencv-python>=4.1.0.25 in /usr/local/lib/python3.6/dist-packages (from lvis->object-detection==0.1) (4.1.2.30)\n",
            "Collecting tensorflow-model-optimization>=0.4.1\n",
            "  Downloading https://files.pythonhosted.org/packages/55/38/4fd48ea1bfcb0b6e36d949025200426fe9c3a8bfae029f0973d85518fa5a/tensorflow_model_optimization-0.5.0-py2.py3-none-any.whl (172kB)\n",
            "Collecting sentencepiece\n",
            "  Downloading https://files.pythonhosted.org/packages/14/67/e42bd1181472c95c8cda79305df848264f2a7f62740995a46945d9797b67/sentencepiece-0.1.95-cp36-cp36m-manylinux2014_x86_64.whl (1.2MB)\n",
            "Requirement already satisfied: tensorflow>=2.4.0 in /usr/local/lib/python3.6/dist-packages (from tf-models-official->object-detection==0.1) (2.4.0)\n",
            "Collecting opencv-python-headless\n",
            "  Downloading https://files.pythonhosted.org/packages/96/fc/4da675cc522a749ebbcf85c5a63fba844b2d44c87e6f24e3fdb147df3270/opencv_python_headless-4.5.1.48-cp36-cp36m-manylinux2014_x86_64.whl (37.6MB)\n",
            "Requirement already satisfied: psutil>=5.4.3 in /usr/local/lib/python3.6/dist-packages (from tf-models-official->object-detection==0.1) (5.4.8)\n",
            "Requirement already satisfied: tensorflow-addons in /usr/local/lib/python3.6/dist-packages (from tf-models-official->object-detection==0.1) (0.8.3)\n",
            "Collecting seqeval\n",
            "  Downloading https://files.pythonhosted.org/packages/9d/2d/233c79d5b4e5ab1dbf111242299153f3caddddbb691219f363ad55ce783d/seqeval-1.2.2.tar.gz (43kB)\n",
            "Collecting py-cpuinfo>=3.3.0\n",
            "  Downloading https://files.pythonhosted.org/packages/f6/f5/8e6e85ce2e9f6e05040cf0d4e26f43a4718bcc4bce988b433276d4b1a5c1/py-cpuinfo-7.0.0.tar.gz (95kB)\n",
            "Requirement already satisfied: google-cloud-bigquery>=0.31.0 in /usr/local/lib/python3.6/dist-packages (from tf-models-official->object-detection==0.1) (1.21.0)\n",
            "Requirement already satisfied: gin-config in /usr/local/lib/python3.6/dist-packages (from tf-models-official->object-detection==0.1) (0.4.0)\n",
            "Requirement already satisfied: google-api-python-client>=1.6.7 in /usr/local/lib/python3.6/dist-packages (from tf-models-official->object-detection==0.1) (1.7.12)\n",
            "Collecting pyyaml>=5.1\n",
            "  Downloading https://files.pythonhosted.org/packages/64/c2/b80047c7ac2478f9501676c988a5411ed5572f35d1beff9cae07d321512c/PyYAML-5.3.1.tar.gz (269kB)\n",
            "Requirement already satisfied: tensorflow-hub>=0.6.0 in /usr/local/lib/python3.6/dist-packages (from tf-models-official->object-detection==0.1) (0.11.0)\n",
            "Requirement already satisfied: tensorflow-datasets in /usr/local/lib/python3.6/dist-packages (from tf-models-official->object-detection==0.1) (4.0.1)\n",
            "Requirement already satisfied: kaggle>=1.3.9 in /usr/local/lib/python3.6/dist-packages (from tf-models-official->object-detection==0.1) (1.5.10)\n",
            "Requirement already satisfied: dataclasses in /usr/local/lib/python3.6/dist-packages (from tf-models-official->object-detection==0.1) (0.8)\n",
            "Collecting pbr>=0.11\n",
            "  Downloading https://files.pythonhosted.org/packages/fb/48/69046506f6ac61c1eaa9a0d42d22d54673b69e176d30ca98e3f61513e980/pbr-5.5.1-py2.py3-none-any.whl (106kB)\n",
            "Requirement already satisfied: pyasn1>=0.1.7 in /usr/local/lib/python3.6/dist-packages (from oauth2client<5,>=2.0.1->apache-beam->object-detection==0.1) (0.4.8)\n",
            "Requirement already satisfied: pyasn1-modules>=0.0.5 in /usr/local/lib/python3.6/dist-packages (from oauth2client<5,>=2.0.1->apache-beam->object-detection==0.1) (0.2.8)\n",
            "Requirement already satisfied: rsa>=3.1.4 in /usr/local/lib/python3.6/dist-packages (from oauth2client<5,>=2.0.1->apache-beam->object-detection==0.1) (4.6)\n",
            "Requirement already satisfied: docopt in /usr/local/lib/python3.6/dist-packages (from hdfs<3.0.0,>=2.1.0->apache-beam->object-detection==0.1) (0.6.2)\n",
            "Requirement already satisfied: certifi>=2017.4.17 in /usr/local/lib/python3.6/dist-packages (from requests<3.0.0,>=2.24.0->apache-beam->object-detection==0.1) (2020.12.5)\n",
            "Requirement already satisfied: idna<3,>=2.5 in /usr/local/lib/python3.6/dist-packages (from requests<3.0.0,>=2.24.0->apache-beam->object-detection==0.1) (2.10)\n",
            "Requirement already satisfied: urllib3<1.27,>=1.21.1 in /usr/local/lib/python3.6/dist-packages (from requests<3.0.0,>=2.24.0->apache-beam->object-detection==0.1) (1.24.3)\n",
            "Requirement already satisfied: chardet<5,>=3.0.2 in /usr/local/lib/python3.6/dist-packages (from requests<3.0.0,>=2.24.0->apache-beam->object-detection==0.1) (3.0.4)\n",
            "Requirement already satisfied: dm-tree~=0.1.1 in /usr/local/lib/python3.6/dist-packages (from tensorflow-model-optimization>=0.4.1->tf-models-official->object-detection==0.1) (0.1.5)\n",
            "Requirement already satisfied: google-pasta~=0.2 in /usr/local/lib/python3.6/dist-packages (from tensorflow>=2.4.0->tf-models-official->object-detection==0.1) (0.2.0)\n",
            "Requirement already satisfied: opt-einsum~=3.3.0 in /usr/local/lib/python3.6/dist-packages (from tensorflow>=2.4.0->tf-models-official->object-detection==0.1) (3.3.0)\n",
            "Requirement already satisfied: keras-preprocessing~=1.1.2 in /usr/local/lib/python3.6/dist-packages (from tensorflow>=2.4.0->tf-models-official->object-detection==0.1) (1.1.2)\n",
            "Requirement already satisfied: astunparse~=1.6.3 in /usr/local/lib/python3.6/dist-packages (from tensorflow>=2.4.0->tf-models-official->object-detection==0.1) (1.6.3)\n",
            "Collecting h5py~=2.10.0\n",
            "  Downloading https://files.pythonhosted.org/packages/60/06/cafdd44889200e5438b897388f3075b52a8ef01f28a17366d91de0fa2d05/h5py-2.10.0-cp36-cp36m-manylinux1_x86_64.whl (2.9MB)\n",
            "Requirement already satisfied: tensorflow-estimator<2.5.0,>=2.4.0rc0 in /usr/local/lib/python3.6/dist-packages (from tensorflow>=2.4.0->tf-models-official->object-detection==0.1) (2.4.0)\n",
            "Requirement already satisfied: wrapt~=1.12.1 in /usr/local/lib/python3.6/dist-packages (from tensorflow>=2.4.0->tf-models-official->object-detection==0.1) (1.12.1)\n",
            "Requirement already satisfied: wheel~=0.35 in /usr/local/lib/python3.6/dist-packages (from tensorflow>=2.4.0->tf-models-official->object-detection==0.1) (0.36.2)\n",
            "Collecting gast==0.3.3\n",
            "  Downloading https://files.pythonhosted.org/packages/d6/84/759f5dd23fec8ba71952d97bcc7e2c9d7d63bdc582421f3cd4be845f0c98/gast-0.3.3-py2.py3-none-any.whl\n",
            "Requirement already satisfied: tensorboard~=2.4 in /usr/local/lib/python3.6/dist-packages (from tensorflow>=2.4.0->tf-models-official->object-detection==0.1) (2.4.0)\n",
            "Requirement already satisfied: termcolor~=1.1.0 in /usr/local/lib/python3.6/dist-packages (from tensorflow>=2.4.0->tf-models-official->object-detection==0.1) (1.1.0)\n",
            "Requirement already satisfied: flatbuffers~=1.12.0 in /usr/local/lib/python3.6/dist-packages (from tensorflow>=2.4.0->tf-models-official->object-detection==0.1) (1.12)\n",
            "Requirement already satisfied: typeguard in /usr/local/lib/python3.6/dist-packages (from tensorflow-addons->tf-models-official->object-detection==0.1) (2.7.1)\n",
            "Requirement already satisfied: scikit-learn>=0.21.3 in /usr/local/lib/python3.6/dist-packages (from seqeval->tf-models-official->object-detection==0.1) (0.22.2.post1)\n",
            "Requirement already satisfied: google-resumable-media!=0.4.0,<0.5.0dev,>=0.3.1 in /usr/local/lib/python3.6/dist-packages (from google-cloud-bigquery>=0.31.0->tf-models-official->object-detection==0.1) (0.4.1)\n",
            "Requirement already satisfied: google-cloud-core<2.0dev,>=1.0.3 in /usr/local/lib/python3.6/dist-packages (from google-cloud-bigquery>=0.31.0->tf-models-official->object-detection==0.1) (1.0.3)\n",
            "Requirement already satisfied: google-auth>=1.4.1 in /usr/local/lib/python3.6/dist-packages (from google-api-python-client>=1.6.7->tf-models-official->object-detection==0.1) (1.17.2)\n",
            "Requirement already satisfied: google-auth-httplib2>=0.0.3 in /usr/local/lib/python3.6/dist-packages (from google-api-python-client>=1.6.7->tf-models-official->object-detection==0.1) (0.0.4)\n",
            "Requirement already satisfied: uritemplate<4dev,>=3.0.0 in /usr/local/lib/python3.6/dist-packages (from google-api-python-client>=1.6.7->tf-models-official->object-detection==0.1) (3.0.1)\n",
            "Requirement already satisfied: tqdm in /usr/local/lib/python3.6/dist-packages (from tensorflow-datasets->tf-models-official->object-detection==0.1) (4.41.1)\n",
            "Requirement already satisfied: tensorflow-metadata in /usr/local/lib/python3.6/dist-packages (from tensorflow-datasets->tf-models-official->object-detection==0.1) (0.26.0)\n",
            "Requirement already satisfied: importlib-resources; python_version < \"3.9\" in /usr/local/lib/python3.6/dist-packages (from tensorflow-datasets->tf-models-official->object-detection==0.1) (4.1.1)\n",
            "Requirement already satisfied: attrs>=18.1.0 in /usr/local/lib/python3.6/dist-packages (from tensorflow-datasets->tf-models-official->object-detection==0.1) (20.3.0)\n",
            "Requirement already satisfied: promise in /usr/local/lib/python3.6/dist-packages (from tensorflow-datasets->tf-models-official->object-detection==0.1) (2.3)\n",
            "Requirement already satisfied: python-slugify in /usr/local/lib/python3.6/dist-packages (from kaggle>=1.3.9->tf-models-official->object-detection==0.1) (4.0.1)\n",
            "Requirement already satisfied: tensorboard-plugin-wit>=1.6.0 in /usr/local/lib/python3.6/dist-packages (from tensorboard~=2.4->tensorflow>=2.4.0->tf-models-official->object-detection==0.1) (1.7.0)\n",
            "Requirement already satisfied: google-auth-oauthlib<0.5,>=0.4.1 in /usr/local/lib/python3.6/dist-packages (from tensorboard~=2.4->tensorflow>=2.4.0->tf-models-official->object-detection==0.1) (0.4.2)\n",
            "Requirement already satisfied: werkzeug>=0.11.15 in /usr/local/lib/python3.6/dist-packages (from tensorboard~=2.4->tensorflow>=2.4.0->tf-models-official->object-detection==0.1) (1.0.1)\n",
            "Requirement already satisfied: markdown>=2.6.8 in /usr/local/lib/python3.6/dist-packages (from tensorboard~=2.4->tensorflow>=2.4.0->tf-models-official->object-detection==0.1) (3.3.3)\n",
            "Requirement already satisfied: joblib>=0.11 in /usr/local/lib/python3.6/dist-packages (from scikit-learn>=0.21.3->seqeval->tf-models-official->object-detection==0.1) (1.0.0)\n",
            "Requirement already satisfied: google-api-core<2.0.0dev,>=1.14.0 in /usr/local/lib/python3.6/dist-packages (from google-cloud-core<2.0dev,>=1.0.3->google-cloud-bigquery>=0.31.0->tf-models-official->object-detection==0.1) (1.16.0)\n",
            "Requirement already satisfied: cachetools<5.0,>=2.0.0 in /usr/local/lib/python3.6/dist-packages (from google-auth>=1.4.1->google-api-python-client>=1.6.7->tf-models-official->object-detection==0.1) (4.2.0)\n",
            "Requirement already satisfied: googleapis-common-protos<2,>=1.52.0 in /usr/local/lib/python3.6/dist-packages (from tensorflow-metadata->tensorflow-datasets->tf-models-official->object-detection==0.1) (1.52.0)\n",
            "Requirement already satisfied: zipp>=0.4; python_version < \"3.8\" in /usr/local/lib/python3.6/dist-packages (from importlib-resources; python_version < \"3.9\"->tensorflow-datasets->tf-models-official->object-detection==0.1) (3.4.0)\n",
            "Requirement already satisfied: text-unidecode>=1.3 in /usr/local/lib/python3.6/dist-packages (from python-slugify->kaggle>=1.3.9->tf-models-official->object-detection==0.1) (1.3)\n",
            "Requirement already satisfied: requests-oauthlib>=0.7.0 in /usr/local/lib/python3.6/dist-packages (from google-auth-oauthlib<0.5,>=0.4.1->tensorboard~=2.4->tensorflow>=2.4.0->tf-models-official->object-detection==0.1) (1.3.0)\n",
            "Requirement already satisfied: importlib-metadata; python_version < \"3.8\" in /usr/local/lib/python3.6/dist-packages (from markdown>=2.6.8->tensorboard~=2.4->tensorflow>=2.4.0->tf-models-official->object-detection==0.1) (3.3.0)\n",
            "Requirement already satisfied: oauthlib>=3.0.0 in /usr/local/lib/python3.6/dist-packages (from requests-oauthlib>=0.7.0->google-auth-oauthlib<0.5,>=0.4.1->tensorboard~=2.4->tensorflow>=2.4.0->tf-models-official->object-detection==0.1) (3.1.0)\n",
            "Building wheels for collected packages: object-detection, avro-python3, future, dill, hdfs, seqeval, py-cpuinfo, pyyaml\n",
            "  Building wheel for object-detection (setup.py): started\n",
            "  Building wheel for object-detection (setup.py): finished with status 'done'\n",
            "  Created wheel for object-detection: filename=object_detection-0.1-cp36-none-any.whl size=1608663 sha256=374d8ca8c24c9e4b1fac8b47de282be28c3356a411e529e5e95d5bace1cfec43\n",
            "  Stored in directory: /tmp/pip-ephem-wheel-cache-4ofslqgi/wheels/94/49/4b/39b051683087a22ef7e80ec52152a27249d1a644ccf4e442ea\n",
            "  Building wheel for avro-python3 (setup.py): started\n",
            "  Building wheel for avro-python3 (setup.py): finished with status 'done'\n",
            "  Created wheel for avro-python3: filename=avro_python3-1.10.1-cp36-none-any.whl size=43734 sha256=cf57176af52022a9953286576194d24869f9f415ee310952a5c17df95f81fc74\n",
            "  Stored in directory: /root/.cache/pip/wheels/65/fe/90/20d6d6d97223d80d20cb390be636619c536edab5658c12bdba\n",
            "  Building wheel for future (setup.py): started\n",
            "  Building wheel for future (setup.py): finished with status 'done'\n",
            "  Created wheel for future: filename=future-0.18.2-cp36-none-any.whl size=491057 sha256=3a31678dd217c055b4fd860e2f20365942095f7b35912fdc4881cdcb6c820393\n",
            "  Stored in directory: /root/.cache/pip/wheels/8b/99/a0/81daf51dcd359a9377b110a8a886b3895921802d2fc1b2397e\n",
            "  Building wheel for dill (setup.py): started\n",
            "  Building wheel for dill (setup.py): finished with status 'done'\n",
            "  Created wheel for dill: filename=dill-0.3.1.1-cp36-none-any.whl size=78533 sha256=53bf7a838c0de7a68ac5565185bb6b07f64220f51cec35144f92f3b13510cf68\n",
            "  Stored in directory: /root/.cache/pip/wheels/59/b1/91/f02e76c732915c4015ab4010f3015469866c1eb9b14058d8e7\n",
            "  Building wheel for hdfs (setup.py): started\n",
            "  Building wheel for hdfs (setup.py): finished with status 'done'\n",
            "  Created wheel for hdfs: filename=hdfs-2.5.8-cp36-none-any.whl size=33213 sha256=70548739603ece9e26fd25cc0b61121ce42181e804294b5b50e599cbbe7c2581\n",
            "  Stored in directory: /root/.cache/pip/wheels/fe/a7/05/23e3699975fc20f8a30e00ac1e515ab8c61168e982abe4ce70\n",
            "  Building wheel for seqeval (setup.py): started\n",
            "  Building wheel for seqeval (setup.py): finished with status 'done'\n",
            "  Created wheel for seqeval: filename=seqeval-1.2.2-cp36-none-any.whl size=16171 sha256=9a5efcb45208dbfe507a2de618c5d384f34733dbea428e61bf943dd62e94c04a\n",
            "  Stored in directory: /root/.cache/pip/wheels/52/df/1b/45d75646c37428f7e626214704a0e35bd3cfc32eda37e59e5f\n",
            "  Building wheel for py-cpuinfo (setup.py): started\n",
            "  Building wheel for py-cpuinfo (setup.py): finished with status 'done'\n",
            "  Created wheel for py-cpuinfo: filename=py_cpuinfo-7.0.0-cp36-none-any.whl size=20072 sha256=9202e8818fa253c5d0c1f858fc167a154a06738a4cfa601e5118c2951aac886f\n",
            "  Stored in directory: /root/.cache/pip/wheels/f1/93/7b/127daf0c3a5a49feb2fecd468d508067c733fba5192f726ad1\n",
            "  Building wheel for pyyaml (setup.py): started\n",
            "  Building wheel for pyyaml (setup.py): finished with status 'done'\n",
            "  Created wheel for pyyaml: filename=PyYAML-5.3.1-cp36-cp36m-linux_x86_64.whl size=44621 sha256=8aa22f7593bc36dcda733865044261537b4becb03facccce2586bd29f88027ab\n",
            "  Stored in directory: /root/.cache/pip/wheels/a7/c1/ea/cf5bd31012e735dc1dfea3131a2d5eae7978b251083d6247bd\n",
            "Successfully built object-detection avro-python3 future dill hdfs seqeval py-cpuinfo pyyaml\n",
            "Installing collected packages: avro-python3, pbr, mock, future, dill, fastavro, requests, hdfs, pyarrow, apache-beam, tf-slim, lvis, tensorflow-model-optimization, sentencepiece, opencv-python-headless, seqeval, py-cpuinfo, pyyaml, tf-models-official, object-detection, h5py, gast\n",
            "  Found existing installation: future 0.16.0\n",
            "    Uninstalling future-0.16.0:\n",
            "      Successfully uninstalled future-0.16.0\n",
            "  Found existing installation: dill 0.3.3\n",
            "    Uninstalling dill-0.3.3:\n",
            "      Successfully uninstalled dill-0.3.3\n",
            "  Found existing installation: requests 2.23.0\n",
            "    Uninstalling requests-2.23.0:\n",
            "      Successfully uninstalled requests-2.23.0\n",
            "  Found existing installation: pyarrow 0.14.1\n",
            "    Uninstalling pyarrow-0.14.1:\n",
            "      Successfully uninstalled pyarrow-0.14.1\n",
            "  Found existing installation: PyYAML 3.13\n",
            "    Uninstalling PyYAML-3.13:\n",
            "      Successfully uninstalled PyYAML-3.13\n",
            "  Found existing installation: h5py 3.1.0\n",
            "    Uninstalling h5py-3.1.0:\n",
            "      Successfully uninstalled h5py-3.1.0\n",
            "  Found existing installation: gast 0.4.0\n",
            "    Uninstalling gast-0.4.0:\n",
            "      Successfully uninstalled gast-0.4.0\n",
            "Successfully installed apache-beam-2.27.0 avro-python3-1.10.1 dill-0.3.1.1 fastavro-1.2.3 future-0.18.2 gast-0.3.3 h5py-2.10.0 hdfs-2.5.8 lvis-0.5.3 mock-2.0.0 object-detection-0.1 opencv-python-headless-4.5.1.48 pbr-5.5.1 py-cpuinfo-7.0.0 pyarrow-2.0.0 pyyaml-5.3.1 requests-2.25.1 sentencepiece-0.1.95 seqeval-1.2.2 tensorflow-model-optimization-0.5.0 tf-models-official-2.4.0 tf-slim-1.1.0\n"
          ],
          "name": "stdout"
        },
        {
          "output_type": "stream",
          "text": [
            "ERROR: tf-nightly 2.5.0.dev20210114 has requirement gast==0.4.0, but you'll have gast 0.3.3 which is incompatible.\n",
            "ERROR: tf-nightly 2.5.0.dev20210114 has requirement h5py~=3.1.0, but you'll have h5py 2.10.0 which is incompatible.\n",
            "ERROR: tensorflow 2.4.0 has requirement grpcio~=1.32.0, but you'll have grpcio 1.34.1 which is incompatible.\n",
            "ERROR: multiprocess 0.70.11.1 has requirement dill>=0.3.3, but you'll have dill 0.3.1.1 which is incompatible.\n",
            "ERROR: google-colab 1.0.0 has requirement requests~=2.23.0, but you'll have requests 2.25.1 which is incompatible.\n",
            "ERROR: datascience 0.10.6 has requirement folium==0.2.1, but you'll have folium 0.8.3 which is incompatible.\n",
            "ERROR: apache-beam 2.27.0 has requirement avro-python3!=1.9.2,<1.10.0,>=1.8.1, but you'll have avro-python3 1.10.1 which is incompatible.\n"
          ],
          "name": "stderr"
        }
      ]
    },
    {
      "cell_type": "code",
      "metadata": {
        "colab": {
          "base_uri": "https://localhost:8080/"
        },
        "id": "yKPP3b5U1wLV",
        "outputId": "f31f447f-c1e3-4ba8-a98d-14a7897d5378"
      },
      "source": [
        "#download some additional tools\n",
        "!apt-get install -qq protobuf-compiler python-pil python-lxml python-tk\n",
        "\n",
        "!pip install -qq Cython contextlib2 pillow lxml matplotlib\n",
        "\n",
        "!pip install -qq pycocotools"
      ],
      "execution_count": null,
      "outputs": [
        {
          "output_type": "stream",
          "text": [
            "Selecting previously unselected package python-bs4.\n",
            "(Reading database ... 145483 files and directories currently installed.)\n",
            "Preparing to unpack .../0-python-bs4_4.6.0-1_all.deb ...\n",
            "Unpacking python-bs4 (4.6.0-1) ...\n",
            "Selecting previously unselected package python-pkg-resources.\n",
            "Preparing to unpack .../1-python-pkg-resources_39.0.1-2_all.deb ...\n",
            "Unpacking python-pkg-resources (39.0.1-2) ...\n",
            "Selecting previously unselected package python-chardet.\n",
            "Preparing to unpack .../2-python-chardet_3.0.4-1_all.deb ...\n",
            "Unpacking python-chardet (3.0.4-1) ...\n",
            "Selecting previously unselected package python-six.\n",
            "Preparing to unpack .../3-python-six_1.11.0-2_all.deb ...\n",
            "Unpacking python-six (1.11.0-2) ...\n",
            "Selecting previously unselected package python-webencodings.\n",
            "Preparing to unpack .../4-python-webencodings_0.5-2_all.deb ...\n",
            "Unpacking python-webencodings (0.5-2) ...\n",
            "Selecting previously unselected package python-html5lib.\n",
            "Preparing to unpack .../5-python-html5lib_0.999999999-1_all.deb ...\n",
            "Unpacking python-html5lib (0.999999999-1) ...\n",
            "Selecting previously unselected package python-lxml:amd64.\n",
            "Preparing to unpack .../6-python-lxml_4.2.1-1ubuntu0.3_amd64.deb ...\n",
            "Unpacking python-lxml:amd64 (4.2.1-1ubuntu0.3) ...\n",
            "Selecting previously unselected package python-olefile.\n",
            "Preparing to unpack .../7-python-olefile_0.45.1-1_all.deb ...\n",
            "Unpacking python-olefile (0.45.1-1) ...\n",
            "Selecting previously unselected package python-pil:amd64.\n",
            "Preparing to unpack .../8-python-pil_5.1.0-1ubuntu0.3_amd64.deb ...\n",
            "Unpacking python-pil:amd64 (5.1.0-1ubuntu0.3) ...\n",
            "Setting up python-pkg-resources (39.0.1-2) ...\n",
            "Setting up python-six (1.11.0-2) ...\n",
            "Setting up python-bs4 (4.6.0-1) ...\n",
            "Setting up python-lxml:amd64 (4.2.1-1ubuntu0.3) ...\n",
            "Setting up python-olefile (0.45.1-1) ...\n",
            "Setting up python-pil:amd64 (5.1.0-1ubuntu0.3) ...\n",
            "Setting up python-webencodings (0.5-2) ...\n",
            "Setting up python-chardet (3.0.4-1) ...\n",
            "Setting up python-html5lib (0.999999999-1) ...\n",
            "Processing triggers for man-db (2.8.3-2ubuntu0.1) ...\n"
          ],
          "name": "stdout"
        }
      ]
    },
    {
      "cell_type": "code",
      "metadata": {
        "colab": {
          "base_uri": "https://localhost:8080/"
        },
        "id": "HrH4Mfi12myy",
        "outputId": "8c299513-2c6d-4760-ccc2-b6420da68939"
      },
      "source": [
        "from google.colab import drive\n",
        "drive.mount('/content/drive')"
      ],
      "execution_count": null,
      "outputs": [
        {
          "output_type": "stream",
          "text": [
            "Mounted at /content/drive\n"
          ],
          "name": "stdout"
        }
      ]
    },
    {
      "cell_type": "code",
      "metadata": {
        "id": "A6Z33dt82VrK"
      },
      "source": [
        "# Some models to train on - think these are specific to TF1 except fpnlite\n",
        "MODELS_CONFIG = {\n",
        "    'ssd_mobilenet_v2_fpnlite_640x640_coco17_tpu-8': {\n",
        "        'model_name': 'ssd_mobilenet_v2_fpnlite_640x640_coco17_tpu-8',\n",
        "        'pipeline_file': 'ssd_mobilenet_v2__fpnlite_640x640_coco_tpu-8.config',\n",
        "    },\n",
        "    'ssd_mobilenet_v2_fpnlite_320x320_coco17_tpu-8': {\n",
        "        'model_name': 'ssd_mobilenet_v2_fpnlite_320x320_coco17_tpu-8',\n",
        "        'pipeline_file': 'ssd_mobilenet_v2_fpnlite_320x320_coco17_tpu-8.config',\n",
        "    },\n",
        "    'ssd_quant_mobilenet_v2': {\n",
        "        'model_name': 'ssd_mobilenet_v2_quantized_300x300_coco_2019_01_03',\n",
        "        'pipeline_file': 'ssd_mobilenet_v2_quantized_300x300_coco.config',\n",
        "    },\n",
        "    'faster_rcnn_inception_v2': {\n",
        "        'model_name': 'faster_rcnn_inception_v2_coco_2018_01_28',\n",
        "        'pipeline_file': 'faster_rcnn_inception_v2_pets.config',\n",
        "    },\n",
        "    'rfcn_resnet101': {\n",
        "        'model_name': 'rfcn_resnet101_coco_2018_01_28',\n",
        "        'pipeline_file': 'rfcn_resnet101_pets.config',\n",
        "    }\n",
        "}\n",
        "\n",
        "# Select a model in `MODELS_CONFIG`.\n",
        "# I chose ssd_fpn_mobilenet_v2 for this project as only SSD architectures are supported by tflite\n",
        "selected_model = 'ssd_mobilenet_v2_fpnlite_640x640_coco17_tpu-8'"
      ],
      "execution_count": null,
      "outputs": []
    },
    {
      "cell_type": "code",
      "metadata": {
        "id": "yBIIXKq25y_L"
      },
      "source": [
        "from __future__ import division, print_function, absolute_import\n",
        "\n",
        "import pandas as pd\n",
        "import numpy as np\n",
        "import csv\n",
        "import re\n",
        "import cv2 \n",
        "import os\n",
        "import glob\n",
        "import xml.etree.ElementTree as ET\n",
        "\n",
        "import io\n",
        "import tensorflow.compat.v1 as tf\n",
        "\n",
        "from PIL import Image\n",
        "from collections import namedtuple, OrderedDict\n",
        "\n",
        "import shutil\n",
        "import urllib.request\n",
        "import tarfile\n",
        "\n",
        "from google.colab import files"
      ],
      "execution_count": null,
      "outputs": []
    },
    {
      "cell_type": "code",
      "metadata": {
        "colab": {
          "base_uri": "https://localhost:8080/"
        },
        "id": "L74MfJmA8M_i",
        "outputId": "d8d53ae9-df61-4baf-b09b-6bee39a2bec6"
      },
      "source": [
        "print(tf.__version__)"
      ],
      "execution_count": null,
      "outputs": [
        {
          "output_type": "stream",
          "text": [
            "2.5.0-dev20210114\n"
          ],
          "name": "stdout"
        }
      ]
    },
    {
      "cell_type": "code",
      "metadata": {
        "id": "JC6NHcen8SpU"
      },
      "source": [
        "!mkdir -p workspace/training_demo/images\n"
      ],
      "execution_count": null,
      "outputs": []
    },
    {
      "cell_type": "code",
      "metadata": {
        "colab": {
          "base_uri": "https://localhost:8080/"
        },
        "id": "zZnZeK-38oKR",
        "outputId": "5375b95d-5498-4bd1-8191-a82aec0d3eac"
      },
      "source": [
        "cd workspace/training_demo/images"
      ],
      "execution_count": null,
      "outputs": [
        {
          "output_type": "stream",
          "text": [
            "/content/workspace/training_demo/images\n"
          ],
          "name": "stdout"
        }
      ]
    },
    {
      "cell_type": "code",
      "metadata": {
        "colab": {
          "base_uri": "https://localhost:8080/"
        },
        "id": "lFGyu7Q18qDn",
        "outputId": "ef332bef-6e0a-4bfd-c9cf-186949c2426f"
      },
      "source": [
        "import pathlib\n",
        "data_root = tf.keras.utils.get_file(origin='file:///content/drive/My Drive/Robotics/Ball.zip',\n",
        "                                         fname = 'Ball.zip',archive_format='zip',extract=False)\n",
        "data_root = pathlib.Path('/root/.keras/datasets/Ball.zip')"
      ],
      "execution_count": null,
      "outputs": [
        {
          "output_type": "stream",
          "text": [
            "Downloading data from file:///content/drive/My Drive/Robotics/Ball.zip\n",
            "481681408/481679080 [==============================] - 8s 0us/step\n"
          ],
          "name": "stdout"
        }
      ]
    },
    {
      "cell_type": "code",
      "metadata": {
        "colab": {
          "base_uri": "https://localhost:8080/",
          "height": 35
        },
        "id": "Ri66Tbkv80HL",
        "outputId": "81c6e220-a4e3-4a75-a6ed-5c1e82bb2a38"
      },
      "source": [
        "shutil.move('/root/.keras/datasets/Ball.zip', '/content/workspace/training_demo/images/Ball.zip')"
      ],
      "execution_count": null,
      "outputs": [
        {
          "output_type": "execute_result",
          "data": {
            "application/vnd.google.colaboratory.intrinsic+json": {
              "type": "string"
            },
            "text/plain": [
              "'/content/workspace/training_demo/images/Ball.zip'"
            ]
          },
          "metadata": {
            "tags": []
          },
          "execution_count": 12
        }
      ]
    },
    {
      "cell_type": "markdown",
      "metadata": {
        "id": "24rzN60Xndwj"
      },
      "source": [
        "Manually upload XML file to images folder before running next cell"
      ]
    },
    {
      "cell_type": "code",
      "metadata": {
        "id": "rBTytLej8950"
      },
      "source": [
        "#Training images and annotations\n",
        "\n",
        "#Source: https://sci2s.ugr.es/weapons-detection\n",
        "\n",
        "\n",
        "#download the images zip\n",
        "#!wget https://sci2s.ugr.es/sites/default/files/files/TematicWebSites/WeaponsDetection/BasesDeDatos/WeaponS.zip\n",
        "\n",
        "#unzip the image file\n",
        "!unzip -q Ball.zip\n",
        "\n",
        "#download the annotations zip\n",
        "#!wget https://sci2s.ugr.es/sites/default/files/files/TematicWebSites/WeaponsDetection/BasesDeDatos/WeaponS_bbox.zip\n",
        "\n",
        "#unzip the annotations file\n",
        "!unzip -q BallXML.zip"
      ],
      "execution_count": null,
      "outputs": []
    },
    {
      "cell_type": "code",
      "metadata": {
        "id": "0dMXEq8i-GZR"
      },
      "source": [
        "# creating a directory to store the training and testing data\n",
        "#!mkdir data\n",
        "\n",
        "# folders for the training and testing data.\n",
        "#!mkdir data/images data/train_labels data/test_labels\n",
        "\n",
        "\n",
        "# combining the images and annotation in the training folder:\n",
        "# moves the images to cdw (images folder)\n",
        "!mv Ball/* .\n",
        "\n",
        "# moves the annotations to cwd (images folder)\n",
        "!mv BallXML/* ."
      ],
      "execution_count": null,
      "outputs": []
    },
    {
      "cell_type": "code",
      "metadata": {
        "id": "XY9KmtOv-PDB"
      },
      "source": [
        "# Deleting the zipped and unzipped folders \n",
        "!rm -rf BallXML.zip  Ball.zip BallXML/ _MACOSX"
      ],
      "execution_count": null,
      "outputs": []
    },
    {
      "cell_type": "markdown",
      "metadata": {
        "id": "jlJXWuGV_9AK"
      },
      "source": [
        "for randomly splitting 10% into training and test folders"
      ]
    },
    {
      "cell_type": "code",
      "metadata": {
        "id": "B_8D5TxH-SpU",
        "colab": {
          "base_uri": "https://localhost:8080/"
        },
        "outputId": "ece5d5f2-5e42-4fd1-d208-a6422baec0a9"
      },
      "source": [
        "import os\n",
        "import re\n",
        "from shutil import copyfile\n",
        "import math\n",
        "import random\n",
        "\n",
        "cwd = os.getcwd()\n",
        "\n",
        "def iterate_dir(source, dest, ratio, copy_xml):\n",
        "    source = source.replace('\\\\', '/')\n",
        "    dest = dest.replace('\\\\', '/')\n",
        "    train_dir = os.path.join(dest, 'train')\n",
        "    test_dir = os.path.join(dest, 'test')\n",
        "    \n",
        "\n",
        "    if not os.path.exists(train_dir):\n",
        "        os.makedirs(train_dir)\n",
        "    if not os.path.exists(test_dir):\n",
        "        os.makedirs(test_dir)\n",
        "\n",
        "    #get list of jpg or png files in images folder\n",
        "    images = [f for f in os.listdir(source)\n",
        "              if re.search(r'([a-zA-Z0-9\\s_\\\\.\\-\\(\\):])+(.jpg|.jpeg|.png)$', f)]\n",
        "\n",
        "    num_images = len(images)\n",
        "    print (len(images))\n",
        "    num_test_images = math.ceil(ratio*num_images)\n",
        "\n",
        "    for i in range(num_test_images):\n",
        "        idx = random.randint(0, len(images)-1)\n",
        "        filename = images[idx]\n",
        "        copyfile(os.path.join(source, filename),\n",
        "                 os.path.join(test_dir, filename))\n",
        "        if copy_xml:\n",
        "            xml_filename = os.path.splitext(filename)[0]+'.xml'\n",
        "            copyfile(os.path.join(source, xml_filename),\n",
        "                     os.path.join(test_dir,xml_filename))\n",
        "        images.remove(images[idx])\n",
        "\n",
        "    for filename in images:\n",
        "        copyfile(os.path.join(source, filename),\n",
        "                 os.path.join(train_dir, filename))\n",
        "        if copy_xml:\n",
        "            xml_filename = os.path.splitext(filename)[0]+'.xml'\n",
        "            copyfile(os.path.join(source, xml_filename),\n",
        "                     os.path.join(train_dir, xml_filename))\n",
        "            \n",
        "copy_xml = True #set to true to split xml files as well as jpg\n",
        "iterate_dir(cwd, cwd, 0.1,copy_xml)#0.1 is the % for splitting"
      ],
      "execution_count": null,
      "outputs": [
        {
          "output_type": "stream",
          "text": [
            "2787\n"
          ],
          "name": "stdout"
        }
      ]
    },
    {
      "cell_type": "code",
      "metadata": {
        "colab": {
          "base_uri": "https://localhost:8080/"
        },
        "id": "-q90aZLtAN1K",
        "outputId": "7dadfb54-4515-47ed-a369-3834ef14ba3f"
      },
      "source": [
        "# 5016 jpg and xml files for training\n",
        "%ls -1 train/ | wc -l"
      ],
      "execution_count": null,
      "outputs": [
        {
          "output_type": "stream",
          "text": [
            "5016\n"
          ],
          "name": "stdout"
        }
      ]
    },
    {
      "cell_type": "code",
      "metadata": {
        "colab": {
          "base_uri": "https://localhost:8080/"
        },
        "id": "awnJZiuSARMJ",
        "outputId": "3ccbbdc7-9b62-4c24-cb0f-59f0ccaeae2a"
      },
      "source": [
        "# 558 for testing\n",
        "%ls -1 test/ | wc -l"
      ],
      "execution_count": null,
      "outputs": [
        {
          "output_type": "stream",
          "text": [
            "558\n"
          ],
          "name": "stdout"
        }
      ]
    },
    {
      "cell_type": "markdown",
      "metadata": {
        "id": "fsOvxHJPcuK6"
      },
      "source": [
        "Move images back to ball folder for use when quantising model"
      ]
    },
    {
      "cell_type": "code",
      "metadata": {
        "id": "_7WDWYfVcBFW"
      },
      "source": [
        "!mv *.jpg Ball"
      ],
      "execution_count": null,
      "outputs": []
    },
    {
      "cell_type": "markdown",
      "metadata": {
        "id": "6pRsYZG76ft-"
      },
      "source": [
        "Once you are happy files have been split and placed into relevant folders, delete the xml files from images folder"
      ]
    },
    {
      "cell_type": "code",
      "metadata": {
        "id": "foiD8cVk6Nja"
      },
      "source": [
        "!rm *.xml"
      ],
      "execution_count": null,
      "outputs": []
    },
    {
      "cell_type": "markdown",
      "metadata": {
        "id": "YDPTGw9QSxVn"
      },
      "source": [
        "Convert all XML files into CSV files, one for train and one for test.  Also create the label .pbtext file"
      ]
    },
    {
      "cell_type": "code",
      "metadata": {
        "colab": {
          "base_uri": "https://localhost:8080/"
        },
        "id": "bXFYJ91JAUzw",
        "outputId": "27f4667c-2caa-4a21-9582-0c8c9973dbd4"
      },
      "source": [
        "#adjusted from: https://github.com/datitran/raccoon_dataset\n",
        "\n",
        "#converts the annotations/labels into one csv file for each training and testing labels\n",
        "#creates label_map.pbtxt file\n",
        "\n",
        "#ensure you are in same folder as your training and testing folders (i.e. images folder)\n",
        "\n",
        "\n",
        "# images extension\n",
        "images_extension = 'jpg'\n",
        "\n",
        "# takes the path of a directory that contains xml files and converts\n",
        "#  them to one csv file.\n",
        "\n",
        "# returns a csv file that contains: image name, width, height, class, xmin, ymin, xmax, ymax.\n",
        "# note: if the xml file contains more than one box/label, it will create more than one row for the same image. each row contains the info for an individual box. \n",
        "def xml_to_csv(path):\n",
        "  classes_names = []\n",
        "  xml_list = []\n",
        "\n",
        "  for xml_file in glob.glob(path + '/*.xml'):\n",
        "    tree = ET.parse(xml_file)\n",
        "    root = tree.getroot()\n",
        "    for member in root.findall('object'):\n",
        "      classes_names.append(member[0].text)\n",
        "      value = (root.find('filename').text, #+ '.' + images_extension,\n",
        "               int(root.find('size')[0].text),\n",
        "               int(root.find('size')[1].text),\n",
        "               member[0].text,\n",
        "               int(member[4][0].text),\n",
        "               int(member[4][1].text),\n",
        "               int(member[4][2].text),\n",
        "               int(member[4][3].text))\n",
        "      xml_list.append(value)\n",
        "  column_name = ['filename', 'width', 'height', 'class', 'xmin', 'ymin', 'xmax', 'ymax']\n",
        "  xml_df = pd.DataFrame(xml_list, columns=column_name) #use Pandas to create CSV from xml_list\n",
        "  classes_names = list(set(classes_names))\n",
        "  classes_names.sort()\n",
        "  return xml_df, classes_names\n",
        "\n",
        "# for both the train_labels and test_labels csv files, it runs the xml_to_csv() above.\n",
        "for label_path in ['train', 'test']:\n",
        "  image_path = os.path.join(os.getcwd(), label_path)\n",
        "  xml_df, classes = xml_to_csv(label_path)\n",
        "  xml_df.to_csv(f'{label_path}.csv', index=None)\n",
        "  print(f'Successfully converted {label_path} xml to csv.')\n",
        "\n",
        "# Creating the `label_map.pbtxt` file\n",
        "label_map_path = os.path.join(\"label_map.pbtxt\")\n",
        "\n",
        "pbtxt_content = \"\"\n",
        "\n",
        "#creates a pbtxt file the has the class names.\n",
        "for i, class_name in enumerate(classes):\n",
        "    # display_name is optional.\n",
        "    pbtxt_content = (\n",
        "        pbtxt_content\n",
        "        + \"item {{\\n    id: {0}\\n    name: '{1}'\\n    display_name: '{2}'\\n }}\\n\\n\".format(i + 1, class_name, class_name)\n",
        "    )\n",
        "pbtxt_content = pbtxt_content.strip()\n",
        "with open(label_map_path, \"w\") as f:\n",
        "    f.write(pbtxt_content)"
      ],
      "execution_count": null,
      "outputs": [
        {
          "output_type": "stream",
          "text": [
            "Successfully converted train xml to csv.\n",
            "Successfully converted test xml to csv.\n"
          ],
          "name": "stdout"
        }
      ]
    },
    {
      "cell_type": "code",
      "metadata": {
        "colab": {
          "base_uri": "https://localhost:8080/"
        },
        "id": "AERsLNAMAcbU",
        "outputId": "3c25b583-fc20-4e13-aa28-855957aacfc2"
      },
      "source": [
        "#checking the pbtxt file\n",
        "!cat label_map.pbtxt"
      ],
      "execution_count": null,
      "outputs": [
        {
          "output_type": "stream",
          "text": [
            "item {\n",
            "    id: 1\n",
            "    name: 'Ball'\n",
            "    display_name: 'Ball'\n",
            " }\n",
            "\n",
            "item {\n",
            "    id: 2\n",
            "    name: 'White-Ball'\n",
            "    display_name: 'White-Ball'\n",
            " }"
          ],
          "name": "stdout"
        }
      ]
    },
    {
      "cell_type": "code",
      "metadata": {
        "colab": {
          "base_uri": "https://localhost:8080/"
        },
        "id": "wJ8G7SSDAfqa",
        "outputId": "8b0a28d8-cb05-4ff3-baa2-803426c4ee24"
      },
      "source": [
        "# they are there!\n",
        "%ls -l"
      ],
      "execution_count": null,
      "outputs": [
        {
          "output_type": "stream",
          "text": [
            "total 548\n",
            "drwx------ 2 root root 118784 Jan 15 08:34 \u001b[0m\u001b[01;34mBall\u001b[0m/\n",
            "-rw-r--r-- 1 root root    136 Jan 15 08:35 label_map.pbtxt\n",
            "drwxrwxr-x 4 root root   4096 Jan 15 08:34 \u001b[01;34m__MACOSX\u001b[0m/\n",
            "drwxr-xr-x 2 root root  20480 Jan 15 08:34 \u001b[01;34mtest\u001b[0m/\n",
            "-rw-r--r-- 1 root root  21954 Jan 15 08:35 test.csv\n",
            "drwxr-xr-x 2 root root 192512 Jan 15 08:34 \u001b[01;34mtrain\u001b[0m/\n",
            "-rw-r--r-- 1 root root 189782 Jan 15 08:35 train.csv\n"
          ],
          "name": "stdout"
        }
      ]
    },
    {
      "cell_type": "code",
      "metadata": {
        "colab": {
          "base_uri": "https://localhost:8080/"
        },
        "id": "IWJq3imkv-mO",
        "outputId": "1863a361-3fd2-468d-8c37-5272f1206482"
      },
      "source": [
        "cd /content/workspace/training_demo/images"
      ],
      "execution_count": null,
      "outputs": [
        {
          "output_type": "stream",
          "text": [
            "/content/workspace/training_demo/images\n"
          ],
          "name": "stdout"
        }
      ]
    },
    {
      "cell_type": "code",
      "metadata": {
        "colab": {
          "base_uri": "https://localhost:8080/"
        },
        "id": "Yin5pDpBBMi5",
        "outputId": "b400c129-eb68-42a7-af67-c16ea2bd4712"
      },
      "source": [
        "#adjusted from: https://github.com/datitran/raccoon_dataset\n",
        "\n",
        "# converts the csv files for training and testing data to two TFRecords files.\n",
        "# places the output in the same directory as the input\n",
        "\n",
        "\n",
        "from object_detection.utils import dataset_util\n",
        "#%cd /content/Ball_detection/models/\n",
        "\n",
        "DATA_BASE_PATH = '/content/workspace/training_demo/images/'\n",
        "image_dir = DATA_BASE_PATH \n",
        "\n",
        "def class_text_to_int(row_label):\n",
        "  if row_label == 'Ball':\n",
        "    return 1\n",
        "  elif row_label == 'White-Ball':\n",
        "    return 2\n",
        "  else:\n",
        "    None\n",
        "\n",
        "\n",
        "\n",
        "\n",
        "def split(df, group):\n",
        "\t\tdata = namedtuple('data', ['filename', 'object'])\n",
        "\t\tgb = df.groupby(group)\n",
        "\t\treturn [data(filename, gb.get_group(x)) for filename, x in zip(gb.groups.keys(), gb.groups)]\n",
        "\n",
        "def create_tf_example(group, path):\n",
        "\t\twith tf.io.gfile.GFile(os.path.join(path, '{}'.format(group.filename)), 'rb') as fid:\n",
        "\t\t\t\tencoded_jpg = fid.read()\n",
        "\t\tencoded_jpg_io = io.BytesIO(encoded_jpg)\n",
        "\t\timage = Image.open(encoded_jpg_io)\n",
        "\t\twidth, height = image.size\n",
        "\n",
        "\t\tfilename = group.filename.encode('utf8')\n",
        "\t\timage_format = b'jpg'\n",
        "\t\txmins = []\n",
        "\t\txmaxs = []\n",
        "\t\tymins = []\n",
        "\t\tymaxs = []\n",
        "\t\tclasses_text = []\n",
        "\t\tclasses = []\n",
        "\n",
        "\t\tfor index, row in group.object.iterrows():\n",
        "\t\t\t\txmins.append(row['xmin'] / width)#divide by width to noramlise pixel value to between 0 and 1\n",
        "\t\t\t\txmaxs.append(row['xmax'] / width)\n",
        "\t\t\t\tymins.append(row['ymin'] / height)#divide by height to noramlise pixel value to between 0 and 1\n",
        "\t\t\t\tymaxs.append(row['ymax'] / height)\n",
        "\t\t\t\tclasses_text.append(row['class'].encode('utf8'))\n",
        "\t\t\t\tclasses.append(class_text_to_int(row['class']))\n",
        "\n",
        "\t\ttf_example = tf.train.Example(features=tf.train.Features(feature={\n",
        "\t\t\t\t'image/height': dataset_util.int64_feature(height),\n",
        "\t\t\t\t'image/width': dataset_util.int64_feature(width),\n",
        "\t\t\t\t'image/filename': dataset_util.bytes_feature(filename),\n",
        "\t\t\t\t'image/source_id': dataset_util.bytes_feature(filename),\n",
        "\t\t\t\t'image/encoded': dataset_util.bytes_feature(encoded_jpg),\n",
        "\t\t\t\t'image/format': dataset_util.bytes_feature(image_format),\n",
        "\t\t\t\t'image/object/bbox/xmin': dataset_util.float_list_feature(xmins),\n",
        "\t\t\t\t'image/object/bbox/xmax': dataset_util.float_list_feature(xmaxs),\n",
        "\t\t\t\t'image/object/bbox/ymin': dataset_util.float_list_feature(ymins),\n",
        "\t\t\t\t'image/object/bbox/ymax': dataset_util.float_list_feature(ymaxs),\n",
        "\t\t\t\t'image/object/class/text': dataset_util.bytes_list_feature(classes_text),\n",
        "\t\t\t\t'image/object/class/label': dataset_util.int64_list_feature(classes),\n",
        "\t\t}))\n",
        "\t\treturn tf_example\n",
        "\n",
        "for csv in ['train', 'test']:\n",
        "  writer = tf.io.TFRecordWriter(DATA_BASE_PATH + csv + '.record')\n",
        "  path = os.path.join(image_dir + csv)\n",
        "  examples = pd.read_csv(DATA_BASE_PATH + csv + '.csv')\n",
        "  grouped = split(examples, 'filename')\n",
        "  for group in grouped:\n",
        "      tf_example = create_tf_example(group, path)\n",
        "      writer.write(tf_example.SerializeToString())\n",
        "    \n",
        "  writer.close()\n",
        "  output_path = os.path.join(os.getcwd(), DATA_BASE_PATH + csv + '.record')\n",
        "  print('Successfully created the TFRecords: {}'.format(DATA_BASE_PATH +csv + '.record'))\n"
      ],
      "execution_count": null,
      "outputs": [
        {
          "output_type": "stream",
          "text": [
            "Successfully created the TFRecords: /content/workspace/training_demo/images/train.record\n",
            "Successfully created the TFRecords: /content/workspace/training_demo/images/test.record\n"
          ],
          "name": "stdout"
        }
      ]
    },
    {
      "cell_type": "markdown",
      "metadata": {
        "id": "tjVdYD6w_wvU"
      },
      "source": [
        "Inspect the tfrecords.  Need a library for this as you cannot simply view with text editor"
      ]
    },
    {
      "cell_type": "code",
      "metadata": {
        "colab": {
          "base_uri": "https://localhost:8080/"
        },
        "id": "ZCYgBb77_z-b",
        "outputId": "6f488d5c-fed2-43d8-d9f1-db44973a4c3f"
      },
      "source": [
        "!pip install tfrecord_lite"
      ],
      "execution_count": null,
      "outputs": [
        {
          "output_type": "stream",
          "text": [
            "Collecting tfrecord_lite\n",
            "\u001b[?25l  Downloading https://files.pythonhosted.org/packages/de/bb/62d8e6ab99e62c88e0e061357be99f91e38efa6b37b8f569bec1f8751d3b/tfrecord_lite-0.0.7.tar.gz (77kB)\n",
            "\r\u001b[K     |████▏                           | 10kB 26.6MB/s eta 0:00:01\r\u001b[K     |████████▍                       | 20kB 14.9MB/s eta 0:00:01\r\u001b[K     |████████████▋                   | 30kB 13.0MB/s eta 0:00:01\r\u001b[K     |████████████████▉               | 40kB 12.2MB/s eta 0:00:01\r\u001b[K     |█████████████████████           | 51kB 8.5MB/s eta 0:00:01\r\u001b[K     |█████████████████████████▎      | 61kB 7.9MB/s eta 0:00:01\r\u001b[K     |█████████████████████████████▌  | 71kB 8.9MB/s eta 0:00:01\r\u001b[K     |████████████████████████████████| 81kB 5.8MB/s \n",
            "\u001b[?25hRequirement already satisfied: numpy in /usr/local/lib/python3.6/dist-packages (from tfrecord_lite) (1.19.5)\n",
            "Building wheels for collected packages: tfrecord-lite\n",
            "  Building wheel for tfrecord-lite (setup.py) ... \u001b[?25l\u001b[?25hdone\n",
            "  Created wheel for tfrecord-lite: filename=tfrecord_lite-0.0.7-cp36-cp36m-linux_x86_64.whl size=401125 sha256=d80da357c7a9eaea097ff49158ac915552d2145791d5a4d655502cd574d5a505\n",
            "  Stored in directory: /root/.cache/pip/wheels/5d/eb/ea/46bdb79a3fa8e45a49d79b285af00e08d7c80b694647911bb3\n",
            "Successfully built tfrecord-lite\n",
            "Installing collected packages: tfrecord-lite\n",
            "Successfully installed tfrecord-lite-0.0.7\n"
          ],
          "name": "stdout"
        }
      ]
    },
    {
      "cell_type": "code",
      "metadata": {
        "colab": {
          "base_uri": "https://localhost:8080/"
        },
        "id": "3ROXVSsFAFoY",
        "outputId": "ab16b441-fbb7-4c2c-9946-f710fa726aaf"
      },
      "source": [
        "from tfrecord_lite import decode_example\n",
        "it = tf.python_io.tf_record_iterator('test.record')\n",
        "decode_example(next(it))"
      ],
      "execution_count": null,
      "outputs": [
        {
          "output_type": "stream",
          "text": [
            "WARNING:tensorflow:From <ipython-input-28-01cc5eb6bae6>:2: tf_record_iterator (from tensorflow.python.lib.io.tf_record) is deprecated and will be removed in a future version.\n",
            "Instructions for updating:\n",
            "Use eager execution and: \n",
            "`tf.data.TFRecordDataset(path)`\n"
          ],
          "name": "stdout"
        },
        {
          "output_type": "execute_result",
          "data": {
            "text/plain": [
              "{'image/encoded': [b'\\xff\\xd8\\xff\\xe0\\x00\\x10JFIF\\x00\\x01\\x01\\x00\\x00\\x01\\x00\\x01\\x00\\x00\\xff\\xdb\\x00C\\x00\\x02\\x01\\x01\\x01\\x01\\x01\\x02\\x01\\x01\\x01\\x02\\x02\\x02\\x02\\x02\\x04\\x03\\x02\\x02\\x02\\x02\\x05\\x04\\x04\\x03\\x04\\x06\\x05\\x06\\x06\\x06\\x05\\x06\\x06\\x06\\x07\\t\\x08\\x06\\x07\\t\\x07\\x06\\x06\\x08\\x0b\\x08\\t\\n\\n\\n\\n\\n\\x06\\x08\\x0b\\x0c\\x0b\\n\\x0c\\t\\n\\n\\n\\xff\\xdb\\x00C\\x01\\x02\\x02\\x02\\x02\\x02\\x02\\x05\\x03\\x03\\x05\\n\\x07\\x06\\x07\\n\\n\\n\\n\\n\\n\\n\\n\\n\\n\\n\\n\\n\\n\\n\\n\\n\\n\\n\\n\\n\\n\\n\\n\\n\\n\\n\\n\\n\\n\\n\\n\\n\\n\\n\\n\\n\\n\\n\\n\\n\\n\\n\\n\\n\\n\\n\\n\\n\\n\\xff\\xc0\\x00\\x11\\x08\\x01\\xe0\\x02\\x80\\x03\\x01\"\\x00\\x02\\x11\\x01\\x03\\x11\\x01\\xff\\xc4\\x00\\x1f\\x00\\x00\\x01\\x05\\x01\\x01\\x01\\x01\\x01\\x01\\x00\\x00\\x00\\x00\\x00\\x00\\x00\\x00\\x01\\x02\\x03\\x04\\x05\\x06\\x07\\x08\\t\\n\\x0b\\xff\\xc4\\x00\\xb5\\x10\\x00\\x02\\x01\\x03\\x03\\x02\\x04\\x03\\x05\\x05\\x04\\x04\\x00\\x00\\x01}\\x01\\x02\\x03\\x00\\x04\\x11\\x05\\x12!1A\\x06\\x13Qa\\x07\"q\\x142\\x81\\x91\\xa1\\x08#B\\xb1\\xc1\\x15R\\xd1\\xf0$3br\\x82\\t\\n\\x16\\x17\\x18\\x19\\x1a%&\\'()*456789:CDEFGHIJSTUVWXYZcdefghijstuvwxyz\\x83\\x84\\x85\\x86\\x87\\x88\\x89\\x8a\\x92\\x93\\x94\\x95\\x96\\x97\\x98\\x99\\x9a\\xa2\\xa3\\xa4\\xa5\\xa6\\xa7\\xa8\\xa9\\xaa\\xb2\\xb3\\xb4\\xb5\\xb6\\xb7\\xb8\\xb9\\xba\\xc2\\xc3\\xc4\\xc5\\xc6\\xc7\\xc8\\xc9\\xca\\xd2\\xd3\\xd4\\xd5\\xd6\\xd7\\xd8\\xd9\\xda\\xe1\\xe2\\xe3\\xe4\\xe5\\xe6\\xe7\\xe8\\xe9\\xea\\xf1\\xf2\\xf3\\xf4\\xf5\\xf6\\xf7\\xf8\\xf9\\xfa\\xff\\xc4\\x00\\x1f\\x01\\x00\\x03\\x01\\x01\\x01\\x01\\x01\\x01\\x01\\x01\\x01\\x00\\x00\\x00\\x00\\x00\\x00\\x01\\x02\\x03\\x04\\x05\\x06\\x07\\x08\\t\\n\\x0b\\xff\\xc4\\x00\\xb5\\x11\\x00\\x02\\x01\\x02\\x04\\x04\\x03\\x04\\x07\\x05\\x04\\x04\\x00\\x01\\x02w\\x00\\x01\\x02\\x03\\x11\\x04\\x05!1\\x06\\x12AQ\\x07aq\\x13\"2\\x81\\x08\\x14B\\x91\\xa1\\xb1\\xc1\\t#3R\\xf0\\x15br\\xd1\\n\\x16$4\\xe1%\\xf1\\x17\\x18\\x19\\x1a&\\'()*56789:CDEFGHIJSTUVWXYZcdefghijstuvwxyz\\x82\\x83\\x84\\x85\\x86\\x87\\x88\\x89\\x8a\\x92\\x93\\x94\\x95\\x96\\x97\\x98\\x99\\x9a\\xa2\\xa3\\xa4\\xa5\\xa6\\xa7\\xa8\\xa9\\xaa\\xb2\\xb3\\xb4\\xb5\\xb6\\xb7\\xb8\\xb9\\xba\\xc2\\xc3\\xc4\\xc5\\xc6\\xc7\\xc8\\xc9\\xca\\xd2\\xd3\\xd4\\xd5\\xd6\\xd7\\xd8\\xd9\\xda\\xe2\\xe3\\xe4\\xe5\\xe6\\xe7\\xe8\\xe9\\xea\\xf2\\xf3\\xf4\\xf5\\xf6\\xf7\\xf8\\xf9\\xfa\\xff\\xda\\x00\\x0c\\x03\\x01\\x00\\x02\\x11\\x03\\x11\\x00?\\x00\\xfc\\xf5\\xfb\\x1d\\xcf\\xcb\\xe6H\\xed\\xfd\\xd8\\xea\\xc2iS#\\xac\\x9e[3\\x9f\\xe1\\xafr\\xd2\\x9f\\xf6\\x0c\\xd2S\\xcb\\xb8\\xb3\\xf8\\x8d\\xaa*\\xff\\x00\\x15\\xd4\\xf6\\x90\\x9f\\xfcs\\x8f\\xe7Z6\\x7f\\x15\\xff\\x00a-\\x13o\\xf6\\x7f\\xc0\\xbf\\x14]\\x05\\xfb\\xdfo\\xd7\\xff\\x00\\xf4-\\xa2\\xb0sk\\xec\\x9e\\x92\\xc1P\\xebZ?\\x8f\\xf9\\x1f>%\\x85\\xe6\\xc5\\x8eK\\x7f\\x99\\xbe\\xebU\\x9bm*hwK$\\x8d\\xfe\\xca\\xf5\\xaf\\xa0\\x7f\\xe1\\xa4\\xff\\x00d]5\\xfc\\xcd\\x1b\\xf6S\\xf3\\x95[\\xe6\\xfbf\\xb9$\\x9f\\xd2\\xa4\\xb6\\xfd\\xb0>\\x00\\xc33\\\\Y\\xfe\\xc7\\xfe\\x1c\\xd8\\x9f,k.\\xa3#\\x1f\\xd4P\\xeaI\\xfd\\x90\\xfa\\xa6\\rJ\\xd2\\xac\\xbe\\xe6\\xcf\\x9f\\x7f\\xb3o\\x1d?\\xe3\\xdd\\xd7w\\xf0\\xd3\\xd3M\\x99?y%\\xbb\\xec\\xfe*\\xfa\\x1e\\x1f\\xdb3\\xe0\\x0b\\xfe\\xee\\xe3\\xf6;\\xf0\\xe3y\\xbfw\\xfd)\\xc6\\xcf\\xf8\\x16)?\\xe1\\xad?f\\xf7V\\x8eO\\xd8\\xefA]\\xad\\xfc:\\x8c\\x83\\xfaQ\\x1a\\x95\\x1fM}BXl\\xbb\\xfe\\x7f\\xff\\x00\\xe4\\xac\\xf9\\xd1\\xf4\\xdb\\x97v\\xfb<o\\xf2\\xd4\\xa9\\xa6\\xde\\\\\\xa3\\x1b\\x8bv\\xce\\xff\\x00\\xbd_B?\\xedc\\xfb6\\xc3\\xe6I\\x1f\\xec\\x7f\\xa4+\\xb7\\xf0\\xbe\\xab&?\\xf4\\n|?\\xb5\\x8f\\xec\\xe5\\xe5\\xb4\\x9f\\xf0\\xc8zG-\\xf3\\x7f\\xc4\\xd6B?\\x95>z\\xbd\\xbf\\x11\\xc7\\x0b\\x96\\xb9[\\xdb\\xff\\x00\\xe4\\xb2>vM*\\xf3g\\xee\\xe3vU\\xa9~\\xc1x\\x90\\xacrG\\xb7\\x7f\\xcb\\xba\\xbe\\x90\\x9b\\xf6\\xba\\xfd\\x9c\\xb6y\\x7f\\xf0\\xc8\\xfa3\\x7f\\x16\\xd7\\xd4d#\\xf9S,\\xff\\x00k\\xaf\\xd9\\xe2\\xfe\\xe7\\xec\\xda\\xa7\\xeco\\xe1\\xe9-\\x97\\xef,Z\\x8c\\x8a\\xdf\\xefn\\x00R\\x8c\\xe7-\\xe2)ar\\xf5\\xf0\\xd7\\xff\\x00\\xc9d|\\xdfq\\x1b\\xec[\\x7f\\xb3:\\x84\\x7f\\xbdJ\\x96\\xce\\xee\\xde_F\\xfb\\xdbk\\xe9W\\xf8\\x85\\xfb\\x00x\\xcd$\\x93X\\xf8/\\xe2\\x8f\\x0e\\xce~f\\x93K\\xd5Rt\\xff\\x00\\xbed\\xc5P\\x9bD\\xfd\\x80\\xefm\\x96\\xdfO\\xf1\\xc7\\x8c!\\x95\\x7f\\xea\\x0f\\x1e\\xef\\xf8\\x13o\"\\xb4\\xe6\\x97c/\\xaa\\xd1\\x92\\xbckE\\xfa\\xdd~\\x87\\x82\\xc3l\\xff\\x00,\\x92\\r\\xc8\\xdfu\\xaa]\\x9f`O\\xb6}\\xea\\xf7\\xcb\\x99\\xbfa\\x8d\\x1e\\xce\\x1b\\x7f/\\xc6Z\\x93D\\xbf\\xbcd\\x82\\x18\\x84\\xdf\\xefn|\\xad%\\xcf\\xc5\\xdf\\xd8J\\x1be\\xb7\\x8f\\xf6p\\xd7\\xae\\x0c_\\xf2\\xd9\\xbcA\\xe5\\x97\\xff\\x00\\xbesS\\xed\\x1f5\\xb9XC/\\xa0\\xbe*\\xf1_{\\xfd\\x0f\\x9ef\\xb9\\x9a\\xe7t\\x91\\xc7\\xc7\\xf1Til\\xee\\xfed\\x91\\xf4\\xfe\\x1a\\xfa\\x16\\xdb\\xe3\\xf7\\xec[\\xe7yr~\\xc8\\xf7RC\\xfc-/\\x8a\\xa6\\x07\\xff\\x00\\x1dAZO\\xf1w\\xf6\\x03\\xbf\\xb6\\x8e_\\xf8g?\\x10\\xda\\xbe\\xff\\x00\\xbbo\\xe22S\\xff\\x00\\x1e\\xe7\\xf4\\xaa\\xe6\\x97-\\xec\\'\\x85\\xc1\\xb95\\xed\\xd6\\x9eO\\xfc\\x8f\\x9c\\x92\\xce\\x04\\xfd\\xe7\\x97\\xf7\\xbe\\xedH\\x88\\x89\\xb69#\\xff\\x00\\x81W\\xd0\\xb7?\\x16\\xbf`=6\\xe5c\\x93\\xf6k\\xf1,\\xdbQ\\xbf\\xd6\\xf8\\x8c\\x8f\\xcb\\x93T\\x1f\\xf6\\x84\\xfd\\x89\\xed\\xb7G\\xa7\\xfe\\xc9\\xf7\\xb3*\\xbe\\xd5i\\xfcU6\\x7fAG;\\xecR\\xc1aa\\xbdx\\xfd\\xd2\\xff\\x00#\\xc3\\x1e\\xd9\\x11\\xd6O3\\xfd\\xd5\\xa5xvD\\xdf\\xbc\\x7f\\x9b\\xee\\xd7\\xb5?\\xed;\\xfb\\'[;Io\\xfb\\x1d\\xd92\\xaf\\xddY|Oph\\x7f\\xda\\xaf\\xf6f\\xf2|\\xcd?\\xf67\\xd1\\xbf\\xbc\\xaa\\xfa\\xfd\\xd3\\xff\\x00\\x85\\x0es\\x96\\xc6k\\x0b\\x81R\\xbf\\xb5\\xff\\x00\\xc9Y\\xe3\\x16p\\xcd\\xe4\\xacr|\\xbb\\xbe\\xf3U\\x84\\xb6\\xca~\\xf2>\\xbfv\\xbd\\x83\\xfe\\x1a\\xd3\\xe0m\\xe4\\xcb\\xe5\\xfe\\xc7\\xfe\\x14]\\xbc\\x7f\\xc8J\\xf7\\xff\\x00e\\x92\\x96\\xc3\\xf6\\x9c\\xf8\\t\\x0c\\xcd\\xf6\\xcf\\xd9\\x0f\\xc3\\xec\\xbf\\xc3\\xb3\\\\\\xbd\\xff\\x00\\xe2\\xeao!J\\x86\\x11\\xedS\\xf0<w\\xf7\\xc8\\x8d\\xfcT\\x89\\r\\xe4\\xce\\xb1\\xc9\\xf2\\xff\\x00\\xb5^\\xeb\\xff\\x00\\r\\'\\xfb$^C\\xe5\\xea\\x1f\\xb2\\x1d\\xaa\\xbf\\xfd:\\xf8\\x9a\\xe8\\x7f\\xe8])\\xb3|~\\xfd\\x8e|\\x95\\x92?\\xd9.\\xf26\\xff\\x00c\\xc63\\x14\\xff\\x00\\xd0?\\xad_1*\\x86\\x15\\xca\\xfe\\xd5}\\xcc\\xf0\\x97\\xb3\\xb8\\xfbO\\xef>\\xf7\\xf7\\xaa{k;\\x94E\\x93\\xee\\xfc\\xd5\\xed\\x17?\\x1e?d+\\x99\\xbc\\xc8\\xff\\x00d\\xeb\\xa8\\xf1\\xfd\\xcf\\x16\\xcf\\x97\\xfd*\\xe2\\xfc`\\xfd\\x8a\\xef\\xe1X\\xef?g?\\x10Z\\xee\\xfe+?\\x17\\x1c\\xff\\x00\\xe3\\xf1\\x1a\\x14\\xaa>\\x83xl/J\\xab\\xeeg\\x8b<\\xd3y\\xcb\\x1f\\xd9\\xfc\\xc2\\xa9^\\xdb\\xf0\\xa3\\xf6l\\xf0\\xc6\\x8f\\xe1(~6~\\xd3\\x9a\\xc5\\xc6\\x87\\xa0\\\\|\\xda>\\x8b\\x07\\xfc\\x7fk\\x18\\xe7\\xe4V\\xfb\\x91\\x9f\\xef\\x9f\\xc3\\xd6\\xbd\\x9f\\xf6K\\xf8{\\xfb\\x16\\xfcH\\xb0\\xf1\\'\\xc6\\x0b?\\x86~&\\x8e\\x1f\\x04\\xda\\xad\\xed\\xd5\\x9e\\xad\\xaa\\xc7</\\xf2\\x96_\\x95c\\\\\\xfd\\xde\\x87\\x8a\\xf3\\x7f\\x8b\\xbf\\xb5\\x07\\xec\\xa9\\xf1\\x8f\\xc5\\xb2x\\x93\\xc6\\x9e\\x03\\xf1\\xbd\\xe5\\xd7\\xfa\\xa8\\x7f\\xe2\\xa0\\x868\\xe1\\x8cn\\xda\\xa8\\x9eQ\\n\\x07\\xa0\\xa8r\\xbe\\x9dN\\xe8`ha\\xa9F\\xb5I\\xa7\\xcd\\xf0\\xe8\\xfe\\xfd\\xb51|\\x7f\\xfb]k\\xd7\\xf6\\x12xO\\xe0\\xdf\\x86\\xec\\xbc\\x13\\xe1\\xe5_*;=&<\\\\L\\xbf\\xde\\x9ao\\xbc\\xc4\\xf7\\xc1\\xc5x\\x8d\\xfc\\xd7\\x97\\xf7-yyy,\\x8e\\xef\\xbeI%|\\x9a\\xf5y\\xbc[\\xfb\\x13\\xdc\\xee\\x92?\\r\\xf8\\xf2\\xdf\\xe7\\xda\\xca\\xba\\xcd\\xab\\xec\\xff\\x00k\\x98y\\xa8\\xe6\\xff\\x00\\x86?\\xd5\\x91\\xa3\\xd3\\xfcA\\xe3}=\\xd5>\\xf5\\xd5\\x8d\\xa5\\xca\\x7f\\xe3\\x8f\\x15]\\x9f-\\x8e\\x1a\\xd1\\x85i\\xfb\\xf5S\\xfb\\xff\\x00\\r4\\xfb\\x8f(i\\xa7O\\xdd\\xf9\\x9b\\x7f\\xd9jz\\\\\\xa7\\xcd$\\x7f}k\\xd1\\x7f\\xe1\\x15\\xfd\\x987\\xf9\\x97\\x9f\\x17<@\\xd1\\x7f\\x12\\xc5\\xe1T\\x07\\xff\\x00JO\\xf2\\xa9\\xac\\xf4\\x7f\\xd9\"\\x19\\x9a;\\x9f\\x1cx\\xca\\xe9\\x1b\\xe5\\xdd\\x16\\x8fk\\x17\\xf3\\x90\\xd1\\x19[tb\\xf0\\xbfiM/\\xbf\\xfc\\x8f4I\\x9ei\\x9b\\xed\\x11\\xeejd\\xc9\\xf2y\\x91\\x9e\\x02\\xfd\\xd4\\xaf^\\xb6\\xb4\\xfd\\x8c<\\xb5\\x8b\\xfbS\\xc7\\xfb\\xfe\\xebM\\xe4Y\\x1f\\xfcw#\\xf9\\xd1y\\xe1\\x8f\\xd8\\xf1\\x9f\\xfd\\x13\\xe2\\x87\\x8baC\\xf7\\xbc\\xdf\\x0f\\xc0\\xff\\x00\\xcaQC\\xbb\\xe8T0\\xb0\\xff\\x00\\x9f\\x8b\\xf1\\xff\\x00#\\xc5^\\xfd\\x11?y\\xf2\\x96\\xfb\\xbe\\xb5\\xa5a\\xf3\\xc3\\xe6}\\xed\\xc9\\xb7rW\\xa8\\x7f\\xc2\\x19\\xfb\\x1a\\xbb\\xac\\x9a\\x87\\xc5O\\x15\\xcc\\x7f\\xbb\\x07\\x87\\xe1_\\xe7)\\x15\\x1a\\x7f\\xc3\\x18h?\\xea\\xf5\\x8f\\x1ej[\\xfe\\xea\\xa7\\xd9-\\x87\\xf2zi\\xb5+\\xd8\\xa7\\x84\\xa6\\xbf\\xe5\\xe4\\x7f\\x1f\\xfeD\\xf3\\x9f\\xb1\\xbe\\xef\\xdeoU\\xa8\\xa6I\\xb64\\x9e\\x9e\\xd5\\xeb\\x16\\xdf\\xf0\\xc9\\xda\\xf5\\xb2\\xbcz\\x87\\x8d4\\xb7\\xfb\\xbf<\\x96\\xb7I\\xff\\x00\\xa0F\\x7fZt?\\x0e\\xbfg{\\xa7i\\x07\\xc7K\\xabp\\xdfv;\\xaf\\n\\xc9\\xff\\x00\\xb4\\xa5jv\\x91\\x8f\\xd5\\xa1\\x1d\\xa4\\x9f\\xe1\\xf9\\x9e<\\x9b\\xf64\\x9ec.\\x16\\x84\\xb9\\x99\\xd1c\\xf2\\xfa\\x7f\\x15{)\\xf8!\\xf0\\x13R>d\\x7f\\xb4\\xa5\\x85\\xaf\\xfc\\xf3\\x8e\\xe3\\xc3\\x97i\\xfd\\rE7\\xc1\\x9f\\xd9\\xfa\\xd8\\xb4\\x9a\\x87\\xed9\\x06\\xef\\xe1[_\\x08\\xddI\\xff\\x00\\xa1\\xba\\n\\x1c\\xaf\\xd0\\xd9ad\\xe2\\x9f4u\\xf3G\\x99ih\\xf3M\\xe6\\x7fw\\xf8j\\xe6\\xbf\\xbe\\x1b\\x06\\xf2\\xc7\\xccR\\xbd/\\xc3\\xfe\\x1b\\xfd\\x92,5[\\x7f\\xed\\xcf\\x8b\\x9e \\xb8\\xb7IW\\xed\\x0be\\xe1\\xc4\\x8bz\\xff\\x00\\xc0\\xe6b\\xbf\\x91\\xae\\x83\\xe2_\\x8e\\x7f`;\\x0b\\x08\\xf4\\xbf\\x86\\xfe\\x03\\xf1V\\xb5p\\xaf\\xbaK\\x8dKQ\\xfb2~\\x80\\x96\\xa4\\xdb]\\x01`iJ\\xf2\\x95X\\xabz\\xbf\\xd0\\xf9\\xc2\\xc2\\xcf{\\xf9\\x91\\xef\\xcf\\xe5]\\x05\\x9e\\x9b7\\xfc\\xb4\\xe8\\xbfz\\xbd\\x83K\\xf1\\x0f\\xecm2G&\\xb9\\xf0\\x8f\\xc4\\xd6m\\xb3s}\\x8f\\xc4\\xc0\\xa7\\xfe?\\t\\xfeub{\\xcf\\xd8\\x93R\\x8f\\xcc\\xb7\\xbc\\xf1\\xce\\x96\\xac\\xbf7\\xef-.6~a\\x7f\\x9d5~\\xc6j\\x95\\x19+\\xaa\\xab\\xf1\\xff\\x00#\\xc7/?s\\xfb\\xcf+n\\x1f\\xe5\\xaaP\\xea\\xb0\\x89\\xb0-\\xdf+^\\xb3\\xac\\xf8?\\xf6Z\\xbcL\\xe9\\xff\\x00\\x1b5\\xc8\\x7f\\xba\\xb7^\\x15\\xf3\\x0f\\xfe90\\x15C\\xfe\\x10\\xcf\\xd9\\x91\\x11c\\x93\\xe2\\xc7\\x88ff\\xe5\\x9a\\x0f\\x0c\"\\xff\\x00;\\x9a\\xb9?\"\\x16\\x12\\xd2\\xb7:\\xfb\\xcf=I\\x92o\\xdeG\\xf3g\\xf8\\xa95+7\\xb9\\x85|\\xbf\\xe0\\xfb\\xab]\\xf2X~\\xc9\\xd6\\x0f%\\xbf\\xfc%\\x9e7\\x9bg\\xf74\\xabX\\xff\\x00\\xe0\\\\\\xc8j{\\xf9\\xbfeO\\'\\xcc\\x8f\\\\\\xf1\\xba\\x8f\\xbc\\xcb\\xe4Zg\\xfd\\xd5\\xeb\\xb7\\xf1\\x152\\x94\\x89Xh/\\xf9y\\x1f\\xc7\\xfc\\x8f*xnRe\\x8f\\xfe\\xfa\\xab\\xb6\\xc8\\xf0\\xa7\\xda.#~~Z\\xf4}7U\\xfd\\x94w\\xb4rh\\xfe7\\xb8\\xff\\x00\\xa6\\x8d\\xaa\\xda/\\xfe\\x83\\rjl\\xfd\\x8f\\xa7\\x8aH\\xaf/<\\x7f\\x1a\\xfd\\xed\\xa9%\\x94\\xa3\\xff\\x00E\\xae\\xef\\xce\\x95\\x9fa\\xbc=&\\xbf\\x88\\xaf\\xf3\\xff\\x00#\\xcc\\xa1\\x99\\xdd|\\xc8\\xff\\x00\\x87\\xee\\xd4N\\xfb\\xd1\\xbe\\xd3\\xf2\\xbe\\xff\\x00\\xbd^\\x89\\xe4\\xfe\\xc9\\x10\\xcc\\xb1\\xdb\\xeb\\x9e>\\xff\\x00\\xc0[!\\xff\\x00\\xb3\\x9a\\xb1s\\xa2~\\xcc7\\x90\\xf9\\x96\\xfe<\\xf1\\x85\\xb9?y\\xae\\xb4;YG\\xfe92\\x9a\\txht\\xa9\\x17\\xfdz\\x1eOy\\xe7#\\xacq|\\xc1\\xbem\\xd5\\xb3\\xe1/\\x8a><\\xf0\\x1e\\xa4\\xba\\x87\\x85\\xfcQ\\x7fb\\xeb\\xf7\\x9a\\xder\\x07\\xfc\\x08to\\xc4\\x1a\\xebf\\xf0\\xdf\\xc0\\x14\\xdd\\x1c_\\x135\\x96?\\xc3#\\xf8e\\x00\\xff\\x00\\xd2\\x93Vm\\xbc\\x1f\\xfb4\\xfd\\x8e;\\xcb\\xcf\\x8b\\x9a\\xdc\\x8f\\xfcQ\\xdb\\xf8T\\x03\\xff\\x00\\x8f\\\\\\x11N\\xf6\\xd8k\\x0f\\xef[\\x99\\x1b\\xbe\\x18\\xfd\\xa1\\xfe\\x17|Z\\x91|7\\xfbH|?\\x82F\\x97\\xe4_\\x16h0\\x08om\\xbf\\xe9\\xa3\\xa2\\xfc\\xb2\\x8f^3Y\\xbf\\x1b\\xff\\x00f\\x9dc\\xe1\\r\\xcd\\x9f\\x884\\xbdR-k\\xc2\\xba\\xd2\\xf9\\xbe\\x1f\\xf1%\\x970\\xdc\\xaf\\xfc\\xf3o\\xeeH;\\xa1\\xfc*;\\r\\x07\\xf6?\\x86\\xe9d\\x93\\xc7\\x1e7\\x93\\xe7\\xf9\\xbe\\xcf\\xa3Z \\xff\\x00\\xc7\\xa5&\\xbe\\x96\\xfd\\x8c\\xf5\\x8f\\xd9\\xa7\\xe2\\x15\\x9d\\xf7\\xec\\xcf\\'\\x8b|G\\xa9i^ \\x8aF\\xb1\\xd2\\xfcG\\xa7@\\x89\\r\\xca\\xae|\\xc8Z\\';\\x1f\\xe5\\xcf\\xbd8\\xdc\\xef\\x84V%\\xfb*\\xf3M=\\x13\\xbe\\xab\\xf0\\xd7\\xd0\\xf8\\xb2\\xe6\\x1f%\\xd6H\\xe4\\xda\\xc3\\xe6\\xf2\\xfa\\xd5+\\x9b\\xfbi\\xb8\\x92D\\xcf\\xf1W\\xbb|W\\xf8\\x15\\xfb?x#\\xc6\\xda\\xa7\\x83\\xee\\xfe:Og}\\xa6\\xde\\xb4\\x13-\\xef\\x86\\';6\\xff\\x00\\x0e\\xe8\\x8bn?\\x80\\xae=\\xfc\\x07\\xfb3X?\\xfcM>:jW\\xc3v\\xe6]/\\xc2\\xaf\\x19\\xff\\x00\\xbe\\xa6\\x95G\\xe9C\\x95\\xce\\t`\\x1d:\\xb2\\xa6\\xe4\\xb4\\xf3<\\xb2\\xfe9\\xfc\\xcf\\xb4E&\\xec->\\xc1\\xd2\\xe5\\x16\\xdeO\\x97\\xf8\\xbdk\\xd7t\\xfd+\\xf6<\\x99\\xd69<I\\xe3-\\x9fufm6\\xd7\\xf5_2\\x91<=\\xfb\\x1f\\xe8\\xee\\xd7\\x12x\\xc3\\xc6\\xb7K\\xbb\\xe5X\\xb4\\xabX\\xbf\\x9c\\x86\\xabR\\x16\\x1a\\x12\\xdaq\\xfc\\x7f\\xc8\\xf3H\\xec\\xfc\\x84_3j\\xaf\\xf0\\xadH\\xe9\\x00\\x87\\xed\\x11\\xf4\\xfe\\x1fZ\\xf4\\xabo\\xf8dY\\x9eKi5_\\x1eF?\\x86g\\x8e\\xc8\\xec\\xff\\x00\\x80\\xff\\x00\\xf5\\xe9~\\xc7\\xfb%\\xcc\\xf2G\\x1f\\x89<t\\xab\\xf7\\xb6\\xb6\\x9bhG\\xe7\\xe6\\n\\x13O\\xa1\\x150\\x91\\xe9R?\\x8f\\xf9\\x1e[\\xf6\\xc4O\\xbf\\xbf\\xe6\\xfb\\xcbK\\x7fm\\x0b\\xc2\\xb2G\\xf7[\\xefW\\xa6\\xff\\x00a\\xfe\\xc9\\xc8\\xf1\\xc7\\'\\x8c<k\"\\xb7\\xfc\\xb3]*\\xd0\\x7f\\xedSW\\xe1\\xf0\\xf7\\xec\\x8b2\\xad\\xbf\\xfc&\\x1e5\\x8d\\xf7\\xedV\\x97N\\xb5#\\xf1U\\x96\\x8b\\xbek\\x13\\xf5?v\\xfc\\xe8\\xf0MJ\\xdad\\xdd\\xfe\\xcf\\xdd\\xac\\xd4}\\xef\\xe5\\xc7\\xb3w\\xde\\xafw\\xd7\\xbe\\x18\\xfe\\xcd\\xf3\\x16\\x92\\xdf\\xe3e\\xfck\\x13\\xed\\x91e\\xf0\\xe3\\x8d\\xff\\x00\\xee\\xe1\\xc8\\xcf\\xe3\\\\\\xf1\\xd2\\xbfeO\\n\\xcd\\xf6\\x8dCX\\xf1W\\x88\\x08o\\x95`\\x82\\x0b(\\xdf\\xd3$\\x99\\x1a\\xa2i#zxT\\xe3nx\\xfd\\xe7\\x9d[A3\\xed\\xf2\\xe3uv\\xfe*\\xe8l\\xef\\x1e\\xd9#\\x8e\\xe27e\\xdb\\xf8\\xd7q\\x0f\\xc7\\xef\\x82zR,~\\x17\\xfd\\x9c\\xf4\\x89\\n}\\xd95}Jk\\x93\\xf8\\x85(+gJ\\xfd\\xa3|\\x07r\\xeb\\xfd\\xa9\\xfb=\\xf8I\\xa2/\\xb7m\\xbaO\\x17\\xfe\\x83-Tf*\\x98\\\\/-\\x9c\\xff\\x00\\x03\\xcb\\xb5-5/\"mB8\\xdd\\xbf\\xbd\\x1dr\\xfa\\xac%.\\x7fw\\xf3\\x0f\\xe2j\\xfa\\x1emc\\xf6k\\xf1<3Iq\\xe0}g\\xc3\\xf2J\\x9f3iz\\x92O\\x1a}\\x12T\\x07\\xf5\\xae\\x0b\\xc4\\x9f\\xf0\\xcczV\\xa5\\x1d\\x9f\\xf6\\xe7\\x8bn\\x93w\\xcd\\xb6\\xc6\\xde\\x1f\\xd5\\x9d\\xbf\\x95\\\\\\xb9yoc\\x1aT\"\\xe4\\xd4j\\xa6\\x97\\xa9\\xe61\\xbb\\xff\\x00\\xab\\xff\\x00\\xbe\\xaai\\xa1\\xfbL+\\xe5\\xfc\\xdbk\\xd2lu\\xbf\\xd9j\\x17\\xff\\x00\\x91?\\xc5\\x17\\x88\\x7f\\x8a\\xe3X\\x823\\xff\\x00\\x8eEZ6\\x9f\\xf0\\xca\\x9a\\xdd\\xe2\\xc7\\'\\x85\\xfc[\\xa7\\xed\\xfe(5\\x98&\\xff\\x00\\xc7LC5\\t\\xb6i\\xf5j\\x7f\\xce\\xbf\\x1f\\xf2<r=\\x1e\\xe5&i$\\xe8~\\xf3T\\xf7:I\\xf2\\x7fy\\'\\xca\\xd5\\xed\\xd7?\\t~\\x02_\\xc1\\xf6\\x8d/\\xe3e\\xc5\\x9cO\\xf7muM\\r\\xc3\\xa7\\xfb\\xcf\\x19aY\\xd2\\xfe\\xcc\\xda>\\xa4\\x9eg\\x85\\xfe8xJ\\xf2\\r\\x9f3\\\\j&\\xdd\\xd3\\xfe\\x03\"\\x03M\\xfb\\xa2XZ\\xb2\\xf8Z\\x7f4x6\\xa5g\\xf7~\\xcf\\x1a.\\xda\\xcetx\\xd7\\xcb\\x8f\\xe6c\\xfcU\\xee\\x17\\x9f\\xb36\\x9b\\xfb\\xc9/>:x*\\x19\\x11\\xfeh\\xdfUv\\xff\\x00\\xd0P\\xd6u\\xcf\\xec\\xeb\\xe0\\r7\\xf7\\x9a\\x87\\xed\\x11\\xe1\\x96v\\xf9\\xb6\\xd9\\xc1u7\\xf2\\x8a\\xa5\\xbb\\x9b,,\\xd7o\\xbd\\x1eM\\n=\\xb2,w\\x11\\xee&\\xab\\xdf\\xe9H\\xe8\\xd7\\x11\\xc7\\xb7w\\xdeT\\xafcO\\x84\\xbf\\x03`F\\x8e\\xf3\\xf6\\x80\\x89\\xa4_\\xbc\\xb1xr\\xe8\\xfe\\xad\\x8c\\xd5\\x17\\xf8i\\xf0B{\\x9f2\\xcf\\xe3e\\xc6\\x17\\xe5e}\\x02A\\xff\\x00\\xb3\\xd0\\xa4\\x99\\x93\\xc3I;\\xf3/\\xbd\\x1e\\x19\\xa9h;\\xff\\x00y\\x1cu\\x8b\\xa9iO\\'\\xfc\\xb3\\xdb\\xb3\\xe5\\xdb_C\\xde|\\x1f\\xf83u\\x0f\\x97g\\xf1\\xe2\\xc9v\\xfd\\xdf7C\\xba_\\xfd\\x90\\xd6m\\xff\\x00\\xec\\xf7\\xf0\\xf6\\xe4\\xf9v\\x7f\\x1e<9#\\xb2\\xfc\\xbem\\xa5\\xda\\xff\\x00\\xed*\\x1cb\\xce\\x8at\\xaa+]\\xa7\\xf3<\\xf2\\x14\\x9b|qI\\'\\xfb\\xb4\\xd7\\xe5\\xff\\x00y&\\xef\\xefqC\\xa4\\xd3\\'\\x99\\x1c\\x9bWw\\xcbBB\\xfb<\\xdf\\xe1\\xfe\\xf5c\\xa4z\\x06\\xbd\\xc5\\xfb\\xee\\xb1\\xc7\\x1e\\xd5\\xa9\\xe1\\xb3\\x0f\\xcf\\x99\\xb5~\\xf51-\\x9fb\\xc9\\xe6\\xeee\\xa7<\\x9b\\x1f\\xcc\\xf3>o\\xba\\xabF\\x82\\x13~\\xf9\\x969\\x0f\\xc8\\xad\\xf3m\\xe0\\xd4\\xd7\\x89g3\\xb4vq\\xb2\\x8f\\x97\\xef\\xf2i\\x88\\x8e\\xff\\x00\\xbc\\xfb\\xdf\\xde\\xa4\\xf2\\xf6#yr\\xedm\\xbf6\\xea>\\xd5\\x80]\\x9f\\xbc\\xfb<\\x9fuV\\x89\\xa6{_\\xee\\xaa\\xb5\\x10\\xa3\\xbc-#\\xfc\\xbf\\xc2\\xadQ\\xbd\\xb2?\\xee\\xe3\\x93v\\xdf\\xe2\\xa7\\xcc\\xc5dY\\xb6I\\xae\\x1dd\\xfb\\xdf\\xeeU\\xa0\\xc9\\x0e\\xef2D\\x8c\\xb7\\x0bT\\xd2i\\xad\\xa1[a\\xf7\\xaa\\x07\\x93\\xce|\\xc7\\xbd\\x8a\\xfc\\xcdSt8\\xc5\\xad:\\x17n5$wX\\xe3\\x93w\\xf7\\xaa{o\\xf5\\xcbq\\'\\xca\\xa7\\xefT\\x16v\\x13L\\x9fh\\xfb?F\\xf9v\\xd6\\x95\\xb5\\x9b\\xcc<\\xc9\\xfb}\\xd5\\xa7t\\x0fB\\xc2:|\\xb6\\xff\\x00{5V\\xe56#\\x1f/\\xfd\\xaa|\\xd6\\xd3B\\xff\\x00\\xbb\\x93\\xe6\\xfe\\x1aI\\x9f\\xc9O\\xf4\\x89>o\\xe1\\xa7u\\xd8\\xcf^\\xe5\\t\\xbc\\xcc\\xfe\\xeff\\xda\\x96\\xdd\\xfc\\xef\\xf4y$\\xdaG\\xf0\\xd3\\x9f\\xec\\xcf\\xfb\\xb8\\xfeV\\x7f\\xe2\\xa8\\x12\\x17\\x85\\xff\\x00\\xe7\\xa6~\\xf3Q\\xcc\\xcaq\\xb9q\\xe6I\\xbc\\xb8\\xee\\x0fO\\x95}h\\xfe\\xcf\\xb7t_/\\xe5cU\\xe1D\\x9bl\\x91\\xc9\\xb9CT\\xa9s\\xb1\\x1b\\xcc\\x8fk\\xee\\xf9V\\x8d9n\\nZ\\xda\\xc3f\\xd2\\x8e\\xc6\\x93\\xcb\\xe6\\x9c\\x9al0\\xfc\\x92G\\xb5\\x96\\xa6\\x85\\xe6\\x99\\x16I6-YB\\x93\\'\\x99\\xe5\\xff\\x00\\xbbH9\\x8a_c\\xd9\\xbb\\xcb\\x8fj\\xff\\x00\\x153\\xec\\xae\\x93\\x7f\\xa3I\\xbb\\xe4\\xf9V\\xae\\xdc\\xbb>\\xd8\\xfc\\xbf\\x9c\\xd4.\\x9f\\xbe\\xfd\\xdf\\xfc\\n\\x8d\\t\\x11\\xedG\\xcb$\\x91\\xb3+\\xa7\\xcc\\xbf\\xedTol\\xe8\\x8d${\\xff\\x00\\xda\\xab\\x0e\\xee\\xff\\x00\\xe8\\xfef\\xe6\\x0b\\xf7\\x9e\\x9b\\t\\tm\\xfb\\xcd\\xcd\\xfd\\xefZ.\\xca\\xe5\\x1dm\\x00@\\xa7\\xcbL\\xff\\x00y\\xeah|\\xc9\\xb8\\x93n\\xe0\\xd5\\r\\xb4n\\x92/\\xaf\\xe9V|\\x94GY#\\x8bn\\xdf\\xf5\\x8b\\xda\\x9d\\xed\\xb1\\x97*z\\xad\\xcf\\xb3\\xff\\x00\\xe0\\x9d\\xd0\\x9d{\\xf6H\\xf8\\xe9\\xe0\\xbd\\x1e4m^\\xe3MYa\\x85>\\xfb\\xc5\\xe4m\\xe3\\xf1\\xdc?\\xe0U\\xf1\\x85\\xfd\\x9a}\\xa5\\xa2\\x926]\\xae\\xdb\\x97\\xbdz\\x8f\\xec\\x9d\\xfbKk\\x7f\\xb37\\xc5H|q\\xa5\\xd9\\xbd\\xd5\\x85\\xc4_e\\xd74\\xdf3\\tyl\\xdfy}7\\x8e\\xab\\xef\\xc7Bk\\xd2?i\\x0f\\xd9;J\\xf8\\x8bay\\xfbH~\\xc8\\xf7\\x1f\\xf0\\x91xV\\xfd\\xda}KG\\xb5\\xe6\\xf3G\\x94\\xf2\\xea\\xd1\\xf5\\xd9\\xec9\\x1e\\xe2\\x8e\\x97=XE\\xe3\\xb0\\xb1\\xa7\\x1f\\x8a\\x17\\xd3\\xbd\\xfb~\\xa7\\xcb\\xef\\n&\\xd8\\xfeO\\x99\\xaaX\\xbf\\xd47\\x9b\\'?\\xc3M\\xbd\\x86ki\\x97\\xcc\\xf9X|\\xb5:~\\xfb\\xcb\\x12E\\xc7\\xf0\\xd1w\\xcds\\xcf\\x9c-\\x1eV\\xac\\xc8nw\\xfe\\xee9%\\xdbS;\\xfc\\xed\\x1f\\xcf\\xfe\\xf2\\xd3\\xe6\\xb3\\x81\\xff\\x00y\\'\\xf7>Z\\xab\\r\\xcb\\xdbL\\xd1}\\xe5\\xfe\\xed\\x16kvM\\xd1z\\x18~E\\x8f\\xca\\xfb\\xf4\\x8f\\x0f\\xc8\\xc6N\\xa7\\xee\\xd46\\x1a\\x93\\xc2\\xed$\\x92+\\x0f\\xe1Z\\xb0\\x8e\\x93;K\\x1f\\xf1\\xa5\\t\\xa4\\'u\\xd0\\xa3r\\x8d\\ny\\x9f{?*\\xd6{\\xcc\\xec\\xea\\x7f\\x8b\\xfb\\xb5\\xads\\x0b\\xfc\\xde\\\\\\x9b\\xb3\\xf7V\\xa8\"F\\xf3/\\xda#\\xf9\\xbf\\x8a\\x87&\\xca\\x8a/\\xe9W\\xe8\\xfbc\\xf9\\xd7\\xfb\\xcb[ix\\x89\\x02\\xc9\\xe6?)\\xb5Z\\xb9\\xe4\\x0f\\x0b\\xf9\\x91\\xc7\\xb7\\xfd\\xaa\\xb7gx\\xf7(\\xb1\\xc9\\x1f\\xcb\\xba\\x84\\xecL\\xa37\\xb34<\\xff\\x009\\xd6I$\\xe7~\\xe5\\xf4\\xa5\\xb9)\\xbd\\xa4\\x92M\\xdf?\\xf0T\\x96\\xc8\\x8e\\x9ef\\xcd\\xd8\\xaa\\xf7\\x88\\x9b\\xdb\\xcb\\xfb\\xc3\\xf8j\\xc8m\\xb2\\x95\\xfb\\xc3\\xb1\\xbc\\xb97?\\xf1V~\\x9b7\\xd9\\xaeVK\\x89:\\xb7\\xdd\\xab\\x93@\\xe9\\xfb\\xbf/mg>\\xf8nVI$V]\\xfbj^\\xaa\\xe6\\x90g{\\x0b\\xc3sa\\x1f\\x99\\xf3|\\xbfz\\xb1/\\xd1\\xed]\\xa4\\xfb\\xc3\\xe6\\xda\\xb5\\xa5\\xa3\\xff\\x00\\xc7\\x9a\\xc7\\x1c\\x88\\xcaW\\xe5Z\\xa3\\xa9:o\\x929>\\xea\\xfeu\\xa2w\\x8d\\x8enKT\\xd0\\xcf\\x87R\\xd8\\x8b$\\x91\\xed\\xa7\\xa5\\xfb\\xff\\x00\\xac\\x83\\xee\\x8f\\xbbQ\\xbc6\\xce\\x8d \\x93\\xee\\xfc\\xcbU\\x9d\\xdem\\xd2G\\xf7G\\xf7*^\\xa6\\xea-\\x9a)\\x7f\\xb1\\x1aK\\x88\\xf7\\x1a\\x8ekdwo\\xdeuJ\\xa7\\x0c\\xcf\\xbf\\xcc\\x92=\\xdb\\xbe\\xf5i[<%\\xda\\xe2H\\xf77\\xf0\\xd0J\\x8b\\x8e\\xe3,\\xf7C7\\x97\\x1c\\x8f\\xfe\\xd3V\\xbb\\xef{e\\xfb\\x9f\\xde\\xddY\\t0\\xdf\\x9f\\xe2g\\xf9V\\xb4\\xac\\xef>I<\\xbf\\x9b\\xe7\\xda\\xcbW\\x12$\\xf9\\x88f\\x9d\\xff\\x00\\xe5\\xa0\\xe9OK\\x9ei\\xb3F\\x93~\\xec\\xc7UfI\\xa1\\x7f.I6\\xff\\x00\\xb2\\x957\\xf7\\xae\\'\\x1e\\xe5\\xf7\\x99\\xdem\\xfeg\\xca\\xbf\\xc5R\\xfd\\x99.m\\xa4\\xb8\\x8f\\xe5\\x15\\x9dmx\\xef\\xfb\\xb9>o\\xee\\xd4\\xe93\\xfc\\xbed\\x9bs\\xfc5WBzl@\\xef\\xf6i\\xb6|\\xed\\xba\\xbd\\xe3\\xf6\\x03\\xd1\\xf5\\xef\\x10\\xfe\\xd4^\\x0f\\xb7\\xf0\\xff\\x00\\x9b\\x9bMK\\xed\\x17\\x12vH\\xd1Y\\x9fq\\xf4\\xed\\xff\\x00\\x02\\xaf\\x13\\xd0|1\\xad\\xf8\\xab\\xc46~\\x1f\\xf0\\xde\\x8fu}\\x7f{*\\xc5gkg\\x19i\\x1d\\x8f\\xf0\\xaa\\xad}\\x97\\xe0\\xf9<%\\xff\\x00\\x04\\xe8\\xf8Kys\\xe2\\rB\\x0b\\xef\\x8a\\xbe\"\\xb2\\xd9\\x0e\\x9b\\x03\\x89\\x13G\\x80\\xff\\x00|\\xaf\\x7f_\\xef\\x15\\xc0\\xe0f\\x85$\\xf7\\xd0\\xf40\\x98ok59;Aj\\xdf\\xf5\\xb9\\xe4_\\xf0P\\xbdcG\\xd6\\xff\\x00j\\x8f\\x18\\\\h^S\"_\\xf9m\"tyV5Wo\\xce\\xbc\\x16?\\xbe\\xb1\\xc9\\xff\\x00\\x01j\\xb9\\xafx\\xa2\\xff\\x00X\\xd5f\\xd65\\x0b\\x86\\x9a\\xe2\\xe2V{\\x8b\\x89_.\\xec\\xcd\\xb9\\x99\\xab;\\xcey\\xbfy\\'\\xca\\xbf\\xc5Q\\xa7s\\x9f\\x13[\\xdb\\xe2%;h\\xd9-\\xb5\\xcf\\x93r\\xb1F~Z\\x92\\xf2\\xff\\x00\\xf7>\\\\\\x7f\\xf7\\xd5SD\\x82d\\xfd\\xdd\\xc6\\xdc}\\xd5\\xa9\\x9f\\xc9\\xd9\\xfb\\xc8\\xf8\\x1f.\\xda\\x0e{%=\\t\\x91\\xd1\\xca\\xd9\\xc9\\xbf\\xe6O\\xbdV\\xa1\\xb9\\x9bcY\\xc7#l\\xfe\\xf5T\\x87zB\\xc6?\\x98m\\xfb\\xcfL\\x86\\xf3\\xc9E\\xf3?\\xef\\xaa\\x16\\x84\\xb97\\xa7CJ\\xd67I\\xfe\\xd0\\xff\\x007\\xfc\\xf3jW\\x9b\\xfeZ[}\\xdf\\xf6\\xea\\xad\\x9d\\xe4\\xdb\\xfc\\xc8\\xa3\\xfd\\xde\\xcf\\xbc\\xfcT3^y;\\xbc\\xc97/\\xf1V\\x97Fi7+\\x85\\xfe\\xa54o\\xe5\\xf9\\x9f!O\\xe3\\xacMcRD\\x7f\\xb3\\xf9{\\x9bg\\xcc\\xd5=\\xfd\\xca<\\xdfh\\xfb\\xdf\\xc3\\xb6\\xb2o]\\xd1\\xdaO3\\xef}\\xd5\\xace+\\x1d4\\xa2>\\xc2\\xfd\\xf7\\xfe\\xf24ej\\xe9\\xf4O\\xb3?\\xefd\\xb8\\xff\\x00\\x80\\xd7!k3\\xf9\\xcbq\\x1c\\x88\\xc4}\\xd5\\xad\\xdd\\x1e\\xfe\\x1f\\x9aO\\x91]\\xbf\\xe5\\x9a\\xd3\\x83&\\xad\\xf9os\\xb5\\xb6\\xb9\\x86\\xd9\\xda<y\\x8a~Z\\xe7|g\\xa6\\xc325\\xc4\\x9b\\xb0\\xbfukB\\xc2gs\\xc6\\xe5]\\x9fz\\x97X\\xdd\\xfe\\xaaH\\xfc\\xcf\\x93\\xef\\'J\\xe8wq\\xb5\\xce*M\\xc2z-O4\\xbf\\xb9\\xbc\\xb3\\x9b|{\\xd5\\x16\\xb7\\xf4O\\x15A\\xbe?.N6\\xfc\\xd4\\x9a\\xdf\\x87\\x92T\\xe6O\\x9f\\x7f\\xdd\\xed\\\\\\xac\\xd0\\xdc\\xd8\\\\\\xf9\\x91\\xfc\\xac\\xbf\\x95a\\xac%dw\\xd9U\\x8d\\x9a=FmT\\xdc\\xdb/\\xef7\\x1f\\xbc\\xadT\\xeeno\\xd3tq\\xc9\\xb5W\\xef5r\\xfaV\\xbd40\\xac\\x92I\\xcdlC\\xaa\\xfd\\xbc\\xf9w\\x17\\x1f\\xf7\\xc5\\\\j\\x1c\\xce\\x9dJR\\xb1R\\xf2\\xe6\\xe5&\\xf3~\\xd1\\xf2\\xb7\\xddj\\xa4\\xf7\\x92=\\xcf\\x99$\\x9f{\\xf0\\x15\\xa1y\\x0e\\xf0\\xde\\\\\\x7f-d<??\\x97\\x1d\\xcf\\xca\\xaf\\xf7iZ]\\xcd\\x94\\xda\\x8d\\xd6\\xc2?\\xda\\xfc\\xef\\xb4G&\\xef\\xef-2\\x1b\\xcb\\xa4\\x91\\xbc\\xc96\\xb7\\xde\\xa1\\xfe\\xd94\\xcd\\x1c\\x7fu~\\xedC\\x7fms\\x07\\xee\\xfc\\xbf\\xbb\\xfcU%I\\xa7\\xb9\\x1b\\xdf\\xdc\\xbb\\xb7\\x9b\\xb1\\x7f\\xdd\\xa8|\\xeb\\x99\\xbf{$\\xad\\xc3\\xfd\\xef\\xf6i\\xa9\\x0e&_3\\xe6\\xca\\xfc\\xd4\\\\\\xc2\\x89j\\xd2E\\xf3)\\xfb\\xb4\\xb9\\x975\\x87\\xec\\xfb\\x04(\\xe3\\xfd\\x90jxa\\t\\xfb\\xb9w\\xe1~m\\xb4\\xf8Sd>d\\x9f\\xee\\xed\\xa9\\x1f\\x0e\\x8b\\x1c\\x7f.\\xef\\xe2\\xac\\xef\\xcau-H\\x9fe\\xb7\\xfa\\xbf\\x98\\x1f\\xbfL\\xf2\\xe6\\x92\\x1f\\xb4I\\x1e\\xdc\\xb7\\xcbSq\\xbd\\xa3\\x92O\\x99?\\x8a\\x98\\x939\\xff\\x00k\\x1f\\x95(\\xca\\xe1(\\xa2+7\\xd8\\xff\\x00\\xbc\\x93\\xe5?-X\\x9a\\x18J1\\xf37n\\xa6y)\\xe4\\xfd\\xa3\\xee\\x8f\\xee\\xd3\\x1d?|\\xbe\\\\\\x8f\\xb7\\xf8\\x96\\x9d\\xd0/v\\xd6\\x12?\\xe1\\x8f\\xe6\\xda\\xadNr\\x9f\\xeb#\\x93v\\xe7\\xfb\\xb5\\n:|\\xd2y\\x7f\\xf0\\x1f3\\x9a\\x9a\\xd6\\x1f\\xb4\\xb2\\xdcG\\xfb\\xbd\\xbf\\xc3S\\xcc\\xb9\\xca\\xe5b&\\xfb\\x97\\xfd\\xe4|\\x7fv\\xadY\\xdba\\xe4\\x8f\\xcb\\xdcvS\\xac\\xec\\xdd?y\\'\\xde\\xdf\\xf3U\\xd7\\xb3Hv\\xdc[\\xfc\\xa7\\xf8\\xa8\\xe6nVz\\x92:\\xc2i\\xa1E\\xf2\\xf7\\xa8\\xa9\\xa6}\\x93y\\x92I\\xbb\\xf8\\x96\\xa3\\xfbK\\xef\\xf3$\\x8f\\xe5\\xfe\\x15\\xaa\\x93\\\\\\xcc\\xee\\xd1\\xff\\x00\\x0f\\xf7\\xaa\\xfc\\xba\\x13(9\\x17~\\xd3\\xbd?y\\x1e\\xdc\\xbd@\\xe9\\xfb\\xe6\\x8f\\xcc\\xdd\\x8f\\xe1\\xa8^\\xf3\\xf7>W\\x96\\xf4\\xd4vGY?\\x84\\xfet\\x02\\x8aC\\xb7\\xc6\\xfb\\xa3\\x8f\\xef\\x7fv\\x9f\\r\\xaf\\x92\\x9edr|\\xdfyZ\\x9e\\x90\\xba?\\xda<\\xbf\\xbd\\xf7\\xa9RdI\\xbc\\xb3\\x1e\\xe5\\xfe\\xf2\\xd2\\xe6|\\xd6*\\xd0{\\x90\\xc9\\xf2\"\\xc9\\xdb\\xfb\\xb4\\xcd\\x98\\x99d\\x92=\\xdf\\xdd\\xa9o\\'2\\x7f\\x1f\\x1f\\xc3P\\xa5\\xcf\\x92\\x9f\\xeb7/\\xf0\\xd3\\xeeO)>\\xc7O\\xf9g\\xb7\\x9f\\x99\\xaa\\xc5\\xb5\\xe2>\\xe8\\xe4\\x8fv\\xcf\\xbbPC\\xa9\\'\\x9c\\xb1\\xf9\\x7f/\\xf1S\\xd1\\x13\\xf7\\x92T\\xf3\\x14L\\xe8\\xef\\xbaH\\xf7\\xee\\xfe\\xea\\xd2C\\x0b\\xfc\\xb7\\x1e[`\\xd3t\\xd7tu\\x91\\xe4\\xf9Z\\xa5\\x9a\\xe7c\\xb7\\x97\\xf7v\\xfc\\xabTf\\xa2\\x97R\\x19\\x9d\\x1ee\\x93\\xee\\xff\\x00\\r\\x17\\x93;\\xa7\\x95\\x1f\\xcd\\xfe\\xd5A\\xbfz7\\xda#\\xf9\\xbf\\x86\\x9f\\xf6\\x94xc\\x8f\\xfeZ\\x8a\\n\\xe6\\x1fms\\xbf\\xf7\\x9eb\\xff\\x00wk\\xd4\\xf0\\xcdu\\x1f\\xfa\\xbf\\x99j\\xa2\\x14\\xf9\\xbft\\xdb\\x7f\\xbdVm\\xa6D\\x87\\xca\\x8eM\\xdf\\xec\\xb5\\x03J\\xc2\\xcdx\\xff\\x00\\xea\\xe3\\x8fh\\xff\\x00f\\xbaO\\x85\\x1f\\x1b\\xfe\\'\\xfc\\x13\\xd7\\x17\\xc5\\x1f\\x0e\\xfcQu\\xa7\\xdc\\xa3~\\xf1b\\x93\\xe5\\x99\\x7f\\xba\\xe9\\xd1\\xc7\\xd6\\xb9\\x837\\xde\\xfb\\xbc\\xadD\\x96\\xbes\\xaf\\xef?\\xde\\xa4\\xa4\\x90Fn2\\xe6Z3\\xea\\x03\\xf1\\xd7\\xf6c\\xfd\\xa5\\x84v\\xff\\x00\\xb4\\x07\\xc3?\\xf8E\\xf5\\xe9>V\\xf1w\\x85\\xf0\\x11\\xdb\\xfb\\xd2\\xc1\\xd0\\xfb\\xf7\\xac\\x9f\\x1e~\\xc4>-\\xd3t\\xa6\\xf1\\x87\\xc1\\x7f\\x10Y\\xf8\\xfb\\xc3\\xdbw\\xb5\\xf6\\x87\\xcc\\xd0\\xff\\x00\\xd7X~\\xf2\\x9f\\xa6k\\xe7\\xfb9\\x92\\x19<\\xb9~e\\x0f\\xf2\\xb5u\\xfe\\x00\\xf8\\xaf\\xe3\\x9f\\x85z\\xc2\\xeb\\x9e\\x07\\xf1E\\xee\\x97r\\xbf2\\xc9e9M\\xff\\x00\\xefc\\x86\\xfch\\x82\\xb6\\xc7s\\xc7*\\x9e\\xee\"<\\xde{?\\xbc\\xc4\\xbf\\xb3\\xb9\\xb0\\x9akK\\xcb7\\x8eX_l\\x90\\xca\\x98t\\xac\\xf9\\xa1O\\x9aH\\xcf\\xcf\\xb3\\xefW\\xd0\\xfa\\x7f\\xedc\\xf0\\xaf\\xe2\\x8f\\xfa\\x1f\\xed9\\xf0~\\xc3V\\xb9t\\xdb\\xff\\x00\\t&\\x87\\x8bK\\xff\\x00\\xf7\\x8e\\xdf\\x95\\xff\\x00\\x11Q^~\\xcc\\x7f\\x00~$#j\\x1f\\x04\\xff\\x00i\\r6\\xd5\\xca\\xef]\\x17\\xc5\\xf0}\\x96T\\xff\\x00g\\xce\\x00\\xab~T\\xae\\xfb\\x13\\xf5J5%\\xfb\\x99\\xafIh\\xff\\x00\\xcb\\xf1>rx^\\xd9\\xfc\\xce\\xed\\xfc543y.\\xbed\\x8c\\xbbW\\xf0\\xafX\\xd6?bO\\xda*\\xc2\\x1f\\xb4\\xe9~\\x13\\xb3\\xd7\\x11~\\xec\\x9a\\x0e\\xb3ot\\x1f\\xfd\\xa0\\x15\\xf3\\xfaW\\x15\\xe3?\\x85\\x7f\\x12<\\x12\\xebo\\xe3O\\x03\\xea\\x9aN\\xdf\\xf9\\xff\\x00\\xb1x\\xbf\\xf1\\xe21G:&X<T#w\\x07n\\xfb\\xaf\\xc0\\xc9\\xb6\\x99\\xa6\\x87\\xed2}\\xdal\\xd6q\\\\\\xbf\\x99\\x1c\\x9fz\\x91\\xed\\x9e\\x18W\\xcc\\x8fp?\\xc3P\\xa3\\xf9n\\xdc\\xed?\\xc3Tq\\xb8\\xca2\\xb2+\\xc9\\x03\\xa3\\xc9o$\\x8f\\xfe\\xcbT0\\xea\\x0e\\x8f\\xe5\\xf9\\xad\\xf2\\xff\\x00\\x15hL\\xe9y\\xba9?\\x8b\\xf8\\xab\"\\xebMxak\\x89d\\xda\\x83\\xee\\xd4\\xbfwa\\xc2\\xff\\x00i\\x1d\\x1e\\x8fy\\xe7\"\\xc7%\\xc7\\xfc\\x06\\xb4n<\\x94\\x85\\xbf\\x8bw\\xf1W\\x1b\\xa7_\\xbd\\x9f\\xfaFwWQ\\xa2j_\\xdaP\\xc6$\\xf9\\x9a\\xae2lR\\x83+\\xdf\\xfc\\x93s\\xf37\\xf7\\xaa\\x9d\\xce\\x93\\xf6\\xc8\\xe4\\x92=\\xbb\\xa1M\\xcd[\\x17\\x90\\xa7\\xcd\\x1c\\x9f{~\\xed\\xb5^\\x14\\xb6wo\\xdd\\xed\\xcd\\x12\\x15=#r\\xae\\x83\\xa9\\xcd`V\\xdf\\xe7d\\xdfZ\\x1a\\x95\\xcc/\\xfb\\xcb\\x7f\\xbc\\xff\\x00z\\xb3\\xfc\\x9d\\x8e\\xdef\\xdd\\xbf6\\xdaI\\xa6\\x7f%\\x7fyMJ\\xd1\\xb1..S\\xd0o\\x9c\\x88\\xedn#\\xda\\xdf\\xde\\xa8f\\xdf\\xbf?u\\x7f\\x85\\xbbT/\\xbd\\xdf\\x99*d\\x85\\xaeQe\\x92O\\x99~\\xf2\\xd1)X\\xb7\\x16\\x88\\x1e\\xe5\\xfc\\xef\\xdd\\xf4_\\xbc\\xc9[\\x1aU\\xca\\\\\\xc2\\xded\\x88\\xa5>o\\x9e\\xa8\\xdf\\xd8lE\\x93\\xb6\\xca\\xa6\\xe9sl\\x8b\\xf6o\\x97s\\xfc\\xb5*\\xe8\\x99\\xc5\\xd5\\xf36\\x1e\\x14\\x9a\\x1f\\xb4\\x7f\\xb7\\xf2\\xad\\x16\\xd3L\\x89\\xe6\\r\\xed\\xb7\\xee\\xado\\xfc=\\xf8\\'\\xf1\\xab\\xe22,\\x9e\\x0b\\xf8o\\xab\\xdfB\\xdf\\xeb.<\\x8f.$\\xff\\x00k{\\x95_\\xd6\\xbd\\x1e\\xdb\\xf6<\\xf1%\\x85\\xb4\\x7f\\xf0\\x9a|P\\xf0V\\x83\\x9f\\xf5\\x90\\xdek\\x82IS\\xea!\\x0f\\xcf\\xe3T\\xa4\\x99\\xbcpX\\xa7\\x1en[/;/\\xcd\\x9eE\\x0c\\xd0\\xdc\\xba\\xc9\\xf7O\\xfc\\xb4\\xa6\\x91\\xe7\\\\\\xc9\\xc3|\\xb5\\xeb\\xf0\\xfc\\r\\xfd\\x9b\\xfc1\\xbaO\\x17\\xfe\\xd2\\x91\\\\J\\x1b\\xe6\\xb5\\xf0\\xfe\\x874\\xa5\\xff\\x00\\xe0nT~\\x95i<\\x7f\\xfb\\x18x\\r>\\xd1\\xe1\\xff\\x00\\x84\\xfa\\xf7\\x8a.\\xd7\\xe5Y\\xbcG\\xaa\\x88b\\xff\\x00\\xbfP\\x8a|\\xc2X+E9\\xce*\\xdew\\xfc\\x8f\\x1e\\xd14Mo[\\xd5WO\\xf0\\xfe\\x95=\\xe5\\xcc\\xbf,v\\xf6\\xa8d\\x91\\xff\\x00\\xe0#&\\xbd\\xa7\\xc1?\\xb1o\\x89\\xd2\\xc2?\\x18|\\x7f\\xf1E\\x97\\x80tO\\xbd\\xbbT\\x9dM\\xdc\\xcb\\xfe\\xc4+\\xceOl\\xfeUWR\\xfd\\xb9>!i\\xb6m\\xa5\\xfc+\\xf0\\xde\\x89\\xe0\\xfb=\\x9bV=\\x07MH\\xe4\\xff\\x00\\x81J\\xd9c^I\\xe2\\xaf\\x88^\\'\\xf1\\xce\\xab&\\xa9\\xe3\\rr\\xf7R\\xb8\\x7f\\x99\\xa6\\xba\\x9c\\xb9\\xff\\x00\\xc7\\x8d)M\\xad\\xcd\\x14p4\\xb5\\xb3\\x93\\xf3\\xd1\\x7f_3\\xe8\\x9dK\\xf6\\xa2\\xf8?\\xfb?h\\x97^\\x1b\\xfd\\x93\\xfc&\\xcd\\xa9I\\x17\\x91u\\xe3\\x8df0\\xd7O\\xfd\\xef%zG\\xf9~\\x15\\xf3\\xaf\\x88|[\\xad\\xf8\\xb7U\\xb8\\xd6<I\\xac\\\\]]\\\\\\xbe\\xf9\\xae\\'\\x9c\\xbb;\\x7f\\xb4Z\\xb2\\x91\\xe6tlw\\xfb\\xb5Z\\xed\\xf7\\x95\\x8e9\\x11[\\xefQ\\xcccZ\\xbdJ\\xf2Q\\x7f\\n\\xe9\\xd3\\xee-M3\\xc2\\x8b\\x1d\\xbc\\x9b\\x99\\xff\\x00\\x86\\xabKr!\\xdb\\xfb\\xce?\\xe5\\xa2\\xf6\\xaa\\xf7.\\xfer\\xc9${\\xb6}\\xd6\\xaa\\xe2\\xf1\\xdeo.I7\"\\xfd\\xe5\\xa3\\x98\\xca\\xce&\\x85\\xb7\\xdfY#\\xf9\\xb3\\xf7\\x96\\xac\\xfd\\xa6m\\x9e_\\x99\\xb6\\xa9B\\xe1\\xfe\\x9f\\xdd\\xab\\xa57\\xa7\\x97\\x1c\\x7f0\\xfe.\\xa2\\x9a\\x92dOBd\\xb8tv\\x97\\xccV\\xdc\\x94\\xcb\\xcb\\xff\\x00:e\\xfd\\xdfO\\xca\\x99r\\x8fm2\\xc7\\xe5\\xed+\\xfc5\\x05\\xe3\\xecM\\x92I\\xd5\\xbe\\xf534\\xef&\\xac[\\x87R\\xfbJ5\\xbf\\xcb\\x85\\xfe*c\\xcd\\x1e\\xcf2O\\x98\\x7fv\\xb2>\\xde\\xe5\\xfc\\xbf3w\\xf0\\xedz\\x9a7\\xde\\xed\\x1f\\x9b\\xb7\\xe4\\xfb\\xb5<\\xc3\\x9a\\xf7mb\\x1b\\xf9\\x93*p\\xeb\\x9f\\xba\\xb5E\\xc3\\xbb\\xb7\\xf1\\x1f\\xa5]\\xbbxD>e\\xc5\\xbae~h\\xd6\\xb2.f\\x7f\\xf5\\x9eg_\\xee\\xd4I\\xb8\\xdb\\xcc\\xda\\x11\\xf76\\x1f;\\xf93/\\xef6\\x8f\\xe1\\xadM\\x11\\xe1\\xf9\\xa4\\x92O\\x9c|\\xcbX\\xb2L\\x973/\\x99\\x1f\\xccS\\xe5j\\xd8\\xd1\\xe1O\\xdd\\xc7$\\x9f2\\xfd\\xeaQ\\x1d[r\\xd8\\xe94{\\x94\\t\\xe6y\\x9f?\\xde\\x91^\\x9fss#\\xa7\\xfaD\\x9b\\x7f\\xe7\\x9dS\\xb3\\x87b7\\x97\\x13+}\\xed\\xdf\\xec\\xd5\\x87t\\x9a\\xdaH\\xe3\\x8fs\\xb3\\xfc\\xb5\\xbc_\\xbbdp\\xfb5\\xcds:\\xe5\\xfe\\xd3\\x0f\\x99\\x9f\\xbb\\xf7\\x99\\xeb/RB\\xf1\\xf9~^\\xef\\x92\\xaf^\\xa4\\xf6\\xc8\\xd1\\xc7\\xf7\\x9b\\x9d\\xad\\xd2\\xa0\\xf3\\xbfy\\xe6\\\\F\\x8a\\xa2\\x93v\\xbf\\x99\\xad;\\xcaWL\\xe4\\xef\\xe3\\x9a\\xda\\xe7\\xec\\xf1\\xc8\\xca\\x1b\\xee\\xd4\\xd6\\x1a\\xac\\xd6\\xdbd\\x92Vl|\\xb5\\xa1\\xa9Y\\xa5\\xcb\\xfd\\xa29\\x11w|\\xbb\\xbb\\xd77r\\x97\\x90\\xbc\\x9ed\\xbbB\\xb7\\xcbXI\\xdaW:\\xa1i\\xde\\xe7i\\xa5\\xf8\\x83\\xed\\x90\\xb7\\xda>e\\xfb\\xab\\xda\\xac\\xdc\\xa2$?h\\x8e4l\\xfd\\xe6\\xaf?\\xb3\\xf1\\x0f\\x93&\\xcf3\\xf8\\xff\\x00\\x8e\\xba\\xcb\\x0f\\x12\\xdb\\\\\\xd9\\xacg\\xe5]\\xbfv\\xaa\\x13r1\\x9d\\x17\\x19]\\x02\\xfd\\xb2\\x17i~\\xee_\\xef=>\\xe1\\xdd\\xff\\x00w\\xe6+2/\\xdd\\xa5{\\xdf\\xb6#G\\xe5\\xee;~_J\\xa0\\xe8\\x90\\x9f2O\\xde\\x1a\\xbedB\\xb4\\xa5\\xca\\xd6\\xa3\\x1d,\\xdd\\x16H\\xe5\\xda\\xe7\\xf8j\\xbd\\xe3\\xba?\\x97\\xe5\\xed\\x1f\\xdd\\xa4{\\xc4\\xf9d\\x97\\x7f\\xcb\\xf7}*\\xac\\xd7\\x9et\\xd1\\xdcI&\\xef\\xf6\\xa99\\xc5\\x1a\\xc5sJ\\xc8\\xe8|\\x94\\xde\\xc3\\xcd\\xf9V\\xa2\\x9b\\xe7u\\x928\\xdb\\xe5j?|\\xf1\\xfe\\xf2-\\xdb>\\xf5K6\\xff\\x00!\\x7fy\\xb5\\x9b\\xee\\xads\\xf3\\xb6\\xb4z\\x9d\\x9e\\xcf\\xcc\\x87f\\xf7\\xf3$\\xff\\x00\\x80\\xafz\\xb1\\xe4\\xa4\\xdf\\xec\\xff\\x00z\\xab\\xf9\\xce\\x81~\\xd1\\xff\\x00\\x8eP\\xf7%\\xe7\\xfd\\xdb\\xed\\xfe\\xea\\xd2\\x94\\xa7\\x19\\\\j7\\xe8M2B\\x89\\xe5\\xe3p\\xfe\\x1a\\xa8\\x8f\\x1b\\xa2\\x9f/\\xa7\\xde\\xa3\\xce;\\x1a?3q\\xa4\\x82\\xdb\\xcf\\xdd\\x1f\\xdd\\xdf\\xf7j\\\\\\x98\\xf9P\\xe4H]\\xd6;~\\xff\\x006\\xea\\xbfg\\x0f\\xef\\x167\\x8f\\x83\\xf3nJ\\x8fM\\xd3E\\xb3\\xf9w\\x12\\x7f\\x1e\\xd5fJ\\xd1\\x96\\xd9\\xec\\xe0\\xcf\\x95\\xb9\\xbf\\xbbV\\xa3t\\x89\\x94\\x82\\xdaHa\\x7f3\\xcb\\xdc~\\xeb+\\xd2?\\xef\\xa4o2M\\xaa\\xbfui]\\xfe\\xcd\\n\\xf9\\xb2u\\xfb\\xad\\xde\\xa0\\x9d\\xf7\\xcb\\xe6Gp\\xf9_\\xba\\xb5\\xab\\x9aF<\\xa3\\xaef\\xc3\\xac\\x99\\xe7\\xf8j\\xab\\xc6\\xfeo\\xef\\x0e\\xe5\\xfe\\x1aW\\xde\\xec\\xd2E\\xf7\\xbf\\xbdSo\\xd9\\xb4\\xff\\x00\\x17\\xf1T]=\\x8a\\xbb#Kl\\xc8\\xbed\\x7f\\xc3I\\xbehKy\\x91\\xfd\\xc6\\xab\\x8f4\\xcf\\xfe\\xb3\\xefUi\\xb7\\x87\\xfd\\xef\\xdd\\xdb\\xf7\\xaa\\xf9\\x80T\\xbc\\xff\\x00G\\xf3$\\xfb\\xadL\\x91\\xdfg\\xee\\xe5\\xda\\xcbI\\xf3\\xba4q\\xfd\\xcf\\xe1Z\\x8d\\xeeaDX<\\xcf\\xf7V\\xa6\\x0f\\xfc\\x8a\\xe5\"w\\xdf7\\xfaD\\x9f*\\xd2|\\xe9\\xbb\\xcb\\xf9\\x93\\xf8i<\\xf7\\x9ao/\\xcb\\xdaZ\\xaf[[}\\xd4\\xb8\\x97o\\xf7V\\x9b\\xba\\x15\\xd0\\x96{\\xd1\\x16O+j\\xff\\x00\\x15Z\\xfe\\x0f\\xb4v\\xfe*\\x95\\xd2\\x14\\xb6c\\xff\\x00|\\xad$\\xdeJ\\'\\x97\\xe5\\xed\\xff\\x00f\\xac\\xcd\\xc98\\xda%w\\xd9\\n/\\x97\\'\\x1fy\\x95\\xa9\\xe9y\\x0f\\xcc$\\x8f\\x9f\\xbbP\\xcd\\x02:y\\x9eg\\xfb;j(\\xe6\\x86\\x19\\xa3\\x92O\\x99V\\xb3\\xbb\\x1a\\xd66,lI\\xa6\\xf2\\xee$\\xdaV\\x98\\xfb<\\xef/\\xe5\\xff\\x00e\\xa9>\\xd3\\x1c\\xce\\xd2y\\x7f\\xc5\\xf2\\xd3\\x11\\xd2M\\xd2I\\xff\\x00|\\xd1\\xed<\\x86\\xa0\\xd9*<\\xd0\\xa3G\\xe6n\\xddJ\\x9b\\x1d\\xff\\x00\\xd5\\xee\\xff\\x00j\\x88~\\xff\\x00\\x94cF\\xdd\\xf7jt\\x85\\x12\\x1f2H\\xf6\\xbaT\\xf3\\x14\\xed\\x1d\\xd9V\\xe5\\x11\\x1d\\xa3\\x8f\\x7f52Cl\\x88\\xd2G\\xf2\\xb7\\xf0\\xd473#\\xba\\xc7\\xf7jD\\xf2\\xb6,\\x96\\xf2n?\\xc5Wv\"W\\xb90\\xa2\\xc9\\xfd\\xe7\\xfb\\xb5*\\\\\\xa6\\xf8\\xe4\\xb8\\x93j\\xff\\x00\\n\\xd3a\\x8a\\x19\\x93\\xcb\\xfe\\xedGr\\x8f\\xe6/\\x99\\x1f\\x02\\x9b\\x9aD\\xf2\\x96\\xe6H_\\xf7\\x96\\xf2n\\xff\\x00f\\x9b\\xf6\\x87\\x86\\x1f.;\\x87g\\xdf\\xfc<UtM\\xff\\x00\\xbc\\x8f\\x7f\\xcb\\xf7i\\xee\\x8e\\x89\\xe6y\\x9f/\\xd6\\x8en\\xe3\\x8b\\xe6\\xd8\\xb7\\xa5x\\xab\\xc4\\xfaU\\xccri~ \\xbc\\xb7\\x99v\\xedh\\xa7+\\xff\\x00\\xa0\\x9a\\xf5o\\x05\\xfe\\xdb\\x1f\\xb4\\x0f\\x84\\xac\\xff\\x00\\xb1\\xee<i.\\xa9c\\xb7l\\x9a~\\xb2\\x82\\xea\\'\\xff\\x00\\x80\\xcb\\x9e+\\xc6\\x92\\x1d\\xff\\x00\\xeb:\\xff\\x00\\x0b-Y\\xdf6\\xc5\\xb8\\x92F\\xf9>U\\xa3\\x94\\xd65\\'NW\\x8bi\\xfa\\x9e\\xe17\\xed\\x1b\\xf07\\xc5N\\xb2|D\\xfd\\x98\\xf46\\xb9\\x7f\\xbdu\\xe1\\xcb\\xa9,\\x0f\\xfb\\xc5\\x10\\x95\\xcf\\xe1M\\x86o\\xd8K\\xc4\\xfb\\xbf\\xb4t\\x7f\\x1b\\xf8u\\xff\\x00\\x85\\xadu(.\\x91?\\xef\\xb8\\xc1\\xfdk\\xc4\\xad\\xa1M\\xad\\xe5\\xc9\\xf3\\x7f\\x16\\xfa\\xabx\\xef\\xe6\\xb4\\x7fy\\x7f\\x8a\\xa5\\xa4\\xba\\x1d\\x11\\xc6\\xd7\\xfbN\\xfe\\xa9?\\xcd\\x1e\\xdby\\xf0\\xc7\\xf6H\\xb9F\\xb8\\xd2\\xfe>k\\xd0\\x8d\\xff\\x00,w\\xbe\\x1cI\\x0f\\xfeC\\x90V|?\\x04>\\x03\\xeaS\\xff\\x00\\xa3\\xfe\\xd4\\x16\\xfeZ\\xff\\x00\\r\\xd7\\x84g\\x8f\\xf5\\x12\\xb7\\xf2\\xaf\\x1e\\xb6GI\\x16?3\\xe5\\xfe\\xf5Y\\xf3\\xa6O29$\\xda\\xbf\\xde\\xa5\\xee\\xf3X\\xaf\\xac\\xdfzk\\xee\\xff\\x00+\\x1e\\x9dy\\xf0+\\xe0\\x86\\x9b\\xba\\xe2\\xe3\\xf6\\x98\\xb0\\x92\\x11\\xf7\\xa3\\xb5\\xf0\\xe5\\xc3?\\xea\\xebZ\\xfe\\x03\\xd1?c\\xf8g\\x92\\xdfT\\xf1\\x87\\x8bf\\x97\\xe6U\\xbe\\xb7\\xb1\\x89#O\\xfbf\\xc4\\x96\\xff\\x00\\xbe\\xab\\xc5/>{\\x0f\\xdd\\x9e\\x9f\\xc5\\xde\\xacx\\x19>\\xd3s$\\x9ef\\xdf-\\xbej\\x98\\xdd\\xcf`\\x96+\\xdd\\xba\\x84W\\xca\\xff\\x00\\x9d\\xcfq\\xbf\\xf8\\'\\xf0\\xc7\\xc4\\x935\\xc7\\x84\\xfe<h\\xcd\\x0b\\x7f\\xab\\x87W\\x82Ki\\x7f\\xe0AC\\x8f\\xd6\\x9bg\\xfb(\\xcdr\\x8b\\x1d\\x9f\\xc6\\xcf\\x044\\xcf\\xf3,/\\xac<\\x7f\\xab\\xc4\\xa2\\xbc\\xa3R\\x9a\\x1b\\x99\\x96Ky>a\\xfcKU\\xbf\\xb4\\xael\\xdd\\xa32|\\xec\\xbbwV\\xceIu9\\xe9\\xd6\\xa7-\\xe9\\xaf\\xc5~\\xa7\\xaa\\xea\\xbf\\xb2/\\x8a\\xacf_\\xb4|D\\xf0S\\x07\\x7f\\x99S\\xc4\\xf0\\x93\\xb7\\xfb\\xcbY\\x97?\\xb3^\\x9b\\xa6\\xa3\\\\x\\xa3\\xe3\\xbf\\x83\\xeccO\\xbd\\xe4]Iv\\xff\\x00\\x94I\\x86\\xff\\x00\\xbe\\xab\\xce\\xbe\\xdfr\\xe8\\xa9$\\x8f\\xb9_\\xefy\\x95Vk\\x99\\xdfw\\x97\\xbd\\x8a\\xfd\\xe5\\xedS\\xdb\\xfa\\xfd\\x0b\\xf6\\xf4\\x94\\xae\\xa9\\xaf\\xbd\\xff\\x00\\x99\\xeb6~\\x00\\xfd\\x90\\xb4H\\xda_\\x14|h\\xf1\\x0e\\xa8\\xe3\\xe5e\\xd1\\xbc>\\x90\\xaf\\xfc\\x05\\xa6v\\xdd\\xf9U\\xe8o\\xff\\x00a\\xcb\\x0f\\xdd\\xc7\\xa1\\xf8\\xdfPm\\xbf\\xbc\\xf3uX\"\\x1f\\x92\\xc4k\\xc4\\xae]\\xdd\\x1697\\xa8d\\xf9W\\xa51.a\\x86\\x7f.N\\xbb>\\xf5B\\x97r\\xa5\\x89\\x9b\\xf8c\\x15\\xf2=\\xce\\xff\\x00\\xe2\\'\\xec\\x8b\\xa6\\xc3\\xe5\\xe9\\xff\\x00\\xb3\\xfe\\xadx\\xff\\x00\\xc3\\xfd\\xa3\\xe2\\xa91\\xff\\x00|\\xc6\\x16\\xb3S\\xf6\\xb1\\xd3|*\\xed\\xff\\x00\\n\\xbf\\xe0\\x9f\\x85t\\x19\\x95?w}\\xfd\\x9b\\xf6\\x9b\\x84\\xff\\x00\\x81\\xccX\\xe6\\xbc\\x8e\\x1b\\x94w\\xfbE\\xc7\\xcb\\x85\\xda\\xbd\\xea\\x84\\xcfs3\\xc9$\\x7f\\xf0&\\xad9\\x91\\x9a\\xc5b\\\\\\xae\\x9d\\xbd\\x12_\\xa1\\xe8>-\\xfd\\xa1\\xfe1\\xfcBv\\xb8\\xf1g\\x8fo\\xee#\\xdf\\xf2\\xda\\xa4\\xe5b\\xff\\x00\\xbe\\x06\\x07\\xe9\\\\\\xaa_\\xdc\\xcd3I\\x1c\\x8f\\x97}\\xcd\\xbeNk>\\x17)\\x0f\\x97q\\xf2\\x86\\xfb\\xb52:C\\xfe\\x8f$\\x9fw\\xf8\\xa9\\xa6\\xfajs\\xcd\\xd4\\x9e\\xe5\\xf4\\xbdw\\x99\\xa3\\xb8\\x93\\xfd\\xdad\\xe9\\x9d\\xb2G%U\\xfbO\\xc8\\xc7\\xcc\\xeb\\xfc5\\x1c\\xef\\xf2y\\x91\\xca\\xff\\x00\\xec\\xfaS\\xe7\\xb6\\xe8\\x8ff\\x89\\xd2\\xe6\\xf3{I!_\\x9b\\xf8i\\xd0\\xe2\\x17\\xfd\\xe7W\\xfe\\x1a\\xc9K\\xc7{\\x96\\x8a97|\\x95#\\xea\\xb0\\xc3\\xd2M\\xd9\\xfb\\xdb\\xea.\\xc7\\xeeCsV\\xf6d\\x86\\x1f\\xdd\\xc9\\xfe\\xedT\\xde\\xfez\\xc9\\x1f\\xca\\xc6\\xa1\\xfb|w(\\xb1\\xc9\\x1f\\xfb\\xb5,3[t\\xb8\\x93\\x94\\xfe.\\xd4\\xf9\\x88\\xde7c\\xeeRd\\x87\\xf7\\x9d[\\xf3\\xaa\\x1ff\\xf2_7\\x12m\\xfe&j\\xd3\\xb9\\x9b\\xce\\x85c\\x8eO\\x9a\\xab^C\\xe6n\\x8eK\\x8d\\xc0\\xfd\\xe6\\xf2\\xe9OY&T\\x1d\\xa3fV\\x86\\xfa\\x1b\\x7f\\xdeIq\\xbb\\x1f\\xc3Z:n\\xb6\\x8f\\xba8\\xa3\\xe1\\xea\\xa4\\xdaM\\xb2Y\\xf9\\x92I\\xbb\\xfd\\xda\\xcf\\xb6\\x9f\\xc9\\x7f/\\xcc\\xdb\\xb3\\xf8\\x9e\\x9f:\\x07O\\x9a7h\\xe9\\xa6t\\x9ae\\x928\\xdd\\x99\\xbf\\x8a\\xb3\\xaeaw\\x9aN>\\xef\\xdd\\xa5\\x87R\\x81\\xd3\\xcb\\x8e=\\xbf\\xdd\\xd9R\\xde>\\xf8W\\xcb\\x8f\\xe5\\xfe%\\xa3\\x9a\\xfb\\x11\\x14\\xe1\\xf1\\x192<\\xfb<\\xcf\\xba\\xcbR[\\\\\\xbe\\xf5\\x92I\\xd9\\x98\\xfd\\xefJ\\x11\\xfe\\x7f.I6\\xa7\\xf0\\xf7\\xa6\\xbd\\xb2lh\\xc9\\xf9\\x8f\\xdd\\xa9I\\xb9X\\xd6\\xf1\\xe5\\xb15\\xe4\\xc8\\xff\\x00\\xbb\\x8f\\xfe\\x03\\xe9X\\xd7\\x97/\\x0f\\xfc\\xb4\\xfb\\xd5v\\xe6\\xe7b/\\xf0\\xff\\x00\\xb3X\\xfa\\x94\\xc6M\\xbfh\\x93n\\xef\\xeeSs\\xb0\\xa1\\x1fv\\xf7$\\x86g\\xb6\\x99|\\xbf\\x98\\x1f\\xbd]\\r\\x87\\x93\\xf2\\xc9\\xf6\\xc6\\x8d\\x9f\\xee\\xb2pk\\x99\\x86\\xe4|\\xbf\\xc5\\xfd\\xe6\\xad\\xdd\\x1e\\xe7\\xccL\\xc7S\\x19\\xa5+\\x0e\\xac[\\xa6t\\x96\\xc8\\x9ff\\xfd\\xd9o\\xdd-W\\xde\\xe93I\\x1b\\xed\\xc5\\x1am\\xc3\\x87\\xfd\\xe4\\x8e\\xd9\\xfe\\xe7J}\\xfa[:7\\x95\\xbb?\\xc3\\xb7\\x8a\\xdd\\xca\\xe7\\x17+{\\x94o/>\\xf4\\x92\\\\n\\xde\\xbfv\\xaa~\\xe5\\xff\\x00\\xe5\\xa6\\xd5_\\xe2\\xa6\\xdf\\xbc\\xc8\\xff\\x00\\xbc\\xf9v\\xfe5\\x9f4\\xce\\xef\\xfe\\xb1\\xbe\\xe6\\xe5\\xec*}\\xa7\\x91\\xb5:i\\x16f\\xb9\\x82O\\xdd\\x98\\xfee\\xfb\\xab\\xd2\\xb3\\xb5\\x8b;i\\xac\\xfc\\xc9#\\xf9\\xc3U\\x8f\\xb4\\xc2\\xf0\\xacrF\\xf9O\\xbc\\xd4\\xa8a\\xb9v>g\\xf0}\\xda\\x87\\xc8\\xcd#\\xfb\\xa3\\x8f\\x9b\\xfd\\x1af\\x92H\\xdf\\xfd\\xeazjN\\xbb\\xbf\\xd26\\xee\\xf9\\xb6\\xf5\\xad[\\xfb\\x0f\\xb4\\xed\\x8eI7\\x7f\\xcf5\\xaen\\xfe\\xdakk\\x96\\x8eH\\xb6\\xff\\x00\\xb5Qi\\xad\\xcd\\x9bS\\xf3g[\\xa5x\\x86\\x17H\\xe3\\x93\\xefl\\xab\\x97/\\x1f\\x92\\xde\\\\o\\x96m\\xcd\\\\L7\\x8e\\x9f\\xbb\\x8f\\xe6\\xff\\x00j\\xb7\\xac5\\xb9\\x9flrI\\xb9G\\xdejt\\xa6gV\\x94\\x96\\xabrk\\xcf\\xb9\\x1cq\\xcb\\xf7\\xbe\\xf7\\xfb\\x15E\\xe1\\xdf\\xba?3\\xee\\xff\\x00\\x0fJ\\xbe\\xf7(\\xff\\x00\\xdc]\\xdfz\\xaa\\xbb\\xc2\\x89$\\x9fy\\x9b\\xe5\\xf9+F\\xecg\\x0eh\\xca\\xd2:t\\x85\\xdd\\xd6O3\\xaf\\xddZ\\x1d\\xd2\\x1f\\xf5\\x92\\xab2\\xfd\\xda\\x7f\\xce\\xff\\x00\\xbc\\xf3\\x17\\xe5\\xf9~Z\\xa9yr\\x8f\\xbaA\\xf7\\x92\\xb9]D\\xa5s\\xbb\\x95\\xda\\xc4h\\xff\\x00\\xben\\xb9\\xfd*\\x7f\\x9d\\xd3\\xfd\\x1e=\\xadI\\xa7\\xdb=\\xca)\\xcf\\xcc\\xdf3-Z\\x9a\\xd9\\xa1\\xff\\x00W\\x1f4\\x96\\xa5JN\\x10\\xd4\\xa4\\xf0\\xfd\\xa5\\xd4\\x7f\\xabo\\xe1Z\\xd0\\xb0\\xd1\\xfc\\x9f\\xdeHw7\\xde]\\xd4\\xeb\\x0b<\\xed\\xb8\\xb8\\xb7]\\xdf\\xde\\xadKgHwI\\xe5\\xee\\xddT\\xb4\\x95\\x99\\x0enQ\\xb2*\\xbf\\xc8\\x9e_\\x97\\xb9\\xbe\\xf2\\xb5Cy\\x7f4\\xdf\\xbc\\x92Gm\\xb5=\\xcc\\xe9\\xf3G&\\xdf\\x97\\xfb\\x95I\\xdf\\xf79\\x8d\\xfeU\\xfe\\x1a\\xa7Q#%\\x06\\xed\\xe4\";\\xbe\\xd9>\\xf3n\\xf9j@\\xfeby\\x82.V\\xa0\\xde\\xfer\\xf9r\"\\x91\\xfc4\\xa9y\\xff\\x00L\\xfe\\xef\\xdeZ4\\x1f(\\xe4I\\x1f\\xf7q\\xfc\\xbf\\xdej\\x9bz8\\xf2\\xe2\\xed\\xf7\\x9a\\xab\\xdc\\xb3\\xbb\\xaf\\x97\\xf7\\x7f\\x89j\\xc2[:#~\\xf3m\\x0eM\\x0e\\xc8\\x9a\\x18Q<\\xcf\\xde>\\xe1\\xfcU\\x1d\\xcb\\xc3\\xe4\\xb4\\x91\\xfd\\xf1\\xf7\\xaaM\\xfb\\xd3\\x11\\xf4\\xaa\\x17\\x97 n\\x8f\\xccE\\xddE\\xe5\\xd4\"\\xd75\\xac1\\xeea\\xf2[\\xfb\\xeb\\xf7\\x9a\\xa3\\x86\\xdb\\xf7\\xfee\\xbf\\xcd\\xf2\\xfc\\xcbIif\\xf3\\x7f\\xab\\xf9\\xbf\\xbc\\xb5\\xa5\\r\\x9aC\\x0b<q\\xfc\\xe7\\xf8^\\x85\\xa8\\xe5\\xee\\xf9\\x91\\xdbi\\xaf\\x1c\\x1eg\\x99\\xb9\\xdb\\xe6Z\\x990\\xb2,\\x92H\\xac\\xbb~f\\xa9\\x93m\\x9cm\\xe6}\\xdf\\xe1\\xaa\\xefr\\x89\\xbb\\x8d\\xdb\\xbf\\x86\\x9d\\xda\\xb1\\x98\\xe8f\\x86o\\xdd\\xfd\\xe3\\xf7\\x95\\x9e\\x87tt\\xf2\\xee:\\xff\\x00\\n\\xd57vp\\xb2F6\\xd5\\x897\\xa7\\xef$\\x93\\xe6\\x1f*\\xd3W\\xe5m\\xad\\xcaQ\\x8c\\x9d\\x90\\xd2\\xee\\x9bd\\xfe\\x1f\\xefTO\\xe4\\xa7\\xfa\\xc8\\xe9&\\x99\\xe1|}\\xe5\\xfe\\xea\\xd3!\\xdfr\\xed\\x1c\\x91\\xf2\\xdf\\xc5R\\xe6\\xd5\\xfc\\xc3\\x95\\x0f\\xdf\\xbf\\xfd_j\\x94Z\\xa4?\\xbc\\x8eO\\x99\\xdf\\xee\\xd0\\xf0\\xfd\\x9a?\\xdd\\xfd\\xe3\\xf7\\xa97\\xa3\\xa2\\xfe\\xf3\\x9f\\xe2\\xa3\\xb1D\\xff\\x00\\xea]d\\xf3\\x13\\x8f\\xbc\\xb4\\xafy\\x0f\\x99\\xfb\\xcb\\x8d\\xdf&\\xd5\\xd9U\\xb7\\xbc\\x8f\\xfb\\xcf\\xfb\\xea\\x96\\x18aM\\xd2I\\xf7\\x97\\xe6\\xab\\xe7\\xf3\\'\\x95\\x0b\\xbd7\\xf9\\x91\\xc9\\xba\\x9f\\x0f\\x93\\x1c\\xdf\\xc7\\xfd\\xdfj\\x8d\\x1d7\\xe6?\\x96\\x9d4\\xdb\\x1d|\\xcf\\x96\\x92\\x8bW\\xb7Rt\\xeeO\\xe4\\xddCs\\xfb\\xb1\\xb9\\xb6|\\xcbV\\xa1\\x99.ah\\xe4\\xf9[o\\xcd\\xebT\\xb7\\xba?\\x99o%K\\xf3\\xec\\xfbF\\xfe\\x7f\\x89jGf\\x10\\xefH|\\xbf\\xbb\\x8f\\xbdO\\x93f|\\xb9$\\xe1\\xbf\\x8a\\x99\\xe7\\'\\xfa\\xb9\\x0f\\xdd\\xfb\\xd5\\x1c\\xc9\\xbfl\\x91\\xc9\\xf2\\xaf\\xca\\xcbU\\xcc-;\\x16fA\\xb3\\xf7Q\\xfc\\xdf\\xc4\\xcbMw\\x7f%\\xbc\\xd8\\xf7*\\xfd\\xda\\x8e\\x19\\x9f\\xfdg\\xda6\\xa8\\xfe\\x16\\xa5\\x85\\xfc\\xc4\\xf3$\\xff\\x00uhrl\\xbb{\\xb6%I\\x9fg\\xee\\xe3\\xfe\\x0f\\x9be5\\x10\\xbf\\xef.#\\xff\\x00ujD\\xde\\x88\\xb2y[\\x7f\\xd9\\xa7[:N\\x8dq\\xe6m\\xc7\\xca\\xcc\\xd5\\xcd\\x89\\xad\\x0c5)T\\x9b\\xb2=<\\xa3*\\xc7gX\\xeax<\\x1d7:\\x95\\x1aQI]\\xb6\\xca\\xcbl\\xff\\x00,\\x9e^\\xd5\\xfe\\x1a\\x9b\\xe4\\xff\\x00Y$\\xbb\\x94\\x7f\\x17j\\xeb\\xbe\\x1f\\xf8\\xe3E\\xf0o\\x88-\\xf5{\\xef\\x08Z\\xeapG\\xf7\\xe2\\xbd\\x1b\\x8f\\xfb\\xcb\\xd8\\x1a\\xed\\xfe&~\\xd2\\xf6\\xdf\\x10R\\xde\\xcfK\\xf05\\x9e\\x9b\\xe5|\\xaa\\xe9\\x1a}\\xdf\\xee\\x8d\\xa0q_\\x1e\\xf8\\xdb-\\xf6\\xadC[;j\\x7fY\\xe4\\xbfD\\x0e1\\xc5a\\xe9K0\\xad\\x1aNj\\xedG\\xde\\xe5\\xf2~\\xf2\\xd7\\xbd\\x8f\\x0e\\xd4\\x9f\\xe4o.D]\\xeb\\xf7R\\xa2\\xf0M\\xe3\\xd9\\xde}\\x8f\\xefe\\xbe\\xf5{\\xde\\x97\\xfb8?\\xc5\\xff\\x00\\t\\xc9\\xadh\\x8b\\x00\\xbb\\x8572\\xc1\\x80\\xdf\\x88\\xaf\\x17\\xbf\\xf0N\\xb7\\xe0\\x9f\\x13\\xcd\\xa5\\xeb\\x11\\xf9sB\\xff\\x00+t\\x0f_S\\x87\\xc6\\xca\\xac#6\\x9aO\\xe7\\xb9\\xf9\\x07\\x88\\x9e\\x0c\\xe7\\xdc\\x039\\xb9\\xd4\\x8dzQ\\xdeQ\\xde?\\xe2OU\\xeb\\xb7\\x99\\xab\\xfe\\xa2\\xe5\\xbc\\xc8\\xf8j\\xcd\\xbf\\x91\\xfc\\xe6\\x92?\\x95Z\\xb5/]&\\x869#\\xed\\xf7\\xab?R\\x87\\xee\\xf9q\\xee]\\xbf7\\xadzZ\\xf6?\\x14J\\xc5(gx\\xf7y\\x9f7\\xfb4\\xb0\\xde|\\xed\\x1f\\xf7\\x7f\\x87\\xadG=\\xcb\\xbf\\xfc\\xb3\\xda\\xa3\\xefT2\\\\\\xc7\\xb3\\xcc\\xf3<\\xbd\\xdfv\\xa6\\xf0[\\x97\\xca^I!\\x9b\\xfdg\\xf0U;\\x94M\\xed\\'\\xf0\\x87\\xf9V\\x91>xd\\xf2\\xe4\\xdd\\xfe\\xd5Ey3\\xbc+\\xf6~\\x83\\xefz\\xd2Z\\xf5$t\\x170\\xbb2I\\'\\xcb\\xfc4\\xfd\\x8e\\xa9\\xfb\\xb96\\x8f\\xbd\\xb6\\xa9,\\xdb\\x11c\\xf2\\xf9\\xfe\\xf5O\\xbf\\xce\\x8d~\\xf2\\xb2\\xfd\\xea\\x13\\xb0\\x0e\\xf3\\x9d\\xe4h\\xee#\\xf9~\\xf5;b\\x7f\\xac\\xfb\\xcd\\xfa\\xd4i\\xb1\\xde\\x8d\\xf7)\\xbaH\\xe4\\xff\\x00\\x80\\xd0\\x9a\\x1bV&\\x85\\x1f~~n~\\xebS\\xe4\\x9b0\\xfd\\x9eO\\xe2\\xa4K\\xc8\\x12\\x15\\xfb@\\xf9\\x9a\\x87\\x9a\\x17-\\xfc_\\xdd\\xabu-\\xd0D)\\x02#\\xb4\\x91\\xc7\\xfc?z\\xa0\\xfb7\\x9d\\xb8\\xc9\\xf2\\x9f\\xe1\\xa9\\xfc\\xe4\\xd8\\xb1\\xc9&\\xdc\\xd3f\\x9b\\x7f\\xef-\\xe3\\xdb\\xfe\\xd5\\'$\\xc5\\xafb\\xb3\\xc34.\\xde_\\xcb\\xb7\\xe6\\xddQ%\\xcb\\xa5\\xcf\\xfa\\xce7\\xee\\xabh\\xe8\\xff\\x00\\xf2\\xd3v\\xef\\xe2\\xa8\\xa6\\x86\\x18S\\xf7\\x91\\xfc\\xed\\xe9R\\xee\\xc7\\xa7bX5\\x87B\\xd2\\\\G\\xbbw\\xf1U\\xabk\\xd4\\xbc\\x87\\xcb\\x8eH\\xbe\\xff\\x00\\xcc\\xbd\\xeb)\\xed\\xcc\\xd0\\xfe\\xef\\xe6f\\xfe*\\x814\\xd9\\xadfi#\\x93kP\\xd5\\x95\\xc1F\\xfdN\\x91\\x1e\\xd9\\xd3\\xec\\xf7\\x9f.W\\xefVe\\xe5\\x82|\\xc9o\\'\\xcd\\xf7\\xbez\\xab\\xfd\\xabs\\x0c+oq\\xfb\\xc5O\\x96\\xaf\\xd9\\xce\\x97?\\xe9\\x96\\xf2nQ\\xf7\\xaa\\x93L\\x96\\xa4\\x8c\\xf4\\x99\\xad\\xbf\\xd6G\\xb7\\x15~\\x1dB\\x19\\xad\\xbf\\xd6mz~\\xb3gmy\\xa6\\xb4\\x91\\xfc\\xae\\x9fyk+M\\x9a\\x1d\\x9e_\\x96\\xcd\\x8f\\xbc\\xd5<\\xdc\\x92\\xb3\\x06\\xb9\\xd5\\xcdI\\x93yY.d\\xdbLK\\xf4\\x87w\\xee\\xf7m\\xaa\\xefs4\\xc7\\xec\\xfe_\\xdd\\xfb\\xde\\xb4\\xc7\\xce|\\xc7\\xdc\\xbf\\xde\\xa7~\\xbd{\\x12\\x93\\x96\\x9d;\\x93L\\xe94>e\\xc4u\\x95s\\x0cN\\xf9\\xb8\\x8fo\\xf7j\\xcc\\xd78\\xfd\\xdcrm\\xfe\\xf2\\xd4\\x177>v\\xef\\xden_\\xee\\xd4OH\\xd8\\xd5)\\x19\\xf3\"[I\\xe6I\"a\\x7f\\x86\\xb54{\\xc8fo\\xdd\\x96QY\\xb7\\x96\\xc8\\x96\\xdeg\\xca\\xdf\\xc4\\xcbP\\xe8\\x97\\x8e\\xfa\\x92\\xc7\\x1cn\\xaa\\xbfv\\xa22\\xb4\\xacT\\xad(\\xde\\xe7way\\r\\xb2,q\\xc7\\xfe\\xf35M+\\xfd\\xa56[\\x9f\\xbf\\xf7\\xb6\\xd6D;\\x1e\\x15\\x8eO\\x98\\xb7\\xcc\\xca\\xdf\\xc1N\\x86\\xfcB\\x8b\\xfb\\xce\\x07\\xdd\\xae\\xb8\\xb4\\x8e\\t\\xc51u\\x87DF\\xfd\\xdf+\\xf2\\xadaMx\\x8f\\xfb\\xc9$v_\\xe2U\\xad\\x0b\\xcb\\xc7\\xba\\xfd\\xd4\\x92\\'\\xfb\\xb5\\x9f4\\x96\\xc8\\xed\\x1c\\x7f.\\xef\\xc2\\xa0\\xe9\\x83]\\x88^\\xe5\\x11\\xfc\\xbb}\\xdf\\xde\\xf7\\xa5MW\\xf7\\xcb\\xfc-\\xfc^\\xb5^\\xe7\\xcc\\xff\\x00W\\x1c\\x9bW\\x1f\\xc7U\\xae]\\xe1E\\xb8\\xfb\\xcc_mK\\x97tZ\\x8d\\xcd\\x8f\\xb6C6\\xd9.#M\\xa3\\xee\\xd6v\\xab\\xa5\\xdb\\\\\\xc2\\xd71\\xc5\\xb7w\\xf0\\xd4\\x16\\xd7\\x93$\\x8b$\\x9f0o\\xe1\\xab\\x87R\\xe5d\\x93\\xe5_\\xbbCQq\\xb97\\x94es\\x99\\xd4\\xad\\x9e\\xdb\\xf7\\x1e^\\xd6\\xfe&\\xa6i\\xb7\\xfeL\\xcb\\x1c\\x92n\\xff\\x00g\\xb5m\\xeaQCy\\xfb\\xd8\\xfee5\\xcdjV\\xd76\\xd3~\\xf6F_\\xee\\xd7;\\xe7\\xa7\\xb1\\xd3M\\xaa\\x9b\\x9b\\xf6\\xda\\xaf\\x9c\\xed\\x1c\\x91\\xff\\x00\\xc0W\\xa5[w\\x85\\x1f\\xcc\\x8eO\\xbd\\\\\\xce\\x9b~aF\\xf3>V\\xfe\\xf5h%\\xe4\\xd7;\\x7fy\\xb7w\\xdd\\xae\\x8au\\\\\\xa3f\\x8c*SNW=\\x02x\\xff\\x00}\\xfb\\xb8\\xf6\\xd5d\\xd3nn]\\xa3\\x8e>\\xb5~\\x1b[\\x9b\\xcb\\x95\\x9e?\\xe2\\xad\\xbb\\x0be\\xb3\\x85\\xa0\\x11\\xed%>j\\xe1\\xfbV=\\n\\x96Q\\xb9R\\xd3J\\x87D\\xb3X\\xfc\\xcd\\xd2\\x9f\\xbd\\xde\\x9c\\x90\\xa4\\x8e\\xc3\\xe7\\xf9V\\x9fr\\x8f\\xbf\\xf7\\x91\\xff\\x00\\xc0\\xaa\\x0f\\xf4\\x97\\xff\\x00\\x96\\x9c7\\xf1\\'\\x15\\xbbqp\\xf7]\\x8eNY\\xb9]\\x8dy\\xbc\\x98Z\\xdf\\xccu\\xff\\x00f\\xa1\\xf3\\xbc\\x9f\\xddK\\'\\xfds\\xa5\\xd93\\xcd\\xfb\\xba\\x8ekb\\x8d\\xfb\\xb1\\xc9\\xa8\\xbar\\xb3\\x1d\\xad\\x1b\\xa2;\\x97wO2?\\x95\\xb7n\\x91j\\xbc\\xf3o\\xff\\x00W\\x1f\\xc8\\xd5:G\\xe7~\\xf2I6\\x91\\xf2\\xb55\\xfe\\xcc\\xef\\xfe\\x8f\\xdb\\xf8i\\xb9\\xb5+\\x8f\\x95J6\\x18!\\xdfr\\xb2}\\xe0\\xbfz\\xa7\\x86\\xda\\x7f\\x9aO-\\x15\\x19\\xfeV\\xefK\\xb1\\x12\\x1f.=\\xd9\\xdfKg\\x1b\\xbbI\\xf6\\x8f\\x99\\x16\\xa59\\xb9\\\\\\x1aQ%t\\xd9\\x1f\\xd9\\xe3\\x8f\\x9f\\xefT\\xbf\\xf1\\xf3\\xfb\\xb8\\xf7\\xe5~\\xf2\\xd2|\\x90\\xed\\x922\\x8c?\\x89jH_\\xc9\\xbci#\\xda\\xdb\\x97\\xee\\xd5\\xdeV\\xb5\\x87\\xab\\x95\\xd8y/\\n,\\x7f\\xec\\xfc\\xd5W\\xfb\\'\\xceu\\x92\\xe2DT-\\xf2\\xee\\xe2\\xad\\\\\\xfc\\xee\\xdeg\\xdc\\xd9\\xf7j\\x9b\\xfc\\xf0\\xf9\\x91\\xc9\\xbb\\x1f/\\xcfV\\xe4\\xe3\\xa3\\xdcI\\xde\\xe3\\xe2\\xb6\\xb6\\xb3\\xdc\\xfef\\xd1\\xfc+H/\\xdd\\xaeZI7(Z\\xac\\xef&\\xcf\\xdeG\\xf3\\x7f\\x13SR\\xdam\\x9e`\\x93t\\x7fyZ\\x9b\\x9b_\\t\\x1c\\x9e\\xf5\\x8bW3A\\xe4\\xb7\\x99#\\xfc\\xdf\\xc3\\xd6\\xa1\\x85\\xe1\\xdf\\xfb\\xb8\\xf7\\x7fu\\xaaHA}\\xbfh\\x8d\\xfeZ\\x99\\x16\\xdb\\xce\\xdf\\x1c{\\x87\\xdej9\\xb9\\nqL\\x85\\x12\\x17F\\xf3:\\xff\\x00\\n\\xd3&y\\x9d?\\xd2?\\xf1\\xca\\x91\\xbe\\xff\\x00\\xfb?\\xc3L\\xde\\xf0\\xc2\\xd1\\xfc\\x9f\\xf0*\\x8ef\\xf7D\\x88aGuH\\xff\\x00\\x8d\\xbe\\xedI5\\xb2B\\x8d,r\\xfc\\xff\\x00\\xc2\\xb5\\x0c(\\xef\\xb7\\xcb\\xf9\\xb1V_{\\xa2\\xf9\\x9f7\\xf7Z\\xaf\\x9d\\x15\\xccS\\x99\\xeedO\\xde\\x7f\\xc0i\\xc9\\x94+\\xe5\\xfc\\xdb~\\xf2\\xd3\\xf7\\xcd\\xbd\\xa3\\x93\\xfe\\xfa\\xa7\\xc3\\x0b\\xa3\\xb7\\x97\\x1ae\\xa9s\\xf2\\xc1\\tY\\x8fD\\xf3?y \\xfb\\xab\\xf7i\\x12\\x17t\\xdf\\xfc?\\xc4\\xbd\\xe96y.\\xd2I\\x1f\\xfc\\tzS\\xde\\xe6i\\x93\\xfd^\\xd5_\\xbdM5-\\xfa\\x88bl\\xf9d\\x96=\\xbf?\\xca\\xb4\\xf7\\x85&\\x7f6/\\xe1\\xa1\\x116,\\x92IC\\xcc\\x88\\xed\\x1b\\xfc\\xbf%\\'&\\x87\\x14\\x9fAawt\\xf3#\\x14\\xc3\\xbf\\xe6\\x92/\\xe1z\\x8f\\xedO\\n/\\x99\\xff\\x00\\x01\\xa9\\x92dy\\xbe\\xcf$\\x9bh\\xbb\\xbd\\x87\\xca\\t\\xfb\\xe9\\x9aK\\x8f\\x96\\xa4\\xfb7\\x93\\xbaO5>e\\xfa\\xd3\\x9ed\\xff\\x00W\\x1a&?\\x85\\xaa4\\x8d\\xf7\\xff\\x00\\xab\\xeb\\xfc4)_\\xa9:v\\x1b\\xf2F?y\\xff\\x00|\\xd4\\xe9\\xbbz\\x98\\xe3\\xf9~\\xf5B\\xeb\\xfb\\xef.8\\xea\\xc4.\\xe92\\xc9$\\x7fw\\xee\\xad\\x1c\\xcf\\x9a\\xe5F6\\x8d\\xac>\\xe6m\\x8e\\xb2y\\\\l\\xf9\\x96\\x96\\x0f\\xdf?\\x97\\xd9~j\\x82m\\xfeT\\x91\\xf9\\x7f1\\xfb\\xabO\\xb0\\xbc\\x86\\x17o\\xb4|\\xdfyv\\xf4\\xaf\\xcf\\xf8\\xef\\x19Z\\x18\\x08\\xd2\\x83\\xd2OS\\xfb;\\xe8y\\x90e\\xd8\\xce\\'\\xc5\\xe6x\\x84\\x9c\\xe8\\xc1(y9=_\\xad\\x95\\x8e\\xc7\\xc0\\x7f\\x0b\\xbcS\\xe3\\xc4\\xb8\\xbc\\xd0\\xb4\\xdf:+U\\xdd1n\\x07\\xd2\\xb05X$\\xd3\\xafe\\xb5\\x96?-\\xa3\\x90\\x86^\\xb5\\xa7\\xe1o\\x8b\\x1e+\\xf0v\\x9ds\\xa5\\xf8\\x7fU{x.Wl\\xaa\\xb5\\xca\\xea\\xba\\xbd\\xcd\\xec\\xf2]\\xcf!f\\x93\\x96j\\xfc~\\x8d<K\\xae\\xdc\\xad\\xcb\\xd3\\xb9\\xfe\\x86,F.\\x9e*\\xa4\\xab8\\xbazr\\xda\\xf7\\xf3\\xbfO\\xb8\\xf5O\\x82_\\xb4\\x9d\\x97\\xc2\\xa9d\\x87W\\xb4g\\x89\\xd7j\\xcbo&\\xc9\\x13\\xe8k\\x9f\\xf8\\xa5\\xf1G\\xc2\\xbe?\\xd5VM\"K\\x86\\x9ef\\x92Y\\xa6\\x9f\\xab\\xb337\\x7fj\\xf2mJ\\xfe\\x18\\xe4\\xcc\\x9dk.\\xcf[\\xd9\\xaeC$Rto\\x9a\\xbfS\\xc8\\xf3\\xccw\\xb1\\x8d\\t\\xd9\\xa5ki\\xa9\\xf8\\x8f\\x88\\x99~K\\x9aaq\\x1e\\xda\\n\\xf3\\x8b\\x8b\\xd7}:\\x9e\\xa1gs\\xbd<\\xb8\\xe4\\xda\\x7f\\xbbN\\x99&\\xb9\\x99\\xa4\\x8f\\xe5\\n\\xbf7\\xade\\xe9\\x9a\\x95\\xab\\xed\\x8e;\\x85f\\xfc\\xcdol\\x86\\xe6\\xcdn#}\\xae\\x9fz\\xbfO\\xc3\\xb9J\\x9a\\xbe\\x97G\\xf97\\x99\\xd1\\x8e\\x1b0\\xabF?fM~&$\\xd6\\xd2#\\xb7\\x97\"m\\xfe*\\xc8\\xd4\\xa1\\t\\xb6H\\xfe\\xea\\xd6\\x95\\xff\\x00\\xc8\\xf2E\\xfcM\\xf7Z\\xb3\\xe6\\xb9\\x85\\xff\\x00\\xd1\\xbe\\xee\\xdf\\xe2\\xaa\\x9d\\xb9\\xacrA\\xbe\\xc3\\xec&\\xb6\\xde\\xdfh\\x91\\xd5J\\x7f\\xe3\\xd4\\xdf9\\x11\\x1a\\xde?\\x99\\x7f\\xbdU\\xdd>O2)7|\\xf4\\xe7O\\x9d~\\xff\\x00\\xf4\\xa8\\xd3\\xe2\\xb9W\\x1a\\xee\\x86o3\\xccv\\xa9-\\xaec\\xd8\\xdf\\xdf\\xa4t\\x87\\xce\\xfd\\xdc\\x9bX\\xfd\\xe5\\xaa\\xc9\\x1c\\x893I\\xf7\\x9a\\x94\\x9f`\\xbf\\x91\\xa1\\xbd\\xfeY<\\xbd\\xafO\\x98\\xa2\"\\xf9\\x92\\xeeS\\xf7\\x96\\xa1\\xb6tt\\xf3?\\x88S]\\x12i?w\\x1b\\xe7\\xefUE\\xa8\\xc6\\xed\\x19\\xdd\\x93M<)\\xb7\\xcb\\xf9G\\xf7^\\x9b\\r\\xd2;\\xff\\x00\\xac\\xe1\\x93\\xefT3\\xdb\\x04v\\xf3*$O\\'m\\xbc\\x9fw\\xf8Z\\xab\\x9d\\x0f\\x94\\xb56\\xc7\\xfd\\xde7\\x7fv\\xa3\\xb9w\\xf2V?/\\x81R:C\\xe4\\xaf\\x97\\'5^gO\\x9b\\xf8\\xb6\\xfd\\xea\\x13lMX\\x92k\\xc4K?\\xb3\\xecF_\\xbc\\xad\\xde\\xa0\\xb3\\x99&\\xff\\x00Y\\x1e\\xea\\xaf\\xe7$\\xdf\\xeb>P~\\xea\\xd2\\xfd\\x9aM\\x8b\\'\\x99\\xb47\\xf7*\\x1d\\xe3\\xbb\\x0b)\\x16\\x9ed\\x85\\xd6I$\\xe3\\xfd\\x9a\\xaf\\xf6\\xcf:_\\xfd\\x05j\\xb3\\xdc\\xa2L\\xd1\\xc7&\\xe3\\xfc4\\x9fi\\x99\\x11\\xa41\\xed\\xfe\\xed7S\\x966\\x1b\\x8d\\xc9\\xdeo\\x9f\\xcc\\xfb\\xbf\\xec\\xd6\\x97\\x87\\xad\\x9d<\\xcc\\xc9\\xf2\\xban\\xda\\xf5\\x88\\x93|\\xeb\\xfc?\\xddj\\xde\\xb3/%\\x9c?\\xbb\\xdb\\xfd\\xe7\\xaa\\xa4\\x9d\\xeegU\\xfb\\xb6&\\xd6\\x1e\\x1bk\\x0f\\xb3\\xdb\\xed\\xc3}\\xe6\\xac[4\\xf2S\\xf7rp\\xcf\\xf8U\\xfdbh\\xe6E\\x8e(\\xf7\\x1a\\xcc\\xb6K\\x98di$\\x8fo\\xf7i\\xcaM\\xee\\x14\\xe2\\x94n]\\xf3\\xa4G\\xf3<\\xc4\\xff\\x00i\\xaa4\\xbc\\x8e\\xe5\\xe4\\x8eD\\x7f\\x97\\xee\\xb5B\\x97\\x8f3\\xb7\\x99\\x1e\\xd0>\\xf3R\\x07\\xfb\\xbe_\\xcd\\xbb\\xee\\xd6Ro\\xb1\\xa71\\r\\xe2L\\xf34\\x9fu?\\x8a\\xa8\\xcdr\\x88\\xff\\x00\\xc7\\xb1\\xbe\\xedj;\\xbf\\xcbo\\'\\xcc\\x17\\xf8\\xab>\\xfey\\xbf\\xd5\\xfd\\x9d8\\xfe*\\x1c\\xd2\\xf7\\x8bJ\\xe3R\\xf1\\xee\\x93\\xcb\\x92?\\x93\\xf8ia\\x7f%\\xdaH\\xe3\\xa8R\\xf1\\xd2%\\x8eX\\xe9\\xf0\\xba&\\xd7\\x92M\\xd5\\t\\xf2\\xcb\\x9b\\xa08\\\\\\xd2\\xb3\\xb9y\\x8a\\xc9\\xe6m;*\\xd3\\xbd\\xb2\\x7f\\xac\\x91\\x9b?\\xc3\\xda\\xb2Sc\\xcd\\xe6\\xc7\\xf2\\xa8\\xfe\\x1a\\xb8\\x92oF\\x92O\\x97?v\\xb7\\x8c\\xb61\\x94\\x13\\x0b\\xc8a\\xfd\\xdd\\xc7\\x99\\xf2\\xfd\\xea\\xa1sy\\r\\xca1\\x8e?\\x98~u6\\xaa\\xef\\xe5\\xf9\\x96\\xf2n\\xfe\\xef\\xa5gOl\\xe8\\xeam\\xa3\\xdd\\xbb\\xefSq\\xe5M\\xa1D\\x95\\xdf{\\xac\\x86M\\xd9\\xfe\\x1a\\x8e\\xe7\\xe7\\x87\\xcc\\x92D\\xff\\x00z\\xa2w\\xf2fh\\xfc\\xbeW\\xefTi\\xe4\\xfc\\xb1\\xbc\\x9f+\\x7f\\ra\\xce\\xbd\\xa1\\xb5\\x90\\x8e\\xe97\\x1ef\\xd2\\x89\\xf2\\xadB\\xf7\\xe9\\x0b\\xb4r|\\xdf\\xec\\xd5\\x87Km\\xfeg\\x99\\xf3}\\xd5\\xac\\xbb\\xcf/{~\\xf3s=\\r\\xdb\\xe1\\x08\\xea^\\x87R/\\xfe\\xae-\\xb9o\\xbbQ\\xdf\\xe3RF\\xb7\\xff\\x00\\x96\\xab\\xfcU\\x96\\xf3$.\\xbf\\xbc\\xf9\\xaa{=N\\x14\\xdd%\\xc7\\xcdG\\xb4}\\x8b\\xe4fby\\xf0\\xbf\\xd9\\xee>\\\\\\x7f\\x15Y{\\xab\\x97\\xdb\\x1c{>J}\\xfaCs2\\xc9$\\x7f\\xee\\xd6{\\xbc\\xd6\\xd3y\\x91\\x8f\\x94}\\xea\\x7f\\x04\\x94\\x92\\xd3\\xd05\\x96\\x97\\xd4\\xf7\\xfb\\x0b?%<\\xcf.\\xac\\xb6\\xf6E\\x92Y6\\xff\\x00\\xb5Z\\xbe\\x1c\\xf0\\xde\\xb1\\xe2\\xab\\xcb}\\x1fG\\xd2\\xee.\\xae\\xe7uHm\\xedc23\\xb1\\xfe\\x15\\x0b\\xc9\\xaf\\xb2\\xbfg\\x9f\\xf8\"o\\xc7\\xdf\\x8a\\x9am\\xae\\xb9\\xf1\\x0fW\\xb3\\xf0\\xb5\\xa4\\xfb\\\\[I\\x01\\x9e\\xe1\\x15\\xbf\\xbc\\x03\\x00\\x0f\\xe3_/\\x99q\\x16Y\\x94\\xc6\\xf8\\x9a\\x89~o\\xe4}&\\x0f!\\xc6\\xe2\\xe9{D\\x94a\\xdeN\\xcb\\xfe\\x0f\\xa2\\xbb\\xf2> {9\\xa7U\\xf2\\xfel\\xd476\\xcf\\nl\\xff\\x00k\\xe6\\xdd_\\xad\\x16\\xdf\\xf0o\\xf7\\xc3\\x98t\\xf6\\x83\\xfe\\x17f\\xb7\\xe7\\xff\\x00yl`\\xf2\\xff\\x00,g\\xf5\\xaf%\\xf8\\xd3\\xff\\x00\\x04\"\\xf8\\xb5\\xe1[;\\x8dS\\xe1\\xbf\\x8f,5\\xed\\x88\\xcc\\xb6w\\x10\\x1bi_\\xfd\\x91\\xcb)?\\x88\\xaf+\\x0f\\xc7\\xfc?\\x88\\xa9\\xca\\xa6\\xd7\\xaaf\\xb3\\xc8#\\xcb\\xcbJ\\xbc$\\xfb]\\xaf\\xba\\xe9\\x1f\\x9d\\x0f\\xbd\\xdd\\xa4\\xf2\\xf6\\xe3\\xe5Z\\x81\\xe3\\x0e\\xfe\\\\\\x9f/\\xfbU\\xe8_\\x16\\xbe\\x03\\xfcN\\xf8-\\xe2\\x16\\xf0\\xe7\\xc4\\x0f\\x07\\xdf\\xe9w?7\\xee\\xee\\xa0\\xc0}\\xbf\\xdcn\\x8e>\\x84\\xd7\\x112~\\xfb\\xf7v\\xfd>\\xf3W\\xd5Q\\xc4\\xd1\\xc4AN\\x94\\x94\\x93\\xea\\x9d\\xcf\\x17\\x11\\x83\\xadB\\xa3\\x85H\\xb4\\xd1\\x9f\\'\\xc9\\xfb\\xbf-\\x99w\\xfc\\xbb)\\x1e4\\x87l\\x9fy\\xb7\\xedj\\xb5\\xe4\\xc3\\n7\\xda$\\xda\\xcd\\xf7i\\x92B\\x90\\xed\\xff\\x00H\\xdd\\xfd\\xea\\xe9U$\\x8e>b\\xaf\\x9d\\xe4\\xbbyr\\x7f\\xc0\\xaad\\x99\\xd3\\xf7\\x92G\\xbb\\xcd\\xff\\x00\\x96\\x8bM\\x99\\xdegX\\xe3\\x8d>_\\xbdJ\\xf0\\xcc\\xe8\\xa7\\xcb\\xda\\x13\\xef-i\\xcd\\x1d<\\xc6\\xe0\\xfa\\x12\\xd9\\xbc.\\xed\\x1c\\x92\\xa2\\xff\\x00w\\xfd\\xba\\x95\\xfc\\x9d\\xeb\\xe5\\xec\\xdeW\\xee\\xd5t\\x87d-\\'\\x95\\xf7\\xbe\\xebu\\xa1<\\xe4\\x7f\\xf5{\\x8a\\xfc\\xca\\xdd\\xea\\xa0\\xd3\\xf7\\xaeg+\\x8f\\xb9\\x99#\\xb6i$\\x8fn\\xdf\\x96\\xa9\\xef\\x87g\\xda$\\xf9\\x86\\xdf\\xbbV\\x91\\x1em\\xd7\\x1ef\\xdc\\xfc\\xab\\xbf\\xadB\\xf6n\\x1dc\\xfb\\xca\\xbfz\\x857nf\\xf5\\x1ct\\xd8\\xaa\\x90\\xbe\\xfe\\xbb\\xb6\\xd5\\xc4\\xbc\\x86\\xd9<\\xb9-\\xf9\\xfd*!\\x0e\\xf9\\x9aH\\xe5\\xdb\\xfc;i\\xdeR@\\x7f\\xe3\\xe7r\\xb5G\\xb4r\\xb1n6\\x8d\\xac9?\\xbf\\x1c\\x8e\\xbf\\xec\\xd4\\xf0\\xa6\\xc2\\xbf\\xbc\\xfb\\xdfy\\xbbUm\\xe8\\xee\\xd2\\t6\\xb8\\xabP\\xectm\\x92nf\\xf9\\xb6\\xd5\\xfbD\\xad$E\\xb5\\xb1U\\xe1\\xf2]\\xbfy\\xb9\\x7f\\x86\\xa5\\xdf\\xbe6\\x8eH\\xf6\\xed\\xfe*v\\xf4t\\xf7\\xa2\\x17\\x91\\x1d\\xbc\\xc8\\xf7/\\xfb\\x15*\\xf2\\x95\\xd9n\\rF\\xe3-\\x91\\xdd\\xf3\\xe5\\xff\\x00\\xbbR}\\x9b\\xccF\\x8eI6\\xe7\\xee\\xaa\\xd5\\x88\\\\\\xff\\x00\\xab\\xfb\\xbb~jd\\xd3%\\xb24\\x91\\xeeb\\xdf\\xc5W\\x16\\x8c\\xee\\xcaS\\xec\\x81?y\\xd5\\x93\\xf8\\xaa\\xbay\\xa8\\xfe\\\\\\x92\\xfc\\xad\\xfc5m\\xe6\\xf3\\x9f\\xfd n,\\x9fv\\x9b\\xe4\\xdb\\x7f\\xcf=\\xc7\\xee\\xd2\\xb4\\x85\\xcaGg\\x0b\\xbe\\xe8\\xe3\\xb8\\xf9[\\xe6\\xda\\xf4\\xf9Rm\\xed\\'\\xf7\\x12\\xa6K\\r\\x96\\xff\\x00\\xbb\\x93k\\xff\\x00\\x15C\\xe7;\\xbby\\x83\\x80\\x94]\\xf2\\xb6\\x84\\xe3n\\x83-\\xae`\\x98\\xb4q\\x9f\\xf7\\x95\\xa9\\xfeJ;\\xa8\\xb8\\xfb\\xcb\\xf7jk=+\\xceF\\xb8\\xf2\\x87\\xfc\\x06\\xa4\\xb9\\xb6\\xfd\\xcby\\x91\\xed\\xf9\\xbeV\\xa1I\\xa8\\xdcE)\\xac\\x1d\\xef?w\\'\\xfb[^\\x8bm\\x8f?\\x97%\\xbe\\xd2\\x9f\\xc5M{\\x97\\xfbz\\x88\\xfe\\xe8\\xabfko9d\\x92>O\\xdd\\xd9G\\xb4\\xfb\\xcd9\\x06\\xa4O\\xfe\\xef\\xf7\\xa9\\xe9\\xb3z\\xc9\\x9d\\xb5$8}\\xde\\\\{qM\\xfb;\\xbb\\xb4rH\\x8d\\xfd\\xda\\x9e\\x7f2\\x949\\xa5dI2B\\xf3-\\xc7\\xf0\\x97\\xf9j\\xe40L\\xe9\\xe6I\\x1f\\xcd\\xfc;\\xea_\\x06x\\'\\xc6\\x1f\\x10\\xbcI\\x0f\\x85<\\x0f\\xe1\\xbb\\xddZ\\xfe\\xe3\\xfdM\\x9d\\x84\\x06Y?\\xf1\\xdf\\xba=\\xcf\\x1e\\xf5\\xf4\\xaf\\x80\\xbf\\xe0\\x96\\xff\\x00\\xb5\\x0f\\x8b\\xa3\\x83M\\xd4\\xac4\\xbd.\\xe2p\\xbeU\\x9c\\xf7M$\\xa9\\xfe\\xf2\\xa0 ~u\\x9b\\xaf\\x07+\\\\\\xf7\\xb2\\xde\\x1d\\xcd\\xb3\\x08\\xf3\\xd0\\xa6\\xdc{\\xbd\\x17\\xde\\xec\\xb4>_\\x9a\\xd9\\xdf\\xf7r\\xc7\\\\\\xed\\xcc\\xef\\xa6\\xear[\\xc9\\xfd\\xfd\\xcb_~\\xf8\\xb3\\xfe\\x08e\\xfbb\\xe9:\\x03j\\xbaV\\xa9\\xe1\\xcdBx\\xe2\\xdc\\xb6\\xa9w4M\\xfe\\xee\\xe6\\x8c\\x8a\\xf8s\\xf6\\x9b\\xf81\\xf1\\xbf\\xe0&\\xb6\\xda?\\xc6\\x0f\\x86z\\x96\\x83r\\x92\\xed\\x8ek\\x88\\xf3\\x14\\xdf\\xeeH\\x99W\\xfag#\\xb8\\x15\\xf3\\xfcE\\x80\\x8ee\\x85\\xe5KU\\xaa?l\\xf0W\\x89\\xb3\\x0f\\x0e\\xb8\\x91\\xd7\\xafiP\\xa9\\xee\\xcf\\x95\\xa9(\\xf6n\\xdd\\xbb\\x99\\x0f\\xaa\\xc3\\xb3\\xef\\xd6^\\xa5\\xad\\xa2\\'\\xfa\\xca\\xe4G\\x8e\\x91\\xd3\\xcb\\x92\\xe3\\xe6_\\xbc\\xb5CR\\xf1V\\xfe\\xb2s_\\x9d\\xd3\\xc9\\xabFz\\xc4\\xfe\\xe5\\xc4\\xf8\\x8f\\x97b\\xb0j\\xa5\\n\\x89\\xa6\\xafu\\xa9\\xa5\\xae\\xf8\\x83n\\xe0\\x92\\xd6>\\x9d\\xac\\xff\\x00\\xa6\\xf9\\xb2\\xcb\\xc5a\\xeaZ\\xf4;\\xff\\x00yq\\xf3\\x1f\\xba\\xb4\\xdb\\t\\x9ef\\xff\\x00Y\\xbbs|\\xab_g\\x93d\\xb5\\'Q4\\xb4]O\\xe7\\x1f\\x12<K\\xa1\\x97\\xe0\\xeaK\\xda{\\xed5\\x15}[\\xff\\x00\\x80z\\x7f\\x85\\xef\\xa6HVKy\\x1d\\xb1\\xf7Z\\xba\\x1b\\x0f\\x13_\\xc2\\x9eg\\x98\\xec\\x85\\xeb\\x9a\\xf05\\x85\\xfa[7\\x99#\\xb0\\xadg\\xd1\\xf5)\\xaf\\x168\\xfeX\\xd5>f\\xaf\\xd2\\xa3\\xeci\\xd1J\\xfb\\x1f\\xc2\\x98\\x99\\xd5\\xaf\\x8b\\x94\\xf7rw\\xfb\\xcd\\xa8u\\x8f\\xb6;G\\xe6|\\xdf\\xc5LxS\\xfd\\\\rn\\xcb\\xeeZ\\x8fM\\xb0\\xfb\\x1b\\xf9rH\\x8d\\x9f\\xbc\\xd53\\xa4)3K\\xe9^d\\xa4\\xb9\\xdf/Sx\\xafv\\xec!\\xde\\x9bc1\\xf4\\xfb\\xadK\\xff\\x00\\x1e\\xdf\\xbc\\x90\\xd3&wG\\xfe\\xf7\\xf1+Qr\\xef4>d}\\x1b\\xe5U\\xa2\\xea{\\x12\\xd3\\x8e\\xe5[\\x98^i\\x9a\\xe29:5#\\xc30\\xdb\\'\\xdd\\xdd\\xf7\\xa9\\xfb&\\xb6\\x8f\\xcc\\x92O\\x97\\xf8\\x96\\xadD\\xff\\x00\"\\xc9\\xf2a\\x97\\xe6\\xabM\\x08\\xae\\xfb\\xf6y\\x96\\xdd)\\xe9s1\\x7f7\\xbf\\xf7\\xaa9\\x9f\\xf7\\xcd\\xce\\xd5\\xdbDn\\xe8\\x9e\\\\\\x9f\\xc5\\xf7V\\x9e\\xbd\\xc0w\\x9c&v\\x8e\\xe0p\\xcf\\xf7\\xaa)\\x9d!\\x93\\xf7\\x91\\xee\\xdf\\xf2\\xeeJjo\\xf9\\xa3\\xf4\\xa8\\xee\\x7f\\xe7\\xa4}?\\xbbJ\\xde\\xf5\\xc0\\x97\\xed\\x9b\\x13\\xca\\xf3>U\\xfb\\xadH\\x93oV\\xb8\\x93\\xa3Ugq0\\xf2\\xfe\\xeaS\\xd3\\x7f\\xcd\\x1f\\xd9\\xff\\x00w\\xf7U\\xa8\\x93\\xb5\\xec\\xf7\\x15\\x90=\\xe4\\x7f7\\x97\\x1fG\\xf9V\\xa37\\x9fzI#\\xdb\\xfe\\xcd\\x17(a+\\xfc*\\xb4F\\x12\\xf3\\xa1_\\xb9\\xf7\\xaa\\xf9\\x81+\\x15&\\x9b\\xe7_.=\\xb9z\\xb6\\x9f\\xeaZLt\\xfe*\\x85\\xe1p\\xff\\x00\\xc3\\x1a\\xff\\x00z\\x9e\\x970\\xa5\\xb7\\x97\\xfc_\\xa5d\\xdbq\\xb3\\xd0c~\\xd3\\x04h\\xbe\\\\\\x9b\\x9bv\\xe6\\xdfZ\\x89\\xaa\\xec\\xb6\\x8f\\xff\\x00\\x1d\\xacW\\x84\\xeci<\\xbam\\xbc\\xdb\\xd3\\xcb\\xf3>zp\\xa9(\\xc6\\xe4\\xb8\\xa6l=\\xc8\\xb9v\\x92H\\xddWg\\xde\\xa8f\\x9bg\\xfc\\xb4\\xfb\\xdfw\\xd2\\x92\\xd6\\xe5\\x1e\\xcf\\xcb\\xfbE\\x17\\x8e\\x9ff\\xff\\x00G\\xf9\\x8d_?\\xbb~\\x84\\x90o\\x7f1\\x7f\\xba\\xdfy\\xaaDO\\xdfy\\x9ef\\xe0\\xa9\\xf2\\xd5w\\xb9\\x0f2\\xc9\"n\\x0b\\xf7\\xb6T\\xa8\\xf6sn\\x929\\x1f\\x1f\\xc5Y\\xddr\\xd8\\xd0&t\\xcf\\x96d\\xdb\\xf2|\\xac\\x95M\\xf6>\\xd8\\xe3\\x93\\xe6\\xdb\\xf7\\xbb\\xd5\\x94Kg\\x7f29>_\\xbb\\xebT\\x1e_&\\x7f+\\xcc\\xdaO\\xdd\\xa5)^6c\\x82\\xbf\\xbc1\\xe3\\xd8\\x8a$\\x91\\xf2\\xcf\\xf3-*\\'\\xef\\xbc\\xcf3\\xe4_\\x99Z\\xa3\\x9eg\\x85\\xfc\\xbb\\x89>\\xf7\\xdd\\xa6\\xbb\\xbf\\xcb\\x1c\\x9f.k5v\\xac[m\\x17\\xb7\\xc3\\x9c}\\xd6\\xfb\\xdb\\xa9\\xf1_\\xbe\\xf6I#\\xdc\\xa7\\xef-S\\xf9\\x12f\\x92\\xe3\\xe6\\xfe\\xee\\xdad9H[\\xdd\\xbef\\xaa\\x8c\\xef\\xa7R\\x1a\\xef\\xa9q\\xe5}\\x8c#\\xfb\\xbf\\xde\\xaa\\xf3^}\\xeb\\x7f3q\\xfe\\xedC5\\xff\\x00\\xde\\x8a8\\xf6\\x8d\\x95\\x1c7(\\x8e\\xb2}\\xea\\xd9\\xcd\\xb7\\xcb\\xd0^\\xcf\\xccl\\xf70\\xa4\\xed\\xe6\\x7f\\xdfU\\x03\\xcc\\x93:\\xc9\\x17\\xf7\\xaak\\xc7\\x87\\x7f\\xef#\\xfb\\xdf\\xc5T\\xeew\\xf5\\xb7\\xf9U~\\xf3w\\xa8\\x94\\xad\\xb1\\\\\\xa4\\xdb\\xfeO/\\xefn\\xfe*\\x86a\\n\\'\\xda\\x0f\\xcdQ\\xfc\\xe8\\x8b\\x1c\\x7f1d\\xf9\\x9b\\xcc\\xe2\\x9e\\x93!F\\x8e]\\x8a\\xdfu}(\\xb6\\xc3\\x8d\\xe3\\xb3(\\xde$>b\\xf9qm\\xdd\\xf7\\xaa\\xb3\\xfe\\xe6o\\xdeH\\x9b\\x7f\\xbdW\\xaf!t\\xdd$r|\\xc6\\xa8\\\\\\xa6Qc\\x92=\\xc7\\xf8h\\xb7%\\xad\\xb0\\'q\\xef\\xbd\\xddd\\x8eM\\xdf\\xdd\\xa6\\xa3\\xfd\\xef7\\xa6\\xff\\x00\\xe3\\xa6^L\\xf0\\xc2\\xb1\\xc7\\xf2\\x93\\xf7\\x97\\xbd=&M\\x9fg\\x8e?\\xf8\\x13\\xd1\\x19\\xb9\\xe8\\xf65t\\xa0\\x9d\\xee\\x7fA?\\xf0K\\x9f\\xd8\\x03\\xc3\\xbf\\x06\\xbc#e\\xf1K\\xe2\\x16\\x8f\\x15\\xcf\\x8a\\xb5;p\\xc0\\xc8\\x99\\xfb\\x04/\\x82#\\\\\\xfd\\xd6?\\xc4\\x7f\\x0e\\x82\\xbe\\xdd\\xf1\\x16\\xa0\\x9e\\x11\\xf0\\xd3]\\xe9vo$\\x9bv\\xc4\\xaa\\x99;\\xab\\x97\\xf0}\\xf5\\xb5\\x9d\\xa41\\x95TP\\xa0{Vn\\xb5\\xfbE\\xf8SN\\xf1\\x0c\\xbe\\x0c\\xd5-\\xbc\\xd6El7_\\x94rZ\\xbf\\x8be\\x9dK=\\xcc\\xa5\\x89\\xc5T\\xf8\\xb4W\\xe9\\xdbN\\x87\\xea\\x18\\xac631\\xc6*xzm\\xc2\\x1bAl\\xa2\\xbf\\xad_R?\\x04\\xf8\\xd3\\xc7^ \\xf1\\x1cv\\xfa\\xad\\x93\\xc5\\xf7d26U\\xb6\\xf3\\xc1\\x1d9\\xfaq\\x8a\\xf5\\xaf\\xb3[\\xea,\\xb6wEw\\x91\\xd6\\xbc\\xb7F\\xf15\\x9c\\xaa\\xfa\\xc4q~\\xf2s\\xbd\\xbdQ{/\\xe5Sk?\\x13\\xeet\\xe2\\xb7\\xd1\\xc8\\xaa\\x17\\xe5m\\xa6\\xba\\xf0\\x19\\xa6\\x16\\x86\\'\\x96o\\x99-\\xf4\\xe9\\xf7-\\x8cs\\x0c\\xba\\xb66\\xbcU\\nj\\x16\\xd2\\xcb\\xb9\\xc9\\xfe\\xd9\\x9f\\xb3o\\xc3\\x7f\\x8a\\xde\\x11\\x9b\\xc2\\x1f\\x10\\xfc?\\x15\\xd5\\x9d\\xcf\\xfa\\xbb\\x85\\xe2[f\\xda\\xd8\\x967\\xea\\x8e7~=\\r~#~\\xd4\\xbf\\xb3\\x97\\x88\\x7ff\\xff\\x00\\x88\\xf7\\xde\\x0b\\xd7\"y\\xad\\x95\\x9a]/P\\xfe\\x0b\\x98\\x19\\xbeY\\x07\\xbfb;\\x1flW\\xedw\\xc4\\x1f\\x8dSx\\x8a\\xd5l\\xe4|\\xed\\xfb\\xbd\\xeb\\xe3\\x1f\\xf8*\\x1f\\x80\\xf4\\xdf\\x88\\xdf\\x05d\\xf1\\xa5\\xa5\\xba}\\xb3B\\x9d]dD\\xe7\\xca\\x7f\\x95\\xd7\\xe9\\x9d\\xa7\\xfe\\x03_\\xa8p\\xcf\\x13`\\xe9f\\x91\\xa7\\x85\\x93\\xf6S\\xe9\\xd9\\x9d\\xf8\\xbe\\x1d\\xc6T\\xc8[\\xc4/\\xdeCT\\xff\\x00C\\xf3\"dGu\\x8eO\\x99*\\xb5\\xcd\\x9c0\\xc6\\xb1\\xfd\\xe7o\\x9a\\xae\\xdc\\xc2\\xf6\\xbf\\xe8\\xf2E\\xbb\\xfb\\xcdQ\\xf9(\\x97K\\'\\x97\\xf3\\xff\\x00\\xb5_\\xb5F\\xa5\\xfa\\x9f\\x97{%\\x07\\xefnWS\\x0b\\xed\\xfd\\xdfO\\xbc\\xd4\\xb0\\xdbr\\xd7\\x11\\xc9\\xbb\\xfb\\xd5btI\\xe4Y#\\x8fo\\xf7\\xa9pQ\\xd68\\xf7\\xaa\\xfd\\xda\\xb8\\xbb\\x10\\xda^\\xe2\\xd4I\\x1d!\\xdb\\xe5\\xfc\\xdf\\'\\xddZ\\x86\\xe6\\xda\\xe4\\xbbyr|\\xbf{ru\\xab\\x89\\x08\\xbc\\x9b\\xec\\xf7\\x12y\\x7f\\xeeQs\\x0b\\xc3?\\xd9\\xe4\\xdb\\x8f\\xefUs3\\x1bZ\\xd7\\xd9\\x19\\xd3|\\xe8\\xbe_\\xcdM}\\xff\\x00\\xeb#\\xf9s\\xfc5k\\xec\\xd1\\xa1\\xf3#\\xf9v\\xd5wH`\\x9b\\xcc\\x96E\\xdc\\xd4JH\\xb8Es9td\\x06\\xcd.\\xbfy$\\x9f\\xed2\\xf4\\xa2\\xe5!C\\xfb\\xb8\\xdd\\x87\\xf0\\xff\\x00\\xb1Nv{\\x99\\x9aH\\xe3E\\xdb\\xfd\\xeaW\\xdf\\xbd\\xbe\\xebTFSEi)X\\x87\\x10\\xcf\\xfe\\x91\\x1c{s\\xf7\\xa9\\xf6\\xc8\\xef\\xba8\\xc7\\xfb\\xb4\\xc9\\xd2I\\xa4_.4]\\xb4\\xfb\\\\\\xc8\\xad\\x1f\\xde?uj\\xae\\xcd\\xa9\\xd3J7\\x1f\\xbe\\xe5\\x1d\\xad\\xe4\\xfb\\xbf\\xde\\xa9,\\xf7\\xcd\\xb7\\xcc\\x93\\xa5+\\xd8\\\\\\xf9-$C\\x9f\\xe2f\\xa7Z\\xda</\\xfb\\xc96\\xee_\\x95\\xab7^\\nI_s\\xa1`q\\x12\\x8f4`\\xda\\xf4%tKi\\xbfy\\x1e\\xd3\\xfaU7\\x99\\xf67\\x99\\xf2\\xedm\\xd4\\xfb\\x99\\xaf6,\\x7fy\\xaa\\x1f\\xb1\\xbe\\xff\\x00.I>\\xfdk\\x1a\\x91g\\x0b\\xa1R\\x9c\\xac\\xd6\\xa3\\xed\\x9d\\xe6O2O\\xbb\\xb3\\xe5\\xa7\\xe1\\x13\\xf7\\x91\\xc7\\xb8\\xd3\\x92\\x17\\x87\\xf7q\\xc7\\xbb\\x1f\\xc3Nw\\xd8\\x9e\\\\q\\xed\\xdd\\xf7Z\\x95\\xd73W\\xdc\\x99\\'(\\xdcDI\\x8a}\\xa2I7f\\x99\\xe4\\xfc\\xf9\\xd9\\xc6\\xda\\x95\\xdd\\xe1\\x7f/\\xef|\\xbb\\xb6\\xd4/\\x7f2\\xcd\\xfe\\x91\\xd3\\xfb\\xabZ\\xde\\xd4\\xf43\\x8ar\\xdc\\xb7gr\\xf9h\\xed\\xfe_\\x93\\xee\\xd2\\xff\\x00\\xae\\xdd$\\x91\\xed\\xddU\\xd2\\xe5\\xf7\\xb4\\x96\\xf1\\xed\\xcf\\xde\\xa6\\xef}\\xff\\x00\\xbbv\\xca\\xfc\\xdbjy\\xdb\\xdcV\\\\\\xd6!\\xb9Ha\\x9b\\xf7\\x7fw\\xf8Y*8f}\\xedq\\xf7v\\xfd\\xda\\xb5s5\\xb7\\xcb\\'j\\xafs\\xe4\\xba/\\xee\\xff\\x00\\xe04\\xb9\\xa0i\\x18\\xa7\\xb3.\\xd9\\xdc\\xc2\\x9b\\xa4\\xf3>o\\xe2\\xae\\x9f\\xe1\\x07\\xc2o\\x17\\xfcw\\xf8\\x95\\xa6|,\\xf8qa\\xf6\\x8dGT\\xb8\\xd8\\x8c\\xff\\x00\\xea\\xe1O\\xbc\\xf3?\\xfb\\n\\xbc\\x9f^\\x83\\x93\\\\R:7\\xee\\xed\\xe3\\xf9\\x7f\\x8a\\xbfL\\xbf\\xe0\\x83\\x7f\\x02t\\xe9-5\\xef\\x8ez\\xbd\\xba\\xb5\\xd4\\xb7\\xbf\\xd9\\xbas2gdH\\xa1\\x9d\\x97\\xea\\xed\\x83\\xfe\\xe0\\xaf74\\xc7<\\x16\\x1aR[\\xf4\\xf5=\\xfc\\x83/\\xa7\\x8d\\xc67WXA9?5\\xdb\\xe6\\xf4>\\xa7\\xfd\\x9a\\xbfb\\x7f\\x84_\\xb0\\xc7\\xc1\\x12\\xba\\x1e\\x98\\x97\\x9a\\xfd\\xe4k&\\xad\\xadN\\x8b\\xe7\\xdc\\xc9\\xb7\\x9f\\x9b\\xb0\\x1d\\x15\\x07\\x00~5\\xea\\xbf\\xb3\\x06\\x81\\x16\\xb7qs\\xe3\\xfdSKX\\xe5\\x9eV\\x10+c\\xe4Z\\xb3\\xf1^\\xe7\\xc3\\xba\\xee\\xa3o\\xe1M\\x7fkE<\\x0c6\\xf4\\xea\\xc3>\\x95\\xdfi\\xfaW\\x87\\xfc\\x13\\xe1\\x1b-7\\xc3\\xb2|\\xab\\x08fj\\xf9*9\\x8c\\xe1\\x07Q\\xbb\\xb7\\xd4\\xfb\\xbcV>tr\\x7fef\\xa7Y\\xd9YY(\\xae\\x8a\\xdd\\x0e\\x83P\\xbf\\xb2\\xf2\\xbc\\xb3\\xb3\\x15\\xe3\\xff\\x00\\xb5\\x87\\xec\\xbd\\xf0\\x87\\xf6\\x91\\xf8c\\xa8x/\\xc7\\x9e\\x13\\xb3\\xd6,\\xee o69c\\x04\\xa3ve?\\xc2\\xc3\\xa8#\\x90y\\xad\\x0f\\x13\\xf8\\xda\\x04\\xdd\\xff\\x00\\x13\\x06Z\\xe3\\xb5\\xef\\x8c3h\\xf62Aoy\\xc3\\xee\\xdd\\xbe\\xbe\\x9f\\'\\xcd\\xa9\\xd5\\x92Uz\\x9c\\x19~I\\x8e\\x85\\xaa\\xd2m4\\x7f<\\x7f\\xf0QO\\xd8\\'\\xc4\\xff\\x00\\xb2G\\xc5\\xdb\\x8f\\x0f\\xc7%\\xd4\\xda\\r\\xfc\\xb2?\\x87uo\\xf6Cs\\x13\\x9e\\x9b\\xd7\\xff\\x00\\x1e\\x1c\\x8e\\xf8\\xf9\\x9a\\xf3\\xc3\\xde*O\\xdd\\xdb\\xeb\\x8e\\xdf\\xf6\\xcf&\\xbfs\\xff\\x00\\xe0\\xa6\\xbe\\x18\\xd0~:\\xfc\\x01\\xd7-\\xef-\\xe2\\x92\\xe7L\\xff\\x00M\\xb1\\x93\\xbe\\xe4\\xeb\\x83\\xee7\\n\\xfc\\xa0\\x87\\xc1\\x96\\x16n\\xd2En\\xac\\xe3\\xe6]\\xfc\\xd7\\xbf\\x8c\\xcb\\xe9S\\xaf\\x19\\xc6\\xdc\\xb2\\xef\\xad\\x8elvs\\x8e\\xc0\\xcaQ\\xa7VQ\\xb7D\\xda\\xbf\\xf9\\x1eE\\xe1\\x8f\\x82\\xda\\xc5\\xfd\\xccz\\x86\\xb9\\xac3c\\xe6X\\xeb\\xbd\\xd2\\xbc\\x07\\xa5i\\xb3,\\x97\\x9f3/\\xdd_\\xf6\\xab\\xaa\\x99!t]\\x91\\xfc\\xdfwmT\\x9a\\xcf}\\xe3I$\\x9c\\xfd\\xe5\\xac\\xd5Z\\x94\\xe2\\xe3\\x1d\\x12\\xf2>?\\x13\\x88\\xa9\\x8d\\xaf\\xcfQ\\xb6\\xfb\\xb7s\\xb4\\xf05\\x9d\\x83\\xd9\\xfd\\x8f\\xec\\xfb\\x7f\\xba\\xd5\\xa7\\xa9B\\xf0\\xa3Go\\x1f\\xca\\x9fy\\xab/\\xc0\\x16\\xd3|\\xd2G&\\xdd\\xdf{}l\\xeb\\x17\\x8e\\x88\\xb6\\xf2\\x1e\\x95\\xa2\\x9d\\xa9^\\xe7\\x93W\\xf8\\xe793\\x84\\xfd\\xe4\\x9f3\\x7fv\\xa0\\x85\\xe6\\x99\\xdaH\\xf6md\\xf9\\xb7\\xd5\\xb9\\xbc\\x97\\x9aO2?\\xf8\\rVxv#|\\x9b\\x96\\xb3n\\xf1\\xb2\\x13\\xd2Wz\\x8ett\\xdd\\xe5\\xc9\\xd7\\xf8\\xa9\\xf0\\xba\"~\\xf2M\\xadQ\\x89\\xa6t_\\xb9\\xb7\\xf8Z\\x87GO\\xdeI\\x1e\\xed\\xc9\\xf2\\xd1u\\x1d:\\x93\\xcc1\\xfe}\\xd2<\\xbf\\xee\\xd4/#\\xf9\\x9eg\\x99\\xc7\\xf7io&\\xdf\\xb7\\xf8hG}\\xbe\\\\\\x9f6\\xdf\\xbbN\\xf3\\xe6L9I\\xa1x]?y\\xbf\\x9f\\xce\\xab\\\\\\xbalo.M\\xdb?\\x8a\\xa7\\x8fr\\x1f*O\\x95j\\xad\\xe4\\x96\\xcf\\xfb\\xb8\\xa3\\xdbM\\xc9\\xbe\\xa4\\x8a\\x9f\\x7f\\xcc\\xf36\\xee\\xf9\\xb6\\xd4Ox\\x90\\xcc\\xd2}\\xed\\xff\\x00-+\\xcc\\xff\\x00\\xbb\\x8eH\\xfa}\\xd6\\xa7=\\xb2;\\xf9\\xb2G\\xcf\\xf0\\xb5\\x1e\\xd2\\xfb\\x15\\xca2\\xe9\\xfc\\xef\\xde}\\xd0>\\xea\\xd3\\xd3Rx\\xe1X\\xfd)\\x90\\xf9\\xder\\xc7,}io\\xfc\\x9f%\\xa3\\x11\\xed\\xfe\\xebw\\xa1\\xcaH9X\\xdb\\x99\\xb7\\xba\\xc7q\\x1f\\x99\\xfd\\xdaI\\xa6\\x0b\\x1a\\xfd\\x9e4_\\xefT)\\xe7&\\xd1%N\\xe9\\xf24\\x7fy\\x8d\\t\\xb6SI\\x83\\xec\\x9b\\xf7rK\\xfe\\xf7\\xa5WH\\x127X\\xfc\\xb5\\xff\\x00f\\xa4t\\xde\\x9ed\\xb1\\xba\\xb7\\xfb})!\\x86\\x17\\x99d\\x12m\\xdb\\xf7V\\x972\\xee-A\\xeeax~\\xcc\\x9dU6\\xb2\\xd54xm\\x9f\\xfb\\xcd\\xb7\\xe5\\xab2:oj\\xa6\\xef\\xe74\\x91\\xc7\\xfc5\\x9bm\\x0e(\\x9b\\xfbW\\xc9\\xb9T\\x8f\\xe5\\x15nk\\xcbo#\\xcc\\xf36\\x93\\xf7\\xab\"dFu\\x8eI6\\xbf\\xf1T\\xce\\x9f$\\x7f\\xbcO\\x97\\xef5\\x1e\\xd2\\xd1\\xe5{\\x8f\\xd9\\xdfU\\xb1:o\\x99\\x1b\\xcb\\xfe/\\xbbS\\xdb@\\xf6\\xd0\\xfe\\xf2O\\xf7\\xab\\x17\\xc4\\x9e*\\x87\\xc3\\xdaT\\xda\\x85\\xc7\\xcb\\xf2|\\xab\\\\\\x1e\\x95\\xf1\\x9b[\\xd5u\\x0b}\\x0fC\\xd3\\xfe\\xd1;K\\xb6\\xeaiy\\x8d\\x14\\xfa\\x01\\xdf\\xf3\\xa4\\xa6\\xe3k\\x9dx|\\x15\\\\Ld\\xe2\\xd6\\x9f\\xd5\\x8fP\\x99\\xd2\\x17\\xf3-\\xe3\\xda\\xbf\\xc5U.d\\xf3\\xb6\\xfe\\xef\\xcb\\xff\\x00z\\xa6\\x85\\xdd#\\xfd\\xe4{\\x83\\'\\xdd\\xa2\\xe7\\xf7\\xc5\\x7fv\\x9b\\x97\\xf8kI5\\xcb{\\x9cQ\\xbc%fPy\\x83\\xee\\xf2\\xe3\\xff\\x00u\\xa9\\xf0\\xbc\\xce\\xeb$\\xbf0\\x1f.\\xdal\\xd6\\xdb7y{\\x15\\xda\\xa1HnQ\\xd8I&\\xd1\\xfc5\\x9av4q\\xbf\\xbc^\\x87{\\xa7\\xef6\\x7fZ\\xae\\xf72#\\xac\\x91\\xf4\\xfb\\xadM\\xf3\\x9edo2\\xe3\\xa7\\xe1P\\xefD\\xddo\\'\\xfc\\x05\\xbb\\xd5\\xc5\\xa6\\xc5/sbt\\x9d\\x1d<\\xcf3w\\xf7V\\xa2\\xb9\\xf2Sl\\x9fw\\xfd\\x94\\xa4\\x9a\\xd9\\xfe\\xcd\\xfb\\xbd\\xff\\x00\\xee\\xd4p\\xc3\\xbc\\xf9r\\xfc\\xbb~\\xf35h\\xe5\\x14\\xeeJ\\xbb\\x15.w\\xba\\x9b\\x8f\\xe2\\xfe/\\xf6j;\\x99\\x93\\x7f\\x95\\x1f\\xcd\\xbb\\xe5U\\xa8\\xa6t\\x87\\xfe\\x9a\\x7fv\\x98\\xfebm\\x928\\xd3\\x1f\\xc3Y4\\xb9\\xae\\xb4\\x1d\\x81!\\x85\\x13\\xcb2m\\x7f\\xbb\\xb5h\\x9a\\x14D\\x8e?/\\xa7\\xf1P\\xf3B\\xee\\xb2\\xf9{Y*=\\xee\\xe5\\xa4\\x8eO\\xbd\\xf7Z\\xafNk\\xc9\\x8fU\\xb1$.\\x8e\\x8d\\x1c\\x91\\xee\\r\\xf7[\\xa1\\xaa\\x97?fG\\xf3-\\xe3\\xdc\\x7f\\x86\\x9e\\xf38\\x7f63\\xbb\\xfb\\xd4\\xc7t\\x9a\\x1f\\xdd\\xc7\\xb5\\x95\\xb72\\xf7\\xa7\\xcc\\xf9\\x9bz\\x86\\x9c\\xbbjU\\x85\\xd2gi.?\\xbd\\xf2\\xfa\\xd4/\\xe7<\\xdf\\xbc\\xe8>\\xef\\xadYt\\xf3\\xbfy\\xe5\\xed\\xfe\\xf52o\\xba\\xb2G\\x1f\\x1f\\xde\\xa2INWEBM\\\\\\xfe\\x9e\\xed\\xfc}k\\x1e\\x88n\\x96\\xe5p\\xb1W\\xcd^\\x15\\xf8\\xc3\\xac\\xeb\\x7f\\x105{k\\x98\\x03$\\xd7i\\n\\x199%\\x8f\\xce\\xf8=q\\xb4{V\\x07\\xc3/\\xda\\x1e\\xff\\x00\\xe2\\'\\xc3E\\xb4\\xbb\\xb6\\x97O\\xd6>\\xcb\\xe4^\\xd8\\xddFQ\\xd2u\\\\3\\r\\xdd\\x8fQ\\xf9W\\x99|(\\xf1\\xe8\\xb1\\xf1\\x82h\\xba\\x8cS[\\xdd\\xbe\\xa5,\\xd3C\"`\\xae\\x11\\xd3\\xafO\\xe2\\xfc\\xbd\\xeb\\xfc\\xf3\\xcc2\\xfcvW\\x98bp\\x98\\x88\\xb8\\xce\\x93\\xfb\\xd6\\xba\\xfd\\xddv?\\xb5x?\\x86p\\xb8\\x9c\\xbf\\x13\\x8a\\xa2\\x94\\xd3\\x8aq\\xf4\\xbd\\xdb\\xfc\\x0f\\xb6\\xe7\\xf8\\xb24\\xed\\'\\xfb>\\t\\x16=\\x9dv\\xd7\\x19\\xad\\xfc`\\xb9\\xf3[\\xf7\\xff\\x00/\\xf1|\\xf5\\xe7\\x1a\\xb7\\x8c\\x91 k\\x8b\\xcb\\xcd\\xa0\\xfd\\xd5Z\\xf3o\\x18|M\\x85\\x1d\\xa2\\xb7\\xbcf\\xdb_+\\x87\\xc6f\\xf8\\xccJjOC\\x1c/\\x0c\\xe00\\xed\\xcakV{|\\xdf\\x15\\xed\\xed\\x97\\xc8\\xb7)\\xe6?\\xdef\\xe6\\xbc\\xe7\\xf6\\xa8\\xf1\\xb5\\x84?\\xb3\\xdf\\x8a/5K\\x85X\\x8e\\x97&\\xef\\xf7\\xbbW\\x97\\xa7\\xc4\\xb9\\xbe\\xd8\\xb2I.\\xef\\xf6k\\xc6\\xff\\x00o\\xff\\x00\\xda@\\xda\\xfc._\\x86\\xfa}\\xc2}\\xabU\\xdb\\xf6\\x85\\xf39H\\x95\\xb7~\\xa6\\xbfp\\xe0*\\x19\\x8670\\xa3BZ\\xd9\\xabt\\xb6\\xba\\xbf\\xea\\xe7\\xce\\xf1g\\xd5\\xb0YeY\\xdbK4|\\xb1y\\xf1?A\\xfbcyw\\x0f\\xf7\\xfe\\xf3\\xd5\\x9d7\\xc7\\x9aV\\xab\\xfb\\xbbI\\x17w\\xddV\\xaf(\\x92\\xda\\xe7R\\xb9co\\x1b2\\xff\\x00\\xb3\\xcdt\\x9e\\t\\xf8{\\xe3]WT\\x86=\\x1f\\xc3\\xf7\\x93\"\\xb7\\xcc\\xd1@O\\xfe\\x82+\\xfb\\ta(\\xc3\\x0f\\xbf\\xe2\\x7f-\\xbfoZ\\xbf\\xbb\\x16\\xdf\\xa1\\xe9\\t\\xb1\\xd1\\xbc\\xc96\\xb7\\xf0\\xb2t\\xa7[\\\\\\xba;y\\x7f\\xbc+[\\x9ao\\xc1\\xff\\x00\\x8a\\xee\\x91\\xc5o\\xf0\\xff\\x00Y\\x99v}\\xe4\\xd3f?\\xfb-\\\\\\x87\\xe0o\\xc5\\xa8Qn/>\\x1d\\xeb\\xd1\\xab\\xa6\\xe5f\\xd2\\xa6\\x1f\\xfb%s9\\xa5nW\\xb9\\xd1\\xf5<O74\\xa9\\xbbz3\\x9b\\xe8\\xedq\\x1c\\x9f3\\xa5E\\xbd\\xf6y\\x9eS\\xb2\\x9f\\xbd\\xbe\\xb7\\'\\xf0\\x07\\x8c\\xec7Gy\\xe1{\\xf8\\xf3\\xf2\\xaa\\xbd\\xab\\x81\\xfc\\xaa\\x8f\\xfc#\\xda\\xc4-\\xf694y~_\\xbb\\xfb\\xb3V\\xa6\\xe1\\x1b#\\x17\\x86\\xac\\xe5~G\\xf7\\x19\\xaf\\xe6:4q\\xc5\\xbbo\\xde\\xa8~\\xc0\\xbb\\xd6I$\\xdc\\xaa\\x9bY\\xaa\\xff\\x00\\xf6%\\xe2n\\xfe\\x1d\\xbf+R\\xfd\\x8f}\\xb4v\\xe6\\xdd\\xfeVe\\x91\\xbf\\xbfN.\\xf1\\xb9\\x1e\\xc5\\xc3x\\x94>\\xcdm\\x0e\\xef0?\\xcf\\xf7Yi\\x88\\x8f\\x1d\\xca\\xa7\\xde\\xcf\\xdd\\xad7\\xb3\\x1f5\\xbc\\x96\\xfbv\\xd5Y\\xa1\\xfd\\xef\\x12r\\xb5.w\\x8d\\xeel\\xa9^I[a\\xb0\\xe9\\xb1\\xbd\\xcbI$\\x7f \\xafI\\xf8\\'\\xfb7\\xf8\\xa7\\xe3&\\xa9\\x1d\\xc5\\x9d\\xbb\\xd8\\xe9;\\xfek\\xd6O\\x99\\xfdU\\x15\\xbf\\x99\\xe3\\xd35\\x8f\\xf0k\\xc0\\x1f\\xf0\\xb2\\xbc_o\\xe1\\xc9-\\x9f\\xec\\x89\\xfb\\xddA\\xb9\\x1f\\xbb\\r\\xf7s\\xfe\\xd1\\xe3\\xe9\\x9a\\xfb\\xfb\\xe1\\x17\\x82l\\xf4\\xdbK}\\'H\\x85-\\xe0\\x865\\xc2F0\\xa8\\xa2\\xbf\\x1d\\xf1+\\xc4\\n\\x9c=\\xcb\\x82\\xc1?\\xdf\\xcdo\\xfc\\xbf\\xf0{\\x1f\\xd0>\\x19\\xf8{\\x81\\xc4\\xe5\\xdf\\xdby\\xb49\\xa9\\xed\\x08=\\xa5m\\xe5.\\xf1O\\xa7W\\xf7>\\x13\\xc0\\xff\\x00\\xb1w\\xc2\\x8f\\t\\xdb,z\\x86\\x81\\x15\\xdc\\xed\\xf7\\xe4\\xba\\x1ek\\x7f\\xe3\\xdf\\xd3\\x8a\\xea5?\\xd9\\xbf\\xe0\\xdai\\xab\\x1c\\xbe\\x04\\xb2eN\\x8b\\xf6D\\xc7\\xf2\\xafr\\x8b\\xe1\\x9e\\xafg\\xe1\\xf3\\xad\\xdfi\\r\\xe4\\xba\\xe5\\x1d\\xba\\xd7\\x9cx\\xb7]m\\x1d<\\xc96\\xad\\xb9r7W\\xf3\\xedl\\xe3\\x88\\xa7_\\xdb\\xe2q\\x13w\\xd5]\\xb4\\xd7\\xfc\\x03\\xf6\\xac\\xbb\\x1f\\x0cL\\xbd\\x86\\x0e\\xd1\\x8a\\xd2\\xd1I%\\xe4\\x92>k\\xf8\\xbb\\xfb\\x1a\\xfc?\\xd6\\xadf\\xbe\\xf0\\x85\\xbbh\\xd7#\\xbc\\x04\\x98\\xbf\\x14<~U\\xf2\\xef\\x8c\\xfc\\r\\xe2\\x7f\\x01\\xebm\\xa2k\\x9aw\\x96\\xdf7\\x93p\\x9c\\xc76\\xdf\\xbd\\xb5\\xbf\\xa7Z\\xfd1\\xf0\\xde\\xa9\\xf0\\xff\\x00\\xc66Si\\xf7Z\\xb4\\tq\\xb3\\x98e\\xe0?\\xf8W\\xcb\\xdf\\xb4\\x9f\\x86<+\\x1e\\xbbq\\xe1\\xcd<\\\\<\\x12\\xb1i\\xbc\\xc8\\xf2-\\xa4\\xfe\\x16W\\xe9\\xfe\"\\xbfm\\xe1\\\\\\xfb\\x8808Jx\\x8a\\xb5\\x15j\\x0f\\xcf\\xde_\\xd7\\xa9\\xcf\\x9b\\xf8o\\x92q\\xe4j\\xe1}\\x87\\xb1\\xc6E7\\t\\xa8\\xd97\\xda]\\x1a}\\xeds\\xe5\\xef\\xb1\\xf9(\\xb7\\x1fh\\xdc\\xff\\x00\\xc4\\xbd\\xe9\\xb3y\\xc8\\xedq\\x14|7\\xfa\\xba\\xd0\\xd5t{\\xfd7R\\x9a\\xce\\xe2>am\\xbf\\'G\\xff\\x00ij\\xaf\\x93s\\xf3G\\xf6w\\xff\\x00g}~\\xe7\\x82\\xc4G\\x13B5`\\xd5\\x9a\\xb9\\xfcQ\\x9ed\\xb8\\xdc\\x8f2\\xab\\x82\\xc5A\\xc6t\\xe4\\xd3\\xf9\\x7f\\x99J@\\x88\\xeb/\\xfb\\x1f+Uty\\x9eo\\xf4\\x88\\xd5Q\\xbf\\xe5\\xa5[\\x9a\\x1f\\xbd\\x1cq\\xff\\x00\\xbd\\xba\\xaa:;\\xbf\\xd9\\x84{T\\xff\\x00\\rm\\x19C\\x9a\\xc7\\x92\\xe1\\'\\x1b\\x93$\\xdb\\x9f\\xcb\\xf3>\\xef\\xdd\\xd9O\\xf9\\xfe`\\x92me\\xf9V\\x99mm3\\xbf\\x99\\x1f\\xf76\\xd4\\xd0\\xd9\\xcc\\x8e\\xd2I\\x1b|\\xdf+S\\xf7>`\\xe9\\xd4}\\x08_\\xce(\\xb1\\xc9\\x1f\\xcd\\xff\\x00\\\\\\xea\\'W\\x99\\xff\\x00\\xd6t\\xfb\\xcbV\\xd7\\xcey\\xbe\\xcf$\\x9bw}\\xd6\\xa6\\xbc(\\xee\\xbf\\xbc\\xdc\\xcc\\xdbWc\\xd1u\"\\xa3J\\xa7b\\x0bh]&\\xf3<\\xbd\\xcb_\\xad\\x7f\\xf0E\\x8f\\x13X\\xda~\\xcc\\ti\\x17\\xcb,\\x1a\\xfd\\xe7\\x9c?\\xde`k\\xf2\\x81-\\xa6\\x85\\xfa\\xeeo\\xe1\\xaf\\xb3\\xff\\x00\\xe0\\x94\\x7f\\x1e\\x13\\xc17\\x9a\\xa7\\xc2\\xbdSTXa\\xbe\\x95ol\\xd9\\xbf\\xbd\\xb5C\\xaf\\xe4\\xaa\\x7f:\\xf0x\\x82\\x8c\\xa7\\x97\\xbbt>\\xbf\\x84\\'\\x05\\x98\\xba5tSV?O\\xfcu\\xa7\\xa7\\x89u+}~\\tb\\xdf\\x1a\\xeceo\\xe6=\\xeamK\\xc7K\\xa5\\xe9GL\\x82\\xeb!W\\x1f~\\xbc\\xe2\\xe7\\xe2+Cg\\xe6\\xc7t$\\x87o\\xdeJ\\xe5\\xf5o\\x1f\\xf9\\xd6\\xd2j7\\x93\\xb41\\xfc\\xde\\\\}\\x0b\\xff\\x00\\xb5\\xf4\\xaf\\xcd\\xe5Vn6?\\\\\\xa3\\x90\\xcat\\xe1\\n\\xcdrGc\\xa3\\xf1\\x9f\\xc4$\\x85\\x1a\\xe2\\xe2\\xe3\\xf8>\\xedxo\\xc4_\\x8cz\\xad\\xe5\\x9d\\xd4\\x9a\\\\\\x91lG\\xda\\xad,\\x9bC\\xb7\\xf7GZ\\xc2\\xf8\\xcd\\xf1_J\\xb3\\xb0\\x9b\\xcd\\xf1#.\\xef\\xe1\\xe35\\xf2W\\xc7\\xbf\\xdaY.f]\\x1f\\xc2\\xf7\\x9bm\"\\xf9c\\xdb^\\xf6D\\xa6\\xb11v:1\\xf50\\xb8l3\\xa7\\r\\xd1\\xeb?\\x12>->\\xb1\\xe0\\xfdsO\\xd7?v\\x12\\xc2_9|\\xc0\\x7f\\x85\\xbb\\xff\\x00\\x15|\\x01\\xfd\\xab\\xa2[;yz\\x86\\xe6g\\xfd\\xde\\xfa\\xf4\\x8f\\x89\\x7f\\x1ao\\x13\\xe1\\xee\\xa1\\xa5\\xdb\\xdc<\\x97W\\xa8\\xb0*\\xf5?7\\xdej\\xf9\\xc14\\xddJWh\\xe3\\xb3\\x9d\\x99~\\xee\\xc8\\xcd~\\xc14\\xb14\\xa0\\xaf\\xb1\\xf8.yV\\xa7\\xd6[\\x84[\\xb9\\xe8;\\xec\\xe6\\x99\\xa4\\x8e\\xe1\\x14\\x7f\\rR\\xb9M\\xf78\\x8eE`_\\xefW\\x16\\x96\\x1e6\\xdf\\xf6-?K\\xbc\\x9bs\\xedUX\\x1c\\x9d\\xdf\\x95{\\xaf\\xc0O\\xd8\\xb7\\xf6\\x93\\xf8\\xafg\\x1e\\xa9o\\xe15\\xd3l\\xbf\\x8a\\xf3Y\\x9c[\\xaf\\xfe=\\xcf\\xe9^n*\\x97\\xb2\\xeay\\xb8J\\x18\\x9cL\\xad\\x183\\x1b\\xc2[\\xf7\\xf9~g\\xcbZ\\xda\\xa8\\xf3\\xa0\\xcc\\x7f.?\\x8a\\xbd\\xefJ\\xff\\x00\\x82qx\\xda\\x18\\x7f\\xd0\\xfe*xQ\\xae\\x93\\xef[\\xfd\\xbb\\x1f\\xae+\\x93\\xf8\\x8d\\xfb!\\xfc{\\xf0L2I\\xa8|;\\xba\\xbc\\xb4\\x8b\\xe6\\xfbv\\x97\\x89\\xe2\\x7f\\xfb\\xe0\\x96\\xfd)Qq\\x944a\\x89\\xcb1\\xd0\\x93n\\x17\\xb7m\\x7f\\xe0\\x9e\\x1fx\\x89\\x1b\\xf9\\x9f>\\xed\\xff\\x005T\\x17\\x93$\\x9f\\xea\\xf7n\\xad\\xfdo\\xc3\\xda\\xc6\\x9by\\xf6=CK\\x9e9W\\xf8e\\x81\\xc1\\xff\\x00\\xc7\\x85f\\xbe\\x95\\xa9Ms\\xfe\\x8d\\xa7\\xca\\xdb\\xbe\\xef\\xee\\xcdK\\x92]N_\\xabW\\xfeW\\xf72\\xa4\\x0f\\xfb\\xccI\\xd1\\x7f\\x87\\xb5JeM\\x98\\x92M\\xb9\\xa9SD\\xbf\\x9b\\xf7\\x92i\\xf3\\xeeo\\xbc\\xa9\\x19\\xa1\\xf4MV\\x08VI4\\xbb\\x86\\xc7\\xf14\\x07\\xfc)\\xa9E\\xf5\\x07\\x85\\xc4\\xady\\x1d\\x8a\\xd7\\x10\\xdb:\\xac\\x89/+L\\xb6\\xd8\\x9b\\xbc\\xca\\x93\\xec\\xd7\\x8e\\xed\\x1cq\\xeds\\xff\\x00,\\xdf\\x8aG\\xb6{go2O\\xf7\\x97\\xa7\\xcdB\\x92w]Y.\\x85H\\xc6\\xee,\\x8d\\xd1\\xdd\\x1a9*\\t\\x92\\x18\\x91d\\xc6\\xe6\\xfe\\xedN\\xff\\x00\\xf4\\xc8\\xff\\x00\\xbc\\xdb\\xea\\x17Dw\\xf2\\xe4\\x91X\\xaf\\xdd_3\\x9a_\\x10\\x95*\\x8aM\\xd9\\xe9\\xe4B\\xf3lv\\x11\\xc7\\xba\\x95.S\\xc9h\\xe4\\xf9\\xbe_\\x96\\x9c\\xf6w.\\x8bqof\\xcc)\\xf0\\xe9W\\xf3\\x05\\xb6\\xb6\\xd3\\xe5b\\xff\\x00uR2MO5\\xb6\\x1f\\xb0\\xad/\\xb2\\xfe\\xe2\\xb6\\xf7/\\xe6}\\xa3o\\xfb4\\xc9\\x1e\\xe5\\xff\\x00w\\xe6\\x7f\\xc0Z\\xb4\\xbf\\xe1\\x06\\xf1<\\xcf\\xfb\\xbd\\x0e\\xf1\\x9b\\xfb\\xabj\\xe7\\xfaU\\xab/\\x84_\\x12\\xef\\xe6_\\xec\\xff\\x00\\x01\\xea\\xf3\\x16\\xf9UWN\\x90\\xff\\x00J*TP\\xebcJx<UKZ\\x0f\\xee\\x7f\\xe4cC3\\x7f\\xab\\x8f\\xfe\\x04\\xd5a\\xf7\\xec\\xf3<\\xb4\\xc9\\xfe*\\xea\\xec\\xff\\x00g\\xef\\x8e\\xd7)\\xfe\\x87\\xf0\\xaf\\xc42m\\xfe\\x1f\\xec\\xa9\\xbf\\xf8\\x8a\\xb9\\xff\\x00\\x0c\\xd9\\xf1\\xe1\\x11\\xa3\\x93\\xe1^\\xb6\\xd9\\xf9V?\\xec\\xe93\\xfc\\xaaUE\\x1d\\xeck,\\xb7\\x18\\xe3~G\\xf7\\x1c\\x15\\xcb\\xbb\\xfe\\xef\\xcc\\xdc?\\x8a\\xab\\xfd\\xb1!\\x9b\\xf7V\\xf5\\xd8_\\xfc\\x13\\xf8\\xb5\\xa5:\\xa5\\xc7\\xc3=r6_\\xbd\\xbbM\\x93\\xfc+\\x9f\\xbf\\xf8u\\xe3\\xfbi\\xbc\\xcb\\x8f\\x07\\xea*\\xa1\\xbe\\xef\\xd8d\\x07\\xf9U\\xb9F}L\\xe3\\x83\\xc5\\xc7\\xddt\\xe5\\xf73>g\\x87\\xe6\\xf2\\xff\\x00\\x8b\\xfdb\\xd5I\\x91>_\\xb3\\xc6\\xff\\x00/\\xf0\\xd6\\xf8\\xf0\\x1f\\x8c\\xef\\x11D^\\x0f\\xbf\\xf3\\x1b\\xee\\xaf\\xd9_\\xfc*x>\\x11|X\\xb9\\xff\\x00\\x8fo\\x87\\xfa\\xcb\\x1d\\xdf6\\xcd*c\\xff\\x00\\xb2T\\xde+vTpX\\xcdm\\x06\\xed\\xe4\\xce]\\xd1\\x17h\\x93\\xf8\\xbf\\x86\\x9b3\\xcdg\\x0f\\xfbM\\xfcU\\xdfC\\xfb7\\xfcu\\xbf\\xff\\x00W\\xf0\\x9f^a\\xfc?\\xf1.\\x90\\x0f\\xe5R_\\xfe\\xcb\\xbf\\x18t{\\x06\\xd7<i\\xe1;\\xdd\\x17N\\x8a\\x06f\\xbe\\xbf\\x8f\\t\\xf7Kyc\\x9c\\xe4\\xd65\\xb14\\xb0\\xf0s\\x9b\\xb2Z\\xdc\\xec\\xc2\\xe4\\xd9\\x8e6q\\x84);\\xbd\\xb4<\\x17\\xe32\\\\\\xdc\\xf8ao$\\xbc\\xf2c\\x8bw\\x97\\xfe\\xdd\\'\\xc0Km\\x1eo\\r\\xc9yof\\x8d*J\\xdb\\xa6n\\xbb\\xab\\xce\\xbe\\'\\xf8\\x9f\\xc4>-\\xf1$\\xda\\\\v\\xf3\\xaa\\t|\\xab{tC\\xfd\\xecW\\xd9\\x9f\\x02\\xbf\\xe0\\x99_\\xb4\\x9d\\xb7\\xc3}>\\xe3\\xfb\\x0e\\xc2\\xcf\\xedp-\\xc3Gu\\xaa\\xa2\\x14\\xde\\xb9\\xf9\\x8785\\xac\\xd6\\x1aXU)\\xbf\\x8bTz\\x92\\xa5\\x8e\\xc1\\xd4\\x96\\x1f\\t\\x06\\x9ct\\x97\\x9f}\\xcf:I\\xbc\\x94_2=\\xcb\\xfcKPMr\\xeb\\xfe\\xae:\\xf7{\\x9f\\xf8\\'w\\xed\\x15m\\xbaH\\xf4\\xfd:b>\\xf7\\x95\\xaa\\xa7\\xf8V&\\xb3\\xfb\\r\\xfe\\xd2\\xd6\\xc8\\xd2\\x7f\\xc2\\xb7\\x96M\\xbf\\xf3\\xebw\\x1c\\x9f\\xd4U\\xc7\\x11FKFx\\xb3\\xc9\\xf3(\\xefM\\x9e8\\xfeZ~\\xf3\\xe4\\xf9\\xe9\\x90\\xdeL\\xee\\xdel{\\xbf\\xbb^\\x81\\xaa\\xfe\\xcc\\x1f\\x1e4\\xd8\\x9aMS\\xe1~\\xb3\\x1f\\x97\\xfc+h_\\xff\\x00A\\xcda_\\xfc\"\\xf8\\x93f\\xfe\\\\\\x9e\\x03\\xd5\\x97o\\xf7\\xecd\\x07\\xf9TJ\\xa57\\xd6\\xe6\\x7fQ\\xc6\\xd3\\x97/\\xb3w\\xf49gI\\xb66#\\xda\\x19\\xea\\x17\\xb6\\x9b\\xfeZ|\\xbf\\xdd\\xae\\xa6o\\x85\\xdf\\x11R\\x0f2O\\x05\\xea\\x8b\\xf3|\\xcd\\xf6\\x191\\xfc\\xaa\\xbc?\\x0b\\xbe$;\\xb7\\x99\\xe0\\xbdQ\\x90\\x7f\\x12\\xd8\\xc9\\xfe\\x14^*WL\\x1e\\x0f\\x10\\xfe(?\\xb9\\x98\\x9b\\xe6D\\xf2\\xe4\\x93iZ\\x8c:|\\xde_\\xcc\\xdf\\xde\\xae\\x96\\x0f\\x84_\\x15\\xef\\xeeU,\\xfc\\x0f\\xac\\xb7\\xf7\\x7f\\xe2[&?\\x95\\\\\\xd3\\x7ffo\\x8f\\x1a\\xac\\x9f\\xf1/\\xf8g\\xae1\\x0f\\xf3\\x7f\\xa0\\xbf\\xf8S\\xf6\\xb4V\\xec\\x9f\\xa8c\\xaa|\\x14\\xdb\\xf9\\x1c.\\xf1\\xbd\\xa5\\x92=\\xb8\\xa8\\xfc\\xe7\\x99\\xff\\x00\\xd5\\xed?\\xc2\\xd5\\xe9\\xaf\\xfb%\\xfe\\xd1_f\\xfbD\\x9f\\t\\xf5v]\\xdf*\\xfd\\x97\\x07\\xff\\x00\\x1e\\xac{\\xff\\x00\\xd9\\xcb\\xe3=\\xb4\\xcd\\x1c\\x9f\\x0c\\xf5\\x98\\xdc|\\xcc\\xbf\\xd9\\xd2\\x7f\\x855Z\\x9c\\xb6\\x95\\xcby^>\\x95\\xb9\\xa9=|\\x8e\"\\xe6\\x07\\xff\\x00\\x8f\\x89>o\\xf6R\\x96\\x18Q\\x06d\\x93\\xfe\\x03]E\\xff\\x00\\xc1\\xcf\\x8b\\x16i\\xfe\\x91\\xe0-^<\\x7fz\\xc6O\\xf0\\xa84\\xcf\\x84\\xbf\\x11]\\xfc\\xc9<\\x0f\\xaa0o\\xbb\\xfe\\x83\\'\\xf8Q)G\\x96\\xf7&8\\\\\\\\e\\xca\\xe9\\xb6\\xfd\\x0en\\xf2\\xdb\\xfeZ\\xc7&\\xdf\\x9b\\xe6\\xa4\\x98<\\xcf\\x8f\\xba\\xdf\\xc4\\xd5\\xd9C\\xf0\\x13\\xe3\\x1d\\xfb\\xb4\\x96\\x7f\\r\\xf5\\x997|\\xaa\\xab\\xa6\\xc8G\\xf2\\xad\\x04\\xfd\\x92\\xff\\x00h{\\xebh\\xee#\\xf8g\\xab\\xaa7\\xf1=\\xa1\\x07\\xf5\\xa8\\xf6\\xb4\\xd5\\xae\\xee\\xce\\x88e\\xb8\\xca\\xba(;z3\\xcd]\\xf6?\\x97\\x84\\xdb\\xb3\\xefU[\\x97\\x99\\x8f\\x99\\x1f\\xdd\\xfe*\\xf5\\xab\\x9f\\xd8\\xe7\\xf6\\x8a\\xfb2\\xdcI\\xf0\\xafQ\\x8fr|\\xbb\\xf6|\\xff\\x00\\x86sYW\\x9f\\xb2\\xef\\xc7]5\\xff\\x00\\xd3>\\x1b\\xea\\xea\\x07\\xde\\xdbj\\\\\\x7f\\xe3\\xb5\\xba\\xabJ>\\xf71\\x8b\\xcbs\\x15+{7\\xf7\\x1fNM\\xff\\x00\\x055\\xf8\\xeb\\xaa\\xc1\\xf6?\\x12\\\\XjQ\\x86\\xdf\\x1c\\x97\\x16*$O\\xf7]0W\\xf5\\xae\\x9b\\xc0\\x7f\\xb6\\x97\\x80\\xfcU~\\xba\\x86\\xa9%\\xbe\\x9f\\xab\\x14\\xda\\xdfh\\x90)\\x7f\\xf7Ku\\xaf\\x8d\\x1f\\xed0\\xa7\\xee\\xe2ve\\xf7\\xaaw>\\x1e\\xbc\\xd7\\xa0o2\\xcd\\x98/\\xf1W\\xe4\\xdcG\\xc1\\xb9?\\x115S\\x10\\xad4\\xac\\xa4\\x9e\\xb6\\xed\\xe6\\x8f\\xd58w\\x8ds|\\x8aMR\\x95\\xe2\\xf7W\\xb5\\xcf\\xd1K\\xff\\x00\\x8d\\xff\\x00\\xdb\\x10\\xf9\\x91\\xea\\x8a\\xc8W\\xe5o2\\xb9\\x8d{\\xe2F\\x95l\\x8dq\\xa8j\\x91F\\x8b\\xf33;\\x81_\\x05[xK\\xc7V\\x0e\\xb6\\xfe\\x1f\\xf1f\\xafn\\xac\\xff\\x00*\\xfd\\xad\\xc8O\\xd6\\xafM\\xf0\\xa3\\xc7>!O\\xf8\\xaa> \\xeaR\\'\\xfc\\xf3i\\xda\\xbe3\\r\\xe1\\x06\\x1e\\x9dT\\xa1_\\xdd\\x7f\\xdd\\xd7\\xf3>\\xc6\\xa7\\x89\\x94\\x1d>gM\\xdf\\xd7C\\xe8\\xff\\x00\\x19\\xfe\\xd9\\x9f\\x0e\\xbc=\\xaa\\xae\\x97a\\xa8=\\xf3+m\\x99\\xac\\xdc|\\x8b\\xf5\\xe9\\\\\\xbe\\xb7\\xfbI\\xfc\\x1c\\xf1\\xb6\\xae\\xda\\x84\\x7f\\xb3\\xfcZ\\xa5\\xeb\\xae\\xdf\\xb5j\\x97o/\\xfe:0?\\n\\xf3\\x8f\\x0f|\\r\\xf0\\xc6\\x8f\\x0cw\\x1e[\\xcd\\xb9>Vg\\xcdv\\x1aW\\x86\\xec4\\xd8U-\\xec\\xd2=\\xbfwm~\\xb7\\xc2\\xfc9\\x94\\xf0\\xcd\\'\\x1a\\x11\\xe6\\xa8\\xf7\\x93_\\xd5\\x8f\\xcbx\\x97\\x8bq\\xf9\\xe5NYK\\x96\\x0bd\\x8e\\xbb\\xc3\\x1f\\x1e\\xf5-)\\xe3M\\x0f\\xe0\\xff\\x00\\x84\\xb4t\\x8b\\xe6\\xda\\xbaP\\x90\\xff\\x00\\xe3\\xc6\\xbdS\\xc2\\xbf\\xb7\\xff\\x00\\xc6\\xff\\x00\\x07\\xe8\\xeb\\xa7\\xe8\\xd1\\xe8\\xd6\\xe9\\xfc>V\\x95\\x18?\\xf7\\xd75\\xe1\\xb0\\xdbC\\xe7\\xb4\\x9e_\\xde\\xfe\\'\\xa8o.aGX#\\x8d\\xf8\\xf9\\x97e}4\\xab\\xd5\\xad+Kc\\xe4\\xe3\\x8b\\xc4P\\x974d\\xef\\xf9\\x9fEM\\xff\\x00\\x058\\xfd\\xa8!x\\xfe\\xcf\\xe2\\xcbx\\xff\\x00\\x85U,c\\x1f\\xd2\\xac\\xd9\\xff\\x00\\xc1V\\x7fj[7h\\xee5\\xcb\\t\\x86\\xcd\\xbbn4\\xd4\\'\\xfc?J\\xf9\\x8e\\x1b\\x98f\\rq&\\xf5+\\xf3*\\xd37\\xbb\\xc9\\xe5\\xc9#|\\xdfu\\xaa7\\xd9\\x1b,\\xcf\\x1c\\xfe\\xdb\\xfb\\xcf\\xadt\\xaf\\xf8*\\xcf\\xc6\\xfd\\x8d\\xfd\\xa9\\xa1\\xf8r\\xe8\\xb2\\xfd\\xd9t\\xe4\\x01\\xff\\x00*\\x97\\xfe\\x1e\\xa7\\xf1\\t\\x1f\\xcc\\xb8\\xf8W\\xe1y\\x8f\\xf7\\xbe\\xc2\\x05|\\x8c\\xf7)\\x0b\\xc7\\x1c\\x91\\xb4\\x85~\\xf52I\\x13{I\\x1d\\xc6\\xd7o\\xf9gC\\x8d\\xa5{\\x15\\x0c\\xd7\\x1e\\xf5U\\x1d\\xcf\\xaf\\xed\\xbf\\xe0\\xa9\\xb7\\xf7\\xee\\xdf\\xdb\\x9f\\x01\\xfc\\x1bt\\xb2|\\xb2+\\xe9@\\x1f\\xf8\\x17Zl?\\xb7\\xb7\\xc0K\\xcf2=c\\xf6G\\xf0\\xbb4\\x9f\\xeb$\\xb7\\x81#\\xff\\x00\\xd9~j\\xf9\\x05\\x15\\x11\\xfc\\xce\\xef\\xfc4y\\xce\\x91\\xf9\\x91\\xfc\\xdb\\xbf\\x85\\xa8t\\xd2\\xd8\\xd2\\x19\\xc6a\\xce\\xf9\\xe7s\\xec\\x0f\\xf8k\\x1f\\xd8\\x9e\\xff\\x00l\\x9a\\xe7\\xecw\\xa5\\xb3\\xb7\\xfa\\xcf\"D\\xff\\x00\\x0e*\\x9d\\xff\\x00\\xc7\\xaf\\xf8\\']\\xfd\\xcb^I\\xfb)\\xddF\\xdb6\\xf9i\\xaa\\x94\\x1f\\xf8\\xed|\\x92\\xf3L\\xee\\xbe_\\xcb\\x9f\\xca\\x9d\\xe7>\\xf6\\x8d\\xe3\\xdc\\xdf\\xde\\xa7\\xcb(\\xc6\\xe7U\\x1c\\xd3\\x15RIi\\xa7\\x92\\xff\\x00#\\xec\\xff\\x00\\t|@\\xf8\\r\\xe3;x\\xf5\\x7f\\x83\\x7f\\x0b\\xe2\\xf0\\xba,\\xed\\x15\\xc4*\\xfb\\xcc\\xdb1\\x86\\xcf\\xfc\\n\\xbd\\x8b\\xe1_\\x89\\xe1\\xb5-y,\\xea\\xc6\\xdd\\x95\\xde\\xdf\\xbb\\xaf\\xa8\\xfaW\\xc2?\\n<{\\xff\\x00\\x08\\x86\\x9d\\x1ce\\xfeD\\xba\\x90\\xc8\\xdd\\x07\\xcf\\xb4\\xff\\x00\\xf1U\\xea\\xd6\\x9f\\x1f-\\xed!\\xfb]\\x9d\\xfe\\xd6\\t\\xfd\\xfa\\xfeH\\xf1\\x0b-\\xcc1\\\\UZ\\xbf-\\xf5\\xb2\\xfb\\xb4?\\xd0.\\x0e\\xe19\\xe7\\x1e\\x1f\\xe0g\\x86\\xd63\\x82w\\xdf[\\xfb\\xcb\\xcb[\\x9f}\\xfcM\\xfd\\xab\\xf4\\x19<\\t\\x1e\\x8di,@\\x88\\xb6\\xf3_\\x1f|i\\xf8\\xfde\\x16\\x8dqo%\\xca\\x8f\\xde\\xb3\\'\\xabf\\xbc\\xd7X\\xfd\\xaac\\xd2\\xb4\\xf7{\\x0b\\x08\\xa6\\xbam\\xdb&o\\x98\\xa6}=+\\xc5\\xbce\\xe3\\x9do\\xc6\\xba\\x83j\\x1a\\xad\\xce\\xed\\xdfv>\\xd5\\xe6`\\xf2l\\xcf4\\xaf\\x19\\xe3\\xb4\\x8ct\\xfb\\xbc\\x8f\\xb7\\xe0o\\x08\\xa8\\xe5U\\x9c\\xaaS\\xe5\\x8d\\xefv\\xf7~\\x86\\xf6\\xaf\\xf1\\xbb\\xc5\\xb2^4\\xfa>\\xab,?7\\xfa\\xce\\x95\\x95w\\xf1C\\xc5\\x1a\\x91x\\xf5\\x8dfY\\xbc\\xdf\\xf5\\x8a\\xf2W)yx\\xb0\\xae\\xe65\\x956\\xab\\xf3\\xe6:\\xfd\\x03\\x07\\x82\\x85\\n|\\x94\\x97*\\xf2\\xd0\\xfd\\xb6\\xb6\\x1b*\\xc0\\xd3\\xe5\\x8d8\\xf3z+\\xfd\\xe7\\xd4\\x1f\\x01\\xfe>|\"\\xf0\\x07\\x81d\\xd2~,|\\x15\\xd3<]\\x15\\xcd\\xc9xn\\xee\\xa3C5\\xb2\\xed\\x03\\x1b\\x8f8\\xe3\\xf5\\xae\\xad?h\\x1f\\xf8\\'F\\xab\\xe5\\xdb\\xeb\\x9f\\xb3>\\xa5j\\xfb\\xff\\x00\\xe5\\xc2\\xf9\\x95?\\xf1\\xd3_\\x1d\\xdex\\xf3\\xfb\\x13G\\x86\\xde\\xe2=\\xc8\\xec\\xcdY\\xc9\\xf1\\x17G\\xb9\\x7f\\xde|\\xbf\\xdd\\xaf\\xd9\\xb8F\\x96&Y:\\x8c\\x95\\xd2\\xbd\\xbd\\x0f\\xf3\\x1b\\xe9\\x11\\x8b\\xa5\\x80\\xf1\"\\xb7\\xb1\\xb3RQ\\x93\\xd1n\\xd5\\xbfC\\xed9\\xbc\\x7f\\xff\\x00\\x04\\xc1wY\\xff\\x00\\xe1S\\xf8\\x8f\\xef\\xff\\x00\\xab\\xfbs\\xb7\\xfe\\x82j\\xad\\xcf\\xc6\\xcf\\xf8\\'\\x16\\x954rh\\x7f\\xb3]\\xd5\\xe1W\\xfb\\xda\\x8d\\xd7\\x98_\\xfe\\xfa\\xcf\\xe5_\\x1eY\\xf8\\x9e\\xcek\\x95\\xfb<\\x8b\\x9f\\xe1\\xab\\x93<\\xdeJ\\xdcI\\x1a\\xb0_\\xbb\\xb2\\xbe\\x91\\xd2q\\x8e\\xa9\\xa7\\xfdt?\\x08Y\\xcdg\\xf0\\xa8\\xdb\\xfc(\\xfa\\xfe\\x1f\\xdb3\\xf6?\\xd3n~\\xc7\\xa7\\xfe\\xc8z#*|\\xcb4\\xb6\\x91\\x93\\xfc\\xa9n\\x7fm\\x8f\\xd8\\xeek\\x9f\\xed\\x0b\\xcf\\xd9\\x1fH\\x9a_\\xe2\\xfd\\xc4x\\xfeU\\xf1\\xef\\xda|\\xe4\\xf3$\\x8d\\xd7\\xe4\\xa6=\\xcc)\\xf7$\\xfe\\x1f\\xbbY(Ak\\xd4\\xb7\\x9e\\xe6\\x12\\xd15oD}y\\xaa\\xfe\\xdd\\x7f\\xb3\\x1ays\\xd9\\xfe\\xc8\\xfa\\n\\xcb\\x0f\\xfa\\x9d\\xf0!\\xd9\\xfe\\xef\\x14\\xcb\\xcf\\xf8)\\x7f\\xc3\\xdb4h\\xb4\\xff\\x00\\xd9\\x9f\\xc3\\x96\\xe9\\xfc_\\xb8O\\xf0\\xaf\\x8bu/\\x10\\xbc?\\xbb\\xfb\\xbf\\xed%c\\xdf\\xea\\xb73;\\\\I\\xf3&\\xdf\\x96\\x95\\xe9F6\\xb1\\xaa\\xcd3*\\x8e\\xfc\\xd6^\\x96>\\xd8\\xbf\\xff\\x00\\x82\\x9d\\xfc=\\xbc\\xb6\\xfb>\\xa9\\xfb7\\xf8j\\xe9?\\x89|\\x84\\x03\\xff\\x00@\\xac\\xb9\\xbf\\xe0\\xa5?\\x02\\xac\\xe6\\x8fP\\xb3\\xfd\\x95\\xf4\\x1by\\xa1\\xf9\\xe3\\xb8\\xb5\\xc2:7\\xe0\\x01Z\\xf8\\xdd/!\\x91\\x17\\xcc\\xdf\\x1a\\x9a\\xc8\\xd5^=\\xed\\xe5\\xc9\\xb5\\x0f\\xdeZ\\xcaSS|\\xb66\\x86?\\x17\\xa7\\xbf\\xb1\\xfa\\r\\xe0?\\xf8(\\xd7\\x86<m`\\xda|~(\\x9fC\\xbc\\xf3[l2\\xc8\\x1d6\\xff\\x00\\rtW\\x9f\\xb5\\x17\\x86\\xff\\x00\\xb1\\xfe\\xd9\\xe2O\\x1e]_:\\xfc\\xad\\x1cN\\x11_\\xe9\\x8ek\\xf2\\xebRO:\\xd9\\xbe\\xcfp\\xea\\xdb\\xfeVN\\rcM\\xe2O\\x8b\\xba<-\\xfd\\x8f\\xe3\\x06\\x9a\\x1f\\xe1\\x86\\xeb\\x9f\\xd6\\xbcIp\\xe6\\x1au9\\xa3+|\\x8f\\xac\\xc2\\xf1\\xadzt\\x94++\\xb5\\xd4\\xfb\\xab\\xe2\\xef\\xed3g\\xacy\\x9a\\x7f\\x86\\xe3HV^$\\x99\\xe4\\xcb\\xfeg\\x9a\\xf9\\xfb\\xc6\\x7f\\x13\\xb4\\xdb?2I/\\x12G\\xfb\\xca\\xbb\\xf2k\\xe7\\xbdW\\xc6\\x1f\\x1b\\xf5Q\\xf69/\\x15s\\xf7\\x9a*\\xb3\\xe1\\xef\\x01\\xf8\\xc2c\\xf6\\xcdR\\xf1\\xa4\\x96_\\xe2\\x96Bk\\xe82\\xec\\xa2\\x85\\tZ\\xe8\\xf13n+\\xa9^\\x0f\\x91j\\xcf\\xa4>\\x1d~\\xdb7>\\x06\\xf0\\xda\\xe8v\\x7f\\x0e\\xf4\\xdb\\xa9\\x11\\xf7}\\xba\\xf173\\xff\\x00\\xbd\\xd6\\xb7m\\xbfo\\x9f\\x19\\xbd\\xcf\\xda#\\xf8\\x7f\\xa0\\xc2W\\xf8\\x92\\xd0g\\xf9W\\x86xo\\xe1\\x8d\\xfb\\xfe\\xee\\xf2\\xf3w\\xc9\\xfc\\x15\\xd7\\xe8>\\x0c\\xd3a\\x7f\\xdeG\\xe6J\\x95\\xf4r\\xc4\\xd2\\xa5\\x15\\x18\\xebn\\x87\\xc4\\xbcF:\\xa4\\x9b\\x94\\xads\\xd1o?m\\xcf\\x8c\\x1a\\xdd\\xb3[\\xe8\\xfa>\\x97\\xa7\\xbb|\\xdet\\x16#)\\xfc\\xaa\\xa5\\xb7\\xc7o\\x8c~*x\\xf4\\xbds\\xe2&\\xa5\\xb2\\xed\\xd7\\xcc\\xff\\x00K1\\xa7\\xfe;\\x8e+\\x98\\xbc\\xd3m\\xe1\\xb6\\xfd\\xdd\\xba+*\\x7f\\x05g\\xa4\\xd7/2\\xc7\\x17\\xcb\\xb6\\xbc\\xecUw[\\xd0\\xde\\x96#\\x15\\x1f\\x8aO\\xe4z)\\x9b\\xc4\\xfa\\x0e\\xa4\\xd6rk\\x12\\xf9\\xa8\\xfb\\xbc\\xc8.\\xce?\\xd9l\\xa9\\xafH\\xf07\\xedo\\xf1\\xe3\\xe1\\xed\\xb3[\\xe8~<\\xbdX\\xf6\\x7f\\xab\\x95\\xfc\\xc4\\xfc\\x8dx\\xe6\\x8f\\x1d\\xe3<r\\\\ol\\xfc\\xac\\xddkJ\\xe6\\xfd,6\\xc7q\\xd2\\x88?\\xdd\\xda;v8\\xea\\xd7\\xaa\\xab\\xf3&\\xd3\\xf5=\\xfe\\x1f\\xf8)7\\xc5k8c:\\xc7\\x83\\xfc9\\xa8L?\\xe5\\xe2]8\\x03\\xff\\x00\\x02\\xebM\\xbc\\xff\\x00\\x82\\x94\\xf8\\xdad\\xf3-\\xfe\\x17\\xf8i\\\\|\\xcc\\xdfe\\x04n\\xff\\x00w\\x1f\\xd6\\xbeg\\xd4\\xae\\xb7\\xcd\\xe6y\\x9c7\\xf0\\xd59\\xa6\\x99?\\xe5\\x96\\xd55\\x84\\xa1J\\xfb\\x1d\\xf1\\xcd\\xb3\\x15\\x1b{F}5\\xff\\x00\\x0f)\\xf8\\x8a\\x9bd\\x8f\\xc0~\\x17Y\\x7f\\xe5\\xa2\\xa6\\x9c)\\xeb\\xff\\x00\\x05)\\xf8\\x84\\xee\\xbfl\\xf8w\\xe1\\xac}\\xd6_\\xb0\\x8f\\xf0\\xaf\\x96d\\xbb\\xfd\\xe3~\\xef\\xfe\\x03S\\xa4\\xbfiO\\xe2\\xca\\xd5{:W\\xbd\\x85\\xfd\\xab\\x98^\\xfe\\xd1\\x9fO\\xbf\\xfc\\x14^\\xf1\\xff\\x00y\\xae|\\x13\\xf0\\xbd\\xd3\\xef\\xfb\\xde@\\xff\\x00\\xe2)\\xcf\\xff\\x00\\x05\\x1a\\xb3to/\\xf6\\x7f\\xf0\\xaf\\xfb_\\xb8\\x1f\\xcbe|\\xb96\\xf7\\x7f\\xde\\x7f\\x15/\\x92\\x81\\xdb\\xf7\\x9bO\\xf1o\\xa7\\xec\\xa8\\xbfPY\\xd6d\\xa3nc\\xe9\\xa8\\x7f\\xe0\\xa2\\x90\\xbf\\xfa\\xbf\\x80^\\x14X\\xcf\\xdeU\\xb4\\x1f\\xfcE%\\xcf\\xfc\\x14#J\\x9a\\x06\\x93P\\xfd\\x9d\\xfc/#\\xab|\\xad\\xe4!\\xff\\x00\\xd9+\\xe5\\xe7\\x99\\xe1\\xdb\\x1c\\x7f7\\xfb\\x94\\xe0\\xff\\x00\\xb9i<\\xc6U\\xfe%\\xac\\x9d*k\\xe2F\\x8b;\\xcc\\\\m\\xcf\\xf8#\\xe9\\xc7\\xff\\x00\\x82\\x8aL\\x85e\\xd3\\xfe\\t\\xf8^\\xdc\\x8f\\xbb\\xfe\\x82\\t\\xfeU]\\xff\\x00\\xe0\\xa4\\x9e-K\\x9f2\\xdf\\xe1\\x9f\\x86c\\xdb\\xf7W\\xec#\\xe4\\xaf\\x99ar\\xee\\xd2G\\xd3\\xfb\\xb5\\'\\x9c\\x8f\\xbb\\xf8O\\xf15W\\xb1\\xa5{\\x93\\xfd\\xb3\\x99\\xcb\\xed\\x9fJ\\xea_\\xf0S/\\x8a\\xfb\\x17\\xec~\\x13\\xf0\\xe4!\\x7f\\x89t\\xd1YW?\\xf0R\\xff\\x00\\xda\\x1efh\\xf4\\xfb\\xcd6\\xce-\\xdfv\\xde\\xc4\\x0f\\xff\\x00f\\xbex\\x98\\xf9\\xd6\\xad\\xe5\\xeflUo\\x9f\\xfdd}\\xab\\x17B\\x92\\xbe\\x85\\x7fj\\xe6_\\xf3\\xf1\\x9e\\xe7\\xa9~\\xdf\\xff\\x00\\xb4\\x9e\\xa57\\x99\\x1f\\x8f%\\x8f\\xfe\\x99\\xa2\\x0f\\x92\\x99\\x0f\\xed\\xdb\\xfbKC\\xfe\\x91\\xff\\x00\\x0b\\x12\\xe9\\xa5\\xff\\x00o\\x15\\xe1\\xff\\x00iGO/\\xcb\\xdaW\\xf8\\xaak\\t\\x8a:\\xc9$\\x95t\\xe1\\x17\\x1b[C\\tcq\\xd3\\x973\\x9b\\xb9\\xf4>\\x9b\\xff\\x00\\x05\\x14\\xfd\\xa4-\\x93\\xcc\\x93\\xc5\\x11\\\\0\\xfe\\x1b\\xab@G\\xf4\\xab\\x89\\xff\\x00\\x055\\xfd\\xa1&u\\x8eK}\\r\\x97\\xf8\\x9b\\xfb53\\xfdk\\xe7\\x04\\xbc\\xb9\\xf3\\xa4\\x8e?\\xe2\\xf9j\\x17\\xdf\\x0c\\x8d\\x1c\\x92n\\xdd\\xf7\\x99+IR\\xa5.\\x9b\\x95\\x0c\\xcb1\\x86\\xd5\\x1f\\xde}\\x1fs\\xff\\x00\\x05)\\xf8\\xebr\\xfedv\\xfa4l>\\xf3\\x7fg\\x0c\\xbf\\xebXz\\x97\\xfc\\x14w\\xf6\\x90\\xbf\\xdd\\x1c~ \\x82\\x15\\xfe\\xed\\xbd\\x88\\x1b+\\xc36\\xef\\xdd\\xe6K\\xb8\\x7f\\rWH&H\\xe4?{5\\x93\\xc3\\xc1}\\x93_\\xedl~\\xbc\\xd3z\\x9e\\xcf7\\xed\\xed\\xfbI\\xdc\\x9f.O\\x89\\x17J\\x8d\\xff\\x00,\\xd7\\x00W_\\xf0[\\xe2G\\xc4\\x8f\\xdaO\\xc6P\\xf8?\\xe2\\x87\\x8d.\\xaf4\\xd9\\xa5_:\\x1b\\x87;\\x7f\\xdd\\xef\\xd7\\xa5|\\xcfog3\\xbf\\x99,m\\xb5~j\\xdc\\xd1\\xfe(\\xeb\\x1f\\x0e\\xa3]cK\\xbc{vG\\xf9\\x9985\\xc7\\x9b\\xe58\\xac^[:t`\\xf5[\\xd9\\xd8\\xf7xc9\\xa9\\x83\\xce)\\xe2+I\\xc9E\\xfa\\xff\\x00V=\\x8b\\xe2G\\xec\\xd9\\xa0xcJ\\xb3\\xf1\\xe4~\\x1f\\xb5\\x85/5\\x19E\\x8a\\xacx?/\\xdeo\\xa7j\\xf3\\xaf\\x14|W\\xf8\\x91g\\xae\\xddh\\xf1\\xf8\\xe3QX\"\\xf9c_\\xb7I\\x8f\\xf7z\\xd6?\\xc7\\x8f\\xdb\\x93\\xc5\\x1f\\x14l</\\xf0\\xee\\xc28\\xbf\\xe2U\\x03\"\\xb5\\x94x\\xea\\xdb\\xb75`\\xcdy5\\xfc\\x8bq\\xa8I\\xf3\\xff\\x00\\xcbM\\xddk\\x8f,\\xa1\\x8a\\x8d+V\\x8b\\xb7K\\x9fC\\xc6X\\xdc\\x1dkJ\\x84\\xd3\\x9b\\xd5\\xa4n\\'\\xc5\\xaf\\x89\\x10\\xcd\\xe5\\xc7\\xe3]IS\\xee\\xb3%\\xdc\\x80\\x7f:\\xd0\\xb6\\xfd\\xa1>-h\\xee\\xb2i\\xff\\x00\\x105(\\xfeo\\xbc\\x97g?\\xce\\xb8\\xdf9>\\xcc\\xd1\\xfc\\xbej\\xfd\\xe6J\\xa5\\xf2<\\xde\\\\\\x9f\\xc2\\xdfyk\\xd9\\xe4\\x8c\\xe5v\\x8f\\xcf=\\xae&\\x10\\xd2O\\xef=Z\\xcf\\xf6\\xcc\\xfd\\xa2\\xb4\\xdf\\xdeG\\xf13Q\\xf9\\x7f\\x89\\xee\\xc9\\xae\\x87J\\xff\\x00\\x82\\x84~\\xd0\\xf6\\x1f\\xbb\\xb8\\xf1\\x82L\\x9f\\xf4\\xde\\x04?\\xd0\\xd7\\x82\\xcd\\xe7\\'\\x99\\x1f\\x97\\xb9[\\xf8\\xa9<\\x9d\\xe9\\xe5\\xff\\x00\\x11\\xad}\\x9c\\'\\x1eV\\x95\\xc8\\x86a\\x8d\\xa5=*3\\xe8+\\xcf\\xf8(\\x8f\\xc7\\xb9\\x93\\xec\\xff\\x00\\xdb\\x100?2\\xff\\x00\\xa2\\xa7\\xf4\\x15]\\xff\\x00\\xe0\\xa2\\x7f\\xb4V\\xc5\\x8e?\\x12E\\xf2\\xfd\\xd5\\xfb*f\\xbc\\x0e\\x17t\\xb9_\\xef\\xfd\\xdd\\xab\\x1eh\\x99\\xfc\\xfd\\xdef\\xec\\xad\\x0e\\x8d7\\xaaZ\\x1a\\xac\\xcf\\x1d\\x19&\\xe6\\xf5=\\xce\\xf3\\xfe\\n!\\xfbE$-\\xff\\x00\\x15\\x05\\xba\\xb3\\x7f\\xcbO\\xb2&j\\x8d\\xcf\\xfc\\x14\\x0b\\xf6\\x8d\\x9a\\x15\\xb3\\x8f\\xc6\\x8d\\x1f\\xfd4T\\x00\\xd7\\x89N\\xef\\xd6H\\xf7c\\xf8\\xaa9\\xa6\\xde\\xeb\\xe5\\xf4\\xfe%\\xac\\xde\\x16\\x84\\xa3w\\x11\\xff\\x00j\\xe6\\x0bj\\x8d\\x1e\\xa7s\\xfbd\\xfe\\xd0\\x97\\xf7-\\xf6\\xcf\\x89\\x97\\xf2\\x7fw\\xf7\\xf5r\\xcf\\xf6\\xde\\xfd\\xa1\\xec6\\x9b?\\x88\\x17R\\'\\xf7]\\xf3^53\\xa6\\xff\\x00\\xdd\\xd3f\\x99-\\x9d\\x7fx\\xea\\xc7\\xe6Z~\\xc2\\x8f5\\xf9LVa\\x8aR\\xf8\\xdd\\xfdO{\\xb9\\xfd\\xbe\\x7fh\\x18Qb\\xb8\\xf1c\\xb6\\xe5\\xca\\xb7\\x96\\x99\\xfeU\\x14\\x7f\\xf0P\\x7f\\xda\\x1d\\x1d\\xbc\\xcf\\x12\\xc1\\xb7g\\xfc\\xf0@k\\xc3\\xfe\\xd8\\xf2\\xa7\\x99\\'\\xcd\\xfe\\xd5W\\x9a\\xd9\\xdd7\\xc9\\'O\\xba\\xb4\\xa1F\\x92\\xb5\\xd6\\xe6\\xd2\\xcc\\xb1\\xff\\x00f\\xa3\\xb9\\xee3\\x7f\\xc1A\\x7fh\\xdb\\xf4\\xf2\\xe3\\xf1\\xa3B\\xa9\\xfd\\xd4\\x03\\xff\\x00A\\xac{\\xff\\x00\\xdb?\\xf6\\x87\\xd4\\xaeZI>&jQ\\x87\\xf9YRr\\x07\\xf3\\xaf!M\\xf0\\xc2\\xd4\\xa9r\\xe97\\xda2\\xad\\xfe\\xcdR\\xc3\\xd2\\xa7&\\xd2\\xfd\\t\\xfe\\xd3\\xc7\\xce6s\\x7fy\\xe9\\x17\\x9f\\xb5\\x17\\xc7\\x8f\\x9a9>$_\\xb6~\\xea\\xb4\\xe4\\xd4\\xdaW\\xedu\\xf1\\xfbM\\x9db\\x8f\\xe2\\x05\\xfe\\xd1\\xfc2\\xc9\\x91\\xff\\x00\\x8fW\\x95\\xdc\\xcd\\xe5\\xbf\\x99$\\x9b\\x7f\\xbbH\\xef2\\xba\\xc9\\xe6=\\\\(S\\xea\\x8c\\xaac\\xb1N7\\xe7\\x7fy\\xef\\xf6\\xde\\x15\\xb4\\xf2V\\xe2@\\xb8\\x7f\\xe1\\xab\\x90\\xe8\\xfal#\\xf7Vh\\xab\\xbf\\xe6d\\xe9W\\xef\\xed\\xb0\\x8d\\x19\\xf9T/\\xcbP\\xbc/\\xb1\\xa5\\x8f\\xe5\\xde\\x9f4u\\xc1\\xec\\xa1\\x0b\\xe9p\\xf6\\xf5g\\xa4\\x9d\\x91U\\r\\xb6\\xcd\\x9fcE\\xda\\xcc\\xdeg\\x97\\xcdG3\\xc34\\xcd\\xe6G\\xb5\\x0f\\xde]\\x95-\\xcc\\xe9\\xb1m\\xbc\\xbd\\xbb~m\\xdd\\x9e\\x9d\\n#\\xbby\\x92n+\\xf7V\\xb9\\xe4\\x9c\\xa5u\\xa1\\xd7\\xed\\x1a\\x8d\\x9e\\xa4\\xf6\\xd0\\xc2\\x90\\xacv\\xf1\\xa6\\xd1\\xf7V\\x98\\xf33\\xff\\x00\\xac\\x8fo\\xcf\\xf2\\xfaR\\xf9\\xaf\\xe7/\\x97\\xf7G\\xdeT\\xe2\\xa3y\\x92}\\xdfh\\x93iO\\xba\\xb5\\xb4\\\\\\xdf\\xa1\\x83p[\\x04\\xcf\\xf3\\xff\\x00\\xc7\\xca*\\xff\\x00v\\xab\\xcc\\x13\\x7f\\xda-\\xe4\\xfb\\x9f\\xdf\\xe2\\xa5t\\xdf\\xb6\\xe2\\xda\\xdbq\\x14\\xc7\\x99\\x1d<\\xbf+\\xcb?\\xa5U\\xdf5\\xc8\\xe7\\x8fb\\x14I\\xb2\\xd2}\\xd5\\x7f\\x9bm4}\\xcf0I\\xf3/\\xf1T\\xcf\\x1f\\x98\\x91\\xfd\\x9eM\\xbd\\x99\\xaa\\t\\xa7\\xfb3\\xac\\x7fg\\xdd\\x8f\\xe2\\xedZ\\xc6\\xad5\\x1b\\rs\\xbb\\r}\\xfb\\x16I$\\xdb\\x9aN]\\xd67\\xd8\\xcd\\xb3o\\xcbS=\\xe0to2\\xddU\\xb6|\\xab\\xda\\xa2\\xca;\\xaf\\xee\\xf6\\xff\\x00\\xd3J\\xa7U\\xf5V2\\x8c\\x1b\\xd8c\\xa7\\x9ax\\x8d\\xb8\\xa9\\no\\xf3$\\xfb?\\xfb4\\xe7\\xfd\\xcd\\xb7\\x99\\xe6\\xee\\x7f\\xe2\\xaa\\xafy5\\xb25\\xc5\\xc4\\x9b\\x7f\\x8bm\\'QGce\\t\\xbe\\x84\\xc8\\x88\\x8f\\xe5\\xc9\\xf7i\\xe9\\xf3\\xcf\\xe5\\xdb\\xc7\\xd7\\xef3\\xd6M\\xdf\\x88Q\\xed\\xbe\\xd1\\x1f\\xcc\\xcb\\xf7\\xb6Ve\\xcf\\x89fwY#\\x8b\\xe5\\xfe*\\xc6\\xa5x\\xf5\\xd4\\xe8\\xc3\\xd1\\xab)YhvZm\\xff\\x00\\x92\\x92i\\xf7\\x92\"\\xc2\\xe9\\xf7\\xbf\\xda\\xa2;\\x87\\t\\xb29\\xf7/\\xae\\xea\\xe1n|Csr\\x9fg\\xf3?\\x8b\\xe6\\x8f\\xbdT\\x87\\xc5\\xba\\x96\\x9ft\\xb6\\xf2H\\xec\\xad\\xf7}k\\xe0\\xb8\\x97%\\xfe\\xd0\\xad\\xf5\\x9a\\x0b\\xde\\xea\\xbb\\xdb\\xa9\\xfd\\x8f\\xf4{\\xf1\\xa2\\x87\\x06P\\xfe\\xc1\\xce\\x9f\\xfb4\\x9d\\xe1/\\xe4ot\\xfc\\x9f\\xe0z\\x04\\x92\\x00s,\\x9f\\xadR\\xbe\\xd5#\\x8d|\\xb8\\xeb\\x95\\x83\\xe2\\x05\\xad\\xe6\\xe8\\xd2\\xf1w\\x0f\\xbc\\xbd\\xe9\\xb7z\\xea8\\'\\xed\\x01T\\xfa\\xd7\\xc6\\xc7-\\xab\\tZh\\xfe\\xd9|k\\x95\\xe30\\xca\\xa6\\x0e\\xa2\\x92j\\xf7L\\xbd\\x7f\\xaa\\xbc\\x9b\\xbc\\xb9+2mO\\xc9\\xf9\\xdeZ\\xca\\xd5\\xbcS\\xa7i\\xc8\\xd3]^*\\xa8\\xee\\xcf\\\\v\\xb7\\xf1\\tu-\\xd6\\xf6\\x12|\\x9f\\xf3\\xd2\\xbe\\x8f+\\xc9q\\x18\\xda\\xaa\\x10\\x8f\\xcc\\xfc\\x87\\x8e<L\\xc9\\xf8g\\x05S\\x13\\x8a\\xaa\\xb9\\xac\\xed\\x14\\xf5o\\xa2\\xb5\\xce\\x83\\xc4>!\\x9bR\\xbf\\xf2\\xe3\\xb8\\xfd\\xca&\\xda\\xa0\\xee\\xf6\\xc9\\xf6\\x88\\xe4\\xf3\\x05f\\xe9P\\xc9y\\n\\xc9\\xe6ns[zo\\x865]cu\\xbd\\xbd\\xbb+/\\xde\\xdd\\xc0\\xaf\\xd908\\\\6[\\x82\\x8d\\x05\\xb2\\xeb\\xe6\\x7f\\x99\\xdc_\\xc4\\x18\\xde-\\xcf\\xeb\\xe6u\\xb5\\x94\\xdd\\xd5\\xfa.\\x8b~\\x85;mndu\\xfb>\\xfd\\xca\\xff\\x003W\\xa5\\xf8>\\xf2\\xe6\\xf7M\\x8eK\\x8b\\x8d\\xd8\\xfe\\x17\\xac\\x1d\\x13\\xe1\\x8b\\xdbM\\xe6\\\\I\\xe67\\xde\\xdb]=\\x9d\\x98\\xb6\\xdbmo\\x1e\\xd5\\x0b\\xf3f\\xa3\\x13Z\\x94\\xa3e\\xb9\\xf3\\xd4\\xa9\\xb8G]\\xfb\\x16o\\xfc\\x87\\x85\\xbc\\xa9\\x19O\\xf0\\xd6T\\xd2\\xba#Gq&\\xe6/Z3\\xa3\\xbd\\xb7\\xef$\\xfb\\xb5\\x9d5\\x9f\\x9c\\xff\\x00\\xbb\\x93\\xee\\xff\\x00\\x15pI\\xbe[\\xdc\\xda\\x9f,%\\xcd\\xb39\\xeb\\xff\\x009\\x1d\\xa4\\xf37\\x05jj#\\xcd\\x1b\\x7f\\n\\xa5n\\xc5\\xa0\\xbc\\xd3y\\x92GN\\x87D\\x87{G\\xfe\\xd7\\xdd\\xaeWI\\xb3\\xb3\\xdb\\xc61\\xbd\\xcc/\\'hY\\x06\\xc9\\x10\\xff\\x00\\rQ\\xbf\\xb3\\x86\\xe7\\xa4\\x7fw\\xf8k\\xb2\\x9bA\\xb5\\xd9\\x1f\\xee\\xd3\\xe5\\xfe\\x1a\\x86o\\x0fY>\\xdf.?\\xe0\\xf9\\xa9\\xfb*\\x84\\xfdf18K\\x9d*I\\x93\\xcb\\xb7\\xb7\\xdb\\xf3|\\xadQ\\xc3\\xe0\\xf9\\xa6\\x99c\\xb8\\x8f\\xe5\\xafC\\x87A\\x85\\x13\\xed?g\\xe1?\\x86\\x914\\xdf:f\\x11\\xc7\\xb6\\xb7\\xa7N\\xddL\\xeab\\\\\\x9d\\x929]+\\xc1\\xf6v\\xce\\xb1Io\\xb9\\x97\\xee\\xb6\\xca\\xd0\\x9fH\\x87g\\xee\\xed\\xf6\\xaa\\x7f\\x17z\\xd7\\x1aU\\xe4.\\xd2y{\\xbf\\xba\\xd4\\xb0\\xd8Ms3G\\xff\\x00\\x8fWTZ\\x8e\\xcc\\xe3\\x93\\x9c\\xf7 \\xd3a\\xf9\\x17\\xcb\\x8fj\\xaf\\xde\\xf5\\xab\\xd6\\xc8\\xf6\\xef\\xe6\\xc7\\x1f\\x0f\\xf7\\x96\\x9b\\r\\x9c\\xc8\\xfeg\\xfc\\x06\\x9e\\x8e\\xf0\\xa7\\x97\\x1e\\xfd\\xe2\\x93w\\x95\\xc5\\x16\\x94lT\\xbc\\xb3\\x9bcI\\xf6\\x8d\\xab\\xfd\\xda\\xa5\\nys7\\x99&\\xe6\\xdf\\xf7\\xabJk\\xc7th\\xee-\\xb7\\x1a\\xa5f\\x90\\xfd\\xbf\\xca\\x93\\xe5\\xcb\\xfd\\xda\\xc6\\xa3\\xb9\\xa4U\\xaet\\xde\\x1e\\xbct\\xb6i>\\xf6\\xc6\\xfb\\xb5s[\\xd8\\xf6q\\xdcyh\\xdf\\xc4\\xde\\xb5KD\\x86}\\xfe\\\\\\x7f*\\xb7\\xf0\\xd5\\xd4H\\xfei$\\x8fp\\x1f\\x95uS|\\xb4\\xd7\\x91\\xc4\\xfd\\xe9\\xe8sW2M\\xbf\\xfd^\\xed\\xf4\\\\\\xcc\\xe6\\x18\\xe3\\x1f\\xc3\\xf7\\x9a\\xac\\xea\\xb7\\x96\\xc9x\\xbe]\\xbe\\xd5\\xfb\\xbb\\x92\\xa8]\\x97w\\xfd\\xd3\\xfc\\xab\\xf3V5\\x1c\\xa5$\\xdfS\\xa6+\\xdd\\xb0\\xed\\xf0\\x87\\xfd\\xdf\\xcc\\xcd\\xfc4\\xd8f\\x9a\\x1b\\x96A\\x1b.\\xef\\xe2\\xa8\\x9d\\x02m\\xb8\\x8eO\\x9b\\xee\\xad2g\\x98\\x7f\\xcbO\\x9c\\xd4*\\x97\\x95\\x8a\\x957\\xbfR\\xf2N\\x9b\\xfc\\xbb\\x88\\xf75=\\xd1\\x1d\\xe4\\xfd\\xdfO\\xbbU\\xa1w\\xc3}\\xa3\\xe6\\x1b>V\\xa7\\xc3u\\x1b\\xc2\\xd6\\xf2I\\xb7w\\xf1WJ\\x95\\xfa\\x9c\\xce6\\xe8A6\\xfbg\\xf3$\\x8f\\xe5?v\\x9a\\xeeQ\\xfc\\xab\\x8d\\xdf7\\xdd\\xa9f\\xd8\\x90\\xac\\x7fx\\xff\\x00\\r\\x17\\x89\\xbd?y\\x1f\\xcc\\xbf6\\xde\\xf55\\x1cXF\\x12\\x8e\\xe8\\x8bg\\x93\\xb7\\xf8wTh\\xe9\\xf3E\\xe6n\\xdc\\xf5_\\xe7wid\\x90\\xe1(GD\\x9b\\xf7\\x9f*\\xff\\x00\\r(\\x85\\xa5\\xa9q\\xf7\\xa24\\x92H\\x8a\\xa3\\xfb\\x95G\\xceI\\xb7I\\xe6t\\xa97\\xbc\\xcf\\xe5\\xf9{P\\xd4!\\xcf\\x9c\\xde\\\\|RN\\xc5\\xc7YXo\\xdf\\x99}?\\xbdSy\\xc8\\x9f\\xea\\xe4VU\\xfb\\xd5\\x03\\xa4\\xc9\\xb7\\xcc\\x8f\\x87\\xfe\\x1aT\\x857\\xfd\\x9e9?\\xdaj\\x87\\x16\\x8d\\xae\\x8b\\xdf\\'\\xcdq\\x1f\\xcb\\xfd\\xeaK\\xab\\xf8~\\xc5\\xe6yj\\xacj=\\xfb-\\xbc\\xaf.\\xa2\\xb96\\xd3$~d\\x9fw\\xe6\\xdbN6F\\x12\\xb8\\xf8nR\\xe7lrG\\xb4\\x7f\\x15z\\xc7\\xeci\\xfb.\\xf8\\x9f\\xf6\\xba\\xf8\\xd9o\\xf0\\xaf\\xc3z\\x82Y\\xd8D\\x9e~\\xad\\xa8K\\xc9\\x86\\x05\\xfb\\xd8_\\xe2s\\xd0~f\\xbc\\x8e\\xe7R\\xb6K6\\xb8\\xf3v\\xfc\\x9bwW{\\xff\\x00\\x04\\xf7\\xfd\\xbb_\\xf6K\\xf8\\xfc\\xbe$\\xd4m\\xd6k\\x19\\xbf\\xd1\\xb5\\x08\\xff\\x00\\xbf\\x03\\x7f\\x15}O\\x0e\\xe1\\xbd\\xbc1\\x0e\\x9cS\\xad\\x18\\xb7\\x04\\xedk\\xf9.\\xaf\\xb1\\xd3\\x84\\x96\\x15ch\\xfdkJm\\xd9\\xdf\\xfa\\xea~\\xbf|.\\xff\\x00\\x82R~\\xc6\\xff\\x00\\x0e\\xb4\\xa8_P\\xf8oo\\xac\\xdd\\xc4\\x9f\\xbc\\xbc\\xd6I\\x99\\x9d\\xbf\\xbd\\xb5\\xbeU\\xfc\\x05|w\\xff\\x00\\x05\\xe7\\xf8s\\xfb>\\xfc\\x18\\xf8O\\xe1?\\x0e|>\\xf8o\\xa3h\\xba\\xad\\xe6\\xa5%\\xdc\\x92XX\\xa4R}\\x91\"u\\xf9\\xb6\\x80p]\\x92\\xbfB>\\x0c~\\xd5\\xbf\\x07?ho\\t[\\xeb\\x7f\\r\\xbcagt\\'M\\xd2Z<\\x80J\\x9f\\xec\\xb2\\xd6\\x17\\xed\\x95\\xfb$\\xfc\\x10\\xfd\\xb9|\\x1fg\\xe1\\xaf\\x8c~\\x1f\\xb8\\x82\\xff\\x00N\\x8d\\xa3\\xd3\\xf5\\xad9\\xc2\\\\[+m\\xdc\\xaa\\xc4\\x10\\xc0\\xed\\\\\\x86\\x04|\\xbd3_\\x97f\\x19\\xd6oC\\x1dlT\\xa6\\xdaz\\xa7u\\xfdz\\x1f\\xbb\\xe5\\xf8l*\\x82\\x8cc\\x15M\\xa6\\xaf\\x14\\xb4\\xba\\xd1\\xe9\\xbe\\xbeg\\xe4\\xa7\\xfc\\x11\\x9f\\xf6H\\xfd\\x95\\xff\\x00h\\xa4\\xf1\\xa7\\x8d?hMs\\xf7\\xf6^U\\xbe\\x8f\\xa6\\xa5\\xf3\\xc2\\xc9\\xbb\\xe62\\xae\\xc2\\x0b\\x1e\\xde\\x83\\xf1\\xafV\\xfd\\xa5\\xbf\\xe0\\x98>\\x1b\\xd3|\\xedS\\xf6o\\xf1\\x05\\xfe\\xa9\\x12no\\xec\\xfdJ<\\x9f\\xf8\\x03\\xaf\\xf5\\xfc\\xeb\\xec\\x7f\\xd9\\xbf\\xfe\\t9\\xfb!~\\xcc\\x9a\\xad\\xbf\\x8a<\\'\\xe1=KQ\\xd6 \\xb5h\\x9a\\xe2\\xf7Q\\x93\\xca\\x9bw\\xf14Y\\xd9\\x9f\\xa0\\xfc+\\xe8\\xbd\\x1f\\xc3\\x1a^\\x95\\xa6\\xdb\\xdb\\xc9\\xa6@\\x8f\\x1c[K,u\\xdfK\\x89j\\xd1\\xaa\\xe5\\x0b\\xb8?\\xb2\\xedo\\xd4\\xc5\\xe48)\\xe0\\xfd\\x85d\\xa4\\xfb\\xa5\\xf9=\\xcf\\xe7\\x93\\xc5\\xbe\\x0c\\xf1\\'\\x82u\\xbb\\x8f\\x0f\\xf8\\xa3G\\x9e\\xc6\\xf2\\xcd\\xf6]Z\\xce\\x85]+\\x9a\\xbf\\xd4\\xac,7}\\xc5\\x1f{wz\\xfd\\x18\\xff\\x00\\x82\\xe4h?\\x0ca\\xf1W\\x87u\\x8f\\r\\xdb\\xd9.\\xbe\\xf6\\xf2\\xa6\\xad\\xe4`3\\xc0>\\xe3>=\\x0e\\xecg\\xde\\xbf.\\xb5)\\x9fR\\xd4\\xa4\\xb3\\x8e\\xe3p\\xf3~V\\xaf\\xb0\\x86\\x1e\\x967-\\xa7\\x98B<\\xaaM\\xa7\\x1f5\\xdb\\xc8\\xfc\\xa7\\x89r\\xda9F=\\xd1\\xa5+\\xa6\\xae\\xaf\\xba6\\x1f\\xc76\\xa8\\x9e_\\x97\\xb9\\x7f\\xbdM\\x9b\\xc6\\xc8\\xfbE\\xbc\\x7f\\xee\\xd6}\\x9f\\x82\\xe6w\\xff\\x00H\\x93\\xe5\\xfe\\x1a\\xd2\\xb2\\xf0\\x95\\xb4\\x0f\\xf6y>\\xf2\\xff\\x00\\x15r\\xb9a\\xd1\\xf3r\\x8d^\\xe4P\\xf8\\x93\\xf7\\xbeg\\xfe=W!\\xbfy\\xe6\\xfd\\xdc\\x9b\\x94\\xd16\\x89mm7\\xc9oV\\xac\\xec\\xe1\\xb6\\x7f28\\xf6\\xbf\\xf1-gRt\\xba+\\x8a\\x11oq>t>d\\x91\\xb6\\xdf\\xee\\xf6\\xa8\\xfe}\\xff\\x00\\xbc\\x8c/\\xf7inf\\x9f\\xcei<\\xb4\\xda\\xd5\"\\x1d\\xfb\\xbe\\xd3\"/\\xcb\\xf2\\xb5b\\xee\\xfa\\x1a\\xda\\xfe\\xea\"\\x8fau\\xfe\\x16_\\xe1\\xa8\\xa6}\\xcf\\xe6\\\\G\\xb8RO\\xf2n\\x92\\xdeM\\xdb~\\xf55.w\\xa6|\\xbd\\xc5\\xfe\\xf5Ri\\x13\\xcb\\xa5\\x87<\\xd2o_.M\\xc9\\xfcKOI\\x91\\xff\\x00w\\xf7I\\xfb\\xcbQ>\\xfd\\x8d\\x1d\\xb4\\x9e[2m\\xf3*\\x19\\x8c\\xc8\\x9edrnq\\xf7\\x9a\\x8bs\\xca\\xc8\\xa6\\xdfRdt\\x86f\\xf3$\\xdc?\\x89Z\\xab\\xdc\\xddov\\xf2\\xfeeW\\xf9i^t\\xb9\\xdb\\x1au\\xd9\\xf356\\x19\\x92\\x13\\xfd\\xe7\\xfe\\x1a\\x16\\x9b\\xea\\'\\xaf\\xc2G\\xe4\\xf9\\xe8\\xb2\\xc4v\\x8f\\xefTW\\x8f%\\xb3\\xaf\\xbdL\\xf3\\xbb\\xba\\xc7\\xf7s\\xf7\\x96\\x9f\\xf6/\\xb4\\xee\\xf9\\xff\\x00\\xde\\xad!5\\x1bs\\x12\\xd2q\\xb4Q\\xf4\\xca^?\\xcbo\\'\\xcc\\xff\\x00\\xdd\\xedQ\\xbaH\\xf35\\xc5\\xc4\\x9b\\xb3\\xf7V\\x9fm0Gi>\\xf3\\xff\\x00\\xb7\\xcd3{\\xb3\\xb6:}\\xdd\\xb5\\xe6(\\xcb[=\\x8e\\xb9\\xca1\\xd9\\x02[#\\xff\\x00\\xac\\xd8\\xc9\\xfc+\\xd6\\x87\\xfb:\\x06\\x92?\\x95\\xbe\\xee\\xeam\\xb0\\x9e\\t\\xbc\\xb8\\xe4\\xfb\\xbf3+\\xd4\\x976\\xdfzH\\xe3\\xdc\\xae\\xfb\\x99j\\x1cyw\\xd8q\\x97\\xbb\\xa2\\xb3\"O\\xb9\\xe6I\\xbdUj\\xb4\\xdb&*\\xff\\x00u\\xbf\\x86\\xac\\xdc\\xf9\\xc9\\xb4G\"c\\xef*\\xf7\\xaa\\xb6\\xce\\x89\\xfb\\xdf/v>\\xf7\\xad\\x16\\x94\\x84\\x9ad\\xfes\\xa4>_\\x99\\xca\\xfd\\xea\\xa8\\xe93\\xee\\xf2\\xfee\\xa9o&@\\xfea\\xef\\xf7\\xa9?\\xbd\\xe5\\xfc\\xbb\\x93n\\xeaP\\x93\\x8a\\xb1\\x12\\x8brm\\xeba\\xb8\\x99:\\xc6\\x8a>\\xf351\\x12\\x19\\x91\\xa3\\x93\\xe5\\xdfL\\x86\\xe6xRI$\\x91~_\\xe2\\xa7\\xb5\\xe3\\xbb\\xac\\x9e^\\xe7?2\\xaaV\\xb2\\x8d\\xa5d\\x82\\x13\\x8f9\\x17\\xeeC\\xb4r|\\xdf/\\xcc\\xb5\\x07\\xdf\\xfd\\xe4[\\xb6-[\\x9a\\xe6\\x14\\xdb\\'\\xd9\\xf9a\\xf3z\\xd5\\x1b\\xcb\\x8bgv\\x97\\xccu]\\xb53\\xa8\\xe2i\\x15\\xccAy\\xaa\\xcd\\xbd\\xa3\\xb7\\xfe/\\xe1z\\xc9\\xd4\\xb5 \\xe8\\xb2yl\\xa1S\\xebWo&H_\\xec\\xfd\\xd975c_\\xdbM\\xb9Lw\\x1bVZ\\xe1\\x9dF\\xe5h\\x9e\\x86\\x1e\\x9c`\\xaf&WG\\xb9G_\\xb4I\\xf2J\\xbf5E7\\x90\\xff\\x00\\xbb\\xfbCeW\\xee\\xd4\\xd7\\x96s[:\\xfe\\xf1\\x1b\\xe5\\xfa\\xd5K\\xc8f\\x9ae\\x93\\xf8~\\xee\\xea\\x94\\x9b\\xbboFu\\xc5\\xda-G\\xa0\\xd9Q\\x1d<\\xc8\\xe4e\\xfe\\xf3t5\\x99{7\\xef\\xbc\\xbb\\x8d\\xec\\xc3\\xee\\xb5Z\\x9b\\xfd\\'u\\xbb\\xc6\\xea\\xaa\\xdbj;=\\x11\\xe6\\xb9\\xfd\\xe4o\\xcf\\xf0\\xd2T\\xdcN\\x88J7\\xbd\\xce?U\\xf0bj\\xd36\\xa1g\\xa8Kk3?\\xfa\\xc5|~u\\x9d\\x07\\x84\\xfe \\\\\\xbf\\xd8\\xed\\xbcP\\xfb~\\xee\\xe7J\\xf4\\x8bo\\x07\\xcdr\\xed,\\xbfq~\\xedn\\xe9\\xbe\\x18\\xb3\\x82\\xdb\\xed\\x12G\\xf3\"\\x7f\\rj\\xa9\\xf3Z\\xe9}\\xc8\\xf6p\\xdcA\\x8d\\xcb\\xe98\\xe1\\xeb\\xce+\\xcaM~G\\x93\\xd9\\xfc\\x07\\xf1\\x0e\\xaa\\xfef\\xb9\\xaeK7\\xf1m\\xed]\\x9e\\x89\\xf0\\x1fM\\xb6E\\x92\\xe2\\xe1\\xf6Ws\\x05\\x82F\\x8bq\\x1e\\xfc\\x1a\\x91\\x11\\xfc\\x96\\x97\\xed\\x1b\\x97\\xfd\\xba\\xf4iT\\xabF6\\x8e\\x87\\xcff\\x19\\x9e\\'\\x1dU\\xca\\xb4\\x9c\\x9f\\x9b\\xbf\\xe6c\\xf8o\\xc0\\xba>\\x8f\\xba\\xde8\\xd1\\xb6\\xff\\x00\\xab\\x91\\xf9\\xae\\x85,\\xad\\xa1\\xb6\\xf3-\\xfe\\\\\\x7f\\rB\\x8e\\x8e<\\xb9$\\xe5i\\xf0\\xbe\\xc4h\\xe4\\x8fp\\xa2R\\x94\\xe5\\xcc\\xde\\xa7\\x91)vD\\xb0\\xccw\\xf9\\x96\\xfd\\xff\\x00\\x89\\xea)\\x1e\\xda\\x1d\\xc29>v\\xfb\\xcbN\\xdf\\x9d\\xb2Fv\\xff\\x00v\\xa3\\t\\xf7n<\\xbd\\xdf\\xedR\\x8f4\\xb73\\x93Km\\xc6\\xa2\\x1b\\xf4kq\\xf2\\x9f\\xefR\\xa5\\xb2&\\xebt\\xdb\\xc7\\xf1S\\xde\\x18\\xfeY#\\xf9\\x7f\\xd9\\xedF\\xcbm\\xed%\\x9ft\\xf9\\xaa\\xac\\xb9mb\\x1d\\x94\\xae\\xdd\\xc6\\xa3\\xbci\\x89$\\xa8\\xe6M\\xee\\xb72G\\xfe\\xd5,/\\x0e\\xff\\x00.\\xe2F\\xf9j\\xd5\\xb5\\xb2Kl\\xd2yO\\x85\\xfb\\xcbC\\x82j\\xe1v\\xe4\\x93\\xeaE\\xbe\\xcei?\\xd5\\xff\\x00\\x07\\xcdPl\\xde\\xff\\x00\\xbb\\x7f\\xf7\\x9a\\xa4x\\x12\\xd9\\xe4\\xf2\\xeewe>\\xedUK\\x97\\x87\\xf7\\x91\\xc9\\xc7\\xf1-Lbg9\\xb5+\"\\xeaJ\\xee\\x8b\\x1c\\x92\\xed\\x14\\xb3\\\\\\xd9\\xa6\\xd8\\xe3\\x93\\x95\\xfe*\\xa8\\x8e\\xf3C\\xe6\\x7f\\x0f\\xf7\\xa8D\\x85\\xddm\\xfc\\xbe\\x9fy\\xaa\\xa1\\xca\\x95\\xd8\\xed9u,\\xfd\\xa6\\x1d\\x9f\\xbc\\x8f\\xe6\\xfb\\xabPM\\x7f\\xf6?\\xdeGn\\x8a\\x9b~j\\xa7x\\xf3C2\\xdb\\xc7\\xff\\x00\\x02\\xa5wGF\\xb7\\x966\\xf9hqN7\\xb1J\\xa7%\\xef\\xd0j^;\\xaa\\xfd\\x9f\\xe6\\xf9\\xf7m\\xab\\x0fx\\x92\\\\\\xb4\\x9fw\\x0b\\xf3UhQ-\\xa1\\xf3#\\xfb\\xff\\x00\\xc3V!\\xb4\\xf3\\xb6\\xc9$\\x9bW\\xf8\\xaa\\\\\\xa1\\x1d\\xd0\\xed&\\xee\\xb6 wK\\x97o\\xde|\\xabUaDK\\xa6\\x92H\\xfc\\xc7?uj\\xe3\\xda\\xa7\\xfc\\xb3\\xfe\\'\\xf9Z\\x84\\xb6\\xf2_\\xcc\\xfb\\xcd\\xb7\\xefR\\xa98\\xcbb\\x94yw54\\xa7\\x99<\\xb9$\\x8f\\x96\\xf9kCWGHZ\\xde\\xdf\\xe5\\xdc\\x9f5S\\xd2\\xb7\\xa5\\xb2\\xc9\\xe6n?\\xddz\\xb9\\xac^\"\"\\xdb\\xfd\\x99\\x99\\xca\\xfd\\xe5\\xae\\x9dU$\\xacqE\\xaef\\xfb\\x1c\\xf5\\xe2%\\xb6\\xd9<\\xcd\\xcf\\xfd\\xda\\xa7,\\xdf\\xbeo2=\\xaa\\x7f\\x8b\\xb5X\\xb9\\x0f\\xe7\\x7f\\xac\\xdc\\xdf\\xc3C\\xf90\\xfe\\xeeO\\x98\\xed\\xdd\\xb6\\x8e\\x7f I\\xf43\\xdf\\xe7e\\xf2\\xfem\\xbfui\\xbb\\xdd&\\xf3.c\\xdb\\x9f\\xe1\\xa7\\\\\\xbb\\xbb\\xfe\\xef~\\xe5\\xfc\\xa9\\x1f\\xceHZ;\\x88\\xd1\\xbeo\\xbdY5k\\xf9\\x9d\\x11k\\xed\\x16l$O\\xb30\\x92N\\xbfv\\xa6xl\\xfc\\x95\\xf2\\xe4V\\xfe\\xf3%e\\xa7\\xcf\\xfb\\xbf7jT\\xdeK\\xa2/\\xef8\\xfe\\x16\\xa8\\x1cj6X\\x85\\x1f\\x7f\\xda#\\xf9\\x94=\\x176\\xcf<\\xcb \\xdc\\xb4\\xf7O/o\\x99%=\\xeeD\\x96\\xcd\\xf6y7\\x1f\\xee\\xd6\\xb1\\x95\\xe5a(\\xf3nf^\\xdb:?\\x97\\xb3\\xe5o\\xbdPMl\\x9eK\\\\\\x1d\\xca\\xe3\\xee\\xfaU\\xcb\\x94\\x9ad\\xcf\\x97\\xb4\\xadC?\\xc8\\xeb\\xfb\\xbf\\x93\\xfb\\xb4\\xd5F\\xea-\\xac\\x89\\x94c\\xaf\\x99\\x02y\\xce\\xed$\\x92&\\x02S\\xfe\\xfe\\xef\\xf4\\x7f\\xbb\\xf7h\\x92\\x17w\\xf3#\\x8fw\\xcf\\xf3-XH\\x1eo\\xf9k\\xb7\\xf8wUNI\\xdf\\xcc\\x14ywe?:m\\x9b\\x00UU\\xfci\\xc9\\xe4\\xa7\\xfaD_3\\xbdIyf\\xf0\\xed\\xf2\\xf6\\xf1\\xf7\\x9a\\xa0\\xb0\\x9a\\x14\\x99\\xbc\\xc8\\xfa}\\xd6\\xac\\xdb\\xe6\\xd9\\x94\\xa3%\\xd0|\\xd3>\\xff\\x00\\xf5\\x9f\\xef-Wy\\x12\\xf0\\xb4\\x7f\\xc0>m\\xd4\\xfb\\xc9\\x91&\\xf3<\\xbd\\xca\\x7f\\x86\\xa1ty!nv\\xff\\x00\\xb3S\\xcc\\xada\\xb4\\x9c\\xbc\\x8e[^\\xb9\\x9b\\xf7\\x96\\xf1\\xfc\\xc8\\xdfv\\xbc\\xef\\xc4\\xf6w\\x893^Y\\xc9\\xf3\\x87\\xf9\\x95:\\xd7\\xa6k\\x16\\t\\x0b\\xfd\\x9c\\xee\\xde\\xff\\x00v\\xb9}{G\\x9a\\xdb\\xf7\\xb1\\xc7\\xbbo\\xde\\xae\\x8c\\x162\\xb6\\x0f\\x12\\xaaS\\x95\\x9a:\\xa7B\\x95jVkB\\x1f\\x84\\xbf\\xb5G\\xc5\\x1f\\x837\\xff\\x00l\\xf0\\x7f\\x8a.\\xac\\xe4]\\xbf4S\\x90\\x7f\\x9d}I\\xf0\\xbb\\xfe\\x0b\\xc7\\xfbX\\xf8\\x1a\\xda=?P\\xf1DZ\\x94(\\xbf\\xf2\\xff\\x00\\x07\\x99\\xfdk\\xe3}W\\xc16\\xda\\x97\\xfaB~\\xe5\\xbe\\xf32\\xd7=y\\xe0=i7Ig\"H\\x8b\\xf7{W\\xd8\\xbc\\xff\\x00.\\xcc\\x17\\xfb~\\x1e\\x13~i_\\xef1\\xa1[7\\xcb\\xe2\\x96\\x16\\xb4\\xa3\\x15\\xd2\\xfa}\\xc7\\xea\\x06\\x9b\\xff\\x00\\x07\\x1d|N\\x86\\xcd\\xa3\\xd5<-\\xa6\\xb4\\xec\\x9fyc\\xc0\\xaeK\\xe2\\x07\\xfc\\x1c\\'\\xf1\\xe3\\xc463Y\\xe8\\xf2Eb\\xae\\x9b\\x7f\\xd0\\xe3T?\\xf7\\xd5~l\\xbf\\x86\\xfcT\\xe1\\xa4\\x93Of\\x03\\xf8\\x96\\xa1\\x87\\xc3\\xfe!\\x9ao\\xb3\\xfd\\x8e]\\xd5\\xcd\\x17\\xc2\\xf1\\x9f=<\\x1c/\\xea\\xff\\x00+\\x9d\\xaf\\x898\\x9e0\\xe5u\\xdf\\xdc\\xbf\\xc8\\xf7_\\x89\\xdf\\xb5\\xa7\\xc4_\\x8eZ\\xf5\\xc6\\xa9\\xaej\\x12\\xb3\\xdc\\xff\\x00\\xc7\\xc5\\xc4\\xb2\\x16\\x91\\xff\\x00\\xd9\\xcds\\x16w3o\\xf3#\\xfb\\xe3\\xee\\xd6\\x17\\x86\\xfc\\x0f\\xe2\\x18Qd\\xb8\\xb6H\\xfe\\x7f\\xe3z\\xef4\\x1f\\x06\\xec\\x9a9.\\xe4\\xf3?\\xbc\\xbd\\xab,\\xc31\\x96#\\x966Q\\x8a\\xd9-\\x12<W\\xed\\xf15]J\\xd2ro\\xab7\\xf4\\xab\\xc16\\x95\\x1c\\x97\\x11\\xfe\\xf3\\xefU\\xa8\\x7f\\xd2S\\xcc\\x8f\\xe5+\\xf7\\x9a\\xa3Kh`F\\x8f\\xcb\\xda>\\xea\\xad$?fth\\xfc\\xc7]\\x8d\\xf7k\\xe7\\xe7\\xf16\\x8dl\\xa2M\\xf7\\xf6\\xc7q%3\\xceH]\\xa3\\xfb\\xcd\\xfc-Qy.\\xfb\\xa4\\x12|\\xbf\\xedR\\xcd\\x1b\\xbc>d\\x7f-G1j\\tZ\\xc15\\xb3\\xedi#\\xf9\\xb6\\xfc\\xdbi\\x89\\xb1\\xe1h\\xe4\\x8b\\xf8*lC\\n,\\x92|\\xae\\xdf\\x8dB\\x89\\xe7;I\\xf7v}\\xda\\x87\\'\\xd7B\\xf9y-\\xe65\\x1d\\x13\\xf7q\\xa2\\xaa\\xfd\\xed\\xb4\\x9e~\\xcd\\xde\\\\\\x7f\\xc7\\xf2\\xee\\xa4xR9\\xbc\\xcf\\xee\\xff\\x00\\r7x\\x93\\x7f\\x99\\x1f\\xfb\\xb4\\xf7\\xb5\\x8c\\xfd\\xe5\\xb8\\xf7t\\xb9O\\xde|\\xa5j/\\xf5;\\xa3\\x93\\xa3\\xd43B\\xee\\x8d\\'\\xcf\\xfe\\xcd*\\xcdm\\x0c?\\xbd\\xdd\\xb8}\\xda\\xa5\\xf1\\xd9lS\\xbc\\xb7\"\\xf2^\\xdbt\\x7f\\xdd\\xa2\\x18Ri\\x96I>U\\xa9Q\\xdd\\xf7I\\'\\xf1}\\xda\\xaf6\\xf4_2O\\x96\\xb6qo^\\xa61\\xe4\\x95\\xd3\\xd8\\x7f\\xc8\\x9f\\xbb\\x11\\xee\\xdc\\xbfz\\x9e\\x9b\\xf6y\\x9f{?\\xc3Q~\\xfa\\r\\xb1\\xc7\\xf3\\'\\xf1R[\\\\\\xbf\\xdaZ\\tc\\xe7\\xfb\\xb5\\x9c[f\\xd5\\x14\"\\xec\\x8f\\xa4\\xe6\\xbc\\xfbE\\xfa\\xdc}\\x9d\\xdb\\t\\xbb\\xe5\\xe2\\xac\\xdelX\\xfe\\xd1\\xe5\\xed\\xff\\x00\\x9e\\x91\\xb5W\\xb3I\\xaeao\\xe1\\xfe\\xebU\\x84\\x99!\\ro,i#\\x0f\\xbd\\xbe\\xb9\\x1b|\\x9alO*\\xdf\\xa9]\\xd3\\xed24\\x96Rn\\xfd(t\\x99\\xff\\x00y\\x1f\\xcc\\xab\\xf7\\x97\\xcc\\xa7\\\\\\xde;\\xbbI\\x1ci\\x1a\\xec\\xfe\\x1e*\\xbf\\xda]\\xc7\\xd9\\xe3\\xf9W\\xf8\\x9a\\xb3jL\\xd2*\\x08.u-\\x93G\\x1f\\xc9\\xf2\\xed\\xda\\xb4\\x97\\xf7\\xee\\xee\\xdfg\\x8f\\xcbg\\xfb\\xdbj4\\xb5K\\x9b\\x95\\xb7\\x8e\\xdbq\\xfe\\xf5K5\\x92Z\\xba\\xe4\\xbb3\\xa7\\xcc\\xb4\\xda\\x8e\\x85E\\xb7&\\xef\\xb0\\xdd\\x89s\\x0c~_\\xcc\\xc9\\xf7\\x96\\x89\\xee~O.\\xde?\\xf6\\xb6\\xd3w\\xcd\\x0c\\xcb\\x1f\\xdd\\x1f\\xc3M\\x7f:\\x1f\\xee\\xb2\\xb2\\xd4*V\\x95\\x84\\xea\\xc9\\xc5\\xbe\\xe2lI\\x8f\\x99\\x18u\\xcf\\xdeZ[\\x97\\xf2Qc\\xf2\\xd7\\xfd\\xe5\\xebI\\x0c\\xdeL\\x8b\\x1crr\\xdfz\\x8b\\xc8|\\xed\\xd2[\\xfc\\xbf\\xedV\\x8e\\xeaV&\\t\\x0c\\x91&Gi#\\xf9\\x94}\\xe6j\\xa7~\\xfe|\\xdeY\\x8d\\x7f\\xda\\xedVQ\\x1d![\\x7f\\xb4m\\xdf\\xf7\\x9a\\x92\\xfe\\xc0[\"\\xf9\\x92y\\x87\\xfb\\xd5\\x8e\\xae\\xa6\\xa7O$\\xd4y\\x96\\xc65\\xcd\\x9c\\xd3\\\\\\xb5\\xc4\\x9d\\rA5\\x9d\\xb6\\xf5\\xf2\\xc3\\xb0_\\xef\\xd7@\\xe9\\x0c\\xc9\\xcd\\xbf\\xfb\\xd5Y\\xec\\xd1\\xf6\\xdb\\xc6\\x15\\x97\\xef2\\xd2T\\x16\\xbd\\xd9j\\xba\\xd2\\xc6bh\\x96\\xd7(\\xc5>\\xf2\\x7f\\r/\\xf6$&\\x15\\xb7\\x8e4\\xff\\x00j\\xb4\\xa1\\t\\xb3\\xcc\\x93\\xe5m\\xfbv\\xa5W\\xb9H\\x11<\\xb9>S\\xbf\\xefRT\\x92\\xeaS\\xafk\\x14\\x13AH_\\xfb\\xc1\\xbe\\xf2\\xf9t%\\x82A6\\xf8\\xe3\\xdd\\xfe\\xd6\\xca\\xd4}\\x9b?w.\\xed\\x9f\\xc5N\\x85!{?3\\xe4_\\xf6kEhJ\\xed\\rU\\x9c\\xb7e;\\x9b\\x00\\x90\\xaf\\x97\"32|\\xca\\x94C\\x0b\\xa4?g\\xc3\\xaf\\xfbUs\\xe4KX\\xfc\\xc8\\xff\\x00\\xde\\xa17\\x8f\\xde\\x08\\xf6\\xa5V\\xb7\\xb1\\xa7=\\xa3t\\xc8\\xed\\x9ed\\x7f\\xb3\\xc9\\x1e\\xd55\\x11D\\xdb\\xe5\\xf9\\x9fr\\x9fsr\\x7f\\xe5\\x9ci\\xfe\\xf5Im\\x0c?)\\x92=\\xae>\\xf7\\xa57$\\x8c=\\xa3Z\\xbd\\x86\\xdb\"\\xba\\x7f\\xabE\\xdbKs\\x84\\x85c\\xb7\\x8fr\\x9f\\xbc\\xd4\\x8f\\'\\x96\\xff\\x00&\\xce~\\xea\\xd3\\xdeg}\\xd2Ao\\xd1>e\\xa7\\xcc\\xcc\\xb9\\x9f5\\x88\\x9f\\x1f,rG\\xb7\\x1fv\\xa7\\xfb\\x1b\\xa2}\\x9e]\\xf1\\xa9\\xfb\\xadO\\xb6\\x9b\\xed\\xe9\\xe6Im\\xd1*W\\x91\\x1d<\\xbf3i\\xab\\xe63\\x94_5\\x8a\\xaff\\xfb\\x1aH\\xe3\\xdc\\x8b\\xf7\\x9a\\xab\\xb40\\xa2,\\x91\\xc8\\xd9-\\xf3U\\x97\\x7f\\xdc\\xfe\\xee\\xe1\\x97{|\\xcbP\\xdc\\xecI<\\xbe\\xed\\xf7Z\\x87&\\xf4\\xe8C\\x8bR\\xb9]\\x1f\\xf7\\xcd\\x1f\\x95\\xb9Y\\xfe\\xf5X\\x9bt?\\xba\\x8e\\xf3o\\xf7\\xaa\\x0b\\xf8Sz\\x88\\xff\\x00\\x8b\\xef*P\\xafm\\xff\\x00-$}\\xcb\\xfd\\xea\\x86\\xdcvz\\x0eJ\\xd0\\xd7q\\x96\\xd0\\\\\\xfd\\xa6o\\xb8\\xcc\\x9f\\xc5\\xfd\\xfa\\x86h]7I\\'\\xdd5<\\xd7O\\xf2\\xc8\\x96\\xfe^~]\\xa9U\\xb7\\xbd\\xcc\\xdf\\xbc\\x93j\\xaf\\xdeZ\\xa8\\xeb+\\xb0\\x8c\\x1fB_\\xb4\\xdbyk\\x1cr}\\xea\\x96\\xf2\\x1f%\\x16Ky\\x11\\xbf\\xdd\\xaa\\xbeN\\xd7a\\x1fG\\xfb\\xcbP\\xfd\\xa5\\xc3\\xf9^[\\xad \\x94Z\\xdc\\xb6\\xe9\\xff\\x00=>jd6\\xd3>\\xeb\\x89#\\xda*\\xba^;\\xcd\\xe5\\xdc|\\xa9\\xbe\\xa7{\\xc9\\x12o.I>O\\xe1jV\\xa9\\xf1\\n)8\\xd9\\x88\\x96p\\xa3\\xacrIH\\x89\\xbd\\xfc\\xa9d\\xf9\\x7f\\x85j+\\xdb\\xc7\\xff\\x00W\\xf6}\\xcd\\xfc-M\\x9ao&5\\xb8\\x92\\xdd\\xaay\\xbd\\x02K\\x967$I\\x9d?\\xe3\\xe3\\xe5\\xdb\\xf7Z\\x95/\\x02?\\xd9\\xe3\\xf9\\xb3\\xf7j\\xbd\\xe5\\xc3\\xcc\\x8d\\xe5|\\xa8\\x16\\x99\\xa2L\\xefr\\xbe\\xdf3T\\xf2\\xaek\\x94\\x9bzt:Hnm\\xad\\xaea\\x8b\\xe6i_\\xefG\\xda\\xa7\\xd4\\xaf\\x1c\\xa7\\x9b\\x1d\\xbf\\xca\\xbfz\\xaa\\xdc\\xa2;\\xac\\xb1\\xec\\xde\\xbf\\xc5QjW\\x92Y\\xdb/\\x97q\\xf3J\\xff\\x007z\\xed\\x92\\x9f$ND\\xad7\\xa6\\xc59\\xa6G\\x7f\\xdd\\xc7\\xf7~f\\xaa\\x93\\\\\\xcd6\\xef\\xf4o\\x9f\\xfb\\xdd*\\xd4\\xd7%6\\xcb\\x1c\\x9f3}\\xe5\\xaa\\xe94)\\xbb\\xcc\\x8d\\xf2\\xdfu\\xab\\x15\\xa6\\xfa\\x9aB>\\xf2KB\\xbb\\xcc\\x9eb\\xa5\\xc7\\xca?\\xd9\\xa8fw\\xd8\\xd2G&\\xe1\\xfd\\xda\\xb3\\xe4\\xef\\x85\\xa4\\xb8\\x8fk\\n\\x82dH\\xd5d1\\xfd\\xe5\\xfb\\xb4\\x9b\\x8a\\xbf\\x99i\\xbe\\xac\\xcfG\\x9aGo.\\xe3h\\x1fuj\\xee\\xf7\\xd9\\x8f3o\\xf7\\xaa\\xa2:F\\xed\\xe5\\xfc\\xdf\\xdeZ\\xb4\\xf6\\x7f\\'\\xda$\\x93\\x87O\\xe2\\xabj1\\xb5\\xfa\\x89\\xa7)Y\\r\\xb6\\xbc\\xdf7\\x97y\\xf3g\\xee\\xb3\\xd4\\xd1l\\x85\\xdb\\xec\\xf2rW\\xe6\\xa8<\\x9bd\\xdb\\x1cRn\\xdb\\xf7\\xaa}\\x89\\xe4\\xac\\x96\\xe7\\xe6W\\xdb\\xefI\\xb4\\xdd\\xc5MTW\\xec\\x87\\xbc\\xc8\\xf6\\xcd\\x1crn#\\xf3\\xa6\\xa5\\xb0\\xf2\\x96I$\\xdc[\\xee\\xed\\xa4{o\\xb3B\\xdf\\xbc\\xf9\\xda\\x96\\xdb\\xccM\\xd2G&\\xe5\\x1fyj\\\\\\x96\\xb7\\xea^\\xdb\\x88\\xfb\\xfeo.\\xdfk\\xff\\x00\\x15W{\\x97x|\\xbf/n\\xcf\\xf5\\x9bj\\xc3\\xbf\\xcf\\xf6\\x9f\\x9fi\\xa8w\\xa6\\xc6\\xfe\\x12\\xff\\x00.\\xdajQ\\xda\\xda\\x82W\\x8d\\x84K\\xf8w\\xac\\x91\\xfc\\xcb\\xfd\\xd6\\xaaw\\x8e\\x93\\\\\\xb7\\xfa?\\x96\\r9!\\x87\\xe6\\x929>a\\xfc4\\x9eO\\xca\\xd2?\\xcb\\xfe\\xcb\\xd3\\xe4\\xf7\\xac\\x0b\\xdd\\xbd\\x840\\xefE\\x8e=\\xec\\xbf\\xde\\xa9nna[f\\xfd\\xdf\\xce\\xbf\\xc5H\\x92\\xec\\xdb,\\x91\\xfc\\x8f\\xfc5Z\\xff\\x00\\xc9\\xf3\\xbfv7\\x7fz\\xa2N\\xd2K\\xb1\\xac/\\xac\\xacejI;\\xba\\xdcGs\\xf37\\xf0\\xd5W\\xd1\\xe7\\x9b\\xcc\\xf3>m\\xff\\x00v\\xb5\\xde\\x18fu\\x8e;o\\x9d\\x7f\\x8a\\xac\\xc2\\x8b\\xe4\\xf9\\x92G\\xb7\\xe4\\xf9i\\xbfy]\\x84\\xa7\\xc9\\xb1\\xc7?\\x867\\xfe\\xee\\xdeN\\x0f\\xf7*\\xb2xV\\xe6\\x1d\\xb1\\xdc[\\xa3m|\\xb3W[4)\\x0b\\xb5\\xc4c\\xfd\\xdag\\x9c67\\xda \\xf9\\x9d>\\xf5h\\xac\\n\\xab]59G\\xf0\\xc4(\\xed\\'\\xdd\\xcf\\xddZ\\x96\\xcfD\\xb3\\x84\\xacr\\xdb\\xae\\x7f\\xbd[i\\xa6\\xbc\\xd3\\xff\\x00x/\\xdd\\xa4{7\\x86o\\xa5Z\\xb2\\x07V\\xe5km)\\x04\\x8bo\\x1e\\xda\\xd2H^\\xdao/\\xe4\\xc2\\xd4n\\xe8\\xe9\\xe6G\\x1e\\xd6_\\xe2ZTO\\x9d\\xa4\\xfe\\x16\\xfb\\xb4\\x9dI2T7v\\xd5\\x8a\\xf0\\xc2\\xf0I\\xe5\\xcb\\xf3\\x7f\\xb1Q[l\\x98f\\xde>\\x9fy\\x9e\\xa6\\xb9\\xb6\\xfb3\\xef\\xf37+\\x7f\\r-\\xb5\\xc41\\xa3\\x1f/\\xcbFO\\xbdE\\xde\\x9an\\'\\xa3O\\xb1\\x1aC\\n?\\x99,\\x7f\\xefU}\\xee\\x1f\\xcb\\x92O\\x91\\x9b\\xe5Z\\x8d\\xe6\\xdfr\\xd1\\xdb\\xbb\\xb5:\\x17\\xd9\\xb69>e\\xff\\x00\\x9e\\x94\\xdan7%\\xbb\\xca\\xc4\\xaf\\xe4\\xbf\\xee\\xf6m\\xc7\\xddj\\xaf\\x0f\\x99f\\x8d\\xe6I\\xf7\\x9b\\xe5\\xddW\\xa6\\x86\\x19\\x1e8\\xfc\\xbd\\xbf&\\xed\\xbf\\xdf\\xaa\\xd7\\x93lO\\xf8\\xf7\\xf9\\x83n\\xa5\\x0b\\xfc=\\r9-\\x1b\\xa7a\\xb7\\xf3\\'\\xcbyq&\\xed\\xff\\x00\\xdc\\xa8\\xfc\\xed\\xef\\xfe\\x8f\\x17\\xcb\\xfc4\\xc7\\xd92~\\xf25]\\xafO\\xdf\\xbf\\xfd\"(\\xf6\\xed\\xf9[\\xd2\\x95\\xed\\xb9\\x9bRz\\xdbR/:gO.A\\xcdA\\xe4\\xfc\\xeb$\\xb2n\\xfe\\xea\\xd5\\xab\\x9d\\xff\\x00f\\xff\\x00V\\xb8\\xfe\\xf2T\\x10\\xa0\\xd8\\xbed\\x9b\\x8f\\xf7kXH\\x89.gpw\\xf3\\x87\\x99\\x1f\\xdd\\xfe\\xefJ7\\xf9\\xcd\\xe6I\\x1e\\xed\\xbfv\\x9c\\xf6\\xc9\\xf6e\\x8e96\\xb0\\xff\\x00YQ\\xa3Gk\\x0f\\xda#\\x8fv\\xef\\x97\\xd6\\x9b\\x92bQ\\xe5\\xb5\\xfa\\x89\\x0c\\xdf#I,\\xab\\xcf\\xddZe\\xb6\\xf7\\x9b\\xcc\\xa8\\xbc\\x89\\x9eE\\x92?\\x99\\x9b\\xef-[\\xf3\\xbc\\x9e|\\xbd\\xbf\\xde\\xa6\\x93B\\xe5r\\xf8\\xb6>\\x8e\\x86\\xf2Cm\\xe6Eo\\xb5\\x83\\xfc\\xaa\\x94\\xaf3\\xcdr\\xb7\\x171\\xfd\\xff\\x00\\xbdU\\x91\\xee\\x92e\\x92H\\xf7D\\x9f2\\xaa\\xd5\\x88\\x7f\\xd2\\xec\\x1a\\xdeI6\\xbe\\xcf\\x95\\xab\\x8b\\xf7q\\xe8j\\xd3\\x9d\\xf4\\xbd\\x88\\xef&H_\\xec\\xf1\\xc7\\xf7\\x9b\\xe6\\xa6:y/\\xfb\\xb8\\xf7)\\xfe*,\\xed\\x9e\\x17i.#v]\\xf5e\\xe4I\\x93\\xcb\\x93\\xe5e}\\xca\\xd5\\x97\\xda\\xf2)\\xbb\\xcb\\xcc\\x87\\xc9\\x99\\x1d\\xa4\\x8f\\xe5f_\\xbdJ\\xf6\\xf70\\xc8\\xb2I&\\xe6\\x15*M2#G\\x1c\\x7fu*\\x14\\xf3\\x84\\xcb\\x15\\xc7\\xfc\\x05hr\\xe5\\xdd\\x9a$\\xdf\\xc26\\xe5\\xd2o\\xdd\\xfc\\xd1\\xbf\\xf7\\xbbT\\x17\\xf3;\\'\\x97\\xe6&\\xef\\xba\\xdb*\\xd43Y\\xcd\\xbb\\xcb\\x8d\\xb3\\xf7Y^\\xb2\\x9c\\xf9w?g\\xf9\\x947\\xf1R\\x8bNzh\\xc9\\xe5or\\xd40\\xbe\\xc6\\x93\\xcc\\xdc\\xc9\\xfd\\xea\\xafr\\xf7/\\xbb\\xcb\\x93\\x86\\xff\\x00\\x96ua\\xd1\\xf6C\\x1d\\xc4\\x8c\\xab\\xbb\\xf7l\\xb5\\r\\xe43}\\xa7\\xcb\\x8e=\\xbb~ejjw\\xea$\\xad\\'m\\x99\\x15\\xcb\\xec\\xdb\\xe5\\x8d\\xdb\\xbeVV\\xa9\\x9d/\\x11?\\xd2$V]\\x95\\x1a^}\\xe8\\xee$\\xf9\\xfe\\xea\\xd4\\xd0\\xbf\\x9d\\xb6O\\x97\\xe5\\xfb\\xca\\xf5K\\x9d\\xdbM\\xac^\\x8b\\xa1].a\\x87\\xfd\\x1e9>\\xf7\\xdeja\\xfb\\xeb\\x1d\\xbd\\xc2.~\\xf3U\\xbb\\xc8l\\xfc\\xc6\\x92H\\xf6\\xa9\\xfb\\xca\\xb5]\\xac\\x12hY\\xec\\xfe_\\xf6{\\xd6\\x96\\x89\\x9d\\xe4G\\xf2B\\x8d\\xfb\\xcf\\x9b\\xfb\\xb5\\x1b\\xfd\\x9am\\xb1\\xf9[\\xbf\\xde\\xa3~\\xf7X\\xeed\\xdb\\xfc\\xea\\'\\xb6G\\x99\\x8crn\\xc7\\xdej\\x8b\\xc6=M\\xac\\xb9\\t\\x128a\\xdd\\x1c\\x97\\x1f{\\xee\\xb2t\\xa6$\\x96\\xd3;y\\x922\\xec\\xfb\\xbbzS\\xed\\xa1\\x85\\xff\\x00\\xd1\\xe5\\xfb\\xbf\\xc4\\xd4\\xef%\\xe1\\x9b\\xec\\xf1\\xfc\\xc1\\xbf\\x85\\xeaR\\xb0\\xe2\\xda\\xe8(t\\x9a\\x15\\x8f\\xfe\\xfa\\xa1.^\\xd6e\\x8f\\xe4\\x91\\x17\\xf8\\x7f\\xbfC\\xa6\\xcd\\xd2I\\x1e\\xea\\x1c:C\\xe6E\\xb7\\xfa\\xd4\\xde\\xf1\\xb1\\xa2mJ\\xf6\\x194/r\\x99\\xf2\\xf6\\xed\\xfb\\xcbL\\xfb\\x1c\\xc8\\x8do\\xe6\\r\\xbf\\xc5V!{\\x98v\\xf9\\x9fy\\xbejG\\x99>o\\xf7\\xaa\\xee\\xe3\\x1b\\xc4\\x975(\\xdd\\x95\\xf6&\\xcf.?\\xbc>\\xed\"<\\xd0\\xed\\xe7\\xe5?\\xc5R\\xcdx\\x90\\xed\\xfd\\xde\\xd6?-I\\xfb\\x9f\\'\\xf7rn\\x7f\\xbdZ_\\xee2m\\xb2\\x19\\x9d\\xa1F\\xf2\\xe4\\xeb\\xfc=\\xe9\\x91\\\\\\xc8\\x7f\\xd6uU\\xa9\\'tGY.%\\xf9\\xa9\\xae\\x90\\xba/\\xf0\\xbb}\\xdaJI&\\xfb\\x99\\xf2\\xb7\\x1b\\xb1\\xfb!\\x9a\\xdb\\xcc\\x8e]\\xad\\xfc+H\\xe9\\xbe\\x16\\xf2\\xcf\\xce\\x9fz\\xa2\\x92\\x1d\\x90\\xff\\x00\\xad\\xe4Ql\\xee\\x8e\\xdell\\xc5\\x97o\\xb5U\\x9fqE7+\\x10\\xecw\\xdd\\x99>j}\\xe2B\\x81xVm\\x9f5J\\xf6\\xce\\xfbc\\x8e=\\xad\\xfaT\\x13[:M\\x1c\\x91\\xff\\x00\\x17\\xde\\xa9\\xbb\\x07\\x17-^\\xe43L\\x8f\\xb6\\xde;\\x9f,\\xaf\\xcc\\xd4\\xe9\\xa6\\x8d\\xf6\\xf9\\x91\\xee\\xff\\x00j\\x8b\\x9b/%\\xfc\\xc8\\xe3\\xdc\\xff\\x00\\xc5R \\xf9|\\xcb\\x88\\xf6\\xb0\\xfb\\xabK\\x9f\\xcc\\xd5sGb\\x93\\xbaE4\\x91\\xc9#\\xab\\xb7\\xdd\\xa6\\xc3m\\xf6\\xc8|\\xc9/\\x1f+\\xf7V\\xac\\xcc\\xe9x\\xed\\xfb\\xbd\\xbf\\xedS\\xad\\xac\\xe1O\\xf8\\xf7\\xf9[\\xf8\\xa8rK^\\xa4F\\xfc\\xb7\\xb9N\\xe6\\xcd\\x16\\x15\\x93\\xccfo\\xe2\\xdbG\\x93\\xb2\\x15\\xf3$\\xf9[\\xee\\xd5\\x94I\\xb7\\xb5\\xbb\\xc7\\xb7?\\xc5L\\xb9\\x87d?g\\x8f\\xf8j\\\\\\xda\\x92]\\x8a\\xb3\\xe5\\xb8\\xb6o\\x08F\\xf3>f\\xa8/\\xd1\\x12\\xd9\\xbc\\xc97|\\xdbUi\\xf6\\x16\\xce\\xee\\xd6\\xf2m]\\xdf\\xc5L\\x99\\xe1M\\xd1\\xc9\\xf3*\\xd4\\xb9{\\xd7B\\x9e\\xd1EI\\x9cC\\x0c\\x92y\\x7f-G\\xa3\\xec{\\xa5\\xf2\\xfeQ/\\xcbKu4\\xd3L\\xdf\\xdc\\xdb\\xf2\\xd2\\xe8)\\x0f\\xdb\\xd69w\\xe7}5~\\xc5\\xa5\\xcb\\xe8t\\xe9\\xf2#Y\\xf9\\x89\\xf2}\\xd6\\xaaw\\xef\\x0c\\xcf\\xe5\\xcb+\\xe5j\\xe3\\xd8}\\xa6\\xe7\\xf7\\x92;+}\\xd6O\\xefU-J\\xd9\\xac\\xeeZ;\\x8f\\x9b\\xfb\\xac\\x95\\xd7\\xce\\xbf\\x03\\x8a\\x10i\\xf3=\\x8aS^\\x7f\\xcbH\\xed\\xfe\\xef\\xde\\xdfLw\\xfbJ~\\xef\\xe5\\xfe\\xf5X{\\x98|\\x96O/qg\\xfb\\xd5Zg\\x85\\x11c\\xb7\\r\\xc7\\xde\\xac\\xd4\\x93\\xe8h\\xa2\\xa1\\xb3+:M\\xb3\\xcc\\x17\\x1b\\xbf\\xd9\\xaa\\xf0\\xbc\\xcf6$\\x93h\\xab\\x13%\\xca?\\xee\\xfeSI\\xf6[\\x97\\xdb/\\x97\\xb62\\xfbY\\xa8N\\xd7\\xf3-\\xd3o\\xec\\x95\\xfe\\xcd\\xe4\\xcc\\xdfg\\x8d~o\\xbc\\xd5g\\xe7\\x7f\\xdd\\xc9\\'\\xc8>\\xee\\xca[\\x98RG\\xf2\\xe4\\xf9\\x7f\\xbbI\\r\\xce\\xc4\\xfb<\\x9f.\\xdf\\xe2\\xa8\\x15\\xad+1F\\x9a\\x99\\xf2\\xed\\xfeR\\xd4\\xc7\\xdfg\\n\\x89>\\xf2\\xfd\\xe6\\xc5O\\x1c\\xcf\\xb3\\xfe>\\x11q\\xf7\\xbb\\xd5K\\x9f?g\\x99$\\x9co\\xa8M\\xa1\\xef\\x07n\\x84\\xf7/\\xfe\\xaeO/v~\\xf3S\\x9e\\xcd\\xf65\\xc4q\\xed\\xfe\\x16Z\\xaefG\\x85|\\xbd\\xec\\xdf\\xecU\\x8b\\xf9\\x93\\xec~e\\xbc\\x8e\\xa4}\\xed\\xf5\\x12\\x94\\x8b\\x84\\x17]F\\xf9/\\xf2\\xdb\\xc7\\'\\xca\\xc9Q\\xbd\\x9f\\x93\\xfb\\xb9$}\\xed\\xf7}*\\'\\x8d\\xe5x\\xe4\\x8eO\\x98}\\xea\\xbd\\xfb\\xe4\\xb6[\\xce\\xc3\\xee\\xab\\xe35jH\\xd2Qsn\\xddJ2B\\x8f\\x0b[\\xc7\\xd5\\x7f\\x86\\xab>\\xf4O.O\\x99jo\\xb4\\xfd\\xa5\\xdaK\\x7f\\xdd\\xb9\\xfb\\xd5\\nL\\xe9\\xba8\\xe3\\xdd\\xf3\\xd6\\xd1|\\xd2\\xb1\\xcde\\x1b\\xe8I\\xf2\\x0be\\x8e?\\xf8\\x0bT[\\x11\\xff\\x00y\\x1c\\x7f\\xefRM$\\xdes[\\xc9\\xfb\\xb65/\\x92\\xf3\\xa2\\xf9{\\x14/\\xf0\\xf7\\xac\\xe4\\x9f-\\xcd`\\xdf5\\xba\\x10$/\\x96\\xb8\\x93\\xee\\xb7\\xdd\\xa8\\xb6;\\xa3\\x7f\\x12\\xd3\\x9f\\xce\\xb6\\xfd\\xdc\\x92n\\xa6\\xdc\\xc9r\\x91,~_\\x1f\\xde\\xa1]\\x15\\'\\xefXY\\xac<\\x98V\\xe6I\\x17o\\xf1T\\x17\\x93%\\xcf\\xfa\\xb3\\xb4-M>\\xc7\\xb0X\\xfe\\xf1\\xdf\\xf7j\\x9b\\xfc\\xff\\x00\\xe8\\xfe^\\xdc\\xff\\x00\\r5u\\xb9\\x0e\\xda[\\xa95\\xb2C\\xf6f\\x92\\xdeM\\xce\\xbfw\\xd2\\xaaB\\xf3}\\xa5\\xa4\\x925j\\xb7\\x0f\\xd8\\xe1\\x85m\\xfe\\xcf\\xb5\\xfe\\xf2\\xb3qQ\\xdc\\xc3\\x03L\\xb2G\\xf2\\xed\\xfb\\xcb\\xda\\xab\\x99=\\xc3\\x91\\xafu\\x10y)\\ny\\x8f\\'\\xce\\xdf\\xc3QM-\\xca\"\\xc9\\x9d\\xbf=M40\\xdc\\xcd\\xe6w\\xdb\\xf7h\\xbc\\x85\\x19\\xd6I%\\xdc\\x0f\\xcb\\xb5kD\\xedo2m\\xbf\\x91Vi\\x9eg\\xf3#\\x1fu*K?\\x9c\\xf9rI\\xcf\\xddU\\xa6\\xcdf\\xf6\\xd7+\\x1cr|\\x8d\\xf7\\xbf\\xd8\\xa6\\xdc\\xdb\\\\\\xef[\\x88\\xff\\x00\\x85\\xfef\\xa7\\xf1\\x12\\xee\\xba\\n\\xe9\\xe4\\xee\\x96(\\xf6\\xbf\\xf15UM\\xfb\\xfc\\xb9\\x07\\xcb\\xfc-V\\xdd\\xeef\\r\\x1c\\x96\\xfb\\x85C\\xf6?9\\xd6X\\xbf\\xe0UjM\\x0fkX\\x8d\\xef\\x1eK\\x95\\xb6\\x93\\xee\\xaa}\\xea\\x9b~\\xcb\\x98\\xe4\\xf2\\xf7|\\xbf\\xc5Pyh\\x8e\\xbf\\xc2W\\xf8\\xaa;\\x9d\\xcf\\xbb\\xf7\\xbf2\\xd4\\xc7Q9\\xb8\\xc6\\xc5\\xbb\\xcbo;\\xf7\\x89\\'J\\xa32M\\xb1\\xad\\xe3\\x93j\\xfd\\xed\\xb543;\\xc2\\xd1\\xca~\\xe7\\xde\\xedP\\xf9\\xdf\\xbe\\xf2\\xe3\\x93vhJ\\xd2\\xb0\\xf9\\x97\\xcc}\\xb7\\xc9\\x0f\\x95\\xe6T/\\xf2;I\\x1f\\xf1\\x7f\\x15=\\x113\\xe6I\\'\\xcb\\xfd\\xdaI$\\x84\\xbf\\xd9\\xe3\\x8d\\xb6\\xd5A{\\xca=\\x02W\\xe4\\x1b\\xf7\\xff\\x00y$\\x8d\\xb9R\\xa2\\x86\\xf1\\xd1\\x1a;\\x8e\\x9f\\xc2\\xb5#\\x9f\\xb3M\\xe6|\\xdc\\xd4o\\xb3\\xce\\xfbG\\xde\\r\\xf9\\xd6\\x8d&f\"[\\\\\\xba5\\xccw\\x1fv\\x87\\x99\\xcayw\\x11\\xedf\\xfe*\\x9b\\xce\\xb5x\\xd68\\xfeo\\xe5P^B\\x11\\xd7\\xcb\\xfe/\\xbdD\\\\\\xa5\\x1b1\\xa8\\xa5\\xf0\\xec}B\\xf7(\\x9f\\xea\\xe3\\xdc\\x9b>\\xeaTv\\xd3X=\\x9c\\xd7\\x1ft\\xb7\\xcb\\x1c}\\xe8Kk\\xcf\\xb4\\xc7\\x1cr\"\\xff\\x00\\x17\\xa5D\\x1e\\x17\\xfd\\xe4\\x96\\xfbeo\\xbd^\\\\9g\\x1b\\xa3y\\xc7\\x96Vd\\x90\\xe7\\xed-\\x1c\\x92\\xee\\xfe\\xebTO\\ny\\xcd\\xe5\\xfc\\xc9\\xff\\x00-\\x1b\\xfb\\x94\\\\\\xecM\\xd1\\xc7\\x1e\\xd7\\x1f52o\\xb4\\xfd\\x9b\\xcc\\x8e\\xe3i\\x97\\xef-i\\xee\\x18\\xcb\\x9f\\x99+l>\\xe5.\\x13i\\xce\\xe8\\xbf\\x85\\xaa\\xba:M\\xfb\\xb9#\\xdc\\xdb~V\\xe4l\\xa7$\\xd2y+o%\\xc7\\xfb[\\xbbUy\\xa1\\x997G\\xe6#\\x7fu\\x96\\xb3qr\\xbd\\xcd\\xa1?z\\xf1B}\\xa7\\xcav\\x8e8\\xf7|\\xd4\\x90\\xc7\\xfb\\xe6\\x92O\\xbb\\xb3\\xefT\\xd6vp\\xbay\\x92|\\xa3g\\xcc\\xd4\\xaf\\xf6hm\\xbe\\xcee\\xf9\\x8b|\\xdb\\xea\\\\R\\xd5+\\xb3D\\xdb\\x194\\xd0\\xfc\\xb1\\xc9&\\xe3\\xfc;*\\xca=\\x84\\xc8\\xa9\\xe6n\\x7f\\xe2W\\xa8>\\xcd\\xb1\\x1aC\\x1e\\xe7O\\xba\\xb4\\xaf\\x0b\\xfc\\xb2G\\xd7\\x7f\\xddZ\\x88\\xce\\xf6\\x1b\\x82R\\xb8\\xdb\\x9bh\\x12e\\xfd\\xde\\xd2\\xdf\\xc3\\xe5\\xd47P\\xa7\\x9e\\xd2Hw0\\xf9v\\xa7J\\xb9\\xa9L\\xf7\\x1eX\\x93\\xe5+\\xf7\\xaa\\x1d\\x90\\xba4\\x9fh\\xda\\xed\\xf3m\\xad\\xe2\\xdf-\\xc9\\x94S\\xd8\\xaa\\xfeZ~\\xee\\xf3\\x7f\\xfb-S\\xc2\\xff\\x00c\\x85\\xae#\\xb7\\xdc\\xe7\\xe5V\\xa4\\xb9\\x85.S\\xfd\\xad\\xbbv\\xf7\\xac\\xc7\\x9a\\xf3\\xcc\\xcf\\x99\\xfc[j\\xdd\\x97R`\\xef+\\x12\\xdc\\xbb\\xcd2\\xc7${w}\\xe64\\xe8aI\\xa6o\\xb3\\xfc\\xd9\\xfb\\xadK\\x0e\\xa143yq\\xc7\\xb9\\xd3\\xf8\\xaax]\\x1f\\xcc\\x8e\\xe6_-\\xfe\\xf2\\xf6\\xaev\\x9a\\x95\\xcd\\xb9\\x93\\xd1n&\\x94\\xe9\\x0c-\\x1f\\x96\\x9b\\xff\\x00\\xe5\\xa2\\xb5G7\\xce\\x91\\xc9$\\x89\\xf7\\xe9\\x92$.\\xfeDrm\\x7f\\xe1o2\\x92\\x070\\xa2\\xdb\\xc9\\xf3\\x16o\\xbdW\\xcaO2\\xe6\\xb9,\\xd3\"[4\\x96\\xf1\\xeec\\xfc5Q\\xe1\\xe3\\xf7\\x92\\xd4\\x8f>\\xfb\\x9f.\\xde-\\xbb~\\xf5\\'\\xf1\\xfe\\xee>$\\xfb\\xd4F\\xf1)\\xab\\x88\\x9fi}\\xbee\\xbe\\xe5_\\x97uI;\\xa3\\xed\\x8e\\xdf\\xf8\\x12\\x95&\\xb9\\x86o.8\\xf7*\\x7f\\x15X\\xd9\\x0ch\\xd2G\\x1f\\xdf\\xfe*\\xa7\\xa5\\xbc\\xc8\\x8c_3W\\xd8\\xcb\\x08\\xf7\\x8e\\xd2I\\x1f\\x03\\xe6\\xdbO\\xdf\\xff\\x00-#\\x8d\\xd4\\xd2\\xcd7\\x977\\xd9\\xfe\\xf0\\xfe\\xf5-\\xcb\\xc3\\xf6u\\x8e9>m\\xff\\x005\\t%\\xd0\\x95\\x17+\\xdd\\x90\\xf9\\xcf5\\xca\\xf9\\x91\\xf1\\xfd\\xeat\\xdff\\x7f\\xef\\xee_\\xbbS[[y\\xdf\\xf1\\xf1\\x1f\\xca)\\x976\\xdb\\x1d|\\xd8\\xfeV\\xfb\\xb4\\x1a\\xa5\\xee\\xd8\\x89!\\xbc\\xde\\xd7\\x96\\xd1\\xeeO\\xe2\\xa9\\x05\\xcb\\xc3\\xb69#U%>Z\\x93\\xecoml\\xb2[\\xc9\\xf7\\xbe\\xf2\\xd5]B\\x1f\\xbb\\xe5\\xff\\x00\\xba\\xcdW\\xcd\\xcd\\xd4\\xc9\\xe9+\\xa2_\\xb4\\xf9\\x8a\\xb6\\xf2F\\xec\\xdf\\xc2\\xb5^?9\\x1dd\\x8e>\\x03\\xfc\\xcdSB\\xf6\\xc9\\xb4\\xc9#7\\xf0\\xee\\xefK3\\xc2\\x93yq\\xc9\\xc1\\xfe\\x16\\xa9\\xe7\\xf7\\xacN\\x9d\\x8a\\xa7{\\xdc\\xb5\\xcf\\x99\\xb4\\xab\\xfc\\xb4\\xaf&\\xf9\\xbc\\xcf3w\\xfb4\\xf7\\xfd\\xf3\\xf9~b.\\xdf\\xe2J\\x8e\\xe8\\xf9?\\xbb\\x8f\\xaf\\xf0\\xb585\\xcb{\\x0eM\\x83\\xbe\\xf9\\x9a8\\xe3\\xf9?\\x8a\\x9c\\xfb\\x12\\x05\\x8c\\xff\\x00\\xc0Z\\x93\\xccwv\\x8e3\\xf7\\xbf\\xbbV\\xf4\\xdf\\x0fkz\\xf3\\xad\\xbe\\x8f\\xa1\\xdd]J\\xdf*\\xc7o\\x03\\xc9\\xfc\\x85g%\\xdd\\x8e\\x94\\'?\\x81\\\\\\xc7\\xb9\\x99\\xfe\\xd2\\xb2\\xfc\\xfbC}\\xeat\\xcf+\\xc7\\x1c\\x91\\xc7\\xfe\\xf5{/\\x80\\xff\\x00a\\x8f\\xdaC\\xc7\\x90\\xad\\xc6\\x9f\\xf0\\xee\\xea\\xd6\\xd1\\xf6\\xee\\x9a\\xfe3\\x10\\xfc\\x15\\x86\\x7fJ\\xf7?\\x04\\xff\\x00\\xc1\"\\xf5\\xe7\\x86\\x1dS\\xe2G\\xc4\\x8b=&\\xdb\\xef4<\\x07\\xff\\x00\\xc7\\xab\\x9a\\xae\"\\x94m\\xad\\xec{8|\\x8b1\\xc4^\\xd1\\xb2\\xee\\xf4>%\\x86\\xda\\xf1\\xd3\\xed\\x11\\xc7\\xd5\\xfeU\\xaa\\xd76\\xd7\\x9fn\\x8fO\\x82\\xceY$\\x9b\\xee\\xaa!&\\xbfFS\\xf6f\\xff\\x00\\x82{\\xfc\\x19H\\xff\\x00\\xe14\\xf1\\xe4Z\\xd5\\xcc?4\\x9b\\xe7\\xcf\\xfe:0?J\\xce\\xbf\\xfd\\xb0\\xff\\x00b\\x1f\\x84W\\x8d\\'\\xc3\\x7f\\x84vWS\"m\\x8eO\\xb2\\x8f\\xfd\\x0b\\x02\\xb3Y\\x82Sv\\x8bgo\\xfa\\xbdF\\x8c\\x7f\\xda+\\xa8\\xae\\xc9\\xdc\\xf9\\x13\\xe1_\\xec?\\xfbH|Z\\xd4\\xa1\\xb7\\xf0\\xff\\x00\\xc3\\xfb\\xab{y\\xbef\\xba\\xbf\\x8c\\xc4\\xa8\\xbf\\x96\\x7fJ\\xfaS\\xe1\\xa7\\xfc\\x12\\xbf\\xe1\\xa7\\x85v\\xc9\\xf1\\xc3\\xe3\\x04\\x16\\xb3\\xff\\x00\\xcf\\xbd\\x9b\\x84)\\xff\\x00}guq_\\x16\\xbf\\xe0\\xa9\\xbf\\x14|U\\x0c\\xda_\\x834\\xfb}\\x0e\\xd3\\xe6U\\xfb.\\x03\\xed\\xff\\x00\\x80\\xd7\\x82\\\\\\xfcT\\xf1\\xff\\x00\\x8euY5\\x0f\\x10x\\xa2\\xea\\xf1\\xe5}\\xdf\\xbd\\x9c\\x9f\\xd2\\xa3\\xfd\\xb6\\xb4\\xaf~Tj\\xa7\\x91`\\xa3\\xeeE\\xd4~{\\x1ff\\xeb\\x7f\\xf0K/\\tk\\x16k\\xaa|\\'\\xf8\\xe3\\x05\\xc3\\x16\\xf9m\\xee\\xbc\\xb2\\x7f5\\xc7\\xf2\\xaf2\\xf1\\xff\\x00\\xfc\\x12\\xef\\xf6\\x93\\xd2\\x9f\\xcc\\xd1\\xec\\xec5+O\\xe2\\xb8\\x8ar\\x0f\\xfd\\xf3\\x82?Z\\xf1=\\x1f\\xe2\\xbf\\xc4/\\t\\\\\\xaf\\xfc#\\xfe(\\xbf\\xb7o\\xbc\\xcb\\x14\\xe4\\x7fZ\\xef4\\x1f\\xdb\\xb3\\xf6\\x8a\\xd1,\\x16\\xde\\xdf\\xc7\\x17\\x1b\\x17\\xf8e\\xc95\\xd7\\xcb\\x8b\\x8co\\x19\\\\\\xe4X\\xbc\\x83\\x11&\\xaaQ\\xe5\\xf4v\\xfdJ\\x9a\\xb7\\xfc\\x13\\xdf\\xf6\\x99\\xd2\\x93\\xcc\\x8f\\xe1\\xdc\\xb3\"\\xfd\\xe6\\x8ap\\x7f%8\\xac;\\xff\\x00\\xd8\\xab\\xf6\\x90\\xd1\\xf7\\\\I\\xf0\\xafT\\xff\\x00k\\xf7`\\xff\\x00\\xe8$\\xd7\\xa0[\\x7f\\xc1N\\x7fh\\xdbiV8\\xfcI\\x14\\xc1\\x13\\xee\\xbag\\xfe\\xfa\\xe6\\xba\\x1b?\\xf8+\\x17\\xc7tU\\x8fP\\xd2\\xec\\xae\\x10\\xfc\\xbb|\\xb1YJx\\xf5\\x1b\\xd9\\x1a\\xaa\\\\/U\\xd9JH\\xf0\\x8b\\xff\\x00\\xd9\\x8f\\xe3e\\xb6\\xe95\\x0f\\x86z\\xbc{\\x7f\\x89l\\\\\\xd77\\x7f\\xe0\\xcf\\x1f\\xe8\\x9bt}C\\xc2z\\x8cq\\xab3,r\\xd8\\xc8\\x83w\\xfc\\x08W\\xd76\\x1f\\xf0V\\xbf\\x18C\\n\\xc7\\xae|;\\xd2\\xee\\x07\\xf7\\x92<\\x1a\\xd1\\xb3\\xff\\x00\\x82\\xa9\\xf8\\x0fU\\xbao\\xf8H>\\rY\\xc8G\\xdd\\x91P\\x7f\\xf5\\xab%\\x88\\xc5\\xaf\\xf9vm,\\x0eE\\'x\\xe2\\x1a\\xf9\\x1f\\r\\xeaZU\\xe4.\\xbfl\\xb3h\\xdc\\xff\\x00\\x0b\\xd4I`\\x9eO\\x99\\xff\\x00\\x8fW\\xdf\\xf6\\xdf\\xb7o\\xecy\\xe3h\\x97O\\xf1\\x87\\xc1\\xbbu2\\xfd\\xef\\xdcq\\xff\\x00\\x8f\\x03N}+\\xfe\\t\\xad\\xf1iW\\xecVv\\xbaL\\xd3\\x7f\\x12~\\xef\\xff\\x00A\\xaa\\xfa\\xfc\\xf6pi\\x19\\xac\\x87\\x07V\\xee\\x8e!6\\xfa4~}\\xf9\\xc8v\\xc7oo\\xf2\\xff\\x00z\\x9ds\\xfb\\xe8|\\xbf\\xb3\\xfd\\xe5\\xaf\\xbb/\\xff\\x00\\xe0\\x9b\\xff\\x00\\xb3\\xc7\\x8bQo>\\x1b\\xfcd\\x8b{\\xb7\\xcbo,\\x80\\x8a\\xf3\\xef\\x1f\\xff\\x00\\xc1+\\xfe4\\xf8z\\xc2K\\xcf\\x0b\\xea\\x96Z\\xb2\\x07\\xdd\\x1c1pv\\xff\\x00*\\xd69\\x85\\x16sT\\xe1\\xac}(\\xf3F\\xd2^L\\xf9.\\x14xd\\xf2\\xe3\\x8f\\x9d\\xbf*\\xd2\\xd8\\\\\\xcdus%\\xbc\\x91\\xed\\xfe\\xf2\\xbdw\\x1e6\\xfd\\x9f\\xbe/x\\x0f\\xce\\xff\\x00\\x84\\x93\\xc0w\\xf6oo\\xfe\\xb2f\\x83+\\xb7\\xea8\\xaeE,&I\\x9aO\\xb3\\xb2\\xb1\\xf9\\x99\\xab_o\\x1a\\x9dnyu0\\x98\\x9c&\\x93\\x8bO\\xd0\\xa5s=\\xcd\\xb4\\xd8\\xf2\\xd1\\x7f\\x85V\\x99\\x0c7\\x97\\xee\\xdeg\\xcb\\xb5~\\xedY\\x9a\\x17wh\\xe4\\xe9\\xf7\\xa9\\xc9!O\\xf8\\xf7\\x8f\\xe6\\xd9\\xf2\\xb5h\\xdc\\x94n\\x8c\\x1a\\xbe\\xee\\xc5?\\xdfB\\x9fg\\xfb:\\xff\\x00\\xbd\\xc5B\\xe8\\x8b\\xb6\\xdb\\xe7\\xdf\\xfcMW\\xe5\\xbaw\\xb9\\x8eO->_\\xbd\\xb2\\xa1\\xd4\\x1d\\x1d<\\xc8\\xe3\\xda\\xef\\xf7Z\\xae\\x12\\xf7nO%\\xf6\\x1bs\\nl[\\x8f3s/\\xdeZ\\xac\\x89\\xbe\\xe5\\xbfy\\xb5\\x7f\\x86\\xa5\\xfbN\\xcbo\\xf5\\x7f2\\xd4W7\\x90\\xcd\\x0f\\x99oo\\xe5\\xb2~oOu\\xa9N-\\x04\\x96\\xd3:I\\xf6y>D\\xfb\\xcb\\xde\\x9e\\x89\\xbe\\x1f2O\\xb8\\x9fy\\xaa\\x1b7\\x9a\\x04o\\xdem\\xdd\\xf7\\xb7T\\x93L\\xff\\x00f\\xf2\\xed\\xe3\\xdd\\xfd\\xea\\x97\\x19 \\xb9\\x10\\xb6\\xb6\\xf3\\xbe\\xd1\\x1f\\xcd\\x9f\\xba\\xbeeA2[O\\xb8I#FE:\\xce\\xe5&\\xfd\\xdc\\x91\\xed\\xc5%\\xcf\\xd9\\x93\\xf7\\x9e_\\xcc\\x7f\\x86\\xaa\\xfa\\xd8Q\\xbb*<3>\\xd8\\xee$\\xe3\\xf8Z\\x8b\\xa8f\\xf9m\\xed\\xe7\\xfb\\xbf\\xc5V\\xb6}\\xd8\\xfc\\xbf\\x97g\\xde\\xedU\\xe6p\\xfb\\xa3\\xf39_\\xbb\\xb6\\xa9I\\xa2d\\x9f+}\\xc8|\\xb9\\x90\\xff\\x00\\xadL/\\xde\\xa7\\xa4p\\xc32\\xc7\\xf7\\x93\\xef*\\xd3\\xe6\\xb6t\\xb6Y$\\x8f\\xe7\\xfe\\xf5+\\xcc\\x90\\xdbq\\xf7\\xbf\\xbdT\\xdd\\x81\\xc7\\x94\\x8ahS{~\\xe9\\xb7\\xbf\\xfa\\xb5\\xa8\\xdf\\xed(\\x8d\\x1d\\xc7\\xdd\\xa9\\xa0\\xbc\\x85\\xe6\\xf3#\\x8fsR<\\xd6\\xd3#I${\\x9f\\xfd\\xbaKA8\\xc1\\xca\\xe5{hg\\xff\\x00W\\xe6}\\xff\\x00\\xba\\xd4\\\\\\xc3\\xf6gk=B7\\x85\\xd3\\xef5#\\xff\\x00\\xcfH\\xee6\\xa8\\xfb\\xbb)\\x93?\\xdb\\'h\\xa4\\xb8\\xf3\\x1c\\xa7\\xde\\xab\\xbf\\xbd\\xe4J\\xe5p\\xf3\\xfc\\x08\\xaeQ&\\x87\\xcc\\xf3\\x1b`J\\xaa\\xee\\x89\\xe5\\xc9\\x1b\\xfd\\xe5\\xfe:\\x9d\\xe6t\\xdc\\x92\\x7f\\x0f\\xf0\\xd0\\xf6n\\x9f\\xbd\\x90n\\x88\\xfd\\xda\\xd14\\xfa\\x91$\\xc8\\xd1\\xdd#o24\\xfe\\xf35\\x06\\x137\\xefc\\xff\\x00\\xbe\\xa9\\xee\\x90\\xa2yq\\xc7\\xb9\\xa9\\xb6\\xd3?\\xcdo\\'\\xca?\\xbbJK\\x97`\\x8f3\\x95\\xae$\\xdeK\\xcc\\xb6\\xf1\\xc7\\xb7\\xfd\\xcabC\\x1d\\xb4\\xdeY\\xfd\\xe2\\x9f\\xe2\\xa5wO\\xb4\\xacq\\xc7\\xf3\\x7f\\x0bU\\x9b\\x9b\\t\\xac\\xe1\\x8e\\xe6I\"l\\xfc\\xdb|\\xcc\\x9a^\\xfc-~\\xa5Y\\xceM>\\x85[\\x97O\\xf9i\\xf7\\xbf\\x85j\\r\\x89\\xbf\\xfd\\xe6\\xabW(\\xf734\\x9f\"\\xff\\x00\\xb3P\\xcc\\x9b\\xd3\\x11\\xefW\\x0f\\xf3-i\\x17x\\xdc\\x86\\x9a\\x95\\xac\\x10\\xc0\\x96\\xce\\xdeg\\xdd?v\\x9a\\x8e\\xfeg\\xfa\\xaf\\x95\\x9a\\x93\\xce\\x7f\\x96?\\xb3\\xee\\xfe\\xf529\\x9e\\xe7\\xf7f=\\xa8\\xaf\\xb9\\x99\\xa8\\xf7\\xa7\\xb9\\x0e6\\xd8\\xfar\\x14w\\x7f2K\\x8f\\x97\\xee\\xaa\\xbdV\\xb9\\x99\\xec&_25m\\xff\\x00u\\xbb\\xd5\\x9bm\\xee\\xedy\\xf7W\\xf8j\\xb3\\xdbL\\xee\\xd2\\\\}\\xd5o\\x95\\x96\\xbc\\xa4\\xdb\\x95\\xce\\xc9(h\\xfa\\n\\xef7\\x9d\\x1f\\xda#\\xda\\x8f\\xfc]\\xeaT\\x87\\xceF\\xf3%V_\\xbb\\xba\\xab\\xdey\\xc1\\xda\\xe2;\\x8d\\xaa\\xff\\x00\\xc3O\\x85\\xf7\\x96\\x8a?\\xe1\\xfe*\\xae\\x97\\x1cb\\xb5\\xb9\\x03\\xdb&\\xff\\x00\\xb3\\xdcI\\xb9\\x83|\\xac\\xbd)^\\xd9!\\xb6\\xf3>M\\xc1\\xfeZd\\xdb\\xcb\\xaf\\x97\\xf2\\xbb|\\xdf5G\\xb2d\\xdb$\\x83r\\x06\\xf9\\xaa\\xaf=\\xfa\\x12\\xd2[jh\\xc2\\xf1\\x84\\xf3c\\xdb\\xb1\\x97\\xe6Z\\xcet3\\\\\\xaf\\x99\\xfc\\x0f\\xf2\\xd4\\xce\\xfeM\\xb2\\xdc\\x196\\x83PMl\\xfb<\\xc9>l\\xbf\\xca\\xd5\\\\\\xaf]E\\x19\\xf2\\xe8\\xd6\\x84\\xe9\\xf2y\\x92I&\\xed\\xcd\\xb5\\xa9\\x1f\\xf7(\\xbfh\\xf9[\\xefzR\\'\\xd9\\x9e\\xdd\\xad#\\x0f\\xbfv\\xea\\xad+\\xcb4\\xdb$\\x93j\\xaf\\xcb\\xba\\xb1Q\\xb4\\xd9\\xab\\x92RJ\\xdb\\x92\\xb5\\xb0\\xbc\\x7f\\xb4\\xfd\\xa3k/\\xde_\\xef\\xd5\\x98l\\xed\\x9f\\xe4\\x92?\\x9d_\\xe5W\\xa8l\\xd2\\xcd?wq\\xb9\\x86\\xdf\\x96\\x96\\xf2\\xf3\\xcb\\xdd\\x1crmQ\\xfcUM\\xc9|$+8\\xdc2\\xf0\\xee\\x92O\\xe1\\xaah\\xe9\\xbd\\xa4\\xfb>\\xdd\\xb5b\\x197\\xbc\\x9f\\xbcvG\\xfe\\x17\\xa6\\\\\\xba\\x17\\xf3#\\xf9\\x7f\\xbdN\\xcf\\x9a\\xf2!$\\xfa\\x8c\\xd8\\x96\\xc8\\xb2I\\x1f\\x98\\xee\\xff\\x00\\x8d$\\xdeM\\xc8[\\x8b\\x899\\xfe\\xefz\\x8a\\xe6hp\\xb2G#\\xb3\\x8f\\x99vt\\xa8\\x92\\xf1\\xdd\\x1aO/\\xf7\\x9f\\xdd\\xa5\\xafs]*[\\xad\\x89\\xde\\xd6\\x1f\\xb4\\xac\\x91\\xc9\\xf3\\x7f\\x15C\\r\\xce\\xc7h\\xe4\\x8fw\\xcfO\\x9ah^\\x15\\x8f\\xee\\xbdD\\x8e\\xe8\\xeb$rn\\xfe\\xf5W\\'6\\x97\\xd0\\xa7\\xa8\\xfd\\xe8\\xfb\\xa3\\xf2\\xfe\\x7f\\xefS\\xec\\xf6y\\xcb\\x1d\\xc1\\xda\\x13\\xee\\xb5\"@\\xe3\\xf7\\x91\\xedm\\xd5\\x15\\xcb\\x94\\xe6N\\xad\\xfc)E\\xadd\\xb63i\\xcan\\xe6\\x87\\xdb\\xd1\\x03[\\xdb\\xfc\\xca\\xf5A\\xef\\x13\\xe5\\xb3\\xb8\\x8f\\x95\\xfb\\xd5c\\xc9G\\x85n#\\x93j\\xa7\\xde\\xf5\\xaa\\xcff._\\xcc\\xf3?\\xdd\\xa5\\xcb\\xef\\xdb\\xa1\\xa3\\x93\\x8e\\xc8t\\xd0\\xd9\\xa3\\xff\\x00t\\x1f\\xe1zl(\\x8e\\xfe\\\\q\\xff\\x00\\xbbQ\\\\\\xd9\\xbe\\xc8\\xe2\\xbc\\x8d\\xf7+|\\xabN\\x92\\x1f\\xb1\\xba\\xc5\\x1fJ.\\xc4\\xd76\\xc4\\xd0\\xc3/\\x9c\\xd6\\xf2I\\xb4\\x8f\\xbc\\xd4\\xdb\\xd9\\xa1\\x9fo\\xfaG\\xce\\x9f\\xc3K\\xb1\\xdb\\xf7\\x96\\xf2n\\'\\xefS~\\xcc\\x9f4\\x97\\x9f+\\xec\\xfd\\xda\\xd4\\xf3>k\\x0f\\x97\\xdd\\xb5\\xc7\\xa2=\\xcb\\xfd\\xa296\\xaf\\xf7{S._f\\xd7\\x96\\xdfr\\xd3\\x92\\x17\\x993\\x1c\\xbc\\x0f\\xe1\\xa7Y\\xe8\\xf7\\xfa\\x95\\xe2\\xdb\\xd9\\xc6\\xec\\xe7\\xe5X\\xd2<\\x9a\\xa78Gf(\\xc6j\\xdanW\\xd9\\nB\\xdeT\\x7f\\xefTQ\\xa3\\xcd\\xf5\\xfe\\x1a\\xfa\\x07\\xe0?\\xfc\\x13\\xf7\\xe3\\xdf\\xc6;\\x98\\xefc\\xd0\\xff\\x00\\xb2l\\x1d\\xff\\x00\\xe3\\xf2\\xfe2>_\\xf7z\\xff\\x00*\\xfa\\x8f\\xc2\\xbf\\xb0\\x1f\\xec\\x91\\xf0\\x12\\xc3\\xfbc\\xe3\\x87\\x8d-u\\x0b\\xa8St\\x90\\xbc\\xf8\\x1b\\x87\\xa2t\\xfeu\\xcfS\\x1bMm\\xa9\\xec\\xe1x{\\x1b\\x89\\xe5\\x9c\\xd7*\\xee\\xcf\\x80\\xbc\\x07\\xf0\\xaf\\xc7?\\x10\\xae\\x7f\\xb2\\xfc\\x1f\\xe0\\xfb\\xfdBc\\xf2\\xee\\xb7\\x80\\xb8\\xff\\x00\\x81\\x1c`~&\\xbe\\x87\\xf8c\\xff\\x00\\x04\\xa3\\xf8\\xd3\\xe2{u\\xd4<q\\xa8Z\\xe86\\xcf\\xff\\x00=d\\x0f\"\\x7fO\\xd6\\xbd\\x9b\\xc7\\x9f\\xf0P\\xef\\x80\\xff\\x00\\x06t\\xd6\\xf0\\xff\\x00\\xc0o\\x03\\xda\\xc9$\\x1f,w\\r\\x1a\\x81\\xfc\\xab\\xe6o\\x8c\\x7f\\xf0P\\x8f\\x8f\\x1f\\x13\\x9d\\xbe\\xd9\\xe2Yla\\x93\\xe5[{^\\x05b\\xab\\xe2\\xabi\\x05dw\\xbc\\x16E\\x97\\xff\\x00\\x16no\\xc8\\xfa[\\xc3\\x7f\\xb0\\xf7\\xecI\\xf0\\x1e\\xd9u\\x0f\\x8a\\x9f\\x10\"\\xd4\\xaeb\\xf9\\xa6\\x85\\xe7\\xce\\xff\\x00\\xc1x\\xaa\\xfe$\\xfd\\xbc?d/\\x82p\\xff\\x00c\\xfc\\x1f\\xf8Wg1\\x8f\\xe5Y\\x92\\xd0(\\xdd\\xfaW\\xc0\\xde!\\xf1?\\x895\\x8b\\x9f\\xb6\\xea\\x1a\\xc4\\xf3L\\xff\\x00y\\xa5\\x90\\x93X\\xf7\\x90\\xbb\\xa2\\xfd\\xb2GW\\x7f\\xe2\\xad\\x16\\x1aR\\xf7\\xaa\\xce\\xe6Ux\\x82\\x9d\\t{<-\\x15\\x15\\xe8}s\\xf1\\'\\xfe\\n\\xb9\\xf1\\x83\\xc4\\x90\\xc9\\xa7\\xf8>\\xde\\xd7I\\x85\\xbeX\\xd6(\\xfe\\xe7\\xe5\\x8a\\xf0O\\x1e~\\xd4_\\x1c\\xbcm4\\x92x\\x87\\xe2\\x05\\xec\\xca\\xff\\x00v4\\x9c\\x81\\xff\\x00|\\xd7\\x07$)\\x0c8\\xf3>UO\\x96\\xaa\\xc3\\x1d\\xb7y\\x19\\x9f\\xf8\\x9b\\xb5Z\\xa1It<\\xca\\xd9\\xbe?\\x13.W;/R\\xd4\\xd7\\x9a\\x95\\xff\\x00\\x99\\xfd\\xa1q,\\xcc\\xff\\x002\\xb3I\\x9a\\xa0\\xf3>\\xcf.Y\\x7f\\xd9\\xabW\"g\\xb3X\\xe3\\x93i\\xfe\\xf5f\\\\\\xcd\\xe4C\\x1cr\\xc7\\xf3\\xd6\\x90\\xe48\\xaa^S\\xe6n\\xec\\xaa\\xf6\\xdb\\x1eO3\\xe6c\\xfc5\\xaf\\xe1\\xe7\\xd8\\x8b\\xfc-\\xfd\\xea\\xce{\\x98^O.O\\xbf\\xb3ukh2L\\xb0\\xb4\\x9eZm_\\xbc\\xd5M\\xb7\\xd0\\x87$\\x8d\\xebk[g\\xb3k\\xcb\\x897I\\x0f\\xcd\\xfe\\xb3\\x15\\x9e\\xf7\\x96\\xd7?\\xbc\\x96=\\xaa~\\xf2\\xf4\\xab\\x16w0\\xf9\\xcd\\x1f\\xdeIS\\xee\\xf5\\xac\\xd7\\x85\\x1d\\xe4\\xf2\\xfeQ\\xbf\\xee\\xd6\\xb1\\x95\\xcenF\\xe5u\\xa8\\xc7\\x99\\x104q\\xc7\\xf2\\xee\\xa7o\\xd9\\x0f\\x99\\x1c\\x9b\\x7f\\xbbP\\xdc\\xd9\\xcd\\xbd\\xa3\\x11\\xf0\\xbf6\\xe7\\xa8\\xd2\\xd9\\xd1\\xd69$\\xdd\\xfcKQg\\xca\\xdd\\xcdi\\xd9I\\xb1\\xd3<\\x7f,\\x92I\\xb9Z\\xa2\\xf3\\xb6B\\xdfg\\x8f\\xef\\x7f\\x15K\\'\\x98\\x90\\xf9W\\x9bv\\xff\\x00\\rA7\\xf0\\xc9o\\xb9\\x7f\\xd9\\xa183I\\xea\\xacH\\x8f\\xe4\\xa7\\x99\\xe6s\\xfc-R\\x9b\\x99\\xa1\\xff\\x00I\\x8e\\xe3\\xe6\\xd9\\xfc=j\\x8b\\xc2\\xe8\\x8dq${\\x99\\xa9!xP\\xfe\\xf2GV?\\xc3G(9r\\xab\\xa3sD\\xf8\\x85\\xe3\\r\\x11\\xd6M\\x1f\\xc4\\x17V\\xa5\\x1fr\\xb4S\\x91^\\xa1\\xe0o\\xdb\\xc3\\xf6\\x81\\xf0\\x1d\\xe4ri^0{\\x88\\x93o\\xee\\xee$$\\xd7\\x89\\xf9\\xd0\\xc8\\xed\\x1f\\x99\\xb7\\xe6\\xa9\\xa6\\xf2w\\xac\\x96\\xff\\x00{o\\xcdYN\\x8d\\t\\xc9&\\x8e\\x9a8\\xdcU\\x0b\\xb8\\xcd\\xdb\\xd4\\xfb\\x83\\xc0\\xdf\\xf0T\\xab\\rm\\x17O\\xf8\\xc1\\xf0\\xfe\\x0b\\xa8\\x9d6\\xc9p\\x9b\\t\\xff\\x00\\x81WO\\xf6\\xcf\\xd8\\x03\\xf6\\x81\\xb0\\x93\\xcb\\xb3\\x8bG\\xbb\\x9b\\xfb\\xb1\\x88\\xce\\xef\\xf7\\x97\\x15\\xf9\\xf7\\x0c\\xd3L\\x8d\\xfd\\xd5\\xa6&\\xa5ym\\xb8Gq\\xb7\\xfd\\x95\\xe2\\xb8\\xe5\\x80\\x8c\\xae\\xd3i\\xf4=\\xaa\\x1cG\\x8cPP\\xad\\x15%\\xe6\\x8f\\xb4\\xfcm\\xff\\x00\\x04\\xb8\\xb0\\xd7\\xad\\xa4\\xd7~\\r\\xfcD\\x82\\xf1\\x1d7Gk>\\t\\xff\\x00\\xbe\\x85|\\xef\\xf1\\x0b\\xf6?\\xf8\\xe5\\xf0\\xae\\xf2h\\xf5\\xcf\\x07\\xddI\\n\\xab3\\\\Z\\xc6\\xce\\x9f\\xcb\\xe5\\xaa\\xde\\x03\\xfd\\xa7\\xfe+\\xfc=\\xf2d\\xf0\\xff\\x00\\x8a.\\xa1\\x8e=\\xbf+\\xceH\\xfeu\\xf4\\x9f\\xc2\\xef\\xf8*%\\xcd\\xfcp\\xe8\\xff\\x00\\x18<?\\x15\\xe5\\xa2\\xae\\xd6\\xba\\xeav\\xd6\\\\\\xd8\\xda\\x1egS\\x9eA\\x98i(\\xfb9wG\\xc4\\xb76\\x17\\xf6o%\\xbf\\x96\\xd9\\xdf\\xb5\\xb7\\xf5J\\xa7\\xe4;\\xbf\\x95\\xe6.\\xef\\xe2\\xf5\\xaf\\xd2\\x1do\\xe1/\\xecy\\xfb[\\xd86\\xa1\\xe1=B\\xdfK\\xd5$M\\xd1\\xb2\\xba!\\xdd_4\\xfcu\\xff\\x00\\x82q|f\\xf8o\\xe7j\\x9a\\x1d\\x9f\\xf6\\xc5\\x9a|\\xcb5\\xac|\\xed\\xff\\x00w\\xfc+z9\\x8ce\\x1eZ\\x9a3\\x93\\x17\\xc3\\xb5\\xa0\\xbd\\xa6\\x1eJk\\xc8\\xf9\\xc5\\xec\\xa6D\\xf3<\\xcd\\xcf\\xfcKP\\xc3\\xcb\\xf9X\\xf9\\x7f\\x89\\xbc\\xba\\xd1\\xd6tMKD\\xb9\\x93K\\xd44\\xf9\\xed\\xeeG\\xfa\\xc8\\xe5B\\rS\\xb6\\xfbJ\\'\\xd9\\xee#\\xfb\\xdfw}z\\t\\xf3F\\xe8\\xf0%\\tQ\\x93\\x8c\\xa2\\xd3BM\\x0c.\\x8d%\\xc7\\xcb\\x9f\\xbbU]\\xe1\\x87\\xf7q\\xc9\\xf2\\x8f\\xbc\\xdf\\xdf\\xa9o\\xff\\x00\\x8a96\\xb3\\x7f\\r16#\\xac\\x92}\\xda\\xa8H\\x89B]\\xc6l\\x8f\\xfddq\\xfc\\xbb\\xe8\\xbaH\\xa6F\\xf3>W\\x1fv\\xae=\\x9d\\x9b\\xdb1\\x92\\xe3k\\x7f\\x0e\\xda\\x86{m\\xf0\\xf9\\x91\\xdcn\\xfe\\xea\\xd4\\xf32\\xdc\\x13\\xf8\\x8c\\xd7\\x86\\xe5\\xe6X\\xad\\xe4\\xe3\\xf8\\xaa\\xbb\\xef\\xb7\\x9b\\xcb\\x92>w\\xfc\\xb5e7\\xdbH\\xb2y\\x9f\\xedQv\\x8e\\xf2y\\x91\\xc6\\x8b[\\xde|\\xbeF\\x0f\\x95\\xdf\\xba%\\x86c7\\x12G\\xf2\\x8a\\xa9z\\xf0\\xfd\\xa5\\xa3\\x93\\xa7\\xde\\xdd\\xda\\x9d\\x0c\\xcf\\xe7y\\x91I\\xfe\\xf2\\xd3/\\x12\\xdb\\xed>_\\xce\\xc5\\x93\\xe5Z9B\\xfc\\xd1\\xb1\\x047\\xe9\\xfe\\xb2?\\xe1\\xfb\\xb5$/\\xf6\\x97o2=\\xdf\\'\\xcc\\xd4[Y\\xba?\\x97\\x1c\\x7f7\\xfbt\\xef\\'\\xe4h\\xe3\\x91\\xd5\\xbf\\xbbE\\xd2\\xd9\\x12\\xa3o\\xf8\\x059\\x91-nZ;\\x7f\\x99\\x1b\\xf8i\\xd6\\xce\\x89\\xfe\\x99\\x1c\\x9f59-\\xbc\\xcd\\xb2I\\x1e\\xe0\\x1f\\xe6\\xa8\\xf6B\\x8f\\xe6co\\xf7V\\xad\\xbb\\x89\\'N\\xa6\\xa3\\xaf$\\x86d\\xfbG\\x97\\xb4\\xaf\\xde\\xa8\\xfc\\xef;\\xf7q\\xee\\xf2\\xd5~e\\xa9\\x9e\\xe5\\xe6O3\\xcb\\xf9V\\xaby\\xd3oS\\xe6pj\\xa0\\xed\\xb2\"\\xed\\xee\\'\\x9c\\\\~\\xec|\\xd4#\\xa0O\\xde\\x7f\\xdfU#\\x94\\x85$\\xf3#\\xfe:b\\'\\xees$\\xbf3\\x7f\\x0fJ\\xa8\\xebr-\\xefX\\x85\\xf2\\xe1n#\\x8fn\\xdf\\xbdC\\xbc\\xd7\\x8f\\xe6y\\x9fw\\xe5\\xa7B\\xfeL\\x9f\\xbc\\x8f\\xfd\\xeaI\\xbc\\x94\\x9b\\xcc\\xa2\\xe5\\xb4\\x97Pxs\\x0f\\x99$\\x9c\\xff\\x00\\x0bT(\\xfb\\xee|\\xc9?\\xbb\\xb6\\xad\\xff\\x00\\xc7\\xb2,\\x92\\xfc\\xdb\\xbem\\xafP:o\\x9b\\xed\\x12G\\xf2\\xef\\xf9i\\xc5\\xda7\\x13w\\xf7H\\xdfb?\\xee\\xe4\\xff\\x00\\x80\\xd3&\\xd9\\x1e\\xd8\\xfe~\\x7f\\x8a\\x9d3\\xdby\\xde\\\\q\\xfc\\xc7\\xf8jG\\xd8\\xe9\\xe5\\xfd\\xd1\\xfc-J2\\xbe\\xe2Wrj\\xe7\\xd1/4\\xd0\\xee\\x8e8\\xf7/\\xf7jm\\xf770\\xaf\\xf0\\x9f\\xe2Z\\xfa\\xa2\\x1f\\xf8$\\xbf\\xed,\\xfb\\xa4\\x1f\\xd9m\\xb9\\xfeo\\xf4\\xb2\\x0f\\xfe\\x81K\\x0f\\xfc\\x12;\\xf6\\x93\\xfbcy\\x97\\x9a4(S\\xe6io\\xb3\\xb3\\xf2\\x15\\xe6:\\xc9G\\xe2W=\\xd7\\x91f.\\xa5\\xbd\\x9b\\xb1\\xf2~\\xa5m2\\x16\\xc8I6\\xfd\\xd6\\x15\\x15\\xb5\\xcd\\xd6\\xf6\\x8e?\\x99>\\xeb5}\\xa5\\xa5\\x7f\\xc1\\x1d\\xbe*K\\xfb\\xcdS\\xe2&\\x89o\\x8f\\xbd\\xfb\\xcc\\xd6\\xe4?\\xf0F\\xadm\\xec\\x1a/\\xf8[\\x1akH\\xff\\x00z8\\xa3\\xff\\x00\\xeb\\xd6?Y\\xa5\\x19Z\\xe7J\\xc83\\x19F\\xfc\\x9f\\x8a\\xff\\x003\\xe1\\xd7t\\x9a\\x1f.M\\x9b\\xd7\\xf8\\xaa\\x1f\\xb6B\\x9bc\\xf2\\xf7\\x7fz\\xbe\\xd3\\xd6\\xff\\x00\\xe0\\x8c\\x9f\\x14m\\x11\\x7f\\xb2\\xfcq\\xa7]g\\xee\\xb3\\xc7\\x8f\\xe5\\x9a\\xf3\\xff\\x00\\x12\\x7f\\xc1.?i\\x9f\\x0c$\\xdfg\\xf0\\xd5\\xbd\\xf0_\\x95\\xbe\\xcf??\\x86\\xe0\\x06+h\\xd5\\xa3\\xc9\\xba9\\xaa\\xe4\\xf9\\xb4\\'\\xad?\\xd4\\xf9\\xa6\\xf3b#y{\\xe4O\\xbc\\xabJ\\xf6\\xdfi\\x85d\\x93s&\\xff\\x00\\x9bmz\\x9e\\xa5\\xfb\\x14\\xfe\\xd0\\xfa=\\xcb[\\xeb\\x9f\\x0b\\xf5x\\xf6}\\xd6X<\\xc1\\xfaf\\xb9\\xedo\\xe0\\x7f\\xc5\\x1d\\x05\\xe4\\x8e\\xf3\\xc0\\xfa\\xa4;>\\xf7\\xfa\\x0b\\xe3\\xf9V\\xbe\\xd18Y\\x1cR\\xc0\\xe2\\xe1\\xbc\\x1a\\xf9\\x1cZ\\\\\\xa2<\\x91\\xf9\\x7f\\'\\xf7\\xa9&\\x87\\x1bd6\\xfb\\x99~j\\xdd\\x7f\\x00x\\xce\\x18~\\xd1\\'\\x84\\xf5\\x1d\\xbf\\xc5\\xfe\\x88\\xf9\\xfeUN\\xf7\\xc3\\x1e\\'\\xb6\\x9a?7G\\xbaS\\xfc*\\xd0\\x1a\\xc58s&\\xfa\\x95\\xf5lL~(\\xb7\\xf23aG\\x9ai$\\x8e=\\xbbWu6i\\x8b\\xbb$\\x9b$\\xcf\\xdej\\xd1}\\x07^\\x8d\\xd694;\\xaf5\\xbe\\xf6\\xe8\\x1f\\xfc)\\xaf\\xe1-cg\\xda.4y\\xe3U\\xff\\x00Y\\xb9\\x08\\xa7\\xedW5\\xacS\\xc3\\xd4\\x8cyT]\\xfd\\x0c\\xf8Ro\\x9a9#\\xdc\\x1a\\xa1\\xbf\\x87\\xe4Yd\\xf9Q\\xbeU\\xab\\xe9\\xe1\\xddy/\\x17\\xecz]\\xc4\\xdb\\x93w\\xcb\\x195}\\xfe\\x1e\\xfcB\\xd5aY-\\xfc\\x1f\\xa8\\xb4A\\xf7|\\xb6.G\\xf2\\xaa\\xf6\\x9ed,=IF\\xea-\\xfc\\x8eq\\x12\\x14F\\x8c[\\xfc\\xbb)\\xbfe\\x85\\xde9-\\xfe]\\x9fz\\xbd\\x03J\\xfd\\x9d~6k\\x1b\\x7f\\xb3\\xbe\\x19\\xea\\xd2y\\xc9\\xf2\\xb7\\xd8\\\\\\x0f\\xd4WE\\xe1\\xdf\\xd8\\x87\\xf6\\x96\\xd5\\x7f\\xd5\\xfc\\'\\xd4c\\xca|\\xad,a\\x07\\xeak\\x19U\\xa5\\xf6\\x99\\xd5G-\\xc5\\xca\\xd6\\x84\\xbe\\xe3\\xc7\\xaeR\\xda\\xe57\\xc9o\\xb7o\\xf1S\\x12\\xce\\x19\\x91\\xa3\\x8c|\\xbf\\xf5\\xce\\xbd\\xef\\xfe\\x1d\\xdd\\xfbR\\xcc\\x8d$_\\x0b\\xe7]\\xad\\xf3+N\\x9f\\xe3L\\xbc\\xff\\x00\\x82}~\\xd5\\x1aT>k\\xfc\\'\\xba\\x91v\\xfd\\xdby\\xe3\\'\\xf5\"\\x8au\\xa0\\xa6\\xf5\\xdc\\xd2\\xa6U\\x985\\x7ff\\xfe\\xe3\\xc2\\x92\\xcd\\xd3lq\\xff\\x00\\x17\\xf7j\\xcd\\xcd\\x85\\x9d\\x97\\xef$\\x91\\xb9\\xfb\\xb5\\xe9z\\xf7\\xec\\xaf\\xfb@h6\\xed%\\xe7\\xc2\\xfdYJ?\\xcd\\xb6\\r\\xdf\\xfa\\x0ek\\x95\\xd4\\xbe\\x11|Q\\xb6u\\x92\\xf3\\xc0z\\xb2\\xa2|\\xcc\\xd2\\xe9\\xb2|\\x9f\\xa5R\\xaa\\x9c\\xads\\x9ax,M?\\x8a\\x0f\\xee9w\\x8e\\xe6\\xd9?w\\xf3\\x1f\\xe2V\\xa9\\xac\\xde\\x1f%\\xa4\\x92=\\xae\\xbfukN\\xe7\\xc1\\x9e*w\\xfbD\\x9e\\x1b\\xbc\\x8fb\\xedm\\xd08\\xfe\\x95^\\xc3\\xc2\\xbe$\\x99\\xe4\\x92=.\\xe9\\x94}\\xed\\x90\\x1a\\xb6\\xaf\\x1b38a\\xea\\xf3_\\x95\\x99\\x97;\\xdft\\x97\\x07\\xfd\\xda\\x81\\x1em\\x9f\\xea\\xff\\x00\\xd9Z\\xdfO\\x03\\xf8\\xaah[\\xcc\\xf0\\xfd\\xec\\x83\\xfb\\xdeA\\xff\\x00\\n[o\\x86>3\\xb9\\xf3%\\xb3\\xf0\\xbe\\xa4\\xc8?\\xe9\\xd1\\xff\\x00\\xc2\\xb3\\xe6\\x86\\xfa\\\\\\xd3\\xea\\xd5\\xbb3\\n\\xda\\x17\\xf3\\x14\\xfd\\xdf\\xf6\\xa8\\xff\\x00]3Gq\\xbd\\x8e\\xed\\xbf-v\\x9a?\\xc2_\\x89~\\'\\xbf\\xb7\\xd2\\xf4\\x8f\\x01\\xeaW\\x0f#\\xec\\x8dR\\xc5\\xc7\\xcd\\xf9W\\xda_\\xb2\\xbf\\xfc\\x12\\xe3J\\xd1\\xed\\xa3\\xf8\\x89\\xf1\\xc2\\xde)\\xb6D\\xaf\\xfd\\x9b\\xce\\xc4\\xef\\xcf\\xa9\\xac\\xea\\xe2iR\\xf7\\x9a=\\x1c\\x0eM\\x8c\\xc7O\\x96*\\xcb\\xcd\\x1f*~\\xcf\\xdf\\xb1\\xb7\\xc5\\x7f\\x8f\\xd7\\xf0\\xc9\\xe1\\xbd\\x1e[]5\\x9b2j\\x13\\xa1\\x11\\xed\\xf6\\xf5\\xaf\\xb4<\\x19\\xfb7\\xfe\\xc9\\xdf\\xb1n\\x88\\xbe,\\xf8\\xa9yk\\xa8j\\xeb\\x16\\xed\\xd7[K\\xee\\xff\\x00eO\\xdd\\xado\\x8f\\x7f\\xb5\\x16\\xbd\\xf0\\xdfDo\\x87\\x7f\\xb3\\x7f\\xc1\\xfb\\xf6h\\xa2\\xf2\\xbe\\xddobB%|Q\\xf1\\x0b\\xc0\\x1f\\xb5\\xbf\\xc6\\rnmc\\xc5\\x1e\\x06\\xf1\\x05\\xe3\\xbb\\xeeVx\\x0e\\xdf\\xf7V\\xb8}\\xb5LL\\xad\\'d}\"\\xc2\\xe12x\\xda\\x8c\\x1dJ\\x9d\\xec{7\\xed\\x03\\xff\\x00\\x05M\\xf1\\r\\xcc2xo\\xe0\\xfe\\x97\\x16\\x97`\\xbb\\x96;\\x84\\x8f\\x07m|\\x9d\\xe2\\x7f\\x8a\\xfe?\\xf1\\xe6\\xab&\\xa1\\xe2\\xcf\\x12]];\\xbb2\\xef\\x9c\\x91]\\x8d\\xb7\\xec\\x7f\\xfbI\\xeaN\\xb1\\xdb\\xfc\\'\\xd56\\xb7\\xfc\\xb4\\x96\\x0f\\xf2i\\xd0\\xfe\\xc5\\xbf\\xb4T\\xdb\\xa2\\xff\\x00\\x85g\\xa9F\\xe3\\xfeY\\xf9c\\xfck\\xaa\\x9a\\xc3Q\\x8bn\\xcc\\xf0\\xf1\\xbf\\xdbx\\xda\\xb7\\x9cen\\xc94y\\x1d\\xcd\\xcd\\xce\\xf9<\\xcf\\x9bs|\\xcd\\xd6\\x9dyk\\x1f\\xcb/\\xde\\xcf\\xcc\\xb5\\xe9w\\x9f\\xb2_\\xed\\x15an\\xdfi\\xf8G\\xaa/\\xcd\\xf3*\\xc1\\xbc\\xff\\x00\\xe3\\xb9\\xaaw?\\xb3\\x1f\\xc7[?.G\\xf8W\\xabmd\\xfb\\xab\\x01\\xae\\xb8\\xd7\\xa7\\'nc\\xca\\x96_\\x8c\\xff\\x00\\x9fo\\xee8E\\xbcI\\xbf\\xd1\\xe4\\xb6Va\\xf7wUW\\xfbL\\xd3(\\x93\\xe5_\\xbb]\\x8b\\xfc\\x16\\xf8\\xc1l\\xf2}\\xb3\\xe1~\\xb7\\x19O\\xbc\\xcdb\\xf8\\xff\\x00\\xc7Eg\\xde\\xfc-\\xf8\\x8bm2\\xf9\\x9e\\x0b\\xd5#\\xdf\\xf3|\\xdal\\x80\\x7f*\\xb4\\xd4v1x<R\\xf8\\xa1/\\xb8\\xe5\\xe6\\x86fF\\x8eM\\xcd\\xfd\\xd6\\xa6\\xbe\\xc8Qc\\xf2\\xfa\\xfd\\xea\\xea\\xa6\\xf8W\\xe3\\xc9\\x93\\xcc\\xff\\x00\\x84n\\xfdH\\xfe\\x1f\\xb28\\xfe\\x95V\\xdb\\xe1\\xbf\\x8f\\xdef\\xc7\\x82\\xf5y6\\xff\\x00\\x0f\\xf6l\\x87\\xfaVu*\\xa5\\xa5\\xf5\\x14pu\\x9f\\xd8\\x7fq\\xcc\\xdc\\xea_f\\x85m\\xe3\\x8d\\xf1U\\x9d\\xe6\\xba\\x85\\xbc\\xcb~B|\\xb5\\xdeC\\xf0\\x07\\xe36\\xb3\\xb6\\xe3O\\xf8_\\xab\\xc8?\\x8b\\xfd\\x05\\xc7\\xfe\\x84+\\xb7\\xf07\\xec\\x07\\xfbF\\xf8\\xcf\\xc9\\x92O\\x01\\xcbg\\x1c\\xbfzi\\xe4\\t\\xb3\\xf0\\xeb\\\\\\xf2\\xc4\\xd0\\x84n\\xde\\xa7U,\\xaf\\x1dZ\\\\\\xb1\\x83\\xb7\\xa1\\xe0\\x90\\xc2\\xe6e\\x8e\\xe2=\\xcb\\xfcU\\xb9\\xa5B\\x83w\\xdf`W\\xe6Z\\xfb/\\xe1\\xe7\\xfc\\x12\\x0bR\\x99#\\xd5>$|@K8\\x8f\\xde\\x86-\\xab\\xf2\\xfdN\\x7fJ\\xf4\\xdd\\x1f\\xfe\\t\\xe1\\xfb\"\\xe9\\xb0\\xff\\x00e\\xea><\\xb7\\xf3?\\x89\\x9e\\xe8\\xe7\\xfc+\\x9f\\xfbN\\x8cv\\xd4\\xf5\\xe1\\xc2\\xf8\\xfa\\x94\\xfd\\xebG\\xd5\\x9f\\x9ew6\\xdfc\\xb3\\xf34\\xef\\x97\\r\\xb9wuJ\\x81\\x1d\\xde\\x19\\x07\\x99\\xf3\\xd7\\xdf>0\\xff\\x00\\x82P|=\\xf1:\\xb5\\xc7\\xc3\\xbf\\x89\\xa9\\xb0\\xfd\\xdf*t\\x93\\xff\\x00\\x1dj\\xf2\\xdd{\\xfe\\t5\\xf1\\xbbM\\xbd\\xf2\\xf4\\xbdr\\xc2\\xe2\\xdf\\xfeY\\xf9\\xb1\\xbcg\\xfe\\x05\\xd6\\xba\\xbe\\xbbB]lp\\xcb\\x86sXk\\x18\\xa6\\xbc\\x9d\\xcf\\x94~\\xcc\\xff\\x00fk\\x98\\xee7/\\xdd\\x91{\\xd5h\\x7f\\x7f\\x0f\\xda$\\xf9\\x7f\\xbb_L\\xcd\\xff\\x00\\x04\\xbe\\xfd\\xa4!\\xff\\x00\\x8f;;)\\xb2\\xff\\x00\\xbc_<\\x81\\xfc\\xbej\\xce\\xbf\\xff\\x00\\x82i\\xfe\\xd2\\x10\\xed\\x8eO\\r\\xaa\\x83\\xf2\\xff\\x00\\xac\\xc8\\xff\\x00\\x80\\xf1G\\xd7hG\\xa9\\x93\\xc8sX\\xefM\\xd8\\xf9\\xcd\\xe1\\x9b\\xe6\\xf3d\\xe5~\\xed6at\\x9bc\\x8f\\xf8\\xff\\x00\\x86\\xbe\\x8d\\x87\\xfe\\t\\xa1\\xfbO\\xdc\\xf3\\xff\\x00\\x08\\xdd\\xaca~]\\xcd9\\x07\\xff\\x00@5f\\xdb\\xfe\\tu\\xfbHO\\xb7\\xed\\x16vq\\xbf\\xf0\\xb39\\xc7\\xe1\\xc57\\x8b\\xc3Gy Y\\x16i-\\xa9J\\xc7\\xcc\\xe8\\xcf7\\xee\\xe4\\xfe\\x1f\\xe2\\xa8\\xael\\xe6\\x99\\xd6;\\x7f\\x98\\x7fz\\xbe\\xa9\\xb6\\xff\\x00\\x82Z\\xfc{\\xf2c\\x8eH\\xf4\\xdd\\xe5\\xf6\\xb6\\xf9\\x1c\\x7fC\\xcd_\\xb6\\xff\\x00\\x82P|m\\x99\\xe3\\x12j\\x96p\\xb7\\xf7y\\xc5C\\xc6\\xd0R\\xbf1\\xa2\\xe1\\xfc\\xd6Q\\xb3\\xa4\\xec|\\x8a\\xf6\\x13\\xfd\\xc9#E\\xcf\\xf1T\\xf6v\\xd0\\xfc\\xbfh\\xb8\\xff\\x00v\\xbe\\xbc\\xff\\x00\\x87S|f\\xb9v\\x8f\\xfbb\\xd7g\\xdd\\x8d\\xb6R\\xbf\\xfc\\x12O\\xe2\\xeb\\xa3G\\xfd\\xb9j\\xaf\\xfd\\xe7\\x83\\x8f\\xe7G\\xf6\\x8e\\x1e]J|7\\x9a\\xbf\\xf9v|\\x83q\\xe4\\xf9?\\xbb\\x93\\x90\\xff\\x00v\\x99s\\xfb\\xe1\\xfb\\xb8\\xf6\\xff\\x00z\\xbe\\xbeO\\xf8$w\\xc5\\xdd\\xed\\xe6x\\x96\\xcf\\x8f\\xfa`i\\xcf\\xff\\x00\\x04\\x91\\xf8\\x9c\\x93/\\x97\\xe2\\x8d9\\xb6\\xff\\x00\\xacn@\\xa8y\\x86\\x19K\\x96\\xfa\\x9bG\\x86\\xf3e\\x1b\\xb8\\x1f!&\\xf4\\x85\\xa3\\xfb\\xcb\\xfc,\\xf4\\x88\\x1egX\\xfc\\xcd\\xa3\\xf8\\xab\\xec?\\xf8t\\xef\\xc4\\x8f\\x9a9<Id\\xad\\xbb\\xe5\\xdb\\xd2\\x99\\x0f\\xfc\\x12G\\xe2*L\\xbeg\\x8d-w\\xb3\\xfc\\xdf\\'\\x1f\\xce\\x87\\x8e\\xc3>\\xbf\\x80\\xe5\\xc3\\x99\\xac\\xadhl|\\xb1\\xa2x\\xabU\\xf0\\xbc\\xcbq\\xa1\\xeb\\x93\\xdb\\xdc#.\\xd6\\x8aLW\\xd1\\x7f\\x03\\x7f\\xe0\\xa2\\xff\\x00\\x11~\\x1e\\xdb\\x7fc\\xf8\\xd2\\xdd5\\xcb\\x1f\\x95d[\\x84\\xcb\\xed\\xad\\x8b\\xcf\\xf8$\\xaf\\xc4\\xb8g\\xf3#\\xf1\\x84\\x0c\\xa1\\xb7\\x7f\\xa8\\xe7\\xf9\\xd3\\x13\\xfe\\t_\\xf19?{\\x1f\\x8a-X\\xbf\\xf1<d\\x7fZ\\xce\\xae#/\\xab\\x1b7\\xafs\\xab\\x0b\\x95\\xe7\\xf89\\'MZ\\xdeg\\xac\\xff\\x00e~\\xc7\\x9f\\xb6f\\x8f\\xf6\\x88\\xe3\\xb5\\xd2\\xf5\\xb9\\x93\\xe5\\xff\\x00\\x96n\\x8d\\xfc\\xeb\\xe6\\x8f\\xda\\x13\\xfe\\t\\xf5\\xf1_\\xe1E\\xd4\\x9a\\xe7\\x87\\xed\\xff\\x00\\xb64\\x85\\xe5d\\x8b\\x99\\x11k\\xbc\\xb6\\xff\\x00\\x82k~\\xd0>\\x1b\\xd4\\x97P\\xd0\\xfcako*7\\xee\\xe6\\x89\\xca\\x14\\xfd\\x08\\xaf\\xa5>\\x05xS\\xf6\\xa5\\xf0\\x95\\x9c~\\x0f\\xf8\\xa9%\\x86\\xb1\\xa62m\\xf3\\x9b\\xef\\x7f#\\\\^\\xd5a\\xfd\\xeaS\\xba\\xec{\\xd1\\xc2\\xd4\\xcc\\x17&2\\x85\\xa5\\xfc\\xc8\\xfc\\xac\\xd6,\\xaea\\xbc\\xfb=\\xc5\\x9bC(\\xf9Z7\\xe0\\xa5Q\\xb6I\\xbc\\xf9#\\xfb\\xdbS\\xf8\\xb1_\\xa8?\\xb4\\xe7\\xfc\\x13\\xd3\\xc1?\\x15\\xec&\\xf1\\x07\\x86\\xe0M/U\\xfb\\xcb5\\xba\\x0c?\\xd5\\x7f\\x8a\\xbeQ\\xf1\\x17\\xfc\\x13C\\xe3\\xad\\xb3\\xb5\\xbd\\x9d\\xbd\\xbc\\x88~U\\x99s\\xfe\\x15\\xe8a\\xb3:2\\x8d\\xa4\\xec|\\xeee\\xc38\\xda\\x15/\\x05\\xcc\\xb7\\xbfS\\xe6eG\\xfbJ\\xc9\\x07\\xcb\\xfd\\xe5\\xf2\\xea\\xc7\\xdal\\xe3\\xfd\\xe4\\x7f+\\xfd\\xdd\\xbe_\\x15\\xf4\\r\\x9f\\xfc\\x13\\x97\\xf6\\x87\\x86\\x16\\x8e=\\x1e\\xd7\\x8d\\xcb\\xb9\\xe4#\\xfaT\\x0f\\xff\\x00\\x04\\xdf\\xfd\\xa2\\xad\\x93\\xcc\\xfe\\xc3\\xb5g\\xfe&\\xf3\\xce?\\xf4\\n\\xe8x\\xdc;\\xfbh\\xf3\\x96K\\x99K\\xfe]\\xb6x*Z\\xcc\\xef\\xe6Io\\x16\\xdf\\xefUk\\xcd=<\\xc9?y\\xb7\\xf8\\x9a\\xbe\\x91\\xb6\\xff\\x00\\x82r\\xfe\\xd1W0\\xae48\\xa3\\r\\xf7Y\\xe7\\xff\\x00\\xebT\\xbf\\xf0\\xed?\\x8fs\\x7f\\xc7\\xc6\\x9f\\x06\\xf6\\xff\\x00\\xa6\\x99\\xfe\\x95\\x0b\\x1f\\x85_h\\xde9\\x1ee(\\xf3:N\\xe7\\xcb\\xf0\\xd9\\xbe\\xf9$\\xf3>\\xef\\xdd\\xdbP\\\\\\xdb;\\xc1\\xe6[\\xc8\\xec\\xff\\x00\\xc4\\xb5\\xf4\\xbd\\xcf\\xfc\\x13g\\xe3\\xdc7-\\x1d\\xc6\\x9f\\x16\\xe6_\\xdd\\xed\\xcf\\xf8T\\x96\\xdf\\xf0M?\\x8eW?\\xf1\\xf1\\x1c\\x11\\xff\\x00y\\xbc\\xb3Z\\xff\\x00h\\xe1\\xb4\\xf7\\x8c\\x7f\\xb03.k:l\\xf9\\xa5\\x11\\xdd<\\xc9?\\xef\\xaa\\x86\\xf3\\xce;q.\\xda\\xfa\\x82o\\xf8&\\x0f\\xc6\\xb8S\\xec\\xf1\\\\\\xda\\xe1~]\\xcd\\x9aO\\xf8u\\x97\\xc6\\xc7O\\xb4^j\\x96k\\x85\\xf7\\xc5/\\xed\\x1c*\\xdec\\xff\\x00W\\xf3N\\x94\\xda>c\\x85\\x12ko29>e\\xfb\\xcbP\\xa5\\x9b\\xcc\\x8dq&\\xcc\\xff\\x00u\\xeb\\xea\\xfbo\\xf8%\\x97\\xc6\\t\\xac<\\xdb{\\xcb\\x05?\\xc5\\xb1\\xcf\\xf8VF\\xa5\\xff\\x00\\x04\\xc1\\xf8\\xeb\\x05\\xca\\xdb\\xdb\\xdcZ\\xb22n\\xdd\\xbf\\xff\\x00\\xadD3,$\\xb6\\x90\\xaa\\xf0\\xf6k\\x1e_\\xdd\\xb3\\xe6\\r\\xef\\xd3(\\xb8\\xfe\\x1a\\x8a\\xe6\\xcd\\x1d\\xd9\\xe3\\xfb\\xb5\\xf5\\x14?\\xf0K\\xbf\\x8e[>\\xd1p-U_\\xee\\xb7QL\\xb9\\xff\\x00\\x82^\\xfcoO\\xdd\\xc7%\\xaa\\xff\\x00{\\xf7g\\x15\\xb2\\xccp|\\xd7\\xe72\\xff\\x00W\\xf3nG\\xfb\\xa3\\xe5\\xe7D\\x7f\\xdd\\xc9&\\xd6\\xfe\\x15\\xa8\\xa6\\xb6\\x9a\\x1d\\xb2I\\x1f;\\xfe\\xf5}7s\\xff\\x00\\x04\\xc4\\xf8\\xf0\\x8e\\xb2Y\\xfd\\x95\\xb76\\xd5\\xeb\\xfe\\x14\\x8b\\xff\\x00\\x04\\xd3\\xf8\\xfc\\xb3\\xb4w\\x96\\xf6\\xb2\\x1f\\xe1_0\\xe3\\xf9U\\x7fh\\xe1\\xa3+\\xf3 |=\\x99\\xb8\\x7f\\r\\xdc\\xf9\\x9f\\xc9\\xd9\\xfb\\xcb\\x8f\\xe2\\xfb\\xb4\\x8f\\x0f\\xcd\\xe6G\\xf7k\\xe9\\xaf\\xf8v\\x7f\\xc7\\'O/\\xca\\xb5\\xdc\\xbf\\xc2\\xef\\xff\\x00\\xd6\\xaa\\xd7\\x9f\\xf0LO\\x8f\\xc8\\xff\\x00\\xe8\\xf1\\xda\\xb2\\xb7\\xddU\\x93\\xff\\x00\\xadR\\xb3\\x0c\\x1b\\xfb`\\xf2\\x0c\\xd6\\xf7t\\xdb>m\\x9aD\\xde\\xbed\\x9fu)-\\xa6\\x92\\xe5$\\x8c\\xc6\\x9f+\\xfc\\xb5\\xf4\\x1e\\xa5\\xff\\x00\\x04\\xdc\\xfd\\xa1,\\xe1\\xe7\\xc3\\xeb#\\x85\\xfe\\x0e\\x95\\x87s\\xfb\\x04\\xfe\\xd0\\xf6\\x1b\\x7f\\xe2\\x97\\xdd\\x9f\\xbd\\xe5V\\x91\\xc7\\xe1?\\x9d\\x19\\xbc\\x934\\x8d\\xefM\\xe8x\\xbc\\x96\\xc8\\xf1\\xf9\\x92mV_\\xee\\xd3$O\\xb4\\xa2\\xc7\\x1c\\x9fr\\xbd\\xa7\\xfe\\x18\\x93\\xe3\\xc4(\\xd1\\xc9\\xe1)X\\xb7\\xddZ\\xae\\x9f\\xb0\\xef\\xed\\x0e\\xf34q\\xf8\\x0e\\xe1A\\xf9\\xb7,\\x89\\xfe5\\x7f]\\xc2\\xca\\xfe\\xfa\\xd0\\xce\\x19Nc\\xd2\\x93\\xfb\\x8f\\xa4\\x87\\xed\\xa5\\xfbC\\xc3\\x0b\\\\G\\xf13R\\xde\\x7f\\x85\\xae\\xdf\\xfck>\\xff\\x00\\xf6\\xc0\\xf8\\xf7\\xaa\\xdby\\x9f\\xf0\\xb05M\\xca\\x9f\\xbc\\xff\\x00K\\x7f\\xf1\\xaf;\\xb9\\xb3\\x13\"\\xc7\\x1f\\xccK|\\xadK\\xfd\\x9a\\x96\\xd6J|\\xcf\\xde\\xff\\x00v\\xbc\\xf9:RV6\\xfa\\xfe3\\xf9\\xd9\\xd6\\xa7\\xed9\\xf1\\x8fUF\\x92O\\x1ej\\x9b\\xd7\\xf8~\\xd6\\xff\\x00\\xe3V\\xf4\\xdf\\xda7\\xe36\\x9aZO\\xf8O/\\xd5Y?\\xe7\\xb9\\x1f\\xd6\\xb88tw.\\xd2\\x19\\x1e\\x1c\\xd2\\xdc\\xdbM\\x0b\\xfd\\x9f\\xccI3\\xf7V\\x9bT_\\xb9\\xa5\\x88\\xfa\\xee3~w\\x7fS\\xd3\\xf4\\xdf\\xdbK\\xe3\\xee\\x8e\\xed\\xf6\\x7f\\x89\\x17\\xea\\x88\\xea\\xdf\\xeb\\xc9\\xfe\\xb5\\xdah\\x9f\\xf0S\\xbf\\xdagD\\x99|\\xcf\\x1a5\\xd2\\x04\\xdb\\xb6\\\\\\x11_:\\xff\\x00f\\xc7\\xfb\\xc3p\\x13v\\xcf\\x99w\\xd5K;;\\x98Q\\xae<\\xcd\\xc8\\xab\\xf2\\xadi\\n4yma\\xd3\\xccs\\x08\\xbb\\xa9\\xb3\\xec\\xbd\\x07\\xfe\\n\\xeb\\xf1\\x82\\xce\\x15\\xfe\\xdc\\xd1\\xec.\\x9c\\xae\\xd6o#\\x06\\xb5t\\xdf\\xf8+\\xa7\\x9d\\x0bG\\xac|\\'\\xb0\\x9b\\xfb\\xcc\\xff\\x00\\xfe\\xaa\\xf8n\\xf1/6\\xfd\\xa2\\xdeM\\xdb\\xfeVZ!\\xdf\\xb1~\\xd1\\xf2\\xb0\\xfe\\x1a\\x97B\\x8a\\x8d\\xce\\x98\\xe7\\xb9\\xa4%iJ\\xe7\\xde\\xc9\\xff\\x00\\x05Y\\xf0\\x1c\\xd6\\xcd&\\xa1\\xf0^\\xc1\\x80_\\xe0\\xdb\\xfe\\x15\\x04?\\xf0T\\xaf\\x84\\xb3\\\\\\xac\\x9a\\x87\\xc0\\xbb\\r\\xbf+\\x7f\\xab\\x15\\xf0\\x9c/$\\xcf\\xe5\\xf9\\x8a\\xab\\xfc+P\\xdd\\x07Do\\xee\\x9ak\\x0bJq\\xb1s\\xe2\\x0c\\xc1+\\xdd_\\xd0\\xfd\\x05\\xb0\\xff\\x00\\x82\\x9d\\xfe\\xcf\\xd3\\\\\\xfd\\xa3P\\xf8\\'j\\xac\\xbfu\\xbc\\x81Zs\\x7f\\xc1K\\xff\\x00e\\xab\\xcbf\\x93Q\\xf8\\'\\x12\\xb1\\xff\\x00\\xa6\\t\\x8a\\xfc\\xecG\\xde\\x8b\\xe6n\\xf9Wr\\xd3|\\xe9\\xa6\\x7f\\xdd\\xdc|\\xbf\\xedVr\\xc2Sn\\xc9\\x9bC\\x88\\xb1\\xdc\\xb6\\xb2\\xfb\\x8f\\xd0ko\\xf8)\\x7f\\xec\\xc1`\\x8d%\\x9f\\xc1x\\x94\\xb3\\xeeUX\\x05S\\xbf\\xff\\x00\\x82\\xb4|1\\xb0\\xdb\\xfd\\x8f\\xf0~\\x05O\\xfak\\x1a\\x1a\\xf8\\x05/\\xdd\\x19~\\xd1\\x1e\\xdc\\xd5[\\x97vv\\xfb<~f\\xd7\\xac\\xfe\\xa7O\\x9e\\xd7eG\\x89s\\x05\\r,\\xbeG\\xdd\\x9e!\\xff\\x00\\x82\\xbb\\xeb\\x90\\xa3G\\xe1\\xff\\x00\\x87v\\x10\\xaf\\xfc\\xb1\\xfd\\xd8\\xaeF\\xff\\x00\\xfe\\n\\xd7\\xf1\\xc6\\xf7lvvv\\xb6\\xb9f\\xf9\\xb6g\\xfa\\x8a\\xf9\\x19%w+$\\xf22\\xe3\\xe5\\xdbS\\\\\\xef\\xbc\\x91d\\x8bz\\xec\\xa1a\\xa9)5\\xdc\\xca\\xae\\x7f\\x98I\\xdf\\x9c\\xfa\\xaeo\\xf8+\\x17\\xed\\x0f\\x0b\\xf9\\x91\\xea\\x112\\xff\\x00\\x15ii_\\xf0WO\\x8e\\xd6\\x0f\\x1cw\\x96\\xf6\\xb2!\\xfb\\xdf\\'\\xff\\x00^\\xbeH\\x86\\xdahS\\xfd\"?\\x94\\xd3\\x1e7\\xd9\\xfe\\x91\\x1f\\xc8\\xbfv\\x9f\\xd5\\xa96\\xd2[\\x19\\xff\\x00m\\xe6V\\xbf\\xb4g\\xdb\\xfao\\xfc\\x15\\xdf\\xc4\\xef\\xb6\\xdfX\\xf0\\x1d\\x84\\xc0\\xb6\\xe6\\x93\\xc8\\x19\\xad\\xfb_\\xf8+7\\xc3K\\x9f.\\xdf\\\\\\xf8G\\x03?\\xfc\\xb4\\xdb\\x80k\\xf3\\xe9\\xf5\\x07\\x86o\\xb4Y|\\xbbj\\x7f\\xb6\\x7fiH\\xd2\\\\[\\xedm\\x9f4\\x94K\\x07\\x05k\\x1bS\\xe2\\x1c\\xca7\\xf7\\x96\\x9eG\\xe8\\x9d\\xb7\\xfc\\x14\\xfb\\xf6f\\x9bw\\xf6\\xa7\\xc25\\x8f\\x1f\\xc2\\xf0\\x03\\xfc\\xaa\\x08\\xff\\x00\\xe0\\xa4\\x7f\\xb2\\x8f\\xdb\\xda?\\xf8U\\xf6\\xea\\x1f\\xe6_\\xdc\\n\\xfc\\xf0\\x7f&d\\xf2\\xfc\\xcd\\xcd\\xfd\\xea\\x89f\\xb6\\xf2f\\xf3#\\xdc\\x7f\\x86\\xa5\\xe0a\\xb2m3\\xa2<M\\x8c]\\x17\\xdc~\\x8e?\\xfc\\x14\\x83\\xf6QHso\\xf0\\xde/\\xf6\\x97\\xc8\\x00\\xd2\\x7f\\xc3\\xcc\\xbffd\\x1fg\\xb7\\xf8f\\x8a\\x9f\\xeeb\\xbf8a\\xb9\\xf2!\\xff\\x00H\\x8d\\xb7\\xff\\x00\\xb7K\\xfd\\xa57\\xcd$\\x9f6\\xef\\xee\\xd4\\xcb\\x03J\\x1b68\\xf1>=\\xf4_q\\xfaM\\x0f\\xfc\\x14\\xfb\\xf6{\\xb0\\xff\\x00H\\xd1\\xfe\\x1b\\xac{>o1qQ\\xeb\\x1f\\xf0X\\xcf\\x87\\xa9\\x0bGo\\xe0{\\x86\\xc2\\xed\\xf9\\xe4\\x1f\\xe3_\\x9b\\xcfy4?\\xe9\\x16\\xf2nV\\xaa\\xd3=\\xe4\\xd0\\xac\\x97\\x1f)\\xfd+\\x05\\x82\\xa6\\xde\\xac\\xd1q6e\\xd2\\xc8\\xfb\\xebX\\xff\\x00\\x82\\xbaxI\\xf6\\xc9\\xa7\\xfc7\\xb7\\x8d\\xbf\\xbc\\xe8+\\x9b\\xbf\\xff\\x00\\x82\\xc0k\\t4\\x91\\xe9\\x7f\\x0e\\xec\\xa3D\\xfb\\xad\\xe5\\x8a\\xf8q\\xdd\\x1d\\xfc\\xb9$\\xf9\\xdb\\xee\\xd3\\xbc\\xbf\\xb1\\xff\\x00\\xa3\\xc7\\'\\xcc\\xff\\x00\\xc3]\\x1fR\\xa3\\xe6\\xd9\\xcc\\xf8\\x932\\x7fh\\xfbv\\xcf\\xfe\\x0b\\r\\xe3\\xf4\\xdd%\\xbf\\x84\\xec\\xa3\\'\\xf8v\\x0f\\xf0\\xaa\\xcf\\xff\\x00\\x05h\\xf1\\xe7\\xdb\\x1bP\\x7f\\x0b\\xd91\\xfe\\x1e\\xc2\\xbe,\\xd95\\xcc?l\\x8aO\\x99~V\\xdbMB\\xf0\\xf3q\\xbfa\\xa7\\x0c\\x15\\x1f\\xb3\\xf3\\xd4\\xcb\\xfda\\xcc\\\\\\x9bs>\\xdf\\xb3\\xff\\x00\\x82\\xbax\\x85\\xe1i/<\\x0f\\x03g\\xe8j\\xcf\\xfc=\\xb3RDY.<\\x07j\\xc8\\xbf\\xf4\\xcc\\x1a\\xf8\\x99\\x12\\x17\\xb3\\xff\\x00G\\x0e\\xdf?\\xcc\\xadF\\xc8v7\\x97&\\xe5?\\xc3Ia(\\xcaW@\\xf8\\x8b5_h\\xfbj\\xe7\\xfe\\n\\xd1\\xa6\\xdf\\xa3Iy\\xf0\\xce\\xd5Q~V\\xd8\\x82\\xa6\\xb0\\xff\\x00\\x82\\xa9\\xfc7\\xbf\\xff\\x00G\\xd4>\\x13\\xc0\\xdf.\\xe5f\\x80\\n\\xf8R;<\\xee\\x8eH\\xdb\\'\\xf8\\xbc\\xce*Xa\\x87\\x0b\\xe6H\\xeb\\xfe\\xd5R\\xc2Q]\\x02<E\\x9a4\\xdd\\xd6\\x87\\xdf6\\x1f\\xf0S_\\x82\\xd3?\\x97q\\xf0\\x9e\\x05Q\\xf7\\x9b\\x81SM\\xff\\x00\\x05>\\xf8\\x1bm\\xba;\\x7f\\x85\\xe8\\xcc>\\xf2\\xa63\\xfc\\xc5~~\\xde^B\\xe9\\xe5\\xdcI\\xb4\\x9f\\xf5{j\\xb2\"C\\xfe\\x91\\xf3\\xab\\xfd\\xdd\\xb5\\x13\\xc1RSm\\xc9\\xd9\\xf47\\xa7\\xc4\\xb9\\x83\\xe8\\xbe\\xe3\\xef\\x8dO\\xfe\\n\\xbf\\xe0?\\xb37\\xfc#\\xff\\x00\\x0e\\xd5J\\xa7\\xca\\xbeX\\xaf>\\xf1o\\xfc\\x15\\xbb\\xe2-\\xfd\\xb7\\xd8\\xfc7\\xa1\\xdb\\xd9\\xff\\x00\\n\\xc9\\xc6k\\xe3\\xa4\\x9d\\xf7\\xc9\\x1f\\xdd\\xaan\\xef\\xbd|\\xc8\\xf7m\\xfe*\\xcd\\xe5\\xf4z\\xea7\\xc4\\x99\\x9c\\xf4R\\xb2=\\x97\\xe2_\\xed\\xc3\\xf1\\xdf\\xc6>dw\\x9e4\\xb8\\x847\\xcb\\xb6\\xdd\\xf1\\xfdk\\x8b\\xd3~\\'x\\xe6\\xfee\\xb8\\xb8\\xf1\\x05\\xec\\x92?\\xf1$\\xe4\\x1f\\xe7\\\\[\\xc6\\x97\\x8e\\xded\\x9f5mxb\\xc0\\xcd\\xba8\\xfeV\\x1fy\\x9b\\x8a\\xda\\x9e\\x1b\\rGdyx\\x8c~:\\xb4\\xaf)\\xbf\\xbc\\xef\\xbc7\\xfbE|c\\xf0{\\xb5\\xc6\\x87\\xe3\\xcb\\xd8\\xd5>\\xecn\\xf5\\xe8\\xbe\\x18\\xff\\x00\\x82\\x8d~\\xd1Zm\\xb4r\\xdcx\\x81\\xa6h\\xbf\\x87\\xff\\x00f\\xaf\\x9f/!\\xbc\\xd3o\\xfc\\xbb\\x98\\xdd\\x90~\"\\x9d*;\\xc3\\xf6\\x8b2\\x8a\\xbf\\xf2\\xd1zWEZT\\'\\xbcQ\\x86\\x1f2\\xc7\\xe1\\xf6\\x9bK\\xd4\\xfa\\x92\\xd7\\xfe\\n\\xb9\\xf1\\xb18\\x93\\xcal}\\xe6~\\xb5&\\xa5\\xff\\x00\\x05e\\xf8\\xcf\\xe4\\xacw\\x1au\\xaf\\xcd\\xfe\\xafc\\xd7\\xc9\\xb0\\xdb&\\xf6\\x8aI\\x19U\\xfe\\xea\\xd2^$\\xdb\\xe3\\x8eH\\xf8G\\xfb\\xcd\\x1ds\\xfdK\\r\\xdb\\xf1=\\x08g\\xf9\\x97\\xfc\\xfc>\\xae\\xff\\x00\\x87\\xaf\\xfcow\\xf3>\\xcfn\\xa3\\xfb\\xd5_U\\xff\\x00\\x82\\xa8~\\xd07\\xf0\\xac\\x96z\\x84J\\xbfuW\\xae\\xc5\\xfc\\xeb\\xe5\\xf4\\xbcH|\\xcf\\x91X\\x14\\xfb\\xb5Z\\xd9\\xf6:\\xc9\\x1c{P\\xd4}O\\x0e\\xb7C\\xfe\\xde\\xcd\\x7f\\xe7\\xe1\\xf4\\xe5\\xe7\\xfc\\x14\\xef\\xe3\\xd4\\xdao\\xd9\\xff\\x00\\xb5>Um\\xcc\\xde]Q\\x87\\xfe\\na\\xf1\\xe2\\xf3t_\\xdb\\x8b\\xfb\\xb5o-\\x9e?\\xfe\\xbd|\\xe3\\xa9^:n\\xb7\\xf2\\xea-*dD\\x92?\\x9f{}\\xda\\xaf\\xa8\\xe1\\xf9oc7\\x9efNV\\xf6\\x8c\\xf7\\xd9\\xbf\\xe0\\xa2?\\xb4\\x0c\\xd3y\\x9f\\xf0\\x92m\\x1f\\xc5\\xd4T/\\xff\\x00\\x05\\x08\\xfd\\xa1\\xe6u\\x8e?\\x18\\xb2\\xff\\x00\\xdbN+\\xc2\\xb6I\\x0b\\xf9w\\x92|\\xdf\\xde\\xf2\\xea\\x1d\\xee\\xf1\\xb7\\xf0\\xa9\\xfb\\xbf\\xbb\\xa9\\xfa\\xb6\\x1f\\x96\\xd64\\xfe\\xd8\\xcc9m\\xed\\x19\\xef\\xd6\\x7f\\xf0P_\\xda6\\xd9$\\x8e?\\x1aK\\xb5\\xbe\\xf2\\xf5\\x15O\\xfe\\x1b\\xb7\\xf6\\x82\\x9bw\\x99\\xe3\\tw\\xbe\\xed\\xac\\xbf\\xfe\\xba\\xf0\\xe9.vB\\xbe_\\xcdR\\xfd\\x99\\xdeo2\\xdf\\xe5\\xca|\\xbf=W\\xd5\\xa8^\\xfc\\xa4<\\xdb1\\x95\\xafQ\\x9e\\xbf\\x0f\\xed\\xcf\\xfbE\"yw\\x1e9\\x96@\\xcf\\xf32&\\x07\\xf5\\xa4\\x7f\\xdb\\x87\\xe3\\xc2M\\xe5\\xc7\\xe3I~o\\xaf\\xf8\\xd7\\x88\\xcdss\\xf6\\xc6\\xb72mA\\xf7\\xaa{hw\\xbf\\x99q&\\xd4\\x15\\xa7\\xd4\\xf0\\xb3\\x8d\\xdcHy\\xae`\\xa5\\xcb\\xce\\xed\\xea{H\\xfd\\xb8~?[\\x7f\\xa4[\\xf8\\xd2\\\\\\xff\\x00\\x16\\xf7\\xe2\\x8f\\xf8nO\\x8fw\\x90\\xff\\x00\\xa3\\xf8\\xc2\\xe3\\xe5\\xf9\\xb7o\\xaf\\x1b\\xb9\\xb0\\xf3\\xa6X\\xec\\xa4m\\xad\\xf7\\x96\\x95,\\xde\\xcf\\xf7~f\\xd1\\xfd\\xea\\x9f\\xa9\\xe1\\x16\\xc8\\xaf\\xedL\\xc7\\x9a\\xdc\\xef\\xef=\\x9a\\xf3\\xf6\\xed\\xf8\\xf1\\xb1c\\x93\\xc5\\x92\\xb3\\xaf\\xcc\\xcb\\xd6\\x9fu\\xff\\x00\\x05\\x0e\\xf8\\xf6\\xf0\\xacq\\xf8\\x91\\xf7\\'\\xddg\\xaf\\r\\x99\\x1e\\x1b\\xc6\\xf2\\xfeo\\x97\\xe6V\\xaa>w\\xce\\xdf\\xbb\\xda\\xb5p\\xc1a\\\\n\\x91/7\\xcc\\x17\\xfc\\xbcg\\xd0p\\xff\\x00\\xc1H?h{4[{\\x8daZ?\\xc6\\xac\\x7f\\xc3\\xc8><lY#\\xd69\\xff\\x00\\xae\\x95\\xf3\\x8d\\xcc\\xdb\\xd1\\xa3\\x92Ga\\xfc4[\\xef\\xde\\xd1\\xdc}\\xcf\\xe1\\xaa\\xfe\\xcf\\xc2o\\xcb\\xa8\\xdey\\x9a)\\xaf\\xde3\\xe9\\x84\\xff\\x00\\x82\\x97\\xfcuD[\\x7f\\xed\\x05eo\\xef\\xd5\\xb9\\xbf\\xe0\\xa8?\\x1b\\xd2\\xcdm\\xfc\\xc8\\x99\\x93\\xef3&k\\xe5\\x89\\x8b\\xa7\\xfc\\xb3\\xf9\\x7f\\x85\\xa9vL\\xe8\\xdfg\\xff\\x00\\x81Ryn\\x11\\xc6\\xfc\\xa6\\x8b>\\xcd!\\x7f\\xde=O\\xa7\\x1f\\xfe\\nw\\xf1\\xc1\\xdd\\xa4\\xfbe\\xaa\\x8d\\xbf\\xea\\xfc\\xb3\\x9f\\xe7Uf\\xff\\x00\\x82\\x93|uDQ%\\xe5\\xbe\\xef\\xbc\\xcc\\xb9\\xaf\\x9anl\\xf6^G!\\x93\\xaf\\xf0\\xf9\\x95!w\\xb3F\\xf3w\\xb7\\xf7j>\\xa1\\x85q\\xba\\x88\\x7fm\\xe6\\xb2\\xff\\x00\\x97\\x8e\\xe7\\xd03\\x7f\\xc1G\\xfe?;\\xb4\\xb1\\xdeD\\xa1~ef\\xa8\\xae\\x7f\\xe0\\xa3\\xbf\\x1e\\x1d\\x1a?\\xed\\x9d\\xa1\\xab\\xe7\\xc9\\xe6w\\xb6i<\\xdd\\xca\\x17\\xe5Z\\xa7m*^?\\xef#E\\xc7\\xcd\\xb6\\xaf\\xfb;\\x0f\\xfc\\xa4\\xbc\\xf31\\x7fm\\x9f@\\xbf\\xfc\\x14;\\xf6\\x84}\\xd1\\xff\\x00\\xc2H\\xcb\\x87\\xdc\\xcb\\xe6S\\xe6\\xff\\x00\\x82\\x8a|~xVC\\xe2\\x8d\\xa4|\\xac\\xbdE|\\xfd7\\x9d\\x0f\\xef\\x0cq6\\xef\\xe2\\xa8\\xa6\\xb6\\xde\\xff\\x00\\xec\\xfd\\xef\\xbfO\\xea\\x18^k\\xf2\\x89\\xe7\\x19\\x82\\x8f/\\xb4w>\\x82\\xff\\x00\\x87\\x8b\\xfe\\xd0\\x9eKG\\xff\\x00\\t\\x07\\xdf\\xfb\\xbb#\\xaa\\xf7\\x9f\\xf0Q\\x1f\\x8e_\\xf4\\x1c\\xf9\\xdb\\xf8\\xbb\\xd7\\x86\\xfd\\x9a\\xe6\\xd9>\\xd1o\\xb1\\xa2?{\\xe7\\xac\\xfb\\xf4\\x9ag\\xcc\\x7f+z\\xd5\\xac\\x06\\r[\\xdd\"Y\\xd6e\\xff\\x00?\\x19\\xef\\xf6\\xdf\\xf0P\\x8f\\x8f\\xdf7\\xda<H\\xbb\\x7f\\xbbIs\\xff\\x00\\x05\\x0e\\xfd\\xa0S\\xfdo\\x887*\\xa7\\xcb\\xb1\\xeb\\xe7\\xf9nJ\"\\xc7${_eWI\\x92g\\xf2\\xe4\\x93n\\xdf\\xba\\xd4\\xff\\x00\\xb3\\xb0\\x96\\xe6\\xe5\\xd0\\x87\\x9df*\\\\\\xbc\\xee\\xe7\\xd0)\\xff\\x00\\x05\\x05\\xfd\\xa0w\\xad\\xc2x\\xa1\\x94/\\xcc\\xdf=K\\x0f\\xfc\\x14\\x83\\xe3\\xf41\\xb7\\xda<@\\xec\\x7f:\\xf9\\xee\\xe7z\"\\x89$\\xda\\x9fw\\xe6\\xa8\\xd1?\\xe7\\x9e\\xd6j\\xb8`0\\xba\\xfb\\xbb\\x92\\xf3\\xbc\\xcd\\x7f\\xcb\\xc6}\\x13\\x0f\\xfc\\x14\\x83\\xe3\\xc3\\xee\\x92Mq\\x17\\xfb\\xbb\\x934\\xff\\x00\\xf8y\\x07\\xc7\\x87\\x7f\\xf4\\x8dB-\\x87\\xee\\xb2\\xa5|\\xea\\x1e\\x14\\xddo$\\x7f2\\xff\\x00v\\x8f9\\xed\\xb7\\x1f3\\xe5o\\xe1\\xa5\\xf5\\x0c$\\xb4\\xe5\\xd0\\xa7\\x9d\\xe6n7\\xf6\\x8c\\xfaV\\xcf\\xfe\\nM\\xf1\\xbe\\x1d\\xb1\\xc9\\xa8D\\xdf\\xc2\\xbb\\xea\\xda\\x7f\\xc1K\\xfe1\\xd9\\xde5\\xb4\\x9eT\\x91:|\\xb5\\xf3\\x04\\x9es\\xed\\xb8\\xb7\\x1b\\xb3\\xf7\\x96\\x9b3\\xcc\\x90y\\xb7?3\\x7f\\x0bR\\xfe\\xcc\\xc1\\xeb\\xee\\xadE\\xfd\\xbb\\x9a\\xe9\\xef\\xbd\\x0f\\xa9\\x7f\\xe1\\xe7\\xff\\x00\\x13\\x92e\\x8eM\\x1e\\xd5\\xb6\\xfd\\xe6t\\x06\\xac\\xdb\\x7f\\xc1Q\\xfc\\x7f\\xe6,\\x97\\x1a\\x1d\\xae\\xd5\\xff\\x00b\\xbeKx]\\xff\\x00y&\\xc6-O\\xb6\\x99\\x11\\xfc\\xb9,\\xf7\\x0f\\xfa\\xe9W\\xfd\\x97\\x84q\\xb2E\\xae!\\xcd\\x17\\xdb>\\xa3\\x92\\x1bko.H\\xe3\\xf9\\x17\\xefS\\xe6\\xbc\\xf3\\xae?y\\xa7\\xff\\x00\\xc0\\xaa\\xc3\\xca\\x8e\\x8b\\xe5\\xdb\\xb6?\\x89\\xbf\\xb9Q=\\xfb:0\\x96=\\xa1\\x7f\\x8a\\xbc\\xb8\\xc5\\xeb\\xdd\\x194\\xb6\\xbd\\x98}\\xa6\\xf2\\xd8~\\xee8\\x99?\\x85Z\\xab\\xec\\x86\\xe6\\xe5\\xa4\\x8e=\\xaa\\xbf\\xc5P\\xff\\x00i^\\x14X\\xfe\\xf2\\x0f\\xe2\\xa7\\xa5\\xe4)s\\xfb\\xcb\\x84V\\xda\\xdb\\x97\\xfb\\xf4\\xd2}u\\x1bI\\xca\\xd7*\\xdf\\xd8^#\\xf9\\x92l\\xc1\\xfe\\xed$;\\x0e\\xdb\\x7f)Z\\xb4\\xbe\\xcd\\xe7n\\x92I7F\\xc9\\xf2\\xafJ\\xad%\\x83\\xfd\\xa7\\xcb\\x11\\xa2\\xe1>V\\xaaSh\\xcap\\xf7n\\x95\\x86\\xea\\xb6p\\xa5\\x9cq\\xdc[\\xa2\\x91\\xf7Y8\\xaa\\tf\\x8f\\x1f\\xda\\x04\\x8f&\\xef\\xe2\\xad\\xa4\\xb6\\xb6{u\\xfbG\\xef\\x9b\\xf8\\xa3\\xedQCmm\\x0e\\xe8\\xefm\\xe5\\x85\\x1fv\\xd5J\\xd25\\xb9w&T\\xaf\\x1b\\xa3\\x0ek8f\\x7f\\xb3\\xc6\\x1fz\\xfc\\xcb\\xb2:\\xa6\\xfam\\xca?\\xfa\\xc6`\\xff\\x00\\xc3]N\\xcb\\x04\\xbc\\xf34\\xeb\\x87]\\x89\\xff\\x00-j\\x95\\xe7\\xc9\\xbaI#_\\xef.\\xfa\\xd65\\xe5\\xcc\\xd2\\xeaEL=\\xa3{\\xdc\\xe7R\\xcfPK\\x96\\xf3$}\\x8d\\xf7V\\xac\\xf9\\x13B\\x8b\\x1c\\x96\\xfb\\xb3\\xfcK\\xcdiOx\\x97\\xf0\\xc7q\\x1d\\xban_\\xbc\\xa9Q\\xa3\\xdc\\xc3y\\xe5\\xc7\"2\\xbf\\xcb\\xb6\\xad\\xd6\\x93\\x8d\\xac.NM\\x8c\\xe7\\xb6\\xde\\x8b\\x19\\x8fn?\\x8a\\x8b4\\x997I%\\xb6\\xd4_\\xba\\xd5\\xbby\\xa5I7\\x97o\\x1c\\x7f7\\xdem\\x9f\\xf8\\xf5g>\\x8e\\xf6\\xce\\xde]\\xc32\\xbb|\\xd1\\xd4{XIXq\\x8c\\xd5\\xfc\\xca\\xcfy\\x0c\\x88\\xd1\\xec\\xda\\x7f\\xeb\\x9d6\\x19\\xaevs\\x1ab\\xa7\\xfb\\x1a\"-\\xed\\x9c\\x8f\\x9d\\xfbZ7\\xad+g\\x87z\\xf9\\x11\\xa3n\\xfb\\xdb\\xa9\\xba\\xb0^\\xe4V\\x83t\\xdbw\\xb9Bhf\\xf2V\\xdf\\xcbv\\xfe%d\\x92\\xab\\xbd\\xe5\\xcc\\xc3\\xec\\xf7\\x1b\\xd5\\x93\\xee\\xad\\\\\\xbcK\\xc8\\xef\\xff\\x00w\\xf2\\xab7\\xfa\\xba/!\\xf9\\xfc\\xc96}\\xdf\\xa5\\nqr\\xb92\\x83[\\x14\\xe6K\\x0f\\xf9g\\xbfv\\xdf\\x99j8\\xbeH|\\xb8\\xe3\\xdajw\\xb5\\xff\\x00I[\\x8f-\\x99[\\xef/Z|70\\xc33\\x7f\\xa3\\xa6\\xef\\xe1\\xdd[^\\xee\\xe8\\xca\\xd3\\xdf\\xa1R\\x15\\x85?y.\\xff\\x00\\xbd\\xb7u2d\\xb6K\\xf5\\x8e?\\xba\\x7f\\x8a\\xad\\xfe\\xfao\\xf5p|\\x8f\\xfd\\xcas\\xdbZ\\xcd\\xb4\\xc9\\x1b)Z\\x97S\\xde\\xbb\\xd4\\xa8&\\xf7(\\xdc\\xa7\\xdaw[\\xc9\\xd0}\\xdab<6\\xd34Q\\xfc\\xc9V\\xef\\xd2\\x18Q|\\xb97(\\xfb\\xcdT&\\xd9\\xfe\\xb2\\xdf\\xf7\\x9f\\xc4\\xd5\\x9d\\xf9\\xec\\x9e\\xc5|\\x1e\\xf3\"\\x7f9?yo\\'\\xcb\\xfcKP\\xcd=\\xcc\\xcf\\x1d\\xbf\\xf0*\\xfc\\xd5r\\xe6\\xf2\\x14\\xb0Y>\\xec\\xbf\\xf3\\xce\\xa8Cp\\x93n\\x92I6\\xed\\xfe*\\x98\\xeb\\xd0\\xd6OV\\xef\\xb8\\xf4\\xb6w\\x99~\\xcd\\x1f\\xdd\\xfb\\xdb\\xaah,&\\xbc\\x9b\\xf7r\\x7f\\x1f\\xcdI\\xbd\\xd3l\\x96r}\\xef\\xf5\\x95u\\x11\\xde\\x15\\xfe\\xcb\\xf9\\xa5\\xff\\x00\\x96\\x8a\\x95I\\xbd|\\xc4\\x94]\\xbc\\x89\\xe6\\xb6\\x86\\xce\\x1f.\\xe3k\\x0f\\xca\\xaa}\\x9a\\x15E\\xb8\\x8e4b\\xbf\\xf2\\xce\\xa6\\xf9\\xaebY.7n_\\x95\\x9b\\xcb\\xfb\\x94\\x97.\\x90\\xbcrG\\x122\\xfd\\xed\\xd4\\xbe\\x16\\xe2\\xb7d\\xa5\\xed#v\\x16w)27\\xee\\xde6\\xff\\x00b\\x9d\\xa6\\xc3g\\xfb\\xe4\\xb8\\xb8\\x97x\\xfb\\xbf\\xbb\\xcd\\\\\\xd3Q\\x1d>\\xd1%\\x9f\\xdf\\xf9\\xa3h\\x9e\\xaa\\x7f\\xaf\\xba\\x92H\\xe3h\\xd7w\\xcdX\\xa9o\\x14\\x8d\\x12\\xb5\\x86\\\\\\xecDi<\\xd4\\xcf\\xdd\\xf9\\xf8\\xaa\\x10\\xbf\\x93\\xba8\\xe3Y\\x16_\\xf6\\xeba/2\\x8dgql\\x92G\\xfc,\\xe9YW0B\\xf7-\\xf6y\\x11q\\xf7Z\\xb5\\x84\\xbe\\xe3\\x1e^YX\\xab\\x0c;\\xeeZ+\\x8bg\\x91Q\\xfe_\\x9e\\x9b6\\xa5g\\xf3E&\\xec\\xaf\\xf1U\\x9f\\xdc\\xfc\\xbef\\xc5\\x7f\\xba\\xcc\\x95KR\\xb3\\x86\\xdaf\\x92\\xde=\\xca\\xdf\\xc5Z)E\\xf4)\\xc5\\xa1\\x97?c\\xf3\\x96I$\\xdd\\x9f\\xbbU.]67\\xee\\xfbs\\xb2\\xa4O\\'\\xe6\\x91\\xe3\\xdci\\x96\\xd7?\\xb9kI#\\xdd\\xb9\\xbe\\xf5&\\xeceN\\xf2\\x95\\xd9^\\x19\\x96\\xd9\\xff\\x00y\\x1f\\xde\\xfb\\xb5\\xd2\\xe8\\xee\\xefb\\xd2[\\xc7\\xf3\\x9f\\xe1\\xaez\\xd9-f\\x99\\xa4\\xf2\\xf9W\\xfe*\\xe84w\\xb9Kf\\xfb\\x17\\xcd\\xfd\\xed\\x95\\x93w\\x95\\x8e\\x87\\xa4|\\xbb\\x11\\\\\\xc3y\\xfe\\xb2\\xe3\\xe6\\x91\\xfe\\xea\\xac\\x95=\\xcd\\xe6\\xcb\\x0f\\xec\\xbb\\x8b=\\xae\\xbfw|x5\\x1d\\xfd\\x9d\\xda<w\\x172mu\\xfe\\x1f/\\x06\\xa5\\xbc\\xd5f\\xb9\\x9a\\x18\\xae$\\xdac]\\xab\\xde\\xaerr\\x8d\\xf72\\xa5\\x1fy\\xa7\\xd4\\xca\\x7f-\\xff\\x00\\xd5\\xc9\\xf3\\xef\\xfb\\xbd*\\xe4\\xd6\\x1flH\\xe3\\xb3\\x8d\\xfc\\xd4\\xff\\x00Y\\xfb\\xca}\\xe5\\x9d\\x83M\\xf6\\x8f\\xb4|\\xcd\\xfc5^\\xdbzy\\x9e]\\xc6\\xdf\\xee\\xd49\\xa7\\x1b\\xc4\\xd3\\x92<\\xd6\\x91\\x1b\\xc3*<\\x96\\xe2\\xd9\\xd5\\xdb\\xe5e\\xa2\\xce\\xc2\\x18a\\xf3$\\x91\\x94\\xb3\\xff\\x00\\xabzt\\xd7\\xff\\x00\\xbf\\xf3-\\xe3\\xf9\\xb6\\xfc\\xcdMx\\xc5\\xff\\x00M\\xf1\\xed\\xa2\\xef\\xa9j\\x16+\\\\\\xcd\\xf3\\xcb\\x1d\\xbc^c\\x7f\\x17\\xee\\xea\\x1bg\\x91\\xf6\\xc7\\xf6}\\xac\\xb5\\xa1\\xbe\\xd6\\xda\\xd9\\xa3\\x8e6c\\xbb\\xe6\\xf5\\xa9\\xdeh\\x1e\\xdb\\xed\\x16\\xfd6\\xfc\\xcb\\xde\\x9f:\\x84lZ\\xa7\\xf6\\x93)\\xcd\\n}\\xa9d\\xb8\\xf9\\x97\\xfb\\xd4\\xe9\\x91%O\\xf5{\\x93\\xfb\\xd4\\x9er^\\xa2\\xf9\\x92\"\\xaf\\xddoZ\\x9egt\\xd3V\\xde8\\xd3\\x0b\\xfc])_\\xa7R^\\x92\\xb1\\x9a\\x89\\x0b\\xbc\\x96\\xd1\\xc8\\xfb\\x7f\\x87}K\\r\\xcc\\xd6\\xd3yq\\xdb\\xf5\\xf9w=\\x16\\xd6\\xd0\\xfd\\xa7\\xcb\\x93kg\\xefU\\x97\\xb3y\\xa6o\\xb1\\xec\\xd8\\x89\\xff\\x00=*\\xe1\\xc9\\r\\xc1\\xa9\\xcbb\\xa6\\xa0\\x91[\"\\xc9$h\\xce\\xdf7\\xdc\\xa8.\\xb5?\\xb4\\xc2\\xb1\\xfd\\x9dT\\xff\\x00{\\xcb\\xab/`\\xe9\\n\\xc9q&\\xef\\xf8\\x1dK\\x15\\xb5\\xb3\\xc2\\xdc\\xfc\\xdf\\xc2\\xd47\\x15\\x1b\\x15i\\xf2\\xdc\\xa7f\\xf0\\xc2<\\xc9>\\xf2\\xfd\\xda\\xb1y5\\x85\\xcd\\xb2\\xf9\\x9f)\\x1f\\xc4\\xb53\\xc2\\x89\\x1e\\xc9#\\\\\\xff\\x00\\x0f\\xee\\xeb6\\xf3\\xf7\\xce\\xd6rG\\xd3\\xee\\xb5\\x1f\\x17\\xa0+-:\\x96\\xdfG\\x86\\xe2\\xcd\\xaf#\\xb8vuO\\xf5u\\x9c\\xe9\\x0e\\xc6\\x8eX\\xd1X\\x7f~\\xa5\\x85&\\xb6E\\xf2\\xe5\\xdc\\x7f\\x8a\\xa5\\xba\\xb3\\xb6{f\\x92H\\xdb\\xe6\\xfe*j^\\xcfv\\n\\x1e\\xd6-\\xda\\xcc\\xcb\\xb9\\x87\\xc9O/\\xcb\\xfb\\xff\\x00u\\xa9l\\xed\\xaeaF\\x92M\\xac\\x85~\\xf6\\xfa\\xb3yl\\x93B\\xbe\\\\\\x8f\\xb6\\xab][}\\x8f\\xcb\\x8e;\\x8f1\\x1e\\xb4\\xbf5\\x8c9yer\\xbc\\x9flO\\xf8\\xf8\\x97\\xe5\\xfe\\x1a\\x1ek\\x97\\x83\\xcb\\x8e=\\xb9\\xfe*\\x9e\\xdb|3yrF\\x8c\\x9d\\xea\\xc3\\xc3\\xe4\\xcc\\xd2\\xff\\x00\\x07\\xf0\\xaaV\\xb1\\x95\\x81\\xab\\x95\\x1e\\x17\\x87\\xcb\\x92M\\x92?\\xf7j;\\xbd\\x93/\\x11\\xa2\\x96\\xfe\\x1a\\xb5y\\'\\xda_\\xf7[\\xd9\\xb6}\\xe4\\xaa\\x08\\xf9v\\x8e\\xe2M\\xd5\\x11L\\x13\\xe5\\x11\\xed\\x91\\xe1\\xf3#\\x93i\\xfe\\xef\\x99\\xc5g\"Mm6d\\xfe*\\xd3ttF\\x8f+\\xf3|\\xde\\xf5\\x1aC\\xf7\\xa4\\x93o\\x15i\\xdb^\\x80\\xe2\\x9e\\xce\\xcc\\xaa\\x89&\\xcf\\xde\\xc9\\xf7\\xbe\\xed-\\xcd\\xb7\\xee\\x17\\xcc\\x919\\xf9i\\xbb\\x11\\xff\\x00y&\\xe6\\xdb\\xfc)%X\\x86\\xce\\x1b\\x94\\xff\\x00H\\xb8u\\xfe\\xea\\xd5JR{\\x12\\xe0\\xd3\\xb4\\x8a\\xa9g6\\xc6\\x8e9w\\x7fv\\xa0\\x8d\\x1d\\x0f\\xfaDi\\xbc\\x7f\\r_\\xb6\\x9b\\xc9\\xb9kx>l\\x7f~\\x9b\\xb3\\xed\\x97\\xed$\\x91\\xed\\xff\\x00\\x80S\\xe7\\xbc\\xac\\xd6\\x82t\\xdf-\\x96\\x8c\\xa1r\\x88\\xd7+%\\xc4{U\\x93\\xe5j\\x8d\\xe2L,q\\xc6\\xcd\\x8f\\xbc\\xd5sY\\x87`X\\xe4\\x89YV\\xab#\\xa2~\\xf2\\xde-\\xac\\xd5p\\x9f\\xbb~\\x84N\\x1c\\xb7\\xbfB9\\x92m\\x8b\\x1ct\\xff\\x00\\xb0<(\\xa7\\xcc\\xdc\\xcf\\xfcU,\\xce\\x8e\\xeb\\x1f\\xd9\\xdf?\\xf3\\xd3\\xb5E4\\xcf\\xe7\\x7f\\x1a\\x81\\xf7i\\xb9>\\x9a\\x0b\\x96\\xce\\xed\\\\\\x8b\\xec\\x7ff\\x99\\xa3\\xfe\\xf7\\xdeo.\\x9dy\\x0f\\xdav\\xc7$\\x7fw\\xf8\\xa8\\xbc{\\xc8]\\x7f\\x89J\\xfc\\xb4\\xe7\\xfbJ\\'\\xef7s\\xfc46\\xe5\\xae\\xecP\\\\\\xf1\\xbbCR\\xd9\\x1fi\\x8f\\xe5\\xdb\\xfcT=\\xb3\\xbe\\xe1$\\x8c\\xc0S\\x1e\\xf1\\xf6\\x7fuEK\\xe7=\\xcd\\xb2\\xc9\\x1c\\x7fw\\xefl\\xa1\\xb9\\xb0\\x8a\\xd1\\xae\\xe5gH\\xd1\\xfc\\xbf3o\\xcb\\xf2\\xd4p\\xc3\\x0b\\xa3Iq\\xbdMO\\xe4\\x89\\x91c\\x8e?\\x9f\\xefn\\xa8\\x9e\\x1d\\x8e\\xded\\x8f\\xfe\\xcdk\\xcc\\x82\\xca:\\xee\\x8f\\xa9\\xad\\xb5\\xb8]$\\xb7\\xf36\\x93\\xf7h]\\xfeL\\x8698\\x95\\xfee~\\x94\\xe4\\xb0\\xb0\\xdf\\x1f\\x99\\xdb\\xf8\\xaak\\xfb\\xf4G\\xfb<q\\xeeB\\x9f\\xbb\\xd9_:\\xec\\xa4\\xdcV\\xe7\\xa1\\xca\\xedy=D\\xb3\\xb6\\x86\\xda\\x16\\x93\\xe4m\\x8f\\xbb\\xcb\\xac\\xab\\xcb7\\xd5n\\xa4\\xb8\\x8e\\xcfl\\x9b\\x9bn\\xce\\x95vhm\\xa6\\x85~\\xd1\\x1b+\\xb7\\xfc\\xb4O\\xfd\\x06\\x83\\xfe\\x87\\xbb\\xec\\xfb\\xbeo\\xba\\xcdIhi\\xc9)\\xca\\xcd\\x8d\\xb0\\xb9\\x86\\xda\\x15\\xb7\\x92=\\xce\\xbfyh\\xf3\\xa1\\x1b\\xa3\\xb8\\xb3f\\xdd\\xfe\\xad\\xa9&KdE\\xb8\\x1f\\xeb_\\xef/jd\\xd0\\xf9\\xce\\xa7\\xee\\xb2\\xa7\\xca\\xabG\\x7f1\\xf2\\xdd\\xa8\\xbe\\x85\\x9b;d\\x99<\\xcbx\\xf6\\x82\\xed\\xe6/zY\\xb5+g\\xd9\\x1c\\x922\\xb2\\x7f\\x0bTzV\\xcbdawy\\xe5\\xb1\\xfb\\xadU\\x9f}\\xcc\\xdf\\xeb7.\\xff\\x00\\xbdO\\x91\\xceM>\\x84s(m\\xd7rk\\x94\\xd97\\xf0L\\xbf\\xc3P\\xcda\\xe7B\\xd7\\x12I\\x12\\x8f\\xe1\\x8e\\xa6\\xfbK\\xfc\\xb1\\xf9k&\\xc4\\xf9j\\x1b[\\x94\\x9b\\xcc\\xf3#E\\x1f\\xdd\\xa5\\xfb\\xd5\\xb0\\xee\\xac\\xe3m\\xca\\x96\\xd0\\xa6\\xc6\\xb7\\x8e8\\xb3\\xf3nd\\xaa\\xef\\xa6\\xcd\\xf6\\x9f2\\xde-\\xca\\x9f{\\xe7\\xad{km\\xd7\\x8beon\\x98\\xfb\\xadV!Hl\\xdek{\\x8d=\\xfc\\xd5\\xdc\\xbf\\xeb+GR\\xa4v!Q\\xe6\\xd5\\xeee\\xc2\\x97\\xe8\\xed\\xf7\\x99\\xbf\\xe5\\x9bo\\xa4\\x99\\x93g\\xd9\\xcc\\x92\\xa9V\\xf9\\xaa\\xcc6\\xcf\\x1d\\xcb}\\xf5\\xfe%\\xa0\\xc2\\x89\\xfe\\x91%\\xc33}\\xe6Z\\xb8\\xc92cNQ\\xf7lP\\x86dK\\xc6\\xf3$\\xda?\\xe5\\xa2\\xf9u4\\xbc;\\\\$\\x9bW\\xf8V\\x89\\xaf-\\x9e\\xf3\\xcc\\xfb\\xbeg\\xcbL\\xd8\\x8e\\xedo%\\xc6\\xd4_\\xba\\xcdC\\x97.\\x8fr\\xf9\\x17\\xc21\\xf5\\x89\\xa1u\\xf3>o\\x97\\xef=S\\x9d\\xe6\\xd4\\x9f\\xcc\\x92>\\x13\\xf8zS\\xf7\\xff\\x00\\xa4\\xf9rF\\xcc\\xbb\\xbeV\\xa9~\\xe4\\xdel{Y\\x7f\\x89\\xa9\\xc58\\xca\\xc8\\x89E\\xb5d;M{;7\\xff\\x00\\x89\\x84o\\xe5\\xb2m\\xdd\\x174\\x97\\xf0\\xec\\xf9#\\x1f/\\xdeVze\\xcf\\xc8\\xff\\x00h\\x8e/\\xbd\\xf7\\xa8K\\xc9\\x1d>\\xcfq\\xb9q\\xf7U\\xeb[\\xce>\\xf1\\x9f$~\\x1e\\x83a\\x99b\\x85\\xa3\\xf2\\xd5\\x7f\\xbb\\xb2\\xa0\\xf3\\xa4O\\xdd\\xc8_\\xfd\\x95\\xa9.\\x7f\\xe9\\x9cj\\xc0~uWS\\x99\\xdfj[\\xdb\\xba\\xb7\\xf0\\xb5\\t\\xdf\\xa1)5\\xd0}\\xce<\\x96\\x93\\x7f_\\xbc\\xb5A6o\\xe2E\\xc3\\'\\xcbVm\\x92i\\xa1h\\xee:\\xaf\\xf0\\xd1\\r\\x85\\xb4\\xce\\xbed\\x7f{\\xf8^\\x93q]K\\x85\\x17-z\\x19\\xb3\\xa4;?y\\x1e\\xec\\xd4\\x93i\\xb0\\xa4+%\\xbfO\\xe2Z\\xbb\\xa8\\xc3\\x0f\\xdaV;x\\xfeT\\xa6\\xbaM\\r\\xca\\xc9\\x1fO\\xee\\xbdE\\xda\\xd8|\\x91\\xe6\\xb1J\\x18|\\x9b\\x96\\x8eH\\xfe\\xff\\x00\\xdd\\xab\\xf0\\xd9\\xfd\\x82e\\x92\\xdeO\\x9b\\xf8\\x99\\x1e\\x9f\\xe4\\xbd\\xe6\\xeb\\x89#U\\xdb\\xfcUb\\x11\\xe4\\xa2\\xc7\\x1ch\\xd5jr\\x8e\\x8bb\\x1d;J\\xe5y/\\xeeay>\\xcf\\xbb\\xca\\x7f\\x96E\\xa6#\\xef+\\xe5\\xc9\\xf2\\x1f\\xe1j\\xb5~\\xff\\x00f\\xb6\\xf2\\xe4\\xb3\\xf9\\x9b\\xee\\xb2\\xd5x\\x7f\\xe3\\xe5c\\xb8\\x8d\\x97\\xfb\\xbe\\x94\\xd5\\xd4oa\\xc5\\xa4Y\\xb3\\xbcKo\\xdd\\xfd\\x99~Z\\xabsr\\xfe[I\\x1d\\xbc\\xb1\\xb3\\xfc\\xad\\xb1\\xea\\xdd\\xcb\\xa7\\xcdpm\\xd5\\xb7&\\xd5W\\xaa\\xbb\\xf7\\xc6\\xbe]\\xbf\\xcc\\xdf\\xc4\\xb5\\x9bIJ\\xe0\\xb9\\x92\\xb1ZI\\xaf\\x06\\xdb\\x7f\\xb6:\\xa7\\xf0\\xef\\xa4\\x9a\\r\\x88\\xb2y\\x9f?\\xf1~\\xee\\xa7\\x86\\x19\\xa4\\x91\\x9e\\xe3w\\x1fv\\xabMswsm\\xf6x\\xff\\x00\\xe5\\x93|\\xdb\\xd2\\x95\\xef$\\x91\\xaa\\xa7\\x1e[\\xb67P\\x854\\xd8a\\xbc\\xf3\\x15\\x8b|\\xcc\\xb5R\\xe7Q\\xb6\\xbfv\\x8f\\xcb\\xf2\\xd9_w\\xb5Y\\xfbL\\xce\\xead\\xf9\\xb6\\xd40\\xc2\\x9es}\\xb2>\\xbfwej\\x92\\xeab\\xef\\x1b\\xab\\xe8G6\\x9f\\xb1>\\xd1\\x1e\\xc5\\xfe\\xedb\\xdc\\xbc\\xdfo\\x8eK8\\xf6\\xed\\xfb\\xcb[\\x93Cy\\xfe\\xaf\\xcc\\xeb\\xfc5KzY\\xbf\\x99${\\x9a\\x88\\xd9F\\xc55\\x15\\xacv#D\\x92\\xe6o\\xb4I\\xfb\\xb6\\xfe\\xedoh\\x9am\\xc7\\xf6l\\x92Y\\xc7\\xbaM\\xfb\\xbf\\xd6\\x01\\xff\\x00\\xa1V\\x03\\xdc\\xcd\\xe7b;w\\xc3}\\xda\\xe8-\\xa6\\xf2m\\xe3\\x93\\xe4\\xf9\\xbf\\x86\\x95\\x9f5\\xfa\\xf6\\n\\x9a\\xd9\\xf4\\x1by=\\xcd\\xca,w\\x97\\x1bv\\xfd\\xdd\\xd5V\\x1bd\\x92\\xe5~\\xd1o\\xb9\\x97\\xf8\\x96J}\\xfa<\\xee\\xb2\\r\\xea?\\x85z\\x8aj#\\xbb\\xac\\x92J\\x9b~\\xef\\xcb\\xc5i(5+\\xad\\x11\\x94l\\xe5\\xcc\\x95\\xd8\\x97{&\\x9b\\xca\\xb3\\x8d\\xd4}\\xd6\\xa6\\xcde\\n[,r\\\\|\\xd5<?f\\xb6\\xdd\\x1f\\x96\\xfc\\x7f\\x156y`\\x9aO/{\\xaf\\xf7U\\xab\\x0f\\xb5\\xe4o\\x14\\xa7\\xe62\\xe5\\xad\\xa1\\xb3_.5\\xfe\\xb5\\x05\\xcb\\xf9;\\x7fw\\xc1O\\x9bmO\\xbd<\\xbf.\\xe2\\xdfv\\xdf\\xe2\\xa7\\xa5\\x85\\xcb\\xdby\\x91\\xc6\\x9b^\\xa7\\x95\\x17g\\xa2\\xeaW\\xb0\\x86\\x17F\\x17\\x11\\xff\\x00\\xbbR\\xdc\\xc2\\x96\\xdb\\xad\\xe3\\xb3e\\xdd\\xf7\\xabb\\xcf\\xc1:\\xdd\\xd5\\x87\\xf6\\x84z\\\\\\xac\\x15~\\xf6\\xc6\\xc5a\\xfd\\xa6\\xf2\\xdbRh\\xef-\\x9f\\x7f\\xdd\\xdbQ\\x07\\x19\\xcbG\\xa9\\xa4\\xa8\\xd4\\x85;\\xb8\\xb4\\x88\\x9e\\xc1,\\xd3\\xcf\\xb7\\x8d\\xd9\\x7f\\xba\\xf4\\xff\\x00\\xb4\\xbd\\xe2yrlU\\xfe\\xedZ\\xb6\\xb6\\xb9\\x9a\\xe5m\\xd2\\xdeV\\x0f\\xf7U95f\\xff\\x00G\\xbc\\xb0v\\x8e\\xe2\\xde\\\\\\x9f\\x99w\\xc7\\x8a\\xd7\\xdaG\\x9f\\xde\\xdf\\xa11\\xa1W\\x95\\xb4\\xac\\x99\\x8by\\x1f\\xd9\\xa6X\\xd3\\xf8\\x97\\xe6\\xa9\\xed\\xa1\\xfd\\xcf\\x99\\x14\\x89\\xf7~j\\xb5g\\xa2k\\x1e!\\xd4\\xad\\xf4\\xfd.\\xceY\\'\\x95\\xb6,i\\x1dz&\\xb1\\xfb-|T\\xd1\\xf4\\x15\\xd6.4}\\xc1Wt\\x8a\\xbc\\x9f\\xe5Y\\xcb\\x11N\\x9aQ\\x93\\xb3g^\\x1b,\\xc5\\xe2#\\xcdN\\r\\xa3\\xcco,6C\\x1c\\x86E\\x90\\xff\\x00v\\xa1K\\x07\\xde\\xb2}\\xdd\\xdfz=\\xf5\\xb6\\x9e\\x0e\\xf1\";G\\x1e\\x9e\\xed\\xb3\\xe5o\\xdd\\x93[\\x9e\\x1d\\xf8-\\xf1\\x0b\\xc4\\xf6mq\\xa7\\xf8m\\xe6\\x8b\\xf8dt+\\xfd)}b\\x11\\xea\\x87\\xfd\\x9f\\x8c\\x9c\\xb9T\\x1d\\xfd\\x0e\\x12\\xe7\\xc9}\\xb2G#\\xa9O\\x95\\x97}%\\xb5\\xb2ok\\x897l\\xae\\xbd>\\x08x\\xf1/\\xe4\\xb3\\xb8\\xf0\\xbd\\xd2\\xc9\\xfd\\xd4\\x8c\\x91Z\\x16\\x1f\\x00~\\'_\\xba\\xd9\\xc7\\xe0{\\xf97}\\xd6X\\xfeZ\\x1e&\\x94b\\xd2{\\x8e\\x9eW\\x8d\\x95^W\\x07\\x7fC\\x88Hm\\x83\\xc9$\\x7f\\xf7\\xcb\\xd6}\\xcd\\xe6\\xfd\\xd6\\xfeZ\\xed\\xdf\\xf3zW\\xb1Y\\xfe\\xc8\\xbf\\x18\\x1d\\xd6\\xe2O\\x0b\\xca\\xa1\\xbf\\xbfI7\\xecy\\xf1^;\\xc6\\xf2\\xb4=\\xd9\\xfb\\xb5\\x10\\xc4Qr\\xbbgK\\xc9\\xb38\\xcfH3\\xc3\\xaf\\x1d\\xdd\\xd68\\xfeU\\xfe\\xedN\\xe97\\x92\\xb1In\\xccV\\xbd\\xa1?bO\\x8c\\x170\\xfd\\xa3\\xfb-U\\xff\\x00\\xe7\\x9d/\\xfc1\\xcf\\xc5\\xabo\\xf5\\x9a:\\xb7\\xf7v\\xbf\\xff\\x00Z\\xb5\\xfa\\xe6\\x1e\\xd6\\xb9\\x0f\"\\xcc\\\\\\xb9\\x957c\\xc3\\xd3\\xec\\xc7\\x9f\\x9d]\\x7f\\x86\\x9f\\xe7L\\xef\\xe5\\xf9j\\xa9\\xfcM^\\xd7c\\xfb\\x1e\\xfcT\\xbcy-\\xff\\x00\\xb0\\xde\\x1d\\xdfzF\\xe4Q\\xa9~\\xc4\\x9f\\x15\\xed\\xa1\\xf2\\xe2\\xb7y\\xbf\\xd9T\\xa3\\xeb\\xf8iI.k\\x0b\\xfb\\x073\\xd7\\xf7{\\x1e%\\x0c(\\xfb\\xa52\"\\xed\\xfb\\xbd\\xaa+k?9\\xe4\\x968\\xfe_\\xefW\\xa5\\xea_\\xb3\\x1f\\xc4\\x8d\\x1e\\xe7\\xecw\\xba[o?wew\\xbe\\t\\xfd\\x85\\xbcs\\xaa\\xe9?\\xdb\\x17\\x96\\xcf\\xb7o\\xfa\\xb5J\\xa9c\\xb0\\xb0\\x8d\\xf9\\xaf\\xf8\\x8a\\x9eG\\x99T\\x9f/%\\x8f\\x9e&\\xb7\\x91\\xc7\\x99\\xe5\\xfc\\xc16\\xee\\xa8\\x1e\\xdb\\xefY\\xdd\\xfc\\xac\\x7f\\x8a\\xbd_\\xe2\\xbf\\xc0\\x1d_\\xe1\\xbd\\xcbIqn\\xcd\\x11j\\xc4\\xd3~\\x0bx\\xe7\\xc40\\xff\\x00jY\\xe8\\xec\\xc8\\x13r\\xb58b\\xe9J7\\xe6\\xd0\\xce\\xaeO\\x8b\\xa5YAA\\xdc\\xf3\\x99\\xb4\\xff\\x00\\xb0M\\xfd\\xe5-S\\xec\\xb6Hd\\xb8\\x92\\xdfv\\xe5\\xf9vV\\xbf\\x894K\\xfd*\\xf3\\xec\\x1a\\x85\\x9b\\xc6\\xe8\\xff\\x006\\xea\\xa34.\\x90\\xf9\\x7f6\\xdf\\xee\\xd7Z\\xa8\\xaaF-\\x1cU(T\\xa1\\'\\x19-Ws*\\x18^\\x1d\\xd2G\\xb5\\x99\\xa8y\\x9d\\x13\\xec\\xf1\\xf5\\xdf\\xf7\\xaa\\xcc6\\xd7\\x89\\xbb\\xfd\\x1d\\xd9\\x7f\\xeb\\x9dE\\x7f\\xe5\\xf9-\\'\\x96\\x8b\\x9f\\xe2\\xabr\\xb9\\x9b\\xa55\\x1b\\x89u\\nEl\\xd2\\\\~\\xf0\\x9a\\xce.\\x8e\\x9f\\xea\\xf6\\xb2\\xff\\x00\\rh\\xc2\\xefs\\n\\xc7\\xe5\\xee\\xddP\\xbe\\x9f\\xf3\\xc9\\xe5G\\xb4\\xd5\\xc1\\xdfs\\'M\\xa5r\\xbd\\xb3\\xbc\\xc5\\x92Iv\\x8f\\xf6\\xa9\\xbfc\\x7f\\xf5\\x9fhFT\\xfe\\x1a\\x7f\\x92\\xe8\\xfe\\\\\\xb6\\xcd\\xf7\\xfej\\x9d\\xed\\xaeQ\\xfc\\xc9#uO\\xe1\\xfd\\xdd\\\\\\xa5\\x10\\x8aofP\\xbc\\xb6}\\x8b\\xfb\\xc4n\\xea\\xbee?g\\xfa2\\xc6#\\xebV\\xfe\\xcd\\xfb\\x96\\x8f\\xcb\\xdc\\xd4\\xe8t\\xb6;|\\xdf\\xf8\\x0bP\\xeaZ6\\xb8\\xdd6\\xee\\xed\\xab3f\\xb6D\\x85m\\xff\\x00\\xbb\\xf9\\xd36\\\\\\xecao\\xf2\\xa5j^h\\xfb\\x1f\\xf7\\x9b[\\xe4\\xdd\\xba\\x9fg\\xa3\\xdf\\xdc\\xfe\\xee;vdo\\xeeQ\\x1a\\xb1`\\xa9I\\xc6\\xd62\\xed\\xaew\\xff\\x00\\xab\\xfb\\xe1>Uzt\\xe8\\x8f\\x0by\\xb1\\xa7\\x15\\xa36\\x82\\xf6\\xd3yv\\xf1\\xba\\xb7\\xf7k\\xa2\\xd0~\\nx\\xcf^\\xd3~\\xd9gg+\\x06\\xf9\\x95\\x9a:\\x9a\\xb8\\x8a0\\xf7\\x9c\\x8a\\xa3\\x82\\xadU\\xf2\\xc67\\xf2=\\x9d\\xec\\xe6\\x05\\xae$\\x8f\\xe5\\x1bj\\xf2[i\\xce\\xcd\\x1d\\xe6\\xf5\\xc4_+-}A\\x0f\\xfc\\x13_\\xe2m\\xed\\xb2\\xc9\\x7f\\x1bF\\x7f\\xe7\\x9e\\xca\\xd2\\xb0\\xff\\x00\\x82X|D\\xbb+$\\x92\\xf0\\xf5\\xf3R\\xc6\\xd3Q\\xbbg\\xd4\\xd3\\xe1\\x9cz\\xfb?\\x8d\\x8f\\x90\\xef\\xf4\\xd1\\x0f\\xef,\\xe3v\\x0b\\xf7jK\\x0b?\\xde\\x7f\\xa4n\\xf9\\xd3v\\xda\\xfb\\x83O\\xff\\x00\\x82Kx\\xe2KE\\xb8\\xbc\\xd4v\\xff\\x00{\\xe4\\xabv\\xdf\\xf0J\\x1da\\x15\\x84\\x9a\\xcb\\xee\\xff\\x00r\\xb3\\xfe\\xd0\\xa3\\x18\\xda\\xe6\\x8f\\x86\\xb1\\xaeW\\x8b\\x8f\\xfe\\x04\\x8f\\x84\\xef\\xf4t\\x08\\xd1y\\x7f\\xee\\xec\\xa2\\xcfMD\\x99c\\xf9\\xd7o\\xdej\\xfb\\xda\\xcf\\xfe\\t\\x07\\xa8\\x97[\\xb7\\xd7.6/\\xde^\\xd5{N\\xff\\x00\\x82K\\xc1rXI\\xaeO\\x91I\\xe6\\x14\\xd474\\x8f\\rWm\\xb78\\xab\\x7fy\\x1f\\x9f\\x97:jlo3\\xe6\\x1f\\xc3\\xbe\\xab\\xf92Cm\\xe5\\xc9\\x1a\\xedo\\xce\\xbfD\\xe1\\xff\\x00\\x82BG4\\x8a\\xf7\\x1a\\xec\\xf2F\\xbf\\xc3\\xe5\\xf3\\xfc\\xab\\x98\\xf8\\x9d\\xff\\x00\\x04\\xc4\\xfe\\xc7\\x87\\xec~\\x1b\\xb7\\xf3\\x1d\\x13\\xef5m\\x0cdj\\xec\\xc8|3[\\x9a\\xf0\\x94[\\xf2g\\xc1N\\x93%\\xb3}\\x9f\\xe6\\xdf\\xfd\\xeaT\\xd3_\\x7f\\xda.#]\\xca\\xbfv\\xbe\\x8e\\x9b\\xf6\\x1e\\xf1\\xe6\\x9f\\xe2H\\xf4=CCvI\\x1b\\xe5\\x91\\x7f\\x82\\xbd\\x0f\\xc5?\\xf0N=SH\\xf0\\xaa\\xeao\\x03oX\\xb73U,M%\\xeeE\\xeae\\x1e\\x1d\\xc7\\xc99J6H\\xf8\\xd2\\xcd\\xb6n\\xb8\\x92\\xdfo\\xf7\\xb6\\xf5\\xa7\\xbf\\xfaJ5\\xc4q\\xb3\\x7f\\x0f\\x99]W\\x8e|\\x07\\xff\\x00\\x08N\\xab6\\x8f%\\xbc\\xb2\\x0f7k5}\\x0b\\xfb6~\\xc4\\xf6\\xde<\\xf0L\\xde,\\xd6-\\xdaHY7B\\xadW:\\xca\\x9b\\xbc\\x8e|>U\\x8b\\xadU\\xd3\\x8e\\xe8\\xf9-\\xd2\\xe6\\xd7\\xfdd\\x9b[\\xfb\\xb4\\xcf\\xb1\\\\\\xdd~\\xee=\\xec[\\xf8S\\x9a\\xf6O\\xda\\x07\\xe0\\xfd\\xb7\\x805V\\xb7\\x8e?-\\xc32\\xacu\\xee\\x7f\\xf0M\\xbf\\xd9+B\\xf8\\xdbg{\\xaaj\\xb6i4\\xb1\\xbe\\xd0\\xac\\x99\\xd9QW\\x16\\xa8\\xd2\\xbbZ\\x9ba\\xf2YU\\xc4\\xca\\x9c\\xe5d\\x95\\xdb}\\x0f\\x88\\xaety\\xac\\x07\\xda<\\xc5fF\\xdd\\xe5\\xec\\xe6\\xa1\\x9a\\xe7\\xed\\x8f\\xe5\\xdcF\\xab\\xff\\x00l\\xf9\\xaf\\xbf\\xff\\x00l\\xff\\x00\\xd8=<%m\\xf6\\xdf\\x0b\\xf8i\\xdaU}\\xb9\\x8a:\\xf9\\xb7\\xc0\\x1f\\xb1\\xcf\\xc5\\xef\\x1bx\\x92\\x1d\"?\\x07\\xdcB\\x92K\\xb5\\xa6x\\xf06\\xd6t\\xf1\\xf0qnM\\x1aV\\xe1\\xdc\\\\\\'\\x15As\\xc5\\xf5\\xe8y\\x02[}\\xa7m\\xbd\\xbd\\xba32|\\xadU>\\xc1\\xf6g\\xf2\\xe3Eo\\x9b\\xe6Z\\xfb\\x93^\\xff\\x00\\x82ax\\x8fE\\xd1TiV{\\xa6\\xf2\\xb74\\x95\\xc7\\xe8?\\xf0L\\x8f\\x89w\\xfa\\xc5\\xbc\\x9a\\xad\\xc4P\\xa3\\xcb\\xf3/\\'\\xe5\\xa6\\xf3\\n\\nW\\xbd\\xca\\xff\\x00U\\xb3\\'$\\x92_&|\\xa36\\x95x\\xf1}\\xa2\\xdfO\\x96D\\x1f\\xc5\\x12dT\\x10\\xd8\\x19\\xb7I$m\\xbf\\xfb\\xbe]~\\xc3x\\x0b\\xfe\\t\\xbd\\xe1-3\\xc16\\xd6s\\xe81H\\xab\\x02\\x89d\\xd8+\\x94\\xd6\\xff\\x00\\xe0\\x9a\\xdf\\x04\\xce\\xa55\\xe4\\xba\\x12\\xab\\xbf\\xde\\xfd\\xe6+\\x9b\\xfbj*7q\\xd0\\xeb\\x87\\x0b\\xe1j7\\x18b#u\\xb9\\xf9s\\xa0\\xfc1\\xf1W\\x8b\\x91\\xa4\\xf0\\xb6\\x87-\\xe0_\\xbc\\xc8\\x95SR\\xf8i\\xad\\xe8\\xdf\\xe8\\xfa\\xe6\\x8f-\\xac\\xeb\\xf7U\\xab\\xf7\\x0f\\xe0\\x1f\\xec;\\xf0\\x8f\\xc3>\\x0ek\\x1d#B\\xb6\\x81O\\xfa\\xc9<\\xbc\\x93\\\\\\xa7\\xc6\\x0f\\xd9\\x0f\\xe0\\x9b\\xeb\\xdfg\\xd6<3g3\\xa2\\xeeV\\xf2\\xeb\\x15\\x9c7+\\xf2\\xe8\\x142\\x1c\\xaa\\xb5iacY\\xf3\\xaf-\\x0f\\xc6]\\x07\\xe1\\xd7\\x89\\xf5\\xeb\\xc5\\x83C\\xd1\\xe5\\xb8s\\xfc(\\x995\\xd0?\\xec\\xdf\\xf1\\x82\\x1d\\xbf\\xf1n\\xb5&\\'\\xf8\\xbe\\xcaH\\xaf\\xd8\\xef\\x80\\x9f\\xb2/\\xc1\\x9b}BI\\xf4\\x7f\\t\\xd8@\\xfb~i\\x12\\x01\\x9a\\xec<\\x7f\\xf0\\xc7\\xe1\\xd7\\x82\\xad|\\xb9\\xe1\\xb7\\xd8\\x1b\\xee\\xb0\\x15\\x9c\\xf3\\xaa\\x97\\xd2:w7\\xa7\\x91d\\xd4q?U\\xa99Jo\\xb2?\\x13<=\\xfb.\\xfc`\\xd5u\\xb8\\xf4\\xbb\\x7f\\x01\\xeaK,\\xcd\\xfcV\\x87\\x15\\xd9x\\xa7\\xf6\\x03\\xf8\\xd9\\xe1\\xed)\\xb5\\xcf\\xec)n\\x00\\x8bsC\\x14y)_\\xad>\\x0bO\\x86W\\x1e%\\xb7\\xfb:Z\\xee\\x7f\\x97jb\\xbb\\xff\\x00\\x88\\x1e\\x1b\\xf8q\\x0f\\x86\\xee&\\x82\\x08\\x03\\x84\\xf9\\xab\\x1f\\xed\\x9cD\\xad\\xcb\\xb27\\xad\\x94\\xe4\\xd8*\\xd0\\xa5*Sn]O\\xe7\\xfe\\x1f\\x85\\x1f\\x10\\xa1\\xd5~\\xc7\\'\\x84\\xef\\xd7k\\xece{G\\xff\\x00\\n\\xf4\\x8d+\\xf6\\x1e\\xf8\\xdf\\xacX.\\xb9\\xa7\\xf8}\\xd5\\x15w,r\\xa1\\x07\\xf9W\\xea\\x94\\x1a/\\xc3k\\xbdi7X\\xd8\\x1d\\xad\\xf7\\x95\\x175\\xea\\xd6\\xde\\x1d\\xf8zt8\\xe7\\t\\x04go|V\\xb2\\xce\\xab\\xca6\\x8aF\\xb5\\xb8\\x7f*\\xc0\\xb4\\xea)\\xcb\\x9bkt?\\x0b\\xfcI\\xf0\\x13\\xe2/\\x86&o\\xf8H<\\x15{\\x1e\\xc7\\xdb\\xfe\\xa0\\xe2\\xb5\\xbe\\x1d~\\xc9\\x7f\\x10\\xbe*Y\\xb6\\xa1\\xa3\\xe9\\xf2\\xdb\\xc6\\x8d\\xf7\\x9e<\\xd7\\xeb\\x87\\x89|%\\xf0\\xd3Q\\xb9\\x9a\\xd2\\xe2\\xd2\\xdeB\\xed\\xf2\\xb3\\x01]\\x7f\\xc2o\\x02\\xfc8:3Aokm\\x18_\\x95\\xb6F\\x05f\\xf3\\xba\\xce6\\x88\\xabp\\xe6S\\x86\\xa7\\xf5\\x89)8\\xf6\\xb7s\\xf1\\x03\\xe2\\xa7\\xc0\\xdf\\x15|(\\xb9]?\\xc4\\x90+)m\\xbb\\xb6\\x1a\\xa3\\xe0\\x0f\\x85\\xbe$\\xf1\\xe6\\xab\\x0e\\x97\\xa3\\xd9\\xee\\xfe\\xf3W\\xec\\xbf\\xc7_\\x80\\x9f\\n<g\\xa96\\x97\\xacx~\\xce\\xf2=\\xbb\\x95\\xa5\\x80\\x1a\\xe5\\xfe\\x12~\\xc5\\xff\\x00\\x05\\xbc;\\xe2\\x16\\xd54\\x8d\\x12\\x1bY\\x1f\\xef2\\xf0?*\\xde9\\xcc\\xb9=\\xe5\\xa9\\x1f\\xea\\xbe[8\\xacD&\\xd5>\\xa9\\xa7s\\xf2\\xd7\\xe2G\\xec\\xc1\\xe3?\\x87\\xba<\\x9a\\xc5\\xe6\\xf9\\x19\\xbef_/\\x15\\xe50\\xe9\\xb7\\x97\\x93.\\x9ew\\xf9\\x92\\xbe\\xd5TJ\\xfd\\xc7\\xf8\\xd1\\xfb2|:\\xd6<;&\\x99\\xa8XE4r\\xa6\\xdfz\\xf9\\x9bM\\xff\\x00\\x82b\\xfc-\\xb5\\xf1\\xfd\\x9f\\x88l\\xeeg\\x86(n7\\xf9,\\xfb\\xd7\\xf5\\xaa\\xa3\\x9b\\xda7\\x9e\\xe2\\xab\\xc2\\xd8llcS\\t/w\\xad\\xf4>\\x13\\xbc\\xfd\\x95\\xfcya\\xe1%\\xf1$\\x96\\xef\\xb5\\xa2\\xde\\xd1\\xbcg5\\xe6\\x0f\\xa5\\\\\\xdbM%\\xbc\\x91\\xb2\\xc8\\x8f\\xb5\\x96\\xbfp<a\\xfb0\\xf8b\\xe7\\xc1\\x92i\\xd1\\xc0\\x8b\\x1f\\x91\\xb5N\\xca\\xf8\\x9f\\xc6\\x7f\\xf0K\\xdb\\xcdK\\xc4\\xf7\\x1a\\xa6\\x8f\\xe2G\\x8d\\x1e}\\xde_\\x91\\x91\\xf7\\xabL.j\\xe5):\\x86x\\xae\\x13\\xa3Z\\x92xG\\xcc\\xd3\\xd4\\xf9\\x1fA\\xfd\\x9f\\xbe(\\xf8\\xe6\\xc1uM\\x1fG\\xdc\\x88\\xbf3;\\xe0\\xd7\\x13\\xe3\\x0f\\x02\\xf8\\x87\\xc1w\\xff\\x00\\xd9\\xfe \\xd3\\xde9U\\xbe\\xed~\\xbd|\\x10\\xfd\\x8f\\xff\\x00\\xe1\\x18\\xf0\\x9a\\xe9\\xfa\\x85\\xc4R8\\x89U\\xbfw^W\\xfbF\\xff\\x00\\xc1:\\xf4\\x1f\\x1ex\\x82=B=b{R\\x9f2\\xacQ\\x8c\\x7f*\\xba9\\xbd\\xea\\xdf\\xa1U8=}Y\\xa8\\xcb\\xdf[\\xea~{\\xfc(\\xf8Q\\xaf|Q\\xf1\\n\\xe8\\xfa\\x15\\x9e\\xef\\xefH\\xdd\\x12\\xbd\\x17\\xe2/\\xec\\x7f\\xe3o\\x03C\\x1d\\xdd\\xec\\x914\\x1b76\\xc49\\xaf\\xb5\\xbff\\x1f\\xd8s\\xc3\\xdf\\x0c5\\xe9/n5Gl\\xfd\\xe5j\\xf6o\\x8b\\x7f\\xb3\\xe7\\x83\\xfcM\\xe1\\xb6\\xb3\\xb8\\xb6\\xc0+\\xf7\\xab\\x1a\\x99\\xb5E^\\xf0\\xd8\\xe8\\xc2p\\x8d\\x07\\x84j\\xbf\\xc6\\xf6\\xec~=\\xff\\x00b[\\x1db\\x1d.\\xdeG\\xfd\\xec\\xaa\\xbe\\xa2\\xbe\\xa8\\xf0O\\xec[\\xe0\\xcf\\x15x\\x19d\\x97\\xc3\\xed$\\xd2\\xc4\\xad\\xf6\\x8e\\xf5\\xf4G\\x85?c\\x0f\\x82\\xdaj/\\xfcS\\xf06\\xc7\\xdc\\xbb\\xb95\\xef\\xfe\\x07\\xf0W\\x84\\xb4m\\x0e\\x1d*\\xcfN\\x81c\\x88mS\\xe5\\xd3\\xc5f\\x8e\\xa5\\xa3NZ\\x9b\\xe5|+O\\t\\xcd*\\xda\\xdc\\xfc\\x83\\xf8\\x8b\\xfb:\\xf8\\x9f\\xc2\\xbe$\\x93C\\xd3\\xfc7\\x7fp\\x89\\xfe\\xad\\x92\\x02\\xe6\\xbd\\xcb\\xf6$\\xfd\\x8a\\xef<r\\xf7Z\\xcf\\x8d<\\'q\\xb6\\x16\\xdb\\x1a\\xdd&+\\xed/\\x88\\xba?\\x83\\xec5\\x89$\\xd4-\\xed\\xd7\\xfb\\xbb\\xb1R\\xfc3\\xf8\\x93\\xe1]\\x03V\\x8fE\\xb3\\xbd\\x81D\\xcf\\xfe\\xad1\\\\\\xd8\\x8c\\xc6\\xadJ\\x1c\\xbb>\\xe7U\\x0e\\x1b\\xc0a\\xf1\\x9e\\xd5\\xd9\\xf6]\\x0f\\x95\\xbfj/\\xf8\\'-\\xccVk\\xaax\\x1fK\\x8a7\\x7f\\xf9g\\xd0W\\x93\\xf8W\\xfe\\t\\xcb\\xf1_R\\xb9\\xb7\\xfe\\xd0\\xd4-a\\x89eV\\x9a4\\x8c\\xfd\\xdf\\xf3\\xed_\\xa7\\xff\\x00\\x15u\\xad\\x16\\xfb@\\x92\\xed\\x8a\\xa0\\x8a-\\xd5\\xf3\\x8d\\xff\\x00\\xedK\\xf0\\xd3\\xc3\\xd7\\x8doq\\xaaE\\x98[kV8lv*4\\xac\\x9d\\xce\\xca\\xd9>YRq\\xafZ\\x9a\\x8b\\xecn\\xf8\\x1b\\xf6\\x16\\xf0\\xd5\\x97\\x83m\\xf4\\xedV\\xc2\\x19\\x8f\\xd9\\xf6\\xc8\\xdb+\\xc4>$\\x7f\\xc16|\\x07y\\xe2K\\x8b\\x8b;\\x89\\xe3]\\xdf2\\xa3\\xe2\\xbe\\xbc\\xf8S\\xf1\\xeb\\xc3\\xde7\\xf0\\xb7\\xdb|?r\\xb3!N\\x89\\xcdxW\\xed9\\xfbF\\xaf\\xc2\\xeda\\xae/,\\xf6\\xc7/\\xf1V41\\x15\\xdc\\xf7\\xd4\\xec\\xaf\\x85\\xc1O\\x0e\\xfd\\xa4W*\\xd8\\xa7\\xf0\\x13\\xf6\\x01\\xf8{\\xe1\\xab/\"\\x0b\\x7f\\xb5\\\\\\x94\\xc7\\x99?%+[\\xe2g\\xec\\x1d\\xf0\\xd9\\xae!\\xbd\\xd4\\xf4t\\xfb\\xff\\x00u8\\x15S\\xf6C\\xfd\\xb2\\xf4\\x7f\\x88\\xbf\\x12\\x97\\xc1\\xf1\\xecYe\\x8btm_A~\\xd1z\\xa5\\xfd\\x97\\xc3K\\xedr\\xda\\xdf\\xcc\\x9a\\xde&x\\xeb:\\xd8\\xaa\\xd4\\xea\\xdaM\\xdcX|>\\n\\xa58\\xaap\\\\\\xac\\xf0\\x9f\\x87\\xbf\\xb2\\x87\\xc1\\xcd\\x0f\\xc46\\xf7\\x96\\xfe\\x1f\\x83z:\\xedm\\x82\\xbe\\x8ao\\xd9\\xeb\\xc2\\xf2xZk\\x884\\xd8$\\xdd\\x17\\xcb\\x1b\\xa6k\\xf3\\x7f\\xfe\\x1bo\\xe2E\\x87\\x89\\xfc\\xcb=\\x1a\\xeaAoq\\xb6H\\xe2\\x8f=\\x1a\\xbfC\\xff\\x00g\\xcf\\x8d\\x07\\xe2?\\xc3[=e\\xa2\\x91\\x1a{u.\\x8e\\x08?v\\xa3\\x15,Lyg7t\\xcc\\xe9N\\x9c\\x94\\xa9\\xe1RN/]\\x11\\xe2\\x9e$\\xf8K\\xf0\\xebG\\xd5d\\x8fP\\xd0\\xec\\x95\\xd5\\xbee\\xd8+\\xb1\\xf8}\\xf0\\xbb\\xe1\\xde\\xb7\\x03Gm\\xa7[\\xc6\\x89\\xf7V$Z\\xf1?\\xdb\\x93B\\xf8\\xd3m\\xe3\\x0f\\xedO\\x87\\xf6\\xf2\\xb42>\\xe6^\\xd5?\\xec\\x0f{\\xf1\\xa2_\\x16\\xdfi\\x9f\\x11t\\xf6[r\\xaa\\xd6\\xed\\xe6dV\\x9e\\xd2\\xac\\xf0\\xfc\\xee_#\\xa9\\xca\\x9d<g\\xb3P\\xdf\\xad\\x8fV\\xf8\\x8b\\xf0\\xbb\\xc1>\\x15\\xb9]B[;x\\xe1o\\xbc\\xcd\\x1e*\\x1f\\x00\\x7f\\xc2\\xba\\xd65Xt{y-T\\xbf\\xca\\xaa\\x9bk\\xa2\\xfd\\xad~\\x1ax\\x8b\\xc5_\\t\\xae#\\xd0\\x03-\\xe2/\\xee\\xf6W\\xc5\\x9f\\x0c~\\r~\\xd3:\\'\\x8d\\xac|Aq\\xa8m\\xfb-\\xd2\\xb3G\\xcf\\xce\\xbb\\xbe\\xedE)T\\xc5BK\\x99\\xdd\\x0f\\x13R4\\xa7\\x19S\\x8d\\xd3\\xde\\xd6?E\\xaf\\xff\\x00g\\xdf\\r\\xdd\\xf8M\\xb5\\x0b\\x18\\x13x\\\\\\xd7\\xcd^;\\xf1\\xef\\x83\\xfc\\x07\\xe2I\\xb4}`E\\x1b\\xc2\\xfbZ\\xbe\\xb5\\xf8K\\xaf^_x*+-^?\\xde\\xbd\\xba\\xef\\xff\\x00\\xbek\\xe4\\x8f\\xdb\\x1b\\xf6D\\x87\\xe2_\\x8c[X\\xb3\\xd7.\\xad_\\xf8\\x96)0\\x1e\\xb9p\\xee\\xa7\\xb5Jn\\xc9\\x93N\\xa5i{X\\xcbV\\xb5\\x8f\\xa1\\xe8?\\x0bn~\\x1f\\xf8\\xc3H\\x8fP\\xb3\\x8e)\\x16o\\xbc\\xddk\\xcf\\xbfh_\\x10\\xf8?\\xe1n\\xa4\\xb1\\xdem\\x8e)[\\xe5j\\xda\\xfd\\x91~\\t\\xdf\\xfc7\\xd0\\xe4\\xf0\\xfd\\xe7\\x88%\\xba\\xfd\\xee\\xe8\\xda^Mi\\xfe\\xd6\\x9f\\xb3\\x1d\\x87\\xc5\\x8d\\x068\\xaf7.\\xcf\\xbc\\xc9[9rW\\xe4\\xbd\\xd7\\xa9\\xd3\\x15:\\x98kI{\\xc6O\\xec\\xeb\\xe3o\\x87_\\x10\\xa6_\\xb3Kop\\xca\\xfbYx5\\xec^=\\xf8Y\\xe1\\xcb\\x7f\\x0f6\\xa1i\\xa7$[Ww\\xc8\\x95\\xf3\\x17\\xec\\xf7\\xfb+\\xe9\\xbf\\x06\\xfci\\x1e\\xb1\\xa5\\xeb\\x17J\\xaf\\xf2\\xcd\\x1b\\xcev\\xbf\\xe1\\xd2\\xbe\\xe0\\xd244\\xd7\\xbc)-\\xbe<\\xd4\\xf2\\xbf\\x8b\\xe9Yb\\xe2\\xe9\\xd6\\xf7\\x1d\\xd1\\xcdN\\xb5J\\x14\\x14\\xea\\xabk\\xa9\\xf9\\xf3\\xe3\\xff\\x00\\x88\\xbf\\x0ft\\x9f\\x88P\\xe8\\xda\\x84\\x91n3\\xec\\x91_\\x15\\xf5o\\xc2\\x8d+\\xc1\\x97\\xfe\\x00I-\\xed\\xe2ex\\xbf\\xe7\\x9dy\\'\\xc5\\xaf\\xd9_\\xc0\\x1a\\x97\\x8c\\xee5MSK\\x89f\\xf3w.\\xf8\\xf9\\xafS\\xf8E\\xa3h\\xfa>\\x8d\\x1e\\x87oy\\xc4I\\xb5V\\xad\\xaan\\x94\\\\e\\xa9\\xd1\\x1a.\\x18\\x86\\xd3\\xd0\\xf8\\xcf\\xf6\\xd8\\xfe\\xc7\\xd15\\xeb\\x8d>\\xe2\\xcd|\\xa5\\x97t\\x7f\\xbb\\xae\\xf3\\xf63\\xf0\\xbf\\x81\\xbcm\\xe1\\xb8\\xef>\\xcf\\x14\\xc9\"m\\x91v\\x7f\\xc0k\\xd9~>\\xfc\\x01\\xf0\\xaf\\x89nWX\\xd54\\xe8\\xa6\\x0b\\xf3nt\\xcdd|\\x19\\xd2\\xbc\\x19\\xf0\\xf7V[}?\\xc8\\x8d\\x1d\\xfeeZ\\xe9\\xe7\\x84\\xb0\\xf6\\xe6w0\\xab\\x85\\x97\\xd7U],\\xcf\\x9c\\xbfo?\\xd8\\x91\\xed\\xb7x\\xb3\\xc0\\xda>\\xed\\xff\\x003,Q\\xd7\\xcb~\\x00\\xfd\\x9b<m\\xafx\\x85l\\xf5\\x0f\\r\\xcf\\x1c[\\xf6\\xb5~\\xd3x\\x87\\xc3\\x9e\\x1f\\xf1\\xaf\\x86\\x9a\\xd8\\x85\\x91Z,\\xfa\\xd7\\xcf\\x9a\\xc5\\xb7\\x80\\xbc\\x07\\xe2\\x16\\x8e\\xe2;x]\\x1f\\xee\\xb6\\x05ua3J\\x94i{=[<\\xdc\\xcb!\\xc2f\\x15Ug\\xa3[\\x9e\\tg\\xfb\\x00X\\\\\\xf8\\x01\\xae-\\xb4}\\xb34[\\x95Y9\\xaf\\x93\\xfcs\\xfb-x\\xff\\x00D\\xf1%\\xc6\\x8fo\\xe1\\xb9\\xda\\x11/\\xcb\"\\'\\x15\\xfb\\x17\\xf0\\xd7\\xc6\\xfe\\n\\xf1V\\x8c\\xb6v\\xd2D\\xc0\\xa6\\xdc.\\rp\\x1f\\x1c\\xbc%\\xe0\\xbf\\x0c\\xcc\\xda\\xad\\xe5\\xb4J\\x8f\\xf3n\\xf2\\xebJ\\x19\\xb5jS\\x16#\\x87\\xb0\\x18\\x9c/-\\xb6\\xea~x\\xfc.\\xfd\\x85|C\\xe2{\\x0f\\xf4\\xcd\\x1eX\\xdd\\xfe\\xee\\xe4\\xaa~3\\xff\\x00\\x82~\\xfcE\\xd1\\xf5&\\x8e\\xce\\xcf\\xe5\\xfe\\x1a\\xfb\\xff\\x00\\xe1/\\xc5\\xaf\\x86\\xe9~\\xba_\\x99\\x06\\xe5\\xf9Uk\\xd5<Y\\xa0\\xf8O^\\xd0[X\\xd3\\xed\\xd1\\x9dWsV\\x8f9\\xc4\\xaa\\x8e]\\x0ez\\x1c3\\x96\\xce\\x8f&\\xec\\xfc\\xcf\\xf8W\\xff\\x00\\x04\\xe8\\xf1&\\xb7r\\xb2x\\x92\\xcd\\x98\\x7fu+\\xa6\\xf8\\xa9\\xff\\x00\\x04\\xcd\\xd6\\xed\\xb4\\xa5\\x93\\xc3\\xf1\\xbc\\x7f%}-y\\xfbI\\xf83\\xe1\\xef\\x88[G\\xd46B\\xe8\\xfbY[\\x8a\\xf6_\\x06|Q\\xf0\\x97\\xc4]\\x071\\xc7\\x14\\x9b\\x93r\\xb5D\\xb3l\\\\\\xa4\\x9a\\xd2\\xc6\\xf4r\\x0c\\xa6\\x9d\\xe94\\xb5?3\\xfc\\x13\\xff\\x00\\x04\\xf1\\xf1\\x84\\xda\\x92\\xdb\\xea\\x92n]\\xdf2\\xf9u\\xeb\\xb7\\x9f\\xf0L\\xabmCDY-\\xec\\xfc\\xb9\\x02\\xfc\\xdbz\\xd7\\xb3\\xfcl\\xf8\\xc7a\\xf0\\xaf[h\\xe4\\xd2\\xdfk?\\xca\\xca\\x95\\xd5~\\xcf?\\xb5_\\x86<\\x7fs\\xf6\\x0c\\xae\\xf4\\xf9d\\x8d\\xba\\xd2\\xab\\x99f\\x12\\xf7\\xfa\\x15K%\\xca\\xb0\\xf3pQ\\xd1\\x9f#\\xff\\x00\\xc3\\xb4\\xdf\\xce[}B7P?\\x86\\xbd\\'\\xc1?\\xf0M\\xef\\x0b\\xff\\x00f\\xfd\\x9e;4Wd\\xda\\xad\\xde\\xbe\\xa9\\xf8\\xdd\\x0c\\xf1\\xf8zMs\\xc3v\\xfb\\x9ff\\xe5T\\xaf\\n\\xf8c\\xfbHx\\xca\\xcf\\xc5\\x8b\\xa3\\xeb\\x1e\\x1f\\xb8\\x8c#\\xfc\\xb2?J\\xe7Y\\x8e2\\xbco\\x13\\xa5\\xe4\\xf9f\\x19\\xa9rh\\xfc\\x8f\"\\xf1\\x9f\\xfc\\x136\\xcfJ\\xd6?\\xb4<\\xb7\\xd9\\xbbs-{\\x1f\\xec\\xfd\\xfb0x?@\\xb0]>\\xf2\\xdd$\\x1f\\xdd\\x96\\xbd\\xe3\\xc4\\xda\\xc4\\xde-\\xf0\\x92\\xde[\\xe9\\xff\\x00\\xbe\\xf2\\xb7m\\xaf\\x95\\xbca\\xf1/\\xe3\\x07\\x81\\xbcZ\\xd6\\xf6z\\x1d\\xc4\\x90\\xf9\\xbf+%W\\xd61x\\x88\\xf2\\xc9\\xff\\x00^\\xa6\\xaf\\x01\\x82\\xa3\\xfb\\xd8@\\xfd6\\xf8\\xf1\\xe2\\xfd\\x0f\\xc0vK=\\x9e\\x9c\\x85G\\xcd\\xb5c\\xe6\\xb8o\\x85\\x9f\\xb4\\x85\\xb7\\x8cu\\xc8\\xb4M;D\\x90a\\xf0\\xc5\\xe1\\xe2\\xbd;\\xe2,\\x1e\\x00\\xf1\\x0b\\xb5\\xbe\\xa7y\\x13m\\xf9[u/\\xc1O\\x87\\x1f\\x0e`\\xd5M\\xfe\\x8fm\\x11*z\\xa6+z\\x8a3\\xa9\\xc8\\x96\\xa7\\xcba\\xb18L>P\\xe7Z\\x9c\\x9d\\x93\\xdd=\\xdf\\x99\\xad\\xf1G\\xc7\\x8b\\xe0\\xff\\x00\\x08\\xfd\\xb14\\xfeD[\\x9bjW\\xcb\\xfa\\xaf\\xed\\xa5x\\x9a\\xc3i\\xf6\\xfe\\x1b\\xbdo\\xde\\xed\\xdd\\xe4\\x1c\\x7f*\\xfa\\xc7\\xe3>\\xbd\\xe0\\x08\\xac[J\\xd5$\\x8b\\xeemm\\xf5\\xe4z\\x1e\\x8d\\xf0\\x7fV\\xd6\\xe3\\xb4\\x82+Vb\\xdf\\xc1\\x18\\xcd\\x18\\xbff\\xad\\x0e\\xa4p\\xf4\\xa8}M\\xd5\\xa9E\\xebw\\xb5\\xee\\x8e\\xef\\xe1\\xe7\\x8e\\xeeu\\xef\\x87\\x07V\\xb8\\xd3\\xd9ex\\xb7*\\xbas^\\x13\\xe3\\xaf\\x8f\\xbf\\x11|-\\xafM\\xa7\\xe9\\x9e\\x0f\\xb8\\xb8M\\xd9i\\x12\\xbe\\x98\\xd6.|)\\xf0\\xf7\\xc2A]#X\\xf6\\xfc\\xb5\\xe2\\xda\\xcf\\xc5\\xcf\\x84\\xb3^I\\x1d\\xc5\\xc5\\xaf\\x98\\xef\\xf3o\\x90W=h\\xc24\\x94d\\xb56\\xc9\\xa7N\\xbe&\\xb5Zt\\x1b\\x84\\x9e\\x9e_y\\xd7\\xfe\\xce\\x1e6\\xf1\\x8f\\x8e4w\\xd4u\\xed\\r\\xad\\xc6\\xcc\\x88\\xe5\\xac\\x0f\\x89>!\\xf1\\x06\\x87\\xe2\\xcd\\x92\\xe8\\x8d2;uZ\\xf4\\xcf\\x84\\xfe0\\xf0}\\x97\\x85\\x1bV\\xb3H\\xd6 \\x99]\\xb5\\xe5_\\x18\\xff\\x00io\\x87V\\x1a\\xdbG\\xa8\\\\[\\xab\\'\\xddZ\\xda\\x9a\\xf68t\\xecg\\x85\\xa9Ry\\xedYF\\x85\\xa0\\xb4\\xec^\\xf0\\xae\\x81g\\xe3\\x0f\\x13\\xc14\\xfaZ\\xa1\\xdc\\xbb\\x99\\x92\\xbd\\'\\xe3G\\xc3\\x1d?Q\\xf03i\\xf6Q\\xace\\xa2\\xf9\\x99k\\xce\\xff\\x00g\\x8f\\x8c>\\x11\\xf1\\xf6\\xacF\\x852J\\x01\\xe5\\x96\\xae~\\xd4\\xbf\\xb4\\x03\\xfc:\\xd3d\\x0e\\x1d\\xa2D\\xf9\\x95(\\xa0\\xdd\\x9c\\xbb\\x91\\x98\\xc70\\xc4g4\\xa9S\\xf7TU\\xf7\\xba\\xb1\\xf2?\\x8f?\\xe0\\x9d\\xb6^0\\xd7\\xdbR\\xd45Yc\\r>\\xed\\x89_[|\\x11\\xfd\\x9d4\\x8f\\x08\\xfc1\\xb7\\xf0\\xdc\\x1c$v\\xfbC?\\xfb\\xb5\\xf3\\x16\\x89\\xfbt\\xc3\\xe3\\x0f\\x15Y\\xf8\\x7fK\\xb0\\x9aI\\xae.\\x95\\x15Q\\x18\\xfeu\\xf5~\\xb9\\xe3\\xad\\x7fH\\xf8g\\x15\\xe4v\\xec\\x18C\\x92jcVU\\'\\xef\\xed\\xfd|\\x8fO1\\xa7\\x88\\x85\\x18,7,\\\\\\xe5f\\xd7\\x97\\xe8xo\\xc5O\\xd8\\xf3\\xe1\\x8f\\x8a\\xbcU&\\xa9\\xe2\\x0b5\\x91\\xe3\\xfb\\xab\\xda\\xbds\\xf6@\\xf85\\xe1\\x0f\\x841\\xcd\\'\\x86\\xf4\\xa8\\xa2\\x81\\xce\\xe7\\t_\\x13\\xfc]\\xfd\\xb0>-\\'\\x8b\\xaf4\\xff\\x00\\r\\xe8w\\xb3y2\\xed\\xdc\\x90\\x1cW\\xd8\\x1f\\xb07\\x88|i\\xe3\\x7f\\x86\\xff\\x00\\xda\\xfe.\\x8aX.%Ncn\\reVUeV.oN\\x84\\xe6\\xad\\xff\\x00c\\xd5\\x8b\\x92\\xbaIKK^\\xef\\xb9\\xd4~\\xd0\\xbe-\\xf00\\xbc\\xfb>\\xa1%\\xba\\x85\\xff\\x00Y\\xbe\\xbc\\xfb\\xe1\\xbf\\x8a\\xfe\\x1d\\xdd\\xf8\\xc6\\x0b\\x0b\\t-Y\\xdd\\xbe\\xeab\\xb8\\x0f\\xdb\\xab\\xe1G\\xc5?\\x14\\xdey\\x1e\\x0c\\x95\\x95\\xcc\\xbf3\\xf9\\x84W#\\xfb\\x10\\xfe\\xcc\\x7f\\x174\\x0f\\x88\\xf2k\\xde9\\xd4Z`\\xa9\\xb6\\x18\\xf2qQ8]\\xf3\\\\\\xdf/\\xa7O\\r\\x95\\xc6\\t\\xbeG\\x16\\xdc\\xaf\\xa6\\xc7\\xd7?\\x1a\\xfe\"x?\\xc2\\x9e\\x1c\\x97\\xed\\x11D\\x828\\xb7o5\\xf3_\\x86\\x7flo\\x86\\xf7\\xbe8\\xb4\\xf0\\xf4W\\n\\xcd-\\xd2\\xc6\\xbf\\xf7\\xd5zw\\xed[\\xf0S\\xc5\\xbe+\\xf0\\x8d\\xc6\\x8faq\\xe5Kp\\x9bVC_)\\xfc;\\xff\\x00\\x82q\\xf8\\xb7L\\xf1\\xb6\\x97\\xae\\xea\\x1e(\\x95\\xa4\\xb6\\xbaYYS\\xfd\\xec\\xd3\\xa9\\x08\\xb8{\\xcf^\\x84\\xe54\\xa9Q\\xc2\\xc5Q\\xb4\\xe3/\\x89\\xb6~\\x94\\xeb\\xda\\xcc\\x16\\xff\\x00\\x0c\\xe2\\xd4\\xf4\\xbf\\x945\\xb6G\\xfd\\xf3_\\x9c\\xdf\\x1e?o=c\\xc1?\\x10\\xef\\xbc7\\x1c|\\xdb\\xcb\\xf2\\xb7Z\\xfd\\x1a\\xb4\\xf0\\xb3\\xc7\\xf0\\xc6\\x1d2\\xf5\\xf1\\xb2\\xdf\\x0c[\\xfd\\xda\\xf9\\x0b\\xc7\\xff\\x00\\xb27\\xc2\\xaf\\x13\\xf8\\xc6\\xeb\\xc4z\\xa6\\x8f\\x04\\x93\\xcd/\\xcc\\xcdX[T\\xa7\\xb1\\xe4\\xf0\\xd3\\xa7\\xcd\\x88\\x85\\x16\\xb9\\xb9\\xb4m_K\\x9e\\xb7\\xfb+|Q\\xf1O\\x8b>\\x05A\\xe2;\\xf4\\x0b5\\xd4>`?Z\\xf97\\xf6\\xed\\xfd\\xaa\\xfcy\\xe0?\\x1f\\xc7\\xa3iw\\x0e\\xbb\\xff\\x00\\x8a\\xbe\\xfc\\xf8#\\xf0\\xf3\\xc3\\x9a\\'\\xc384K\\x08\\xa2\\x86\\x08b\\xdb\\x1ci\\xf7k\\xc0\\xbe<\\xfe\\xce_\\x0c|a\\xe3\\x895\\x0f\\x10h\\xf0\\\\M\\x17\\xfa\\xb6lR\\xa5\\x15\\tsKn\\xc7^\\x03\\x15\\x86\\xaf\\x9a\\xe2aIr\\xcd\\xf5\\xb7\\xf5\\xb9\\xc7\\xff\\x00\\xc1-\\xfe>x\\x9f\\xe2\\xbd\\xc6\\xa9\\x1f\\x88.\\x1aI-\\'U_\\xf8\\x10\\xae\\xd3\\xfe\\n/c\\xe38\\xbc\\x05uq\\xe0\\xe3;]l\\xdd\\x1a\\xc5\\xd6\\xba\\xbf\\xd9W\\xe0\\xff\\x00\\x82\\xfe\\x19\\xear\\xcb\\xe1}.\\x0bd\\x98\\xe6e\\x89\\x00\\xcdv\\x7f\\xb4\\x06\\xa5\\xe1\\xb9,\\xd6\\xcfP\\x91q\\xfc[\\xfaVN<\\xf3\\x94\\x96\\x88\\x9a\\xb5eO\\x88\\xe9\\xa4\\xb9\\x9f*M\\xf9\\x9f\\x98\\x9f\\xb2W\\x8a\\xbfh]c\\xe3\\xce\\x9d\\xa7\\xf8\\x8a\\xcfQ\\x8e\\xd5d\\xf9\\xdaX\\x1dS\\xf5\\xaf\\xb8\\x7fh+o\\x15X|;\\xbf\\xb8\\xb2\\x9eR\\xe6\\xc9\\x99\\x02u\\xfb\\xb57\\x81n<\\ti\\xe2\\x98\\'\\xb2KQ!m\\xbf&3^\\xc3\\xf1\\x12\\x1f\\n\\xea\\xde\\x15x\\xa4\\xf2\\xb3\\xe4\\xfc\\xcbD\\xd4*\\xd4\\xe7Zlz\\x98\\xcc\\\\\\xb0\\x18\\x8a4\\xb9\\\\\\x93\\xbe\\xbe\\xa7\\xe3\\xa6\\x83\\xf1\\xb3\\xe3\\xad\\x9f\\x8c\\xd6;\\x8b\\xcdI\\xa3\\x86\\xf7\\xf7\\x8d\\xb1\\xf1\\xb7\\xcc\\xaf\\xd0\\xff\\x00\\x05\\xebz\\xdf\\x88\\xfe\\x1c\\xda\\xdf\\xc9+y\\x92\\xda\\xff\\x00\\x1f\\xfb\\xb5 \\xf0\\'\\xc3I.\\x01\\x8fJ\\xb3\\xdf\\xbb\\xe6\\xfd\\xd8\\xafY\\xf0\\xb6\\x99\\xe1(\\xbc2-|\\x88\\xd1\\x11>^\\x95u\\xe7N\\xbc\\xd7.\\x967\\x9dG\\x97S\\xe7\\x9b\\x94\\xf9\\x9fm\\x8f\\xcd/\\xda;\\xe2\\xef\\xc7\\xbf\\x86\\x9f\\x11n\\xac\\xec-\\xef\\x1a\\xcd\\x9bt2,nk\\xdc?b\\xbf\\x8b\\x9e8\\xf1\\xa7\\x80n5\\x1du\\xe5Y\\xbc\\xdf\\x93}{O\\x8f\\xfc\\x15\\xe0_\\x10\\xeaw\\x03T\\xb7\\x82o\\x9fj\\xabc5\\xaf\\xf0\\x9f\\xc0\\x1e\\r\\xd2l\\xdfL\\xd1\\xec`\\x822~m\\x91\\x81URTeK\\x92+^\\xe7J\\xe6\\xa3|D\\xe4\\xdcm\\xf0\\xd8\\xf9k\\xf6\\xb4\\xfd\\xa8\\xbe!|%\\xd6,\\xef4\\xf9<\\xc4?,\\x8b\\xd2\\xae~\\xcb\\x1f\\xb7~\\xa5\\xf1\\'X\\xfe\\xc2\\xd4t\\xf3\\x1c\\xc3k+W\\xb6\\xfc{\\xfd\\x98\\xfe\\x1d|J\\x95t\\xff\\x00\\x14\\xe8\\xf1\\\\!\\xfb\\xb5\\xc5\\xfc/\\xfd\\x84\\xbe\\x18x\\x17\\xc5\\xb0\\xf8\\x87\\xc3vok2\\xfc\\xbbb\\x90\\xe2\\x87\\x1c:\\xa3\\xca\\xd7\\xbcC\\xf6\\xd5j\\xaa\\xb0\\x9a\\xf6V\\xd9\\xa3\\xa8\\xf8\\xf1\\xf1\\xc7^\\xf0\\xbf\\x86\\xe4\\xd7\"\\x8d\\xa4\\t\\x16\\xe6Z\\xf9\\xf7\\xc2\\xbf\\xf0Q\\xff\\x00\\x0c\\\\\\xeaKg\\xa8\\xc6\\xca\\xe2]\\xad\\xbf\\xfb\\xd5\\xf5\\x8f\\xc5\\x0f\\x80\\xbav\\xb9\\xe1Y4\\xfb\\xc9<\\xc8\\x9a/\\xbb_\\x16\\xf8\\xdf\\xfe\\t\\xafas\\xe2\\x16\\xd7|/\\xaaOn\\xd2\\\\nh\\xfa\\xaf\\xde\\xaa\\xc3\\xaa\\x12\\x8b\\x85A\\xcau\\xaaB2\\xc0\\xd9\\xa5\\xba>\\xb8\\xb2\\xf8\\xfbm\\xab\\xf8J\\x1b\\xc8\\x8e\\xe8e\\xb7\\xdc\\xb5\\xe1\\xba\\xdf\\xed\\xbd\\xe0\\r\\x07\\xc4\\x97\\x1a\\x1e\\xa1y\\xe5\\xc9\\x1c\\xbf2\\xef\\xafH\\xf0\\x8f\\xc1\\x1d_B\\xf0\\x05\\xbe\\x85qv\\xb3I\\x0c\\n\\xack\\xe4\\x1f\\x8f\\x1f\\xb0\\x7f\\xc5\\x1f\\x15x\\xf2\\xeb\\\\\\xd0\\xee\"\\x8d$\\x7f\\xbc\\xd9\\xcd]\\x18R\\xa97\\x16\\xf4E\\xd5X\\x8a4/B\\t\\xcbv\\x91\\xf6o\\xc1\\xdf\\xdaG\\xc2^7\\xd3\\xbe\\xdb\\xa1j\\t \\xfe%G\\xcdq\\x9f\\xb4o\\xed-\\xa2|=\\xdb\\xa8^G\\xb4\\x7fy\\xab\\xcb\\x7fc\\x0f\\xd9\\x8f\\xe3\\x07\\xc2\\xeb\\xc9\\xb4\\xff\\x00\\x10I\\x14\\x90;n\\x8d\\x935\\xde~\\xd4_\\xb2\\xee\\xbb\\xf1?\\xc3\\x12Y\\xf9\\xa9\\x0b\\x8f\\x95Y\\xb9\\xa5\\x08R\\x85nU\\xf0\\x95NU\\xeaQspJ\\xa38/\\n\\xfe\\xde^\\x12\\xbc\\xd7\\xadl\\xe3\\x93\\xe6\\x9aUU\\xfck\\xe8\\x0f\\x13\\xfcV\\xb8\\xbf\\xf0\\xabj\\x16\\xd1\\xa3\\'\\xd9\\xf7\\xaf\\xfd\\xf3_\\r\\xe8?\\xf0OO\\x8a\\xfaW\\x8c,u\\x0bmR\\xd5\\x96\\x1b\\x85o\\xf5d\\x7f\\x8d}\\xc1\\xa5|\\x1f\\xd4\\xbf\\xe1\\x0c\\x8fK\\xbc\\xb8Fu\\x83d\\x9b?\\xdd\\xadk\\xc2\\x8a\\x94]7s\\x0c\\x0c\\xf3\\t_\\xeb\\x11\\xb7c\\xe3\\x7f\\x89\\x7f\\xb7\\x8f\\x89\\xfc%\\xad\\xdciq\\xe9\\xef\\xb5\\x19\\x95Y+\\xd5\\xbfc\\xff\\x00\\xda\\xd3\\xc4?\\x184\\xab\\x88.$\\x969\\x11\\xf6\\xedz\\xcf\\xd6\\x7f\\xe0\\x9c\\xbe\\x12\\xf1?\\x8c\\xee5\\xcdr\\xf2\\xeaM\\xf2\\xeehRM\\x8b^\\xdd\\xfb=~\\xc9\\xbf\\r>\\x0e\\xca\\xc9\\xe1\\xfd)W\\xcc\\xfb\\xcc\\xfc\\x9a\\xda\\xbc\\xf0q\\xa5\\xcb\\xf6\\x8ch\\xd1\\xcd\\xe3\\x8cu*Ir#\\xc1\\xff\\x00m$\\xf8\\x91s\\xa5.\\xa1\\xe1;{\\xa9$_\\xf9\\xe5\\x92k\\xc0\\xbe\\x12\\xd9\\xfe\\xd1\\xaf\\xf1GG\\xbc\\xb8\\xd2\\xf5O\\xb3}\\xa9ZO66\\xc6\\xdf\\xe9_\\xa7\\x1f\\x10|+\\xa1C\\xa5\\xaaKg\\x16\\xd5\\xf6\\x15\\xe7O\\x7f\\xe0\\xfd\\x06\\xe5n#\\xf2\\x14\\xa3\\xfc\\xcd\\xf2\\xd61\\xc4\\xa8\\xc3\\x97\\x94\\xda\\xb6\\x01bj\\xc6\\xb2\\xa8\\xd2\\xb9\\xb3\\xad\\xe8\\x9e!\\xd6\\xfc\\t%\\xbc\\x91\\xb7\\x98\\xf6\\xbbv\\xff\\x00\\xb5\\xb6\\xbe\\x0f\\xf1?\\xec=\\xf1\\x9b\\xc5^3\\xbe\\xb8\\x92\\xf6\\x0b{in\\x19\\xa1g\\xc95\\xfaC\\xe1o\\x13\\xe8\\x1a\\xaf\\x87\\xd6\\xf2)\\x16@\\xe9\\x8a\\xf2_\\x8a?\\x17\\xbc\\x11\\xf0\\xebXh\\xf5\\x9dA#\\xf3\\x1b\\xf7j\\xdcV\\x18z\\xb1\\xa3\\'$\\xb5g^3\\x0bO\\x15K\\x92\\xaav_\\x89\\x8b\\xfb\\x18~\\xcd\\x9e!\\xf8W\\xe1\\xb6\\xd1\\xf5\\xcdq\\xee?\\xbb\\xb6<\\n\\xe8\\x7fh\\xcf\\xd9\\x87\\xc1\\x9f\\x10\\xac\\xe3\\xb7\\xf1\\x05\\x9f\\x99U~\\x14\\xfe\\xd6\\x9e\\x06\\xd7\\xfcC\\x1e\\x87\\xa5\\xdc\\xab9\\xfb\\xab]o\\xc6\\xff\\x00\\x88Z\\x9d\\x9f\\x85.5\\x8d>\\xd3\\xcch\\x93r\\xadJ\\xabR5\\xf9\\xda\\xd4t\\xa9\\xd2\\xf6J\\x9c-\\xc8\\x96\\xc7\\x96\\xfc\\x07\\xfd\\x90\\xbe\\x17\\xfc(\\xf1\\xe5\\xaf\\x8b4}.(n!\\xf9U\\x96\\xbe\\xaf\\xd7\\xbc\\x03e\\xe2\\x7f\\x01\\xcd\\r\\xe3\\xac\\x91\\xcb\\x16\\xd6\\x8d\\xf9\\xaf\\xcd\\xfdC\\xf6\\xff\\x00\\xd6\\xf4\\xddm\\xb4\\xef\\xecyY\\xe2\\x97k~\\xe0\\xff\\x00z\\xbfB\\xfe\\x01\\xf8\\xee\\xe7\\xc7\\xdf\\x0b\\xf4\\xddm\\xa3a\\xf6\\xab(\\xe4\\xda\\xfe\\xe2\\xb3\\xc6:\\x91\\x9a\\x95E\\xa3<\\xea\\xb5`\\xa9\\x7f\\xb3\\xfb\\xbc\\x8fS\\xc0?\\xe1\\x9e\\xfe\\x1ah:\\xac\\xc6M\\x0e\\xd67\\xf3[r\\xec\\x02\\xbdc\\xe15\\x87\\x87\\xb4=?\\xfb/O\\x11*/\\xf0\\xa5|\\xa7\\xfb{|]\\xf8\\x8b\\xf0\\xeb\\xe2Ki\\xfe\\x1f\\x82\\xe3d\\xdb\\xb6\\xb4H\\xc7\\xf9W)\\xfb\\x1e~\\xd1\\xdf\\x14u\\xef\\x88\\xab\\xe1\\xff\\x00\\x12[\\xde4s}\\xdd\\xd1\\xb8\\x15\\xad\\xea\\xe2(9\\xa7t\\x8e\\xca\\xb8\\x8a\\x14\\xab{.]e\\xd5\\x1fd|k\\xfe\\xc1\\xb3\\x81u\\x0b\\xcf+\\xcaO\\xbc\\xcf^{\\xe1?\\x8a\\xdf\\x0f\\xf4-z9-5KX\\xcb\\xb2\\xab~\\xf0W_\\xf1\\xaf\\xc0\\x1a\\xd7\\x8e\\xfe\\x1e\\xddY\\xe9\\xc1\\x96f\\x81\\xb6\\xff\\x00\\xdf5\\xf9\\xf5\\xaa\\xfe\\xcf\\xdf\\xb4\\x9d\\x9f\\x89$\\x8e8\\xe5d\\x8a\\x7f\\xdd\\xc9\\xe6\\x1f\\xefQ\\x87\\xa6\\xb1\\x10\\x92\\xe6\\xb3\\xecV2\\xb5\\\\-8J\\x11rKO3\\xf5\\'T\\xd7\\xb4\\xaf\\x13xml\\xa2\\xda\\xca\\xf1n\\x12W\\xcd\\x9e4\\xf8\\xd9\\xe0?\\x00k\\xd3iz\\x8e\\xa1\\x14r\\xc5/\\xcc\\xbd\\xeb\\xd7~\\x02h^%\\x7f\\x87\\x1aM\\x8f\\x88 \\xff\\x00K\\xfb\\x12\\xac\\xc3\\xfd\\xad\\xbc\\xd7\\xc8\\xdf\\xb6\\x97\\xecs\\xe3\\xff\\x00\\x1a|K\\x9bU\\xf0\\xf4\\x8f\\x1aJ\\xdfysXa\\x17=\\x7fg3I~\\xeb\\x0c\\xfd\\x8a\\xd7{z\\x9fZ~\\xce\\xbf\\x1e\\xbc1\\xe3\\xabFM\\n\\xf1dh\\xf8e\\x12f\\x9b\\xfbT\\xf8\\x89\\xfc-\\xe1y<[mi\\xbbb\\xee\\x93m|\\xe3\\xfb\\x0c~\\xcd\\xff\\x00\\x14>\\r\\xf8\\xc9\\xae5\\x9da\\xa4\\xb4\\xb9O\\x9a\\x1e~F\\xaf\\xb3\\xbe!\\xfc2_\\x1dx\\x02m/S\\xb4i\"\\x96-\\xbc\\x7f\\xbbQ^\\x9c\\xe9b-\\x07\\xa1\\x85\\x1a\\xbe\\xcd\\xc2\\xade\\xca\\xe5\\xa1\\xf0\\xef\\xc3\\xaf\\xdb\\x9fAO\\x1eY\\xe9r\\\\\\x05\\xf3\\xa7\\xd9_]?\\x8b\\x13\\xc4\\x1e\\x0f\\x9a\\xe2-\\x92~\\xe3r\\x7f\\xdf5\\xf3\\x03\\xff\\x00\\xc1;\\xfc/k\\xe2O\\xed\\x8b{9r\\xb7^b\\xfe\\r_T\\xfc=\\xf8l\\xd6\\xde\\x1f\\x87N\\xda\\xcc\\x12\\xdfc+\\xd6\\xd8\\x88A\\xc2.\\x9e\\xfdQ\\xad\\x07\\x88\\xa5\\xcc\\xf1\\x16\\xb2z3\\xe1\\xcf\\x89\\xdf\\xb6\\xb5\\xcf\\x80<mu\\xa1\\xdei\\xec\\xbeD\\xbbwW\\xda\\x1f\\xb0\\xf7\\xc7\\xfd+\\xe3_\\x83!\\xd5,\\xa7]\\xc0\\xec\\x997\\xd7\\x91|i\\xfd\\x89|\\x0b\\xe2\\x8f\\x19\\xcd\\xac_\\xf8}\\x19\\xdd\\xf7n\\xd9^\\x8d\\xfb(\\xfc\\x19\\xd2\\xbe\\x0ej\\x9ff\\xf0\\xfd\\x87\\xd9\\xe1\\xb8\\xdb\\xe6F\\xbc\\r\\xd4\\xf1\\x14\\xa9O\\x0c\\x9c_\\xbcs\\xd7\\xa1\\x88\\xa9\\x1a\\x9c\\xce\\xf0j\\xeb\\xe4R\\xff\\x00\\x82\\x88\\xf8?\\xc6\\x1e\\x15\\xf0\\xdbx\\xe3\\xc0\\xf6\\xcf#\\xc5\\xf34q\\x7f\\x1fZ\\xf9\\x03\\xe0\\x07\\xed!\\xf1^o\\x88P\\xe9~ \\xd0\\xefc\\xb7\\x91\\xf6\\xab:\\x1cn\\xaf\\xd5\\xaf\\x8c\\x1e\\x11\\x8f\\xc5>\\x02h\\xde\\xdcH\\xbeW\\xcc\\xad\\xcd|\\x9f\\xff\\x00\\n\\xc7\\xc2\\xba>\\xb6\\xd71\\xe8\\xf1+\\xc7.\\xef\\xf5u\\x96\\x12r\\xa3\\x16\\xaa\\xab\\xdc\\xe5\\xcb\\xaa\\xcb2\\xc1G\\x96V\\x94\\x1d\\x9f\\x9fb\\xf7\\x8d\\xaeu\\xef\\x15|:\\x99,\\xe3\\x7f;\\xec\\xec\\xd1\\xff\\x00\\xdf5\\xf0W\\x8b\\xb5\\x8f\\xdaOG\\xf1\\x85\\xc5\\xbd\\x9e\\x97p\\xc9\\r\\xc7\\xee\\xd9s\\x8a\\xfd<\\xf0\\xcd\\xa6\\x95}\\xa5*\\x1bN\\xab\\xb5\\xab\\xcf\\xfe\"\\xfc7\\xf0\\xde\\x95~\\xd7\\x92i\\xca\\xdeo\\xcd\\xbb\\xcb\\xae\\x9a\\x15aN\\xea\\xd7O\\xa1\\xeab(<DT9\\x9ah\\xe5\\xff\\x00d/\\x88\\xbe6\\xf1O\\x83\\xe1\\xb7\\xf1f\\x97,7(\\x9bfW\\xae/\\xf6\\xd5\\xfd\\x9b|[\\xe3K\\x95\\xd6<%y-\\xbb\\xbf\\xde\\xdb^\\xcf\\xf0\\xbe\\xe7M\\xd1\\xf5(\\xed\\xec\\xec\\xd5C\\xff\\x00r\\xbdC\\xc5\\x9e\\x1eM_\\xc3\\x12]\\xa5\\xa6\\\\\\'\\xdd\\xac\\x1b\\x8cj\\xf3\\xc5Xm\\xaa0\\x8d:\\x9a\\xa7\\xa5\\xcf\\x86\\x7feO\\x84\\xbf\\x17\\xbc\\x01\\xac5\\xbf\\x885\\xc9n-\\x9d\\xff\\x00v\\xaf\\xc1J\\xf7\\xff\\x00\\x8c\\x7f\\x08\\xf5\\x1f\\x88^\\tk)%e\\x97\\xca\\xf9d\\xef\\\\\\xc6\\xbd\\xf1\\x0bU\\xf0\\xc6\\xb7&\\x9f\\x1f\\x86\\xe7g\\x89\\xfeVT\\xafR\\xf8e\\xe3\\xcb\\xef\\x14\\xe9K5\\xee\\x98\\xcb\\x95\\xf9\\x95\\xfa\\xd6\\xd2\\xac\\xdf\\xbe\\xa3dkN\\x87\\xb1\\xbc7>\\'\\xb3\\xfd\\x8c\\xfcs\\xa0\\xf8\\xb5u\\x8b\\x7f\\x18^G\\xe5K\\xb9c\\xed\\xfc\\xab\\xeb\\xff\\x00\\x84\\x1e\\x14\\xbeo\\x0e\\xae\\x9f\\xaa\\xdey\\x84D\\xab&\\xea\\xe6\\x7fh=g\\xc4\\x1e\\x19\\xbb\\xfbn\\x87\\xa4<\\xca\\xff\\x00\\xdd\\xae\\x7f\\xe1\\x07\\xc6\\x0f\\x88S\\xebq\\xd9\\xea>\\x1f\\x968\\x9f\\xfeZu\\x15\\xa4\\xeaU\\xabN\\xf6V2T(\\xd0\\x9e\\x97A\\xf1\\xbf\\xf6@\\xf0\\x8f\\x88\\xb5\\xb6\\xd7u\\r=2\\xdf2\\xb5o|\\x19\\xf8u\\xe1\\x8f\\x04C\\x1e\\x8fop\\x91\\xaa\\xfd\\xd5\\xafX\\xf1\\x85\\x86\\xa5\\xe2o\\x07\\xc8\\xf1G\\xb6\\x7f+\\xe4\\xaf\\x8e<g\\xa9|~\\xf0\\xc7\\x8b\\xe4\\x8fN\\xd3\\xdaH\\xd2_\\x95\\xbeaY\\xd1\\x95i\\xbeM\\x8a\\xa9\\x18\\xa8{W\\x1b\\xb3\\xe9\\x0f\\x8a\\x9f\\xb3\\xb7\\x84\\xbe i\\xbfl\\xb8\\xb6Y\\x9bn\\xe5j\\xf2\\xff\\x00\\x0c|\\x1f\\xf07\\xc3Myo,\\xfc\\xa8]\\x1f\\xe6\\xed^\\x8b\\xf0;\\xc5\\xbe9\\xf1\\x0f\\x87V=v\\xcd\\xa3r\\x9bY^\\xbc\\x97\\xf6\\xa7\\xf8i\\xf1^K\\xc6\\xd4<%q*\\xeem\\xca\\xb4FU\\x94\\xb9\\x1b*IN\\x97?-\\xd9\\xf4\\x87\\x87/|-\\xe2m\\x1dt\\xff\\x00:\\'\\xdc\\x9f2\\xd7\\x9f|@\\xf0\\x07\\x83\\xfc+x\\xda\\xa5\\xc6\\x9f\\x12\\xaa\\xfc\\xdeex\\x8f\\xec\\xe1\\xff\\x00\\x0b\\xd7G\\xf1\\n\\xd9\\xf8\\xa2GhY\\xfeV\\xe6\\xbe\\xa3\\xf1W\\xc3\\xfb\\xbf\\x1d\\xf8C\\xec\\xb7gt\\x86/\\xbd\\xde\\xa6t\\xe7K[\\xddy\\x0e\\x8d_i\\x1b\\xb5c\\x89\\xf0\\x1f\\xc6\\x9f\\x01\\xcd2\\xe8\\xdfm\\x89\\xbe}\\xac\\xb5\\xaf\\xe3\\xef\\x0cx+U\\xd3\\xff\\x00\\xb7 \\x82)2\\xbb\\xbdk\\xc1\\xaf?co\\x15i^0mSO\\xd4\\'\\x8d|\\xdd\\xdbw\\xd7\\xbfx\\'\\xe1~\\xae\\xfe\\x1e]/P\\xb9f\\xfd\\xd6\\xd6\\xddI\\xc1)_\\x98\\xaar\\xac\\x9b\\x8c\\xa3\\xa1\\xea\\xde:\\xfd\\x98\\xfe*x\\x83\\xc4\\xf2^[\\xea\\x97\\t\\x0b7\\xddL\\xe2\\xbd\\xa7\\xe0\\'\\xc0]g\\xc1\\x1a\\x01\\xfe\\xd1\\xbc\\x95\\xe5)\\xf3\\x17\\xaf`\\xb2\\x81.\\xe3Y\\x0c*+FR\\xb6v\\xcd$q\\xfd\\xd5\\xaf\\xac\\xa1\\x81NnV\\xd0\\xfc;2\\xe3<\\xc3\\x17\\x86\\xfa\\xb7,U\\xed{u\\xb1\\xf1\\xdf\\xed!\\xfb9|B\\xf1\\xfe\\xaa\\xd6\\xfa>\\xa9q\\n\\x96\\xdd\\xb9+\\x9d\\xf8%\\xfb\\x17x\\xdb\\xc2^/\\x87Z\\xd5\\xf5\\xdb\\x99\\x82\\xff\\x00\\x0b\\xe7\\x15\\xf68\\x85\\xb5;\\xc6s\\x0e~o\\xbd[6zt0\\xa6\\x04\\n\\xadYO\\x05*\\xd2\\xb2\\xd8\\xe9\\\\k\\x8c\\xc2a#IB7J\\xd7\\xeaxo\\xc6\\xcf\\x84\\x9a\\xb7\\x89\\xbc\\'\\xfd\\x8fi#+y[x\\xaf\\x96?\\xe1\\xde^\\'\\xbc\\xd7\\xd6\\xfe\\xe3W\\xbddi\\xf74~a\\xaf\\xd0]V\\xcd\\xee5\\x1f\\xb3\\x98\\xf2*\\xed\\x9e\\x83j\\xaa\\xb2I\\x02\\xe7\\xd6\\xa2\\xae]RrI\\x19`\\xb8\\xbf\\x11\\x97\\xe1\\x94\\\\#.\\xa7\\x88\\xf8O\\xe0\\x0c\\xfa\\x0f\\xc3\\xe4\\xd0\\x12B\\xac\\xb1m;\\xbf\\xdd\\xaf\\x9c>\\'\\x7f\\xc1>\\xdb\\xc7\\xfe\\'\\x9bW\\xbd\\xd4/p[\\xfdZH@\\xaf\\xbf5\\xd8\\xd9-\\x96(\\x17hj\\xcf\\xd3\\xbc.\\xb3\\xa0\\x96t\\xdb\\x9a\\xd6\\xa6\\x06j\\n\\x0bt<\\x1f\\x18\\xe3)9\\xd5\\xaa\\x93Rw\\xd5\\x1f4\\xfe\\xc9\\xbf\\xb2\\x1d\\xb7\\xc1\\xa6v\\xb6\\xb6\\x94o}\\xc7y\\xcdw\\x1f\\x1a\\x7fg\\xed\\x13\\xe2@\\xfb6\\xa1n\\x92\\x03\\xf7\\x95\\xeb\\xdd\\xed\\xb4\\x98m\\xad\\xda8\\xd1k\\x1c\\xe8\\x13\\\\\\xdf4\\x87\\xa7\\xbd\\x11\\xcb\\xaaR\\xa5w\\xbb9\\xa5\\xc5X\\xbcF?\\xeb7Q\\xe5VV\\xda\\xc7\\xcc\\xfe\\x05\\xfd\\x85|\\x11\\xe1\\xaf\\x13[\\xebvZ\\x1d\\xba<m\\xf2\\x9d\\x82\\xbd\\xc7\\xc4\\x9f\\x0c\\xb4y|*4\\xcb\\x88\\xd7\\x016\\xa8\\xae\\xf2\\xcbA\\x82\\xdfk\\x8eXU?\\x15i\\xafy\\x1a\\xa4tG.p\\\\\\xec\\xc3\\x17\\xc4\\xd8\\xfc\\xc7\\x13\\x0ey\\xd9G\\xb6\\x87\\xce\\xd6\\xdf\\xb2\\xf7\\x82g\\xbdk\\x81\\xa6[\\xe5\\xdbs7\\x90+\\xd7|\\x01\\xf0\\xb7J\\xf0V\\x87\\xb7M\\xb5\\xc2\\x85\\xfb\\xaa\\x95\\xd2h\\xfe\\x0f\\x86\\x1d\\xaf%o}\\x8e\\x14\\xb4\\xfb?\\x1bv\\xd2\\xc3e\\x92\\xa9\\'\\'\\xb2\\x16k\\xc4\\xd8\\xdc\\\\\\x15\\'Q\\xb8\\x9e\\x0b\\xe3\\xfb+k\\xedm\\xbc\\xcb=\\xc7\\xf8~J\\xd4\\xf8O\\xe0\\xc8\\x96\\xfd\\xe7\\x8e\\xcbb\\xaf\\xfb\\x15\\xdf\\x9f\\x06\\xe9\\x97:\\xabO*+|\\xd5\\xbf\\xa6i6\\x1arl\\xb7\\xb7U\\xaca\\x80\\x8dJ\\xb6\\xd8\\xd2\\xbf\\x10\\xf2e\\xeb\\x0f\\x04\\xee\\xd1\\xe3\\xff\\x00\\x1c\\xa6\\xb9\\xb3\\xb0\\xf2\\xfe\\xc7\\xbb\\x1fu|\\xba\\xe0\\xfe\\x15Z\\xebZ\\xb7\\x8cm\\x96]1\\x95\\x0b\\xfc\\xcc\\xc9_B\\xf8\\xa7\\xc3\\x1av\\xb7*\\x8b\\xd8\\xd1\\xbf\\xde\\xa9\\xb4\\x0f\\x07\\xe8\\x9a;\\t-\\xa0P\\xc3\\xf8\\x85D\\xb0\\x11\\x95{o\\xa9\\xd3\\x83\\xe2Z\\x18,\\xa2T=\\x9d\\xe5$\\xf51\\xbe\\'hW\\x92\\xf86u\\xd3\\x06\\xc6H\\xbe\\xea\\x1a\\xf8\\xbe\\xfb\\xc3?\\x17\\xf5\\x7f\\x10\\xdc[\\xd8\\x16H\\xbc\\xf6X\\xda\\xbe\\xfe\\xd5\\xfe\\xce\\xf6\\x12Gp2\\xa59\\xae+B\\xf0\\xe7\\x86\\xed\\xefZ\\xe4Z\\xc6\\xb9}\\xd8\\tW\\x98e\\xf4\\xa9UQ\\x8b\\xbac\\xe1~%\\x9eU\\x86\\xaa\\xa5O\\x9a\\xfb\\x1c\\xaf\\xc3/\\x00\\xf8\\xa2\\xc7\\xe1}\\xb5\\x8d\\xec\\x8f\\xf6\\x8d\\x9f9\\xef_7\\xfcy\\xf0?\\xc5\\x0b\\xef\\x1a\\xc9\\x1e\\x89{,H\\x1f\\xe6Z\\xfb\\xba?$\\xdb\\xe24P\\x9b~Z\\xe15M\\x03@\\x9fZ\\x92\\xe2\\xe6\\xd26v\\x7f\\xbc\\xd5\\xcbS\\x01F\\n.\\xe6\\xf9/\\x15V\\xa3\\x98V\\xafR\\t\\xf3\\xdd\\xd9y\\x9e\\r\\xfb,|1\\xf8\\x93\\xa7\\xb4\\xbf\\xf0\\x93^I1/\\xc3\\xb0\\xa3\\xf6\\xb4\\xf8\\'\\xe2O\\x10\\xe8\\x93[i\\xf7\\x12\\xc6\\xf2\\xa3m\\x92.\\xb5\\xf5\\x0e\\x83\\x06\\x91mm\\x8b8Us\\xf7\\xab\\x9f\\xf1\\xe5\\xfe\\x9br\\xff\\x00g\\xb8\\x8dZ\\xa1\\xe1\\xa9/x\\xda\\x1cW\\x8c\\xaf\\x9e{x\\xd3IZ\\xd6??~\\x0c\\xfe\\xc9\\x7f\\x134\\xdf\\x19Y\\xea\\x97\\xbe \\xbdh\\xa2\\x97sD\\xceN\\xfa\\xfaW\\xc6\\x7f\\x07\\xbcU.\\x87$Q\\xcd(V\\xb7\\xdb\\xf2\\xf5\\xaf^\\xf0\\xf0\\xd1\\xed\\xe4W\\x8e\\xc9kkX\\xbc\\xd3~\\xcc\\xd1\\xc9\\x1a\\xfd\\xda\\x8a\\x94h\\xcejV\\xb1\\xe8c8\\xb7\\x19\\xf5\\x98*T\\xec\\x97\\xcc\\xfc\\xf0\\xbd\\xfd\\x9c>)\\xd9k\\xcdqa\\xe2\\x1b\\xc6\\x1en\\xed\\xaf!#\\xefW\\xd0>\\x0b\\xf8Q\\xe2\\xe9\\xbc\\x1d\\x12^I/\\x98\\xa9\\xf3\\x1a\\xf6}:\\xcf\\xc3\\xd3\\xdc\\xf9\\x9fb\\x8b\\xefWT\\x1bD\\xb2\\xb3\\xd9\\x05\\xb4y\\xfe\\xedm(P\\x94R\\xb2_#\\xa3\\x1f\\xc68\\x85\\x05\\x1at\\xb5n\\xfd\\xcf\\x86~$~\\xcf\\xde-\\xff\\x00\\x84\\x92MB\\xde\\xf2\\xe1\\x7f\\xd9Y\\xdc\\x0f\\xe7]\\'\\xc2\\x1f\\x87\\x9e5\\xd3\\x8c\\xb1^\\x07`O\\xcb\\x8ek\\xe8\\xddy4MCQa$qV\\xa6\\x8f\\xa5h6\\xd6\\x9ed\\x10\\xa6\\xe3O\\x97\\x0b\\xc9\\xc9es\\xae\\xa7\\x16\\xd6Xk\\xca\\x9f\\xbc\\xcf\\x06\\xd7\\xbc\\'\\xe2Ee\\xf3-\\x1aL}\\xe6\\xa6\\xe8S\\\\i\\xb7K\\x04\\xfaS\\x1c\\xd7\\xb8\\xebVzl\\xa8\\xbe^\\xd5\\xac\\xcd+\\xc0\\xd6\\x1a\\x8d\\xdf\\xda\\x0e\\xd3\\xf3T\\xc2\\x8e\\x16\\xd7\\x90\\xa9\\xf14g\\x86j\\xbc,\\x8e:\\xe6\\xc6\\xe3X\\xb3\\xd9-\\x9b2\\xff\\x00v\\xb3\\'\\xf06\\x84\\x96\\xfee\\xc6\\x9f\\xb7\\x15\\xebz\\x97\\x85\\xedl-\\xfc\\xd8\\xf6\\xadqz\\xf4\\x13^H\\xd6\\xf1\\xd1J\\x96\\x1f\\x99\\xa9\\x1c\\xf8\\x1c\\xdau\\xa5jO\\x95z\\x9c\\xd6\\x9b\\xa5\\xe8\\xd2\\x0f\\xb2C\\x06\\x03qZ\\xf6\\xdf\\x06|1\\xa83\\\\\\xcf\\x0f\\'\\xbe*\\xf6\\x95\\xe0\\xf9m\\xa3\\xf3\\xe4\\x8f\\x9f\\xefU\\xf9\\xaf\\xaft\\xf8Y#O\\x9b\\xf8ht(\\xa9\\xe8m\\x88\\xcc1\\x0eV\\xc3\\xd4i\\xf59\\xc9~\\x1cx_F\\xb9\\xfd\\xcf\\xdfZ\\x82\\xff\\x00\\xc1\\x9a~\\xb7\\x1f\\x96\\xe9\\xb9j\\xd4\\xb0k\\x1a\\x9d\\xf7\\x97$l\\xab\\xbb\\xefV\\xd5\\xb6\\x9f6\\x95\\x06\\'M\\xd8\\xeaiU\\xa1F2L\\xa9b\\xf14\\x92r\\xaby\\xfa\\x9cV\\xa5\\xf0\\x8fD\\xb1\\x89n<\\x84V\\xfe\\x1f\\x92\\x99c\\xa1\\xe9\\xed\\x0f\\xd8\\xe0\\x8fvk\\xa1\\xf1\\x16\\xadqz<\\x84Jf\\x8b\\xa2M\\x12-\\xc1\\xebEHPQ\\xbd\\x8e\\xc8\\xe3\\xb1_W\\xbdy\\xfa\\x1c\\xed\\xcf\\xc3\\xbb+s%\\xc4p|\\xde\\xd5\\xcd\\xbd\\x85\\xcd\\x96\\xa5\\xe5\\xc7\\x06\\xd1\\xba\\xbd\\'S\\xbb}\\xednB\\xaf\\xf7\\x9a\\xab\\xe9~\\x1a\\xb7\\xbe\\xb8Y\\xdd\\x01\\xfe\\xf7\\x15?\\xb8\\xebc\\xab\\x0f\\x9a\\xd5\\xa7\\x07*\\xce\\xe8\\xe1u\\x7f\\x87\\xd7\\x1a\\xfd\\x8b<\\xb1\\xb4\\x99\\xfe\\x1a\\xf3\\x8f\\x13\\xfe\\xce\\xads\\xe6[\\xdbY\\xfd\\xff\\x00\\xbd\\xb9+\\xe9\\xbdF\\xd6\\xc3L\\xb5\\xf3\\x164_\\x92\\xb9I\\xf5\\x8bi\\xe7\\xfd\\xe1_\\xbdY\\xc2\\xa4)\\xca\\xe9\\x97\\x85\\xcd\\xabb/\\xee]/\\xeb\\xa1\\xc2\\xfc*\\xf8\\x17{\\xa6\\xf8z-=m\\xb6\\xa2\\x0f\\xbbX\\x1f\\x18\\xbfe[\\x1f\\x18],\\x97\\xfaz\\x17_\\xe2\\xd9^\\xff\\x00\\xe1\\xfdV\\xda;m\\xa8\\x9d\\x16\\xb1\\xfc[\\xe2\\x18R_\\xdeG\\xfcU\\x9a\\x94cW\\x99ng\\x0c\\xd7\\x1f[\\x14\\xe9\\xf2\\xae^\\xc7\\xcd\\xde\\x03\\xfd\\x88\\xf4\\x9d\\x07\\xc56\\xba\\xe5\\xb5\\xba\\xab\\xc6\\xddV:\\xf6\\xcd{\\xe0^\\x9f\\xa8x~K{\\xfb]\\xca\\xd1|\\xcb]_\\x86\\xf5\\xb8\\x8a+Gf\\xad\\xcdmkz\\x95\\xcb\\xe9G\\xcb\\x88.V\\x8a\\x92\\x95I]\\x98\\xe2sLm*\\xd1\\xa7\\x04\\xa2\\xaf\\xf7\\x9f$j_\\xb0\\xf7\\xc3\\xdb\\xcb\\xf6\\xbc\\x93CL\\x99wm\\xf2\\xeb\\xe8\\xdf\\x81\\xbf\\x0b\\xa0\\xf0\\xff\\x00\\x87\\xa1\\xd1-\\xe0H\\xe0\\xb6\\x88$kX\\x8bu\\xa9\\\\jM\\x08O\\xe2\\xafO\\xf8e\\xa7_(>o~\\x94\\xaa)U\\x8f,\\xb6+;\\xc5\\xd5\\xa5\\x81v\\xb2o\\xb1\\xe1\\x7f\\x1e\\xff\\x00g\\r\\x1b\\xc5^#]CT\\xd2\\xe2\\x91\\x7f\\x86F\\x8c\\x1a\\xce\\xf07\\xec\\xc9\\xe1\\xcd\\x12\\xf2\\x1b\\xbb-:\\x08\\xde6\\xf9Yc\\x15\\xef?\\x18,\\xd9,\\xd7\\xec\\xfdk\\x9f\\xf0\\x86\\x89\\xa9^\\xc6\\xb2\\x08\\xdb\\xfd\\xea\\xce\\x9c_/*\\xd8X,\\xde\\xac\\xf2\\xc5RM]iv\\x8b\\t\\xf0\\xe6\\xc0hl\\x93\\xf2Y+\\xcd/\\xfe\\x18\\xf8a5&I,\\xd5\\x8e\\xea\\xfa\\x11t\\x19\\xff\\x00\\xb3\\x7fx\\x9b~Z\\xf3\\xeb\\xaf\\x07\\xcf?\\x89\\xfc\\xc7\\x1co\\xa24\\xfd\\xeb\\x1c\\xb9Vs\\'R\\xa7<\\xfc\\xc9\\xfe\\x18\\xf87L\\x82\\xd4\\xac\\x16|(\\xda+\\'\\xe2\\xbf\\xc3\\x1d)&]R[$;\\x9f\\xfb\\x95\\xec\\x1e\\r\\xf0\\xcd\\x9e\\x9b\\x1a\\xefu\\xc1_\\x9a\\xaa\\xfcN\\xd0l/\\xf4\\xd9#\\xc7O\\xe2\\xaa\\x9d(\\xc2\\xd6g\\x8f\\x0c\\xfe\\xa2\\xce9\\xa3\\'f\\xcf\\x1b\\xf0W\\x85\\xb4\\xaf>=\\x9ar\\xe0\\xb7\\xcb\\xf2W\\xb7\\xe9\\xfe\\x0b\\xb6\\xbb\\xd06\\x0b%\\xd8\\xd1wJ\\xe2\\xbc\\x15\\xa2ivH\\xbb\\xddr\\x1a\\xbdWC\\xd6,\"\\xd3\\x16\\xde9\\x17\\x85\\xa1\\xc6(\\xc7\\x89s\\x1a\\xf5j\\xa7N\\xfa3\\xe6\\xef\\x1bx>m3\\xc4\\xf2ZAo\\xf2\\xee\\xf9k\\xa2\\xf0O\\x83/\\x1e\\x06W\\x8d\\xb9\\xef\\xb2\\xba\\xaf\\x1e\\xfd\\x80kkq%\\xba\\xff\\x00\\xbdW\\xb4\\x1f\\x10h\\xf0\\xaa\\xf9es\\xb2\\x8fs\\x96\\xc7\\xa7S8\\xc5\\xd5\\xcb`\\xa3\\x1dly\\x97\\xc4\\xaf\\x04\\\\\\x16Y#\\x8fq\\xff\\x00r\\xabx\\x1b\\xe1\\xc6\\xaan\\xe1\\xb9h\\xf6\\xa8a\\xba\\xbd;\\xc5Ogw\\x0b\\x14M\\xd5\\x9b\\xa2x\\xa6\\xdbOS\\x06\\xc5\\xe2\\x9cy\\x12\\xb1\\xd1C8\\xc7\\xbc\\xbf\\xd9\\xc1jz\\x0e\\x9f\\xe0\\x9bMC\\xc3f\\xdaa\\xbb1m+^\\x15\\xe3\\x8f\\xd9\\xd68\\xfcM%\\xc4#)#\\xfc\\xb5\\xed\\xde\\x11\\xf1x\\xbf\\x8b\\xca\\x8cn\\rX\\x7f\\x10\\x9bP\\xb3\\xff\\x00L\\x8d8\\xfe&\\xac\\x9a\\x82\\x95\\xcf\\x9a\\xca1\\xf9\\x9e]\\x98\\xca\\nv\\xe6\\xe8\\xce\\x1b\\xc2\\x9f\\x05\\xa0\\xd3\\xe11\\xdc\\xb7\\xcbX\\x1f\\x11~\\x0eXj3,~^\\xe0\\xb5\\xdb\\xd9\\xf8\\xaa\\xed\\x93a4\\xfdJI\\xaf\"i\\xe4\\xefUt}\\x1c3\\x0c\\xd2\\x96+\\xdaT\\x99\\xc0\\xf8c\\xe0F\\x89o\\xb2\\xe2(\\xd1Yk\\xd1\"\\xf0v\\x93\\x16\\x89\\xf63\\x12\\xb1\\xdb\\xb5\\xab\\x93][R\\x82\\xf5\\xa0I:5u\\x9e\\x1377\\xec\\x16w\\xa9\\x92Z\\xf9\\x86i[\\x1f8\\xa9\\xd4\\xa9\\xa2\\xd4\\xf2\\x7f\\x13\\xfc\\x1d\\xf0\\xdb\\xebr\\\\^Y\\xa7\\xcc\\xdf{\\xcb\\xadO\\r|=\\xf0\\xf6\\x95\\xfb\\xabhT)\\xfe\\xedz?\\x8d\\xbc\\x10.\\xa1\\xfbD\\x7f}k\\x9f\\xd2<?(\\x7f/\\xee\\xd2Q:\\xe9gU185\\xfb\\xc7\\xa29O\\x17\\xfc\"\\xd15\\xb8w\\xc9f\\x92c\\xfb\\xe9\\\\\\xdd\\x87\\xc3O\\x0cX\\xba\\xc7\\x1e\\x9e\\xaaS\\xee\\xfc\\x95\\xee2hi\\x1d\\x83G\\xfcX\\xae2\\x7f\\x0f\"jM\\xe6t\\xdfO\\x91\\xda\\xc6\\xd8\\x0c\\xea\\xa4\\xd4\\xa2\\xe7\\xb1\\x06\\x87\\xe1\\x9b;\\xbb/\\xb1\\x88CW-\\xe3\\x0f\\x82\\x1aj^5\\xe4\\x9az\\xb2\\xbf\\xf1yu\\xec>\\x18\\xd34\\xfb5S\\xbdj\\xf6\\xbbi\\xa6\\\\\\xdb4d)\\xf9i\\xfb4\\xb68\\x16}\\x88\\xc3\\xe2\\xdb\\x85\\xdag\\x8axO\\xe1\\xed\\x9d\\x95\\xc2\\xc7oh\\xa8\\x18\\xff\\x00r\\xba/\\x13|.\\xd2u\\r;|\\xb6\\xa8\\xcd\\xb3\\xbaWAo6\\x97er\\xdb\\xe4_\\x94\\xfc\\xb8\\xad;\\x9dsK\\x9e\\xcd\\x90\\xc8\\xbfv\\xa6\\xd1:q9\\xae:u\\xa3R7H\\xf0\\xfbo\\x86\\x9ae\\x9d\\xf7\\x97o\\xa7\\xa2\\x9d\\xdf{ew\\xde\\x18\\xf0\\x7f\\xfa?\\x93$?.\\xda\\x9e\\xf3\\xec\\x10^}\\xa3\\x0b\\x8a\\xd4\\xb1\\xf1\\xb6\\x91b\\x16-\\xcb\\x91M*gn30\\xc6\\xe2h\\xa5\\x08\\xb6r\\xda\\xff\\x00\\xc3\\x94\\x86\\xe5\\xa4H84\\x9aO\\x82Z7V\\t\\xc0\\xfb\\xd5\\xd3j\\x9e/\\xd2\\xef\\x93\\xf7r/\\xe1X\\xaf\\xe3;m>o\\x9a\\x92\\x94X\\xa8\\xe2\\xb3:\\x94y\\x1aw>\\xad\\xb0\\xbc\\xb3\\x91<\\xbby\\x14\\xe2\\x93T\\xd4-!\\x85\\x92YUs^\\x0f\\xf0\\xb7\\xe2g\\x885\\x1b\\x13{y\\xb9p\\xb5\\xca|O\\xf8\\xeb\\xafY\\xdf\\xb5\\xbd\\xbc\\x8e\\xbf5}ts\\n\\x90\\xc3\\xda\\xc7\\xe6\\xb4x\\'\\x1d[2xx\\xc9]n\\xcf\\xa6\\xf4\\xddGJO\\xdd\\xc72\\xa9\\xabW\\x1a\\xbd\\x95\\xac>d\\xb2\\xaa\\x8a\\xf9\\x17\\xc0\\xbf\\x1b<a\\xa8\\xebq\\xdaI#2\\xb3s\\xbe\\xbd;\\xe2\\x07\\x8fu\\x8b?\\x0f,\\x806\\xf2\\x95\\x85\\x1c\\xc2\\xacb\\xd2H\\xbc\\x7f\\x04\\xe2\\xf0\\x98\\xb8R\\x9c\\xd3r\\xf3=b?\\x16\\xe8\\xafr\\xce\\xf7\\tW\\xedu\\xfd6\\xf0\\x7f\\xa3\\xdc\\xabW\\xc5w_\\x16\\xfca\\x15\\xeb\\x18\\xdao\\xbd\\xca\\xd7\\xac\\xfc$\\xf1O\\x88.\\xb4\\x195\\x0b\\xf1&J|\\xbb\\x85D1\\xf5\\xf9\\xce\\xdc\\xd7\\x80\\xea\\xe00\\x9e\\xd9\\xcdkc\\xdbu\\xaf\\x16h\\xf6M\\xe5\\xdc\\\\.}(\\xb4\\xf1\\xde\\x810T\\xfbb\\x86\\xfe\\xed|\\xad\\xf1c\\xe2/\\x89\\xd3Uk{I\\x1f\\xefV?\\x83\\xbco\\xe3\\x8b\\x8db\\xdd\\x0b\\xc9\\xb4\\xbf\\xcd\\xcd)\\xe3\\xb1\\nW:\\xb0\\xfe\\x1e\\xca\\xb6^\\xabJ\\xaaN\\xd7>\\xcd\\xbe\\xf1.\\x9fgfn\\x1e\\xe0m\\xaen\\x1f\\x8a\\x1a\"L\\xc1\\xef\\x16\\xb9\\rsP\\xbd\\x93\\xc2!\\x11\\xdb\\x7f\\x95\\xda\\xbc?S\\x7f\\x17\\xff\\x00hL#\\xdd\\xb3\\x7f\\rJ\\xa6:\\xbdEv\\xcf;%\\xe1L>9N3\\xa9k3\\xeb]#\\xc7ZV\\xa8\\x1b\\xec\\xf2\\xaf\\xcb\\xe9T5\\xef\\x1eXZ\\xcc\\xb1\\xf9\\x8a\\xbbk\\xc9\\xfe\\r\\xae\\xbb\\x0e\\x96\\xf3\\xde;3\\x1f\\xe1\\xaes\\xe2F\\xa5\\xe2t\\xd5\\xfc\\xbbM\\xdbi}r\\xbc\\xe1\\xab\\n<-\\x86\\x96k*\\nz.\\xa7\\xd0:O\\x8flodX\\xc3\\xa9&\\xb5\\xf5\\x8dI\\xec\\xac>\\xd1\\x1fz\\xf9\\xd7\\xe1\\xb6\\xa1\\xe2G\\xd6`K\\xe7\\xf97s^\\xed\\xab]\\x89t\\x05H\\xfec\\xb2\\x95\\x1c]G\\x16\\x9b\\xb5\\xcf\\'9\\xc9i\\xe5\\xd8\\xb8B/\\x993:\\xdf\\xc4\\x8d$\\xcd\\x97\\xe7\\xf8\\xab\\xa0\\xd3o\\xda\\xe2\\xdd\\xa6\\xdf\\xd2\\xbc\\x9a\\xe9\\xb5\\xbbk\\xb9$Lm-]\\xdf\\x85\\xb5\\x19\\xff\\x00\\xb0\\xccr\\xf5\\xdb\\xf3V^\\xd6\\\\\\xe2\\xcc2\\xe8R\\xa2\\xa5\\x16\\x9e\\xc5o\\x10\\xf8\\xab\\xc9\\xbc\\xfd\\xe4\\x9b\\x7f\\xbbZ~\\x10\\xd6\\xfe\\xdfpQ\\xeew|\\xb5\\xe4?\\x13\\xb5\\rZ=k\\xcb\\xb7\\xb8\\xdbO\\xf8[\\xe2\\xfdJ\\xdb\\xc4\\x91\\xc7wz\\xcc\\xbd\\x1a\\xb1\\x96\"P\\xac\\x9f\\x99\\xebK U2\\x9fk\\x06\\xafk\\x9e\\xe1\\xe2\\x92WLi\\x0b\\xed\\x02\\xb8\\xfd:\\xf6)[\\x0f?\\xf1U\\xaf\\x88~0\\xb6\\x83By\\x11\\xf8\\xd9\\xfd\\xfcW\\x8fZx\\xe5\\xad\\xaeVI\\'\\xeb/\\xcb\\xf3\\xd5c1\\x91\\xa9V\\xf1\\xd1\\x1cY&O\\x88\\xc4\\xe1d}\\x17\\x1b\\x04\\xd2W\\xe7\\xfe\\x1f\\xbd^y\\xabjp\\xbe\\xb4\\xd1\\xf9\\xf8\\xf9\\xebF\\xc7\\xc6\\x8b\\xa9xe6I\\xb7\\xe4\\xfb\\xd5\\xe2\\xbe(\\xf1T\\xa9\\xe2{\\x87\\xf3\\xd9v?\\xf7\\xeb\\x9a\\xa6#\\xda$\\x97C|\\x8b%\\xaf[\\x13R\\x12\\xd1\\xab\\x9e\\xf1\\xe1\\xfb\\xfbVB\\x8fs\\xfc5\\xce\\xf8\\xb7\\xec\\xcfx\\xd2Iq\\\\O\\xc3\\xdf\\x1a\\xb4\\xf3|\\xce\\xc4f\\xa5\\xf1\\xff\\x00\\x8c\\xe1\\xb3\\xfd\\xe7\\x98\\xb95\\x9f\\xb6gu<\\x93\\x11C2\\xe4[\\x9d\\xb6\\x88,\\x04C\\xfd\\'\\x9e\\xd9\\xa8\\xbcq\\xa9Cmg\\xfb\\xb9v\\xe1k\\xcbt\\xff\\x00\\x89\\xd1C*\\x0f3\\xeb\\x8a\\xd4\\xf1G\\x89\\x0e\\xaf\\xa6y\\x89.\\xd0W\\x8a\\x8fl\\xa5\\xd4\\xed\\x9eC\\x89\\xa7\\x8b\\x84\\xa7\\xb5\\xcd/\\x0ek\\x11<\\x8d\\xfe\\x97]%\\xce\\xb0\\xafb\\xde]\\xc7;+\\xc3t\\xdde\\xad\\xe7l\\xce\\xcb\\xf3\\x7f~\\xba\\xfd\\x0b\\xc415\\x83\\x07vb\\xdf\\xed\\xd4{g\\xdc\\xf51\\xf9#R\\xe7^D\\xd7Z\\xd1\\xb7\\xd5\\xbc\\xc7\\xb9\\xfe*\\xe9t\\xcf\\x14[\\x04\\xf2\\xd6\\xeb\\xf8k\\xc8|i\\xaby7\\xff\\x00\\xe8\\xf2uo\\xbdUt_\\x12\\xea\\tv#k\\xc6\\x03\\xf8\\xaaUfz\\xb3\\xc8\\x16+\\x0b\\x19\\xde\\xdav=\\x17\\xc5\\xbe8k\\x19\\xfc\\xb4\\x9f\\xe5\\xab\\x1e\\x1c\\xf8\\xafol\\x8a\\xec\\xff\\x00\\xefW\\x94x\\xb6\\xe6\\xfe\\xe85\\xc4W;\\xab\\x9f\\x8e\\xf7\\xc4\\x01|\\xa8.W\\x9f\\xe14:\\xd6;\\xa8p\\xce\\x13\\x11\\x83Q\\x93WG\\xbfx\\x9f\\xe2\\xcc2\\xd94\\x96\\xcf\\xbb\\xfb\\xa2\\xb8\\xabo\\x8a\\xf0%\\xe3}\\xa2M\\xad\\xbe\\xb8\\xfb%\\xd7.\\xb4\\xc2\\xf2u\\xc5q\\x9e*\\xb6\\xf1$\\x17\\xed%\\xbf\\xdd\\xa5\\x1a\\xb77\\xc0\\xf0\\xde_K\\x9a\\x96\\xec\\xfa\\x1a\\xd3\\xe2\\xee\\x99q\\x10\\x87\\xcc\\xe4Q?\\xc4\\xad4\\x8f2\\xe2N\\xbf\\xc5_<\\xf8;T\\xf1\\x19\\xbfk{\\xdbv\\xc6~\\xf1\\xae\\x9fU\\x87R\\xb8\\xb6\\xfd\\xd4l\\xa7\\xfb\\xd5r\\x9e\\xb6\\xb8K\\x860\\x10\\xa8\\xb5\\xb5\\xcfp\\xd0<\\x7f\\xa1y\\xdf\\xbc\\x9dNO\\xcbV|O\\xe3\\xbd3\\xeco\\xe5\\xba\\xe3gz\\xf9\\xc5e\\xf1=\\x8c\\xca<\\xb7\\xdb]E\\xbc\\x9a\\xbd\\xe6\\x9e\\xb2L\\x8f\\xca\\xd3\\x93\\x97s\\x8e\\xbf\\naaV5y\\xf4:\\x1b\\xaf\\x88\\x9a|W-\\xf3\\xff\\x00\\x1diY\\xfcR\\xd3\\xde\\x06\\x8e>\\xa1k\\xc5\\xbcOg\\xaf%\\xe3Kg\\x1b0\\xab\\x1e\\x10M\\x7f\\xceayn\\xca=\\xe98\\xb4\\xafs\\xd9\\x96E\\x81\\x95$\\x9f\\xe6z\\x0f\\x88~$\\xad\\xb4\\xfed\\x92m\\x14\\x9aG\\xc6\\x18ce\\t%y\\xcf\\x8f\\xf4\\xdd{R\\x8dc\\xd3\\xe3\\xda\\xdb\\xbf\\x8e\\xb3\\xb4\\x8f\\x07k\\x83l\\x97:\\x86\\xd6_\\xbc\\x12\\xb9\\xfd\\xaf\\xbbs\\xa6\\x19>\\x06T9Z=\\xb3U\\xf8\\x80\\xda\\xad\\x9e\\xf8\\xe4\\xda\\nV\\x0e\\x91~\\x8d\\xa8\\xf9sI\\xbbsV^\\x93\\xa6\\xf9ZrC$\\xec\\xdb\\x07;\\xaa$\\xd5\\xed\\xf4\\xbb\\xe6\\xc6\\xd1\\xb7\\xf8\\xaaaYZ\\xe7=\\x1c\\x05\\nQ\\x95:H\\xf6_\\x0c\\x0b_\\xb3\\xedC\\xd5k\\x03\\xc6\\x96\\x81\\xaf\\xbc\\xb4L\\xae\\xee\\xb5\\xc8i\\x9f\\x16\\x1a\\xd0\\xf9)r\\x80\\x9f\\x95~z\\x93\\xc4?\\x10\\xa1\\x92\\xd7\\xed\\x06\\xe3i\\xfe\\xf5/\\xac\\xc4\\xf1\\xa9\\xe4\\xf8\\xea8\\xcev\\xb4g\\xa8x\\x1fB\\xb6[h\\xfe\\xd0\\xea\\x0fu\\xae\\xa3T\\xb3\\xd2c\\xd3voV\\xf9+\\xe5\\xab\\x9f\\xda{L\\xf0\\xf1h\\xee5\\x84VO\\xe1\\xdfZZ\\x0f\\xed&\\x9e*\\xb3c\\xa7\\xde\\xf9\\x8a\\x7f\\x8a\\xab\\xdb\\xc9\\x9c\\x98\\xbe\\x16\\xcc\\xeb\\xd7\\xf6\\x9c\\xfa\\\\\\xf5\\x8bk\\xcf\\r\\xd9\\xeb[$u\\xe1\\xbe\\xf5w:G\\x8f\\xfc+g\\x1f\\x97\\x1c\\xd1\\xee\\xaf\\x8a~*|q\\xd5|17\\xda#\\xfe\\'\\xfb\\xd5\\xc7h\\xff\\x00\\xb5V\\xb7s\\xaa[\\xdb}\\xa1\\xbeyUj\\xe3*\\xd2\\x8d\\xd2;\\xb1\\\\#\\x0cTb\\xaaUw>\\xe8\\xf1\\xff\\x00\\x8b\\xf4\\xab\\xd8\\xf7\\xf9\\x8a\\xca+;@\\xf8\\xa7\\xe1\\xed\\x12\\xdbd\\x8e\\xab\\xf8\\xd7\\x89\\'\\x8bo\\xf5-\\x14^\\x0b\\x96m\\xd1n\\xaf\\x03\\xf1\\xcf\\xc6\\xff\\x00\\x13\\xe9Z\\xf4\\xda}\\xbd\\xc3\\xa8F\\xdb\\xf2R\\x84\\xeaN\\\\\\xab\\x7f2\\xf0\\xfc%\\x86\\x8e\\x17\\xd9T\\x9b\\xb1\\xfa\\x06\\xdf\\x1a\\xb4\\x1b\\xcbV\\x8e\\t\\xd4|\\xb5\\xe6\\xfe.\\xf8\\xb5m\\xa5j\\x8dy\\xe7\\x85\\x1b\\xbe\\xf5|\\xd3\\xf0/\\xe2\\xde\\xb5\\xe2-VM/R\\x9d\\x9d\\xbe\\xf6\\xe3\\x9e\\xf5\\xdf\\xfcP\\xd2\\xf5\\x1dO\\xc3\\xd2\\xc9\\xa7\\xa6\\xe7U\\xddS)T\\x84\\xf9\\x1e\\xe6\\xf8>\\x16\\xcbpu\\xae\\xae\\xd3=_G\\xfd\\xa8`\\xf3\\xa3\\xb77\\xa8\\xd9m\\xbc=z\\x15\\xd7\\x8d_\\xc4\\xba\\x1b\\xca\\x92u\\x8b5\\xf9\\xfb\\xa6\\xe8\\xff\\x00\\x10\\x93S\\x8eH\\xcb.\\xc9W\\xe5o\\xf7\\xab\\xec/\\x85\\x17\\xb7W\\x1e\\x1a\\x8e\\xda\\xef\\xef\\x981%EyT\\xa6rg9\\x0e_F\\x92\\xafF\\x16i\\x9c\\x86\\xbf\\xf1\\xb9\\xbc;\\xaa\\xcb\\xa5\\xc9q\\xb5\\x91\\xf6\\xed\\xae\\xcb\\xe1\\x1f\\xc7V\\xd6\\xaf\\xd2\\xcd\\xee\\xc3}\\x1e\\xbc\\x17\\xe3\\x97\\xc3\\xddJ\\xe7\\xc73\\\\Y\\xdcmF\\x7f\\x9a\\xa7\\xf8Q\\xe1}GB\\xd7 \\xbb7\\x8e\\xca~VZ\\xa5>j\\\\\\xd7\\xd4\\xf6\\xebe9~+\\x00\\x93\\x82\\xd67\\xbf\\x9d\\x8f\\xa9\\xfe\"\\xde}\\xa3C\\xfb|\\x0f\\xf3\\x0f\\xe2\\xaf8\\xd3|},.\\xa1\\xe7\\xdd\\x86\\xae\\xd9l\\xee\\xf5\\x0f\\t2<~b\\x94\\xaf-\\x97\\xc3\\x17Iw$~F\\xdf\\x9a\\xa6\\x9c\\xdb\\xea|\\xeeI\\x87\\xc2*s\\xa1Q\\xec\\xcf]\\xd1<E\\x06\\xb3\\xa6\\x89\\xf7\\xee%k\\x8e\\xd7\\xf5g\\xb0\\xd6\\x19<\\xce\\x0bV\\x87\\x81t\\xbb\\x98m\\xd5\\x1cp*\\x0f\\x1c\\xf8ni&\\xfbb?\\xfb\\xd5\\xb4f\\xeea\\x87\\xa7\\x86\\xc3\\xe6\\x12\\x85\\xfd\\xd6t\\xbf\\n\\xfcy\\x04\\x17\\xeb\\x04\\xef\\xc3\\x9a\\xf5?\\x10M\\xa6kz;+\\xed\\xe5>\\xf5|\\xef\\xa3iS[\\xca\\xaeg\\xc1\\x1d+\\xd4\\xb4}^g\\xd0\\x8cr>H^\\xb5\\x15*[\\xa9\\xe1\\xe7\\xf9]\\x1f\\xac\\xc6\\xbd\\x17fqz\\x9e\\xb7m\\xa5\\xea2YoU\\xd8\\xf5\\xa7\\xa7\\xf8\\xd6\\xd6\\xe2\\xdd`\\x92Uc^3\\xf1\\xbf\\xc6m\\xe1-zI\\xef$\\xda\\x87\\xf8\\xab\\x87\\xd3\\x7fh\\x8d1/\\xe3\\x80\\xdd\\xfd\\xf7\\xda\\xb5\\x94j\\xce[\\x1faO\\x87\\xe9\\xe2pt\\xeaJZ\\xb4}\\r\\xa9j\\xb6vw>\\x7f\\x99\\xb5Z\\xafi_\\x134\\xfb7_\\xdfW\\x92?\\x8d\\xbf\\xb5tv\\xb8\\xb7}\\xd8M\\xcb^+\\xe3?\\x8fz\\xc6\\x89\\xaa\\xc9g\\xf3n\\r\\xf2\\xd3\\xf6\\x93\\x9b\\xe5[\\x9d\\x11\\xe1\\xeaUi5U\\xec}\\xce\\xbf\\x13t\\xddR\\xd3\\x11\\xcc\\xa4\\xff\\x00v\\xb8\\xadg\\xe2\\xbd\\xbe\\x87|\\xd1\\xcd&\\xd1\\xbf\\xefW\\xcf?\\x05\\xfe8K\\xe2K\\xaf\\xb0\\xdc;,\\x8b]\\xa7\\xc5m;P\\xd64F\\xbc\\xb4\\x91\\xb7\\xed\\xedS:\\x93\\x84\\xac\\xce|7\\x0c\\xe0p\\xf8\\x84\\x9b\\xbcdzd\\x7f\\xb4\\x0e\\x95+\\xf9\\x1ez\\x7f\\xdfu\\x1e\\xa5\\xe3\\xdbk\\xdbv\\xbb\\xb4t\\xce\\xdd\\xcck\\xe2\\xdb\\x9b\\xff\\x00\\x88Vz\\xc7\\x97\\x19\\x95\\xb6?\\xcb^\\xcd\\xf0\\xeb[\\xd7u-)SQ\\xdd\\xbbf\\xd65\\xa7%X\\xc6\\xf7=\\x1f\\xec\\x0c\\xba\\x94\\xaf\\x05fw\\xda\\x97\\xed\\x0c\\x9a<\\xedn\\xf7\\x9b[\\xfb\\xb5w@\\xfd\\xa0\\xa3\\xd7\\x9f\\xec\\xf1_\\xa3\\x7fyk\\xc0~-x\\']\\xba\\xbc\\xfbe\\x9c\\xac\\xa0\\xff\\x00r\\xb3\\xfe\\x1e\\xf8o\\xc4:V\\xa4\\xb72\\\\;&\\xff\\x00\\x99j\\xfd\\x9b\\x94os\\xae\\xa6U\\x96\\xf2\\xdb\\xd9\\xa3\\xe8_\\x19\\xf8\\xb6\\xee\\x14k\\xf8%\\xe3\\xefW\\x0e~<<Syr\\\\\\xb2\\xff\\x00yw\\xd7Kga\\xfd\\xa5\\xa4y2I\\xbb+^q\\xe2\\xaf\\x87\\xb6\\xf0\\xeaMq\\x8d\\xab\\xbb\\xee\\xd7<m)\\xf2\\xc9\\x9ba\\xa8aa\\x0eNT\\xda=+B\\xf8\\x8d\\xfd\\xbbd\\xfe]\\xc6\\xec\\xfd\\xda\\xe6|a\\xe3\\x9b\\xed\\x16\\xe5\\xb2\\xed\\x8f\\xefU\\x7f\\x03\\xda\\xe9\\xfak}\\x98\\xdce\\x7f\\x86\\xb7<K\\xe1m?X\\xb3\\xdf\\x10V\\xaa\\xbcc\\xee\\xdc\\xbat\\xe8Q\\x95\\xd4ms\\x9d\\xf0\\xdf\\xc5k\\xbb\\xcb\\xd5\\xb7\\x91\\xdb\\x9a\\xef&\\x9aMJ\\xc4N\\x9dv\\xd7\\x96\\xbd\\xb6\\x95\\xa0\\xdf\\xe6I\\x11v=w\\x1e\\x15\\xf1\\xa6\\x8fw\\x12\\xc3\\x15\\xcan\\xdbT\\xe5M|(u\\xe9\\xaeT\\xe2\\xb5G\\xd4\\xd6Zw\\x86\\xbc;\\xa1\\x93\\xe6*\\xae\\xdfj\\xf2\\xcf\\x18M\\xe0\\xdb\\xcdU\\xa4\\xfbB\\xff\\x00\\xbbT>6\\xf8\\xa7\\xc4\\x9a\\'\\x87\\x99,#fd\\x8b\\xe5Z\\xf93R\\xf1\\xff\\x00\\xc6\\xfdKXo\\xb3\\xe8\\xf2\\xecg\\xfe:\\xfa\\n\\xbc\\xea)#\\xe0\\xb2|\\xb1\\xd3\\x9b\\xafR\\xa3n]\\x8f\\xb6>\\x1ch>\\x13\\x9a\\xe7\\xed\\xd6n\\xac\\xcb\\xcdh\\xf8\\xff\\x00\\xc6\\x1e\\x1e\\xb5o\\xec\\xfb\\xb7O\\x96\\xbc\\xd3\\xf6t>(\\x87\\xc3\\ty\\xad\\x86Y\\x9a,\\xb5p\\x9f\\xb4/\\xfc\\'\\xf77\\xed\\xfd\\x88\\x19\\xbe\\x7f\\xe0\\xac \\xe7#\\xa2yd+\\xe6\\xef\\xdaTmG\\xef=a/\\xfc\\rq,b=\\xad\\x96\\xafI\\xd2\\xb5O\\x0f\\xe8\\x9e\\x1a\\x12\\x8d\\xaa\\xbb8\\x15\\xf1\\x9f\\xc2\\r\\x07\\xe2\\x8e\\xa3\\xe2\\x98c\\xd7$\\x95aF]\\xcak\\xdf~!\\r\\x7fN\\xf0\\x9a\\xdbZ\\xee\\xdc\\xb1|\\xb4\\xe8Fq\\x93Ref\\xb9]*\\xde\\xca\\x9a\\xa8\\xf5}Y_\\xc5\\xde2\\xf0\\xac\\xda\\xc4\\x97\\x12K\\x12\\xfeU\\xa7\\xf0\\xd3U\\xf0\\xf6\\xb5\\xaa\\xa9\\xb4E\\xc8\\xfe%\\xaf\\x93<I\\xa5|]\\xd5u\\xb9\\xa5\\xb7\\x8d\\xd6=\\xff\\x00+y\\x95\\xee\\xff\\x00\\xb2?\\x85\\xfcM\\xa6m\\x9b\\xc4\\x92n\\x95\\x8e\\xea\\x87\\x7fi\\xb9\\xdf\\x89\\xc2\\xd0\\xa3\\x96\\xce)\\xb5\\xcb\\x1d\\x0ff\\xf8\\x8b\\xf1\\x1e\\xdb\\xc2\\x96\\xbffyr\\xbb~c^z\\xbf\\x1c\\xbc90\\xd9\\xe6DX\\xfb\\x8a\\x83\\xf6\\x89\\xf0\\xf6\\xaf\\xad$\\x96\\xba|\\x8e\\xac\\xff\\x00\\xc4\\x95\\xe1\\xfaG\\xc1\\x9f\\x19&\\xb7\\x0f\\xdau\\x19|\\xa6\\x95Y\\x96\\xa2\\xb5\\x9fS\\x0c\\x9f*\\xcb\\xde\\rJj\\xed\\xebs\\xec\\x9f\\x03x\\xe3L\\x8f\\xc3o\\xaa\\xf6\\xd9\\xf7k\\xcf\\xbcs\\xf1\\x97A\\xfe\\xde\\x11\\xc9\"\\xee?*\\xe2\\xb4\\xf4\\x8f\\x0b\\xdeXx\\tm-\\xcf\\xcc#\\xe5\\xab\\xc15\\xcf\\x85\\xde*\\xd6\\xfc~\\xba\\x84\\x9a\\x83,).\\xed\\xb5\\xa7/-+\\xb6r\\xe5y^]<}Z\\xad\\xdd\\'o\\x91\\xf5o\\xc1\\xcdCN\\xf1\\x0c\\xd1\\xb4j\\xb95\\xeaZ\\xd4q\\xe9ZkH\\xd2|\\xa1k\\xc9\\xbfg\\x9f\\x0e6\\x87\\x04r]9l(\\xf9\\x9a\\xbb\\xef\\x89\\xfa\\xa0\\xb8\\xd0\\xe4\\xb7\\xb6\\x93\\x96M\\xaa\\xb5\\xbd%\\xcbK\\x9b\\xa9\\xf9\\xfe\\x7fJ53\\xcfeI\\xde79K\\xdf\\x89\\xba\\x1b\\\\\\xb5\\xbcn\\xacC\\xd7a\\xa0\\xde\\xc3w\\xa5}\\xa6>\\x8c\\x95\\xe0\\x1a\\x07\\x805Y\\xfcA\\xf6\\x89\\xdd\\x88yw5{\\x9cV\\xaf\\xa7xa`_\\x94\\xacU\\x85.n\\xe7ny\\x97\\xe0\\xb0t\\xe9\\xd3\\xa3;\\xb7\\xb9\\xe2\\xdf\\xb47\\xc4\\xeb?\\n\\xea\\x12I\\xf7v}\\xe6\\xaeW\\xf6p\\xf8\\xd5a\\xe3_\\x1d\\x9d29wm?5s\\x1f\\xb4\\xb7\\x85u\\xbf\\x1bjW\\x16v\\xfa\\x83F\\x0f\\xcb\\xb9z\\xd6\\'\\xec\\xab\\xf0\\x8fP\\xf0\\x1f\\x8e\\xd7[\\xba\\xbf\\x96A\\'U5\\xcbYK~\\xa7\\xe88\\\\\\xbf\\x0bO pq\\xd5\\xc1\\xeb\\xe7m\\x0f\\xa1?i\\x1f\\x12^hz\\x04\\xd7\\x10K\\xc2#0\\x15\\xf2\\x94_\\xb4f\\xa4\\xf7\\x8bm\\xe6\\xf2\\xcd\\xb6\\xbe\\xa4\\xf8\\xff\\x00c\\x16\\xbf\\xa2\\xbc\\x12\\xc9\\xc3\\xc5\\xb7m|\\xba\\x9f\\xb3\\x9d\\x92jP\\xde\\xf9\\x8f\\xfe\\xb7s/\\x99\\xfe\\xd5(r\\xf2\\xdaA\\xc2\\xb1\\xa5O-K\\x95^\\xfa\\x9fWx\\x07\\xc5\\x17\\xb7\\x1f\\x0ca\\xbe\\xfe#\\x16M|\\xe1\\xf1\\x9b\\xe3\\xbd\\xe7\\x86\\xfca%\\x94{?\\xda\\xaf\\xa1t\\r%m~\\x1d\\xc5ek&\\xd1\\x1c8\\x15\\xf2\\x8f\\xc6o\\x82\\xd7>*\\xf1\\xb5\\xc5\\xe7\\xf6\\x84\\xab\\xb6\\xb3\\xc3\\xc3\\xf7\\x9e\\xf6\\xc4d\\xf0\\xc3\\xc7\\x1b\\x88\\x9cb\\xafwo\\xbc\\xef\\xfe\\x01\\xfcq\\xbb\\xf1E\\xf4\\xd6\\xac\\xbf2V\\xc7\\xc7O\\x16\\xeb\\x16:d\\x97\\xb6\\xf7\\x18`\\x9f(\\xae#\\xf6x\\xf857\\x84\\xb5\\x97\\xbb\\x8a\\xe2Y<\\xdf\\xbd\\xbe\\xbd3\\xe2\\xe7\\x82WP\\xd1\\xa4\\xb3\\xb8\\x8d\\xbed\\xf9i_\\xf7\\x8d-\\x91\\xebM\\xe1\\xa3\\x8f\\x84\\xac\\xb9\\x9a>q\\xb6\\xfd\\xa35\\xd8nV9\\'\\xfe=\\xad\\xbe\\xbd\\xdbK\\xf8\\x81{q\\xe1\\x9bk\\xc6\\x9f\\x01\\xe2\\xdd^-y\\xfb6X\\xcd\\xa8Gq\\xf3/\\xcd\\xb9\\x95k\\xda,<\\x00\\xf0xN\\x1b;Df\\x11\\xc5\\xb7uUE\\r9z\\x9d\\x92\\x957\\x0b\\xd7]t<\\x8f\\xc4\\xff\\x00\\xb4\\x9d\\xfe\\x89\\xaf\\\\Y\\xf9{p\\xf5\\xd8\\xfc,\\xf8\\xf3y\\xe2\\xebfA.\\xc6O\\xe1\\xaf\\x15\\xf8\\x9d\\xf0\\x1f\\xc4w\\xfe*\\xba\\xbc\\xb3\\xd4\\x1dC7\\xcc\\xb5\\xd8\\xfe\\xce\\xdf\\x07|A\\xe1\\xdb\\xf9\\xa5\\xbc\\xd4<\\xc4\\x93\\xee\\xadiR\\x9d\\x15\\x0f2]U9\\xf2\\xb8._C\\xaa\\xf8\\xaf\\xf1sU\\xf0\\xf3\\xad\\xe0\\x1f/\\xfbU\\xcdh\\xbf\\xb4\\xfd\\x9c\\x97q\\xc5s\\xd5\\x9bml\\xfc{\\xf8M\\x7f\\xaeiMo\\xf6\\x86\\x8d\\x9b\\xee\\xb5x2~\\xcf~?\\xb3\\xd5a\\x92\\xdfPv\\r*\\xb2\\xb3\\xa5(B\\x84\\xe9]\\xee\\x13\\xc4\\xbavQ\\x8aq>\\xa9\\x9f\\xe2\\x8d\\x84\\xd6>d\\xe7\\x83\\x16\\xea\\xc4\\xd3>=x\\x1cI\\xe4I\\xa8\\xaa\\xb8m\\xac8\\xaesR\\xf0f\\xbdg\\xe1U\\x8eH\\xfc\\xc7[}\\xac\\xcb_\\'\\xfcH\\xd2\\xbe\\'i^!\\xba\\x8fO\\xd2\\xe7\\x91\\x0b}\\xe4\\xaeu\\x87U/g\\xb1\\x15qt\\xf0\\xf0^\\xe6\\x8c\\xfd\\x0c\\xd0\\xfe&\\xf8{Q\\xb2?`\\xd4\"`\\xcbX\\x1e\"\\xf8\\x91\\xe1kk\\xff\\x00/P\\xd4\\x12?\\x9b\\x8a\\xf9\\xb3\\xf6]\\xb9\\xf8\\x8by\\xa6\\xb5\\xbf\\x884\\xbb\\xa8v}\\xdd\\xdc\\x9a?ih5\\xeb\\x0b\\x0f\\xb6Y\\xdb\\xdcoO\\x9b\\xf7Y\\xac\\x95\\x15\\xed9\\x1c\\xae\\xc2\\x9d\\\\=*n\\xba\\x8b>\\xa1\\xf0\\xdf\\x8b\\xbc7r\\xeal\\xf5\\x08\\x9b\\x7fNEzo\\x86-l5\\x9be\\x8daV\\xfe\\xf1\\xaf\\xcb\\x1f\\x84_\\x1b\\xfc\\\\\\xfe9\\xb1\\xd3\\xee$\\xbf\\x8d\\x0c\\xaa\\xac\\xb2\\xc6\\xe0\\x7f*\\xfd\\\\\\xfd\\x96|:5\\xcd\\x02\\xda\\xea\\x7f\\x98\\xbc*\\xc5\\x9a\\x9f\\xb1\\xa9F\\xaa\\x8bz3\\xc6\\xcd\\xf3\\x0c;\\xc0K\\x10\\xae\\xb9M\\x16\\xf0\\x0e\\x9f\\xb3\\xcf\\x92\\x05\\xc5S\\xbd\\xb6\\xd1\\xf4\\xf4\\xfb\"m\\xfaW\\xabx\\x93\\xc1\\xe9m\\xa5M\\xb3\\xf8V\\xbez7R\\xcb\\xe31\\xa7\\xc9q\\xff\\x00-\\xf6\\xed\\xad\\xea\\xd3\\x954\\x97s\\xe72\\\\T\\xf3~w\\xce\\xed\\x15sN\\xeb\\xc1B\\xfao<\\xa7\\x06\\xb1\\xf5\\xabk_\\x0e#$\\x8e\\xaaO\\xf1W\\xbf\\xf8w\\xc0V\\x93\\xe8\\xeb<\\x91\\x86\\xcan\\xaf\\r\\xfd\\xa9tHtHZH\\xe4\\xdb\\xfe\\xedL\\xe8\\xcdR\\xb9\\xdf\\x94g\\x90\\xc7f\\x0b\\n\\xdb\\xb2\\xfd\\x0e\\x03\\xc5>9\\xd0\\xad\\xa3i%\\xbb_\\x93\\xefW\\x0b\\xaa\\xfe\\xd3\\xde\\x03\\xd1\\x8bG\\x1e\\xa2\\xac\\xe9\\\\\\xbf\\x89\\xec\\xf5\\x8dcJ\\xba\\x16q\\xbc\\x8d\\xb5\\xb6\\xad|\\xa5\\xe2\\x1f\\x87_\\x1c\\xb5\\xbf\\x18\\\\i\\xf6~\\x17\\x96;m\\xed\\xb6\\xeaY8\\x7f\\xf8\\x0f_\\xe5XC\\r\\n\\xd1jR\\xb1\\xf65\\xb1\\x1fW\\x85\\xa1\\x0b\\xa3\\xed\\xef\\x0c~\\xd1\\xda7\\x8a\\xac\\xe4:<\\xca\\xcc\\xbe\\xf5\\xe7\\x9f\\x18\\xfe3k\\xda%\\xcf\\x99oq\\xe5\\xab\\xd71\\xfb*\\xfc\\x0e\\xf8\\x8b\\xa3<\\xdf\\xf0\\x92H\\x9f?\\xfa\\xb8\\xd7&\\xbd?\\xe2W\\xec\\xf3k\\xaeYGo\\xa9\\xc0\\xce\\xe7\\xefT/aFv\\xbd\\xd1\\xa5\\x1a\\xf3\\x9co\\xca\\xa2\\xcf\\x1a\\xd2\\xbe:\\xeb\\xd7\\xfa\\xf5\\xacrj\\x8e\\xa1\\xe5Ue\\xaf\\xa2\\x12k\\x9dK\\xc2\\x9fl2;\\x13\\x15p\\xde\\x1e\\xfd\\x99\\xbc%\\xa3\\xeaP\\xde\\\\i\\xe9\\'\\x94\\xfb\\xb7=}\\x07\\xe1/\\x02\\xd9\\xdc\\xf8wtcj*mU\\xa2\\xae\"\\x8c\\xed\\xc9\\xd0%^XxsVvG\\xc4\\x1e6\\x87\\xc47\\x9e\\'\\xb8\\xb7\\xb7\\xb7\\xb8\\x90\\xeeo\\x97a\\xafS\\xfd\\x9b|7\\xe3\\x04\\xf3-\\xf5\\x1b9a\\x8b\\xef.\\xfa\\xf4_\\x15x{@\\xd15\\xb9$\\xd4-\\xe2\\x8d\\xb7\\xeeVlV\\xa7\\x82<I\\xe14\\xd4\\x96\\xd2\\xd7P\\x8b\\xcd?\\xc2\\xae3U,jpQH\\xbd/\\xcd~\\x86\\x07\\xc5o\\x84\\r\\xe2\\x8d/\\x12\\\\2\\xb7\\xf7\\xab\\x80\\xd1?g+k=B\\xde\\xe6\\xe2\\xf2V(\\xea\\xdf%}\\x03\\xf13\\xc4\\x9ae\\x87\\x86\\xa4\\xd4\\x12?\\x92\\x18\\xb2\\xd5\\xf2\\xcf\\x8b\\x7fn\\x1f\\x04\\xe87\\x93Y\\xc9z\\x9b\\xe1}\\x8d\\xfb\\xca)\\xe2*\\xf2\\xda\\x1a\\x99\\xacU(\\xd2\\xf6\\x95\\x95\\x99\\xf5o\\x84\\xbc\"\\x93hK\\x02\\r\\xc8\\x91m\\xaf;\\xf17\\xc2\\x8f\\r\\xff\\x00oMyy\\xa7\\xa6\\xf6\\xfb\\xcc\\xf5o\\xf6a\\xf8\\xe7i\\xf1_\\xc2\\x0b\\xabi\\x13\\xee\\x1b\\xbec^}\\xfbp\\xfcW\\xf1W\\xc3\\r5u\\x8d\\x1a=\\xdf\\xde\\xac#Zj\\xaaIj\\xc9\\x85Y\\xf3\\xcam\\xfb\\xb6\\xba=7\\xc1>\\x18\\xf0\\xe6\\x89z\\xb2YE\\x12?\\xf0\\xed\\xc5z\\x06\\xbbo\\xa7\\xff\\x00`\\xef\\x8d\\xf0v\\xf3_\\x98\\x9e\\x0f\\xfd\\xbe|x\\xfe6\\xb1\\xb6\\xbd\\xdd\\xe4\\xbd\\xc2\\xac\\x9f?\\x15\\xfa\\x1b\\xf0\\xf7\\xc4\\x0f\\xe3\\xbf\\x02\\xdb\\xea8\\xdd\\xe7[\\xff\\x00\\xec\\xb5\\xae*\\x18\\x9c5\\xb9\\xfa\\x9c\\xb0\\xc6P\\xc7\\xb5*r\\xf8w9[\\xff\\x00\\x88^\\t\\xd2\\xaf\\x1a\\xde\\xe2\\xf2%x\\x9f\\xe6\\xe8\\rw\\xdf\\x08\\xfe5h\\x9a\\x94r\\xda\\xe9W\\x89#E\\xf7\\xb6\\xf3_\\n\\xfe\\xd7\\xbe\\x0f\\xf8\\xa9\\xa2|Ci<7ep\\xd6\\xf3?\\xcd\\xb3\\xa5t?\\xb0\\xbc?\\x14t\\x7f\\x1f\\xcdm\\xe2\\x98\\xe5[i\\xe2\\xf9wI\\x9an\\x84\\xeaP\\xf6\\xb7\\xd4\\xbcf\"\\x9dz\\xbfW\\xa9\\x0b\\xa3\\xeb\\x7f\\x8e\\x9e+\\xd3t[&\\xf1-\\xc4{G\\xdef\\xaf%\\xd0\\xbfk\\x0f\\tZj\\x90\\xc5\\xf6\\x84\\xc3J\\xaa\\xd5\\xea\\x7f\\x18\\xbc\\x03s\\xe3?\\x87\\x97zr\\x1d\\xae\\xd16\\xd6j\\xf8\\xbbM\\xfd\\x98<g\\xfd\\xbd$Z\\xa6\\xa0\\xdb\\x16_\\x95\\x97\\x8f\\xe2\\xacp\\x90\\xf6\\xdc\\xdc\\xce\\xc6\\xae\\xaf\\xb0\\xc3F4\\xd5\\xd2\\xd0\\xfdP\\xf8\\x1b\\xe2M3\\xc6\\xba\\x02<S$\\x91\\xbcCi\\xac_\\x89zs\\xf8kZc\\x1c{Q\\xdb\\xe5j\\xf3\\xff\\x00\\xd8\\xbe-S\\xc2\\xde\\x1f\\xb6\\xd0uK\\x86g\\x81v\\x06z\\xf6?\\x8b\\xe9\\r\\xfd\\x942I\\x1a\\xb1\\x1f\\xc5SNMJ\\xcc\\xf8\\x8cE7\\x97\\xf1\\x05\\x97\\xc1>\\x87-\\xe1\\xbd~H\\x9dz`\\xd6\\xde\\xa9u\\xf6\\xebI\\x11\\xd3\\xb6\\xe5\\xac-\\x154\\xd8c\\xdd\\xe6r:\\xd6\\xa7\\xf6\\x8e\\x9f\"ybNO\\x15\\xdd%Mlm\\x8a\\xa7\\x07[\\x9a1g%u\\xa9\\\\Er\\xd1G\\xda\\xb6\\xfc+\\xe2\\xdb\\xc5\\x91\\xb4\\xf9\\xdf\\xe9T\\xf5\\x1d:\\xd1.\\xd9\\xe4\\x93\\xe5?v\\xaa\\xdej:n\\x94\\xcb$rm+\\xfcU\\x13\\xb3\\x8d\\x8fJP\\xa5\\x8a\\xa2\\xa1\\xc9vs\\x7f\\xb4O\\x80\\xd3\\xc6:4\\x92?\\xca~o\\x99k\\xe6\\xed7\\xe0\\x84\\xd1j^d\\x97\\x8d\\xf27\\xde\\xaf\\xa9<Q\\xe2\\xd8\\xb5K\\x19-\\xb1\\xbb\\xe5\\xf9k\\xe5/\\x8c\\x1f\\xb4m\\x9f\\xc3O\\x10\\xcd\\xa7\\xea\\x11\\xed\\xf9\\xfeVz\\xcb\\x0fVj\\\\\\xb1\\xdc\\xf72\\xff\\x00iG\\x03j\\xdar\\xed\\xe8{\\xcf\\x81\\xfc<\\x91\\xe8\\xcb\\x03\\xc9\\xbb\\xe5\\xdak\\x8f\\xf8\\x8f\\xf0\\x8fI\\x9e\\xf9\\xb5\\x0b\\x8bD\\xf9\\xbf\\x8a\\xbc\\xb7\\xe0\\xff\\x00\\xed\\xa5\\xa3x\\x97^]\\x19.6\\x9d\\xdf*\\xef\\xafa\\xf8\\x85\\xe2\\x9b\\x8d_\\xc1\\xd2]\\xe9\\xd1\\xb6\\xff\\x00)\\x99j\\xa5*\\xf4\\xe5\\xcc\\xd5\\x99\\xbd\\x1cD*\\xbfrWF\\x0f\\x82t?\\x0fxoR\\x8e\\xe2\\xdeH\\xa3*\\xdf5{=\\xa5\\xf6\\x95\\xac\\xe8\\xde\\\\R\\xab|\\xbf\\xc3_\\x9a\\x7f\\x12\\xff\\x00io\\x1f\\xf8o\\xc5Siv\\xd0]nV\\xf9v!\\xaf\\x7f\\xfd\\x8f?h\\x7f\\x11\\xf8\\xea\\xcdl\\xf5\\x8byc\\x91>VYc\"\\xb5\\xa9J\\xb3\\x87;\\xd8\\xe3\\x96.\\x8dJ\\x9e\\xcd\\xb6\\x9ag\\xaax\\xfe\\xf3A\\xf0\\xae\\xa5$\\x9a\\x84i\\x1a\\xfd\\xed\\xcdT|-\\xf1\\xbf\\xc1\\x96w+g\\x16\\xa1\\x17\\xcf\\xf4\\xa6~\\xd2\\x7f\\x0cu\\x8f\\x1c\\xf8bI\\xf4{\\x97\\x86eM\\xca\\xc9_#Y|\\x10\\xf8\\xc5m\\xaf7\\x99\\xacK\\xb5\\x1b\\xe5\\xac\\xa9S\\xf6\\xb1mK\\xf1:\\xb1\\x18\\x8a\\xb4\\x9aj7L\\xfb\\xee\\xefZ\\xd0\\xb5\\xdd!\\xee-\\xd9e\\x017W\\x8bx\\xe3\\xe3\\x96\\x8f\\xe0\\x9dJK{\\x89\\x11YZ\\xb7~\\x06\\xe8>\\'\\x1a\\x0c6z\\xa4\\x8c\\xce\\xa9\\xb5\\x99\\xeb\\x95\\xf8\\xfd\\xfb3\\x0f\\x13\\xdc\\xb6\\xa1\\x96]\\xdf{e\\\\b\\xa1>V\\xf4*\\x15jJ\\x96\\xda\\x9d\\x87\\xc2\\x8f\\xdasA\\xf1%\\xca\\xd9\\xc7x\\xb9?\\xc3]\\xef\\x8f\\x04\\x9a\\xae\\x88\\xd7\\xf6\\x07\\xe7\\xdb\\xb9k\\xe6\\x1f\\x86\\x9f\\x01\\xd3\\xc1\\x9a\\xdc:\\x84w\\x0e\\xbb\\x1b\\xe6\\xfd\\xe5}U\\xe1\\x13aw\\xa0-\\x9c\\x92+m]\\xac\\xb55#J\\x9c\\xaf\\x16M\\n\\xd3\\x94\\xb9\\xa5\\x1b3\\xe7=o\\xe2\\xbf\\x8b|=\\xad\\xb5\\x9cv\\xee\\xc5\\x1e\\xbd[\\xe1\\x8f\\xc4\\xddS\\xc4\\x9ar\\x9b\\x88\\x9b\\x94\\xda\\xcbT~\\'x7A\\xb1\\xbf\\x93P\\xb9\\xb7O\\xefn\\xac\\x8f\\t\\xfcB\\xf0g\\x87f[x\\xef`\\x8c/\\xf0\\xf9\\x94s\\xd2\\xe5\\xd9\\xdf\\xd0\\xd6\\xa4\\xa4\\xa7\\xab\\xd0\\x9f\\xe2\\xee\\x8f\\xaf\\xbe\\xeb\\xcd?\\x7f?\\xc5\\\\o\\x81\\xb5/\\x16\\xd8k\\x0b\\xf6\\x89\\x1bf\\xff\\x00\\x9a\\xbd\\xca\\xdb^\\xf0\\xcf\\x8bt\\xacG$LY>\\xb5\\xe4\\x9f\\x15<[\\xa5x\\x0e\\xe5\\xae<\\xb5\\\\\\x7f\\x15]:\\xd1K\\x93\\x97R\\xa74\\xe3~c\\xeb?\\x8c\\x1f\\x16\\xbc\\x1a\\xf7\\rgy<J?\\xbb\\\\W\\x85\\xbcI\\xf0\\xfb]\\xd5\\xd6\\xd3O\\x8e)\\x18\\xb7\\xf0W\\x8f\\xfco\\xf8-\\xf1\\x17\\xc5\\x1e!it\\xbdBX\\xd1[\\xf0\\xad\\xbf\\xd9\\xbb\\xf6~\\xf1\\xa7\\x87u\\xf1\\xa8kz\\x83\\xca7p+\\xd6\\xc4G\\x9a\\xa6\\x8c\\xf9\\xfc\\x1d%\\x84\\xa3\\xec\\xd2\\xb4W[\\x9fMj:\\xfe\\x83\\xe0\\xcf\\r\\x19`eE+\\xf3W\\x97\\xdf\\xfcx\\xf0\\x15\\xcd\\xe4\\x91\\xde^A\\xbf\\xfd\\xba\\xea~-xF\\xff\\x00R\\xf0\\xe3i\\x91\\xcf\\xb7\\xe5\\xc6\\xea\\xf9{R\\xfd\\x91|Us\\xacI{\\x1e\\xb3:\\xac\\xb2\\xeee\\xf3*g\\x05%g+\\x1c\\xd8*\\x10Qu#\\xef9=\\xefc\\xe9\\xef\\x86\\x1e0\\xf0\\xbe\\xb5w\\xf6\\xbb\\x0f*T_\\xbc\\xc9G\\xc6_\\x8d~\\x1a\\xd0\\xedZ\\xda\\xeeX\\xa3U\\xf58\\xaa\\x9f\\x02>\\t\\xcd\\xe1\\x1f\\t\\xfd\\x9a)\\x19\\x9bo\\xce\\xcf^[\\xfbI\\xfc\\r\\xd7\\xbcsx\\xd6vz\\x84\\xb0\\xae\\xff\\x00\\x9bekF\\x11T\\xf7\\t\\xc2\\x85ls\\x94=\\xe9G\\xa5\\xc9\\xec\\xff\\x00h\\x7f\\x87W7\\xabg\\x1d\\xc4[\\x9d\\xf6\\xd7\\xb8\\xf8\\x1b\\xc4\\x9a]\\xbf\\x85\\xff\\x00\\xb6-\"U\\xca|\\xad_\\x1axK\\xf6\\'\\xd4m\\xb5\\xbb{\\x8b\\x8dfv\\t(f\\xfd\\xe3W\\xd7~\\x1f\\xf0Ki\\x1e\\x05M;\\xed\\r\\x84\\x8bn\\xe6\\xac9#\\xed\\xaf\\x17\\xa1\\xa63\\xf7\\xb4\\x14q\\x1a;\\xa5o#\\xcc~(\\xfe\\xd5\\xde\\x1e\\xf0\\xe6\\xb4\\xd6Z\\xa5\\xc6\\xe3\\xbbn\\xdao\\xc3\\xef\\xda+\\xc3~2\\xd6\\xa1\\xd3\\xb4\\xe8\\xf7;\\xb5q_\\x15\\xff\\x00d\\xf8<w\\xafI\\xa8Kr\\xe9\\x8f\\xba\\xc6\\xba\\x0f\\xd9\\xaf\\xf6U\\xb6\\xf0.\\xbc\\xd7\\xfed\\xb2I\\xfc\\x1b\\xe4\\xcdgZ4\\xe5=$t\\xc5{\\x18ZQ\\x8a\\x82G\\xb9\\xf8\\xe3\\xe2\\xe5\\xb7\\x86\\xbc8\\xb1\\xbb\\xf9h\\xb1\\xfc\\xd5\\xe6\\x9f\\x0b~8x{\\xc6\\xde\\'\\x96\\x1br\\xad\\xe5K\\xb5\\x8dl|}\\xf8i\\xa8j\\x9e\\x1e\\x9bO\\xb7\\xb8x\\xdc\\xae\\xd5\\xdb^;\\xf0\\x1f\\xe0>\\xb1\\xe0\\rnMB\\xe7P\\x96O1\\xbf\\x8e\\xbaj\\xa4\\xa9^\\xe6\\x19~\\x1a\\x87#\\xf6q\\\\\\xb2\\xdd\\xf5>\\xf5\\xf0\\x15\\xd5\\xb4\\xfa:\\xcb\\x0e\\xdf\\xbb^c\\xf1\\xe3\\xe3\\x1bxN\\xfdm\\xfe\\xd1\\xb57\\xedj\\xe9\\xbe\\x1cj2X\\xf8qRG\\xe7o\\xdej\\xf2\\x0f\\x8e\\x1e\\t\\x7f\\x1cj\\xbf\\xf1\\xf0\\xd8\\r\\xf359\\xb4\\xa8\\xea\\xcf\\x94\\xcar\\xda/;\\x9b\\xaa\\xaf\\x15}\\xce\\xe7\\xe1w\\xc4\\xdbMvh\\xf7\\x15\\xcb\\xff\\x00\\x15w\\x9f\\x12\\xbcf4\\x1f\\x0c}\\xa2)6\\xfc\\x9b\\xab\\xc7>\\x12\\xf8.-\\n\\xea\\x18<\\xec\\xed\\xae\\xd7\\xe3&\\x9b6\\xa5\\xe1\\xa6\\xb7\\x8eO\\xf9e\\xb6\\xa2\\x82\\\\\\x9b\\x9d9\\xa6\\x03\\x01,\\xe2\\x9a\\x87\\xc3\\xd4\\xf9C\\xe2w\\xed\\x8d\\xe1\\xbd\\x07\\xc4\\xf7\\x1a}\\xe4\\x8b\\xbcK\\xb5\\x9a\\xbd\\x0f\\xf6_\\xf8\\xe7\\xa1|N\\xf3ot\\x93\\xbb\\xcb\\xeak\\xe7\\xef\\x89\\x7f\\xb1\\xff\\x00\\xfc%\\xbe!\\xb8\\xd7$\\x91\\xd4\\xb3\\xfd\\xda\\xf6\\x7f\\xd8\\xcf\\xe0-\\xb7\\xc2x&\\xb7\\x8b\\x7f\\xef\\x9fw\\xcdXV\\x858\\xbfu\\xea},\\xddoeR\\x15\"\\x94\\x12\\xd3\\xf47\\xbfi\\xcf\\x8d\\xd7\\x9f\\x0e\\xf4\\xd95K\\x8f\\x99\\x13\\xf8k\\xe7\\x9d\\x13\\xf6\\xf6\\xd3u]J\\x1b8\\xed\\xff\\x00\\xd6K\\xb5V\\xbe\\x87\\xfd\\xa6\\xfe\\x0f\\xd9\\xf8\\xf3I\\x93K\\xbc\\xf9\\xb7\\xfc\\xbbV\\xbet\\xf0\\xe7\\xec3\\xa0\\xe9>&\\xb7\\xbdDe\\xd9*\\xb5J\\xa5E\\xc6\\xf3~\\xf0\\xb0\\xef\\x11\\xec\\xa0\\xb0\\xc9r\\x9fU\\xe9\\x7f\\x14\\xdd\\xbc\\to\\xa8\\xf9\\x9bVX70\\xaf\\x99\\xbe*~\\xd9\\x9a\\x0f\\x86<gq\\xa5\\xdcuG\\xf9\\xab\\xe9i\\xbe\\x1e\\'\\xfc!\\xa9al\\x9bV(6\\xab\\x7f\\xc0k\\xe2\\xdf\\x8c\\xdf\\xb1\\x9d\\xff\\x00\\x8c\\xfcau\\xaaG\\xa84\\x7f\\xbd\\xddZa\\xa8\\xd3_\\x1b\\n\\xb3t\\xe1)a\"\\xb9\\x9b\\xd4\\xfa\\x9b\\xf6\\x1b\\xf8\\xe9\\xa0\\xfcf\\xd4\\xe6[d\\xcb@k\\xb8\\xfd\\xaf<Oq\\xe0?\\r]k\\x91G\\xf2\\xdb\\xa1m\\xb5\\xe1\\x7f\\xf0N\\xaf\\x81\\xba\\x97\\xc1\\xaf\\x15\\xdc=\\xe5\\xe3\\xb4s\\x9f\\x95^\\xbe\\x80\\xfd\\xae|+\\x0f\\x8c\\xfc#y\\xa5\\xc9\\'\\x13C\\xb5v\\xd7\\x1dH\\xf2Vq\\x8e\\xc7\\x9b9U\\xfe\\xd9\\xa1)\\xee\\xe3\\xf8\\xea|[\\xa5~\\xde\\xda?\\xdaV;\\xc8\\xf6\\xfc\\xdb]\\xab\\xeb_\\x03\\xfcA\\xb5\\xd5\\xfc\\x05i\\xacD~I\\xe2V\\xaf\\x8aa\\xfd\\x86\\xc2kq\\xc9\\xf6\\x87\\xd8\\xf3\\xab7\\x7f\\xe2\\xaf\\xb3<+\\xf0\\xf9\\xf4\\x7f\\x87\\xf6\\xba]\\x926\\xd8m\\xd5w\\x7f\\xc0kJ\\xb4\\x94T\\\\\\x1e\\xbdOZ.\\xbc\\xd3X\\xbb%}\\x0f\\x15\\xf8\\xa9\\xfbI\\xf8\\x1b\\xc3\\x1e0\\xb8\\xd2\\xf5\\t\\x13w\\xf1W\\xaf~\\xc8^8\\xf0g\\xc5\\xb3#h\\xf2+\\x18\\xa4\\xc3\\xad|m\\xfbE~\\xcb^,\\xf1\\x9f\\xc4\\x9b\\x8db\\xce\\xf1\\x96\"\\xdbd^\\xf5\\xef\\x9f\\xf0L\\xcf\\x84\\xfa\\xf7\\xc2\\x7f\\x16\\\\\\xd9j\\x17\\x8e\\xd6\\xd3\\x95e\\xdd\\xfd\\xeaX\\x9aQ\\x854\\xe2\\xf59\\xf15\\xf1\\x93\\xa7Z\\x1c\\xb6\\x8a\\x8b\\xb3\\xf4\\xd8\\xf6\\xcf\\xda\\xc2\\xee\\xcf\\xe1\\xfe\\x81&\\xb7sg\\x98\\xa1M\\xcd_4i\\xbf\\xb5/\\xc3\\xdb\\xcb\\x98\\xe3\\x92\\xe1\\x14\\xab\\xedZ\\xfa\\xcb\\xf6\\xd9\\xf0w\\xfc&\\xbf\\x0f.\\xf4\\xa8\\xee6\\x99-\\xd8+W\\xe6%\\xe7\\xecg\\xf1R\\xdb^]B\\xcfXI\\x13\\xcd\\xdd\\x1a\\xf9|\\xfd\\xef\\xadg\\x87\\xa7\\xed\\xa3%\\'c\\x97,\\xc6\\xe2\\x9eYJP\\\\\\xcf[\\x9f\\xa1>\\x1b\\xd4\\xb4]o\\xc2\\xf0\\xea\\x11\\xaa\\xb4SE\\xd6\\xbc\\x7f\\xc5\\xb7>\\x03\\xb0\\xf1l\\xd6\\xf7\\x97\\x90)/\\xf2\\xab\\xe2\\xbb\\xff\\x00\\x85\\xde\\x1c\\xd6\\xf4\\x1f\\x85\\x96ZV\\xa1\\x16\\xeb\\x88\\xad\\xd4I\\xb3\\xfd\\xda\\xf8\\xbb\\xf6\\xae\\xf0\\xaf\\xc5w\\xf8\\x95qy\\xe1\\xfb;\\x86\\x8d\\x9d\\xbe\\xed\\x140\\xf5*7\\x14\\xedc\\xdb\\xc5b>\\xafI\\xcf\\x96\\xed\\xf4>\\xc9\\xf8Yg\\xe1[\\xb9\\xbc\\xdd\\x1e\\xf2\\t\\x08\\xfb\\xdb*_\\x8c\\x1e\\t\\xd1.t\\xf6\\x92\\xe0D\\xbb\\xfe\\xf6k\\xe5\\xef\\xd82\\xf3\\xe2\\xbd\\x87\\xc4W\\xd1\\xfcYgp\\xb0I\\xfe\\xad\\x9f\\x91_N\\xfe\\xd1\\xda^\\xb5u\\xe0K\\xaf\\xecdq:E\\xb9v\\xff\\x00\\xbbY\\xcb\\r:u\\xad}{\\x8f\\x0f\\x8a\\xf6\\xf4\\xe3+Y[c\\x83\\xd0~\\x12\\xf8\\x16\\x1dV\\xd7P\\xfb\\x1c\\x0c\\xd16\\xe6n+\\xee\\x1f\\xd9\\x86m6\\r\\r#\\x84*\\xaa\\xae\\x15R\\xbf \\xec>*~\\xd0:%\\xd3Y\\xdch\\xf7M\\xb2]\\xab\\'o\\xbd_~~\\xc9\\x7f\\x15<M\\x17\\x83\\xaco\\xb5\\xb8\\xda9\\x9e%\\xf3\\x15\\xa8j\\xae\\x1e\\xa2\\x95M\\x99\\xe3\\xe78X\\xe6\\xf9]J\\x14U\\x9a\\xd4\\xfb\\x17\\xc7\\xda\\xad\\x9c:T\\xdf\\xbcLl\\xaf\\x91\\xe6\\xd7\\xad\\x7f\\xe1j\\x0b4\\xef&\\xea\\xe9~,\\xfe\\xd1\\xb3E\\xa7\\xcdg\\xf3\\xfd\\xcf\\xe1\\xaf\\x95\\xd3\\xe3N\\xbd\\xff\\x00\\x0bv\\xd6H\\xf4\\xe9\\xd9$\\x97\\xe6\\x91c8\\xadq8\\xb8I_\\xf49xG\\x87\\xb19]\\n\\x9e\\xdbG5d~\\x97xGW\\xb7o\\x0eF\\xc1\\xf9\\xf2\\xab\\xe6\\xff\\x00\\xdb\\x0f\\xc5V\\tk4\\xbfhO\\x91+CB\\xf8\\xe1{\\x1f\\x86\\x84+\\xbby\\x8b\\x85\\xe8k\\xe5\\x8f\\xda\\xd3\\xc7\\xfe<\\xf1\\x85\\x9d\\xc6\\x9f\\xe1\\xfd=\\xd8\\xb6\\xef\\x9a\\xaf\\xeb\\x1e\\xd2\\x94RG6K\\xc3u\\xf2\\xec\\xcex\\x9a\\xbb+\\xdb\\xcc\\xee>\\x14\\xa6\\x91\\xad\\xe8k\\xaa8G\\x13\\x7f~\\xb3\\xfcO\\xad\\xf8\\x1b\\xc2\\x97\\xf2[\\xea\\xba\\x85\\xbc\\x7f6\\xef\\x9b\\x15\\x9d\\xfb.\\xf8C\\xc6\\x03\\xe1\\xe5\\xac\\x1e \\xf9f\\xdb\\xfb\\xca\\xe0?k\\x0f\\xd9k\\xc6^.\\xbek\\xdd\\x1bY\\x9e\\x1d\\xcb\\xfc2`W/\\xd5\\xaaT\\x9f+v>\\xd2\\xae!\\xc6\\x9d\\xe3\\x1d{\\x1e\\xed\\xf0;\\xe2/\\xc3\\xbf\\x10\\xeb\\x83O\\xd1\\xb5\\x08&\\x95>\\xf2\\xa3\\x8a\\xed?h\\xdb\\xc9<7\\xe19|C\\xa7\\xdao\\xf2b\\xdc\\xab_\\x16\\xfe\\xc9\\x1f\\xb3\\xc7\\x8f\\xfe\\x18|Q\\xb7\\xf1\\r\\xe7\\x89%\\x92)\\x1bl\\xd0\\xbfJ\\xfb\\xe7\\xc5\\x9e\\x1d\\x83\\xc4~\\x03\\x92\\xd6\\xef\\xf7\\xd0\\xbc\\x18o\\xca\\xb9%\\x87\\x9d:\\x8e\\x17\\xba<\\xaa\\xd5\\xe4\\xb1\\x14q\\x13\\\\\\xae\\xf6h\\xfc\\xec\\xf1W\\xfc\\x14.\\xce\\xc2i\\xb4\\xfbk9V\\xe1\\x1d\\x95\\x97a\\xfe\\x1a\\xfa\\xf3\\xf6I\\xf8\\xb1q\\xf1o\\xe1]\\x96\\xb6\\xe1\\x95\\xa6\\xf9XW\\x83\\xf8\\x87\\xf66\\xf05\\xcf\\x89.5I4x\\x94\\xbc\\xad\\xf2\\xf9u\\xf4?\\xec\\xbb\\xe1M\\x07\\xe1\\xfe\\x95\\x17\\x86l\\xed\\xd6\\x18U\\xf3\\xb5)\\xd7\\xa3C\\xd9\\xc5C\\xe27\\xaa\\xb1\\x9c\\xb5\\x1dK8\\xee\\x91\\xf3/\\xfc\\x14\\x8fX\\xf8\\xa7\\xe0\\xfdb\\xde\\xe3\\xc1\\xf2\\xcb\\xe4\\xcb\\xf2\\xc9\\xb1\\t\\xaf\\x9e~\\x02x\\xf3\\xe3\\xc2|N\\xd3u\\rB\\xce\\xf6H\\x1eUY\\xb7\\xc6@\\xda\\xd5\\xfa_\\xfbFx\\x1f\\xc2\\xfe%\\x85e\\xbc\\xb7\\x8ed_\\xef\\x80k\\xc9\\xf4\\x1f\\x04\\xf8\\x1bF\\xbcY#\\x8e\\xde5V\\xf9zWV\\x1a\\xa5\\x1a\\x14\\x1cg\\x1b\\xc9\\x90\\xe8\\xd5\\xc6{:\\xf1\\x9b\\x8aKTz)\\xd0n|Y\\xe0\\xa5\\xb4\\xbc\\x83i\\x9e\\xd7\\xe6V\\xff\\x00v\\xbe!\\xf8\\xb7\\xfb\\x10\\xea\\xb7\\xfe<\\xbc\\xb8\\xb3\\xf9\\xad\\xa6\\x95\\x9aE\\xf2\\xeb\\xf4[\\xc0w\\xbaL\\xda\\x17\\x94dY\\x17g\\xca\\xd5\\xe3_\\x1b\\xbe$\\xf8;\\xe1\\xd6\\xaa\\xd2k\\x12$bG\\xfb\\xcdXQ\\xa9\\xf5y\\xa9EnoR0\\xc7JTjGH\\x9c\\xf7\\xec)\\xf0\\x89\\xfe\\x14\\xe8\\x12h\\x12J\\xfc\\xcb\\xf2\\xabq]\\xff\\x00\\xede\\xf0/H\\xf8\\x8d\\xe0\\xef\\xb0j6\\xfb\\xb7W\\x98x\\x1f\\xf6\\xaa\\xf04\\x9e)\\xb5\\xd3\\xb4\\xcdR/\\xde\\xb6\\xdf\\xf5\\x95\\xee~%\\xf1\\x8c\\xfa\\xaf\\x86\\xa5\\xbb\\x8f\\xf7\\x8b\\xe4nZ\\xceO\\x9a\\xaf<\\x91P\\xa5\\xfb\\xc8{\\x16\\x9cR\\xb3>=\\xf0\\xdf\\xecI\\xf0\\xf7G\\xbc\\x8eO\\xec\\xf4f\\x0f\\xf2\\xb7z\\xfb3\\xf6z\\xf0\\x1d\\xa5\\xbf\\x87!\\xd1\\xa0\\xf9V5\\n\\xaa\\xb5\\xf0_\\xc5\\xdf\\xdbb\\xff\\x00\\xc0~*\\xba\\xd0\\xfe\\xc7\\xf3\\xc3+-};\\xff\\x00\\x04\\xeb\\xfd\\xac\\xec\\xbe-\\xabZ\\xde\\xfe\\xeex\\xdf\\x05[\\x8a\\xeb\\xc5O\\x11*q\\xa9Sc\\x8f\\x11,<(T\\xa5\\x86\\xf8\\xd6\\xa7m\\xfb@\\xf8\\x0fJ\\xd3u/\\xb6k\\x16\\xeb\\xe5\\'\\xf1>+\\xcetO\\x13\\xf8\\x17\\xc3\\xd7\\xf1\\xdc\\xdb\\xdcA\\x1bn\\xfe\\x1cW\\xd0\\x7f\\xb6W\\x80\\xe4\\xf1\\x8f\\xc3;\\xa9tC\\xb6\\x7f\\xb3\\xb3F\\xc9\\xd6\\xbf(\\xbcE\\xe1_\\x8f\\xdao\\x89\\xe6\\xb7\\xb7\\xbc\\xb8d\\x8a\\xe1\\xb6\\xef\\xac0\\xd1u\\xe5(&\\xec\\x18<\\xcb\\x9f,\\x8dw\\x1b\\xb5\\xa3?P\\xf4\\xdf\\x16\\xe9\\xda\\xef\\x87\\xd68\\xe4Y\\x11\\xe3\\xfb\\xd5\\xf3\\xe7\\xc6\\x9f\\x8c~\\x12\\xf8S\\xad\\xc9\\x1e\\xa9\\xb2<\\xb7\\xcb\\xbb\\x8a\\xe8\\xbfe)|Uy\\xe0+[\\x7f\\x12F\\xdfh\\x11.\\xea\\xf3\\xcf\\xdb\\x83\\xf6p\\xd5~#K\\r\\xee\\x97\\'\\x96\\xdf\\xc5\\xb6\\xaa4\\x9f\\xb7\\xe4\\x96\\xc7\\xa3\\x07\\x15\\x87\\x94\\xe9\\xab6\\xafc\\xad\\xfd\\x9d\\x7fm?\\x05x\\xb7\\xc6\\x11\\xf8z\\xc6\\xfd#\\x98\\xff\\x00\\xab\\xf9\\xeb\\xec\\t\\xf5\\x0f\\xf8K<\\x1c\\xd3\\x17\\xdc\\xea\\x9b\\x96\\xbf.>\\t\\xfe\\xc8\\xba\\xef\\x83<[g\\xe2O\\xb6J\\xb7\\x16\\xec\\xbf2q_\\xa4\\x1f\\x07\\xee\\xdd<=\\x14w/\\xbb\\xf7Xm\\xd4\\xb14\\x95:\\xcb\\xd9\\xbd,x\\x98\\xdau1\\x18U^\\xa4m8\\xbf\\xc0\\xe4\\xdb[\\x9bO\\xbd\\x92\\xd2I>`\\xcdU\\xac<iq\\xf6\\xe9-d\\x91\\x9bk|\\xadW\\xbct\\xda}\\x8e\\xb5$\\xf2\\x15Uf\\xae\\x7f\\xfbWA\\x86\\xe5d\\xfbB.\\xef\\xbc\\xd5^\\xd6\\x1e\\xcfV}\\x1d\\x08\\xd1\\xadB3\\x94uh\\xed\\xae\\xf5\\xa9\\xae\\xb4\\xe5\\xb8\\xc75\\xcax\\xc2\\xf2\\xfe\\xf3Jh\\xed\\xbeW\\xfe\\x16\\xae\\x82\\xdbU\\xd3\\x1bK\\xd9\\x13\\xaf\\xdc\\xf9~z\\xf3\\xef\\x1c\\xfcY\\xf0\\xd7\\x86\\xe4k=B\\xf1#e\\xff\\x00\\xa6\\x95Q\\xa9M\\xc3\\xb9\\x96\\x16\\x11\\xa77\\xee\\xd9&M\\xf0\\xfd\\xf5}HIo\\xa8\\xc9\\xf3\\xa3W\\x99\\xfe\\xd5_\\xb2\\xae\\x95\\xf1&?\\xed\\t#u\\x97\\xf8\\x998\\xae\\x8b\\xc2\\x1f\\xb47\\x83\\xa4\\xd6\\xd6\\xda\\xdfP\\x8bs\\xbf\\xdd\\xdf^\\x93\\xe2\\x1f\\x10\\xd9\\xeb\\xde\\x1f\\x92\\xe2\\xdfl\\x9f\\xba\\xf9Z\\xb1\\xe6t\\xea{D\\xac\\xcd\\xe75R|\\x89\\xde/s\\xe3\\xff\\x00\\x86\\x9f\\xb1\\xfe\\x95\\xe1-z\\x1dR8\\xf6\\xcb\\x1b\\xfd\\xea\\xfa\\xaf\\xc2\\xfe\\x17\\xb0\\x9f\\xc3\\xeba#\\xabe6\\xd7\\xcc?\\x16?i\\xc9\\xbe\\x1e\\xf8\\x86M.\\xe6\\xdfn\\x1a\\xb4\\xfe\\x05~\\xdaV^.\\xd6?\\xb0\\x8b\\xb2\\xbf\\xf0\\x8a\\xea\\xab,V\"<\\xd6\\xd0\\xe1\\x87\\xd4\\xf0\\xb5y!\\xa3:\\xef\\x89\\xdf\\xb3\\xb7\\x84\\x8e\\xb5&\\xaby\\xa7\\xc5\\xf3>\\xed\\xde]3\\xc0\\x1a\\'\\x82\\xfc\\x19\\x7f\\x1c\\xba|\\x91F\\xea\\xdfu+{\\xe3N\\xbd\\xabk~\\x0c\\x92\\xf3K\\xdf\\xbdb\\xdd\\xf2W\\xc2\\xbe0\\xf8\\xa9\\xf1\\x82\\xd3\\xc4\\xb2Y\\xd9\\xdb\\xdd+,\\xbbcnkZ\\x10\\xaf^<\\xaaZ\\x06.\\xa5\\x1c<\\x95G\\x1b\\xdc\\xfdB\\xd3u}\\x17\\xc4:G\\x97\\x19F\\xf99Z\\xf1\\x7f\\x8a\\x9e\\'\\xd1\\xfc\\x01\\x7f%\\xc5\\xe5\\xba*\\xef\\xfb\\xd5\\xc6~\\xc8?\\x12<s\\xab\\xd8Gg\\xe2H\\xdfz\\xfd\\xed\\xf5\\xea\\x1f\\x1e>\\x0e\\x7f\\xc2\\xc2\\xf0\\xf4\\x92|\\xea\\xfb~\\xf2\\xd73\\xa2\\xe9\\xd5\\xe4\\x9b7\\xa1Ub(\\xb9C\\xa9\\xe7\\x9e\\x15\\xfd\\xaf\\xbc\\x19g\\xa8\\xc7g\\xf6\\xd4]\\xef\\xb6\\xbd\\x80|D\\xd1\\xfc_\\xe1\\xe6\\x92\\xdeUb\\xc9\\xb9Yk\\xe3\\x84\\xfd\\x8c5(u\\x86\\xb8\\xf3%]\\xb2\\xee_\\xdeW\\xd2\\xdf\\x02\\xbe\\x1b\\xdc\\xe8:<:^\\xa1\\'\\xcc\\x8b\\xb5\\x99\\xebZ\\xd8zt\\xe3x\\xbb\\x99a\\xea\\xe2\\xb9\\x9a\\x9cmc\\xc1\\xbe=\\xfcx\\xd6\\xfe\\x1e\\xebm\\x1cq\\xba\\xa6\\xff\\x00\\x97m]\\xfd\\x9d\\x7flmK\\xc4:\\xdcz6\\xa1\\xbdr\\xdf\\xc7^\\xcd\\xf1\\xb3\\xf6d\\xf0\\xef\\x8c\"k\\xfb\\x8b4o\\xf6\\xab\\xcd\\xbc1\\xfb<xW\\xc1\\xfa\\xaa\\xdeG\\x1aF\\xc8\\xf5\\xad9\\xe1\\x1d\\x07\\xcd\\xb9\\x15\\xe9c\\x15u(=\\x0fu\\xf1\\x9d\\x83\\xf8\\xf3\\xc2M%\\xbco\\xbd\\xe2\\xf9k\\xe2\\xbf\\x8b\\x7f\\r\\xfe*i\\xbe!\\x9a=>K\\x85\\x89\\xa5\\xdc\\xbbs_u\\xfc:\\xd4\\xb4O\\xec\\xa5\\xd3\\xe4\\xb8V\\xc7\\xcbX\\x9f\\x13\\xbc7\\xa0\\xa6\\xedG\\xec\\xeb\\x8f\\xbc\\xd5\\xcfF\\xbciJ\\xebU\\xd8\\xeb\\xabA\\xd7\\xa5f\\xec\\xfb\\xa3\\xc2\\xbff4\\xf1\\xfd\\x9c1\\xd9\\xf8\\x82\\xe2V+^\\x83\\xf1\\x9b\\xe0\\xcd\\xcf\\x8ftF\\x92=\\xea\\xec\\x9fyk2\\xdb\\xe2\\xd7\\x83<1x\\xd1\\xfd\\xa2(\\xca}\\xea\\xef<\\x1f\\xf1\\xbf\\xc3\\x1e$\\xb6\\xfb<w\\x89&\\xef\\xe1\\xaa\\xa9VU%\\xcd\\x18Y\\x98\\xd1\\xa7J\\x8c]9J\\xf75S\\xf6\\xa7\\xf0u\\xfe\\xa4-\\xa3\\xb8\\x8d\\x9d\\xdbj\\xf4\\xafq\\xf8q\\xe2KY\\xb4q\\xa9\\xc6\\x8a\\x03&\\xe5\\xaf\\x97<%\\xfb\\x18A\\x0e\\xb7oy$\\x92\\xb1\\x8e]\\xd5\\xf5\\x06\\x81\\xe0\\xa4\\xf0\\xe7\\x85\\xa3\\xb0\\x91\\xc2\\x85\\x8bn\\xda\\xf4a\\x05\\xed4\\xd4\\xf2qM<2\\x85{&\\xde\\xc8\\xf3\\x9f\\x8c\\xdf\\xb4\\xfe\\x8f\\xe1\\x8dU\\xad\\xef.>Um\\xadX>\\x07\\xfd\\xa4\\xf4_\\x1ak\\xb1\\xe9zzn4\\xff\\x00\\x89\\x1f\\xb3\\xb6\\x83\\xe3\\x8dVK\\x8b\\xd9>Z\\xd5\\xf8\\x13\\xfb*\\xe8>\\x17\\xd7\\x7f\\xb5-\\xe3\\xf3\\x1f\\xf8Z\\x89\\xc6\\x8dZ\\x96\\xbe\\xa6\\xb0Q\\xc3R\\xbb\\xb2\\x82\\xfb\\xcfZ\\xd4>$\\'\\x85|+\\xbd\\x8e\\xd1\\xb7\\xe6\\xaf\\x9c\\xbc\\x7f\\xfbb\\xf8v\\xc7\\xc42i\\xd2H\\x9b\\xd5\\xeb\\xe8\\x9f\\x8a_\\x0c\\xff\\x00\\xb54&\\xd3\\xa0?z,W\\xcf\\xb7?\\xb0&\\x95\\xac_\\xc9\\xaaj\\x11y\\xaf7\\xcd\\xbb\\x9a\\xe8\\xa9\\x1aq\\xa4\\xa2\\xde\\xa7\\x9f\\x84\\xa9\\x87\\x8a\\xf6\\xb4\\\\Sovv?\\x01\\xbe1Y\\xf8\\xfa\\xe0K\\x0c\\x19\\x1b\\xab\\xb0\\xf8\\xd5\\xf1a<!\\xa34\\xa9\\x1e\\xd0\\x11\\x9bm3\\xe0w\\xec\\xc9\\x17\\xc3\\x88|\\xb8m\\xf6\\x8e\\xedZ\\x9f\\x15~\\x11\\xda\\xf8\\xae\\xd7\\xec\\x12\\xec`~]\\xb5\\x8d(\\xf2\\xc6\\xf6\\xb1\\xa5lV\\n\\xae27\\x92rK\\xe5s\\xe6\\xd4\\xfd\\xb5l<\\xe6\\xb7\\x96\\xdfw\\xcd\\xb7v\\xca\\xf7o\\x81?\\x12\\xa4\\xf1\\x0e\\x92<@\\xf0`2\\xfc\\xb5\\xc7\\xc3\\xfb\\x12\\xf8m\\xe6Y#\\xb6\\x89\\xb0\\xfb\\x9b\\xe4\\xafh\\xf0g\\xc1\\x9bo\\n\\xf8el#T\\x8d\\x16/\\x95\\x16\\xa6\\x95:n\\xad\\xd1X\\xacn\\x19Pq\\xab(\\xbb\\xe9dx\\xff\\x00\\xed\\x03\\xfbKi\\xbe\\x0cI$\\xd4?\\x87\\xf8k\\xcc\\xfc\\x13\\xfb_\\xe8> \\xf1\\x05\\xbe\\x95\\x07\\xfc\\xb6o\\x95vW\\xa7\\xfcX\\xfd\\x974\\xff\\x00\\x88\\x9a\\xab\\r@\\xa6\\xcd\\xdfu\\xab3\\xe1\\xef\\xec\\'\\xe1\\xbf\\x0fk\\xd0\\xea\\x96\\xd6q;E\\xf7Z\\xae\\xb5:R\\x95\\xdb5\\xa3\\x89\\x86\\x1e)E\\xc5@\\xf5\\xc7\\xf1\\xeb\\xdax8]\\xc4v\\xfe\\xebv\\xea\\xf9\\xf3\\xc6\\x7f\\xb6.\\x99\\xe1\\xed~M2\\xf1\\xd1\\x9dZ\\xbe\\x93\\xd5>\\x1b \\xf0\\xf9\\xd3\\xe4\\xf9s\\x1e6\\xd7\\x85x\\xaf\\xf6\\'\\xf0\\xf7\\x885Y\\xb5[\\x9btg\\x92\\x93\\x82t\\xad#\\x1c5|-\\xe5*\\r]\\xbe\\xa4\\x9f\\x02?i\\x84\\xf8\\x89\\xe2co\\xa6\\xc7\\x85\\x8b\\xef5w\\x7f\\x1b~:\\x9f\\n\\xe8R\\xde^\\xc9\\xf2\"}\\xda\\xa9\\xf0?\\xf6^\\xb1\\xf0\\x03H4\\xebeVo\\xbd%G\\xf1\\xfb\\xe0l\\xde3\\xd3d\\xd2\\xbe\\xf6\\xff\\x00\\xbdU\\x87\\xa5\\x18\\xad^\\x85\\xd4\\xa9\\x85\\xab\\x88W\\xe5u\\x12>xO\\xdb\\x9f\\xc3\\x13_\\xb5\\xbc\\xb2\\xa7\\xdf\\xf6\\xaf\\xa5~\\x0b\\xfcE\\xb4\\xf1G\\x85b\\xf1\\x06\\x9d\\xb3c\\xa6U\\xab\\xe6\\xf4\\xff\\x00\\x82{\\xd8\\x1b\\xc5\\x92KM\\xc7~\\xee+\\xe9\\xbf\\x84\\x1f\\x08\\x87\\x81<\\x1d\\x16\\x87\\x1d\\xb6\\xd4\\x8dv\\xadMJtc$\\xe2\\\\\\xab\\xd4xy,M\\xad\\xd0\\xf2?\\xdaC\\xf6\\x98\\x7f\\x877\\xf8\\xb8\\xf9\\xbeoJ\\xe2>\\x1b\\xfe\\xd8\\xd6^0\\xf1U\\xae\\x85on\\xad,\\xd2\\xed\\xafP\\xf8\\xdb\\xfb3\\xd9|G\\xbfY/`FE\\xfe\\x1a\\xe7>\\x13\\xfe\\xc5\\x1a_\\x83|_\\x0f\\x88c\\xd3\\x93\\xe4o\\xdd\\x8a\\x99S\\xc3\\xca>\\xf6\\xe6\\xb4\\xebV\\x84\\xa3\\xca\\xd2\\x81\\xec\\xbe$\\xf8\\x844\\xaf\\x0f\\x0b\\x8b\\xa4\\xda\\x8b\\x0e\\xe6\\xff\\x00\\xbek\\xe6\\xcf\\x10\\xfe\\xd7\\xbe\\t\\xb6\\xd6.-.:\\xa4\\xbbZ\\xbe\\x91\\xf8\\x9d\\xf0\\xb7P\\xd4|56\\x9e\\xa9\\xb4\\xf9[~Z\\xf9\\x07[\\xfd\\x83\\xf5\\x8b\\xfdV\\xe2\\xf3\\xcb\\x9f\\xf7\\xd2\\xb3UrSP\\xd7C%_\\x96\\x0eXT\\x9d\\xd9\\xf4o\\xec\\xdd\\xf1\\x87\\xc3\\xfe;\\xb7\\xfe\\xd1\\xd0\\xbeo+\\xab-h\\xfe\\xd1?\\x1a\\x7f\\xe1\\x12\\xd2d\\xbd\\xd4\\x1fr\\x01\\\\\\xc7\\xec\\x9d\\xfb<j_\\t\\xed\\xa6\\xb3\\x929~\\x7f\\xe1z\\xe9\\xfe=\\xfc\\x16\\x9b\\xc7\\xf6\\r\\xa5Io\\xbb\\xcc]\\xbb{W<i\\xc7\\xe5\\xdc\\xd5\\xca\\x93\\xc4Fr\\xb7:G\\x87\\xe8\\x9f\\xb6\\x07\\x81\\xaf\\xeec\\x8f\\xccM\\xcc\\xcb\\xb6\\xbe\\x93\\xd0>!\\xd9\\xcd\\xe0\\xe8\\xafc\\x93\\xf7sE\\xba\\xbea\\xd2\\xff\\x00\\xe0\\x9eV\\xb6\\xde!\\x87T(\\xdbRUfU\\xe9_LG\\xf0\\x8ek\\x0f\\x07\\xc3\\xa4[\\xc6\\xd1\\xa4qmV\\xa9\\xf6IK\\x99=AU\\x8dJ|\\xb8\\x9b-t\\xd4\\xf1o\\x1c\\xfcz\\xf0\\x06\\x8f\\xe2K\\x8b=F\\xf2%o\\xe2^\\xf5\\xdf|\\x08\\xf8\\xa1\\xe1?\\x10L\\x97\\xfe\\x1et\\xde\\x8d\\xfc5\\xe0?\\x13\\xbf`\\xcdc\\xc6\\xde2\\xba\\xd5?\\xb6g\\x8f{neI\\rzO\\xec\\xb9\\xfb&\\xeb\\xbf\\t5&\\xb8\\x97\\\\\\x96\\xe27\\xff\\x00\\x96n\\xf5U\\xa1\\x1f\\x98\\x96&\\xac\\xa7(T\\x8d\\xa1k_\\xc8\\xf5\\xcf\\x8e\\xff\\x00\\x18\\xe1\\xb5\\xd2ZMS\\xfdR\\xa7\\xe1^-g\\xf1\\xb3\\xe1\\xbd\\xf9Y$\\xbc\\x8bxj\\xf4\\xef\\x8f\\xbf\\x075\\xaf\\x17\\xf8zm>\\xd3p/\\x16\\xdd\\xab\\xd6\\xbeU\\x87\\xf6\\x0c\\xf8\\x8b\\r\\xda\\xdcE\\xaa]*\\xf9\\xbfw{P\\xe9A\\xd2\\xdfRi\\xd4Xz1\\x8e\\x1a\\t\\xc4\\xfb/\\xc0\\xde\"\\xd1u/\\n\\xc7yi*\\xc9\\x1c\\xa9\\xf25yW\\xc4\\xeb\\xaf\\x04\\xc3\\xe2\\xa9?\\xb4/ \\xde\\xff\\x00\\xc2\\xd8\\xae\\xe7\\xe1g\\xc3\\x1dk\\xc3\\x1e\\x00\\x87C\\x90\\xcb#\\xa4[wW\\x80\\xfe\\xd2\\x1f\\xb2\\xef\\xc4\\xbf\\x1c\\xf8\\xab\\xfbS\\xc3\\xfa\\xc4\\xb6\\xfb\\x7f\\x85zQN\\x1c\\xb0\\xd1\\x9d\\x0et\\xe3\\xcd$\\xae\\xde\\xe8\\xf5/\\x84\\xd0\\xf8W\\xfbun4\\xbb\\xc8\\x1aO\\xf6q\\x9a\\xf5\\x7f\\x88?\\xd83h\\x066\\x919\\x8b\\xf7\\x8c\\xd5\\xf2\\xd7\\xec\\xf1\\xfb0|]\\xf07\\x8bm\\xf5\\x8ds\\xc5\\x12\\xdcB\\xbf,\\x91\\xbd}#\\xe3\\xaf\\x87\\x9a\\xce\\xb9\\xe1\\xc9l\\xa0\\xb8h\\xdaH\\xb6\\xf9\\x95\\x8ca%=\\xc9u)T\\x94\\'/u\\xae\\x87\\x99\\\\\\xe8?\\x0f\\xdf\\xf7~]\\xaf\\xf7\\xbbW\\xa1|;M\\x12M }\\x9eE\\xf2\\xd1~VZ\\xf9\\xde\\xff\\x00\\xf66\\xf8\\xb5w\\xaa\\xcd%\\xbf\\xc4K\\xc8\\xe1w\\xdc\\xab\\xc7\\xf8W\\xbc\\xfc\\x05\\xf8)\\xe2\\x8f\\x07\\xf8]4=KX\\x96\\xf6T_\\x9ag\\xeb\\\\\\xf3\\xa59\\xcb\\xdewGE\\\\E%I\\xa7\\xee\\xae\\xe6\\x1f\\xc4\\xef\\xb1\\xc3\\xa9y\\x97\\x17\\n\\xb1\\x9f\\xe1j\\xe7<1\\xa0\\xe87\\x9a\\xe4w\\x11\\xbcL\\xfb\\xff\\x00w]o\\xc5\\xef\\x807\\xfe\\'\\xbf\\x8c\\xc9\\xacKn\\xbf\\xc3\\xb2\\xa9|:\\xfd\\x9e\\xad|)|\\xb7\\xb7:\\xc4\\xd2\\xba\\xbe\\xe5\\xf9\\xf3SS\\x0fU\\xfd\\xad\\x0e\\x88c \\x94\\\\uV\\xdc\\xec\\xf5\\x1b;K=\\x14\\xbaH\\xaa|\\xbf\\x98\\xd7\\x97\\xea~\\'\\xf047Mo\\xaaj\\x16\\xeb\\xb5\\xfef|W\\xaf\\xf8\\xbf\\xc1\\xf7\\x17:\\x0bCi&\\x03\\xc4\\xca\\xc6\\xbe\\x10\\xf8\\xf1\\xfb*|Q\\xf1W\\x8d\\xee\\xaf4?\\x1ej6\\xb6\\xcf\\xbb\\xfd\\x1e-\\x81?\\x96\\x7fZj\\x85NT\\x93\\xb5\\x8d0u\\xa9U\\xa6\\xf5\\xbe\\xa7\\xd8\\xff\\x00\\x07|g\\xe1+\\xf4\\x914}B)\\x966\\xfb\\xaaA\\xac\\xff\\x00\\x8f\\x1e3\\xd0<=a\\xfd\\xb1\\xaa^\\xf9q\\x7f\\x12\\xb5x\\xe7\\xec3\\xf0#\\xc5?\\n\\xadn \\xf1\\x0f\\x88o/\\x9eI~V\\xba\\x93&\\xbd/\\xf6\\x98\\xf8\\'7\\xc4\\xcf\\x08\\xb6\\x87\\'\\x9a\\xbejmf\\x8aL\\x1a\\xd7\\xd95\\x1bs\\\\\\x1ciG\\x14\\xa6\\xde\\xac\\xf3\\x8f\\x0c\\xfe\\xd5\\x1f\\n\\x13X\\x8e\\xda\\xdfT\\x89\\x9d\\xa5\\xda\\xbd+\\xe9\\x1d\\'\\xe28\\xd5\\xbc\\x1e\\xaf\\xa5\\xc9\\xe6F\\xf1|\\xb5\\xf2O\\x83?\\xe0\\x98\\xbe\\x0e\\xb3X\\xf5\\t\\xf5\\tV\\xe1_z\\xf9\\xb3\\xb9\\xf9\\xab\\xea\\xdf\\x85\\xbf\\n&\\xf0\\xdf\\x86`\\xd0\\x8d\\xc7\\x99\\xe4\\xae\\x15\\xab5F1\\xa9\\xee\\xb3\\x8a\\xbdZS\\xd6\\xb2\\xb2G\\xca\\xbf\\x1e\\xff\\x00j\\x8d[\\xe1\\xa7\\x8c$\\xd3\\xef4;\\x86G\\x7f\\xdd\\xb4P;\\xff\\x00 jO\\xd9\\xb7\\xf6\\xb3\\xd7\\xbc{\\xe3\\x9f\\xec\\xb3\\xa3\\xdd[\\xc4\\xe9\\xf2\\xb4\\xb0\\x15\\xff\\x00\\xd0\\xab\\xdc\\xbe+\\xfe\\xcf\\x9a?\\x8au\\xa5\\xb8\\xd44\\xf8\\x1b\\x1f\\xdfJ\\x8f\\xc1?\\x00\\xb4\\x1f\\x0c_\\xc7\\xa8Y\\xe9\\xf1+\\xaf\\xcb\\xf2%k%\\x87\\xe5\\xbd\\xb5*\\xf5g%5%\\xca\\xca\\xdf\\x1e/\\xfc[y\\xe0;\\xab\\x8d\\nF\\xf3\\xbc\\xa6h\\xeb\\xe1-K\\xc5\\xbf\\xb4\\xe5\\xce\\xa54q\\xd9\\xcb\\x84fU\\xfd\\xe3W\\xea>\\xa7\\xe0m6\\xfbB6\\xf2\\xc4\\x8d\\xb9~j\\xf2\\xedK\\xe0V\\x83\\x03\\xc8c\\xb7O\\xbf\\xfd\\xca\\xaa2\\xa3F6\\x92\\xb9\\x85V\\xb1\\xb1\\xb5\\x19\\xf2\\xb4s\\xdf\\xb0w\\x8b\\xbco\\xe2O\\x04\\x0b\\x0f\\x1b\\xd9\\xb471\\x1d\\xac\\xaf\\xcdM\\xfbo~\\xcf\\xcb\\xf1/\\xc3\\r\\x1anW\\xfe\\xf2pk\\xd0>\\x18\\xf8cM\\xf0\\x9d\\xef\\xfa\\x18\\xda\\x19\\xfee\\xae\\xcf\\xe240\\xea\\xfaO\\x95\\xe5\\xff\\x00\\x0f\\xcd\\\\\\xfc\\xb1\\xe7\\xe6\\x8a\\xeaT\\xa5:\\x18\\xb8E\\xbd\\x1a\\xb3g\\xe7W\\x81\\xbfb\\x1b\\x9d\\x1f\\xc5V:\\xec\\x97\\x97[\\xe0\\xb8W\\xdd\\xe7\\x9c~U\\xf7G\\x82|\\'\\xf6\\x9f\\x0bEe$\\x9b\\x82[\\xedm\\xf5\\xca\\xdf\\xd9\\xdeX$\\x92[\\xa2\\xb0Z\\xe9>\\x1dj\\xba\\xdc\\xda[\\x89#\\xdb\\x8f\\x96\\x8a\\xb5*bd\\xb9\\xa3\\xa27\\x86\\x16\\x18ZMQz\\xf9\\x9f7|i\\xfd\\x8e|%\\xe2\\x1f\\x1eM\\xae\\\\i\\xe8\\xce\\xed\\xbb\\xe6\\xae\\xc7\\xf6w\\xf8C\\xa3\\xfc)\\xd7\\xe2\\xbf\\xd1\\xe3\\x8a\\x1e6\\xb2\\xaf\\x15\\xd8\\xfc{\\x87\\xc6\\xc9l\\xb7\\x9e\\x1b\\xd3\\xfc\\xe9+\\xc84\\xadK\\xe3\\x92jQ\\xc9&\\x8f\\xe5\\xa2\\xba\\xf9\\x8b\\xcdk7\\x88\\x95/f\\xb6\\x13\\x8e\\x1e\\x9dURKV}\\xb5\\xadx\\x86\\xc3W\\xf0[Z\\xbc\\xd9c\\x16\\xdd\\xb5\\xf3\\x17\\x8bt\\xdf\\x03Y\\xebsG\\xa8Gn\\xaf\\xe6\\xfbW\\xabx\\x0eM{Z\\xf0\\xcccP\\x8d\\xd6V\\\\2\\xd7\\xcf\\xbf\\xb4\\xff\\x00\\xec\\xd3\\xf1/\\xc5Z\\xdf\\xf6\\xa7\\x84\\xf5\\xc7\\xb5\\xdc\\xfb\\xab\\x08SjVZ\\x19a\\xa8\\xd1\\xc1\\xd2\\x9cc\\xad\\xdd\\xecz\\x87\\xc2\\xff\\x00\\x1d\\xf8WO\\xbc\\xfe\\xcf\\xb3\\xb9\\x8b9\\xf9Tb\\xba\\x0f\\x89\\xda\\xde\\x8f7\\x87\\xa4\\xd4.#F\\xf2\\x93vk\\xe5\\x0f\\x85\\xbf\\xb3\\x7f\\xed\\x15\\xa0\\xf8\\xda\\xd7P\\xd4<A\\xe7B\\x8f\\xfb\\xc5\\xe9_M\\xdc\\xfc7\\xd7\\xb5_\\r\\xc9\\xa7j\\x12|\\xcf\\x16\\xdf\\xfcv\\xa9\\xd1\\x94%w+\\x9b\\xe1\\xeb\\xc6\\xb4\\xb9\\xa5\\x1b5\\xf2<\\x07[\\xfd\\xaf|\\x01\\xe1[\\xc9,\\xee.\\x15J6\\xd6\\xafc\\xfd\\x9f\\x7fi\\xbd\\x07\\xe2\\x1d\\x92\\xc7\\xa3j\\n\\xc7\\x1f\\xdf\\xaf\\x99~(\\xff\\x00\\xc1<|C\\xe2/\\x15\\\\j6w\\x8e\\xa9#}\\xda\\xf4o\\xd9\\x8f\\xf6E\\xf1\\'\\xc1\\xfdb;\\x895\\x06\\x92&\\xfb\\xca\\xf5\\xd1<6\\x1d\\xc3\\x99;3\\x99\\xd5\\xc5\\xbcC\\x83\\x85\\xe0\\xcfX\\xfd\\xa75\\x8f\\x13\\xd9\\xf8VM_C\\x91\\xfc\\xc4Vo\\x96\\xbe\\x1e\\xd6?kO\\x8bP\\xdf\\xc9\\xa5\\xc7\\xa7\\xce\\xcf\\x1b\\xed\\xda\\xb9\\xaf\\xd2\\x8d_\\xc0\\xc9\\xaexu\\xad/#VV\\x8bk-xV\\xa5\\xfb\\'\\xf8c\\xfbRK\\xc9,\"\\xdc\\xf2\\xee\\xfb\\x95\\x96\\x1d\\xd2\\x85\\xfd\\xb2\\xbd\\xce\\x9a\\xfc\\xf5\\xe9%BVq3\\xff\\x00g/\\x8a\\xfe*\\xf1\\xcf\\x85m\\xee5Kyc\\x93n\\xd9\\x15\\xab\\x85\\xfd\\xb1\\xbe\\x1e\\xf8\\xff\\x00[\\x87\\xfbC\\xc3rJ\\xac\\x7f\\xbb_E\\xfc5\\xf8i\\xa2x?l\\x11\\xc6\\xaa\\xb5\\xd5x\\xab\\xc2\\x1a>\\xb7\\xa6\\xb4r[\\xa1\\xfe\\xebU)\\xd1Uo\\x15\\xa1J5\\x15%N\\xa3\\xd5\\x9f\\x99\\x9e\\t\\xf83\\xf1\\x82\\x1f\\x10\\xc3\\xaaI\\xaa\\\\+\\xa4\\xaa\\xcd\\x1f\\x98q_||\\x10\\xd2\\xb5\\x8b\\xcf\\tCo\\xaa\\xc8\\xcc\\xfeW\\xcdY\\x97\\x9e\\x0c\\xb3\\xd2\\xaf\\x1b\\xec\\xfa|[\\x91\\xbf\\xb9]O\\x815\\x1b\\x9by~\\xc5\\xe5\\xa2\\xe7\\xee\\xad<N+\\xda\\xfb\\xae$\\xe10\\x8f\\x0c\\xdc\\xb9\\xb5g\\x98|r\\xfd\\x984O\\x18j\\xab\\xa8\\\\Y+\\x13\\xf7\\x9bes~\\x03\\xfd\\x98<7\\xe0\\xcdn=V\\xde4W\\xfe*\\xfaK\\xc6\\xd67\\xf7\\x9aT\\x92[\\xdb|\\xfb>Z\\xf9\\xfb\\xc4\\xfa\\x97\\xc4\\xeb;\\xf9-\\xed4\\xb6\\xda\\xad\\xb5Z\\xb3\\x8d|La\\xc9\\x1d\\x8a\\xab\\x0c>\\x95d\\xb5g\\xb7i\\x1e\\x13\\xd1o\\xb4E\\xb3\\x90+e6\\x9a\\xf2\\x7f\\x88_\\x04<\\x13\\xa5j\\xb2^\\xdeY\\xc5\\xf36\\xed\\xde]\\\\\\xf8W\\xe2\\x7f\\x1f\\xcc\\xff\\x00c\\xd6\"es\\xf7k_\\xe3\\x17\\x81\\xbc_\\xe2\\xbd\\x05\\x86\\x9d#,\\xbb>V\\xa9\\xa4\\xebFWz\\\\\\xd2\\xf4j\\xc1\\xe9\\xa29\\xcf\\x04\\xea^\\x06\\xf0\\xad\\xe4\\x7fc\\x92(\\xca\\xb7\\xb5{F\\x95\\xe2\\xdd\\x0f\\xc4:_\\x97o*\\xb7\\xc9\\xf7V\\xbe\\x1a\\xd6\\xff\\x00g\\xbf\\xda\\x05\\xf5V\\x93O\\xd6\\x1bf\\xfa\\xf7\\x9f\\xd9\\xcf\\xc1?\\x15\\xf48c\\xb3\\xf1E\\xc2H\\xbf\\xc5ZU\\xa3(\\xa4\\xf9\\x8eZX\\x8ej\\xbe\\xcf\\x92\\xc8\\xb5\\xf1\\x9b\\xc7\\x96\\x7f\\x0fnd\\xb8\\xbc\\xb6\\xf9w\\xb3+W\\x9aY\\xfe\\xdaZ\\r\\x85\\xe4q\\xc7q\\xf2\\x97\\xdb_@\\xfc`\\xf8!m\\xe3\\xcd\\x11\\xad\\xef-\\xf73%|\\xf1\\xff\\x00\\x0c7a\\r\\xfby\\x96i\\x8d\\xfb\\x96\\x95(Pq\\xb5Gc\\xa3\\x13*\\xd7N\\x8e\\xab\\xa9\\xee>\\x15\\xf8\\xb9k\\xe3\\xbd\\x07\\xcd\\xb6}\\xc2U\\xf9k\\xe7\\xbf\\xda7\\xc7~9\\xf0\\xad\\xfc\\x92h\\xd6o\"+\\x7f\\x04u\\xf4\\x07\\xc2/\\x83\\xf0\\xf8F\\xce=<}\\xc4\\xad\\xaf\\x1f|\\x14\\xd0<Ch\\xc2[e\\x91\\xbf\\xdbJp\\x95\\x1aS\\xf7uEZ\\xb5Z\\\\\\xad\\xea|m\\xf0s\\xf6\\x87\\xf8\\x9c\\xfe!\\x8e\\xce\\xff\\x00K\\x95bg\\xfb\\xdd\\xab\\xeb\\x9d\\x11/\\xfcs\\xe1\\x85\\x8e\\xf2>^/\\xe3\\xae1>\\x04\\xf8\\x7fA\\xbd\\xf3#\\xb3U*\\xf5\\xea\\x1f\\x0f\\xbe\\xc1\\xa6\\xc6\\xb6BN\\x156\\xd6\\xb5\\xe7B_\\x02\\xb1\\x8e\\x16\\x86\"\\x8b\\xfd\\xe3\\xd0\\xf9K\\xe3\\xb7\\xec\\xd9\\xe2yu\\x86\\x93O\\xb8\\x95Q\\x9d\\xb6\\xec\\xcd;\\xe0o\\xc1\\xcf\\x14xWX\\x8eK\\x8b\\xd9\\xd9\\x0f\\xdeWs_ax\\xb3\\xc2\\xf6\\xda\\xd4\\x1b\\xe2\\x89\\x18\\x8f\\xe2\\xaf=\\xbc\\xf0\\xc5\\xe6\\x95x\\xd2G\\xb1T}\\xda\\x85\\x89\\xa8\\xa3e\\x14\\xcb\\xa9\\x83\\xa5R^\\xd2\\xf6G\\xaa\\xfc\\x0c\\xf8\\x99\\x0f\\x8d\"\\x8bQ\\x8f\\xee1\\xce\\xea\\xd1\\xf8\\xf5\\xf1\\x8f\\xfe\\x10\\xfd)\\xa4\\x8d\\xfa\\'J\\x93\\xe0\\x97\\xc1h|\\x0b\\xa1%\\xb4Q\\xed\\n\\xbc\\xee\\xaa_\\x16\\xbe\\x15\\xd8x\\xcfu\\xa5\\xc4\\xeb\\x96\\xafR\\x92\\x84\\x16\\xbb\\x1eD\\xde\\x1e\\xbe1;\\xaed\\xbeW<\\x02\\x0f\\xdb\\x1ak\\x9dIm\\xed\\xe2i3.\\xda\\xfa#\\xe0\\xc7\\xc4\\x1dKU\\xd1\\xd3X\\xf2\\x9a2\\xff\\x00v\\xbc\\xbbB\\xfd\\x90\\xfc1m\\xadC,v\\xca\\xdb[\\xd2\\xbe\\x8e\\xf07\\xc2{_\\x0f\\xe8\\xf0\\xc2\\xb1*\\xa2}\\xd4\\xf4\\xa5J\\x10\\x95M\\x03\\x17\\x8a\\x85\\n\\rbZw\\xd9\"k\\xbf\\x11\\\\K\\xa5\\xb5\\xed\\xdc\\xdd9j\\xf1\\xeb\\xcf\\xdbk\\xc2V^*\\x1e\\x13\\xb2\\xb7\\x95\\xae\\x16_-\\x9b\\xb5z\\xb7\\xc4Ko+J\\x9e\\x0bI6\\xefM\\xb5\\xe0\\xbe\\x19\\xfd\\x9a\\xf49|_\\xff\\x00\\t\\x0c\\x96\\xe9$\\xaf.\\xf6j\\x9a\\xed{M\\xce<\\x16\\x1a\\x95j^\\xd3\\x95r\\xf9\\x9fBZ|^\\x8ao\\x0b\\x0b\\xe6\\xb7eb\\x9b\\xab\\xc1\\xbe*~\\xdb\\xfa\\x17\\x845\\xd6\\xd3\\xa5\\xb4\\x95\\x9cp\\xd5\\xeb\\xba\\x9f\\x86m\\xb4\\xed\\x11m\\x1d\\xd5T/\\xdd\\xaf\"\\xf1?\\xec\\xf9\\xe0\\x8f\\x10\\xdf\\xc9\\xaa]\\xdbE$\\x92\\x7f\\x7f\\x15\\\\\\xd0\\xe5\\xb4\\x99x\\\\\\x0e\\x13\\x9eS\\xa0\\x96\\xaf\\xa8\\xbf\\n\\x7fl\\xe8\\xbe kk\\xa5\\xe9\\xbal\\xa3\\xe6_\\x9a\\xbd\\x8f\\xc6\\xbf\\x1b\\x17A\\xf0\\xd7\\xda&\\x8fhX\\xbej\\xe0>\\x0e\\xfc\\x03\\xf0\\xc7\\x87\\xb5/\\xb5\\xe9\\xf61\\xab\\xff\\x00{\\x02\\xba\\xaf\\x8a~\\x06\\xb0\\xbf\\xd2d\\xd3\\xa5\\x93\\xef.\\xd5\\xa7B0\\x86\\xb7\\xd0x\\x8a\\x18\\x19\\xd7\\x8d*\\x91NK\\xb1\\xe0\\x1e\\'\\xff\\x00\\x82\\x85\\xe8\\x9a>\\xb1&\\x9f%\\xbb\\xb3\\x86m\\xbbk\\xd0\\xff\\x00gO\\xda\\xa5\\xfe)\\xdc<\\xd60:\\x04o\\x9a\\xbc\\xd7S\\xfd\\x8f\\xbc\\x1b\\xa9j\\rw{a\\x13L\\xef\\xbbuz\\xb7\\xc0\\x9f\\x80\\xdaG\\xc3\\xe8d\\x1aM\\xba\\xc6\\x1f\\xef5g5FU.\\x9e\\xa7L\\xb0\\xee\\x10\\x93\\xae\\xa3\\xc9ck\\xe3O\\xed\\x07/\\x81\\xf4\\xd95\\x07\\xb7\\xf36/\\xdd\\xaf\\x10O\\xf8(\\xbd\\x81\\xb9[x\\xf4\\x89Y\\xf7m\\xda+\\xd9>*|5\\xd2|_\\x03iw\\x12/?z\\xbc\\xc2\\xdb\\xf6F\\xf05\\xb5\\xe4r\\xc7g\\x16\\xf0\\xfb\\x99\\xa9\\xc9\\xd2\\xfbOQS\\xc2\\xc5\\xc1{$\\x92\\xf3Z\\x9e\\xdb\\xf0\\x83\\xe3\\x9c\\xde)\\xf0\\xb2k\\xadd\\xd1\\x89\\x17v\\xd7\\xae\\x03\\xe3\\x97\\xed\\x8d\\xa0\\xfc?\\x9dm\\xf5Kwb\\xcd\\xf32W\\xa4xG\\xe1\\xed\\x8e\\x85\\xe1x\\xed\\xe0\\x0b\\x1ci\\x17\\xca\\xb9\\xaf\\x13\\xf8\\xd9\\xf0;C\\xf1\\x9e\\xb6\\xdfl\\xb7Y\\x12\\xb4\\x8a\\x87\\xb3\\xbc\\x9e\\x861\\xa1\\x86\\x9dyN\\x84S\\x92\\xfb\\x8a^\\x13\\xfd\\xbe<\\x0b\\xe2]n\\xdfG\\xb4\\xde\\xb2\\xcc\\xfbV\\xbe\\x86o\\x89j\\xbe\\x1bK\\xe2\\x9f)\\x8bu|\\xb3\\xf0\\xff\\x00\\xf6D\\xf0\\xa6\\x91\\xe2\\x98u\\x8bM1\\x17\\xca}\\xcb_I]xn\\xdd|>\\x96\\x97\\x07\\nb\\xda\\xabX\\xe8\\xe7\\xeeH\\xd6\\xa6\\x1e.1\\xfa\\xccU\\xef\\xa5\\x8f#\\xf1\\x9f\\xed\\xa9\\xe0\\xff\\x00\\x0bx\\x92M\\x1e\\xe1\\x1d\\x99~\\xf5u\\xbf\\x06?ko\\n\\xfcE\\xd5M\\x9e\\x91\\x0b9N\\xb9\\xaf<\\xf1\\xa7\\xec\\xa5\\xa0\\xf8\\x9f[\\x9bT\\x96M\\xcf/\\xdd\\xae\\xaf\\xf6~\\xfd\\x9dt\\xaf\\x87\\xf7\\xb3=\\x94i\\xe69\\xce\\xeaV\\xa7)]L\\xd2\\xa6\\x1b\\xdd~\\xd5G\\x92\\xdf3\\xd3\\xfe%|v\\xf0\\xcf\\x86\\xf4\\x99\\xafuo\\xdd\\xa2\\'\\xcd^5?\\xed\\xc1\\xf0|\\xbbE\\x1e\\xaa\\x9f+WC\\xfbC|2\\x7f\\x11h\\x13XF\\xfb\\xbc\\xd4\\xda\\xdbk\\xe5\\xdf\\xf8b\\xdb4\\x99\\xbfv\\xf2\\x17o\\x99w\\xd6\\x8e\\x9cg\\x1b\\xb9Y\\x9c\\xf0\\xc3\\xfb\\x08/\\xabB\\xe9\\x9fn\\xfc(\\xf8\\xbf\\xe1\\xcf\\x19h?\\xdb\\x1a<\\xab$\\'\\xee\\xb5`|T\\xfd\\xa2|+\\xe0\\xa9\\x96McQX\\xc7\\xdd]\\xd5\\x97\\xfb=\\xfc8\\x87\\xc1>\\n\\x8fA\\xb7\\x8d\\x97j\\xff\\x00\\x1dr\\x7f\\x1e>\\x02Y|F\\x95\\xad\\xef>`\\xaf\\xba\\xb9\\xda|\\xb6\\xb9\\xb2\\xc2R\\xf6\\xd2\\x94c\\xef\\xf644\\x8f\\xdbs\\xe1\\xce\\xa1\\xaa\\xc3\\xa4Y\\xde+I#mZ\\xf5\\x9dS\\xe2\\xd5\\x8a\\xe8)w0\\xf9\\x0c[\\x96\\xbeX\\xf07\\xec]\\xa0h\\xde-\\xb5\\xd7\\n\\x7f\\xaao\\x95\\x9f\\xad}\\x05\\xe2\\x9f\\x87r]xam\\x13\\xe5\\x0b\\x06\\xd5\\xa2\\x94\"\\xa5e+\\x87\\xd5\\xa95\\x17^);\\xe8y\\xb6\\xb9\\xfbdx\\x0fH\\xd6\\xee,\\xef%]\\xd17\\xcc\\xd5\\xe8\\x7f\\x07>?\\xf8g\\xc7\\xf1\\xb5\\xce\\x8d\\xb5\\xc2W\\xc8\\x7f\\x11?c\\x9do^\\xf1%\\xe6\\xabo\\xa8\\xcb\\x0e\\xf9w6\\xc99z\\xf6?\\xd9\\'\\xe0\\xfe\\xab\\xf0\\xf69#\\xd4\\x0c\\xac\\x1b\\xee\\xd5\\xce\\x8ca+\\xf3\\\\\\xa4\\xaaV\\x9c\\xa9\\xce\\x9a\\xe4\\xee{O\\xc5_\\x8e\\x9e\\x1b\\xf0U\\x97\\xf6\\x9e\\xba\\xed\\x1cK\\xf7\\x9a\\xb8+/\\xdbG\\xe1\\r\\xc3(\\xb7\\xd7\"bj_\\xda\\x03\\xe17\\xfc,\\r\\x02m.\\xf2\\xdfp\\x956\\xedz\\xf0\\x0b?\\xd8WI\\xb3\\x929~\\xcf.\\xfd\\xdf\\xbc\\xdb!\\x1f\\xc5YN\\nQ\\xbb\\x9d\\x8bT!N\\x11\\x8d(]z\\x9fjxG\\xe2\\xce\\x8f\\xad\\xf8Y5\\x0bH\\xd5\\x91\\xd3*\\xcb^w\\xf1\\x17\\xf6\\x87\\xf0o\\x84\\xb5\\x86\\xb7\\xd4%\\x89Y\\xabS\\xe1\\xa7\\xc3\\xb5\\xd0\\xbc\\x15\\x0e\\x8dd[\\x11E\\xb7u|\\xf9\\xfbL\\xfe\\xcd:\\x97\\x8e|B\\xb7\\x16Z\\xa5\\xc4.\\x8d\\xf3yNE8\\xc1\\xf2r\\xdcP\\xa1\\x87\\xa39J\\x94o.\\xd7=\\x83\\xc1?\\xb4\\xff\\x00\\x80\\xfcC\\xab\\xc7\\xa5\\xd9^D\\xd23|\\xa2\\xbdC\\\\\\xf8\\x91\\x15\\xb6\\x86\\xd3\\xcb\\x17\\xc8\\x89\\x9a\\xf8\\xa7\\xe0\\xff\\x00\\xec\\x97\\xa9x?\\xc6v\\xba\\xe4\\x9a\\xc5\\xd4\\x9eK\\xee\\xda\\xf3\\x9cW\\xd77~\\x13}O\\xc3\"\\xdaI>E\\x8bmG\\xb3\\x94]\\xb9\\xae7J\\x95d\\xa7Z6w<\\xfa\\xff\\x00\\xf6\\xc1\\xf0\\x16\\x95\\x7f%\\x9d\\xe5\\xe4J\\xf1>\\xd6W\\xae\\xbb\\xe1?\\xed%\\xe1\\xff\\x00\\x19\\xcf?\\xf6-\\xe2I\\xb3\\xef*\\xd7\\x83x\\xdb\\xf6K\\xd3|I\\xafM\\xaaOl\\x8b\\xbd\\xf7*\\xa5w\\xff\\x00\\xb3\\xdf\\xc0=3\\xe1\\xd8\\x9a\\xd2\\xce=\\xb2H\\xfb\\x9a\\xa1\\xd3Q\\x95\\xdc\\xce\\x89\\xe1\\xe9\\xc9IN\\x0b\\x94\\xed~,\\xfcr\\xd1\\xfc3m\\xfd\\xa1\\xaa\\\\\"\\xa8o\\xe2\\xaf5\\xb3\\xfd\\xb0<\\x17s~\\xb6\\xc9\\xacD\\xbb\\xdbj\\xfc\\xf5\\xd2~\\xd0\\x1f\\x01?\\xe17\\xd0\\xdbL\\x92\\xd9\\xdb\\x7f\\xdd\\xaf!\\xf0\\xdf\\xfc\\x13\\xbbGK\\x98\\xef5\\x0b\\xc7S\\xbbr\\xaf\\x98k\\n\\xf5(\\xd1\\xf7\\xaaH\\xa8(\\xc21\\xf6)r\\x9fS\\xf8k\\xc7V\\xba\\xd7\\x86V\\xe6\\xdd\\xfc\\xc8\\xa5_\\x95\\xab\\xc4\\xfe+\\xfci\\xf0\\x7f\\x835\\x86\\xb7\\xd5#E\\xda\\xdfz\\xbdk\\xe1\\xdf\\x81#\\xf0\\xf7\\x87\\xe2\\xf0\\xfd\\xbc\\x9b\\x96\\x18\\xb6\\xee\\xaf2\\xf8\\xd3\\xf0\\x0fG\\xf1\\x86\\xa8\\xdfl\\xb7F\\x01\\xb73T\\xb7\\xed)s\\'\\xa1\\xbe\\x0f\\xea\\xf4\\xeb\\xc9Gvs\\x9f\\x0c\\xff\\x00j\\x7f\\x06k\\xbe5\\x87B\\xd2\\xeeW{\\xff\\x00\\rz\\xd7\\x8f>%&\\x9b\\xe1\\xd9\\xb5I-\\xfc\\xcf)2\\xab^C\\xf0\\xeb\\xf6c\\xf0\\xaf\\x84\\xbc[\\x0f\\x88l\\xac\\xd27O\\x95[\\x8c\\xd7\\xbak\\xbf\\x0f\\xac5?\\r\\xb5\\xbc\\xf1\\xfc\\xb2E\\xf2\\xad:\\x10\\x8a|\\xbc\\xda\\x1a\\xe2\\xa7IJ2\\x9a\\xd7\\xa1\\xf3F\\xa3\\xff\\x00\\x05\\x07\\xb5\\xd1\\xee\\x9a\\xcd\\xf4\\xe6c\\x1b\\xed\\xdb^\\xc9\\xfb<~\\xd66\\x9f\\x16m$k+G\\x85\\xd3\\x86W8\\xaf2\\xd6?e\\xcf\\x0c\\x7fj\\xcdqqg\\x13;6\\xe5\\xfb\\xb5\\xdc|\\x15\\xf8o\\xa3\\xf8&\\xf8\\xfd\\x864\\x8c\\xb7\\xdeU\\xad\\xe5\\x1c46\\x96\\xa7\\x13\\xa3\\x88\\xa97\\x1a\\xb1N\\'M\\xf1\\xbf\\xe2\\x95\\xdf\\x86t\\xf6\\xd5-\\xac\\xdaR>fU\\x8f5\\xe2\\xe7\\xf6\\xc8\\xd5$\\xbc\\x8eH<;s\\xb3v\\xd6\\\\(\\xff\\x00\\x81u\\xaf\\xa3<}\\xe1-\\x1fY\\xd1\\xbc\\xbb\\x98\\xd5\\x83%yS\\xfc+\\xf0\\x1c2yr[\\xdb\\xae\\xdf\\xe2\\xe2\\xb3~\\xce?\\x1bh\\xa8FS\\xa4\\xbd\\x83\\xb2]\\x0fB\\xf0O\\xc5;\\xdf\\x15xz\\x1b\\xc8\\xad\\x1dZX\\xb72\\xe6\\xbc\\xc7\\xe3\\x1f\\xc7/\\x1c\\xf83U\\xf2\\xf4\\xbf\\r\\xbd\\xd4m\\xf7\\xab\\xd2\\xfe\\x1d\\xff\\x00a[X\\x9b\\x0b)\\x11\\x96/\\xbb\\xb4\\x8a\\xc4\\xf8\\xb9\\xa6\\xf8a\\n\\xea\\x97\\x92*\\xed\\xfb\\xdb\\xe9)S\\x96\\xebB\\xbd\\x9bW\\x8cto\\xad\\x8f5\\xf8u\\xfbQx\\xb6\\xf7^\\x8e\\xdfT\\xf0\\\\\\xb0\\xc7+}\\xef\\xeeW\\xd0\\xfa\\x7f\\x88\\x7f\\xb7t\\x88\\xee$\\x87!\\xd3\\x9a\\xf9\\xf6\\xcf\\xc4\\xff\\x00\\x0e\\xac/\\xd6\\xe2;\\xcb}\\xc1\\xbf\\xbe+\\xd9|\\r\\xe3]\\x1fR\\xd1V]>\\xe5d\\x1b>P\\x94\\xdb\\xa5\\xcf\\xee\\\\\\x8fg)B\\xf2|\\xcc\\xc3\\xd6\\xaf4\\xd1w5\\xbcq\\xca\\xbb[\\xe6\\xad\\x9f\\x02\\xde\\xdbZ\\x86\\xb7\\xf38o\\xbb\\xba\\xbc\\xef\\xe3g\\xc5\\xad\\x1f\\xc0w-qy\\x1e\\xd5\\xfe\\xf5y\\xa5\\x87\\xed\\xa5\\xe1U\\xd7\\xadm\\x92O\\xbf*\\xa7\\xe7P\\xe5>\\x88\\xe9\\x9f\\xb2N\\xd3{\\x9fW\\xf8\\x89b\\x93O\\xf3p\\xad\\xb3\\xe6\\xae\\'\\xfe\\x12\\x1d\\x12\\x1b\\xc6\\x92H\"V\\xfe%\\xa4\\xb5\\xf8\\x8e5\\xed\\x13\\xed\\x96\\xe3px7-|\\x91\\xf1\\xd7\\xf6\\x96\\xd7\\xbc\\x13\\xe3\\t\\xb4\\xff\\x00\\xb1\\xce\\xaa\\xaf\\xf2\\xfe\\xee\\xb5J\\xb5K\\xdb\\xa1\\x92\\x95<=+\\xbdO\\xba\\xbc\\x1b\\xe3M\\x1agX \\x8a\"\\xbd\\xd5)\\xfe?\\xd64\\xa8\\xe0k\\xc26\\xaaW\\xc2\\x9f\\x01\\xff\\x00j\\xbf\\x15j\\xbe-\\xb7\\xb3\\xbc\\xb7\\xb8X\\xa6\\x7f\\x95\\x99\\x08\\x15\\xf5n\\xba\\xda\\x8f\\x8a|#\\'\\xd9\\xa4\\xe6H\\xbd):ua\\xee\\xcc\\xc3\\x0f\\xf5j\\xf5\\x95h^\\xe4s|g\\xf0}\\x9c\\xdf\\xf1\\xf9\\x12\\xba\\x7f\\xb6+\\xa7\\xf0\\xb7\\xc5_\\x0e\\xeb\\xd6~e\\x8d\\xc4R\\x7fz\\xbe\\x04\\xf8\\x9f\\xf0\\xdf\\xe3\\x95\\x87\\x8c.\\xbf\\xb1\\xef7[;6\\xd5|\\xd7\\xa8~\\xca\\xfa\\x0f\\xc4\\x8d*I,\\xfcIq+no\\x95y\\x14\\xe3\\x84\\xa8\\xa3~b\\xe7^\\x15*\\xf28\\x1fE|U\\xf8\\xb9\\xa0\\xf8&\\x1f\\xed\\x0b\\x9d\\x8a\\xbfy\\x9a\\xbc\\xba\\xe7\\xf6\\xea\\xf0\\x05\\x93,R\\\\D\\xbf7\\xde\\xf3+\\x7f\\xe3_\\xc2;\\x8f\\x1c\\xf82K;\\x84m\\xcd\\x17\\xf0\\xd7\\xcb\\xa9\\xfb\\x13\\xa5\\xcd\\xff\\x00\\x97q%\\xc3&\\xef\\xba\\xd2UG\\x0fJ\\xa4o)X\\xacEJ\\xf4c\\x15J7G\\xdb_\\r\\xfe=\\xe8\\xfe8\\xd1\\xd7P\\xd2\\xa4\\xf3\\x11\\xd7\\xe5\\xdb\\\\g\\xc7/\\x8e\\xb7?\\x0fQ\\xaf?\\xb1\\xe6\\xb8C\\xff\\x00<\\x935\\x93\\xfb6|\"\\xff\\x00\\x85{`\\xba9\\x93t+\\xf7w\\xc9\\x9a\\xf4\\xaf\\x88\\x9f\\x0ct\\x7f\\x10\\xe8\\xec\\x97\\x11+|\\x9fz\\xb0\\xe5\\x84g\\xf1hm\\x05\\xee\\xde\\xd6\\x93<\\x07J\\xfd\\xb6!\\xbf\\xb9\\x868\\xfc?{\\xf3?\\xcd\\xfb\\xba\\xf7\\xff\\x00\\x02\\xfcC\\xb7\\xf1F\\x95\\x1d\\xe0\\x89\\x94<[\\xb6\\xd7\\x95\\xdb|%\\xf05\\x85\\xd7\\xef-\\xe2R\\xbdw\\xe2\\xbd\\x13\\xc0:\\xaf\\x86tt\\xfe\\xcf\\xb5\\x96$\\xfe\\x15]\\xf4\\xa7,<n\\xd5\\xee\\xc2\\x95<C\\xf8\\xdd\\xd1\\x87\\xf1\\x0b\\xc4/\\xa5_\\xb7\\xee\\xdf\\xfd\\x96\\xae{D\\xf1\\xcc\\xc9\\xaa\\xad\\xc7\\xefs\\xbb\\xe6\\xafI\\xf1\\xf5\\xb7\\x87\\xef4\\xc6\\xd4%\\x8d\\x19\\x97\\xf8\\xab\\xc4\\xf5\\xbf\\x8a\\xfe\\x0c\\xf0\\xf5\\xe3[\\xc9$J\\xca\\xd5P\\x92\\xa9\\x1bZ\\xecu\\x13\\x87\\xbf\\xcdd}\\x1d\\xe1\\rxk:z\\x19#\\xdd\\x95\\xf9\\xb7V\\x7f\\x8a\\xac4\\x9bk\\x96\\x96{H\\x97\\xfd\\xaa\\xf3?\\x84\\x1f\\xb4\\'\\x865\\x9b\\x8f\\xec\\xeb;\\xc4f\\xfe\\xea\\xbdv\\x7f\\x12\\xb5Y\\xeet\\x16\\xbb\\xb0\\x97qU\\xdc\\xb5\\x9b\\x9c\\xe1+l](\\xc6S\\xe7[\\x16l/<1g:\\xdcG\\x1cJ\\xdf\\xc5],\\x1a\\x8e\\x8b\\xa8\\xdb\\xaa$\\xaa\\xdf/A_\\t\\xfcH\\xfd\\xa3|a\\xe1\\xbdVK8\\xed\\xee\\x18\\xf9\\xac\\xab\\xb63]_\\xc0\\x1f\\xda\\x1f\\xc6\\x1e$\\xb9\\xfe\\xcf\\xd4#\\x95[\\x7f\\xca\\xcf\\x91Z*X\\x87iw9\\xe7\\x8a\\xc3\\xfbNG\\xa3>\\x95\\xf1n\\xa1\\xa1h!\\xae.cE\\xc7\\xdd\\xae^/\\x8f~\\x11\\xd3\\xaeV3y\\x12\\x91\\xfe\\xdd`|Z\\xb0\\xf1\\x0f\\x89<+$\\x9a~\\xef5\\x96\\xbe<\\xf1\\x87\\x83\\xfe4\\xff\\x00oMoop\\xea\\x8a\\xff\\x00+V\\x94\\xb0\\xf3\\xab\\xbb+\\x15\\x89\\xf6\\x11N1\\xbbg\\xe8\\xde\\x83\\xf1cB\\xf1\\x1d\\x9f\\x99mt\\xad\\xf2\\xd7\\x9f\\xfc]\\xf8\\xd3\\x0f\\x80\\xcb^Ig\\xf2\\x7fz\\xbc?\\xf6`\\xff\\x00\\x85\\x8ba2\\xe9~$\\xb8v_\\xe1j\\xf7\\xdf\\x18|(\\x87\\xc7\\x9e\\x1ekmB\\xdf\\xcc\\xdc\\x95\\x15(\\xca\\x15ye\\xaa\\x0c-WZ\\x9b\\xb4yY\\xe2i\\xfb|\\xe8\\xf6\\xd7\\xebo\\x1c{\\xb6\\xbe\\xda\\xf6/\\x86\\xff\\x00\\xb4m\\x97\\x8f,\\x16\\xe2\\xde-\\xca\\xf5\\xe3\\x17\\xff\\x00\\xb1\\xe7\\x87\\xad\\xf5).$\\xb2E;\\xab\\xd1~\\x14|7\\xd2\\xbc\\x18\\x8bg\\x14\\xa8\\xaa+Y\\xc7\\x0f\\x18\\xde\\xfa\\x98\\xc1c\\xd5^Y=\\x07\\xfc]\\xf8\\xbb\\xaa\\xf8n6\\xb8\\xb7\\xd0\\xdaa\\xf7\\x95\\x96\\xbc\\xe7\\xc3\\x7f\\xb4\\xff\\x00\\x88_X\\xf2\\xff\\x00\\xe1\\x1b\\x95Q\\x9b\\xf8\\xeb\\xe8={\\xc1>\\x1e\\xd7\\xb4f\\xf3#I>Z\\xf2\\xedW\\xc1\\x9e\\x0f\\xf0\\xc5\\xcbI$\\x11.\\xdf\\xbdS\\n\\x94l\\xdbN\\xe7MzU\\xe4\\xd3\\x8c\\xb6=_\\xe1\\xaf\\xc4Y\\xfcW\\xa6G%\\xc5\\x9e\\xd6t\\xf9\\x8d^\\xf1>\\x83my\\xfb\\xdd\\x9bY\\xab\\xcc<\\x1f\\xf1_\\xc2Z\\x05\\xca\\xdb\\xc7y\\x12\\xff\\x00u|\\xc5\\xafQ\\xd3\\xbcQ\\xa7x\\x9a\\xcdd\\xb2\\xb8Vm\\xb5\\xce\\xe7\\xcb.h-\\x0e\\x8a\\ri\\x16\\xf7=O\\xc6\\x9e=\\x8f\\xc3\\xde\\x17k\\x88N\\xdd\\xab_1\\xf8\\xa3\\xf6\\xcbK\\rjk?/~\\xc7\\xda\\xb5\\xf4\\xa7\\xc4/\\r\\xd9\\xdf\\xd8\\xb6\\x97$\\x89\\xb5\\x97\\x15\\xe2\\xba\\x87\\xec\\x9f\\xe0\\xedB\\xfb\\xed\\xb2[\\xab;\\xb6\\xe6\\xafv\\xa2\\xa2\\xa1\\xcbQ\\xea|\\xf6\\x12\\x16\\xa5z6M\\xf77>\\x04|_\\xba\\xf8\\x83s\\x1d\\xef\\x92\\xca\\x9f{u}\\x12\\xda\\xf8\\x8bD\\xf3\\xfb\\x04\\xae\\x1f\\xe0\\x87\\xc0\\xad\\x1f\\xc2\\xf6\\x02+;u\\x8e5\\xae\\xc3\\xe2\\x04v\\xda~\\x81&\\x9fo&\\xd6\\xdb\\xb5kJ*\\x14\\xa9\\xf3\\x1eVg_\\x0f\\x8a\\xc5\\xc2\\x8cu\\x92\\xdd\\x9f6~\\xd0_\\xb5n\\x93\\xe0\\xfdnM\\x1f\\xed{\\xa5O\\xbc\\xbdk\\xa0\\xfd\\x9d\\xfe+?\\x8e\\xb4\\xff\\x00\\xedM\\x98_\\xbc\\xa6\\xb8\\x9f\\x15~\\xcc:\\x1f\\x8d<K&\\xb1\\xaa\\'\\x9c\\xee\\xdf35{\\x07\\xc2\\xcf\\x84Z_\\x81\\xb41gm\\x17\\x97\\x1a\\xadq\\xaeIK\\x9a\\xf7g\\xb7h\\xe1\\xb0\\xce5l\\x96\\xc9\\x1c\\xa7\\xc7\\xff\\x00\\x8c7\\x9e\\x18\\xb2\\x92[dfa\\xe9^\\x04\\xff\\x00\\xb5\\xa7\\x89\\xde\\xfe;+{6\\x93{m]\\x95\\xf4\\xa7\\xc4_\\x00h>(f\\xb7\\xbd\\x95\\x19H\\xaeKH\\xfd\\x9c<\\x13\\x06\\xa9\\x1d\\xccvQe[\\xe5;*\\xaa*2\\xf8\\xb7*\\x10\\xad\\x18\\xc5\\xd2\\x95\\xa3\\xe8u\\xbf\\x08<_\\xae\\xdd\\xf8m5\\x8b\\xa5dw\\\\\\xd7\\x05\\xf1\\xd7\\xf6\\x93\\xbf\\xf0\\x95\\xc7\\xd9\\xca337\\xcb^\\xfd\\xa4x\\x13J\\xd1|4\\x91\\xe5T\\x05\\xf9W\\xd2\\xbcw\\xe2\\x07\\xc1\\xdf\\x0e\\xf8\\xa7Wio#\\x89\\xb6\\xb7\\xdd~k\\xa6\\xd4\\xa1J\\xcc\\xc6\\x95hb\\xab\\xcaT\\x92\\xba\\xea\\xd1\\xe4\\x9e\\x1e\\xfd\\xaa\\xf5\\x1dWZ\\xb7\\xb6\\x92\\xcd\\xbfy.\\xdd\\xd5\\xf4\\xdf\\x85|]$\\xde\\x17\\x8e\\xff\\x00\\xcb\\xda\\x1e-\\xd5\\xe6~\\x1b\\xfd\\x9c\\xfc1\\x0e\\xa1\\x1d\\xcd\\xbd\\xb4YF\\xf9v\\xa5z\\xdd\\xbf\\x87-\\xb4\\x8d\\rm%u_\\x97j\\xadp\\xc21\\xe6\\xbcM1\\x13\\xb49+4\\xdd\\xf4>y\\xf8\\xc1\\xfbK_\\xf8?Xk\\x7f\\xb3J\\xcb\\xbb\\xf8#\\xcdc\\xfc1\\xfd\\xa7\\xef\\xbcs\\xe2Ht\\xb8\\xed\\xa5\\xf9\\xdb\\xe6\\xdd\\x1dz\\xdf\\x89\\xfe\\rxW\\xc4\\x97\\x8dyyf\\x92\\x16\\xff\\x00c5?\\xc3\\x8f\\x80\\xbe\\x0e\\xd1\\xb5\\xe5\\xbc\\xd3\\xf4\\xf8\\x95\\xff\\x00\\x89\\xb6R\\x92\\xa19\\xd9\\xeel\\xeaN\\x9ar\\xe6\\xb4Q\\xb9\\xe2_\\x887\\x1a\\x17\\x86\\x83\\xc8\\xff\\x00v<\\xed\\xaf\\x97\\xbe!~\\xd6\\x976\\x1a\\xf4\\xd1\\xc5\\xf3\\x00\\xfbwW\\xd6\\xbf\\x12<\\x13\\xa5M\\xa3\\xc9d][)\\xb6\\xbey\\xd6?f\\x0f\\n\\xeaW\\x92\\\\\\xc9n\\x8c\\xee\\xdf\\x85t\\xb5J0\\xd5\\x9c\\xd0\\x95J\\xd0\\xe6\\xc2\\xe9ro\\xd9\\xa3\\xf6\\x82\\x7f\\x88\\x9a\\xe1\\xb6\\x16\\xfc+\\x7f\\x15z\\xd7\\xc5\\xff\\x00\\x88W>\\x1c\\xd1\\xa4\\xbd\\x8e=\\xc5\\x13r\\xaa\\xd75\\xf0K\\xe0.\\x91\\xe0+\\xbf?N\\xb3\\x89w\\x7fr\\xbb/\\x1d\\xf8J\\xc3Z\\xb1m>Y\\x17wB\\xd5\\x9c\\x158\\xbb\\xdc\\xdf^x\\xa9\\xb4\\xe6\\x8f\\x99\\x7f\\xe1\\xb8\\xe5\\xb1\\xd4\\xa4\\xb0\\xb8\\xd3\\xa5VG\\xf9\\xbfw^\\xf9\\xf0/\\xe3\\x14\\x9e4\\xf0\\xd9\\xf1\\x04v\\xed\\x18+\\xc6\\xea\\xe2/\\x7fe\\x7f\\t^\\\\\\xfd\\xa2K8\\x98\\xee\\xdc\\xd2yu\\xeb\\xff\\x00\\x0f>\\x1a\\xe9\\x9a/\\x87#\\xd3,\\xad\\xd64D\\xdb\\xf2qS\\xec\\xe89\\xf3E\\x84\\xe78A\\xfdb\\xcd\\x1e[\\xf1\\xe3\\xf6\\x90\\xb0\\xf0e\\xb2\\xcby&\\xd0~\\xf3W\\x9c\\xf8o\\xf6\\xbb\\xf0\\xc6\\xab\\xaa\\xdb\\xdb\\xc5\"\\xb1\\x95\\x95W\\xa5z\\x0f\\xc7\\xef\\xd9\\xefJ\\xf1\\xcd\\xcb[\\xdcG\\xb9?\\x8a\\xbc\\xef\\xc2_\\xb1\\x7f\\x86,5Xn,\\xad\\xf6\\xf9M\\xba\\xaeT\\xe8=\\xd9*X\\x9eh\\xfb4\\xb9O\\xa6<1\\xe2\\xbbi\\xbc3\\x1e\\xa9h\\x9bU\\xe2\\xdd^5\\xf1S\\xf6\\x9c\\x87\\xc1\\x1a\\xc3[\\xdeG\\xf235{\\x1f\\x86\\xfc\\x1f\\xfd\\x9d\\xe1h\\xf4\\xc7A\\x1aG\\x16\\xdd\\xd5\\xe6\\x7f\\x10\\xbfg\\xed\\'\\xc6\\x17\\x9e}\\xe6\\xd9\\x11_\\xe5Z\\xcb\\x96\\x9a\\x8e\\xafCT\\xdf4\\x9d+_\\xa9\\x8b\\xf0\\xb7\\xf6\\xab\\xd1\\xfcm\\xe2Ht\\x8b{o\\x9d\\xbf\\x86\\xbd\\xa3\\xc5\\xff\\x00\\x11\\xe2\\xd2t\\x96\\x9e\\xf50\\x8b\\x17J\\xf3O\\x85\\x1f\\xb3\\xe6\\x83\\xe1\\x1f\\x12Gyoh\\x85\\xff\\x00\\x87\\xe4\\xafM\\xf8\\x89\\xe0;{\\xcd\\x02kycVg\\x8b\\xe5ZT\\xa9SN\\xc9\\xdf\\xb95e\\x1eh\\xaa\\xc9st>}\\xd6\\xff\\x00k\\x1f\\x87\\xb0\\xea\\xd2[\\xdc^*\\xb8o\\x9a\\xbdc\\xe0_\\xc5\\x8f\\x0cx\\xe2\\xc9\\xaet{\\x84b\\xbf\\xdc\\xaf\\x12\\xd4\\xbfd\\x8f\\x0f_\\xdfMqq\\xa7\\xa3\\x17\\x97v\\xda\\xf5\\x9f\\xd9\\xf7\\xe0\\xb5\\xaf\\xc3\\xc8\\x9a\\xde\\xce\\xdbn\\xff\\x00\\xbc\\xb52\\xa3I\\xcbG\\xafa\\xf3\\xd7\\x9a\\x92\\xab\\x1bG\\xb9\\xb7\\xf1\\x83\\xe2t>\\x15\\xb5k\\xdb\\x8d\\xbbG\\xcc\\xd5\\xe5\\x07\\xf6\\xb9\\xf0\\xb2|\\x84+1\\xaf[\\xf8\\xb3\\xf0\\xc6\\xc3\\xc5V\\xadar1\\xbf\\xefW\\x97C\\xfb(\\xf8V\\x17\\x8eH\\xed\\xd1v>\\xed\\xd5\\x9dH\\xd1\\xd1NZ\\x9bRuT#\\xec\\xadc\\xd9\\xfe\\x1c\\xfcDM_\\xc1\\xf0\\xea\\xb6\\xc9\\xb5eM\\xd5\\xe7\\x1f\\x17~9h>\\x1b\\xd6>\\xc7x~v\\xf9\\xab\\xd4<\\x05\\xe0{k\\x1f\\x0c-\\x95\\xb7\\xca\\x91\\xa6\\xd5Z\\xf2\\x7f\\x8d_\\x03-\\xbcO\\xacy\\x92}\\xdd\\xff\\x00z\\xb5PN\\x1a\\xbb#8:j\\xb4\\xfd\\x9a\\xf7\\xfa\\x9c\\xdf\\x86?i\\xcf\\n\\xdex\\x92\\xdfK\\x8e=\\xc6f\\xda\\xb5\\xef\\x8d\\xe2\\xa3\\xff\\x00\\x08\\xc2\\xcf\\x04\\x7f#E\\xba\\xbe\\x7f\\xf0\\xa7\\xec\\xe5\\xa3\\xe9\\xda\\xc4:\\x84q\\xa6\\xf8\\x9fr\\xd7\\xd0\\xfan\\x8b\\x13\\xe8\\x11\\xdb\\xce\\x17j&\\xda\\x87\\x08\\xc1\\xda2\\t9\\xf2/n\\xb6g\\xce\\xbf\\x10\\xbfj\\'\\xf0\\xaf\\x88d\\xd3\\xe4\\xd3\\xa5\\xf9\\x1fj\\xfe\\xee\\xbd\\x83\\xf6l\\xf1\\x17\\x88<\\x7fl\\xbe\"\\xbf\\xd3\\x1a\\xde9>h\\xd6T\\xc1\\xfck1\\xfe\\x07xc\\xc4~*\\xfbm\\xcd\\x92\\xcc|\\xdf\\xbb\\xb2\\xbd\\x93\\xc3\\x1a\\x0e\\x9d\\xe1\\x1bht\\xeb\\x0buA\\xb3\\xe6\\x0b^.>\\xaf\\xb3\\xad\\x05I\\xfa\\x91\\x8e\\xc5{\\n2\\x8b\\xd5\\xcbe\\xe5\\xdc\\xc9\\xf8\\x95\\xe2\\x14\\xd1\\xac\\x99\\xe3\\xb7\\xdcV\\xbcwQ\\xf8\\xd3<\\x17[#\\x8d\\xff\\x00\\xdd\\xd9^\\xc5\\xf1#K\\x83P\\xb3\\x90\\x8f\\xfb\\xe6\\xbc\\xa2O\\x06\\xe9M&$\\x89W\\xe6\\xfb\\xd5\\xe2g8L\\xcf\\x11V>\\xca\\xaaK\\xd0\\xf4xu`V\\x15\\xba\\xb0\\xbb:\\xff\\x00\\x03x\\xb6}WL\\xfbdq\\xb6Yk\\xcc\\xff\\x00h\\xaf\\x88\\xde*\\xf0\\xad\\x9bj\\x1a>\\x9e\\xf3m\\xfb\\xcb^\\x95\\xe0X\\xac\\xac\\xe4[\\x08dVQ\\xf7\\xb1Z\\x1e?\\xf0\\xaf\\x875+//S\\xb6FL\\x7f\\x15{\\xb8UV\\x86\\tF\\xab\\xbb[\\x8a\\xa5Z\\x141\\xed(\\xdb\\x9bc\\xe4O\\x05~\\xd1\\xbf\\x13\\xbcE\\xe3+\\x1d\\x1eO\\x0f\\xcb\\x1d\\xbb\\xce\\xbed\\xcf\\xd2\\xbe\\xcd\\xb6\\xb6\\xbf\\xd5<\\x1f\\x14\\x91\\x7f\\xac\\x11\\xe7myv\\x83\\xe0\\x9f\\x04\\xc3\\xadG-\\x9d\\xbc\\n\\xf1\\xb7\\xcb\\xb7\\x19\\xafp\\xf0\\xd2\\xda\\xc1\\xa4\\xc6\\x87\\xa5c\\xed/\\x89\\xb4%eds\\xe7\\x15}\\x85\\x18i\\xaaw>3\\xf8\\xf1\\xf1o\\xe2\\x17\\x82|[6\\x9f\\xfd\\x87.\\xcd\\xdbb\\x91+\\x0f\\xe1\\x17\\xc6\\xff\\x00\\x89:\\xaf\\x8d\\xad\\xed\\xf5\\r=\\x96\\x07\\x7f\\x95\\xab\\xea\\xff\\x00\\x8a\\xff\\x00\\r<7\\xe2\\xa7k\\xcb\\xbd=$u\\xfb\\xac\\xc9^W\\x0f\\x85|\\x19\\xe1\\xbdc\\xf7\\xa2(\\xe5G\\xf9z\\n\\xef\\xa7\\x8a\\xc2\\xbb\\xc6K\\xde\\x157<LUX;y\\x1e\\x89\\xad\\xdcj\\xba\\xa7\\x86\\x8b\\xdb\\xfc\\xae\\xf1|\\xab_,|B\\xb3\\xf8\\xe7\\x0f\\x89.-\\xfc=x\\xed\\x1e\\xff\\x00\\x96\\xbe\\xb9\\xd1/\\xac\\x1fFRdV]\\xbf+f\\xbc\\xf7\\xc6\\x1e$\\xf0f\\x89\\xaa\\xb4z\\x85\\xc4Q\\x96\\x7f\\x99\\xab\\xa2\\xf4\\xe2\\x95\\xf5L\\xd7\\x97\\x9e.\\x1b[\\xa9\\xe5\\x9f\\xb3:|`\\x87U\\xba\\xb7\\xf1\\x85\\xc6\\xed\\xcd\\xfb\\xbe\\xb5\\xde|w\\xf0>\\xbf\\xe2?\\x07\\xcdom,\\x88\\xe5~VJ\\xd1\\xd0\\xbe\\'x\\x02-V\\x18\\xad5\\x18\\x15\\x9b\\xe5\\xed]\\xf6\\xa9\\xe2\\r\\x12\\xfbIa\\xe6\\xab\\x0f+u*U\\xa9\\xb9\\xe9\\x1b\\x0f\\x91\\xc2\\n7\\xe6>\\x0c\\xff\\x00\\x86{\\xf1\\xcf\\xcd\\x1d\\xe6\\xa9x\\xdf?\\xca\\xdea\\xaf\\xa4\\xbff\\x0f\\x07\\xeb\\xda\\x0e\\x89\\x1e\\x91\\xac^K!_\\xba\\xcf\\xd6\\xb2\\xbci\\xf1\\x8f\\xc1\\x9e\\x18\\xbc\\x9a\\xde\\xe2\\xe2/\\x91\\xbe\\xed]\\xf8W\\xfbHx/\\\\\\xd6\\x16\\xca\\xce\\xf1\\x0b\\xb3|\\xab[J\\xaf4m\\x18X\\xe6\\xa3B\\x8d\\n\\xb7\\xe7\\xf7\\xbdN\\x97\\xe3\\xaf\\xc0\\xdbo\\x1bX}\\x9e\\xe2?3?\\xc4\\xf5\\xe3\\xbao\\xec\\x7f\\xa0X]G$v\\xe9\\xf26\\xea\\xfag\\xc5\\x1e-Y\\xb4F\\xbc\\xb6\\x8bw\\xcb\\xf2\\xd7\\xcc\\x9e<\\xfd\\xacS\\xc1\\xfa\\xdc\\xda]\\xc5\\x9b\\xab\\x06m\\xad\\xe5\\xd6~\\xd6\\xbcc\\xcb\\rQ\\xadZte\\x05:\\xfb\\x9fC\\xfc8\\xf0M\\xa5\\x9e\\x89\\x1d\\x98\\x1b\\xb6.\\xdd\\xb5\\xe7\\xff\\x00\\x18\\xff\\x00g\\x8f\\r\\xebz\\xabj\\x1a\\x86\\x9d\\x13)\\xfe-\\x95\\xce~\\xcf\\xff\\x00\\xb5#x\\xe3R\\x9bOH\\xd9O\\xf0\\xf6\\xae\\xe7\\xe3O\\x8b5\\xe8<%6\\xa1\\xa5[4\\x92\\xa2nU\\xaa\\x84\\xf1:>\\xac\\xaf\\xdc\\xce\\x1d\\xe2q\\x1e\\x18\\xf8!\\xe0\\xcd\\x12\\xf2;\\xc8\\xe3H\\xfc\\xb7\\xf9vb\\xbd\\xef\\xc1\\xa3J\\xfe\\xc8X#\\x91X\\x04\\xdb_\\x9e\\xde!\\xfd\\xa2\\xbe1\\xc3\\xa9Igg\\xa3\\xdcnW\\xda\\xb5\\xef\\x9f\\xb2\\x8f\\xc5\\xaf\\x1f\\xf8\\xaa\\xc1\\xa0\\xf1%\\x9c\\xb0\\xba\\xff\\x00\\x0b\\xd5N\\x96%\\xc7\\x9a[\\x1c\\xf4\\xab\\xe1\\xb9\\x9d8+3\\xd5\\xfe\"\\xc5\\xe1]\\x12\\xf1\\xaf5\\x0f)G\\xde\\xf9\\xab\\x9d\\xb0\\xf8\\xaf\\xe0=\\x1e\\xe67\\xb7\\xbc\\xb7V\\xdd\\xedK\\xf1\\xef\\xc0\\xfa\\xc7\\x8a\\xbc7\\'\\xd9\\xe5\\x966\\xd9\\xf7\\x92\\xbeQ\\xbd\\xf8\\x15\\xf1:mU\\xbc\\xbdb\\xebb?\\xcb\\xd6\\xb3XyV\\xb5\\xa4tb+\\xce\\x8e\\xd0\\xb9\\xf7\\x9d\\xaf\\x8d\\xf4MWK\\x12\\xc5*\\xc8\\x8f\\x17\\x15\\xe0\\xff\\x00\\x19\\xbe=\\xe8\\xff\\x00\\x0e\\xb5V\\xb7\\xb8\\x8d\\x17s\\xfc\\xb5\\xd4|\\n\\xf0o\\x89 \\xf0\\xdd\\xad\\xa6\\xa9p\\xd2:&\\xd6g\\xaeW\\xf6\\x96\\xfd\\x9af\\xf1\\xba-\\xc4\\x96\\xfeei\\n0\\xe6\\xe5\\x9c\\x84\\xe7Zty\\xa3\\x1b3\\x9a\\xf0g\\xed\\xbf\\xe1\\xeb\\xddn\\x1b8\\xe4E\\xf3[j\\xb5}\\x1b\\xa1\\xfcEO\\x18xmn,\\xa4\\xdc^*\\xf9\\'\\xc2\\xbf\\xb2-\\xb6\\x9bs\\x1d\\xc4\\x96\\x7f:6\\xed\\xd5\\xf5\\'\\xc1\\x9f\\x07\\xc3\\xa3\\xe9\\xb1\\xe9\\xf2I\\xd1v\\xd1^\\x8e\\x1e\\x1f\\x031\\xc2U\\xc4\\xb9\\xbfj\\xb4G\\x80\\xfe\\xd0\\xfa\\xc7\\xc4]\\x13Ri<?\\xe6\\xe3\\x7f\\xcb^k\\xe0\\x9f\\x1b|oO\\x16\\xda\\xde\\\\\\xc4\\xcd\\t}\\xb2/\\x98k\\xed\\x8f\\x88?\\r4-I>\\xd3{n\\x98\\x1f\\xde\\xae6\\xdb\\xc2\\xbe\\x06\\xd3]\\x7fw\\x12\\xb2\\xfd\\xd6\\xe2\\xb3\\x85L4#iF\\xec\\xd6\\xb5\\n\\xb5\\'\\xcf\\x19\\xd9\\x0b\\xa5\\'\\x88\\xbcC\\xe1\\x8f.\\xe27\\xdf,U\\xf2\\xef\\xc6\\xff\\x00\\xd9\\xfb\\xe2-\\xe7\\x89\\xe4\\xb8\\xb3\\xbc\\x95bwo\\x97\\xb5}\\xad\\xe1\\x1d{\\xc3>G\\xd8\\xe2\\xb8\\x8b+T\\xfe\"\\'\\x87\\x12\\xc9\\xb5\\x02\\x91|\\x8b\\xf3UP\\xc4AJ\\xf1E\\xd4\\xc3*\\xb4\\xb9$\\xcf\\x90~\\t\\xfc\\x19\\xf1\\xb7\\x83\\xf5\\xeb}B\\xe2\\xf2V]\\xff\\x005}\\x97\\xe1\\x1d(j\\xde\\x1d\\xf2/~o\\x97\\xe6\\xaf\\x08\\xd6><x?A\\xbck\\x7f\\xb4D\\xac\\x9f\\xdf\\x15\\xdc\\xfc\\x1c\\xfd\\xa0\\xfc;\\xe2!\\xf6+;\\xc8\\x98\\xff\\x00\\xd7JX\\x8a\\xb3\\xad=a\\xfd#\\x1c<ha\\x9f/6\\xa5?\\x88\\x9f\\xb3\\xff\\x00\\x86\\xef5Y/o,\\xd1\\xb7>\\xed\\xd5\\x1f\\x84\\xbe\\x18\\xf8?\\xc3\\x17+yg\\x1a\\xab\\n\\xec~,\\xea7\\x92\\xe82j\\x1aX\\xdc\\xea\\x8c\\xcb_\\x1c\\xfcE\\xfd\\xa2>!x{U\\x9bK\\x8e\\xdaV;\\xdbn\\xdc\\xd4A\\xe2&\\xad\\x13\\\\D\\xb0\\xd4m6\\xb7>\\xed\\xd2\\x13\\xc3\\xf7\\xf6\\x0bo\\x10V\\xf9~j\\xe1\\xbe\"\\xf8K\\xc3\\x1a\\\\\\xcdy-\\xbcJ\\xbfy\\x9a\\xbc\\x07\\xf6r\\xfd\\xa1<m\\xaf\\xdf\\xae\\x97\\xacAq\\xfe\\xf3\\xd7\\xb6|N\\xb7\\xd6<I\\xe1\\x19$\\xb3\\x8d\\xdaV\\x8b\\xe5\\xa3\\x92\\xbc\\'\\xefhiK\\x13B\\xb4=\\xd3\\x9c\\xb6\\xf8\\x95\\xe0\\x9d\\x06\\xe7\\xf7rE\\x1b#\\xfc\\xdd+\\xd5\\xbc\\x01\\xf1_A\\xf1-\\x82\\xc7op\\xad\\xf2\\xfc\\xb5\\xf0\\x0f\\x8c\\xfc\\r\\xf1Ro\\x10\\xc9o\\x1f\\x9a\\xa8\\xd2\\xfc\\xad\\xcd{?\\xec\\xd3\\xe1_\\x1cxz\\xf2;}R\\xe2V\\x1f.\\xe6|\\xd6\\xf50\\x8dF\\xfc\\xc7\\x141\\xb2\\xf6\\xde\\xcf\\x93C\\xdd\\xfe3j\\xb7:=\\x84\\x9a\\x86\\x9f\\x1e\\xef\\x97u|\\xc5\\xe2\\x8f\\xda\\x97^\\xd1\\xf56\\xb6\\x8f~U\\xab\\xec;\\xdf\\x06\\x7f\\xc2O\\xe1\\xe5\\xb7\\xbc\\xf9\\xb2\\x9bk\\xc1<y\\xfb+\\xe8\\xf3k2\\\\\\x1bt\\xe5\\xb75s\\xd2T\\xff\\x00\\xe5\\xe9\\xd9\\x8a\\xfa\\xc4\\xe3zE\\x9f\\x83?\\xb4>\\xa5\\xe3;8\\xe3\\x966_\\xe1j\\xad\\xf1\\xee\\x1f\\x12_\\xe9\\x92^\\xe9q\\xcb\\xcan\\xf9k_\\xe1\\xa7\\xc2]+\\xc1\\x97+\\xe5\\xc8\\x8a\\xbf\\xdd\\xafa\\x87\\xc3\\x1a\\x0e\\xb7\\xa6\\xfd\\x9e\\xe25o\\x93n\\xda\\xb7:0\\xa9\\xcd\\x12iC\\x1188\\xcd\\x9f\\x9e\\x0e\\x9f\\x13\\xaeuu\\x8e8\\xe7VY~\\xf75\\xf6w\\xec\\xaba\\xe2\\x11\\xa3[\\x9dfV\\xdf\\xb1wo\\xabw\\x9f\\x07\\xfc=m\\xaa\\xfd\\xa3\\xfb>.\\x1fw\\xfa\\xba\\xed\\xbc3q\\xa3\\xf8v\\x05\\x8e8\\xd5kLF\"\\x95Hi\\x13,._R\\x95~g\"\\x8f\\xc7?\\xdaI\\xfc\\x19\\xac}\\x9eG\\xdc\\x0b\\xfc\\xb5K\\xe17\\xed%\\xff\\x00\\t\\xee\\xa9\\x1d\\x95\\x9co\\'\\xcd\\xb6\\xbb\\x8f\\x1e~\\xcf:\\x07\\x8c/Z\\xee\\xf2\\xdd\\x19\\xbf\\x87\\x7f5\\xb3\\xf0\\'\\xf6h\\xd0|1\\xaa,\\xf6\\xd6\\n\\xa46\\xe0\\xd5\\xed\\xe2\\xe8\\xe1\\xbd\\xb2q\\xd4\\xe1\\xfa\\xc2\\xa1K\\x9ar\\\\\\x88\\xf5\\xcf\\t\\xea\\xd3X\\xf8d\\\\Jv\\x90\\xb9j\\xf9\\xcb\\xf6\\x8d\\xfd\\xaa\\xed\\xbc7\\xad\\xc9\\xa1\\xdb\\xdcnx\\x9f\\xf7\\x9bk\\xe9\\xcf\\x1ai\\xd6zG\\x87$\\xb6\\x8eO\\xe0\\xaf\\x94\\xfcc\\xfb5h~)\\xf1\\x0c\\xda\\xc5\\xeci4\\xb2\\xbb\\x16\\xddX\\xd6\\x9d%\\x0eW\\xb1\\xe2\\xe5Q\\xfa\\xc5J\\x98\\x8aI^\\xfa\\\\\\xa5\\xf0k\\xe3\\xec\\xde4\\xd6\\x96\\xdb\\xcbf\\xf9\\xbef\\xaff\\xf1\\x9f\\x8f.t\\x7f\\r\\x9b\\x88#\\xf9\\xbc\\xbfJ\\xe4\\xfe\\x12\\xfe\\xcf:O\\x84\\'\\xfbE\\x8c\\x08\\xbf6Y\\xab\\xb3\\xf1^\\x83\\xa7Mj\\xda|\\xae\\x8c6\\xd7-5N\\x9a\\xba\\xd8\\xf7*N\\x95I\\xc2\\x13\\xb3\\x92>V\\xf1o\\xed]\\xe2K\\rzm>;9[c\\xb7\\xcd^\\x83\\xf0\\x0b\\xe3\\x16\\xbd\\xf1\\x03QV\\x9e\\xceT@>fj\\xdf\\xbe\\xfd\\x9f\\xbc\\x17u3^Io\\x13;\\xb6\\xe6n+\\xd0\\xbe\\x13| \\xd0<=n\\xc6\\xcd\\x15A\\xfe.\\x94\\xe2\\xe8J\\xa6\\x85T\\xab<<\\x1c\\xeaON\\xd63~(\\xfcU\\xba\\xf0\\xbe\\x86\\xd2K+\\xe0%|\\xbd\\xe2O\\xda\\xf7RMbK{8\\xe5m\\xaf_U|\\\\\\xf0.\\x8f\\xad\\xda\\xb6\\x9fq\\xb1\\x94\\xd7\\x96\\xda~\\xcc~\\x0cg\\xcf\\xd8\\xa2\\xde[\\xe6j\\xd2\\xb4\\xe9Y&\\xf5ft#7MN\\x83\\xe5O\\xc8\\xd3\\xfd\\x9b>)\\xea\\x9e6\\x8f\\xed\\x97\\x11:\\xed\\xfe\\xfdv\\x9f\\x1a|g\\xaa\\xe9\\x1a3\\\\Z+3\\x04\\xf9v\\xd6\\x87\\xc2\\xcf\\x84\\xdaO\\x84\\xed\\xf6\\xd9\"\\xc4\\x9b~j\\xb5\\xe3m\\x1bD\\xd5\\xe3m:\\xe4\\xab#}\\xe5\\xac\\xd7,c~\\x81*\\xb4\\xeab\\xd2\\xdeIoc\\xe5\\x07\\xfd\\xaa|gg\\xa9In-\\'TW\\xdb\\xfe\\xae\\xbd\\xcb\\xe0o\\xc4?\\x11x\\x9bImn\\xee\\x07\\x88\\xb2\\xeeUju\\xcf\\xc0\\xef\\x03L\\xfb\\xff\\x00\\xb3\\xa2S\\xbfv\\xee+\\xd1\\xfc\\x0f\\xf0\\xff\\x00H\\xd1tO*\\r\\x89\\x1e\\xdf\\x95k*P\\xa39\\xf3#J\\xd5\\xbd\\x856\\xea\\xc94\\xfaX\\xf1\\x7f\\x8f\\x1f\\x1f\\xaf<\\x1da$\\x92no\\x9a\\xbcb\\xdb\\xf6\\xb3\\xb9\\xbf\\xb9X\\xe3\\xb7\\x97n\\xff\\x00\\xe0\\xaf\\xa3\\xfe.\\xfc(\\xf0\\xf7\\x8a\\xa6k{\\xcbte\\xfe\\xebW\\x0f\\xa2~\\xcd\\xfe\\x0f\\xfbt~^\\x9fo\\xc3\\xd6\\x95\\x1d\\x07k;\\x15\\x18W\\x95\\xa5I\\xa4\\x8fF\\xf8A\\xe2\\xdb\\x8dw\\xc2\\xb1\\xea\\xb71\\xb2\\xb3\\xaf\\xf1W\\x05\\xf1\\xd7\\xe3\\x06\\xa9\\xe0\\xd6k\\x8b8\\x99\\xb0\\xdfv\\xbd\\xa3\\xc2\\xbe\\r\\xb0\\xf0\\xf6\\x80\\xb6\\xd1\\xc5\\xe5\\xa2\\'\\xca\\xb5\\xc8x\\xe7\\xe1\\xef\\x85|Os\\xfe\\x9f\\x12\\xb7\\xfb-R\\xbd\\x9cc\\xab\\xd0p\\xaa\\xaa\\xd5\\x97#\\xd7\\xb9\\xe1z\\x0f\\xed=\\xe2\\rKP\\xb7\\xb0\\xfb\\x14\\xac\\xd27\\xdd\\xc5}\\x13\\xa1x\\xcfUO\\tGw&\\xe5&-\\xcc\\xbd\\xeb\\x90\\xd1\\xbe\\x06x6\\xd3T\\x8e\\xf2+8\\xb3\\xbb\\xe5\\xdb\\x8a\\xf5+\\x8f\\x06X[h\\n\\x92\\xbf\\xcb\\xb7\\xe5Z\\x8aQ\\xa4\\xe4\\xdc\\x1d\\xc5V\\xaci\\xc5F\\xbb\\xbboM\\x0f\\x9c>-~\\xd2\\xaf\\xe1\\xedbM>X\\x1d\\x88\\xfb\\xb5\\x9d\\xf0\\xb3\\xf6\\x98\\x9b\\xc4^\\'\\x8bJ\\x93OuWo\\xe2\\xae\\xcb\\xc7?\\x02\\xb4={U\\x92\\xf2\\xe24o\\x9a\\x97\\xc0\\x9f\\x01t\\xcd+X\\x87PD\\x89\\xb67\\xcb\\xebCT\\x94\\xdd\\xda5\\xff\\x00iM5nS\\xd3\\xbcG\\xe2\\xa9,\\xfc6\\xd7\\x89\\xff\\x00<\\xb2\\xab_7x\\xcf\\xf6\\xb7\\xbc\\xf0\\xf6\\xb76\\x9f\\xf69[c\\xff\\x00p\\xd7\\xd3\\xfa\\xc6\\x83btu\\x82}\\xbf2\\xe3my\\x1e\\xb3\\xfb?xGX\\xd4d\\xbd\\xb9\\xb7\\x89\\x98\\xb7\\xde\\xa7\\xfb\\x85\\x1bL\\x88sN\\x9b\\xf6&O\\xec\\xf9\\xf1\\xebQ\\xf8\\x83\\xe2\\x06\\x06\\xdd\\xd5\\x13\\xf8\\x9e\\xbd\\'\\xe2_\\xc4\\xbb\\x9d\\x13I\\xb8\\xb8\\x93\\xe6\\xd8\\x9f-U\\xf8I\\xf0\\x83\\xc3^\\x17\\xbbh\\xb4\\xf8\\x15\\x19\\xbe\\xf5k|Z\\xf8{\\xa7\\xeb\\x9al\\x96~b\\xe5\\x93\\xefR\\xa6\\xa8\\xcb\\xe1z\\x04\\xa4\\x95E\\x19\\xeb;\\x1f6\\xdc\\xfe\\xd6\\x93[\\\\\\xb4\\x9fcfDf\\xf9\\xab\\xdc>\\x02|`O\\x1eiK\\xa8G\\x1e\\t_\\x95\\xab\\xcd\\xc7\\xec\\xd9\\xa0\\xbc\\x8d\\x1cq\\xa2\\xb6\\xff\\x00\\x9a\\xbdw\\xe0\\xf7\\xc3K?\\x08Y}\\x9e\\xce4\\xd9\\xfc[j\\'\\x1aJ~\\xeb+\\xfd\\xa1B^\\xde\\xd69\\xcf\\x8e?\\x13u\\x8f\\x0b\\xda\\xc9sef\\xd2c\\xf8R\\xbcf\\x0f\\xda\\xcb\\xc4\\xf3\\\\\\xad\\x9cz\\x1d\\xd7\\xde\\xdb\\xf7+\\xe9o\\x88^\\x14\\xd15x\\xfe\\xcfy\\xb3i\\xfb\\xcd\\\\}\\xb7\\xc1\\xff\\x00\\x064\\xb1\\xcb\\xf6h\\x98\\'\\xd2\\xa2\\xa2\\xa0\\xb5\\x96\\xe5\\xc7\\xdbN1t\\xf4GW\\xf0\\xdf\\xc7Z\\x96\\xa9\\xe0\\xe8o.m\\xda7\\x91>e\\xaf#\\xf8\\xf5\\xfb@\\xcd\\xe1-c\\xec\\xf2[\\xbe\\xc5\\xff\\x00c5\\xf4\\x17\\x85|9\\xa3[\\xe8^T{U\\x150\\xb5\\xe6_\\x16\\xbe\\x11xc\\xc4:\\x97\\xda5\\x08\\xd1\\x93w\\xddz\\xb5\\xec\\\\<\\x8c\\xd4\\xe1)\\xca4\\xd5\\xa5\\xdc\\xf1\\x1f\\x0f~\\xd3\\xfa\\xad\\xe6\\xb7o\\x1d\\x9d\\xbb\\xb2\\x19UZ\\xbe\\x9d\\xd3\\xf5\\xcb\\xbdG\\xc2\\xb1\\xdeG\\x16\\xd7x\\xb7m\\xaf)\\xd0~\\x05x&\\xda\\xfdnc\\xb7E\\xf9\\xfeU\\xafk\\xd0t{\\x0b\\x1d\\x05m\\xdf\\xee\\xa2mU\\xac\\xdf\\xb2N\\xd1*\\xf5i\\xd3\\xbdg}t0~\\x06Z\\xf8\\x8e\\xefY\\xbc\\xba\\xd5\\x0ba\\xe6f\\x8f\\xfd\\x85\\xaf}\\xf0\\xef\\x80\\xdbV\\xb4\\xfb|\\xf2r\\xbd\\xab\\xcf>\\x1eGgk$\\xbe^\\xdc\\x9f\\xe2\\xae\\x9e\\xdb\\xc6s\\xe8\\xd3\\x08-\\xb5\\x1d\\xa0\\xb7\\xcc\\xbb\\xeb\\xe4e\\x85\\x84sYT\\xab6\\xe3}\\x8f\\x9c\\xcfg\\x8b\\xc5\\xd7j\\x87\\xba\\xd2]\\x0b\\xde(\\xf8o-\\xe42Eo\\xb1\\xab\\xe5O\\xda\\'\\xc4\\xd7\\xbf\\r\\xef\\x1bK\\xb4\\xb4\\x9d\\xae\\x19\\xb6\\xedO\\xeb_W\\xddx\\xeeH\\xd3\\xed\\x12I\\xb8\\xec\\xaf*\\xf8\\xb9\\xff\\x00\\x08\\x7f\\x8e\\x11\\x9fP\\xd3\\xed\\xde\\xe7\\xf8\\xa4\\xe35\\xe9\\xe6X\\\\\\x15X\\xc5\\xb9\\xb8\\xdb\\xcc\\xdf\\x86qY\\x86\\x1a\\xbf%h\\xf3E\\xfe\\x0f\\xb9\\xe1\\xdf\\xb2_\\x8a\\xbcQ\\xe2\\xbdv\\xfb\\xfb~\\xe3\\x85\\x97\\xf7k\\xfe\\xcd{\\x7f\\xc4M2i|;4q\\xc9\\xf3\\xecm\\xad\\\\\\xaf\\xc3\\xcf\\n\\xf8w\\xc3\\x9a\\xae\\xed2%\\x8c\\xb9\\xf9\\x9a\\xbd\\x07\\xc4\\xd2\\xc0\\xda3`\\xfd\\xd5\\xa7N\\x86\\x1a\\xbd\\x07j\\x8d\\x9fC\\x98U\\x94q\\xd4\\xda]\\x8f\\x95\\xfe\\x15i><_\\x8aw\\xb7\\x1a\\xee\\xa1/\\xd8\\xf7m\\x866\\xe9\\xfe\\xf5}m\\xe0\\xd6\\xb7\\xb8\\xd2\\x92\\xdc\\xdc\\xe4\\x81^;o\\xa9h1\\xebr\\xc9$j\\xae\\x1b\\xe6\\xae\\xfb\\xc1\\x1e/\\xd3\\xc4\\xbb z\\xf3i\\xe00\\xcf0U#W[Z\\xd7:3\\xbaX\\x8cV\\x19>W\\xa1\\xab\\xe2\\xd8\\x1e\\xdbw\\x9b\\'\\x15\\xf2\\x17\\xed\\x8d\\xe1\\x0f\\x88\\xa9\\xaa\\xd9\\xeb\\x9e\\x03\\xd5\\x1e\\x1d\\xb2\\xa9\\x91z\\x87_\\xee\\xd7\\xd5\\x9e9\\xf1\\r\\x81\\xb6k\\x99$\\xe1~\\xf5yO\\x8f<s\\xe1\\'\\xd2\\xbc\\xcdRH\\xb6\\xa7\\xf1=l\\xb0\\x11\\xc3fK\\x10\\xe5t\\xfa\\\\\\xc3,\\xa5Ua_2\\xe9\\xd8\\xaf\\xf0\\x05\\xfcO\\xacx\"\\xde=rO\\xf4\\x85\\x89w-q\\xbf\\xb4?\\xc1\\xcdc\\xc47Q\\xc9f\\xf2\\xac\\xbf\\xc3\\xb2LW\\xa0\\xfc\\x1d\\xf8\\x95\\xe1\\rL5\\xbe\\x8d{\\x13c\\xf8Q\\xebk\\xe27\\x8c\\xb4K-=\\xae\\xee\\x19N\\xcf\\x99\\xab\\xe9#Q\\'u\\x1d{\\x1a8\\xcaK\\x91\\xfc=\\xcf\\x97|;\\xfb:\\xf8\\x9e\\xc3[\\xb5\\xd4$\\xd5.\\x9bd\\xbb\\xbf\\xd6W\\xd3\\xbe\\x1b\\xf0=\\xdc\\xbe\\x1cX\\xe5\\x91\\xf7\\x18\\xb6\\xd7\\x9b\\xde~\\xd1^\\t\\xb3\\x87\\xca\\x92\\xe1\\x16\\xbb\\xff\\x00\\x85\\xdf\\x1b4\\x1f\\x13\\xe9\\x1en\\x9f&\\xe0\\xbf-J\\xae\\xe4\\xfe\\x1b\\x18\\xd3\\xa7\\x08G\\xf7r\\xbb>z\\xf8\\xf1\\xfb*j\\x1e!\\xf1<\\x97\\x16\\xf7w\\x0b\\xbb\\xe6eY8\\xac_\\x85\\xdf\\xb3\\x1d\\xe7\\x85|O\\x0e\\xa9\\x1c\\x92\\xfe\\xed\\xbeo\\xdeW\\xd0\\x9f\\x1b>(\\xe8\\x9e\\x18\\xb5\\xfe\\xd4\\xbc\\xf9U~\\xf3W\\x8b_\\xfe\\xd8\\x1e\\x0c\\xb0\\x9b\\xcd\\xfbB(\\xdd]\\x1fX\\xab8\\xd9D\\xca\\xb6\\x1f\\x0f\\x1a\\x8asz\\x9fNxs\\xc3i}\\xe1\\xb8\\xed\\xee\\xc7\\xfc\\xb2\\xaf*\\xf1\\xcf\\xec\\xeb\\xe1\\x8dc^\\x92\\xf7P\\xb3F\\xcf\\xfb\\x15\\xd4\\xfc\\x17\\xf8\\xdd\\xa4\\xf8\\xebD[\\x8b\\t\\xf7n_\\x96\\xb1\\xbe=\\xf8\\xf3[\\xf0\\xc5\\x84\\x9a\\x86\\x9fn\\xd2\\x11\\xf3m\\xacc*\\xaa\\\\\\xabFt\\xda\\x9c\\xe0\\xf9\\xad\\xcaC\\xf0\\xf7\\xe0W\\x86<\\x1f\\xaa\\xad\\xe5\\x9d\\xba\\xc6O\\xde\\xafP\\xd5<\\x17\\xa3\\xeb:+Y\\x95R\\xac\\xbfz\\xbe5\\xbc\\xfd\\xae\\xbcs\\r\\xe2\\xc7\\x1e\\x8dp\\xdf?\\xcc\\xd5\\xf4\\xa7\\xc2\\x1f\\x8a:\\xbf\\x8b|7oyq\\x1b\\xab<K\\xb9^\\xa5\\xbc\\\\\\xa5\\xcd5\\xa1\\x10\\xa9A\\xfb\\xb4\\x9e\\xa7\\x19\\xe2O\\x82~\\x12\\xd2\\xb5V\\x92\\xe2%V\\xdf\\xf7\\xabw\\xe1\\xee\\x9b\\xe1/\\x0c^/\\xd8\\xe4\\x89w7\\xcd^u\\xfbWx\\xb7\\xc6z&\\xeb\\x8d\\x1e\\xdeV\\xcf\\xde\\xd9^\\r\\xa5x\\xf3\\xe3\\r\\xfd\\xfcw\\x96\\xe6U\\x08\\xdf2\\xb6\\xe1[\\xb8bj\\xc7}\\x0ez\\xd5\\xe8a\\xa6\\xbd\\xddY\\xfa-|t\\x8dGH)\\x94ed\\xfb\\xd5\\xe5\\x1e$\\xd6\\xfc%\\xe1\\xbdI\\xa3\\xbc\\x96(\\xfeo\\x96\\x97\\xe0\\x86\\xb1\\xe2O\\x11\\xf8b\\xdf\\xfbSw\\x9b\\xb7\\xe6\\xaeO\\xf6\\x8a\\xf8E\\xae\\xeb!\\xaf4\\xf9\\x19d\\xae\\x7fg9\\xcb\\x91\\xbf\\xd0\\xeb\\x85[\\xd0r\\x82\\xb9\\xda\\xf8O\\xe3O\\x83\\xad\\xb5%\\xb2\\x8fP\\x8b/\\xf2\\xaa\\xd7g\\xaex\\x9bJ\\xd4\\xf4y$B\\xae6\\xfc\\xb5\\xf1\\xc7\\x85~\\t\\xf8\\xf2\\xc3\\xc46\\xfa\\x85\\xc5\\xc4\\xbf$\\xbf3W\\xd4\\xfe\\x0c\\xf0\\x95\\xe5\\xce\\x88\\xb6\\xf7\\x1b\\xd8y_6\\xfa\\xa7G\\xd9\\xca\\xfc\\xc6tk\\xce\\xa4\\xbd\\xe8\\xd8\\xf1O\\x89\\x1f\\xb4>\\x95\\xe0\\xedVM?\\xccM\\xea\\xff\\x00-T\\xf8c\\xfb^\\xdb^x\\x91t\\xb9$\\xdb\\xbd\\xbeZ\\xd2\\xf8\\xeb\\xfb-i\\xbe\"\\xd6\\xfe\\xd9%\\xbb\\xa9o\\xe2\\xac\\x1f\\t~\\xcbZn\\x8fy\\r\\xe4q\\xa2\\xba|\\xdb\\xaa\\xd5*\\x0e\\xed\\xbdQ\\xcfZx\\xc8\\xd7\\xf7\\x16\\x87\\xd1W\\x9e!\\xb9\\xf1?\\x87\\x9aK\\x7f\\x9bt_-|\\x91\\xf1\\xa7\\xc4?\\x17|=\\xe2I#\\xd2\\xec\\xdeHK\\xb6\\xdf\\x9c\\xd7\\xd8\\x7f\\r\\xf4[8t\\xa5\\xb3\\x91\\xd5\\xb6&\\xde+\\x17\\xe2O\\xc3]\\x06\\xe9\\xfe\\xd9ql\\xadYR\\x9d\\x1an\\xcfTvN\\x15j\\xd2\\xb5\\xec\\xcf\\x91>\\x14x\\xff\\x00\\xe2\\xeax\\xce\\x14\\xbc\\xb7\\x97\\xc9\\x97\\xef75\\xf5\\x0b\\xe8\\xfa\\xdf\\x88|0\\xd1\\xdcF\\xfb\\x9e/\\x99\\xaa\\x86\\x95\\xe1\\xef\\x04\\xe9\\xb3,\\x91\\xc7\\x02\\xba\\x7f\\x17\\x15\\xe8\\xfe\\x14\\xf1\\x0e\\x85=\\x92\\xdb\\xc5s\\x10\\xdb\\xfc4\\xa5^\\x8d\\xad\\x04E\\x0c=X\\xfcR>\\x18\\xf8\\xc1\\xfb3x\\x9fR\\xf1T\\x97\\x11\\xdc\\\\*o\\xfb\\xa9]?\\xc0\\x7f\\x80\\xfa\\xf7\\x835\\x8b{\\xc8\\xae\\'\\xdb\\xbb\\xf7\\x9b\\xf3_T|H\\x87D\\x86\\x06\\xd4\\x0ci\\xc2\\xfc\\xd5\\xe4\\xd7\\x9f\\x1a|+\\xa0\\xde\\xb4r\\\\*\\xb0\\xae\\x99\\xe2\\x9c\\xa9YD\\xe7\\xa9\\x82\\xa1\\n\\xbc\\xeeG\\xb5h\\xfe\\x19MS\\xc3\\xcbos\\xf3|\\xb5\\xe4\\xbf\\x11\\x7fg_\\x0f\\\\\\xeb\\ryqn\\x9f3\\xd7_\\xf0\\xbf\\xe3\\x9e\\x83\\xe21\\xf6h/\\x11\\xbf\\xd9\\xdfZ\\x1f\\x15\\xb5Wm\\x1eK\\xfb8\\xf7\\x15M\\xcb\\\\q\\xaf8M\\xf4l\\xf4#\\n5ir\\xbdQ\\xe7\\xbe\\x12\\xf8Q\\xe1\\x8f\\x0c^-\\xe5\\xbf\\x94\\xa5k\\xd8|=g\\xa2\\xdf\\xe9\\xbfg\\xf3\\x11\\xbeJ\\xf8\\xab\\xe2\\x17\\xed5\\xaa\\xe8:\\xac\\x9a|q\\xca\\xad\\xb9\\x96\\xba_\\x80?\\xb4\\xfe\\xab\\xe2\\x1dUt\\xfb\\x8f9\\x7f\\xdf\\xad]<]K\\xc9\\xecrC\\x15\\x84\\xa1/f\\x95\\x99\\xf4\\x0f\\x8e|\\x19\\xe1\\xbd6\\xe5\\xaf$\\xb3\\x8b\\xfd\\xea\\xe6a\\xf8\\x81\\xe1-\\x12o/\\xcd\\x89Y+C\\xe2\\x15\\xce\\xa5\\xe2O\\x0cI%\\x9e\\xed\\xfb~Z\\xf8\\xcf\\xe2^\\x95\\xf1^\\x1f\\x10\\xcdog$\\xaa\\x85\\xfe^\\xb4\\xe8\\xd1\\x95h\\xf2\\xb7\\xa9\\xa6+\\x11N\\x8c}\\xa4U\\xcf\\xbf|\\t\\xf1OA\\xd6\\xe0[kk\\x95#\\xfd\\xfa\\xcb\\xf8\\xb3\\xa8\\xc9ga&\\xa7f\\x9b\\x82\\xa6\\xef\\x92\\xbeM\\xfd\\x9c\\xae~&\\xe8:\\xdcv\\xfa\\xc5\\xc34N\\xff\\x00/Z\\xfb\\x02\\xcfD\\x93\\xc4\\xfe\\x1e[{\\xc8\\xf7n\\x8b\\xe6\\xac\\xaa\\xe1\\xfd\\x84\\xb4W]\\xcb\\xc2c\\x16&-5k\\x9f\\'\\xf8\\xdb\\xf6\\x9f\\xff\\x00\\x84{Rk9d\\xdaU\\xbeU\\xae\\xeb\\xe0?\\xed,\\xfe0\\x9a;?\\xb4n\\xaa\\xff\\x00\\x16\\xbfd\\xdd7V\\xd6\\x1a\\xe3\\xfb=\\x17-W\\xfe\\x0f\\xfe\\xcd6\\xde\\x15\\xd6#\\xb8\\xb7\\x8fj\\x86\\xf9\\xab\\xae0\\xc1\\xfb-\\xf59\\xa4\\xb1\\xb0\\xad\\xa3\\xd0\\xf7\\x94/\\xa9i\\xab\\xa8G\\x1e\\xe6e\\xf9\\xab\\x80\\xf1\\xb6\\xa5\\xa8\\xd8n\\xfb>\\xe5\\xafd\\xd04[{])l\\xc7\\xde\\xdb\\xf3W\\'\\xe3\\x9f\\x08[H\\xcd,\\x9fw\\xf8\\xab\\x92\\x0e\\x9a\\xf7OZ\\x0f\\x9e6\\xfbG\\xff\\xd9'],\n",
              " 'image/filename': [b'Orangeball180732.jpg'],\n",
              " 'image/format': [b'jpg'],\n",
              " 'image/height': array([480]),\n",
              " 'image/object/bbox/xmax': array([0.071875, 0.284375, 0.459375, 0.503125], dtype=float32),\n",
              " 'image/object/bbox/xmin': array([0.0015625, 0.203125 , 0.3890625, 0.4390625], dtype=float32),\n",
              " 'image/object/bbox/ymax': array([0.32083333, 0.36875   , 0.32083333, 0.23333333], dtype=float32),\n",
              " 'image/object/bbox/ymin': array([0.22083333, 0.26666668, 0.22708334, 0.14583333], dtype=float32),\n",
              " 'image/object/class/label': array([1, 1, 1, 1]),\n",
              " 'image/object/class/text': [b'Ball', b'Ball', b'Ball', b'Ball'],\n",
              " 'image/source_id': [b'Orangeball180732.jpg'],\n",
              " 'image/width': array([640])}"
            ]
          },
          "metadata": {
            "tags": []
          },
          "execution_count": 28
        }
      ]
    },
    {
      "cell_type": "code",
      "metadata": {
        "colab": {
          "base_uri": "https://localhost:8080/"
        },
        "id": "RkyBEW0DvRqh",
        "outputId": "cc9863a9-afb8-4482-9831-83af2412e62e"
      },
      "source": [
        "%cd /content/workspace/training_demo"
      ],
      "execution_count": null,
      "outputs": [
        {
          "output_type": "stream",
          "text": [
            "/content/workspace/training_demo\n"
          ],
          "name": "stdout"
        }
      ]
    },
    {
      "cell_type": "code",
      "metadata": {
        "id": "09l5zQywvp4_"
      },
      "source": [
        "mkdir pre_trained_models"
      ],
      "execution_count": null,
      "outputs": []
    },
    {
      "cell_type": "code",
      "metadata": {
        "colab": {
          "base_uri": "https://localhost:8080/"
        },
        "id": "tkASmqDIw9e6",
        "outputId": "95ad4de8-0fdc-4503-8299-4452ab506845"
      },
      "source": [
        "cd pre_trained_models/"
      ],
      "execution_count": null,
      "outputs": [
        {
          "output_type": "stream",
          "text": [
            "/content/workspace/training_demo/pre_trained_models\n"
          ],
          "name": "stdout"
        }
      ]
    },
    {
      "cell_type": "code",
      "metadata": {
        "id": "1gau4nDKIu-o"
      },
      "source": [
        "# Name of the object detection model to use.\n",
        "MODEL = MODELS_CONFIG[selected_model]['model_name']\n",
        "\n",
        "# Name of the pipline file in tensorflow object detection API.\n",
        "pipeline_file = MODELS_CONFIG[selected_model]['pipeline_file']\n",
        "\n",
        "#selecting the model\n",
        "MODEL_FILE = MODEL + '.tar.gz'\n",
        "\n",
        "#creating the download link for the model selected\n",
        "DOWNLOAD_BASE = 'http://download.tensorflow.org/models/object_detection/tf2/20200711/'\n",
        "\n",
        "#the destination folder where the model will be saved\n",
        "fine_tune_dir = '/content/workspace/training_demo/pre_trained_models'"
      ],
      "execution_count": null,
      "outputs": []
    },
    {
      "cell_type": "code",
      "metadata": {
        "id": "oAvINvCzBmv7"
      },
      "source": [
        "#checks if the model has already been downloaded\n",
        "if not (os.path.exists(MODEL_FILE)):\n",
        "    urllib.request.urlretrieve(DOWNLOAD_BASE + MODEL_FILE, MODEL_FILE)\n"
      ],
      "execution_count": null,
      "outputs": []
    },
    {
      "cell_type": "code",
      "metadata": {
        "id": "oX-Tsu2NJg8L"
      },
      "source": [
        "#unzipping the file and extracting its content\n",
        "tar = tarfile.open(MODEL_FILE)\n",
        "tar.extractall()\n",
        "tar.close()"
      ],
      "execution_count": null,
      "outputs": []
    },
    {
      "cell_type": "code",
      "metadata": {
        "id": "r3rDyzstJir8"
      },
      "source": [
        "# remove the zip file\n",
        "os.remove(MODEL_FILE)"
      ],
      "execution_count": null,
      "outputs": []
    },
    {
      "cell_type": "markdown",
      "metadata": {
        "id": "qifTqwEaXUPZ"
      },
      "source": [
        "Edit CONFIG_BASE for the model you are training"
      ]
    },
    {
      "cell_type": "code",
      "metadata": {
        "id": "GPWRQHWaB7Ms",
        "colab": {
          "base_uri": "https://localhost:8080/",
          "height": 52
        },
        "outputId": "f93e17ce-1cc3-41ec-ed34-865be6a31cc4"
      },
      "source": [
        "#the path to the folder containing all the sample config files\n",
        "CONFIG_BASE = \"/content/workspace/training_demo/pre_trained_models/ssd_mobilenet_v2_fpnlite_640x640_coco17_tpu-8/pipeline.config\"\n",
        "\n",
        "#path to the specified model's config file\n",
        "model_pipline = os.path.join(CONFIG_BASE)\n",
        "model_pipline"
      ],
      "execution_count": null,
      "outputs": [
        {
          "output_type": "execute_result",
          "data": {
            "application/vnd.google.colaboratory.intrinsic+json": {
              "type": "string"
            },
            "text/plain": [
              "'/content/workspace/training_demo/pre_trained_models/ssd_mobilenet_v2_fpnlite_640x640_coco17_tpu-8/pipeline.config'"
            ]
          },
          "metadata": {
            "tags": []
          },
          "execution_count": 39
        }
      ]
    },
    {
      "cell_type": "markdown",
      "metadata": {
        "id": "3SOXPoNPTxsZ"
      },
      "source": [
        "View the standard config file for this model - edit for the model you are training"
      ]
    },
    {
      "cell_type": "code",
      "metadata": {
        "colab": {
          "base_uri": "https://localhost:8080/"
        },
        "id": "-tKttkHOimUm",
        "outputId": "67e170d4-e032-4e50-ba02-c8a3efe82709"
      },
      "source": [
        "cat ssd_mobilenet_v2_fpnlite_640x640_coco17_tpu-8/pipeline.config"
      ],
      "execution_count": null,
      "outputs": [
        {
          "output_type": "stream",
          "text": [
            "model {\n",
            "  ssd {\n",
            "    num_classes: 90\n",
            "    image_resizer {\n",
            "      fixed_shape_resizer {\n",
            "        height: 640\n",
            "        width: 640\n",
            "      }\n",
            "    }\n",
            "    feature_extractor {\n",
            "      type: \"ssd_mobilenet_v2_fpn_keras\"\n",
            "      depth_multiplier: 1.0\n",
            "      min_depth: 16\n",
            "      conv_hyperparams {\n",
            "        regularizer {\n",
            "          l2_regularizer {\n",
            "            weight: 3.9999998989515007e-05\n",
            "          }\n",
            "        }\n",
            "        initializer {\n",
            "          random_normal_initializer {\n",
            "            mean: 0.0\n",
            "            stddev: 0.009999999776482582\n",
            "          }\n",
            "        }\n",
            "        activation: RELU_6\n",
            "        batch_norm {\n",
            "          decay: 0.996999979019165\n",
            "          scale: true\n",
            "          epsilon: 0.0010000000474974513\n",
            "        }\n",
            "      }\n",
            "      use_depthwise: true\n",
            "      override_base_feature_extractor_hyperparams: true\n",
            "      fpn {\n",
            "        min_level: 3\n",
            "        max_level: 7\n",
            "        additional_layer_depth: 128\n",
            "      }\n",
            "    }\n",
            "    box_coder {\n",
            "      faster_rcnn_box_coder {\n",
            "        y_scale: 10.0\n",
            "        x_scale: 10.0\n",
            "        height_scale: 5.0\n",
            "        width_scale: 5.0\n",
            "      }\n",
            "    }\n",
            "    matcher {\n",
            "      argmax_matcher {\n",
            "        matched_threshold: 0.5\n",
            "        unmatched_threshold: 0.5\n",
            "        ignore_thresholds: false\n",
            "        negatives_lower_than_unmatched: true\n",
            "        force_match_for_each_row: true\n",
            "        use_matmul_gather: true\n",
            "      }\n",
            "    }\n",
            "    similarity_calculator {\n",
            "      iou_similarity {\n",
            "      }\n",
            "    }\n",
            "    box_predictor {\n",
            "      weight_shared_convolutional_box_predictor {\n",
            "        conv_hyperparams {\n",
            "          regularizer {\n",
            "            l2_regularizer {\n",
            "              weight: 3.9999998989515007e-05\n",
            "            }\n",
            "          }\n",
            "          initializer {\n",
            "            random_normal_initializer {\n",
            "              mean: 0.0\n",
            "              stddev: 0.009999999776482582\n",
            "            }\n",
            "          }\n",
            "          activation: RELU_6\n",
            "          batch_norm {\n",
            "            decay: 0.996999979019165\n",
            "            scale: true\n",
            "            epsilon: 0.0010000000474974513\n",
            "          }\n",
            "        }\n",
            "        depth: 128\n",
            "        num_layers_before_predictor: 4\n",
            "        kernel_size: 3\n",
            "        class_prediction_bias_init: -4.599999904632568\n",
            "        share_prediction_tower: true\n",
            "        use_depthwise: true\n",
            "      }\n",
            "    }\n",
            "    anchor_generator {\n",
            "      multiscale_anchor_generator {\n",
            "        min_level: 3\n",
            "        max_level: 7\n",
            "        anchor_scale: 4.0\n",
            "        aspect_ratios: 1.0\n",
            "        aspect_ratios: 2.0\n",
            "        aspect_ratios: 0.5\n",
            "        scales_per_octave: 2\n",
            "      }\n",
            "    }\n",
            "    post_processing {\n",
            "      batch_non_max_suppression {\n",
            "        score_threshold: 9.99999993922529e-09\n",
            "        iou_threshold: 0.6000000238418579\n",
            "        max_detections_per_class: 100\n",
            "        max_total_detections: 100\n",
            "        use_static_shapes: false\n",
            "      }\n",
            "      score_converter: SIGMOID\n",
            "    }\n",
            "    normalize_loss_by_num_matches: true\n",
            "    loss {\n",
            "      localization_loss {\n",
            "        weighted_smooth_l1 {\n",
            "        }\n",
            "      }\n",
            "      classification_loss {\n",
            "        weighted_sigmoid_focal {\n",
            "          gamma: 2.0\n",
            "          alpha: 0.25\n",
            "        }\n",
            "      }\n",
            "      classification_weight: 1.0\n",
            "      localization_weight: 1.0\n",
            "    }\n",
            "    encode_background_as_zeros: true\n",
            "    normalize_loc_loss_by_codesize: true\n",
            "    inplace_batchnorm_update: true\n",
            "    freeze_batchnorm: false\n",
            "  }\n",
            "}\n",
            "train_config {\n",
            "  batch_size: 128\n",
            "  data_augmentation_options {\n",
            "    random_horizontal_flip {\n",
            "    }\n",
            "  }\n",
            "  data_augmentation_options {\n",
            "    random_crop_image {\n",
            "      min_object_covered: 0.0\n",
            "      min_aspect_ratio: 0.75\n",
            "      max_aspect_ratio: 3.0\n",
            "      min_area: 0.75\n",
            "      max_area: 1.0\n",
            "      overlap_thresh: 0.0\n",
            "    }\n",
            "  }\n",
            "  sync_replicas: true\n",
            "  optimizer {\n",
            "    momentum_optimizer {\n",
            "      learning_rate {\n",
            "        cosine_decay_learning_rate {\n",
            "          learning_rate_base: 0.07999999821186066\n",
            "          total_steps: 50000\n",
            "          warmup_learning_rate: 0.026666000485420227\n",
            "          warmup_steps: 1000\n",
            "        }\n",
            "      }\n",
            "      momentum_optimizer_value: 0.8999999761581421\n",
            "    }\n",
            "    use_moving_average: false\n",
            "  }\n",
            "  fine_tune_checkpoint: \"PATH_TO_BE_CONFIGURED\"\n",
            "  num_steps: 50000\n",
            "  startup_delay_steps: 0.0\n",
            "  replicas_to_aggregate: 8\n",
            "  max_number_of_boxes: 100\n",
            "  unpad_groundtruth_tensors: false\n",
            "  fine_tune_checkpoint_type: \"classification\"\n",
            "  fine_tune_checkpoint_version: V2\n",
            "}\n",
            "train_input_reader {\n",
            "  label_map_path: \"PATH_TO_BE_CONFIGURED\"\n",
            "  tf_record_input_reader {\n",
            "    input_path: \"PATH_TO_BE_CONFIGURED\"\n",
            "  }\n",
            "}\n",
            "eval_config {\n",
            "  metrics_set: \"coco_detection_metrics\"\n",
            "  use_moving_averages: false\n",
            "}\n",
            "eval_input_reader {\n",
            "  label_map_path: \"PATH_TO_BE_CONFIGURED\"\n",
            "  shuffle: false\n",
            "  num_epochs: 1\n",
            "  tf_record_input_reader {\n",
            "    input_path: \"PATH_TO_BE_CONFIGURED\"\n",
            "  }\n",
            "}\n"
          ],
          "name": "stdout"
        }
      ]
    },
    {
      "cell_type": "markdown",
      "metadata": {
        "id": "oT8_ncqyT5F0"
      },
      "source": [
        "Overwrite with your nube of classes, the correct file locations and any changes to augmentation and hyperparameters - ensure height, width and config path match the model you are training"
      ]
    },
    {
      "cell_type": "code",
      "metadata": {
        "colab": {
          "base_uri": "https://localhost:8080/"
        },
        "id": "AWVBbRH3lHPq",
        "outputId": "851f2a57-a956-4990-80c7-d0f3abb36445"
      },
      "source": [
        "%%writefile {model_pipline}\n",
        "model {\n",
        "  ssd {\n",
        "    num_classes: 2\n",
        "    image_resizer {\n",
        "      fixed_shape_resizer {\n",
        "        height: 640\n",
        "        width: 640\n",
        "      }\n",
        "    }\n",
        "    feature_extractor {\n",
        "      type: \"ssd_mobilenet_v2_fpn_keras\"\n",
        "      depth_multiplier: 1.0\n",
        "      min_depth: 16\n",
        "      conv_hyperparams {\n",
        "        regularizer {\n",
        "          l2_regularizer {\n",
        "            weight: 3.9999998989515007e-05\n",
        "          }\n",
        "        }\n",
        "        initializer {\n",
        "          random_normal_initializer {\n",
        "            mean: 0.0\n",
        "            stddev: 0.009999999776482582\n",
        "          }\n",
        "        }\n",
        "        activation: RELU_6\n",
        "        batch_norm {\n",
        "          decay: 0.996999979019165\n",
        "          scale: true\n",
        "          epsilon: 0.0010000000474974513\n",
        "        }\n",
        "      }\n",
        "      use_depthwise: true\n",
        "      override_base_feature_extractor_hyperparams: true\n",
        "      fpn {\n",
        "        min_level: 3\n",
        "        max_level: 7\n",
        "        additional_layer_depth: 128\n",
        "      }\n",
        "    }\n",
        "    box_coder {\n",
        "      faster_rcnn_box_coder {\n",
        "        y_scale: 10.0\n",
        "        x_scale: 10.0\n",
        "        height_scale: 5.0\n",
        "        width_scale: 5.0\n",
        "      }\n",
        "    }\n",
        "    matcher {\n",
        "      argmax_matcher {\n",
        "        matched_threshold: 0.5\n",
        "        unmatched_threshold: 0.5\n",
        "        ignore_thresholds: false\n",
        "        negatives_lower_than_unmatched: true\n",
        "        force_match_for_each_row: true\n",
        "        use_matmul_gather: true\n",
        "      }\n",
        "    }\n",
        "    similarity_calculator {\n",
        "      iou_similarity {\n",
        "      }\n",
        "    }\n",
        "    box_predictor {\n",
        "      weight_shared_convolutional_box_predictor {\n",
        "        conv_hyperparams {\n",
        "          regularizer {\n",
        "            l2_regularizer {\n",
        "              weight: 3.9999998989515007e-05\n",
        "            }\n",
        "          }\n",
        "          initializer {\n",
        "            random_normal_initializer {\n",
        "              mean: 0.0\n",
        "              stddev: 0.009999999776482582\n",
        "            }\n",
        "          }\n",
        "          activation: RELU_6\n",
        "          batch_norm {\n",
        "            decay: 0.996999979019165\n",
        "            scale: true\n",
        "            epsilon: 0.0010000000474974513\n",
        "          }\n",
        "        }\n",
        "        depth: 128\n",
        "        num_layers_before_predictor: 4\n",
        "        kernel_size: 3\n",
        "        class_prediction_bias_init: -4.599999904632568\n",
        "        share_prediction_tower: true\n",
        "        use_depthwise: true\n",
        "      }\n",
        "    }\n",
        "    anchor_generator {\n",
        "      multiscale_anchor_generator {\n",
        "        min_level: 3\n",
        "        max_level: 7\n",
        "        anchor_scale: 4.0\n",
        "        aspect_ratios: 1.0\n",
        "        aspect_ratios: 2.0\n",
        "        aspect_ratios: 0.5\n",
        "        scales_per_octave: 2\n",
        "      }\n",
        "    }\n",
        "    post_processing {\n",
        "      batch_non_max_suppression {\n",
        "        score_threshold: 9.99999993922529e-09\n",
        "        iou_threshold: 0.6000000238418579\n",
        "        max_detections_per_class: 100\n",
        "        max_total_detections: 100\n",
        "        use_static_shapes: false\n",
        "      }\n",
        "      score_converter: SIGMOID\n",
        "    }\n",
        "    normalize_loss_by_num_matches: true\n",
        "    loss {\n",
        "      localization_loss {\n",
        "        weighted_smooth_l1 {\n",
        "        }\n",
        "      }\n",
        "      classification_loss {\n",
        "        weighted_sigmoid_focal {\n",
        "          gamma: 2.0\n",
        "          alpha: 0.25\n",
        "        }\n",
        "      }\n",
        "      classification_weight: 1.0\n",
        "      localization_weight: 1.0\n",
        "    }\n",
        "    encode_background_as_zeros: true\n",
        "    normalize_loc_loss_by_codesize: true\n",
        "    inplace_batchnorm_update: true\n",
        "    freeze_batchnorm: false\n",
        "  }\n",
        "}\n",
        "train_config {\n",
        "  batch_size: 8\n",
        "  data_augmentation_options {\n",
        "    random_horizontal_flip {\n",
        "    }\n",
        "  }\n",
        "  data_augmentation_options {\n",
        "    random_crop_image {\n",
        "      min_object_covered: 0.0\n",
        "      min_aspect_ratio: 0.75\n",
        "      max_aspect_ratio: 3.0\n",
        "      min_area: 0.75\n",
        "      max_area: 1.0\n",
        "      overlap_thresh: 0.0\n",
        "    }\n",
        "  }\n",
        "  sync_replicas: true\n",
        "  optimizer {\n",
        "    momentum_optimizer {\n",
        "      learning_rate {\n",
        "        cosine_decay_learning_rate {\n",
        "          learning_rate_base: 0.07999999821186066\n",
        "          total_steps: 50000\n",
        "          warmup_learning_rate: 0.026666000485420227\n",
        "          warmup_steps: 1000\n",
        "        }\n",
        "      }\n",
        "      momentum_optimizer_value: 0.8999999761581421\n",
        "    }\n",
        "    use_moving_average: false\n",
        "  }\n",
        "  fine_tune_checkpoint: \"/content/workspace/training_demo/pre_trained_models/ssd_mobilenet_v2_fpnlite_640x640_coco17_tpu-8/checkpoint/ckpt-0\" # Path to checkpoint of pre-trained model\n",
        "  num_steps: 1000\n",
        "  startup_delay_steps: 0.0\n",
        "  replicas_to_aggregate: 8\n",
        "  max_number_of_boxes: 100\n",
        "  unpad_groundtruth_tensors: false\n",
        "  fine_tune_checkpoint_type: \"detection\" #Set this to \"detection\" since we want to be training the full detection model\n",
        "  fine_tune_checkpoint_version: V2\n",
        "}\n",
        "train_input_reader {\n",
        "  label_map_path: \"/content/workspace/training_demo/images/label_map.pbtxt\" # Path to label map file\n",
        "  tf_record_input_reader {\n",
        "    input_path: \"/content/workspace/training_demo/images/train.record\" # Path the training tf records\n",
        "  }\n",
        "}\n",
        "eval_config {\n",
        "  metrics_set: \"coco_detection_metrics\"\n",
        "  use_moving_averages: false\n",
        "}\n",
        "eval_input_reader {\n",
        "  label_map_path: \"/content/workspace/training_demo/images/label_map.pbtxt\" # Path to label map file\n",
        "  shuffle: false\n",
        "  num_epochs: 1\n",
        "  tf_record_input_reader {\n",
        "    input_path: \"/content/workspace/training_demo/images/test.record\" # Path to test tf records\n",
        "  }\n",
        "}\n"
      ],
      "execution_count": null,
      "outputs": [
        {
          "output_type": "stream",
          "text": [
            "Overwriting /content/workspace/training_demo/pre_trained_models/ssd_mobilenet_v2_fpnlite_640x640_coco17_tpu-8/pipeline.config\n"
          ],
          "name": "stdout"
        }
      ]
    },
    {
      "cell_type": "markdown",
      "metadata": {
        "id": "GjwHQc0kdncR"
      },
      "source": [
        "copy the model_main_tf2 and exporter_main_tf2 scripts to your pre-trained_models directory.  This just makes it easier to see what scripts you are running later"
      ]
    },
    {
      "cell_type": "code",
      "metadata": {
        "id": "a6k3HJ5v30be"
      },
      "source": [
        "cp /content/models/research/object_detection/model_main_tf2.py /content/workspace/training_demo/pre_trained_models"
      ],
      "execution_count": null,
      "outputs": []
    },
    {
      "cell_type": "code",
      "metadata": {
        "id": "Lr3K7r-Jv0v4"
      },
      "source": [
        "cp /content/models/research/object_detection/exporter_main_v2.py /content/workspace/training_demo/pre_trained_models"
      ],
      "execution_count": null,
      "outputs": []
    },
    {
      "cell_type": "markdown",
      "metadata": {
        "id": "MGu5Zpbjy5MO"
      },
      "source": [
        "Run Training! - change config path depending on model"
      ]
    },
    {
      "cell_type": "code",
      "metadata": {
        "colab": {
          "base_uri": "https://localhost:8080/"
        },
        "id": "goljhk2R5fBL",
        "outputId": "c01fe5ee-e250-4abd-9916-e5521cee1398"
      },
      "source": [
        "!python3 model_main_tf2.py \\\n",
        "--model_dir=trained_model \\\n",
        "--pipeline_config_path=ssd_mobilenet_v2_fpnlite_640x640_coco17_tpu-8/pipeline.config \\\n",
        "--alsologtostderr \\"
      ],
      "execution_count": null,
      "outputs": [
        {
          "output_type": "stream",
          "text": [
            "2021-01-15 09:22:13.339700: W tensorflow/stream_executor/platform/default/dso_loader.cc:60] Could not load dynamic library 'libcudart.so.11.0'; dlerror: libcudart.so.11.0: cannot open shared object file: No such file or directory; LD_LIBRARY_PATH: /usr/lib64-nvidia\n",
            "2021-01-15 09:22:13.339738: I tensorflow/stream_executor/cuda/cudart_stub.cc:29] Ignore above cudart dlerror if you do not have a GPU set up on your machine.\n",
            "2021-01-15 09:22:16.345789: I tensorflow/stream_executor/platform/default/dso_loader.cc:49] Successfully opened dynamic library libcuda.so.1\n",
            "2021-01-15 09:22:16.410985: I tensorflow/stream_executor/cuda/cuda_gpu_executor.cc:941] successful NUMA node read from SysFS had negative value (-1), but there must be at least one NUMA node, so returning NUMA node zero\n",
            "2021-01-15 09:22:16.411562: I tensorflow/core/common_runtime/gpu/gpu_device.cc:1760] Found device 0 with properties: \n",
            "pciBusID: 0000:00:04.0 name: Tesla T4 computeCapability: 7.5\n",
            "coreClock: 1.59GHz coreCount: 40 deviceMemorySize: 14.73GiB deviceMemoryBandwidth: 298.08GiB/s\n",
            "2021-01-15 09:22:16.411709: W tensorflow/stream_executor/platform/default/dso_loader.cc:60] Could not load dynamic library 'libcudart.so.11.0'; dlerror: libcudart.so.11.0: cannot open shared object file: No such file or directory; LD_LIBRARY_PATH: /usr/lib64-nvidia\n",
            "2021-01-15 09:22:16.411874: W tensorflow/stream_executor/platform/default/dso_loader.cc:60] Could not load dynamic library 'libcublas.so.11'; dlerror: libcublas.so.11: cannot open shared object file: No such file or directory; LD_LIBRARY_PATH: /usr/lib64-nvidia\n",
            "2021-01-15 09:22:16.412012: W tensorflow/stream_executor/platform/default/dso_loader.cc:60] Could not load dynamic library 'libcublasLt.so.11'; dlerror: libcublasLt.so.11: cannot open shared object file: No such file or directory; LD_LIBRARY_PATH: /usr/lib64-nvidia\n",
            "2021-01-15 09:22:16.524980: I tensorflow/stream_executor/platform/default/dso_loader.cc:49] Successfully opened dynamic library libcufft.so.10\n",
            "2021-01-15 09:22:16.562011: I tensorflow/stream_executor/platform/default/dso_loader.cc:49] Successfully opened dynamic library libcurand.so.10\n",
            "2021-01-15 09:22:16.836427: I tensorflow/stream_executor/platform/default/dso_loader.cc:49] Successfully opened dynamic library libcusolver.so.10\n",
            "2021-01-15 09:22:16.836709: W tensorflow/stream_executor/platform/default/dso_loader.cc:60] Could not load dynamic library 'libcusparse.so.11'; dlerror: libcusparse.so.11: cannot open shared object file: No such file or directory; LD_LIBRARY_PATH: /usr/lib64-nvidia\n",
            "2021-01-15 09:22:16.836936: W tensorflow/stream_executor/platform/default/dso_loader.cc:60] Could not load dynamic library 'libcudnn.so.8'; dlerror: libcudnn.so.8: cannot open shared object file: No such file or directory; LD_LIBRARY_PATH: /usr/lib64-nvidia\n",
            "2021-01-15 09:22:16.836974: W tensorflow/core/common_runtime/gpu/gpu_device.cc:1793] Cannot dlopen some GPU libraries. Please make sure the missing libraries mentioned above are installed properly if you would like to use GPU. Follow the guide at https://www.tensorflow.org/install/gpu for how to download and setup the required libraries for your platform.\n",
            "Skipping registering GPU devices...\n",
            "2021-01-15 09:22:16.846383: I tensorflow/core/platform/cpu_feature_guard.cc:142] This TensorFlow binary is optimized with oneAPI Deep Neural Network Library (oneDNN) to use the following CPU instructions in performance-critical operations:  AVX2 FMA\n",
            "To enable them in other operations, rebuild TensorFlow with the appropriate compiler flags.\n",
            "2021-01-15 09:22:16.846643: I tensorflow/core/common_runtime/gpu/gpu_device.cc:1300] Device interconnect StreamExecutor with strength 1 edge matrix:\n",
            "2021-01-15 09:22:16.846672: I tensorflow/core/common_runtime/gpu/gpu_device.cc:1306]      \n",
            "WARNING:tensorflow:There are non-GPU devices in `tf.distribute.Strategy`, not using nccl allreduce.\n",
            "W0115 09:22:16.847764 140038228400000 cross_device_ops.py:1328] There are non-GPU devices in `tf.distribute.Strategy`, not using nccl allreduce.\n",
            "INFO:tensorflow:Using MirroredStrategy with devices ('/job:localhost/replica:0/task:0/device:CPU:0',)\n",
            "I0115 09:22:16.848026 140038228400000 mirrored_strategy.py:350] Using MirroredStrategy with devices ('/job:localhost/replica:0/task:0/device:CPU:0',)\n",
            "INFO:tensorflow:Maybe overwriting train_steps: None\n",
            "I0115 09:22:16.853239 140038228400000 config_util.py:552] Maybe overwriting train_steps: None\n",
            "INFO:tensorflow:Maybe overwriting use_bfloat16: False\n",
            "I0115 09:22:16.853374 140038228400000 config_util.py:552] Maybe overwriting use_bfloat16: False\n",
            "WARNING:tensorflow:From /usr/local/lib/python3.6/dist-packages/object_detection/model_lib_v2.py:523: StrategyBase.experimental_distribute_datasets_from_function (from tensorflow.python.distribute.distribute_lib) is deprecated and will be removed in a future version.\n",
            "Instructions for updating:\n",
            "rename to distribute_datasets_from_function\n",
            "W0115 09:22:16.900641 140038228400000 deprecation.py:336] From /usr/local/lib/python3.6/dist-packages/object_detection/model_lib_v2.py:523: StrategyBase.experimental_distribute_datasets_from_function (from tensorflow.python.distribute.distribute_lib) is deprecated and will be removed in a future version.\n",
            "Instructions for updating:\n",
            "rename to distribute_datasets_from_function\n",
            "INFO:tensorflow:Reading unweighted datasets: ['/content/workspace/training_demo/images/train.record']\n",
            "I0115 09:22:16.948676 140038228400000 dataset_builder.py:148] Reading unweighted datasets: ['/content/workspace/training_demo/images/train.record']\n",
            "INFO:tensorflow:Reading record datasets for input file: ['/content/workspace/training_demo/images/train.record']\n",
            "I0115 09:22:16.948837 140038228400000 dataset_builder.py:77] Reading record datasets for input file: ['/content/workspace/training_demo/images/train.record']\n",
            "INFO:tensorflow:Number of filenames to read: 1\n",
            "I0115 09:22:16.948926 140038228400000 dataset_builder.py:78] Number of filenames to read: 1\n",
            "WARNING:tensorflow:num_readers has been reduced to 1 to match input file shards.\n",
            "W0115 09:22:16.949002 140038228400000 dataset_builder.py:86] num_readers has been reduced to 1 to match input file shards.\n",
            "WARNING:tensorflow:From /usr/local/lib/python3.6/dist-packages/object_detection/builders/dataset_builder.py:103: parallel_interleave (from tensorflow.python.data.experimental.ops.interleave_ops) is deprecated and will be removed in a future version.\n",
            "Instructions for updating:\n",
            "Use `tf.data.Dataset.interleave(map_func, cycle_length, block_length, num_parallel_calls=tf.data.AUTOTUNE)` instead. If sloppy execution is desired, use `tf.data.Options.experimental_deterministic`.\n",
            "W0115 09:22:16.951622 140038228400000 deprecation.py:336] From /usr/local/lib/python3.6/dist-packages/object_detection/builders/dataset_builder.py:103: parallel_interleave (from tensorflow.python.data.experimental.ops.interleave_ops) is deprecated and will be removed in a future version.\n",
            "Instructions for updating:\n",
            "Use `tf.data.Dataset.interleave(map_func, cycle_length, block_length, num_parallel_calls=tf.data.AUTOTUNE)` instead. If sloppy execution is desired, use `tf.data.Options.experimental_deterministic`.\n",
            "WARNING:tensorflow:From /usr/local/lib/python3.6/dist-packages/object_detection/builders/dataset_builder.py:222: DatasetV1.map_with_legacy_function (from tensorflow.python.data.ops.dataset_ops) is deprecated and will be removed in a future version.\n",
            "Instructions for updating:\n",
            "Use `tf.data.Dataset.map()\n",
            "W0115 09:22:16.972912 140038228400000 deprecation.py:336] From /usr/local/lib/python3.6/dist-packages/object_detection/builders/dataset_builder.py:222: DatasetV1.map_with_legacy_function (from tensorflow.python.data.ops.dataset_ops) is deprecated and will be removed in a future version.\n",
            "Instructions for updating:\n",
            "Use `tf.data.Dataset.map()\n",
            "WARNING:tensorflow:From /usr/local/lib/python3.6/dist-packages/tensorflow/python/util/dispatch.py:206: sparse_to_dense (from tensorflow.python.ops.sparse_ops) is deprecated and will be removed in a future version.\n",
            "Instructions for updating:\n",
            "Create a `tf.sparse.SparseTensor` and use `tf.sparse.to_dense` instead.\n",
            "W0115 09:22:22.554891 140038228400000 deprecation.py:336] From /usr/local/lib/python3.6/dist-packages/tensorflow/python/util/dispatch.py:206: sparse_to_dense (from tensorflow.python.ops.sparse_ops) is deprecated and will be removed in a future version.\n",
            "Instructions for updating:\n",
            "Create a `tf.sparse.SparseTensor` and use `tf.sparse.to_dense` instead.\n",
            "WARNING:tensorflow:From /usr/local/lib/python3.6/dist-packages/tensorflow/python/util/dispatch.py:206: sample_distorted_bounding_box (from tensorflow.python.ops.image_ops_impl) is deprecated and will be removed in a future version.\n",
            "Instructions for updating:\n",
            "`seed2` arg is deprecated.Use sample_distorted_bounding_box_v2 instead.\n",
            "W0115 09:22:25.180236 140038228400000 deprecation.py:336] From /usr/local/lib/python3.6/dist-packages/tensorflow/python/util/dispatch.py:206: sample_distorted_bounding_box (from tensorflow.python.ops.image_ops_impl) is deprecated and will be removed in a future version.\n",
            "Instructions for updating:\n",
            "`seed2` arg is deprecated.Use sample_distorted_bounding_box_v2 instead.\n",
            "WARNING:tensorflow:From /usr/local/lib/python3.6/dist-packages/tensorflow/python/autograph/impl/api.py:484: to_float (from tensorflow.python.ops.math_ops) is deprecated and will be removed in a future version.\n",
            "Instructions for updating:\n",
            "Use `tf.cast` instead.\n",
            "W0115 09:22:26.716893 140038228400000 deprecation.py:336] From /usr/local/lib/python3.6/dist-packages/tensorflow/python/autograph/impl/api.py:484: to_float (from tensorflow.python.ops.math_ops) is deprecated and will be removed in a future version.\n",
            "Instructions for updating:\n",
            "Use `tf.cast` instead.\n",
            "2021-01-15 09:22:28.554761: I tensorflow/compiler/mlir/mlir_graph_optimization_pass.cc:128] None of the MLIR optimization passes are enabled (registered 2)\n",
            "2021-01-15 09:22:28.562690: I tensorflow/core/platform/profile_utils/cpu_utils.cc:112] CPU Frequency: 2199995000 Hz\n",
            "2021-01-15 09:22:29.335136: W tensorflow/core/framework/cpu_allocator_impl.cc:80] Allocation of 39321600 exceeds 10% of free system memory.\n",
            "2021-01-15 09:22:29.510274: W tensorflow/core/framework/cpu_allocator_impl.cc:80] Allocation of 39321600 exceeds 10% of free system memory.\n",
            "2021-01-15 09:22:29.588840: W tensorflow/core/framework/cpu_allocator_impl.cc:80] Allocation of 39321600 exceeds 10% of free system memory.\n",
            "2021-01-15 09:22:29.640206: W tensorflow/core/framework/cpu_allocator_impl.cc:80] Allocation of 39321600 exceeds 10% of free system memory.\n",
            "2021-01-15 09:22:29.709835: W tensorflow/core/framework/cpu_allocator_impl.cc:80] Allocation of 39321600 exceeds 10% of free system memory.\n",
            "/usr/local/lib/python3.6/dist-packages/tensorflow/python/keras/backend.py:440: UserWarning: `tf.keras.backend.set_learning_phase` is deprecated and will be removed after 2020-10-11. To update it, simply pass a True/False value to the `training` argument of the `__call__` method of your layer or model.\n",
            "  warnings.warn('`tf.keras.backend.set_learning_phase` is deprecated and '\n",
            "WARNING:tensorflow:Unresolved object in checkpoint: (root).model._groundtruth_lists\n",
            "W0115 09:22:52.857313 140038228400000 util.py:161] Unresolved object in checkpoint: (root).model._groundtruth_lists\n",
            "WARNING:tensorflow:Unresolved object in checkpoint: (root).model._box_predictor\n",
            "W0115 09:22:52.857795 140038228400000 util.py:161] Unresolved object in checkpoint: (root).model._box_predictor\n",
            "WARNING:tensorflow:Unresolved object in checkpoint: (root).model._batched_prediction_tensor_names\n",
            "W0115 09:22:52.857909 140038228400000 util.py:161] Unresolved object in checkpoint: (root).model._batched_prediction_tensor_names\n",
            "WARNING:tensorflow:Unresolved object in checkpoint: (root).model._box_predictor._box_prediction_head\n",
            "W0115 09:22:52.857989 140038228400000 util.py:161] Unresolved object in checkpoint: (root).model._box_predictor._box_prediction_head\n",
            "WARNING:tensorflow:Unresolved object in checkpoint: (root).model._box_predictor._prediction_heads\n",
            "W0115 09:22:52.858075 140038228400000 util.py:161] Unresolved object in checkpoint: (root).model._box_predictor._prediction_heads\n",
            "WARNING:tensorflow:Unresolved object in checkpoint: (root).model._box_predictor._sorted_head_names\n",
            "W0115 09:22:52.858151 140038228400000 util.py:161] Unresolved object in checkpoint: (root).model._box_predictor._sorted_head_names\n",
            "WARNING:tensorflow:Unresolved object in checkpoint: (root).model._box_predictor._additional_projection_layers\n",
            "W0115 09:22:52.858237 140038228400000 util.py:161] Unresolved object in checkpoint: (root).model._box_predictor._additional_projection_layers\n",
            "WARNING:tensorflow:Unresolved object in checkpoint: (root).model._box_predictor._base_tower_layers_for_heads\n",
            "W0115 09:22:52.858307 140038228400000 util.py:161] Unresolved object in checkpoint: (root).model._box_predictor._base_tower_layers_for_heads\n",
            "WARNING:tensorflow:Unresolved object in checkpoint: (root).model._box_predictor._head_scope_conv_layers\n",
            "W0115 09:22:52.858376 140038228400000 util.py:161] Unresolved object in checkpoint: (root).model._box_predictor._head_scope_conv_layers\n",
            "WARNING:tensorflow:Unresolved object in checkpoint: (root).model._box_predictor._box_prediction_head._box_encoder_layers\n",
            "W0115 09:22:52.858446 140038228400000 util.py:161] Unresolved object in checkpoint: (root).model._box_predictor._box_prediction_head._box_encoder_layers\n",
            "WARNING:tensorflow:Unresolved object in checkpoint: (root).model._box_predictor._prediction_heads.class_predictions_with_background\n",
            "W0115 09:22:52.858522 140038228400000 util.py:161] Unresolved object in checkpoint: (root).model._box_predictor._prediction_heads.class_predictions_with_background\n",
            "WARNING:tensorflow:Unresolved object in checkpoint: (root).model._box_predictor._additional_projection_layers.0\n",
            "W0115 09:22:52.858592 140038228400000 util.py:161] Unresolved object in checkpoint: (root).model._box_predictor._additional_projection_layers.0\n",
            "WARNING:tensorflow:Unresolved object in checkpoint: (root).model._box_predictor._additional_projection_layers.1\n",
            "W0115 09:22:52.858659 140038228400000 util.py:161] Unresolved object in checkpoint: (root).model._box_predictor._additional_projection_layers.1\n",
            "WARNING:tensorflow:Unresolved object in checkpoint: (root).model._box_predictor._additional_projection_layers.2\n",
            "W0115 09:22:52.858727 140038228400000 util.py:161] Unresolved object in checkpoint: (root).model._box_predictor._additional_projection_layers.2\n",
            "WARNING:tensorflow:Unresolved object in checkpoint: (root).model._box_predictor._additional_projection_layers.3\n",
            "W0115 09:22:52.858812 140038228400000 util.py:161] Unresolved object in checkpoint: (root).model._box_predictor._additional_projection_layers.3\n",
            "WARNING:tensorflow:Unresolved object in checkpoint: (root).model._box_predictor._additional_projection_layers.4\n",
            "W0115 09:22:52.858891 140038228400000 util.py:161] Unresolved object in checkpoint: (root).model._box_predictor._additional_projection_layers.4\n",
            "WARNING:tensorflow:Unresolved object in checkpoint: (root).model._box_predictor._base_tower_layers_for_heads.box_encodings\n",
            "W0115 09:22:52.858960 140038228400000 util.py:161] Unresolved object in checkpoint: (root).model._box_predictor._base_tower_layers_for_heads.box_encodings\n",
            "WARNING:tensorflow:Unresolved object in checkpoint: (root).model._box_predictor._base_tower_layers_for_heads.class_predictions_with_background\n",
            "W0115 09:22:52.859030 140038228400000 util.py:161] Unresolved object in checkpoint: (root).model._box_predictor._base_tower_layers_for_heads.class_predictions_with_background\n",
            "WARNING:tensorflow:Unresolved object in checkpoint: (root).model._box_predictor._head_scope_conv_layers.PredictionTower\n",
            "W0115 09:22:52.859100 140038228400000 util.py:161] Unresolved object in checkpoint: (root).model._box_predictor._head_scope_conv_layers.PredictionTower\n",
            "WARNING:tensorflow:Unresolved object in checkpoint: (root).model._box_predictor._head_scope_conv_layers.ClassPredictionTower\n",
            "W0115 09:22:52.859179 140038228400000 util.py:161] Unresolved object in checkpoint: (root).model._box_predictor._head_scope_conv_layers.ClassPredictionTower\n",
            "WARNING:tensorflow:Unresolved object in checkpoint: (root).model._box_predictor._box_prediction_head._box_encoder_layers.0\n",
            "W0115 09:22:52.859262 140038228400000 util.py:161] Unresolved object in checkpoint: (root).model._box_predictor._box_prediction_head._box_encoder_layers.0\n",
            "WARNING:tensorflow:Unresolved object in checkpoint: (root).model._box_predictor._prediction_heads.class_predictions_with_background._class_predictor_layers\n",
            "W0115 09:22:52.859331 140038228400000 util.py:161] Unresolved object in checkpoint: (root).model._box_predictor._prediction_heads.class_predictions_with_background._class_predictor_layers\n",
            "WARNING:tensorflow:Unresolved object in checkpoint: (root).model._box_predictor._base_tower_layers_for_heads.box_encodings.0\n",
            "W0115 09:22:52.859400 140038228400000 util.py:161] Unresolved object in checkpoint: (root).model._box_predictor._base_tower_layers_for_heads.box_encodings.0\n",
            "WARNING:tensorflow:Unresolved object in checkpoint: (root).model._box_predictor._base_tower_layers_for_heads.box_encodings.1\n",
            "W0115 09:22:52.859469 140038228400000 util.py:161] Unresolved object in checkpoint: (root).model._box_predictor._base_tower_layers_for_heads.box_encodings.1\n",
            "WARNING:tensorflow:Unresolved object in checkpoint: (root).model._box_predictor._base_tower_layers_for_heads.box_encodings.2\n",
            "W0115 09:22:52.859543 140038228400000 util.py:161] Unresolved object in checkpoint: (root).model._box_predictor._base_tower_layers_for_heads.box_encodings.2\n",
            "WARNING:tensorflow:Unresolved object in checkpoint: (root).model._box_predictor._base_tower_layers_for_heads.box_encodings.3\n",
            "W0115 09:22:52.859612 140038228400000 util.py:161] Unresolved object in checkpoint: (root).model._box_predictor._base_tower_layers_for_heads.box_encodings.3\n",
            "WARNING:tensorflow:Unresolved object in checkpoint: (root).model._box_predictor._base_tower_layers_for_heads.box_encodings.4\n",
            "W0115 09:22:52.859677 140038228400000 util.py:161] Unresolved object in checkpoint: (root).model._box_predictor._base_tower_layers_for_heads.box_encodings.4\n",
            "WARNING:tensorflow:Unresolved object in checkpoint: (root).model._box_predictor._base_tower_layers_for_heads.class_predictions_with_background.0\n",
            "W0115 09:22:52.859747 140038228400000 util.py:161] Unresolved object in checkpoint: (root).model._box_predictor._base_tower_layers_for_heads.class_predictions_with_background.0\n",
            "WARNING:tensorflow:Unresolved object in checkpoint: (root).model._box_predictor._base_tower_layers_for_heads.class_predictions_with_background.1\n",
            "W0115 09:22:52.859819 140038228400000 util.py:161] Unresolved object in checkpoint: (root).model._box_predictor._base_tower_layers_for_heads.class_predictions_with_background.1\n",
            "WARNING:tensorflow:Unresolved object in checkpoint: (root).model._box_predictor._base_tower_layers_for_heads.class_predictions_with_background.2\n",
            "W0115 09:22:52.859887 140038228400000 util.py:161] Unresolved object in checkpoint: (root).model._box_predictor._base_tower_layers_for_heads.class_predictions_with_background.2\n",
            "WARNING:tensorflow:Unresolved object in checkpoint: (root).model._box_predictor._base_tower_layers_for_heads.class_predictions_with_background.3\n",
            "W0115 09:22:52.859955 140038228400000 util.py:161] Unresolved object in checkpoint: (root).model._box_predictor._base_tower_layers_for_heads.class_predictions_with_background.3\n",
            "WARNING:tensorflow:Unresolved object in checkpoint: (root).model._box_predictor._base_tower_layers_for_heads.class_predictions_with_background.4\n",
            "W0115 09:22:52.860023 140038228400000 util.py:161] Unresolved object in checkpoint: (root).model._box_predictor._base_tower_layers_for_heads.class_predictions_with_background.4\n",
            "WARNING:tensorflow:Unresolved object in checkpoint: (root).model._box_predictor._head_scope_conv_layers.PredictionTower.0\n",
            "W0115 09:22:52.860091 140038228400000 util.py:161] Unresolved object in checkpoint: (root).model._box_predictor._head_scope_conv_layers.PredictionTower.0\n",
            "WARNING:tensorflow:Unresolved object in checkpoint: (root).model._box_predictor._head_scope_conv_layers.PredictionTower.1\n",
            "W0115 09:22:52.860159 140038228400000 util.py:161] Unresolved object in checkpoint: (root).model._box_predictor._head_scope_conv_layers.PredictionTower.1\n",
            "WARNING:tensorflow:Unresolved object in checkpoint: (root).model._box_predictor._head_scope_conv_layers.PredictionTower.2\n",
            "W0115 09:22:52.860239 140038228400000 util.py:161] Unresolved object in checkpoint: (root).model._box_predictor._head_scope_conv_layers.PredictionTower.2\n",
            "WARNING:tensorflow:Unresolved object in checkpoint: (root).model._box_predictor._head_scope_conv_layers.PredictionTower.3\n",
            "W0115 09:22:52.860308 140038228400000 util.py:161] Unresolved object in checkpoint: (root).model._box_predictor._head_scope_conv_layers.PredictionTower.3\n",
            "WARNING:tensorflow:Unresolved object in checkpoint: (root).model._box_predictor._head_scope_conv_layers.ClassPredictionTower.0\n",
            "W0115 09:22:52.860376 140038228400000 util.py:161] Unresolved object in checkpoint: (root).model._box_predictor._head_scope_conv_layers.ClassPredictionTower.0\n",
            "WARNING:tensorflow:Unresolved object in checkpoint: (root).model._box_predictor._head_scope_conv_layers.ClassPredictionTower.1\n",
            "W0115 09:22:52.860443 140038228400000 util.py:161] Unresolved object in checkpoint: (root).model._box_predictor._head_scope_conv_layers.ClassPredictionTower.1\n",
            "WARNING:tensorflow:Unresolved object in checkpoint: (root).model._box_predictor._head_scope_conv_layers.ClassPredictionTower.2\n",
            "W0115 09:22:52.860516 140038228400000 util.py:161] Unresolved object in checkpoint: (root).model._box_predictor._head_scope_conv_layers.ClassPredictionTower.2\n",
            "WARNING:tensorflow:Unresolved object in checkpoint: (root).model._box_predictor._head_scope_conv_layers.ClassPredictionTower.3\n",
            "W0115 09:22:52.860584 140038228400000 util.py:161] Unresolved object in checkpoint: (root).model._box_predictor._head_scope_conv_layers.ClassPredictionTower.3\n",
            "WARNING:tensorflow:Unresolved object in checkpoint: (root).model._box_predictor._box_prediction_head._box_encoder_layers.0.depthwise_kernel\n",
            "W0115 09:22:52.860702 140038228400000 util.py:161] Unresolved object in checkpoint: (root).model._box_predictor._box_prediction_head._box_encoder_layers.0.depthwise_kernel\n",
            "WARNING:tensorflow:Unresolved object in checkpoint: (root).model._box_predictor._box_prediction_head._box_encoder_layers.0.pointwise_kernel\n",
            "W0115 09:22:52.860772 140038228400000 util.py:161] Unresolved object in checkpoint: (root).model._box_predictor._box_prediction_head._box_encoder_layers.0.pointwise_kernel\n",
            "WARNING:tensorflow:Unresolved object in checkpoint: (root).model._box_predictor._box_prediction_head._box_encoder_layers.0.bias\n",
            "W0115 09:22:52.860843 140038228400000 util.py:161] Unresolved object in checkpoint: (root).model._box_predictor._box_prediction_head._box_encoder_layers.0.bias\n",
            "WARNING:tensorflow:Unresolved object in checkpoint: (root).model._box_predictor._prediction_heads.class_predictions_with_background._class_predictor_layers.0\n",
            "W0115 09:22:52.860911 140038228400000 util.py:161] Unresolved object in checkpoint: (root).model._box_predictor._prediction_heads.class_predictions_with_background._class_predictor_layers.0\n",
            "WARNING:tensorflow:Unresolved object in checkpoint: (root).model._box_predictor._base_tower_layers_for_heads.box_encodings.0.1\n",
            "W0115 09:22:52.860978 140038228400000 util.py:161] Unresolved object in checkpoint: (root).model._box_predictor._base_tower_layers_for_heads.box_encodings.0.1\n",
            "WARNING:tensorflow:Unresolved object in checkpoint: (root).model._box_predictor._base_tower_layers_for_heads.box_encodings.0.2\n",
            "W0115 09:22:52.861046 140038228400000 util.py:161] Unresolved object in checkpoint: (root).model._box_predictor._base_tower_layers_for_heads.box_encodings.0.2\n",
            "WARNING:tensorflow:Unresolved object in checkpoint: (root).model._box_predictor._base_tower_layers_for_heads.box_encodings.0.4\n",
            "W0115 09:22:52.861113 140038228400000 util.py:161] Unresolved object in checkpoint: (root).model._box_predictor._base_tower_layers_for_heads.box_encodings.0.4\n",
            "WARNING:tensorflow:Unresolved object in checkpoint: (root).model._box_predictor._base_tower_layers_for_heads.box_encodings.0.5\n",
            "W0115 09:22:52.861191 140038228400000 util.py:161] Unresolved object in checkpoint: (root).model._box_predictor._base_tower_layers_for_heads.box_encodings.0.5\n",
            "WARNING:tensorflow:Unresolved object in checkpoint: (root).model._box_predictor._base_tower_layers_for_heads.box_encodings.0.7\n",
            "W0115 09:22:52.861260 140038228400000 util.py:161] Unresolved object in checkpoint: (root).model._box_predictor._base_tower_layers_for_heads.box_encodings.0.7\n",
            "WARNING:tensorflow:Unresolved object in checkpoint: (root).model._box_predictor._base_tower_layers_for_heads.box_encodings.0.8\n",
            "W0115 09:22:52.861327 140038228400000 util.py:161] Unresolved object in checkpoint: (root).model._box_predictor._base_tower_layers_for_heads.box_encodings.0.8\n",
            "WARNING:tensorflow:Unresolved object in checkpoint: (root).model._box_predictor._base_tower_layers_for_heads.box_encodings.0.10\n",
            "W0115 09:22:52.861394 140038228400000 util.py:161] Unresolved object in checkpoint: (root).model._box_predictor._base_tower_layers_for_heads.box_encodings.0.10\n",
            "WARNING:tensorflow:Unresolved object in checkpoint: (root).model._box_predictor._base_tower_layers_for_heads.box_encodings.0.11\n",
            "W0115 09:22:52.861461 140038228400000 util.py:161] Unresolved object in checkpoint: (root).model._box_predictor._base_tower_layers_for_heads.box_encodings.0.11\n",
            "WARNING:tensorflow:Unresolved object in checkpoint: (root).model._box_predictor._base_tower_layers_for_heads.box_encodings.1.1\n",
            "W0115 09:22:52.861533 140038228400000 util.py:161] Unresolved object in checkpoint: (root).model._box_predictor._base_tower_layers_for_heads.box_encodings.1.1\n",
            "WARNING:tensorflow:Unresolved object in checkpoint: (root).model._box_predictor._base_tower_layers_for_heads.box_encodings.1.2\n",
            "W0115 09:22:52.861601 140038228400000 util.py:161] Unresolved object in checkpoint: (root).model._box_predictor._base_tower_layers_for_heads.box_encodings.1.2\n",
            "WARNING:tensorflow:Unresolved object in checkpoint: (root).model._box_predictor._base_tower_layers_for_heads.box_encodings.1.4\n",
            "W0115 09:22:52.861668 140038228400000 util.py:161] Unresolved object in checkpoint: (root).model._box_predictor._base_tower_layers_for_heads.box_encodings.1.4\n",
            "WARNING:tensorflow:Unresolved object in checkpoint: (root).model._box_predictor._base_tower_layers_for_heads.box_encodings.1.5\n",
            "W0115 09:22:52.861734 140038228400000 util.py:161] Unresolved object in checkpoint: (root).model._box_predictor._base_tower_layers_for_heads.box_encodings.1.5\n",
            "WARNING:tensorflow:Unresolved object in checkpoint: (root).model._box_predictor._base_tower_layers_for_heads.box_encodings.1.7\n",
            "W0115 09:22:52.861801 140038228400000 util.py:161] Unresolved object in checkpoint: (root).model._box_predictor._base_tower_layers_for_heads.box_encodings.1.7\n",
            "WARNING:tensorflow:Unresolved object in checkpoint: (root).model._box_predictor._base_tower_layers_for_heads.box_encodings.1.8\n",
            "W0115 09:22:52.861869 140038228400000 util.py:161] Unresolved object in checkpoint: (root).model._box_predictor._base_tower_layers_for_heads.box_encodings.1.8\n",
            "WARNING:tensorflow:Unresolved object in checkpoint: (root).model._box_predictor._base_tower_layers_for_heads.box_encodings.1.10\n",
            "W0115 09:22:52.861936 140038228400000 util.py:161] Unresolved object in checkpoint: (root).model._box_predictor._base_tower_layers_for_heads.box_encodings.1.10\n",
            "WARNING:tensorflow:Unresolved object in checkpoint: (root).model._box_predictor._base_tower_layers_for_heads.box_encodings.1.11\n",
            "W0115 09:22:52.862002 140038228400000 util.py:161] Unresolved object in checkpoint: (root).model._box_predictor._base_tower_layers_for_heads.box_encodings.1.11\n",
            "WARNING:tensorflow:Unresolved object in checkpoint: (root).model._box_predictor._base_tower_layers_for_heads.box_encodings.2.1\n",
            "W0115 09:22:52.862069 140038228400000 util.py:161] Unresolved object in checkpoint: (root).model._box_predictor._base_tower_layers_for_heads.box_encodings.2.1\n",
            "WARNING:tensorflow:Unresolved object in checkpoint: (root).model._box_predictor._base_tower_layers_for_heads.box_encodings.2.2\n",
            "W0115 09:22:52.862136 140038228400000 util.py:161] Unresolved object in checkpoint: (root).model._box_predictor._base_tower_layers_for_heads.box_encodings.2.2\n",
            "WARNING:tensorflow:Unresolved object in checkpoint: (root).model._box_predictor._base_tower_layers_for_heads.box_encodings.2.4\n",
            "W0115 09:22:52.862217 140038228400000 util.py:161] Unresolved object in checkpoint: (root).model._box_predictor._base_tower_layers_for_heads.box_encodings.2.4\n",
            "WARNING:tensorflow:Unresolved object in checkpoint: (root).model._box_predictor._base_tower_layers_for_heads.box_encodings.2.5\n",
            "W0115 09:22:52.862286 140038228400000 util.py:161] Unresolved object in checkpoint: (root).model._box_predictor._base_tower_layers_for_heads.box_encodings.2.5\n",
            "WARNING:tensorflow:Unresolved object in checkpoint: (root).model._box_predictor._base_tower_layers_for_heads.box_encodings.2.7\n",
            "W0115 09:22:52.885553 140038228400000 util.py:161] Unresolved object in checkpoint: (root).model._box_predictor._base_tower_layers_for_heads.box_encodings.2.7\n",
            "WARNING:tensorflow:Unresolved object in checkpoint: (root).model._box_predictor._base_tower_layers_for_heads.box_encodings.2.8\n",
            "W0115 09:22:52.885670 140038228400000 util.py:161] Unresolved object in checkpoint: (root).model._box_predictor._base_tower_layers_for_heads.box_encodings.2.8\n",
            "WARNING:tensorflow:Unresolved object in checkpoint: (root).model._box_predictor._base_tower_layers_for_heads.box_encodings.2.10\n",
            "W0115 09:22:52.885758 140038228400000 util.py:161] Unresolved object in checkpoint: (root).model._box_predictor._base_tower_layers_for_heads.box_encodings.2.10\n",
            "WARNING:tensorflow:Unresolved object in checkpoint: (root).model._box_predictor._base_tower_layers_for_heads.box_encodings.2.11\n",
            "W0115 09:22:52.885837 140038228400000 util.py:161] Unresolved object in checkpoint: (root).model._box_predictor._base_tower_layers_for_heads.box_encodings.2.11\n",
            "WARNING:tensorflow:Unresolved object in checkpoint: (root).model._box_predictor._base_tower_layers_for_heads.box_encodings.3.1\n",
            "W0115 09:22:52.885910 140038228400000 util.py:161] Unresolved object in checkpoint: (root).model._box_predictor._base_tower_layers_for_heads.box_encodings.3.1\n",
            "WARNING:tensorflow:Unresolved object in checkpoint: (root).model._box_predictor._base_tower_layers_for_heads.box_encodings.3.2\n",
            "W0115 09:22:52.885980 140038228400000 util.py:161] Unresolved object in checkpoint: (root).model._box_predictor._base_tower_layers_for_heads.box_encodings.3.2\n",
            "WARNING:tensorflow:Unresolved object in checkpoint: (root).model._box_predictor._base_tower_layers_for_heads.box_encodings.3.4\n",
            "W0115 09:22:52.886247 140038228400000 util.py:161] Unresolved object in checkpoint: (root).model._box_predictor._base_tower_layers_for_heads.box_encodings.3.4\n",
            "WARNING:tensorflow:Unresolved object in checkpoint: (root).model._box_predictor._base_tower_layers_for_heads.box_encodings.3.5\n",
            "W0115 09:22:52.886354 140038228400000 util.py:161] Unresolved object in checkpoint: (root).model._box_predictor._base_tower_layers_for_heads.box_encodings.3.5\n",
            "WARNING:tensorflow:Unresolved object in checkpoint: (root).model._box_predictor._base_tower_layers_for_heads.box_encodings.3.7\n",
            "W0115 09:22:52.886426 140038228400000 util.py:161] Unresolved object in checkpoint: (root).model._box_predictor._base_tower_layers_for_heads.box_encodings.3.7\n",
            "WARNING:tensorflow:Unresolved object in checkpoint: (root).model._box_predictor._base_tower_layers_for_heads.box_encodings.3.8\n",
            "W0115 09:22:52.886562 140038228400000 util.py:161] Unresolved object in checkpoint: (root).model._box_predictor._base_tower_layers_for_heads.box_encodings.3.8\n",
            "WARNING:tensorflow:Unresolved object in checkpoint: (root).model._box_predictor._base_tower_layers_for_heads.box_encodings.3.10\n",
            "W0115 09:22:52.886691 140038228400000 util.py:161] Unresolved object in checkpoint: (root).model._box_predictor._base_tower_layers_for_heads.box_encodings.3.10\n",
            "WARNING:tensorflow:Unresolved object in checkpoint: (root).model._box_predictor._base_tower_layers_for_heads.box_encodings.3.11\n",
            "W0115 09:22:52.886766 140038228400000 util.py:161] Unresolved object in checkpoint: (root).model._box_predictor._base_tower_layers_for_heads.box_encodings.3.11\n",
            "WARNING:tensorflow:Unresolved object in checkpoint: (root).model._box_predictor._base_tower_layers_for_heads.box_encodings.4.1\n",
            "W0115 09:22:52.886836 140038228400000 util.py:161] Unresolved object in checkpoint: (root).model._box_predictor._base_tower_layers_for_heads.box_encodings.4.1\n",
            "WARNING:tensorflow:Unresolved object in checkpoint: (root).model._box_predictor._base_tower_layers_for_heads.box_encodings.4.2\n",
            "W0115 09:22:52.893453 140038228400000 util.py:161] Unresolved object in checkpoint: (root).model._box_predictor._base_tower_layers_for_heads.box_encodings.4.2\n",
            "WARNING:tensorflow:Unresolved object in checkpoint: (root).model._box_predictor._base_tower_layers_for_heads.box_encodings.4.4\n",
            "W0115 09:22:52.893577 140038228400000 util.py:161] Unresolved object in checkpoint: (root).model._box_predictor._base_tower_layers_for_heads.box_encodings.4.4\n",
            "WARNING:tensorflow:Unresolved object in checkpoint: (root).model._box_predictor._base_tower_layers_for_heads.box_encodings.4.5\n",
            "W0115 09:22:52.893664 140038228400000 util.py:161] Unresolved object in checkpoint: (root).model._box_predictor._base_tower_layers_for_heads.box_encodings.4.5\n",
            "WARNING:tensorflow:Unresolved object in checkpoint: (root).model._box_predictor._base_tower_layers_for_heads.box_encodings.4.7\n",
            "W0115 09:22:52.893733 140038228400000 util.py:161] Unresolved object in checkpoint: (root).model._box_predictor._base_tower_layers_for_heads.box_encodings.4.7\n",
            "WARNING:tensorflow:Unresolved object in checkpoint: (root).model._box_predictor._base_tower_layers_for_heads.box_encodings.4.8\n",
            "W0115 09:22:52.893797 140038228400000 util.py:161] Unresolved object in checkpoint: (root).model._box_predictor._base_tower_layers_for_heads.box_encodings.4.8\n",
            "WARNING:tensorflow:Unresolved object in checkpoint: (root).model._box_predictor._base_tower_layers_for_heads.box_encodings.4.10\n",
            "W0115 09:22:52.893860 140038228400000 util.py:161] Unresolved object in checkpoint: (root).model._box_predictor._base_tower_layers_for_heads.box_encodings.4.10\n",
            "WARNING:tensorflow:Unresolved object in checkpoint: (root).model._box_predictor._base_tower_layers_for_heads.box_encodings.4.11\n",
            "W0115 09:22:52.893922 140038228400000 util.py:161] Unresolved object in checkpoint: (root).model._box_predictor._base_tower_layers_for_heads.box_encodings.4.11\n",
            "WARNING:tensorflow:Unresolved object in checkpoint: (root).model._box_predictor._base_tower_layers_for_heads.class_predictions_with_background.0.1\n",
            "W0115 09:22:52.893983 140038228400000 util.py:161] Unresolved object in checkpoint: (root).model._box_predictor._base_tower_layers_for_heads.class_predictions_with_background.0.1\n",
            "WARNING:tensorflow:Unresolved object in checkpoint: (root).model._box_predictor._base_tower_layers_for_heads.class_predictions_with_background.0.2\n",
            "W0115 09:22:52.894045 140038228400000 util.py:161] Unresolved object in checkpoint: (root).model._box_predictor._base_tower_layers_for_heads.class_predictions_with_background.0.2\n",
            "WARNING:tensorflow:Unresolved object in checkpoint: (root).model._box_predictor._base_tower_layers_for_heads.class_predictions_with_background.0.4\n",
            "W0115 09:22:52.894111 140038228400000 util.py:161] Unresolved object in checkpoint: (root).model._box_predictor._base_tower_layers_for_heads.class_predictions_with_background.0.4\n",
            "WARNING:tensorflow:Unresolved object in checkpoint: (root).model._box_predictor._base_tower_layers_for_heads.class_predictions_with_background.0.5\n",
            "W0115 09:22:52.894185 140038228400000 util.py:161] Unresolved object in checkpoint: (root).model._box_predictor._base_tower_layers_for_heads.class_predictions_with_background.0.5\n",
            "WARNING:tensorflow:Unresolved object in checkpoint: (root).model._box_predictor._base_tower_layers_for_heads.class_predictions_with_background.0.7\n",
            "W0115 09:22:52.894248 140038228400000 util.py:161] Unresolved object in checkpoint: (root).model._box_predictor._base_tower_layers_for_heads.class_predictions_with_background.0.7\n",
            "WARNING:tensorflow:Unresolved object in checkpoint: (root).model._box_predictor._base_tower_layers_for_heads.class_predictions_with_background.0.8\n",
            "W0115 09:22:52.894309 140038228400000 util.py:161] Unresolved object in checkpoint: (root).model._box_predictor._base_tower_layers_for_heads.class_predictions_with_background.0.8\n",
            "WARNING:tensorflow:Unresolved object in checkpoint: (root).model._box_predictor._base_tower_layers_for_heads.class_predictions_with_background.0.10\n",
            "W0115 09:22:52.894369 140038228400000 util.py:161] Unresolved object in checkpoint: (root).model._box_predictor._base_tower_layers_for_heads.class_predictions_with_background.0.10\n",
            "WARNING:tensorflow:Unresolved object in checkpoint: (root).model._box_predictor._base_tower_layers_for_heads.class_predictions_with_background.0.11\n",
            "W0115 09:22:52.899581 140038228400000 util.py:161] Unresolved object in checkpoint: (root).model._box_predictor._base_tower_layers_for_heads.class_predictions_with_background.0.11\n",
            "WARNING:tensorflow:Unresolved object in checkpoint: (root).model._box_predictor._base_tower_layers_for_heads.class_predictions_with_background.1.1\n",
            "W0115 09:22:52.899858 140038228400000 util.py:161] Unresolved object in checkpoint: (root).model._box_predictor._base_tower_layers_for_heads.class_predictions_with_background.1.1\n",
            "WARNING:tensorflow:Unresolved object in checkpoint: (root).model._box_predictor._base_tower_layers_for_heads.class_predictions_with_background.1.2\n",
            "W0115 09:22:52.900299 140038228400000 util.py:161] Unresolved object in checkpoint: (root).model._box_predictor._base_tower_layers_for_heads.class_predictions_with_background.1.2\n",
            "WARNING:tensorflow:Unresolved object in checkpoint: (root).model._box_predictor._base_tower_layers_for_heads.class_predictions_with_background.1.4\n",
            "W0115 09:22:52.900411 140038228400000 util.py:161] Unresolved object in checkpoint: (root).model._box_predictor._base_tower_layers_for_heads.class_predictions_with_background.1.4\n",
            "WARNING:tensorflow:Unresolved object in checkpoint: (root).model._box_predictor._base_tower_layers_for_heads.class_predictions_with_background.1.5\n",
            "W0115 09:22:52.900487 140038228400000 util.py:161] Unresolved object in checkpoint: (root).model._box_predictor._base_tower_layers_for_heads.class_predictions_with_background.1.5\n",
            "WARNING:tensorflow:Unresolved object in checkpoint: (root).model._box_predictor._base_tower_layers_for_heads.class_predictions_with_background.1.7\n",
            "W0115 09:22:52.900553 140038228400000 util.py:161] Unresolved object in checkpoint: (root).model._box_predictor._base_tower_layers_for_heads.class_predictions_with_background.1.7\n",
            "WARNING:tensorflow:Unresolved object in checkpoint: (root).model._box_predictor._base_tower_layers_for_heads.class_predictions_with_background.1.8\n",
            "W0115 09:22:52.900618 140038228400000 util.py:161] Unresolved object in checkpoint: (root).model._box_predictor._base_tower_layers_for_heads.class_predictions_with_background.1.8\n",
            "WARNING:tensorflow:Unresolved object in checkpoint: (root).model._box_predictor._base_tower_layers_for_heads.class_predictions_with_background.1.10\n",
            "W0115 09:22:52.900679 140038228400000 util.py:161] Unresolved object in checkpoint: (root).model._box_predictor._base_tower_layers_for_heads.class_predictions_with_background.1.10\n",
            "WARNING:tensorflow:Unresolved object in checkpoint: (root).model._box_predictor._base_tower_layers_for_heads.class_predictions_with_background.1.11\n",
            "W0115 09:22:52.900741 140038228400000 util.py:161] Unresolved object in checkpoint: (root).model._box_predictor._base_tower_layers_for_heads.class_predictions_with_background.1.11\n",
            "WARNING:tensorflow:Unresolved object in checkpoint: (root).model._box_predictor._base_tower_layers_for_heads.class_predictions_with_background.2.1\n",
            "W0115 09:22:52.900981 140038228400000 util.py:161] Unresolved object in checkpoint: (root).model._box_predictor._base_tower_layers_for_heads.class_predictions_with_background.2.1\n",
            "WARNING:tensorflow:Unresolved object in checkpoint: (root).model._box_predictor._base_tower_layers_for_heads.class_predictions_with_background.2.2\n",
            "W0115 09:22:52.901087 140038228400000 util.py:161] Unresolved object in checkpoint: (root).model._box_predictor._base_tower_layers_for_heads.class_predictions_with_background.2.2\n",
            "WARNING:tensorflow:Unresolved object in checkpoint: (root).model._box_predictor._base_tower_layers_for_heads.class_predictions_with_background.2.4\n",
            "W0115 09:22:52.901186 140038228400000 util.py:161] Unresolved object in checkpoint: (root).model._box_predictor._base_tower_layers_for_heads.class_predictions_with_background.2.4\n",
            "WARNING:tensorflow:Unresolved object in checkpoint: (root).model._box_predictor._base_tower_layers_for_heads.class_predictions_with_background.2.5\n",
            "W0115 09:22:52.901267 140038228400000 util.py:161] Unresolved object in checkpoint: (root).model._box_predictor._base_tower_layers_for_heads.class_predictions_with_background.2.5\n",
            "WARNING:tensorflow:Unresolved object in checkpoint: (root).model._box_predictor._base_tower_layers_for_heads.class_predictions_with_background.2.7\n",
            "W0115 09:22:52.901358 140038228400000 util.py:161] Unresolved object in checkpoint: (root).model._box_predictor._base_tower_layers_for_heads.class_predictions_with_background.2.7\n",
            "WARNING:tensorflow:Unresolved object in checkpoint: (root).model._box_predictor._base_tower_layers_for_heads.class_predictions_with_background.2.8\n",
            "W0115 09:22:52.901433 140038228400000 util.py:161] Unresolved object in checkpoint: (root).model._box_predictor._base_tower_layers_for_heads.class_predictions_with_background.2.8\n",
            "WARNING:tensorflow:Unresolved object in checkpoint: (root).model._box_predictor._base_tower_layers_for_heads.class_predictions_with_background.2.10\n",
            "W0115 09:22:52.901507 140038228400000 util.py:161] Unresolved object in checkpoint: (root).model._box_predictor._base_tower_layers_for_heads.class_predictions_with_background.2.10\n",
            "WARNING:tensorflow:Unresolved object in checkpoint: (root).model._box_predictor._base_tower_layers_for_heads.class_predictions_with_background.2.11\n",
            "W0115 09:22:52.901594 140038228400000 util.py:161] Unresolved object in checkpoint: (root).model._box_predictor._base_tower_layers_for_heads.class_predictions_with_background.2.11\n",
            "WARNING:tensorflow:Unresolved object in checkpoint: (root).model._box_predictor._base_tower_layers_for_heads.class_predictions_with_background.3.1\n",
            "W0115 09:22:52.901663 140038228400000 util.py:161] Unresolved object in checkpoint: (root).model._box_predictor._base_tower_layers_for_heads.class_predictions_with_background.3.1\n",
            "WARNING:tensorflow:Unresolved object in checkpoint: (root).model._box_predictor._base_tower_layers_for_heads.class_predictions_with_background.3.2\n",
            "W0115 09:22:52.901732 140038228400000 util.py:161] Unresolved object in checkpoint: (root).model._box_predictor._base_tower_layers_for_heads.class_predictions_with_background.3.2\n",
            "WARNING:tensorflow:Unresolved object in checkpoint: (root).model._box_predictor._base_tower_layers_for_heads.class_predictions_with_background.3.4\n",
            "W0115 09:22:52.901800 140038228400000 util.py:161] Unresolved object in checkpoint: (root).model._box_predictor._base_tower_layers_for_heads.class_predictions_with_background.3.4\n",
            "WARNING:tensorflow:Unresolved object in checkpoint: (root).model._box_predictor._base_tower_layers_for_heads.class_predictions_with_background.3.5\n",
            "W0115 09:22:52.901868 140038228400000 util.py:161] Unresolved object in checkpoint: (root).model._box_predictor._base_tower_layers_for_heads.class_predictions_with_background.3.5\n",
            "WARNING:tensorflow:Unresolved object in checkpoint: (root).model._box_predictor._base_tower_layers_for_heads.class_predictions_with_background.3.7\n",
            "W0115 09:22:52.901937 140038228400000 util.py:161] Unresolved object in checkpoint: (root).model._box_predictor._base_tower_layers_for_heads.class_predictions_with_background.3.7\n",
            "WARNING:tensorflow:Unresolved object in checkpoint: (root).model._box_predictor._base_tower_layers_for_heads.class_predictions_with_background.3.8\n",
            "W0115 09:22:52.902005 140038228400000 util.py:161] Unresolved object in checkpoint: (root).model._box_predictor._base_tower_layers_for_heads.class_predictions_with_background.3.8\n",
            "WARNING:tensorflow:Unresolved object in checkpoint: (root).model._box_predictor._base_tower_layers_for_heads.class_predictions_with_background.3.10\n",
            "W0115 09:22:52.902076 140038228400000 util.py:161] Unresolved object in checkpoint: (root).model._box_predictor._base_tower_layers_for_heads.class_predictions_with_background.3.10\n",
            "WARNING:tensorflow:Unresolved object in checkpoint: (root).model._box_predictor._base_tower_layers_for_heads.class_predictions_with_background.3.11\n",
            "W0115 09:22:52.902144 140038228400000 util.py:161] Unresolved object in checkpoint: (root).model._box_predictor._base_tower_layers_for_heads.class_predictions_with_background.3.11\n",
            "WARNING:tensorflow:Unresolved object in checkpoint: (root).model._box_predictor._base_tower_layers_for_heads.class_predictions_with_background.4.1\n",
            "W0115 09:22:52.902230 140038228400000 util.py:161] Unresolved object in checkpoint: (root).model._box_predictor._base_tower_layers_for_heads.class_predictions_with_background.4.1\n",
            "WARNING:tensorflow:Unresolved object in checkpoint: (root).model._box_predictor._base_tower_layers_for_heads.class_predictions_with_background.4.2\n",
            "W0115 09:22:52.902299 140038228400000 util.py:161] Unresolved object in checkpoint: (root).model._box_predictor._base_tower_layers_for_heads.class_predictions_with_background.4.2\n",
            "WARNING:tensorflow:Unresolved object in checkpoint: (root).model._box_predictor._base_tower_layers_for_heads.class_predictions_with_background.4.4\n",
            "W0115 09:22:52.902369 140038228400000 util.py:161] Unresolved object in checkpoint: (root).model._box_predictor._base_tower_layers_for_heads.class_predictions_with_background.4.4\n",
            "WARNING:tensorflow:Unresolved object in checkpoint: (root).model._box_predictor._base_tower_layers_for_heads.class_predictions_with_background.4.5\n",
            "W0115 09:22:52.902446 140038228400000 util.py:161] Unresolved object in checkpoint: (root).model._box_predictor._base_tower_layers_for_heads.class_predictions_with_background.4.5\n",
            "WARNING:tensorflow:Unresolved object in checkpoint: (root).model._box_predictor._base_tower_layers_for_heads.class_predictions_with_background.4.7\n",
            "W0115 09:22:52.902520 140038228400000 util.py:161] Unresolved object in checkpoint: (root).model._box_predictor._base_tower_layers_for_heads.class_predictions_with_background.4.7\n",
            "WARNING:tensorflow:Unresolved object in checkpoint: (root).model._box_predictor._base_tower_layers_for_heads.class_predictions_with_background.4.8\n",
            "W0115 09:22:52.902590 140038228400000 util.py:161] Unresolved object in checkpoint: (root).model._box_predictor._base_tower_layers_for_heads.class_predictions_with_background.4.8\n",
            "WARNING:tensorflow:Unresolved object in checkpoint: (root).model._box_predictor._base_tower_layers_for_heads.class_predictions_with_background.4.10\n",
            "W0115 09:22:52.902657 140038228400000 util.py:161] Unresolved object in checkpoint: (root).model._box_predictor._base_tower_layers_for_heads.class_predictions_with_background.4.10\n",
            "WARNING:tensorflow:Unresolved object in checkpoint: (root).model._box_predictor._base_tower_layers_for_heads.class_predictions_with_background.4.11\n",
            "W0115 09:22:52.902726 140038228400000 util.py:161] Unresolved object in checkpoint: (root).model._box_predictor._base_tower_layers_for_heads.class_predictions_with_background.4.11\n",
            "WARNING:tensorflow:Unresolved object in checkpoint: (root).model._box_predictor._head_scope_conv_layers.PredictionTower.0.depthwise_kernel\n",
            "W0115 09:22:52.902795 140038228400000 util.py:161] Unresolved object in checkpoint: (root).model._box_predictor._head_scope_conv_layers.PredictionTower.0.depthwise_kernel\n",
            "WARNING:tensorflow:Unresolved object in checkpoint: (root).model._box_predictor._head_scope_conv_layers.PredictionTower.0.pointwise_kernel\n",
            "W0115 09:22:52.902864 140038228400000 util.py:161] Unresolved object in checkpoint: (root).model._box_predictor._head_scope_conv_layers.PredictionTower.0.pointwise_kernel\n",
            "WARNING:tensorflow:Unresolved object in checkpoint: (root).model._box_predictor._head_scope_conv_layers.PredictionTower.1.depthwise_kernel\n",
            "W0115 09:22:52.902933 140038228400000 util.py:161] Unresolved object in checkpoint: (root).model._box_predictor._head_scope_conv_layers.PredictionTower.1.depthwise_kernel\n",
            "WARNING:tensorflow:Unresolved object in checkpoint: (root).model._box_predictor._head_scope_conv_layers.PredictionTower.1.pointwise_kernel\n",
            "W0115 09:22:52.903003 140038228400000 util.py:161] Unresolved object in checkpoint: (root).model._box_predictor._head_scope_conv_layers.PredictionTower.1.pointwise_kernel\n",
            "WARNING:tensorflow:Unresolved object in checkpoint: (root).model._box_predictor._head_scope_conv_layers.PredictionTower.2.depthwise_kernel\n",
            "W0115 09:22:52.903073 140038228400000 util.py:161] Unresolved object in checkpoint: (root).model._box_predictor._head_scope_conv_layers.PredictionTower.2.depthwise_kernel\n",
            "WARNING:tensorflow:Unresolved object in checkpoint: (root).model._box_predictor._head_scope_conv_layers.PredictionTower.2.pointwise_kernel\n",
            "W0115 09:22:52.903141 140038228400000 util.py:161] Unresolved object in checkpoint: (root).model._box_predictor._head_scope_conv_layers.PredictionTower.2.pointwise_kernel\n",
            "WARNING:tensorflow:Unresolved object in checkpoint: (root).model._box_predictor._head_scope_conv_layers.PredictionTower.3.depthwise_kernel\n",
            "W0115 09:22:52.903218 140038228400000 util.py:161] Unresolved object in checkpoint: (root).model._box_predictor._head_scope_conv_layers.PredictionTower.3.depthwise_kernel\n",
            "WARNING:tensorflow:Unresolved object in checkpoint: (root).model._box_predictor._head_scope_conv_layers.PredictionTower.3.pointwise_kernel\n",
            "W0115 09:22:52.903286 140038228400000 util.py:161] Unresolved object in checkpoint: (root).model._box_predictor._head_scope_conv_layers.PredictionTower.3.pointwise_kernel\n",
            "WARNING:tensorflow:Unresolved object in checkpoint: (root).model._box_predictor._prediction_heads.class_predictions_with_background._class_predictor_layers.0.depthwise_kernel\n",
            "W0115 09:22:52.903359 140038228400000 util.py:161] Unresolved object in checkpoint: (root).model._box_predictor._prediction_heads.class_predictions_with_background._class_predictor_layers.0.depthwise_kernel\n",
            "WARNING:tensorflow:Unresolved object in checkpoint: (root).model._box_predictor._prediction_heads.class_predictions_with_background._class_predictor_layers.0.pointwise_kernel\n",
            "W0115 09:22:52.903430 140038228400000 util.py:161] Unresolved object in checkpoint: (root).model._box_predictor._prediction_heads.class_predictions_with_background._class_predictor_layers.0.pointwise_kernel\n",
            "WARNING:tensorflow:Unresolved object in checkpoint: (root).model._box_predictor._prediction_heads.class_predictions_with_background._class_predictor_layers.0.bias\n",
            "W0115 09:22:52.903499 140038228400000 util.py:161] Unresolved object in checkpoint: (root).model._box_predictor._prediction_heads.class_predictions_with_background._class_predictor_layers.0.bias\n",
            "WARNING:tensorflow:Unresolved object in checkpoint: (root).model._box_predictor._base_tower_layers_for_heads.box_encodings.0.1.axis\n",
            "W0115 09:22:52.903574 140038228400000 util.py:161] Unresolved object in checkpoint: (root).model._box_predictor._base_tower_layers_for_heads.box_encodings.0.1.axis\n",
            "WARNING:tensorflow:Unresolved object in checkpoint: (root).model._box_predictor._base_tower_layers_for_heads.box_encodings.0.1.gamma\n",
            "W0115 09:22:52.903644 140038228400000 util.py:161] Unresolved object in checkpoint: (root).model._box_predictor._base_tower_layers_for_heads.box_encodings.0.1.gamma\n",
            "WARNING:tensorflow:Unresolved object in checkpoint: (root).model._box_predictor._base_tower_layers_for_heads.box_encodings.0.1.beta\n",
            "W0115 09:22:52.903714 140038228400000 util.py:161] Unresolved object in checkpoint: (root).model._box_predictor._base_tower_layers_for_heads.box_encodings.0.1.beta\n",
            "WARNING:tensorflow:Unresolved object in checkpoint: (root).model._box_predictor._base_tower_layers_for_heads.box_encodings.0.1.moving_mean\n",
            "W0115 09:22:52.903782 140038228400000 util.py:161] Unresolved object in checkpoint: (root).model._box_predictor._base_tower_layers_for_heads.box_encodings.0.1.moving_mean\n",
            "WARNING:tensorflow:Unresolved object in checkpoint: (root).model._box_predictor._base_tower_layers_for_heads.box_encodings.0.1.moving_variance\n",
            "W0115 09:22:52.903850 140038228400000 util.py:161] Unresolved object in checkpoint: (root).model._box_predictor._base_tower_layers_for_heads.box_encodings.0.1.moving_variance\n",
            "WARNING:tensorflow:Unresolved object in checkpoint: (root).model._box_predictor._base_tower_layers_for_heads.box_encodings.0.4.axis\n",
            "W0115 09:22:52.903918 140038228400000 util.py:161] Unresolved object in checkpoint: (root).model._box_predictor._base_tower_layers_for_heads.box_encodings.0.4.axis\n",
            "WARNING:tensorflow:Unresolved object in checkpoint: (root).model._box_predictor._base_tower_layers_for_heads.box_encodings.0.4.gamma\n",
            "W0115 09:22:52.903987 140038228400000 util.py:161] Unresolved object in checkpoint: (root).model._box_predictor._base_tower_layers_for_heads.box_encodings.0.4.gamma\n",
            "WARNING:tensorflow:Unresolved object in checkpoint: (root).model._box_predictor._base_tower_layers_for_heads.box_encodings.0.4.beta\n",
            "W0115 09:22:52.904057 140038228400000 util.py:161] Unresolved object in checkpoint: (root).model._box_predictor._base_tower_layers_for_heads.box_encodings.0.4.beta\n",
            "WARNING:tensorflow:Unresolved object in checkpoint: (root).model._box_predictor._base_tower_layers_for_heads.box_encodings.0.4.moving_mean\n",
            "W0115 09:22:52.904127 140038228400000 util.py:161] Unresolved object in checkpoint: (root).model._box_predictor._base_tower_layers_for_heads.box_encodings.0.4.moving_mean\n",
            "WARNING:tensorflow:Unresolved object in checkpoint: (root).model._box_predictor._base_tower_layers_for_heads.box_encodings.0.4.moving_variance\n",
            "W0115 09:22:52.904215 140038228400000 util.py:161] Unresolved object in checkpoint: (root).model._box_predictor._base_tower_layers_for_heads.box_encodings.0.4.moving_variance\n",
            "WARNING:tensorflow:Unresolved object in checkpoint: (root).model._box_predictor._base_tower_layers_for_heads.box_encodings.0.7.axis\n",
            "W0115 09:22:52.904284 140038228400000 util.py:161] Unresolved object in checkpoint: (root).model._box_predictor._base_tower_layers_for_heads.box_encodings.0.7.axis\n",
            "WARNING:tensorflow:Unresolved object in checkpoint: (root).model._box_predictor._base_tower_layers_for_heads.box_encodings.0.7.gamma\n",
            "W0115 09:22:52.904353 140038228400000 util.py:161] Unresolved object in checkpoint: (root).model._box_predictor._base_tower_layers_for_heads.box_encodings.0.7.gamma\n",
            "WARNING:tensorflow:Unresolved object in checkpoint: (root).model._box_predictor._base_tower_layers_for_heads.box_encodings.0.7.beta\n",
            "W0115 09:22:52.904421 140038228400000 util.py:161] Unresolved object in checkpoint: (root).model._box_predictor._base_tower_layers_for_heads.box_encodings.0.7.beta\n",
            "WARNING:tensorflow:Unresolved object in checkpoint: (root).model._box_predictor._base_tower_layers_for_heads.box_encodings.0.7.moving_mean\n",
            "W0115 09:22:52.904490 140038228400000 util.py:161] Unresolved object in checkpoint: (root).model._box_predictor._base_tower_layers_for_heads.box_encodings.0.7.moving_mean\n",
            "WARNING:tensorflow:Unresolved object in checkpoint: (root).model._box_predictor._base_tower_layers_for_heads.box_encodings.0.7.moving_variance\n",
            "W0115 09:22:52.904564 140038228400000 util.py:161] Unresolved object in checkpoint: (root).model._box_predictor._base_tower_layers_for_heads.box_encodings.0.7.moving_variance\n",
            "WARNING:tensorflow:Unresolved object in checkpoint: (root).model._box_predictor._base_tower_layers_for_heads.box_encodings.0.10.axis\n",
            "W0115 09:22:52.904638 140038228400000 util.py:161] Unresolved object in checkpoint: (root).model._box_predictor._base_tower_layers_for_heads.box_encodings.0.10.axis\n",
            "WARNING:tensorflow:Unresolved object in checkpoint: (root).model._box_predictor._base_tower_layers_for_heads.box_encodings.0.10.gamma\n",
            "W0115 09:22:53.000729 140038228400000 util.py:161] Unresolved object in checkpoint: (root).model._box_predictor._base_tower_layers_for_heads.box_encodings.0.10.gamma\n",
            "WARNING:tensorflow:Unresolved object in checkpoint: (root).model._box_predictor._base_tower_layers_for_heads.box_encodings.0.10.beta\n",
            "W0115 09:22:53.000976 140038228400000 util.py:161] Unresolved object in checkpoint: (root).model._box_predictor._base_tower_layers_for_heads.box_encodings.0.10.beta\n",
            "WARNING:tensorflow:Unresolved object in checkpoint: (root).model._box_predictor._base_tower_layers_for_heads.box_encodings.0.10.moving_mean\n",
            "W0115 09:22:53.001238 140038228400000 util.py:161] Unresolved object in checkpoint: (root).model._box_predictor._base_tower_layers_for_heads.box_encodings.0.10.moving_mean\n",
            "WARNING:tensorflow:Unresolved object in checkpoint: (root).model._box_predictor._base_tower_layers_for_heads.box_encodings.0.10.moving_variance\n",
            "W0115 09:22:53.001469 140038228400000 util.py:161] Unresolved object in checkpoint: (root).model._box_predictor._base_tower_layers_for_heads.box_encodings.0.10.moving_variance\n",
            "WARNING:tensorflow:Unresolved object in checkpoint: (root).model._box_predictor._base_tower_layers_for_heads.box_encodings.1.1.axis\n",
            "W0115 09:22:53.001733 140038228400000 util.py:161] Unresolved object in checkpoint: (root).model._box_predictor._base_tower_layers_for_heads.box_encodings.1.1.axis\n",
            "WARNING:tensorflow:Unresolved object in checkpoint: (root).model._box_predictor._base_tower_layers_for_heads.box_encodings.1.1.gamma\n",
            "W0115 09:22:53.001960 140038228400000 util.py:161] Unresolved object in checkpoint: (root).model._box_predictor._base_tower_layers_for_heads.box_encodings.1.1.gamma\n",
            "WARNING:tensorflow:Unresolved object in checkpoint: (root).model._box_predictor._base_tower_layers_for_heads.box_encodings.1.1.beta\n",
            "W0115 09:22:53.002199 140038228400000 util.py:161] Unresolved object in checkpoint: (root).model._box_predictor._base_tower_layers_for_heads.box_encodings.1.1.beta\n",
            "WARNING:tensorflow:Unresolved object in checkpoint: (root).model._box_predictor._base_tower_layers_for_heads.box_encodings.1.1.moving_mean\n",
            "W0115 09:22:53.002430 140038228400000 util.py:161] Unresolved object in checkpoint: (root).model._box_predictor._base_tower_layers_for_heads.box_encodings.1.1.moving_mean\n",
            "WARNING:tensorflow:Unresolved object in checkpoint: (root).model._box_predictor._base_tower_layers_for_heads.box_encodings.1.1.moving_variance\n",
            "W0115 09:22:53.002803 140038228400000 util.py:161] Unresolved object in checkpoint: (root).model._box_predictor._base_tower_layers_for_heads.box_encodings.1.1.moving_variance\n",
            "WARNING:tensorflow:Unresolved object in checkpoint: (root).model._box_predictor._base_tower_layers_for_heads.box_encodings.1.4.axis\n",
            "W0115 09:22:53.003050 140038228400000 util.py:161] Unresolved object in checkpoint: (root).model._box_predictor._base_tower_layers_for_heads.box_encodings.1.4.axis\n",
            "WARNING:tensorflow:Unresolved object in checkpoint: (root).model._box_predictor._base_tower_layers_for_heads.box_encodings.1.4.gamma\n",
            "W0115 09:22:53.003379 140038228400000 util.py:161] Unresolved object in checkpoint: (root).model._box_predictor._base_tower_layers_for_heads.box_encodings.1.4.gamma\n",
            "WARNING:tensorflow:Unresolved object in checkpoint: (root).model._box_predictor._base_tower_layers_for_heads.box_encodings.1.4.beta\n",
            "W0115 09:22:53.003620 140038228400000 util.py:161] Unresolved object in checkpoint: (root).model._box_predictor._base_tower_layers_for_heads.box_encodings.1.4.beta\n",
            "WARNING:tensorflow:Unresolved object in checkpoint: (root).model._box_predictor._base_tower_layers_for_heads.box_encodings.1.4.moving_mean\n",
            "W0115 09:22:53.003835 140038228400000 util.py:161] Unresolved object in checkpoint: (root).model._box_predictor._base_tower_layers_for_heads.box_encodings.1.4.moving_mean\n",
            "WARNING:tensorflow:Unresolved object in checkpoint: (root).model._box_predictor._base_tower_layers_for_heads.box_encodings.1.4.moving_variance\n",
            "W0115 09:22:53.004050 140038228400000 util.py:161] Unresolved object in checkpoint: (root).model._box_predictor._base_tower_layers_for_heads.box_encodings.1.4.moving_variance\n",
            "WARNING:tensorflow:Unresolved object in checkpoint: (root).model._box_predictor._base_tower_layers_for_heads.box_encodings.1.7.axis\n",
            "W0115 09:22:53.004351 140038228400000 util.py:161] Unresolved object in checkpoint: (root).model._box_predictor._base_tower_layers_for_heads.box_encodings.1.7.axis\n",
            "WARNING:tensorflow:Unresolved object in checkpoint: (root).model._box_predictor._base_tower_layers_for_heads.box_encodings.1.7.gamma\n",
            "W0115 09:22:53.004580 140038228400000 util.py:161] Unresolved object in checkpoint: (root).model._box_predictor._base_tower_layers_for_heads.box_encodings.1.7.gamma\n",
            "WARNING:tensorflow:Unresolved object in checkpoint: (root).model._box_predictor._base_tower_layers_for_heads.box_encodings.1.7.beta\n",
            "W0115 09:22:53.004878 140038228400000 util.py:161] Unresolved object in checkpoint: (root).model._box_predictor._base_tower_layers_for_heads.box_encodings.1.7.beta\n",
            "WARNING:tensorflow:Unresolved object in checkpoint: (root).model._box_predictor._base_tower_layers_for_heads.box_encodings.1.7.moving_mean\n",
            "W0115 09:22:53.005085 140038228400000 util.py:161] Unresolved object in checkpoint: (root).model._box_predictor._base_tower_layers_for_heads.box_encodings.1.7.moving_mean\n",
            "WARNING:tensorflow:Unresolved object in checkpoint: (root).model._box_predictor._base_tower_layers_for_heads.box_encodings.1.7.moving_variance\n",
            "W0115 09:22:53.005306 140038228400000 util.py:161] Unresolved object in checkpoint: (root).model._box_predictor._base_tower_layers_for_heads.box_encodings.1.7.moving_variance\n",
            "WARNING:tensorflow:Unresolved object in checkpoint: (root).model._box_predictor._base_tower_layers_for_heads.box_encodings.1.10.axis\n",
            "W0115 09:22:53.005508 140038228400000 util.py:161] Unresolved object in checkpoint: (root).model._box_predictor._base_tower_layers_for_heads.box_encodings.1.10.axis\n",
            "WARNING:tensorflow:Unresolved object in checkpoint: (root).model._box_predictor._base_tower_layers_for_heads.box_encodings.1.10.gamma\n",
            "W0115 09:22:53.005812 140038228400000 util.py:161] Unresolved object in checkpoint: (root).model._box_predictor._base_tower_layers_for_heads.box_encodings.1.10.gamma\n",
            "WARNING:tensorflow:Unresolved object in checkpoint: (root).model._box_predictor._base_tower_layers_for_heads.box_encodings.1.10.beta\n",
            "W0115 09:22:53.006029 140038228400000 util.py:161] Unresolved object in checkpoint: (root).model._box_predictor._base_tower_layers_for_heads.box_encodings.1.10.beta\n",
            "WARNING:tensorflow:Unresolved object in checkpoint: (root).model._box_predictor._base_tower_layers_for_heads.box_encodings.1.10.moving_mean\n",
            "W0115 09:22:53.006257 140038228400000 util.py:161] Unresolved object in checkpoint: (root).model._box_predictor._base_tower_layers_for_heads.box_encodings.1.10.moving_mean\n",
            "WARNING:tensorflow:Unresolved object in checkpoint: (root).model._box_predictor._base_tower_layers_for_heads.box_encodings.1.10.moving_variance\n",
            "W0115 09:22:53.006555 140038228400000 util.py:161] Unresolved object in checkpoint: (root).model._box_predictor._base_tower_layers_for_heads.box_encodings.1.10.moving_variance\n",
            "WARNING:tensorflow:Unresolved object in checkpoint: (root).model._box_predictor._base_tower_layers_for_heads.box_encodings.2.1.axis\n",
            "W0115 09:22:53.006767 140038228400000 util.py:161] Unresolved object in checkpoint: (root).model._box_predictor._base_tower_layers_for_heads.box_encodings.2.1.axis\n",
            "WARNING:tensorflow:Unresolved object in checkpoint: (root).model._box_predictor._base_tower_layers_for_heads.box_encodings.2.1.gamma\n",
            "W0115 09:22:53.006979 140038228400000 util.py:161] Unresolved object in checkpoint: (root).model._box_predictor._base_tower_layers_for_heads.box_encodings.2.1.gamma\n",
            "WARNING:tensorflow:Unresolved object in checkpoint: (root).model._box_predictor._base_tower_layers_for_heads.box_encodings.2.1.beta\n",
            "W0115 09:22:53.007289 140038228400000 util.py:161] Unresolved object in checkpoint: (root).model._box_predictor._base_tower_layers_for_heads.box_encodings.2.1.beta\n",
            "WARNING:tensorflow:Unresolved object in checkpoint: (root).model._box_predictor._base_tower_layers_for_heads.box_encodings.2.1.moving_mean\n",
            "W0115 09:22:53.007505 140038228400000 util.py:161] Unresolved object in checkpoint: (root).model._box_predictor._base_tower_layers_for_heads.box_encodings.2.1.moving_mean\n",
            "WARNING:tensorflow:Unresolved object in checkpoint: (root).model._box_predictor._base_tower_layers_for_heads.box_encodings.2.1.moving_variance\n",
            "W0115 09:22:53.007744 140038228400000 util.py:161] Unresolved object in checkpoint: (root).model._box_predictor._base_tower_layers_for_heads.box_encodings.2.1.moving_variance\n",
            "WARNING:tensorflow:Unresolved object in checkpoint: (root).model._box_predictor._base_tower_layers_for_heads.box_encodings.2.4.axis\n",
            "W0115 09:22:53.008046 140038228400000 util.py:161] Unresolved object in checkpoint: (root).model._box_predictor._base_tower_layers_for_heads.box_encodings.2.4.axis\n",
            "WARNING:tensorflow:Unresolved object in checkpoint: (root).model._box_predictor._base_tower_layers_for_heads.box_encodings.2.4.gamma\n",
            "W0115 09:22:53.008244 140038228400000 util.py:161] Unresolved object in checkpoint: (root).model._box_predictor._base_tower_layers_for_heads.box_encodings.2.4.gamma\n",
            "WARNING:tensorflow:Unresolved object in checkpoint: (root).model._box_predictor._base_tower_layers_for_heads.box_encodings.2.4.beta\n",
            "W0115 09:22:53.008336 140038228400000 util.py:161] Unresolved object in checkpoint: (root).model._box_predictor._base_tower_layers_for_heads.box_encodings.2.4.beta\n",
            "WARNING:tensorflow:Unresolved object in checkpoint: (root).model._box_predictor._base_tower_layers_for_heads.box_encodings.2.4.moving_mean\n",
            "W0115 09:22:53.008409 140038228400000 util.py:161] Unresolved object in checkpoint: (root).model._box_predictor._base_tower_layers_for_heads.box_encodings.2.4.moving_mean\n",
            "WARNING:tensorflow:Unresolved object in checkpoint: (root).model._box_predictor._base_tower_layers_for_heads.box_encodings.2.4.moving_variance\n",
            "W0115 09:22:53.008475 140038228400000 util.py:161] Unresolved object in checkpoint: (root).model._box_predictor._base_tower_layers_for_heads.box_encodings.2.4.moving_variance\n",
            "WARNING:tensorflow:Unresolved object in checkpoint: (root).model._box_predictor._base_tower_layers_for_heads.box_encodings.2.7.axis\n",
            "W0115 09:22:53.008538 140038228400000 util.py:161] Unresolved object in checkpoint: (root).model._box_predictor._base_tower_layers_for_heads.box_encodings.2.7.axis\n",
            "WARNING:tensorflow:Unresolved object in checkpoint: (root).model._box_predictor._base_tower_layers_for_heads.box_encodings.2.7.gamma\n",
            "W0115 09:22:53.008599 140038228400000 util.py:161] Unresolved object in checkpoint: (root).model._box_predictor._base_tower_layers_for_heads.box_encodings.2.7.gamma\n",
            "WARNING:tensorflow:Unresolved object in checkpoint: (root).model._box_predictor._base_tower_layers_for_heads.box_encodings.2.7.beta\n",
            "W0115 09:22:53.008664 140038228400000 util.py:161] Unresolved object in checkpoint: (root).model._box_predictor._base_tower_layers_for_heads.box_encodings.2.7.beta\n",
            "WARNING:tensorflow:Unresolved object in checkpoint: (root).model._box_predictor._base_tower_layers_for_heads.box_encodings.2.7.moving_mean\n",
            "W0115 09:22:53.008725 140038228400000 util.py:161] Unresolved object in checkpoint: (root).model._box_predictor._base_tower_layers_for_heads.box_encodings.2.7.moving_mean\n",
            "WARNING:tensorflow:Unresolved object in checkpoint: (root).model._box_predictor._base_tower_layers_for_heads.box_encodings.2.7.moving_variance\n",
            "W0115 09:22:53.008784 140038228400000 util.py:161] Unresolved object in checkpoint: (root).model._box_predictor._base_tower_layers_for_heads.box_encodings.2.7.moving_variance\n",
            "WARNING:tensorflow:Unresolved object in checkpoint: (root).model._box_predictor._base_tower_layers_for_heads.box_encodings.2.10.axis\n",
            "W0115 09:22:53.008844 140038228400000 util.py:161] Unresolved object in checkpoint: (root).model._box_predictor._base_tower_layers_for_heads.box_encodings.2.10.axis\n",
            "WARNING:tensorflow:Unresolved object in checkpoint: (root).model._box_predictor._base_tower_layers_for_heads.box_encodings.2.10.gamma\n",
            "W0115 09:22:53.008903 140038228400000 util.py:161] Unresolved object in checkpoint: (root).model._box_predictor._base_tower_layers_for_heads.box_encodings.2.10.gamma\n",
            "WARNING:tensorflow:Unresolved object in checkpoint: (root).model._box_predictor._base_tower_layers_for_heads.box_encodings.2.10.beta\n",
            "W0115 09:22:53.008963 140038228400000 util.py:161] Unresolved object in checkpoint: (root).model._box_predictor._base_tower_layers_for_heads.box_encodings.2.10.beta\n",
            "WARNING:tensorflow:Unresolved object in checkpoint: (root).model._box_predictor._base_tower_layers_for_heads.box_encodings.2.10.moving_mean\n",
            "W0115 09:22:53.009027 140038228400000 util.py:161] Unresolved object in checkpoint: (root).model._box_predictor._base_tower_layers_for_heads.box_encodings.2.10.moving_mean\n",
            "WARNING:tensorflow:Unresolved object in checkpoint: (root).model._box_predictor._base_tower_layers_for_heads.box_encodings.2.10.moving_variance\n",
            "W0115 09:22:53.009087 140038228400000 util.py:161] Unresolved object in checkpoint: (root).model._box_predictor._base_tower_layers_for_heads.box_encodings.2.10.moving_variance\n",
            "WARNING:tensorflow:Unresolved object in checkpoint: (root).model._box_predictor._base_tower_layers_for_heads.box_encodings.3.1.axis\n",
            "W0115 09:22:53.009147 140038228400000 util.py:161] Unresolved object in checkpoint: (root).model._box_predictor._base_tower_layers_for_heads.box_encodings.3.1.axis\n",
            "WARNING:tensorflow:Unresolved object in checkpoint: (root).model._box_predictor._base_tower_layers_for_heads.box_encodings.3.1.gamma\n",
            "W0115 09:22:53.009225 140038228400000 util.py:161] Unresolved object in checkpoint: (root).model._box_predictor._base_tower_layers_for_heads.box_encodings.3.1.gamma\n",
            "WARNING:tensorflow:Unresolved object in checkpoint: (root).model._box_predictor._base_tower_layers_for_heads.box_encodings.3.1.beta\n",
            "W0115 09:22:53.009311 140038228400000 util.py:161] Unresolved object in checkpoint: (root).model._box_predictor._base_tower_layers_for_heads.box_encodings.3.1.beta\n",
            "WARNING:tensorflow:Unresolved object in checkpoint: (root).model._box_predictor._base_tower_layers_for_heads.box_encodings.3.1.moving_mean\n",
            "W0115 09:22:53.009392 140038228400000 util.py:161] Unresolved object in checkpoint: (root).model._box_predictor._base_tower_layers_for_heads.box_encodings.3.1.moving_mean\n",
            "WARNING:tensorflow:Unresolved object in checkpoint: (root).model._box_predictor._base_tower_layers_for_heads.box_encodings.3.1.moving_variance\n",
            "W0115 09:22:53.009473 140038228400000 util.py:161] Unresolved object in checkpoint: (root).model._box_predictor._base_tower_layers_for_heads.box_encodings.3.1.moving_variance\n",
            "WARNING:tensorflow:Unresolved object in checkpoint: (root).model._box_predictor._base_tower_layers_for_heads.box_encodings.3.4.axis\n",
            "W0115 09:22:53.009555 140038228400000 util.py:161] Unresolved object in checkpoint: (root).model._box_predictor._base_tower_layers_for_heads.box_encodings.3.4.axis\n",
            "WARNING:tensorflow:Unresolved object in checkpoint: (root).model._box_predictor._base_tower_layers_for_heads.box_encodings.3.4.gamma\n",
            "W0115 09:22:53.009636 140038228400000 util.py:161] Unresolved object in checkpoint: (root).model._box_predictor._base_tower_layers_for_heads.box_encodings.3.4.gamma\n",
            "WARNING:tensorflow:Unresolved object in checkpoint: (root).model._box_predictor._base_tower_layers_for_heads.box_encodings.3.4.beta\n",
            "W0115 09:22:53.009715 140038228400000 util.py:161] Unresolved object in checkpoint: (root).model._box_predictor._base_tower_layers_for_heads.box_encodings.3.4.beta\n",
            "WARNING:tensorflow:Unresolved object in checkpoint: (root).model._box_predictor._base_tower_layers_for_heads.box_encodings.3.4.moving_mean\n",
            "W0115 09:22:53.009795 140038228400000 util.py:161] Unresolved object in checkpoint: (root).model._box_predictor._base_tower_layers_for_heads.box_encodings.3.4.moving_mean\n",
            "WARNING:tensorflow:Unresolved object in checkpoint: (root).model._box_predictor._base_tower_layers_for_heads.box_encodings.3.4.moving_variance\n",
            "W0115 09:22:53.009877 140038228400000 util.py:161] Unresolved object in checkpoint: (root).model._box_predictor._base_tower_layers_for_heads.box_encodings.3.4.moving_variance\n",
            "WARNING:tensorflow:Unresolved object in checkpoint: (root).model._box_predictor._base_tower_layers_for_heads.box_encodings.3.7.axis\n",
            "W0115 09:22:53.009958 140038228400000 util.py:161] Unresolved object in checkpoint: (root).model._box_predictor._base_tower_layers_for_heads.box_encodings.3.7.axis\n",
            "WARNING:tensorflow:Unresolved object in checkpoint: (root).model._box_predictor._base_tower_layers_for_heads.box_encodings.3.7.gamma\n",
            "W0115 09:22:53.010051 140038228400000 util.py:161] Unresolved object in checkpoint: (root).model._box_predictor._base_tower_layers_for_heads.box_encodings.3.7.gamma\n",
            "WARNING:tensorflow:Unresolved object in checkpoint: (root).model._box_predictor._base_tower_layers_for_heads.box_encodings.3.7.beta\n",
            "W0115 09:22:53.010133 140038228400000 util.py:161] Unresolved object in checkpoint: (root).model._box_predictor._base_tower_layers_for_heads.box_encodings.3.7.beta\n",
            "WARNING:tensorflow:Unresolved object in checkpoint: (root).model._box_predictor._base_tower_layers_for_heads.box_encodings.3.7.moving_mean\n",
            "W0115 09:22:53.010228 140038228400000 util.py:161] Unresolved object in checkpoint: (root).model._box_predictor._base_tower_layers_for_heads.box_encodings.3.7.moving_mean\n",
            "WARNING:tensorflow:Unresolved object in checkpoint: (root).model._box_predictor._base_tower_layers_for_heads.box_encodings.3.7.moving_variance\n",
            "W0115 09:22:53.010312 140038228400000 util.py:161] Unresolved object in checkpoint: (root).model._box_predictor._base_tower_layers_for_heads.box_encodings.3.7.moving_variance\n",
            "WARNING:tensorflow:Unresolved object in checkpoint: (root).model._box_predictor._base_tower_layers_for_heads.box_encodings.3.10.axis\n",
            "W0115 09:22:53.010392 140038228400000 util.py:161] Unresolved object in checkpoint: (root).model._box_predictor._base_tower_layers_for_heads.box_encodings.3.10.axis\n",
            "WARNING:tensorflow:Unresolved object in checkpoint: (root).model._box_predictor._base_tower_layers_for_heads.box_encodings.3.10.gamma\n",
            "W0115 09:22:53.010473 140038228400000 util.py:161] Unresolved object in checkpoint: (root).model._box_predictor._base_tower_layers_for_heads.box_encodings.3.10.gamma\n",
            "WARNING:tensorflow:Unresolved object in checkpoint: (root).model._box_predictor._base_tower_layers_for_heads.box_encodings.3.10.beta\n",
            "W0115 09:22:53.010551 140038228400000 util.py:161] Unresolved object in checkpoint: (root).model._box_predictor._base_tower_layers_for_heads.box_encodings.3.10.beta\n",
            "WARNING:tensorflow:Unresolved object in checkpoint: (root).model._box_predictor._base_tower_layers_for_heads.box_encodings.3.10.moving_mean\n",
            "W0115 09:22:53.010631 140038228400000 util.py:161] Unresolved object in checkpoint: (root).model._box_predictor._base_tower_layers_for_heads.box_encodings.3.10.moving_mean\n",
            "WARNING:tensorflow:Unresolved object in checkpoint: (root).model._box_predictor._base_tower_layers_for_heads.box_encodings.3.10.moving_variance\n",
            "W0115 09:22:53.010711 140038228400000 util.py:161] Unresolved object in checkpoint: (root).model._box_predictor._base_tower_layers_for_heads.box_encodings.3.10.moving_variance\n",
            "WARNING:tensorflow:Unresolved object in checkpoint: (root).model._box_predictor._base_tower_layers_for_heads.box_encodings.4.1.axis\n",
            "W0115 09:22:53.010790 140038228400000 util.py:161] Unresolved object in checkpoint: (root).model._box_predictor._base_tower_layers_for_heads.box_encodings.4.1.axis\n",
            "WARNING:tensorflow:Unresolved object in checkpoint: (root).model._box_predictor._base_tower_layers_for_heads.box_encodings.4.1.gamma\n",
            "W0115 09:22:53.010868 140038228400000 util.py:161] Unresolved object in checkpoint: (root).model._box_predictor._base_tower_layers_for_heads.box_encodings.4.1.gamma\n",
            "WARNING:tensorflow:Unresolved object in checkpoint: (root).model._box_predictor._base_tower_layers_for_heads.box_encodings.4.1.beta\n",
            "W0115 09:22:53.010947 140038228400000 util.py:161] Unresolved object in checkpoint: (root).model._box_predictor._base_tower_layers_for_heads.box_encodings.4.1.beta\n",
            "WARNING:tensorflow:Unresolved object in checkpoint: (root).model._box_predictor._base_tower_layers_for_heads.box_encodings.4.1.moving_mean\n",
            "W0115 09:22:53.011036 140038228400000 util.py:161] Unresolved object in checkpoint: (root).model._box_predictor._base_tower_layers_for_heads.box_encodings.4.1.moving_mean\n",
            "WARNING:tensorflow:Unresolved object in checkpoint: (root).model._box_predictor._base_tower_layers_for_heads.box_encodings.4.1.moving_variance\n",
            "W0115 09:22:53.011118 140038228400000 util.py:161] Unresolved object in checkpoint: (root).model._box_predictor._base_tower_layers_for_heads.box_encodings.4.1.moving_variance\n",
            "WARNING:tensorflow:Unresolved object in checkpoint: (root).model._box_predictor._base_tower_layers_for_heads.box_encodings.4.4.axis\n",
            "W0115 09:22:53.011213 140038228400000 util.py:161] Unresolved object in checkpoint: (root).model._box_predictor._base_tower_layers_for_heads.box_encodings.4.4.axis\n",
            "WARNING:tensorflow:Unresolved object in checkpoint: (root).model._box_predictor._base_tower_layers_for_heads.box_encodings.4.4.gamma\n",
            "W0115 09:22:53.011294 140038228400000 util.py:161] Unresolved object in checkpoint: (root).model._box_predictor._base_tower_layers_for_heads.box_encodings.4.4.gamma\n",
            "WARNING:tensorflow:Unresolved object in checkpoint: (root).model._box_predictor._base_tower_layers_for_heads.box_encodings.4.4.beta\n",
            "W0115 09:22:53.011375 140038228400000 util.py:161] Unresolved object in checkpoint: (root).model._box_predictor._base_tower_layers_for_heads.box_encodings.4.4.beta\n",
            "WARNING:tensorflow:Unresolved object in checkpoint: (root).model._box_predictor._base_tower_layers_for_heads.box_encodings.4.4.moving_mean\n",
            "W0115 09:22:53.011456 140038228400000 util.py:161] Unresolved object in checkpoint: (root).model._box_predictor._base_tower_layers_for_heads.box_encodings.4.4.moving_mean\n",
            "WARNING:tensorflow:Unresolved object in checkpoint: (root).model._box_predictor._base_tower_layers_for_heads.box_encodings.4.4.moving_variance\n",
            "W0115 09:22:53.011536 140038228400000 util.py:161] Unresolved object in checkpoint: (root).model._box_predictor._base_tower_layers_for_heads.box_encodings.4.4.moving_variance\n",
            "WARNING:tensorflow:Unresolved object in checkpoint: (root).model._box_predictor._base_tower_layers_for_heads.box_encodings.4.7.axis\n",
            "W0115 09:22:53.011618 140038228400000 util.py:161] Unresolved object in checkpoint: (root).model._box_predictor._base_tower_layers_for_heads.box_encodings.4.7.axis\n",
            "WARNING:tensorflow:Unresolved object in checkpoint: (root).model._box_predictor._base_tower_layers_for_heads.box_encodings.4.7.gamma\n",
            "W0115 09:22:53.011697 140038228400000 util.py:161] Unresolved object in checkpoint: (root).model._box_predictor._base_tower_layers_for_heads.box_encodings.4.7.gamma\n",
            "WARNING:tensorflow:Unresolved object in checkpoint: (root).model._box_predictor._base_tower_layers_for_heads.box_encodings.4.7.beta\n",
            "W0115 09:22:53.011776 140038228400000 util.py:161] Unresolved object in checkpoint: (root).model._box_predictor._base_tower_layers_for_heads.box_encodings.4.7.beta\n",
            "WARNING:tensorflow:Unresolved object in checkpoint: (root).model._box_predictor._base_tower_layers_for_heads.box_encodings.4.7.moving_mean\n",
            "W0115 09:22:53.011856 140038228400000 util.py:161] Unresolved object in checkpoint: (root).model._box_predictor._base_tower_layers_for_heads.box_encodings.4.7.moving_mean\n",
            "WARNING:tensorflow:Unresolved object in checkpoint: (root).model._box_predictor._base_tower_layers_for_heads.box_encodings.4.7.moving_variance\n",
            "W0115 09:22:53.011936 140038228400000 util.py:161] Unresolved object in checkpoint: (root).model._box_predictor._base_tower_layers_for_heads.box_encodings.4.7.moving_variance\n",
            "WARNING:tensorflow:Unresolved object in checkpoint: (root).model._box_predictor._base_tower_layers_for_heads.box_encodings.4.10.axis\n",
            "W0115 09:22:53.012024 140038228400000 util.py:161] Unresolved object in checkpoint: (root).model._box_predictor._base_tower_layers_for_heads.box_encodings.4.10.axis\n",
            "WARNING:tensorflow:Unresolved object in checkpoint: (root).model._box_predictor._base_tower_layers_for_heads.box_encodings.4.10.gamma\n",
            "W0115 09:22:53.012104 140038228400000 util.py:161] Unresolved object in checkpoint: (root).model._box_predictor._base_tower_layers_for_heads.box_encodings.4.10.gamma\n",
            "WARNING:tensorflow:Unresolved object in checkpoint: (root).model._box_predictor._base_tower_layers_for_heads.box_encodings.4.10.beta\n",
            "W0115 09:22:53.012196 140038228400000 util.py:161] Unresolved object in checkpoint: (root).model._box_predictor._base_tower_layers_for_heads.box_encodings.4.10.beta\n",
            "WARNING:tensorflow:Unresolved object in checkpoint: (root).model._box_predictor._base_tower_layers_for_heads.box_encodings.4.10.moving_mean\n",
            "W0115 09:22:53.012277 140038228400000 util.py:161] Unresolved object in checkpoint: (root).model._box_predictor._base_tower_layers_for_heads.box_encodings.4.10.moving_mean\n",
            "WARNING:tensorflow:Unresolved object in checkpoint: (root).model._box_predictor._base_tower_layers_for_heads.box_encodings.4.10.moving_variance\n",
            "W0115 09:22:53.012364 140038228400000 util.py:161] Unresolved object in checkpoint: (root).model._box_predictor._base_tower_layers_for_heads.box_encodings.4.10.moving_variance\n",
            "WARNING:tensorflow:A checkpoint was restored (e.g. tf.train.Checkpoint.restore or tf.keras.Model.load_weights) but not all checkpointed values were used. See above for specific issues. Use expect_partial() on the load status object, e.g. tf.train.Checkpoint.restore(...).expect_partial(), to silence these warnings, or use assert_consumed() to make the check explicit. See https://www.tensorflow.org/guide/checkpoint#loading_mechanics for details.\n",
            "W0115 09:22:53.012455 140038228400000 util.py:169] A checkpoint was restored (e.g. tf.train.Checkpoint.restore or tf.keras.Model.load_weights) but not all checkpointed values were used. See above for specific issues. Use expect_partial() on the load status object, e.g. tf.train.Checkpoint.restore(...).expect_partial(), to silence these warnings, or use assert_consumed() to make the check explicit. See https://www.tensorflow.org/guide/checkpoint#loading_mechanics for details.\n",
            "WARNING:tensorflow:From /usr/local/lib/python3.6/dist-packages/tensorflow/python/util/deprecation.py:602: calling map_fn_v2 (from tensorflow.python.ops.map_fn) with dtype is deprecated and will be removed in a future version.\n",
            "Instructions for updating:\n",
            "Use fn_output_signature instead\n",
            "W0115 09:22:58.895553 140035486291712 deprecation.py:534] From /usr/local/lib/python3.6/dist-packages/tensorflow/python/util/deprecation.py:602: calling map_fn_v2 (from tensorflow.python.ops.map_fn) with dtype is deprecated and will be removed in a future version.\n",
            "Instructions for updating:\n",
            "Use fn_output_signature instead\n",
            "INFO:tensorflow:Step 100 per-step time 12.282s loss=0.520\n",
            "I0115 09:43:44.043358 140038228400000 model_lib_v2.py:651] Step 100 per-step time 12.282s loss=0.520\n",
            "INFO:tensorflow:Step 200 per-step time 12.415s loss=0.476\n",
            "I0115 10:04:14.139838 140038228400000 model_lib_v2.py:651] Step 200 per-step time 12.415s loss=0.476\n",
            "INFO:tensorflow:Step 300 per-step time 12.472s loss=0.414\n",
            "I0115 10:24:53.982980 140038228400000 model_lib_v2.py:651] Step 300 per-step time 12.472s loss=0.414\n",
            "INFO:tensorflow:Step 400 per-step time 12.186s loss=0.452\n",
            "I0115 10:45:29.365080 140038228400000 model_lib_v2.py:651] Step 400 per-step time 12.186s loss=0.452\n",
            "INFO:tensorflow:Step 500 per-step time 12.382s loss=0.371\n",
            "I0115 11:05:53.182713 140038228400000 model_lib_v2.py:651] Step 500 per-step time 12.382s loss=0.371\n",
            "INFO:tensorflow:Step 600 per-step time 12.195s loss=0.317\n",
            "I0115 11:26:18.384566 140038228400000 model_lib_v2.py:651] Step 600 per-step time 12.195s loss=0.317\n",
            "INFO:tensorflow:Step 700 per-step time 12.196s loss=0.403\n",
            "I0115 11:46:46.758875 140038228400000 model_lib_v2.py:651] Step 700 per-step time 12.196s loss=0.403\n",
            "INFO:tensorflow:Step 800 per-step time 12.590s loss=0.429\n",
            "I0115 12:07:24.815149 140038228400000 model_lib_v2.py:651] Step 800 per-step time 12.590s loss=0.429\n",
            "INFO:tensorflow:Step 900 per-step time 12.877s loss=0.315\n",
            "I0115 12:27:59.338024 140038228400000 model_lib_v2.py:651] Step 900 per-step time 12.877s loss=0.315\n",
            "INFO:tensorflow:Step 1000 per-step time 12.117s loss=0.411\n",
            "I0115 12:48:30.403072 140038228400000 model_lib_v2.py:651] Step 1000 per-step time 12.117s loss=0.411\n"
          ],
          "name": "stdout"
        }
      ]
    },
    {
      "cell_type": "markdown",
      "metadata": {
        "id": "2txJUf3Oy7lD"
      },
      "source": [
        "Export your model for standard inference - creates a new folder called my_model under pre_trained_models/standard_model"
      ]
    },
    {
      "cell_type": "code",
      "metadata": {
        "id": "rvcD0EKm53YD",
        "colab": {
          "base_uri": "https://localhost:8080/"
        },
        "outputId": "a9270015-2ea8-4312-d0aa-82b11f60c993"
      },
      "source": [
        "!python3 exporter_main_v2.py --input_type image_tensor --pipeline_config_path ssd_mobilenet_v2_fpnlite_320x320_coco17_tpu-8/pipeline.config --trained_checkpoint_dir standard_model --output_directory pwd/my_model"
      ],
      "execution_count": null,
      "outputs": [
        {
          "output_type": "stream",
          "text": [
            "2021-01-15 12:51:05.192889: W tensorflow/stream_executor/platform/default/dso_loader.cc:60] Could not load dynamic library 'libcudart.so.11.0'; dlerror: libcudart.so.11.0: cannot open shared object file: No such file or directory; LD_LIBRARY_PATH: /usr/lib64-nvidia\n",
            "2021-01-15 12:51:05.192930: I tensorflow/stream_executor/cuda/cudart_stub.cc:29] Ignore above cudart dlerror if you do not have a GPU set up on your machine.\n",
            "Traceback (most recent call last):\n",
            "  File \"exporter_main_v2.py\", line 159, in <module>\n",
            "    app.run(main)\n",
            "  File \"/usr/local/lib/python3.6/dist-packages/absl/app.py\", line 300, in run\n",
            "    _run_main(main, args)\n",
            "  File \"/usr/local/lib/python3.6/dist-packages/absl/app.py\", line 251, in _run_main\n",
            "    sys.exit(main(argv))\n",
            "  File \"exporter_main_v2.py\", line 150, in main\n",
            "    text_format.Merge(f.read(), pipeline_config)\n",
            "  File \"/usr/local/lib/python3.6/dist-packages/tensorflow/python/lib/io/file_io.py\", line 117, in read\n",
            "    self._preread_check()\n",
            "  File \"/usr/local/lib/python3.6/dist-packages/tensorflow/python/lib/io/file_io.py\", line 80, in _preread_check\n",
            "    compat.path_to_str(self.__name), 1024 * 512)\n",
            "tensorflow.python.framework.errors_impl.NotFoundError: ssd_mobilenet_v2_fpnlite_320x320_coco17_tpu-8/pipeline.config; No such file or directory\n"
          ],
          "name": "stdout"
        }
      ]
    },
    {
      "cell_type": "code",
      "metadata": {
        "colab": {
          "base_uri": "https://localhost:8080/"
        },
        "id": "85MJUIxqGkgV",
        "outputId": "f9539bbb-edb7-44a3-d16a-08937f19b961"
      },
      "source": [
        "ls"
      ],
      "execution_count": null,
      "outputs": [
        {
          "output_type": "stream",
          "text": [
            "exporter_main_v2.py  \u001b[0m\u001b[01;34mssd_mobilenet_v2_fpnlite_640x640_coco17_tpu-8\u001b[0m/\n",
            "model_main_tf2.py    \u001b[01;34mtrained_model\u001b[0m/\n"
          ],
          "name": "stdout"
        }
      ]
    },
    {
      "cell_type": "markdown",
      "metadata": {
        "id": "CLV5MRI28z3B"
      },
      "source": [
        "For TFLite we use a different script to export the model - change the config path for your model name"
      ]
    },
    {
      "cell_type": "code",
      "metadata": {
        "id": "fDFexao688V_",
        "colab": {
          "base_uri": "https://localhost:8080/"
        },
        "outputId": "0fb8e658-9409-470a-b0e0-68f01fb7d39d"
      },
      "source": [
        "\n",
        "!python3 /content/models/research/object_detection/export_tflite_graph_tf2.py \\\n",
        "--pipeline_config_path ssd_mobilenet_v2_fpnlite_640x640_coco17_tpu-8/pipeline.config \\\n",
        "--trained_checkpoint_dir trained_model \\\n",
        "--output_directory trained_model/tflite \\"
      ],
      "execution_count": null,
      "outputs": [
        {
          "output_type": "stream",
          "text": [
            "2021-01-15 12:59:02.352393: W tensorflow/stream_executor/platform/default/dso_loader.cc:60] Could not load dynamic library 'libcudart.so.11.0'; dlerror: libcudart.so.11.0: cannot open shared object file: No such file or directory; LD_LIBRARY_PATH: /usr/lib64-nvidia\n",
            "2021-01-15 12:59:02.352431: I tensorflow/stream_executor/cuda/cudart_stub.cc:29] Ignore above cudart dlerror if you do not have a GPU set up on your machine.\n",
            "2021-01-15 12:59:04.319106: I tensorflow/stream_executor/platform/default/dso_loader.cc:49] Successfully opened dynamic library libcuda.so.1\n",
            "2021-01-15 12:59:04.352104: I tensorflow/stream_executor/cuda/cuda_gpu_executor.cc:941] successful NUMA node read from SysFS had negative value (-1), but there must be at least one NUMA node, so returning NUMA node zero\n",
            "2021-01-15 12:59:04.352706: I tensorflow/core/common_runtime/gpu/gpu_device.cc:1760] Found device 0 with properties: \n",
            "pciBusID: 0000:00:04.0 name: Tesla T4 computeCapability: 7.5\n",
            "coreClock: 1.59GHz coreCount: 40 deviceMemorySize: 14.73GiB deviceMemoryBandwidth: 298.08GiB/s\n",
            "2021-01-15 12:59:04.352850: W tensorflow/stream_executor/platform/default/dso_loader.cc:60] Could not load dynamic library 'libcudart.so.11.0'; dlerror: libcudart.so.11.0: cannot open shared object file: No such file or directory; LD_LIBRARY_PATH: /usr/lib64-nvidia\n",
            "2021-01-15 12:59:04.353032: W tensorflow/stream_executor/platform/default/dso_loader.cc:60] Could not load dynamic library 'libcublas.so.11'; dlerror: libcublas.so.11: cannot open shared object file: No such file or directory; LD_LIBRARY_PATH: /usr/lib64-nvidia\n",
            "2021-01-15 12:59:04.353187: W tensorflow/stream_executor/platform/default/dso_loader.cc:60] Could not load dynamic library 'libcublasLt.so.11'; dlerror: libcublasLt.so.11: cannot open shared object file: No such file or directory; LD_LIBRARY_PATH: /usr/lib64-nvidia\n",
            "2021-01-15 12:59:04.354972: I tensorflow/stream_executor/platform/default/dso_loader.cc:49] Successfully opened dynamic library libcufft.so.10\n",
            "2021-01-15 12:59:04.355382: I tensorflow/stream_executor/platform/default/dso_loader.cc:49] Successfully opened dynamic library libcurand.so.10\n",
            "2021-01-15 12:59:04.357349: I tensorflow/stream_executor/platform/default/dso_loader.cc:49] Successfully opened dynamic library libcusolver.so.10\n",
            "2021-01-15 12:59:04.357538: W tensorflow/stream_executor/platform/default/dso_loader.cc:60] Could not load dynamic library 'libcusparse.so.11'; dlerror: libcusparse.so.11: cannot open shared object file: No such file or directory; LD_LIBRARY_PATH: /usr/lib64-nvidia\n",
            "2021-01-15 12:59:04.357678: W tensorflow/stream_executor/platform/default/dso_loader.cc:60] Could not load dynamic library 'libcudnn.so.8'; dlerror: libcudnn.so.8: cannot open shared object file: No such file or directory; LD_LIBRARY_PATH: /usr/lib64-nvidia\n",
            "2021-01-15 12:59:04.357709: W tensorflow/core/common_runtime/gpu/gpu_device.cc:1793] Cannot dlopen some GPU libraries. Please make sure the missing libraries mentioned above are installed properly if you would like to use GPU. Follow the guide at https://www.tensorflow.org/install/gpu for how to download and setup the required libraries for your platform.\n",
            "Skipping registering GPU devices...\n",
            "2021-01-15 12:59:04.358117: I tensorflow/core/platform/cpu_feature_guard.cc:142] This TensorFlow binary is optimized with oneAPI Deep Neural Network Library (oneDNN) to use the following CPU instructions in performance-critical operations:  AVX2 FMA\n",
            "To enable them in other operations, rebuild TensorFlow with the appropriate compiler flags.\n",
            "2021-01-15 12:59:04.358330: I tensorflow/core/common_runtime/gpu/gpu_device.cc:1300] Device interconnect StreamExecutor with strength 1 edge matrix:\n",
            "2021-01-15 12:59:04.358356: I tensorflow/core/common_runtime/gpu/gpu_device.cc:1306]      \n",
            "2021-01-15 12:59:10.643964: I tensorflow/core/common_runtime/gpu/gpu_device.cc:1300] Device interconnect StreamExecutor with strength 1 edge matrix:\n",
            "2021-01-15 12:59:10.644011: I tensorflow/core/common_runtime/gpu/gpu_device.cc:1306]      \n",
            "2021-01-15 12:59:10.667144: I tensorflow/compiler/mlir/mlir_graph_optimization_pass.cc:260] None of the MLIR optimization passes are enabled (registered 0 passes)\n",
            "2021-01-15 12:59:10.689047: I tensorflow/core/platform/profile_utils/cpu_utils.cc:112] CPU Frequency: 2199995000 Hz\n",
            "2021-01-15 12:59:12.440837: I tensorflow/core/common_runtime/gpu/gpu_device.cc:1300] Device interconnect StreamExecutor with strength 1 edge matrix:\n",
            "2021-01-15 12:59:12.440893: I tensorflow/core/common_runtime/gpu/gpu_device.cc:1306]      \n",
            "WARNING:tensorflow:Skipping full serialization of Keras layer <object_detection.meta_architectures.ssd_meta_arch.SSDMetaArch object at 0x7fa3901fa358>, because it is not built.\n",
            "W0115 12:59:13.108386 140342484477824 save_impl.py:77] Skipping full serialization of Keras layer <object_detection.meta_architectures.ssd_meta_arch.SSDMetaArch object at 0x7fa3901fa358>, because it is not built.\n",
            "WARNING:tensorflow:Skipping full serialization of Keras layer <tensorflow.python.keras.layers.convolutional.SeparableConv2D object at 0x7fa390161b00>, because it is not built.\n",
            "W0115 12:59:13.159105 140342484477824 save_impl.py:77] Skipping full serialization of Keras layer <tensorflow.python.keras.layers.convolutional.SeparableConv2D object at 0x7fa390161b00>, because it is not built.\n",
            "WARNING:tensorflow:Skipping full serialization of Keras layer <object_detection.core.freezable_batch_norm.FreezableBatchNorm object at 0x7fa374c54940>, because it is not built.\n",
            "W0115 12:59:13.159322 140342484477824 save_impl.py:77] Skipping full serialization of Keras layer <object_detection.core.freezable_batch_norm.FreezableBatchNorm object at 0x7fa374c54940>, because it is not built.\n",
            "WARNING:tensorflow:Skipping full serialization of Keras layer <tensorflow.python.keras.layers.core.Lambda object at 0x7fa3745b0b00>, because it is not built.\n",
            "W0115 12:59:13.159440 140342484477824 save_impl.py:77] Skipping full serialization of Keras layer <tensorflow.python.keras.layers.core.Lambda object at 0x7fa3745b0b00>, because it is not built.\n",
            "WARNING:tensorflow:Skipping full serialization of Keras layer <tensorflow.python.keras.layers.convolutional.SeparableConv2D object at 0x7fa3745b0b70>, because it is not built.\n",
            "W0115 12:59:13.159547 140342484477824 save_impl.py:77] Skipping full serialization of Keras layer <tensorflow.python.keras.layers.convolutional.SeparableConv2D object at 0x7fa3745b0b70>, because it is not built.\n",
            "WARNING:tensorflow:Skipping full serialization of Keras layer <object_detection.core.freezable_batch_norm.FreezableBatchNorm object at 0x7fa3745b08d0>, because it is not built.\n",
            "W0115 12:59:13.159642 140342484477824 save_impl.py:77] Skipping full serialization of Keras layer <object_detection.core.freezable_batch_norm.FreezableBatchNorm object at 0x7fa3745b08d0>, because it is not built.\n",
            "WARNING:tensorflow:Skipping full serialization of Keras layer <tensorflow.python.keras.layers.core.Lambda object at 0x7fa3746564e0>, because it is not built.\n",
            "W0115 12:59:13.159730 140342484477824 save_impl.py:77] Skipping full serialization of Keras layer <tensorflow.python.keras.layers.core.Lambda object at 0x7fa3746564e0>, because it is not built.\n",
            "WARNING:tensorflow:Skipping full serialization of Keras layer <tensorflow.python.keras.layers.convolutional.SeparableConv2D object at 0x7fa3746564a8>, because it is not built.\n",
            "W0115 12:59:13.159834 140342484477824 save_impl.py:77] Skipping full serialization of Keras layer <tensorflow.python.keras.layers.convolutional.SeparableConv2D object at 0x7fa3746564a8>, because it is not built.\n",
            "WARNING:tensorflow:Skipping full serialization of Keras layer <object_detection.core.freezable_batch_norm.FreezableBatchNorm object at 0x7fa374656908>, because it is not built.\n",
            "W0115 12:59:13.159937 140342484477824 save_impl.py:77] Skipping full serialization of Keras layer <object_detection.core.freezable_batch_norm.FreezableBatchNorm object at 0x7fa374656908>, because it is not built.\n",
            "WARNING:tensorflow:Skipping full serialization of Keras layer <tensorflow.python.keras.layers.core.Lambda object at 0x7fa374656550>, because it is not built.\n",
            "W0115 12:59:13.160030 140342484477824 save_impl.py:77] Skipping full serialization of Keras layer <tensorflow.python.keras.layers.core.Lambda object at 0x7fa374656550>, because it is not built.\n",
            "WARNING:tensorflow:Skipping full serialization of Keras layer <tensorflow.python.keras.layers.convolutional.SeparableConv2D object at 0x7fa3746569e8>, because it is not built.\n",
            "W0115 12:59:13.160116 140342484477824 save_impl.py:77] Skipping full serialization of Keras layer <tensorflow.python.keras.layers.convolutional.SeparableConv2D object at 0x7fa3746569e8>, because it is not built.\n",
            "WARNING:tensorflow:Skipping full serialization of Keras layer <object_detection.core.freezable_batch_norm.FreezableBatchNorm object at 0x7fa3746649b0>, because it is not built.\n",
            "W0115 12:59:13.160216 140342484477824 save_impl.py:77] Skipping full serialization of Keras layer <object_detection.core.freezable_batch_norm.FreezableBatchNorm object at 0x7fa3746649b0>, because it is not built.\n",
            "WARNING:tensorflow:Skipping full serialization of Keras layer <tensorflow.python.keras.layers.core.Lambda object at 0x7fa3746644a8>, because it is not built.\n",
            "W0115 12:59:13.160304 140342484477824 save_impl.py:77] Skipping full serialization of Keras layer <tensorflow.python.keras.layers.core.Lambda object at 0x7fa3746644a8>, because it is not built.\n",
            "WARNING:tensorflow:Skipping full serialization of Keras layer <object_detection.core.freezable_batch_norm.FreezableBatchNorm object at 0x7fa390161e48>, because it is not built.\n",
            "W0115 12:59:13.160393 140342484477824 save_impl.py:77] Skipping full serialization of Keras layer <object_detection.core.freezable_batch_norm.FreezableBatchNorm object at 0x7fa390161e48>, because it is not built.\n",
            "WARNING:tensorflow:Skipping full serialization of Keras layer <tensorflow.python.keras.layers.core.Lambda object at 0x7fa3744f5a20>, because it is not built.\n",
            "W0115 12:59:13.160477 140342484477824 save_impl.py:77] Skipping full serialization of Keras layer <tensorflow.python.keras.layers.core.Lambda object at 0x7fa3744f5a20>, because it is not built.\n",
            "WARNING:tensorflow:Skipping full serialization of Keras layer <object_detection.core.freezable_batch_norm.FreezableBatchNorm object at 0x7fa3744f5908>, because it is not built.\n",
            "W0115 12:59:13.160559 140342484477824 save_impl.py:77] Skipping full serialization of Keras layer <object_detection.core.freezable_batch_norm.FreezableBatchNorm object at 0x7fa3744f5908>, because it is not built.\n",
            "WARNING:tensorflow:Skipping full serialization of Keras layer <tensorflow.python.keras.layers.core.Lambda object at 0x7fa3744f5860>, because it is not built.\n",
            "W0115 12:59:13.160642 140342484477824 save_impl.py:77] Skipping full serialization of Keras layer <tensorflow.python.keras.layers.core.Lambda object at 0x7fa3744f5860>, because it is not built.\n",
            "WARNING:tensorflow:Skipping full serialization of Keras layer <object_detection.core.freezable_batch_norm.FreezableBatchNorm object at 0x7fa3744f5fd0>, because it is not built.\n",
            "W0115 12:59:13.160724 140342484477824 save_impl.py:77] Skipping full serialization of Keras layer <object_detection.core.freezable_batch_norm.FreezableBatchNorm object at 0x7fa3744f5fd0>, because it is not built.\n",
            "WARNING:tensorflow:Skipping full serialization of Keras layer <tensorflow.python.keras.layers.core.Lambda object at 0x7fa374590470>, because it is not built.\n",
            "W0115 12:59:13.160808 140342484477824 save_impl.py:77] Skipping full serialization of Keras layer <tensorflow.python.keras.layers.core.Lambda object at 0x7fa374590470>, because it is not built.\n",
            "WARNING:tensorflow:Skipping full serialization of Keras layer <object_detection.core.freezable_batch_norm.FreezableBatchNorm object at 0x7fa374590128>, because it is not built.\n",
            "W0115 12:59:13.160893 140342484477824 save_impl.py:77] Skipping full serialization of Keras layer <object_detection.core.freezable_batch_norm.FreezableBatchNorm object at 0x7fa374590128>, because it is not built.\n",
            "WARNING:tensorflow:Skipping full serialization of Keras layer <tensorflow.python.keras.layers.core.Lambda object at 0x7fa374590438>, because it is not built.\n",
            "W0115 12:59:13.160976 140342484477824 save_impl.py:77] Skipping full serialization of Keras layer <tensorflow.python.keras.layers.core.Lambda object at 0x7fa374590438>, because it is not built.\n",
            "WARNING:tensorflow:Skipping full serialization of Keras layer <object_detection.core.freezable_batch_norm.FreezableBatchNorm object at 0x7fa390161e80>, because it is not built.\n",
            "W0115 12:59:13.161059 140342484477824 save_impl.py:77] Skipping full serialization of Keras layer <object_detection.core.freezable_batch_norm.FreezableBatchNorm object at 0x7fa390161e80>, because it is not built.\n",
            "WARNING:tensorflow:Skipping full serialization of Keras layer <tensorflow.python.keras.layers.core.Lambda object at 0x7fa3745de588>, because it is not built.\n",
            "W0115 12:59:13.161142 140342484477824 save_impl.py:77] Skipping full serialization of Keras layer <tensorflow.python.keras.layers.core.Lambda object at 0x7fa3745de588>, because it is not built.\n",
            "WARNING:tensorflow:Skipping full serialization of Keras layer <object_detection.core.freezable_batch_norm.FreezableBatchNorm object at 0x7fa3745d8748>, because it is not built.\n",
            "W0115 12:59:13.161248 140342484477824 save_impl.py:77] Skipping full serialization of Keras layer <object_detection.core.freezable_batch_norm.FreezableBatchNorm object at 0x7fa3745d8748>, because it is not built.\n",
            "WARNING:tensorflow:Skipping full serialization of Keras layer <tensorflow.python.keras.layers.core.Lambda object at 0x7fa3745d87b8>, because it is not built.\n",
            "W0115 12:59:13.161346 140342484477824 save_impl.py:77] Skipping full serialization of Keras layer <tensorflow.python.keras.layers.core.Lambda object at 0x7fa3745d87b8>, because it is not built.\n",
            "WARNING:tensorflow:Skipping full serialization of Keras layer <object_detection.core.freezable_batch_norm.FreezableBatchNorm object at 0x7fa3745e1be0>, because it is not built.\n",
            "W0115 12:59:13.161540 140342484477824 save_impl.py:77] Skipping full serialization of Keras layer <object_detection.core.freezable_batch_norm.FreezableBatchNorm object at 0x7fa3745e1be0>, because it is not built.\n",
            "WARNING:tensorflow:Skipping full serialization of Keras layer <tensorflow.python.keras.layers.core.Lambda object at 0x7fa374880cf8>, because it is not built.\n",
            "W0115 12:59:13.161659 140342484477824 save_impl.py:77] Skipping full serialization of Keras layer <tensorflow.python.keras.layers.core.Lambda object at 0x7fa374880cf8>, because it is not built.\n",
            "WARNING:tensorflow:Skipping full serialization of Keras layer <object_detection.core.freezable_batch_norm.FreezableBatchNorm object at 0x7fa3745f3f60>, because it is not built.\n",
            "W0115 12:59:13.161756 140342484477824 save_impl.py:77] Skipping full serialization of Keras layer <object_detection.core.freezable_batch_norm.FreezableBatchNorm object at 0x7fa3745f3f60>, because it is not built.\n",
            "WARNING:tensorflow:Skipping full serialization of Keras layer <tensorflow.python.keras.layers.core.Lambda object at 0x7fa3745f39e8>, because it is not built.\n",
            "W0115 12:59:13.161847 140342484477824 save_impl.py:77] Skipping full serialization of Keras layer <tensorflow.python.keras.layers.core.Lambda object at 0x7fa3745f39e8>, because it is not built.\n",
            "WARNING:tensorflow:Skipping full serialization of Keras layer <object_detection.core.freezable_batch_norm.FreezableBatchNorm object at 0x7fa37457bb00>, because it is not built.\n",
            "W0115 12:59:13.161932 140342484477824 save_impl.py:77] Skipping full serialization of Keras layer <object_detection.core.freezable_batch_norm.FreezableBatchNorm object at 0x7fa37457bb00>, because it is not built.\n",
            "WARNING:tensorflow:Skipping full serialization of Keras layer <tensorflow.python.keras.layers.core.Lambda object at 0x7fa374661b00>, because it is not built.\n",
            "W0115 12:59:13.162014 140342484477824 save_impl.py:77] Skipping full serialization of Keras layer <tensorflow.python.keras.layers.core.Lambda object at 0x7fa374661b00>, because it is not built.\n",
            "WARNING:tensorflow:Skipping full serialization of Keras layer <object_detection.core.freezable_batch_norm.FreezableBatchNorm object at 0x7fa374661be0>, because it is not built.\n",
            "W0115 12:59:13.162094 140342484477824 save_impl.py:77] Skipping full serialization of Keras layer <object_detection.core.freezable_batch_norm.FreezableBatchNorm object at 0x7fa374661be0>, because it is not built.\n",
            "WARNING:tensorflow:Skipping full serialization of Keras layer <tensorflow.python.keras.layers.core.Lambda object at 0x7fa3745a5470>, because it is not built.\n",
            "W0115 12:59:13.162189 140342484477824 save_impl.py:77] Skipping full serialization of Keras layer <tensorflow.python.keras.layers.core.Lambda object at 0x7fa3745a5470>, because it is not built.\n",
            "WARNING:tensorflow:Skipping full serialization of Keras layer <object_detection.core.freezable_batch_norm.FreezableBatchNorm object at 0x7fa3745a5be0>, because it is not built.\n",
            "W0115 12:59:13.162279 140342484477824 save_impl.py:77] Skipping full serialization of Keras layer <object_detection.core.freezable_batch_norm.FreezableBatchNorm object at 0x7fa3745a5be0>, because it is not built.\n",
            "WARNING:tensorflow:Skipping full serialization of Keras layer <tensorflow.python.keras.layers.core.Lambda object at 0x7fa3745a53c8>, because it is not built.\n",
            "W0115 12:59:13.162369 140342484477824 save_impl.py:77] Skipping full serialization of Keras layer <tensorflow.python.keras.layers.core.Lambda object at 0x7fa3745a53c8>, because it is not built.\n",
            "WARNING:tensorflow:Skipping full serialization of Keras layer <object_detection.core.freezable_batch_norm.FreezableBatchNorm object at 0x7fa3745a5320>, because it is not built.\n",
            "W0115 12:59:13.162486 140342484477824 save_impl.py:77] Skipping full serialization of Keras layer <object_detection.core.freezable_batch_norm.FreezableBatchNorm object at 0x7fa3745a5320>, because it is not built.\n",
            "WARNING:tensorflow:Skipping full serialization of Keras layer <tensorflow.python.keras.layers.core.Lambda object at 0x7fa3745a5ba8>, because it is not built.\n",
            "W0115 12:59:13.162584 140342484477824 save_impl.py:77] Skipping full serialization of Keras layer <tensorflow.python.keras.layers.core.Lambda object at 0x7fa3745a5ba8>, because it is not built.\n",
            "WARNING:tensorflow:Skipping full serialization of Keras layer <object_detection.core.freezable_batch_norm.FreezableBatchNorm object at 0x7fa390161eb8>, because it is not built.\n",
            "W0115 12:59:13.162751 140342484477824 save_impl.py:77] Skipping full serialization of Keras layer <object_detection.core.freezable_batch_norm.FreezableBatchNorm object at 0x7fa390161eb8>, because it is not built.\n",
            "WARNING:tensorflow:Skipping full serialization of Keras layer <tensorflow.python.keras.layers.core.Lambda object at 0x7fa3746717f0>, because it is not built.\n",
            "W0115 12:59:13.162847 140342484477824 save_impl.py:77] Skipping full serialization of Keras layer <tensorflow.python.keras.layers.core.Lambda object at 0x7fa3746717f0>, because it is not built.\n",
            "WARNING:tensorflow:Skipping full serialization of Keras layer <object_detection.core.freezable_batch_norm.FreezableBatchNorm object at 0x7fa374671828>, because it is not built.\n",
            "W0115 12:59:13.162936 140342484477824 save_impl.py:77] Skipping full serialization of Keras layer <object_detection.core.freezable_batch_norm.FreezableBatchNorm object at 0x7fa374671828>, because it is not built.\n",
            "WARNING:tensorflow:Skipping full serialization of Keras layer <tensorflow.python.keras.layers.core.Lambda object at 0x7fa374671cf8>, because it is not built.\n",
            "W0115 12:59:13.163021 140342484477824 save_impl.py:77] Skipping full serialization of Keras layer <tensorflow.python.keras.layers.core.Lambda object at 0x7fa374671cf8>, because it is not built.\n",
            "WARNING:tensorflow:Skipping full serialization of Keras layer <object_detection.core.freezable_batch_norm.FreezableBatchNorm object at 0x7fa374671e48>, because it is not built.\n",
            "W0115 12:59:13.163104 140342484477824 save_impl.py:77] Skipping full serialization of Keras layer <object_detection.core.freezable_batch_norm.FreezableBatchNorm object at 0x7fa374671e48>, because it is not built.\n",
            "WARNING:tensorflow:Skipping full serialization of Keras layer <tensorflow.python.keras.layers.core.Lambda object at 0x7fa3744f76d8>, because it is not built.\n",
            "W0115 12:59:13.163197 140342484477824 save_impl.py:77] Skipping full serialization of Keras layer <tensorflow.python.keras.layers.core.Lambda object at 0x7fa3744f76d8>, because it is not built.\n",
            "WARNING:tensorflow:Skipping full serialization of Keras layer <object_detection.core.freezable_batch_norm.FreezableBatchNorm object at 0x7fa3744f7780>, because it is not built.\n",
            "W0115 12:59:13.241096 140342484477824 save_impl.py:77] Skipping full serialization of Keras layer <object_detection.core.freezable_batch_norm.FreezableBatchNorm object at 0x7fa3744f7780>, because it is not built.\n",
            "WARNING:tensorflow:Skipping full serialization of Keras layer <tensorflow.python.keras.layers.core.Lambda object at 0x7fa3744f7d30>, because it is not built.\n",
            "W0115 12:59:13.241282 140342484477824 save_impl.py:77] Skipping full serialization of Keras layer <tensorflow.python.keras.layers.core.Lambda object at 0x7fa3744f7d30>, because it is not built.\n",
            "2021-01-15 12:59:21.348588: W tensorflow/python/util/util.cc:348] Sets are not currently considered sequences, but this may change in the future, so consider avoiding using them.\n",
            "2021-01-15 12:59:22.769016: I tensorflow/core/common_runtime/gpu/gpu_device.cc:1300] Device interconnect StreamExecutor with strength 1 edge matrix:\n",
            "2021-01-15 12:59:22.769066: I tensorflow/core/common_runtime/gpu/gpu_device.cc:1306]      \n",
            "W0115 12:59:33.587839 140342484477824 save.py:240] Found untraced functions such as WeightSharedConvolutionalBoxPredictor_layer_call_and_return_conditional_losses, WeightSharedConvolutionalBoxPredictor_layer_call_fn, WeightSharedConvolutionalBoxHead_layer_call_and_return_conditional_losses, WeightSharedConvolutionalBoxHead_layer_call_fn, WeightSharedConvolutionalBoxPredictor_layer_call_fn while saving (showing 5 of 300). These functions will not be directly callable after loading.\n",
            "WARNING:tensorflow:FOR KERAS USERS: The object that you are saving contains one or more Keras models or layers. If you are loading the SavedModel with `tf.keras.models.load_model`, continue reading (otherwise, you may ignore the following instructions). Please change your code to save with `tf.keras.models.save_model` or `model.save`, and confirm that the file \"keras.metadata\" exists in the export directory. In the future, Keras will only load the SavedModels that have this file. In other words, `tf.saved_model.save` will no longer write SavedModels that can be recovered as Keras models (this will apply in TF 2.5).\n",
            "\n",
            "FOR DEVS: If you are overwriting _tracking_metadata in your class, this property has been used to save metadata in the SavedModel. The metadta field will be deprecated soon, so please move the metadata to a different file.\n",
            "W0115 12:59:37.612588 140342484477824 save.py:1215] FOR KERAS USERS: The object that you are saving contains one or more Keras models or layers. If you are loading the SavedModel with `tf.keras.models.load_model`, continue reading (otherwise, you may ignore the following instructions). Please change your code to save with `tf.keras.models.save_model` or `model.save`, and confirm that the file \"keras.metadata\" exists in the export directory. In the future, Keras will only load the SavedModels that have this file. In other words, `tf.saved_model.save` will no longer write SavedModels that can be recovered as Keras models (this will apply in TF 2.5).\n",
            "\n",
            "FOR DEVS: If you are overwriting _tracking_metadata in your class, this property has been used to save metadata in the SavedModel. The metadta field will be deprecated soon, so please move the metadata to a different file.\n",
            "INFO:tensorflow:Assets written to: trained_model/tflite/saved_model/assets\n",
            "I0115 12:59:37.940768 140342484477824 builder_impl.py:775] Assets written to: trained_model/tflite/saved_model/assets\n"
          ],
          "name": "stdout"
        }
      ]
    },
    {
      "cell_type": "markdown",
      "metadata": {
        "id": "oJ0bJNRb_lJI"
      },
      "source": [
        "now convert that model to a TFLite model"
      ]
    },
    {
      "cell_type": "code",
      "metadata": {
        "id": "dbaAAbdr_abp",
        "colab": {
          "base_uri": "https://localhost:8080/"
        },
        "outputId": "c40bb84f-32e3-4536-908c-df589925d156"
      },
      "source": [
        "!tflite_convert --saved_model_dir=trained_model/tflite/saved_model --output_file=trained_model/tflite/model.tflite"
      ],
      "execution_count": null,
      "outputs": [
        {
          "output_type": "stream",
          "text": [
            "2021-01-15 12:59:59.815212: W tensorflow/stream_executor/platform/default/dso_loader.cc:60] Could not load dynamic library 'libcudart.so.11.0'; dlerror: libcudart.so.11.0: cannot open shared object file: No such file or directory; LD_LIBRARY_PATH: /usr/lib64-nvidia\n",
            "2021-01-15 12:59:59.815250: I tensorflow/stream_executor/cuda/cudart_stub.cc:29] Ignore above cudart dlerror if you do not have a GPU set up on your machine.\n",
            "2021-01-15 13:00:01.741273: I tensorflow/stream_executor/platform/default/dso_loader.cc:49] Successfully opened dynamic library libcuda.so.1\n",
            "2021-01-15 13:00:01.772980: I tensorflow/stream_executor/cuda/cuda_gpu_executor.cc:941] successful NUMA node read from SysFS had negative value (-1), but there must be at least one NUMA node, so returning NUMA node zero\n",
            "2021-01-15 13:00:01.773578: I tensorflow/core/common_runtime/gpu/gpu_device.cc:1760] Found device 0 with properties: \n",
            "pciBusID: 0000:00:04.0 name: Tesla T4 computeCapability: 7.5\n",
            "coreClock: 1.59GHz coreCount: 40 deviceMemorySize: 14.73GiB deviceMemoryBandwidth: 298.08GiB/s\n",
            "2021-01-15 13:00:01.773741: W tensorflow/stream_executor/platform/default/dso_loader.cc:60] Could not load dynamic library 'libcudart.so.11.0'; dlerror: libcudart.so.11.0: cannot open shared object file: No such file or directory; LD_LIBRARY_PATH: /usr/lib64-nvidia\n",
            "2021-01-15 13:00:01.773833: W tensorflow/stream_executor/platform/default/dso_loader.cc:60] Could not load dynamic library 'libcublas.so.11'; dlerror: libcublas.so.11: cannot open shared object file: No such file or directory; LD_LIBRARY_PATH: /usr/lib64-nvidia\n",
            "2021-01-15 13:00:01.773913: W tensorflow/stream_executor/platform/default/dso_loader.cc:60] Could not load dynamic library 'libcublasLt.so.11'; dlerror: libcublasLt.so.11: cannot open shared object file: No such file or directory; LD_LIBRARY_PATH: /usr/lib64-nvidia\n",
            "2021-01-15 13:00:01.783061: I tensorflow/stream_executor/platform/default/dso_loader.cc:49] Successfully opened dynamic library libcufft.so.10\n",
            "2021-01-15 13:00:01.783442: I tensorflow/stream_executor/platform/default/dso_loader.cc:49] Successfully opened dynamic library libcurand.so.10\n",
            "2021-01-15 13:00:01.785366: I tensorflow/stream_executor/platform/default/dso_loader.cc:49] Successfully opened dynamic library libcusolver.so.10\n",
            "2021-01-15 13:00:01.785486: W tensorflow/stream_executor/platform/default/dso_loader.cc:60] Could not load dynamic library 'libcusparse.so.11'; dlerror: libcusparse.so.11: cannot open shared object file: No such file or directory; LD_LIBRARY_PATH: /usr/lib64-nvidia\n",
            "2021-01-15 13:00:01.785564: W tensorflow/stream_executor/platform/default/dso_loader.cc:60] Could not load dynamic library 'libcudnn.so.8'; dlerror: libcudnn.so.8: cannot open shared object file: No such file or directory; LD_LIBRARY_PATH: /usr/lib64-nvidia\n",
            "2021-01-15 13:00:01.785597: W tensorflow/core/common_runtime/gpu/gpu_device.cc:1793] Cannot dlopen some GPU libraries. Please make sure the missing libraries mentioned above are installed properly if you would like to use GPU. Follow the guide at https://www.tensorflow.org/install/gpu for how to download and setup the required libraries for your platform.\n",
            "Skipping registering GPU devices...\n",
            "2021-01-15 13:00:01.785886: I tensorflow/core/platform/cpu_feature_guard.cc:142] This TensorFlow binary is optimized with oneAPI Deep Neural Network Library (oneDNN) to use the following CPU instructions in performance-critical operations:  AVX2 FMA\n",
            "To enable them in other operations, rebuild TensorFlow with the appropriate compiler flags.\n",
            "2021-01-15 13:00:01.786318: I tensorflow/core/common_runtime/gpu/gpu_device.cc:1300] Device interconnect StreamExecutor with strength 1 edge matrix:\n",
            "2021-01-15 13:00:01.786354: I tensorflow/core/common_runtime/gpu/gpu_device.cc:1306]      \n",
            "2021-01-15 13:00:11.415603: W tensorflow/compiler/mlir/lite/python/tf_tfl_flatbuffer_helpers.cc:332] Ignored output_format.\n",
            "2021-01-15 13:00:11.415660: W tensorflow/compiler/mlir/lite/python/tf_tfl_flatbuffer_helpers.cc:335] Ignored drop_control_dependency.\n",
            "2021-01-15 13:00:11.415672: W tensorflow/compiler/mlir/lite/python/tf_tfl_flatbuffer_helpers.cc:341] Ignored change_concat_input_ranges.\n",
            "2021-01-15 13:00:11.416543: I tensorflow/cc/saved_model/reader.cc:32] Reading SavedModel from: trained_model/tflite/saved_model\n",
            "2021-01-15 13:00:11.496002: I tensorflow/cc/saved_model/reader.cc:55] Reading meta graph with tags { serve }\n",
            "2021-01-15 13:00:11.496062: I tensorflow/cc/saved_model/reader.cc:93] Reading SavedModel debug info (if present) from: trained_model/tflite/saved_model\n",
            "2021-01-15 13:00:11.496150: I tensorflow/core/common_runtime/gpu/gpu_device.cc:1300] Device interconnect StreamExecutor with strength 1 edge matrix:\n",
            "2021-01-15 13:00:11.496185: I tensorflow/core/common_runtime/gpu/gpu_device.cc:1306]      \n",
            "2021-01-15 13:00:11.712623: I tensorflow/compiler/mlir/mlir_graph_optimization_pass.cc:260] None of the MLIR optimization passes are enabled (registered 0 passes)\n",
            "2021-01-15 13:00:11.757633: I tensorflow/cc/saved_model/loader.cc:206] Restoring SavedModel bundle.\n",
            "2021-01-15 13:00:11.792361: I tensorflow/core/platform/profile_utils/cpu_utils.cc:112] CPU Frequency: 2199995000 Hz\n",
            "2021-01-15 13:00:12.286045: I tensorflow/cc/saved_model/loader.cc:190] Running initialization op on SavedModel bundle at path: trained_model/tflite/saved_model\n",
            "2021-01-15 13:00:12.509939: I tensorflow/cc/saved_model/loader.cc:277] SavedModel load for tags { serve }; Status: success: OK. Took 1093400 microseconds.\n",
            "2021-01-15 13:00:13.742241: I tensorflow/compiler/mlir/tensorflow/utils/dump_mlir_util.cc:194] disabling MLIR crash reproducer, set env var `MLIR_CRASH_REPRODUCER_DIRECTORY` to enable.\n",
            "2021-01-15 13:00:14.390017: I tensorflow/stream_executor/cuda/cuda_gpu_executor.cc:941] successful NUMA node read from SysFS had negative value (-1), but there must be at least one NUMA node, so returning NUMA node zero\n",
            "2021-01-15 13:00:14.390861: I tensorflow/core/common_runtime/gpu/gpu_device.cc:1760] Found device 0 with properties: \n",
            "pciBusID: 0000:00:04.0 name: Tesla T4 computeCapability: 7.5\n",
            "coreClock: 1.59GHz coreCount: 40 deviceMemorySize: 14.73GiB deviceMemoryBandwidth: 298.08GiB/s\n",
            "2021-01-15 13:00:14.390909: W tensorflow/core/common_runtime/gpu/gpu_device.cc:1793] Cannot dlopen some GPU libraries. Please make sure the missing libraries mentioned above are installed properly if you would like to use GPU. Follow the guide at https://www.tensorflow.org/install/gpu for how to download and setup the required libraries for your platform.\n",
            "Skipping registering GPU devices...\n",
            "2021-01-15 13:00:14.561241: I tensorflow/core/common_runtime/gpu/gpu_device.cc:1300] Device interconnect StreamExecutor with strength 1 edge matrix:\n",
            "2021-01-15 13:00:14.561283: I tensorflow/core/common_runtime/gpu/gpu_device.cc:1306]      0 \n",
            "2021-01-15 13:00:14.561297: I tensorflow/core/common_runtime/gpu/gpu_device.cc:1319] 0:   N \n"
          ],
          "name": "stdout"
        }
      ]
    },
    {
      "cell_type": "code",
      "metadata": {
        "colab": {
          "base_uri": "https://localhost:8080/",
          "height": 283
        },
        "id": "o36GQzZJBs-I",
        "outputId": "d235d552-781b-4a15-db71-64ea24be805f"
      },
      "source": [
        "files.download('pwd/tflite/model.tflite')"
      ],
      "execution_count": null,
      "outputs": [
        {
          "output_type": "error",
          "ename": "FileNotFoundError",
          "evalue": "ignored",
          "traceback": [
            "\u001b[0;31m---------------------------------------------------------------------------\u001b[0m",
            "\u001b[0;31mFileNotFoundError\u001b[0m                         Traceback (most recent call last)",
            "\u001b[0;32m<ipython-input-46-f49e7d7efc2c>\u001b[0m in \u001b[0;36m<module>\u001b[0;34m()\u001b[0m\n\u001b[0;32m----> 1\u001b[0;31m \u001b[0mfiles\u001b[0m\u001b[0;34m.\u001b[0m\u001b[0mdownload\u001b[0m\u001b[0;34m(\u001b[0m\u001b[0;34m'pwd/tflite/model.tflite'\u001b[0m\u001b[0;34m)\u001b[0m\u001b[0;34m\u001b[0m\u001b[0;34m\u001b[0m\u001b[0m\n\u001b[0m",
            "\u001b[0;32m/usr/local/lib/python3.6/dist-packages/google/colab/files.py\u001b[0m in \u001b[0;36mdownload\u001b[0;34m(filename)\u001b[0m\n\u001b[1;32m    141\u001b[0m       \u001b[0;32mraise\u001b[0m \u001b[0mOSError\u001b[0m\u001b[0;34m(\u001b[0m\u001b[0mmsg\u001b[0m\u001b[0;34m)\u001b[0m\u001b[0;34m\u001b[0m\u001b[0;34m\u001b[0m\u001b[0m\n\u001b[1;32m    142\u001b[0m     \u001b[0;32melse\u001b[0m\u001b[0;34m:\u001b[0m\u001b[0;34m\u001b[0m\u001b[0;34m\u001b[0m\u001b[0m\n\u001b[0;32m--> 143\u001b[0;31m       \u001b[0;32mraise\u001b[0m \u001b[0mFileNotFoundError\u001b[0m\u001b[0;34m(\u001b[0m\u001b[0mmsg\u001b[0m\u001b[0;34m)\u001b[0m  \u001b[0;31m# pylint: disable=undefined-variable\u001b[0m\u001b[0;34m\u001b[0m\u001b[0;34m\u001b[0m\u001b[0m\n\u001b[0m\u001b[1;32m    144\u001b[0m \u001b[0;34m\u001b[0m\u001b[0m\n\u001b[1;32m    145\u001b[0m   \u001b[0mcomm_manager\u001b[0m \u001b[0;34m=\u001b[0m \u001b[0m_IPython\u001b[0m\u001b[0;34m.\u001b[0m\u001b[0mget_ipython\u001b[0m\u001b[0;34m(\u001b[0m\u001b[0;34m)\u001b[0m\u001b[0;34m.\u001b[0m\u001b[0mkernel\u001b[0m\u001b[0;34m.\u001b[0m\u001b[0mcomm_manager\u001b[0m\u001b[0;34m\u001b[0m\u001b[0;34m\u001b[0m\u001b[0m\n",
            "\u001b[0;31mFileNotFoundError\u001b[0m: Cannot find file: pwd/tflite/model.tflite"
          ]
        }
      ]
    },
    {
      "cell_type": "markdown",
      "metadata": {
        "id": "7Ck2ToT6PSRv"
      },
      "source": [
        "As an alternative, this converts a saved model with post-training quantization (converting floating numbers in parameters to integers) - this is needed to compile the model for Coral Edge TPU "
      ]
    },
    {
      "cell_type": "code",
      "metadata": {
        "id": "GgEV6_F2PgRD"
      },
      "source": [
        "saved_model_dir = \"/content/workspace/training_demo/pre_trained_models/trained_model/tflite/saved_model\""
      ],
      "execution_count": null,
      "outputs": []
    },
    {
      "cell_type": "markdown",
      "metadata": {
        "id": "Y8FV986ZxlPu"
      },
      "source": [
        "Below is a function to build a representative dataset which is needed as part of the converter - ensure you resize for your model size"
      ]
    },
    {
      "cell_type": "code",
      "metadata": {
        "id": "4e1N8IC4ZRvL"
      },
      "source": [
        "def representative_data_gen():\n",
        "  dataset_list = tf.data.Dataset.list_files(\"/content/workspace/training_demo/images/Ball/*.jpg\")\n",
        "  for i in range(100):\n",
        "    image = next(iter(dataset_list))\n",
        "    image = tf.io.read_file(image)\n",
        "    image = tf.io.decode_jpeg(image, channels=3)\n",
        "    image = tf.image.resize(image, [640, 640])\n",
        "    #image = tf.cast(image / 255., tf.float32)\n",
        "    image = tf.expand_dims(image, 0)\n",
        "    yield [image]"
      ],
      "execution_count": null,
      "outputs": []
    },
    {
      "cell_type": "code",
      "metadata": {
        "colab": {
          "base_uri": "https://localhost:8080/"
        },
        "id": "PFyvmf3xWCcw",
        "outputId": "31817d4f-8d1a-4fa6-f03c-6390975c0832"
      },
      "source": [
        "converter = tf.lite.TFLiteConverter.from_saved_model(saved_model_dir)\n",
        "# This enables quantization\n",
        "converter.optimizations = [tf.lite.Optimize.DEFAULT]\n",
        "converter.allow_custom_ops = True\n",
        "# This sets the representative dataset for quantization\n",
        "converter.representative_dataset = representative_data_gen\n",
        "# This ensures that if any ops can't be quantized, the converter throws an error\n",
        "#converter.target_spec.supported_ops = [tf.lite.OpsSet.TFLITE_BUILTINS_INT8]\n",
        "converter.target_spec.supported_ops = [tf.lite.OpsSet.TFLITE_BUILTINS_INT8, tf.lite.OpsSet.TFLITE_BUILTINS]\n",
        "# For full integer quantization, though supported types defaults to int8 only, we explicitly declare it for clarity.\n",
        "converter.target_spec.supported_types = [tf.int8]\n",
        "# These set the input and output tensors to uint8 (added in r2.3)\n",
        "converter.inference_input_type = tf.uint8\n",
        "converter.inference_output_type = tf.uint8\n",
        "tflite_model = converter.convert()"
      ],
      "execution_count": null,
      "outputs": [
        {
          "output_type": "stream",
          "text": [
            "INFO:tensorflow:Restoring parameters from /content/workspace/training_demo/pre_trained_models/trained_model/tflite/saved_model/variables/variables\n"
          ],
          "name": "stdout"
        },
        {
          "output_type": "stream",
          "text": [
            "INFO:tensorflow:Restoring parameters from /content/workspace/training_demo/pre_trained_models/trained_model/tflite/saved_model/variables/variables\n"
          ],
          "name": "stderr"
        },
        {
          "output_type": "stream",
          "text": [
            "INFO:tensorflow:The given SavedModel MetaGraphDef contains SignatureDefs with the following keys: {'serving_default', '__saved_model_init_op'}\n"
          ],
          "name": "stdout"
        },
        {
          "output_type": "stream",
          "text": [
            "INFO:tensorflow:The given SavedModel MetaGraphDef contains SignatureDefs with the following keys: {'serving_default', '__saved_model_init_op'}\n"
          ],
          "name": "stderr"
        },
        {
          "output_type": "stream",
          "text": [
            "INFO:tensorflow:input tensors info: \n"
          ],
          "name": "stdout"
        },
        {
          "output_type": "stream",
          "text": [
            "INFO:tensorflow:input tensors info: \n"
          ],
          "name": "stderr"
        },
        {
          "output_type": "stream",
          "text": [
            "INFO:tensorflow:Tensor's key in saved_model's tensor_map: input\n"
          ],
          "name": "stdout"
        },
        {
          "output_type": "stream",
          "text": [
            "INFO:tensorflow:Tensor's key in saved_model's tensor_map: input\n"
          ],
          "name": "stderr"
        },
        {
          "output_type": "stream",
          "text": [
            "INFO:tensorflow: tensor name: serving_default_input:0, shape: (1, 640, 640, 3), type: DT_FLOAT\n"
          ],
          "name": "stdout"
        },
        {
          "output_type": "stream",
          "text": [
            "INFO:tensorflow: tensor name: serving_default_input:0, shape: (1, 640, 640, 3), type: DT_FLOAT\n"
          ],
          "name": "stderr"
        },
        {
          "output_type": "stream",
          "text": [
            "INFO:tensorflow:output tensors info: \n"
          ],
          "name": "stdout"
        },
        {
          "output_type": "stream",
          "text": [
            "INFO:tensorflow:output tensors info: \n"
          ],
          "name": "stderr"
        },
        {
          "output_type": "stream",
          "text": [
            "INFO:tensorflow:Tensor's key in saved_model's tensor_map: output_2\n"
          ],
          "name": "stdout"
        },
        {
          "output_type": "stream",
          "text": [
            "INFO:tensorflow:Tensor's key in saved_model's tensor_map: output_2\n"
          ],
          "name": "stderr"
        },
        {
          "output_type": "stream",
          "text": [
            "INFO:tensorflow: tensor name: StatefulPartitionedCall:2, shape: (), type: DT_FLOAT\n"
          ],
          "name": "stdout"
        },
        {
          "output_type": "stream",
          "text": [
            "INFO:tensorflow: tensor name: StatefulPartitionedCall:2, shape: (), type: DT_FLOAT\n"
          ],
          "name": "stderr"
        },
        {
          "output_type": "stream",
          "text": [
            "INFO:tensorflow:Tensor's key in saved_model's tensor_map: output_3\n"
          ],
          "name": "stdout"
        },
        {
          "output_type": "stream",
          "text": [
            "INFO:tensorflow:Tensor's key in saved_model's tensor_map: output_3\n"
          ],
          "name": "stderr"
        },
        {
          "output_type": "stream",
          "text": [
            "INFO:tensorflow: tensor name: StatefulPartitionedCall:3, shape: (), type: DT_FLOAT\n"
          ],
          "name": "stdout"
        },
        {
          "output_type": "stream",
          "text": [
            "INFO:tensorflow: tensor name: StatefulPartitionedCall:3, shape: (), type: DT_FLOAT\n"
          ],
          "name": "stderr"
        },
        {
          "output_type": "stream",
          "text": [
            "INFO:tensorflow:Tensor's key in saved_model's tensor_map: output_0\n"
          ],
          "name": "stdout"
        },
        {
          "output_type": "stream",
          "text": [
            "INFO:tensorflow:Tensor's key in saved_model's tensor_map: output_0\n"
          ],
          "name": "stderr"
        },
        {
          "output_type": "stream",
          "text": [
            "INFO:tensorflow: tensor name: StatefulPartitionedCall:0, shape: (), type: DT_FLOAT\n"
          ],
          "name": "stdout"
        },
        {
          "output_type": "stream",
          "text": [
            "INFO:tensorflow: tensor name: StatefulPartitionedCall:0, shape: (), type: DT_FLOAT\n"
          ],
          "name": "stderr"
        },
        {
          "output_type": "stream",
          "text": [
            "INFO:tensorflow:Tensor's key in saved_model's tensor_map: output_1\n"
          ],
          "name": "stdout"
        },
        {
          "output_type": "stream",
          "text": [
            "INFO:tensorflow:Tensor's key in saved_model's tensor_map: output_1\n"
          ],
          "name": "stderr"
        },
        {
          "output_type": "stream",
          "text": [
            "INFO:tensorflow: tensor name: StatefulPartitionedCall:1, shape: (), type: DT_FLOAT\n"
          ],
          "name": "stdout"
        },
        {
          "output_type": "stream",
          "text": [
            "INFO:tensorflow: tensor name: StatefulPartitionedCall:1, shape: (), type: DT_FLOAT\n"
          ],
          "name": "stderr"
        },
        {
          "output_type": "stream",
          "text": [
            "INFO:tensorflow:Restoring parameters from /content/workspace/training_demo/pre_trained_models/trained_model/tflite/saved_model/variables/variables\n"
          ],
          "name": "stdout"
        },
        {
          "output_type": "stream",
          "text": [
            "INFO:tensorflow:Restoring parameters from /content/workspace/training_demo/pre_trained_models/trained_model/tflite/saved_model/variables/variables\n",
            "WARNING:absl:For model outputs containing unsupported operations which cannot be quantized, the `inference_output_type` attribute will default to the original type.\n"
          ],
          "name": "stderr"
        }
      ]
    },
    {
      "cell_type": "code",
      "metadata": {
        "colab": {
          "base_uri": "https://localhost:8080/"
        },
        "id": "K2Rtn9P99nH7",
        "outputId": "1a5d4290-e67d-414c-87aa-88807fb1b707"
      },
      "source": [
        "open(\"Quant_converted_model.tflite\", \"wb\").write(tflite_model)"
      ],
      "execution_count": null,
      "outputs": [
        {
          "output_type": "execute_result",
          "data": {
            "text/plain": [
              "4474120"
            ]
          },
          "metadata": {
            "tags": []
          },
          "execution_count": 54
        }
      ]
    },
    {
      "cell_type": "markdown",
      "metadata": {
        "id": "Y23eLV_mAbVR"
      },
      "source": [
        "Or we can export the tfite frozen graph and do post training quantisation on the graph rather than the saved model"
      ]
    },
    {
      "cell_type": "code",
      "metadata": {
        "colab": {
          "base_uri": "https://localhost:8080/"
        },
        "id": "yHAK3JZ8Isbr",
        "outputId": "5c45989a-3b3d-407b-86bf-6c2d55a98f6a"
      },
      "source": [
        "\n",
        "!python  /content/models/research/object_detection/export_tflite_graph_tf2.py \\\n",
        "    --pipeline_config_path=ssd_mobilenet_v2_fpnlite_320x320_coco17_tpu-8/pipeline.config \\\n",
        "    --output_directory=trained_model/tflite \\\n",
        "    --trained_checkpoint_prefix=trained_model \\\n",
        "    --add_postprocessing_op=true"
      ],
      "execution_count": null,
      "outputs": [
        {
          "output_type": "stream",
          "text": [
            "2020-12-09 11:20:16.048723: I tensorflow/stream_executor/platform/default/dso_loader.cc:48] Successfully opened dynamic library libcudart.so.10.1\n",
            "FATAL Flags parsing error: Unknown command line flag 'trained_checkpoint_prefix'. Did you mean: trained_checkpoint_dir ?\n",
            "Pass --helpshort or --helpfull to see help on flags.\n"
          ],
          "name": "stdout"
        }
      ]
    },
    {
      "cell_type": "code",
      "metadata": {
        "id": "BtS5Nqb3BB26"
      },
      "source": [
        "graph_def_file = (output_directory + '/tflite_graph.pb')\n",
        "input_arrays = [\"normalized_input_image_tensor\"]\n",
        "output_arrays = [\"TFLite_Detection_PostProcess\",\"TFLite_Detection_PostProcess:1\",\"TFLite_Detection_PostProcess:2\",\"TFLite_Detection_PostProcess:3\"]"
      ],
      "execution_count": null,
      "outputs": []
    },
    {
      "cell_type": "code",
      "metadata": {
        "id": "yVrLBbP0BIdz"
      },
      "source": [
        "converter = tf.lite.TFLiteConverter.from_frozen_graph(\n",
        "  graph_def_file, \n",
        "  input_arrays, \n",
        "  output_arrays, \n",
        "  input_shapes={'normalized_input_image_tensor':[1, 300, 300, 3]}\n",
        "  \n",
        "  )"
      ],
      "execution_count": null,
      "outputs": []
    },
    {
      "cell_type": "code",
      "metadata": {
        "id": "SmY9cKdWB31-"
      },
      "source": [
        "converter.allow_custom_ops = True\n",
        "converter.inference_type = tf.uint8 \n",
        "converter.quantized_input_stats = {input_arrays[0] : (128., 128.)}  # mean_value, std_dev"
      ],
      "execution_count": null,
      "outputs": []
    },
    {
      "cell_type": "code",
      "metadata": {
        "id": "iJ5cpcglB4lv"
      },
      "source": [
        "tflite_model = converter.convert()\n",
        "open(\"Quant_converted_model_graph.tflite\", \"wb\").write(tflite_model)"
      ],
      "execution_count": null,
      "outputs": []
    },
    {
      "cell_type": "code",
      "metadata": {
        "colab": {
          "base_uri": "https://localhost:8080/"
        },
        "id": "BcKn5vKlRUwJ",
        "outputId": "69393b80-6046-44c4-d13a-fcc421b5bb98"
      },
      "source": [
        "cd trained_model/tflite\n"
      ],
      "execution_count": null,
      "outputs": [
        {
          "output_type": "stream",
          "text": [
            "[Errno 2] No such file or directory: 'trained_model/tflite'\n",
            "/content/workspace/training_demo/pre_trained_models/trained_model/tflite\n"
          ],
          "name": "stdout"
        }
      ]
    },
    {
      "cell_type": "markdown",
      "metadata": {
        "id": "sAyimfeeTgxA"
      },
      "source": [
        "Download Edge TPU compiler"
      ]
    },
    {
      "cell_type": "code",
      "metadata": {
        "colab": {
          "base_uri": "https://localhost:8080/"
        },
        "id": "3-39hV9_Tjrp",
        "outputId": "7b6b0ae7-dbbe-4892-fe7c-05539bf509ca"
      },
      "source": [
        "! curl https://packages.cloud.google.com/apt/doc/apt-key.gpg | sudo apt-key add -\n",
        "\n",
        "! echo \"deb https://packages.cloud.google.com/apt coral-edgetpu-stable main\" | sudo tee /etc/apt/sources.list.d/coral-edgetpu.list\n",
        "\n",
        "! sudo apt-get update\n",
        "\n",
        "! sudo apt-get install edgetpu-compiler\t"
      ],
      "execution_count": null,
      "outputs": [
        {
          "output_type": "stream",
          "text": [
            "  % Total    % Received % Xferd  Average Speed   Time    Time     Time  Current\n",
            "                                 Dload  Upload   Total   Spent    Left  Speed\n",
            "\r  0     0    0     0    0     0      0      0 --:--:-- --:--:-- --:--:--     0\r100  1974  100  1974    0     0  68068      0 --:--:-- --:--:-- --:--:-- 68068\n",
            "OK\n",
            "deb https://packages.cloud.google.com/apt coral-edgetpu-stable main\n",
            "Get:1 https://cloud.r-project.org/bin/linux/ubuntu bionic-cran40/ InRelease [3,626 B]\n",
            "Ign:2 https://developer.download.nvidia.com/compute/cuda/repos/ubuntu1804/x86_64  InRelease\n",
            "Ign:3 https://developer.download.nvidia.com/compute/machine-learning/repos/ubuntu1804/x86_64  InRelease\n",
            "Get:4 http://security.ubuntu.com/ubuntu bionic-security InRelease [88.7 kB]\n",
            "Hit:5 https://developer.download.nvidia.com/compute/cuda/repos/ubuntu1804/x86_64  Release\n",
            "Get:6 https://developer.download.nvidia.com/compute/machine-learning/repos/ubuntu1804/x86_64  Release [564 B]\n",
            "Get:7 https://cloud.r-project.org/bin/linux/ubuntu bionic-cran40/ Packages [43.6 kB]\n",
            "Get:8 https://developer.download.nvidia.com/compute/machine-learning/repos/ubuntu1804/x86_64  Release.gpg [833 B]\n",
            "Get:10 http://ppa.launchpad.net/c2d4u.team/c2d4u4.0+/ubuntu bionic InRelease [15.9 kB]\n",
            "Hit:11 http://archive.ubuntu.com/ubuntu bionic InRelease\n",
            "Get:12 https://developer.download.nvidia.com/compute/machine-learning/repos/ubuntu1804/x86_64  Packages [66.5 kB]\n",
            "Get:13 http://archive.ubuntu.com/ubuntu bionic-updates InRelease [88.7 kB]\n",
            "Get:14 http://security.ubuntu.com/ubuntu bionic-security/restricted amd64 Packages [284 kB]\n",
            "Hit:15 http://ppa.launchpad.net/cran/libgit2/ubuntu bionic InRelease\n",
            "Get:16 http://security.ubuntu.com/ubuntu bionic-security/main amd64 Packages [1,881 kB]\n",
            "Get:17 https://packages.cloud.google.com/apt coral-edgetpu-stable InRelease [6,722 B]\n",
            "Get:18 http://archive.ubuntu.com/ubuntu bionic-backports InRelease [74.6 kB]\n",
            "Get:19 http://security.ubuntu.com/ubuntu bionic-security/universe amd64 Packages [1,376 kB]\n",
            "Get:20 http://ppa.launchpad.net/graphics-drivers/ppa/ubuntu bionic InRelease [21.3 kB]\n",
            "Ign:21 https://packages.cloud.google.com/apt coral-edgetpu-stable/main amd64 Packages\n",
            "Get:22 http://archive.ubuntu.com/ubuntu bionic-updates/main amd64 Packages [2,307 kB]\n",
            "Get:21 https://packages.cloud.google.com/apt coral-edgetpu-stable/main amd64 Packages [2,172 B]\n",
            "Get:23 http://ppa.launchpad.net/c2d4u.team/c2d4u4.0+/ubuntu bionic/main Sources [1,708 kB]\n",
            "Get:24 http://archive.ubuntu.com/ubuntu bionic-updates/multiverse amd64 Packages [45.6 kB]\n",
            "Get:25 http://archive.ubuntu.com/ubuntu bionic-updates/restricted amd64 Packages [309 kB]\n",
            "Get:26 http://archive.ubuntu.com/ubuntu bionic-updates/universe amd64 Packages [2,140 kB]\n",
            "Get:27 http://ppa.launchpad.net/c2d4u.team/c2d4u4.0+/ubuntu bionic/main amd64 Packages [875 kB]\n",
            "Get:28 http://ppa.launchpad.net/graphics-drivers/ppa/ubuntu bionic/main amd64 Packages [49.2 kB]\n",
            "Fetched 11.4 MB in 4s (3,084 kB/s)\n",
            "Reading package lists... Done\n",
            "Reading package lists... Done\n",
            "Building dependency tree       \n",
            "Reading state information... Done\n",
            "The following NEW packages will be installed:\n",
            "  edgetpu-compiler\n",
            "0 upgraded, 1 newly installed, 0 to remove and 46 not upgraded.\n",
            "Need to get 7,865 kB of archives.\n",
            "After this operation, 31.2 MB of additional disk space will be used.\n",
            "Get:1 https://packages.cloud.google.com/apt coral-edgetpu-stable/main amd64 edgetpu-compiler amd64 15.0 [7,865 kB]\n",
            "Fetched 7,865 kB in 2s (5,080 kB/s)\n",
            "debconf: unable to initialize frontend: Dialog\n",
            "debconf: (No usable dialog-like program is installed, so the dialog based frontend cannot be used. at /usr/share/perl5/Debconf/FrontEnd/Dialog.pm line 76, <> line 1.)\n",
            "debconf: falling back to frontend: Readline\n",
            "debconf: unable to initialize frontend: Readline\n",
            "debconf: (This frontend requires a controlling tty.)\n",
            "debconf: falling back to frontend: Teletype\n",
            "dpkg-preconfigure: unable to re-open stdin: \n",
            "Selecting previously unselected package edgetpu-compiler.\n",
            "(Reading database ... 145868 files and directories currently installed.)\n",
            "Preparing to unpack .../edgetpu-compiler_15.0_amd64.deb ...\n",
            "Unpacking edgetpu-compiler (15.0) ...\n",
            "Setting up edgetpu-compiler (15.0) ...\n",
            "Processing triggers for libc-bin (2.27-3ubuntu1.2) ...\n",
            "/sbin/ldconfig.real: /usr/local/lib/python3.6/dist-packages/ideep4py/lib/libmkldnn.so.0 is not a symbolic link\n",
            "\n"
          ],
          "name": "stdout"
        }
      ]
    },
    {
      "cell_type": "code",
      "metadata": {
        "colab": {
          "base_uri": "https://localhost:8080/"
        },
        "id": "6NPwRl2ZTxPG",
        "outputId": "27e9edd9-2803-49b2-d4e4-fe8d66f1bc1a"
      },
      "source": [
        "! edgetpu_compiler Quant_converted_model.tflite"
      ],
      "execution_count": null,
      "outputs": [
        {
          "output_type": "stream",
          "text": [
            "Edge TPU Compiler version 15.0.340273435\n",
            "\n",
            "Model compiled successfully in 1646 ms.\n",
            "\n",
            "Input model: Quant_converted_model.tflite\n",
            "Input size: 4.27MiB\n",
            "Output model: Quant_converted_model_edgetpu.tflite\n",
            "Output size: 4.74MiB\n",
            "On-chip memory used for caching model parameters: 3.21MiB\n",
            "On-chip memory remaining for caching model parameters: 3.78MiB\n",
            "Off-chip memory used for streaming uncached model parameters: 0.00B\n",
            "Number of Edge TPU subgraphs: 1\n",
            "Total number of operations: 167\n",
            "Operation log: Quant_converted_model_edgetpu.log\n",
            "\n",
            "Model successfully compiled but not all operations are supported by the Edge TPU. A percentage of the model will instead run on the CPU, which is slower. If possible, consider updating your model to use only operations supported by the Edge TPU. For details, visit g.co/coral/model-reqs.\n",
            "Number of operations that will run on Edge TPU: 118\n",
            "Number of operations that will run on CPU: 49\n",
            "See the operation log file for individual operation details.\n"
          ],
          "name": "stdout"
        }
      ]
    },
    {
      "cell_type": "code",
      "metadata": {
        "colab": {
          "base_uri": "https://localhost:8080/",
          "height": 17
        },
        "id": "ZXomJ1hc-vcj",
        "outputId": "2150d6bb-a78f-439d-e16d-307815bbafd3"
      },
      "source": [
        "files.download('Quant_converted_model_edgetpu.tflite')"
      ],
      "execution_count": null,
      "outputs": [
        {
          "output_type": "display_data",
          "data": {
            "application/javascript": [
              "\n",
              "    async function download(id, filename, size) {\n",
              "      if (!google.colab.kernel.accessAllowed) {\n",
              "        return;\n",
              "      }\n",
              "      const div = document.createElement('div');\n",
              "      const label = document.createElement('label');\n",
              "      label.textContent = `Downloading \"${filename}\": `;\n",
              "      div.appendChild(label);\n",
              "      const progress = document.createElement('progress');\n",
              "      progress.max = size;\n",
              "      div.appendChild(progress);\n",
              "      document.body.appendChild(div);\n",
              "\n",
              "      const buffers = [];\n",
              "      let downloaded = 0;\n",
              "\n",
              "      const channel = await google.colab.kernel.comms.open(id);\n",
              "      // Send a message to notify the kernel that we're ready.\n",
              "      channel.send({})\n",
              "\n",
              "      for await (const message of channel.messages) {\n",
              "        // Send a message to notify the kernel that we're ready.\n",
              "        channel.send({})\n",
              "        if (message.buffers) {\n",
              "          for (const buffer of message.buffers) {\n",
              "            buffers.push(buffer);\n",
              "            downloaded += buffer.byteLength;\n",
              "            progress.value = downloaded;\n",
              "          }\n",
              "        }\n",
              "      }\n",
              "      const blob = new Blob(buffers, {type: 'application/binary'});\n",
              "      const a = document.createElement('a');\n",
              "      a.href = window.URL.createObjectURL(blob);\n",
              "      a.download = filename;\n",
              "      div.appendChild(a);\n",
              "      a.click();\n",
              "      div.remove();\n",
              "    }\n",
              "  "
            ],
            "text/plain": [
              "<IPython.core.display.Javascript object>"
            ]
          },
          "metadata": {
            "tags": []
          }
        },
        {
          "output_type": "display_data",
          "data": {
            "application/javascript": [
              "download(\"download_a86cdd35-d614-40e2-86ca-982b8d2704ee\", \"Quant_converted_model_edgetpu.tflite\", 4966416)"
            ],
            "text/plain": [
              "<IPython.core.display.Javascript object>"
            ]
          },
          "metadata": {
            "tags": []
          }
        }
      ]
    },
    {
      "cell_type": "code",
      "metadata": {
        "colab": {
          "base_uri": "https://localhost:8080/"
        },
        "id": "BfJTjr6ExdLi",
        "outputId": "72cbcafc-9d4c-4a6c-ecab-9c5fe327e51a"
      },
      "source": [
        "#zip the trained model file and download\n",
        "!zip -r trained_model/tflite/saved_model.zip trained_model/tflite/saved_model"
      ],
      "execution_count": null,
      "outputs": [
        {
          "output_type": "stream",
          "text": [
            "  adding: trained_model/tflite/saved_model/ (stored 0%)\n",
            "  adding: trained_model/tflite/saved_model/assets/ (stored 0%)\n",
            "  adding: trained_model/tflite/saved_model/saved_model.pb (deflated 92%)\n",
            "  adding: trained_model/tflite/saved_model/variables/ (stored 0%)\n",
            "  adding: trained_model/tflite/saved_model/variables/variables.data-00000-of-00001 (deflated 8%)\n",
            "  adding: trained_model/tflite/saved_model/variables/variables.index (deflated 77%)\n"
          ],
          "name": "stdout"
        }
      ]
    },
    {
      "cell_type": "code",
      "metadata": {
        "colab": {
          "base_uri": "https://localhost:8080/",
          "height": 17
        },
        "id": "3l550IFKwIaJ",
        "outputId": "6b6c7d29-f5a4-4a90-8144-539583419de8"
      },
      "source": [
        "files.download('trained_model/tflite/saved_model.zip')"
      ],
      "execution_count": null,
      "outputs": [
        {
          "output_type": "display_data",
          "data": {
            "application/javascript": [
              "\n",
              "    async function download(id, filename, size) {\n",
              "      if (!google.colab.kernel.accessAllowed) {\n",
              "        return;\n",
              "      }\n",
              "      const div = document.createElement('div');\n",
              "      const label = document.createElement('label');\n",
              "      label.textContent = `Downloading \"${filename}\": `;\n",
              "      div.appendChild(label);\n",
              "      const progress = document.createElement('progress');\n",
              "      progress.max = size;\n",
              "      div.appendChild(progress);\n",
              "      document.body.appendChild(div);\n",
              "\n",
              "      const buffers = [];\n",
              "      let downloaded = 0;\n",
              "\n",
              "      const channel = await google.colab.kernel.comms.open(id);\n",
              "      // Send a message to notify the kernel that we're ready.\n",
              "      channel.send({})\n",
              "\n",
              "      for await (const message of channel.messages) {\n",
              "        // Send a message to notify the kernel that we're ready.\n",
              "        channel.send({})\n",
              "        if (message.buffers) {\n",
              "          for (const buffer of message.buffers) {\n",
              "            buffers.push(buffer);\n",
              "            downloaded += buffer.byteLength;\n",
              "            progress.value = downloaded;\n",
              "          }\n",
              "        }\n",
              "      }\n",
              "      const blob = new Blob(buffers, {type: 'application/binary'});\n",
              "      const a = document.createElement('a');\n",
              "      a.href = window.URL.createObjectURL(blob);\n",
              "      a.download = filename;\n",
              "      div.appendChild(a);\n",
              "      a.click();\n",
              "      div.remove();\n",
              "    }\n",
              "  "
            ],
            "text/plain": [
              "<IPython.core.display.Javascript object>"
            ]
          },
          "metadata": {
            "tags": []
          }
        },
        {
          "output_type": "display_data",
          "data": {
            "application/javascript": [
              "download(\"download_292dec88-d218-49a3-b385-bb01442cf16a\", \"saved_model.zip\", 10508967)"
            ],
            "text/plain": [
              "<IPython.core.display.Javascript object>"
            ]
          },
          "metadata": {
            "tags": []
          }
        }
      ]
    }
  ]
}