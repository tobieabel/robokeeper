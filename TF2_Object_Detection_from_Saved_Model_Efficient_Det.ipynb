{
  "nbformat": 4,
  "nbformat_minor": 0,
  "metadata": {
    "colab": {
      "name": "TF2 Object Detection from Saved Model_Efficient_Det.ipynb",
      "provenance": [],
      "toc_visible": true,
      "authorship_tag": "ABX9TyN0BiEsKnCclKSyF0EDwUtq",
      "include_colab_link": true
    },
    "kernelspec": {
      "name": "python3",
      "display_name": "Python 3"
    },
    "accelerator": "GPU"
  },
  "cells": [
    {
      "cell_type": "markdown",
      "metadata": {
        "id": "view-in-github",
        "colab_type": "text"
      },
      "source": [
        "<a href=\"https://colab.research.google.com/github/tobieabel/robokeeper/blob/master/TF2_Object_Detection_from_Saved_Model_Efficient_Det.ipynb\" target=\"_parent\"><img src=\"https://colab.research.google.com/assets/colab-badge.svg\" alt=\"Open In Colab\"/></a>"
      ]
    },
    {
      "cell_type": "code",
      "metadata": {
        "id": "bCt7MFh_0ojh",
        "colab": {
          "base_uri": "https://localhost:8080/"
        },
        "outputId": "5242cb0f-e5b9-4d3e-faf7-485260c611bc"
      },
      "source": [
        "!pip install tf-nightly"
      ],
      "execution_count": null,
      "outputs": [
        {
          "output_type": "stream",
          "text": [
            "Collecting tf-nightly\n",
            "\u001b[?25l  Downloading https://files.pythonhosted.org/packages/90/d1/b120060acaf0377bbabc219c24ee9e4692b4f96d90fa7154bc923c45af27/tf_nightly-2.5.0.dev20210122-cp36-cp36m-manylinux2010_x86_64.whl (401.0MB)\n",
            "\u001b[K     |████████████████████████████████| 401.0MB 39kB/s \n",
            "\u001b[?25hCollecting gast==0.4.0\n",
            "  Downloading https://files.pythonhosted.org/packages/b6/48/583c032b79ae5b3daa02225a675aeb673e58d2cb698e78510feceb11958c/gast-0.4.0-py3-none-any.whl\n",
            "Requirement already satisfied: astunparse~=1.6.3 in /usr/local/lib/python3.6/dist-packages (from tf-nightly) (1.6.3)\n",
            "Requirement already satisfied: protobuf>=3.9.2 in /usr/local/lib/python3.6/dist-packages (from tf-nightly) (3.12.4)\n",
            "Collecting tb-nightly~=2.5.0.a\n",
            "\u001b[?25l  Downloading https://files.pythonhosted.org/packages/d6/5a/5ac79139cb2f5d41a9ea4358a81754da9c05af7e01c1445f99e30c2b5fab/tb_nightly-2.5.0a20210122-py3-none-any.whl (12.2MB)\n",
            "\u001b[K     |████████████████████████████████| 12.2MB 262kB/s \n",
            "\u001b[?25hRequirement already satisfied: flatbuffers~=1.12.0 in /usr/local/lib/python3.6/dist-packages (from tf-nightly) (1.12)\n",
            "Requirement already satisfied: keras-preprocessing~=1.1.2 in /usr/local/lib/python3.6/dist-packages (from tf-nightly) (1.1.2)\n",
            "Collecting tf-estimator-nightly~=2.5.0.dev\n",
            "\u001b[?25l  Downloading https://files.pythonhosted.org/packages/f0/13/bc5258d667fc2f64ea1a57ad416f204fdf8bed040bf0140f865f9c1936a7/tf_estimator_nightly-2.5.0.dev2021012201-py2.py3-none-any.whl (462kB)\n",
            "\u001b[K     |████████████████████████████████| 471kB 48.0MB/s \n",
            "\u001b[?25hCollecting grpcio~=1.34.0\n",
            "\u001b[?25l  Downloading https://files.pythonhosted.org/packages/ab/f5/3d3bcb82beae990021cbf6877456a1aab650e68c902194566edd6a73e37c/grpcio-1.34.1-cp36-cp36m-manylinux2014_x86_64.whl (4.0MB)\n",
            "\u001b[K     |████████████████████████████████| 4.0MB 56.4MB/s \n",
            "\u001b[?25hRequirement already satisfied: opt-einsum~=3.3.0 in /usr/local/lib/python3.6/dist-packages (from tf-nightly) (3.3.0)\n",
            "Requirement already satisfied: typing-extensions~=3.7.4 in /usr/local/lib/python3.6/dist-packages (from tf-nightly) (3.7.4.3)\n",
            "Requirement already satisfied: termcolor~=1.1.0 in /usr/local/lib/python3.6/dist-packages (from tf-nightly) (1.1.0)\n",
            "Requirement already satisfied: wheel~=0.35 in /usr/local/lib/python3.6/dist-packages (from tf-nightly) (0.36.2)\n",
            "Requirement already satisfied: google-pasta~=0.2 in /usr/local/lib/python3.6/dist-packages (from tf-nightly) (0.2.0)\n",
            "Requirement already satisfied: six~=1.15.0 in /usr/local/lib/python3.6/dist-packages (from tf-nightly) (1.15.0)\n",
            "Requirement already satisfied: wrapt~=1.12.1 in /usr/local/lib/python3.6/dist-packages (from tf-nightly) (1.12.1)\n",
            "Requirement already satisfied: numpy~=1.19.2 in /usr/local/lib/python3.6/dist-packages (from tf-nightly) (1.19.5)\n",
            "Requirement already satisfied: absl-py~=0.10 in /usr/local/lib/python3.6/dist-packages (from tf-nightly) (0.10.0)\n",
            "Collecting h5py~=3.1.0\n",
            "\u001b[?25l  Downloading https://files.pythonhosted.org/packages/70/7a/e53e500335afb6b1aade11227cdf107fca54106a1dca5c9d13242a043f3b/h5py-3.1.0-cp36-cp36m-manylinux1_x86_64.whl (4.0MB)\n",
            "\u001b[K     |████████████████████████████████| 4.0MB 50.7MB/s \n",
            "\u001b[?25hRequirement already satisfied: setuptools in /usr/local/lib/python3.6/dist-packages (from protobuf>=3.9.2->tf-nightly) (51.3.3)\n",
            "Requirement already satisfied: requests<3,>=2.21.0 in /usr/local/lib/python3.6/dist-packages (from tb-nightly~=2.5.0.a->tf-nightly) (2.23.0)\n",
            "Requirement already satisfied: tensorboard-plugin-wit>=1.6.0 in /usr/local/lib/python3.6/dist-packages (from tb-nightly~=2.5.0.a->tf-nightly) (1.7.0)\n",
            "Requirement already satisfied: markdown>=2.6.8 in /usr/local/lib/python3.6/dist-packages (from tb-nightly~=2.5.0.a->tf-nightly) (3.3.3)\n",
            "Requirement already satisfied: google-auth<2,>=1.6.3 in /usr/local/lib/python3.6/dist-packages (from tb-nightly~=2.5.0.a->tf-nightly) (1.17.2)\n",
            "Requirement already satisfied: werkzeug>=0.11.15 in /usr/local/lib/python3.6/dist-packages (from tb-nightly~=2.5.0.a->tf-nightly) (1.0.1)\n",
            "Requirement already satisfied: google-auth-oauthlib<0.5,>=0.4.1 in /usr/local/lib/python3.6/dist-packages (from tb-nightly~=2.5.0.a->tf-nightly) (0.4.2)\n",
            "Collecting cached-property; python_version < \"3.8\"\n",
            "  Downloading https://files.pythonhosted.org/packages/48/19/f2090f7dad41e225c7f2326e4cfe6fff49e57dedb5b53636c9551f86b069/cached_property-1.5.2-py2.py3-none-any.whl\n",
            "Requirement already satisfied: idna<3,>=2.5 in /usr/local/lib/python3.6/dist-packages (from requests<3,>=2.21.0->tb-nightly~=2.5.0.a->tf-nightly) (2.10)\n",
            "Requirement already satisfied: chardet<4,>=3.0.2 in /usr/local/lib/python3.6/dist-packages (from requests<3,>=2.21.0->tb-nightly~=2.5.0.a->tf-nightly) (3.0.4)\n",
            "Requirement already satisfied: certifi>=2017.4.17 in /usr/local/lib/python3.6/dist-packages (from requests<3,>=2.21.0->tb-nightly~=2.5.0.a->tf-nightly) (2020.12.5)\n",
            "Requirement already satisfied: urllib3!=1.25.0,!=1.25.1,<1.26,>=1.21.1 in /usr/local/lib/python3.6/dist-packages (from requests<3,>=2.21.0->tb-nightly~=2.5.0.a->tf-nightly) (1.24.3)\n",
            "Requirement already satisfied: importlib-metadata; python_version < \"3.8\" in /usr/local/lib/python3.6/dist-packages (from markdown>=2.6.8->tb-nightly~=2.5.0.a->tf-nightly) (3.3.0)\n",
            "Requirement already satisfied: pyasn1-modules>=0.2.1 in /usr/local/lib/python3.6/dist-packages (from google-auth<2,>=1.6.3->tb-nightly~=2.5.0.a->tf-nightly) (0.2.8)\n",
            "Requirement already satisfied: rsa<5,>=3.1.4; python_version >= \"3\" in /usr/local/lib/python3.6/dist-packages (from google-auth<2,>=1.6.3->tb-nightly~=2.5.0.a->tf-nightly) (4.6)\n",
            "Requirement already satisfied: cachetools<5.0,>=2.0.0 in /usr/local/lib/python3.6/dist-packages (from google-auth<2,>=1.6.3->tb-nightly~=2.5.0.a->tf-nightly) (4.2.0)\n",
            "Requirement already satisfied: requests-oauthlib>=0.7.0 in /usr/local/lib/python3.6/dist-packages (from google-auth-oauthlib<0.5,>=0.4.1->tb-nightly~=2.5.0.a->tf-nightly) (1.3.0)\n",
            "Requirement already satisfied: zipp>=0.5 in /usr/local/lib/python3.6/dist-packages (from importlib-metadata; python_version < \"3.8\"->markdown>=2.6.8->tb-nightly~=2.5.0.a->tf-nightly) (3.4.0)\n",
            "Requirement already satisfied: pyasn1<0.5.0,>=0.4.6 in /usr/local/lib/python3.6/dist-packages (from pyasn1-modules>=0.2.1->google-auth<2,>=1.6.3->tb-nightly~=2.5.0.a->tf-nightly) (0.4.8)\n",
            "Requirement already satisfied: oauthlib>=3.0.0 in /usr/local/lib/python3.6/dist-packages (from requests-oauthlib>=0.7.0->google-auth-oauthlib<0.5,>=0.4.1->tb-nightly~=2.5.0.a->tf-nightly) (3.1.0)\n",
            "\u001b[31mERROR: tensorflow 2.4.0 has requirement gast==0.3.3, but you'll have gast 0.4.0 which is incompatible.\u001b[0m\n",
            "\u001b[31mERROR: tensorflow 2.4.0 has requirement grpcio~=1.32.0, but you'll have grpcio 1.34.1 which is incompatible.\u001b[0m\n",
            "\u001b[31mERROR: tensorflow 2.4.0 has requirement h5py~=2.10.0, but you'll have h5py 3.1.0 which is incompatible.\u001b[0m\n",
            "Installing collected packages: gast, grpcio, tb-nightly, tf-estimator-nightly, cached-property, h5py, tf-nightly\n",
            "  Found existing installation: gast 0.3.3\n",
            "    Uninstalling gast-0.3.3:\n",
            "      Successfully uninstalled gast-0.3.3\n",
            "  Found existing installation: grpcio 1.32.0\n",
            "    Uninstalling grpcio-1.32.0:\n",
            "      Successfully uninstalled grpcio-1.32.0\n",
            "  Found existing installation: h5py 2.10.0\n",
            "    Uninstalling h5py-2.10.0:\n",
            "      Successfully uninstalled h5py-2.10.0\n",
            "Successfully installed cached-property-1.5.2 gast-0.4.0 grpcio-1.34.1 h5py-3.1.0 tb-nightly-2.5.0a20210122 tf-estimator-nightly-2.5.0.dev2021012201 tf-nightly-2.5.0.dev20210122\n"
          ],
          "name": "stdout"
        }
      ]
    },
    {
      "cell_type": "code",
      "metadata": {
        "id": "Sg2c-Uw71R0m",
        "colab": {
          "base_uri": "https://localhost:8080/"
        },
        "outputId": "15fe3d69-27c3-4d9c-c585-54d3e86fd666"
      },
      "source": [
        "import os\n",
        "import pathlib\n",
        "\n",
        "# Clone the tensorflow models repository if it doesn't already exist\n",
        "if \"models\" in pathlib.Path.cwd().parts:\n",
        "  while \"models\" in pathlib.Path.cwd().parts:\n",
        "    os.chdir('..')\n",
        "elif not pathlib.Path('models').exists():\n",
        "  !git clone --depth 1 https://github.com/tensorflow/models"
      ],
      "execution_count": null,
      "outputs": [
        {
          "output_type": "stream",
          "text": [
            "Cloning into 'models'...\n",
            "remote: Enumerating objects: 2394, done.\u001b[K\n",
            "remote: Counting objects: 100% (2394/2394), done.\u001b[K\n",
            "remote: Compressing objects: 100% (1997/1997), done.\u001b[K\n",
            "remote: Total 2394 (delta 565), reused 1414 (delta 370), pack-reused 0\u001b[K\n",
            "Receiving objects: 100% (2394/2394), 30.77 MiB | 38.42 MiB/s, done.\n",
            "Resolving deltas: 100% (565/565), done.\n"
          ],
          "name": "stdout"
        }
      ]
    },
    {
      "cell_type": "code",
      "metadata": {
        "id": "a2nnwMdI1lCY",
        "colab": {
          "base_uri": "https://localhost:8080/"
        },
        "outputId": "cce81b14-6a5f-40a9-a554-f72774f72954"
      },
      "source": [
        "# Compile the Object Detection API and run the setup python script\n",
        "%%bash\n",
        "cd models/research/\n",
        "protoc object_detection/protos/*.proto --python_out=.\n",
        "cp object_detection/packages/tf2/setup.py .\n",
        "python -m pip install ."
      ],
      "execution_count": null,
      "outputs": [
        {
          "output_type": "stream",
          "text": [
            "Processing /content/models/research\n",
            "Collecting avro-python3\n",
            "  Downloading https://files.pythonhosted.org/packages/3f/84/ef37f882a7d93674d6fe1aa6e99f18cf2f34e9b775952f3d85587c11c92e/avro-python3-1.10.1.tar.gz\n",
            "Collecting apache-beam\n",
            "  Downloading https://files.pythonhosted.org/packages/ba/f8/afcd9a457d92bd7858df5ece8f8ecae7d7387fbbb6e3438c6cb495278743/apache_beam-2.27.0-cp36-cp36m-manylinux2010_x86_64.whl (9.0MB)\n",
            "Requirement already satisfied: pillow in /usr/local/lib/python3.6/dist-packages (from object-detection==0.1) (7.0.0)\n",
            "Requirement already satisfied: lxml in /usr/local/lib/python3.6/dist-packages (from object-detection==0.1) (4.2.6)\n",
            "Requirement already satisfied: matplotlib in /usr/local/lib/python3.6/dist-packages (from object-detection==0.1) (3.2.2)\n",
            "Requirement already satisfied: Cython in /usr/local/lib/python3.6/dist-packages (from object-detection==0.1) (0.29.21)\n",
            "Requirement already satisfied: contextlib2 in /usr/local/lib/python3.6/dist-packages (from object-detection==0.1) (0.5.5)\n",
            "Collecting tf-slim\n",
            "  Downloading https://files.pythonhosted.org/packages/02/97/b0f4a64df018ca018cc035d44f2ef08f91e2e8aa67271f6f19633a015ff7/tf_slim-1.1.0-py2.py3-none-any.whl (352kB)\n",
            "Requirement already satisfied: six in /usr/local/lib/python3.6/dist-packages (from object-detection==0.1) (1.15.0)\n",
            "Requirement already satisfied: pycocotools in /usr/local/lib/python3.6/dist-packages (from object-detection==0.1) (2.0.2)\n",
            "Collecting lvis\n",
            "  Downloading https://files.pythonhosted.org/packages/72/b6/1992240ab48310b5360bfdd1d53163f43bb97d90dc5dc723c67d41c38e78/lvis-0.5.3-py3-none-any.whl\n",
            "Requirement already satisfied: scipy in /usr/local/lib/python3.6/dist-packages (from object-detection==0.1) (1.4.1)\n",
            "Requirement already satisfied: pandas in /usr/local/lib/python3.6/dist-packages (from object-detection==0.1) (1.1.5)\n",
            "Collecting tf-models-official\n",
            "  Downloading https://files.pythonhosted.org/packages/57/4a/23a08f8fd2747867ee223612e219eeb0d11c36116601d99b55ef3c72e707/tf_models_official-2.4.0-py2.py3-none-any.whl (1.1MB)\n",
            "Collecting mock<3.0.0,>=1.0.1\n",
            "  Downloading https://files.pythonhosted.org/packages/e6/35/f187bdf23be87092bd0f1200d43d23076cee4d0dec109f195173fd3ebc79/mock-2.0.0-py2.py3-none-any.whl (56kB)\n",
            "Requirement already satisfied: pydot<2,>=1.2.0 in /usr/local/lib/python3.6/dist-packages (from apache-beam->object-detection==0.1) (1.3.0)\n",
            "Requirement already satisfied: httplib2<0.18.0,>=0.8 in /usr/local/lib/python3.6/dist-packages (from apache-beam->object-detection==0.1) (0.17.4)\n",
            "Requirement already satisfied: python-dateutil<3,>=2.8.0 in /usr/local/lib/python3.6/dist-packages (from apache-beam->object-detection==0.1) (2.8.1)\n",
            "Requirement already satisfied: crcmod<2.0,>=1.7 in /usr/local/lib/python3.6/dist-packages (from apache-beam->object-detection==0.1) (1.7)\n",
            "Collecting hdfs<3.0.0,>=2.1.0\n",
            "  Downloading https://files.pythonhosted.org/packages/82/39/2c0879b1bcfd1f6ad078eb210d09dbce21072386a3997074ee91e60ddc5a/hdfs-2.5.8.tar.gz (41kB)\n",
            "Collecting future<1.0.0,>=0.18.2\n",
            "  Downloading https://files.pythonhosted.org/packages/45/0b/38b06fd9b92dc2b68d58b75f900e97884c45bedd2ff83203d933cf5851c9/future-0.18.2.tar.gz (829kB)\n",
            "Requirement already satisfied: grpcio<2,>=1.29.0 in /usr/local/lib/python3.6/dist-packages (from apache-beam->object-detection==0.1) (1.34.1)\n",
            "Collecting requests<3.0.0,>=2.24.0\n",
            "  Downloading https://files.pythonhosted.org/packages/29/c1/24814557f1d22c56d50280771a17307e6bf87b70727d975fd6b2ce6b014a/requests-2.25.1-py2.py3-none-any.whl (61kB)\n",
            "Requirement already satisfied: pymongo<4.0.0,>=3.8.0 in /usr/local/lib/python3.6/dist-packages (from apache-beam->object-detection==0.1) (3.11.2)\n",
            "Requirement already satisfied: pytz>=2018.3 in /usr/local/lib/python3.6/dist-packages (from apache-beam->object-detection==0.1) (2018.9)\n",
            "Requirement already satisfied: numpy<2,>=1.14.3 in /usr/local/lib/python3.6/dist-packages (from apache-beam->object-detection==0.1) (1.19.5)\n",
            "Requirement already satisfied: protobuf<4,>=3.12.2 in /usr/local/lib/python3.6/dist-packages (from apache-beam->object-detection==0.1) (3.12.4)\n",
            "Requirement already satisfied: typing-extensions<3.8.0,>=3.7.0 in /usr/local/lib/python3.6/dist-packages (from apache-beam->object-detection==0.1) (3.7.4.3)\n",
            "Collecting pyarrow<3.0.0,>=0.15.1\n",
            "  Downloading https://files.pythonhosted.org/packages/d7/e1/27958a70848f8f7089bff8d6ebe42519daf01f976d28b481e1bfd52c8097/pyarrow-2.0.0-cp36-cp36m-manylinux2014_x86_64.whl (17.7MB)\n",
            "Collecting dill<0.3.2,>=0.3.1.1\n",
            "  Downloading https://files.pythonhosted.org/packages/c7/11/345f3173809cea7f1a193bfbf02403fff250a3360e0e118a1630985e547d/dill-0.3.1.1.tar.gz (151kB)\n",
            "Requirement already satisfied: oauth2client<5,>=2.0.1 in /usr/local/lib/python3.6/dist-packages (from apache-beam->object-detection==0.1) (4.1.3)\n",
            "Collecting fastavro<2,>=0.21.4\n",
            "  Downloading https://files.pythonhosted.org/packages/ea/b8/6aaa3d132a7c9a0055746933f11b9212e7ef836739d9134be793938f05e4/fastavro-1.3.0-cp36-cp36m-manylinux2014_x86_64.whl (2.0MB)\n",
            "Requirement already satisfied: pyparsing!=2.0.4,!=2.1.2,!=2.1.6,>=2.0.1 in /usr/local/lib/python3.6/dist-packages (from matplotlib->object-detection==0.1) (2.4.7)\n",
            "Requirement already satisfied: kiwisolver>=1.0.1 in /usr/local/lib/python3.6/dist-packages (from matplotlib->object-detection==0.1) (1.3.1)\n",
            "Requirement already satisfied: cycler>=0.10 in /usr/local/lib/python3.6/dist-packages (from matplotlib->object-detection==0.1) (0.10.0)\n",
            "Requirement already satisfied: absl-py>=0.2.2 in /usr/local/lib/python3.6/dist-packages (from tf-slim->object-detection==0.1) (0.10.0)\n",
            "Requirement already satisfied: setuptools>=18.0 in /usr/local/lib/python3.6/dist-packages (from pycocotools->object-detection==0.1) (51.3.3)\n",
            "Requirement already satisfied: opencv-python>=4.1.0.25 in /usr/local/lib/python3.6/dist-packages (from lvis->object-detection==0.1) (4.1.2.30)\n",
            "Requirement already satisfied: tensorflow-hub>=0.6.0 in /usr/local/lib/python3.6/dist-packages (from tf-models-official->object-detection==0.1) (0.11.0)\n",
            "Requirement already satisfied: tensorflow>=2.4.0 in /usr/local/lib/python3.6/dist-packages (from tf-models-official->object-detection==0.1) (2.4.0)\n",
            "Collecting seqeval\n",
            "  Downloading https://files.pythonhosted.org/packages/9d/2d/233c79d5b4e5ab1dbf111242299153f3caddddbb691219f363ad55ce783d/seqeval-1.2.2.tar.gz (43kB)\n",
            "Collecting pyyaml>=5.1\n",
            "  Downloading https://files.pythonhosted.org/packages/7a/5b/bc0b5ab38247bba158504a410112b6c03f153c652734ece1849749e5f518/PyYAML-5.4.1-cp36-cp36m-manylinux1_x86_64.whl (640kB)\n",
            "Requirement already satisfied: tensorflow-datasets in /usr/local/lib/python3.6/dist-packages (from tf-models-official->object-detection==0.1) (4.0.1)\n",
            "Requirement already satisfied: gin-config in /usr/local/lib/python3.6/dist-packages (from tf-models-official->object-detection==0.1) (0.4.0)\n",
            "Requirement already satisfied: dataclasses in /usr/local/lib/python3.6/dist-packages (from tf-models-official->object-detection==0.1) (0.8)\n",
            "Requirement already satisfied: tensorflow-addons in /usr/local/lib/python3.6/dist-packages (from tf-models-official->object-detection==0.1) (0.8.3)\n",
            "Requirement already satisfied: google-api-python-client>=1.6.7 in /usr/local/lib/python3.6/dist-packages (from tf-models-official->object-detection==0.1) (1.7.12)\n",
            "Requirement already satisfied: google-cloud-bigquery>=0.31.0 in /usr/local/lib/python3.6/dist-packages (from tf-models-official->object-detection==0.1) (1.21.0)\n",
            "Requirement already satisfied: psutil>=5.4.3 in /usr/local/lib/python3.6/dist-packages (from tf-models-official->object-detection==0.1) (5.4.8)\n",
            "Collecting opencv-python-headless\n",
            "  Downloading https://files.pythonhosted.org/packages/96/fc/4da675cc522a749ebbcf85c5a63fba844b2d44c87e6f24e3fdb147df3270/opencv_python_headless-4.5.1.48-cp36-cp36m-manylinux2014_x86_64.whl (37.6MB)\n",
            "Requirement already satisfied: kaggle>=1.3.9 in /usr/local/lib/python3.6/dist-packages (from tf-models-official->object-detection==0.1) (1.5.10)\n",
            "Collecting sentencepiece\n",
            "  Downloading https://files.pythonhosted.org/packages/14/67/e42bd1181472c95c8cda79305df848264f2a7f62740995a46945d9797b67/sentencepiece-0.1.95-cp36-cp36m-manylinux2014_x86_64.whl (1.2MB)\n",
            "Collecting py-cpuinfo>=3.3.0\n",
            "  Downloading https://files.pythonhosted.org/packages/f6/f5/8e6e85ce2e9f6e05040cf0d4e26f43a4718bcc4bce988b433276d4b1a5c1/py-cpuinfo-7.0.0.tar.gz (95kB)\n",
            "Collecting tensorflow-model-optimization>=0.4.1\n",
            "  Downloading https://files.pythonhosted.org/packages/55/38/4fd48ea1bfcb0b6e36d949025200426fe9c3a8bfae029f0973d85518fa5a/tensorflow_model_optimization-0.5.0-py2.py3-none-any.whl (172kB)\n",
            "Collecting pbr>=0.11\n",
            "  Downloading https://files.pythonhosted.org/packages/fb/48/69046506f6ac61c1eaa9a0d42d22d54673b69e176d30ca98e3f61513e980/pbr-5.5.1-py2.py3-none-any.whl (106kB)\n",
            "Requirement already satisfied: docopt in /usr/local/lib/python3.6/dist-packages (from hdfs<3.0.0,>=2.1.0->apache-beam->object-detection==0.1) (0.6.2)\n",
            "Requirement already satisfied: chardet<5,>=3.0.2 in /usr/local/lib/python3.6/dist-packages (from requests<3.0.0,>=2.24.0->apache-beam->object-detection==0.1) (3.0.4)\n",
            "Requirement already satisfied: certifi>=2017.4.17 in /usr/local/lib/python3.6/dist-packages (from requests<3.0.0,>=2.24.0->apache-beam->object-detection==0.1) (2020.12.5)\n",
            "Requirement already satisfied: urllib3<1.27,>=1.21.1 in /usr/local/lib/python3.6/dist-packages (from requests<3.0.0,>=2.24.0->apache-beam->object-detection==0.1) (1.24.3)\n",
            "Requirement already satisfied: idna<3,>=2.5 in /usr/local/lib/python3.6/dist-packages (from requests<3.0.0,>=2.24.0->apache-beam->object-detection==0.1) (2.10)\n",
            "Requirement already satisfied: rsa>=3.1.4 in /usr/local/lib/python3.6/dist-packages (from oauth2client<5,>=2.0.1->apache-beam->object-detection==0.1) (4.6)\n",
            "Requirement already satisfied: pyasn1-modules>=0.0.5 in /usr/local/lib/python3.6/dist-packages (from oauth2client<5,>=2.0.1->apache-beam->object-detection==0.1) (0.2.8)\n",
            "Requirement already satisfied: pyasn1>=0.1.7 in /usr/local/lib/python3.6/dist-packages (from oauth2client<5,>=2.0.1->apache-beam->object-detection==0.1) (0.4.8)\n",
            "Collecting h5py~=2.10.0\n",
            "  Downloading https://files.pythonhosted.org/packages/60/06/cafdd44889200e5438b897388f3075b52a8ef01f28a17366d91de0fa2d05/h5py-2.10.0-cp36-cp36m-manylinux1_x86_64.whl (2.9MB)\n",
            "Requirement already satisfied: termcolor~=1.1.0 in /usr/local/lib/python3.6/dist-packages (from tensorflow>=2.4.0->tf-models-official->object-detection==0.1) (1.1.0)\n",
            "Requirement already satisfied: flatbuffers~=1.12.0 in /usr/local/lib/python3.6/dist-packages (from tensorflow>=2.4.0->tf-models-official->object-detection==0.1) (1.12)\n",
            "Collecting gast==0.3.3\n",
            "  Downloading https://files.pythonhosted.org/packages/d6/84/759f5dd23fec8ba71952d97bcc7e2c9d7d63bdc582421f3cd4be845f0c98/gast-0.3.3-py2.py3-none-any.whl\n",
            "Requirement already satisfied: opt-einsum~=3.3.0 in /usr/local/lib/python3.6/dist-packages (from tensorflow>=2.4.0->tf-models-official->object-detection==0.1) (3.3.0)\n",
            "Requirement already satisfied: keras-preprocessing~=1.1.2 in /usr/local/lib/python3.6/dist-packages (from tensorflow>=2.4.0->tf-models-official->object-detection==0.1) (1.1.2)\n",
            "Requirement already satisfied: wrapt~=1.12.1 in /usr/local/lib/python3.6/dist-packages (from tensorflow>=2.4.0->tf-models-official->object-detection==0.1) (1.12.1)\n",
            "Requirement already satisfied: tensorflow-estimator<2.5.0,>=2.4.0rc0 in /usr/local/lib/python3.6/dist-packages (from tensorflow>=2.4.0->tf-models-official->object-detection==0.1) (2.4.0)\n",
            "Requirement already satisfied: tensorboard~=2.4 in /usr/local/lib/python3.6/dist-packages (from tensorflow>=2.4.0->tf-models-official->object-detection==0.1) (2.4.0)\n",
            "Requirement already satisfied: astunparse~=1.6.3 in /usr/local/lib/python3.6/dist-packages (from tensorflow>=2.4.0->tf-models-official->object-detection==0.1) (1.6.3)\n",
            "Requirement already satisfied: wheel~=0.35 in /usr/local/lib/python3.6/dist-packages (from tensorflow>=2.4.0->tf-models-official->object-detection==0.1) (0.36.2)\n",
            "Requirement already satisfied: google-pasta~=0.2 in /usr/local/lib/python3.6/dist-packages (from tensorflow>=2.4.0->tf-models-official->object-detection==0.1) (0.2.0)\n",
            "Requirement already satisfied: scikit-learn>=0.21.3 in /usr/local/lib/python3.6/dist-packages (from seqeval->tf-models-official->object-detection==0.1) (0.22.2.post1)\n",
            "Requirement already satisfied: tqdm in /usr/local/lib/python3.6/dist-packages (from tensorflow-datasets->tf-models-official->object-detection==0.1) (4.41.1)\n",
            "Requirement already satisfied: attrs>=18.1.0 in /usr/local/lib/python3.6/dist-packages (from tensorflow-datasets->tf-models-official->object-detection==0.1) (20.3.0)\n",
            "Requirement already satisfied: tensorflow-metadata in /usr/local/lib/python3.6/dist-packages (from tensorflow-datasets->tf-models-official->object-detection==0.1) (0.26.0)\n",
            "Requirement already satisfied: dm-tree in /usr/local/lib/python3.6/dist-packages (from tensorflow-datasets->tf-models-official->object-detection==0.1) (0.1.5)\n",
            "Requirement already satisfied: importlib-resources; python_version < \"3.9\" in /usr/local/lib/python3.6/dist-packages (from tensorflow-datasets->tf-models-official->object-detection==0.1) (4.1.1)\n",
            "Requirement already satisfied: promise in /usr/local/lib/python3.6/dist-packages (from tensorflow-datasets->tf-models-official->object-detection==0.1) (2.3)\n",
            "Requirement already satisfied: typeguard in /usr/local/lib/python3.6/dist-packages (from tensorflow-addons->tf-models-official->object-detection==0.1) (2.7.1)\n",
            "Requirement already satisfied: uritemplate<4dev,>=3.0.0 in /usr/local/lib/python3.6/dist-packages (from google-api-python-client>=1.6.7->tf-models-official->object-detection==0.1) (3.0.1)\n",
            "Requirement already satisfied: google-auth>=1.4.1 in /usr/local/lib/python3.6/dist-packages (from google-api-python-client>=1.6.7->tf-models-official->object-detection==0.1) (1.17.2)\n",
            "Requirement already satisfied: google-auth-httplib2>=0.0.3 in /usr/local/lib/python3.6/dist-packages (from google-api-python-client>=1.6.7->tf-models-official->object-detection==0.1) (0.0.4)\n",
            "Requirement already satisfied: google-cloud-core<2.0dev,>=1.0.3 in /usr/local/lib/python3.6/dist-packages (from google-cloud-bigquery>=0.31.0->tf-models-official->object-detection==0.1) (1.0.3)\n",
            "Requirement already satisfied: google-resumable-media!=0.4.0,<0.5.0dev,>=0.3.1 in /usr/local/lib/python3.6/dist-packages (from google-cloud-bigquery>=0.31.0->tf-models-official->object-detection==0.1) (0.4.1)\n",
            "Requirement already satisfied: python-slugify in /usr/local/lib/python3.6/dist-packages (from kaggle>=1.3.9->tf-models-official->object-detection==0.1) (4.0.1)\n",
            "Requirement already satisfied: werkzeug>=0.11.15 in /usr/local/lib/python3.6/dist-packages (from tensorboard~=2.4->tensorflow>=2.4.0->tf-models-official->object-detection==0.1) (1.0.1)\n",
            "Requirement already satisfied: google-auth-oauthlib<0.5,>=0.4.1 in /usr/local/lib/python3.6/dist-packages (from tensorboard~=2.4->tensorflow>=2.4.0->tf-models-official->object-detection==0.1) (0.4.2)\n",
            "Requirement already satisfied: tensorboard-plugin-wit>=1.6.0 in /usr/local/lib/python3.6/dist-packages (from tensorboard~=2.4->tensorflow>=2.4.0->tf-models-official->object-detection==0.1) (1.7.0)\n",
            "Requirement already satisfied: markdown>=2.6.8 in /usr/local/lib/python3.6/dist-packages (from tensorboard~=2.4->tensorflow>=2.4.0->tf-models-official->object-detection==0.1) (3.3.3)\n",
            "Requirement already satisfied: joblib>=0.11 in /usr/local/lib/python3.6/dist-packages (from scikit-learn>=0.21.3->seqeval->tf-models-official->object-detection==0.1) (1.0.0)\n",
            "Requirement already satisfied: googleapis-common-protos<2,>=1.52.0 in /usr/local/lib/python3.6/dist-packages (from tensorflow-metadata->tensorflow-datasets->tf-models-official->object-detection==0.1) (1.52.0)\n",
            "Requirement already satisfied: zipp>=0.4; python_version < \"3.8\" in /usr/local/lib/python3.6/dist-packages (from importlib-resources; python_version < \"3.9\"->tensorflow-datasets->tf-models-official->object-detection==0.1) (3.4.0)\n",
            "Requirement already satisfied: cachetools<5.0,>=2.0.0 in /usr/local/lib/python3.6/dist-packages (from google-auth>=1.4.1->google-api-python-client>=1.6.7->tf-models-official->object-detection==0.1) (4.2.0)\n",
            "Requirement already satisfied: google-api-core<2.0.0dev,>=1.14.0 in /usr/local/lib/python3.6/dist-packages (from google-cloud-core<2.0dev,>=1.0.3->google-cloud-bigquery>=0.31.0->tf-models-official->object-detection==0.1) (1.16.0)\n",
            "Requirement already satisfied: text-unidecode>=1.3 in /usr/local/lib/python3.6/dist-packages (from python-slugify->kaggle>=1.3.9->tf-models-official->object-detection==0.1) (1.3)\n",
            "Requirement already satisfied: requests-oauthlib>=0.7.0 in /usr/local/lib/python3.6/dist-packages (from google-auth-oauthlib<0.5,>=0.4.1->tensorboard~=2.4->tensorflow>=2.4.0->tf-models-official->object-detection==0.1) (1.3.0)\n",
            "Requirement already satisfied: importlib-metadata; python_version < \"3.8\" in /usr/local/lib/python3.6/dist-packages (from markdown>=2.6.8->tensorboard~=2.4->tensorflow>=2.4.0->tf-models-official->object-detection==0.1) (3.3.0)\n",
            "Requirement already satisfied: oauthlib>=3.0.0 in /usr/local/lib/python3.6/dist-packages (from requests-oauthlib>=0.7.0->google-auth-oauthlib<0.5,>=0.4.1->tensorboard~=2.4->tensorflow>=2.4.0->tf-models-official->object-detection==0.1) (3.1.0)\n",
            "Building wheels for collected packages: object-detection, avro-python3, hdfs, future, dill, seqeval, py-cpuinfo\n",
            "  Building wheel for object-detection (setup.py): started\n",
            "  Building wheel for object-detection (setup.py): finished with status 'done'\n",
            "  Created wheel for object-detection: filename=object_detection-0.1-cp36-none-any.whl size=1614234 sha256=87388546c4644f9a05f00c6e0d462e9a54da2c0a85ccc36fe34ee8ef601a3f6e\n",
            "  Stored in directory: /tmp/pip-ephem-wheel-cache-20odcn4g/wheels/94/49/4b/39b051683087a22ef7e80ec52152a27249d1a644ccf4e442ea\n",
            "  Building wheel for avro-python3 (setup.py): started\n",
            "  Building wheel for avro-python3 (setup.py): finished with status 'done'\n",
            "  Created wheel for avro-python3: filename=avro_python3-1.10.1-cp36-none-any.whl size=43734 sha256=3b379e0952d4ee1a0e8ac3e131bc3aa2e3b687c009e382186b4b73d782a1ffc3\n",
            "  Stored in directory: /root/.cache/pip/wheels/65/fe/90/20d6d6d97223d80d20cb390be636619c536edab5658c12bdba\n",
            "  Building wheel for hdfs (setup.py): started\n",
            "  Building wheel for hdfs (setup.py): finished with status 'done'\n",
            "  Created wheel for hdfs: filename=hdfs-2.5.8-cp36-none-any.whl size=33213 sha256=9ad64d8d17bfad8d2d57360348e176fe957c8c032ee4c620c7e0eb9dd65dd672\n",
            "  Stored in directory: /root/.cache/pip/wheels/fe/a7/05/23e3699975fc20f8a30e00ac1e515ab8c61168e982abe4ce70\n",
            "  Building wheel for future (setup.py): started\n",
            "  Building wheel for future (setup.py): finished with status 'done'\n",
            "  Created wheel for future: filename=future-0.18.2-cp36-none-any.whl size=491057 sha256=2f5c54117f082c31df05f02dcb1040241ebd3fc18b70677360e03fe61b126942\n",
            "  Stored in directory: /root/.cache/pip/wheels/8b/99/a0/81daf51dcd359a9377b110a8a886b3895921802d2fc1b2397e\n",
            "  Building wheel for dill (setup.py): started\n",
            "  Building wheel for dill (setup.py): finished with status 'done'\n",
            "  Created wheel for dill: filename=dill-0.3.1.1-cp36-none-any.whl size=78533 sha256=f8573545f22728dad96a4d0b242284cb1f402bf017c6cb72df74ef88c823ece9\n",
            "  Stored in directory: /root/.cache/pip/wheels/59/b1/91/f02e76c732915c4015ab4010f3015469866c1eb9b14058d8e7\n",
            "  Building wheel for seqeval (setup.py): started\n",
            "  Building wheel for seqeval (setup.py): finished with status 'done'\n",
            "  Created wheel for seqeval: filename=seqeval-1.2.2-cp36-none-any.whl size=16171 sha256=b50910c4e80cbf963f833272d0a571ab25792ea961d082f8031e85259a247d4f\n",
            "  Stored in directory: /root/.cache/pip/wheels/52/df/1b/45d75646c37428f7e626214704a0e35bd3cfc32eda37e59e5f\n",
            "  Building wheel for py-cpuinfo (setup.py): started\n",
            "  Building wheel for py-cpuinfo (setup.py): finished with status 'done'\n",
            "  Created wheel for py-cpuinfo: filename=py_cpuinfo-7.0.0-cp36-none-any.whl size=20072 sha256=221e4002977f3208290976e662378697d1d111d0fa3a727d8d7307fec1d26088\n",
            "  Stored in directory: /root/.cache/pip/wheels/f1/93/7b/127daf0c3a5a49feb2fecd468d508067c733fba5192f726ad1\n",
            "Successfully built object-detection avro-python3 hdfs future dill seqeval py-cpuinfo\n",
            "Installing collected packages: avro-python3, pbr, mock, requests, hdfs, future, pyarrow, dill, fastavro, apache-beam, tf-slim, lvis, seqeval, pyyaml, opencv-python-headless, sentencepiece, py-cpuinfo, tensorflow-model-optimization, tf-models-official, object-detection, h5py, gast\n",
            "  Found existing installation: requests 2.23.0\n",
            "    Uninstalling requests-2.23.0:\n",
            "      Successfully uninstalled requests-2.23.0\n",
            "  Found existing installation: future 0.16.0\n",
            "    Uninstalling future-0.16.0:\n",
            "      Successfully uninstalled future-0.16.0\n",
            "  Found existing installation: pyarrow 0.14.1\n",
            "    Uninstalling pyarrow-0.14.1:\n",
            "      Successfully uninstalled pyarrow-0.14.1\n",
            "  Found existing installation: dill 0.3.3\n",
            "    Uninstalling dill-0.3.3:\n",
            "      Successfully uninstalled dill-0.3.3\n",
            "  Found existing installation: PyYAML 3.13\n",
            "    Uninstalling PyYAML-3.13:\n",
            "      Successfully uninstalled PyYAML-3.13\n",
            "  Found existing installation: h5py 3.1.0\n",
            "    Uninstalling h5py-3.1.0:\n",
            "      Successfully uninstalled h5py-3.1.0\n",
            "  Found existing installation: gast 0.4.0\n",
            "    Uninstalling gast-0.4.0:\n",
            "      Successfully uninstalled gast-0.4.0\n",
            "Successfully installed apache-beam-2.27.0 avro-python3-1.10.1 dill-0.3.1.1 fastavro-1.3.0 future-0.18.2 gast-0.3.3 h5py-2.10.0 hdfs-2.5.8 lvis-0.5.3 mock-2.0.0 object-detection-0.1 opencv-python-headless-4.5.1.48 pbr-5.5.1 py-cpuinfo-7.0.0 pyarrow-2.0.0 pyyaml-5.4.1 requests-2.25.1 sentencepiece-0.1.95 seqeval-1.2.2 tensorflow-model-optimization-0.5.0 tf-models-official-2.4.0 tf-slim-1.1.0\n"
          ],
          "name": "stdout"
        },
        {
          "output_type": "stream",
          "text": [
            "ERROR: tf-nightly 2.5.0.dev20210122 has requirement gast==0.4.0, but you'll have gast 0.3.3 which is incompatible.\n",
            "ERROR: tf-nightly 2.5.0.dev20210122 has requirement h5py~=3.1.0, but you'll have h5py 2.10.0 which is incompatible.\n",
            "ERROR: tensorflow 2.4.0 has requirement grpcio~=1.32.0, but you'll have grpcio 1.34.1 which is incompatible.\n",
            "ERROR: multiprocess 0.70.11.1 has requirement dill>=0.3.3, but you'll have dill 0.3.1.1 which is incompatible.\n",
            "ERROR: google-colab 1.0.0 has requirement requests~=2.23.0, but you'll have requests 2.25.1 which is incompatible.\n",
            "ERROR: datascience 0.10.6 has requirement folium==0.2.1, but you'll have folium 0.8.3 which is incompatible.\n",
            "ERROR: apache-beam 2.27.0 has requirement avro-python3!=1.9.2,<1.10.0,>=1.8.1, but you'll have avro-python3 1.10.1 which is incompatible.\n"
          ],
          "name": "stderr"
        }
      ]
    },
    {
      "cell_type": "code",
      "metadata": {
        "colab": {
          "base_uri": "https://localhost:8080/"
        },
        "id": "yKPP3b5U1wLV",
        "outputId": "384ca6e6-136b-48af-e30b-18101a987deb"
      },
      "source": [
        "#download some additional tools\n",
        "!apt-get install -qq protobuf-compiler python-pil python-lxml python-tk\n",
        "\n",
        "!pip install -qq Cython contextlib2 pillow lxml matplotlib\n",
        "\n",
        "!pip install -qq pycocotools"
      ],
      "execution_count": null,
      "outputs": [
        {
          "output_type": "stream",
          "text": [
            "Selecting previously unselected package python-bs4.\n",
            "(Reading database ... 146374 files and directories currently installed.)\n",
            "Preparing to unpack .../0-python-bs4_4.6.0-1_all.deb ...\n",
            "Unpacking python-bs4 (4.6.0-1) ...\n",
            "Selecting previously unselected package python-pkg-resources.\n",
            "Preparing to unpack .../1-python-pkg-resources_39.0.1-2_all.deb ...\n",
            "Unpacking python-pkg-resources (39.0.1-2) ...\n",
            "Selecting previously unselected package python-chardet.\n",
            "Preparing to unpack .../2-python-chardet_3.0.4-1_all.deb ...\n",
            "Unpacking python-chardet (3.0.4-1) ...\n",
            "Selecting previously unselected package python-six.\n",
            "Preparing to unpack .../3-python-six_1.11.0-2_all.deb ...\n",
            "Unpacking python-six (1.11.0-2) ...\n",
            "Selecting previously unselected package python-webencodings.\n",
            "Preparing to unpack .../4-python-webencodings_0.5-2_all.deb ...\n",
            "Unpacking python-webencodings (0.5-2) ...\n",
            "Selecting previously unselected package python-html5lib.\n",
            "Preparing to unpack .../5-python-html5lib_0.999999999-1_all.deb ...\n",
            "Unpacking python-html5lib (0.999999999-1) ...\n",
            "Selecting previously unselected package python-lxml:amd64.\n",
            "Preparing to unpack .../6-python-lxml_4.2.1-1ubuntu0.3_amd64.deb ...\n",
            "Unpacking python-lxml:amd64 (4.2.1-1ubuntu0.3) ...\n",
            "Selecting previously unselected package python-olefile.\n",
            "Preparing to unpack .../7-python-olefile_0.45.1-1_all.deb ...\n",
            "Unpacking python-olefile (0.45.1-1) ...\n",
            "Selecting previously unselected package python-pil:amd64.\n",
            "Preparing to unpack .../8-python-pil_5.1.0-1ubuntu0.4_amd64.deb ...\n",
            "Unpacking python-pil:amd64 (5.1.0-1ubuntu0.4) ...\n",
            "Setting up python-pkg-resources (39.0.1-2) ...\n",
            "Setting up python-six (1.11.0-2) ...\n",
            "Setting up python-bs4 (4.6.0-1) ...\n",
            "Setting up python-lxml:amd64 (4.2.1-1ubuntu0.3) ...\n",
            "Setting up python-olefile (0.45.1-1) ...\n",
            "Setting up python-pil:amd64 (5.1.0-1ubuntu0.4) ...\n",
            "Setting up python-webencodings (0.5-2) ...\n",
            "Setting up python-chardet (3.0.4-1) ...\n",
            "Setting up python-html5lib (0.999999999-1) ...\n",
            "Processing triggers for man-db (2.8.3-2ubuntu0.1) ...\n"
          ],
          "name": "stdout"
        }
      ]
    },
    {
      "cell_type": "code",
      "metadata": {
        "colab": {
          "base_uri": "https://localhost:8080/"
        },
        "id": "HrH4Mfi12myy",
        "outputId": "6be2ff65-2133-4277-d2d7-3d9fd8786128"
      },
      "source": [
        "from google.colab import drive\n",
        "drive.mount('/content/drive')"
      ],
      "execution_count": null,
      "outputs": [
        {
          "output_type": "stream",
          "text": [
            "Mounted at /content/drive\n"
          ],
          "name": "stdout"
        }
      ]
    },
    {
      "cell_type": "code",
      "metadata": {
        "id": "A6Z33dt82VrK"
      },
      "source": [
        "# Some models to train on - think these are specific to TF1 except fpnlite\n",
        "MODELS_CONFIG = {\n",
        "    'ssd_mobilenet_v2_fpnlite_640x640_coco17_tpu-8': {\n",
        "        'model_name': 'ssd_mobilenet_v2_fpnlite_640x640_coco17_tpu-8',\n",
        "        'pipeline_file': 'ssd_mobilenet_v2__fpnlite_640x640_coco_tpu-8.config',\n",
        "    },\n",
        "    'ssd_mobilenet_v2_fpnlite_320x320_coco17_tpu-8': {\n",
        "        'model_name': 'ssd_mobilenet_v2_fpnlite_320x320_coco17_tpu-8',\n",
        "        'pipeline_file': 'ssd_mobilenet_v2_fpnlite_320x320_coco17_tpu-8.config',\n",
        "    },\n",
        "    'efficientdet_d0_512x512': {\n",
        "        'model_name': 'efficientdet_d0_coco17_tpu-32',\n",
        "        'pipeline_file': 'efficientdet_d0_coco17_tpu-32.config',\n",
        "    },\n",
        "    'faster_rcnn_inception_v2': {\n",
        "        'model_name': 'faster_rcnn_inception_v2_coco_2018_01_28',\n",
        "        'pipeline_file': 'faster_rcnn_inception_v2_pets.config',\n",
        "    },\n",
        "    'rfcn_resnet101': {\n",
        "        'model_name': 'rfcn_resnet101_coco_2018_01_28',\n",
        "        'pipeline_file': 'rfcn_resnet101_pets.config',\n",
        "    }\n",
        "}\n",
        "\n",
        "# Select a model in `MODELS_CONFIG`.\n",
        "# I chose ssd_fpn_mobilenet_v2 for this project as only SSD architectures are supported by tflite\n",
        "selected_model = 'efficientdet_d0_512x512'"
      ],
      "execution_count": null,
      "outputs": []
    },
    {
      "cell_type": "code",
      "metadata": {
        "id": "yBIIXKq25y_L"
      },
      "source": [
        "from __future__ import division, print_function, absolute_import\n",
        "\n",
        "import pandas as pd\n",
        "import numpy as np\n",
        "import csv\n",
        "import re\n",
        "import cv2 \n",
        "import os\n",
        "import glob\n",
        "import xml.etree.ElementTree as ET\n",
        "\n",
        "import io\n",
        "import tensorflow.compat.v1 as tf\n",
        "\n",
        "from PIL import Image\n",
        "from collections import namedtuple, OrderedDict\n",
        "\n",
        "import shutil\n",
        "import urllib.request\n",
        "import tarfile\n",
        "\n",
        "from google.colab import files"
      ],
      "execution_count": null,
      "outputs": []
    },
    {
      "cell_type": "code",
      "metadata": {
        "colab": {
          "base_uri": "https://localhost:8080/"
        },
        "id": "L74MfJmA8M_i",
        "outputId": "206de7c7-6e00-4c6b-d702-8d3a05deb132"
      },
      "source": [
        "print(tf.__version__)"
      ],
      "execution_count": null,
      "outputs": [
        {
          "output_type": "stream",
          "text": [
            "2.5.0-dev20210122\n"
          ],
          "name": "stdout"
        }
      ]
    },
    {
      "cell_type": "code",
      "metadata": {
        "id": "JC6NHcen8SpU"
      },
      "source": [
        "!mkdir -p workspace/training_demo/images\n"
      ],
      "execution_count": null,
      "outputs": []
    },
    {
      "cell_type": "code",
      "metadata": {
        "colab": {
          "base_uri": "https://localhost:8080/"
        },
        "id": "zZnZeK-38oKR",
        "outputId": "0ed6bb48-53e8-4730-a86f-e777317a6f93"
      },
      "source": [
        "cd workspace/training_demo/images"
      ],
      "execution_count": null,
      "outputs": [
        {
          "output_type": "stream",
          "text": [
            "/content/workspace/training_demo/images\n"
          ],
          "name": "stdout"
        }
      ]
    },
    {
      "cell_type": "code",
      "metadata": {
        "colab": {
          "base_uri": "https://localhost:8080/"
        },
        "id": "lFGyu7Q18qDn",
        "outputId": "e2c7285c-c7ca-40cc-bad8-a05f9cfa6cb2"
      },
      "source": [
        "import pathlib\n",
        "data_root = tf.keras.utils.get_file(origin='file:///content/drive/My Drive/Robotics/Ball.zip',\n",
        "                                         fname = 'Ball.zip',archive_format='zip',extract=False)\n",
        "data_root = pathlib.Path('/root/.keras/datasets/Ball.zip')"
      ],
      "execution_count": null,
      "outputs": [
        {
          "output_type": "stream",
          "text": [
            "Downloading data from file:///content/drive/My Drive/Robotics/Ball.zip\n",
            "481681408/481679080 [==============================] - 6s 0us/step\n"
          ],
          "name": "stdout"
        }
      ]
    },
    {
      "cell_type": "code",
      "metadata": {
        "colab": {
          "base_uri": "https://localhost:8080/",
          "height": 35
        },
        "id": "Ri66Tbkv80HL",
        "outputId": "97e30c25-d9fc-4918-b0a4-7d9b887c429e"
      },
      "source": [
        "shutil.move('/root/.keras/datasets/Ball.zip', '/content/workspace/training_demo/images/Ball.zip')"
      ],
      "execution_count": null,
      "outputs": [
        {
          "output_type": "execute_result",
          "data": {
            "application/vnd.google.colaboratory.intrinsic+json": {
              "type": "string"
            },
            "text/plain": [
              "'/content/workspace/training_demo/images/Ball.zip'"
            ]
          },
          "metadata": {
            "tags": []
          },
          "execution_count": 12
        }
      ]
    },
    {
      "cell_type": "markdown",
      "metadata": {
        "id": "24rzN60Xndwj"
      },
      "source": [
        "Manually upload XML file to images folder before running next cell"
      ]
    },
    {
      "cell_type": "code",
      "metadata": {
        "id": "rBTytLej8950"
      },
      "source": [
        "#Training images and annotations\n",
        "\n",
        "#Source: https://sci2s.ugr.es/weapons-detection\n",
        "\n",
        "\n",
        "#download the images zip\n",
        "#!wget https://sci2s.ugr.es/sites/default/files/files/TematicWebSites/WeaponsDetection/BasesDeDatos/WeaponS.zip\n",
        "\n",
        "#unzip the image file\n",
        "!unzip -q Ball.zip\n",
        "\n",
        "#download the annotations zip\n",
        "#!wget https://sci2s.ugr.es/sites/default/files/files/TematicWebSites/WeaponsDetection/BasesDeDatos/WeaponS_bbox.zip\n",
        "\n",
        "#unzip the annotations file\n",
        "!unzip -q BallXML.zip"
      ],
      "execution_count": null,
      "outputs": []
    },
    {
      "cell_type": "code",
      "metadata": {
        "id": "0dMXEq8i-GZR"
      },
      "source": [
        "# creating a directory to store the training and testing data\n",
        "#!mkdir data\n",
        "\n",
        "# folders for the training and testing data.\n",
        "#!mkdir data/images data/train_labels data/test_labels\n",
        "\n",
        "\n",
        "# combining the images and annotation in the training folder:\n",
        "# moves the images to cdw (images folder)\n",
        "!mv Ball/* .\n",
        "\n",
        "# moves the annotations to cwd (images folder)\n",
        "!mv BallXML/* ."
      ],
      "execution_count": null,
      "outputs": []
    },
    {
      "cell_type": "code",
      "metadata": {
        "id": "XY9KmtOv-PDB"
      },
      "source": [
        "# Deleting the zipped and unzipped folders \n",
        "!rm -rf BallXML.zip  Ball.zip BallXML/ _MACOSX"
      ],
      "execution_count": null,
      "outputs": []
    },
    {
      "cell_type": "markdown",
      "metadata": {
        "id": "jlJXWuGV_9AK"
      },
      "source": [
        "for randomly splitting 10% into training and test folders"
      ]
    },
    {
      "cell_type": "code",
      "metadata": {
        "id": "B_8D5TxH-SpU",
        "colab": {
          "base_uri": "https://localhost:8080/"
        },
        "outputId": "f2f11331-5ef3-4606-b08a-87d95e85a023"
      },
      "source": [
        "import os\n",
        "import re\n",
        "from shutil import copyfile\n",
        "import math\n",
        "import random\n",
        "\n",
        "cwd = os.getcwd()\n",
        "\n",
        "def iterate_dir(source, dest, ratio, copy_xml):\n",
        "    source = source.replace('\\\\', '/')\n",
        "    dest = dest.replace('\\\\', '/')\n",
        "    train_dir = os.path.join(dest, 'train')\n",
        "    test_dir = os.path.join(dest, 'test')\n",
        "    \n",
        "\n",
        "    if not os.path.exists(train_dir):\n",
        "        os.makedirs(train_dir)\n",
        "    if not os.path.exists(test_dir):\n",
        "        os.makedirs(test_dir)\n",
        "\n",
        "    #get list of jpg or png files in images folder\n",
        "    images = [f for f in os.listdir(source)\n",
        "              if re.search(r'([a-zA-Z0-9\\s_\\\\.\\-\\(\\):])+(.jpg|.jpeg|.png)$', f)]\n",
        "\n",
        "    num_images = len(images)\n",
        "    print (len(images))\n",
        "    num_test_images = math.ceil(ratio*num_images)\n",
        "\n",
        "    for i in range(num_test_images):\n",
        "        idx = random.randint(0, len(images)-1)\n",
        "        filename = images[idx]\n",
        "        copyfile(os.path.join(source, filename),\n",
        "                 os.path.join(test_dir, filename))\n",
        "        if copy_xml:\n",
        "            xml_filename = os.path.splitext(filename)[0]+'.xml'\n",
        "            copyfile(os.path.join(source, xml_filename),\n",
        "                     os.path.join(test_dir,xml_filename))\n",
        "        images.remove(images[idx])\n",
        "\n",
        "    for filename in images:\n",
        "        copyfile(os.path.join(source, filename),\n",
        "                 os.path.join(train_dir, filename))\n",
        "        if copy_xml:\n",
        "            xml_filename = os.path.splitext(filename)[0]+'.xml'\n",
        "            copyfile(os.path.join(source, xml_filename),\n",
        "                     os.path.join(train_dir, xml_filename))\n",
        "            \n",
        "copy_xml = True #set to true to split xml files as well as jpg\n",
        "iterate_dir(cwd, cwd, 0.1,copy_xml)#0.1 is the % for splitting"
      ],
      "execution_count": null,
      "outputs": [
        {
          "output_type": "stream",
          "text": [
            "2787\n"
          ],
          "name": "stdout"
        }
      ]
    },
    {
      "cell_type": "code",
      "metadata": {
        "colab": {
          "base_uri": "https://localhost:8080/"
        },
        "id": "-q90aZLtAN1K",
        "outputId": "41acd6a1-5cdc-49c5-ec3a-6eb1af18c79b"
      },
      "source": [
        "# 5016 jpg and xml files for training\n",
        "%ls -1 train/ | wc -l"
      ],
      "execution_count": null,
      "outputs": [
        {
          "output_type": "stream",
          "text": [
            "5016\n"
          ],
          "name": "stdout"
        }
      ]
    },
    {
      "cell_type": "code",
      "metadata": {
        "colab": {
          "base_uri": "https://localhost:8080/"
        },
        "id": "awnJZiuSARMJ",
        "outputId": "d7e353d5-3656-4282-a7b2-15b9720b9713"
      },
      "source": [
        "# 558 for testing\n",
        "%ls -1 test/ | wc -l"
      ],
      "execution_count": null,
      "outputs": [
        {
          "output_type": "stream",
          "text": [
            "558\n"
          ],
          "name": "stdout"
        }
      ]
    },
    {
      "cell_type": "markdown",
      "metadata": {
        "id": "fsOvxHJPcuK6"
      },
      "source": [
        "Move images back to ball folder for use when quantising model"
      ]
    },
    {
      "cell_type": "code",
      "metadata": {
        "id": "_7WDWYfVcBFW"
      },
      "source": [
        "!mv *.jpg Ball"
      ],
      "execution_count": null,
      "outputs": []
    },
    {
      "cell_type": "markdown",
      "metadata": {
        "id": "6pRsYZG76ft-"
      },
      "source": [
        "Once you are happy files have been split and placed into relevant folders, delete the xml files from images folder"
      ]
    },
    {
      "cell_type": "code",
      "metadata": {
        "id": "foiD8cVk6Nja"
      },
      "source": [
        "!rm *.xml"
      ],
      "execution_count": null,
      "outputs": []
    },
    {
      "cell_type": "markdown",
      "metadata": {
        "id": "YDPTGw9QSxVn"
      },
      "source": [
        "Convert all XML files into CSV files, one for train and one for test.  Also create the label .pbtext file"
      ]
    },
    {
      "cell_type": "code",
      "metadata": {
        "colab": {
          "base_uri": "https://localhost:8080/"
        },
        "id": "bXFYJ91JAUzw",
        "outputId": "d29afd58-ae84-4f92-fce6-a0a45224759a"
      },
      "source": [
        "#adjusted from: https://github.com/datitran/raccoon_dataset\n",
        "\n",
        "#converts the annotations/labels into one csv file for each training and testing labels\n",
        "#creates label_map.pbtxt file\n",
        "\n",
        "#ensure you are in same folder as your training and testing folders (i.e. images folder)\n",
        "\n",
        "\n",
        "# images extension\n",
        "images_extension = 'jpg'\n",
        "\n",
        "# takes the path of a directory that contains xml files and converts\n",
        "#  them to one csv file.\n",
        "\n",
        "# returns a csv file that contains: image name, width, height, class, xmin, ymin, xmax, ymax.\n",
        "# note: if the xml file contains more than one box/label, it will create more than one row for the same image. each row contains the info for an individual box. \n",
        "def xml_to_csv(path):\n",
        "  classes_names = []\n",
        "  xml_list = []\n",
        "\n",
        "  for xml_file in glob.glob(path + '/*.xml'):\n",
        "    tree = ET.parse(xml_file)\n",
        "    root = tree.getroot()\n",
        "    for member in root.findall('object'):\n",
        "      classes_names.append(member[0].text)\n",
        "      value = (root.find('filename').text, #+ '.' + images_extension,\n",
        "               int(root.find('size')[0].text),\n",
        "               int(root.find('size')[1].text),\n",
        "               member[0].text,\n",
        "               int(member[4][0].text),\n",
        "               int(member[4][1].text),\n",
        "               int(member[4][2].text),\n",
        "               int(member[4][3].text))\n",
        "      xml_list.append(value)\n",
        "  column_name = ['filename', 'width', 'height', 'class', 'xmin', 'ymin', 'xmax', 'ymax']\n",
        "  xml_df = pd.DataFrame(xml_list, columns=column_name) #use Pandas to create CSV from xml_list\n",
        "  classes_names = list(set(classes_names))\n",
        "  classes_names.sort()\n",
        "  return xml_df, classes_names\n",
        "\n",
        "# for both the train_labels and test_labels csv files, it runs the xml_to_csv() above.\n",
        "for label_path in ['train', 'test']:\n",
        "  image_path = os.path.join(os.getcwd(), label_path)\n",
        "  xml_df, classes = xml_to_csv(label_path)\n",
        "  xml_df.to_csv(f'{label_path}.csv', index=None)\n",
        "  print(f'Successfully converted {label_path} xml to csv.')\n",
        "\n",
        "# Creating the `label_map.pbtxt` file\n",
        "label_map_path = os.path.join(\"label_map.pbtxt\")\n",
        "\n",
        "pbtxt_content = \"\"\n",
        "\n",
        "#creates a pbtxt file the has the class names.\n",
        "for i, class_name in enumerate(classes):\n",
        "    # display_name is optional.\n",
        "    pbtxt_content = (\n",
        "        pbtxt_content\n",
        "        + \"item {{\\n    id: {0}\\n    name: '{1}'\\n    display_name: '{2}'\\n }}\\n\\n\".format(i + 1, class_name, class_name)\n",
        "    )\n",
        "pbtxt_content = pbtxt_content.strip()\n",
        "with open(label_map_path, \"w\") as f:\n",
        "    f.write(pbtxt_content)"
      ],
      "execution_count": null,
      "outputs": [
        {
          "output_type": "stream",
          "text": [
            "Successfully converted train xml to csv.\n",
            "Successfully converted test xml to csv.\n"
          ],
          "name": "stdout"
        }
      ]
    },
    {
      "cell_type": "code",
      "metadata": {
        "colab": {
          "base_uri": "https://localhost:8080/"
        },
        "id": "AERsLNAMAcbU",
        "outputId": "36382544-ceb3-4ecb-c27e-6117e9f17ad8"
      },
      "source": [
        "#checking the pbtxt file\n",
        "!cat label_map.pbtxt"
      ],
      "execution_count": null,
      "outputs": [
        {
          "output_type": "stream",
          "text": [
            "item {\n",
            "    id: 1\n",
            "    name: 'Ball'\n",
            "    display_name: 'Ball'\n",
            " }\n",
            "\n",
            "item {\n",
            "    id: 2\n",
            "    name: 'White-Ball'\n",
            "    display_name: 'White-Ball'\n",
            " }"
          ],
          "name": "stdout"
        }
      ]
    },
    {
      "cell_type": "code",
      "metadata": {
        "colab": {
          "base_uri": "https://localhost:8080/"
        },
        "id": "wJ8G7SSDAfqa",
        "outputId": "73dbc80a-a3e0-4d92-a82f-e8be2249148f"
      },
      "source": [
        "# they are there!\n",
        "%ls -l"
      ],
      "execution_count": null,
      "outputs": [
        {
          "output_type": "stream",
          "text": [
            "total 556\n",
            "drwx------ 2 root root 118784 Jan 23 09:28 \u001b[0m\u001b[01;34mBall\u001b[0m/\n",
            "-rw-r--r-- 1 root root    136 Jan 23 09:28 label_map.pbtxt\n",
            "drwxrwxr-x 4 root root   4096 Jan 23 09:27 \u001b[01;34m__MACOSX\u001b[0m/\n",
            "drwxr-xr-x 2 root root  20480 Jan 23 09:28 \u001b[01;34mtest\u001b[0m/\n",
            "-rw-r--r-- 1 root root  21822 Jan 23 09:28 test.csv\n",
            "drwxr-xr-x 2 root root 200704 Jan 23 09:28 \u001b[01;34mtrain\u001b[0m/\n",
            "-rw-r--r-- 1 root root 189914 Jan 23 09:28 train.csv\n"
          ],
          "name": "stdout"
        }
      ]
    },
    {
      "cell_type": "code",
      "metadata": {
        "colab": {
          "base_uri": "https://localhost:8080/"
        },
        "id": "IWJq3imkv-mO",
        "outputId": "a162d1f4-f0cb-42da-bda2-6f8ed0988320"
      },
      "source": [
        "cd /content/workspace/training_demo/images"
      ],
      "execution_count": null,
      "outputs": [
        {
          "output_type": "stream",
          "text": [
            "/content/workspace/training_demo/images\n"
          ],
          "name": "stdout"
        }
      ]
    },
    {
      "cell_type": "code",
      "metadata": {
        "colab": {
          "base_uri": "https://localhost:8080/"
        },
        "id": "Yin5pDpBBMi5",
        "outputId": "a6f7a986-bd44-4d9a-f45e-a46d7b60f5b5"
      },
      "source": [
        "#adjusted from: https://github.com/datitran/raccoon_dataset\n",
        "\n",
        "# converts the csv files for training and testing data to two TFRecords files.\n",
        "# places the output in the same directory as the input\n",
        "\n",
        "\n",
        "from object_detection.utils import dataset_util\n",
        "#%cd /content/Ball_detection/models/\n",
        "\n",
        "DATA_BASE_PATH = '/content/workspace/training_demo/images/'\n",
        "image_dir = DATA_BASE_PATH \n",
        "\n",
        "def class_text_to_int(row_label):\n",
        "  if row_label == 'Ball':\n",
        "    return 1\n",
        "  elif row_label == 'White-Ball':\n",
        "    return 2\n",
        "  else:\n",
        "    None\n",
        "\n",
        "\n",
        "\n",
        "\n",
        "def split(df, group):\n",
        "\t\tdata = namedtuple('data', ['filename', 'object'])\n",
        "\t\tgb = df.groupby(group)\n",
        "\t\treturn [data(filename, gb.get_group(x)) for filename, x in zip(gb.groups.keys(), gb.groups)]\n",
        "\n",
        "def create_tf_example(group, path):\n",
        "\t\twith tf.io.gfile.GFile(os.path.join(path, '{}'.format(group.filename)), 'rb') as fid:\n",
        "\t\t\t\tencoded_jpg = fid.read()\n",
        "\t\tencoded_jpg_io = io.BytesIO(encoded_jpg)\n",
        "\t\timage = Image.open(encoded_jpg_io)\n",
        "\t\twidth, height = image.size\n",
        "\n",
        "\t\tfilename = group.filename.encode('utf8')\n",
        "\t\timage_format = b'jpg'\n",
        "\t\txmins = []\n",
        "\t\txmaxs = []\n",
        "\t\tymins = []\n",
        "\t\tymaxs = []\n",
        "\t\tclasses_text = []\n",
        "\t\tclasses = []\n",
        "\n",
        "\t\tfor index, row in group.object.iterrows():\n",
        "\t\t\t\txmins.append(row['xmin'] / width)#divide by width to noramlise pixel value to between 0 and 1\n",
        "\t\t\t\txmaxs.append(row['xmax'] / width)\n",
        "\t\t\t\tymins.append(row['ymin'] / height)#divide by height to noramlise pixel value to between 0 and 1\n",
        "\t\t\t\tymaxs.append(row['ymax'] / height)\n",
        "\t\t\t\tclasses_text.append(row['class'].encode('utf8'))\n",
        "\t\t\t\tclasses.append(class_text_to_int(row['class']))\n",
        "\n",
        "\t\ttf_example = tf.train.Example(features=tf.train.Features(feature={\n",
        "\t\t\t\t'image/height': dataset_util.int64_feature(height),\n",
        "\t\t\t\t'image/width': dataset_util.int64_feature(width),\n",
        "\t\t\t\t'image/filename': dataset_util.bytes_feature(filename),\n",
        "\t\t\t\t'image/source_id': dataset_util.bytes_feature(filename),\n",
        "\t\t\t\t'image/encoded': dataset_util.bytes_feature(encoded_jpg),\n",
        "\t\t\t\t'image/format': dataset_util.bytes_feature(image_format),\n",
        "\t\t\t\t'image/object/bbox/xmin': dataset_util.float_list_feature(xmins),\n",
        "\t\t\t\t'image/object/bbox/xmax': dataset_util.float_list_feature(xmaxs),\n",
        "\t\t\t\t'image/object/bbox/ymin': dataset_util.float_list_feature(ymins),\n",
        "\t\t\t\t'image/object/bbox/ymax': dataset_util.float_list_feature(ymaxs),\n",
        "\t\t\t\t'image/object/class/text': dataset_util.bytes_list_feature(classes_text),\n",
        "\t\t\t\t'image/object/class/label': dataset_util.int64_list_feature(classes),\n",
        "\t\t}))\n",
        "\t\treturn tf_example\n",
        "\n",
        "for csv in ['train', 'test']:\n",
        "  writer = tf.io.TFRecordWriter(DATA_BASE_PATH + csv + '.record')\n",
        "  path = os.path.join(image_dir + csv)\n",
        "  examples = pd.read_csv(DATA_BASE_PATH + csv + '.csv')\n",
        "  grouped = split(examples, 'filename')\n",
        "  for group in grouped:\n",
        "      tf_example = create_tf_example(group, path)\n",
        "      writer.write(tf_example.SerializeToString())\n",
        "    \n",
        "  writer.close()\n",
        "  output_path = os.path.join(os.getcwd(), DATA_BASE_PATH + csv + '.record')\n",
        "  print('Successfully created the TFRecords: {}'.format(DATA_BASE_PATH +csv + '.record'))\n"
      ],
      "execution_count": null,
      "outputs": [
        {
          "output_type": "stream",
          "text": [
            "Successfully created the TFRecords: /content/workspace/training_demo/images/train.record\n",
            "Successfully created the TFRecords: /content/workspace/training_demo/images/test.record\n"
          ],
          "name": "stdout"
        }
      ]
    },
    {
      "cell_type": "markdown",
      "metadata": {
        "id": "tjVdYD6w_wvU"
      },
      "source": [
        "Inspect the tfrecords.  Need a library for this as you cannot simply view with text editor"
      ]
    },
    {
      "cell_type": "code",
      "metadata": {
        "colab": {
          "base_uri": "https://localhost:8080/"
        },
        "id": "ZCYgBb77_z-b",
        "outputId": "23358f90-4c58-4daa-b5ea-76dbe5983953"
      },
      "source": [
        "!pip install tfrecord_lite"
      ],
      "execution_count": null,
      "outputs": [
        {
          "output_type": "stream",
          "text": [
            "Collecting tfrecord_lite\n",
            "\u001b[?25l  Downloading https://files.pythonhosted.org/packages/de/bb/62d8e6ab99e62c88e0e061357be99f91e38efa6b37b8f569bec1f8751d3b/tfrecord_lite-0.0.7.tar.gz (77kB)\n",
            "\r\u001b[K     |████▏                           | 10kB 28.7MB/s eta 0:00:01\r\u001b[K     |████████▍                       | 20kB 32.4MB/s eta 0:00:01\r\u001b[K     |████████████▋                   | 30kB 20.0MB/s eta 0:00:01\r\u001b[K     |████████████████▉               | 40kB 23.6MB/s eta 0:00:01\r\u001b[K     |█████████████████████           | 51kB 23.0MB/s eta 0:00:01\r\u001b[K     |█████████████████████████▎      | 61kB 25.7MB/s eta 0:00:01\r\u001b[K     |█████████████████████████████▌  | 71kB 16.4MB/s eta 0:00:01\r\u001b[K     |████████████████████████████████| 81kB 7.1MB/s \n",
            "\u001b[?25hRequirement already satisfied: numpy in /usr/local/lib/python3.6/dist-packages (from tfrecord_lite) (1.19.5)\n",
            "Building wheels for collected packages: tfrecord-lite\n",
            "  Building wheel for tfrecord-lite (setup.py) ... \u001b[?25l\u001b[?25hdone\n",
            "  Created wheel for tfrecord-lite: filename=tfrecord_lite-0.0.7-cp36-cp36m-linux_x86_64.whl size=401140 sha256=5bb36aaeb12c0065f648b08f750116c51b1020b965b0f5d06e6466f91ab89e8c\n",
            "  Stored in directory: /root/.cache/pip/wheels/5d/eb/ea/46bdb79a3fa8e45a49d79b285af00e08d7c80b694647911bb3\n",
            "Successfully built tfrecord-lite\n",
            "Installing collected packages: tfrecord-lite\n",
            "Successfully installed tfrecord-lite-0.0.7\n"
          ],
          "name": "stdout"
        }
      ]
    },
    {
      "cell_type": "code",
      "metadata": {
        "colab": {
          "base_uri": "https://localhost:8080/"
        },
        "id": "3ROXVSsFAFoY",
        "outputId": "d6dd9ee1-2361-4913-ad58-8dda762e25b8"
      },
      "source": [
        "from tfrecord_lite import decode_example\n",
        "it = tf.python_io.tf_record_iterator('test.record')\n",
        "decode_example(next(it))"
      ],
      "execution_count": null,
      "outputs": [
        {
          "output_type": "stream",
          "text": [
            "WARNING:tensorflow:From <ipython-input-27-01cc5eb6bae6>:2: tf_record_iterator (from tensorflow.python.lib.io.tf_record) is deprecated and will be removed in a future version.\n",
            "Instructions for updating:\n",
            "Use eager execution and: \n",
            "`tf.data.TFRecordDataset(path)`\n"
          ],
          "name": "stdout"
        },
        {
          "output_type": "execute_result",
          "data": {
            "text/plain": [
              "{'image/encoded': [b'\\xff\\xd8\\xff\\xe0\\x00\\x10JFIF\\x00\\x01\\x01\\x00\\x00\\x01\\x00\\x01\\x00\\x00\\xff\\xdb\\x00C\\x00\\x02\\x01\\x01\\x01\\x01\\x01\\x02\\x01\\x01\\x01\\x02\\x02\\x02\\x02\\x02\\x04\\x03\\x02\\x02\\x02\\x02\\x05\\x04\\x04\\x03\\x04\\x06\\x05\\x06\\x06\\x06\\x05\\x06\\x06\\x06\\x07\\t\\x08\\x06\\x07\\t\\x07\\x06\\x06\\x08\\x0b\\x08\\t\\n\\n\\n\\n\\n\\x06\\x08\\x0b\\x0c\\x0b\\n\\x0c\\t\\n\\n\\n\\xff\\xdb\\x00C\\x01\\x02\\x02\\x02\\x02\\x02\\x02\\x05\\x03\\x03\\x05\\n\\x07\\x06\\x07\\n\\n\\n\\n\\n\\n\\n\\n\\n\\n\\n\\n\\n\\n\\n\\n\\n\\n\\n\\n\\n\\n\\n\\n\\n\\n\\n\\n\\n\\n\\n\\n\\n\\n\\n\\n\\n\\n\\n\\n\\n\\n\\n\\n\\n\\n\\n\\n\\n\\n\\xff\\xc0\\x00\\x11\\x08\\x01\\xe0\\x02\\x80\\x03\\x01\"\\x00\\x02\\x11\\x01\\x03\\x11\\x01\\xff\\xc4\\x00\\x1f\\x00\\x00\\x01\\x05\\x01\\x01\\x01\\x01\\x01\\x01\\x00\\x00\\x00\\x00\\x00\\x00\\x00\\x00\\x01\\x02\\x03\\x04\\x05\\x06\\x07\\x08\\t\\n\\x0b\\xff\\xc4\\x00\\xb5\\x10\\x00\\x02\\x01\\x03\\x03\\x02\\x04\\x03\\x05\\x05\\x04\\x04\\x00\\x00\\x01}\\x01\\x02\\x03\\x00\\x04\\x11\\x05\\x12!1A\\x06\\x13Qa\\x07\"q\\x142\\x81\\x91\\xa1\\x08#B\\xb1\\xc1\\x15R\\xd1\\xf0$3br\\x82\\t\\n\\x16\\x17\\x18\\x19\\x1a%&\\'()*456789:CDEFGHIJSTUVWXYZcdefghijstuvwxyz\\x83\\x84\\x85\\x86\\x87\\x88\\x89\\x8a\\x92\\x93\\x94\\x95\\x96\\x97\\x98\\x99\\x9a\\xa2\\xa3\\xa4\\xa5\\xa6\\xa7\\xa8\\xa9\\xaa\\xb2\\xb3\\xb4\\xb5\\xb6\\xb7\\xb8\\xb9\\xba\\xc2\\xc3\\xc4\\xc5\\xc6\\xc7\\xc8\\xc9\\xca\\xd2\\xd3\\xd4\\xd5\\xd6\\xd7\\xd8\\xd9\\xda\\xe1\\xe2\\xe3\\xe4\\xe5\\xe6\\xe7\\xe8\\xe9\\xea\\xf1\\xf2\\xf3\\xf4\\xf5\\xf6\\xf7\\xf8\\xf9\\xfa\\xff\\xc4\\x00\\x1f\\x01\\x00\\x03\\x01\\x01\\x01\\x01\\x01\\x01\\x01\\x01\\x01\\x00\\x00\\x00\\x00\\x00\\x00\\x01\\x02\\x03\\x04\\x05\\x06\\x07\\x08\\t\\n\\x0b\\xff\\xc4\\x00\\xb5\\x11\\x00\\x02\\x01\\x02\\x04\\x04\\x03\\x04\\x07\\x05\\x04\\x04\\x00\\x01\\x02w\\x00\\x01\\x02\\x03\\x11\\x04\\x05!1\\x06\\x12AQ\\x07aq\\x13\"2\\x81\\x08\\x14B\\x91\\xa1\\xb1\\xc1\\t#3R\\xf0\\x15br\\xd1\\n\\x16$4\\xe1%\\xf1\\x17\\x18\\x19\\x1a&\\'()*56789:CDEFGHIJSTUVWXYZcdefghijstuvwxyz\\x82\\x83\\x84\\x85\\x86\\x87\\x88\\x89\\x8a\\x92\\x93\\x94\\x95\\x96\\x97\\x98\\x99\\x9a\\xa2\\xa3\\xa4\\xa5\\xa6\\xa7\\xa8\\xa9\\xaa\\xb2\\xb3\\xb4\\xb5\\xb6\\xb7\\xb8\\xb9\\xba\\xc2\\xc3\\xc4\\xc5\\xc6\\xc7\\xc8\\xc9\\xca\\xd2\\xd3\\xd4\\xd5\\xd6\\xd7\\xd8\\xd9\\xda\\xe2\\xe3\\xe4\\xe5\\xe6\\xe7\\xe8\\xe9\\xea\\xf2\\xf3\\xf4\\xf5\\xf6\\xf7\\xf8\\xf9\\xfa\\xff\\xda\\x00\\x0c\\x03\\x01\\x00\\x02\\x11\\x03\\x11\\x00?\\x00\\xf8\\xc54\\x9b\\xa8S\\xcc\\x8f\\xee\\xd4\\x90\\xe9\\xaf\\xfe\\xb28\\xdd\\x89\\xfe\\x1e\\xb5\\xee\\xf6s~\\xc0\\x1aR}\\x9e\\xe2\\xcf\\xe26\\xad\\xfc^e\\xc4\\xf6\\xd0\\xff\\x00\\xdf*\\xb5\\xa7g\\xf1_\\xf6\\t\\xd16\\xff\\x00g\\xfc\\x03\\xf1E\\xf0\\xe8\\xdfm\\xf1\\x00\\x1f\\xfa\\x08\\xac\\xfd\\xac\\xb9o\\xca\\xce\\xef\\xa9a\\x9c\\xac\\xeb\\xc7\\xf1\\x7f\\xa1\\xf3\\xbaiW/\\xb69\\xe3\\xe4\\xfd\\xd6\\xab1h\\xf70\\xa7\\xf1\\xed\\x1fuk\\xe8g\\xfd\\xa5\\xbfc\\xfd7\\xcb\\xfe\\xc7\\xfd\\x93<\\xed\\xbf\\xf3\\xff\\x00\\xaeI\\'\\xf4\\xa9\\xad\\xbflo\\xd9\\xee\\xdav\\xb8\\xb6\\xfd\\x8f\\xfc8\\xca\\xbf*\\xac\\xb7\\xd2\\x1f\\xe9MTk\\xa0\\xbe\\xa9\\x81\\x94m\\xed\\x97\\xfe\\x02\\xcf\\x9e\\x13J\\xbc\\x1f\\xeb-\\xf7\\x06O\\xbbN\\xfb\\x03\\xc3\\xfb\\xbf\\xb3\\xf1\\xfd\\xda\\xfa9?m/\\xd9\\xe4\\xbf\\xd9\\xef?co\\x0f\\xfc\\xff\\x00w\\xca\\xbbq\\xb3\\xf1\\xa6\\xbf\\xed\\x81\\xfb4\\xcd\\xba;\\x8f\\xd8\\xcf\\xc3\\xdc\\x7f\\x12jR\\x03\\xfc\\xa9{Yv&8\\\\\\xbf\\x96\\xca\\xb7\\xfeJ\\xcf\\x9b\\xbf\\xb2\\xaf&\\xdd$q\\xb5/\\xd8.f\\x91\\x92Kw\\xff\\x00\\x81\\xf3_I\\'\\xed{\\xfb4\\xc3\\xe6Ko\\xfb\\x1d\\xe9\\n\\xcd\\xb7\\xe5\\xfe\\xd5|\\x7f*}\\xbf\\xedo\\xfb7\\xba\\x7f\\xc9\\x9f\\xe8\\xcb\\xf3\\xeef\\xfe\\xd5\\x93\\xfc(\\xf6\\x95\\x1e\\xe8\\xaf\\xa9\\xe5\\xbb\\xfdc_\\xf0\\xc8\\xf9\\xb0iw.\\x8c$\\xb7\\xdb\\xb7\\xf8\\xaao\\xec\\xdb\\xc4\\x85c\\x92>\\xb5\\xf4\\xb4\\xdf\\xb6\\x1f\\xec\\xe4\\xf0\\xf9q\\xfe\\xc7z2\\xff\\x00\\xb2\\xfa\\x8b\\xe3\\xf9|\\xd4\\xdb/\\xdb\\x03\\xf6x\\xbe\\xb9\\xf2\\xf5\\x8f\\xd8\\xbf\\xc3\\xf2@\\x17n\\xd8\\xb5)\\x11\\xff\\x000\\x05%RNV\\xe5\\x07\\x85\\xcb\\xd6\\xbe\\xdd_\\xb7,\\x8f\\x9afI\\xad\\x91m\\xfe\\xed9-\\x9d\\xe6\\xff\\x00f\\xbe\\x99\\x7f\\x88\\xbf\\xf0O\\xdf\\x1c\\xa4\\x91\\xeb\\x9f\\x04\\xfcQ\\xe1\\x99\\xbf\\x8aM/UK\\x84\\xfc\\x16LU\\x1b\\x9d\\x13\\xfe\\t\\xefy\\n\\xd9\\xe9\\xfe=\\xf1\\x84r\\xaf\\xcc\\xbb\\xb4\\xa4\\xf3?\\xf4<U\\xa7~\\x86\\x7fT\\xa4\\xfe\\x1a\\xb1\\x7fz\\xfd\\x0f\\x00\\xb6\\xb6tO\\xb4I\\x1f_\\x95V\\xa5\\xff\\x00\\x8f\\x04\\xfbDgr\\xb7\\xca\\xcb_@\\xdc\\xde~\\xc1\\xba=\\x85\\xbcb?\\x19j\\x9eO\\xfa\\xcd\\x90C\\x08\\x9b\\xeb\\x97\\xcd,\\xdf\\x18?`\\x9b;h\\xfe\\xcf\\xfb5\\xf8\\x86\\xebo\\xfc\\xb4\\x97\\xc4\\x1b\\x0f\\xe9\\x9a\\x8fk\\xefZ\\xcck-\\xa3\\x1d]x_\\xb6\\xaf\\xf4>s\\x99\\xee._\\xed\\x11\\xc6\\xdbv}\\xda\\x8d,\\xe6p\\xd2I\\x1e\\xed\\xbf\\xc3_E\\xd9\\xfe\\xd0\\xff\\x00\\xb1?\\x9c\\xd1\\x8f\\xd8\\xfe\\xe2H\\x7f\\x85\\x9b\\xc5S\\x03\\xff\\x00\\x8e\\x8a\\xd1\\x7f\\x8c\\xdf\\xb0\\x05\\xfd\\x9cr\\x9f\\xd9\\xa3\\xc46r\\xab|\\xcb\\x07\\x887\\xa7\\xfd\\xf4\\xdc\\xd5\\xa9\\xb5\\xd0_V\\xc3\\xff\\x00\\xcf\\xe8\\xfd\\xd2\\xff\\x00#\\xe6\\xf4\\xd3\\xd2\\x14\\xf3n>Vo\\xba\\xb4\\xf8a\\xd8\\xfe\\\\\\x91\\xee\\x1f\\xde\\xaf\\xa2\\xee~.\\xfe\\xc0\\x1am\\xca\\xc7\\xff\\x00\\x0c\\xd1\\xe2i\\x97o\\xfc\\xb5\\xf1\\x01\\x03\\xe6\\xfcMg\\xff\\x00\\xc3C\\xfe\\xc4\\x90\\x9f\\xb3\\xd9\\xfe\\xc8\\xf7R\\x05o\\x97\\xcf\\xf1T\\xbf\\xd0Q\\xce\\xd6\\xca\\xc5<.\\x1e;\\xd6_t\\xbf\\xc8\\xf0\\xa7M\\x9bd\\x8eO\\x99\\xbeoJ\\x88C\\xe7\\'\\xfa\\xbd\\xad\\xfd\\xea\\xf77\\xfd\\xa9\\x7fd\\xb8\\xa6h\\xed\\xff\\x00c\\xbb6E\\xf9W\\xcd\\xf1\\x1d\\xc15#\\xfe\\xd6_\\xb3\\x07\\x92\\xb2i\\xff\\x00\\xb1\\x9e\\x8c\\xac\\xbbYa\\x97\\\\\\xbap\\x9f\\xca\\x8ey\\xbd\\xd1\\x97\\xd5\\xb0{{m}\\x19\\xe26\\xd6\\xdfv9$\\x7f\\xf7\\xaat\\xb3\\xf9\\xfc\\xc9#\\xdd\\xfd\\xda\\xf6\\'\\xfd\\xad\\xfe\\x03\\xde\\\\\\xf9\\x92~\\xc7~\\x15V\\xfb\\xb2/\\xf6\\x8d\\xd6?\\xf4`\\xa94\\xdf\\xda\\x8f\\xf6{\\x85\\xda;\\x8f\\xd8\\xef\\xc3\\xcc\\x0f\\xdde\\xd6.\\xff\\x00\\xf8\\xb3J\\xef\\xb2)\\xd0\\xc2/\\xf9y\\xf8\\x1e0\\xe8\\xee\\x8d\\xe5\\xc9\\xb9\\x97\\xe6j|1\\\\\\xbe\\xdf.=\\xab^\\xe9\\xff\\x00\\r\\'\\xfb\"\\xdeB\\xb1\\xea\\x1f\\xb1\\xbd\\xacg\\xee\\xabZ\\xf8\\x9a\\xe8S\\xa6\\xfd\\xa0\\x7fc\\x1f\\xdd\\xc9\\x17\\xec\\x8fz\\xaf\\xf7\\x7fu\\xe2\\xe9\\xb6\\x7f\\xe8\\x19\\xa4\\xee\\xfa\\x15\\x1c>\\rmS\\xf0g\\x83%\\xb5\\xcb\\xce\\xdf\\x7fuY\\xb3\\x86\\xfd\\x02\\xfe\\xef\\x8a\\xf6\\xab\\x9f\\x8f\\x1f\\xb1\\xfd\\xcc\\xcb$\\x7f\\xb2]\\xec\\x7f\\xde\\xd9\\xe2\\xe9\\xfe\\x7f\\xfcr\\xaf[|]\\xfd\\x89\\xeeS\\xcb\\xd4\\x7fg}z\\xd4\\xb7\\xddk_\\x16\\x9c\\xff\\x00\\xe3\\xf1\\x9aWe*\\x14y\\xac\\xaa/\\xb9\\x9e4\\x8f7\\x9c\\xbf\\xe8\\xfec\\x8f\\xbb_\\xa2\\xdf\\xb0\\xdf\\x84o<\\'\\xf0\\xb3L\\x93T\\xd3\\xde\\xdek\\xb5k\\x8d\\xad\\x1e\\x0e\\xd6\\xe9\\\\\\x1f\\xecy\\xf0\\xc7\\xf63\\xf8\\x9di\\xe2\\x0f\\x8b\\x9a_\\xc3o\\x11\\xac^\\x11\\x8a;\\x89\\xac\\xf5}J;\\x88]\\xb6\\xb3/\\xca#]\\xdfw\\xa1\\xafv\\xf0_\\x8cm<I}\\xfd\\xafd.\\x16;\\x8f\\x9a8\\xe7\\xdb\\x94^\\xcb\\xc0\\x03\\x8a\\xfc\\xe3\\xc4\\x9cDa\\x94F\\x93z\\xb9h\\xbb\\x9f\\xad\\xf8q\\x97J>\\xde\\xbcu\\xf7-\\x7fW\\xff\\x00\\x00\\xf5\\x0b\\xbdE\\xed\\xf4\\xa2RL|\\xb5\\xe7\\xf2^\\xbd\\xf6\\xa9&Np\\xd5\\xbf\\xe2-Yb\\xd2\\xda4\\x93\\xf8k\\x91\\xf0l\\xff\\x00l\\xbe\\x9ei\\x07F\\xc5~\\x15Zw\\x94a\\xd4\\xfd7-\\xc2\\xfb*\\x15*\\xb4vzz\\x85\\xb5_\\xdd\\xd6w\\x89\\xb1\\xe4\\x19\\x1csZ\\xd6\\xa1\\x12\\xd5[\\xd2\\xb0<gx\\x89f\\xdf\\xc3\\xfd\\xda&\\xad\\x07ve\\x86Nx\\xad;\\x9e1\\xf1\\x1a\\xe7\\xc9\\xbcm\\xf2n\\x1f\\xdd\\xaf\\x11\\xf8\\xa3\\xe2\\xa7\\xb6\\xb6\\x928\\xe4\\xafQ\\xf8\\xab\\xac\\x04\\x99\\x9c\\xc9\\xb4.\\xea\\xf9\\xef\\xc7\\xfa\\x94\\xf7\\xfa\\x97\\xd8\\xfb;\\xfc\\xd5\\xf2\\xf3\\xe5\\x9e%\\xb4\\x8f\\xde8{\\t|$[\\xect\\x7f\\x04\\xc5\\xce\\xa1?\\x99\\xe5\\xff\\x00\\xac\\xfb\\xd5\\xf4\\x8f\\x84t\\x17\\x86\\xd5$\\x91=\\xf7W\\x87|\\x12\\xd1\\x96;\\x88\\xdf\\xcb\\xda\\x1bm})\\xa6Z\\xa5\\xae\\x90\\xa9\\xdfgZ\\x9a\\x14\\x95\\\\L\\xa6\\xde\\x88\\xf3\\xb8\\xb7\\x15\\xec\\xe7\\x1aq\\xd0\\xa9\\xa9:Co\\x8a\\xe6ou\\x8f\\xf5\\x91\\xe3\\x83Z\\xda\\xdd\\xf8\\x86\\x06O\\xfb\\xe6\\xb8\\xadJ\\xf8.\\xe72m\\xae\\xc9>M\\x8f\\x17.\\xc2\\xf3\\xadQ_W\\xd6\\x16\\x14\\x91\\x0c\\xa8\\xbb~j\\xf1\\xef\\x89\\x1e-ty\\xbfy\\xb7\\xfb\\xb5\\xd0x\\xef\\xc5\\x9e]\\xcb\\x08\\xe4\\xda\\xaa\\x95\\xe1_\\x17\\xfcm\\xf27\\x97q\\xf3W\\xa7\\x80\\xc1\\xaa\\xd2J\\xc7\\xb9Zk\\x0bL\\xc0\\xf1\\xe7\\x8d\\x9f\\xe6O\\xb4\\x7f\\xbd^A\\xe3\\x0f\\x15<\\xcf$rI\\xf2\\xd3|a\\xe3\\x19|\\xe6\\x92;\\x8d\\xdb\\xab\\xcf|I\\xe2G\\x9bw\\xfaG5\\xfa\\x86U\\x95\\xfb8h\\x8f\\x8f\\xcc\\xf3(\\xae\\xa5o\\x13\\xeb\\xe8\\xf27\\x97%r7\\x97\\xfe|\\xded\\x92sF\\xab\\xa9\\\\\\xbb\\xb6~j\\xa0\\x895\\xcf\\xfb5\\xf7xL/%8\\x9f\\x9b\\xe6Y\\xa7\\xb6\\xab%r\\xca|\\xf3y\\x82\\xb5aM\\x89\\xfb\\xca4\\xad\\n\\xdahVK\\x8b\\xc7_\\xfbg[\\xfao\\x86|4\\xe9\\xfe\\x93\\xac\\xdc\\x7f\\xbc\\xb0g\\xfa\\xd7T\\xa8\\xca_\\t\\xe5\\xd3\\xc5RN\\xfc\\xc6bM\\xb3\\xcb\\xf2\\xcf\\xdd\\xa5K\\x99\\x91\\xf9\\xf9\\x85u\\x16~\\x1b\\xf07\\xfa\\xbb\\x8dSRf\\x1f\\xdd\\x811\\xfa\\x9a\\xd2O\\x0f|.\\x8d<\\xc9/5O\\xee\\xedDO\\xf1\\xad#\\x83\\xaa\\xf5\\xd2\\xfe\\xa4O9\\xa1Gg\\xf8?\\xf29\\xdd\\x07Rt\\x99\\x7fv\\xff\\x00/\\xf0\\xd7\\xa2\\xf8{\\xc5S$+\\x19\\x8d\\xeb?L\\xd2\\xbe\\x14G7\\xee\\xec\\xf5\\x96?\\xc5\\xfb\\xf8\\xc0\\xff\\x00\\xd0+\\xab\\xd1,>\\x11\"7\\x99q\\xad\\xc7\\xff\\x00~\\xcf\\xf8W.3$x\\x8e\\xdf3\\\\/\\x16P\\xa55vX\\x8f\\xc4\\xf7\\x9b\\x15\\xd3\\xe6\\xc5\\x17>\\'\\xbft\\xfd\\xd8\\xad+{o\\x84\\xa9\\xb69u\\x8dm\\x97\\xfe\\xb8C\\xfe5\\xa5\\x0e\\x9d\\xf0\\x8akh\\xcf\\xfc$\\x1a\\xcc?\\xdeilc\\x7f\\xfd\\x05\\xc5x\\xcf\\x85\\xdc\\xa5wo\\xbc\\xf5\\xdf\\x1b\\xe1\\xa9\\xc6\\xd7\\xfc\\xce:\\xff\\x00U\\xbcx|\\xbf\\xbb\\x9f\\xbd\\\\\\x8f\\x88a\\x9a\\xe7\\xfdd\\x9f\\xf0\\x1a\\xf5;\\xcd\\x13\\xe1v\\xf6\\x8e?\\x1a_\\xff\\x00\\xb2\\xdf\\xd9C\\x1f\\xfa2\\x9f\\x0f\\x82~\\x08_\\xc7\\x1c\\x97\\x9f\\x10\\xf5\\x1d\\xc7\\xef,\\x1a0\\xff\\x00\\xd9\\xa4\\xafK\\x03\\xc3N\\x9c\\xdfC\\xc5\\xccx\\xf3\\x0f\\xec\\xdd\\xa5\\xab\\xf2\\x7f\\xe4y_\\x83\\xec\\xfc\\x13\\xaa\\xde.\\x87\\xe3\\x8d\\x1eU\\x81\\xdbj\\xeaV\\xbf\\xeba\\xff\\x00i\\x97\\xf8\\xc7\\xeb]W\\x8f?e\\xdd{\\xe1\\xd2Z\\xeb6\\xf2&\\xa1\\xa2j\\x89\\xbfM\\xd6-y\\x8ae\\xfe\\xef\\xb3\\x8e\\xe0\\xd7u\\xa0\\xf8\\x03\\xf6ZK\\x95\\xfbg\\x8b<W\\'\\xcd\\xf3-\\xbe\\x9b\\x00\\xfem_X~\\xc5^\\x18\\xfd\\x9c\\xbe%\\x0b\\xaf\\xd9\\xceO\\x10k\\xda\\x85\\x8e\\xb7\\x14\\x8d\\xa7\\xe9\\xfa\\xe5\\x8cJ\\x90\\xce\\xab\\xbb\\xcc\\x88\\xa3\\x92\\x1f\\xf9\\xd7\\xdb\\xe0\\xf0\\n\\x94T7\\xfdO\\xca\\xb3> \\xfe\\xd0\\xab\\xcb\\xce\\xac\\xff\\x00\\xab\\x9f\\x04\\xe8\\x9e\\t\\x85\\x1dd\\x8d>o\\xf9\\xe7]\\x96\\x8f\\xa0\\xc3\\xf2\\xef\\x8dw\\xb5}\\x1d\\xe3\\x9f\\xd9w\\xf6x\\xf0\\x1f\\x8c\\xf5O\\x05\\xea\\xbf\\x1d.4\\xfb\\xed6\\xf5\\xa2\\x9a;\\xcf\\x0eL\\xdf0\\xfe\\x1d\\xc8N\\x7fJ\\xccO\\x86\\xff\\x00\\xb2\\xd6\\x90\\xeb\\xfd\\xa1\\xf1\\xd3R\\xd4\\x15_w\\x97\\xa5\\xf8T\\xc6\\x7f9\\xa5\\x1f\\xca\\xbd\\x05\\x1eN\\x96>3\\x13\\x1a\\xb3\\xab%9\\xab\\xaf?\\xeb\\xf2<\\x8ak\\x04\\xb2\\xfd\\xe4r&\\xe0\\x9f3-]\\xd2\\xb6^\"\\xdb\\xc9\\x1e\\xd3\\xfd\\xde\\xbb\\xeb\\xd8\\xec4\\x7f\\xd8\\xbe\\xe6o\\xb1\\xc9\\xe2\\x0f\\x19(m\\xdf\\xbcm:\\xd4\\xff\\x00\\xe3\\xbeg\\xf5\\xa7[xo\\xf66\\xd1\\xe6\\x92A\\xe3O\\x1a\\xdd*\\xb7\\xca\\xb1iV\\xf1\\x9f\\xfczC[Yr\\xa7\\xd8\\xf3^\\x19T\\xdaq\\xfc\\x7f\\xc8\\xf3$\\xd2\\x92\\x14_\\xba\\xbb~\\xebP\\xf6\\xc9\\xb3\\xed\\x11G\\xb5\\x17r\\xabw\\xafV\\xb3\\x87\\xf6?\\x9a\\x16\\xb7\\x93P\\xf1\\xcca\\x7f\\xe5\\xb3\\xa5\\xa1?\\xce\\x8f\\xec\\xaf\\xd9\\x06m\\xd2G\\xe2\\x8f\\x1c\\xaa2}\\xdf\\xec\\xdbF\\xff\\x00\\xda\\x82\\xae\\rk\\xa6\\xe6\\x13\\xc1\\xa5+*\\xb1o\\xe7\\xfeG\\x92Cx\\x89\\xfd\\xf5\\xf96\\xb2\\xd3\\xef!\\x86\\xe6\\x15\\x92?\\x95\\x0f\\xde\\xf4\\xafVO\\r\\xfe\\xc7\\xfb\\xe3\\x8eO\\x1cx\\xd5\\x99\\xff\\x00\\xe5\\x8f\\xf6U\\xa8?\\xfa6\\xaf\\xc3\\xe1\\x1f\\xd8\\xfem\\xb1\\xc7\\xe3O\\x19B\\xfb\\xfe_\\xb4iV\\xc4~B^\\x95\\xa77\\xbbk\\x19\\xbc\\x1a\\x97\\xbc\\xa7\\x1f\\xbf\\xfe\\x01\\xf3\\xc6\\xb1mt\\x88\\xdf\\xc5\\xf3|\\xbe\\x95\\x99\\n}\\xa7\\xf7\\x9f*\\xe3\\xe6\\xaf\\xa1\\xf5\\xef\\x85\\x1f\\xb35\\xee\\xef\\xb1\\xfcp\\xbf\\x87\\xcao\\x99n<9&\\x7fG#\\xf5\\xaeY\\xf4O\\xd9#\\xc1\\xf35\\xc6\\xa1\\xacx\\xa3\\xc4\\x1f7\\xcb\\x1c\\x16\\x90\\xdaD\\xff\\x00\\xf7\\xd1v\\xac\\'.YX\\xe9\\xa5\\x85\\xb6\\xf3\\x8d\\xbdO7\\xb0K\\x97H\\xfc\\xbbwV\\xfe\\x16\\xae\\xb3N\\xbf{\\x0f.;\\x88\\xdf\\x95\\xda\\xab\\xde\\xbb\\xbb\\x0f\\xda\\x07\\xe0>\\x95\\xfb\\xbf\\r~\\xcd\\xfaL\\xc6?\\xbb&\\xaf}5\\xc1\\xff\\x00\\xbeT\\xa8\\xad\\xed\\x13\\xf6\\x90\\xf8uyr\\xb1\\xea\\x1f\\xb3\\x9f\\x83\\xda\\'u\\xfd\\xdc\\x10O\\x17\\xfd\\xf2\\xcb/\\xcbZ\\xd0\\x9c\\x95\\xee\\xaea\\x89\\xc3\\xe0\\xfa\\xd4\\xfb\\x91\\xe5\\xfa\\xae\\x8e\\x97\\xf6m\\xa8G\\x1b\\xe4\\xae\\xe6^\\xff\\x00\\xf0*\\xe3\\xb5[]\\x93yq\\xfc\\xc1~\\xf3\\x7fr\\xbe\\x9c}K\\xf6f\\xf1<3y\\x9e\\x02\\xd6|?$\\xcb\\xf36\\x97\\xa8\\xa4\\xc8\\x9fD\\x91\\x07\\xfe\\x85^o\\xe2\\xdf\\xf8e\\xad\\x07X]>Mc\\xc5\\xb7\\x1b\\xbefU\\xb4\\x82!\\xff\\x00}3\\xb5T\\xec\\xd5\\xeccJ\\x8d5&\\x95Ue\\xf2\\xfc\\x0f%\\xfbc\\xc6\\xeb\\x1cgo\\xc9\\xf3V\\x9b\\xc2\\x9a\\x941\\xc7o\"\\xb6+\\xd2tmo\\xf6N3yrx/\\xc5\\x17\\x917\\xfc\\xf7\\xd6a\\x8c\\xff\\x00\\xe3\\x91WA\\xa3\\xc1\\xfb\"\\xeb\\x17\\x1fg\\x8b\\xc2\\xfe-\\xd3\\xd5>\\xeb[\\xeb\\x10M\\xff\\x00\\x02\\xc1\\x8dw~tF\\xf2\\x8bI?\\xb8\\xa9P\\xc3\\xf3\\'\\xed\\x16\\xbe\\xbf\\xe4x\\x8ahW\\x96{\\xae>\\xea\\x1f\\xbc\\xd5\\xa5q\\xa4\\xbb\\xd9\\xac\\x97\\x12+o\\xf9\\xb6\\xd7\\xba\\xdf\\xfc\"\\xfd\\x9f\\xaf\\xe1Y4\\xff\\x00\\x8d\\x13\\xd9\\xa1\\xf9V\\xdfW\\xd0\\xdc:~1\\x96\\rY7?\\xb2\\xee\\x89s\\x0bj>\\x16\\xf8\\xe1\\xe1[\\xeb\\x7f\\x9b\\xe6\\x97Q0:\\x7f\\xc0%AZ\\xd9w\\xdc\\xc2XZ\\xd5>\\x1eWo5\\xaf\\xf9\\x1e\\x05\\xaa\\xa2C\\xb7\\xec\\xf1\\xee\\xfe\\x1d\\xd5\\x9bm3\\xa3\\xb5\\xbc_3;\\xfe5\\xed\\x93~\\xcc\\x96\\x13\\xa3Iq\\xf1\\xc3\\xc1\\xb0\\xbcm\\xfb\\xc8\\xff\\x00\\xb4\\x9d\\xff\\x00\\xe0YT\"\\xa8\\\\\\xfe\\xcd\\x9e\\x00\\xd3_\\xcb\\xbc\\xfd\\xa3<(\\xb2\\xb7\\xcc\\xadk\\x1d\\xc4\\xa3\\xff\\x00\\x1d\\x8e\\x93v\\xdc\\xd2\\x18Z\\xbc\\xa9]]y\\xaf\\xf3<\\xe3M\\xb9{hZ\\xde\\xe26m\\xff\\x00y\\x9b\\x9at\\xd0\\xa6\\xf6\\x928\\xf6\\x82\\x9f2\\xa4\\x95\\xe9\\xd6_\\x08\\xbe\\x0bZ\\xa7\\x97\\xa8~\\xd0\\x96\\xad2}\\xef+@\\xb8#\\xff\\x00\\x1e\\xc51>\\x18\\xfc\\x13\\x9a\\xe7\\xed\\x16\\x7f\\x1e\\x13o\\xddm\\xfa\\x04\\xe0\\xff\\x00:\\xd58\\xc7vaS\\x0bU\\xf5_z<S^\\xd2vL\\xb2G\\xfd\\xdf\\x95\\xab\\x95\\xd6\\xec\\xee|\\xe5\\x93\\xcbu\\xd8\\x9bU[\\x9a\\xfaR\\xff\\x00\\xe0\\x8f\\xc2\\xadI?\\xd0\\xff\\x00h\\r\\x19\\xb7\\x7f\\xab\\xfbF\\x9dp\\x9f\\x9f\\xc9T\\xf5/\\xd9\\xa7\\xe1\\xec\\xc8\\xb1\\xc9\\xfb@xe\\x9d\\xd3\\xe5\\xff\\x00E\\xba\\xc7\\xfe\\x8a\\xa1\\xc5r\\xddJ\\xc3\\x8d\\n\\xd1\\x95\\xb4\\xb7\\xaa>g\\xb6\\xdf\\xfb\\xbf2O\\x95~\\xea\\xd3\\xfeG\\xfd\\xdc\\x7f1\\xdf\\xf3RG\\x0c\\xcf\\xfe\\xacm\\x1f\\xc5LD\\xfb24\\xbeg_\\xe2\\xaf\\rY\\x1fJI\\xf3\\xef\\xfb<q\\xf0\\xdfy\\xa9\\xe9\\x0e\\xcf\\xdey\\x9c\\x7f\\x0f\\xad\\x10\\xc3\\xbf\\xf7\\x9ef\\xe3\\xfd\\xeal\\xc9\\xb2o2I\\x1d\\x95\\xbe\\xea\\xd5\\xdd\\x99\\xc9\\xb1\\xc8\\xfet\\xd1\\xf9\\x89\\xfb\\xad\\xff\\x003/Z\\x96\\xf2\\x18\\xbeh\\xec\\xf7\\xec\\xfe-\\xfdj4G\\xff\\x00W\\x1f\\xcd\\xfd\\xeaO\\x93\\xc9\\xfd\\xdc\\x8dY\\x8a6\\xef\\xa8\\xf0\\x9b\\x13\\xec\\xff\\x00#\\r\\x9f+R\\xbc\\xcf\\x0e\\xd8\\xc7\\xca\\xa7\\xf8i!G\\x92\\x16\\xf3$\\xff\\x00\\xaemM\\xfb2\\x1d\\xbed\\x9b\\x9b\\xf8kA\\x93[\\t\\xae]|\\xb8\\xf7\\x7f\\xb5V\\xcd\\xcf\\x92\\xed\\x1c\\x92\"\\xff\\x00v\\xab#\\xcdl\\x8b\\x1f\\x97\\xf35V}\\xf3L\\xde^\\xe6\\xa9\\xe7BJMX\\xbc\\xfa\\xce\\xfd\\xb1\\xc7\\xf3T\\xd6\\xc8\\xee\\xff\\x00h\\xb8\\x8d>o\\xbc\\xcbPXi\\xb73\\'\\x99%\\xbf\\xca\\xbfu\\xabR\\xda\\xc96~\\xf3f\\xd5\\xfe\\x1a\\\\\\xcd\\xec[j;\\x0fDG\\xdb\\x1d2\\xe6\\x1d\\xbb\\xa3\\x8e:\\x1e\\xd9\\xd1\\xf3\\xe6r[n\\xdal\\xd3lu\\x8e\\xe3\\xf8~\\xedT]\\xe5c)\\xb6S\\x99\\x1cn\\x969\\x11i\\xf0\\xfe\\xf9\\xfe\\xced\\xdb\\x8f\\xe1\\xa7\\xbf\\xd9\\xa6\\xdd\\x18\\x8bj\\xff\\x00\\x0bT^W\\x92\\xf8\\xf37nJak\\xf2\\xdc\\xb15\\xce6\\xc7!\\xe1>\\xea\\xf7\\xa7\\xc3al\\xe9\\xe6E\\xf7\\xbe\\xf5A\\x1c\\x88\\xe5d\\xc6\\xe5\\xdf\\xb7sT\\xbfiDF\\xf3c\\xda\\xeb\\xf2\\xd0)6$\\xdaT\\'t\\x9fg\\xdc\\xdf\\xc5N\\x8e\\xcd!\\xfd\\xe4\\x91\\xed\\xfe\\xedX\\x86g\\xf2VA\\'\\xfc\\x06\\xa5\\xb6D\\x99\\x1aA\\x1f\\xf1\\xd2\\x93.2R\\xd5nT{4\\x1b\\xbc\\xb8\\xf6\\xa7\\xf15D\\x96\\xce\\x934v\\xef\\xb9U~\\xed_\\x93\\x12m\\x8e8\\xf77\\xf7vT[!I\\x9b\\xf7|\\xff\\x00z\\x98Y\\x11\\x08~\\xef\\x98\\x8f\\x83\\xf7\\x96\\x97\\xec\\xc9\\xb1\\xa4\\x8fw\\xfbJ\\xd53\\xbf\\x9e\\xeb\\x1f\\x98\\xdf\\xdd\\xddD\\x0e\\xe9\\x0f\\xfa\\xb7a\\xfa\\xd6z\\xf7*\\x11[u&\\xb3@\\x89\\xe5\\xc9\\xf3\\x7fu\\xaa\\xcc\\x1f\\xbe\\xdb$\\x91\\xa7\\x0f\\x8a\\xadl\\x8f\\xf2\\xfe\\xef\\xee\\xd5\\xe8m\\x916\\xf9\\x91\\xed+\\xf35\\x13\\xf8n\\\\t>\\xe3\\xff\\x00\\x82e<:\\x97\\xec\\xcd\\xf1s\\xc2z~\\xd6\\xd4\\xa5\\xf2\\xa7X\\xff\\x00\\x8f\\xca\\xf2\\xf6\\xff\\x005o\\xfb\\xea\\xbd\\x1b\\xe1n\\xa3\\xf68!\\x85$\\xe8\\x95\\xf2O\\xec1\\xf1\\x8fX\\xf89\\xf1S\\xfbcO\\xdf%\\x8d\\xed\\xbf\\xd9u+7\\xe94G\\xfa\\x8e\\xa2\\xbe\\xbbQ\\xe1\\xf4\\xd6\\x1bZ\\xf0\\x95\\xe7\\x99ct\\xfb\\xe1\\x8f\\xbag\\xf8q_\\x91x\\x9e\\xfe\\xb1\\x87\\xa5\\xec\\xde\\xb1\\xd5\\xad\\xb4}O\\xe8\\xaf\\ta)eu\\xa3%\\xa3\\xd9\\xfa3\\xac\\xf1\\x06\\xb7\\xe7\\xda\\xec\\x12tZ\\xaf\\xe0Y\\xfc\\x9d\\xfb\\x9f\\x82\\xdd\\xeb\\x07X\\xbf\\xf9\\x1b\\xe7\\xab~\\x0c\\xbfG\\x89\\xb6?nk\\xf1\\x17QG\\x10\\x93\\xfe\\xb4?R\\x9e\\rS\\xc1J\\xc8\\xf4\\xcb;\\xad\\x96\\\\\\xf7\\xae/\\xe2.\\xb1\\x1aY\\xc9\\xf3\\xfc\\xcb\\xf7kS\\xfb\\\\%\\xbe\\xed\\xfbp\\xb5\\xe7\\xbf\\x12\\xf5\\xe4ta$\\x9dj\\xf18\\x8eZ\\x1c\\xac\\xf3\\xb2\\x9c\\xbeS\\xc7+\\x9e=\\xf1CV}\\xb2I${\\xb7n\\xf9\\xab\\xc6\\x13\\xfd?\\xc5Q\\xc7\\x8d\\xca\\xbfv\\xbd\\x07\\xe2\\xa6\\xb6\\x89\\x0bD\\xf2\\x7fz\\xbc\\xe3\\xe1\\xbb\\xff\\x00k\\xf8\\xcd\\xa3\\xfe\\xedxq\\x8c\\xb5\\xa9ml~\\xf5\\x97\\xd1t\\xb0\\x8bM\\x91\\xf4g\\xc2/\\x0f\\xfe\\xfa\\x08\\xc2\\x05\\xfe\\xf5{<\\xe1--\\x04\\x7f\\xec}\\xda\\xe1\\xbe\\x0fi\\x1b \\x13l\\xe8\\xb5\\xddk*#\\x85\\xb1]XX\\xda.v\\xd5\\x9f\\x97g\\xf8\\x9f\\xacf\\\\\\xbd\\x11\\xc3x\\x9a\\xf1KI\\x19\\xaf:\\xf1n\\xab\\xf68ZO3\\xee\\xd7m\\xe2\\xcb\\xb4\\x8a\\xe1\\x9e\\xbco\\xe2\\x8f\\x89\\xd1\\x04\\x91\\xa4\\x9fv\\xa2\\x10\\x9d\\\\JV\\xdc\\xfa\\x0c\\xb2\\x9f-\\x0edy\\xd7\\xc4\\xef\\x16\\xbco\\'\\xef+\\xc4<y~\\xf7\\x96\\xcd!\\xf9\\xbe\\xf6\\xe6\\xae\\x93\\xe2\\x17\\x8b^\\xe6\\xfeH\\xe3\\xf9\\xab\\x83\\xf1\\r\\xcb\\xcdl\\xd1\\xc7\\xf3g\\xf8k\\xf5>\\x15\\xc9\\xa5VI\\xb4|\\xb7\\x15g\\x0b\\x03Cs\\xcd<H\\xff\\x00;yF\\xb9[\\xfbo;\\xf7ru\\xae\\xcfR\\xd3]\\xe6\\x93\\xcc\\x8fn\\xef\\xe1\\xefYO\\xa2?\\x9d\\xfb\\xc1\\xd2\\xbf\\\\\\xc3e~\\xcdF\\xc8\\xfc\\x1f0\\xe2\\xc7^R\\x8f6\\x876\\x9e\\x1b\\xdf\\xff\\x00,\\xdd\\xb7}\\xea\\x9a\\xdb\\xc2\\xbeOX\\xfe_\\xe1\\xafD\\xd1<7\\x0c\\xd0\\xaf\\x97\\x1a6\\xff\\x00\\xbbV\\xbf\\xe1\\x1b\\x87\\xfeZ[\\xfc\\xab^\\xcc0\\x8a0\\xd8\\xf8\\xaa\\x99\\xeb\\x95ww\\xb1\\xc3i\\xba:\"\\xacrG\\xff\\x00\\x01\\xad[=\\x11\\xd3\\xfd\\\\|n\\xfb\\xb5\\xd2\\xa7\\x87-\\xd3t\\x9e_\\xfb\\xb5a4\\x16\\xf9n#\\x8d\\xdbo\\xdd\\xabX_v\\xc6U3\\xbbu0\\xed\\xb4}\\x9cIo\\xb9\\xaa\\xd4~\\x18\\xf9\\xff\\x00\\xd5\\xee\\xdd\\xfc5\\xbfm\\xa6\\xbe\\xff\\x002H\\xf7f\\xb6\\xac4}\\xef\\xf6\\x8f/q?v\\xba!\\x84G\\x91_:\\xa8rv\\x1e\\x1e\\xf2&\\xff\\x00W\\xfe\\xf3V\\xecZ\\x0c\\xdeJ\\xfe\\xedYG\\xcd\\xba\\xb6a\\xd0~\\x7f,I\\xc9\\x7f\\x96\\xb6,\\xf4\\xa4\\xff\\x00W,\\x7f\\xc7\\xf3-t\\xc7\\r\\x19F\\xd6<\\xba\\xb9\\xbdnk\\xdc\\xe4N\\x94\\xc8\\x9f\\xbc\\x8fo\\xf7Z\\xa7M5\\xde\\x1f\\xefWV\\xfe\\x1b\\x86m\\xd6\\xf1\\xfd\\xef\\xefSSA\\x86\\x19\\xbe\\xcfsq\\xb7g\\xde\\xfd\\xdd\\x0b\\t\\x15+\\x9c\\xd53\\x8a\\xf2\\xea\\xce}4\\x19\\xa6\\x7f\\xdeU\\xdbO\\x07\\xa3\\xc2\\xd7\\x11\\xc5\\xb4+V\\xe5\\x82[o\\xf2\\xe4M\\xcf\\xfc+W\\xa1D\\x87\\xf7r|\\xbb\\x93w\\x97]\\x10\\xa5\\x1e\\xc7\\x9fS\\x1d[g\\xab9\\xcbm\\x06\\x1b;\\x95\\x8d\\xe3vS\\xf9\\xd7\\xd3?\\xf0N\\x8f\\tkz\\xef\\xedK\\xe0\\xf8\\xfc?n\\xdf\\xe8\\xba\\x97\\xda.\\xa4\\xd9\\xc2@\\x8aw\\xeeoN\\xd5\\xe2\\x1e\\x1e\\xf0~\\xbd\\xe3\\x0f\\x13\\xd8\\xf8o\\xc3z\\x1d\\xd6\\xa1\\x7f\\x7f:\\xc5gkd\\x99\\x91\\xdb\\xda\\xbe\\xe1\\xf0|\\xde\\x0e\\xff\\x00\\x82l\\xfc\\x1c\\xbe\\x9f\\xc4\\x9a\\x84\\x17\\xdf\\x15|Ie\\xb6\\x1d>\\xdd\\xc4\\x83G\\x89\\xbf\\xbeW\\xbf\\xf38\\x03\\x81[\\xd2\\x82\\x1d\\x18\\xce\\xad_i-!\\x1d\\xcf\\x12\\xff\\x00\\x82\\x8b\\xea\\xba>\\xb1\\xfbU\\xf8\\xc2\\xe3G\\x92&D\\xd4\\xbc\\xb6h\\xb9\\x0f UR\\xdf\\x9d|\\xfc\\x90\\x94\\x9b\\xf7\\x91\\xed\\xdd\\xf2\\xabU\\xff\\x00\\x10\\xf8\\xaa\\xe7X\\xd6\\xe4\\xd65K\\x87\\x9ak\\x9b\\x86y\\xa6\\x97\\xe6gc\\xf3\\x16-Y\\xcfw\\x1d\\xcb\\xb4\\x9f:\\xa7\\xf12\\xd0\\xd4Y\\xcb\\x8a\\xac\\xf1\\x18\\xa9T\\xe8\\xcb\\x16\\x13}\\x9a\\xf1\\x7f\\xbb\\xf7\\x9a\\xa6\\xbc\\xb9\\xf3\\xa2\\xf2\\xe3\\x8d\\xb6\\xef\\xdd\\xba\\xa8\\xdb}\\x9ado.\\xe3n\\xdf\\xbbRM4>O\\x99$\\x8f\\xe5\\x0f\\x93j\\xff\\x00\\xe8TF/\\x95+\\xeer\\xb7\\x08\\xc96[\\x87\\xf7\\xc8\\xba|\\x9f\\xc4\\x95n\\xc2m\\x87\\xec\\xf6\\xfb\\xb6\\x7f\\x13V}\\xb4\\xdff\\x85\\xa3\\x8eO\\xe0\\xfb\\xcf\\xd6\\x98\\x9a\\x9f\\xd8\\xe3\\xcc\\x9f\\xef+V\\x8a6\\xe50\\xf6\\xbe\\xf5\\xcd\\xdb;g\\xfbO\\xda$\\xf9\\x8f\\xf0\\xb3IK3\\xec\\xdd%\\xbc\\x9b\\xb7nm\\xad\\xd6\\xa8Y\\xea\\xaf\\xf2\\xc9\\x1c{\\xa2\\xdb\\xb9Y\\xb8\\xff\\x00\\xbej\\x1b\\x9dn\\x18wy\\x97\\x1f{\\xef5o\\xf6ns]JM\\xdbq\\xd7\\x9a\\xab\\xefY#\\x93\\x82\\x9f2\\xbfZ\\xc1\\xd7\\xb5T/\\xf6h\\xe3\\xdc\\x7f\\x8b\\xd2\\x8dWS\\xfb\\xd7~f\\xe6\\xfb\\xac\\xbdMs\\xf7\\x97\\x93;\\xb4\\x9fh\\xdb\\x9f\\xbb\\xebP\\xe2\\x99\\xd7M8\\xedcJ\\xc3U\\xd8\\xff\\x00\\xbc\\xf9\\xbeeU\\xae\\xcf\\xc3\\xdfc\\x99\\xd6\\xe0\\\\n\\xdb\\xb7lu\\xe6\\xf6w/\\xe7-\\xc4\\x92\\xee*\\x9fv\\xba\\xbf\\x0ck)\\xb2I<\\xcf\\x99\\xbe\\xec\\x7f\\xdc\\xa7EAI\\xae\\xc7>*\\xa5G\\x15\\x17\\xb1\\xea\\x16\\x17\\xe8\\x8e\\xc4~\\xf1>\\xef\\xcb\\xc5r\\x7f\\x11txna\\x92\\xe2_\\xfbf\\xb5\\xad\\xa0M3\\xc3\\xe6In\\xec\\x8d\\xfcT\\xfd{\\xabG\\xe5\\xac\\x83\\xee\\xedN\\x95\\xd6\\xe1\\x1a\\x9b\\x1edjU\\xa5$\\xdb\\xdc\\xf1\\xcdV\\xf3R\\xd3nc\\x8e-\\xea\\x9f\\xef\\xd7Q\\xe1_\\x1e\"^G\\x1cs\\xfc\\x8a\\xbf\\xbc\\xf5\\xa5\\xf1W\\x85R\\xe6\\x1f\\xf4y\\x15\\x9c>\\xd6n\\xd5\\xc3\\xde%\\xce\\x8f\\'\\xfcy\\xba\\xb2\\xbf\\xdeD\\xff\\x00<V\\x16p\\x95\\x91\\xe8\\xaa\\x8a\\xb5$\\x9fS\\xdd\\xe1\\xd7\\xbf\\xb6,<\\xb8\\xe4\\xdc\\xeb\\xf3+\\x7f\\xf6URh\\xf5[o28\\xfe\\xef\\xdej\\xe0<%\\xe3;\\x94H\\xe3\\x92M\\xac\\xbf\\xc3\\xfe\\xd5v\\xd6\\x1e$\\xb6\\xd4\\xbfw\\xa8\\\\mq\\xf7\\xb6`\\xef\\xad\\x94\\x93\\xb2\\xb7\\xc8\\xe3\\x93\\x95)Y\\xbd{\\x98W\\x97\\x97)3I\\x1c\\x8e\\xa8\\xdfy\\x7f\\xf4*\\xa6\\x973\\x1b\\xcf\\xb4\\\\;\\xe1\\xd7\\xef\\x7fr\\xb7\\xb5-6\\xdao2[;wU\\x1b\\xbeg\\xacg\\xb0\\xde\\xed\\x89\\xfeU\\x7f\\xbb\\xe5\\xe6\\xa9\\xc6\\xe5F\\xb2\\x94[l\\x85>\\xd8\\x93}\\xb2\\xdeGo\\xefz\\xd5\\xab\\x0b\\xc7\\xf9\\xa4y\\x16=\\xbf5A\\n\\xeaW2}\\x9eI6\\xba#m\\xdb\\xc1\\xa6^i\\xb7\\x96\\xc9\\xf6\\x7f\\xb3>\\xc5\\xfb\\xb2wzV\\xb4\\xc8u\\x14\\xa5\\xca\\xf7%MV\\xe7\\xed,.cH\\xf7\\xb7\\xde^~Z\\x98\\\\\\xde?\\xef$\\xdc\\xb8\\x7f\\xdd\\xb7m\\xb5\\x9dm\\xb3\\xed?\\xe9\\x12,\\x88\\xc9\\xf4\\xab\\xf3C\\x0c\\x9aj\\xec\\x91\\x997\\xfc\\xbe\\xbf\\xf0*z\\xbd\\x95\\x89rjj\\xe7\\x93\\xa43:y\\x9ftT\\x89l\\x9b\\x1b\\xcc\\xfe\\x1azBaLIR\\xfc\\x89\\x0f\\x97\\xe5\\xee\\xcf\\xf1t\\xaf\\x9dn\\xe7\\xda\\xfb\\xda\\xf9\\x90\\xba%\\xb7\\xfc{\\xc7\\xb9\\x97\\xef3\\xd2|\\xfb<\\xc9>\\xf5H\\xef\\xfb\\xbf/\\xcc\\xdb\\xb7\\xf8\\xa9\\x896\\xfd\\xdf\\xec\\x7fz\\x9f2\\xe87\\x17\\x18\\xd9\\x11\\xdb\\'\\x9c\\xfe\\\\\\x92yj\\xdf.\\xea\\xb1sol\\x9f\\xbb\\xf3:\\xd4A\\x11\\xd1d\\x12}\\xdf\\xbc\\xb4M\\x0f\\x9c\\xeb\\xfb\\xcd\\xc7\\xf5\\xa6\\xe4\\x90\\xe2\\xa3-\\xb7#\\x8b\\xc9\\x83\\xf7rn\\xdb\\xbb\\xefT\\xae\\xfb\\xdd\\x7fy\\xe6\\x00\\xd5\\x07\\xc9\\xb1\\x87\\x96\\xcd\\x87\\xfb\\xb55\\x84/y\\xfe\\x91\\x1c{B7\\xcd\\xba\\xb1s\\xb4\\xach\\xa0\\x96\\xbd\\x07B\\x1eY\\xbc\\xb3\\xb1w\\x7f\\r^\\xd3a\\xd9$\\x91\\xc9\\x1e\\xe3\\xfcMM\\xb6\\xd3|\\x97\\xfbD\\x9f/\\xcd\\xf3U\\xef\\xb3\":\\xc9\\x11\\xda?\\x8a\\xae\\xdc\\xfb\\x91)rl-\\xb3\\xbc;c\\x8e\\xa6\\xfb\\x8e\\xd1\\xc9\\xf3g\\xe6Z\\x85\\xe6\\xd8\\x1b\\xf7\\x7f2\\xfc\\xbe\\xf5\\x14\\xd7\\x93I\\xfb\\xc9$\\xf9(\\xd0\\xc7\\x9d\\xcaV\\'I\\xbe\\xf4w\\x11\\xed\\xff\\x00j\\xa3\\x7f\\xbf\\xfe\\xb3s-D\\xf7/\\xb3\\xcb\\xf9\\xf9\\xfe\\x1a\\x11\\xfe\\xcd\"\\xc9$\\x7fz\\xab\\x9d\\x15\\x18\\x87\\xf1\\xb7\\x95&\\xec\\xfd\\xe5\\xa7C\\x0ci\\xfe\\xd3\\x7fz\\xa6\\x86\\x19\\xbc\\xf6\\x928\\xfeV\\xfb\\xcdJ\\x93C\\r\\xef\\xfa\\xbd\\xc3\\xfb\\xcbR5h\\xdb\\xcc\\xaf3\\xef\\x0b\\xe5\\xc7\\xc7\\xf7h\\xf2p\\xeb\\xe6G\\xb7\\xfb\\xb4\\xfb\\x97\\xde\\xed\\x19\\x93\\xf8\\xf7-E\\xf6\\x97\\xb6\\xfe\\xf3\\x7fu\\xa97a\\xc6)\\x96\\x1d\\x1e\\x17_.6j}\\x9d\\xe0\\xf3\\x9a)#\\xfb\\xb5\\x15\\xb5\\xc9\\x9al\\xe3\\x86_\\x9buJ\\x89\\xb1\\xe4\\x92M\\xf8\\xfe\\x15J\\xa5\\'\\x1d\\xc1F;\\xad\\xc9<\\x97\\x95\\xdaH\\xe4o\\xf7V\\xa6HvB\\xb7\\x1e^\\xe1\\xfa\\xd4V\\x0e\\xe9\\xb6Y>\\xedN\\xf7.\\x9b\\xbc\\xb1\\xfc\\x1f\\xea\\xe8\\x84\\x9fq\\xbb>\\xa5w\\xff\\x00\\\\\\xb2${\\x7f\\x85wS\\xe6\\x99\\xff\\x00\\xe7\\x9f\\xcb\\xfd\\xea\\x8b{\\xc8\\x9f\\xbc\\x8f\\xfd\\xd5\\xa7\\\\\\xbcsyq\\xf9\\x9b]~\\xf6\\xda\\x99\\xdc\\xa5\\xa143&\\xcf3\\xee\\xb7\\xdd\\xab\\x10\\xcdr\\x9f\\xbc\\xfb\\xc1\\xbe\\xf7\\xa5PDO\\x9b1\\xedO\\xe2\\xab\\x90\\xca\\x89\\x0f\\x97\\x1f\\xef\\x17\\xfb\\xd57\\xf7lTT\\x94\\xce\\xf3\\xe0\\xb5\\xf3\\xc3\\xaf4\\x92G\\xb4.\\xdd\\xb5\\xf5\\xf7\\xc3mU\\xff\\x00\\xb3a\\x96G\\xe0\\xd7\\xc7\\x1f\\t\\x7f\\xd35%\\x8e?\\x97s|\\xd5\\xf5\\x7f\\x82.\\x8d\\x9e\\x8d\\x0crI\\x86_\\xbb_\\x8cx\\x8fN\\xa4\\xa6\\xa5\\xd0\\xfe\\xa6\\xf0mByL\\xa9\\xa5\\xab;\\x7f\\x10kA!!\\xfb\\xd5\\xef\\x08\\xeaK\\x12y~\\x7fZ\\xe2u-U\\xee\\x99\\x7fy\\xf2\\x8a\\xd0\\xd1\\xb5p\\xa8\\xae>_\\xf6k\\xf1\\t\\xd5\\\\\\xf2\\x93wg\\xec\\xf5r\\xff\\x00\\xf6^K\\x1e\\x93u\\xac\\xaaY\\x9c\\xc9\\xfc?v\\xbc\\xd3\\xe2F\\xb7\\xe6\\x8f-$\\xe2\\xb7.|C\\x9b?,\\xbfU\\xf9\\xab\\x80\\xf1\\xb5\\xff\\x00\\x98\\x1aI$\\xfa\\xb5rW\\xad&\\x9cV\\xec\\xcf$\\xcb\\x94qZ\\xa3\\xc8~+\\xdf\\xab\\xf9\\x91\\xe3\\xfe\\x05Y\\x1f\\xb3\\xecI\\xa9x\\xbeo.]\\xcb\\x16\\xdaw\\xc4\\xb7w\\xf3<\\xb97S\\xff\\x00d\\xe5MC\\xc67\\xc9\\x18\\xc6\\xcd\\xbb\\x8duS\\x8c\\xde\\x05\\xbb\\x1f\\xa2\\xd4\\x94i\\xe1$\\xd7c\\xed\\x8f\\x86\\x96\\x9fc\\xd0\\x93\\x07$\\xadK\\xe2K\\xbd\\x96\\xd2o\\xe9Ph7\\xdfg\\xd3#\\x85>P\\x17\\x15\\x8b\\xe2\\xfdq\\xcc\\x0c\\x9b\\xebHJ\\x0e\\x92]\\x8f\\xc6\\xe3F\\xa6#0\\x94\\xbb\\xb3\\x81\\xf1\\xe6\\xbc\\x96p\\xcd$\\x92u\\xfb\\xb5\\xf3\\x97\\xc5\\x7f\\x19\\xa2$\\x9f\\xbc\\xafV\\xf8\\xc3\\xe2\\x1f!$\\xf2\\xe4\\xe0#W\\xc9\\xff\\x00\\x15\\xfct$\\xb9\\x92=\\xfb~\\x7f\\xe2\\xafO\"\\xc2,F+Us\\xed+/\\xaa\\xe0~G=\\xafk\\x0bs\\xa94\\x98\\x7f\\x9b\\xf8j[dI\\xa1h\\xff\\x00\\x8f\\xf8Z\\xb9[\\xcdVG\\x99n#\\xf9\\x96\\xbb\\x1f\\x04\\xc6\\x9a\\xaaG\\x1c\\xb1\\xee?\\xde\\xaf\\xe8~\\x1a\\xcb\\xa3J\\x9d\\xda\\xd4\\xfe^\\xf1\\x1b\\x88*NR\\x82f\\x16\\xa5\\xa0\\xfe\\xf9\\xbfw\\xb8\\xff\\x00z\\xaa\\x7f\\xc2\\x12n\\xd1\\xa4\\xf2\\xf6\\xec\\xf9\\x99zW\\xa3\\\\\\xf8z\\x1d\\xfeT\\x9fy_v\\xda\\x13D\\xb3go6=\\xbf\\xca\\xbe\\xe5A(\\xd8\\xfc9\\xe3\\xa7-\\xd9\\xc4\\xf8{M{=\\xb1\\x88\\xf7&\\xfa\\xd8\\x9bH\\x87\\x7f\\x99\\x17F\\xfe\\x1a\\xd5\\xfe\\xcdH\\x7f\\xd6H\\x8b\\xb7\\xefS\\xa6uH|\\xb9?\\x87uT \\xe2sO\\x10\\xdc\\xbd\\xdd\\xcckm*\\x1f9\\xa3\\xb8\\x8fk\\x15\\xab\\x13h\\x88\\x8e\\xb2F6\\xa0\\xfe.\\xd4M6\\xc9\\xbc\\xc8\\xe2\\xda\\xad\\xfcT\\xff\\x00\\xb6L\\xfbd\\x12\\xee\\xd8\\x9f4u\\xa2\\x85\\xfa\\x19T\\xab5+\\x94\\xf6#\\xcc\\xd1\\xc7\\xb3j\\xfd\\xe6O\\xefV\\xf6\\x82\\xf6\\xd2\\xfe\\xeb\\xccUtM\\xdf=f\\xdf\\xba$*\\xf2m\\xda\\xab\\xf7\\xbaVT\\xd7\\x97(\\xeb%\\xbe\\xfe_j\\xec\\xad)\\xc6\\xdd\\x0eI\\xd4\\xf6\\x97\\xb3\\xdc\\xea\\x9d \\x7f\\xdey\\x88\\xbf5\\t~\"O\\xdd\\xc7\\xb8\\'\\xf1S\\xfc\\x13\\xf0\\xd3\\xe2\\xef\\x8f.V?\\x05\\xfc?\\xd5\\xf5\\x08\\xff\\x00\\xe5\\xa4\\xc9jDi\\xff\\x00\\x038Q\\xf9\\xd7\\xa5\\xd8~\\xc8\\xbe?\\x8e\\xda9<Y\\xe3O\\n\\xe8!\\xbei#\\xd4u\\xc8\\xfc\\xdf\\xfb\\xe57V\\x90\\x83\\x14h\\xd7\\x93\\xb3\\x8e\\x9fw\\xe6y\\xc5\\x9e\\xabm3\\xf9\\x92G\\xb5\\x9b\\xef5#\\xdeZ\\xdd\\\\0\\xf3\\x1f\\xef\\xee]\\xdcW\\xa6[|\\x01\\xf8\\x15\\xe1\\xef2O\\x1a~\\xd2\\x9a[H\\x9f3Z\\xe8\\xdal\\xd3\\xbb\\xff\\x00\\xc0\\x9bh\\xa9\\x93\\xc7_\\xb1W\\xc3\\xd7\\xf34\\xbf\\x87\\xfa\\xf7\\x8b\\xae\\xa3\\xf9Vmf\\xf8[C\\xfe\\xf6\\xc8\\xb9a\\xf8\\xd6\\xbe\\xce\\xd1\\xb3\\xdc\\x95\\x85\\xbe\\xf2K\\xe7\\x7f\\xc8\\xf2\\xdbi\\xaec\\xb9i-\\xed\\xdd\\x9a4fm\\x91\\xff\\x00\\xe3\\xd4\\xfd\\x13\\xc5^\\x03MV8\\xfcY\\xe2\\x87\\xb7@\\xff\\x00\\xbc[$\\xf3_\\xfd\\xde\\xc0W\\t\\xfb`\\x7f\\xc1@\\xb5_\\x89p\\xff\\x00\\xc2\\xbb\\xf8o\\xe1}#\\xc2\\xfa\\x1d\\xab\\xfe\\xfa\\xd7F\\xb5\\x11\\x9b\\x96_\\xe2w\\xfb\\xce\\x07l\\xfdk\\xe6\\xcf\\xf8X\\xba\\xad\\xb4\\xcdq\\x15\\xe3\\xb37\\xf1y\\x95\\xf3Y\\x96r\\xe9\\xcf\\x96\\x85\\x99\\xfb\\xdf\\x06xM\\x96\\xe2\\xb0Q\\xc5\\xe6\\xf3o\\x9bU\\x04\\xec\\xed\\xe7\\xfeG\\xea\\xc7\\x80?m/\\x85\\x7f\\x0e|6\\xde\\x0f\\xfd\\x94\\xfe\\x1b\\xbd\\xaf\\x89.\\xedZ+\\xaf\\x16j\\xfb&\\xbb\\xff\\x00k\\xca\\xdb\\xc2~U\\xe1\\xbe=\\xf1\\x0f\\x8c\\xb5-~\\xe3T\\xf1\\xc6\\xa1u5\\xdd\\xcc\\xbb\\xe4\\xba\\xba\\x90\\xbb\\xbb\\x7f\\xbc\\xddk\\xe4o\\x86?\\xb4\\xb6\\xb7\\xe0o\\x12[\\xeb\\x96\\xff\\x001\\x8d\\xfee\\xaf\\xab|g\\xfb^\\xf8\\x1b\\xe3\\xb7\\xc3\\xdd6=s\\xc3qi\\xba\\xdf\\xca\\xb2_E\\xb0\\xc4\\xfb\\x7f\\x88\\xed\\'i\\xef\\xce\\rwe\\x98\\xf8\\xe2i^\\xac\\x92\\x97c\\xbb\\x8b|2\\xca\\xe5EG+\\x8c\\x92_\\xde\\xba\\xbf\\x9a\\xfdQ\\x8by\\xa9l\\x83e\\xbd\\xc72\\xbdQ\\xb9\\xd6\\xbe\\xcc\\x8b\\x1f\\x99\\xfe\\xf2\\xd6-\\xcd\\xfb\\xa4\\xcb\\x1c\\x92,\\x9b~\\xeby\\x9cU\\x07\\xd5fK\\x8f.H\\xd5\\x90W\\xac\\x94e\\x1ee\\xb1\\xfc\\xe5^\\x85|5yQ\\xaa\\xad(\\xbb5\\xe8uV\\xd7\\xff\\x00\\xea\\xe4\\x8f\\xe6/\\xf7\\x97\\xb5Ms\\xaa\\xddy+\\x1c\\x9d\\x9a\\xb9\\xbb\\x0b\\x97\\xf9L\\x9f*\\xd6\\x843Gym$q\\xc6\\xea\\xea\\xdfy\\xfaUA\\xf2lqTrv\\xd0\\xdf\\x87X\\x8d1\\xfe\\x91\\xbbr\\xff\\x00\\x1dG6\\xab\\xe7?\\xfa\\xcf3g\\xdd\\xec+%\\xee^\\xcd\\xe3\\x8eH\\xd7w\\xfbuZ\\xfe\\xfd3\\xe5\\xc9&\\xdc\\xff\\x00\\x12\\xd6\\xb2\\x93\\xe5\\xb9\\x86\\x9a\\xe9\\xa9\\xd0\\xd9\\xf8\\x86k\\x94k9#M\\x89\\xf3-\\x13j\\xb0\\xf9>d\\x91\\xf9\\x80\\xfd\\xd5\\xaeK\\xfba\\xe1\\x93\\xf7\\x9f7\\xf0\\xb5N\\x97\\xfev\\xef\\xdem\\xf9\\x7f\\xd5\\xa7\\xf7i*\\xbc\\xd1\\xb3\\x08\\xd2\\x93\\xe8X\\xd5o\\xfc\\x9f\\xf9h\\xf8\\x7f\\xba\\xb5\\x9c\\xf7\\x8f3\\xb4~g\\x99\\xb7\\xf8\\xa9\\xd7\\xfa\\xcd\\xb5\\xcd\\xae\\xff\\x00\\xb1\\xa2\\xec\\xf9\\xa3^\\xf5\\x81y\\xa9|\\xeb\\xf6y?\\x8b\\xe6U\\x93\\xeeS\\x93q5\\xa6\\x9c\\xe3x\\xb3R\\xe7R{k\\xa8\\xff\\x00\\xbb\\xfc;:\\xd6\\xff\\x00\\x87\\xaf,\\xf7\\xf9bM\\xad\\xf7\\xab\\x82\\x9b[I\\xaec\\x8eH\\xbf\\xd9\\xdd\\xda\\xba\\x1d\\x12\\xe5<\\xe8\\xe3\\xf37l\\xf9w-*m=z\\x93Z1Q\\xb1\\xea\\x9e\\x1b\\xf1\\x15\\xb2C\\x1c\\x91\\xc8\\x8c\\xe57I\\x1b\\xc9\\xcf\\xfc\\n\\xb4nuX\\xef\\x129/.<\\x95\\xff\\x00\\x96-\\\\F\\x8f3\\xc6\\xfe_\\x97\\xe5\\xfd\\xdd\\xb2\\x7f}k}\\xef\\xd2ki#\\x8e5m\\xcd\\xf8\\xd7bpQ\\xb1\\xe4J\\x13\\x84\\xf5\\x16\\xf2\\xf1&Y<\\xb3\\xb9U\\xff\\x00y\\'\\x99\\xfd+\\x13\\xc4!\\xe5\\xff\\x00\\x96i\"\\x84\\xf9\\xaa;\\xcdJk8Z\\xde\\xdf\\xfb\\xec\\xcc\\xcf\\x1dG\\xfd\\xaa\\x9b\\x16K\\xcd\\x91\\xaf\\xdd\\xdc\\xfco\\xa4\\xac\\xb7W4\\x83\\x97+qg\\x17yk\\x7fm3[\\xdb\\xc8\\xea\\x0b3F\\xc9\\xc1\\xad\\x1f\\r\\xf8\\xb6\\xe7M\\x7f.\\xe2\\xe1\\x98\\x8f\\x95\\x9a\\xae\\xdf\\xd8%\\xfe\\xeb\\xc8\\xe4UwfUn\\xfcW\\x11s\\x1d\\xe5\\x9d\\xcc\\x91\\xdeI\\xb5Ww\\xfc\\x0e\\xa3Ht:\\x93\\xa7\\x88\\xdfS\\xdc\\xbc1\\xe3\\x94\\xd4\\xad\\xbc\\xbb\\x8d\\x92\\x0f\\xb8\\xbb\\xf8\\xad\\x8b\\xc8\\\\\\xd9\\xfd\\xb2\\xde=\\xca\\xcd\\xb7r\\xd7\\xcf\\x9e\\x1e\\xf1\\xcc\\xd6syq\\xdcnU\\x7f\\xf5m^\\xb3\\xe1\\x8f\\x89\\xd6w\\x96q\\xdb\\xdcI\\xb5\"_\\xba\\xd5\\xacjJG\\x1dl;\\xa5SM\\x17cV\\x14\\xbc\\x86\\xe7\\x12[\\xa4l\\xf2\\xedY\\x1f8\\xab\\x92\\xf9\\xce\\x9fg\\xb9\\x92)<\\xaf\\xbc\\xb1\\x7f\\xf1U2jv\\xda\\xad\\xb2\\xfd\\x9e4o\\x97tj\\xfd\\x1e\\xb3f\\x89\\xf4\\xdd\\xd7\\x12~\\xf8\\xd5E\\xb6\\xadc\\x17\\xc8\\xfa\\x95\\xa6\\xb0\\xd3]\\x16K=\\xfb\\xdb\\xfeY\\xd3\\xef\\x11\\xd1<\\xbb8\\xbc\\xb4+\\xf3/\\xfb\\xb4\\xcb=W~\\xdb\\x99#\\xe5_t+\\xb3\\xee\\x7fz\\x8f\\xed/\\xb6\\\\\\xc7\\xe6J\\xb9]\\xdb[\\xb5S\\x9d\\xe3k\\x02\\xbb\\x95\\xaey\\xe2C\\x87i$\\xd9\\x85jo\\x93\\x0e\\xf8\\xfc\\xb8\\xff\\x00\\x8bm5<\\xef\\x969#\\xdb\\xb7\\xefo\\xab\\x0e\\xff\\x00\\xb9_\\xde}\\xef\\xbb\\xb6\\xbebN\\xd1\\xb9\\xf7\\xcb\\xdd\\xdc\\xac\\xf0\\xa7\\x9c\\xd2y\\x7f\\xf0\\x1a\\x98\\xdb@\\xe8\\xd2y\\x9fw\\xfdgj\\x8d\\xe6\\x7f\\x9a9c\\xdd\\xfd\\xdaW\\x99\\xdd\\xbfw\\xb5\\x7f\\xbc\\xb5)\\xc9\\x95{\\xec=\\x12\\x1f\\x9a\\xdf\\xf8?\\x86\\xa0\\xf9\\x1d<\\xc8\\xe2\\xdb\\x8f\\xbc\\xd4O6\\xf4\\xf2\\xfe\\xedF\\x91\\t\\xbf\\xd1\\xfc\\xcd\\xbeo\\xf1S\\xe7A\\x1a|\\xb7\\xb7RTHvyv\\xf2;o]\\xdb\\xaa\\xe6\\x9b`\\x9f\\xea\\xe4N\\x1b\\xf8\\xa9\\xfan\\x8f\\xe4\\xa7\\xd9\\xe4\\xf9\\xbf\\xba\\xdd\\xaa\\xeb\\xdb=\\x84-\\x1c\\xb1\\xfc\\xcbT\\x92\\x8e\\xe6R\\x9b\\xe5\\xb8\\xebi\\xa1\\x85\\xd7\\xf7{\\xbf\\x85\\x96\\x91\\xdei\\xa4\\xf2\\xe4\\xdd\\xb7\\xfd\\xba]\\xfeJy\\x92I\\xd5w+T\\x13M\\xbee\\xf2\\xe4\\xda\\xe3\\xff\\x00\\x1f\\xa7\\xcf\\xe4\\x0b^\\xc1r\\xe9\\xbdc\\x927f\\xfb\\xac\\xd5\\x13\\xe5\\x1f\\xcb\\xfb\\xdf\\xdd\\xa1]\\xdeo\\xdd\\xc7\\xcf\\xf17j\\x93f\\xcd\\xaf\\x1f\\xfc\\tz\\xfc\\xd4\\x85\\xa2\\x86\\xa8o\\x92\\xe8\\xff\\x00\\xbc\\x8fh\\xd9\\xf2\\xd4{\\xfc\\x9d\\xbed|U\\xe2\\xef3\\xfe\\xf3\\xee\\xaf\\xdeT\\xa8.~\\xff\\x00\\xef-\\xf6\\x8f\\xe1\\xd9AM\\xb4Gmx\\xefo\\xe5\\xc9\\xbbi\\xfe.\\xf4\\xaf\\xf3\\xc2\\xd2G#/\\xf7\\xa9\\x1f\\xe5\\xfd\\xdcr?\\xfb+L{\\x98]\\x168\\xe4\\xe1\\xbe\\xed\\'&\\x89\\xe5R\\xb7\\x91\\x04/\\x0f\\xda\\xbc\\xcb\\xcf\\xeeS\\xf7\\xcd\\xf3I\\xf3\\xb2\\x7f\\xcb:\\x8d\\xdd\\xde\\xe7\\xcb\\xf2\\xfej\\xbfaf^e\\xf3.6\\xed\\xfb\\xabK\\x9aE\\xf2\\xa8\\xca\\xe2[$\\xc8\\x8bq\\xe5\\xed\\xcf\\xca\\xcbW\\xb6F\\x15\\xa4\\xfb\\xbf\\xdeZ\\x95\\xe1Hm\\x9b\\x7f\\xcd\\xb9\\xfeZ.\"Du\\x8f\\xcc\\xda*\\x93\\xe5\\xbd\\xfa\\x12\\xe5gb\\xb3\\xbe\\xcd\\xb1\\xc5\\'\\x1fy\\xb7\\xd3\\xe0\\xbc\\x84~\\xeeO\\xbc\\xdf*\\xd4W\\x89\\x9d\\xb2I&\\xd3\\xf7V\\x84x`\\x9e9$\\xdc\\xc1~Ve\\xa5r\\xb5\\xeeH\\x88\\xaf3Gq&\\xdf\\xf7\\xe9\\x1d>v\\x8f\\xe5_\\xe1Y)\\x8f6\\xfd\\xdf\\xbb\\xf9\\xb7\\xfc\\xb4\\xd8\\xfe\\xcd\\xf3<\\x9b\\xd6\\xa0\\xb4\\xac?\\xf7\\xd6\\xc9\\xe5\\xf9\\x9b\\x8f\\xf1T\\xc9\\xe5\\xef\\xfd\\xdc|\\x7f\\rI\\x0f\\xf1G$j\\xdb\\xbf\\x8a\\xa7D\\x87\\xc9\\xff\\x00W\\xb7g\\xe7J\\xf7\\xd8\\xd4\\xed\\xbe\\x08B\\x90\\xeb\\rq\\x18\\xf9\\x99\\xeb\\xe9}\\x1e\\xf2\\x14\\xb0\\\\\\xf5o\\xe1\\xaf\\x9a~\\x12\\xdd\"N\\xa6=\\xab\\xb9\\xb7W\\xb7\\xe9Z\\xbf\\xfa2\\xe6NW\\xf8\\xab\\xf2n:\\xa6\\xeaV\\xda\\xe7\\xf5G\\x83\\xb3\\xa7G/\\x8e\\xa7M\\xa8\\xea\\xa6\\x18\\x8c\\x89\\xc7\\xa5.\\x91\\xad$\\xce\\xb1\\x89>j\\xe5<c\\xe2D\\xb3\\xb6\\x8e?3n\\xe6\\xf9\\xaa\\x0f\\n\\xf8\\x87\\xed\\x97+\\x18\\xe9\\xfd\\xea\\xfc_\\x11\\x95U\\x9c\\x9bKG\\xe4~\\xf3[\\x1f\\x86\\xa7I%\\xd4\\xf4\\xf9\\xef\\xf7\\xc2\\xa9\\x1b\\xff\\x00\\xbd\\\\\\xb7\\x8b\\xef\\x1edh\\xb1\\xba\\xb4m\\xb5$p\\xbf\\xde\\xfe\\x1a\\xc1\\xf1<\\xcc\\x8f$x\\xdd_=_\\x0fR\\x85[3\\xa7.T\\xe4\\xf9\\xd1\\xe5~<D\\x91$\\x1e_\\xfc\\n\\x9f\\xfb\\x1al\\xff\\x00\\x85\\x83\\xafa\\xf6\\xec\\x8e=\\xab\\xf9\\xd3\\xfcy\\x0e\\xfbi$\\xaa?\\xb1\\xd5\\xcb\\xa7\\x8b<Gp\\xe7v\\xe9\\xd17/\\xb2\\xe7\\xff\\x00f\\xafZ\\x92\\x94r\\xda\\x8d\\x7fZ\\xa3\\xd3\\xad7R\\x84\\xe2\\xba\\xa3\\xeb\\xcd7]\\tg\\xb2I1\\xf2\\xfd\\xea\\xe7\\xfcI\\xaby\\xc6A\\x1c\\x9cVtz\\xab\\x01\\xc0m\\xb5\\x9f\\xab\\xea`\\xc6\\xdea\\xfb\\xd5\\xe2\\xc2\\xab\\x9f,d\\xf4>k\\x0f\\x97(Wr\\xb1\\xe3\\xff\\x00\\x1c\\xb5\\xe7\\xb6\\x86@d\\xeb\\xb9k\\xe3\\x9f\\x89\\xde\\'w\\xd5Z;\\x89>V\\x7f\\x99\\xab\\xe9\\xaf\\xda\\x1fU\\xf2m\\xa6\\xf2\\xe4\\xe3\\xf8\\xab\\xe3?\\x89\\x1a\\xaf\\xdau)\\x1f\\xcd\\xfe:\\xfdK\\x83p\\xdc\\xf2\\xbd\\xaes\\xf1-eC\\t.\\xd6=\\xd3\\xc2?\\x04\\xfc\\x1fy\\xa2Z\\xeb\\x9a\\xa7\\xc6\\x8d\\x1a\\xd6)SsC\\xe4M$\\x9f\\xee\\xe0\\x01\\xfc\\xeb\\xd7\\xfe\\x0f\\xfc7\\xfd\\x95\\xec\\xe0k\\x8dw\\xe3f\\xaf\\xf6\\x8f\\xf9g5\\xbe\\x86\\x0c\\x1f\\xf0%g\\xdd_,\\xf8GR\\x99\\xf4\\x1bx\\xe3\\x8f\\xfeY|\\xcd^\\x87\\xf0\\xf6\\xe5\\xef7\\\\G&\\xd1\\x17\\xe4\\xf5\\xfd\\x0f\\x81\\xa0\\xa1N\\x12\\xe5\\xb2V?\\x86\\xf8\\x9f7\\x9dLmD\\xec\\xec\\xdfC\\xe8\\x1dW\\xf6{\\xf0\\x96\\xbdx\\xda\\x8f\\x85\\xfe:xjhO\\xcb\\x1f\\xdb\\'\\x92\\xd9\\xff\\x00\\x15d?\\xce\\x99\\x0f\\xec\\x9d\\xa9L\\x8b\\xf6?\\x8d\\x9e\\x03\\x91\\xdd\\x7f\\xd4\\xbe\\xbf\\xb7\\xff\\x00B@+\\xc4u\\xedK|\\xab\\x1d\\xbd\\xc3\\xa9_\\xbd\\xb2\\xb2f\\xf1&\\xa1\\x0b\\xad\\xbf\\xda\\x19J\\xfc\\xbb\\xb7\\xd7\\xb3d|\\\\+\\xc5\\xc6\\xf2\\x82\\xfc\\x7f\\xcc\\xf7M{\\xf6N\\xf1m\\x87\\x97\\xf6\\x9f\\x1exB@\\xed\\xfc>\\'\\x83\\xee\\xff\\x00yk\\x97\\xd4?g\\xeb=/t\\x9e(\\xf8\\xe1\\xe1+\\x10\\x9f\\xeb<\\x8b\\xb7\\xba\\x7f\\xfb\\xe6!\\x8f\\xd6\\xbc\\xbf\\xfbb\\xf6\\xeb\\xf7\\x92\\xdcJ\\xd8\\xfe\\'sYw777.\\xd2I#\\xef\\xfe*9S\\xdc\\xa7\\x89\\xa7\\xad\\xa2\\xbe\\xf7\\xfeg\\xb3[x3\\xf6Q\\xd1\\x13\\xcc\\xf1\\'\\xc6\\x8doR\\xcf\\xca\\xd1\\xe9\\x1a0\\x88\\x7f\\xc0ZB\\x7f\\x95Y\\xb3\\xd6?bK7\\xf2\\xe3\\xd1\\xfckx\\xfb~o7R\\x86 \\xf8\\xff\\x00v3^\\x15smp\\xe8\\xbec\\xed_\\xee\\xf45$?\\xb9\\x99c\\x93\\xe5\\xd8\\x9f7\\xfbuJQP3u\\x9c\\xd5\\xa2\\x97\\xdc{\\xb5\\xff\\x00\\xc4\\x8f\\xd9/M\\x85N\\x9f\\xf0\\x1bR\\xbafO\\x95o\\xfcF\\xf8\\xff\\x00\\xc7\\x10Vg\\xfc5.\\x8f\\xe1\\x8d\\xd2|3\\xf8\\'\\xe1]&t\\xff\\x00Wx\\xd6?j\\x99?\\x19I\\xaf&\\x86\\xf2\\x17\\x9b\\xcc\\x925]\\x9fu\\x9f\\x9a\\xa94\\xdf;<c\\xfd\\xea\\x1dE\\x18\\xd9!F\\xadn\\xff\\x00\\x85\\x8e\\xff\\x00\\xc5_\\xb4\\x9f\\xc6\\xcf\\x1b;\\x7f\\xc2I\\xe3K\\xf6\\x84}\\xdbx$\\xf2\\xa2\\xff\\x00\\x80\\xaa`b\\xb9\\xbf\\xed[\\x99\\xff\\x00y\\xf6\\xc7fg\\xdc\\xdf>k\\x17\\xed\\x88\\x90\\xb4roQ\\xbf\\xe5\\xa4MJ8\\x1f\\xcb\\xfe%\\xf9\\xb7P\\xaaK\\xec\\x98MJ{\\xb3W\\xfbBi\\xa6i.+\\x9c\\xf8\\xa3\\xaf>\\x83\\xe0k\\xedb;\\x8eR-\\xb1\\xff\\x00\\xc0\\x99S\\xff\\x00f\\xab\\x13k\\t\\xf3~\\xf3\\xe5\\xd9\\xbbuq\\xff\\x00\\x18\\xfc\\xedc\\xc0\\x97\\x91\\xd9\\xc8\\xf22\\xc5\\xbe8\\xff\\x00\\xdd\\xc37\\xfe\\xcdN\\xbbr\\xa6\\xda\\xdd\\x9b\\xe5\\xb1\\xa0\\xb3\\x1aJ\\xa2\\xd3\\x99_\\xd2\\xe7\\x83\\xdf\\xeaOs4\\x972I\\xf3;}\\xea\\xa7\\xbfx\\xfd\\xe5P\\xfbc\\x97\\xe9\\xba\\xa5\\xfbN\\xfa\\xf8\\x19\\xc1\\xf3^\\xc7\\xf5\\xfd\\x1ce\\xe9ECd\\xac\\x89|\\xed\\x9f\\xbc\\x8e\\xb5\\xbc=\\xaf][\\\\\\xaf\\xfaD\\xaa\\x9b\\xbeeI1X^rl\\xfd\\xe7V\\xa9,.sy\\x1cq\\xfc\\xcc\\xcfS\\x18\\xb9=\\ra\\x8exu\\xcc\\xe5c\\xea\\xdd\\x07U\\xfb\\x7f\\x86,nL\\x9b\\x8b@\\xaa\\xad\\xfe\\xedF\\xf2M\\x14\\xcd\\xf6\\x89>_\\xe2\\xaa~\\x1e\\x9d4\\xdf\\r\\xd8\\xe9R\\xdc|\\xf6\\xf0.\\xef\\xe7S]Mm27\\x99p\\x92o\\xfe$\\xaf\\xbd\\xc2;P\\x85\\xf5\\xb2?\\x91\\xb8\\x8e\\xbc1\\x19\\xde&\\xac6\\x94\\xdd\\xbe\\xf2\\xd3\\xeb\\x10\\xa24\\x91\\xder6\\xb6\\xda\\xd4\\xd2\\xb5\\xef9\\x168\\xb6*:nf\\xef\\\\\\xcd\\xe5\\xb4)\\xa7\\xb7\\x99&\\xef\\x97\\xefVm\\x9e\\xbd5\\xb6\\xd8\\xfc\\xcd\\xbb>Z\\xe8rq\\xd8\\xf0\\xa5J3\\xdbs\\xd1no\\xd2i\\x97\\xec\\xc1\\xa4\\xdd\\xfcU\\x97y7\\xcf$\\x91I\\xf7~\\xf2\\xb5cY\\xf8\\xaa\\x1d\\x9e\\\\\\x7f+\\xff\\x00\\x0f\\xef)\\xb7\\x9a\\x93\\xba/\\xf1\\x0f\\xe2\\xab\\x9b\\xbc\\x0ci\\xc7\\x96z\\x92\\xcd\\xaa\\xdc\\xa6\\xeb\\x8f3\\xe6\\x0f\\xfct\\xe4\\xd7nD\\xcb$\\x92&\\xe6M\\xad\\xe9X\\xbf\\xdb\\t\\xf6\\x9f\\xb3\\xdc}\\xcf\\xba\\xbb)\\x97S:B\\xde_\\xde?4mQ\\x07y\\xaf#YA\\xaek\\x1d\\x1e\\xa5\\xaa\\xc3\\xb1m\\xed\\xe5l\\xed\\xf9\\x99\\xeb\\x9f\\xbf\\xd6f\\x85\\x1b\\xf7\\x8b\\x89>f\\xecj\\x9d\\xce\\xb0\\xe9\\n\\xc7\\xe6|\\xcb\\xf3mj\\xc5\\xd65\\xbf\\xb4\\xbf\\x97,\\x9b\\x7f\\xbdS\\xedo\\xb8B\\x87\\xbd\\x16m\\xd9\\xdf\\xa2:\\x9f\\x99\\x95\\xfe\\xf6\\xea\\xeatK\\xc4\\xd9\\x1c\\x9fle/\\xf7}\\x7f\\n\\xf3/\\xed\\x9f\\x91v\\\\\\x7f\\x0f\\xe3]\\x17\\x85|B\\x7fw\\xe5\\xfc\\xdb\\xbf\\x85\\xe9\\xc2^\\xf5\\xc9\\xc4\\xd0\\x9c\\xa0\\xed\\xd0\\xf5\\xdd\\x13R\\xdfa$\\x9fy\\xd56\\xab?\\xfe\\xcbRC\\x7f5\\xb3\\xb4\\x96w\\x1e^\\xcf\\xf5\\x8c\\xfd\\x7f\\xdd\\xaeKA\\xd7\\x9d$_\\xf4\\x86\\xe7r\\xed\\xabW\\xfa\\xac?4\\x87~\\xd4\\xf9VD\\xe9\\xb8\\xff\\x00z\\xbb=\\xa7\\xf5c\\xc7t\\x92\\x9f\\x99\\xbds\\xaf\"B\\xb2}\\xa3r\\xcd\\xf32\\xf5\\xa8!\\xbc\\x86\\xf1\\x16;\\xc8\\xfc\\xb4F\\xdc\\xbd\\xfeZ\\xe5o5\\x89\\x93o\\x99&\\xdc\\xd6o\\xf6\\xdd\\xe7\\xdb\\xfc\\xcby\\xf7*\\xfd\\xe5\\xedG\\xb4.\\x14_\\xc8\\xef\\x1e\\xf2\\xda\\xf2\\xe5|\\xb8\\xfes\\xfe\\xadk\\x1b\\xc4\\xf6v\\xd7\\x90\\xf9\\x9e[\\xac\\xb1\\xfe_\\x8dg\\xc3\\xe2T}\\xbeo\\xfa\\xc8\\x9b\\xe8kF\\xda\\xe6\\x1b\\xff\\x002[\\x8b\\xc4Vu\\xff\\x00WMU\\xe6\\xd8\\x95\\t\\xc2z\\x1c6\\xa7x\\x9aU\\xcb\\x08\\xed\\xfeo\\xe1j\\xb9\\xa6\\xf8\\xaa\\xe6\\x14Yc\\xbd\\xff\\x00z>\\xb5sU\\xd1\\x12\\xf16\\x1b\\x87\\xf9\\xb7mn\\xbf\\xf8\\xf5pz\\x97\\xdb\\xf4MJO0mB\\xff\\x00-cRm4\\xcfF\\x9d?m\\x16\\x99\\xee\\xbe\\x0c\\xf8\\x9aL\\xd1\\xc7y\\'\\xfc\\xb2U_\\xf6+\\xd14\\xddz\\xcfR\\xb6o\\xf4\\x8f\\x9d\\x9b\\xe6\\xff\\x00?\\xc5_\\'\\xe9^$\\x9a\\x19\\x9a\\xe2\\xdeG\\xfb\\xea\\xad\\xe9^\\xa1\\xe0o\\x89\\x13?\\x97oqx\\x8d\\xb5w6\\xfa\\xbaU|\\x8e\\n\\xd8\\'\\x13\\xd65(\\x7f\\xd0\\xfe\\xcfo\\xf3\\x7f\\x137t\\xact\\x85\\xe1\\xdb%\\xcc\\x9eXT\\xdc\\xadRYx\\xc2\\x1b\\xc7k{}\\x8a\\xec\\x9b\\x99\\xbbT\\x970\\xa4\\xd0\\xb7\\x99\\x1b\\xc9\\xbf\\xf1\\x15\\xd1\\x1a\\xb0{hq\\xb88\\xee\\x8eE y\\x9d|\\xcf\\x97\\xe5\\xfci^\\xe6\\xda\\x18~\\xcf\\'\\xcc\\xdf7\\xcdH_\\xee\\xc9\\xe6\\'\\x03kl\\xaa\\xb7\\x97?;I\\x1c}\\x13n\\xea\\xf9\\x87Q3\\xef\\xa3\\x0b\\xc6\\xe4V\\xd3B\\x8f\\xe6\\t\\x1fw\\xe9V\\xbfx\\xe3\\xfd\\x1e\\xdfk~t\\xdb\\x0bo\\xb4\\xa2\\xf9V\\xfb\\xbf\\xbd\\xde\\xae=\\xb4\\xdf\\xf2\\xcc\\xed\\xf9\\xa9\\xc2R\\x90\\xe5%\\x18\\x19\\xafm\\xf6\\xc9\\x96;\\x81\\xb7\\xe7\\xfe\\x1a\\xd5\\xb3\\xd2\\xfe\\xcc\\x8b\\xe5\\x9f\\xbd\\xf7w\\xf3O\\xd3l6M\\xf6\\x8b\\x8bm\\xc7\\xfb\\xdd\\xabF\\x1f#\\xce\\xfd\\xde\\xf6\\x1f\\xdd\\xedV\\x9d\\xa5fc\\xedT\\xe3d\\x8a\\xe7~\\xc6\\x8cG\\xf3\\x06\\xdc\\xadQ\\xdd\\xde\\\\\\xba0\\xf37n\\xfb\\xdb\\xeaY\\xaf>\\xf4x\\xe7\\xf8\\xaa\\xb4\\xce\\xefm\\xe5\\xc7\\xd7\\xf8i\\xcev3\\xa5Ms\\\\\\x85\\xe4\\xd9\\xb7\\x9d\\xdf\\xec\\xd4\\xe9\\xbd\\xe1\\xff\\x00W\\xb9\\xff\\x00\\xbd\\xd2\\xa0\\xde\\xc8\\xfe\\\\r.\\xe0\\x9f2\\xd2}\\xa7d\\xcb\\x1f\\x95\\xfe\\xf5\\x17\\xf7nhH\\x8e\\xf3\\x15\\x8f\\x1bp\\xfb\\x99\\x9e\\xa6}\\x98\\xf2\\xe3\\x93p\\x1f\\x95W\\x99\\xdfz\\xf9q\\xfc\\xb5-\\xb5\\xb6\\xc4\\xf2\\xfc\\xcd\\xb5\\x0eM|;\\x86\\xbdKP\\xdbC\\xe4\\xb7\\x96\\xed\\xbb\\xf4\\xa8&xR\\x16\\xc7\\xca\\xeb\\xfcU3\\xc7\\xe6\\'\\x97\\x1c\\x9f.\\xff\\x00\\x9a\\xa9\\\\\\xbf\\xc8\\xd1\\xfc\\xaa\\xcd\\xf7j\\xae\\xf9n\\xc1\\xe9\\xea2\\xe6\\xe5\\x1d<\\xc8\\xfec\\xf7j;;m\\xfb\\xa4\\x8e=\\xcc>fZ-\\xac\\xf7\\xbf\\x99\\xe6n\\xdd\\xf7\\x96\\xb4\\x92\\x1f&\\xd9\\xbc\\xa8\\xfev\\xfe\\x17\\x8e\\xa6/\\x99\\xf2\\xa2\\xa4\\xf97\\x19m\\xa7\\xc3\\x0c>dr&\\xf3\\xf3+T\\x90\\xef\\xf3\\xbc\\xc9%VP\\x9f\\x8dX\\x87e\\xb4-\\xe6}\\xdd\\xb5U\\xe6Dv\\x8b\\xca\\xdd\\xb9>V\\xabr\\x8a\\xeago!\\xe9\\xb1\\xff\\x00w\\'\\xcd\\xbb\\xee\\xee\\xa7\\xa6\\xf7\\xfd\\xe4\\x87\\x9f\\xe1Z\\xa0\\xef\\xbfo\\x97\\xf2\\xff\\x00yj\\xce\\xc7\\x86\\x15\\x92I>\\xef\\xca\\xb4s\\x14\\xa2\\x98:L\\x8f\\x81\\xf3g\\xf8\\xbbSa\\xd9\\x07\\xfa\\xc8\\xe9\\xaf4\\xc9\\xb7\\xcb\\xf9\\x97\\xfd\\x8a-\\x91\\xe6\\xb8\\xf2\\xe4\\x8f\\xef\\x7f\\x15C\\xa8\\x97R\\xd4,K\\n\\x0b\\xcf\\xdeF:V\\xb6\\x83\\xe1-KX\\xbf\\x8fO\\xd1\\xf4\\xf9n\\xa7\\xb9}\\xb0\\xdb\\xdb\\xc6\\xd2H\\xff\\x00\\xee\\x85\\xc9j\\xd5\\xf8o\\xf0\\xe3\\xc4\\x7f\\x11|m\\xa6\\xf8\\x0f\\xc2\\x1a\\x7f\\xda/\\xf5)\\xd6(c~\\x113\\xf7\\x99\\xbf\\xba\\x07R}+\\xf6\\xa3\\xf6\\x08\\xfd\\x86?g\\xdf\\xd9\\x83\\xc1\\xb6Z\\xa4\\xf1\\xd9j\\xfe)\\xb8\\x80\\x7fh\\xeb\\xd7Pe\\xdeC\\xc9H\\xf2>H\\xc7@\\x07>\\xa4\\x9a\\xe0\\xc5c\\xa1\\x87\\x92\\x8b\\xdf\\xb1\\xed`\\xb2\\xc7<;\\xc4UMAi\\xa2\\xbb\\x93\\xec\\xbaz\\xb3\\xf2\\xcf\\xc2_\\xf0M_\\xdbS\\xc6\\xd61\\xea\\xde\\x1f\\xfd\\x9f5\\xe9 t\\xdc\\xad:G\\x07\\xfe;3\\xa9\\xfd+\\x9f\\xf8\\xa3\\xfb\\x16\\xfe\\xd3\\xff\\x00\\x06l\\xe4\\xd5>$|\\x13\\xf1\\x06\\x9bm\\x1a\\xfe\\xf2\\xe9\\xecL\\x91\\'\\xd5\\xe2\\xdc\\xb8\\xf7\\xcd\\x7fC6Z\\xa6\\x8e\\xea\\xb1Y\\xddE\\xfe\\xea\\xbd3W\\xb3\\xd15\\xabi4\\xbdV\\xde\\x19\\xa2\\x950\\xd1J\\x80\\x8a\\xd7\\x0f^\\x9dg~}L\\xe5<\\x13\\x97+\\xa2\\xd2\\xff\\x00\\x16\\xbf\\x95\\xbf\\x03\\xf9\\xb8\\xf8{z\\x96\\x17>g\\xda>_\\xe2Z\\xf5\\x1b\\x0f\\x15B\\x89\\xf2I\\xf2\\xec\\xf9\\xab\\xed\\xbf\\xf8)\\xbf\\xfc\\x13\\x07\\xc1\\xe7F\\xbc\\xf8\\xdb\\xfb?\\xe8\\x11iz\\xb5\\x96\\xe9\\xf5m&\\xce=\\xb0_\\xaf\\xde,\\x8a8I\\x07\\xb7\\x07\\xa63\\xcd~g_\\xf8\\xcd\\xec\\x13\\xcb\\x96GR\\xbf+/z\\xf0\\xf3\\xfc\\x86\\xb6\"*\\xa2W\\xb9\\xfag\\t\\xf1-<\\x96\\x9ci\\xf3^=:}\\xe7U\\xf1\\x0b\\xc6\\xef$\\xde\\\\w\\x1b\\xbf\\xd9\\xdf[\\xdf\\n\\xf5\\xb7\\xb8\\xb6Y$\\x93s\\x0f\\xe2\\xaf\\x10\\xd6\\xfcE5\\xfe\\xeb\\x88\\xe4o\\xbf\\xf8\\xd7m\\xf0\\xeb\\xc43[XF<\\xce\\x7f\\x89k\\xe4\\xf1|?\\x0c6\\t\\xcaKc\\xed\\xe8\\xf1\\xcb\\xcc\\xb3\\x18\\xd2\\x8c\\x8f\\xa1\\xf4MU&\\xb9X\\xbc\\xcd\\xbbR\\x8dy\\xd1\\xdd\\xbf\\x8b5\\xc9x3Uw\\x87\\xed\\x12I\\xf3V\\xfc\\xd7\\xa94>d\\x9f6\\xef\\xbb_\\x8dg8^J\\xee*:\\xdc\\xfd\\xdf \\xc5*\\xb4#\\xafC\\x88\\xf8\\x85\\xbe\\xda\\xc2o.4o\\x95\\xab\\x98\\xfd\\x9b5$\\xd3f\\xd5$\\xf3\\x15L\\xd7\\x8c\\xcc\\xdf\\xf7\\xca\\xd6\\xe7\\xc5\\x1b\\x9d\\x9al\\x97\\x1ef\\xd3\\xb3\\xe5\\xf4\\xaf<\\xf83\\xad\\xf97W\\x16\\xf2m\\xdcn\\x1b\\xe6J\\xe1\\xa7\\n\\x8f\\x05R\\x07\\xd8R~\\xe3\\xf4>\\xa4\\xb7\\xbc\\xf3\\xad\\xd2X\\xcfU\\xf9\\xaa\\xae\\xbb~\\xd1\\xd9\\xb4\\x8fU\\xf4y\\xaen4x\\x0c\\x7f/\\xc9U|Mr\\xf1\\xda\\xb0\\xaf\\x16\\x94Tk\\xf2tDr(\\xab\\x9f=\\xfe\\xd1\\xba\\x8a=\\xa4\\xd1\\xc7\\'\\xdd\\xaf\\x8e\\xbcsy\\xbfRh\\xa3\\xfe\\'\\xfe\\n\\xfa\\x9b\\xf6\\x8a\\xd5Q!\\x9a\\'\\xf9~\\xf6\\xea\\xf9GXA\\x7f\\xad\\xe2?\\x9b/\\xf2\\xd7\\xed<\\x15\\x87\\xe5\\x82\\xba\\xd1\\x9f\\x9b\\xf1\\xc6+\\x93\\x03;\\xbd\\x8fP\\xf0~\\x8fs\\xff\\x00\\x08\\xdc>d\\x9bs\\x12\\xed\\xae\\x97\\xc0w\\x9f\\xd9\\xb7\\xad\\xa7G&\\xe5\\xfe\\xf56\\xc6\\xcd?\\xb0l\\xe3\\xfb\\xbbm\\xd7v\\xdf\\xf7i\\xfe\\x1d\\xb3\\xf2\\xaf\\xda\\xf0\\x0f\\xbb\\xf7\\xab\\xf6\\xfau\\xa4\\xa3\\x18\\xf4?\\x871\\xf6\\xad\\x89\\xa9&\\xf5m\\xfef\\xec\\xd0\\xbcs\\xc9\\'\\x98\\xaa\\xa6\\xb1\\xf5+i\\x92O2\\xba[\\xc7\\xb6\\x99\\x16H\\xf6cec\\xea!?\\xe5\\x9c{\\x90\\xaf\\xcd]\\xdc\\xc7\\x8fnM\\xcc\\xdb]\\xe8\\x8d$\\x83\\xe6\\xa9\\xad\\xa6\\xf2nX\\xf9\\x9b\\x7f\\xd9\\xebUo\\xf5\\x84\\x84\\xfe\\xf2=\\xaa\\x95\\x97y\\xe2\\x88\\x7f\\xd6G*F\\xcd\\xf7\\xa8RL\\xa9F\\'L\\xf76\\xcf\\xfe\\xb2M\\xac\\xb5\\x9b\\xa9^[\\x0f\\xde|\\xbbV\\xb9\\xe7\\xf1\\x0e\\xfby$\\xfbG\\xddo\\x95\\xab>\\xff\\x00\\xc4/4+\\x1cr\\xee_\\xefS\\x8d\\xdfQ=6:\\'\\xd7\\xac\\xdd<\\xbf\\x97k}\\xd6\\xa8_RO\\'\\xfe>6\\x85\\xfb\\xd5\\xc7\\xcd\\xac<0\\xac~^\\xdc\\xaf\\xcbM}q\\x12\\x18\\xc4\\x92m`\\xbf5V\\x84\\xb8\\xcd\\xcb\\x97\\xa1\\xd3M\\xac;\\xc8\\xd1\\xc9&\\xdd\\xdf5Cq~\\x92C\\xe6\\\\\\\\no\\xef%rw\\xbe!\\xf2S\\xcc\\x8eF`\\xd5\\xcbx\\x93\\xc7:\\x940\\xb7\\xd9\\xe4\\xdbI\\xcd\"\\xe9\\xd2\\xbc\\xac\\x8f@\\xbc\\xf1T6\\x1c\\xdc]\\xa4jW\\xe5W\\xfe\\xedfj\\xbf\\x15\\xfc1ka%\\x9d\\xc6\\xa0\\xad\\x9d\\xcb\\xf2s^=\\x7f\\xe2[\\xcdA\\xfc\\xcb\\xcb\\x86j\\xc3\\xd6\\xef\\xc3\\xa3yrs\\xfd\\xea\\xc3\\xebO\\xa1\\xd3\\x1c\\xbe;\\xc9\\x87\\x8cu-\\n\\xcf^\\x9b\\xfb\\x1e\\xf3u\\xb4\\xcf\\xba=\\xdc\\x14\\xff\\x00g\\xe9\\xe9U\\x12\\xfd:y\\x95\\xc8j\\xae\\xf2;I$\\x9f\\xf0*\\xa7\\r\\xce\\xa6\\x9f\\xea\\xee\\x1e\\xbc\\xfa\\xb9tj\\xfb\\xd1v?F\\xcax\\xd3\\x13\\x81\\xa1\\x1a\\x15\\xe3\\xcdek\\x9d\\xd3_\\xab\\xbf\\x97\\xf7\\x8f\\xf0\\xd7a\\xf0\\xf7C\\xf2/\\xe1\\xd75H\\xfeh\\xdb|p\\xbf\\xfe\\xcd^S\\xe1\\xbb=V\\xf3R\\x8e\\xe3\\xed\\x0e\\xdb[\\xe5\\xafV\\xd1\\xef.R\\xd9~\\xd1&\\xe7\\xfb\\xdb\\xbb\\xd7F\\x17+\\x84\\x1f4\\xb5g\\x0e{\\xc78\\xbcd\\x1d\\n\\x0b\\x95=/\\xd4\\xf4\\xb4\\xf1\\xcf\\x93\\xfb\\xcb\\xc8\\xfe_\\xefV\\xa5\\x9f\\x8a!\\xbfE{{\\x85_\\xf6k\\x83\\x86\\xe5/\\xecW\\x8d\\xcfP\\xbc3[L\\xd2[\\xc9\\xf7~\\xf2\\xa5z1\\x9b\\x8cl\\xcf\\xcfeN57=>\\xdbRI\\x91\\xad\\xef.6\\xe5k\\x1e\\xe7\\xf8\\xbc\\xb977\\xde\\xcfj\\xe4\\xe1\\xf1\\x8e\\xabl\\x8b\\x1d\\xe4[\\x82\\xa6\\xd5\\xf5\\xab\\x96\\xda\\xf2<\\x7fh\\xf3\\x1b\\xe5\\xfb\\xca\\xd5\\xa7:9\\xdc*FW\\xd8\\xd2Mc\\xec\\xd7M\\xe6I\\xb5\\x87\\xcbW\\xad\\xbcI\\r\\xcc>_\\xda>\\x7f\\xe1\\xaesV\\xb9\\x86\\xf2\\xdb\\xed1\\xc9\\xb5\\x93\\xfb\\x95\\x9bg~\\x9b\\x1b\\xcb\\x91\\xb7\\x7f\\x13T\\xb9Mz\\x1a8F\\xa4y\\xba\\x9d\\x93\\xdc\\xfe\\xf9d\\x96\\xe3\\xee\\xd2\\xa7\\x88a\\x87w\\xf1m\\xae]5\\xbd\\xf1\\xacrI\\xbb\\xfb\\xdb*\\x19\\xaf7\\xee\\x929:?\\xcc\\xb4\\xf9\\xdf-\\xcc#IJM4\\xf57\\xef5]\\xfb\\xa4\\x93\\xee\\xb7\\xde\\xf4\\xac\\xfb\\x99\\xa1\\x1f\\xeb.v\\xb3V\\\\\\xda\\xc8\\xfb2\\xc7\\xf6\\x8d\\xb8\\xfe\\x16\\xaaw:\\xae\\xf7\\xf2\\xe4\\xf9\\x97\\xfb\\xd52q\\x91\\xb4)\\xb8\\x9a77\\x89l\\xeb\\xfb\\xcf3o\\xde\\xab\\x9a>\\xbc\\x90]|\\x92|\\xbf\\xc3\\\\\\xc5\\xe5\\xc4h\\x9eg\\xde\\xfe&Z\\xa7\\x0e\\xb1\\xe4\\xcd\\xfb\\xbf\\x96\\xa1K\\x96VF\\xae\\x92q\\xb9\\xec:\\x0f\\x89\\xd2\\x12\\xbf\\xbc\\xf9\\x7f\\x8b\\x7fZ\\xdc\\x7f\\x10\\xc7yl\\xd6\\xf6\\xf2|\\x9f\\xc4\\xdd\\xeb\\xc7l\\xfcI\\xf7c\\x1f6\\xef\\x9bul\\xd9\\xf8\\xc4\"\\xff\\x00\\xac\\xdb\\xb7\\xee\\xd7Tj\\x1eU\\\\\\'\\xbdx\\xa3\\xb5\\xd65\\x97\\xf2W\\xca\\xea\\x9f\\xea\\xd6\\xb1f\\xf1\\x0f\\xde\\x8eI_\\x0b\\xfe\\xb1k\\x1a\\xe7\\xc5\\xafx?\\xd2$\\xdc\\xdb7-R\\x9bUI\\xb7G\\xe6m-\\xfcUNN0W\\xdct\\xa8\\xdftt\\xff\\x00\\xf0\\x90\\xc6\\x9bb\\x8eM\\xc7\\xef+5]\\xb3\\xf1\\xb3\\xbf\\x97\\x1f\\x99\\xe5\\xba\\xb7\\xde\\xaf?\\xb9\\xbft\\xdb\\xe5\\xc8\\xec\\x17\\xf8\\xa9\\xa9\\xa9M\\xfe\\xb7\\xe7\\xfb\\xff\\x00z\\xb2U9wf\\xeb\\x0b\\x17\\x1bX\\xf6\\x0b\\x0f\\x15%\\xce\\xd8\\xee#VVO\\x95R\\xa9\\xf8\\x87D\\xb6\\xd4\\xa1i#\\x93k?\\xfa\\xb5~k\\x84\\xd3u\\x8b\\x98nc\\xf3.\\x19\\x91\\xbe\\xf2\\xa5uz\\'\\x8a\\x9d\\xdf\\xcc\\xb8\\x1b\\x93\\xee\\xae\\xfe\\x95\\xab\\xab\\x17L\\xe4\\xf65\\xa3U8\\xad\\x0egR\\xb3\\xb9\\xd1\\xe6k{\\x87\\xda\\xc7\\xe5m\\x95{\\xc3z\\xdc\\xd6\\xd7+\\x1c\\x97\\x1b\\x9b\\xf8U\\xebsU\\xd1\\xd3\\xc4P\\xf9\\x96\\xf2+2\\xff\\x00\\xcbJ\\xe5.t\\xdb\\xcd*\\xff\\x00\\xcb\\xbc\\xb7u)\\xf7k\\x8e\\xa4\\xa5\\x1d\\x8fR\\x9d:s\\x8f,\\x96\\xa7\\xacxK\\xc6\\x8e\\xfb\\xbe\\xd9\\xb9\\xbeo\\x97mz.\\x89\\xad\\xdbM\\n\\xc9\\xe6yn\\xa9\\xf2\\xad|\\xf1\\xa2k\\x0f\\x0f\\xef>ue\\xfb\\xad^\\x87\\xe1\\xbf\\x12\\x7f\\xa3,rO\\xb6W\\xf9\\xb7?5t\\xab\\xcb\\xb9\\xc5\\x8a\\xc1(\\xfb\\xdb\\x9d5\\xca>\\xff\\x00.\\xde?-[\\xf8j\\x14\\xd2\\xaeo\\xff\\x00w\\x1f\\xddo\\xbc\\xcbW,\\xed\\xaeo&i#=\\x7f\\xbf[v\\x16\\xa9mg\\xe5\\xc7\\'%>e\\xaf.\\n\\'\\xb9?s\\xde\\x19\\xa6\\xd8[h\\x9aj\\xdb\\xf9\\x9f\\xbd\\xdb\\xf3w\\xa6$0\\xbf\\x11\\xc7O\\x9d\\x1f\\xe52G\\xff\\x00\\x02\\xaa\\xe9\\xbd\\xdf\\xf7\\x92:\\xd7G\\xb8\\xa3ds;\\xcaWass\\xe4\\xa7\\xd9\\xfe\\x7f\\xf7j).|\\x9d\\xb1\\xc7q\\xd7\\xee\\xd2L\\x8e\\xef\\xd11\\xf7Y\\x9e\\x91\\xe1x\\x7fw\\x1ci\\xf3\\xfd\\xd6\\xac\\xe5;\\tA\\xf4\\x19r>E\\x921\\xf3\\x7f\\x15V{\\x99\\xa6v\\x929>]\\xfbU\\xaa\\xc7\\x99\\xbe\\x16\\xf3:\\xfd\\xd5\\xa8\\xa4D\\x0e\\xdff\\x8fq_\\xf9gJ\\xfe\\xf5\\xe4j\\xb4\\x8d\\x80\\xa6\\xf9\\x97\\xcc\\x93\\x81\\xf7\\xaa\\xc5\\xb5\\xb4\\xe9#}\\xcd\\x8d\\xf7Z\\x9b\\xe4\\xc0\\x88\\xa7\\xe7\\xdc\\xaf\\xf7\\xaa[d}\\xf2y\\x83\\xe4_\\xba\\xdd\\xe9\\xb97o2\\x9d\\x91&6\\'\\x97\\x1c~g\\xcbR\\xbe&E\\x8eH\\xdfh\\xfb\\xcb\\xde\\x9b\\xb1\\xe1\\xdb%\\x9c\\x88\\xca\\x1b\\xe6\\xefR[;\\xc3r\\xd2}\\xed\\xc9\\xf7R\\xa9\\xbeW\\xa1\\x9bmt\\t!{hV9>\\xe9\\xfc\\xaa\\x04\\xb0/\\xb6K\\x99\\x11P\\xbf\\xca\\xb5fi\\xbc\\xed\\xd2\\\\oT\\xdb\\xf7Z\\xa9\\xbb\\xcd\\xe4\\xf9\\x91\\xfc\\xc3\\xf8\\xb7U?{rn\\xfb\\x0fHa\\xb3\\xfd\\xe7\\x99\\xb7k|\\xb4\\xc7\\xbf\\x99\\xee\\x9a\\xe2H\\xdf\\x1f\\xc5P\\xef\\xd9\\x0f\\xef\"\\xe7\\xf8\\xa9!\\xb6\\x9ad\\xf3<\\xcf\\xdd\\x1f\\xba\\xd52\\x97/B\\xb9S\\xdfB\\xd4\\xcf\\x0b\\xff\\x00\\xab\\x91\\xd7w\\xde\\xdfQC\\xf3:\\xc5\\xe5\\xeeU\\xfb\\xb55\\xb2\\x7f\\xcb;\\x8f\\xe1O\\x96\\xa6Hm\\xba[\\x07e\\xfe*W\\x94\\xa3}\\xca\\xb2[2\\r\\x89\\xb1\\xa4\\x88\\xfc\\xe3\\xee\\xd3&77;c\\x92M\\xbb~oj\\x99\\x1d\\x11\\xdaH\\xfeP\\xdf*\\xee\\xe2\\x93{\\xdbB\\xd2a\\x1b\\xe7\\xfb\\xd4\\xa2\\xed+\\r\\xbb\\x91\\xa5\\xb3\\xdc<q\\xc7#s\\xfd\\xda\\xb9\\xf64\\xb6\\xdd\\xe5\\xc9\\xca\\xfd\\xd5\\xaa\\xd0\\xdc\\xb9u\\xf2\\xfee_\\xe2\\xab\\xa9\\xbd\\xff\\x00\\xd6oo\\xbb\\xb5\\xaa]\\xd1P\\xd67G\\xdb\\x9f\\xf0F\\x8f\\xd9\\xed\\xfe+\\xf8\\xd7\\xc4>=\\xbc\\xbc\\xfb<Z\\\\qY\\xc37S\\xba_\\x9d\\xf1\\xf8*\\xfe\\r_\\xa8\\xfag\\xec\\xed\\xa7\\xdb-\\xb4C\\xc4\\x97\\xab\\x14-\\xbb\\x01\\xcf?\\x95~}\\xff\\x00\\xc1\\t\\xbcea\\xa5\\xe8\\x9e4\\xf0\\xb5\\xc3\\xaa\\xce\\xba\\xb4\\x17C\\xfd\\xd3\\x08O\\xfd\\t\\x1a\\xbfIS\\xc6q\\xa4K\\x1cs\\xaf#\\xa5|\\x16i\\x8c\\x9d<\\xc6Wz+\\x1f}<niG/\\xa1G\\t+B\\xd7\\xd1-\\xde\\xee\\xf69\\x7f\\x8d\\xbe\\x14\\xf16\\x9f\\xa6\\xdb\\xc5\\xe0{\\x89d\\x91\\x99\\x15\\x97\\xce\\xc3\\'\\xfbY\\xaa\\xda_\\x8f\\xf5\\xcd\\x1f@\\x8a\\xd7\\xc5\\x17\\x8b%\\xdc|;u\\xfa~\\x95\\xa1\\xe3_\\x88P\\x8bV\\xfd\\xe2\\xae\\x13\\xbdx\\x17\\xc4\\x8f\\x88\\xcf%\\xc4\\xc85E\\x8d\"]\\xf2I\\xd7b\\xd7\\x07\\xf6\\xcc\\xe3]\\xaaj\\xc8\\xf6r<\\xab\\x15\\x99\\xe1\\xa3B\\xbc\\x15\\x93\\xbf5\\xb5\\xfb\\xfb\\x1e\\x81\\xf17\\xe3\\xba\\xdd\\xf8Zm\\x1e\\xe1\"h\\xdd\\xb6\\xb5~=~\\xde\\x1f\\x0e\\xb4\\xdf\\x06|~\\xd4\\xae<?n\\xb0\\xd8j\\xb1-\\xfc1\\xafDg\\xdd\\xbd\\x7f\\xef\\xb5c\\xff\\x00\\x02\\xaf\\xae~*|{\\xd1\\xed\\xa6m.\\xcfTuu\\x7f\\x96G\\x93;\\xd8\\xfa\\xad|\\x85\\xfbu|L\\xd15/\\x13\\xe8?i\\xd4?\\xd2SKo1\\xbf\\xd9i\\x1a\\xbfW\\xcbk\\xfds&\\xe6\\x96\\xaf\\xa1\\xe2\\xf1f\\x0b\\x0f\\x975N\\x8d\\x92_\\x99\\xe2\\xe9\\x0e\\xfbf\\xf3#\\xdd[~\\ty\\x9eu\\xb7\\x8fw\\xde\\xae6\\xdb\\xc6\\x9aT\\xce\\xb6\\xff\\x00hO\\xbf\\xf2\\xd7e\\xf0\\xebR\\xb3}ac\\x8eO\\xfb\\xee\\xbc\\x9cv\\x1dK\\r(\\xbd\\xac|\\xdeI\\x8b\\xa9O3\\x84\\x93\\xd6\\xe7\\xb5x]\\xf6X,r|\\xa6\\xb7~\\xd2\\xe9\\x0bW-a~\\x9b\\x17\\xcb\\xad\\t\\xb5\\'Kv\\x93\\xcd\\xe2\\xbf\\t\\xcfr\\xdej\\xbc\\xcdis\\xfb\\x13\\x853\\x17\\xf5H\\xear\\x1f\\x17o\\xd1\\xec\\xe4\\x8f\\xcc\\xfe\\n\\xf2\\xbf\\x85w\\xf3\\'\\x89\\xfe\\xcd\\xf3~\\xf2\\x7f\\xbb]\\xa7\\xc5\\x1dI&\\xb6\\x93\\xf7\\x9fy+\\x8f\\xf8-f\\xf3x\\xc1\\xae#\\x8f\\xe5_\\xe2\\xaf7\\r\\x977\\x82\\x9d\\xcf\\xbd\\x86s\\x1aPw{\\x9fWxf\\xec.\\x93\\x182m;*\\x97\\x8e5\\x18\\xe3\\xb3\\x91\\xc7UJ\\x8fG\\xb9\\xd9f\\xb2I\\xff\\x00\\x01\\xaeg\\xe2.\\xb0\\x90\\xe9\\xb3I\\xfd\\xea\\xf9I\\xe0d\\xeb7m\\xbf\\xad\\x8e\\x9ax\\xd8\\xca\\x8e\\xa7\\xcd?\\xb4n\\xbc\\xf7\\x93I\\x1cR\\x7f\\x1dxn\\x8ff\\xf7\\x9a\\xf41\\xff\\x00\\xd3U\\xafH\\xf8\\xcd\\xac}\\xb3R\\x9b\\xfb\\xbb\\xeb\\x86\\xf0\\xac\\xd0\\xff\\x00oGq\\'\\xf0\\xfc\\xd5\\xfb\\x8f\\x07\\xe0e\\n\\x11\\xba?\\x13\\xf139\\x85<,\\xa1\\x13\\xd4no\\xe1\\xb3\\x828\\xe3\\x91\\x97r/\\xdf\\xaa_\\xdbrZL\\xdf\\xe9\\t\\xb5\\xfe\\xedr:\\xf7\\x8d\\x91\\x1d\\xa3\\x92\\xe3\\xfd\\xd5\\xac\\x18|O5\\xcf\\xee\\xfc\\xcf\\xbb\\xfc/_\\xa5\\xd2\\x83\\xd0\\xfeR\\xab\\xabv\\xeaz\\xb5\\xb7\\x8c\\x12h|\\xbf\\xb4m;\\xfe\\xebT7^!\\xb9\\x99<\\xcf\\xf9f\\x9fz\\xb8\\x1d6\\xfegu\\x92977\\xfbU\\xb4/\\xfe\\xd9d\\xb2y\\x8e\\xae\\x9b\\xb7W\\xa5\\x08\\xae[\\x1eeE\\xa95\\xfe\\xb7\\xe7;\\x1f3usz\\xc5\\xfb\\xfc\\xb7\\x1ef\\xdf\\x9bj\\xadG\\xa9\\\\\\xdc\\xa3\\xc9\\x98\\xfe\\xf7\\xddj\\xce\\xb9\\xbc\\xb6\\xff\\x00\\x8fy?\\xef\\xaa\\x96\\xd24\\x84Yr\\xdbX\\xfb\\xc9%\\xc3*?\\xe5QM\\xac}\\x9a/\\xb3\\xc7\\xf3.\\xef\\x99\\x9e\\xb37\\xc3\\xb1\\xa5\\x8eM\\xd4\\\\\\xcd\\x1e\\xf5\\x93\\xcc\\xa4\\xe4\\x99\\xa3\\x82\\x8e\\xe4\\xb7\\xfa\\xc3\\xbe\\xd9>\\xd0\\xec\\xa3\\xee\\xd5?\\xed\\x89\\xe6Nd\\xf9\\xbf\\xdb\\xa6\\\\\\xcdl\\xf2yqI\\xfe\\xf5e\\xcd3\\xa4\\xcc#\\xedG0(\\xa6h_\\xdc\\xcd2y\\x97\\x1f\\xf7\\xcdcjV\\xd0\\xba~\\xf3\\xe6\\xcf\\xf7*\\xcf\\xdb\\xd3\\xe6\\x92O\\x99\\x85W\\x9akg?h\\xfb\\xb4r\\x89>]\\x8c;\\xfd\\x13\\xce\\x7f\\xf4y7\\x05\\xac\\xdb\\xcf\\x0c\\\\\\xcc\\x9f\\xbb\\xe9]L\\xd3\\xa7H\\xfe_\\x97uQ\\x9bP\\xd9\\xfb\\xb9$\\xda+\\x1fg\\x17\\xb9\\xd0\\xaa\\xc9\\x1ce\\xcf\\xc3\\xa9\\xaef\\xf3$\\xf9iS\\xc0p\\xd8:\\xfd\\xa2?2\\xba\\xc7\\xbc\\x1f\\xeb#\\x93\\x8a\\xac\\xf70\\xfc\\xded\\x9b\\xb1\\xf7\\xabe\\xc8\\x88u*\\xb3.\\x1bd\\xb3\\x85c\\xb7\\xb7U\\xdb\\xf7[\\xbd[\\xd3^g\\x9b\\xcb\\x93\\xe5\\x1f\\xc4\\xd5\\x1c\\xf3B\\xef\\xfe\\xcd-\\xb4\\xde[\\xa8\\x92O\\x97\\xf8j\\xbd\\xa9\\x9f#\\x9e\\xc7Ig\\xaa\\x98Qc\\x8eO\\x96\\x9f\\xfd\\xaa\\x8f\\xfe\\xb3\\xe5c\\xf7k\\x9b\\x9bR\\xd8\\xff\\x00\\xbc\\xe8\\xd4\\x1dQ\\xdfl\\x9fw\\xfd\\x9a\\x89TC\\xe4f\\xfc\\xda\\xac\\x9b\\xd9\\xe3\\xf9\\x95i-\\xb5_%\\x1b\\x12m\\xcds\\xcf\\xa9o\\x85\\xbf\\x87\\xfb\\xb5[\\xfbK\\xcc\\xff\\x00\\x96\\x951\\xaby\\\\%\\t\\x1d\\x94\\xda\\xf2Cm\\xe5\\xc7\\xd4\\xfd\\xe6\\xaa)\\xaa\\xec\\xdd\\xfb\\xde\\xbe\\xf5\\x82\\x97\\xef\\xe5\\xe2\\x9b\\xbd\\xdft\\x83\\xe5\\xfe\\xed9M\\x93\\n{\\xf9\\x9b\\xdf\\xdb\\xdf;SS[w\\xdd$\\x92t\\xac/\\xb4L\\x9bx\\xfb\\xd4y\\xf3\\x7f\\xab\\xfe\\x1a9\\xc3\\x91\\x1a\\xd3jA\\xdf\\xcc\\xf3>Z\\x81\\xf5\"\\xee\\xb2y\\x8f\\xb7\\xfb\\xb5M\\xeec\\xf9c\\xfb\\xd4\\xf0\\xef\\xfe\\xaeO\\x94R\\x9c\\x87\\xcaL\\xf7\\xee\\xe8#\\xa6y\\xd9\\x7f.O\\x98-D\\xfb\\xcf\\xfc\\xb3\\xe0\\xff\\x00\\x15=!\\x7f\\xbf\\xfc4\\xb9\\xd1~\\xcd-\\x89\\xado7\\xa3G\\xe9Z0\\xdc\\xfc\\x8b\\x1cr|\\xa2\\xa9\\xdbXH\\xff\\x00\\xbc\\xad+m7\\xe7\\xe6*~\\xd5sX\\xc6T\\xc1\\xef>O3\\xcc\\xdc?\\x89i\\xfew\\x9c[\\xcb\\x0e\\xb5:iO\\x0f\\xef-\\xfe\\xf7\\xdem\\xfd*\\xdah\\x8e\\x9e\\\\\\x9e^\\xe6zu*\\xd8\\x88\\xd2d\\x10\\xf9\\xce\\x8b\\x91\\xbb\\xfd\\x9a\\xb5\\r\\x9c\\xd3~\\xf2O\\xba\\xbfv\\xae[X%\\xb7\\xee\\xe4\\x8f\\x9f\\xf6\\xaa\\xf46\\xd1#\\xac{\\xf6\\xff\\x00\\xb3Y\\xbcM\\xba\\x1a:-\\xf53\\xa1\\xb3G\\xfd\\xe4\\xbb\\xbe_\\x95U+V\\xc1\\xfe\\xcd\\xfb\\xb4\\xff\\x00\\xbej\\xcaX[\\x7f\\xac\\xfb\\xaf\\xfc5\\x0c\\xc9\\n\\\\\\xb7\\xef7n\\xfb\\xadY:\\xcd\\xf5*\\x9c\\x12\\x8d\\x8d\\x8d\\x13U\\xfb3\\xf9\\xbef\\xd5\\xdf\\xf7kf\\xe6\\xc2\\xdb\\xc4\\x96\\xcd\\x1d\\xc6\\xc5\\x9b\\xef,\\xcf\\\\Z^C\\x0b\\xacrI\\xb8\\xee\\xf9W\\xb5hh\\xfe$\\x9a\\xd9\\xff\\x00\\x85\\xb7|\\xaa\\xafK\\xdb9\\xc9&\\xf6\\tP\\xf7o\\xd4\\x89\\xec\\xef\\xf4\\xadI\\xb4\\xfdB\\xdfk\\xab|\\xad\\xda\\xb5\\xf4\\xadJgu\\x8f\\xf8\\xa2\\xfe\\x1a\\xb7s5\\x87\\x89!\\xff\\x00H\\x93t\\xc8\\x9f\\xb9d\\xaeb\\xf3\\xed\\xfa$\\xcd\\'\\xde\\x14k\\x1f~;\\x11\\x1eY\\xfb\\xb2\\xdc\\xfaJ-\\xf6\\xdbd\\xf2\\xf7\\x03\\xb5jG\\x9a\\x1f1\\xbc\\xcb\\x8d\\xbf\\xee\\xd4(\\xefs\\xb7\\xf7{J}\\xefJ\\x12\\x17y\\x1a9$E_\\xbc\\xabP\\xbd\\xe9]\\xfe\\x856\\x92k\\xb9<\\xdb\\xdfo\\xd9\\xce\\xe5\\xa8\\x06\\xf4\\xfd\\xdf\\x99\\xf3\\xb3|\\xca\\xf5v\\xc1<\\x94ky%\\xfe\\x1d\\xdb\\x92\\x9d4(_\\xdd\\xfe\\xf3w\\xa1;\\xc9\\xae\\xc2z\\x19\\xb3?\\x9e\\xec>\\xcf\\xb7g\\xddZg\\x98\\x9b\\xd6\\xdf\\xcb\\xff\\x00kwz\\x91\\xd0C3I\\xf3\\xb0o\\xbdH\\xff\\x00=\\xca\\xc9\\x1d\\xb7\\x1f\\xde\\xa1\\xa8J:n4\\xe6\\xad\\xe6B\\xf0\\xc3\\xfe\\xab\\xcb\\xfb\\xaf\\xf2\\xd3\\x8a%\\x94+$\\x7f3n\\xfb\\xd57\\xd9\\x92=\\xd2}\\xa3n~\\xedD\\xe7f\\xd8\\xfc\\xdd\\xcb\\xfd\\xea\\x8eo\\x84C\\r\\xd7\\xef\\x96H\\xc7\\xcb\\xf7\\xb7t56\\xf4\\x87t\\x7f{?\\xc5QM>\\xf7[\\x7f\\xb3\\xee\\xff\\x00g\\xbd$\\xc1\\xe6\\xdb\\xfb\\xbd\\xaa\\x9f+-]\\xd7-\\xc6\\x93E\\x9bo&G\\xfd\\xec\\x8a\\xadS?\\x93\\xb3\\xf7{\\x15\\xcf\\xcb\\xb6\\xaalM\\x9f\\xbb\\xf9\\x83}\\xd6\\xa4\\xdf6\\xff\\x00,|\\xc5>e\\x92\\x9a\\x9d\\xfa\\x89\\xc5\\xb8i\\xa0\\xfb\\x97G\\xb6\\xfbD\\x83\\xa7\\xcb\\xb6\\xa1I\\x92\\x17\\xfd\\xe4\\x7f!Z\\x99\\x1eG\\x7f0\\xc7\\xf2\\x9f\\x97k\\xd4Om\\xbeh\\xfc\\xc1\\xbb\\xfd\\x9e\\x94\\xdf;\\x07\\xa6\\xda\\x95\\x92\\x17G\\xfd\\xd8\\xdd\\xf3U\\xd8/\\xd2\\xd9\\x1a9-\\xf73|\\xad\\xe9\\xff\\x00|\\xd5wD\\x0e\\xdeU\\xc6\\xdd\\xdfui\\xfeLp\\xff\\x00\\xcbM\\xdb\\xbf\\xbfKm\\xc1jH7\\xff\\x00\\xac\\xff\\x00\\xbe\\x95\\xeadDD_/r\\x8f\\xe2d\\xe9U|\\xf5}\\xd2}\\xa3i\\xa9\\xed\\xaev[7\\x97\"3}\\xea\\x8e\\x7fv\\xf7\\x1f+\\xe6\\xb0\\x8e\\x9f{\\xf7\\x9b\\x97}.\\xf5\\xd8\\xd1\\xc9\\x1e\\xdcS~\\xd5\\x1b\\xc3\\xe5y\\x9bO\\xf1UG\\xd6\\xed\\xad]\\xbe\\xd1\\x1e\\xeaN\\xa4#\\xb1\\xaf+{\\x1a6\\xa8\\x8f\\xbb\\xcc\\x8f\\xfe\\x05\\xd2\\xa7\\xb6Gth\\xe4\\x93o\\xfbI\\xd2\\xb9\\x8b\\xcf\\x1c\\xa4SyQG\\xb4\\xa7\\xdd\\xac\\xab\\xcf\\x88W\\xfeKIo&\\xdf\\xe1j\\xcaX\\xba1\\x8d\\xeek\\x0c=Y\\xec\\x8f\\xa8\\xbfb\\xaf\\xdaBo\\xd9\\xcb\\xe3\\r\\xbe\\xb1qq\\xff\\x00\\x12\\xddQV\\xd7R\\xf9\\xf1\\xb1Y\\xb8\\x93\\xf05\\xfa\\x91\\xa0\\xfe\\xd0\\xfa\\x16\\xb1\\xa4\\xa5\\xe5\\x96\\xa1\\x13\\xab\\xa6\\xe8\\xa4Y+\\xf0\\x06\\xff\\x00\\xc6\\xda\\xab\\xed\\xf3/6\\xff\\x00{\\xb5w\\xbf\\r\\xff\\x00\\xe0\\xa1\\x7f\\x11~\\x11h\\xff\\x00\\xd8\\xf7\\x17\\x12\\xeaV\\xd6\\xff\\x00,p\\xf9\\x9f\\xbcE\\xfe\\xea\\xd7\\xc9gX\\x15\\x98US\\xa3\\xa4\\xb6\\xf5>\\xfb\\x873:8ZN\\x86:7\\x8fG\\xdb\\xc8\\xfd\\x97\\xf1\\xcf\\xc7T\\xd9%\\xb5\\xbc\\x8dq*\\xae\\xe6X\\xb9\\x1f\\x8bt\\x15\\xf3?\\xc6\\xff\\x00\\xdaC\\xfe\\x11\\xed7R\\x8fT\\xb8E\\xb9\\xb8\\xdb\\xe5\\xc3\\x14\\xe1\\xb6*\\xee\\xeb\\xb7\\xbf\\xcd_\\r\\xdc\\xff\\x00\\xc1W,5\\xbb;\\xab?\\xed\\xc6\\xd3\\xe6\\xb9\\xdb\\xe6G:\\x14t\\xdb\\xf5\\xff\\x00z\\xbc\\x9b\\xc7?\\xb6\\xa7\\x83\\xef\\xe6\\x92\\xf3P\\xf1#_M/\\xcc\\xb1\\xa6My\\xd8\\\\\\x87\\x13\\xed=\\xf8\\xdc\\xfbz\\x9cE\\x96P\\xa1\\xfe\\xcfd\\x8fv\\xf1\\x17\\xc6\\xfb\\xfdW\\xc42j\\x97\\x97\\x9e\\\\i\\xb9\\xa3W~+\\xc4\\xfe0|N\\x9b\\xe2\\x17\\x8c\\x1bX\\xb8}\\xc9\\x12,\\x16\\xbf\\xee\\xaek\\xcf\\xbf\\xe1n\\xeb\\x9e<\\xff\\x00L\\xb3\\xb3x\\xed\\xbf\\x85y\\xcf\\xfc\\n\\xb4!\\xd3u\\xbb\\xfb5\\xf2\\xf4\\xf7m\\xdfu\\xab\\xf4\\xbc\\xae\\x84\\xb0xU\\t;\\x1f\\x92\\xf1.m\\xfd\\xa7\\x8a\\xe5\\x86\\xcb\\xafrU\\x9a\\xe5\\xef<\\xbb\\x7f\\xe1\\xf9\\x96\\xbb\\xaf\\x85\\x1a\\xf4\\xd0\\xea\\xcb\\x1c\\x92?\\t\\xf7\\xab\\x9a\\xf0\\xdf\\x85o\\x12\\xe5n5O\\xf7|\\xba\\xee\\xb4xt\\xad6H\\xe4\\xb7\\x8fi\\xf9j\\xb1U\\xe9N\\x9c\\xa0\\xb7<,%\\xe9bcQ\\xadS=\\x9bA\\xd7\\x9ehW\\xcb\\xfe\\xee\\xe6j\\xd0\\xd4\\xbcB\\x89m\\xe5\\xf9\\x9f\\xf0*\\xe0\\xb4?\\x10\\xc2\\x90\\xe3\\xcc\\x7f\\x95>\\xed3^\\xf1#\\xcc\\x98\\x8eO\\x94W\\xe59\\xb6]:\\x95\\xafk\\x9f\\xd1\\xbc5\\x9fR\\x8e\\x1a)Kr\\x9f\\xc4-n\\x0b\\xc9\\xbc\\xb8\\xe4\\xdd\\xf7\\x96\\xa4\\xf8&\\x8f\\xfd\\xb0\\xd7\\x1e\\xaf\\xf2\\xd7\\x15\\xaf\\xeb\\x13\\\\\\xcc\\xdf\\xdd\\xfe\\xf5u\\x1f\\x07\\xf5\\x8f\\xdf}\\x8e3\\xb9\\xf7}\\xea\\xe4\\xaf\\x85\\xa3\\x83\\xc0\\xcar\\xf7RG\\xd8\\xe1s,fg\\x8c\\x86\\x1b\\t\\x179\\xc9\\xe8\\x91\\xf4*_\\xa46k\\x1f\\xf7\\xbf\\x86\\xb8_\\x8a\\x97\\x97\\xb7:T\\x91\\xc7\".\\xfa\\xect\\xcf\\x0fk\\x17\\x1aW\\xda^F\\xc6\\xdf\\xbez\\x9a\\xf2?\\x8c\\x7f\\xda\\xba#\\xb5\\xb5\\xca\\xb2\\xa3\\xee\\xda\\xd5\\xf9\\x0c\\xb8\\x87\\x0f\\x88\\xcc\\x9d\\x1c\"Z=\\xd9\\xfd\\x0b\\xc2\\xdc\\x0f\\x0ck\\x8d\\x1ce_\\x7f\\xf9S\\xfdz\\x9e\\r\\xf1\\x17D\\xbc\\xb9\\xbf\\x93\\xfd!\\x9a\\xb9M7J\\xbc\\xd2\\xaed\\x17\\x1f*\\xedfY\\x17\\xfd\\xde+\\xd0\\xf5Hf\\xbam\\x92\\x7f\\xc0Z\\xb1\\xb5\\x1bdth\\xfc\\xaf\\xe0\\xaf\\xd7\\xf8k\\x89\\x1e\\x1d\\xa8\\xd4J\\xc7\\xc0\\xf8\\xb5\\xe0\\xc4+a\\xa5*\\r\\xa7\\xeay\\xa6\\xab!\\xb9\\x9aI$\\xdd\\x95\\xfe$\\xaa\\x16\\x13?\\x9c\\xd6\\xf2\\\\\\x7f\\xba\\xd5\\xd4k\\x1a\"C3I\\x14}k\\x06{8m_\\xcc\\xfb\\xbbk\\xf5\\\\>>\\x96\"\\x92\\x9d>\\xbd\\x0f\\xe1\\x8c\\xe3#\\xc4d\\xf8\\xc9a\\xeb+5\\xd7c\\xa2\\xd0f\\x95!Q\\xe5\\xee\\x1f\\xde\\xefZ/r\\xf0\\xc2\\xde\\\\\\x9f{\\xefV\\x1e\\x8f\\xa9\"#\\'\\xda>_\\xee\\xd47\\xfa\\xc7\\x96\\xff\\x00\\xf1\\xf1\\xb9\\x16\\xbbi\\xd5\\xbcn|\\xfc\\xa9/i\\xb1z\\xf2\\xfe\\x14\\x9b\\x896\\xe7\\xe5j\\xc7\\xbb\\xb9O\\x9a?3w\\xf7wU;\\xcdm\\x1d\\xff\\x00\\xbdY7:\\xc2oid\\xf9M%~f\\xfb\\x94\\xa3t\\x95\\xb66~\\xd8\\x11<\\xbf3j\\xff\\x00\\x13U9\\xb5%\\xb6v\\xfd\\xe6\\xea\\xc8\\x9bX\\x9b~\\xcf\\xbc\\x9f\\xc3PM\\xa9y\\xc9\\xfb\\xb8\\xbf\\xdd\\xa6\\xfd\\xdd\\x88\\xe5{\\xcbb\\xdd\\xcd\\xe4\\xd2L\\xd2Eq\\xc5@\\xf7\\xef\\xbd\\xbfy\\xff\\x00\\x01\\xac\\xd9\\xaf\\'\\xff\\x00\\x96t\\xcf\\xed\\x07}\\xd2FR\\xab\\x9d\\rS\\xbcl_\\xfb{\\x8f\\xdeG%G6\\xab\\xff\\x00=\\x07\\xfc\\x06\\xb2\\xe6\\xbf}\\xff\\x00\\xeb>\\xf5E\\xf6\\xff\\x00\\xbd$\\x92Q\\xcc\\xc3\\x97\\xc8\\xd4{\\xc7q\\x8e\\xdf\\xc4\\xd5N[\\xf4Gh\\xc7F\\xfe*\\xa0\\xf7\\xcf\\x96\\xf3~\\xef\\xf7j\\x19\\xae]\\xf6\\xf9u\\x9f1|\\x88\\xba\\xfa\\x96\\xc4\\xf2\\xfc\\xcf\\xbbU^\\xfd7\\xb4\\xa6M\\xca\\x7f\\x86\\xab>\\xfd\\xfe_\\x98\\xec)\\xa2\\x19\\x9f\\xfeY\\xee\\xaa*0l\\x99\\xef7\\xed\\xa8\\xd2\\xe5\\xf7\\xe2\\x95\\xed\\x9fgN\\x94\\xebkm\\x9f\\xf2\\xcf\\x9f\\xe2\\xa9r\\xf7l\\x83\\x92\\xd2\\xbb\\x0f:g\\xff\\x00i\\x8d\\x01\\xdd\\xcf\\xbf\\xf7j\\xcc6\\x0f __\\xe2\\xab6\\xdaRo\\xe2?\\xf7k7>]\\xcd\\x14W&\\x86n\\xc7\\xf9}V\\xa6\\xb6\\xb0\\x9f\\x7f\\xfb\\xdf3V\\xc4:\"\\x7f\\xac\\x92?\\xbb\\xf7j\\xfd\\x9e\\x94>X\\xc4|\\xb7\\xdd\\xa8\\x96!A4\\xba\\x0b\\xd9\\x1c\\xf7\\x93*\\x7f\\xac\\x8f\\x8a\\x93\\xec\\xcf\\xb1c\\xfe\\xf5to\\xa2;\\xa7\\x99\\'\\xca\\xbf\\xa5,::C\\xbb\\xf7j\\xcf\\xfc4\\xa3\\x8aH^\\xc6\\xd2\\xb20\\x13M\\x9a4\\xea\\xdf\\xee\\xd4\\xd0\\xe8\\xf7/\\xbaI#\\xe9\\xf7V\\xbaT\\xd2\\x9d\\xd1d\\x16\\xff\\x00*\\xfd\\xe5\\xa5\\xfe\\xcaO\\x9b\\xcb\\x8f\\xfd\\xda\\xcb\\xebe\\xbc:M5\\xad\\xcef\\xdbI\\x9b\\x7f\\x99$|\\xff\\x00\\x15\\\\M\\x1d\\xe6O\\xdd\\xc7\\xf3-tV\\x1a:li$\\x8fq\\xd9\\xf2\\xadX\\x86\\xc1\\x04\\xde_\\xdd&\\xa1\\xe2d\\xe7\\xb9K\\re{\\x1c\\xcd\\xbe\\x82\\xef\\xfe\\xb2=\\xadW\\xed\\xb4O\\x9f\\xfd^\\xec\\x7f\\rm=\\x92Y\\xff\\x00\\xac\\xf9w\\x7f\\x12\\xd2\\xa5\\xb6\\xc4\\xff\\x00H\\x8fo\\xf7Z\\xa6U\\x9c\\xa5{\\x87\\xb2\\x8bV[\\x94 \\xd2\\xa0O\\xdeI\\x1e\\xdf\\xee\\xd5\\xfbm\\x9bW\\xcc\\xb7\\xe9\\xf7\\x95*\\xc3\\xa4)6\\x0f\\xcd\\x84\\xf9j8vlo/\\xe5_\\xefT\\xc6W\\x8d\\xee\\x0e\\x9a\\x7f\\xe6\",?4\\x87\\xbf\\xca\\xb5b\\xd9\\xe4G\\xf2\\xbc\\xbe\\x9f-A\\xf6\\xc4G\\xf2\\xe3\\x8b\\xe4\\xfe*T\\xbcx\\x7fx\\xf2}\\xef\\xba\\xdd\\xea\\xbd\\xa3\\x9d\\xace(AG\\x9b\\xa9rg\\x85?w\\xe5n?\\xad\\x04B\\xef\\x1d\\xc4r|\\xbfv\\xa9Ms\\xb1\\xdaM\\x9b\\x9e\\x813\\xba,Q\\xc5\\xe5\\xec\\xf9\\xaa\\xe4\\xa7\\xca\\x9a\\xd8\\x88\\xb4\\xaf\\xa1\\xac\\xf7(\\x89\\xe5\\xc9\\xf3\\x06\\xfc\\xe9\\xb3Il\\x88\\xd2G&\\xe3\\xb3\\xf1\\xac\\xcf1\\xdd\\x14\\xc5\\xb1\\xbeO\\x99\\xaa\\xc5\\xb5\\xe2o\\xf3%\\x8fqo\\x97\\xda\\xb5\\x82dM\\xdbdEs$be\\x8f\\xcb\\xdb\\xfc[\\xaa\\x18fxf\\xf3$\\x93ro\\xf9j\\xc5\\xcd\\xb3\\xf9\\xedq\\x1c\\x9b\\x9a\\xb3\\xaea\\xb9O\\xdd\\x8bv\\xc9\\xf9\\x95h\\x95\\x96\\xc5F\\\\\\xd2\\xb35\\xec\\xf5T\\xb6\\x99|\\xb97/\\xf0\\xb5oX^[kv\\xdfg\\xb8)\\xfd\\xdf1\\xab\\x8e\\x9b\\xce\\x85\\x16?/km\\xab\\xdan\\xaa\\xf0\\xed\\x8e8\\xddX}\\xe6\\x7f\\xe3\\xa7N\\xb5\\xb7\\xd5\\x19\\xd4\\xa1\\xcd\\xea}?d\\xff\\x00\\'\\xef>\\xff\\x00\\xf0\\xed\\xe9S\\xbf\\xce\\x8b%\\xc4l\\xa4T)a\\xe4\\xbcfM\\xd8\\xfc\\xaa\\xcf\\x93\\xbd\\xd8Hv\\xedJ\\x95\\xcd\\x03\\x16\\xd4\\xae\\x92\\xd4\\x91\\x1c\\'\\xfbIP\\\\\\xddF\\xfb\\xa4\\xb7\\xdf\\xb9~\\xef\\xa5>\\xe5!\\x9a\\x16\\x8a9\\x1b\\x8f\\x97o\\x97H\\x90\\xa5\\xb5\\xb2\\xc7\\xe6|\\x9b\\xbe\\xf7z\\xbb\\xd96\\x9d\\x89\\xb5\\xedtE\\x1a>\\xc6\\xb8\\x93\\xe5\\x14\\xe7\\x85!\\x87\\xcd\\x92O\\xf7i\\xb3l\\x9ae\\x8e\\xdaGU\\xa9\\xfc\\x99\\x9e\\xc2I#\\x91\\x19S\\xe5\\xda\\xf5<\\xd0\\xe5\\xb4\\xb74Jq\\x95\\xd1H\\xa4(\\xebo,\\x9f-1\\xe1H\\x7f\\xd6|\\xdf\\xc4\\xbf\\xbc\\xa4\\xf9\\xe1\\xdboq\\xfc_\\xc5G\\xc8\\xf7+\\xfb\\xb6f\\xfd*y\\xdc\\xaeR\\x85\\xa3{\\n\\x93C3)H\\xf6\\xa8\\xfb\\xcdB\"&\\xe9\\xe3\\x93\\xfd\\xea\\'\\xf2]\\xf3g\\xbd\\x7f\\xbd\\xda\\x9c\\xf3l\\x1f\\xbb\\xddQ\\xed-;-\\x8b\\xe4|\\xb6%y\\x92\\x14\\xfb=\\xbf\\x7f\\xba\\xb5\\x1c\\xc9r\\x1f\\xcb\\x8aN\\x17\\xee\\xd3\\xa1\\xf2\\xeen|\\xb9$\\xf2\\xf0\\x9fz\\x89\\xe4xfkk\\x8d\\xad\\xf3\\xfc\\xadT\\xdf6\\xafs6\\xa7\\xcbd@\\xf3F\\xfb|\\xb8\\xf7\\x7fuhy\\xbe\\xef\\x99\\xf2\\xb1\\xfe\\x1ao\\x92\\x9f5\\xc4cv\\xdf\\xba\\xb5Y\\xe6\\xd92\\xf9\\x9b2\\xdf6\\xdajV\\xea.RdKg\\x7f0H\\xd9\\xfe*K\\x99\\xac\\xf7\\x9f\\xdd\\xb3(Z\\xa95\\xe4\\xd3;}\\x9e4\\xf9i\\x8f1O\\xdeI\\xf31\\xfc+\\x0encH\\xc6\\xc4\\xd3_\\xc3r~\\xd3\\xe5\\x7f\\xc0zT?o}\\x8d\\xe5\\xefTo\\xba\\xdd*\\x9c\\xd73?\\x11\\xc6\\x9f\\xee\\xd4\\x10\\xc8\\xf3n\\x8f\\xcc\\xdcW\\xe5\\xdbY\\xba\\x96\\xe8i\\xc8\\x89\\xaf/\\xee\\x7f\\xd5\\xfc\\xea?\\x85\\x92\\xb2\\xeeof\\x98y\\x92\\\\n\\xdb\\xf7\\x96\\xac\\xea\\x16\\xd7\\x88\\x8d\\x1c}*\\x9aX$37\\x99\\xf2\\xef_\\xbd\\\\\\xf5\\xa5)^\\xcfc\\xaf\\x0f\\x1eY\\xecPw\\x9b\\xed_\\xbb\\x8f\\x9f\\xe2\\xdfL\\x9b~\\xcf\\xdd\\xc7\\xb5\\x13\\xefU\\xdf\\xec\\xdb\\xfd\\x8b\\x1f\\xfe=\\xde\\xa6O\\x0f?\\xcb\\xfb\\xc7\\xc3\\xfd\\xea\\xe3\\xf6u\\x0e\\xafk\\x18\\xbb\\x9c\\xf5\\xca%\\xce\\xeb\\x89?\\xf1\\xfa\\xc4\\xbd\\xd0!y\\xbc\\xcbx\\xdd\\xb3\\xfd\\xca\\xf48|1g\\x0c\\xcb\\xe6[\\xf9\\x9b\\x7f\\x86\\xa7k\\x0b;d\\xfd\\xdd\\x9e\\xdd\\xdfwluj\\x9dF\\xec\\x9d\\x87O\\x12\\x94n\\xd5\\xcf(\\x9b\\xe1w\\xf6\\xf2y\\x9a\\x9e\\x9f\\x14\\x8a[\\xefy|\\xd5\\xcd\\'\\xe0o\\x84\\xb4\\xfb\\x95\\xb8\\xb8\\xd0\\xe2fO\\xba\\xbe]zT\\xd6\\xb3\\'\\xfc{\\xdb\\xee_\\xbd\\xb6\\xab\\xef\\x99&\\xff\\x00H\\x8e\\xba`\\xd5-\\x99/\\x13V\\xa4l\\xd6\\x9d\\xca\\xda&\\x83\\xa5X;G\\xa7\\xe9\\xf1F\\xbb~U\\xf2\\xf0+\\xa1\\xb0\\x85\\x12\\x1f\\xf4\\x9bo,\\xec\\xfb\\xa9\\xd2\\xb3\\xa1\\x99!\\xfd\\xe4q\\xed\\xa7}\\xbe\\xe7\\xfddr?\\xf7\\xabw]\\xf4g/\\xb3\\xebmI\\xae^?\\xb4\\xb4\\x91G\\xf2\\xd4P\\xdf\\xbf\\x9d\\xe6F\\x9b\\x7f\\xbc\\xcfL\\xb9\\xd4\\xe2\\xf9e\\xf5\\xfe\\x1a\\xabyrfE2G\\xf2\\xff\\x00\\xb1\\xd2\\xa7\\xda\\xf2\\xdf\\xcc=\\x91\\xb9g\\xe2O%\\xdb\\xcb\\x93v\\xe4\\xf9\\x99*;\\x9f\\x12M6\\xd8\\xfc\\xc7\\xf9~\\xf5`%\\xca;\\xb4v\\xe1W\\xe4\\xabZ?\\xfaf\\xab\\r\\xbb\\xc9\\xfe\\xf5q\\xe2\\xdd\\x0ff\\xe7=\\x92=\\xdc\\xaa\\xbe?\\xdbF\\x85\\x17\\xabi\\x1a6z&\\xa5\\xaa\\xde7\\x97\\x1e\\xd8\\x9b\\xef5{_\\xec\\xdd\\xf0\\x96}W]\\x8aD\\x871\\xc5\\xfcU\\xca\\xf8sN\\xd3m\\xac\\xe3\\xf2\\xe3\\xe5\\x93\\xe6\\xaf\\xa6\\xbfe\\xadc\\xc2\\xfa~\\x98$\\xb8\\x99U\\x85\\x7f:x\\x81\\xc4\\xf5\\xf1.T)i\\x1d\\xbf\\xe1\\xcf\\xef\\x8e\\x02\\xe1\\x88pw\\x06\\xcb1\\xf6|\\xf8\\x9a\\x8a\\xdc\\xd6\\xd5\\'\\xd8\\xf4\\x1b_\\x87\\n\\xba`\\x92x\\xfc\\xb4\\x8d9\\xaf\\x04\\xfd\\xad>\\x18M\\x1f\\x87\\xc6\\xb5$\\xe8\\xa5\\xb7<qw\\xda?\\x8a\\xbd\\xeb\\xe2O\\xc5\\xcb#k\\xf6=:e\\x08\\xbc\\xb5|\\xa3\\xfbH|Y\\xd4\\xbcA\\x05\\xc5\\xb4\\xd7l\\xdeg\\xc8\\xab\\xfe\\xc8\\xe8\\xb5\\xf9nKF\\xac\\xb38{\\x07{=_\\xcfS\\xeb8\\x13\\x0b\\x9f\\xe2\\xb3zu\\xd7\\xba\\xafw~\\xc7\\x83\\xdc\\x02\"g\\xfb\\xa4w\\xac=I\\xdd\\x1d\\xa4\\x15\\xa9\\xa9M\\xb2-\\x99\\xeb\\\\\\x8f\\x895\\x83\\x0e\\xe8\\xe3\\xaf\\xdb\\xb2\\xf8M\\xd4\\\\\\xa7\\xec\\xdcs\\no,\\x95\\xf7\\xb1S^\\xbc\\xb6Kou\\xaf7\\xf1\\x0f\\x88R\\x1b\\x99#\\x1f/\\xf7V\\xb7|A\\xac\\\\\\xba7\\xef8\\xfe\\xf7z\\xf3\\x8dr\\xff\\x00\\x17\\x92y\\x97\\x1b\\xb2\\xff\\x00\\x8d~\\xd5\\xc3\\xdc\\xfe\\xc6\\xc7\\xf9\\x8d\\xe2\\xd6\\x0e\\x14s\\x075\\xbbl\\xde\\xb3\\xf1\\x0c\\xcf\\x1by\\x92\\x7f\\xc0\\xa9\\xd3k\\xce\\xe9\\xfb\\xba\\xe6\\x12\\xff\\x00by\\x91\\xc9\\xcd,:\\x96\\xf9<\\xbf\\xee\\xff\\x00\\r}T&\\xb9n~!:~\\xfa5nuW}\\xd2}\\xd3U_R\\x99\\xdf\\xfdf\\xda\\xa2\\xf7\\x89\\xe65F\\xf7;\\xe3_/\\xb7\\xde\\xa9\\xbf\\xbdbTy\\xa3v\\x8b\\xf3_\\xban\\x8e97Uo\\xb5\\xb7\\xfc\\xf45U\\xeedwh\\xff\\x00\\xbb\\xfcT\\x8e\\x8e\\xfc\\x7f*NV\\x07e\\xd4\\x91\\xef&M\\xde_\\xcd\\xba\\xa0\\xfbL\\xdb\\xd8I\\'Zw\\xd9\\xa6\\xf9x\\xe5\\xa9\\xf6\\xd6o\\xb1\\xbc\\xc8\\xb77\\xf7j\\xf9\\x97-\\xc8\\xe5\\xe5\\xe8B\\xf2;\\xfe\\xeeZ\\r\\xb3\\xec\\xf3?\\xbbW\\xd3J\\x9b\\xe5\\xff\\x00k\\xefU\\xa4\\xd0w\\xa7\\xfa\\xbf\\xbd\\xf7\\xaa9\\xd0\\xf9\\x1ce\\xcc\\x95\\xd1\\x95\\xe4\\xbb\\xff\\x00\\xad\\x8e\\x9c\\x96n\\xff\\x00\\xbc\\xc5o\\xc3\\xa3\\xb8\\xdb\\x1c\\x96\\xff\\x00\\xf0*\\xbb\\xfd\\x89\\xe4\\x9f\\xdeGY\\xba\\xf6-AF\\xd7\\xeas\\x1f\\xd9\\xee\\xff\\x00\\xea\\xa3\\xe9\\xf7\\x96\\xac\\xc3\\xa6\\xbb\\xa7\\xee\\xe3o\\xf7\\xab\\xa5\\xb6\\xd0dr\\xb2yh\\xca\\x7f\\x8a\\xac\\xbe\\x8e\\x90\\xfe\\xee8\\xf6\\xadf\\xeb\\xfb\\xb6F\\x8a7\\xdc\\xe6\\x13A\\xf3\\xb6\\xc5\\xb3\\xe6\\xfe\\xedXM\\x06O\\xdd\\xc7\\xe5\\xfd\\xea\\xe8\\xd3J\\x7f\\x97\\xcc\\x8d\\xdbo\\xdej\\xb8\\x9a?\\xc9\\xe5\\xfd\\xec\\xa7\\xca\\xb5\\x83\\xae\\xd1~\\xc9=\\x8er\\x1d\\x13\\xcb\\xdb$\\x91\\xf4\\xfb\\xd5v\\xcfHM\\xfeg\\x95\\xb7\\xfd\\x9a\\xdcM5>X\\xee#\\xe5j\\xc2i\\xa8\\xee\\xb1F6\\xaf\\xf7\\xab*\\x95e \\x8d4\\xcc\\x8f\\xb0[<*c)\\xb9i\\xd6\\xbajB\\xff\\x00\\xbc\\x93\\xe6o\\xba\\xb5\\xad\\r\\xb2y\\x92I$\\x7fw\\xfd[Ry?4\\x92A\\x1ano\\xe1\\xa8\\xe6|\\xd6\\x0f\\xb2\\x9b\\xe8Q\\xfb\\x17\\x9c\\xfe\\\\\\x89\\xb5U\\xfe]\\xf4=\\x84ir\\xa3\\xb9\\xfb\\xd5\\xa5\\xf6hf\\xdb\\xe7\\xfc\\xa6\\xa4{\\x0f,G${X\\xee\\xf9\\xbd)&\\xfa\\xe8^\\x9c\\xb6\\xb1U\\x11\\x11\\x1a;x\\xaa \\x88\\x89\\x99\\x0e\\xdf\\xef5]w\\x86\\x1d\\xd1\\xfd\\xd5t\\xf9\\xb6\\xd2h\\x9e\\x0c\\xd6\\xfc[g}o\\xa5\\xec_\"\\xdd\\x9eI%\\x91@E\\xff\\x00\\x81\\x11\\xcdf\\xe4\\xa3{\\xf47\\xa5B\\xadi\\xc6\\x14\\xf7g\\x15s\\xf1\\nhu\\xb5\\xb7\\xd2\\xf4\\xf7\\xb8]\\xfbV8\\xba\\xbdt\\x90\\xdc\\xbc\\x96\\xd1\\xc9%\\x9f\\x92\\xef\\xf32\\xb7Z\\xe6\\xbe\\x1ax\\xb7\\xc1>\\x0f\\xd7\\xa4\\xb7\\x92\\xcd/\\xb5)^H\\xd6F\\xe8\\x95\\xd1^^=\\xec\\xcd$\\x9b7o\\xf9UzSs\\xac\\xea\\xb8\\xb8Z=\\xfb\\x9e\\xa6;\\x0f\\x83\\xc3ac\\x18\\xd4N\\xafT\\xbaz\\xf7c\\xeen|\\xef\\xdd\\xf9|\\xff\\x00\\x0bSw\\xdc\\xbd\\xca\\xc9!\\xf9\\x07\\xcb\\xb7\\xb5\\t\\xf2?\\x97&\\xd5\\xcf\\xf0\\xd0\\x96\\x13oi|\\xcd\\xa1\\xbe\\xea\\xd5.X\\xca\\xe7\\x83\\xcb\\'\\xab\\xdcs\\xa3\\xf6\\x93\\xaf\\xf0\\xa5#\\xf9\\xcf\\n\\xdc[\\xc9\\xb8/\\xcb\\xb5\\xe9^\\xdai!h\\xe3\\xb8\\xdb\\x8a\\xac\\xfb\\xd2\\x06\\x8e_\\x99\\xbf\\x85\\xaa\\x9c\\xaf\\xa5\\xf5\\t%t\\xa3\\xb7\\xa9<7>z~\\xf3f\\xd0\\xdf-$\\xdb\\x11\\xd4\\xfa\\xfd\\xd6\\xa6=\\xb2y>dq\\xfc\\xcb\\xfc4\\x90\\xa7\\x9c\\x169#|V\\xb0\\xe5\\x8b\\xb9\\x84\\xa9\\xda\\xd7\\xeaImr\\x897\\x97q\\x1f\\xde\\xfb\\xcdR\\xdc\\xcc\\x8e|\\xb8\\xf6\\xb0\\xfe\\x15\\xefUf0\\xfc\\xde_\\xef7/\\xcb\\xba\\x98\\x0e\\xc4X\\xfc\\xbf\\x9b\\xfb\\xd5\\\\\\xdc\\xd1m;\\x13$\\xafn\\x85\\xb8c\\x87\\xfd\\xd2\\xbf\\xc3R\\xbf\\x92\\x9b\\x7f\\x84%T\\x85\\xfc\\xe4i\\x0f\\xcb\\xb7\\xf8\\xa9\\xf0\\xf9\\xc11\\x1f\\xcd\\x9a|\\xfed\\xa8\\xb9X\\xb9mr\\x88\\xed\\xfe\\x8d\\xb9\\x19\\xf6\\xabR^\\x1bg\\xff\\x00W\\x1b3o\\xf9j\\xaa\\xcd2M\\xfb\\xc97\\x7fyj_\\xb7\\xf9\\xa8\\xd2G\\xfc5p~\\xf5\\xad\\xa0\\xa4\\x96\\xf6\\xd7\\xb1\\x0b\\xe7\\xcei\\x1eD\\\\\\xff\\x00\\rV{\\x99\\xb7\\xf9q\\xc9\\xf7\\x9f\\xee\\xd5\\x9d\\xff\\x00iF\\x93\\xcb\\xdb\\xbb\\xf8\\xa9\\xafl\\xaf\\x07\\x98\\x91\\xff\\x00\\xb5\\xbb\\xa59*jM\\xab\\xdcI\\xcd\\x9f_?\\xef\\xb7y\\x91\\xed\\xfe%\\xa8&\\x9b\\xce>dr\\x7f\\x07\\xcc\\xb5\\xd7\\xf8\\x8b\\xe0\\x9f\\xc5\\x1f\\n$\\x91\\xf8\\x93\\xc0z\\xb5\\xab\\x7f\\x17\\x9bc\"\\xff\\x00J\\xe4\\xaet}B\\xceo.+yY\\x9b\\xef+u\\xa9n\\xe4\\xce\\x84\\xe9\\xfcQk\\xe4Vy\\x9f\\xfd\\\\\\x7f{\\xf8h\\x99\\x1e\\xe6\\x1f28\\xf6\\xed\\xfb\\xd5/\\x90\\xef\\xfb\\xb8\\xed\\xda7Tm\\xcd\\xb2\\xa2\\xf2nvyr\\\\mv\\xdb\\xb9i)7$\\xfb\\x19\\xbav\\x19\\xf2l\\xf2\\xe3\\x93\\xee\\xfd\\xefZ\\x85\\xee|\\x9d\\xd1\\xf9\\x9f{\\xe6\\xf9j\\xc5\\xcc(\\x8f\\xe6[\\xdb\\xbb\\x7fy\\xaa\\xb3\\xd9\\xdc\\xbb\\xac\\x92G\\xb4\\xbf\\xddj\\xc2u\\x1f>\\xe6\\xb1\\xa6\\xdd=\\x99\\x12L\\x92#\\\\y\\x8e\\xad\\xfe\\xd5>\\x1b\\xa7\\x9b\\xf7\\x86>\\x7f\\x86\\xa1H^;\\xc9?\\xd1\\xdd\\x90|\\xac\\xabO\\xb9\\xb3\\xbfG_\\xb3\\xdbK\\xf7\\xbe\\xf2\\xa5\\ni+\\\\\\xb8\\xd2\\x95M\\xa3\\xf8\\n\\xf3e1q\\x1e\\xd6\\xfe\\x1d\\x95\\x1a^:?\\x97\\x1c\\x9b\\x9bo\\xcc\\xadZ\\xb0\\xf83\\xc6\\xda\\xae\\xdf\\xb1\\xf8^\\xfe\\xe9v|\\xcd\\x15\\xab\\x9f\\xe9W,>\\x05|f\\xbcO\\xb4\\x7f\\xc2\\xaf\\xd7\\x99\\nnV\\xfe\\xca\\x9b\\xff\\x00\\x88\\xa9\\xf6\\x91WotuG/\\xc6T\\x8aj\\x9b\\xd7\\xc9\\x9c\\xfe\\xfd\\x97-\\'\\x99\\xf7\\xbej<\\xe2\\xe7\\xcd\\xfb\\xc3\\xfd\\xaa\\xdd\\x9f\\xe0\\xe7\\xc5{o2;\\x8f\\x87\\xfa\\xca\\xbe\\xff\\x00\\xbd\\xfd\\x9b&?\\x95T\\x9b\\xe1\\xa7\\x8f-\\xa6ky<\\x0f\\xaa*\\xff\\x00\\xd7\\x8c\\x87\\xfaU\\xfda8\\xd9\\x89\\xe0\\xb1Q\\xde\\x9b_#\\x1c\\xde|\\x8d\\x1ccv>\\xf5V\\x9a\\x14y\\xbe\\xd1\\'\\xcc\\x15~V\\xad)\\xbc%\\xe2\\x1bd\\x93\\xcc\\xd1\\xee\\xa3+\\xfe\\xb3|\\x04l\\xff\\x00\\xbe\\x85Rxo\\x0c+oon\\xcd\\xb7\\xe5\\x93\\xbf\\xf1T{u\\xcc\\xf5\\xd0\\xcd\\xe0\\xebGx\\xb5\\xf2+&\\xcbm\\xd2I\\xbbs\\xfd\\xd9*-\\xfeC\\xf9rI\\xb87\\xf1U\\x99\\xad\\x9e\\x1f2\\xceH\\xf6\\x9d\\xdf*\\xbdR\\xbc\\xfe+\\x8c6\\xe5\\xf9v\\xd4\\xca\\xacf\\xdb]\\x08\\x8d\\n\\xa95m\\xc9\\x92\\x14\\xf3\\x9a\\xe3\\xcb\\xda\\x16\\x91\\xd2\\x17u\\x928\\xf8o\\xbdD/3\\xc2\\xd2yl\\xbf\\xde\\xa8\\xf6\\x7f\\xcfM\\xea\\xb5\\n\\xa5\\xfa\\x1a\\xaa2%w\\x85\\xf7G\\xf7G\\xde\\xddT\\xee^\\xd9\\x11\\xbc\\xcf\\x98\\x7fv\\xa6\\x99\\xdfg\\x97\\x14{\\x95j\\x9d\\xe7\\xef?y\\xe6m\\xfe\\xea\\xade)\\xad_F\\\\a(\\xc6\\xc4\\x9fi\\xfd\\xcf\\xee\\xe3\\xdb\\xfd\\xdaXo\\x1f\\x7f\\x97m\\'\\xcb\\xb2\\xb3&\\x17\\x98_27U\\xfe\\x1a\\x9d!\\x96\\x17[\\x88\\xe3e]\\x9fz\\xa5\\xcf\\xd9\\xda\\xefsHa\\xeaM\\xdf\\x96\\xe6\\xa3\\xec\\x87l\\x82\\xe3s\\x1f\\xe1\\xefH\\xef\\xf3\\xb4\\x9eg\\xcb\\xfc5I\\xdeb\\xff\\x00h\\x8e6]\\x9f.\\xdal73G\\xfb\\xbf\\xb3\\xfc\\xc7\\xee\\xb59Un6A\\xf5wM\\xbe\\x85\\x97\\xb9Du\\xfd\\xe7\\xfc\\n\\xa9\\xa5\\xcc\\xcfq\\xe6\\\\F\\x8c\\xaf\\xf2\\xee\\xa2l\\xef\\xff\\x00\\x80|\\xdb\\xea\\t\\x9d\\xff\\x00\\xd5\\xf9\\x7f*\\xd6~\\xd5\\x9b\\xfb\\x07\\xcbmGMx\\xef\\xfe\\x8f\\'\\xcc\\xc1\\xbeZ\\x8d\\xee_\\r\\xfb\\xcf\\x98|\\xbbj\\'y\\xaedY<\\xbd\\xb9\\xfb\\xaa\\xfc\\x1a\\x82\\x14\\xb9Go27\\xf9\\xbf\\x85\\xaaUkv\\x1c\\xb0\\xcf\\xa2\\xd0\\x99\\xee.]<\\xb9#\\xf9\\xb6|\\xb5\\x1d\\xcd\\xcb\\xbb\\xfe\\xf2\\xe1\\xf7*\\xfd\\xde\\xd4\\xaf\\xf6\\xf7\\xdb\\x1c\\x9bT\\xff\\x00\\n\\xf7\\xa8\\xa6\\xb3\\xb9\\xdf\\xe6I\\x1b\\xb6\\xe6\\xf9hU\\x9e\\xdd\\n\\xa7\\x85\\x9a\\xe82\\x19\\x90\\xcd\\xe6\\\\G\\xb8+\\xfd\\xda\\xd1\\xf0\\xad\\xe2\\x7fl\\xb0\\xf2\\xfeT\\xacw\\x86\\xe6\\x17\\xfd\\xe5\\xbb\\xb6~\\xebS\\xed\\xa6\\x9bMx\\xef#\\x91Y\\x0b\\xfe\\xf1\\xab\\x9f\\x14\\xfd\\xa5\\x19A\\xf5V=\\\\\\xb2U0\\x98\\xfauZv\\x8bOc\\xd9t[\\xf8f\\xb6\\x8f\\xcb\\xbc\\xdd\\xf2\\xfc\\xb5\\xa9\\xa3|C\\xd6|\\'!\\x96\\xc2Ft?xn\\xaf8\\xd2\\xbcP\\x90\\xa3y\\x92mU\\xfb\\xb5\\xa5\\xff\\x00\\t\\ny\\x18\\x96M\\xac\\xe9\\xf2\\xd7\\xe1\\x99\\xd6K?\\xac\\xc9\\xca7L\\xff\\x00F|5\\xe3,\\xaf0\\xca\\xa1\\x87\\xc4Y\\xc6\\xcbs\\xba\\xf1\\x07\\xed\\x07y}g\\xe5\\x1d\\xdei\\x1f6+\\xcf<G\\xe2y\\xb5\\xf9\\x8d\\xcd\\xf4\\x9bG\\xf0\\xae+3R\\xd5\\xedQ\\xdb\\xcctl}\\xea\\xe5u\\xdf\\x19\\xc7\\xb9\\xa3\\x8aO\\xbb\\\\\\xf9nKB\\x8b\\xfd\\xcd;3\\xf6\\xec.?\\x86\\xf2\\xda>\\xd2\\x83I\\x96\\xfcG\\xaaB\\x81\\xb1\\'\\xdd\\xfb\\xb5\\xc1\\xebz\\x91\\x9aF\\xfd\\xe5\\\\\\xd5u\\xb9.S\\xf7\\x92|\\xb5\\xc4\\xf8\\x9f\\xc6\\x16v\\x1b\\xa3\\x8eO2_\\xe1\\x8d95\\xf7\\x99^YU\\xc9E+\\xb3\\xf2N:\\xe3|,0\\xb3\\xab^j0D\\x1e*\\xd5a\\xb3\\x85\\xbfy\\xb5\\x9a\\xb8\\x1b\\xcb\\xaf:f2|\\xcaj\\xe6\\xa5s\\xackw\\x8d$\\x96\\xf2\\xc8?\\xba\\xa8\\xd5\\xd1x\\x07\\xf6x\\xf8\\xbb\\xf1&\\xe5m\\xfc\\'\\xe0\\xab\\xa9\\x95\\xdfo\\x99/\\xc8\\x9f\\xad~\\xa5\\x80\\xa5\\x0c\\x05\\x0b\\xceI>\\xa7\\xf9\\xf1\\xc6\\xd9\\xcdn(\\xcd\\xa5<<\\x1b\\x82zhq\\xfb\\xdfcG\\x1d>(\\xe6\\xd9\\xfe\\xafi\\xaf\\xa4\\xf4\\x7f\\xf8&\\xcf\\xc5\\xd9\\xac>\\xd1y\\xachq\\xdc/\\xfc\\xba\\xb5\\xf0\\xdd\\xfc\\xab\\x94\\xf1\\x9f\\xec\\x8b\\xf1\\xbf\\xc1,\\xd2j\\x9f\\x0f.\\xa4\\xb6O\\xf9|\\xb2\\xc4\\xd1\\xff\\x00\\xe3\\x9c\\xd7Ts\\x1c\\x1c\\xe5h\\xcd3\\xe3ke\\x19\\x845\\xe4\\xbb\\xf5_\\x95\\xcf\\x1f\\x16o\\xd6M\\xd4\\xa9m7_-\\xeb\\xac\\x9b\\xc1\\x9a\\x95\\x9d\\xca\\xdb\\xdch\\xf3\\xc7+?\\xddx\\x18\\x1f\\xca\\x97\\xfe\\x11\\x8b\\x97u\\x8a=>_\\x9f\\xee\\xfc\\x86\\xb6X\\x8ao\\xaf\\xe2p\\xbc-x\\xe8\\xe2\\xef\\xe8\\xcei4\\xd7\\xf9\\xa4\\x92?\\x97\\xfb\\xd52i\\xae?y\\xf7C\\x7f\\ruQx>\\xf2\\xe6\\xd9\\xa4\\x8fN\\x97;\\xfee\\xd8j\\xcc>\\x0c\\xd5Q\\x16It{\\x86e\\xf9Y|\\x83\\xfe\\x14\\xd5x?z\\xe4\\xcb\\t[~WoFs\\x1f\\xd8\\xff\\x00\"\\xff\\x00J\\xb7a\\xa2|\\x8d\\x1c\\x91\\xf3\\xfc5\\xd3\\xc3\\xe1[\\xf7\\x7f\\xb3\\xfd\\x8d\\x95\\xff\\x00\\xbb\\xb2\\xacYxm\\xd3o\\x97\\xf35G\\xb6]\\xc9xY\\xc7t\\xd7\\xc8\\xc0\\x87D\\xcfK}\\xdb~Z\\xb5m\\xa6B\\x88\\xde\\\\\\x7f7\\xf1V\\xfaiW0\\xee\\x8e;}\\xcc\\xdbwR\\x7fdy34\\xb2l\\xdc?\\xe5\\x9fz\\x97RR\\xbd\\xc7\\xecb\\xb6F?\\xd9\\xb6\\x16\\x8eH\\xeaX\\x92\\xdb\\xfd[\\xc9\\xbb\\xe5\\xf9kO\\xfb\\x12\\xe6g\\xf3#\\xd3\\xdd\\xbf\\xbb\\x1fZ\\x9a\\xdb\\xc3\\x17\\xf7.\\xb1\\xd9\\xe9r\\xc8[\\xf8|\\xb3\\x9a\\x998\\xad\\xcc\\x95*\\xd2\\xd5E\\xb5\\xe8d\\xc3\\x02$\\xff\\x00\\xbc\\x93\\xe5\\xa9\\x9e\\x1f\\x9d\\x84\\x7f0\\xad\\x8bo\\x87\\xbe-y\\x9aI4K\\xf9\\x1b\\xfb\\xbfd\\x7f\\xf0\\xad$\\xf8K\\xf1\\n_\\xdeY\\xf8\\x1fV\\x93?uSN\\x90\\xff\\x00!YJq\\x8e\\xb7\\xd0\\xde8lEOuA\\xdf\\xd1\\x9c\\xcc.\\xfeJ\\xc7\\xe5\\xed\\xcf\\xdej\\xb3\\nL\\x90\\xb4\\x91\\xdb\\xf2~\\xeduv\\xdf\\x04\\xbe-=\\xb3K\\x1f\\xc3}op\\xf9\\x99[J\\x90\\x7fJd\\xdf\\x08~%\\xdbB\\xd1\\xdcx\\x1fWVo\\xba\\xbfa\\x7f\\x93\\xf4\\xac\\xeaT\\xa5\\x1d\\xda6X<Ri\\xf2KO#\\x99\\x8eY\\xe6\\x9b\\xcb\\x93\\xe6\\x03\\xefS\\xa6\\xbf\\xb6\\xdf\\xfb\\xbb}\\xbb~Z\\xb9q\\xe0\\x9f\\x15i\\xb3G\\x1d\\xe7\\x86\\xef\\xd6A\\xbbr\\xbd\\xab\\x83\\xfc\\xaa\\xbf\\xfc\"\\xbe$y\\xbc\\xcb\\x7f\\x0f\\xdem\\xfe%\\xfb#\\x93\\xfc\\xaa\\xa1\\xc9t\\xc9\\x8e\\x1f\\x15\\x1ekE\\xfd\\xcc\\x856l\\x93\\xcb\\x93\\x93\\xf7\\xa3\\xe9PM2\"\\xac\\x91\\xdb\\xed5\\xd0\\x7f\\xc2\\xbd\\xf1\\xce\\xa5\\xe5\\xc5g\\xe0\\xfdFG\\x7f\\xe1\\xfb\\x0c\\x9f\\xe1W\\x13\\xe0\\'\\xc6\\x9b\\x98|\\xb8\\xfe\\x19\\xebm\\xb7\\xef2iRc\\xf9Q\\xcfMI6\\xd2\\x12\\xc2cew\\x18;z3\\x92\\x9bc\\xa2\\x89?\\xef\\x9aK\\x99\\xa6\\x85<\\xb8\\xff\\x00\\xb9\\xf3z\\xd7\\x7fk\\xfb1\\xfc|\\xbc\\x87\\xfeI\\x16\\xbc\\xc1~\\xeb\\x7fgH?\\xf4!Z\\x9aW\\xec[\\xfbL\\xebi\\xe6[\\xfc\\x1f\\xd5\\xf3\\xb7\\xe5\\xf3c\\t\\xff\\x00\\xa1\\x11X\\xaa\\xf8u\\xbc\\x91\\xb4r\\xfc\\xc2\\xa6\\xd4\\x99\\xe7\\x1a\\x06\\x89y\\xe3\\rb\\xcf\\xc3\\xf6\\xf1\\xed\\x9awU\\x8e\\xb9\\x9f\\x8eZ\\xaf\\x8c>\\x1c\\xea\\xad\\xf0\\xee;{\\x8bx\\x9d7}\\xa3a\\x8c^/+\\xe6)=FU\\xb1_S|+\\xfd\\x90\\xbe;\\xf8\\x03\\xc5\\xb6\\xbe(\\xf1\\xe7\\xc3{\\x8b;;T\\xdc\\xd7\\x0f<gfx_\\xba\\xf9\\xaf\\xbd>\\x12\\xfe\\xc9?\\x07\\xbcC\\xf0\\x7f\\xc5\\x9f\\xb4O\\xc4\\xbf\\ni\\xda\\x91\\xb7\\xd1\\xff\\x00\\xb3\\xb4\\xa8o\\xe0I\\x02E\\x1cy?x\\x1f\\xe3f\\xaf\\x9e\\xc6\\xf1\\x03\\xc0\\xe6\\xea\\x8f*\\x94\\x14o\\xf3\\xbd\\x8f\\xbf\\xc88r\\x85\\\\\\x9auk\\xc9\\xc2\\xa3\\x95\\x93\\xf2v\\xd2\\xdf3\\xf0\\x8b\\xe1G\\x85f\\xb9\\xf1\\x05\\xc7\\x88.-\\xe5\\xf2\\xed\\xbeU\\xdd\\x1f\\xf15z.\\xf4\\xf3\\x9b\\xec\\xf1\\xb7\\xcf\\xfd\\xea\\xfbc\\xe3\\x07\\xec\\x1f\\xack\\x7f\\r4\\x7f\\x12|/\\xf0\\xdd\\xacw\\x1a\\xac\\xb2;Z\\xc5\\xb2\\x08\\xd1G\\xa7j\\xf1\\ro\\xf6\\x15\\xfd\\xa7,\\x92H\\xff\\x00\\xe1W\\xdcL\\x13\\xe6\\xddk<.\\x7f\\xf4:\\xfa\\x08f\\xb4\\xb1\\x8d\\xcd\\xbb%\\xd2\\xe7\\xcd\\xe6\\xbc7[\\x07UF\\x8a\\xe6\\xbe\\xb7\\xb7\\x99\\xe30\\xa2y\\xbe_\\x99\\xf7\\xff\\x00\\xbfVm\\xaf6C\\x9b\\x88\\xd9\\xb3\\xf2\\xab%v\\xd7\\x9f\\xb2\\xbf\\xed\\x03\\xa5n\\x93T\\xf8_\\xac\\xc7\\xb3\\xfb\\x96.\\xff\\x00\\xcb5\\x8fy\\xf0s\\xe2\\x8d\\x9d\\xd2\\xdbI\\xf0\\xfbY\\x8fo\\xdef\\xb1\\x93\\x1f\\xca\\xb4\\xf6\\x94e\\xb4\\x91\\xe1O\\x07\\x8e\\xa2\\xd4}\\x9b\\xbf\\xa1\\xcey7;\\xe4\\x8eM\\xab\\xbb\\xe6\\xf5\\xa8\\x9e\\xced\\x99\\xa3\\xb8?\\xee\\xd7I7\\xc3\\x0f\\x88V\\xd6\\xdfh\\xff\\x00\\x84/RP\\xcf\\xf7\\xbe\\xc3&?\\x95\"|(\\xf8\\x91r\\xed\\x1d\\xc7\\x82\\xb5}\\xab\\xf3n\\xfb\\x0c\\x9f\\xe1U\\x19\\xa9J\\xe9\\xa39`\\xb1I5\\xec\\xde\\xbeL\\xe7\\xfc\\x9d\\x89\\xe5\\xe3k\\xfd\\xef\\x9a\\x98\\x89\\x97h\\xfc\\xcd\\xcd\\xfcM]r|\"\\xf8\\xb5x\\xfed\\x1f\\x0f\\xf5\\x96\\xc7\\xca\\xbf\\xf1-\\x93\\xfc*\\xfe\\x9b\\xfb.\\xfe\\xd0:\\xdc\\xcd&\\x9f\\xf0\\xaf[e?37\\xd8\\\\\\x0f\\xfcxS\\xf6\\xd1W\\xbc\\x96\\x82Y~.J/\\xd9\\xc9\\xfc\\x8f:\\xf9\\xdd\\xdaO/\\xee\\xbf\\xdd\\xa4O:O\\x9ff\\xd3\\xfc,\\xd5\\xea\\xff\\x00\\xf0\\xc7\\x9f\\xb4\\x9b\\xdb}\\xa2O\\x84\\xda\\xbe7}\\xdf \\x0e\\x9f\\xef\\x1c\\xd6E\\xe7\\xec\\xd9\\xf1\\xb2\\x19\\xa4\\xb7\\x93\\xe1~\\xb2\\xae\\xbf\\xc2\\xf6/\\xfe\\x15p\\xc4Q{\\xc9}\\xe2\\x96Y\\x8f\\x85\\xafM\\xeb\\xe4p\\xb3y\\x89\\xb6\\xe2P\\x9f\\xee\\xf4\\xa9\\xe1O/\\xf7b\\xe2\\xba;\\xcf\\x82\\x7f\\x17t\\xd7\\xff\\x00L\\xf8}\\xac\\xc7\\xb3\\xef\\x7f\\xa0\\xc9\\xfe\\x14\\xbao\\xc1\\xff\\x00\\x89\\x13?\\xda?\\xe1\\x03\\xd5\\xdb?\\xc3\\xf6\\x17;\\xdb\\xf2\\xa7\\xed\\xe97\\xcc\\x99\\x0b\\x01\\x8br\\xe5\\x957\\x7f\\xd0\\xe6f\\xb3t\\xff\\x00H\\x8c\\xee\\xf9\\xfef\\xa7\\xbb\\xcc\\xee\\xb2|\\x91\\x8d\\xbbk\\xae\\xb6\\xf8\\x03\\xf1\\xb3R\\x99\\xa4\\xd3\\xfe\\x1b\\xeb2\\x06\\xf9~M:L\\x7f*\\xd4O\\xd9\\x17\\xf6\\x8a\\xbf\\xdbq\\xff\\x00\\n\\xbfW\\x8e\\x15\\xff\\x00\\x96\\x8fhER\\xafM/\\x8d[\\xb5\\xcd^]\\x8e\\x7f\\xf2\\xed\\xfd\\xcc\\xf3\\x7f\\x92?\\xdd\\xf9i\\xb6\\xa3\\xb9\\xb9\\x9aD\\xd9o\\x1f\\xca\\xbfz\\xbd]\\xff\\x00co\\xda(\\xdb}\\xa2O\\x85\\xfa\\x8c?\\xdd\\xf3c\\x1f?\\xebYw?\\xb2\\xd7\\xc7]5\\xfc\\xbdC\\xe1\\x96\\xb2\\xb8\\x7f\\x99\\x92\\xd3#\\xff\\x00\\x1d\\xcdT+\\xd2rm5\\xf7\\x98\\xd4\\xca\\xf3(\\xc5\\'M\\xeb\\xe5s\\xf4/\\xc3\\xdf\\xf0Ro\\xdasJ\\xb5\\xfb\\x1d\\xef\\x8c\\x17T\\x84\\xfd\\xe5\\xd5-#\\x9b\\xff\\x00B\\xe6\\xb6\\xa1\\xff\\x00\\x82\\x8c\\xc3\\xe2\\x17_\\xf8Y\\x1f\\xb3\\xb7\\x80u\\x87\\xff\\x00\\x96\\x93>\\x8c#\\x93\\xf3\\xc9\\xdb_\\'\\x7fhL\\x91\\xf9R\\x7fs\\xe6\\xddQ\\xec\\xb9\\xb9-qn7\\x7f\\xb5W98\\x99\\xc30\\xc5\\xa9\\xd9M\\xdb\\xb6\\xe7\\xd8\\x16\\xdf\\xb5\\x8f\\xec7\\xaa\\xcc\\xd2x\\xb3\\xf6?\\xb0\\xb5\\x91\\xff\\x00\\xd6I\\xa4jO\\x1f\\xff\\x00\\xaa\\xa3\\xbc\\xf8\\x91\\xff\\x00\\x04\\xaf\\xd7\\xb7K\\'\\xc1\\x7f\\x14i\\xef\\xb7\\xe6\\xfb>\\xb2\\xce\\x13\\xe9\\x9a\\xf9\\r\\xee|\\x9d\\xb1\\xc9\\x07+P\\xcdxS\\xcc\\x928\\xfa\\xff\\x00\\x15f\\xdaw}}Y\\xb2\\xcc\\xf1/\\xe2\\xe5\\xfb\\x97\\xf9\\x1f^\\xdbx\\xf3\\xfe\\ts`\\x8d\\x1d\\xbf\\xc3?\\x16\\xdd|\\xbf3K\\xaa\\xe3e`k\\x1f\\x1e\\xff\\x00\\xe0\\x9f\\xb6\\x08\\xdf\\xf0\\x8f\\xfe\\xcbw\\xb7\\x8e>XZ\\xf7\\xc4\\x12\\x7f\\xec\\x95\\xf2\\xe3\\xc2\\xe9l\\xb7\\x11\\xba\\xfc\\xff\\x00\\xc4\\x95]\\xd1\\xe1\\xf2\\xe4\\xf3\\x16\\xb9moyk\\xf3\\x7f\\xe6t\\xbc\\xd2\\xaa\\x8d\\xad\\x1f\\xfc\\x05\\x7f\\x91\\xf4m\\xcf\\xed\\x8d\\xf0gDu\\xff\\x00\\x84_\\xf6S\\xf0l.\\x8b\\xb9~\\xdfhn_\\xf3sP\\xff\\x00\\xc3\\xc2|yg\\xb7\\xfb\\x1f\\xe1\\xbf\\x83lQ\\xbf\\xd5\\xad\\xaf\\x87#\\x05=>c\\x9a\\xf9\\xe5\\x10#\\xb7\\x99\\x1a\\xb27\\xf1?Z\\x8a\\xe6\\xf2\\xd9\\x1dm\\xe2\\x8fv\\xcf\\x99W\\xadC\\x95\\xba\\x19\\xff\\x00jb\\xe5\\xf6\\xads\\xe8\\xd9?\\xe0\\xa5\\xff\\x00\\xb4u\\xb3\\xc6t\\xbf\\x10XZ\\xa7\\xddX\\xe2\\xd3cO\\xe4*{O\\xf8*\\xb7\\xedWm\\xba;\\x8f\\x12YH\\xbfuwX\\x8a\\xf9\\x86\\xda\\xfd&\\xddq$m\\xbd\\x7f\\x87\\xa52k\\x97wh\\xe4\\x91\\xbf\\xde\\xacZRM4n\\xb3\\x1c\\xc2-5Q\\xe8}_a\\xff\\x00\\x05\\\\\\xfd\\xa464\\x97\\x9a\\x86\\x93pJ\\xfd\\xd9t\\xe4\\xa5\\x7f\\xf8+_\\xc7\\x84\\xb9Y.<?\\xa0\\xcd\\xfd\\xe6\\xfb\\x08\\xc7\\xfd\\xf21_#\\xbe\\xaa\\x88\\xeb\\xe5\\xc8\\xec\\xbb\\xbf\\nk\\xdc\\xc2\\xf2/\\x97#\\xee)\\xf3/J\\x97N\\x92wkp\\x8ei\\x99|>\\xd1\\xe8}\\x91g\\xff\\x00\\x05n\\xf8\\x8b\\x7f\\xba?\\x10|7\\xf0\\xa5\\xf4o\\xf2\\xc9\\x1c\\xbaP\\x1f\\xd4\\xd2\\xa7\\xfc\\x14w\\xe1.\\xaa\\xf2[\\xf8\\x93\\xf6[\\xf0\\xd4\\xdb\\xd7l\\x92Eh\\x13\\xf3\\xe3\\xa5|d\\x97\\x96\\xd0\\xbc\\x9e\\\\o\\xf3\\xfc\\xaa\\xb4\\xc7\\x99\\xed\\xad\\xbc\\xd8\\xe4\\xdc\\xdb\\xfee\\xac\\x9d:k\\xdd\\x8a7\\xa7\\x9cf*W\\x94\\xff\\x00S\\xec\\xd7\\xfd\\xb3?ck\\xf6\\xf2\\xf5\\xcf\\xd8\\xff\\x00Hf\\xfe&\\xb7\\x91\\x0f\\xf4\\xf9k6\\xff\\x00\\xf6\\x96\\xff\\x00\\x82z^\\\\\\xf9\\x92~\\xc8\\xfc\\xb2\\xed\\xf2\\xd2\\xfbh\\xff\\x00\\xeck\\xe3\\xd7\\xd4\\xb1s\\xf6\\x88\\xe4\\xfb\\xff\\x00\\xc5H\\x97?;[\\xc9\\xf37\\xde\\xddIB-\\xdb^\\xfb\\x9b\\xbc\\xdf\\x17%u\\xcb\\xff\\x00\\x80\\xa3\\xeb\\xa9\\xbfj\\xef\\xd8V\\x16\\xf3l\\xff\\x00c\\xbb6\\x11|\\x91\\xac\\xf7{\\xbf\\xef\\x9c\\x8a\\x85?iO\\xd8\\x1bR\\x99\\xa3\\xd5\\x7fd8\\xa1\\xcf\\xf1Y\\xeaO\\x1f\\xfe\\x82G5\\xf2T\\xc8\\x9b\\xd6Kyw#\\xd14\\xdb!X\\xe4\\x8d\\xd7\\x0f\\xf7\\xbb\\xd6|\\x94\\xf9SM\\x8d\\xe6\\xf8\\xc7\\xfc\\xbfr>\\xbf\\xbc\\xf8\\xc1\\xff\\x00\\x04\\xc7\\xd4\\xb6\\xc7?\\xc0\\r{K\\x97\\xee\\xb4\\x96\\xba\\x91\\xfej\\x7f\\x9dT\\x9b\\xc7\\x9f\\xf0K[dX\\xc7\\xc2\\xff\\x00\\x15\\\\1\\xf9\\xa3d\\xbe ~u\\xf2\\x13\\xcd4/\\xe6Ip\\xdb\\x1b\\xee\\xd1s6\\xcd\\xb1>\\xf5f\\xf9\\xb6\\xd2\\xf61n\\xc9\\xbf\\xbc\\xa5\\x9b\\xd6\\xfeH\\x7f\\xe0(\\xfa\\xc6\\xf3\\xe3\\xdf\\xfc\\x13\\xebI+\\xfd\\x87\\xfb3\\xcb|\\xeb\\xf7d\\xbf\\xbe\\xdd\\xf9\\xe6\\xad\\xe9_\\xb7?\\xec\\xd3\\xa3\\xdc\\xb4~\\x1f\\xfd\\x93\\xfc=n\\xaa\\x9b|\\xc6\\x81\\x0b~\\'\\x15\\xf1\\xd4\\xcf\\xb6\\x1f\\xf5\\x8e\\xbf?\\xca\\xd52ltY#\\xf9\\xb6\\xfd\\xe5\\xac\\xdd\\x08\\xd4\\x8d\\x9b\\x7fy_\\xdb8\\xe8/u\\xa5\\xf2G\\xd93\\xfe\\xdc?\\xb2v\\xbd\\x0b[\\xf8\\xa3\\xf6C\\xd1\\x19\\x07\\xcb\\xe6E\\x04`\\xff\\x00*\\xab\\x0f\\xc7\\xef\\xf8\\'\\x1e\\xa4\\x9ef\\xb1\\xfb;\\xea6\\x7f?\\xcc\\xb6\\xb7\\xc4\\x0f\\xe7_\">\\xb0\\x88\\xebo\\x1d\\xbf\\xfbL\\xbb)l\\xee\\xa1\\xbf\\xf3<\\xbbv\\\\}\\xea\\x88\\xe1c\\xe7\\xf7\\xb3H\\xe7x\\xce\\xad?\\x91\\xf5\\xc3\\xf8\\xc3\\xfe\\t\\x95\\xe7-\\xc4\\x7f\\x0b\\xfcA\\xf36\\xe6T\\xd4\\x8f\\xf8\\xd4W\\x9f\\x1b\\xff\\x00\\xe0\\x9dv\\x08\\xbf\\xf0\\x8f\\xfe\\xcd\\xf2\\xde2\\xbf\\xfc\\xc4\\xa7\\x12\\x1f\\xd6\\xbeE\\xb6\\x9a{k\\x95\\x92?\\x98m\\xf9W\\xb5J\\xefr\\x90y\\x97\\x11\\xed_\\xe1T\\xebQ\\xf5m\\x12\\xe6\\x7fy\\xa7\\xf6\\xdd\\x7f\\xb3\\x18\\xff\\x00\\xe0(\\xfa\\xdd?m\\xef\\xd9kAx\\xec\\xfc7\\xfb)\\xe8\\xd1\\x88\\xdftl\\xf0G\\xfe\\x15\\r\\xe7\\xed\\xff\\x00\\xfb?}\\xa7\\xfbB?\\xd9oF\\xf3\\x9f\\xfdcy\\t\\xf7\\xbf*\\xf9\\x1ai\\xa1\\x99>\\xd3\\xe5\\xba\\xfc\\xb5]\\xde\\x1c\\xff\\x00\\xa3\\xc9\\xb82\\xedjk\\x05FR\\xbb\\xbd\\xfdD\\xf3\\xfc\\xc5\\xfc2_r>\\xb3\\xd6?\\xe0\\xa1\\x1f\\x07\\xe4\\xf2\\xee#\\xfd\\x98\\xf4O9\\x1f\\xf7l\\xf1\\xa7\\xf8T\\x17\\xff\\x00\\xf0R\\xcd\\x06\\x18Z=?\\xf6|\\xf0\\xf4?\\xf3\\xd2D\\x80\\x7f\\x85|\\x97r\\xf3#\\xacw\\x11\\xfc\\x89\\xfcIQ\\\\\\xdc\\xecv\\xb8\\x92=\\xc9\\xfd\\xda\\xbf\\xa8\\xe1\\xa3+4\\xdf\\xccO:\\xcd\\x1f\\xda\\xfc\\x11\\xf5c\\xff\\x00\\xc1Gt\\xddV\\xcf\\xfe&\\x7f\\x01\\xfc?27\\xca\\xbb\\xe0\\x1f\\xe1Uo\\xff\\x00n\\x7f\\x85\\x1a\\x92G\\x1e\\xa9\\xfb-\\xf8^\\xe1\\x17\\xf8\\xbc\\x84?\\xfb%|\\xcc\\x976\\xce\\x8a~u_\\xe2Z\\x8edO\\x96\\xe2\\xde\\xe3j7\\xdej\\xcd\\xe1(>\\x8c\\xd29\\xd6a\\xcbnm=\\x0f\\xa4\\xee\\x7fn\\x1f\\x84Z2yz_\\xec\\xc7\\xe1\\xc8Y\\xfe\\xf2\\xa4`\\x7fJ\\xc8\\xd5\\x7fn\\x7f\\x85\\xd7\\x88\\xb6\\xf7\\x1f\\xb3\\xfe\\x87\\x1c\\'\\xe6e\\x8a0?\\xa5|\\xed4\\x10\\xbd\\xb4\\x98\\x93w\\xcf\\xf8\\xd6\\r\\xe2M\\x14-!\\x91>f\\xdb\\xff\\x00\\x01\\xaelFO\\x82\\xc4\\xabJ\\xe7\\xb7\\x95q\\x86k\\x97J\\xeaM\\xaf\\x9f\\xe8{\\x8f\\x8c?i\\x8f\\x83\\x9a\\xab\\xb4\\x91\\xfc\\x0f\\xd3\\xa1;~VX\\xc0\\xff\\x00\\xeb\\xd7\\x92\\xf8\\xcf\\xe2\\xa7\\x805\\x1f2\\xe3O\\xf0<V\\xff\\x00\\xdd\\xdb!5\\xcaMmr\\xff\\x00\\xbb\\x92M\\xdf\\xdd\\xaa\\x17>\\x1a\\x08\\x9f\\xbc\\x93v\\xff\\x00\\xbdY\\xd2\\xe1\\xbc\\x1d))&\\xfe\\xf3\\xed\\x17\\x8a\\x99\\xbd:I&\\xf5\\xef\\'\\xfefv\\xbf\\xf1!&\\x7f/K\\xd0\\xf6\\xaa\\xff\\x00~\\xa0\\xd2\\xbcs\\xa9$\\x8b\\'\\xfc#\\xf6\\xac\\xed\\xfd\\xf8\\xd4\\xd6\\xc4>\\x0e\\xb5\\x85<\\xb8\\xfef?z\\xadiZ%\\x87\\x93\\xe5yj\\xb2#|\\xab_EF\\x86\\x1f\\r\\x1bS\\x89\\xf1Y\\xcf\\x17\\xe7y\\xb4\\xf9\\xab\\xd5v\\xed\\xd0\\xb1\\xa6|H\\xd6\\xd3\\xf7\\x9a\\x7f\\x87\\xec!\\x93o\\xfa\\xcf \\x1f\\xfcv\\xbaO\\x0fx\\xff\\x00\\xe2u\\xcb\\xc7\\xa7\\xdb\\xf8\\x92\\xea\\x17\\xb8\\xf9V8\\xa4\\x11\\xa2\\x7f\\xf15\\x82\\x96i\\x0f\\x02/\\x9b\\xfd\\x9a\\xd2\\xb0I\\xbaG#\\xfc\\xaf\\xf2\\xfa\\xd3\\x97,\\xf6G\\xceK\\x1f\\x8c\\xa9\\xa4\\xa4\\xed\\xf7\\x165[\\x9f\\x1f\\xe9W\\xedo\\xa8x\\x82\\xfe;\\x8d\\xed\\xb9\\x92\\xf8\\x93\\xff\\x00}\\x03]\\x0f\\x84\\xbfh_\\x8d^\\x0c\\x7f\\xf8\\x95\\xf8\\xb6\\xeb\\xcb?\\xf2\\xc6\\xe3\\xf7\\x89\\xff\\x00\\x8fV\\x13\\xdb^Mr\\xa6\\xf3w\\xf7w?&\\x8b\\x94\\x86\\xdb\\xfd\\x1aH\\xf7/\\xf0\\xd5F\\x94*Z\\xf1G\\x9d,mZs\\xf7d\\xfe\\xf3\\xd6\\xf4\\x7f\\xdb{\\xc7\\x96i\\xff\\x00\\x13\\xcf\\x01x~\\xf2@\\x8b\\xe5\\xdc5\\x88\\xcf\\xe3\\xc5k\\xbf\\xed\\xdb\\xad\\xcc\\x8b%\\xbf\\xc2\\xbf\\x0e6\\xdf\\x99\\xbf\\xd1\\x07\\xf8W\\x84\\x9bi\\xb7\\xf9\\x9e^\\xd4\\x7f\\x99U\\xaaM\\x8f\\xe5\\xfe\\xee5_\\xf6j>\\xa5\\x87\\xf6\\x8fCo\\xed\\x8c\\xc3\\x93\\xf8\\x8c\\xf7\\xb8\\x7fo\\xff\\x00\\x10\\xf9+%\\xbf\\xc2\\xff\\x00\\x0eF\\xe7\\xef+\\xd8\\x83\\xfd\\x05\\\\\\xb6\\xff\\x00\\x82\\x8b\\xf8\\x9d6\\xf9\\x9f\\x0b\\xfc<\\xc7\\xf8\\x9b\\xec\\x80\\x7fJ\\xf9\\xad\\x13{\\xf9~[U\\x84\\x8d\\xef\\x15c\\x8e>\\x9fz\\xb5XL?c\\x1f\\xed\\x8c\\xcb\\x9f\\xe2v>\\x94\\x87\\xfe\\n#\\x0b\\x8f3\\\\\\xf8\\x0f\\xe1\\xc9\\x1b\\xfb\\xdb\\x14\\xff\\x00J\\xb5\\xff\\x00\\x0f\\x0b\\xd1<\\x9f2\\xdf\\xe0\\x1f\\x87\\x19W\\xef+\\xc0?\\xf8\\x8a\\xf9}\\xf4\\xa7\\xde\\xd1\\x9e\\xb4\\xb6\\xd6n\\xfcI\"\\xaf\\xf7\\x96\\xaa\\x18*\\t\\xb6\\x91\\x12\\xcfs\\x15\\xbc\\x8f\\xa5\\xd3\\xfe\\n\\x1dm6\\xe9l\\xff\\x00g\\xff\\x00\\x0c\\xaa\\x1f\\xfa`\\xa0\\x7f\\xe8\\x14\\x8f\\xfb~h70\\xb5\\xc6\\xab\\xfb:x^I\\x15\\xbfv\\xdfe\\x07\\xfaW\\xcd\\xa8\\xae\\x9f\\xe8\\xff\\x00\\xc3\\xbf\\xe5\\xd9R\\xba;\\xdb7\\xef6\\xee\\xfe\\x1a>\\xa9C\\xb7\\xe2\\x0b:\\xcc\\x1f\\xda>\\x8d\\x93\\xfe\\n#\\xe4\\xbcri\\x7f\\x04\\xfc3\\x0e\\xcf\\xe1\\xfb\\ng\\xf9T\\x7f\\xf0\\xf2\\x0f\\x19\\xbd\\xca\\xc9e\\xf0\\xdf\\xc3\\x90\\xe3\\xef/\\xf6r\\xff\\x00\\x8d|\\xdbml\\x9esI\\xe6\\xeds\\xf2\\xed\\xedVaLM$\\x91\\x8f\\x9dj\\x9e\\x12\\x84\\xb7D\\xbc\\xe70\\xd9N\\xcb\\xb1\\xf4\\x85\\xe7\\xfc\\x14\\xbf\\xe2\\xbc;~\\xcf\\xe0\\xff\\x00\\x0eB\\x816\\xfc\\x96+\\x9f\\xfe\\xbdQ\\x7f\\xf8)g\\xc7\\xe9\\xb7\\x7fg\\xff\\x00d\\xdb\\xc5\\xfc+\\x15\\x88\\x06\\xbeyx\\xfe\\xd3\\x0f\\xef>m\\xbfv\\xa1\\x9a\\x1d\\x88\\xb2[\\xc7\\xd3\\xef-\\x1fU\\xc2\\xa8\\xd9\\xc4\\x97\\x9bf2\\x95\\xdc\\xd9\\xef\\x97\\xff\\x00\\xf0Q\\x1f\\xda*\\xe9\\x1aK\\x7f\\x10[\\xc7\\xb7\\xee\\xaa\\xc0)\\x96\\x7f\\xf0Q\\x7f\\xda\\x1d6\\xcbq\\xaaY]\\x11\\xf7\\xbc\\xdb\\x11^\\x0b\\xb9\\x1e6\\x8eH\\xf6\\x91\\xf7\\x9a\\xa5\\xb3\\xde\\xef\\xe5\\xbf\\xdd?v\\x94p\\x94c\\x16\\xb9|\\xd1\\x1f\\xda\\x98\\xdenoh\\xee}!a\\xff\\x00\\x052\\xf8\\xb5\\x0c\\xcb\\xfd\\xb1\\xe0\\xff\\x00\\x0f]m\\xf9\\x9bu\\x88\\xa9\\x7f\\xe1\\xe8\\xff\\x00\\x12\\xe4\\x99c\\xd3\\xfc\\x07\\xe1\\xcbU\\xfe%K\\x11\\xff\\x00\\xa1\\x7f\\xf5\\xab\\xe6\\x8b\\x98\\xdd&\\x92\\xda\\xde=\\xd9\\xf9j\\x9b\\xc2\\x96\\xd35\\xbc\\x92|\\xdf\\xc4\\xcbR\\xf0\\x98g+\\xf2\\x9dP\\xceq\\xf1\\xff\\x00\\x97\\xa7\\xd2\\xd3\\x7f\\xc1L\\xbe:\\xdc\\xcd$\\x96\\xf6zD,>\\xf7\\x95b\\x07\\xf5\\xac=W\\xfe\\n5\\xfbI\\xea\\xaf\\xfb\\xbf\\x16E\\n\\xef\\xf9V\\x0bP+\\xc2!\\x85\\xd1\\x1aI$\\xe3\\xf8Z\\x9bo\\x0c\\xc8\\x92y\\x7f7\\xf7Y)C\\x05\\x87\\x84\\xf4\\x8f\\xf5\\xf7\\x83\\xcd\\xf1\\xd2wu\\x19\\xeco\\xfby\\xfe\\xd2\\xce\\xff\\x00\\xbc\\xf8\\x89x\\xdf\\xc4\\xd1\\xf1Q\\xdc\\xfe\\xdb\\x7f\\xb4u\\xfe\\xef7\\xe2\\x85\\xfcn\\xe9\\xf3*I^?m\\x04\\xe97\\xfa\\xb6\\xcf\\xfbU\\xfa#\\xff\\x00\\x04\\xf8\\xff\\x00\\x820\\xbf\\xc7\\x8f\\x04\\xd9\\xfcg\\xfd\\xa05{\\xad/J\\xd5\"W\\xd2t[\\r\\xa2y\\xa0\\xff\\x00\\x9e\\x92\\xbe>@{\\x01\\xce9\\'\\xb5zo(\\xc3\\xc3\\x06\\xf1\\xb8\\x99(R\\xbd\\xaf\\xbbo\\xb2Z\\xdc\\xac\\x15l~a_\\xd9BoM]\\xf4K\\xe7\\xb9\\xf1\\x8e\\xa5\\xfbL\\xfcu\\xf1$-\\xfd\\xb1\\xe3\\xbdFhW\\xef+N\\xc4\\x7f:\\xf5\\xbd\\x1f\\xfe\\n\\x8f\\xe3?\\t~\\xc7\\xba\\xb7\\xc1\\x0b\\xcdB+\\x80\\xf2\\xb7\\xef\\x1e<H\\x9b\\xf1\\xd0\\xe7\\xe6\\xcd~\\x9bj\\xbf\\xf0K\\x9f\\xd8\\x1f\\xe0\\xb7\\xc3\\xddO\\\\\\xb8\\xf8\\'\\xa6]&\\x99\\xa5\\xcbquy\\xaa\\x17\\xba\\x91U\\x15\\x98\\xb1iKb\\xbf\\x1c\\xbc\\x7f\\xe1_\\x82p\\xfe\\xcf\\xda\\x0f\\x84\\xed\\xec\\xec\\x97\\xc5\\x9e-\\xf1\\xe4\\x8f\\xa8_<a\\xe4\\xd3t\\xd8~A\\x1a\\xff\\x00w;\\xd5\\x88\\xef_;\\x88\\xa3\\x91\\xe6/\\x96*J\\xddl\\x96\\x9f\\x8f\\xcc\\xfd\\x0f%\\xc0\\xe3p\\x94\\xa5]WS\\xd6\\xd6w\\xb5\\xfb\\xab\\xf6\\xb1\\r\\xcf\\xed\\x87\\xf1w\\xc7\\x9f\\x0ft\\xdf\\r\\xc7\\xe2\\x8b\\xfbxl%f\\x8fd\\x98\\xeb\\xfe\\xd2\\xd6\\x12~\\xd0?\\x18\\xf4w\\xf3,\\xfe j\\x90\\xcb\\xfc2}\\xad\\xcf\\xf5\\xaf\\xd1\\x7f\\x10\\xff\\x00\\xc1.\\xff\\x00b\\xads\\xe1F\\x9f\\xa1\\xfc\\x13}n\\xebXM:%mJ\\xc2\\xfaIVi|\\xb1\\xfb\\xc7V\\xca\\xaeO\\'\\x00W\\xc5\\x9f\\xb4\\xcf\\xfc\\x13\\xaf\\xf6\\x96\\xfd\\x9b4\\xa9<i\\xe2\\x0f\\t\\xcb\\xa9xm%\\xdb&\\xa9o\\x1f\\xcf\\x0e[\\x8f1;\\x0f~\\x9fJ\\xef\\xc0`r\\xd9E\\xd3\\xa1$\\x9b{OF\\xfd\\x1b\\xff\\x00\\x80y\\x99\\xf6_\\x9eb&\\xb1\\x11\\xf7\\x95\\xbe\\xce\\x96\\xf3\\xb1\\xc6Y\\xfe\\xd9?\\xb4V\\x95\\xb6H\\xfe$_\\xb0O\\x97\\xe7\\x9f5\\xbd\\xa2\\x7f\\xc1B\\xff\\x00h\\xab\\r\\xbfl\\xf1\\x84WQ\\x7f\\n\\xdc@\\x1e\\xbc3X\\x9a\\x1bdc$\\x89\\x1a\\xbf\\xf7\\xfa\\xd6\\x1d\\xe7\\x89\\xf4{4\\xf2\\xe3\\xb8\\xdc\\xed\\xf7\\x9a\\xba\\xa5\\x97S\\x84\\x9ceN\\xcdt\\xb1\\xf1\\x12\\xcc\\xf1\\xb0zT\\xff\\x003\\xe9\\xfb\\x9f\\xf8(\\x87\\xc7\\xe7\\x83\\xcb\\xfe\\xd8\\xb5\\x91\\x19\\xfe_\\xf4X\\xf1\\xfc\\xaa\\xbb\\xff\\x00\\xc1E\\xff\\x00h\\xa4O./\\x12E\\xf7\\xff\\x00w\\x1bZ\\n\\xf9\\x82\\xcf\\xc7\\x96i2\\xc9&\\xe6U\\xfb\\xcbV\\x1f\\xc6\\xf6\\x17\\xe9\\xfb\\xc8\\xd9H\\xfb\\xadX\\xbc\\xb2\\x8cl\\xd45c\\xfe\\xda\\xc6I\\xdf\\xda\\xb4}\\x1f7\\xfc\\x14S\\xf6\\x90{o\\xb3\\xc9\\xe2\\x8bU\\xcf\\xde\\xff\\x00D\\x00\\xd5w\\xff\\x00\\x82\\x85\\xfe\\xd23[-\\x9c^4{v\\xff\\x00\\x9e\\xd1F\\x07\\xf4\\xeb_>[k\\x89$\\xdf\\xbb\\xb7\\xe1\\xbf\\x87\\xb5Z\\x9a\\xff\\x00\\xce\\x99\\x7fw\\xfe\\xce\\xde\\xf4\\xde\\x07\\r\\x19\\xeb\\x05\\xf7\\x13\\xfd\\xb1\\x8f\\xb3^\\xd1\\xeb\\xe6z\\xdc\\xdf\\xb6\\x1f\\xc7\\xbdJ\\xe6H\\xae>*j,\\xbfy\\x7f~qW,?m\\xbf\\xda7M\\xf2\\xe3\\xb3\\xf8\\x91x\\xd1\\x0f\\xe1g\\xdf\\xbf\\xfe\\xfa\\xaf\\x16\\xb9\\xff\\x00\\\\\\xc6?\\x97\\x157\\xdaR\\xdb\\xf7\\x92H\\xec\\xdb~\\xed9\\xe1h\\xbd\\x92\\xfb\\x88\\xfa\\xfe\\'\\xe2\\x94\\xdf\\xad\\xcfz\\xbc\\xfd\\xbe\\x7fhHv\\xdb\\xdcx\\xa5\\xa4\\xcan\\xdd\\xe5\\x8ab\\x7f\\xc1B\\xff\\x00h{di?\\xe1$\\xb7\\xf9Sj\\xec\\x81\\x01\\xfeU\\xe2Iu\\xf6\\xcbe\\xb8\\x93{n\\xf9j\\x19\\xb4\\xa0\\xea\\xd7\\x1ec\\xff\\x00\\xb2\\xb5\\x14\\xf0\\xb8X\\xa6\\x9cJ\\x96g\\x8dv\\x92\\xa8\\xf5=\\xbao\\xf8(w\\xed3\\xa9F\\xbe_\\x8e<\\x9d\\xbf\\xc4\\x90\\x01\\xfe\\x15\\x95y\\xfbj\\xfe\\xd1Z\\xad\\xe3}\\xa3\\xe2\\x85\\xfa\\xef\\xf9v\\xa4\\xf8\\x1f\\xce\\xbce7\\xa7\\xe0\\xdf-J\\x97\\x8f\\r\\xe2\\xdcyj\\xcd\\xfe\\xd7\"\\xb5\\x8e\\x13\\x0e\\xbd\\xf8\\xc1\\\\\\x9f\\xed,\\xc2q\\xb7\\xb4g\\xa7\\\\\\xfe\\xd5\\x7f\\x1f\\x9cI\\x1c\\x9f\\x12/\\xe6\\xfe\\xea\\xf9\\xe7\\x1f\\xce\\xach\\xff\\x00\\xb5\\xf7\\xed\\x03\\xa5]yq\\xfcD\\xbfo\\xef+\\xbeG\\xeb^M4\\xff\\x00\\xbei$\\x93h\\xfe\\x1ac\\xef\\xb5x\\xe4\\x96G\\xfe\\xf35i\\x1a4\\x97\\xd9_q\\xcb,~/X\\xf3\\xbd<\\xcf\\xb0\\x1e\\xc1\\xd1\\x16\\xf3\\xed\\x1b\\x95\\xff\\x00\\x85\\xeaD\\x9d!\\xdb$q\\xedU\\xfb\\xbe\\x9f\\x8dGz\\x8e\\x88\\xd6\\xff\\x00tl\\xfd\\xdfz\\x82\\xe5\\xc6\\xc6\\x923\\xb46\\xdd\\xd1\\xa7\\x14\\xe4\\xe5)Y\\x1et\\xae\\xe4\\xdd\\x83\\xfbW\\xceO/\\xec\\xea\\xc1wm\\x92\\xa8_\\xcd\\x0c\\xce\\xdc\\xbca\\xbe\\xf2\\xf6\\xa95-\\xfeJ\\xdb\\xf9{Y\\x7f\\x8b\\xfb\\xf4\\xd4\\xb6\\xff\\x00\\x97\\x89.\\x11\\x99~\\xf4u\\xcdRI\\xcffu$\\xf99G|\\x9eDq\\xc7\\xf3/\\xcb\\xe5\\xaat\\xac\\xe9\\xaef\\x91\\xdaI#}\\xa5\\xbeZ\\xd1\\xf97\\xac\\xb6\\xf1\\xb6\\xcf\\xe2T\\x8f\\x1f\\xf0*\\xa8\\xf6\\xdeb7\\x9b#+\\xa7\\xdd_\\xef\\xd6q\\xab}\\xca\\xe4\\xbb\\xb5\\xaeSG\\xdfs\\xfb\\xc96\\xff\\x00\\xb3\\xd6\\x89\\xa1\\xc3\\xb5\\xe5\\x9c\\x9bv}\\xe5z\\xbb\\r\\x84\\xd1\\xa7\\xda#\\x8f\\xcc\\xdbP=\\xcf\\x9c\\x8d\\x17\\xd9\\xfc\\xb2\\xbf3-D\\xaa=K\\x8cR\\x8d\\xda3\\xe6G\\x87\\xcc\\xfbF\\xf5W\\xf9\\x95W\\xa53x{o\\xf4y6\\xed\\xfe*\\xd0{o\\xb4\\xc3\\x1f\\xd9\\xdf\\x8f\\xf9iU\\xe7\\xba\\x9e\\t\\xbe\\xcf\\x1d\\x920U\\xda\\xcdQ\\xed\\x1f\\xcc\\xd1&\\x9f2z\\x14f\\x86}\\x9e\\\\\\x96\\xdbC7\\xde\\xa8Q\\xeef\\xb9[yc\\xdd\\xfc-\\xb2:\\xd1\\x9fU\\xb9\\xf9\\xa3\\x92\\xdf\\xe7U\\xf9vR&\\xf9\\x9d|\\xbd\\x8b\\xbb\\xe6ZNu_\\xc5cE(\\xcbc6T\\xf3\\x1dm\\xe3\\xb7\\xdd\\xfd\\xd5\\xa7\\xbb\\xcd$2y\\x96\\x7f+&\\xdd\\xd5\\xa2\\xf6\\xd6\\xb0\\xdby\\x91\\xc9\\xfb\\xc6]\\xcd\\xe9\\xfe\\xf5P\\x7f\\xb4\\xdbn\\xb8\\x93\\xe5\\xff\\x00e+&\\xe3;>\\xa6\\xb1n=4*\\x18Q\\x1e8\\xe4\\x8f\\x85\\xfb\\xb54\\xf0\\xb8\\x7f\\xf4x\\xf6\\x86\\xfb\\xcc\\xd5/\\xcf=\\xb2\\xdcG\\x1a\\xb7\\xfb\\xb4oDu\\x1fg\\xff\\x00\\x80\\xbd\\r\\xca1\\xba\\xdcNI\\x15\\xa1\\xf3\\x91<\\xb9>\\xe7\\xf0\\xff\\x00\\xb1N\\xb9\\xe1?y\\x1e\\xe4\\xdb\\xf7\\xbbU\\xa7D\\xb9\\xff\\x00G\\x93\\xe6\\xda\\xff\\x00w\\xbd\\tf\\xf6\\xd3}\\x9f\\xcb\\xdc\\x1d>\\xeb\\xd47p\\x8a3\\xed\\x92\\x1b\\xcbo\\xdd\\x8f\\x99\\xbe_\\x9e\\xa3xSj\\xc9&\\xf5\\xdb\\xfcUb\\xe6\\xda\\x188\\x8e=\\xbb\\xbf\\x85zQs\\x0c/\\n\\xc7\\xe5\\xed\\xfb\\xdb\\x99)\\xc3\\x92\\xf74W\\x92\\xe5\\xea3d\\x9fcY<\\xcf17\\xee\\xf9\\xea4\\xba{[\\xc5\\xb8\\x8e\\xdf\\x86\\xfe.\\xd4\\xd9\\x9d\\xed\\x91\\xa2\\xf2\\xf7\\x05\\xa8Q\\xef\\x13\\xfeY7\\x92\\xdfz\\xa9+i\\xd0$\\xa6\\x8b3$\\xd3?\\xda#\\xd9\\xf3}\\xea\\\\\\xa2B\\xde]\\xc6\\xdd\\xbf\\xc4\\xb5\\x05\\xcb\\xbf\\xcd\\xe5\\xc8\\xdc\\xd4H\\x9b\\xdf\\x9f\\x98P\\xa9\\xa7\\xbe\\x83\\xe6Om\\xc7\\xdc\\xcd\\x0f\\xcb\\x1crp\\xef\\xb5\\x9b\\xfb\\x952\\\\\\xf9\\xc9\\xf6\\x7f?r\\xa7\\xcb\\xba\\xaa\\xcdl\\xe6o28\\xfe\\xf7\\xdeT\\xa4O:i\\xbe\\xcf\\x1f\\xcb\\xf2\\xfc\\xb4\\xa4\\xaf\\x1b\\x0e\\xe9l-\\xfe\\xc9!h\\xfc\\xc6W\\xfe\\x1a\\xadmm\\xe4\\x8f\\xf4\\x89\\x11\\xb7?\\xe3Rl\\xb9{o\\xde|\\xbb\\x1e\\xa3t{\\x99\\x161\\'#\\xf8\\xaa\\xa2\\xbd\\xd7\\xd8R\\x92\\x192M\\x0b\\xfe\\xeeM\\xcb\\xfd\\xdajo\\xb9\\xfd\\xd0\\xf9U\\x7f\\x86\\xadCas\\xbd\\xa4\\x1f2\\xff\\x00\\x15W[g\\x99\\xda\\xdb\\xcb\\xf9?\\x8a\\xa6\\xf1\\xee\\\\&\\xfe\\x14=&M\\xfe_\\xc8\\xc0\\xfc\\xbf/Zd\\xdeL\\xc9\\xe5\\xfc\\x98W\\xf9\\x95:\\xd2=\\xab\\xd9\\xa7\\x99${\\xbf\\xdc\\xaa\\xff\\x00\\xeb\\xb6\\xc9\\xe6mfM\\xcdO\\x95\\x0fhkr\\t\\xb6\"5\\x9d\\x9c{\\x9d_\\xe6\\xdd\\xc5Q\\x9a\\xcd>\\xd3\\xe5\\xf9\\x7f0O\\x9bmi\\xc3\\nli#\\x8fv\\xcf\\xbc\\xb4\\xdf\\xb3\\x0b\\xc7\\xf3m\\xe3\\xdb\\xfd\\xe6\\xaa\\x84Z\\xdc\\xd62L\\xc8\\x9bJD\\xb9\\xfd\\xde\\xd6\\xdb\\xf3S/4\\xa7\\x99>\\xd1%\\xb6\\xd5\\x1f{\\xd6\\xb5\\x9fM\\xd4!v\\x92H\\xf71\\xfe*t:m\\xe5\\xcf\\xee\\xea\\xd7\\xb4Z\\xe9b\\xd5zJ61R\\xcd\\x1flv\\xf1\\xee\\t\\xf3{\\xd2\\x7ff\\xba:\\xdc}\\x9f\\x89\\xbem\\xbd\\xd2\\xba\\x0bm\\x11\\xe3}\\xf1\\xdb\\xff\\x00\\xb3G\\xf6m\\xca\\x7f\\xaa\\xb7vq\\xf7j\\xe0\\xd2\\x95\\xbef5*EA\\x98o\\xa0\\xcc\\x8e\\xb2I\\xf2\\xa6\\xff\\x00\\xbdZVv\\xdb\\x1dd\\x92\\xad\\xf9O7\\xee\\xae,\\xff\\x00\\x8fuY\\xb3\\xb6\\x85&\\xfb7\\x97\\xf7\\xbejr\\\\\\x9dl`\\xaa^7L}\\x83\\xc3\\xe4\\xf9\\x92G\\xbbm3U\\xb0O\\xdd\\xdcy{\\x83\\xfc\\xdb\\xbb\\xd6\\x9d\\x9d\\x84\\x8f7\\xd9\\xe3\\x8bm:\\x1b4I\\xbe\\xd1${\\x95~_j\\xe9\\x8a\\xe5\\x8d\\xd1\\xe7\\xcd\\xde\\xa6\\xa7;5\\x9e\\xfd\\xdf\\xbb\\xe0\\xfd\\xdas\\xc2\\xfeLv\\xfe_\\xdc\\xfe.\\xf5\\xa7~\\xf6\\xc9x\\xb1\\xfd\\x9d\\xb6}\\xef\\x96\\xab\\xcd\\x0e\\xf9<\\xb8\\xfeT\\xfb\\xd4\\x9d6\\xda\\x91J\\xa5\\xdb\\x8fDC\\r\\x85\\xb7\\x92\\xb2G\\xf3\\x1f\\xe2Z\\x897\\xdb\\\\\\xb5\\xbcv\\xfbw/\\xde\\xab\\xd0\\xda\\xf9\\x08\\xb71\\xecm\\xdf-%\\xcc;\\xc2\\xc9\\x1c\\x9f=\\nMM\\xf6&O\\xdc\\xb5\\xf5+\\xff\\x00\\x1b}\\xa2?\\x99\\xbf\\x86\\x89\\xac\\x13-$v\\xe3-\\xf7V\\xad$/\\x1aI\\xf6\\x8f\\x99\\x97\\xee\\xb2R&\\xf9\\xad\\xbe\\xcf\\'\\xca\\xdf\\xde\\xae\\x88\\xdf\\xa39\\xe5\\x17t\\x8c\\xd8\\xe3{9[\\xcc\\x8d\\xdb\\x7f\\xdd\\xa9\\x07\\xfa\\xe5\\xb7\\xb8\\xdf\\xf3/\\xcbV.m\\x9d!_\\xbf#\\x7f\\n\\xf7\\xa7Mj\\xeeTI\\x1e\\xd7\\x1f\\xc3\\xde\\xaaPRi\\xe9\\xa9<\\xcb_\"\\xaa[<;\\xbc\\xb8\\xf6\\xe7\\xee\\xd4\\tl\\x9b\\xdaH\\xe4\\xdc\\xee\\xff\\x002\\xd5\\x9d\\xeft\\xed\\xe6I\\xf7>\\xebTi\\x0ci6$\\x93o\\xf7V\\xa9E\\xa1;\\xbfAf\\x81\\xd5<\\xc9$H\\xf6\\xd4\\x0f\\xe4\\xcc\\x9eg\\x98\\xeb\\xb6\\xa5x\\xde\\xe5\\xd7\\xf7{T\\xd3f\\xc1\\xb9\\xf2\\xed\\xcf\\xca\\xb52\\x85\\xb6*-8\\xdc\\xaa\\x89\\xbe\\xe1c\\x8f\\xee\\x8f\\xbc\\xd5i\\xde\\x17\\xdd\\x1d\\x9c\\x9eb\\x8f\\xbc\\xdd*\\x19!\\x99\\x1dc\\x93\\xbf\\xf0\\xd4\\xd0\\xdbB\\x8f\\xf6{\\x7f\\xe1\\xfb\\xcdJK\\xdd\\xb1MZM\\xf7\\x1a\\x90\\xccQ\\xaf>\\xe9W\\xf9\\x97\\xb5Cy\\xf67\\x87\\xed\\x06\\xddw\\xbf\\xf7\\xebC\\xec\\xdb\\xed\\xbf\\xd5\\xed\\x1f\\xc5\\xbe\\xaa\\xdeY\\xc2\\xfb|\\xbf\\x95V\\x92\\xf7\\xae(7\\xcd\\xcd\\xd0\\xabl\\xf0\\xcf\\xfb\\xb9#\\xfd\\xd7\\xf1m\\xa9n^\\x1b\\x08\\x7f\\xe2_\\xf3+\\x7f\\x13\\xf5\\xa7\\xc3\\n%\\xb7\\xda\"\\x8f\\xfd\\x9a\\xcd\\xd6\\xdf\\xfd\\r\\xa3\\xb7\\x93n\\xe7\\xf9j[\\x8a\\x8bf\\xd1\\x94\\x9c\\xac\\x8aZ\\xaf\\x88a\\xd1.a\\xbc\\x92FdYU\\xa4\\xdf_\\xb4\\xff\\x00\\xf0K/\\xf8*O\\xc0\\xcf\\x89\\x9f\\t4_\\x84^9\\xd7\\xedt}\\x7fG\\xb2\\x8e\\xd6\\xddg\\x93lw1\\xaa\\xe1v\\xb7\\xad~\\x1dkvo\\x7fl\\xd1\\xc7\\xf3)_\\x9b}qZo\\x8c\\xbcC\\xe0-Un,\\xef%\\x84\\xc5.\\xe8\\xe4J\\xfa\\xac\\x0cr\\xac\\xfb(yf.\\\\\\x8d;\\xc2]\\x9f\\x9fsl>/\\x13\\x94b\\x1dxG\\x9a\\x12\\xf8\\x96\\xc7\\xf5\\xa7\\x0e\\xa7\\xa2k\\x96\\x17\\xd6\\xb7Zu\\xbe\\xa9\\xa6j\\xb6\\xbeD\\xea\\\\:\\xbcm\\x9f\\x97\\xb8`wW\\xc9W\\x9f\\xf0C\\xef\\xd8Z\\xeb\\xc5:\\xa7\\x8a\\x17\\xc3z\\xe8\\xfe\\xd0}\\xf0\\xdb\\xae\\xb12\\xfd\\x8f\\xd5c*A\\xc7\\xb3f\\xbf\\x1a\\xfe\\x0f\\xff\\x00\\xc1]\\xff\\x00j\\x8f\\x84Vp\\xe9\\xfe\\x17\\xf8\\x91{\\x1cQ\\xed\\xdb\\x1b>\\xf1\\xfa\\xe6\\xbd\\xc7@\\xff\\x00\\x83\\x8c?j}&\\xd5c\\xd4.l.\\xb1\\xf7\\xa4\\x96\\x0e_\\xf5\\xaf\\x9d\\xab\\xe1vu\\t\\xb9\\xe1\\xf1\\x10\\x9aw\\xb7\\xbdm\\x0f\\xb1\\xc2\\xf1\\xae]A\\xcb\\x92R\\x83\\x95\\xae\\x9co{m\\xdfn\\xe7\\xedW\\xc2\\x9f\\x82^\\n\\xf8\\x1d\\xe1\\x9b/\\x04|?\\xd0\\x12\\xc7G\\xb1\\xb6\\xf2\\x95ev\\x96W\\xe9\\xf3\\x17l\\x93\\\\\\xaf\\xed\\x87\\xe3\\xbf\\x84>\\t\\xf8\\x17\\xe2\\x0b\\x9f\\x89\\xfa\\x85\\x84v3\\xe9r\\xc6\\xd6\\xf7[O\\x9d\\x94o\\x94/\\xf1\\x1a\\xfco\\xf1\\xaf\\xfc\\x1cQ\\xfbOk\\x16mo\\xa5jp\\xda\\x97]\\xac\\xd6\\xe8\\x13\\xff\\x00\\xaf_+|{\\xff\\x00\\x82\\x88|x\\xfd\\xa0o[\\xfe\\x13\\x1f\\x16]]\\x06\\xfb\\xbel\\xe5\\xe8\\xc2\\xf8u\\x8d\\xa5YU\\xc6\\xd7\\x84\\x12\\xd7Gv\\xed\\xd8\\xd2\\xaf\\x1a\\xe5\\xb0~\\xd2.S\\x92\\xe8\\x95\\xaf\\xea\\xd9\\x83\\xf1\\xb2\\xff\\x00M\\xfe\\xde\\x92\\xdbN\\xb8\\xdb\\x13\\\\H\\xd1\\xc6\\x9f\\xc0\\xbb\\x9bmc\\xe8\\x9e\\x12\\xb2\\xd5m\\x96\\xe6;\\x8d\\xd9\\xae_\\xed\\x97:\\xac\\xcdyyq\\xe6J\\xdfy\\x9a\\xba\\xbf\\x86\\xff\\x00l\\x92f\\x8e96\\xc5^\\xfeu^\\x18\\x8a\\xbc\\xd4]\\x92Iz\\xd8\\xf8\\n\\x98\\x8f\\xadbeVK\\xe2m\\xdb\\xd4\\xd0\\x87\\xc1\\x96\\xd6\\xce\\xb1\\xff\\x00\\x0f\\xf15X\\xfe\\xc1\\xb3\\xfbg\\xfa<~b\\xb7\\xdd\\xad{\\xfbg\\xf3\\x96H\\xe3\\xf9Z\\x9d\\x0ci\\x0b\\xf9\\x91\\xc7\\xb7\\xfb\\xcb_9*\\xb3\\xe6\\xbd\\xcd\\x958\\x94\\x7f\\xb2\\xa1\\xb6\\x91d\\x8e=\\xbf\\'\\xcc\\xb5\"\\'\\xce\\xbeT{\\x7f\\xba\\xd4\\xeb\\xc9\\xa6wk\\x8fU\\xda\\xbe\\x94\\xf4\\x91\\xdf\\xf7w\\x1b7l\\xf9Z\\xb2rh\\xb6\\xa2\\xe6W\\x85\\x13\\x7f\\x99\\x1f\\xdf\\r\\xf3R|\\xee\\x8d$\\x96\\xfb\\x97\\x7f\\xcbN\\xde\\xff\\x00\\xea\\xe3\\x93\\xfd\\xea\\x89\\xef\\xe4\\xf2\\xda//s\\xbb\\xfc\\xcdU\\xafc;FC\\xd2\\xe5\\xe1\\x9b\\xca\\xf3w\\'\\xf0\\xad\\\\K\\x94(\\xdf\\xc2^\\xa9\\xf93\"yq\\xc8\\x91\\xff\\x00\\xb4\\xd4\\xc7\\x9a\\xe6?\\xde\\x0f\\xde\\x15\\xfb\\xcdM\\xc5K`\\x93o\\x94\\xb2\\x93C\\x0b\\xfe\\xf3\\xe6o\\xe2W\\xaa\\x973y\\xd3\\xb1\\x8e=\\xdf?\\xf0S\\xe6\\xbd\\x86\\xe6\\x1f2\\xdf\\xef\\x9f\\xbdIes\\xf6o\\xdeG\\'\\xcf\\xfd\\xda!\\xf0\\xdcRh\\xaf\\xf6g\\xf9d\\x8eO\\x97\\xf8Z\\x9bs3\\xc2\\xeb\\x1d\\xc7\\xfe=R\\xcds7\\x98\\xbf\\xbbu\\xcb\\xee\\xdbS\\xbe\\x9a\\x9a\\x82y\\x92\\xc9\\xcf\\xf1V\\xb1\\x9b\\x8e\\xe6<\\xaa\\xa7MO\\xae\\x1e\\xfeg\\xdb\\x1c\\x81\\x9aT\\xfb\\xbd\\x85U\\xfd\\xe3\\xcd%\\xc5\\xe5\\xce\\xed\\xdf\\xea\\xd6\\xb4 \\x91\\x11\\xdb\\x11\\xedv\\xf9~z\\xa7:e\\xfc\\xb8\\xfeU\\xfb\\xac\\xb5\\xcd\\xce\\xa4;\\xc7Q-\\xa1G\\xff\\x00\\x8f\\x89\\x15\\xa3\\xfe\\xefZo\\xeec\\xf3$\\x8e4_\\xf6\\xa9\\xf6\\xc8\\xe97\\xee\\xe4\\xe1~fZm\\xcd\\x82\\'\\xef#\\x8dv\\x96\\xdc\\xd5\\xca\\xf4\\x93\\x97Fk\\x19\\x10<\\xc8\\xff\\x00\\xbc\\x926]\\xbfwmUr\\x93:\\xc9\\xe6\\xedu\\xfb\\xb5r\\xe6\\x17\\xf9|\\xb8\\xf8)\\xf8\\xd5K8c\\x85\\xd6Y#\\xdd\\xfd\\xefZ\\x9fw\\x93A\\xda\\xee\\xcc\\x92k\\x99\\x92\\xdb\\xcb\\xf36\\xff\\x00\\xb5Y\\xbb&{\\x96\\xd9q\\xb96\\xfd\\xda\\xb9z\\x9es\\xf9\\x9f\\xc0\\xdf\\xc5\\xd2\\xa3{g\\x0e\\xde_A\\xf2\\xabv\\xa4\\x96\\x9a\\xee[\\x8f)\\x01\\xfbJ\\x7f\\xab\\x8f\\xfd\\xad\\xc9L\\xdf\\xbd3s\\xf2\\x97\\xfb\\xcbI\\x0b\\xde\\x0f3\\xcc\\x8dv\\x8f\\xe2\\xa9>\\xd2\\xe9\\xb6H\\xfeb\\xcdXN\\x16\\xbf\\x91\\xac%\\x02\\xb9{o2D\\x93\\xf8Sk-B\\x88\\xf3?\\x99oo\\xf2\\xa5\\\\\\xf9<\\xe5\\x92Ktc\\xf7\\xb7l\\xc1\\xa4\\x9aki\\xae|\\xc8\\xfeU\\x0b\\xf3*\\xff\\x00z\\xa6n]u.\\x9a\\x8b\\xf7\\xaeTK\\x97\\xf9\\xad\\xe3\\x8f\\xe6\\x7f\\xe1\\x7f\\xee\\xd2\\xdc\\xec\\xf2V?-\\xe3M\\x9fQV\\xdf\\xc9G[t\\xfb\\xff\\x00z\\xaa^Z\\xcc\\xee\\xb1\\xc7q\\xf2?\\xca\\xcb\\xd6\\xa4\\xb8\\xe9\\x1b\\x15m\\x91\\xed\\x9f2od}\\xdfs\\x8a\\x86\\xf1!}\\xd1\\xfc\\xec\\xff\\x00{k\\xd5\\x9b\\x9d5\\xed\\xa6_.M\\xd9M\\xbb{T\\x17\\x9ak\\xbd\\xca\\xc9$\\x9b\\x83\\x7fv\\xad?w]|\\xc9\\x94\\x972]\\x8bV\\xd0\\xd9\\xbd\\x87\\x98w\\xc6\\x7f\\x89\\x9aL=Cs\\x7f\\xb2o\\xdeoo\\x93\\xe5n\\xf5\\x14\\xdb\\xfeh\\xfc\\xb7U\\x1f\\x8dEgf\\x8fy\\xe5\\x88\\xdfs.\\xe5\\xa9\\xf7?\\xaf\\xf3*2\\xa9!\\xf6\\xdb\\xe6O\\xdeI\\xb46\\xed\\xaa\\xd2UKX^\\xf1\\xfc\\xb8\\xe4e\\t\\xf7\\x97\\xb5Y{l\\xee&=\\xca>Z\\x95\\x13e\\xb7\\x99\\'\\xf0\\xaf\\xf0\\xd2M+\\xf2\\xf5+^[\\xb7b8a\\x84#E$~g\\xfd\\xb4\\xa9m\\xad\\xa1\\x9a\\xdaI.>T\\x7f\\x95}R\\x84\\xb6HQo\"\\x8d\\xf67\\xde\\xa1\\xf6y>e\\xbd\\xc7\\x98\\xa7\\xe6\\xa1\\xc6\\xd1\\xb0\\xa1\"8a\\xd9\\xe6[\\xf9\\x8b\\x85\\xe1Z\\x98\\xf6\\xd6\\xc9m\\xf6\\xc8\\xa4\\xdaW\\xefR\\xefG\\xdd\\xe6G\\xf7~\\xf5E\\x0f\\xce\\x8d\\x1f\\x97\\xfb\\xaf\\xe1j\\xa8E\\xcfb\\x1c\\x9a\\xf4\\x12\\x18BN\\xb7\\x11\\xbf-\\xf7[\\xfd\\x9a\\x8d\\xfe\\xc7\\x0c\\xccm\\xe4\\xe5~\\xf2\\xbdZKd\\xde\\xb2w\\xfe\\x1a\\x89\\xec-\\x9d>\\xd3\\xf6}\\xdf\\xde\\xedBV\\x95\\x9d\\xca\\x82OU\\xa2*l\\xfe\\xd2\\x8b\\xec\\xf1\\xcb\\xe5\\x9f\\xefT\\xcff\\x89\"\\xc6\\x92\"\\xed\\xfe*\\x96\\x1b8RnG\\xc9\\xb7\\xe6\\xa7}\\x82\\xdb{}\\x9f\\xa0J\\xd3}\\x16\\xc2n(\\xadax\\xe9\\xb8\\xdcI\\xfe\\xf3TW0\\xa3~\\xf28\\xd9\\x7f\\xbc\\xd5a,\\xe1\\x7f\\xdd\\xc9\\xf2\\xe2\\xa6\\xb6\\xd3f\\x9d\\x1aLp\\x9fz\\x93\\x8c\\x14|\\xc3\\xad\\x8aogg7\\xfc\\xb4}\\xca\\x9f-S{k\\x94\\x9f\\xcb\\xf9\\x18\\x7fz\\xb4.l\\x1e\\xd9\\xdaH\\xe4\\xdd\\xfd\\xdd\\x94\\xdbhS\\xe6\\xb8\\x93v\\xcf\\xe2\\xab\\x849W7P\\x9dF\\xb4[\\x10Y\\xa6\\xf4_.4\\xdd\\xb7\\xe6j\\x97\\xce\\xb3\\x85\\xfc\\xb8\\xf6n\\xfe-\\xb54\\x10\\xc3\\xb5\\xae>\\xea\\xd2[XY\\xbb\\xf1\\x1f\\x1b?\\xf1\\xea\\xaeW\\xa8\\xe1/1\\x9eu\\xb4\\xdbO\\x97\\xb5\\xbe\\xee\\xdaI\\xaf>\\xcc\\x8b\\xe5\\xd9\\xa2\\xa7\\xf1T7\\xf0\\xcd\\r\\xca\\xc7\\x1c}>\\xf5N\\x88\\xbeK[\\xdcG\\xbbw\\xf1RP\\xb0\\xddh=:\\xf7 \\xfbJ>\\xd9-\\xfeU\\xdd\\xf7^\\xa5\\xfbB\\x1b\\x96\\xb8\\xf2\\xf6\\xff\\x00{oJ\\x93\\xecp\\xc3l\\xb2G\\xf3?\\xddZ\\xb7g\\xa0\\xf9\\xc8\\xbed\\x9bU\\x93v\\xda\\xbeT\\xb6\\xd0\\x9b\\xad\\xfa\\x19\\xa9\\xf3\\xbf\\x99\\x1c\\x9b\\x95h\\x86\\x1bo;\\xed\\x17\\x11\\xee?\\xf2\\xcdR\\xb4$\\xd2\\x12\\x07\\xfd\\xde\\xfc\\x8f\\xbbNK?\\'\\xfd#\\xcb\\xf9\\xbf\\xba*\\xb9\\x14\\xfd\\xf5\\xb1\\x97=\\xbc\\x82\\x17tx\\xe4\\x927\\xdf\\xf7~J\\xbf\\x7f`\\x9eKY[\\xc7\\xb7\\xe5\\xa5\\xb0\\xb3\\x7f%n.#Fum\\xca\\xb5o[tM\\xb1}\\x9f\\xe7d\\xae\\xc9S\\xfd\\xd9\\xc0\\xa7\\x17)3\\x98\\x9a\\xcd!\\xdb\\'\\x99\\xb9\\xc7\\xfc\\xb3j\\xac\\xfb\\xd1\\xff\\x00yo\\xb5\\x99>\\xf5_\\x9a\\xd8}\\xa5\\xa4\\x8c\\xeeo\\xef5>kd\\x85?y\\'\\x98v\\xd4\\xc1\\x0b\\x9e\\xfbhg\\xec\\xdf\\xb6\\xde\\xdc\\xeee\\xf9\\xb6\\xd4_<\\x13y\\x97\\x91\\xed?\\xc2\\xb5n\\xe6\\x17\\xf9n<\\xbf\\x9f\\xfb\\xa9\\xd2\\x9d\\xe4\\xbf\\x92\\xdfh\\x8bv\\xef\\xe2\\xa5\\x04\\xa3$\\xfb\\x8f\\x99K\\xdd\\x19f\\x96\\xa2\\x16\\x8e\\xe6M\\xc5\\xfej\\x96\\xe6\\xda\\xc3\\xc9\\x8eH\\xf66\\xdf\\xe2^\\xb5Sf\\xff\\x00\\xdd\\xc7\\xf2\\xa7\\xf7\\xaa\\xcf\\xd8\\xde\\x18T\\xc7\\xf3#}\\xe6N\\xb5I%+\\\\\\x1e\\xbau\\x18\\x96\\xd2\\x7f\\xac\\x8e=\\xc8\\xad\\xf3z\\xd2\\xdc\\xd9\\xef\\xb9\\xf3\\x06\\xf5f\\xfe*\\xbe\\xf0\\xac\\x08\\xbel\\x9dS\\xee\\xd2\\xcb\\xf3\\xdb7\\x97\\xb1\\xb6\\xff\\x00\\x0fz\\xd54\\xa5\\xcc\\x95\\xd0\\x9a\\xbcl`\\xdc\\xd8l\\xdd\\xe6[\\xab\\x7fy\\xbb\\xd5Y\\xac\\x93\\xe5\\xb8\\xf9\\xb7\\x8f\\xbb[\\x17\\x96s\\\\#~\\xef\\xcb\\xc7\\xfd4\\xc9\\xaa\\xf3\\xc3\\xb2U\\xb8\\x8e7\\xe3\\xe5\\xda\\xfc\\xd5\\xdd\\xad\\x89q\\xb1C\\xf7\\xdf\\xeb$\\x916\\xff\\x00u(Hw?\\x99\\x1c\\x7f7\\xddZ\\xb4\\xf6s\\x97\\xfd\\xde\\xc6\\x1b\\xfej\\xb9\\xfd\\x9e\\xf3F\\xd2}\\xd2\\xbf.\\xda9\\xbd\\xc0VS\\\\\\xc8\\xcb\\x99\\x1c\\xa7\\xef6+\\'\\xddjK?\\xb3C\\xbaH\\xbei_\\xfb\\xbdj\\xfd\\xe5\\x84\\xc9\\n\\xc66\\xef_\\x99\\x9a\\xaa\\xd8\"Cy\\xfe\\xae\\xb0vf\\x8bM\\xd0\\\\\\xbd\\xe4\\xc1d\\x92\\xe1\\x18m\\xf9\\xaa\\xbd\\x95\\x9f\\xdb7y\\x7f6\\xdf\\xbc\\xd5zh^\\xdaf\\xb8\\x8e=\\xc8\\xdfz\\xa3\\xd96\\xc6x\\xc6\\xdd\\xdf\\xc3I8$\\xd7prr\\xdc\\xa3y\\x0f\\xd8\\x13\\xcb\\x96=\\xc8\\xcb\\xf2\\xd6M\\xe46\\xd7\\x90\\xfe\\xee?\\xf8\\x0fz\\xd6\\xd5S\\xce\\x85l\\xfe\\xd0\\xfew\\xddU\\xac\\xa9\\xa1{m\\xb9\\x8d\\xf7\"mj\\x99T\\x94m\\x05\\xabgD!\\xcd\\x1b\\xda\\xc7=\\xaa\\xd9\\xbc)\\xf6x\\xe3\\xdb\\xfd\\xea\\xc2\\xd5|;m\\x7fl\\xd6\\xf7\\x16I#7\\xca\\xbe\\xb5\\xdf\\xdbi\\x89:y\\x97\\x1f+/\\xe3P\\xff\\x00\\xc21m25\\xcc\\x9b?\\xd9\\xcd\\t\\xce;h\\xcd\\xa3UK\\xddh\\xf1}c\\xe1]\\xd7\\xfc\\xc3\\xef<\\xb7\\xff\\x00\\x9em\\xcda^\\xfc:\\xf1=\\xb3\\xf9~b\\xee\\x1fuy\\x15\\xeeSxVGv\\x91$\\xdd\\xb7\\xfb\\xf5Z\\xff\\x00M\\x85\\xb6\\xc7-\\xbf#\\xf8\\xab\\xd0\\xa5\\x8f\\xc7\\xc5YJ\\xe63\\xa5F{\\xab\\x1e\\x1bs\\xf0\\xeb\\xc5H\\xfe_\\xca\\xc0\\xff\\x00s\\x9a\\xbf\\xa0\\xfc\"\\xf1;\\xbf\\xda$\\xb7\\xdb\\xb7\\xef5{\\x18\\xd1\\xed\\xa1x\\xfc\\xdbt\\xdc\\xd5q-\\x91&X\\xed\\xdfo\\xf0\\xb6\\xda\\xb7\\x8e\\xae\\xfe\"eF\\x10\\x8e\\x8bC\\x81\\xd1\\xfe\\x15\\xc2\\x90\\xa9\\xbc\\xbc\\xe7\\xf8\\x95+\\xb2\\xd0t\\x1d7M\\xb3X\\xec\\xe3\\xda?\\x89\\x92\\xac=\\x9c(\\xf2\\x7f\\xa4?\\xdf\\xf9V\\x8b\\x08aDd\\x17\\x1bX|\\xcc\\xbd\\xeb\\x9a\\xa5j\\x957zv&1\\xe5\\x92Ij:hSb\\xc7\\xf6\\x87\\xc7\\xf0\\xb7\\x97Q\\xbc>N\\xeby?x\\xc7\\xfd[Q\\xf3\\xdc\\xcf\\xfe\\xb3\\x85\\xfe\\'\\xa7M\\x0c\\xcf\\xfb\\xc8\\xe4\\xdb\\xb7\\xefW,\\xa1%+\\xa3eQ\\xb5\\xf0\\xab\\x94\\xe6\\xb4\\x99\\xd1\\xbfw\\xb8\\'\\xdeZ\\x8a\\x1f\\xf5-\\xfb\\xbf\\xf7\\xabA\\xe1\\xb6\\x8fl\\x92H\\xcb\\x94\\xdc\\xcbU~\\xcd\\xe7\\x06\\x93\\xe7\\xc2?\\xca\\xb4]\\x16\\xd5\\xed.\\xe4?&\\xf6\\xfb4k\\xb4\\xff\\x00z\\x98\\x8f\\xf6y\\x9aO-Y[\\xf8hx~\\xcd7\\xda$\\xed\\xf7V\\x87\\x98\\xdc\\xbf\\xef#\\xda\\xcd\\xf7V\\x97\\xc3\\xe8&\\xad\\xea=\\xfc\\x9b\\x94c&\\xc8\\xff\\x00\\xda\\xaa\\xc9\\xbe\\x14\\x928\\xee\\x17\\xe7\\xfb\\xadM\\xbcM\\xff\\x00\\xba\\xf3)#{h!o3z\\xb0\\xfe\\x1a\\xd26\\xe5\\xd3TE\\xf9\\x93OF\\x8a\\x8bm4;\\xa3\\x8f\\xa8\\xfb\\xd4\\xf8a\\xfbe\\xcf\\xfaD\\x9b~M\\xcb\\xe9D7.\\xee\\xdea\\xdb\\xbb\\xee\\xad9\\xe3\\x9b\\xc8\\xf3<\\xc5\\xff\\x00v\\xad\\xcd\\xc7{\\x18\\xc1E\\xca\\xebQQ\\xe6th\\xce\\xdc\\xd2B\\x8f\\xf3~\\xf3\\x81Nx^\\x18W\\xcb\\x97\\xe5o\\xbd\\xb3\\xadE\\r\\xcb\\xc3y\\xe5\\xc9o\\xff\\x00\\x01\\xa9\\xbf<\\xae\\xcd=\\xd8\\xca\\xd3>\\xc5\\xbc\\xbc\\x9a\\xe6\\xf3|v\\xfb\\x9bf\\xed\\xa9\\xc5-\\xce\\xc4E\\xb8\\x92?/w\\xfa\\xc5z}\\x9a\\\\\\xcd\\x0bI\\xe5\\xfd\\xef\\xe2\\xa7\\xa4\\xdeN\\xeb{\\x8bt\\x93k\\xfc\\xdb\\xea%}t\\xd8\\xe5\\x85\\xa5\\xac\\x9e\\x86\\\\\\xf0\\xcd4\\xdfi\\xd2\\xe4I\\x1b\\xef2\\xf4\\xa7Mmr\\xf3}\\xa2\\xdf\\xe6Q\\xf7\\xa3\\xe8*y\\xa6y\\x9eK\\x88\\xe3U\\xf9v\\xb3\\'\\x02\\xaa4\\xd3L\\x8do\\xf7S\\xf8\\x9a\\xa1\\xca\\xfdM9b\\xb7\\xfc\\n\\xf7\\xf7\\xed\\xe7G\\x1ca\\x14\\xab/\\xcbE\\xfd\\xfc\\xcf4\\x92Gn\\xaa[\\xefm\\xa7\\xc3f\\x9771\\xd9\\xc7o\\xb8\\xff\\x00{\\xa5>\\xe7M\\x86\\x17X\\xe3\\xdd\\xb9\\x97kW,\\x94~#x9r\\xb4C2Cy\\x04r[\\xff\\x00\\x07\\xfc\\xb3\\xfe\\xfd2\\xe6o%<\\xbf-\\xf8\\xff\\x00\\x96u/\\xef\\xad\\x9dm\\xe4\\x8b\\xe5\\xdf\\xf2\\xadGs\\xe7#\\xb4\\x9fx4T(\\xd3\\xeb\\xa8\\xf9\\xdfM\\x08\\xde\\x18fE\\x928\\xf6\\x9f\\xf9\\xe7QM\\xfb\\x9d\\xb1\\xc9\\x1a\\xae~\\xf2\\xafZ\\xb1\\xbeHQ|\\xbf\\x95\\x8f\\xdejK\\xa8~\\xd33^[~\\xefo\\xca\\xadX\\xb8E\\x17\\t\\xb7\\x05\\x1e\\x88\\x8d\\xd1\\xe1\\x7f2\\xdd\\xfc\\xc5T\\xf9\\xa4\\xa8.>{\\x9cyk\\x9d\\x9f\\xc2\\x98\\x15#\\xa7\\x92\\x8bo\\x1d\\xc3.\\xff\\x00\\xf5\\x8c\\xbd)u+9,\\xce$\\x93\\xcc?\\xdeZ\\x9d{\\x1a\\xc5sj\\xf6\\xeaU\\xc4\\xd3;\\\\I\\xf2\\xaa\\xd4~t0M\\x1c\\xbec2\\x9f\\xef\\xf4J\\xb9t\\x892/\\x97\\x1e\\xdf\\x97\\xf7\\x9bj\\x9b\\xdb#\\xf9v\\xfef\\xe4\\xfb\\xcdW\\x18EZ\\xe8M\\xdaVL\\x92;;i\\xb7I\\xf3\\xb1_\\xbbQ<;?\\xd1\\xe3\\xda\\xdf\\xc5\\xba\\xacC\\xf7?y\\'\\xcd\\xf7v\\xa5U\\xbaDM\\xbe\\xbf\\xde\\xa9JH|\\xcb\\xb9\\x1f\\x92\\xf0\\xfe\\xf2?\\xb8\\xcf\\xf3-WxfK\\xa5\\x92=\\xca\\x0f\\xca\\xbe\\x95\\xa3\\xe4\\xa3C\\xe6G\\x1f\\xdc\\xf9\\xb7T\\x89\\nMf\\xa3\\xe4R\\xbfu^\\x9a\\xb2\\xd6\\xda\\x82\\xb4\\xa3dP\\xbc\\xb3(\\x8b\\'\\x98\\xacJ\\x7f\\x052\\x14t\\xb2\\xfb\\x18\\x93k\\xff\\x00z\\xae\\xba\"Z\\xac\\x92GLO:D\\xf3%\\x8f\\xe4\\x1fv\\x9f\\'^\\xa1vAg5\\xe2#Y\\xdcE\\xfe\\xea\\xd5WI\\x13\\xfd^\\xcf\\xf6\\xa3\\xabW/r\\x9f\\xbc\\x8e\\xddU\\xff\\x00\\xbd\\xfe\\xcdMmm\\nB\\xb2I\\x1e\\xd9\\x7f\\xbd\\xd4S\\x958\\xc6\\xded\\xfbDS\\x86\\xd9&\\xb5\\xf2\\xe3\\x8dW\\xfb\\xbb\\xe8\\x08\\xe2\\x05\\xb7\\x8e\\xdfj\\x9f\\xbc\\xd5f\\xe4e\\xd7\\xcb\\x91W?\\xc2\\xb5$|\\xfe\\xf2\\xda\\xdf\\xee\\xaf\\xdd\\xaaPhWjVe\\x17\\xb2}\\xea<\\xcf\\xb9\\xf7jG\\xd2\\xa6H|\\xb9#uW\\xf9\\xb7u\\xab\\xf0\\x89/\\x11\\xbc\\xcb=\\xb8O\\xc6\\xa4\\xf9\\xf6)\\x8eM\\xbf-U\\x9a\\xd8\\x98\\xcb\\xde\\xbd\\x8c\\xc7\\xd1\\xf6C\\xe6[\\xc7\\xb4/\\xde\\xa8\\xbe\\xc1mm\\x0cw\\x11\\xdc>Y\\xff\\x00x\\xa9Z\\x08\\xfeLk\\x1f\\x99\\xb7{\\xfc\\xd5\\x05\\xe4(\\x8f\\xe5\\xc7\\xf3f\\xa5.i8\\xbd\\x90\\xdc\\xa4\\xacRD\\xdf3G\\xf6}\\xcb\\xbf\\xfdgJ\\x9d\\xed\\xbc\\x94T\\xfbf\\xd5f\\xdbIul\\x892\\xc7\\x1f\\xcb\\xfd\\xea{\\xfd\\x8d\\xe2X\\xe4\\x93i\\x1fz\\xae0\\xbe\\xea\\xc2\\x94\\xfc\\xcavzl\\x9fi\\x9b\\xcb\\x91\\x1bg\\xde\\xa6Mm\\xf3\\xb4r\\x1d\\xaa\\xcf\\xf7j\\xfd\\xcb\\xcc\\x88\\xbe]\\xbe\\xdf\\xefl\\xa8|\\x97\\x99\\xdaK\\x89?\\xe05\\xa7\\xb2f~\\xd2\\xe9$\\x86M\\r\\xb4(\\xb1\\xdbt\\xfe&\\xedO\\xbc\\xb0\\xf2aY-\\xe4V\\xcd>\\x1bgM\\xdeW\\xcc\\x19>ez\\x89._\\xceX\\xe4\\x8d\\x94\\x7fv\\x9cSR\\xb7P\\xb9\\x0c\\xb6sl\\xf3\\x0c\\x7f{\\xf8\\xaaXt\\xd9\\x99<\\xc9-\\xf6\\xe7\\xe5\\xa6}\\xa6o;\\xca\\xb8\\x8f\\xcbE\\x7f\\x96\\xad\\xf9\\xd3y\\xdeX?/\\xf0\\xb5k\\xefs\\\\\\x94\\xec\\x9a\\x97R\\xaaiI\\x0b\\xaf\\x99%Il\\x93;\\xf9w\\x17\\x0e\\xc1?\\xd5\\xad:\\xf1\\xe4?\\xf2\\xcfs\\xaf\\xdd\\xa8\\xe6G\\xb6H\\xee$\\x8f\\xfd\\xaa\\x8eNm\\xf4a\\'8\\xc6\\xefRd\\x99\\xfe_\\xb6K\\xd3\\xee\\xd4\\xf0\\xdeC\\xe6}\\x8e8\\xf7n\\xf9\\xb7U+\\x9b\\x99\\xaem\\xbc\\xcf-0*M\\x13{\\xcd\\x19\\xf3W\\x1f\\xde\\xa9\\xf6\\\\\\xee\\xec9\\xd9\\xab\\x0c\\x96p\\xdf\\xacrI\\xf3\\xbf\\xfc\\xb3\\xd9O\\xd6._\\xcbo.\\xdfv>\\xf5>\\xf6\\xc9?\\xd6[\\xc6\\x9b\\xd7\\xe6\\xdc\\xf5_V\\xbcK;\\x05\\x8e9>i\\x19w-w\\xc97\\x05c\\x8a-je\\xbc\\xc9\\xb1d\\x8a6\\xcf\\xdej\\x8e\\xe6\\xe5\\xeeQ\\xa3\\x92?\\x9bg\\xde\\xe9W]\\xe1\\x87l\\x91\\xc5\\xb5\\x996\\xed\\xa8\\x91-\\x93t\\x92F\\xd9\\xfe\\x1fJ\\x89F#R\\x933\\xd2`\\x8e\\xb1\\xdcI\\xb4m\\xfb\\xc9\\x1d5\\xdd\\x86\\xef2M\\xd8\\xfb\\xabW\\xe6\\xb3G\\x87\\xf7\\x91\\xaa\\xe3\\xe6\\xa8.m\\xb6m?+nO\\xbbYK\\xdd/\\xe3\\xdc\\xcbDw\\xdd$w\\x1fu\\xbe\\xed\\\\\\xd96\\xc6\\x8c\\xdcm\\x1b>e\\xa6:@\\x8f\\xe5\\xdb\\xf5\\xfe%Z\\xb5&\\x9a\\xfb\\x17\\xed\\x12|\\xafC\\x8ac\\xbd\\xa3tR\\xb3\\xb9\\xdf3Gy\\x1e\\xe4o\\xbb%J\\x88\\x12o\\xf4>\\xe9\\xf3T\\x89mm\\xf2\\xc7$\\x8c\\xc1~\\xf5L\\xf0\\'\\xd9\\xd6K\\x7f\\xbd\\xbe\\xb6\\xe6W\\xb9\\x9aS\\x96\\xafb7\\x99\\x12\\xd9\\xa3\\x8f\\xef~\\xb4\\xcf\\xb1\\xbf\\x92\\xb2I\\xfb\\xc6?ujI\\xad\\x9e\\x18\\x1b\\xfez\\xb7\\xf1Qml\\xe8\\x9elr}\\xdf\\x99\\xa9\\xdd\\t\\xdd\\x91\\xba:~\\xf3\\xec{[mT\\x9a\\xf1\\xde\\x0f,\\xfc\\xbb~V\\xdbZn\\x8e_\\xed?>\\xca\\xaa\\xf0\\xc2\\x91\\xb7\\xee\\xf6\\x93\\xf7V\\x8b\\'.U\\xb8\\xdd\\xdcm}\\x08\\xe1\\xbfI\\xaeVO/p_\\x97mW\\xbc\\xd94\\xcd!\\xb7\\xda\\xadO\\xb6\\x8e\\xdb\\xe6\\xf2\\xfe\\\\}\\xeaAm\\xf24\\x92|\\xaa\\x7f\\x85\\xeb9G\\xde\\xb1|\\xd7Wb\\'\\x97\\xb1c\\x8fs\\x0f\\xbd\\xba\\xa4\\x0f\\x0b\\xc2\\xd1\\xc7\\x1f\\xce\\xbf\\xc5H\\x90\\xa2m\\x92I\\x1bc\\xfc\\xad\\x1fjl\\xdeM\\xb5\\xce-\\xfel\\xfd\\xea\\x88\\xab+\\x95oz\\xf13\\xaf\\xe1\\xb9\\x86\\xe5n<\\xcd\\xcc\\xc9\\xf2\\xb5V\\xf3\\xae|\\x99#\\xb8\\x8f\\xe7j\\xd7\\xbf{i\\x1e?.\\xdd\\xf7\\xa2\\xfd\\xeaa\\xb6\\x85\\xe1\\xf3.\\x13\\xe6?v\\x9b\\x8aq\\xe6\\xea5.YY\\x19\\x10\\xa7\\xc9\\xf6\\x7f\\xbd\\xfcU,0\\xec\\xfd\\xdc\\x91\\xfc\\xa9\\xfcT\\xb3[M\\x0c\\x9fh\\x8eM\\xbf\\xddZ!\\xb9\\xd9\\x0c\\x91\\xde[\\xb6\\xe2\\x9f+U8\\xb7\\x1b\\xdc\\xa5$\\xfa\\x15/m\\xa1\\xde\\xd2G\\xf2\\xe7\\xee\\xadW\\xfd\\xcc0\\xacw\\x16\\xe9\\xb9\\xbe\\xf3U\\x98l\\xe6\\x99\\xd6/3q?u\\xa9\\x1e\\xd9\\xfe\\xd3\\xe5\\xf9\\x7fq\\xa9YG\\xdd\\xbe\\xa5\\xb6\\xa5\\x05%\\xb9\\x975\\xb7\\x9ds\\xf6{h\\xf7g\\xf8\\xa8\\x9a\\xcek[\\x95\\xf3$\\xf9\\x7f\\x8b\\xd2\\xaf\\xde[\\'\\xcd,q\\xedj\\xad\\x1d\\xb4\\xce\\xed\\x98\\xfe_\\xe1\\xa6\\xa6\\xd1RK\\xd9\\x95.l\\xed\\x85\\xb3}\\x8e\\xe1\\x19\\xbf\\xd8\\xa8\\xac\\xe0\\x170/\\xd8\\xe3\\xdc\\xc9\\xfe\\xb1\\x9a\\xaf\\xcf`\\x96\\x12\\xaf\\x99\\x1f\\xcaWu-\\xb3\\xc3\\xe5\\xb4\\x7f\\xeaScmd\\xa6\\xe4\\x94=\\xd2c\\x1dm~\\x85\\x15\\xb3\\xb6G\\xfbD\\x91\\xff\\x00\\xbdT\\xdf\\x13\\\\\\xb5\\xbd\\xc4\\x9bQ\\xfe\\xea\\xd3\\xfe}\\xedoop\\xcd\\x9au\\xb6\\xf4u\\xb7\\xb8\\xd8\\xd8\\xfb\\xb2T^oG\\xb8\\xf9\\xa7\\xca\\x95\\xc5\\xfb5\\xb7\\xcd\\x1c\\x9b\\xbf\\xbb\\x1e\\xfa\\xab\\n=\\x9a4\\x92;\\xed/\\xf2\\xd6\\xad\\xcc6\\xd1\\xbcq\\xc7l\\xcb\\xf2\\xee]\\xd5R\\xe5\\xf6E\\xff\\x00\\x1e\\xef\\xbf\\x7f\\xcd\\xbf\\x9a\\xc5&\\xbd\\r\\xec\\xd6\\xad\\xeaR\\xd6>\\xe4w\\x17\\x12#)\\xfe\\xedV\\x7f\\x93\\xf7q\\xc7\\xf2\\xb7\\xddg\\xabW)\\r\\xcc+\\xe6G\\xb7k\\xd3\\x1f|\\xce\\xb7\\x16\\xff\\x00(\\xfb\\xac\\xb5k\\xdd\\x8d\\xd0\\xa5y\\xcfB\\xa4\\x93=\\xd4-\\x1c\\x83k\\xaf\\xe5Py.\\x8f\\xe6\\\\\\xc9\\xbb\\xfb\\xb5oR\\xde\\x96\\xcd\\xfb\\xaf\\x93\\xf8\\x99j\\x0bd.\\x8b\\'\\xda72\\xae\\xdd\\xb5I\\xb7\\x1b\\x99\\xd9\\xf6+\\xbf\\xfaL\\xd2\\\\G\\xf2\\xa2\\xa7\\xca\\xbd)\\xb0\\xbf\\x9c\\xeb\\xe6[\\xff\\x00\\xbbSL\\x89\\xf6o.\\xdf\\xe5q\\xfe\\xb9\\x9a\\xa3G6v\\xcby\\xe5\\xee\\xcf\\xca\\xca\\xd5i\\xdd_\\xa1)\\xa7+X|7\\x8e\\x9b\\xa5\\xc7\\xcb\\xfd\\xdaH|\\xeb\\xa7\\xfe\\x05?\\xc5P\\x1bi\\xbe^>\\xfdXw\\xfb\\x1f\\x97\\xf7?\\xda\\xa2\\xc1\\nr\\x9e\\xec\\xfb!5/\\xf4\\x7f0[\"\\xb0\\x7f\\x95R<UT\\xb9\\xf3\\xaf\\x16\\xe2\\xe2?\\x91\\xfe\\xf2\\xd1\\xb6\\xf1/T\\xf9{\\x82\\xb7\\xdd\\xab\\x1eO\\xdb\\xec\\x1a\\xdeI6\\x9d\\x9f+V6\\x84L\\x93nI\\xf6)^?\\x937\\x97\\x1cn\\xdb\\x9b\\xe6\\xdb\\xd3m5\\xd1\\xe1\\x8f\\xcb\\xfb>\\xec\\xff\\x00\\x12\\xd3\\xec\\xed\\x9a\\x14\\xf3.#}\\xbb\\xb6\\xd5\\xb7t{o.O\\x94\\xa3nV\\xac\\xe6\\x9f\\xdcj\\xdaw]L\\xff\\x00\\xb1\\xdc\\xc7\\xbaO\\x99Y\\xfe\\xebR\\xcdmsm\\xb6K\\x83\\xbb\\xfb\\xdb\\xea\\xf0\\xb9y\\xad\\xbc\\xb9-\\xfc\\xbd\\x9fu\\xaa(\\xe1\\x98\\\\\\xc7oy&\\xef\\xf9\\xe7\\x1f_z\\xcd\\xcd.\\xc3\\x8cT\\xadk\\x95.\\xb6^m\\x8e?\\xdd\\xba\\xba\\xee\\xdf\\xd2\\xabjN\\xfeO\\x97\\x1c\\x8b\\xb9\\x7f\\xd6-io\\xb0\\xb9\\xff\\x00H\\xb7\\xb7eb\\xbbZ\\xb1\\xde\\xcc\\xfd\\xb1\\xa3\\x90\\xbe\\xdf\\xefw\\xac\\xa2\\x94\\xca\\x9f\\xee\\xc5H]!\\xf3$\\xf9\\x9e/\\xba\\xaf\\xff\\x00\\xb2\\xd4\\x170\\xdc\\xcb\\xba\\xe296\\xee\\xda\\xd2CZ\\x1ff\\xf9#\\x8e\\xf1\\xdf\\x1f\\xc2\\xc9Q_\\xc3r\\x934Q\\xc7\\xb5\\x7f\\x86G\\xaaM\\xb9Z\\xc1\\'\\xcag\\\\\\xba#\\xf9q\\xef\\xfe\\xea\\xd4\\x93Y\\xdc\\x98~\\xd1$\\x9f&\\xcf\\xc6\\xacZ\\xcc\\x92y\\x89q\\xf3K\\xb7j\\xd3\\xa1\\xdf\\xbdd\\x93n\\xe4o\\x99^\\x9e\\x8aWh\\xd2-\\xaf\\x84\\xa1\\r\\xe2@\\x9fg\\xf3\\x19s\\xfcT\\xd7tw\\xf2\\xed\\xa4EV\\xfe*\\xd2\\xb9M7\\x7f\\x99%\\xbb\\xae\\xef\\x99\\x96\\xab>\\x95\\r\\xe2y\\x9a|{W\\xf5\\xaa\\x84R\\x95\\xf6!\\xa6\\xc86\\x14O69>\\x7f\\xe2Zl\\xd0\\xdbM\\xfb\\xb8\\xe3\\xe3\\xf8\\xb7S\\xe1\\xff\\x00]\\xe5\\xbb\\xed\\xfe\\x1ac\\xdb#\\xce\\xd2[\\xc9\\xb9\\x7f\\x89j\\x1c[\\x95\\xaej\\x9cT|\\xc9?\\xd1\\xa1O\\xb3\\xfd\\xa3\\xf8>VN\\x95\\x05\\xaaCx\\xed$\\x92\\xb6S\\xee\\xb7j\\x9e\\xda\\xce\\x17\\xda\\x92G\\xb9w|\\xcdR\\xa43[n\\xb7\\xb7\\xd9\\xb7v\\xed\\xb5.\\x9aZu\\xeeG3\\xe5\\xbd\\x8a\\xee\\x892y\\x7f\\xf0\\x16V\\xa1\\x11\\xec\\xddm\\xe2\\xfd\\xe0J\\xb6\\xf6\\xaf\\xfe\\xb2H\\xf73S^\\xdaD\\x87\\xed\\x11\\xdcm\\x7f\\xe1\\xabRH \\xe5\\xcdr\\x9c\\xd6\\xdfiO\\xf5{_\\xf8\\x96\\x91,\\x1d7A\\xe6pj\\xfa%\\xd2:\\xc9$j\\xd9O\\x9a\\x89\\x9d\\x02~\\xee?\\x9d\\x9a\\xa9E\\xb8\\xda\\xc4\\xd4~\\xf5\\xda\\xb9\\x9d\\xe4\\xa7\\x92\\xbe_\\xdf_\\xe2\\xa2\\xdb\\xed0\\xed\\x93\\xef+|\\xb5y\\xee\\xad\\xa1o.H\\xf9\\xd9\\xb6\\x9f\\xb1>_\\xb3\\xfc\\xcd\\xfd\\xda\\xb8\\xa7\\xd8\\xc9\\xca\\xd1\\xd3VQttF\\xf2\\xff\\x00\\x8b\\xef/zHx\\xdd\\xe6o\\xc8O\\xbbW&\\xf2a\\x9b\\xcc\\xb8\\xfb\\xff\\x00t\\xad\\'\\x97\\x0b\\xc7\\xfe\\xaf\\xe7o\\xba\\xd5\\x9a\\xf7\\x8d^\\xbe\\xf1^kh^\\x15\\x92;\\x84W\\xdf\\xf7j9\\xac\\x12di-\\xa4e\\x95>\\xf5X{2\\x89\\xfb\\xce\\xabQ\\xa6\\xfd\\xfc\\xc7.\\xf6O\\x9b\\xd2\\xb5\\x86\\xaa\\xc8M\\xb7\\x1b38\\xd9\\xbf\\xcd/\\x99\\xb8\\xaf\\xdeg\\xa9nm\\xa1w_\\xdd\\xee\\xf9jy\\xac._l}\\xff\\x00\\x8b\\xb5=,6\\x7f\\xbb\\xfcUrl\\xce.\\xf1\\xb1K\\xc9G\\xdbo\\x1d\\xc6\\xd6_\\xbdR\\xcc\\xe8\\xe8\\xb1\\xc9\\x1e\\xef\\xee\\xc8\\x95$\\xd6\\x89g7\\x99\\x1f\\xef\\n\\xfd\\xe5\\xa9!O\\x91nd\\x8fn>eZ\\x1d\\xdfM\\x02\\xf6\\xd1\\xeeg\\xc2\\x88\\x8e\\xd1\\xf9\\x8e\\xa5\\xbf\\x85\\xe9R\\xc1/\\x13\\xcc{\\x8f\\x98\\x7f\\r\\\\\\xb9\\xf2n]|\\xb8\\xfc\\xbf\\xefS\\xad\\xb4\\xd8Q\\xf3\\x1f\\xfc\\n\\x9d\\xed\\xb0\\xd2k\\xa9N\\xe6\\xc1\\x12\\xd9e\\xff\\x00Y(\\xfb\\xcc\\x94\\xc7\\xb3}\\x91\\xf9ru\\xfb\\xadZ0\\xdb\\\\\\xefk|\\xaf\\xcf\\xf7i\\x970\\xf9?\\xbb\\xfb\\xac?\\x8a\\xa9\\xabF\\xc4\\xbdH\\xed\\x92\\x1f\\'\\xf7\\x9f1\\xdbQ^C\\x04p\\xfe\\xf3\\xe6\\x1f\\xdd\\xab:T\\x0f\\xb1\\xad\\xe4\\xf9s\\xf7Z\\xa3\\xf974r|\\xdbj#u\\xafB[J7\\xb9FHvC\\'\\x97\\x1bl\\xfe\\xeb\\xd2h\\xf0\\xef\\x99c\\x1f.\\xf7\\xf9Y*k\\x97\\x9a\\xe7t\\x7f\\xc3\\xb7\\xe5Z]\\x07\\xf77+m\\'\\xdeg\\xaan\\xfdGN\\xca7:[m\\xe9\\x0bY\\xdcH\\x98O\\x99Y\\xe3\\xe6\\xb35(a\\x99\\xd7\\xf7\\x7f:\\xfc\\xcdZ\\xb3X<\\xd3yrH\\xdb6\\xfc\\xad\\xfe\\xd5g_\\xc2\\xf6s4w\\x1b\\xfe\\xee\\xed\\xc9]\\xc9\\xd3\\xd3]N5ve]M\\x1e\\xf6\\x96;}\\xb8\\xfb\\xca\\xf4\\x9f<\\xa9\\xfe\\x8f\\xf2\\xaf\\xf7\\xaa\\xd5\\xcd\\xcc>O\\xfa\\xbd\\xc5\\xdb\\xefUk\\x94\\xfd\\xda\\xc7\\x04\\xbbv\\xb7\\xcdY\\xde\\x1c\\xd6)\\xaf\\x84\\xa3\\xb2m\\xeb\\x14\\x97\\x0c\\xc4\\x7f~\\xa0I\\xae^\\xe7\\xcb\\xfb\\xbf\\xedU\\xeb\\x94\\xbaM\\xbe_U\\xfc\\xe9~\\xc7s<_h\\xfb>\\xd8\\xdf\\xefIJ2\\xe7\\xdb`Qk\\xbd\\xcc\\xf4\\xb36s4\\x91\\xc8\\x8c\\xad\\xfcUi&\\x9ah\\xfc\\xbb\\x89>O\\xf6)\\xf76H\\xef\\x1f\\x99\\xf2\\xa8\\xfb\\xb4\\xe8_\\xe4[y>Q\\xf7wR\\xe4\\xe6\\xe8\\x17kq>\\xc0\\x9b<\\xbbx\\xf6\\xb3T\\x7f\\xbe\\xb0E\\x8eA\\xf7\\x7f\\x11W\\xbc\\xe7\\xc3I\\x1d\\xc2a\\x7f:\\xcf\\xb9\\xf3\\x9f\\xf7\\x92tW\\xfe*\\xc9\\xc5\\xaeh\\x9a\\xc2H\\x96\\xe5\\xf7\\xcd\\x1b\\xc7\\xf3g\\xef7J{\\xd9\\xcc\\xef%\\xc7\\x97\\xb4\\x7fv\\xa1\\xde\\x93\\'\\x99\\x14n\\xc7\\xefm\\xa9\\xaf&O\\xb3-\\xc4r2\\xbf\\xf1n\\xa9I\\xa1\\xfb\\xfa\\x87\\x92\\xe8\\xebo\\xf6\\x84\\xd8j\\t\\xac\\xdd\\x1d\\xad\\xe4\\x8d\\xb7\\x7f\\x0bu\\x14\\xc9\\xf7\\xcd$q\\xf9\\x9fw\\xef-[\\x8d\\xe6\\x86\\xd9o>M\\x83\\xe5\\xda\\xfdkG&\\x81+\\xc6\\xc6s\\xc2\\x8fj\\xd6\\xff\\x00u\\xc7\\xddT\\xebU\\xfc\\xb7@\\xb1\\xc9\\xfb\\xc1\\xfcMV~\\xdb\\xf7\\xa4\\x8fj\\xb7\\xf7|\\xba\\x86\\x19\\x9c\\xbbG\\x1cn\\xdf=U\\xf9\\x89Zz\\x0f\\xfd\\xcf\\xd9\\xbc\\xc8\\xe3\\xf9\\xbf\\x86\\xab?\\x92\\xe9\\xe6yl\\xadRL\\xf70\\xcc\\xd6\\xf2~\\xec\\xff\\x00v\\x9d\\xe5\\xdc\\xdc\\xa7\\xee\\xe4E\\x08\\xbfw\\xbdJ\\xbc\\xa3d\\x8d9Jp\\xefui$\\xf9\\xb3\\xf7hxf\\xcf\\xee\\xe4\\xdd\\xbb\\xee\\xad/\\xef-\\x87\\xef$\\xdc\\xcd\\xf7V\\x96g\\xbdHc\\xfd\\xdf\\xfb\\xcdJ\\x02vC.t\\xfd\\x90\\xc7q%\\xc2/\\xf1m\\xedU\\xef\\xe7I\\x91d\\x8eM\\xa0\\x7f~\\xad^y76~W\\xdet\\xfb\\xab\\xe5\\xf1Y\\xee\\xfer}\\x9c\\xdb\\xed\\'\\xee\\xabS\\xb6\\xfeeI\\xfb\\xb7\\x1ff\\x96i\\x0f\\xda-\\xfeg\\x1f2\\xafj\\xac\\x97.\\xf7-q$k\\xf3U\\xc8R\\xce\\xda\\xce;1f\\xeb*\\xbf\\xfa\\xcf0\\xd5k\\xcbhM\\xca\\xc9nv\\xed\\xfb\\xcbY\\xd9s7m\\x8a\\x8c\\x1ca\\xa1RdH]\\xa4\\x92N\\xbfuj)\\xde\\xe6\\x1f\\xf4\\x99>P\\x1bn\\xda\\xb1-\\x9c3\\\\\\xfd\\xa1\\xe4~?\\x86\\x96\\xfe\\xcf\\xce\\xf2\\xe4\\x93\\xa1\\xf9|\\xbaw%\\xdd\\xee\\xde\\x86u\\xd3\\xbd\\xe3\\xb4\\x91\\xf4Ze\\xb2o\\xdb\\x14\\x92#2\\xab,u<\\xf6\\x0fit\\xb6\\xf1\\xc9\\xc3\\xff\\x00\\x15Gs\\xa6\\xc8\\x93-\\xc7\\x97\\xf3/\\xdej.\\x87\\x14\\xd1Rk\\x01m\\xfb\\xdf\\xf5d\\xfd\\xea\\xa8\\x892;[\\xc9\\xb1\\x94\\xfd\\xd6\\xadi\\x83\\xdc;\\x7f\\xa3\\xee\\xdb\\xf2\\xd5w\\xd2\\xb7\\xbf\\x99o\\x1e\\xd0\\xbfz\\xabU\\x1b68{\\x8e\\xea\\xe6c\\xdc\\xcc\\xf7+o\\'o\\xba\\xc9V\\x13z]/\\x99\\x1e\\xef\\x97\\xef74\\xafa\\x0c/\\x1d\\xc5\\xbf\\xde\\r\\xfb\\xcd\\xd5\\x15\\xe6\\xe9\\x9dd\\xf36\\xbf\\xdd\\xdbI\\xc5K\\xdd[\\x14\\xa5\\'\\xefu%\\xbf\\xb3\\xfbK\\xf9\\x91\\xc7\\xb7\\x1fuj\\x8d\\xcc3\\x18d\\xb7\\xf3\\x15B\\xfc\\xd5u\\x1eg\\xdd\\'\\xa7\\xdej\\x8b{\\xbc\\xcc\\x9f\\xeb?\\xba\\xd5\\n*Q\\xb1\\xa75\\xb6ehm\\x13\\xec\\xded\\x92\\xfd\\xdf\\x9boj\\xa2\\xe9\\x0e\\xf6\\x92\\xde?\\xbd\\xfcU\\xa9\\xf64\\xcby\\x92n_\\xe2\\xdbU\\xa4\\xf2\\\\\\xb5\\xbcq\\xeeZ5\\x88\\xedd\\x93\\xeag<.\\xeb\\xe6G&\\xd6\\xff\\x00\\xd0\\xea(n]\\xd1\\xad\\xeec\\xda\\xbf\\xdd\\xabw\\x8f\\x1d\\x85\\xcf\\x97\\x1c|\\x1a\\x8d\\xdd\\x12f\\x924\\xdc\\xcd\\xfc/V\\xa5\\xcd\\x1b37x\\xca\\xc9\\x91%\\x85\\xe4\\xd0\\xb5\\xc5\\xbd\\xc2\\xae>\\xee\\xfe\\xb5\\x0f\\xfaK\\xbf\\xd9\\xee>l|\\xcc\\xd5\\xa3\\xbe\\x19\\x1dc\\x8e-\\xdb\\xbf*\\xadw\\x0b\\xa3\\xac\\x9e_?\\xc5M7\\xd4|\\xb1\\xe5\\xe6\\xea}\\xabr\\xf6\\xdb\\x1a\\xe0\\xfe\\xf03\\xfc\\xbb8\\xa8-\\x9e\\xc1\\xec&\\xb8\\x92M\\xb2\\xefUX\\xfb\\xf3VR\\xc2o:8\\xfc\\xc5]\\xbf2\\xafAU~B\\x8c>\\xcf\\xb6F\\xfe.\\xf5\\xc7I\\x93+B\\tu#\\xb6\\x85>\\xd3\\xe5\\xcf\\'\\x1fud\\xebP\\xcd\\no\\x90\\xf9o$[\\xf6\\xc9\\'\\xf7*k\\x98a\\xb6F\\x8e?\\xbe\\xbf5Er\\x93=\\xb2\\xc9\\x1c\\x9b|\\xdf\\xbd\\xb2\\xb5\\xf7~F~\\xf4\\xec\\xde\\xc9\\x8d\\x99.Sl\\x92o\\x924\\xfb\\xac\\xf4\\xc8fG\\x9b\\x98\\xf71_\\xfb\\xe2\\xa2\\xdfs\\xff\\x00\\x1e\\x7fh\\xda\\xbf\\xde\\xedQ\\xbc7(\\x8d\\x1cw\\n\\xdb~\\xedc8_fiN\\xa5\\xba1\\xe9r\\x90\\xbbG\\x1c\\x9b\\xbezdP\\xa7\\x98\\xd2}\\xe5\\xd9\\xbbs\\xd3\\xb4\\xfb\\x04D\\xf3\\x1e7PS\\xefU\\x87kkke\\xb7\\x8eO\\x9d\\xdf\\xe6W\\xff\\x00\\xd9i4\\x96\\xbdJO\\x99\\\\\\xae\\xee\\x9b\\xd6I$\\xf9\\x97\\xe6Z\\x99\\xe3\\xb3\\x99\\x169$fjk\\xdbA\\xf2\\xc9\\xf6u\\x91\\xc7\\xddj\\x92ko\\x9dn#\\x1f7\\xfb5)7+\\xd8\\xd5i{\\xd8\\xa9yam\\x0c\\xcb\\xe5\\xc6\\xd1\\x97\\xfb\\xab\\xe5\\xd5k\\xdbd\\xf3\\x96I#v!~\\xecU\\xa9\\x7f3\\xec\\x8f\\xed\\x1f)\\xd9\\xb9\\x9a\\xa3\\xd9\\x0b\\xa7\\x99oq\\xb5\\xbf\\xbbW\\x1d\\x0c\\xe5g{=\\xcc\\xd7D\\xb6u7\\x91\\xfd\\xe6\\xdb\\xba\\xa5\\xb6\\x1fc\\x81\\xa4\\xb7\\xb7}\\xff\\x00\\xc3\\xbe\\xac^C\\xf6\\x93\\xe5\\xff\\x00\\x16\\xcf\\xe3\\xac\\xd77\\x8e\\xfeTrp\\xafM\\xae\\xc1\\x19\\xebn\\xa3\\xe6G\\xbcx\\xe3\\x92\\xdf\\xcbV\\xff\\x00X\\xde^\\r\\x16\\xd6\\x16\\xc6\\xf2I-\\xfeo\\xe1Z\\xb1\\r\\xe4\\xd0\\xcc\\xa68\\xf7:}\\xd6\\xebR[lw\\x92;\\xb1\\xe5\\xee\\xf9\\xbd*-(\\x898\\xbe\\xbf\\x7f\\xf9\\x8c\\xb3t\\x86\\x1f,F\\xbb\\xfem\\xd1\\xbdE2\\x1f\\xdd\\xde\\\\\\xc8\\xac\\x1b\\xef/zw\\x97l\\xf3yq\\xc9\\xb5\\xff\\x00\\x85\\x9e\\x98\\x89\\xf6d[y?y\\xb9\\xbe\\xf5\\x0e\\x17\\x95\\xcas\\xba\\xb5\\xc9&\\x99\\x12\\x16\\x92\\xda=\\xca\\xff\\x00z>\\xf5N\\xea\\xd9\\xfc\\x8en>F\\xfc\\xeay\\x9f\\xcc\\xb9\\xfd\\xdc{H\\xfb\\xcbK\\r\\xb3\\xef\\xfe\\xf2?\\xdeV\\xa7\\x18\\xbd\\x1f@\\x9bR\\xdc\\x8a\\x13r\\xe8\\xb1I\\x1f\\xc9\\xf7i\\xd7)\\x1b\\xba\\xa4q\\xb7\\xc9\\xf7\\xaaf\\xfbL/\\xe5\\xc7\\x1e\\xe0\\x9f\\xc5VL\\x10\\xa2y\\x91\\xf5\\x7f\\xbc\\xd5\\xad\\xaf+\\xb4\\x8c\\xa9\\xdd|71\\x92\\x17\\xb9v\\x92O\\xbbODM\\x9f\\xbb\\x8fk\\x0f\\xbbR\\xcc\\xfeK\\xacy\\xdc\\x9f\\xde\\xa2wG\\x85~\\xcf\\xf7\\xf7\\xfc\\xcdOYJ\\xd6hi\\xb5}v+\\xa6\\xfb\\x9b\\xff\\x002X\\xbeE\\xf9wT\\xf3%\\x9b\\xbf^\\x9fv\\xac\\xdbX>\\xcf\\xf4\\x8am\\xe5\\x9e\\xc9\\x16?/\\xe5?v\\x95\\xb9\\xe6\\xba\\x0e\\xcb_2\\xa46\\xd7\\x89s\\xf6\\xc8\\xbed\\xfe\\xedI5\\xcb\\xdb\\x7f\\xcb4\\xdc\\xe9\\xf2\\xd5\\xc7\\xb0xm\\x97\\xec\\xf2u\\xfb\\xd5R\\xfe\\xcd&u\\xf2\\xe4\\xdb\\xb5v\\xb3w\\xadm\\xef\\'\\xd8\\x99=9H\\x11\\xd2x~\\xcfq\\xbb}C\\xf6gGY#?*?\\xcc\\xd5i\\x12\\xd9&X\\xfef\\xff\\x00k\\xbd=\\xd1 \\x9b\\xf7r>\\xd7\\xfb\\xd5I\\xf3n\\xc9m#7d\\xde{\\\\I&\\xdc\\xff\\x00\\r?\\xe7y\\x16H\\xc22\\xee\\xdc\\xd5g\\xc9\\xfbL\\xde\\\\\\x9f.>\\xeb%2\\xfe\\x1f\\xb3m\\x8e\\xdf\\xfe\\xfa\\xa3NT\\x85\\'q\\xaf\\x87\\x9b\\xf7q\\xae\\xd3\\xfcT\\xfd\\x88\\x96\\xad\\x1ey\\xfe\\x19)Q\\xdf\\xfd\\\\q\\xfc\\xcd\\xfc)W4\\xaf\\x0ck~!\\xfd\\xde\\x87\\xa1\\xdd];\\xfd\\xd5\\xb7\\xb4w\\xff\\x00\\xd0E8\\xae]\\xca\\x84j\\xd4\\x95\\xa2\\xaeb\\\\\\xbbC2\\x8f\\x9b\\x03\\xe6\\xf3)f\\xde\\xe6;\\x8b\\x7f\\x9bw\\xf0\\xd7\\xb8x\\x03\\xf6\\x0f\\xfd\\xa4<\\x7fl\\xb7\\x1a_\\xc3\\xbb\\xab{f\\xdb\\xbak\\xf41~A\\x86M{\\xa7\\xc3\\xff\\x00\\xf8#\\xbf\\x88|\\x98\\xf5O\\x8a?\\x12,\\xf4\\x9bv\\xf9\\x9a4\\xc0d\\xff\\x00\\xbe\\xbf\\xc2\\xb9*\\xe2)GK\\xeaz\\xd8l\\x971\\xaf\\xaa\\x83K\\xbb\\xd0\\xf8u,\\xf5\\'\\xfd\\xe4v\\xfbG\\xf0\\xd5g\\xb3\\xbc{\\x95\\xb3\\xb3\\xb7y\\xa4\\x95\\xd7\\xe5\\x8b\\x93\\xba\\xbfJa\\xfd\\x94\\x7f\\xe0\\x9e?\\x04\\xd9d\\xf1\\xc7\\xc4\\x08\\xb5\\x8b\\x94]\\xd2+\\xddg~\\xdfe\\xc0\\xfd+?U\\xfd\\xb0\\xff\\x00`\\x9f\\x83\\x972\\\\|;\\xf8Ge}q\\x1f\\xcb\\x1b%\\xaa}\\xef\\xf7\\xb8\\xfeu/\\x18\\xb6\\x8cn\\xce\\xc7\\xc3\\xd4\\xe9\\xc5<Eu\\x13\\xe3?\\x85\\x1f\\xb1\\'\\xed\\'\\xf1_R\\x8e\\xdf\\xc3\\xff\\x00\\x0e\\xefa\\x86o\\x99\\xae\\xafP\\xc5\\x1a~|\\xfe\\x95\\xf4\\xd7\\xc3O\\xf8$\\xbf\\x83\\xf4\\x14\\x8eO\\x8e\\x9f\\x16-lg?7\\xd9\\xec\\xa4\\x00\\xa7\\xe7\\\\\\xdf\\xc5\\xaf\\xf8+\\x17\\xc4\\x8f\\x11[I\\xa5\\xfc;\\xd1\\xed\\xf4\\x1bB\\xbbU\\xad\\xf0\\x1fm|\\xf7y\\xf1\\xa7\\xe2_\\x8f5\\xb6\\xd5<I\\xe3\\x0b\\xdb\\xa9\\x1f\\xe6\\xf9\\xe7cY\\xc9\\xe2\\xa7\\xfd\\xd3k\\xe4\\x18\\x18\\xd9E\\xd4k\\xbb\\xd1\\x9fd\\xeb\\xdf\\xf0I}\\x1fR\\xb6]W\\xe1?\\xc6\\xcb[\\xac\\xbf\\xcb\\r\\xd6\\xcc\\xfe\\x98\\xaf/\\xf1\\xe7\\xfc\\x12\\xaf\\xf6\\x9f\\xd2e\\xff\\x00\\x89}\\x85\\x85\\xf5\\xbe\\xcf\\x9a\\xe2)\\xdb?\\xc8\\x8f\\xd6\\xbcsM\\xf8\\xd9\\xf1;\\xc1\\xee\\xbf\\xd8~0\\xd4c\\xc7\\xcc\\xca\\xb3\\x9f\\xf1\\xae\\xebG\\xff\\x00\\x82\\x81~\\xd2z%\\x82\\xdb[\\xf8\\xf2VA\\xb7o\\x9b!\\xcdw\\xb8b\\xa1\\xaai\\xa3\\x87\\xeby\\x06\"V\\xa9E\\xc1\\xf9=\\x0c\\xddK\\xfe\\t\\xcb\\xfbR\\xe9\\xb0\\xf9\\x9f\\xf0\\xad\\xdem\\xbf{\\xca\\x9c\\x1f\\xfd\\x0b\\x15\\x87{\\xfb\\x07\\xfe\\xd3\\x9a;\\xb5\\xc4\\x9f\\t\\xf5&\\xfe\\xf6\\xcd\\x8e?\\xf1\\xd3^\\x83\\x0f\\xfc\\x15\\x13\\xf6\\x93\\xb6u\\xf2\\xfcP\\x93\\x04\\xfb\\xca\\xd1\\xd7Cg\\xff\\x00\\x05n\\xfd\\xa0Q#\\x8e\\xf7O\\xb5\\xb8F\\xfb\\xdf\\xbb\\x1f\\xe3X\\xb9\\xe2\\xd2\\xe6\\xd3r\\xe1O\\x86\\xaa;\\'$x6\\xb1\\xfb\\'|x\\xb0O3P\\xf8_\\xab\\xfc\\xbf\\xf2\\xd2+Bk\\x98\\xbc\\xf8{\\xf1#\\xc3\\xdf\\xf1+\\xd5<\\x17\\xab\\xc7\\x12\\xb6\\xf5\\x8e[\\x19\\x14n\\xfc\\xb1__X\\x7f\\xc1^\\xbcs\\n,~!\\xf8\\x7f\\xa6\\xcc\\xa7\\xf8\\xbc\\xb0\\riY\\xff\\x00\\xc1Y|%\\xa9\\\\\\xc9\\xfd\\xb9\\xf0~\\xc2l\\'\\xcb\\'\\x96+8\\xd7\\xc4\\xc5Y\\xc2\\xe6\\xcf\\x03\\x90N6U\\xda~\\x87\\xc2\\x1a\\x96\\x8f\\xa9[O\\xe6^\\xe9\\xf2\\xc6\\xff\\x00\\xdd\\x962*\\'\\xb3\\xdf\\x0f\\x99\\x1c\\x7f.\\xcf\\xbc\\x9d+\\xf4.\\xcb\\xfe\\n\\x05\\xfb!x\\xcd\\x16\\xcf\\xc6\\x9f\\x04\\xadcg\\xff\\x00Y\\xb2\\x00G\\xebS:\\x7f\\xc12\\xbe0\\x7f\\xa3\\xa6\\x97g\\xa4\\xcd7\\xded\\xc2|\\xdf\\xf0\\x1cSX\\xb9\\xc2\\xdc\\xd0z\\x10\\xf2\\x1c\\x1d_\\xe0\\xe2\"\\xdf\\x99\\xf9\\xd4\\x93\"&m\\xad\\xf7-%\\xe7\\xef\\xa1h\\xfc\\xbd\\xc5\\xd3\\xefW\\xe8\\x0e\\xa5\\xff\\x00\\x04\\xdc\\xfd\\x99\\xbcm\\x0f\\xda>\\x19|`\\x8a7g\\xf9a\\x95\\xc1\\x1f\\xd3\\xf9\\xd7\\x9d\\xfcA\\xff\\x00\\x82P|]\\xd14\\xd9\\xae<\\x17\\xaeYk\\x08\\x8f\\xba\\x18\\xd7 \\xff\\x00QMci9{\\xdb\\x98K\\x86s\\x04\\xaf\\x16\\xa4\\xbc\\x9d\\xcf\\x8d\\xed\\xa1\\x9a\\x17o\\xb3\\xfc\\xc4/\\xca\\xb5.\\x95s\\xf6\\x99\\xa4\\xb7\\xb8\\x8fo\\xf7\\xb7\\xa5z\\x17\\x8e\\x7ff\\xff\\x00\\x8d?\\x0e\\xa4\\x9b\\xfe\\x12O\\x86\\xfa\\x95\\x9b\\xdb\\x7f\\xac\\x93\\xc8\\xdf\\x1f\\xe6\\xbcW\\x0f\\xf6K\\x98nZH\\xed\\xf6\\xb7\\xdej\\xe8ucR-\\xa7\\xb9\\xe6\\xd4\\xc1\\xe20\\xfaT\\x8bO\\xd3\\xf5)\\\\\\xdc\\xdc\\xd9;I\\x1c{T|\\xabLH.o\\xf7I\\'\\xca\\xbb~\\xed\\\\\\xd9\\xbf\\xfe>#\\xdcw\\xfc\\xcbNDH\\xd1\\xa3\\x8e/\\xf7kH\\xa6\\xa1~\\xa7\\x1c\\x9a\\x89C{\\xa5\\xb3Y\\xfd\\x9d?\\xde\\xd83P}\\x996y\\x1f2\\xbe\\xff\\x00\\xbc\\x95v\\xe6\\xe5\\xde\\xf1d\\x8e\\xdd\\x15\\x91>fZm\\xcb\\xc3\\xe4\\xff\\x00\\xab\\xdb3}*l\\xa2T\\x1b\\x9cl\\x86\\xcdm\\n[,\\x9ef\\xe6Z\\xcfKm\\xf7>P\\xf9wU\\xa7\\xb9\\xd9f\\xd1\\xf9oL\\x9a\\xe5&O2;?-\\x91>_\\xdd\\xf3J<\\xd1V@\\xda}\\x08\\xa7\\xb6w\\xfd\\xe5\\xbf\\xcc\\x89\\xf7\\x96\\xa5M\\x93\"\\xc9 \\xda\\x89\\xfcU\\x1d\\x9b\\xcf\\n4\\x92I\\xb7\\x7f\\xdeZ|\\xd3L\\xf6\\xcd\\xf6x\\xf7\\x7fyhz\\x15\\x19^W\\xb1\\x0b\\xd8[;\\xb5\\xdc\\x7f\\xbc\\'v\\xd5\\xdf\\xc5Sxm\\xb0\\xded\\x9b]~\\xef\\xee\\xea\\xd5\\x9d\\xcd\\xb4\\xc8\\xbedn\\xbb_\\xe6U\\xa4\\xbcKd\\xe3\\xcb\\xe4\\xfd\\xda\\xb8\\xdb\\xa8k\\xd8\\xce\\xf2f\\x99\\x169$\\xf9O\\xddj\\x8e\\xf2\\xda\\xe4\\xff\\x00\\xa3E\\xdb\\xfeZV\\x82B\\xff\\x00,rG\\xc1\\xfe*\\x86\\xe5\\x11\\xff\\x00w\\x1b\\xeea\\xf7j\\x16\\x92\\xb9M\\xa5\\x16\\xbb\\x14\\x9e\\xda\\xf3\\xe5\\xf2\\xe4_\\xf6\\x9a\\x88a\\x10\\xdc\\xc7\\x1c\\x92$\\x80|\\xdf%^\\x9a\\xdbd+$\\x83\\xe7\\xa5\\x98}\\x9a\\xdb\\xfdb\\xef?\\xc5I\\xa9\\xa8\\xb6\\xb5\\xb9I\\xbe[\\xbdJ\\x176\\xc1\\xdf\\xcc\\xee\\xdfuj\\x13\\xe7C\\xba;\\x88\\xd6\\xaf\\xa4\\xd0\\xcc\\xfedV\\xff\\x00q*+\\x9f\\xb1\\xdc\\xa3I$n\\xcf\\xfc=\\xaa,\\xae\\x97r\\x92N7n\\xc5\\x18\\xac\\xdd\\xe1o\\xba\\xa5\\x9e\\x98\\xe8\\x96n\\xd6z\\xa4m\\x0c\\xa9\\xfcU#\\xfe\\xf8\\xf9\\x91\\xc8\\x91\\xe3\\xe5\\xf9zT\\x0e\\xff\\x00\\xdaW-\\x1b\\xdcy\\xceSo\\x98\\xf5O\\x95\\t\\xbb\\x15/\\xe1\\x86d\\xff\\x00a\\x7f\\x8b\\xa5f^\\x04\\x87\\xcb\\x92\\xde\\xe1\\xdb?r\\xb5w\\xcc\\x88\\xd1\\xc9\\xfc?\\xc3Q>\\x9a\\xe9\\x12\\xc9pWc}\\xda\\xa4\\xda\\xeb\\xa1/\\x99\\xf43\\x92i\\x12\\xd9\\xa3\\x924`\\xbfy\\xa8\\x8a\\xd9&u\\xfb<\\x9bB\\xff\\x00\\x17J\\xb6\\xe9\\nn\\xb7\\xb7\\xb7\\xfb\\xdf\\xdf\\xa6#\\xcd\\xb1\\x92\\xe3j\\xaf\\xf0\\xad)(\\xfd\\x92\\xe1)s\\'}\\x88&\\xf2~[\\x7f\\xbb\\xfd\\xda\\x85-\\x92\\xca\\xe5d\\x8f\\xe6S\\xf7\\x9a\\xa7\\xd8\\x892\\xc7\\xf7\\x8f\\xf7\\xaaK\\xad*\\xe6\\xcfm\\xc5\\xc4\\x912\\xfd\\xef-$\\xcdG2\\x86\\xc6\\xae^\\xd6M\\xdbb\\xa5\\xc8M\\x9ee\\xc7\\xdf\\xfe\\xedg:y\\xd36#]\\xadZ\\x93[<\\xd7>d\\x7f(o\\xe1\\xaa\\x93\"|\\xd1\\xfd\\xd7\\xdf\\xf3SJ\\xe6oB\\xb2[E\\x0c\\xde_\\xde\\xa7\\xa4\\xdb\\x1dS\\xcb\\xf9>\\xee\\xe7\\xa4{\\x94O/\\xcb\\xb7\\xdd\\xfd\\xea\\x8em\\xf3\\x15>^\\xd4\\r\\xb9\\x9a\\xaa+\\x9br_$cu\\xb9\\xf6}\\xb7\\x9f7\\xef$\\xb8}\\x8d\\xfc/\\x1f5V\\xe6g\\xb0\\xb9X\\xe5\\x8d\\x18\\x9f\\x9a6\\xeaR\\xad[\\\\\\xcds\\xba\\xe3\\xcb\\xf2\\xf7}\\xda\\x83\\xeco\\xf3Iy\\x1f\\xca\\x1b\\xe5j\\xc2\\x17\\xe5\\xb159\\x17\\xc22m\\xe94rI\\xb1U\\x93w\\xbd?\\xec\\x9e|2yw\\x08\\xaa\\xbf+o\\xa6\\\\\\xcc\\xef\\xfb\\xcf7j\\xb7\\xdd_\\xf6i\\xd0\\xa6\\xfd\\xd1\\xc6w\\x7fu\\xaa[o\\xde*\\x16{\\xa6P\\x86\\xd9<\\xe6\\xb3\\xbc\\x8fs\\xab\\xfc\\xac\\xbd\\x1e\\xa4\\xfb\\x02B\\x8b$\\x91\\xa7\\xde\\xf9i.|\\xe8f\\xfd\\xdc\\x7f\\xbdo\\xba\\xcdQ:\\\\\\xfe\\xeeK\\x8f\\x99S\\xef-V\\xabf)E]\\xbbl]\\x84\\xc3\\xbf\\xfdbl\\xdb\\xb7kU)\\xa13\\\\\\xaf\\x99\\xfc\\r\\xf2\\xd4\\xb3\\x1f&\\xda;\\x89$\\xda\\xa6\\xa2\\x9e\\xc1\\xf6}\\xa2\\xe3\\xfb\\xff\\x00+T\\xb8_`U\\x17bxF\\xcd\\xde`\\xf9\\x9f\\xe5\\xa8\\xd1\\x1e\\x14\\xf2\\xee#u?{uK\\x1f\\xd8\\xe6\\xb3\\xf2\\xe3\\xde\\xce\\xadQ\\\\\\xbc\\xd3L\\xd1\\xbc\\x8f\\x85\\xf9Y\\xba\\xd4\\xc6\\rz\\x96\\xe5\\x18\\xec2\\xe6\\xdb\\xed\\x92,\\x9ec\\xae>\\xf2\\xff\\x00~\\xacCal\\xc9\\xfe\\xafk\\xab\\xfc\\xaa\\xf4\\x96im\\x0c\\xdfg\\xb8\\xdd\\xb3o\\xca\\xdd\\xe9/\\xefv#Go\\xf2\\xaa\\xff\\x00\\x12\\xd5\\xb58\\xb4\\x87\\x19S\\xe5\\xb9\\x0e\\xc7\\x85<\\xc96|\\xbf\\xc3U\\xa1x]\\xe4\\x8eK}\\xac?\\x8a\\xac\\xd9\\x9c?\\x99&\\xf6G\\xf9\\xa8\\xb9H_\\xfd\"?\\x97o\\xde\\xa1\\xa6\\xfa\\x90\\xaf\\x1fy\\x15\\xfc\\x9f\\xb1\\xa7\\x99\\xf7\\x98\\xfet\\xe7\\xf2o\\x11n.$\\xe47\\xdd\\xa6\\\\\\xcdl\\xe8\\xb2y\\x9b\\x9f\\xef.\\xde\\x95\\x14\\xd7\\x9b\\xd1\\xa4\\x8f\\xfdo\\xfc\\xf3\\xa8J\\xf7\\xbe\\x81$?\\xec\\xc94\\x8b%\\xbf\\xde\\xfe%\\xa6$\\xe9\\x1f\\x99\\x1c\\x96\\xfb\\xaa\\xc4\\xd3\\xc2\\x90\\xc7\\x1f\\x97\\xb5\\xe97\\xa2?\\x99\\xf7\\x8f\\xf1n\\xab\\x8d\\x9c\\xac\\x16\\xb3\\xbb\\x18\\x9b&\\xfd\\xe4v\\xdf=Im\\xe4\\xfd\\xa7\\xfd#\\xe5\\t\\xf7YzR\\xc1\\x0b\\xff\\x00\\xac\\x8eDb\\xdf\\xe7mG7\\xc8\\x9f\\xbd\\x8f\\x9f\\xee\\xa5k\\xec\\xfc\\xcc\\xe5+n\\x8b\\xcfx\\x85\\x1a\\xde\\xce=\\xc2T\\xfb\\xb5H\\xcc\\x9f-\\x9d\\xc4\\x7f7\\xfc\\xb4d\\xa9\\xf6y\\xd0\\xad\\xe4\\x7f(O\\xbdP}\\x81\\xee_\\xcc\\x96M\\xdb\\xbe\\xef\\xadE\\x1am\\x03\\x93q\\xba#xl\\xd1\\xf9\\xf9C\\xfd\\xd5z,\\xe1\\x85\\xdd\\xa3\\x8e.?\\x86\\x8b\\x9d5\\xf6G\\x1d\\xe4o\\xf2\\xbf\\xcbO\\x9a\\x17\\x85\\xd68\\xfeQ\\xfd\\xda\\xa4\\xec\\xadprm\\xa5m\\x85Kg\\xde\\xd1\\xdc\\\\r\\xbfy\\xa9\\x97\\x89\\x0b\\xed\\xff\\x00H|\\xa7\\xf0\\xd4\\xbeL\\xd3?\\x99o&\\xec\\xfeu\"[C\\xfb\\xcf\\xb6}\\xfd\\x9f-.]ni\\x15}z\\x11\\xa4.\\xef\\xbf\\xcc\\xf9\\x15>\\xefj&\\xb6\\xfb\\xb2y{\\x97\\xf8V\\xa5H]\\xd3\\xfd\\x1eO\\x97\\xfb\\xb5%\\x86\\x83\\xaa\\xeb\\x17\\xf0\\xdb\\xe9\\xf1\\xb3J\\xdf*\\xc6\\x9c\\xd1\\xcc\\xbe\\x1e\\xbd\\xc3\\x96nI%\\xb9E\\xe0\\xb6HZ;x\\xf6\\x91\\xfc5\\x1aY\\xbc\\xc9\\xe5\\xf9\\x7f\\xee\\xb5}+\\xfb?\\x7f\\xc17\\xfe?|f\\xb9\\x87P\\xd44\\x7f\\xecM=\\xdf\\xe5\\xba\\xbcO\\x9fo\\xf7\\xb6\\xd7\\xd4~\\x15\\xfd\\x81\\xbfc\\xdf\\xd9\\xe2\\xc3\\xfbO\\xe3G\\x8d-\\xf5+\\xc8Ws,\\xd3\\xe3\\xe6\\xff\\x00qMC\\xafF\\x96\\xc7\\xaf\\x86\\xc8\\xf1\\x95\\xed9\\xfb\\xab\\xcf\\xfc\\x8f\\xcf\\x1f\\x01\\xfc\\x19\\xf8\\x85\\xf1\"\\xe7\\xfb?\\xc1~\\x0b\\xbf\\xd4%o\\x95d\\x82\\x02S\\xf3\\xe8+\\xe8\\xaf\\x86?\\xf0H\\xef\\x8d>*\\x82=C\\xc7\\x9a\\x8d\\xae\\x87n\\xcb\\xb9\\x96W\\x06O\\xf0\\xfdk\\xdb\\xfcy\\xff\\x00\\x05\\x1c\\xf8\\t\\xf0gMo\\r\\xfc\\x07\\xf0=\\xbc\\x93[\\xfc\\xabp\\xd1\\x80+\\xe6\\x0f\\x8c\\xdf\\xf0Q\\x0f\\x8f_\\x14&h\\xa7\\xf1\\\\\\xb6\\x10\\xbf\\xca\\xb6\\xf6\\xbcVt\\xea\\xd6\\x9f\\xc2\\xbe\\xf3\\xb6X\\\\\\x97\\x03\\xfci{F}%\\xe1\\xef\\xd8K\\xf6\\x1b\\xf8\\tg\\x1e\\xa7\\xf1c\\xe2\\x1c\\x1a\\x95\\xdc)\\xbah\\xe5\\xbb\\x07\\xff\\x00\\x1d\\\\\\no\\x89?oo\\xd8\\xd3\\xe0\\x82\\x7fa\\xfc \\xf8We3\\xc3\\xf2\\xac\\x89j\\x00\\xff\\x00{\\xa5|\\x01\\xe2\\x7f\\x13\\xf8\\x9f_\\x9do5Mb\\xea\\xe1\\xcf\\xdei\\\\\\xe6\\xb0\\xaf\\xec\\xe7t\\x8eK\\xc9\\x1dY\\xea\\x95\\t\\xd5w\\xab\\'~\\xc6S\\xcfcB6\\xc2\\xd2\\x8cW{\\x1f_|K\\xff\\x00\\x82\\xb7\\xfcc\\xd7\\xa1m?\\xc0\\xfa}\\xae\\x93n\\xdb\\xbc\\xbf*>\\x7f\\xf1\\xdcW\\xcf\\xbf\\x10\\xbfj\\xef\\x8f\\x1e?\\x9aO\\xf8I>\"\\xdf\\xb2?\\xddX\\xa7*?C\\\\D\\xd6h\\x96\\xdf\\xf1\\xf1\\xb7j|\\xadTa\\xb5\\x87\\xfd\\\\\\x8f\\xf3/\\xf1v\\xab\\x8d\\nt\\xfc\\xcf6\\xaeo\\x8f\\xc4\\xfcSd\\xf3\\xdej\\xb7\\xef$\\x9a\\x85\\xcd\\xc5\\xc3\\xbf\\xf1<\\x84\\xd5\\x1d\\xf3y>\\\\\\x9d\\xea\\xe5\\xfa\\\\\\xfd\\x99c\\xb7\\xb8\\xdb\\xff\\x00M\\x16\\xb3f\\x9bd1\\xf9\\x9fx\\x7f\\x15Tb\\x94Zg\\x05YN\\xa4\\xf9\\xaftS\\x9a\\xd9!y#}\\xed\\xbb\\xee\\xd6\\x9e\\x82~\\xcd\\xb68\\xc6\\xd3\\xfd\\xee\\xb5I\\xdd\\x1d\\xd7\\xcb\\x93\\xe6\\xad\\x9d\\x05<\\xb8ZI#\\xfb\\xb5P\\x8b\\x91\\x13v:\\x08l-\\xa6\\xb3k\\xcb\\x89\\x19\\xa4\\x8b\\xe6]\\xbd\\x1f\\xf3\\xac\\x89f\\xb6\\xb9\\xff\\x00Y\\x1e\\xdd\\xd5z\\x1b\\x94w\\xfb?\\xde\\x8d\\xd3\\xee\\xbf5\\x9f5\\x84(\\xf2I\\x1f\\xee\\xd0?\\xca\\xaa\\xf9\\xff\\x00\\xd0\\xab\\xb2\\xdf\\xccr\\xa8\\xf2\\xca\\xcb\\xd4\\xcew\\xf2w~\\xef\\xe4\\xfe\\xf5K\\xf7a\\xf3c\\x916\\xb7\\xdd\\xa8\\xeel\\xe6vh\\xe3\\x8f\\xe5\\x1f6\\xe7\\xa8\\xfc\\x99\"\\xfd\\xdc\\x92y\\x9f\\xc5YM\\xa4\\xacZnR\\xba\\x12\\xe7z\\xa2\\xf9\\x92n\\rQ#\\xedO\\xf4x\\xfeS\\xf7\\xaa\\xc4\\xd3:[yw\\x11&\\xd6\\xfb\\xadU\\xe6\\xde!Y-\\xfe_\\xefR\\x8aNz\\x16\\xdd\\xc5w{o\\xdeG&\\xec\\xff\\x00\\x12T\\xf3L\\xe9\\xb6\\xf1\\x1f\\x96_\\x9bmV{gHZ\\xe2O\\x99\\xaa\\x08]\\x11\\xff\\x00y&\\xdd\\xd5\\x12\\xd2V*-\\xf2\\xdd\\xa3sD\\xf1\\xe7\\x8bt7Y4\\xbf\\x10^\\xc2\\xca\\xdb\\x95\\x92r?\\xadz\\x9f\\x80?n\\xdf\\xda\\x13\\xc0\\x13/\\xf6_\\x8d%\\x91#u_&\\xe1\\xc9\\xdf\\xfa\\xd7\\x89G2L\\xfe\\\\\\x92mU\\x7f\\x95\\x8dM7\\xd9\\xb7\\xf9\\x91\\xc9\\xb4\\xd6S\\x8d.k\\xb5s\\xae\\x96/\\x15K\\xf8sk\\xe6}\\xcf\\xe0?\\xf8*\\xe4:\\xac?\\xd9\\xff\\x00\\x18>\\x1f\\xda\\xdeB\\xff\\x00,\\x97\\x0b\\x82\\x7f\\xde\\xf5\\xae\\xa9\\xf5\\xef\\xf8\\'\\xd7\\xed\\x1bf\\xd1\\xdcY\\xdb\\xe9w\\xd3}\\xdf\\xdd\\x88\\xcf\\xcd\\xfe\\xd2\\xe2\\xbf<\\xac\\xdd\\xfc\\x96\\x8eI>\\xef\\xdd\\xdd\\xcd55[\\xdbgo\\xb3\\xdcmo\\xf68\\xaeY`\\xa2\\xea\\xde:\\x1e\\xdd\\x1e\"\\xc6B\\x92\\x8dT\\xa6\\xbc\\xcf\\xb7\\xbcg\\xff\\x00\\x04\\xac\\xd1\\xfcI\\x1c\\x9a\\xe7\\xc1\\xbf\\x88\\x96\\xf7Q\\x14\\xdd\\x1d\\xac\\xb8?\\xf8\\xf0\\xaf\\x9c\\xfe$~\\xc6\\x7f\\x1e>\\x14jRG\\xad\\xf8.\\xeak}\\xbf5\\xc5\\xbce\\x97\\xf9U\\x0f\\x87\\xbf\\xb4\\xe7\\xc5\\xaf\\x87^L\\x9e\\x1f\\xf1%\\xd4\"/\\xe1i\\xdc\\x8a\\xfag\\xe1/\\xfc\\x15CQ\\xbfHt\\x7f\\x8c\\x9e\\x1f\\xb7\\xbc\\xb5\\x08\\xaa\\xd7K&O\\xfe<)sb\\xe9\\xde\\xda\\xd8\\xe9S\\xc8s\\x08\\xa5(\\xfb9>\\xdb}\\xc7\\xc3W\\x9a=\\xfd\\x84\\xd2[\\xcbn\\xeb\\xf3mm\\xf1\\xf3T~\\xc7\\xf3\\xec\\x8f\\xe6\\x91\\x7f\\x8a\\xbfL\\xb5\\xbf\\x85\\xdf\\xb1\\xcf\\xed{f\\xd7\\x9e\\x14\\xd4-t\\x9dJh\\xb7G\\xe5lC\\xbb\\xfa\\xd7\\xcc\\xdf\\x1e\\xff\\x00\\xe0\\x9a\\xdf\\x19\\xbe\\x18\\x0b\\x8dO\\xc3v\\x7f\\xdbVH\\xec\\xd1\\xcdj\\x9f6\\xdf\\xa7\\x7f\\xc2\\x88cb\\xf4\\xa9\\xa39\\xf1\\\\?\\x88\\x857<3U\"\\xfe\\xf3\\xe6o\\xec\\xd7D\\xe3\\xe6o\\xe2Z\\x82\\xd9\\x1f\\xed-\\x18\\xe9\\xfcM\\xe5\\xd6\\xb6\\xb1\\xa0\\xeb\\x1e\\x1e\\xba\\x93J\\xd44\\xf9m\\xe7O\\xbc\\xb2\\xc6A\\xff\\x00\\xc7\\xaa\\x9c?lH\\xfe\\xcf\\xf6~Y\\xfe\\xf3\\xd7g74o\\x17s\\xc0\\xe4p\\x93\\x8dEf\\x88\\xa7\\xb6\\xb6\\x9a\\x19>\\xd1\\x1a.\\xdf\\xbb\\xd8\\xd5]\\x89\\x00\\xfd\\xde\\xec\\x7fz\\xadj\\xa6m\\xff\\x00\\xbc\\x8d\\x19\\xbf\\x87e6\\x1d\\x89\\'\\xef>m\\xff\\x00\\xc3N\\x1a\\xeeCW+\\xbf\\x92\\x8d\\xe6Go\\xf2\\xb3\\xd1r\\x96\\xcf\\x1by\\x91\\xba\\xba\\xfd\\xd6\\xedZ/gl\\xf1I$\\x97\\x1d>h\\xd5y\\xaa\\xf70\\xa3\\xda\\xb4\\x96\\xf7\\x0c\\xca\\xdf\\xec\\nwc\\xf6o\\xb9\\x91<7;\\xe3\\x8e97\\x7f\\xb9U_\\xce\\xb6\\x9b\\xca\\x92>\\x7f\\x86\\xaf\\xa2M\\x0c\\xdf\\xde\\xdb\\xf3m\\xa6\\\\\\xa3\\xbb\\xad\\xc7\\x96\\x8b\\xba\\xa9M7k\\x07\"p\\xd0j\\'\\x9c\\x8b$\\x92}\\xcf\\xe1\\xaa\\xb7\\xfeO\\xdaZ9$\\xf9~\\xf6\\xea\\x9a\\x19\\xa6\\xf3\\x9b\\xec\\xef\\xbb\\xf8Z\\xa3\\xbcHM\\xcf\\x97${\\x8f\\xf0\\xad+r\\x93\\xca\\xf6\\xb6\\xa5+k\\xff\\x00\\xf9\\xe7NG{\\x97\\xfb8\\x8fv>\\xf3T\\xd6\\xf6\\xcf\\x0b\\xfe\\xee?\\x9c\\xff\\x00\\x0b\\xf4\\xa0B\\xe3\\xcc\\xf2\\xf7G\\xba\\x9bW\\x1c9\\xd4n\\xcc\\xdb\\x98R\\xce\\xe5\\xa3\\x8eM\\xc8\\xff\\x00yi\\x90\\xec\\xb6v\\xbc\\xb7\\x93\\x93\\xf7\\x9a\\xad\\xbd\\xb0d\\xf3$\\xf9vUM\\x9b\\x1f\\xcc\\x93\\xe5\\xc7\\xf0\\xd2\\x88\\xe3t\\x9b\\xeaEy\\xe4\\xcd\\x13I\\xe5\\xed\\xf9\\xfej\\x8ei\\x9d\\xca\\xc67\\xb2\\x04\\xfb\\xb5fgy\\x93\\xf7v\\xff\\x00\\xba\\xfe-\\xd5]&\\x99\\xddc\\xff\\x00\\x96G\\xee\\xec\\xaawA\\xcf\\xfd\\xd2\\xa4\\xd3y/\\xe6G\\xbd\\x98\\xff\\x00\\rCs\\xf3\\xa7\\x99\\'\\xcc\\xdb\\xbej\\xd0\\x9e\\x08~h\\xe4\\xde\\xa4?\\xcbU\\xc4(\\xe9\\xfb\\xcf\\xbc[\\xee\\xd4\\xf3{\\xd6\\xb1*\\x9bw\\xbe\\xb7*\\xbay\\xd0\\xad\\xc4q\\xede\\xfb\\xd5_e\\xf5\\xce\\xe2\\xf2}\\xdf\\x96\\xae&\\xebg\\xfb<\\x91\\xee;\\xea\\x1b\\x9f/\\xed>g\\x99\\xbbo\\xf0\\xad\\x0e\\xf4\\xf4\\xb6\\x9d\\xcdS\\x82\\xdf\\xf3 {i\\x87\\xfaG\\xda6\\xb5TgI\\xae\\x7fy\\x1bn\\xfe\\xedj\\xec\\xf2\\x7fy\\'\\xcc\\x1b\\xee\\xd5i\\xa0C7\\x99$[\\x93\\x7f\\xca\\xd5-\\xde\\xf6\\xeaU\\xbd\\xe4\\x9a\\xd8\\xa4\\xe9\\xb3w\\x99\"6j\\xbd\\xca\\x04\\xdb\\x1d\\xbe\\xe6Z\\x9eg\\xb2\\xfbb\\xfd\\x9e>?\\x8a\\xa4t\\x85\\x93\\xcc\\xff\\x00V\\xad\\xf7[\\xcb\\xa2*\\xde\\xf0\\xdaNV\\xb9\\xf5\\xd3\\xdd\\xdc\\xdbG\\xf6\\x7f\\xb3\\xee\\xf9\\xfe\\xf7j\\xb1\\xbe\\xe6\\xf1\\x16?\\xf5d}\\xea\\xfa\\xb2\\x1f\\xf8$g\\xed7s\\xb9\\xe3\\x83Kl7;\\xef\\xb1\\xff\\x00\\xb2\\xd4\\x96\\x9f\\xf0H\\x0f\\xdaU\\xaf$\\x8e\\xe2\\xe3F\\x8e6O\\x9aF\\xbe\\xfb\\x9f\\xa5D\\xa7F]N\\x9f\\xec\\xac\\x7f5\\xb94>G\\xbf\\xd3\\xdf\\xcei$\\x91[\\x1f\\xc5PZ\\xcc\\xfb\\xda8\\xcf\\xc9\\xf7w%}\\xbf\\xa2\\x7f\\xc1\\x1a\\xbe*M\\xfb\\xcdS\\xe2&\\x89\\tV\\xf9\\xbfxO\\xf4\\xad\\xf8\\xff\\x00\\xe0\\x8bz\\xc2i\\xad\\xff\\x00\\x17r\\xc1\\xa5\\x93\\xefF\\x91\\x8f\\x92\\xb2\\x95zP7Y>5[E\\xf7\\xa3\\xe0\\xbb\\x9d\\x970\\xf9r\\xc8\\x9b\\xd7\\xf8\\x96\\xa2\\xfbL0\\xa2\\x99-\\xf73}\\xe5\\xaf\\xb8u\\xaf\\xf8\"\\xa7\\xc4\\xdb\\x14Y4o\\x1ei\\xd7Y\\xfb\\xad\\xe5\\xb0\\xeb\\xf9\\xd7\\x9f\\xf8\\x93\\xfe\\tM\\xfbL\\xf8m$\\x92\\xcf\\xc3\\xf6\\xb7\\xdb~V\\xf2\\xa7\\xc1\\xff\\x00yr\\x05m\\x1a\\x94c\\x1bI\\xdd\\x19U\\xcbs\\x1ek\\xa8\\xeb\\xe5\\xaf\\xe4|\\xb9x\\x89\\xb1\\xa3\\x8a7\\x91>\\xf2\\xafzI\\xac\\xde\\xf2\\x15\\x8eH\\xdf\\xca\\x0f\\xf3m\\xfe\\n\\xf6\\x1dW\\xf6\\x1b\\xfd\\xa44K\\x96\\xb7\\xd6>\\x15\\xea\\xf1\\x91\\xf3+D\\x82A\\xf8\\xe35\\xcck\\xdf\\x03>,h[\\xa3\\xd4|\\x05\\xaaG\\xb3\\xfdg\\xfa#\\x81\\xfc\\xa9\\xa9\\xc1\\xbbGS\\x9aX,dciE\\xaf\\xd4\\xe1m\\x9d#-o\\xf6v]\\xbf\\xc5\\xe5\\xd3\\xde\\xd9\\xf7\\xaf\\xee\\xbeq[o\\xf0\\xf7\\xc6\\xd6\\xc9\\xe6I\\xe1}K\\x1f\\xc4\\xbfe|\\xf3\\xf8U[\\xaf\\n\\xf8\\xb6\\xdah\\xcc\\x9a5\\xd2\\xbb/\\xddx\\x0e\\x7f\\x95.Yk\\xa6\\xe2t+FV\\x94Y\\x96\\x96~u\\xcc\\x92yl\\xac\\x8b\\xbbu6\\xf2g\\x99\\xdb\\xcc\\t&v\\xee\\xfd\\xddk\\xa7\\x86<U\\xbf\\xcb\\x93C\\xba\\xf3\\x0e\\xed\\xcb\\xf6R?\\xa5F\\x9e\\x0f\\xd66}\\xa2\\xe3G\\xb8\\x8c\\xaf\\xde\\xdc\\x86\\xa7\\xdfs\\xd7\\xfa\\xf9\\r\\xe1\\xe7\\x18\\xd9\\'\\xf7\\x19p\\xdb~\\xe5\\xa3\\xb8\\xf9\\x83|\\xd5\\x16\\xa5o\\xbd#\\x93\\xfeYn\\xdb\\xb6\\xb5\\x93\\xc3\\xde!{\\xf5\\x93O\\xd1\\xee\\xa6\\xc7\\xf7 b*\\xeb\\xfc4\\xf8\\x91\\xa9\"\\xc9m\\xe0\\xbdQ\\xa2\\xfb\\xdf%\\x8b\\x91\\xfc\\xabE%\\x196\\xc8\\x8e\\x1eU!\\xa4Y\\xcclDO/\\xec\\xff\\x00&\\xdf\\xbbLK8fe\\x92\\xde=\\xbbk\\xd1\\xf4\\xdf\\xd9\\xb3\\xe3\\xae\\xa5\\xe5\\xff\\x00e\\xfc3\\xd5\\xe6Y\\xbe\\xeb}\\x85\\xff\\x00\\xc2\\xba\\x7f\\x0f~\\xc3\\x1f\\xb4\\xce\\xaa\\x9f\\xbb\\xf8W\\xa9C\\xfd\\xd6\\x95\\x15k\\x9a\\xa5ZI^\\xe7e<\\xbf\\x17)E(?\\xb9\\x9e+s\\r\\xb4\\xdbd\\x92=\\xac>]\\xd4\\xdf\\xec\\xd8dF\\x8e9?\\xef\\xba\\xfa\\x02o\\xf8\\'/\\xedP\\xe8\\xdfg\\xf8Wp\\xdb~\\xf7\\xef\\xd3\\xfcEGs\\xff\\x00\\x04\\xf4\\xfd\\xab\\xb4\\xd8\\x7f\\xd2>\\x11\\xdd2m\\xff\\x00\\x96S\\xa1?\\xce\\xb5\\xa7R\\x0f\\xa95r\\xdc\\xc3\\xda\\x7f\\x0eW\\xf4g\\x83}\\x81\\xf6,\\x7f7\\xfb[*y\\xac!\\xb6\\x7f3\\xcc\\xdd\\xbb\\xe5\\xafP\\xd7\\xbfeO\\xda\\x07\\xc3\\xd0/\\xdb>\\x15\\xea\\xea\\xc9\\xf2\\xee[]\\xff\\x00\\xfa\\x0ek\\x99\\xbf\\xf8C\\xf1:\\xcc\\xf9\\x97\\x9e\\x03\\xd5#A\\xf33K\\xa6\\xb8\\xfe\\x95\\xa2\\xbb\\x8d\\xaer\\xcb\\tV\\x12\\x93p\\x7fq\\xc8\\xcd\\r\\xccI\\x9bo\\x9bw\\xfa\\xc5\\xf2\\xeako\\'cy\\x91\\xed}\\x9f\\xdc\\xad\\x8b\\xcf\\x03x\\xb7\\xe5\\xbc\\xff\\x00\\x84^\\xea=\\xa9\\xf3~\\xe1\\xc7\\xf4\\xa8\\xac\\xfc\\x1f\\xe2{\\xcf2H\\xb4{\\xa6\\xd9\\xf7\\x99`&\\xa2J\\xd0\\xd4\\x9at*\\xb9^(\\xc5\\x9b\\xce\\xd9\\xe6]\\xff\\x00\\xc0W\\xadWM\\xef\\xfb\\xc9#\\xff\\x00v\\xba\\x84\\xf8u\\xe3\\t\\xd1\\xa4\\xff\\x00\\x84n\\xf2o\\xfbt?\\xe1N\\x87\\xe1_\\x8f&v\\x92\\xdf\\xc1\\xfa\\xa3 \\xfe\\xed\\x8b\\xff\\x00\\x85\\x11\\xe4\\xe9\\xa1K\\rY\\xca\\xfc\\xaf\\xee9\\xbbkgI#\\x93\\xee\\xff\\x00\\r9\\x11\\xee]\\xa3\\x9c\\xf9\\x87v\\xdd\\xd5\\xdeh\\x9f\\x05\\xbe*\\xf8\\xb6\\xfe\\xdfK\\xd0\\xfe\\x1f\\xeaSJ\\xee\\xa9\\x1f\\xfa#\\x81\\xff\\x00\\x02?\\xc3_o\\xfe\\xca?\\xf0K=\\x0f\\xc2\\xf6\\x89\\xf1\\x0f\\xe3\\x85\\xbcW\\x97\\x01VU\\xd3\\xf9)\\x0f\\xfb,;\\x9a\\x99U\\xa5\\x15}\\xcfC\\t\\x94b\\xf1sM\\xe8\\x97W\\xfdj|\\x9b\\xfb<~\\xc3\\x7f\\x15>?_\\xdb\\xdch\\xfa\\\\\\xb6:9o\\xdfj\\x17P\\x10\\xbb}\\xbdk\\xedO\\n\\xfc\\x07\\xfd\\x90\\xbfb\\r\\x01|C\\xf1\\x0e\\xe6\\xcfP\\xd6\\x117n\\xba\\xc3\\xc9\\xbb\\xfd\\x95\\xfe\\x1a\\xd1\\xfd\\xa0\\x7fj/\\x1bx\\'G\\x93\\xe1\\xbf\\xec\\xd7\\xf0~\\xfd\\x84Ql[\\xe8\\xadv\"\\x7f\\xbb\\xbb\\x15\\xf1\\x17\\xc4\\x0f\\x84_\\xb6\\x1f\\xc5\\xdf\\x10\\xcd\\xacx\\x93\\xc0\\xfa\\xf5\\xf4\\x85\\xf7n\\x96?\\x97\\xf0\\xc9\\xae\\x07*\\xb5\\xa4\\xfa-\\x0f\\xa4\\x8e\\x1f\\x0f\\x96G\\x96\\x8d\\')\\xf7\\xb1\\xec\\x1f\\xb4?\\xfc\\x15c\\xc5\\xba\\x91\\x93\\xc3\\xff\\x00\\x08\\xf4\\xf4\\xd2\\xec7\\xb2\\xc72\\xf0\\xfbk\\xe4\\xbf\\x13\\xfcT\\xf1\\xe7\\x8f5V\\xd4<a\\xe2\\x8b\\xab\\xa7w\\xdd\\xbaY\\xc9\\x15\\xdf\\'\\xecU\\xfbO\\xea\\xbf\\xbb\\x8f\\xe1\\x1e\\xa3\\x8d\\xbfy\\xd0\\x0f\\xebH\\xff\\x00\\xb1\\x0f\\xed\\x1a\\xfbc\\x8f\\xe1~\\xa4\\xae\\xbfz5\\x8c\\x7f\\x8du\\xd2T!\\x16\\x99\\xe3c?\\xb61R\\\\\\xd1\\x95\\x9fK\\x1e;usr\\x937\\x99&\\xe5w\\xf9\\x99\\xf9\\xa7Ml\\x88\\x8b\\'\\x97\\xbb\\xf8\\x96\\xbd2\\xf3\\xf6?\\xfd\\xa4,\\xed\\x9aK\\x8f\\x84z\\xa7\\x0f\\xf7R\\x0c\\x9f\\xfcv\\xaa\\xdc\\xfe\\xcb_\\x1f\\xac<\\xb9$\\xf8W\\xac\\xedu\\xfb\\xabhMm\\xcfMOFys\\xcb\\xf1\\xda\\xf3S\\x7fq\\xc0C\\x7f\\xe7n\\x8eKtm\\xbf\\xdf\\xaa\\x93<\\xd3I\\xe6I\\xf2\\xadvw?\\x04>1\\xd9\\xcd\\'\\xdb>\\x15\\xeb\\x91\\xed\\x7f\\xbc\\xdak\\xe3\\xf9U+\\xff\\x00\\x85\\x1f\\x13-\\xbc\\xbf\\xb4x/T\\x8d[\\xf8[M\\x93\\xfc+T\\x94m~\\xa73\\xc1\\xe24\\xbc%\\xf74rR\\xab\\xdc\\xa3[\\xc9\\xf3\\x7fv\\xa3\\xd9\\xf6o.\\xce[v\\xda\\xff\\x00y\\xab\\xaf\\x7f\\x84^<t\\xfbG\\xfc#z\\x96G\\xddT\\xb1\\x7f\\xf0\\xaa\\xb6\\xdf\\x0c~!y\\xcc#\\xf0>\\xad#\\x0f\\xe1\\xfe\\xce\\x90\\xff\\x00JNWN\\xce\\xed\\x0e\\x18<G\\xf2;z\\x1c\\xa5\\xe5\\xfb\\xc2\\x9eDq\\xedQ\\xf7\\xaa\\xa4\\xdet\\xd0\\xfe\\xf2\\xdd\\x18\\x8f\\xe1\\xafAO\\xd9\\xef\\xe3f\\xb8\\xff\\x00l\\xd3\\xfe\\x15\\xea\\xf2/\\xfdx\\xb8\\xfe`Wq\\xe0o\\xf8\\'\\xd7\\xed-\\xe34\\x86\\xe2O\\x87wVj\\xff\\x00\\xf2\\xd2| O\\xf8\\x0f_\\xd2\\xb9%V\\x8d9^\\xe7U\\x1c\\xb7\\x1d^\\\\\\xb1\\xa6\\xed\\xe8x\\x1d\\x9a~\\xfb\\xfd\"\\xdb\\x8a\\xd9\\xd2\\xad\\x91\\xe6h\\xe3\\x8d\\xd9\\x1f\\xf8R\\xbe\\xd2\\xf8u\\xff\\x00\\x04s\\xf1\\x0c\\xdbuO\\x89\\x1e<K\\x18\\xcf-\\x0cQ\\x81\\xf2\\xfdO\\xf8W\\xa9h\\xbf\\xf0M\\x7f\\xd9;LE\\xd3\\xf5\\x0f\\x1fF\\xd3*\\xfc\\xcc\\xf7|\\xfe\\x98\\xacV:\\x8f>\\x87\\xab\\x1e\\x1a\\xcc]=l\\xbdY\\xf9\\xdf\\x7fg\\x0e\\x9fg\\xf6\\x8b?\\x97g\\xddf\\x8f\\x06\\xb3\\x83\\xef\\x86I<\\xcf\\x9b\\xf3\\x15\\xfa\\x19\\xe3?\\xf8$_\\x82|V\\x8dq\\xf0\\xef\\xe2f\\xd4\\x7f\\x99U\\\\I\\xff\\x00\\x8e\\x9a\\xf2\\x8f\\x10\\xff\\x00\\xc1\">9i\\xd7\\x8b\\x1e\\x95\\xe2\\x1b\\x0b\\x8be\\xfb\\xab.c/\\xfa\\x1a\\xf4>\\xb7Bq\\xb5\\xcf=\\xf0\\xe6e\\t]B\\xfe\\x8c\\xf8\\xfd\\xec\\xdd-\\x9a\\xe2;\\x9d\\xca~Y\\x15\\xea\\xac6\\xdb\\xe3i>\\xef\\xfb\\xf5\\xf5u\\xcf\\xfc\\x12\\xa7\\xf6\\x90Do\\xb1\\xdb\\xd8I\\xb9\\xfee\\xf3\\xce?\\x975\\x91\\xa9\\x7f\\xc1.?ik=\\xa3\\xfb\\x0e\\x0e~]\\xdefG\\xf2\\xac\\xddz\\x1d\\x19\\x1f\\xd8y\\xa4\\x7f\\xe5\\xd3>e{gtc\\xe6s\\xfc+P\\xce\\x97\\x89\\xe5\\xf9\\x7ft\\xfd\\xea\\xfa\\x8a\\x1f\\xf8%\\xaf\\xed?r\\xeb\\xff\\x00\\x12{(\\xc7\\xdd\\xdd\\xe7\\x9f\\xf0\\xabV\\xdf\\xf0J\\x0f\\xda*o\\xdd\\xdcGe\\x1f\\xf7[\\x9f\\xf0\\xa1\\xe2\\xa8Gy!\\xc7#\\xcd\\x1f\\xc3E\\x9f+C\\xbe\\x7f\\xdd\\xc9\\x1e\\xd0>\\xf3Uy\\xb4\\xdb\\xa9\\x9f\\xf7\\x7fw\\xf8Z\\xbe\\xbc\\xb3\\xff\\x00\\x82M|x\\xf2c\\x8e\\xe2\\xe3Mb\\xef\\xfb\\xcd\\xfb\\xc7\\xf45\\xa5m\\xff\\x00\\x04\\x85\\xf8\\xc7\\xf2\\xc7\\xfd\\xb9k\\x1b/\\xde^iK\\x19B\\x13V\\x91\\xa7\\xfa\\xbf\\x9a\\xcf\\xfe]\\xb4|`l&\\xf2V?-W\\xfd\\xaa\\x9e\\xce\\xda\\x07u7\\x12W\\xd9\\xcf\\xff\\x00\\x04\\x91\\xf8\\xbb3\\xb4\\x7f\\xf0\\x90Y\\xed\\xfb\\xaa\\xcf\\x1ei\\xed\\xff\\x00\\x04|\\xf8\\xa9\\xb3\\xcb\\xff\\x00\\x84\\x92\\xd7\\x7f\\xcb\\xb6F\\x83\\x8f\\xe7Y<u\\x16\\xadse\\xc3\\x99\\x93\\xde\\x07\\xc5\\xb70\"/\\x97\\x1c\\x9c\\xee\\xa6M\\n>\\xd4\\x8a-\\xa7\\xf8\\xab\\xedX\\x7f\\xe0\\x8e\\xdf\\x15\\x1d\\xe4\\x92O\\x16Y3\\x7f\\x0f\\xee\\x08\\x1f\\xce\\x89\\xbf\\xe0\\x8f\\x9e?\\x86e\\x8f\\xfe\\x13\\x0b\\x06a\\xf7\\x9bc\\n\\x7f]\\xc3G\\xed\\\\#\\xc3\\xd9\\xabV\\xf6\\x7f\\x97\\xf9\\x9f\\x17F\\x93C\\x17\\xee\\xe4\\xdc\\xbf\\xc4\\xd4\\x90\\xff\\x00\\xa4\\xba\\xdby\\x9b\\x7f\\xda\\xaf\\xb5\\xbf\\xe1\\xd2?\\x10\\xf65\\xb4\\x9e,\\xb2g\\xfe\\x16N\\x9f\\xd6\\xa1\\xb3\\xff\\x00\\x82Ax\\xfd&\\xcf\\xfc\\'\\x96\\xbb\\x99\\xf6\\xabykK\\xeb\\xb8e\\xbb\\x1b\\xe1\\xcc\\xd9\\xfd\\x8f\\xc4\\xf9#@\\xf1&\\xb1\\xe1\\xc9\\xa3\\xbc\\xd0\\xf5\\x8b\\x8bY\\xd1\\xbeV\\x8b\\x8a\\xfaW\\xe0\\'\\xfc\\x14w\\xe2G\\xc3\\xd4]\\x1f\\xc6\\x96\\xe9\\xaeX7\\xcb\"\\xdcr\\xfbkz\\xf3\\xfe\\t\\x11\\xf18]I$~0\\xb5e\\x1f\\xc2\\x90\\x7f\\xf5\\xea\\x14\\xff\\x00\\x82P|NO\\xde[\\xf8\\xa2\\xd7\\xfe\\x07\\x19\\x15\\x95LF\\x12\\xb4n\\xf5;p\\xb9^y\\x82\\x92pV\\xb7\\x99\\xebo\\xa5~\\xc6_\\xb6\\x96\\x88\\xb7\\x9eU\\xae\\x97\\xad\\xce\\x9f/\\xfc\\xb3\\x91\\x1b\\xf9\\xd7\\xcc_\\xb4W\\xfc\\x13\\xd3\\xe2\\xef\\xc2\\x89\\xa6\\xd6<5m\\xfd\\xb5\\xa4#oY-\\xff\\x00\\xd6\"\\xfe\\\\\\xd7\\xa0\\xd9\\xff\\x00\\xc11\\xbfh\\x1f\\n\\xea_\\xda\\x9a\\x1f\\x8d-m\\xe4_\\xf5rE!\\x05+\\xe9\\x9f\\x81^\\x12\\xfd\\xa8\\xbc\\x19g\\x0f\\x83\\xfe,Ia\\xadi\\xac\\xaa\\xbesI\\xf3m\\xae\\x1ex\\xd0\\x97\\xb9?\\x91\\xee\\xc3\\x0bS0\\x8f\\xb3\\xc6P\\xb3\\xfed~Lk\\x16\\xd7)s\\xe4\\\\Y\\xcb\\x1c\\xa9\\xf2\\xc8\\xaf\\xd5*\\xa4\\x16\\xd3y\\xd2\\x1c\\xeeP\\xbf6\\xfcW\\xea\\x8f\\xed?\\xff\\x00\\x04\\xe8\\xf8\\x7f\\xf1^\\xc2O\\x12x^\\xdd4\\xbdT\\xa7\\xfa\\xe8#\\\\?\\xd4\\x7f\\x15|\\x91\\xe2O\\xf8&\\x07\\xc7\\xbb9Z\\xdfO\\xb7\\x82D/\\xf2\\xcd\\xc8\\xfe\\x95\\xdd\\x87\\xc7P\\xa9\\x1eV\\xec\\xcf\\x0b\\x1f\\xc38\\xcc=K\\xd2\\\\\\xd1{w>`\\x85\\xdd&Y#\\x8fh\\x1f{\\xf7y\\xa9^\\xfe\\xcd\\xdf\\xf7q\\xa6\\xef\\xba\\xcb\\xe5\\xd7\\xd1\\x16\\x7f\\xf0M\\x9f\\xda)!h\\xe2\\xd0\\xedw}\\xdd\\xcd9\\x1f\\xfb%W\\x7f\\xf8&\\x87\\xed\\x0ff\\x9b\\xe4\\xd0\\xedw7\\xf7\\'\\'\\xfaWG\\xd60\\xf2\\xb7\\xbc\\xaey\\xb1\\xc9\\xf3E\\x7f\\xdd\\xb3\\xc0\\x12\\xcai&_2\\xde/\\xf7\\x96\\xa8\\xdf\\xe9\\xbb&h\\xe4\\xb8\\xda\\xcb\\xf7\\xbfy_M\\xdb\\x7f\\xc15\\xbfi\\x1b\\x9b8\\xccz\\\\Q\\xff\\x00\\x0e\\xe9g\\x1f\\xfb(\\xa9S\\xfe\\t\\x89\\xfb@\\xbb\\xf9\\xb7\\x1a}\\xaa\\xb9_\\xf9\\xe9\\x91\\xfc\\xab\\x15\\x8c\\xc3\\xaf\\xb6\\x8d\\xdeG\\x98\\xb8\\xdf\\xd9\\xbb\\x9f)\\xc3i\\xfb\\xe9%\\xfbF\\xdc}\\xd5O\\xe3\\xa8nm\\xbfs\\xf6\\x8b}\\xdb\\xf7\\xfc\\xcb_NM\\xff\\x00\\x04\\xcd\\xfd\\xa1!\\xbf\\xfb=\\xe5\\x9d\\xbb3\\xfd\\xd6L\\xe3\\xf9U\\x98\\x7f\\xe0\\x98\\xff\\x00\\x1c\\xaf\\x1f\\xf7\\x91\\xdb\\xc6[\\xe5o\\x90\\xd5}v\\x8b\\xdaFP\\xc8\\xf3?\\xb5I\\x9f.\\xc2\\x9b\\xd3\\xf8\\xb6\\x94\\xf9\\x9a\\xaa^C7\\xcb\\x1crr\\xa9\\xf2\\xd7\\xd5\\xf3\\x7f\\xc1.>5\\xdb?\\xd9\\xed\\xefl\\x94\\x7f\\x0b4dS?\\xe1\\xd4\\xdf\\x1b\\xe6\\xff\\x00H\\xbc\\xd5,\\x14\\x7f\\x0bs\\xfe\\x14\\x9e+\\t\\xcbu$R\\xc8so\\xf9\\xf4\\xcf\\x95\\xa1G\\xb8\\xb3\\xfd\\xd6\\xc6q\\xf7\\x96\\xabCf\\xf7(\\xd7\\x12F\\x8a\\xdb\\xf6\\xedz\\xfa\\xfe\\xdb\\xfe\\tG\\xf1u\\xf4\\xdf2\\xdfT\\xb0\\xdc\\xbf{\\xe7?\\xe1\\\\\\xfe\\xab\\xff\\x00\\x04\\xb8\\xf8\\xf5\\xf6\\x9f*\\xde\\xe2\\xd5\\x90|\\xcd\\xb2O\\xfe\\xb5\\x1f_\\xc2\\xa8\\xd9\\xcfr\\xdeA\\x9b$\\xbft\\xf4>V\\xf9\\xd2f\\xf3$O\\x95\\xfe\\xefj\\x86\\xfe\\xc1&\\xff\\x00W\\xf2\\xaa|\\xcb\\xb6\\xbe\\xab\\x87\\xfe\\tS\\xf1\\xdc:\\xdcI%\\xae\\xd7\\xfb\\xbf\\xbc\\xcf\\xf4\\xa6_\\xff\\x00\\xc1+>9&\\xe8\\xe2\\xb8\\xb5V\\xfcj\\xde;\\n\\xbe\\xd1+ \\xcd]\\xbfv\\xcf\\x92\\xdd\\x12g\\xff\\x00H\\x93\\xe6\\xff\\x00\\x96{i\\x8f\\x0b\\xc3\\xb6I>V\\xfe*\\xfa\\xa6\\xf3\\xfe\\tk\\xf1\\xd7dr[\\xc7k\\xf2\\xfc\\xbf,\\x8d\\xfe\\x15\\n\\x7f\\xc10\\x7fh\\x04\\x99\\xa3\\xd4l\\xec\\xe4]\\xbf+y\\xe4\\x7fJ\\x1ea\\x85_i\\x0b\\xfb\\x074\\x95\\xff\\x00v\\xee\\xba\\x1f-\\\\\\xc3\\xb1>\\xd1x\\x7f\\xdd\\xaa\\xd3B\\x9f\\xeb#\\x910~\\xf5}\\\\\\x9f\\xf0LO\\x8e\\xb3A\\xc5\\xbd\\x9bm\\xfb\\xca\\xf3\\xe0\\xff\\x00*\\xa5\\xa9\\x7f\\xc1+\\xff\\x00h\\x14\\x93\\xfd\\x0e;9\\x15\\xbf\\x85\\x1c\\xe7\\xf9Q\\x1c\\xc3\\x0e\\xfe\\xd0<\\x832q\\xfe\\x1e\\xa7\\xcbW)\\xbfl\\x92|\\xca)\\xb6\\xd3\\xfd\\xa6\\x16\\x8c\\xc4\\x9f/\\xdd\\xaf\\xa3u\\x8f\\xf8&\\x87\\xed\\x1b\\xa6\\xee\\x8cxo\\xcca\\xfc+X:\\x87\\xfc\\x13\\xeb\\xf6\\x8d\\xb0\\x7f.?\\t\\xbb\\x7f{\\xca\\xa6\\xb1\\xf8G+s\\xa0y&g\\x18\\xddSg\\x83\\xcdg\\xe6\\x7f\\xa4G\\x1e\\xdd\\xbfz\\x87\\x86;\\x98|\\xb8\\xee6\\xec\\xfb\\xcb^\\xe0?a\\xbf\\x8f\\xd6\\xdb\\xad\\xee<\\x17q\\xf3\\xfd\\xd5Y8z\\x85\\xff\\x00a/\\xda\\x10\\xdc\\xacv\\xfe\\x03\\xb8\\xdaSsm\\x90b\\xb3\\x9e;\\x08\\xa5g4J\\xc9s\\r\\xd56\\x99\\xf6B~\\xdc\\x9f\\xb4\\x9a[y\\x91\\xfcP\\xbfWo\\xbb\\xfe\\x96\\x7f\\xc6\\xb2u/\\xdbK\\xf6\\x87\\xd5ai?\\xe1bj\\x9f\\'\\xfa\\xcd\\x97g\\xfck\\xcd\\xael\\x12d_3\\xe6m\\xdbcZ\\x95\\xf4\\xaf\\xb3Y\\xaf\\x97\\'\\xef\\x19>e\\xad-N\\'\\x1f\\xd7q|\\xb6\\xe7o\\xf1;\\x08\\x7fj\\x9f\\x8d:\\xc4>m\\xc7\\xc4MSz}\\xe5\\xfb[\\xff\\x00\\x8dMa\\xfbI\\xfco\\xb6\\x7f\\xb4I\\xf1\\x13Rd\\xfb\\xdf\\xf1\\xf6\\xe0\\xff\\x00:\\xe0\\xed\\xb4I\\xa1v\\x93\\xcc\\xf2\\xf3R=\\xb3\\xc2\\xff\\x00c\\x92\\xe3sl\\xf9i\\xb5I\\xd9\\xdbF?\\xaeb\\xf5|\\xce\\xe8\\xf4\\xcd+\\xf6\\xd8\\xfd\\xa0tyd\\xf2\\xfe&jK\\x1a>\\xed\\xaf9?\\xd6\\xbb]\\x1f\\xfe\\n\\x83\\xfbO\\xe8\\x971\\xc6|`\\xf7Q\\xaa\\x7f\\xcbT\\x0f\\xff\\x00\\xa1W\\xcecJ\\x85\\xfc\\xcf\\xb6}\\xed\\xbbYj\\x0b;\\x0b\\xc8]\\xae?\\xd6F\\xa9\\xb5V\\xb5\\x8d,;\\xd5lJ\\xc7\\xe3\\xa2\\xd2rg\\xd9Z\\x17\\xfc\\x15\\xf7\\xe3\\r\\x9c\\x11\\xff\\x00\\xc2A\\xa3\\xe9w\\x8e\\xc9\\xfb\\xc6\\xf20\\x7f\\x9dl\\xe9\\x1f\\xf0W\\xf8\\xe7O3\\xc4\\x1f\\t\\xf4\\xe9?\\x85\\xb1_\\x08\\xdf\\xfd\\xbd\\x13\\xcc\\xb7\\xf9\\xb7\\xff\\x00\\r\\x10\\xbc\\xcf\\xb6;\\x88\\xf6\\x95\\xa6\\xe9Qq\\xbcW\\xf5\\xf2\\xb1\\xbc3\\x8ct6\\x91\\xfa\\x01\\xff\\x00\\x0fb\\xf8{5\\xb4\\x97\\x17\\x9f\\x05\\xec\\xd8\\x0f\\xe1T\\x07\\xfaTi\\xff\\x00\\x05P\\xf8?4\\xeb%\\xe7\\xc0\\xbb\\r\\xad\\xf3n\\xd8?\\xc2\\xbe\\t\\xb6\\xde\\xfb\\x93\\xcc_\\xf7i\\x97\\x9c\\'\\xfa\\xbf\\x97\\xef5\\x14\\xf0\\x94\\xe5+\\x1b\\xbc\\xff\\x00\\x18\\xb5\\x93V?C\\xac\\x7f\\xe0\\xa8?\\xb3\\xac\\xd3\\xfd\\xa3T\\xf8/\\x02\\xb8\\xff\\x00\\xa6\\x03\\xfc+Jo\\xf8)\\xaf\\xec\\xa3}g$\\x97\\x1f\\x06\"S\\xb7\\xef,\\t_\\x9c\\x80#\\xa2\\xc9$\\xbd\\x13r\\xd4~u\\xcb\\xee\\x8e;\\xc4\\xc7\\xf7k\\'\\x84\\xa6\\xa5{\\x97\\xfd\\xbd\\x8a?C\\xec\\xff\\x00\\xe0\\xa7_\\xb2\\xde\\x9b\\x03\\\\Y\\xfc\\x19\\x8dX\\xbf\\xcb\\x1a@\\x9f\\xe1U\\xae\\xff\\x00\\xe0\\xae\\x9f\\x0b\\xac\\xd1\\xbf\\xb1\\xfe\\r\\xc5\\xb5\\xbe]\\xd2\\xec\\xaf\\xcf\\x94\\xbf\\xd8\\xea$\\x8d~d\\xf9\\x9a\\xaa\\xcd#\\xba0\\x8f\\xe6\\xf9\\xfeZ\\xceXZu7\\x1f\\xf6\\xfe-\\xedo\\x91\\xf7\\x9f\\x88\\x7f\\xe0\\xb0z\\xad\\x9c-\\xfd\\x87\\xf0\\xde\\xc25d\\xfd\\xcfC\\\\\\x95\\xe7\\xfc\\x15\\xd3\\xe3M\\xe2,vz=\\x9d\\xbf\\xfbN\\x95\\xf1\\xea<\\xd3~\\xf2I\\x1dq\\xf2\\xed\\xa9\\xef\\x1d\\xef\\xd9\\x7fy\\xb7f\\xd5^\\xd4\\xa9\\xe1\\xa9FV\\xb1\\x95\\\\\\xef\\x1f\\xb2\\x95\\x9f\\xa1\\xf5\\xab\\xff\\x00\\xc1\\\\?h\\x0bwc\\x04\\x96\\xac\\x8f\\xf7\\xb6\\xc1\\xc7\\xf3\\xadm\\x13\\xfe\\x0b\\x05\\xf1\\xa6\\xcd\\xd6;\\xdd.\\xcae\\xdb\\xf3~\\xee\\xbe9\\xb3\\xb6\\xb9\\x87o\\xda#\\xe0\\xbf\\xca\\xdd\\xa9\\xb3$\\xd0\\xbb~\\xef\\xe5\\xfe\\xf7C[\\xc2\\x85\\x1f#\\x9f\\xfb_\\x1a\\xb7\\x95\\xcf\\xbbt\\xdf\\xf8,\\x06\\xb0\\xef\\xf6\\x7f\\x10|;\\xb0\\x99Kni<\\xbekr\\xdf\\xfe\\n\\xdb\\xf0\\x97P\\x92;}c\\xe1\\x04^g\\xf12m\\xff\\x00\\xf5W\\xe7\\x8c\\xd7\\x93$\\xcbqo&\\xd2\\x9f7\\xbdM\\xf6\\xc4\\xd5w\\\\^[\\xedo\\xe2e\\xa9\\x8e\\x1a\\x9b\\xdc\\xde9\\xee5Z\\xcfc\\xf4y?\\xe0\\xa7\\xbf\\xb2\\xeb\\xbb\\rC\\xe1:\\xae\\x17\\xee\\xf9\\x08j\\xac?\\xf0R\\xcf\\xd9\\x18^I\\xe5\\xfc7\\x89C\\xf3\\xb7\\xec\\x8b_\\x9c\\xcf\\xe4\\xcd\\x0f\\x12r\\xb4\\xcbk\\x9bo&h\\xc4{\\x9dj%\\x83\\x87\\xbcm\\x1e!\\xc6tH\\xfd%\\x7f\\xf8)g\\xec\\xa2\\x90\\xf9\\x96\\x7f\\r\\x93o\\xf1C\\xe4%3\\xfe\\x1e\\x7f\\xfb6#\\xad\\xbe\\x9f\\xf0\\xc3\\xe4\\xfe/\\xdd\\xa0\\xff\\x00\\xd0\\xab\\xf3b\\xda\\xf1,\\xe1o\\xb4H\\xdb\\xcf\\xe5NK\\xfb\\x9d\\xed \\x93uK\\xc1\\xd2EC\\x88\\xf1\\xad7e\\xa1\\xfa[\\xff\\x00\\x0fP\\xf8\\t`\\xfef\\x8f\\xf0\\xcf\\xcbX\\xbf\\xe5\\xa4[\\x07\\xcdP\\xea\\xff\\x00\\xf0YO\\x87\\xe2\\xd9\\xad\\xed\\xfc\\x0f/\\xfb\\xaf%~m}\\xb2h\\x7f\\xd2-\\xe4}\\xae\\xb5Zg\\xbcxVK\\x9f\\x94\\xff\\x00\\x0b=c\\x1c<__\\xf3-\\xe7\\x98\\xa9F\\xed&}\\xfb\\xad\\x7f\\xc1`\\xb4\\x16E}?\\xe1\\xbc\\x08\\xe5\\xf6\\xfc\\xf8\\xcds\\xb7\\x9f\\xf0X\\xcf\\x12;\\xb7\\xf6\\x7f\\xc3\\xfbX\\xc2\\xfd\\xd5\\xf2\\xc6+\\xe1Y\\xa6\\x86i\\xbc\\xa9$\\xda\\xff\\x00\\xa5I\\x02=\\x9a}\\x9e97;V\\xab\\tM\\x92\\xf3\\xfc\\xc3\\x96\\xed\\xa5\\xf2G\\xdcV\\x9f\\xf0X\\xcf\\x88\\x8b\\x1f\\x98\\x9e\\x12\\xb0\\x8d\\xff\\x00\\x8a?/?\\xd6\\xab\\xff\\x00\\xc3\\xdf|v\\x97\\xf2]\\xc9\\xe1{<\\xff\\x00\\r|Q43L\\x9fh\\x8e_\\x9c}\\xed\\x95\\x1a#\\xc7\\xbaK\\x8b\\x87`\\xcb\\xb7m7\\x86\\xa2\\xe3x\\x9c\\xf1\\xcf3\\x15\\xbb>\\xe7\\xb3\\xff\\x00\\x82\\xc3x\\x85\\xd1\\xbe\\xd9\\xf0\\xfe\\xdf\\xe6\\x7f\\xbd\\xc6*\\xe3\\xff\\x00\\xc1`/\\x13l\\x97\\x1f\\x0e\\xeddQ\\xfc[\\x05|9\\x08\\x85\\xed\\xbfw\\xb9\\x8f\\xf1-#\\xc3\\x0f\\x96\\xdfg\\xf9\\x95\\xbe\\xf2\\xf44}Z\\x8c\\x92v\\xdc\\xbf\\xed\\xec\\xcb]O\\xb9e\\xff\\x00\\x82\\xbbh\\x97\\xfbd\\xbd\\xf8_j\\xa8\\xbf{\\xe4\\x06\\xacY\\xff\\x00\\xc1W>\\x18\\xea\\x08\\xb6\\xfa\\x87\\xc2h\\x1bw\\xdd\\xfd\\xd8\\xcd|\\x0f\\r\\xb7\\xde\\xb7\\x92\\xdd\\x97w\\xfd4\\xe2\\xa7Ha\\xfd\\xdc\\x9ec*\\xa3\\x7f\\xac\\xebU\\xf5J*\\xd7\\xea5\\xc4\\x19\\x97t~\\x80\\xdb\\x7f\\xc1P~\\x06\\xbe\\xd8\\xee>\\x13\\xc1\\x1e\\xc5\\xf6\\x153\\xff\\x00\\xc1R\\xbe\\x05[\\x1f.\\xdf\\xe1\\x9anU\\xdc\\xcb\\xc5~x\\\\\\xdc\\xa3\\xa4\\x92^I\\xb5\\x9b\\xfd^\\xcf\\xe3\\xaa\\x91\\xe1?\\xd2$\\xdf\\xbf\\xf8V\\xa3\\xea\\x90\\xfbL\\xd7\\xfdc\\xc7\\xb9YX\\xfd\\x07\\xd5\\x7f\\xe0\\xad\\x7f\\x0f\\xbe\\xcd$\\x9e\\x1f\\xf8w\\x12\\xbf\\xf0\\xaf\\x96+\\xcf|g\\xff\\x00\\x05\\x80\\xf1\\xfd\\xe4-\\xa7\\xf8_\\xc3pZ\\xb7\\xddY:W\\xc6p\\xde\\xef\\x99\\xa3\\xf2\\xd1k>gqs\\xfb\\xc8\\xdf\\x87\\xdc\\xadY\\xfdB\\x97-\\xc9\\x97\\x12f\\x15#d\\xd2\\xf9\\x1e\\xdd\\xf1;\\xf6\\xf9\\xf8\\xfd\\xe3\\t\\x9a;\\x8f\\x18\\\\[\\xab&\\xd6\\x8e\\t1\\xfdk\\x8b\\xd1\\xfe.\\xfcB\\xbc\\x9b\\xed\\x97\\x9e$\\xbf\\x9aW\\xfb\\xcc\\x93\\x9c\\xd7\\x014?l\\x9b\\xfdeoxJ\\xc1&\\xdd\\x1f\\x97\\xfb\\xcf\\xbb\\xb9\\xe4\\xc5U,=\\x18J\\xc9jpV\\xc7\\xe3\\xab\\xfcs\\x7fy\\xe9\\xfe\\x1e\\xfd\\xa7~3x2o\\xb6x\\x7f\\xc7\\x97P\\x81\\xf7c\\x96s^\\x83\\xa2\\x7f\\xc1I\\xbfh\\xab;e\\xb8\\xb8\\xf1\\x03\\xccb\\xfe\\x1a\\xf9\\xd6\\xfd5\\r*\\xf3\\xcb\\xbc\\xb7vO\\xbb\\xfd\\xf1I7\\xef\\xa1[\\x9b?\\x94/\\xdeU\\xe2\\xbb\\xabR\\xa1(\\xa4\\xecrP\\xcc3\\n5-\\x19\\xbb\\x1fRC\\xff\\x00\\x05h\\xf8\\xeb\\nl\\x92{v\\x0b\\xf7\\x9aX\\xcd:\\xfb\\xfe\\n\\xdd\\xf1\\xcb\\xe5\\x8e\\xe2\\xca\\xd5w\\x7f\\xabd\\x92\\xbeN\\x82\\x14y\\x9b\\xcc\\x91\\xd5_\\xf8z\\x8am\\xfc.\\x93)\\xb8\\xfb\\xa3\\xee\\xd7$p\\xb8w\\x1b\\xf2\\x9d\\xeb=\\xcc\\xd6\\x9e\\xd1\\xdc\\xfa\\xab\\xfe\\x1e\\xcf\\xf1\\xed\\xf7I$v\\xff\\x00/\\xa5W\\xd4\\xbf\\xe0\\xaa\\x7f\\xb4\\r\\xfc+-\\xbd\\xfa\\xaa\\x7f\\xcf4\\xe6\\xbe_\\x86\\xf1\\x12f\\x93\\xcbVR\\xbfw\\xcb\\xaa\\xf0\\xbf\\x91:\\xc9\\x1cI\\xb0\\xbf\\xdd\\xa1\\xe1\\xf0\\xfb\\xa8\\xd9\\x97\\xfd\\xb5\\x99\\xf3_\\xda3\\xe9\\xbb\\x9f\\xf8*\\x0f\\xed\\t5\\x9f\\x97\\x1e\\xb8\\xff\\x00\\'\\xdeo.\\xa8\\'\\xfc\\x14\\xcb\\xe3\\xf5\\xc9\\xf2\\xe4\\xf1\\x02\\xb2\\xaa\\xfc\\xac\\xc8k\\xe7+\\xfb\\x97O28\\xe3\\xda\\xafP\\xd8M\\xf24~[\\xeeo\\xba\\xd4\\xbe\\xa7A\\xc1\\xe9q<\\xe74r\\xe6\\xf6\\x8e\\xc7\\xbd\\xcd\\xff\\x00\\x05\\x14\\xfd\\xa1\\xe6\\x9b\\xcc\\xff\\x00\\x84\\xb3h\\xdf\\xee?\\xad2O\\xf8(G\\xed\\x0f+\\xac\\x7f\\xf0\\x9a:\\xae\\xcf\\xe0z\\xf0}\\xf0\\xc3\\'\\x97y#)_\\xe1~i\\x87~\\xfe>T\\xfe\\x1f\\x93\\x14\\xbe\\xa9J\\xe9E\\tf\\xd9\\x85\\x9b\\xf6\\x8c\\xf7\\xcb?\\xf8(/\\xed!\\x05\\xb4\\x91\\xc7\\xe3I~d\\xf9{\\xd5g\\xfd\\xba\\xbfhI\\x83\\x7f\\xc5qp\\xaf\"\\x7f\\x05x{\\xdc\\xa2\"\\xf9Rn_\\xe2\\xf9(\\x8e\\xdaG\\xb9\\xf3-\\xcaG\\xbf\\xf8k_\\xaa\\xd1v\\xbaZy\\x13\\xfd\\xa9\\x98\\xff\\x00\\xcf\\xc7\\xf7\\x9e\\xc6\\x9f\\xb7o\\xed\\x1bl\\x9f\\xe9\\x1e4\\xb8m\\xdf+w\\xa6\\xff\\x00\\xc3r|~I\\x97\\xfe+\\x8b\\x86?\\x8f\\xf8\\xd7\\x87\\xcd-\\xe7\\xdaZ\\xde\\xe3\\xfdW\\xfb\\x155\\xac!\\xddd\\xb8\\x91\\xd5\\x16\\x87\\x85\\xa4\\x95\\xf9P\\x7fjf\\x0bz\\x8f\\xef=\\xb7\\xfe\\x1b\\xab\\xf6\\x81\\xb6u\\xb8\\x8f\\xc7\\x13\\xaf\\xf7\\xbesN\\xff\\x00\\x86\\xea\\xfd\\xa0o\\x13\\xcc\\xb7\\xf1\\xa4\\xec\\x17\\xe6]\\xaf^-ya\\x1d\\xcb\\xacv\\xf23\\'\\xf0\\xd2\\xfd\\x8d\\xec\\xddc\\x90y\\x7f\\xdd\\xa9\\xfa\\xb5\\x05\\x16\\xd2\\xb7a<\\xdb2RK\\xda?\\xbc\\xf6\\xbb\\xcf\\xdb\\xf3\\xe3\\xf2C\\x1c\\x7f\\xf0\\x96K#\\x0f\\xbc\\xbdio?\\xe0\\xa3_\\x1f\\xbe\\xce\\xbe_\\x88\\x1f\\xe4_\\x95\\x9b\\x8a\\xf0\\xc9\\x91!\\xbco/\\xe6\\xfe\\xf0\\xaas?\\xde\\x8f\\xf8i\\xfdS\\x0e\\xe5v\\x81f\\xf9\\x82\\xff\\x00\\x97\\x8c\\xfa\\x19?\\xe0\\xa4\\xdf\\xb4%\\xb4+m&\\xb9\\xb9\\x0f\\xf1=J\\xff\\x00\\xf0R\\x9f\\x8f\\xdb<\\xc8\\xf5\\x84o\\xe1\\xaf\\x9b^y&\\x87\\xcb\\x90\\xf1\\xfc4\\xb0\\xef\\x08\\xd1\\xc9#lT\\xff\\x00\\x9e|\\xd5\\xfdC\\x0b\\xd2(o<\\xcc\\x94\\xaf\\xed\\x19\\xf4\\xbb\\xff\\x00\\xc1N>=\\xc2c\\xb7\\xfbb\\xb2\\x9f\\xbc\\xdf\\xe4\\xd5\\xc9\\xbf\\xe0\\xa9\\xbf\\x1c\\xe1\\xb3X\\xfc\\xc8&t\\x7f\\x99\\x9e<\\xff\\x00Z\\xf9Zdt\\xff\\x00W\\xf3\\x0f\\xefR}\\x9ai\\x11\\xbe\\xcf&\\xd1\\xff\\x00-+*\\x98\\x0c+\\xb7\\x91\\xaa\\xcfs5\\xf6\\xd9\\xf5\\x1b\\xff\\x00\\xc1Q\\xfe9>\\xe8\\xe3\\xbc\\xb5\\xc1O\\x95^3\\x8f\\xe7Y\\xf7?\\xf0S/\\x8fq\\xa2\\xc7\\x1d\\xe5\\xbeW\\xef2\\xe7\\xfck\\xe6{\\x9b9\\xa1\\xb9\\x8f\\xcb\\x93\\xaf\\xfd4\\xa9\\x13}\\x9f\\x99\\xf6\\x8f\\x9b\\xf8W\\xbdO\\xd4\\xb0\\x9f\\xca\\x0f:\\xcd\\xbaTg\\xd0s\\xff\\x00\\xc1K?hy\\xb7\\\\\\x1dB%\\xfe\\xee\\xfc\\xff\\x00\\x8dCs\\xff\\x00\\x05&\\xf8\\xf7$\\x1ck\\x88\\xbb\\x9b\\xe6e\\xaf\\x9e\\xefn]\\xed\\xb7\\xc7&\\xd0\\x9f\\xc3Y\\xb6\\xd3\\xdb\\\\\\xcc\\xb8\\x8d>Z\\xbf\\xa8\\xe1\\x9b\\xb2\\x80\\x7fl\\xe62\\xb7\\xef\\x19\\xf4<\\xdf\\xf0QO\\xda\\x1d\\xdd\\xa3\\x8f\\xc5\\r\\xc7\\xcd\\xe5\\xf1L\\x9b\\xfe\\n5\\xfbC\\xa2,\\x9f\\xf0\\x984m\\xfd\\xdf/\"\\xbe|\\xbcI\\x91\\x16O-~z\\x86{\\x04\\xde\\xa7\\xccV_\\xbd\\xf7\\xea~\\xa5\\x87\\xfeP\\xfe\\xda\\xccyo\\xedY\\xf4C\\xff\\x00\\xc1H?h\\xa4\\x87\\xca\\x93\\xc4\\x9ef\\xef\\xbd\\xfb\\xba\\xa5q\\xff\\x00\\x05\\x1a\\xf8\\xf1\\xb3\\xfeC\\x89^\\x19\\xe4\\\\\\xdb\\'\\x99o\"4E>\\xef\\x99\\xcdd\\\\\\xc2\\xef2\\xc7o\\x1f\\xde\\xa1`\\xb0\\xd2\\xde \\xf3|\\xc9S\\xfe+>\\x86\\xb6\\xff\\x00\\x82\\x87~\\xd01\\xa3}\\xa3\\xc4\\x8a\\xbb\\xbe\\xecu\\x1d\\xff\\x00\\xfc\\x14G\\xf6\\x81\\x85\\x1aO\\xf8I\\x1d\\xb6\\xaf\\xcb\\xf3\\xd7\\xcf\\x9773&\\xd8\\xe4\\xf9_f\\xd5\\xa8>\\xd2\\x93\\x1f*\\xe1\\xf6\\xb2\\xfd\\xda\\xaf\\xec\\xfc;\\x8d\\xd4Q\\x1f\\xdby\\x9c\\xa3oh\\xcf\\x7fO\\xf8(\\x8f\\xed\\x08\\x9bn?\\xe1(\\x95Wn\\xed\\xaf\\xfd\\xea}\\xb7\\xfc\\x14\\xbf\\xe3\\xf5\\x9e\\xd8\\xee|@\\xcc\\xdf\\xc5\\xd0\\xd7\\xcf\\x17\\x9ebm\\xf3$\\xf9*$\\xb6\\x87b\\xc9\\xe6+|\\xf4}C\\t\\xdb\\xfa\\xfb\\xc7\\x1c\\xe71\\x8cl\\xaa;\\x9fF\\'\\xfc\\x14\\xa7\\xe3\\xdb\\xde3\\xc9\\xae/\\xcd\\xf3/\\xc9\\xff\\x00\\xd7\\xa3\\xfe\\x1eU\\xf1\\xed\\x1f\\xf7\\x9a\\xa21o\\xf6+\\xe7TH|\\xc6\\xb7\\x93\\xef\\x7f\\x0b-F\\xef5\\x9f\\xef#\\xf9\\xa9\\xbc\\xbf\\x08\\xfe\\xc9\\xa2\\xcf3.\\x95\\x1b>\\x92\\x87\\xfe\\ne\\xf1\\xca\\x17X\\xe4\\xbcF\\xfe\\xedY\\xff\\x00\\x87\\x9c|f\\xb6\\xbc[y<\\x86C\\xfd\\xc8\\xf2k\\xe6\\x1b\\x94\\xbct[\\xc8\\xe2~~\\xf2\\xd4N\\xfb\\x13\\xed\\x17\\x11\\xbe\\xff\\x00\\xe1f\\xac\\x1eY\\x83r\\xbf*5\\xfe\\xdc\\xcd\\x1d\\xadQ\\xe8}D\\x9f\\xf0T\\xdf\\x8a\\xff\\x00j\\xf2\\xe7\\xd1\\xec\\xa4T\\xfb\\xac\\xd0\\x0f\\xf1\\xab0\\xff\\x00\\xc1W<~\\x9e_\\xda<?d\\xbb\\x1b\\xfey\\xd7\\xc8n\\x8e\\xf3y\\x92I\\xf3T\\x89\\xb1\\xee|\\xb9,\\xd5\\x87\\xde\\xdd\\xe6U\\xbc\\xb7\\x05({\\xcb\\xf1\\x14x\\x874\\xe6\\xe6\\xe7v>\\xd4kd\\x86h\\xe4\\xfb>\\xe4_\\xbc\\xd4\\xf9\\xaf\\xd1\\xe6\\xf2\\xe4\\xd3\\xf6\\xaa?\\xca\\xde][\\xf3\\x92m\\xbe]\\xbb\\xec\\xd9\\xf37d\\xa8^\\xff\\x00|k\\x1c\\x88\\x8b\\xb7\\xe5fn\\x95\\xcff\\xefu\\xb1\\xe7YCf\\x0fyyl\\x8d\\x1c\\x96\\xf14_uY\\xaa\\xbf\\x93myr\\xd2\\xc7\\x1e\\xdd\\xab\\xf3z\\xa5F\\xfa\\x95\\xe4\\x87\\xec\\xf2G\\xb97\\xeeV\\xfe\\xe5=/!K\\x9f/\\xcc\\x8a?\\x93o\\xfb\\xf5\\xaa\\x83\\xe5k\\xab\\x17?\\xbdk\\x94\\xf5\\r6g\\x9b\\xcc\\x93n\\x1b\\xee\\xec\\xa4\\x87bm\\x8f\\xe4\\xc5i\\xbd\\x9b\\xbf\\xef<\\xcd\\xc9\\xb3j\\xadS\\x8fLw\\xb9\\xfb?\\xd9\\xd5v\\xfd\\xd6\\xf31Z\\xa9\\xc5F\\xc2\\xe4v\\xbcCU\\xb0\\x86\\x1bh\\xe3\\xbc\\xd3\\xfc\\xb6_\\x9a9\\x13\\x8a\\xceK8gO\\xb6G#\\xb6~\\xebV\\xec)\\x0b\\xdb/\\xdb$\\xf3\\x19\\x93k-Cmmg\\n5\\xbd\\xdcr\\xc3\\x13}\\xd5N\\x94\\xa3Y\\xa8\\xd8\\x89R\\xfbQ0&\\xb3\\x86i\\x9a?\\xe2\\x1f6\\xdd\\x95I,.U\\xdb\\xcc\\x91\\xf6\\xb7\\xddZ\\xeb\\xf6Y\\xdb_\\xac\\x9a}\\xcf\\xca\\xab\\xff\\x00-c\\xfb\\xf5CR}\\xcf$\\x9eZ\\xfc\\xcd\\xb9khW|\\xebM\\xcc}\\x8d\\xe1\\xa9\\xcdCgx\\x97-\\xe6nU?\\xc3V\\xa4\\x87e\\xb7\\xef-\\xf9?\\xdd\\xad\\'\\xb9\\x87PH\\xee>\\xce\\xbf\\'\\xde^\\x86\\xa3\\xfd\\xf4w\\x9ee\\xbe\\xc9\\x15\\xfe]\\xb5\\xbc\\xea\\xa9|\\x87\\xec\\xf9$\\x9a\\xeag=\\x9f\\xeeV\\xdf\\xee\\xff\\x00y\\x9e\\x8b\\x02\\xfb\\xdaK\\x8b}\\xa8>\\xebV\\xf5\\xce\\x954\\xfe]\\xbcq\\xf2\\xdf5g>\\x91yg\\xbb\\xca\\xb8v\\x89\\xdf\\xe6Z\\xcdN\\x12\\x8d\\xd3\\x0b8lV{\\xcbm\\x8d\\xe5\\xc8\\x8a\\xe5\\xa9\\x11\\xe6o\\xde\\x0bu\\xda\\xd4\\xf9\\xad\\xd2\\xd9\\xd6\\xf2\\xce\\xe3qf\\xdb$m\\x1dlY\\xbao\\x8e;{t\\x91\\x8f\\xcc\\xca\\xd52\\x92{ Q\\xa9/\\x89\\x94&\\x80\\xa5\\xb4v\\xfe[\\xb3\\x0f\\xba\\xc9%V\\xfbm\\xcb\\xee\\x8e\\xe26V\\x1f\\xc5W/\\xec\\xef\\x13R\\xfd\\xdf\\xee\\xc3\\xcb\\xb9\\xa3\\xedN\\xbc\\xb6t\\x7f*M\\x8d\\xff\\x00m*\\xe3\\xca\\x92l\\x97\\x17\\xf0\\xad\\n7?\\xd9\\xae\\x9ed{\\xf3\\xb7\\xee\\xff\\x00\\xb5Q&\\xcf\\'\\xf7qm}\\xff\\x002\\xa5N\\xf6\\x1f\\xbe[\\x88\\xfe\\xe6\\xef\\x99je\\xb8\\xb6\\xb6\\x99\\xa5\\x8e\\xdfui)\"J\\x90\\xa4{\\xd6\\xe2O\\x95wm\\xa8\\xe6\\xfb?\\xdb\\xda8\\xf6\\xb2\\x1f\\xe2\\xe9V\\x91\\xde\\xe6f\\x11\\xc1\\xc3|\\xdb\\xa8{h]#\\xb8\\x927]\\xad\\xf7hr\\xb0-u\\xe8P\\xbcG\\xb9\\xddo!\\xda\\x17\\xf8\\x93\\x8aTxm\\xa4X\\xa3\\xfb\\x8c\\x95z\\xf2\\x18J4~gF\\xce\\xea\\xcd\\xb9\\xf2\\x7f\\xd6[\\xfe\\xf3o\\xdeZ\\x8d5\\xbfB\\x94m/2\\x1b\\x97\\xb9O\\xde\\xdb\\xc9\\xc5A5\\xcd\\xfc\\xce\\xb6\\xf2I\\xb9W\\xf8j\\xdd\\xcd\\xe4\\x7f\\xd9\\xbedq\\xed}\\xdfv\\xa8C2L\\x8c>\\x7f\\x9b\\xf8\\xaaSJ\\xdal7Nt\\xe5t\\xf7$K7y\\x96H\\xe3\\xdcW\\xef-N\\x96\\x177\\x8e\\xbeY\\xdaC\\xe6F\\xa6\\x19\\x9d?\\xe3\\xdeG\\xe7\\xefU\\xf8m\\xa6{U\\x97K\\xde\\xd3l\\xfd\\xe4kR\\xa4\\xd7@p\\x8c\\xe2\\x9d\\xf6,\\xdeY\\xc3m\\x0bG\\'\\x95!d\\xf9[\\xa1\\xaaIm\\x0c;d\\x8e\\xdfsl\\xdd\\xe5\\xbdN\\xff\\x00\\xbe\\x85~\\xd1\\xbb+\\xf2\\xc9\\xba:u\\xe7\\x93\\x0b\\xc7${\\x19\\x7f\\xbd\\xd2\\x94ek\\xe9\\xb9\\xa2\\x8d\\xc6\\xd8\\xbf\\x9d\\x0bf7\\x8d\\x9b\\xfb\\x94i\\xa9g\\xfb\\xeb{\\x8b\\x86Y\\xbf\\x87\\xf7|U\\xcd5#\\xd9\\xf6\\x8b\\xcb7\\xdc\\xff\\x002\\xf9RUHQ&\\x9aI#\\x8d\\x97\\xfb\\xdd\\xe9s.i-E%%\\xb3\\x197\\xfa\\x96\\x96I\\x11\\x97\\xfd\\xae*\\x8d\\x9c\\xcf\\x0f\\x99o\\xe5\\xac\\x8a\\xeb[?l;\\xdbO\\xb8\\x8d$\\x84\\xff\\x00\\x13\\xa5eOml\\xf7-\\xf6{\\x84P\\xbfwoJ\\xa8I%fd\\xe0\\xdf\\xc2R\\x86=\\xef\\xe5\\xdc[\\xb3l\\x7f\\xfb\\xe2\\x92{\\xfbm\\xed\\xe6n\\xdd\\xfc;\\xaaa\\xf6m\\xff\\x00\\xbc\\x91U\\xbe\\xeb2U]J\\xc2\\x18f\\xf3-\\xdddO\\xe1\\xab\\xb4%+\\x17\\'(m\\xb1\\x15\\xcf\\xd8\\xfeY$\\xfe?\\xe2\\xaa\\xba\\x93\\xfe\\xe5\\x81\\x8f\\xfe\\x04\\x94\\xf1\\x1c/\\xff\\x00\\x1f\\x1d\\x7f\\x85j(\\xaf\\x02B\\xd6^^\\xea|\\xab\\x91\\xf9\\x99G\\xe2O\\xb1Z\\xdeo\\xb3L\\xa6H\\xf7\\x7f\\x15u:\\x0c\\x9b\\xac\\x1a\\xe2\\xde4Wo\\xe1\\xaer\\x14\\x86\\xe6o2H\\xf6\\x95\\xfe\\xfdt\\x9a\\x0b\\xdc\\xa5\\xb3Gf\\x9b\\x97\\xee\\xb3%sS\\\\\\xd3\\xd1\\x1d\\x12\\\\\\xb1\\xbd\\x82\\xfe\\xda\\xff\\x00b\\xc7$\\x9b\\xa6\\x7f\\xba\\xa9&i\\xdf\\xda\\xae\\x9a\\x7f\\xf6]\\xc6\\x9f\\xb5\\xc7\\xf7\\xe3\\xc1\\xa2\\xfe\\xce\\xf1\\xeec\\xb9\\x96O-\\x93\\xee\\xf64\\xb7\\xfa\\x95\\xcd\\xfd\\xe4?h\\xf9\\xa4\\x85>]\\xbc\\xd7L\\xd5\\xe2\\xa2\\xb60\\xa7&\\xaf}\\xd9\\x93+\\xc3\\xbdd\\xf39\\xdd\\xf7zU\\xab\\x9bo\\xed\\x04\\x8e;8\\xdb\\xcd_\\xbd\\xfb\\xcc\\x8a\\x97R\\xb3\\xd3du\\x7f3v\\xff\\x00\\x9bmT\\xb5I\\x11\\xe4\\xf2\\xee\\x13j}\\xdfZ\\xc6\\x0b\\x9fb\\xa5\\x17\\r\\xc8\\xe6\\xb5\\xb9\\x86i,\\xfe\\xcf.\\xe6\\x7f\\x99vS\\xec\\xec!\\x86\\x1f1\\xe4u\\x97\\x7f\\xcc\\xad\\xd2\\x95\\xef\\x11.VX\\xc3\\xfc\\xcb\\xf33\\xd2L\\x9fl\\x7f7\\xe7]\\x9f\\x95&\\xee\\\\\\x15\\xe3r\\x0b\\xf9\\xb7\\xcc\\xd1\\xd9\\xfc\\xd8\\xfb\\xd5\\x05\\x9b\\xbc\\xdf\\xbb\\x8e\\xcbn\\xcf\\xbbW\\xbc\\xebhm\\x9a8\\xe2}\\xcdS\\xbc\\xd0\\xfd\\x99\\xa4\\xb7\\x93\\x82\\xbf2\\xd1\\x17y[p\\xb3\\xb5\\xeeQ\\x9a\\xd9<\\xe8\\xe5\\xb8;\\x97\\xfb\\xd5$\\xd0\\xa4\\xc9\\xff\\x00\\x1e\\xed\\xb0\\x7f\\x15?\\xce\\x8a\\xf0\\xacr\\xc9\\xb5~\\xebT\\xb3<\\xdf\\xd9\\xabo\\x1ck\\xc7\\xf1P\\xdb\\x8co\\xe6V\\xfb\\x14\\x12\\x1bg\\x92H\\x80e_\\xe1\\xa4\\x86\\xea\\xe6\\xcee\\xf2\\xec\\xf7\\x02\\x9bw:qIl\\x9b/\\x16;\\x88\\xd7\\xfd\\xafJ\\xb8\\xf6sL\\xf2Gg\\xb3`_\\x97\\xf7\\x95M\\xc2\\xf6e\\xc5Tp(_\\xa46\\xdbd\\xfb\\xce\\xff\\x007\\xdc\\xa8o5$\\xbaE\\x8f\\xech\\xac\\xbf\\xc5\\xb2\\xad\\r=\\xd2\\x1f2\\xe2M\\xcc\\xcf\\xf2\\xaa\\xd4\\xa9am\\xe47\\xef\\x1f\\xe6\\xff\\x00\\x96\\x9c\\x1a?u\\x18i\\xa88M\\x94,&\\x85?\\xd2>\\xf6\\xda\\xb9y5\\x84\\xd6\\xcb%\\xc6\\xe5p\\xbf+y\\x954\\xc8\\x9e_\\x97\\xe5\\xae\\x7f\\x85\\xb6Vm\\xfa\\xbc\\xc9\\xe5\\xdcF\\x9b\\x87\\xf1\"T]\\xcf\\x95\\xb5\\xad\\xc2>\\xecnY\\xfe\\xca\\x86\\xe7M\\xfe\\xd0\\xb7\\xb8v\\x7f\\xee\\xd6|\\xf0\\xa6\\xc6\\xff\\x00G]\\xd5,;\\xe1E\\xfb<\\xae\\xdf\\xedT\\xb7\\x96p\\xfd\\x9b\\xed\\x12om\\xdf\\xc4\\xb5\\xaa\\x95\\xa4\\xd5\\xcaQ\\x95H{\\xabTc\\xdeC\\xe4\\xa2\\xc7\\xe5\\xaa\\xef\\xfe*\\x93M\\xb6\\x9a\\x14i$\\xda\\xcbS^B\\x93B\\xb1\\xc7#\\xaf\\xfb\\xf5\\r\\xfc/a\\x0c~]\\xc6\\xed\\xff\\x00z\\xb4^\\xf4lc\\x0bF~\\xf1Q\\xc5\\xe2\\'\\xefS\\xfd\\xda\\x8d\\xef&x|\\xbf/\\xad[\\xb3w\\x86\\xe5c\\x925\\x91*w\\xb7H]\\xa4\\x8e=\\xa8\\xdf\\xc3\\xd6\\x86\\x94n\\'\\x0b\\xca\\xf7)Io4~\\\\\\x83c?\\xf0\\xabqP\\xdf\\xa7\\x99\\xb6A\\x1e\\xd6\\xfe&Y*\\xe5\\xcf\\xef\\xa6\\xcc{\\x99\\xaa\\x9a\\xfc\\xfb\\xa2\\x93\\xef\\x7fu\\xe3\\xa9Z\\xc6\\xc5\\xc7\\xdc\\xd8\\xaf5\\x9c\\x8f\\x0b\\\\E#\\xaf\\xc9\\xb5W\\x7f\\x0fY\\x9eL\\xd6\\xd7\\x9f\\xbc\\x8e\\xb6\\x1b\\xceD\\xf2\\xce\\xd6Z\\xaf2l\\xfd\\xec\\x91\\xab|\\xb5kC>D\\xb6+l\\xfb\\xdeg\\xdd\\xfe\\x1ae\\xe5\\xb1HV_1\\x17u8\\xa2<9\\x90\\xfc\\xab\\xff\\x00M*xl\\xed\\xaf\\x13\\xfd\"\\xe5\\xd5\\x7f\\x86\\x87f8;I\\xae\\xe5\\x04\\xb7\\x99\\xd1\\xa3\\xf3\\x17\\xfd\\x9a\\x8d!\\x8d?\\xd6\\xc6\\x9b\\xc3\\x7f\\xcfJ\\xbf\\x0c\\xce\\x9a\\x87\\xd9\\xed\\xbem\\x9fy^\\xa1x~\\xd9\\xa94\\x92G\\xb5\\x7f\\x86\\xa7\\x9b\\xde\\xb7r\\xdcW+KK\\x14/\\xec\\xd3\\x7f\\x99qo\\xb5Y~V\\xf3*\\xbb\\xdbe#\\xfb=\\xbb\\xfc\\xbfy\\x92\\xaf\\xeb1\\xba?\\xd9\\xe4\\xfb\\x88\\x95^\\x1b\\x94\\x89\\x1aH\\xe3\\xda\\xcd\\xf2\\xed\\xa7O\\xdeVD5\\xcb=w+^Cr\\xe9\\x1cq\\xef`[\\xf1\\xa5}\\x1f\\xec\\xbbc\\xf373U\\x89\\xbewX\\xe3\\xb2\\xff\\x00y\\xaa\\'\\x9aG\\x9b\\xfdf\\xdf\\x9f\\xe5\\xa1\\xb7\\xe89S\\xf7\\xca\\x89\\xa6\\xbd\\xb5\\xd4\\x9f\\xbd\\xff\\x00\\xbe\\xaa=K\\xe7\\xdb\\x1e\\xc4\\xc0\\xf9Y\\xbc\\xba\\xb9s\\r\\xcd\\xb5\\xcbI$\\x8f\\xb5\\xfe\\xedE\\x97\\x87\\x7f\\x99\\x1b0\\x7f\\xe1\\xebK\\x99\\xbd\\x8d\\x16\\x9e\\xa4(\\x9b\\xff\\x00w\\x14\\x9bR\\xa0\\x9a\\xd2o\\x9aI%vQ\\xf2\\xd5\\x87\\x9d\\xd2\\x16\\xc7\\xca\\xbf\\xc3\\xfb\\xbaWy\\xa7\\xb6Y<\\xbd\\xc8>\\xf5]\\xb9\\t\\xe7s\\xdc\\xce\\x9a\\xce\\x18\\x7fy${\\xbeO\\x96\\xab\\xa4\\x16\\xdb\\x1aK\\x896\\xb1\\xfe\\xedh:$\\xd1/\\x97\\x1f\\'\\xf8\\xaa\\xac\\xd6\\xd0\\xa3\\xb4R\\x17\\xff\\x00z\\x88\\xc6\\xe5>e\\xd0\\xfbB\\xcb[\\x86O2\\xdeI\\x19K\\xaf\\xcb\\xe9Q\";\\xc2\\xdf\\xbc\\xfb\\xed\\xf7_\\xa5Z\\x86\\xc2\\xcb|r|\\xbf\\'\\xfc\\xb4\\xa2\\xfe\\xfd\\x12O\\xb3\\xc7o\\xf2\\xb2~\\xee\\xbc\\xbfq\\xe8\\xb74q\\xe5Wb\\xdb[YE\\x0f\\x99&\\xc6\\xdb\\xf7\\x96\\xb1\\xf5(\\x7f\\xb4\\xa6\\x92\\xe2\\xde\\xcfk\\xff\\x00\\x0e\\xce\\x95\\xa52Cr\\x91\\xfd\\xa2\\xdd\\xe3v\\xfb\\xac\\xb4y?f\\xdd\\xf6x\\xdbi\\xfb\\xadD]\\x9bz\\xe8T\\xe0\\xa4G\\xa5\\\\\\xa5\\x82,rG\\xb9\\xc7\\xfa\\xc5zr=\\xb6\\xf6\\xfbE\\xbbH\\xdf\\xf2\\xcfeG2[B\\x9fh\\xf37L\\xdf+/jI\\xa1\\xf3\\x9dc\\x8ftl\\xa9\\xf2\\xed\\xad$\\xb7\\xee\\xc2\\xef\\x95\"\\xd5\\xb6\\x9e\\x970\\xac\\x96\\xf1\\xf9{\\xdb\\xf7\\x8a\\xd2r\\x94M\\xa9[9[y.\\x1dU?\\xbf\\x1d&\\x9b\\xfe\\x8c\\x8d\\xf6\\xcb\\xcd\\xbb\\xff\\x00\\x8a\\xa9\\xbb\\xbc\\xd7-\\x1f\\x98\\x8d\\xb9\\xaa\\x1c/6\\x9a\\xb2Fj\\\\\\xbd\\x0b\\x17\\x8f\\xb1\\xfc\\xb96\\xcc?\\x85\\xaa\\xa3\\xd9\\xbc\\xd0\\xb5\\xc4\\x92\"\\xaa|\\xab\\x1dY\\x99\\xe4t\\x8e\\xdf\\xcbF\\xd8\\x9f+Uki\\x92m\\xdedh\\xbb\\x1f\\xe5ZP\\xf6\\x8fb\\xee\\xa1\\x16\\xadf\\xca\\xf6p\\x87\\x85\\xad\\xe3\\x8e%*\\xdf\\xbcj\\xae\\xf6\\x13;\\xff\\x00\\xa3\\xc7\\xb9W\\xef2V\\xcd\\xb5\\xb2Mx\\xb6Q\\xdb\\xae\\xd5M\\xad\\xfe\\xddOm\\r\\xb5\\x85\\xcc\\x91\\xdci\\xed\\xbd\\x17\\xe6\\xfd\\xe5k\\xce\\xf9\\xb9z\\x83\\xa2\\xa5m\\x0c\\xabd\\xbc\\x1b\\xbc\\xcd\\xec\\xdf\\xc2\\xc9\\xd6\\x89Y\\xe3\\x85\\xad\\xfc\\xc7VV\\xfe*\\xb3\\r\\xb3\\xa5\\xcb\\x0f.U\\x1fyY\\x7f\\x82\\x96haH\\x16K\\x89\\x1fx\\xad\\x1d\\x9fC7\\t\\xbd/\\xa1\\x99\\x0eR\\xf3\\xf7\\x92|\\x83\\xefU\\x9b\\x9f%\\'k\\x84\\x93j\\xb7\\xdd\\xa2{\\x9bi\\xaf\\x16O\\xbb\\xbf\\xe5\\xa6?\\x92.~\\xcfyq\\xb5\\x07\\xfa\\xb6\\xa8\\x9e\\x92\\xbbL\\xaeV\\xe3d\\xca\\xff\\x00\\xdb\\x170\\xcc\\xa3\\xe4\\x91\\x17\\xee\\xef\\xebU\\xe6k\\x9dJ\\xe7\\xed2G\\xc4\\x7f\\xc3\\xe6T\\xa8\\xf0\\xfd\\xa7\\xcb\\x926e\\xfe\\xf3\\xd4\\xa8\\x9b\\'[\\x88\\xfed\\xfe*\\xb84\\xbd\\xe6\\x85(\\xa7\\xee\\xa2m*K;i\\xbf\\xe2c\\x1c\\xac\\x8e\\x9f2\\xc5\\xd7\\xfd\\x9ae\\xfc%?w\\x1f\\xdc\\xdf\\xb9Y\\xa9\\xb7;\\xb7\\xac\\x96\\xf1:\\xee\\xfe$\\xa4K\\x99\\xbc\\x95\\xb7\\x93\\x7f\\xdf\\xfb\\xadW\\xefs\\xa9\\x19\\xf2G\\x93\\x94m\\xb5\\xcaB\\x8d\\xe5\\xed_\\xee\\xec\\xebU]\\xde\\x19\\x96I7\\xee\\xfb\\xcb\\xe9S\\xcd\\x0b\\xf9\\xcd\\xe5\\xc6\\xad\\xfe\\xcfz\\xa5\\xa9\\\\\\xcc\\xfbm\\xe3\\xb7\\xdb\\xfd\\xd6\\xa2\\xfc\\xf2\\xb9\\x11\\x8b\\x85\\xfaX}\\xe2l\\x87\\xed\\x12I\\xcb\\xfc\\xcc\\xadT!\\xd9\"7\\xefQC\\'\\xcbV\\xad\\xad\\xaenah\\xef>l}\\xd5\\xa7[X[?\\xfa\\xc8\\xf6\\xff\\x00\\x17\\xcfK\\x99F<\\xbdMa\\x0ey\\\\\\xca\\xf9\\x13\\xfd\\xa5\\xff\\x00j\\xa6\\x9a\\xc2\\x1d\\x91\\xc9o\\x1f\\xca\\x7f\\x86\\xad^Z\\xef\\xb9_\\xb3\\xc6\\xbf/\\xf0\\xad\\'\\xd9\\xa6\\xb5\\xbc_/\\x7f\\xf7\\x95{Q\\x19\\xc9\\xd9u)RJ6)C\\x0cp\\xdc\\xb5\\xbc\\x91\\xfc\\xcf\\xf2\\xd6\\x8d\\xad\\xbf\\xd8&Y-\\xee>\\x7f\\xe2\\xd9Nx^\\xf3\\xfd\"H\\xfc\\xbd\\xad\\xf35N\\x88\\x88\\xeb\\xe5\\xc7\\x14\\x8d\\xb3kI\\xdd\\xea\\xd4\\xdd\\xac\\x8c\\x9d+IK\\xa3\"\\xb9\\xd5na\\xf3#\\x8d\\x1b\\xca\\x93\\xfdb\\xd4(>E\\xf2\\xe4\\xdc\\x8d\\xf3*\\xb5Z\\xbc\\xcd\\xb4-m%\\x9f\\xcc\\xdf\\xc4\\xb2SaXRh\\xc5\\xcc\\x8d\\x1e\\x13\\xf0\\xa9\\x8e\\x97\\xd3p\\xd6$\\xb6W\\xe9m\\xe5\\xc7%\\x9aq\\xfe\\xde*\\x9d\\xcd\\xcb\\xefaog,l~\\xf6\\xc7\\xab\\x97\\x8e\\x90\\xa7\\xda<\\xb8\\xa6V\\xf9W\\x7f\\xfe\\x85U\\xb7\\x97E2[\\xb2\\xee\\xfe$\\xa9i\\xf36\\xb4\\xb04\\xe5\\xb9VI\\xaf\\xdfm\\x9f\\xdb6\\xa2\\xff\\x00\\x13\\xc7\\x93M\\xf2]!Y\\xfe\\xd1\\xf37\\xca\\xcb\\xb2\\xac\\xa43B\\xedqq\\xb9\\x98}\\xda\\x82k\\x9b\\xa9\\xed\\xbc\\xb8\\xfa\\xa3\\xfc\\xcc\\xf4\\xa6U(\\xd3\\x8c=\\xe7fW\\xd4a\\xfb\\x040\\xdey\\x91|\\xcf\\xf3-V\\x9bU\\xb3\\xbf\\x7f/\\xcbH\\xdd*\\xcb\\xdc\\xcd7\\xf0n\\xdb\\xfd\\xea\\x8a\\xda\\xc9\\x1ef\\xfbDh\\xbf\\'\\xdeZi\\xa5\\xad\\xb5\\x14\\xd5\\xfd\\x08nl6\\x7f\\xa4|\\xb9o\\xbbX\\xd7/2_\\xac\\x96qm\\x03\\xef-n\\\\[\\\\\\xa7\\xfa<\\x9b\\xf67\\xcc\\xb5E\\xde\\x1b7_2=\\xcdO\\x9a\\xf4\\xda\\xea\\xc7\\x1aw\\x9d\\xfa\\x0c\\xf9\\xef&\\xf3$\\xf9~_\\xbb]\\x17\\x86\\xf4\\xab\\x94\\xd2\\x9a\\xe2\\xce?\\x9f\\xfe\\xba\\x01\\xff\\x00\\xa1W;5\\xcb\\x99\\x9a;x\\xfeW\\xae\\x96\\xc2i \\xb6\\x86H\\xe2\\xdc\\x1d>e\\xe8j))\\x8e\\xbd\\xb9m\\xd0/.f\\xbc\\x85m\\xf5\\x1b\\x84S\\xfc-/Z\\xa5\\r\\xb2=\\xca\\x89-\\xfa\\x7fq\\xf1R\\xdf\\xdbM5\\xcf\\x9b\\xe6:\\xaa\\xb7\\xca\\xad\\xc8\\xa6\\xecy\\xa6\\xf3|\\xb4\\xda>\\xebt\\xae\\xb6\\x94i\\xe8r\\xd3OW\\xd5\\x8d\\xbcty\\xbc\\xbbx\\xe5\\xfe\\xeb7Z\\x86\\xe6\\xcd\\x12\\x15\\x8eI~\\xf7\\xf1w\\xab\\x10\\xbd\\xb5\\xaaI\\xfb\\xb6V\\xdfQ\\xdc\\xdc\\xc33\\xf9qH\\xcaO\\xf0\\xec\\xaco\\x13x\\xc1\\xcaz\\x8d\\xbc6\\xc9m\\xf6{x\\xd7+\\xfcOU\\xeeS\\xe4X\\xf1\\xc6\\xcf\\x9bmY\\x9a\\xe5\\x12\\x15\\x8aKum\\xbf\\xc4\\xc9\\xcd?\\xfb5\\xde\\xdb\\xcc\\x8e8\\xb0\\xd5\\x9d\\xe2j\\xe9\\xca;+\\x15\\xac!\\x87\\x7f\\x97q\\x1e\\xef\\xee\\xd3\\xef\\xe1\\xfb3\\xfd\\x9e;7]\\xdf7\\xc9\\xcdnXx\\x0b\\xc4\\x97\\x9aW\\xf6\\xa5\\xbe\\x8f+D\\x9fvN\\xd5\\x80\\xf3_\\xd9\\xeaMoyn\\xea\\xc3\\xee\\xabQ\\x06\\xa5+\\xc5\\xeb\\xd8\\xb9a\\xeaB\\n\\xf1v}H\\xdfO\\xfb\\x1c?h\\xb7\\x89\\xb1\\xfe\\xd75#\\xdc\\xbd\\xe2-\\xb4\\x9bcU\\xfe\\x1d\\x9c\\xd5\\xcb+;\\xab\\x9b\\x98\\xed\\xe3\\xb3\\x96F\\x7f\\xba\\xb1d\\xd5\\x9dKD\\xbc\\xb0\\xfd\\xdd\\xc5\\x9d\\xc7\\xce\\xbf.\\xe8\\xf0h\\xe7\\x8c\\xbe&8\\xe1\\xea\\xf2\\xb6\\x96\\x87?x\\x9b&X\\xfe]\\xad\\xf7\\xaa\\xcc6\\xdb\\x11\\xa4\\x8eDQ\\xb3\\xee\\xf4\\xab\\xdan\\x83\\xad\\xf8\\x9fU\\xb7\\xd1\\xf4{\\tf\\x9eWUUH\\x1a\\xbd3X\\xfd\\x90\\xbe1\\xe9>\\x1e\\xfe\\xd8\\xb8\\xd0\\xd1\\x86\\xdd\\xed\\x1a\\xf2v\\xd6n\\xa55nc\\xa6\\x86_\\x8c\\xad\\xfc\\x186y\\x1d\\xfe\\x94\\x90\\xc3\\x1c\\x82\\xe6)\\x1d\\xbe\\xea\\xa5E\\xfd\\x9a\\xe9\\xfe\\x91$\\x9bT\\xfd\\xe8\\xeb{\\xfe\\x10?\\x13\\xa5\\xcbG\\xfd\\x97.\\xe8\\xbe\\xf7\\xee\\x0f\\xf8WA\\xe1\\xbf\\x80\\xff\\x00\\x13\\xbcUf\\xd7\\x1a_\\x84\\xe5\\x99\\x7f\\x86G\\xdc)Bim\\xa9_Q\\xaf)YA\\xf3z\\x1eys\\xe4\\xbb\\xff\\x00\\xa3\\xc8\\xeb\\xb7\\xefR\\xda\\xdbl\\x7f\\xb4\\\\H\\xdb?\\x85k\\xb7\\x1f\\xb3\\xef\\xc4T\\xbfm>\\xf3\\xc1\\xf7\\x8a\\xeb\\xf7\\xb6\\xc6j\\xfe\\x9b\\xfb7\\xfcW\\xd4\\x9f\\xfb>\\xdf\\xc0z\\x8bno\\x95\\x96>+IU\\x8f R\\xca\\xf1\\xbe\\xd3\\xe0\\x7fq\\xc0C\\xf64y$\\x8e?\\x9b\\xfb\\xaf\\x1f\\x15\\x9f=\\xce\\xf2\\xd6q\\xdb\\xaa\\xaa\\xd7\\xb7\\xd9\\xfe\\xc5?\\x1b\\x1fm\\xc4\\x9e\\x1b\\x960\\xdf\\xf3\\xd6\\x9c?bO\\x8cir\\xd1\\xc7\\xa1\\xee\\xdc\\x9f*\\xf7\\xa9\\x8c\\xe8\\xf3]\\xb6\\xce\\x8f\\xecl\\xcb\\xa4\\x19\\xf3\\xf5\\xe7\\xef\\xa6X\\xe3\\xf9v\\xff\\x00\\xd3J\\x96xf0\\xacr[\\xb30Z\\xf7\\xa4\\xfd\\x80\\xfe4\\xde\\x7f\\xa4\\x7fe\\xc4\\xaf\\xfcQ\\xf5\\xa5\\x7f\\xd8o\\xe3e\\xa9o\\xb4h\\x91n\\xfe\\xea>\\x7f\\xa5o\\x1a\\xd0p3\\x96G\\x98t\\x83>|O\\xb2\"f\\xe27\\xdd\\xfd\\xda?\\xd2_\\xe4\\x8e=\\xb1\\x1f\\xe2\\xaf}\\xb3\\xfd\\x88~.\\xeaS5\\xbc\\x9e\\x1fxv\\xfd\\xe9:\\xd1\\xa9~\\xc1?\\x16\\xac\\xed\\x9aK{g\\x91\\xbf\\xdc\\xa4\\xea\\xd2\\x96\\xe1\\x0c\\x871Q\\xba\\xa6\\xcf\\x9f\\xe1T\\xfd\\xe7\\x99\"\\xa9\\xfe\\x1a\\x86\\xda\\xc3\\x7f\\x99$\\x7f\\xc3^\\xb3\\xaa\\xfe\\xc9\\xdf\\x13\\xb4{\\xc5\\xb3\\xd44\\xb7\\xf3O\\xca\\xaa\\xb1\\xd7\\xa3x\\x1b\\xfe\\t\\xf1\\xe3\\xadoGmcP\\xb7e\\x1b7mD\\xac\\xfe\\xb1O\\xb8S\\xc93\\n\\x93\\xe5\\xe4\\xd4\\xf9u\\xedf\\xff\\x00Xc\\x7f\\xee\\xf9\\x9d\\xaa\\x1f\\xb0<\\xcf\\xf6=C\\xf7o\\xf7\\xbe\\xe5{?\\xc6o\\xd9\\xb3\\xc4?\\x0cf\\xf3.-\\xdeH\\x8b\\xd6\\x1e\\x95\\xf0\\x07\\xe2\\x17\\x89\\xec\\xdbT\\xb3\\xd0\\xe5dTVV^\\xb4\\xe1\\x88\\xa5\\xcbk\\x8a\\xa6U\\x8c\\xa3W\\xd9\\xf2\\xeayU\\xce\\x96\\x96o\\xe6$\\x9d*O&\\xde\\x18Z\\xe2K}\\xd9\\xfb\\xbb?\\x82\\xba?\\x13\\xf8cU\\xd0u\\x0f\\xec\\xbdSO\\x967F\\xda\\xca\\xd5\\x97sm2B\\xc9\\xf7W\\xfb\\xb5\\xa2\\xa8\\xe5\\x14\\x99\\xc5W\\rR\\x95W\\x16\\xb5F\\x1c0y\\x08\\xd2G\\xf31\\xff\\x00o\\x9a|\\x93|\\x8do\\xf3\\xee\\xdf\\xf7\\xbc\\xca\\xb3m\\x05\\xe2\\x16\\x93\\xec\\xfb\\x91\\xbeVm\\x95\\x1d\\xff\\x00\\xc9\\xff\\x00.\\xea\\xbf\\xedV\\x8e7\\xb5\\x8c\\x9d)\"\\xbd\\xe5\\xb2%\\xb4\\x97\\x12~\\xf1\\xda\\xb2\\xbeGO\\xf5n\\xae\\xbf\\xc3[I#\\xcdj\\xb6\\xf1\\xc6\\xbf\\xedU\\x7f\\xec\\xa2\\x93I\\xe5\\xc6\\xeai\\xd3\\xfd\\xdbq{\\x91k\\xc6\\xe5(w\\xdc\\xee\\x8eIv\\xed\\xfb\\xb4\\xcf\\xec\\xd7\\x7f\\xde\\xfd\\xa2,+\\xfd\\xda\\x97\\xec\\xdeC\\xb7\\x99\\x1b\\xe5\\xaag\\xb3\\x9a\\x19\\xbc\\xcf-\\xd6&O\\x97u7\\xa4\\xaei\\xcb\\xef\\xb5%\\xafs.\\xfe\\x1b\\x97O\\xb3\\xf9\\x9f/\\xdeZ<\\x99\\x1e\\xd9m\\xd2>[\\xf8\\xabO\\xfb7\\xf7>\\\\\\x9f7\\xcf\\xf2\\xd3\\xed\\xb4y\\xbf\\xd5\\xc9\\xb7\\x9f\\xbbG\\xb4J-\\xbe\\x858\\xb9F\\xc9\\x1c\\xfd\\xe5\\x9e\\xc8V\\xcct\\xa8\\xf6^[\\'\\x97\\x1c\\x8f\\xb7\\xfb\\xad]\\r\\xfe\\x8f\\xfb\\xef.M\\x8d\\x8f\\xba\\xd4[xV\\xf2\\xfd\\xfc\\xbf\\xb1\\xb4\\x89\\xfe\\xcd\\n\\xa4\\x14\\x01Q\\x94\\xb4[\\x980\\xcaSo\\x99\\xf7\\x97\\xf8j+\\xd8|\\xed\\xd2\\x08\\xd3\\xfd\\x9a\\xdb\\xbc\\xf0\\xd4\\xd6\\xd7?g\\xb7G\\xdc\\x7f\\x86\\xba\\xef\\x0f~\\xce\\xbe<\\xf1&\\x94\\xd7\\x9a~\\x97,\\x8a\\xff\\x00w\\xe4\\xac\\xe54\\xa3\\x17\\xd0\\xde\\x8e\\n\\xb4\\xdf,U\\xd9\\xef\\xd3[L]\\xae$\\x8dT\\x17\\xdbV\\xd6\\x1b\\x0f\\xf5w\\x91\\xfc\\xc2/\\xdd\\xec\\xe9_X[\\x7f\\xc1.\\xfe(\\xde[,\\x9a\\x84\\x1bX\\xf0\\xb1\\xf6\\xad-?\\xfe\\t7\\xf1\\x16\\xeb\\xf7\\x92\\\\u\\xfe\\x16J\\xf2\\xeaTN7\\xb1\\xea\\xac\\x97\\x15\\x1d\\\\\\xa2\\x97\\xf8\\x97\\xf9\\x9f\\x19\\xeav\\x13\"\\xad\\xc5\\xbcn\\xc1~\\xedIa\\xa6\\xba\\x0f\\xf4\\xdd\\xea\\x1d7W\\xde\\x1aW\\xfc\\x12\\x03\\xc7/o\\x1c\\xf7z\\xa6\\x02\\xaf\\xcc\\xbe^\\x7f\\xa5\\\\\\xb6\\xff\\x00\\x82E\\xea\\xbb\\x1b\\xed\\x1a\\xc3\\xef\\xdb\\xb5~J\\xcf\\xeb\\n\\x11\\xb3LO*\\xbc\\xad\\xeda\\xff\\x00\\x81/\\xf3>\\x01\\xd4\\xb4O\\xf4o\\xde}\\xdf\\xef/5%\\x86\\x93\\nL\\xb6\\xff\\x00:\\xae\\xcf\\x9a\\xbf@\\xec?\\xe0\\x8d\\xd7\\x13:\\xdc\\\\x\\x86}\\x9f\\xc5\\x1e\\xca\\xd2\\xb0\\xff\\x00\\x82?\\xd9\\xbb\\xb7\\x99\\xad\\xdc|\\xbf\\xee\\xff\\x00\\x85R\\xafh\\xf9\\x14\\xf2\\xca.\\xfc\\xd5\\xa1\\xa7\\xf7\\x8f\\xce\\x8b\\x9d=\\x13w\\x9f\\x1e\\xe1\\xf3m\\xa8\\xcd\\xb7\\xd9\\xa1X\\xe4\\x8d\\x19\\x0f\\xf1w\\xaf\\xd2\\x18?\\xe0\\x8d\\xf6W\\xb3,sx\\x86wE\\xfe\\xf2.\\x7f\\x95a\\xfcQ\\xff\\x00\\x82S&\\x89l\\xb6~\\x17\\xb3\\xdc\\xe8\\x9fy\\xebjm\\xd7\\xbf\\x91\\x9a\\xcb(\\xcav\\xa7Z\\x12}\\xae~wM\\r\\xcc0\\xb7\\xd8\\xe3V.\\xff\\x00\\xbbW\\xa1\\xf4\\xc7\\xde\\xb7\\x17\\x16\\xfb\\x9d\\x7f\\x86\\xbe\\x9e\\xbf\\xfd\\x81\\xbe\"\\xe9^(\\x8f\\xc3\\xfa\\x86\\x85\\xba9\\xa5\\xf9dX\\xfe\\xe5z_\\x88?\\xe0\\x99\\x1a\\x8d\\x8f\\x85\\x97Px%W\\xf23$\\x8dW\\x19Zv[\\x96\\xb2\\\\_/\\xbfd\\xba\\x7f\\xc0\\xee|7f\\x88\\x9b\\xa4\\x92\\xdd\\x94+\\xfc\\xdb:\\xd3\\x9f}\\xd4-son\\xec\\xcd\\xf2\\xeej\\xee\\xbe$|1O\\x00k\\x13h\\xf2G,\\xca%\\xda\\xd5\\xf4O\\xec\\xa9\\xfb\\x0b\\xda\\xfcD\\xf0T\\xbe/\\xd6`o-\\xd3t\\n\\xd4\\x9b\\xe4\\x95\\x9a\\xb3}w3\\xa3\\x97T\\xaf7\\x1e\\xdb\\xf4\\xb1\\xf1\\xc3\\xc3\\x7ff\\x9ee\\xc4\\x8e\\xac\\xcb\\xb5\\xa3\\xedK\\xf6\\x0b\\xcb\\xf7\\xf2\\xe3\\xdf&\\xef\\xee\\xc7\\x9a\\xf7O\\xda[\\xe0\\x9d\\xa7\\xc3}a\\xad\\xed\\xed\\xfc\\xb2\\x8f\\xb5c\\xafq\\xff\\x00\\x82i~\\xc9\\xde\\x1d\\xf8\\xd5g\\x7f\\xab\\xeb\\xb6\\xe93E&\\xd5\\xde\\x9cT\\xce\\xab\\xa2\\x93kW\\xd8q\\xca\\xff\\x00{(\\xd4j1\\x8a\\xbbg\\xc2w:<\\xd6\\x1bd\\x8eU\\xca>\\xe5VJ\\xaf3\\xb5\\xfb\\xf9w\\x11.\\x7f\\xeb\\x9d~\\x8d~\\xda\\xbf\\xb0\\x05\\x9f\\x86,\\x1bT\\xf0\\x9f\\x86\\xfc\\xc9\\x17\\xf8\\xad\\xe3\\xe6\\xbe`\\xf0\\x1f\\xecc\\xf1\\x83\\xc7>*\\x87HO\\x06K\\nK.\\xd9&\\x950\\x11iK\\x12\\xa3+Kr\\xff\\x00\\xb1j\\xd4\\x8a\\x9e\\x1b\\xdf\\x8b\\xd9\\xf4<Q,\\xfc\\xe7X\\xed\\xe3VeO\\x97\\xe4\\xaa\\xaf`\\x90\\xbf\\x97\\x1ch\\xcd\\xff\\x00-+\\xef\\xads\\xfe\\tW\\xe2\\r\\x0fC\\x8c\\xe96fI\\xda-\\xcd&6\\xfc\\xd5\\xc2\\xe8?\\xf0K_\\x89\\xb7\\x9e!\\x87\\xfbR\\xe2\\xde\\x18\\x8c\\xab\\xf2\\xa6O\\xcb\\xf9P\\xab\\xc6\\x9cn\\xcbY\\x1e&\\xa6\\xb1\\x94_\\xfd\\xbc\\xb4\\xfcO\\x91\\xdfD\\xd4\\x9e\\xcd\\xae-\\xf4\\xb9Y\\x07\\xf1*\\x1cT\\x16v\\x0f23\\xc9\\x1by\\x9f\\xdd\\xf2\\xf3_\\xb3_\\x0e\\x7f\\xe0\\x9c\\x9f\\x0f\\xb4\\x8f\\x05\\xda\\xe9Wz5\\xbc\\x84D\\xbek<c5\\xcd\\xeb\\xdf\\xf0L\\x7f\\x81\\xbf\\xda\\xd2O&\\x87\\x12\\xb3|\\xbf#\\xe2\\x93\\xc5\\xca\\x10S\\x92i38\\xe02\\x99\\xcf\\x928\\x95\\xcc\\xb7\\xd1\\x9f\\x94\\x1a\\x0f\\xc2\\xbf\\x16\\xf8\\xc3\\xcc\\x93\\xc2\\xfa\\x1c\\xb7\\xcc\\xbf{\\xca\\x8e\\xa9k\\x7f\\x0b\\xbcG\\xa3\\xbf\\x97\\xe2\\r\\x12[Y\\xe2\\xfb\\xaa\\xf9\\x15\\xfb\\x99\\xf0S\\xf6.\\xf8;\\xe0/\\x0b\\x8d?H\\xf0\\xed\\xaa\\xef\\xfb\\xec#\\xc9\\xac/\\x8a\\xdf\\xb2\\x17\\xc0\\xedKRW\\xd6|/e#}\\xe5\\xf3c\\x15+\\x15_\\x93\\xda%\\xee\\xf7\\xff\\x00\\x80*t\\xf2\\x19\\xd5t#99\\xf7\\xb6\\x8c\\xfcN\\xf0\\xf7\\xc3\\x7f\\x15k\\xd7\\xabg\\xe1\\xfd\\x1e\\xe2\\xeaW\\xff\\x00\\x96q\\'5\\xd2\\xcd\\xfb.\\xfcp\\x84\\xfe\\xf7\\xe1\\xde\\xa5\\xf3}\\xd6H\\t\\x1f\\x9d~\\xcc\\xfc\\x16\\xfd\\x92~\\n\\xe8\\xb72j\\x1a/\\x84\\xeccn\\xed\\x15\\xba\\xe6\\xbb\\x7f\\x16|9\\xf8m\\xe1-7\\xce\\xbc\\xb3\\xb7T\\xdd\\xfcu\\x94\\xb1U\\xa5\\x1fh\\x96\\x9fqv\\xc8\\xe8\\xd7\\xfa\\xbc\\xb9\\xe7/%d~\\x1cx{\\xf6N\\xf8\\xcd\\xa9kp\\xe9\\t\\xf0\\xff\\x00RY&\\x7f\\xbc\\xf6\\x87\\x15\\xda\\xf8\\xab\\xfe\\t\\xe3\\xf1\\xc7\\xc3\\xfa;x\\x82-!\\xae\\x02\\xae\\xe9-\\xd2\\x02^\\xbf]\\xfc-\\xff\\x00\\n\\xae\\xe3^\\xb7M=-K\\xbf\\n\\xbcWw\\xe2\\xed\\x0b\\xc0\\xeb\\xa0\\xcf%\\xc5\\xa5\\xb8\\x01>cQK\\x17R\\xa2r\\x8bV]\\x19u\\xea\\xe5X*\\xb1\\xa5<<\\xdf7}?\\x0b\\x1f\\xcf\\x94?\\x07\\xfe$&\\xb7\\xfd\\x9fq\\xe0\\xfdJ=\\xad\\xb1\\x95\\xec_\\xef~U\\xe9z\\x0f\\xec\\x15\\xf1\\xd3^\\xd3\\x97[\\xd3\\xf4\\r\\xab\\xb3r\\xc5,\\x04\\x17\\xfd+\\xf5\\x8e-\\x1f\\xe1]\\xe6\\xba\\x92}\\x8e\\xcb\\xef\\xfd\\xed\\x82\\xbdf\\xdbB\\xf8|4u\\x9f\\xc9\\xb7\\x00\\'\\xa8\\xa1c]IZ)\"\\xf1T\\xb2\\xac\\x0f,\\xa7Jr\\xe6\\xf9[\\xf0?\\x05\\xfcO\\xfb7|N\\xf0\\xdc\\xcd\\x1f\\x89<\\x0f{\\x1b\\x07\\xdb\\xf2@H\\xfc\\xf1[_\\x0c\\x7fc\\xaf\\x89\\x1f\\x14\\xe1mCL\\xd3\\'\\xb7D\\xfe)P\\xd7\\xec/\\x8b|+\\xf0\\xa7Q\\x9ek{\\x8b{y\\x19\\xdb\\xf8\\xf0k\\xa9\\xf8O\\xe0\\xbf\\x86\\xd0\\xe8\\xcdoccj\\xb8\\xfb\\xc1PT<}Y\\xb5\\x08\\xbdP\\xeaQ\\xca0\\xf4=\\xbc\\xa9\\xcd\\xae\\xdf\\xf0\\x7f\\xe0\\x1f\\x86?\\x17~\\x00\\xf8\\xc3\\xe1\\x15\\xca\\xe9\\xde%\\xb7M\\x92\\xbf\\xee\\xd9\\xe3\\xc0\\xac\\xef\\x00|$\\xf1W\\x8f\\xf5Xt\\xbd\\x0fO\\xdd\\xfc27\\xf7+\\xf6\\xcf\\xe3\\x97\\xc0O\\x85\\x1e9\\xb9\\xfb\\x06\\xb9\\xe1\\xfb\\x0b\\x80\\xcb\\xbbl\\xb0\\x03\\\\\\x87\\xc2_\\xd8\\x9b\\xe0\\x97\\x86u\\xe6\\xd64\\xbf\\x0fAj\\xef\\xf2\\xfe\\xe4`V\\x92\\xc7T\\x8ai\\xea\\xdf\\xf5\\xdcQ\\xc1\\xe4\\xd5\"\\xb1*R\\x8cz\\xc5\\xab\\xb3\\xf2\\x8f\\xe2W\\xec\\xa3\\xe3o\\x87\\xba#k\\x17\\x9el\\xc1~f\\xdb\\x1dy\\x15\\xb6\\x9byss\\xfd\\x9f\\x1co\\xe7L\\xdbUU9\\xaf\\xdeo\\x8c\\xbf\\xb2\\xef\\xc3}o\\xc2\\xf2i\\xf7\\xfa|SE*\\xedez\\xf9b\\xcf\\xfe\\tu\\xf0\\x95>!\\xdak\\xda[\\xdc@\\x91\\\\o\\xf2ZrW\\xff\\x00\\x1e\\xcd5\\x8d\\x9d8\\xde{\\x9a\\xac\\xb7)\\xcc\\xa0\\xaaag\\xcb\\x15\\xbf6\\x87\\xc1\\x13~\\xc9~?\\xb6\\xf0\\x7f\\xfc$\\xb2[\\xba\\xef\\x8b{F\\xc9\\xcdy]\\xce\\x95sg4\\x96w\\x1b\\xd6T}\\xbbk\\xf7k\\xc4\\x9f\\xb2\\x97\\x85\\xee\\xbc\\x17&\\x98\\x116\\x1b]\\x8aBW\\xc4>?\\xff\\x00\\x82X\\rK\\xc5\\xb7\\x1a\\xe6\\x8f\\xe2\\xd6\\x8d\\x1e\\xe3z\\xc3\\xe4q\\xf7\\xaa\\xe9c\\xa4\\xd5\\xe7\\xa1o&\\xcb\\xf1\\xb4\\xff\\x00\\xd8\\xa5v\\xb7\\xbe\\x87\\xc6\\xde\\x1b\\xfd\\x9c\\xbe-|B\\xd2\\xbf\\xb4\\xfc?\\xa1\\xeeD]\\xdf<\\x98\\xf9\\x7f*\\xe1\\xbcm\\xf0\\xf7\\xc4\\x9e\\t\\xd4\\xbf\\xb3\\xfcI\\xa7\\xb43+\\xfc\\xcb\\xd4W\\xec\\xa7\\xec\\xfd\\xfb\\x1e\\'\\x86\\xfc\"\\xbae\\xe4\\xf1H\\xca\\x9bY\\xbc\\xbcW\\x97~\\xd3\\xbf\\xf0N_\\x0c|E\\xd6\\xe3\\xb8\\x93T\\x96\\xceT\\x7f\\xf9e\\x8f\\xf0\\xad!\\x8dn6\\xe8k,\\x83\\x05R\\x0e\\x8d*\\x8b\\xda\\xad\\xd5\\xcf\\xcd\\x8f\\x84_\\x07\\xbcC\\xf1k\\xc4+\\xa3\\xf8z\\xcf\\xe7\\xfe)\\x1f\\xa2W\\xa8\\xfcE\\xfd\\x8c>!|=\\xb6\\x87P\\xbc\\x96\\t!\\xd9\\xb9\\xb6g\\xe4\\xaf\\xb7\\x7fe\\x8f\\xd8?\\xc3?\\t\\xfc@\\xd7\\r\\xaa4\\x9b\\xbe\\xf7\\x9b\\x8c\\xd7\\xba\\xfc_\\xfd\\x9c\\xfc\\x1f\\xe2/\\x0b\\xb5\\x9d\\xe5\\xbe\\xe8\\xddv\\x96J\\xc7\\xebU9\\xad\\x1d\\x8di\\xe4ym\\x08*X\\x97\\xfb\\xc9}\\xc7\\xe3\\x0f\\xf6\\x0b\\xff\\x00m\\xdb\\xe9\\xf1\\\\:\\xb3\\xca\\xa8\\xd1\\xb2d}\\xea\\xfa\\xdb\\xc0\\x1f\\xb0\\xef\\x81\\xbcc\\xe05\\x92_\\x0f<\\x8f%\\xbe\\xef\\xb4w\\xdd_Gxs\\xf6%\\xf8\\x1f\\xa3\\x05\\x94\\xf8n\\xdd\\xdd_v\\xe9S\\'u}\\x01\\xf0\\xcf\\xc0\\xde\\x0e\\xd34\\x15\\xd3-, U\\x8d~@\\x94V\\xc6{IEE\\x97\\x86\\xc9\\xb0\\xd9L%R\\xbf\\xbf~\\x89\\x1f\\x8e\\x7f\\x15?e\\xdf\\x15xK\\xc5M\\xe1\\xfd/\\xc2\\xf7\\xf3E\\xb9\\xbc\\xb9\\xa2\\x8c\\x9f\\xe9^\\xdf\\xfb\\x0e~\\xc3\\x97\\xde8\\xb9\\xba\\xd6<s\\xe1\\t\\x19a}\\xb0\\xad\\xdc\\x15\\xf7G\\xc4\\xbd+\\xc1\\x96\\x1a\\xc3>\\xa1\\x1d\\xaa\\xaf\\xf0\\xb3\\xe2\\x93\\xe1\\xa7\\xc4\\xdf\\t\\xf8gZ\\x87N\\xb2\\xbc\\x81D\\x8f\\xfe\\xadqYb1\\x12\\x9c9Sh\\xee\\xa3\\x92\\xe1i\\xdf\\x15Is6\\xae\\xa2\\xcf\\x95\\x7fj\\x7f\\xf8&u\\xc5\\xc6\\x9a\\xba\\x87\\x80\\xf4{xe?\\xf2\\xcd\\x93\\x03\\xf9W\\x8e\\xf8K\\xfe\\t\\x89\\xf1^\\xf2\\xe6\\xd7\\xfbST\\xb5\\x86!*\\xb4\\xd1\\xa2\\x126\\xd7\\xea\\x97\\xc5\\xcf\\x12\\xf8{S\\xf0\\xe9\\x9e9\\x15|\\xb4\\xdc\\xc7\\x15\\xf3V\\xb3\\xfbY\\xfc3\\xf0\\xe5\\xe3i\\xd7\\x1a\\xc4[\\xe1m\\xac\\xbb\\xe9R\\xc5\\xd4\\xa7\\x1b\\'vV\\x1f\\t\\x84\\xcc`\\xab\\xe2i(I|\\x8e\\x8f\\xe1\\xd7\\xec\\x13\\xe1x\\xbc\\x07\\x06\\x95\\xa9iqN\\x05\\xbe\\xd9\\x1fexG\\xc5\\x1f\\xf8&\\x0f\\xc3k\\xcf\\x12\\xdd\\\\[\\xcb:\\xa1~#Y1\\xb2\\xbe\\xc1\\xf81\\xfbEh\\x9e.\\xf0\\x8f\\xdb\\xbc?r\\xb3D\\xc9\\xf5\\xaf\\x0c\\xfd\\xaa\\xff\\x00i7\\xf8]\\xaa\\xfd\\xb2\\xe2\\xcf\\xe4\\x97\\xef5D*\\xca*\\xebs\\xa2\\x85*\\x93\\xab8ba\\x1ff\\xb6f\\x7f\\xec\\xf3\\xff\\x00\\x04\\xf3\\xf8o\\xe1H>\\xcfgm\\xf6\\xab\\x99\\x17\\x96\\xb8\\xc15\\xb9\\xf1S\\xfe\\t\\xfb\\xf0\\xb9.!\\xbc\\xd6\\xf45W\\x0f\\xfc=+\\x1f\\xf6>\\xfd\\xb84\\x9f\\x88\\xff\\x00\\x14\"\\xf0\\xa4q\\xacr\\xbc[\\xa2\\xaf\\xa6?i=^\\xfe\\xdf\\xe1\\x85\\xe7\\x88,\\xed\\xfc\\xc9\\xa1\\x85\\x9e=\\xbf\\xee\\xd4\\xbcT\\x93\\xb3\\xd1\\x99\\xd5\\xab\\x1aX\\xdat\\xe9\\xc2>\\xca^G\\xcf^\\x01\\xfd\\x91\\xbe\\x0e\\xf8w\\xc4\\x10^\\xdbx~\\r\\xe8\\xff\\x00+l\\x15\\xf4\\xcd\\xb7\\xec\\xe5\\xe1\\x1b\\x8f\\tIwoc\\x04\\x85\\xe0\\xff\\x00U\\xe5\\x83_\\x98\\xf7?\\xb7?\\xc5\\x1b\\x0f\\x16\\xf9Z~\\x8fu \\x82\\xeb\\xf7\\x91\\xacd\\xfd\\xda\\xfd!\\xfd\\x98~8\\x8f\\x89_\\x0cl\\xf5)\\x12H\\x9e{u\\xde\\xae\\x98\\xa9ug\\x06\\x9c\\xd5\\xd7C\\x1c\\xda\\xa6!P\\xe6\\xc0\\xcb\\x97\\x91\\xfb\\xc9#\\xc4<[\\xf0\\x8b\\xe1\\xbe\\x8f\\xad\\xc8\\x9a\\x8e\\x87j\\xaf\\xbb\\xe6_ We\\xf0\\xdb\\xe1\\x97\\xc3\\x8duDV\\xd6V\\xf1\\xa2\\xaf\\xdd\\x89\\x05x\\xa7\\xed\\xf7\\xe1\\xbf\\x8d\\xf1x\\xc1uO\\x87Q\\xca\\xf1;\\xfe\\xf1j\\x0f\\xd8\\x06\\xef\\xe3\\xa9\\xf1\\x8d\\xee\\x95\\xf1\\x1fO\\x95atV\\x81\\x8b\\xe6\\x93\\xa9UC\\x9a\\xee\\xc7\\xaf*\\xeeXt\\x96\\x92q\\xbf5\\x8fj\\xf8\\x9d\\xf0\\xaf\\xc0\\xde\\x15\\x99u\\t,\\xed\\xe3\\x8b\\xf8\\xa4\\xf2\\xc5gx\\x17\\xfe\\x15\\xbe\\xab\\xadC\\xa4[Kj\\x8e\\xed\\xb7n\\x06k\\xaf\\xfd\\xae\\xfe\\x18x\\x97\\xc5\\x9f\\x07\\xae\\xad\\xbc9\\xba;\\xc5\\x8b\\xf7{?\\xbd_\\x0c|4\\xf8\\x15\\xfbO\\xe8\\xfe9\\xb1\\xf1\\x05\\xc6\\xb1\\xb7\\xec\\x97J\\xed\\x1f\\x98Hu\\xaa\\xe6\\x9dx9&\\xf41\\xc2c%W\\r\\x19As=Sj\\xday\\x9f\\xa5\\xb7?\\xb3\\xbf\\x85o\\xbc\"\\xd7\\xba}\\xbao\\x11gu|\\xb9\\xf1\\x17\\xe2\\x07\\x83>\\x1dx\\x9em\\x0fX\\xf2\\xa1x\\x9fo\\xcd_^|\\x13\\xf1\\x06\\xa7\\xa9x\\x16+-`~\\xf4\\xc1\\xb5\\xff\\x00*\\xf9\\x1b\\xf6\\xda\\xfd\\x8em\\xbe)x\\xcd\\xb5[mv\\xea\\xcd\\xc3\\xee\\xff\\x00G|T\\xc3\\x9amin\\xfa\\x9efO\\x8d\\xc7G\\x1b\\x88\\xc2\\xd7\\x9f3[_\\xd4\\xef\\xbe\\x13]\\xf8\\x0b\\xc6z$z\\xa6\\x9c\\x91L\\x92}\\xe6^k\\x85\\xfd\\xa2\\xbcO\\xe0\\xcf\\x85w\\x8b&\\xa1\\xb68\\xe5\\xfb\\xadW\\xff\\x00c\\xdf\\x827\\xbf\\x0bti<9q\\xaf\\xdc]n\\x7f\\xdd\\xfd\\xa3\\xadt_\\xb5\\xbf\\xec\\xb7\\xa6\\xfcY\\xf0\\xa4pj\\x91\\xbf\\xc9\\xff\\x00-\\x16\\xb4\\x8f\\xbb+\\x1e\\xd3\\xc4F\\x18\\x85Nr\\xb3\\x92\\xdb\\xa5\\xcec\\xf6x\\xf1\\xef\\xc3\\x8f\\x88\\xf3\\xacvW0\\\\:\\xb6$^3^\\xdf\\xf1\\x17\\xe1\\x07\\x86\\xa1\\xf0\\xb3j\\xbau\\x82\\x05X\\xb7|\\xb1\\xd7\\xcb?\\xb3\\xcf\\xec\\x97\\xa5|\\x16\\xf1|z\\xe6\\x8f\\xaa].\\xf6\\xfd\\xf2\\xb4\\xe4\\x87\\xff\\x00\\x80\\xd7\\xde~\\x18\\xd0\\xd3\\xc4\\x1e\\t\\xfb4\\x81e\\r\\x060\\x7f\\xdd\\xac\\x9d9{G\\x14\\xee\\x8f+9\\xc6\\xe2p\\x11\\xa3]\\xca\\xca\\xf6k\\xa3?6~%\\xfcH\\xf8u\\xa0\\xfcE\\x87G\\xd5$\\x89\\\\\\xcf\\xb1\\xb7\\x7f{u}s\\xf0[N\\xf0V\\xa5\\xe0X\\xdd-\\xa2e\\x92\\xdf\\xe5;+\\xcb~1\\xfe\\xca\\x1f\\x0e\\xaf<uq\\xaaj\\x9a4Kp\\xd2\\xfd\\xe7\\x8f\\x9a\\xf4\\xbf\\x83z^\\x87\\xa3i\\xd0\\xf8~\\x0b\\xc5T\\x89v\\xed\\xa9\\x85(7\\x15\\xcd\\xa9\\xebb[\\xad\\x86u`\\xec\\x9aM[\\x7f\\xc0\\xf8\\xc7\\xf6\\xf6\\x87G\\xd0u\\xbb\\x8d>M=vof\\x8d\\xb6Wg\\xfb\\x0c\\xf8c\\xc0\\xfe8\\xf0\\xa4W\\xb1\\xd9\\xc5 \\x916\\xc8\\xae\\x95\\xf4\\x17\\xed\\x03\\xf0\\x07\\xc2^+\\x91u}SN\\x8ae_\\xe2d\\xcds\\x1f\\x07\\xb4\\x7f\\x06\\xfc7\\xd5\\xd6\\xdbN\\x8e\\xde\\x14v\\xf9\\x95x\\xae\\x9a\\xd0\\x8a\\xa5nm\\x08\\xa7\\x15\\x88\\x92\\xafO\\xb7\\xce\\xe7\\xce_\\xf0P\\x7f\\xd8O\\xcf\\xb2o\\x18x\\x1f\\xc3\\xfb\\x9f\\xef2\\xc5\\x1d|}\\xf0\\xf7\\xf6T\\xf1\\xe7\\x88|O\\x1e\\x9f\\xacx^\\xea8\\xf7.\\xef\\xdd\\xf1_\\xbaz\\xb6\\x81\\xe1\\xaf\\x1dx=\\xa3\\x8cG!\\xf2\\xb7`\\xd7\\xcd\\x9e$\\xb6\\xf0\\x1f\\x80<H\\xd1\\xde[\\xc1\\tF\\xfe<\\n\\xde\\x18\\xaeJVz\\x9e\\\\p\\x98\\\\\\xe2M\\xce<\\xb3\\x8e\\xff\\x00\\xe6|\\xf3\\xa5\\x7f\\xc184\\xab\\xcf\\x87\\xadq\\x06\\x87\\xb6c\\x06\\xe5\\xf99\\xfb\\xb5\\xf2\\x07\\xc4\\xbf\\xd8\\xdb\\xe2N\\x89\\xe2\\xdb\\x8d\\x1e\\xcf\\xc2\\xd3\\xb4\\x02_\\x95\\x91+\\xf6\\x93\\xe1G\\x8e|\\x13\\xe2\\x9d5m,\\xe4\\x8aUe\\xdb\\xb9+\\x89\\xf8\\xfd\\xe1/\\x04xY\\xdbX\\xb8\\xb7\\x8bk\\xfc\\xdb\\xbc\\xba\\xba8\\xe9%{\\xb3i\\xe00x\\x86\\xf0\\xb3\\x85\\x9fG\\xdc\\xfc\\xcf\\xf8E\\xff\\x00\\x04\\xf1\\xd7\\xbcSa\\xff\\x00\\x13\\r\\x1eXf?\\xc4\\xc9\\x81U\\xbcy\\xff\\x00\\x04\\xd3\\xf8\\x9f\\xa2jM\\x1e\\x9ff\\xac\\x8d\\xf7z\\xff\\x00\\x85~\\x8a\\xfc%\\xf8\\xbf\\xf0\\xd4\\xea+\\xa5\\xad\\xd5\\xba7\\xf0\\xaf\\x15\\xeb~)\\xd1\\xbc+\\xe2\\x0f\\r\\xb6\\xa7g\\x04l\\xe1w|\\xb5O\\x1a\\xe57\\xa6\\xe6_\\xd8\\xf9}$\\xa1(\\xdd=.~V\\xfc%\\xff\\x00\\x82bx\\x87Y\\xbf[\\x8f\\x14Y\\xf9\\x80\\xff\\x00\\ng\\x15\\xd8\\xfcW\\xff\\x00\\x82S\\xea)\\xa5,\\x9e\\x1e\\xdd\\x1eS\\xee\\xec\\xcd}G\\xac\\xfe\\xd3>\\x0c\\xf8q\\xe2v\\xd1\\xf5\\x0f*\\x17G\\xdb\\xb5\\xb85\\xed\\x1e\\x00\\xf8\\x9b\\xe1o\\x88\\xfe\\x1fY\\xad\\x929U\\xd3\\xe55\\x8cq\\xb8\\x87%\\x1bh\\x8e\\xa9\\xe5\\x19~\\x1a6PR\\xfc\\xcf\\xcbo\\x06\\x7f\\xc13|\\\\uX\\xed\\xf5I7\"\\xb7\\xcc\\xaf\\x1d{T\\xdf\\xf0J=+U\\xf0\\xf6\\xfb{?.}\\xbf\\xc2\\x95\\xee\\x9f\\x1e\\xfe0Y\\xfc\\'\\xd7\\x9aI4\\xb6\\xd8\\xcd\\xf2\\xb2\\xc7]\\x1f\\xec\\xe1\\xfb[xc\\xc7\\xf7?\\xd9\\xbf\\xf2\\xd0|\\xad\\x1b\\xf5\\xa2x\\xaa\\xf0\\x95\\xeddZ\\xca\\xf0XxZ1M\\xf6\\xff\\x00\\x82|t\\xff\\x00\\xf0J\\xbbho\\x16=Sr\\x85\\xafQ\\xf0\\x1f\\xfc\\x13\\x1f\\xc1\\x83M\\xfb9\\xb3Ur\\xbbww\\xaf\\xad~8\\xc5r\\xfe\\x1e\\x93X\\xf0\\xdd\\x96\\xe7X\\xb7mZ\\xf0\\x1f\\x86?\\xb4o\\x8e\\xb4\\xdf\\x18\\x7fa\\xeb\\x9e\\x1b\\xb8X\\x95\\xb6\\xac\\x9d\\xab)b\\xf1\\x13\\xf86\\xeetP\\xc0`\\x1d\\x1fi\\x18%&x\\xe7\\x8e\\x7f\\xe0\\x95:\\x1d\\x86\\xab\\xfd\\xa8-\\xdfn\\xfd\\xcck\\xdb?g/\\xd9_\\xc1>\\x15\\xd3\\xd7K\\xb8\\xb6I\\x14\\x7f\\x0c\\xbc\\xd7\\xbe\\xf8\\x83Q\\xba\\xf1g\\x84\\x8d\\xe4\\x16\\x9f\\xbdh\\xbeU\\xaf\\x94|y\\xf1\\x17\\xe3g\\x80<Z\\xd1i~\\x1f\\x9eh\\xbc\\xdf\\xbc\\xbc\\nn\\xa6\"\\xbclkC\\t\\x87QsPJK\\xb6\\xa7\\xe9\\xaf\\xc6o\\x19\\xe9_\\x0fto\\xb6\\x1d9[\\x1f7\\xcb\\x1dp_\\x0b\\xbfix<s\\xafG\\xe1\\xfd?C\\x97n\\xfd\\xac\\xc58\\xafP\\xf1\\xdax\\'Z\\x8d\\xac\\xb5\\xfb\\x88\\xbe_\\xbc\\xacER\\xf8i\\xe0?\\x00i\\x935\\xff\\x00\\x87\\xac\\xe2\\xdc?\\x89q^\\x96\"\\x0e\\xbe20\\x83?(\\xc0\\xe22\\xda\\x19<\\x9e\"\\x8c\\xa5>\\x8f[_\\xa1\\xb7\\xe3\\xaf\\x15\\'\\x84<4\\xfa\\xaf\\xd97lM\\xdbV\\xbee\\xd6\\xff\\x00m}E5\\xc6\\xd3\\xed\\xfc5x\\xd8\\x97n\\xef!\\xab\\xea\\x0f\\x1b\\xea\\xfe\\x17\\xb2\\xd3d\\xb7\\xf1\\r\\xc4*\\x85>\\xebW\\x9ch\\xda_\\xc1\\xadgWXm`\\xb5w-\\xb9v\\xe35y\\xcc\"\\xaaF\\x92\\x92L\\xd3\\x87g\\x80\\xa5\\x87\\x9dLF\\x1eS\\xf3[X\\xec>\\x1bx\\xc2\\xef\\xc4\\xde\\x02Mv\\xe2\\xcd\\xa3\\x90\\xc7\\xbb\\xcbn\\xb5\\xe2\\xbf\\x10\\xff\\x00h\\x1f\\x89\\x1e\\x16\\xf1\\x0c\\xdav\\x97\\xe1If\\x8bw\\xfa\\xc4\\xaf\\xa1n\\xaet?\\x08h>l\\x81c\\xb7D\\xe9\\xd0W\\x95k\\xdf\\x18\\xbe\\x0f\\xcb|\\xd1\\\\\\\\Z\\xb4\\xbd\\x19x\\xae|]%G\\x0b\\x18\\xceZ\\x95\\x92N\\x95\\\\}Z\\xb1\\xc2:\\x90oE\\xd8\\xe8\\xff\\x00g\\xdf\\x1c\\xf8\\xb3\\xc7:\\x11\\xd4\\xfcE\\xa45\\xaf\\xf7U\\xfa\\xd5o\\x89\\xbe/\\xf1\\x06\\x85\\xe2\\x08\\xe2\\x8fBk\\x88]\\xbe\\xf2\\xd7a\\xe0-k@\\xbb\\xf0\\xcajZS*\\xc1\\xb7#oJ\\xf3\\x9f\\x8b\\x7f\\xb4\\x97\\xc3\\x7f\\r\\xdf\\xfd\\x8fU\\xbc\\x8bz\\x7f\\x7f\\xadu\\xc7\\x97\\x0f\\x95\\xa9sj\\xccp\\xf0\\x96+=\\xa9*Xm/\\xf0\\xeb\\xa7\\xcc\\xd3\\xd0\\xb4[\\x0f\\x15\\xeb\\x96\\xfa\\x85\\xce\\x8c\\xa8G-\\xb9+\\xb5\\xf1\\xbf\\x84\\xadu\\xbf\\n\\xcf\\xa5\\xc4\\x8a\\xb9\\x8bo\\xdc\\xae\\x1b\\xe0W\\xc6\\x8f\\t|I\\xbdx\\xb4\\t\\x11\\xc8<\\xb2T\\xff\\x00\\xb4g\\xc6\\xe1\\xf0\\xa3D{\\x99-\\x9d\\x80M\\xcd\\xb6\\x96\\x02\\xad\\x15\\x86\\x9dIo\\xb1\\x18\\xcc>eW7\\xa7\\x86\\x8c\\\\d\\xb5I\\xb3\\xe5O\\x8a\\x1f\\xf0N\\x9b_\\x1dx\\x91\\xb5\\rF\\xf2h\\xe3{\\x8d\\xdbS\\x03\\xf8\\xab\\xea\\xdf\\x81\\x7f\\x01<=\\xf0\\xe7\\xe1\\xbd\\xb7\\x85\\xad\\xe2\\xf9#\\xb7\\xda[\\xbd|\\xc7\\xe1\\xef\\xdb\\xe4\\xf8\\xd7\\xc5\\xf6\\xbe\\x1b\\xd2\\xac\\xe5i.\\'T\\xdb_\\\\\\xdfx\\x9bT\\xd3\\xbe\\x1d&\\xae\\xb1\\xb2\\xca \\xc9\\xff\\x00\\xbek\\x8f\\x07%[\\x13)T\\xbd\\x97C\\xdb\\xcf\\xbf\\xb5\\xa8\\xe1iR|\\xb1\\xe7\\x95\\xaf\\x1e\\xadw\\xfb\\xcf\\x0f\\xf8\\xc3\\xfb\\x1c\\xfc.\\xf1\\xb7\\x89\\xdbX\\xf1\\x1d\\x9cS<\\x7f\\xea\\xd5\\xfaW\\xa2~\\xcc_\\x04<\\x1f\\xf0\\x9bL\\x9a\\x1f\\nX\\xc3\\x0cR\\x9f\\x9d\"\\x18\\x19\\xaf\\x8d\\xbe9~\\xd8\\x7f\\x17a\\xf1\\xa5\\xe6\\x97\\xe1\\xbd\\n\\xf6e\\x8a]\\xab\\xe5@M}a\\xfb\\n\\xf8\\x9f\\xc6\\x9e-\\xf8a\\x1e\\xad\\xe3;9`\\xb8\\x91rc\\x97\\x82\\x95\\x957\\xcf\\x98\\xc6\\xfb_Dm\\x9b\\xe1\\xf1\\xf8|\\x86n\\xa5T\\xede--\\x7f\\x9d\\xb5;_\\x8d\\x1e\\'\\xf0N\\x9fl\\xb6\\xda\\xfd\\xc4>\\xfb\\xb1^}\\xf0\\xf3\\xc6\\x1f\\x0c\\xef\\xfcg\\x15\\x86\\x91%\\xbbH\\xef\\xf2\\xaa\\xe0\\xd7\\x15\\xfbx|\"\\xf8\\xa3\\xe3]\\xb6\\xfe\\x07\\xb8h\\xcb\\xb6\\xe6m\\xf5\\xc2~\\xc3\\xbf\\xb2\\xe7\\xc5\\x7f\\n\\xfcJ\\x93\\xc4^;\\xd4\\xdaX\\xd1q\\ny\\x99\\xac\\xf1\\xae\\xa5\\\\m\\xda\\xd6\\xe5e\\x98,\\r,\\x89\\xcd\\xd5z\\xc5\\xb7\\xef+_\\xb5\\xbf\\x03\\xeb\\xff\\x00\\x8a\\x9e9\\xf0\\xf7\\x83\\xfc3=\\xce\\xa0QU\"\\xdd\\xba\\xbei\\xd0\\x7fm\\x1f\\x86\\xba\\x87\\x8fm<=\\x15\\xc2\\xbc\\x92\\xdc\\xack\\xff\\x00}W\\xaf~\\xd4\\xff\\x00\\t|A\\xe3\\xdf\\x04]h\\xfa5\\xe3G$\\xf1mY+\\xe4/\\x86\\xff\\x00\\xf0M?\\x17i>?\\xd3u\\xddC\\xc4\\xf2\\xc8\\xf6\\x97\\x8b.\\xc4\\x8f\\xd1\\xb7U\\xe3\\xa3Q\\xfcz>\\x88\\xc7\\x87\\xa8e\\xb1\\xc0s\\xcaI\\xb6\\xdf5\\xdd\\xac\\xbc\\x8f\\xd1I\\xb5\\x18\\xdb\\xc2\\xed\\xa8\\xd9\\x1e>\\xcf\\xb9\\x7f\\xef\\x9a\\xfc\\xfc\\xfd\\xa3\\xbfo\\xcdw\\xe1\\xef\\xc4\\x8dC\\xc2\\xf1\\xee\\xcd\\xb3|\\xbdk\\xf4\\x13I\\xd1\\xfe\\xc7\\xe1x\\xb4\\x8b\\x83\\xbbe\\xb0F9\\xf6\\xaf\\x98\\xbe\\'~\\xc7\\x7f\\n\\xfc_\\xe3k\\x8f\\x11\\xeb\\x1a=\\xac\\xd3K/\\xef\\x19\\xf1\\x9a\\xdb2\\xa7\\'F\\x9a\\x9e\\x89\\xa3\\xcd\\xe1j\\xd8:8\\xaa\\xcaV\\xf2m_K\\xfe\\xa7\\xa6~\\xca\\x9f\\x10|C\\xe3\\xdf\\x82\\xb6\\x9e)\\xd5\\x17\\x13\\xdc@$Q\\xe9\\x9a\\xf9W\\xf6\\xff\\x00\\xfd\\xa9|y\\xf0\\xdf\\xc76\\xfa>\\x8f#\\xae\\xff\\x00\\xe2\\xaf\\xb9~\\x14xGE\\xf0\\x87\\x82-4\\r&\\xd9b\\xb6\\x8a0\\xb1\\xa2t\\xaf\\x1e\\xf8\\xfd\\xfb7\\xfc2\\xf1\\xff\\x00\\x8a\\xbf\\xb5|Q\\xa5\\xdb\\xcd2\\x7f\\xabipk\\x9b\\xea\\x95)\\xe1#9\\xcbN\\xc7FY\\x8f\\xc1\\xbc\\xfe\\xbc\\x92\\xe5\\xe6\\xbf+\\xb5\\xed\\xf2\\xf3<\\xeb\\xfe\\t\\x7f\\xf1\\xfb\\xc5?\\x17b\\xd6-\\xfcG.^\\xd2E\\x0b\\xef\\x9a\\xf4/\\xf8(%\\x97\\x8d\\x1b\\xe1m\\xd5\\xdf\\x82\\xfc\\xdf\\xb5\\xacLQb\\xeb]/\\xec\\xd5\\xf0O\\xc1_\\x0ce\\x9e\\xe7\\xc2\\xb6\\x16\\xf0\\xf9\\xc72\\x88P\\n\\xed>-\\xdf\\xf8z\\x1d\\t\\xad\\xf5\\x89\\x17\\x1f\\xedVt(JXY\\xa9KB1x\\xe8G\\x8a)\\xd6\\xa6\\xb9\\xadk\\xe9k\\xbbY\\xe8~`~\\xc8\\xda\\xdf\\xed\\x1d\\xaa\\xfcw\\xd34\\xff\\x00\\x13Y\\xea1\\xda\\xac\\x8d\\xe64\\xb08Z\\xfb\\xcb\\xe3\\xed\\x8f\\x8bm>\\x1b\\xde\\xdci\\xf7\\x12\\xf9\\x9fbo\\xb9\\xd7v\\xdao\\x81\\xef>\\x1dZx\\xae\\x19\\xf4\\xe1\\x02\\xbb6\\x17\\xa5{\\x07\\x8b\\xa1\\xd0\\xf5\\x0f\\x0e\\xcd\\x1d\\xd7\\x94\\xcab\\xfe,W5,<+\\xb6\\xf9\\xado\\xc4\\xf53|\\xd2\\xa6\\x17\\x1b\\x87N\\x9c\\x9aM\\xbfyk\\xab\\xfc\\x91\\xf8\\xd9\\xa5|i\\xf8\\xf7\\xa5x\\xf3\\xec\\xf2\\\\\\xeaM\\x147\\xbbdo!\\xf1\\xf7\\xbe\\xed~\\x8ax\\x07Z\\xf1\\'\\x88\\xfe\\x18[^<\\xb2\\x07\\x92\\xd5Y\\x879\\xfb\\xb5t\\xf8\\x0f\\xe1e\\xcd\\xf7\\x1au\\x96\\xfd\\xdf3l\\x15\\xeb~\\x13\\xd3|1e\\xe1\\xd1e\\x14P\\xa2\\xa2\\xfc\\xac\\xb8\\xa9\\xe5U&\\xb9]\\x8e\\xcc\\xcf6\\xa7\\x87\\xa1w\\x19M\\xb9_\\xde[\\x1f\\x99\\x1f\\xb4\\xcf\\xc5\\x7f\\xda\\x07\\xe1\\xa7\\xc4[\\xab=.\\xce\\xe9\\xad\\x0f\\xcd\\x1c\\x89\\x19\"\\xbd\\xa7\\xf6*\\xf8\\xc5\\xe3\\xdf\\x18\\xf8\\x12}GY\\x92\\xe29\\xfc\\xee7f\\xbd\\xdb\\xe2w\\x84<\\x07\\xaf_\\xcd\\xf6\\xf8\\xed\\xe6fm\\xbbx5\\xb3\\xf0k\\xe1\\xe7\\x81t\\xbb),4\\x8b\\x08\"\\xdf\\xcb\\x84AS*Q~\\xea\\xb2g}\\\\\\xd6\\x9f\\xd4\\xde\"\\xaam4\\xbd\\xd6\\xb4_\\xf0\\x0f\\x94?k\\xaf\\xda\\xa3\\xe2\\x17\\xc2]V\\xcfP\\xd3\\xee\\x1e@\\xc7l\\x8a\\xfcT\\xff\\x00\\xb2\\xaf\\xed\\xff\\x00\\xac\\xfcH\\xd6N\\x85\\x7fe\\xe4\\xcc\\x9bZ\\xbd\\xfb\\xf6\\x81\\xfd\\x97~\\x1e\\xfcH\\x91t\\xfd\\x7fG\\x82\\xe2&\\xfb\\xbb\\xeb\\x85\\xf8g\\xff\\x00\\x04\\xfe\\xf8c\\xe0\\x9f\\x14\\xc7\\xe2O\\ri\\xedg2\\xfc\\xa7\\xca\\x90\\xe3mS\\x84#J\\xcfp\\x86;\\x03\\x88\\xa7\\x19\\xb9ESkX\\xb8\\xfeV_\\xa9\\xd0\\xfcq\\xf8\\xfd\\xe2\\x1d\\x07\\xc2\\xf2k\\x11\\xdb3\\xa4K\\xb9\\x92\\xbe{\\xf0\\xaf\\xfc\\x14\\xa3\\xc2\\xf7Z\\xaf\\xd8\\xb5\\x18\\x9e9\\x11\\xb6\\xb3W\\xd7_\\x12\\xbfg}7U\\xf0\\xa4\\x96w\\x124\\x88\\xf1|\\xcb_\\x13x\\xf7\\xfe\\t\\xa1\\xa5]\\xf8\\x92Ms\\xc3\\x1a\\xcc\\xf6\\xad%\\xc6\\xe6\\x8f\\xaa}\\xed\\xd4F+\\x96\\xd5\\r05\\xf08\\x8a\\x16\\xc0\\xa8\\xe9\\xbaj\\xc7\\xd7\\x9ag\\xed 5\\x8f\\x08Cyo\\x18\\x92\\x19`\\xdd\\xba\\xbc3\\xc4\\x9f\\xb7\\x07\\xc3\\x9d\\x07\\xc47\\x1aF\\xa7w\\xe5\\xbaK\\xf3+=zO\\x81>\\x01\\xeb\\xda\\'\\xc3\\xeb}\\x0eI\\xfc\\xe3\\x14\\x1bw\\x9e+\\xe4/\\xda#\\xf6\\x03\\xf8\\xa9\\xe3?\\x1e\\xddk\\x1e\\x1f\\xb8\\x89c\\x9b\\xefn\\xc8?\\xd6\\xaa\\x94\\x1c\\xd5\\xa5\\xb7C\\xa6\\x9d,\\x15\\x18\\xcb\\xea\\x91\\x8b\\x9f\\xdaW>\\xcb\\xf8#\\xfbP\\xf8G\\xc6v?i\\xf0\\xfd\\xfaM\\x18\\xf9YV\\xb9O\\xdaO\\xf6\\x9f\\xd1\\xfc\\x00\\x8d\\xacj\\x16\\xdbW\\xfb\\xd5\\xe3\\xdf\\xb1_\\xec\\xb9\\xf1\\x7f\\xe1^\\xa56\\x95\\xe2\\t\"\\x9a\\x07}\\xd1\\xb2f\\xbd\\'\\xf6\\xa5\\xfd\\x94\\xf5\\xdf\\x8a>\\x10\\x9bN\\x93\\xfd\\x1d\\xf6mVa\\x9a\\xaaQ\\xbc\\xb9/t8P\\xc2R\\xab\\xed\\\\Tj\\xb5\\xb5\\xff\\x00\\xe0\\x9eq\\xe1\\xcf\\xf8(\\'\\x82\\xef\\xf5\\xeb[4\\x1c\\xdcJ\\xaa\\xb5\\xf4^\\xb9\\xf1r\\xea\\xfb\\xc2?o\\x82=\\xf1\\xf9\\x1eb\\x8f\\xf8\\r|%\\xa0\\xff\\x00\\xc18\\xbe*\\xe8\\xde,\\xd3\\xf5\\x08\\xf5\\x8bVHgV\\xda\\xd1\\x91\\xfcU\\xf7?\\x87\\xbe\\r\\xeb\\x1f\\xf0\\x83\\xc3\\xa5\\xdeI\\xe6\\x15\\x83l\\x8c\\xbf\\xee\\xd6\\x95)\\xc65\\x17\\xb3w\\x14%).llb\\x9a~\\xee\\xa7\\xc6\\xdf\\x15\\xff\\x00o\\xbf\\x15xK[\\xba\\xd1\\xed\\xf4\\xf9\\x7ft\\xed\\xb5\\x93\\x1f\\xe3^\\xa7\\xfb\\x1e~\\xd6z\\xf7\\xc6=6h/$x\\xe6F\\xfb\\xad\\xd6\\xa9\\xf8\\x97\\xfe\\t\\xbb\\xe0\\x8f\\x14\\xf8\\xda\\xe3\\xc4\\x1a\\xe6\\xa1y\\'\\x9a\\xfb\\x9a\\xdd\\x1fj\\xd7\\xb6~\\xce\\x7f\\xb27\\xc3\\x1f\\x84W\\x9e^\\x81\\xa3\\xacBO\\xf5\\x8cy5u\\xbd\\x84a\\xa7\\xc4g\\xedq4\\xaa\\xca\\xae\"k\\xd9\\xf6Z\\x9e\\x17\\xfbm\\xc3\\xf1F\\xe7D]C\\xc1\\xf6\\xf7RJ?\\xe7\\xdf$\\xfe\\x95\\xf3\\x97\\xc2\\x8d+\\xf6\\x99\\x7f\\x89\\xdaN\\xa9q\\xa3\\xea\\x8b\\x07\\xdb\\x17\\xceYzm\\xaf\\xd5/\\x88\\xde\\x11\\xf0\\xf6\\x9f\\xa4\\xaaG\\x0cg\\xe5\\xf9\\x96\\xbc\\xb6MG\\xc1\\x9a\\x15\\xcf\\xda3\\x04l\\x9fJ\\x87R\\x14\\xe0\\xa1%v\\xcd(8f\\x8db)\\xb9$\\xba\\x1a\\xf7\\xfe\\x1c\\xf1\\x0e\\xb7\\xe0w\\xb7\\x96&\\xf3\\x1e\\xd7i?\\xedm\\xaf\\x83\\xfcg\\xfb\\x03|f\\xf1\\x87\\x8eu\\x0b\\xc3\\xaa[\\xdb\\xdbM;2\\xb3\\xe4\\x9a\\xfd(\\xf0?\\x8c\\xfc3\\x7f\\xe1\\x8f?\\xccY\\x03&\\x16\\xbc\\x93\\xe2\\xaf\\xc5\\xaf\\x05|=\\xd5[\\xfbR\\xf1c\\xf3_r\\xd6t\\xe5N\\x94n\\x96\\xa5S\\xe6\\xc6\\xd5\\x9e\\x1e\\xbc\\x1aI\\xfa\\x1c\\xe7\\xecI\\xfb1x\\x8b\\xe1?\\x87d\\xf0\\xde\\xad\\xaf\\xb5\\xdb3\\xfc\\xad\\xd0Wa\\xfbH~\\xcb\\xbe\\r\\xf1\\xdd\\x84v~)\\xb3\\xf3\\x99\\xbf\\n\\xc6\\xf8M\\xfb[\\xf8\\x17X\\xf1Lz\\x1e\\x8bw\\xba_\\xee\\x9a\\xee\\xbe8\\xfcL\\xd5\\xbf\\xe1\\x15\\x9bY\\xb4\\xb2\\xf3\\x1e\\x18\\xb7*\\xd3\\xa7=y\\x9a\\xb3\\x14\\xe1\\x8dX\\xd8F\\x9d\\xbd\\x95\\xad\\xb9\\xe4\\x7f\\x03\\x7fc\\xff\\x00\\x84\\xff\\x00\\x08\\xfcum\\xe2\\xbd\\x0fGH\\xe7\\x89\\xbeVZ\\xfb\\x0fW\\xf0%\\x8f\\x8a|\\x05%\\xb4\\xa1d\\x8aH\\x0f\\xee\\xdb\\x9e\\xd5\\xf9\\x97\\xa9\\x7f\\xc1A|C\\xa6kri_\\xd8R\\xef\\x8a]\\xad\\xfb\\xb3\\xfe\\x15\\xfa#\\xfb:x\\xf6\\xf7\\xc7\\xdf\\n\\xf4\\xedl\\xc6\\xcan\\xad\\x12B\\xbfU\\xac\\xa7?gR\\xf3\\x8e\\xe7\\x8d\\xc4Qj\\x8c*a\\xa5of\\xecx$\\xff\\x00\\xb3\\xe7\\xc3\\x1d\\x03[\\xb8\\x93\\xfe\\x11\\xfbX\\xe4\\xf3\\x99\\x9b\\xf7b\\xbdc\\xe0\\xcd\\xbf\\x87\\xf4\\x01\\xfd\\x99\\xa7\\xacQ\\xc6\\x7f\\x81+\\xe5\\x0f\\xf8(/\\xc5\\xdf\\x88\\xbf\\r\\xfe$6\\x9f\\xe1\\xfb{\\xaf.m\\xdbZ$&\\xb8\\x7f\\xd8\\xeb\\xf6\\x92\\xf8\\xa7\\xae\\xfcI\\x1e\\x1e\\xf1-\\x9d\\xff\\x00\\x953|\\xad,\\x0f\\x8f\\xfb\\xeb\\x15\\xb4\\xa5VT\\xd5E\\xb2=\\x8a\\xce\\x18\\xbc<hI\\xbei\\xa4\\xee\\x96\\x9a\\x9fq|w\\x7f\\x0f[G\\xfd\\xa1x\\xf1yC\\xef3\\xd7\\x96\\xf8[\\xe2\\xe7\\xc3\\xad\\x0bZ\\x8e\\xe2\\xcfT\\xb7\\x8d\\x9a]\\xbf,\\x82\\xbbO\\x8c?\\x0f\\xb5\\xef\\x88\\x1f\\x0e\\xae\\xac\\xac\\xe3e\\x95\\xed\\xdbk\\x0f\\xf7k\\xf3\\xb7[\\xfd\\x9b\\xff\\x00i\\xfb\\x0f\\x13\\xcd\\x1d\\xbco$q]n\\x8d\\xbc\\xc2>]\\xd4\\xb9e^7Z\\x0b\\x05/\\xab\\xe0\\x15$\\x9c\\xf5\\xb3H\\xfdb\\xb9\\xf1F\\x87\\xe2\\xdf\\n\\x1buum\\xd0gu|\\xc5\\xe3\\xcf\\x8e\\x9e\\x00\\xf8u\\xe2\\x19\\xb4mR\\xf2(\\xe5\\x89\\xfeen\\rz\\xbf\\xec\\xef\\xe1\\x7f\\x16K\\xf0\\xe3L\\x83_\\x81\\xbe\\xd3\\xf6\\x05[\\x8e\\xff\\x006\\xda\\xf9\\'\\xf6\\xe3\\xfd\\x8a\\xbe \\xf8\\xf7\\xe2\\\\\\x9a\\xaf\\x86\\xee<\\x95v\\xf9\\x9b\\x9f\\xfd\\x96\\xb3\\xa0\\xaaU\\xa9\\xca\\xce|\\xbe\\x9d,\\x05Z\\xd4h;\\xbd\\xd2l\\xfa\\xd3\\xf6c\\xfd\\xa2<\\x1f\\xe3\\x85xt-F9\\xbc\\xb3\\xb5\\xd5\\x1f5s\\xf6\\xb9\\xf1\\x13\\xf8c\\xc2\\xad\\xe3\\x0b+=\\xdeRnm\\xb5\\xf2\\xdf\\xec%\\xfb-\\xfcS\\xf8+\\xe33u\\xadk\\x8f%\\xbd\\xd2m\\x92\\x1e~\\xf7\\xf7\\xbej\\xfb\\x8f\\xe2\\x0f\\xc2\\xe6\\xf1\\xe7\\xc3\\xd9\\xb4mV\\xdd\\xa4Y \\xdb\\xff\\x00\\x8e\\xd5rV\\x8c\\xdc#\\xaa81S\\xa1\\x80\\xcc\\xe8\\xe2\\xaa{\\xae[\\xa3\\xe0\\xaf\\x00\\xfe\\xdez\\x1c^;\\xb3\\xd1\\xaed\\xf2\\xc4\\xd3\\xacl\\xd5\\xf6\"x\\xf0k\\xfe\\x10\\x95\\xdc\\xa4\\x99\\xb7\\xdd\\x0b\\x7f\\xc0k\\xe5\\xfb\\xff\\x00\\xf8&\\xff\\x00\\x84\\xad\\xbcV\\xda\\xc5\\xbd\\x9c\\xaa\\xeb>\\xf5\\xeb\\xfd\\xea\\xfa\\xbb\\xe1\\x7f\\xc2o\\xb2\\xf8v\\x1d:HX\\x88\\xe2\\xd9\\xf3Q*3\\x8f*\\x8e\\xfdOK\\x1fW\\x0f\\x1a~\\xd7\\x11$\\xec\\xfd\\xd6\\xbb\\x1f\\t|\\\\\\xfd\\xb7\\xaf>\\x19\\xf8\\xf2\\xe3\\xc3\\xfa\\x86\\x9f\\xb4\\xc5+*\\xd7\\xda\\xdf\\xb0_\\xed\\x15\\xa5|l\\xf0l\\x1a\\x95\\xa5\\xc2\\x96_\\x95\\xe2\\xee+\\xca\\xbe8\\xfe\\xc3~\\x03\\xf1?\\x8c\\xe4\\xd75O\\r\\xa4\\x92\\xbf\\xfc\\xb4h\\xf3]\\xe7\\xec\\x99\\xf0OF\\xf85\\xad\\xad\\xb7\\x86\\xf4\\xf1o\\x0c\\xc72*\\xf07V\\xb5(\\xab&\\xafs\\x1c\\xd7\\xd8\\xe3\\xf2\\xea\\x92\\xe7N.7\\x8f{\\x91\\xff\\x00\\xc1F|\\x19\\xe3=\\x13\\xc2M\\xe3\\xcf\\x87\\xf6\\xf2\\xc94+\\xbaH\\xe2\\xfe:\\xf8\\xb3\\xf6{\\xfd\\xa5\\xbe1\\xc9\\xf1\\x1e\\x1d/\\xc4\\x9a\\x1d\\xe4v\\xf2\\xb6\\xd6g\\x8c\\x8a\\xfdh\\xf8\\x97\\xe1\\x88\\xbcS\\xe0\\xd9\\xf4\\xe9m\\xd2E)\\xf7_\\x9a\\xf9:\\xeb\\xe1\\xa7\\x85tM~I?\\xb1\\xe2Y\\xa3\\x97\\xfb\\x94\\xe7G\\xd8\\xdf\\x9e\\xfeG\\x17\\n\\xe6\\x0f\\x1f\\x97*\\x1c\\xd6\\x9d==Q\\xb9\\xe2\\xab\\xads\\xc5\\x7f\\x0e\\xe6\\x86\\xcfw\\x98\\xf6\\xec\\xd1\\xd7\\xe7\\xb7\\xc4]K\\xf6\\x9f\\xd0|sqi\\xa3\\xe9w\\x12$S\\xb7\\x92\\xdc\\x81_\\xa9_\\x0f\\xad\\xf4}SJ\\x16\\xf3[.J\\xe1\\x8dp\\x9f\\x15>\\x18\\xf8oB\\xd5\\x1a\\xf2}-\\x18I\\xf3n\\xf2\\xebX\\xa4\\xa1\\xad\\xd9\\xe9\\xd2\\xc5R\\xab\\x88\\x96\\x12\\xdc\\xae\\xf7G\\x0b\\xfb\\x19|K\\xf1\\xdf\\x8b<\\x19oo\\xe2\\xcd.[k\\xb8\\xd7d\\xcb-r\\xbf\\xb7\\x07\\xec\\xc7\\xe2\\xef\\x1ecX\\xf0\\xbe\\xa1-\\xbc\\xaf\\xf36\\xca\\xf5\\xef\\x86\\xb7\\xdaV\\x89\\xadC\\x15\\x9d\\x96\\xd5g\\xfb\\xb5\\xed\\x1e2\\xf0\\xed\\xbf\\x89<$\\xf7\\x11\\xd9n\\x90E\\xb9~J\\xc6\\x9ci\\xb96\\xae\\x8c\\xf3\\x0ck\\xca\\xf1\\xf0\\xe6\\x8f\\xbb5f\\xcf\\x80?d\\x9f\\x83\\xdf\\x17>\\x1ak\\xbfg\\xf1\\x0f\\x88%\\xb8\\xb7}\\xbbU\\xff\\x00\\x82\\xbe\\x90\\xf8\\xbd\\xf0\\x87P\\xf8\\x8f\\xe0Y4\\xe9de&/\\x96D\\xeb\\\\g\\x89\\xfe!j\\xfe\\x15\\xd7\\xa4\\xd3\\xe3\\xf0\\xdc\\xac\\xf1\\xb7\\xca\\xc9\\x1dz\\xb7\\xc1\\xcf\\x88:\\xa7\\x8al\\x11o4\\xa9\\x14:\\xe0\\xc6\\xfd\\xa9\\xc6m\\xcfX\\x9e\\x9e:\\x15\\xf0\\xd4UjZ\\xa5\\xae\\xbf\\xa1\\xf1\\x0c\\x7f\\xb0\\xf7\\x8d\\xbc?\\xe3\\x08\\xf5\\x9b?\\x18^\\xc7\\xe4\\xdcnX\\xfc\\xce>\\xf7\\xd2\\xbe\\xc4\\xf8#\\xe1;\\xfb\\x8f\\x0fE\\xa4\\xea\\x97~c\\xac[d\\xddX_\\xb4\\x9e\\xab\\xe2O\\t\\\\\\xb5\\xe6\\x87\\xa1\\xbc\\x9b\\xbf\\x85k\\x8f\\xf8;\\xf1\\x97\\xe2,\\xbe \\x86\\xcfP\\xd0%\\x85\\x1d\\xb6\\xac\\x95\\xa5j\\x95\\x17\\xd9\\xd0j\\x93\\xc4\\xe0y\\xe8\\xfb\\xaeJ\\xe5\\xbf\\xda\\x07\\xf63\\xf0w\\x88\\xb5\\xef\\xed\\xcdSK\\x8bq\\xf9\\x95\\xbc\\xba\\xd6\\xf8#\\xe0\\x1f\\x0e|?\\x85tky\\x964\\x1f*\\xafj\\xf6\\x8f\\x17i\\xda\\xbf\\x8c|\\x14\\xf7\\x0bo\\xb6q\\x17\\xca\\xd5\\xf1/\\xc4[\\x9f\\xda+\\xc2^6\\x9a=/Oi!I~V\\xde\\x7f\\xbdJ\\xa3\\xaa\\xec\\xa2\\xb4FYv!\\xe30\\xd2Um\\xcf\\x1d\\x1d\\xb7\\xf5>\\x9d\\xf8\\xa9\\xfb;xG\\xe2>\\x8f\\xf6\\xcb\\x98b\\x9b\\x0b\\xbbwZ\\xf2o\\x0f|\\x19\\xf0\\x1f\\xc3Myo,\\xe3\\x8a\\x17G\\xfaW\\xa3|\\x01\\xf1o\\x8d\\xfcA\\xe1\\xa8\\xe0\\xd7\\xad\\xe4\\x8eR\\xbbdS^U\\xfbY\\xfc.\\xf8\\xb5s,\\x9a\\x87\\x83\\xae%\\x8fw\\xcd\\xb6\\x87\\xed\\'\\x1d4f\\x987V\\x9dGJ\\xac\\xb9\\x9a\\xf8{\\xdb\\xb1\\xf4w\\x835\\x1f\\t\\xf8\\x97F\\xfe\\xcd\\x99\\xe3fe\\xc0\\xe2\\xbc\\xe7\\xe2_\\x80<\\x1f\\xe1[\\xf95K\\x8d>%\\x01\\xf7y\\x9e]xO\\xec\\xc8?h\\x0f\\x0ex\\x85l\\xfcep\\xd2@\\xcd\\xf2\\xb1\\xcd}g\\xe2?\\x86\\xd7_\\x10|\\x1e\\xd0\\xdc[\\xeew\\x8b\\xadK\\x85Kr\\xfeF\\t\\xc7/\\xc5\\xaa\\xb2\\x9bP\\x93\\xd5>\\xe7\\x9ex\\x07\\xe3\\x9f\\x80nn\\xd7I\\xfe\\xd2\\x83#\\xe5d\\xdf]\\x1f\\x8f<7\\xe0\\x9dcM\\xfe\\xdc\\xb7\\xb4\\x8aA\\xb3u|\\xfb\\xa9~\\xc4\\xbe#\\xd1\\xfcl\\xda\\xe6\\x9f\\xa8]F\\xben\\xef/\\xcc\\xe2\\xbe\\x85\\xf0\\x0f\\xc3Mfo\\x0e&\\x97{#\\xb0\\xf2\\xb6\\xb6\\xfaQ\\xa5(Y_S\\xaa\\xb4\\xa8S\\xa9\\xed\\xd4\\xb9W\\xae\\xe7\\xa2|C\\xfd\\x9c\\xbc\\x7f\\xe2\\x9f\\x11\\xc9\\xa8Yx\\x8exaf\\xfb\\xa8\\xf5\\xe9\\xbf\\x07~\\x1bI\\xf0\\xf7@\\x167\\x97\\xed<\\xc7\\xef\\xb3w\\xae\\xce\\x8a\\xfb\\xea96\\x16\\x8e#\\xda\\xee\\xcf\\xc5\\xf1\\x9cC\\x98\\xe3p+\\t6\\x94\\x17ec\\xc5\\xff\\x00h\\xaf\\x81\\x1e-\\xf8\\x9c\\xca\\x9a\\x1e\\xb9,\\x08~\\xf3#\\xe2\\xb9/\\x83?\\xb1\\xf7\\x89<\\x15\\xe2\\xa4\\xd7\\xb5\\x8f\\x12\\\\J\\x17\\xf8]\\xf8\\xaf\\xa5h\\xac\\xf1\\x19\\x16\\x1f\\x11W\\x9d\\xb6\\xb56\\xc3q>g\\x85\\xc0\\xfdV\\x9b\\\\\\xb6\\xb6\\xda\\xd8\\xe5~$\\xf8\\x1e\\x7f\\x17\\xf8RM\\n\\x0b\\xa6\\x8d\\x8amVJ\\xf9\\x89\\xff\\x00\\xe0\\x9e\\xda\\xc5\\xe7\\x88N\\xa7w\\xe2\\x1b\\xa7\\x8c\\xcf\\xbd\\x97\\xcc\\xaf\\xb1\\xe8\\xa5\\x8a\\xc8\\xf0\\xf8\\x89&\\x9e\\xc6yg\\x11f\\x19M)S\\xa3k=uW9_\\x07\\xfc<\\xb3\\xf0\\xb7\\x82\\xa1\\xf0\\xa4S6\\x04{\\t\\xef^\\x03\\xf1_\\xf6\\x07\\xb6\\xf8\\x8b\\xe2y5\\xbb\\xcdV\\xe9Ao\\x95\\x16B\\x05}QE]|\\x9e\\x8dZ\\x11\\xa7\\x17k\\x19a3\\xec\\xc7\\x07\\x88\\x9dhJ\\xeez\\xbb\\xa3\\xc6\\x7ff_\\xd9{H\\xf8\\x19\\x03\\x9bI\\x18\\xb3\\xf3\\xf3\\xf3]\\xb7\\xc4\\xef\\x84\\x9e\\x1e\\xf8\\x97g\\xf6-n\\xd5d_\\xf6\\xf9\\xae\\xc2\\x8a\\xba9E\\nXwK{\\xf51\\xc4f\\xf8\\xfcN7\\xebr\\x95\\xa6\\xb6\\xb6\\x96\\xb1\\xe3>\\x12\\xfd\\x8d\\xbe\\x19xO\\xc4\\x11k\\xfav\\x8b\\x02K\\x13n]\\x91\\x8a\\xf5\\x9b\\x9d&\\xce\\xe7O:d\\xf1+FSn\\xda\\xbbE<.S\\x86\\xc2\\xb95\\xabfx\\xcc\\xcf\\x1f\\x98N2\\xaf7.]\\xbc\\x8f<\\x7f\\xd9\\xdb\\xe1\\xf4\\xb7R]\\xcb\\xa4D\\xd2;\\xeef\\xf2\\xc6k\\xb0\\xf0\\xe7\\x86\\xb4\\xaf\\x0b\\xd8\\xad\\x8e\\x99l\\xb1\\xc6?\\x85kN\\x83\\x9e\\xd4\\xb0\\xd9M\\n5}\\xa3Z\\x91\\x88\\xccq\\xd8\\xaaj\\x15j9%\\xd1\\xb3\\x0f\\xc4Vv\\xd7R\\xaf\\x99m\\xe6\\x1f\\xe1\\xf9)\\xfe\\x1d\\xd1\\xa0\\xb0\\r\"[\\xacy\\xff\\x00b\\xb5\\xdd\\x11\\x86\\xe7Jp\\xe0r1Y\\x7fd\\xc6X\\xafj\\xf62\\xfa\\xc4\\x95\\x1ff\\xb6\\xf51\\xfce3\\xc1\\xa3H\\xf1[\\xf9\\x8d\\xfc+\\\\\\xa7\\x84\\x0e\\xa9w\\xad$\\x93i\\xac\\x13\\xfb\\xc6\\xbb\\xf9`YWd\\x89\\xb8zP\\x96\\xf0\\xc3\\xfe\\xaa5_\\xc2\\xa7\\x15\\x94\\xbcF+\\x9f\\xa1\\xbe\\x1f\\x1a\\xa8a\\xe5O\\x96\\xed\\xf5+\\xea\\xb0\\xcd&\\x97*[\\xfc\\xaeP\\xed5\\xf3F\\xb5\\xe1?\\x8cZ\\xd7\\x89\\xee\\x92\\xd3r\\xc5\\xe7\\x9f-\\xab\\xea\"\\xa0\\x9c\\xd4Kgo\\x1b\\xf9\\x91\\xc0\\xbb\\xbf\\xbc*s,\\xa6\\x9e*Pi\\xda\\xc7nK\\x9d\\xcf\\'\\x94\\xe5\\nq\\x93\\x92\\xeb\\xd0\\xc1\\xf8{\\xe1\\xfd[F\\xf0\\x85\\xbe\\x9d\\xaa\\xcd\\x9b\\x85\\x8f\\xf7\\x86\\xbcS\\xe3\\xaf\\x80\\xfe%k\\x1e-o\\xf8G/eTe\\xfb\\xd5\\xf4y\\x19\\xe2\\xa0\\x92\\xd6\\xd6G\\xf3$\\x85X\\xff\\x00z\\xb1\\xc5d\\x94]\\x08\\xa5-\\x83.\\xcf+`3\\tb\\xf9Sr\\xbe\\x9d5<\\x8f\\xf6p\\xf0\\x17\\x8e\\xbc3\\x1c\\xcf\\xe2\\xbb\\xe7\\x9bw\\xdd/S\\xfe\\xd2\\xdf\\n5\\x8f\\x1f\\xf8^km.\\xe6X\\xe5(\\xca\\xad\\x11\\xc1\\xafZDT\\x1f\\xbaM\\xb4\\xc9vy~\\\\\\x95\\x9a\\xc9\\xb0\\xb4p\\x8d\\xb9jUL\\xff\\x00\\x17<\\xdb\\xeb\\xea)K\\xb2Z\\x1f\\x16\\xfc#\\xfd\\x90\\xbe\"\\xe9\\xde-\\xb5\\xd5\\xb5=r\\xe9\\xa3\\x82L\\xb2;\\x9a\\xfaW\\xc5_\\ruMK\\xc3\\xefao\\xa92\\x91\\x16\\xdf\\x96\\xbb\\xb8\\x96\\x08\\xff\\x00\\xd5\\xa2\\xfeU1u\\x1c\\xe6\\xb0\\xa3\\x94\\xe0\\xaa\\'\\'%s\\xa70\\xe2\\x9c~6\\xac\\'e\\x1eM\\x96\\xff\\x00\\x99\\xf1\\x8d\\xff\\x00\\xec\\xcd\\xf1.\\x1dzK\\x8d?\\\\\\xbc\\xdb\\xe6\\xee_\\x9c\\xe2\\xbd\\xef\\xc1\\x1f\\r5\\xe8\\xfc%\\x1d\\x86\\xa1v\\xc6P\\xbbH\\xee+\\xd3\\x16\\x1b=\\xd8\\x16\\xebS~\\xedG\\xc9\\xc5T2\\x9c\\x15[\\xdd\\xa3l\\xc7\\x8b\\xb1\\xf8\\xfa1\\xa7(\\xa5moc\\xe6\\x0f\\x88_\\xb3o\\x89\\xee\\xb5\\xe6\\xd54\\xfb\\xcb\\x85\\'\\xf8Vr\\x05t\\x7f\\x07\\xfe\\x15x\\xcbAy\\x1bQ\\x96B\\x0f\\xddc^\\xeb)\\xb6\\x91\\xff\\x00x\\x15\\x8dI\\x1aB\\x89\\xfb\\xb4\\xdb\\xedDp87x\\xabhU^0\\xccj\\xe0}\\x84\\xe2\\x9a\\xb5\\xafc\\xcd\\xf5\\xaf\\x04k\\x8ec\\xcd\\xbf\\x99\\x8a\\x97G\\xb2\\xb8\\xb2\\x9b\\xc8\\x9fI\\xcf\\xf7\\x9a\\xbd\\x10\\xed\\xfe\\xe0\\xa8\\xcd\\x9d\\xa9m\\xfeW\\xcd\\xf5\\xaa\\x86_\\x83~\\xee\\x8c\\xf2\\x96sVT\\xf9\\'\\x1d\\x0e~}6]F\\xddc\\x96\\xdf\\xe5\\xfe\\xedS?\\r|;\\xb3\\xcf\\x9fO\\\\\\xd7_\\xb24\\x1f&*\\x9d\\xfb\\xb4\\xdf\\xb8\\x8eJ\\x9f\\xa9aa+TH\\xe7\\xa7\\x8e\\xaf\\x17h>_\\x99\\xcf\\xd9xwK\\x8fm\\xbd\\xb5\\xb6\\xd0\\xdf.\\xda\\x9d\\xbe\\x15xJ\\xe9\\xbe\\xd1s\\xa7\\xab\\x13\\xf7\\xab^\\xdbN\\x10\\x8d\\xff\\x00\\xc5V\\x1e\\xe9\\xe0NSq\\xa28l$j\\xdb\\x97B\\xa5\\x8d\\xc4\\xf3^\\x94\\xdd\\xfdN~?\\x86\\xbe\\x18\\xd2\\x9b\\xcd\\xb3\\xb4X\\xcd%\\xe7\\x82t\\xade<\\x8b\\xbbm\\xc9W\\x9e{\\xfb\\xd9|\\xb9#\\xda\\xbd\\xaa\\xe5\\xb4mf\\x9f8\\xddYU\\xc3\\xe1c+\\xa4T\\xb1X\\xb8{\\xd2\\xa8\\xdc\\xbdNN\\xf3\\xe0\\xff\\x00\\x85m\\x91n\\x05\\x9a\\xe4S\\xac\\xfc9\\xa7\\xc5\\x17\\xd9 \\x84`\\xf6\\xad\\xbdoR\\x9e_\\xf4t\\xf9j-+L\\x98\\xfe\\xfeC\\xcdL\\xe9\\xe1\\xa3\\x1b\\xa4u,n2T\\xafZ\\xa3}\\xb50o>\\x1b\\xe9HZ\\xe2==s\\xfd\\xea\\xe6\\x9fF\\xbc\\xb0\\xd6<\\xbb{=\\xaak\\xd2o\\xef\\x1d?\\xd1\\xf1\\xb6\\xaaZ\\xe8\\xd0\\xdd\\xdc,\\xf2sYJ\\x149oc\\xab\\r\\x9ab)A\\xba\\x8e\\xea\\xc7\\x11\\xe2\\x1f\\x87\\x13\\xf8\\x86\\xc5\\x85\\xcf\\xcd\\x94\\xfb\\xb5\\xe5\\xbe*\\xfd\\x99\\xa6\\xb9F\\x8a\\xde\\xcf\\xef?\\xde\\xd9_N\\xcf\\x1d\\xb5\\x8d\\xabyq\\xf4^k\\x9f\\xbc\\xd6`\\x9af\\x8b\\xe5\\x18\\xacy0\\xcbs\\xbb.\\xe2,\\xc6\\x94\\x9a\\xa6\\xaf\\x13\\xcd\\xfe\\x12\\xfc\\x01\\x9bH\\xd1#\\xb4\\xb8\\x83j\\xaf\\xf0\\xd67\\xc5\\xff\\x00\\xd9\\'M\\xf1\\xbd\\xc2\\xc8\\xf6h\\xc4\\x7fz:\\xf7\\xad\\x1e\\xfe\\xd4E\\xb228\\xaa\\x1e!\\xf1\\x0c\\x08\\xcb\\x18N\\x9fz\\xb3P\\xc3\\xa9su\\x14x\\x8b8\\x9e=\\xce=z[C\\xe6\\x7f\\x05~\\xc2z^\\x85\\xe2k]r\\xda\\xd9VX\\xdbqeJ\\xf6\\xcb\\xff\\x00\\x80\\xfaM\\xef\\x87\\xde\\xc6\\xfa\\xdf\\xcc>V\\xd6\\xae\\xc7D\\xd6b\\x99W\\xf7+\\xcfz\\xd3\\xbf\\xb9\\x94Y\\xb3E\\x1d7\\nU%v\\xcc\\xb1\\xdcE\\x9b\\xd4\\xab\\x18\\xddE.\\xda\\x1f%k\\x1f\\xb0o\\x80/\\xf5)/\\x1f\\xc3\\xf13\\x99w}\\xca\\xfa\\x13\\xe0\\xdf\\xc3{?\\x05\\xf8Z\\r\\x0e\\x0buH\\xa0\\x8dR5\\x14\\xd3y|\\xf7\\xdeY\\x8f\\xf8\\xeb\\xb0\\xf0\\xec3%\\xae\\xeb\\x83\\xfe\\xed\\x10\\xa3\\x1a\\xd3Q\\x96\\xc8\\xac\\xe38\\xc7b0j\\x15Z\\xb3\\xd7E\\xa9\\xe3\\xff\\x00\\x1b\\xff\\x00f\\xfd\\x07\\xc7Z\\xdcz\\xa6\\xa1\\xa5[\\xc9\\xfe\\xd3\\xc7Y\\xde\\x07\\xfd\\x94\\xfc1\\xa2\\xdf%\\xfd\\xb5\\xa5\\xbco\\x1bev \\xafh\\xf1\\xa2?\\xf6i\\xf2\\xc75\\x9d\\xe1\\xbb\\x0b\\xe9\\x10<\\x91\\xfdi\\xd4\\xc3\\xc23p\\xd9\\x0b\\x0b\\x9f\\xe6P\\xcb\\x94\\x15K(\\xe9\\xfd2\\xc4^\\x05\\xd3\\x13HkI\\xe3\\xdc6W\\x9ej?\\x08\\xfc\"u&2\\xdar[u{\\x1a\\xc2\\xa2\\x1d\\xa6\\xb9\\xbb\\xcf\\x0eL\\xfa\\xc2\\xc8:n\\xab\\xa9\\x84\\x82\\x84t<\\xec\\xbb5\\xc4\\xd1\\xa97\\xed\\x1a\\xb8x\\x17\\xc2ZF\\x91g\\xe5Y[\\xaa\\x808\\xac\\xff\\x00\\x88_\\x0f\\xb4\\x0b\\xe6]R\\xe2\\xcdY\\xbf\\xbd]\\xa6\\x9fi\\r\\xa4k\\x12v\\xa6\\xea\\xf6\\x10\\xdf\\xdb5\\xbc\\x9d\\xeb\\xb68\\x08}^\\xf6G\\x14s*\\xf1\\xc7{e\\'v\\xf7\\xb9\\xc2xG\\xc2Z\\x0c3F\\xf1\\xd8*\\xff\\x00\\xb5\\xb2\\xbb\\xe8\\xec`\\x16\\xdfg\\x11\\xae\\xdd\\xb8\\xdbY\\x9a.\\x8fmf\\x9f\\xeb7\\x1a\\xd8FB9\\x15\\xa6]F\\x8a\\x9b\\xe7KR3\\x1c\\\\\\xf15y\\x9bo\\xd4\\xf3\\xbf\\x15xo\\xca\\xd6\\xff\\x00qo\\xf2\\xbf\\xdd\\xf9+{\\xc2\\xba\\x11\\xb7\\x8b\\xf7\\xe8\\x14zV\\xce\\xaa\\x96\\x9b\\x96K\\x88\\xd7\\xfd\\xe3R[\\xde[\\x94_.J\\xc2ti\\xd3\\xc4\\xbdl\\x8djc\\xeb\\xd5\\xc2F\\x169\\x1f\\x88\\x9e\\x0f\\x93S\\xb6\\xf3`L\\x9f\\xefVg\\x82~\\x1e\\xdeX\\xdc\\xa5\\xd4\\x87\\xa7\\xde\\xafD\\xb8T\\x99?x3\\xf8\\xd5X\\xb5;+p\\xd1\\x7fv\\xa6\\xad\\x1a\\\\\\xdc\\xd7\\xd0\\xd2\\x86i\\x8b\\x8e\\x11\\xd1\\x89|Z\\xab\\xc3\\xb2A\\xc1\\x1f5y\\xb7\\x8b~\\x01i:\\xde\\xb6\\xda\\xaa|\\xbb\\xfe\\xf2\\xd7\\xa3\\xdb^%\\xc4{\\x93\\xa5G\\xa9L\\xd0\\xc2\\xd2\\'\\xf0\\xd7\\xa1^\\x96\\x0f\\x11\\x84RJ\\xed\\x1cx,v3/\\xae\\xe5BVoC\\x95\\xf0\\x87\\xc2\\x9d+\\xc3\\x03b\\xae\\xe5\\xf6\\xaa\\xde;\\xf8M\\xa5x\\xad\\x14\\xcb\\x1f\\x0b]$Z\\xd0\\x92\\xaeoy\\xa1\\xdf^\\\\^\\x1b\\xe1H\\xea\\x96a\\x99S\\xc5,C\\x9b\\xe6<\\xefB\\xfd\\x9f|9a,w1\\xa7\\xcc\\x9d\\xeb\\xd0-4k8l>\\xc1\\xb1Yv\\xed`k\"\\xe7Q\\xbb\\x8a\\xe1\\x92?\\xbb\\xba\\xb54\\xa9\\xa6\\x9a?\\xde\\x8aT\\xe3F\\x15mb\\xb1\\xf8\\xbc\\xc3\\x17\\x05:\\xf59\\xacy\\xf7\\x8b~\\t\\xf8J\\xf7UmB\\xe3OL\\xbb\\xff\\x00r\\xae\\xf8[\\xe1\\xef\\x864\\x19\\x14\\xd9\\xdb*\\xe7\\xaa\\xd7o\\xabiB\\xfe!\\x9e\\xa2\\xb3,\\xbc?$O\\x97~\\x955\\xf0\\xea\\x12\\xe6H\\xe8\\x86q\\x8a\\xab\\x84\\xf6S\\xaa\\xec\\xba\\\\\\xc5\\xf1\\x87\\xc2\\xbf\\x0fx\\x9e\\xdb\\x17\\x96J\\xdfZ\\xe4\\xa3\\xf8A\\xe1\\x1d2\\xe1Ji\\xca\\xa4v\\xaf_\\x8a\\x0cF#\\xf5\\xac[\\xff\\x00\\x0f#\\xdey\\x9f\\xc2\\xd4N\\x87=+\\xb4V\\x07:\\xc5\\xd2N\\x97\\xb4iz\\x95<?\\xa1i\\xc6\\xc3\\xeckm\\xf2\\xed\\xc5r\\x9e2\\xf8\\x1b\\xa0\\xde\\\\\\xb5\\xe0\\xd3\\xd1\\xb7\\x7f\\xd3:\\xf4\\x9d7N\\x82\\xd13\\x1dZ\\x96\\x18f\\x8f\\xcb\\x92>)\\xd2\\xc3*\\xb4\\xdd\\xcejy\\xbe+\\x0b\\x8auh\\xc9\\xeay?\\x84~\\x1ei\\xba\\x15\\xc2\\xfd\\x9a\\xcbh?\\xecWU\\xae\\xfc4\\xd0\\xb5\\xeb\\x0f\\xf4\\x9d=\\x19\\xb6\\xff\\x00r\\xb7\\x1e-*\\xda_\\xde\\x15R*\\xd2_\\xd8\\xba\\xe0J\\xb8\\xac\\xe1B\\x10\\x97+z\\x1a\\xe2\\xb3lmz\\xaa\\xac[\\xb9\\xe3M\\xf0\\x8bE\\xb0\\xbfc\\x16\\x9e\\xbf+}\\xed\\x95\\xdfxK\\xc3\\xbfg\\xb4X\\x1a\\x1d\\xa3mi_\\xa6\\x9efi\\xfe_\\xbf\\xf3b\\xa4\\x8b\\xc4ZU\\x88T\\xf3\\x15i*T\\xe1.d\\xf4:qy\\xa67\\x1bAE\\xdd\\xb3\\x13\\xc4?\\x0fl\\xe7\\x7f=-\\xd4\\xff\\x00\\xc0*\\xb6\\x91\\xe1/\\xb2J\\xbeTU\\xd57\\x894\\xeb\\xa4\\xf2\\xe3uj\\xca\\xbd\\xf1$6\\x0f\\xe6IUR4e\\xb1\\x85\\x1cVa({\\'s\\xb2\\xa2\\xb9\\xcf\\x02\\xf8\\x8a\\xfb_\\xd3\\x8d\\xdd\\xe5\\xb6\\xdc\\xaf\\x15\\xce\\xfcH\\xf8\\xafs\\xe1\\x87\\xfb=\\x9d\\xbb\\xb3\\x7f\\xb3_[\\xfd\\xa7\\x05G\\xda8\\xb3\\xcd\\xa5\\x96b\\xabb\\xde\\x1a\\x0b\\xdeG\\xa2\\xd1^E\\xe0\\x7f\\x8c\\x9a\\xff\\x00\\x885\\xa8\\xecd\\xb2eS\\xf7\\x99\\xeb\\xd1\\xfcA\\xab\\xcf\\xa6\\xe9Mq\\x0c9}\\x95\\x95\\x1c\\xde\\x9dh\\xc9\\xf2\\xda\\xc5\\xe3r\\x9c^\\x02\\xbch\\xd4\\xb5\\xdf\\x99\\xa9\\xbd?\\xbfK\\x81\\x8c\\x85\\x15\\xe1\\xfa\\x97\\xc5\\xaf\\x18\\xa6\\xa0\\xd6\\xf6\\xd6\\xf2\\xe3v\\xd5\\xafM\\xf8y\\xaaj\\x9a\\x96\\x8c.\\xf58YX\\x8a\\x8a\\x19\\xb4\\xaa\\xd6Q\\xe5\\xd0\\xdb\\x1d\\x92b\\xb0\\x18uV\\xa3V}\\x99\\xd1H\\xd1\\xa7\\xdf\\x03\\xf2\\xa4\\xf3a\\xff\\x00\\x9e\\x89^c\\xf1k\\xc7\\x9e!\\xd2\\xa6[=\\x1e\\xdd\\x98\\xff\\x00\\xb1X^\\x0b\\xf1\\xa7\\x8d\\xf5=n+k\\xc8\\x98.\\xef\\x9a\\x95|\\xdd\\xd2\\xa9\\xcb\\x18\\xdc\\xdb\\x0f\\xc3\\xd8\\xaa\\xf8?\\xacs$\\xb7\\xdc\\xf6\\xd0\\xcd\\xe9Q\\x9b\\xc83\\xc4\\xcbPN\\xf2\\x8d7\\xccQ\\xf3\\xec\\xaf1\\xd6\\x7f\\xe11\\xfe\\xd0\\x92KWm\\x9b\\xbeZ1\\x19\\xa4\\xe9E8\\xad\\xce\\x0c\\x0e\\x03\\xeb\\x93\\x94y\\xd4m\\xdc\\xf5e\\x9a)\\x86#p\\xd44\\xd1\\xa7\\x12\\xc9\\xb6\\xb9\\xff\\x00\\x87p\\xeai\\xa5\\xef\\xd4\\x9f.}j\\x8f\\x8fnu\\xb8\\xeeU4\\xff\\x00\\xbbO\\xfbJ\\xb7\\xd5=\\xa5\\xb5%`\\xd3\\xc5\\xba\\nKN\\xbd\\x0e\\xbd&\\x8d\\xff\\x00\\xd5\\xbe\\xea~q\\\\w\\x84\\xe7\\xd7\\x9a\\xe1\\x12\\xeb\\xa7\\xf1W`\\xa4\\x85\\xf9\\x85te\\xf8\\xda\\x98\\xa4\\xf9\\x96\\xc68\\xac;\\xc3T\\xe5\\xba`]G9\\xa5\\x07<\\x8a\\xa52\\xdcy\\xcc\\x07\\xdd\\xcdZ\\x8b;8\\xf5\\xa8\\xc3c*\\xd5\\xc58Kd`\\xd5\\x92b4\\xb1\\xa0\\xff\\x00YJ\\x8e\\x92v\\xac?\\x15\\xcdz\\x8c\\xbff|T\\x1e\\x1c\\xd5\\xae\\xda\\xfb\\xc8\\xb9\\x93p\\xf5\\xaeZ\\xd9\\x8dJX\\xcb?\\x84\\xea\\x8e\\x12S\\xa1\\xed\\x13\\xf9\\x1d5D\\\\\\x83\\x8d\\xe7\\xf3\\xa6\\xdd\\xdc\\xc7kl\\xd2<\\x98\\xc5s\\x7f\\xf0\\x93\\xc6\\xb3c\\xcc\\xfe/\\xef\\xd5f\\x98\\xd8A\\xc5E\\x99\\xd1\\xc3\\xd4\\xaf~S\\xab\\x1c\\x8a\\xaf$\\xc9\\xbf`z,n\\xa3\\xba\\xb6Y\\xd3\\xf8\\x96\\xb9M\\x7f[\\xf25V\\x8b{\\x8c\\x7f\\xb7Yc\\xb1\\xb1\\x96\\x12\\x0e/r\\xb0\\xd8j\\x95\\xaa8-\\xd1\\xd7\\xa3\\xa9\\x1f{\\x14\\xdb\\x9d\\x98\\xfd\\xe3\\xfe\\x15\\xcfxg][\\xc9\\nI&\\xea\\xb7\\xe2=v\\x1d6\\xdb&E\\xc9\\xeb\\x9a\\xe2\\x8e>5p\\xae/tT\\xb0\\x95a]S\\xb6\\xa6\\x922\\x93\\x82\\xf4\\xdb\\xe9\\x92\\x18K\\xf9\\xbbk\\x94\\xb6\\xf1\\xed\\xb0\\x95G\\x98\\xbf\\xed|\\xf5\\xa9\\xa8\\xea\\x90j\\x1ao\\x99\\x1b\\xf0\\xd5\\xc7\\x1c\\\\y]>\\xa6\\xd3\\xc0\\xd6\\xa5Qs-\\x19&\\x99\\xaa\\xa4\\x8e\\xdee\\xc7z\\xd2\\xfbB\\xb27\\x97/\\xe9^oo\\x7f\\x1cSI\\xb2N\\x8f\\xfd\\xfa\\xe8t}V\\x1f\\xb3\\xb6\\xf9:\\xf7\\xae(\\xe2j\\xc2M_s\\xb3\\x13\\x978{\\xcb\\xf2\\x1fw\\xacy7{\\xe4\\x9f?5lYk\\xb6\\xcf\\x1a\\x83/5\\xe7~3\\xd5R\\xce\\xe71\\xff\\x00\\x15f\\xe8\\x9e\"\\xba\\x9a\\xfdck\\xad\\xa0V_X\\xab\\x19^,\\xf4VO\\xf5\\x8c*\\x9a\\xd2\\xc7\\xa0x\\x83\\xc5\\xc3OlF\\xff\\x00-;N\\xf8\\x83\\xa7\\xc9\\x02\\xbd\\xc4\\x9f\\xefW\\x9b\\xf8\\xe1\\xef\\xeeag\\x82\\xe3\\x81\\xf7k\\x8a[\\x8f\\x16\\xa8\\xd9\\x05\\xc6\\xe3S,mhJ\\xe9\\x9e\\x96\\x0f\\x86\\xf0\\xd8\\xac*nI4{\\xf6\\xab\\xe3\\xeb(m\\x9aKw\\xff\\x00\\x81W/\\x0f\\xc6\\x1b\\x08\\xef\\x1a;\\x89\\xf6\\x9d\\xd5\\xc5i\\xf1\\xf8\\x9a\\xebF\\xcd\\xcf\\xccv\\xf3^{\\xe2\\xeb?\\x12\\xd9\\xdf4\\x91F\\xdf\\xee\\xd6O\\x1bV\\xa4\\xae\\xde\\xa7~Y\\xc2\\xf8\\n\\xd5%FSW\\xee}+\\xa7\\xfcR\\xd2o\\x11c\\x8eec\\xf4\\xa9\\xa6\\xf8\\x81\\xa7G\\xf3\\xbc\\xcb_1x/Y\\xf1Bj\\xa27\\x86B+\\xb4\\xd7\\xa1\\xf1\\x15\\xfd\\x97\\x99\\x04l\\xadV\\xb1\\x95_P\\xc5\\xf0~\\x0f\\x0b\\x89PsV~g\\xb9\\xe9\\xfe5\\xd1\\xe7o\\xde\\\\/\\xcd\\xfcU&\\xa9\\xe2\\x9d>\\x1bfx\\xa7\\xdd\\xed_3-\\xdf\\x8f4\\xeb\\x95M\\x93\\x15\\xdd\\xf2\\xb75\\xddi\\xb2x\\x8a\\xf7H\\xdfv$\\xcb\\'z\\xa7\\x8d\\xaa\\xa3k\\x9cX\\xbe\\x13\\xa1\\x86j\\xa2\\xaa\\x9agW\\x7f\\xf1/H\\xb5\\xb9h\\xe4\\xb8\\\\\\xd5\\xfd?\\xe2\\x8e\\x9bs\\tK{\\x95lv\\xaf\\x9f\\xbcca\\xe2\\x18u\\x19$\\x8a\\xdeC\\xf3U\\x8f\\x87\\xeb\\xe2v\\xbct\\x92\\x06\\xc7\\xfbU\\x94\\xab\\xd5\\xb5\\xee{\\xb3\\xe1L\\x04\\xb0>\\xd7\\x9d_\\xe4z\\xef\\x89~+\\xdai\\x92\\xf9\\x93\\xc9\\xf4\\xaa\\xbag\\xc7}?\\xcc\\x1e[\\xed\\xcdy\\x87\\xc4]+\\xc4\\xb7\\x9bc\\x82?\\x9b\\xfb\\xcfX\\x9a\\x1f\\x81\\xbcI6\\xd7\\xb8\\xbc\\xdb\\xfd\\xea\\xc6\\xa6\"\\xa2\\x8d\\xeeuaxo&\\x9e\\x0b\\x9a\\xa4\\xd5\\xfdO\\xa1\\xae\\xfcz\\x9a\\xbd\\x80\\xb8\\x81\\xf8+X\\x9av\\xa8f\\xd4|\\xa9$\\xdd\\xf3VG\\x854o\\xb1i\\t\\x04\\xf3\\xee |\\xd4\\xcb\\x8f\\x10i\\xfa^\\xa6rUv\\xff\\x00\\x15\\x1fXr\\x86\\xe7\\x89O/\\xa1Js\\xa5A\\\\\\xf5\\xaf\\r\\xcd\\x1b\\xa7\\x97\\xfe\\xcdf\\xf8\\x9e\\xccM/\\xee\\xe3\\xfe*\\xe2t\\xdf\\x8c\\x96V\\xf2,B\\xe9W\\'\\x15k\\xc4\\x1f\\x13\\xb4\\xe8l\\xfe\\xd0\\x97\\x89\\xbf\\xefUB\\xbaq\\xb3<\\x95\\x93f\\x14\\xb1J\\\\\\x9b\\x9e\\x83\\xe1\\xad:(m\\x83\\xbb\\xf3\\xb6\\xb6\\xdb\\xc8\\xf2\\xccr\\x1e+\\xe6\\xbdO\\xf6\\xad\\xd2\\xb4B\\xd0I\\xa8\"\\x94\\xff\\x00n\\xaf\\xf8w\\xf6\\xa2\\x83\\xc4V\\xad\\xf69\\xf7\\x7fv\\xb5\\xa5\\x8d\\x85)Z\\xd74\\xc4pvwS\\xf7\\xae:\\x1e\\xd0\\xb3hP\\xea\\x7f;\\xa8*\\xdfz\\xb5b\\xf1\\x16\\x90\\xa7\\xcbK\\xb5\\xaf\\x90>*|~\\xf1\\x06\\x833\\\\G;\\xa8-\\xf2\\xb5q\\xbaW\\xed[\\xe2\\x1b\\xadJ\\xde\\xdf\\xed\\x8d\\xf3\\xca\\xaa\\xdf=m\\x0c\\xc6\\xac%\\xcd\\x18\\xeaz\\xb1\\xf0\\xff\\x00\\x19\\x8a\\xa3\\x19\\xce\\xaaZl}\\xd7\\xad\\xebzj\\xda\\xfe\\xf2UoLVm\\x9f\\x8f\\xbc;eo\\xe5\\xc9r\\xab\\xb7\\xde\\xbcB\\xd3\\xe2\\x16\\xb5\\xa9h\\r?\\x9f\\xb8\\x98\\xab\\xc1|s\\xf1\\xb3\\xc4\\xfan\\xb75\\x84w\\x8d\\xc3}\\xda\\x7f\\xda\\x15\\xaa\\xca\\xf6\\xd4\\x8c\\x07\\x02\\xbcG5:\\x95,\\xa2\\xcf\\xbd\\xa1\\xf1\\xff\\x00\\x87\\xae\\x89\\xf2/\\x15\\x88\\xaeS\\xc6\\x1f\\x15\\xb4\\xef\\x0fM\\xf6\\x89.v\\x8fz\\xf9O\\xe0o\\xc5\\xcd{W\\xd6\\x9a\\xc6\\xe1\\xe4${\\x1a\\xf4\\xcf\\x8b:F\\xb3\\xacxa\\xaf-\"m\\xe1;T\\xcf\\x1d\\x89\\x9f\\xb9=\\xcd_\\x06`\\xf2\\xfc\\xc24\\xea\\xce\\xf0\\x91\\xe9\\xd6\\x1f\\xb4\\xbe\\x815\\xc2[4\\xa9\\x97l-z\\x05\\xaf\\x89 \\xd5t\\xc6\\xb8\\xb7\\xfe(\\xf3_\\x00Z\\xe8\\x9f\\x10R\\xfa9\\x1a6P\\x92\\xf1\\x9a\\xfb#\\xe0\\xfd\\xd5\\xfd\\xcf\\x84\\xad\\xe1\\xbb~L#<T<^2\\x9aI=\\x0c\\xb8\\xa7\\x85\\xf2\\xec\\xb3\\r\\n\\xb8w\\xd6\\xcc\\xe5\\xfcW\\xf1\\xf9\\xbc7\\xad\\xcd\\xa5\\xf9\\x9c\\xa3\\xd7G\\xf0\\xaf\\xe3\\x8d\\x9f\\x8b/\\xbf\\xb3\\xe4\\x99A\\xfe\\x1a\\xf1\\x0f\\x8f\\xdf\\x0e\\xb5)|k%\\xc4\\x17\\x9bQ\\xdbu7\\xe1\\x17\\x84u\\r\\x13\\xc4V\\xf7\\x7foln\\xe5qR\\xabW\\xf8\\xf9\\xb5=w\\xc3\\xd9&+!Uc\\xa4\\xdco\\x7f3\\xea\\xaf\\x15\\xdc\\xff\\x00\\xc4\\x9aK\\x88\\xe4\\xfb\\x9f6\\xea\\xf3\\xfb\\x0f\\x89\\x1b\\'\\xf2\\xa4}\\xa47\\xcd]\\xc5\\xb5\\xb5\\xc5\\xe7\\x87Z)\\x13v\\xe8\\xbb\\xd7\\x99]\\xf8\\x15\\xce\\xa7$\\x9e^\\xdc\\xbf\\xcbZ\\xce\\xadJ\\xca\\xed\\x9f\\x13\\x93\\xd1\\xc15R\\x9dw\\xb1\\xea\\x9a\\x17\\x88\"\\xd5l\\x83\\xa3\\xe4\\x9a\\xe6\\xfcK\\xaa\\xbe\\x9f\\xa96\\xf7\\xda\\xa6\\xaex#M\\x96\\xd6\\x15\\x81\\xc7A\\xda\\x9d\\xe3?\\x0fIy\\xfe\\x91\\x1fJ\\xd99J\\x95\\x939)\\xc7\\r\\x87\\xc7\\xb8\\xb7\\xee\\x93xG\\xc4\\xeb$\\xab\\x04\\x9d\\x0f\\xdd5\\xd6\\xcaRhH\\xcf\\xde\\x15\\xe6\\xfa6\\x98\\xd6N\\xb2<\\x83\\x8a\\xeet\\xeb\\xaf:\\xc8|\\xf9m\\xbf3W^\\x0b\\x1a\\xe8\\xc5\\xd3{\\x1c\\x99\\xa6\\x1e\\x94js\\xd3\\xd8\\xe7\\xf5=F\\r6\\xfd\\xa0,\\xa0\\xa9\\xab\\xfaG\\x8a-\\x9e?.I75y\\x0f\\xc7\\xef\\x1e?\\x835_\\xb4I&\\xd5o\\xe2\\xaf5\\xd2\\xff\\x00i\\xc8\\x93RX\"\\xbc\\xfb\\xcd\\xb6\\xbc\\xc9\\xe2\\xb9j\\xdd#\\xea\\xb0\\\\)\\x89\\xcd0\\x11\\xad\\x0e\\xa8\\xfa\\x8fX\\xbf\\xb3\\x85\\x96\\xe2I*\\x0b\\x7f\\x1c\\xe96\\xdf\\xbby\\xd4W\\x97\\xaf\\xc4\\xa9\\xb5\\xdf\\x0f\\xc9$m\\xb9\\xb6\\xee\\xaf\\x08\\xf1\\xe7\\xc7]oA\\xd5\\xa4\\xb3\\xf3\\x1dHo\\x95\\xaa\\xeabf\\xe3x\\x9b\\xe5\\xfc\\x1fS\\x17\\xcdN\\xa3\\xb3\\x89\\xf6\\xfd\\x87\\x8at\\xadB\\x1f2\\xda\\xe9~\\x95\\x81\\xe2\\x7f\\x89\\xd6\\x1e\\x1e\\xb9as\"\\xa8\\xfe\\x16\\xaf\\x9a~\\x06||\\xbc\\xf1\\x05\\xf7\\xd8\\xa7\\xb9`\\xca\\xfc\\xa9\\xafE\\xf8\\xd3\\xa1]\\xf8\\x87\\xc2\\xff\\x00\\xda6\\x12\\xb2\\xca\\x13w\\xcbG\\xf6\\x85yS\\xe4\\x96\\xe6\\x158J\\x96\\x033\\x85\\x1cD\\xbd\\xc9u;\\xb8\\xfe>\\xf8nIV1x\\xb5\\xa7?\\xc4\\x1b\\x0b\\xdb\\x1f\\xb5\\xd9\\xdc/\\xdd\\xaf\\x84\\xb59~ Zj\\x8d\\x12,\\x98G\\xf9M{O\\xc2\\xbd{\\xc4Z\\x86\\x98\\xb6\\xb7\\xcc\\xcb\\xb90\\xcbQK\\x13\\x89G\\xd0f\\x1c\\r\\x97\\xe1\\xa8\\xaa\\xb4g\\xb7s\\xd1\\xf5\\xcf\\xdaB\\xcfE\\xbck9d\\xe4qV\\xfc%\\xfbGi\\xda\\xfc\\xbff\\x8e~k\\xc0\\xfe1\\xf8\\x03[\\xb9\\xbck\\xcb9\\x19wV\\'\\x80\\xbc9\\xafh\\xda\\x8cw\\x12\\xdc2\\xae\\xef\\x99j\\'R\\xacew#\\xd1\\xa7\\xc2\\x99\\x16#\\x02\\xa5\\x15\\xef[\\x7f3\\xe9\\xff\\x00\\x1fx\\xda\\xf2\\xd6\\xc1\\xf5;97\\x0f\\xbd\\xf2\\xd7\\x98\\xa7\\xed\\x0f\\xa8\\xc3u\\xe5\\\\O\\xd3\\xef-v\\x9e\\x1e\\xb2\\x8f]\\xf0\\xe1\\xb6\\x9d\\xf7oO\\xe2\\xaf+\\xf1\\xcf\\xc3{k\\rVI$\\xfe\\xfd:\\x8esW\\xb9\\xc7\\x91\\xe0\\xb2\\x859\\xe1\\xb1\\x11M\\xad\\x8fY\\xf0\\x9f\\xc5\\x95\\xf1\\r\\xa7\\x96\\x1f\\x93\\xd6\\xb9\\x1f\\x88^?\\xd64{\\x96x\\xe4eZ\\xc9\\xf8v\\xf6\\x1a\\\\\\xeb\\x03\\xcb\\x91\\xeb]o\\x8b\\xfc-\\xa6\\xf8\\x87N\\xfbU\\xbb\\xa98\\xe3\\xbd8V\\x8c\\xa1\\xab.X<\\xbf.\\xcc\\xd3p\\xf7\\x19\\xc9\\xf8K\\xe3N\\xac\\xd7\\xcb\\x0c\\xce\\xcc\\x0b\\x7f\\x1dz\\x94\\x9a\\x94\\xfe\"\\xd0\\xf7\\xc6\\xff\\x00;\\'j\\xf1\\t\\xad\\xb4\\xdd\\n\\xef\\x12l]\\x8d^\\x81\\xe0\\x1f\\x89ZG\\xd9\\xc6\\x9e\\xee\\xa7\\xf8w\\n\\x98WPvgFu\\x96R\\xa9N5\\xf0\\xb4\\xb6>\\x8f\\xb5\\x86\\xc7M\\xb2\\x11\\xc7\\xb1cU\\xae\\x1f\\xc5\\xb7\\xbe\\x0f\\xbd\\xbcay<lW\\xef/\\x15W\\xe3\\x9f\\x88\\xf5\\xef\\x0e\\xf8]\\x86\\x97\\x1b\\xb1X\\xbf\\x86\\xbe7\\xd6<\\x7f\\xf1\\xbbR\\xd6\\xe4\\xfb>\\x97q\\xb0\\xcb\\xf2\\xb5{\\xf9\\x86%\\xd3\\xa5\\x1apZ\\x1f\\r\\xc3|;S0\\x8b\\xc4:\\xbc\\xab\\xf1>\\xdf\\xf0>\\x8f\\xe1\\xa9\\x1f\\xedv\\x026a\\xfd\\xca\\xd2\\xf1g\\x8a4]1>\\xc7\\xa8\\xdc*\\xff\\x00\\xbf^c\\xfb3\\xaf\\x8a\\xa2\\xf0\\xbf\\xda\\xf5\\xa4\\x91]\\x93\\x955\\xc4\\xfe\\xd2\\x1f\\xf0\\xb0\\xaf/\\x1b\\xfe\\x11\\xfd\\xed\\xf3|\\xb5\\xcf\\n\\xf2\\xa5\\x86m-\\xc5\\xfd\\x86\\xb1Y\\xfb\\xc3N\\xad\\xd4z\\x9e\\xb4\\x9a\\xbf\\x82.\\xafU#\\x926b\\xdfw\\x8a\\xef,.l,t\\xb5\\x90H\\xab\\x18_\\x96\\xbe5\\xf8=\\xe1\\xcf\\x8a:\\xbf\\x8b\\xe0\\x8f\\\\yc\\x8c2\\xeeQ_K\\xfcC]oK\\xf0BZ\\xe9\\xfb\\xd9\\xd2.MV]R\\xa5\\xddN\\xa8\\xae \\xc9h\\xe1q\\x14p\\xf1\\xad\\xcc\\xe5\\xdf\\xa1\\x9d\\xe3O\\x1f\\xf8>\\rQ\\xbe\\xd7<D\\xaf\\xa6*\\xe7\\xc3\\x9d\\x7f\\xc3^%\\xbf\\r`\\x11\\x8a\\x9f\\xe1\\xaf\\x90\\xfc[\\xa5\\xfc]\\xd6<C4\\x96\\xfb\\xd5<\\xdf\\xbd^\\xed\\xfb \\xf8[\\xc5:[\\x9b\\xaf\\x11\\xcaY\\x8fLV\\x1e\\xd6u1J\\xfd\\xcfk1\\xe1\\xfc\\x1e_\\x92J\\xa2\\xaa\\xf9\\x92\\xfe\\x91\\xed>7\\xf1\\xb5\\x87\\x84\\xecL\\xb72m\\xae\\x0b\\xfe\\x17\\xff\\x00\\x85\\xa6\\x93\\xcb\\xf3\\x97-M\\xfd\\xa4\\xfc?\\xad\\xeb\\xda{[\\xe9r:\\xb3&\\xd5e\\xaf\\x00\\xd0\\xfe\\x08\\xf8\\xda-v\\xdc\\xdc\\xea\\x12\\xb2\\x19~e\\xa7\\x8d\\xab7R\\xc7\\'\\r\\xe4Y>/.\\xf6\\xd8\\x9a\\x96\\x96\\xbdO\\xb2\\xbc/\\xae\\xd9\\xea:\\x02jQ\\x9d\\xaaW&\\xb8\\xcf\\x1c\\xfcf\\xf0\\xd6\\x95\\xaa.\\x9f-\\xc2\\xb3\\xef\\xe4V\\xf7\\x874\\x19\\xf4\\xdf\\x01\\xc7\\xa5\\xa3\\xfc\\xe2\\x0f\\xbd_:x\\xb3\\xe1O\\x8b|A\\xf1\\x1do~\\xd9*\\xc4\\x92\\xfd\\xdc\\xd7]z\\x95a\\x83\\x8c\\x16\\xc7\\x95\\x91eyf72\\xab\\xed\\xa7hF\\xf6>\\x9a\\xf0^\\xb1c\\xadY-\\xd5\\xb2\\x0e~l\\xd6\\xf3\\xc8\\x15\\x19\\x9f\\xb5r\\xff\\x00\\x0b<<\\xda\\x0e\\x84\\x96\\xee\\xf9!W5\\xd1j1\\xbb\\xdaH\\x91\\x9f\\x99\\x97\\xe5\\xafg,N\\x9e\\nR{\\x9f/\\x8f\\x8d%\\x8d\\x94i\\xbfv\\xfa\\x14[\\xc5ZX\\xb8kt\\xb8\\xdc\\xc3\\xb0\\xad+g\\x0f\\x08x\\x87Z\\xf3\\xed\\x1b\\xc0\\xd7\\xcb\\xad\\xb5\\xe4\\xd7\\x0c\\xdb\\x9bs\\x0e\\xd5\\xe80(\\x86\\xddb\\xf4Z\\xe5\\xca\\xe5V\\xadw9=5+\\x1bC\\rAER\\x95\\xef\\xb9\\xe6\\xff\\x00\\x1c~(\\xdax\\x1a\\x0f\\xdfl\\xdd\\xb7ur?\\x01>;\\xda|@\\xf1T\\x9aZ\\x7f\\x08\\xe2\\xb2\\x7fj/\\x06k\\x1e0\\xbf\\x92\\xde\\xde\\xf1\\xa3\\x1f\\xdeZ\\xe5\\xff\\x00eO\\x83\\xda\\x8f\\x83\\xbcp5k\\x8b\\xc9$V8e=+\\xe7\\xf1\\xd5+<g3\\xee~\\x85\\x80\\xca\\xb2\\x88\\xf0\\xb4\\xea\\xd4\\xb7\\xb4qo\\xd1\\xf4\\xd0\\xfa\\x0b\\xe3V\\xbd{\\xe1\\xff\\x00\\x06\\xdcj6\\x92mdJ\\xf9L\\xfe\\xd3\\x1a\\xd0\\xd4\\x16\\x0f3\\xe6\\xf3v\\xd7\\xd5\\x9f\\x184x\\xf5\\xbf\\nM\\xa7\\xc9\\'\\xdfM\\xbbk\\xe5\\x83\\xfb9Y\\xc3\\xacGp\\x03\\xff\\x00\\xaf\\xdc\\xdf?\\xfbTce)U\\xbbe\\xf0;\\xca\\xd6\\x0ek\\x11\\x14\\xdd\\xfa\\xf6>\\xaa\\xf8s\\xaf\\xdc\\xea\\x1f\\x0f\\xaduyyv\\x84\\x16\\xaf\\x9d\\xfe9\\xfc~\\xbf\\xf0\\xdf\\x8c\\xe4\\xd3\\xed\\xe4\\xaf\\xa2\\xbc\\'\\xa2\\xc7g\\xe0H\\xac`\\x1fv\\x0c\\n\\xf9C\\xe3\\xaf\\xc1\\x9b\\x9f\\x13\\xf8\\xda\\xe2\\xf3\\xfbA\\xa3\\xdb\\xfc+Y?h\\xe9\\xa4\\xfe\\x1fS\\x9b\\x85\\xa9\\xe0*\\xe7U\\xe54\\xadwd\\xfdN\\xe7\\xf6x\\xf8\\xed\\x7f\\xe2\\xedb[\\x19\\x9f\\x80x\\xae\\x93\\xf6\\x84\\xf1V\\xb1\\xa4\\xe9Mygp\\xeb\\x84f5\\xe7\\x7f\\xb3o\\xc1y\\xbc+\\xaf\\xfd\\xaa+\\x89d\\xdc~fz\\xf5\\xdf\\x8d~\\x05MSAh\\xe7\\x8d\\x9b\\xe4\\xac\\xa9)4\\xed\\xb1\\xe9\\xe6_\\xd9\\x98n#\\xa4\\xe2\\x95\\x9d\\xae\\x91\\xf2\\xe4_\\xb4W\\x88\\xe2\\xb8X\\xa4\\x9d\\xf3\\xbf\\xe6\\xf9\\xeb\\xde\\xb4\\x0f\\x8a\\x1a\\xb9\\xf0\\x85\\xb5\\xdc\\xb2n&>k\\xc5\\xef?g=%\\xef\\x96\\xe4\\x97_\\xde\\xee\\xda\\x92W\\xb5\\xe9_\\x0bfO\\x05\\xc1\\r\\x84l\\xdb\"\\xe2\\xa1G\\xdf\\xf7Y\\xefg\\x152\\xb9\\xd2\\x87\\xb4Q\\xf8\\xbb\\x1e=\\xe2\\xef\\xda_T\\xd1|Eui\\x1c\\x9co\\xae\\xb7\\xe1W\\xed\\x15\\xabx\\xa6\\x16E}\\xc4\\x1eV\\xbcs\\xe2\\xbf\\xec\\xfd\\xe2\\x1b\\xff\\x00\\x15]^[\\xea-\\x1e\\xe6\\xf9\\xa3\\xae\\xab\\xf6w\\xf81\\xe2\\x1f\\x0f\\xeaSEy\\xa8y\\x82_\\xbbET\\x92\\xba\\xdc\\xec\\xad\\x87\\xcb\\'\\x85w\\xa7\\x1eT\\xb7:\\xdf\\x8b?\\x17u\\x8d\\x1f\\xfd2Y8\\xdd\\\\\\xae\\x8b\\xfbP\\xc4\\xb7q\\xc6\\xed\\xf33\\xed\\xae\\x9f\\xe3\\x9f\\xc1\\xbdKQ\\xd2M\\xb4\\x97\\r\\x1b\\x1f\\xba\\xd5\\xf3\\xd2~\\xce^?\\xb0\\xd5a\\x92\\xdfPi\\x17\\xcd\\xdc\\xbb\\xeag\\x08\\xbaz\\xbb\\x0f\\x08\\xb2\\xfa\\x98h\\xaap\\x8c\\x91\\xf5E\\xc7\\xc6H\\xee\\xb4\\xd5{\\x98\\xbeC\\x1e\\xed\\xd5\\x83\\xa7~\\xd0>\\x10K\\x96\\xb7\\x92\\xed\\x14\\xab\\xedj\\xc0\\xbc\\xf0>\\xbdm\\xe1e\\xb6?\\xbc\\x95`\\xda\\xcc\\x95\\xf2\\x7f\\xc4\\xed\\x07\\xe2\\xa6\\x8f\\xe2{\\xaf\\xec\\xbd.\\xe2Di~]\\x95\\x82\\xa2\\xeb&\\x91\\x9c\\xb0\\xb9U\\nN\\xd0\\xbd\\xfb\\x1f\\xa1\\x9a\\x17\\xc6O\\x0c\\xdf\\xd8\\x7f\\xa2\\xdd#+/lW)\\xe2\\xef\\x89\\xde\\x17MEE\\xe5\\xc2\\xc6w\\x7f\\x1f\\x15\\xf3\\x7f\\xec\\xaf7\\xc4[\\x9d>H<K\\xa4]BU\\xbe\\xec\\xb4\\xbf\\xb4\\xdc>!\\xd3t\\xd6\\xd44\\xfb;\\x86t]\\xcb\\xb75\\xc8\\xd4\\x95^K\\x8a\\x86S\\x97\\xd0n\\xb4o\\xaa\\xda\\xfa\\x9fP\\xf8;\\xc6\\xde\\x18y\\x87\\xd9\\xee\\xa3$\\xf4n+\\xd6|5\\r\\x96\\xb7l\\xa6\\x08\\xd5\\xb3\\xfcU\\xf9C\\xf0\\x8b\\xe3g\\x8c\\xdf\\xc6\\xd6:u\\xc0\\xbd\\x85^UVYc8\\xaf\\xd5o\\xd9\\xa6\\xc4\\xdcxB\\x0b\\xe9\\xdfqu\\x07\\x15\\xbd\\n5\\xa5\\x89T\\x9b\\xbd\\xcf\\x96\\xe2hai\\xe0\\x9e*\\x94\\x9d\\xd3\\xb5\\x9fs\\xa2\\x7f\\x03\\xd9\\xc8\\x8b$\\x90/\\x1f\\xecUi\\xa0\\xd3l\\xbf\\xd0\\xe3Ej\\xed\\xael\\xd1\\xad\\x9a?\\xf6k\\xc9/n\\xa6\\xff\\x00\\x84\\xccirI\\xfc_v\\xbd,v]_\\x05k\\xf5>\\'/\\xabW\\x1f))KD\\xae^\\xbd\\xf0\\\\\\x1a\\x84\\xcd<\\x90\\xa8\\r\\xe8\\x95\\x8f\\xac\\xc1\\xa6\\xf8N\\x16ydH\\xf7\\x7f\\x16k\\xd7\\xf4\\xfd\"\\xd6;E\\x8cF\\xa7\\xe4\\xeb^U\\xfbLh0\\xc3\\xa1\\xfd\\xb2\\xdf\\xe5\\xdbEl\\xaf\\x11K\\n\\xaa\\xf4g~S\\x99<^:\\x18Y\\xb7f\\xecy\\xd7\\x8b\\xfe$hh\\x8c\\xe2\\xe1~O\\xbc\\xd5\\xe7\\xba\\xaf\\xedC\\xe0\\xdd\\x1dZ?\\xed\\x18\\xb2\\x9dk\\x9b\\xf1U\\x9e\\xaf\\xa9i\\xb7_\\xd9\\xf1\\xb4\\x8d\\xb1\\xb0\\xb5\\xf2\\x9f\\x89\\xfe\\x1a|l\\xd6<]qmg\\xe1\\xf7[s/\\xcb4\\xaf\\x81\\xfc\\xab\\xc5T\\xe3VMI\\xd8\\xfdae\\xf8L\\x1d+(9\\x9fn\\xf8G\\xf6\\x96\\xb3\\xf1M\\xb4\\x9f\\xd8\\xd7\\x08\\xcc\\xb5\\xe7\\xff\\x00\\x18\\xfe3k\\xda<\\xdfh\\xb7\\xb8\\xda\\xad\\\\\\x8f\\xec\\xad\\xf0?\\xe2\\x06\\x8b,\\xc7\\xc42\\xa7\\xefy\\x8e8\\xb3^\\xab\\xf1+\\xf6~\\x87V\\xb2\\x8d5\\xbbI~o\\xca\\x94#N\\x94\\x9a\\xdd\\x1b\\xd1\\xfa\\x86\\x1ei\\xa8(N]\\x19\\xe3:W\\xc7MoS\\xd6\\xedm\\xe5\\xd4\\xd8\\xee\\x95w-}\\x01\\x04\\xb7z\\x8f\\x87\\x16a\\xb9\\xb7E\\xf7\\xab\\x88\\xf0\\xff\\x00\\xec\\xe1\\xe0\\xcd\\x1bR\\x87P\\x1ar\\xb3F\\xfb\\x835}\\x1f\\xe0\\x1f\\x87\\x9am\\xff\\x00\\x86Q\\xf6*\\x82\\x9f*\\xd0\\xea\\xd2\\xa9U(t2\\xcc\\xf3:X\\x1a\\x11\\x9dMu>\\x1e\\xf1\\xcc>\"\\xbc\\xf1<\\xd6vv\\xf7\\x12|\\xff\\x00w\\xcb8\\xafO\\xfd\\x9c\\xfc7\\xe2\\xa4y-\\xaf\\xec\\x1e1\\xfc;\\xab\\xd1\\xfca\\xe1}\\x13\\xc3\\xda\\xec\\xd1\\xdd\\xc1\\x14l\\xaf\\xf2\\xb3U\\xff\\x00\\x87>(\\xf0}\\xbe\\xb6\\xb6\\x91\\xdeD\\xcf\\xddQ\\xc5i,Tl\\xa9\\xf5GELw>\\t\\xd6\\xa5\\x17&\\xd6\\x86W\\xc5\\x1f\\x83\\xaf\\xafi\\n/$\\xf2\\xf3\\xf7Yk\\xcf\\xb4\\x9f\\xd9\\xda\\xc2\\xd2\\xfa\\x1b\\x89\\xef%m\\x8e\\xad\\x8a\\xfa/\\xe2\\xcf\\x89t\\x9b?\\x0b\\xb6\\xa1\\x12q\\x1a\\xee\\xf9k\\xe4\\xaf\\x18~\\xdc\\x1e\\x08\\xf0\\xdd\\xe4\\xd6r\\\\.\\xe8\\x99\\x83/\\x99W\\xed\\x9f-\\xa2\\x8f?)\\xccqU\\xf0\\xaeUm\\x14\\xbb\\x9f[\\xfc=\\xf0=\\x9d\\xc6\\x83\\xe4\\xa4{\\x80LW\\x9b\\xf8\\xd3\\xe1/\\x87\\xe0\\xf1$\\xd7\\x17\\xfar\\xefg\\xdc\\xac\\xd5s\\xf6K\\xf8\\xfbo\\xf1S\\xc2\\x8b{\\xa2\\xcf\\x98\\xd9\\xfau\\xae\\x0b\\xf6\\xf0\\xf8\\xb5\\xe2\\xaf\\x85\\xf6\\x1f\\xdb\\x9a=\\xbe\\xe6_\\xbdQ\\x1cM\\x9e\\x8bS\\xcd\\xc2K\\x1dG9\\x9ce?u\\xab\\xfc\\x8fB\\xf0\\x1f\\x86\\xfc9\\xa6j\\xb1\\xbcQE\\x19\\xfc+\\xd6\\xbcKm\\xa6\\x8f\\r\\xb3$\\x9b\\x86\\xcf\\x9a\\xbf)\\xbc\\x1f\\xff\\x00\\x05\\x05\\xf1\\xfb\\xf8\\xe6\\xc6\\xda\\xf3{[\\xbc\\xea\\x92W\\xe8\\xe7\\xc3\\x0f\\x12K\\xf1\\x07\\xe1\\xe47D\\xee\\x13[\\xab\\x0f\\xca\\xaaS\\xabNK\\x9f\\xa9\\xcf\\x9bB8\\xb7\\x1cD*]E\\xa4\\xd1\\xc6j\\xde;\\xf0f\\x95\\xa85\\xbd\\xe6\\xa1\\x12\\xb27\\xcd\\xba\\xbd#\\xe0\\xa7\\xc7\\x1f\\x0f_+\\xe9\\x96\\x17\\x8b!\\x8f\\xae\\xda\\xf8G\\xf6\\xc9\\xf07\\xc5\\xad#\\xe2\\x13I\\xe1ky\\xda\\x19_\\xe6\\xd9[?\\xb0\\xd5\\x97\\xc5}\\x0f\\xc7\\xb3\\xc7\\xe2\\xc8\\xe7\\xfb4\\xd1|\\xac\\xef\\xfcU\\xa4\\xd4\\xe3O\\xda\\xdc\\xf4\\xf1\\xd8L\\x1e:\\x8f\\xd5\\xea&\\xee\\xae\\x9fC\\xec\\xbf\\xda\\x13\\xc5ZN\\x93\\xa6/\\x88\\xee\\x07\\xcb\\xfcM^)\\xa1~\\xd6\\xde\\x10\\xb0\\xd5\\xe1\\x8e+\\xd4Q\\xe6\\x85n\\x95\\xec\\xff\\x00\\x17\\xbe\\x1f^x\\xdb\\xe1|\\xd6c\\xe5s\\x03mj\\xf8\\x82\\xdb\\xf6N\\xf1o\\xfc$\\x92Ey\\xaaK\\xb3\\xcdm\\xac\\x9cR\\x82\\x95Uyha\\x92\\xac*\\xcb\\xbd\\x8a\\x8f5\\x9bL\\xfdF\\xf8M\\xe3-?\\xc6\\x1e\\x19\\xb7\\xbf\\xb4\\xb8WV\\x8di\\x9e1\\xb4}:\\xf3\\xed1\\xa7\\x0f^Y\\xfb\\x18Z_\\xf8k\\xc3QxwR\\x9d\\xe4h\\x13`g\\xeb^\\xd7\\xe2\\xf8Rk\\x15.\\x9c\\x06\\xfb\\xd5\\xdd\\x85n\\xa6\\x1d\\xf3t\\xf9\\x9f\\x9af\\x98he\\x99\\xec\\xe9\\xd3\\xd6-\\xe9\\xe8\\xcc\\xbf\\x0f_\\xca\\x1dq\\xd0\\xfd\\xea\\xd9\\xd4G\\xdam\\x19\\x07\\xa6k\\x1fG\\x9a\\xcd\\x17\\xef\\xaf\\x15\\xa6\\x9a\\xad\\x9c\\xb0\\xf9r?\\xb5z\\t\\xd1\\x8c4<\\xecT[\\xadx\\xa3\\x95v\\xba[\\xa6O\\x9b\\xefV\\xe6\\x81\\xa8\\\\\\xa4\\xa6\\xdaq\\xc1\\xe9P_\\xdbC\\x15\\xc7\\x9a$\\xe1\\xaa\\xbd\\xee\\xa1a\\xa7\\xc2\\xb3\\x17\\xc1\\xfe\\xf5G,#\\x1b\\x9d\\xb3\\xb6\"\\x9a\\x8d\\x8e;\\xf6\\x90\\xf8u\\x0f\\x8d\\xbc=2Hv\\xban\\xda\\xd5\\xf2\\xbd\\xb7\\xc1\\x19\\xac\\xef\\xfc\\xc9/\\x19\\x99\\x1fr\\xb5}}\\xe2?\\x19\\xd9\\xea:t\\xd6A\\xd5\\x8e\\xc6\\xdb_\\x1d|l\\xfd\\xa3l>\\x17k\\xf2Y\\xea\\x91m]\\xed\\xb7}yu&\\x95\\xf9z\\x9f\\xa2p\\x85|e\\x1c\\x1c\\xa8\\xd4\\xd1GT{\\xf7\\xc2\\xcf\\x0f\\xc4t\\xa5\\xb3\\x9a~v\\xed\\xf9\\xab\\x95\\xf8\\xb5\\xf0\\x7fJ{\\xf6\\xd4.,\\x93\\xe6\\xfe*\\xf1\\xaf\\x82\\xff\\x00\\xb6\\xee\\x89\\xe2o\\x14\\xae\\x85\\x1d\\xc7\\x96\\xec\\xdf*\\xef\\xafv\\xf1\\xff\\x00\\x89\\xef5\\xdf\\x08Iud7H\\xb1nV\\xa9\\x85i\\xb8\\xf2\\xb5fw\\xa8\\xe2\\xe9f~\\xd6\\x13N2\\xdf\\xc8\\xe4\\xbc!\\xa3\\xf8\\x7f\\xc3:\\x8aOn\\xab\\x19\\r\\xf35{\\xe6\\x81\\xae\\xe8z\\xe6\\x83\\xf6tuf\\xd9\\xd2\\xbf-\\xbe.\\xfe\\xd2\\xdf\\x12\\xfc#\\xe3;\\x8d\\x1e\\xde\\xce\\xeb\\xe4\\x97\\xe5\\xda\\x86\\xbe\\x83\\xfd\\x8d\\xbfh\\xbf\\x15x\\xea\\xc9l\\xf5\\xcbi\\xe1\\x9d\\x7f\\xbf\\xc57\\x1a\\xd1\\xf7\\x9e\\xa8y\\xc6\\x16\\x8ee%\\x15&\\xa7\\x13\\xd7~\\'_\\xf8{\\xc2\\xba\\xac\\x92^lU\\xdd\\xf7\\x9a\\xb2\\xfc!\\xf1\\xc7\\xc2zu\\xfa\\xdb\\xc5\\xa8\\xc5\\xf3\\xd5\\x8f\\xda3\\xe1\\x8e\\xab\\xe3\\xff\\x00\\n\\xc9y\\xa6\\\\<3y_,\\x89_\\x1d\\xc3\\xf0\\x1f\\xe3\\x05\\xae\\xbc\\xdf\\xf1<\\x9f\\xe4o\\x95\\xaa\\x14\\x1dY^.\\xc7e\\x19B\\xae\\x021k\\x9b\\xa3\\xd4\\xfd\\x08\\xbe\\xf1&\\x8b\\xe2}\\x0b\\xed\\t\\xb5\\x8e\\xcc\\xab-xw\\x8f>5\\xe8\\xde\\x04\\xd4\\x9a\\xde\\xe6E\\x8f\\x0f\\xf7\\xab\\xa0\\xf8\\x0f\\xa3\\xf8\\x8a\\x1f\\x0fCe\\xab\\xca\\xf2J\\x13kn\\xaeg\\xf6\\x84\\xfd\\x9a\\x7f\\xe10v\\xbb\\x966]\\xcd\\xf3V\\x9c\\xaa~\\xebd\\xe0\\xa9\\xd1\\xc1T\\x954\\xf5{&t\\xdf\\x07?j=\\x13Z\\xbc[K]A[?\\xc3^\\x87\\xe3\\xe2\\xfe\"\\xd1\\x1bT\\xd3\\xfef\\xdb\\xfc5\\xf2\\xd7\\xc3\\xaf\\x800\\xf8\\'[\\x87P\\xb7\\xb8u(\\xff\\x006\\xe9+\\xea\\xef\\x00\\x1d:\\xff\\x00F\\xfb\\x04\\x8c\\xad\\xf2\\xed\\xdbP\\xda\\x8c\\xb9T\\xae\\x8c1\\x94\\xa1\\x87q\\xc6F\\x16\\x92z\\xd8\\xf9\\xbf^\\xf8\\x97\\xe2\\xdf\\x0ekme\\x1d\\xbb0F\\xafX\\xf8U\\xf1#U\\xd7t\\xd53F\\xcb\\x9e\\x19Z\\xaa\\xfcT\\xf0N\\x81a\\xa9I\\xa8\\\\[\\xa7\\r\\xbbus\\xfe\\x1a\\xf8\\x89\\xe1\\x0f\\x0f\\xce\\xb6\\xf1^\\xc5\\x17\\xfc\\x0e\\xa2N\\x9cz\\x1e\\xac\\xfd\\x9e;\\r\\xcfm\\x1a\\xd2\\xe6\\x97\\xc5\\xdd\\x13^\\x99Z}<\\xd7\\r\\xe0\\x9b\\xcf\\x16i\\xba\\xc2\\xbd\\xcc\\x8c\\x13w\\xce\\xa6\\xbd\\xc7O\\xf1\\'\\x86\\xfc]\\xa3\\x00\\x92\\xc5+\\x7fyk\\xca\\xbe+\\xf8\\xabM\\xf0\\x1c\\xcds\"\"\\xa8\\xadUNh\\xdd+\\x86\\x0e\\xbc\\xa5M\\xd2\\x94l\\xe3\\xf8\\x9fY\\xfc]\\xf8\\xbb\\xe0\\x9bT\\xfe\\xce\\xd4/\"o\\xf6Y\\xeb\\x82\\xf0\\x9f\\x8b\\xfe\\x1b\\xeb\\xfa\\xecv\\x16p\\xc1)/\\xfc\\x185\\xe4_\\x1f\\xbe\\x08|H\\xf1W\\x8a$}+S\\x968\\xb75i\\xfe\\xcc\\x9f\\xb3\\x9f\\x8c\\xb4\\x1f\\x12\\xa5\\xf6\\xb1x\\xd2\\x00\\xdf\\xc5^\\x8e.Uk\\xe25w>/\\x07\\x95\\xe00\\x19sjm.[\\xdf\\x99o\\xe9s\\xea\\xfb\\xddwA\\xf0G\\x85\\xcc\\xe4,i\\xb6\\xbc\\x9b[\\xfd\\xa2~\\x1e\\xdd^4W\\x97\\x10\\x16\\x1f\\xde\\xae\\xcb\\xe2\\xef\\x83\\xf5\\rW\\xc2\\xed\\xa7\\xdb\\xc9\\xcf\\x95\\xb6\\xbeJ\\xd6?c\\xff\\x00\\x15^k\\x12^\\x7fj\\\\*\\xcd.\\xed\\xbeeV-\\xd4\\xe4\\x8c\"\\xec\\x8f\\'\\x87\\xf2\\xec\\xb7\\x11JU\\xaa\\xca\\xf2o\\xf9\\xac}S\\xf0\\x87\\xc6~\\x17\\xf1=\\xf3\\\\\\xe9\\xb0F\\xe0\\x7f\\xcbE\\xab\\x1f\\x1a\\xbe7xk\\xc2\\xf6\\rmw<H\\xa3\\xe5\\xf9\\xea\\x87\\xec\\xe9\\xf0:O\\x02xU!\\x9aFi6r\\xcf^[\\xfbU\\xfc\\n\\xd6\\xfcsr\\xd6vz\\xa4\\xb0\\xab}\\xe6Z\\xe9\\xa5\\tQ\\xc0\\xbdufq\\xc3eX\\xdc\\xf9\\xc1J\\xea;k\\xd5y\\x94\\xed\\xff\\x00h\\xef\\x87WZ\\x84v\\x91M\\x033\\xb5}\\r\\xf0\\xdb\\xc4ZR\\xf8Hj\\xd6\\xa8\\xaa\\n\\xe5v\\xd7\\xc4\\xbe\\x10\\xfd\\x875Xu\\xdb[\\xc95\\x89\\xe4\\xd9*\\xb3W\\xd9\\x9e\\x13\\xf0\\x14\\x9a\\x0f\\x80WIiv\\xfe\\xefn}+\\x83\\t\\x17*\\xcekT\\x8e\\xee#\\xa5\\x81XHA\\xb4\\x9bkD\\xef\\xa7\\x99\\xe5\\x7f\\x18\\x7fk\\x9d\\x03\\xc2\\xda\\xdbi\\xfa\\x8c\\xe8\\xbb[\\xee\\xd5O\\x87\\x1f\\xb4\\xdf\\x87\\xfci\\xaf\\xdb\\xd8\\xe9\\xd1\\x86vo\\x9bmq\\xff\\x00\\x18\\xff\\x00dX>!x\\x86MB\\xe2F\\xf9[\\xe5j\\xdf\\xfd\\x98?d\\xcb_\\x01\\xf8\\x8c\\xeaL\\x1d\\x88\\xe8[\\x9a\\x9a\\x90u\\xb1\\x16\\xbe\\xa7th\\xe4\\xd8l\\xbd\\xbbG\\x95G\\xbb\\xbe\\xdd\\x8f\\x7f\\xf1\\xb7\\xc5[\\x1f\\x0b\\xf8s\\xedR.\\xdcE\\xb9\\xab\\xca\\xfe\\x15\\xfe\\xd0\\xba\\x0f\\x8e\\xfcW%\\x9d\\xb8V).\\xd6j\\xea?h_\\x86wz\\xbf\\x86\\xa5\\xb7\\xb2\\xb8\\xdb\\xbe-\\xb5\\xe0\\xbf\\x00\\xbe\\x01k\\x1e\\x00\\xf13\\xea/\\xa8J\\xfet\\xbb\\xbej\\xee\\xc6sEE\\\\\\xf32L\\x06U[-\\xa9SK\\xbb\\xeb}Wc\\xee\\r\"T\\x9e\\xca9\\x17\\xa1A\\\\O\\xc6?\\x8ai\\xe0\\x18#\\x0f\"\\xfc\\xed\\xf3WQ\\xe0\\xf6d\\xd0\\xe2I\\xdf\\xa2\\xd7\\x97\\xfc{\\xf0\\x1c\\xde9\\xbcX\\xe3\\x9f\\xe5F\\xf9\\xab\\xd7\\xad\\x88_\\xd9\\xaa)\\xd9\\xb3\\xe3r\\x9c.\\x16\\xa6p\\xa1\\x88~\\xe2z\\x9dw\\xc3o\\x88\\xf6\\xde.\\x81\\x1d6\\xeee\\xae\\xab\\xc4\\xda\\xc4Z\\x1e\\x91%\\xfb\\xbf\\x08\\x8c\\xd5\\xe6\\x7f\\x07|\\x11\\x17\\x85\\x9daw\\xeb]\\xbf\\xc4\\xdb\\x07\\xd4\\xbc15\\xba>\\xdc\\xa5c\\x97\\xd5p\\xc2\\xcb[\\xb2\\xf3\\\\6\\x06\\x19\\xba\\xa7G\\xe0l\\xf9\\x1f\\xe3\\x1f\\xed\\xab\\xe1\\xbf\\x0e\\xf8\\xaa\\xe3J\\xd4.9\\x0f\\xb6\\xbd\\x03\\xf6O\\xf8\\xf9\\xa0\\xfcN\\x96Y\\xb4\\xc1\\xbdc;wW\\xcf\\xdf\\x16\\xbfc\\x98|g\\xe2{\\xadr\\xe2G\\xdc\\xd2\\xfc\\xab^\\xd5\\xfb\\x11~\\xcf\\xd6\\xbf\\n!\\x92\\x04\\x89\\x82\\xc8\\xdb\\xab\\xc3\\xa9\\x1b\\xd6M=[?B\\xc7\\xd0\\xc2Q\\xcajE\\xc5(\\xf2\\xe9g\\xad\\xce\\x9b\\xf6\\xa5\\xf8\\xe7y\\xf0\\xdfF\\x9bQ\\x93\\xe6\\x89\\x13\\xee\\xd7\\xccz?\\xed\\xff\\x00\\xa6j\\xba\\xac6\\x7fgvi%U\\xaf\\xa8\\xbfj\\xaf\\x84\\x16\\x1e=\\xd1\\xa4\\xd3n>e\\x97\\x86Z\\xf9\\x83\\xc3\\xdf\\xb0\\x87\\x864\\xdf\\x13Z\\xde\\xc7\\x1b\\xe2)\\xd5\\xaa1t\\xaf+I\\x8b!xW\\x97C\\xd9\\xc6?\\xde\\xbe\\xe7\\xd7\\xbe\\x1b\\xf8\\xb4\\xcd\\xf0\\xf2\\xdbS=d\\x89XW\\xcb\\x9f\\x1a\\x7fm/\\x0e\\xf8K\\xc6wZ}\\xe7\\xdfV\\xf9\\xab\\xeaX\\xbe\\x18\\xc3\\x0f\\x80\"\\xb0\\xb4\\x87`\\x8e\\x1c/\\xfd\\xf3_\\x10|{\\xfd\\x8bo<s\\xe3\\x9b\\xadc\\xed\\x8c\\xbb\\x9e\\xb7t_\\xb1\\\\\\xcfc\\x1c\\xab\\xean\\xbdi\\xe1\"\\x9c\\xef\\xd7\\xb5\\xcf\\xa6\\x7fao\\x8f\\xda\\x0f\\xc6\\x0b\\xcb\\x91\\xa7\\x9eb8\\xdb^\\x95\\xfbXx\\xba\\xe3\\xc1>\\x02\\xba\\xd7\\xed\\xfa[\\xc2\\xcc\\xd5\\xf3\\xdf\\xfc\\x13\\xb3\\xf6~\\xd4\\xfe\\x0c\\xf8\\xae\\xe5\\xe7\\xbci#\\x9caV\\xbe\\x90\\xfd\\xa8\\xfc\\x1d\\x0f\\x8c>\\x1e]\\xe8\\xd2K\\xc4\\xd0\\xb2\\xd4\\xd1\\x83xi\\xf2\\xed}\\x0f\\'3T\\xe9qE\\tTKT\\xae\\xb7W>\\x17\\xd2\\xbfo\\xfd\\x1ek\\xc5\\xb7\\xbc\\xb7\\xda\\xden\\xda\\xfb7\\xe1\\x9f\\xc4km[\\xe1\\xd5\\xae\\xb6\\x89\\x85\\x96%a_\\x0c\\'\\xec!k\\xfd\\xb9\\x1b\\x99\\x1bg\\x9f\\xbb\\xff\\x00\\x1e\\xaf\\xb7\\xbc\\x07\\xf0\\xd7\\xfb+\\xe1u\\xb6\\x91i\\xb8\\x08\\xa0\\n\\xb8\\xff\\x00v\\xb9\\xa8\\xd1q\\xabx\\xb3\\xdf\\xcf=\\x8c\\xb0\\xc9bR^\\xf2\\xb5\\xbb\\x1e\\x15\\xf1\\x9f\\xf6\\x9b\\xf0\\x17\\x84\\xfceq\\xa5j\\xb2\"\\xc9\\xfcU\\xea\\xff\\x00\\xb1\\xe7\\xc4/\\x05|W\\x13\\xdd\\xe8\\xef\\x1c\\xa6\\'\\xda\\xdd\\xeb\\xe4/\\xda\\x7f\\xf6N\\xf1W\\x8f>%\\xdck\\x16w\\x8e\\xb1o\\xf9\\x96\\xbd\\xb7\\xfe\\t\\xa5\\xf0{_\\xf8A\\xe2{\\xdd>\\xfe\\xeb}\\xbc\\xff\\x004j\\xdf\\xde\\xaa\\xabA\\xc6\\xace\\xe6Vg\\x19<\\xa6\\xad8\\xc6\\xd0P\\xbaw\\xf4\\xfc\\xcf}\\xfd\\xabu+\\x0f\\x07\\xf8FO\\x10\\\\Z.\\xc8Ssm\\xaf\\x96,\\xff\\x00j\\xcf\\x86\\xf7\\xf7k\\x04\\x97*\\xaf\\xbfn\\xda\\xfa\\xf3\\xf6\\xb0\\xf0o\\xfc&\\x7f\\x0b\\xef\\xb4\\x7f3kKn\\xc1Z\\xbf/o\\xff\\x00b\\x7f\\x8a6z\\xf3^Y\\xeb\\x1b\\xa2\\xfbF\\xe8\\xd7\\xfd\\x9d\\xd5X\\xca\\tUi\\xbfC\\x83\\x85qSYLy#\\xcc\\xf9\\x9a~\\x87\\xe8\\x9f\\x81\\xef|9\\xe2\\x1f\\x05\\xc5\\xa9\"+$\\xb1n\\xdd^;\\xe3k\\x9f\\x00\\xd8x\\xa6k{\\xcb\\x8buvo\\xba\\xf8\\xafG\\xf8C\\xe1\\x1dsA\\xf8Ig\\xa7^\\x16i \\xb4Um\\xb5\\xf1/\\xed\\x8d\\xe0\\xcf\\x8bW_\\x14f\\xbc\\xf0\\xdc\\x13\\xf9_7\\xdc\\xaex\\xd2\\xab:V\\xd8\\xf5\\xf0\\x95)\\xe1\\xf15\\xe7\\x16\\xe4\\x93\\xda\\xf7>\\xbc\\xf8We\\xe1MR\\xef\\x1at\\xf00\\x1fyc\\xc5[\\xf8\\xdd\\xf0\\xfb@:~d\\xf2\\xb6\\xbf\\xde\\xdd_,\\xfe\\xc0\\xf2\\xfc\\\\\\xd3\\xfe\"\\x9d+\\xc5\\xd6WK\\x04\\x89\\xf2\\xb4\\xbd+\\xeb\\x0f\\xdag\\xc3\\xfa\\xe5\\xe7\\x80n\\x7f\\xb2#o\\xb4-\\xbec\\xaex\\xe1\\xa7g\\x12\\xea\\xe2g\\xfd\\xa5F|\\xcd)tg\\x91\\xe8\\xff\\x00\\n\\xbc\\x07\\x06\\xa3\\x0e\\xa3\\x15\\x9c\\x0c\\xf1\\xb6wq_g|\\x0ck\\x05\\xf0\\x84\\td\\xea@^v\\xd7\\xe4\\xec?\\x13?h\\x7f\\x0f\\\\\\xb5\\x9d\\xc6\\x87t\\xc5%\\xdb\\xb99\\x1fz\\xbe\\xf9\\xfd\\x90~\\'\\xf8\\x92\\x7f\\tYK\\xe2$h\\xdd\\xe1R\\xe8\\xd4\\xb0\\x93\\xad\\x80\\xc6\\xc6\\xa5MQ\\xcf\\xc5Xg\\x9a\\xe5M\\xd1\\xd1\\xc1\\xde\\xd6\\xb5\\xcf\\xa7\\xe6t\\x8e&\\x91\\xff\\x00\\xbb\\xcdx6\\xbf\\xe2+X\\xfe/Gi\\x1c\\x9b\\xb2\\xf5\\xb7\\xf1#\\xf6\\x82\\xb5\\xd0,\\xe6\\xb5\\xb6\\x89\\xbc\\xcd\\xbf\\xc3_-_|m\\xd6\\xa5\\xf8\\xb7m9\\xb2\\x9d\\x96I\\x7f\\xd6yf\\xbd\\xec\\xdf<\\xa1\\x89\\xa6\\x94z\\x1f=\\xc2\\\\5\\x8d\\x97\\xb4\\xabUY8\\xb4\\xbdO\\xbft\\xf9V[\\x18\\xdc\\xff\\x00s\\xb5y?\\xedQ\\xafY\\xd8x^H\\xe4\\x91r\\xa9Sxs\\xe3K\\x7f\\xc2,\\xb7\\x0f\\x1e\\xe7X\\xbaW\\xcc\\xff\\x00\\xb5\\xaf\\xc4\\xbf\\x1ex\\xc2\\xc2\\xe2\\xcf\\xc3\\xf6n\\xcc\\xdb\\x95}+O\\xed\\x95_\\x01\\x1a)\\x1c\\x99\\x07\\r\\xe3\\x16q\\xcfQZ0wf\\xff\\x00\\xc3\\x884\\xbdn\\xc0\\xdf\\\\}\\xd9CV?\\x8a\\xf5\\x8f\\x08xV\\xf2K}SP\\x82<\\xbf\\xca\\xcdV\\xbfe?\\x02\\xf8\\xbe\\xe3\\xe1\\xdd\\x9d\\x97\\x88#\\xff\\x00K#\\xf7\\x95\\xc1\\xfe\\xd8\\x7f\\xb2O\\x8c\\xfcc}\\xf6\\xcd\\x1fW\\x96\\xdd\\xbd\\x15\\xf1_;W\\x01S\\x11v\\x9d\\x8f\\xd2^>\\x9d<l\\xa0\\xa5wm#{\\x1e\\xbd\\xfb;\\xfcE\\xf8y\\xe2\\x0f\\x12\\x8d?J\\xbf\\x82yGEC^\\x8b\\xfbJ3h^\\x0c\\x9b\\\\\\xb2\\xd3\\xbc\\xcf&-\\xff\\x00/\\xfb\\xb5\\xf1\\'\\xec\\x97\\xfb:\\xf8\\xf3\\xe1G\\xc5\\x1bmoQ\\xf1\\x1c\\xb2D\\xc7l\\xd1\\xbfJ\\xfd\\x10\\xf17\\x86\\xed\\xfcG\\xe0G\\xb6\\xbd\\x8df\\x8d\\xed\\xf0\\xcb\\xff\\x00\\x01\\xac)`\\xa5\\x19:i\\xdc\\xf9\\\\\\xf2\\xa3\\xc2f\\x98|\\\\\\xd3W\\xde-\\xf6\\xb7S\\xf33\\xc5\\xbf\\xf0P\\x8b=6\\xf2m.=>U\\x9a7ee\\xf2\\xcd}\\x91\\xfb\\x17|\\\\\\xba\\xf8\\xc1\\xf0\\xb2\\xd7Y,\\xca\\\\|\\xcb\\xd2\\xbc/\\xc5\\x7f\\xb1\\xa7\\xc3\\xab\\x8f\\x14\\xdd\\xea\\xb2h\\xf1oy[\\xe5h\\xeb\\xe8?\\xd9+\\xc2\\xbe\\x1e\\xf8y\\xa7\\xa7\\x85t\\xf8\\x16\\x18S\\xf8R\\xa1\\xe1\\xa9\\xc6IFZ\\xec\\xcf[:\\x95J\\xd9mI\\xc9\\'\\x1d\\x1cm\\xbf\\xf5c\\xe6\\xaf\\xf8)\\x96\\xa1\\xf1S\\xc1\\xf7\\xf0\\xea\\x1e\\x0f7\\r\\x13\\xff\\x00\\xac\\xf2\\xa3\\'\\xff\\x00A\\xaf\\x99\\xff\\x00g\\xdf\\x1b~\\xd00\\xfcT\\xd3uMSO\\xbd\\x92\\xd2[\\x8d\\xb33\\xe7\\x1bk\\xf53\\xf6\\x95\\xf0\\x1f\\x86\\xbcC\\xa7\\xac\\xb7v\\xf1M\\x1f\\xfbx5\\xe2\\x9a_\\x82\\xbc\\x0f\\xa2\\\\\\xac\\xb1Eo\\x1e\\xc7\\xf9zWK\\x8d\\x1a4\\x9a\\x9a\\xbb\\x7f\\xd6\\xe1\\x93\\xd5\\x9ec\\x83\\xa5V2qQVk\\xbd\\x8fN\\xb0\\xf0\\xed\\xf7\\x8c\\xfc\\x08-\\xeem\\xb6\\xf9\\x90|\\xdb\\xbe\\x95\\xf0\\xd7\\xc6\\x0f\\xd8KR\\xd4\\xfc\\x7fy\\xa8Y\\xc9\\xba\\xdeIw4{+\\xf4\\x8f\\xe1u\\xfe\\x87s\\xe1p\\x91\\xed|.\\x06\\xda\\xf1_\\xda\\x07\\xe2\\x17\\x84\\xbe\\x1b\\xeb\\x12\\\\k\\x12$(\\xed\\xf2\\xee\\xa9\\xa4\\xfd\\x949\\xa3\\xa9\\xcb\\x80\\xc5K\\x17\\x8f\\xab\\x82\\xa9\\x0fv\\xf7\\xecr_\\xb0g\\xc1\\xc9>\\x14i\\xef\\xe1\\xe9\\x1d\\xf6\\xbc\\xdb\\x82\\xbf\\x15\\xea\\x7f\\xb5\\xcf\\xc0\\x9d\\x0f\\xe2W\\x82\\xda\\xc3S\\xb4\\xdc\\xae\\xbf5x\\xdf\\x82?j\\xff\\x00\\x01\\x8f\\x14\\xda\\xd9\\xe9\\x9a\\xa4[\\xe4\\x97h\\xf9\\xc5}\\x03\\xe2?\\x1eO\\xad\\xf8FK\\x82w\\x8f+*+8J\\x9c\\xa6\\xe4\\xd5\\x99\\xa6a\\x86\\xc5a\\xf3:5\\xe8\\xdb\\x95ic\\xe3\\x8f\\r\\xfe\\xc3\\x9f\\r\\xf4{\\xf5\\xb8\\x8fKM\\xca\\xfb\\xb75}\\x99\\xfb4\\xf8\\x16\\xce\\xc7@\\x8fL\\x8f\\xe5H\\x91UG\\xd2\\xbe\\x07\\xf8\\xd5\\xfbq\\xea?\\x0f|]u\\xe1\\xf3d\\xdb\\xa1\\x97j\\xd7\\xd2\\xff\\x00\\xf0N\\x1f\\xda\\xde\\xd3\\xe2\\xf2Ie}\\xfb\\xb9\\x83\\xe0\\xabqZ\\xd6\\x9d_vU\\x17\\xbb\\xb1\\xb6}\\x08\\xcb-\\xabK\\x0c\\xd2\\x9aWk\\xd0\\xf4\\x8f\\xda/\\xc0\\x1aV\\x9b~\\xba\\xa6\\xa9o\\x17\\x97\\xfcL\\xf5\\xe5Z_\\x8b<\\x0f\\xa1\\xdd-\\xdd\\xbd\\xe5\\xba\\xb0\\x7f\\xe0\\xc5}\\x1b\\xfbYx\\x12o\\x1b\\xfc-\\xbc\\x8fO\\x91\\x96\\xe0@\\xde[\\'\\xfb\\xb5\\xf9)\\xe2\\x7f\\x06~\\xd1Zo\\x8a\\xae,\\xed\\xb5\\tZ(\\xee\\x19Wvi\\xce\\x94\\xe7W\\x92/C\\x9f\\x86\\xb3/m\\x92\\xa7%\\xcc\\xe2\\xf9_\\xa1\\xfa\\xb1\\xe1\\xcf\\x1e\\xe8\\xfe!\\xf0\\xc2\\xda\\x9d\\x8c\\x1e*\\xf9\\xcf\\xe3\\x7f\\xc6\\x9f\\t|(\\xd6\\xe4\\x8fT\\xf9C6\\xe5\\xad\\xcf\\xd9\\x17\\xfe\\x13\\x0b\\xff\\x00\\x03YY\\xf8\\x9f\\xfe>\\x84\\x7f\\xbc\\xae\\x1f\\xf6\\xe9\\xfd\\x99uo\\x88\\xa2\\x1b\\x8bK\\x8f-\\xd7\\xe6\\xddR\\xa3Q\\xcb\\x92[\\x1dx\\x1aT0\\x18\\xd9\\xc6\\x9b\\xd6J\\xe93\\x7f\\xf6l\\xfd\\xb6\\xfc\\x19\\xe2o\\x1d/\\x87\\xb4\\xddAVf\\xfb\\xa9\\x9e\\xb5\\xf6\\x9cZ\\x84^%\\xf0\\xc7\\xdam\\x9f,\\xc9\\xb9Z\\xbf)\\xbe\\x0b~\\xc7:\\xdf\\x82|[c\\xe2\\x88\\xef%\\xf3\\xed\\xa5VV\\xe9\\xff\\x00}W\\xe9\\x7f\\xc0\\xfdA\\x9b\\xc2\\xf1[N\\xdb\\x98G\\xf3\\x06\\xaaP\\x9d\\x1a\\x8a1wG\\xcfqN\\t\\xd4\\xc2\\xc3\\x19(r\\xcd;?4s\\x92x\\xaa\\xebI\\xd5d\\xd3\\xe6vR*;\\x1f\\x89\\x13\\xa5\\xf3Y\\xe5\\x9b\\xe6\\xf9j_\\x89o\\xa5i\\xba\\xeb^\\xdcm]\\xd5\\xc8\\x1f\\x12\\xe80\\xdf-\\xc7\\x98\\xb8f\\xf9\\xab\\xad\\xe2aN6l\\xdf\\x03\\x84\\xa3\\x8c\\xc3)\\xfb&\\xdb_\\x89\\xeb\\x17\\x1a\\xd4\\xf7\\xbaH\\xba\\x8f\\xa8\\xae;\\xc6\\xda\\xc5\\xe5\\xe6\\x8f$q\\xfc\\xa4}\\xda\\xdc\\xd2<K\\xa1\\xdd\\xe8\\xbe]\\xbd\\xca\\x9f\\x97\\xbb\\xd7\\x97\\xfcE\\xf8\\xbb\\xa0xn\\xe6K}B\\xf2(\\xd7\\xf8wI[G\\x10\\xa1J\\xe7.W\\x80\\xa9,S\\x8ci\\xeb\\x17\\x7f\\x917\\x80[T\\xd5\\xafZ\\xce\\xf1\\xd8\\xb27\\xf1\\n\\xf3\\x8f\\xda\\xdb\\xf6N\\xd1\\xfe$\\xda\\xad\\xe5\\xe5\\xbb+\\xe7\\xe6j\\xd6\\xf0_\\xed\\x11\\xe0\\xe8\\xfcD\\xa9o\\xaaE\\xbd\\xdb\\xfb\\xf5\\xea^+\\xf1\\x8d\\x9f\\x89\\xfc.\\xcfh\\x8a\\xecb\\xdc\\xb5\\xc0\\xaa\\xc7\\xe3z3\\xe9q2\\xc6\\xe1s\\x08\\xca0\\\\\\x92\\xd1\\xfc\\xcf\\x8d\\xbe\\x1c~\\xc7Z7\\x83\\xb5\\xeb}f\\x08\\xf6\\xcb\\x0b\\xfc\\xd2W\\xd6>\\x07\\xd0,ot%\\xb3\\x92ec\\xb3n+\\xe5\\x8f\\x8c\\x9f\\xb4\\xfd\\xcf\\xc3}zM.\\xe2\\xdbo\\xcf\\xf2\\xd5\\xdf\\xd9\\xf3\\xf6\\xce\\xb5\\xf1\\x8e\\xb8\\xda$\\x93\\xba\\xcb\\x9f\\x96\\x97\\xb6\\xaf;6\\xb4=\\x0cV\\x1e\\x97\\xb3t\\xa9IF[\\xd8\\xf4\\x1f\\x8b_\\xb3\\xcf\\x83\\x8e\\xb7&\\xa7\\xa8\\xe9\\xf11\\xdd\\xd5\\xa3\\x15O\\xc0:7\\x82|\\x15|\\xb3\\xe9\\xf2\\xc5\\x1b\\x8f\\x97jWU\\xf1\\x97X\\xd5\\xb5\\xef\\x04\\xcdya\\xbd\\xa4\\x11n\\xf9+\\xe0/\\x1c\\xfcQ\\xf8\\xdfa\\xe2\\xa9\\xb4\\xfd>\\xde\\xe3\\xe4\\x97\\xe5nk~J\\xd5\\xe3\\xca\\x9d\\x91\\xa4*{\\n\\x11\\x95eyl\\xcf\\xd4\\xed\\x07\\xc4:\\x1f\\x88<=\\xf6b\\x15\\x8e\\xde+\\xc5~-x\\xabG\\xf8}y%\\xc5\\xe4\\n\\xa9\\xf7\\xb7W\\t\\xfb\\x1d|J\\xf1\\xde\\xb9\\xa7\\xc7g\\xe2\\x98\\x9dd\\x1dY\\xfa\\xd7\\xae|s\\xf87\\x17\\xc4o\\n\\xb6\\xf4\\xda\\xed\\x17\\xdeZ\\xc6Q\\x92\\x97$\\x99\\xc5\\x83\\x8d\\x1c\\x16!\\xcd=\\'\\xb5\\xfb\\x9eS\\xe1o\\xdb\\x0b\\xc1\\x16\\xda\\xacv\\xe9\\xa8\"\\xef}\\xbf-{l_\\x11\\xb4\\xdf\\x1a\\xf8o\\xcc\\xb4u\\x90\\xb2|\\xad_\\x18\\xff\\x00\\xc3\\x0f^C\\xae5\\xc4w\\x12\\xee\\x12\\xeeV\\xf3\\r}9\\xf0/\\xc0W>\\x1a\\xd1\\xe3\\xd2\\xf5\\tw2.\\xdf\\x9a\\x87F\\x9d5\\xa4\\xb5\\xecvU\\xa6\\xaa\\xb7:\\xd0\\xb3\\x8fTx7\\xed!\\xf1\\xe3[\\xf8o\\xacH\\x91\\xdb\\xbe\\xdd\\xed\\xb5\\x92\\xa4\\xfd\\x9b?l\\xfdK\\xc4:\\xdcz\\x1e\\xa1\\x1b\\xa9\\xfe\\x1a\\xf7o\\x8d\\x7f\\xb3W\\x86\\xfcom\\xf6\\xcb\\xdb(\\xa4\\xcf\\xf1W\\x96\\xf8{\\xf6u\\xf0\\x97\\x81\\xb5\\x85\\xbc\\xb7\\x8e(\\xdd\\x1b\\xefV\\xcdQ\\xe4\\xd7r\\xf9\\xa7\\x8a\\xb3\\xa3+\\xc7\\xaa=\\xe7\\xc4\\xfat\\x9e<\\xf0\\xb3\\xc8\\x83\\xe7\\x92/\\x96\\xbe$\\xf8\\xd9\\xf0\\xa3\\xe2\\xce\\x9b\\xe2y#\\xd1\\xee\\'\\x8e/7\\xe5d\\xaf\\xbb\\xfe\\x19k\\x1a,vKc+\\xabmM\\xb5\\x97\\xf1OB\\xd0K6\\xa2,\\xe2e\\xfe\\xf5gJQ]n\\x8c!;b\\x1e\\x16Qit<\\x03\\xf6XO\\x88V\\t\\x1d\\x87\\x89o%b\\xbc|\\xf5\\xe9\\x9f\\x19~\\x0e\\xbf\\xc4m\\x06D\\xf9\\xb74_\\xc3X1|Y\\xf0_\\x86n\\xd8y\\x91BS\\xe8+\\xb9\\xf0\\x1f\\xc6\\xdf\\x0ex\\xaa#igx\\x92g\\xe5\\xdb\\xbe\\x93\\xac\\xf9\\xd5\\xa2\\xd5\\x8e\\xb9\\xd3\\xa9B\\x0b\\x93\\xdeksZ\\xeb\\xf6\\xbd\\xf0\\x9d\\xfe\\xa9\\xf6h\\xeebfyv\\xafJ\\xf7\\xcf\\x85\\xbe%\\xb0\\xbe\\xd0WZdU\\xcan\\xcd|\\xa1\\xe1\\x0f\\xd8\\x91\\x06\\xb9ox\\xf2J\\xcc\\x92\\xee\\xaf\\xac\\xbc%\\xe0\\x11\\xe1_\\t.\\x9b3m\\x02-\\xa4W\\xa7\\x86\\x84\\xa7[\\x9e\\xd7G\\xc1\\xf1\\x04r\\xdaX(\\xd2\\x8d\\x94\\xdb\\xfb.\\xfa\\x1ec\\xf1\\xcb\\xf6\\xaa\\xd2|#\\xa95\\xbc\\x97\\x08\\xaa\\x1bmr\\xfe\\x01\\xfd\\xa84\\xef\\x1c\\xf8\\x8a-*\\xc1w?\\x1f.*\\xd7\\xc5O\\xd9\\xabD\\xf1\\xe6\\xb1%\\xcd\\xef\\xcc\\xbb\\xf7-k\\xfe\\xcf\\xff\\x00\\xb2\\x8f\\x87\\xfc!\\xe2\\x01\\xab\\x88\\x14\\x91\\xf7Z\\x8a\\x91U\\xb1<\\xb7\\xd4\\xec\\xa3\\xfd\\x87\\x82\\xcb\\xb9\\x9aVQ\\xf3\\xe6\\xbd\\x8fg\\xd4~ A\\xe1o\\x08\\xad\\xed\\xc4x>VM|\\xc7\\xf1;\\xf6\\xce\\xf0\\xf5\\x9f\\x88d\\xd3\\xe4\\xb9V*\\xdbYk\\xe9\\xaf\\x89\\xff\\x00\\x0e\\xe3\\xf1\\x07\\x87\\xdbN\\xb7;r\\x9bk\\xe6\\xadC\\xfe\\t\\xf7\\xa5k\\x1a\\x94\\xda\\x9e\\xa1\\x17\\x9a\\xf2\\xbe\\xed\\xcd]x\\xe55\\x08\\xc7\\xa1\\xe2p\\xfc\\xf2h\\xc6U\\xa6\\xe2\\xa6\\xdf\\xda\\xecu\\xdf\\xb3\\x9f\\xc6\\xdb?\\x1e\\xea*\\xa9\\x06\\xe8\\xf7}\\xea\\xf4?\\x8e\\x9f\\x16\\xff\\x00\\xe1\\n\\xd0~\\xd1\\x17\\xca\\xaa\\x95\\x99\\xf0\\x0f\\xf6_\\xb4\\xf8`\\xa3\\xca\\x18\\x01k\\xa1\\xf8\\xb5\\xf0\\x8e\\xdb\\xc6vmg<\\x8b\\x86\\xf9Z\\xb1\\xc3Q\\x9d:-\\xb5k\\x867\\x19\\x92V\\xcf \\xd3N)k\\xda\\xe7\\xcbO\\xfbq\\xdb}\\xa6k\\x7f!\\xdbd\\xbbwW\\xd0\\xbf\\xb3\\x8f\\xc4\\x9b\\xaf\\x16\\xe8g]\\xb9\\x81\\x95Xn]\\xf5\\xc2\\'\\xec3\\xe1\\x87\\xb9Y>\\xcd\\x13|\\xfb\\xab\\xdd>\\x1f\\xfc%\\xd3<\\x1f\\xe1\\xa5\\xd2m\\xd3`T\\xdb\\xf2\\xd4\\xe0p\\xed\\xe29\\x92\\xd4\\xec\\xcf3,\\x93\\xfb>P\\x87+\\x94\\x9a\\xb7*\\xb5\\x97\\x9f\\xa9\\xe3\\xdf\\xb4\\x87\\xed9\\xa6\\xf8%$\\xfbd\\x9f*\\xb7\\xdd\\xaf#\\xf0?\\xed\\x91\\xa2k\\x9e&\\xb7\\xd3\\xac\\xe5\\xf9\\xa5}\\xaa\\xb5\\xec_\\x19\\xbfeM7\\xe2^\\xaa\\xdf\\xda\\x1b^=\\xdfv\\xb0>\\x1f~\\xc1^\\x1a\\xf0\\xdf\\x88\"\\xd4\\xedl\\xe2\\xdd\\x1b\\xeeZX\\xc8\\xce\\xa5[\\x1dyv/\"\\xc2\\xe0\\x92\\xbcR\\xb6\\xb7\\xdc\\xf6\\xc8>!\\x9bo\\x02\\xa6\\xa7\\x01\\xdaLY\\xaf\\x9b\\xbc\\x7f\\xfbjC\\xe1\\xbf\\x14I\\xa6^I\\xb9\\x95\\xbe\\xed}?}\\xf0\\xd6\\xd7\\xfe\\x11q\\xa4n\\n\\x04X\\x0b^\\x07\\xe3o\\xd8\\x87\\xc3\\xde!\\xd5f\\xd5$\\xb7Fw\\xfe*\\xdb\\x11\\t**\\x13zy\\x1e^I\\x88\\xc8\\xe3R\\xab\\x95\\xae\\xdb\\xb72\\xe83\\xf6\\x7f\\xfd\\xa8n>&x\\xa0[\\xd8&\\xe8b?;W\\xa6|t\\xf8\\xe7\\x0f\\x83\\xfc;qs<\\x9bR8\\xbej\\xcb\\xf8\\x07\\xfb.i\\xdf\\x0e\\'g\\xb7\\xb3D\\'\\xf8\\xaa\\xc7\\xed\\t\\xf05\\xfcm\\xa3\\xc9\\xa5\\xc5\\xf3y\\xbc2\\xd3\\xc2\\xd3t\\xe8;li\\x8b\\xad\\x91b3\\x8aiZ\\xd1Z\\xb5\\xa2l\\xf9}\\xff\\x00o\\x0f\\n\\xcd\\xa85\\xbf\\x98\\xbb\\xb7W\\xd4\\xdf\\xb3\\xe7\\xc4\\x9b?\\x15xLk\\xb6\\x8c\\xbbY7#W\\xcc\\xc3\\xfe\\t\\xd3`\\xf7\\x8b\\'\\xf6~\\xe2\\xad\\xba\\xbe\\xa7\\xf8\\x1b\\xf0h\\xf8\\x0b\\xc1\\x91\\xe8\\xe6\\x0f-R-\\xaa+\\x9a\\x8d/\\xf6\\x8b\\xc7\\xa1\\xdd\\x9db0\\x12\\xcb\\x9a\\xa8\\xe3{\\xabr\\xbf\\xeb\\xa1\\xe3\\xbf\\xb5/\\xed8\\xff\\x00\\x0fn|\\xcb\\xcf\\x99\\x0b\\xedZ\\xf3\\xaf\\x86\\x1f\\xb6E\\x8f\\x8d<gg\\xe1\\xfbh1,\\xf2\\xd7\\xb1|{\\xfd\\x97l\\xbe&_\\xe6\\xee\\xdf\\xccDj\\xe5\\xfe\\x0f~\\xc4:w\\x83<i\\x17\\x88!\\xd2\\xd5J7\\xcbJ\\xbd8\\xce\\xa5\\x9b\\xd4\\xed\\xc1b\\xf2\\xea8(\\xd9\\xc5E-S\\xdc\\xf7o\\x11|F:/\\x85#\\xba\\x92-\\xa3\\xc8\\xcbg\\xfd\\xda\\xf9O\\xc6?\\xb6/\\x81\\xad5\\xeb\\xab;\\xc9\\x17zJ\\xca\\xd8\\xaf\\xab\\xbe\\'\\xfc0\\xbd\\xd4|)%\\x9c\\x0b\\x82\\xd0c\\xe5\\xaf\\x89\\xbcM\\xfb\\x02j\\xba\\xae\\xb1u\\xa8I\\x1c\\xb9\\x9e}\\xd5\\xd1\\x8a\\xa6\\xfd\\x92Oc\\xcf\\xc8j\\xe0\\xa3NU0\\xea.W\\xea\\xed\\xd4\\xfa3\\xf6[\\xf8\\xcb\\xe1\\xcf\\x1f\\x13\\x7f\\xa3\\x05;\\x0f&\\xb7\\xff\\x00i_\\x8d\\xc3\\xc1\\xda4\\xd3\\xdd\\x8d\\xb1\"|\\xd5\\xc6~\\xc7\\x9f\\xb3n\\xa5\\xf0\\x91^\\xdah\\xe4}\\xef\\xfcu\\xda\\xfe\\xd0\\xff\\x00\\x03f\\xf1\\xfe\\x9b&\\x9d%\\xbe\\xe5\\x916\\xb2\\xe6\\xb9\\xe8\\xc2J\\x83]\\x05\\x89\\x96X\\xf3\\xf8\\xca\\xa3[w\\xd2\\xe7\\xce\\xda\\'\\xed\\x91\\xe0=KP\\x8e\\xdf\\xed*\\xb23\\xaa\\xad}_\\xe0\\xff\\x00\\x89\\x16\\x13x\\x16\\x1b\\xf5\\xfb\\xaf\\x1e\\xec\\xff\\x00\\xc0k\\xe5-\\x1f\\xfe\\t\\xc1g\\x16\\xbf\\x0e\\xa9%\\xb3\\xfe\\xee}\\xed\\xb7\\x8a\\xfa\\x9fO\\xf875\\x87\\x82\\xa2\\xd2`\\x0c\\x8286\\xadN\\x1e\\x8bU/\\x13\\\\\\xe6\\xbe]^\\x94#ZQO\\x99[\\x95\\xf4\\xf3</\\xe2O\\xed\\x05\\xe0\\r\\x13\\xc5W\\x16z\\xa5\\xecJ\\xfb\\xfen\\x95\\xdb\\xfe\\xcf\\xbf\\x16<\\x1d\\xafjKy\\xa2\\\\#`\\xfd\\xe45\\xe1\\x1f\\x17\\xff\\x00`=o\\xc7\\x9e9\\xba\\xd6#\\xd6\\'\\x8f-\\xf7S\\xa5z\\'\\xec\\xa3\\xfb\\x1cx\\x83\\xe1&\\xa6\\xf3>\\xbd,\\xf1\\xc9\\xdaZ\\x99\\xc1\\xba\\xd7[\\xdc\\xed\\xaf[\\x07,\\x0c\\xa9M\\xa5\\x0bh\\xef\\xe5\\xd8\\xf6\\xbf\\x8e\\xff\\x00\\x17\\xac\\xb4\\xad\\x02D\\xbd\\x8f\\xf7;73W\\x81C\\xf1\\xcb\\xe1\\xc6\\xa0\\xde`\\xd4\"\\xdc\\x1e\\xbd\\x87\\xf6\\x82\\xf8+\\xad\\xf8\\xbb\\xc33i\\xd6\\x92\\xb3o\\x8bn\\xda\\xf9\\x1a\\x0f\\xf8\\'\\xef\\xc4(o\\xbe\\xd9\\x1e\\xa1t\\xab\\xe6\\xee\\xf2\\xfc\\xcax\\xa8U\\x97\\xc4\\xec\\xce|\\x8ax\\x1c6\\t{\\x0b=u\\xd6\\xdf\\xe4}\\xb9\\xf0\\xb3\\xc5z\\x1e\\xa5\\xe0\\xb4\\xbb\\x86Edu\\xf9\\x1a\\xbc\\x8f\\xe2\\xd5\\xe7\\x81\\xa1\\xf1T\\x87P\\xbc\\x81K}\\xd5|Ww\\xf0w\\xe1\\x1e\\xb9\\xe1\\x9f\\x87\\xb6\\xfa\\x14\\x9eih\\xa2\\xdb\\xbd\\xfb\\xd7\\xcf\\xdf\\xb5\\x17\\xec\\xab\\xf1+\\xc7\\xbe-\\xfe\\xd0\\xf0\\xfe\\xb3-\\xbe\\xcf\\xe1N\\x95\\xac\\xa35\\x87H\\x8c\\xbeXJ9\\x9di\\xd3\\x9d\\xde\\xba\\\\\\xf4\\x7f\\x85\\x0b\\xe1G\\xf1,3\\xe9S\\xc0Ho\\xe0\\xc5{O\\xc4\\x8b\\x8d\\x02_\\x0c\\x81;\\xa7\\xfa\\xaf\\x9b}|\\x8f\\xfb;~\\xcb\\x1f\\x17<\\x0b\\xe2\\xd85Mc\\xc4\\xf2\\xdc\\xc4?\\xd6D\\xdcf\\xbe\\xa0\\xf1\\xdf\\xc3Mw]\\xf0\\xb3Y,\\xec\\x8c\\xf1m\\xcds\\xd0u\"\\x9clNs,-lm\\n\\x92\\xab\\xcbn\\x87\\x8c\\xea\\xba7\\x82\\x9d\\xda9#\\xb5\\xfb\\xfb\\xbbW\\xa2|\"\\xb6\\xd1\\xa4\\xd3[\\xc8\\x99T\\x01\\xf2\\x95\\xaf\\x9f\\xf5_\\xd8\\xa3\\xe2\\xed\\xf6\\xb3qso\\xf1\\x02\\xf6\\x18^Ve^?\\xc2\\xbd\\xfb\\xf6x\\xf8\\x07\\xe2o\\x07xti\\x9a\\xb6\\xaf-\\xd3\\xaa\\xff\\x00\\xad~\\xb5\\xe7K\\tZ\\xa6!]\\xdd3\\xd7\\xcd\\xb1\\xb8/\\xec\\xe9E\\xd6\\xedmQ\\xcb|W\\xfb5\\x9e\\xb6\\xd2\\\\]\\xa6\\xc3\\xfd\\xea\\xe4t}\\x13A\\xbe\\xd6\\xa3\\xbc\\x8d\\xe3g/\\xf2\\xe2\\xbd\\x17\\xe3W\\xec\\xe5\\xaa\\xf8\\xaa\\xf5s\\xacK\\n\\x7fy+\\x17\\xe1\\xcf\\xec\\xc9\\x0f\\x865\\x15\\xba\\xb8\\xd5\\xe5\\x98\\x86\\xf9Y\\xde\\xa2\\xb6\\x0e\\xba\\x9f*\\xd8\\xe9\\xc0g\\x19}<\\xbe+\\xda\\xdd\\xa4w\\xd7zM\\x85\\x8f\\x857\\xc7&\\xd61r\\xc6\\xbc\\xa6\\xfb\\xc5~\\r\\xb5\\xb8\\x92\\xd3R\\xbf\\xb7R\\xad\\xf3\\x07\\x90W\\xb8x\\xab\\xc0\\xb73\\xf8]\\xad\\xac\\xdf?\\xba\\xdb\\xba\\xbe\\x07\\xfd\\xa0\\x7fe\\x1f\\x89\\x1e-\\xf1\\x9d\\xd5\\xe6\\x87\\xe3MJ\\xce3\\xf7\\xa3\\x89\\xf8\\xfeU\\xd2\\xf0\\xd5c\\x05fs\\xf0\\xddL6/\\xda\\xf3T\\xbb\\xbe\\xc7\\xd9_\\x02\\xbcu\\xe1\\t\\xd6X\\xf4\\xbb\\xe8\\xa4U\\xf9Wa\\x06\\xaa\\xfe\\xd1\\x9e<\\xd0<=\\xa7\\xae\\xb1\\xa8^yq/\\xde\\xaf\\x14\\xfd\\x86>\\x05\\xf8\\x93\\xe1\\x8c2\\xe9\\xda\\xe6\\xb9u{$\\xcf\\xb85\\xd3\\xe4\\xd7\\xa9\\xfe\\xd4_\\x03_\\xe2/\\x83\\xdbC\\x97\\xcdQ2mf^+h\\xc6\\xab\\xa1\\xc8\\x9d\\xd9\\x96\\'\\r\\x80\\xc3q\\x14e)ny6\\x87\\xfbU|%:\\xc46\\xf6\\xfa\\xc4M\\'\\x9b\\xb7\\xb5}9\\xe1\\xcf\\x8b)\\xab\\xf81e\\xd3\\x0e\\xf4x\\xbeB+\\xe4O\\x05\\xff\\x00\\xc1/\\xfc\\x1d\\xa7\\x88\\xf5\\x13wq\\xe7\\xef\\xde\\xac\\xceO\\xcd_Z\\xfc\\x1e\\xf86|1\\xe1\\xa8\\xb4+\\x89\\xcb\\x88\\xe2\\xda\\xa6\\xb1\\xc3\\xd2\\xa9\\t\\xd9KS> \\xaf\\x95\\xd6\\xa7\\xcdQ\\xafu\\xe9\\xad\\xcf\\x93\\x7fh\\x9f\\xda\\x97X\\xf8c\\xe3\\t4\\xfb\\x8d\\x0ey\\x12Wm\\xb2E\\x014\\xcf\\xd9\\xa3\\xf6\\xb2\\xf1\\x1f\\x8e\\xbe \\xae\\x99.\\x8d=\\xbcl\\x9f+<dW\\xd0_\\x18?g-+\\xc4z\\xc7\\xdaol\"\\x91S\\xfb\\xe9T|\\r\\xfb=h~\\x1b\\xd4\\xe3\\xd54\\xfd>(\\x9dx\\xf9@\\xcd:\\x94)FW\\xd6\\xe7t3,%l*jk\\x92\\xdb[\\xf0$\\xf8\\xe7\\xa8x\\xc3S\\xf0\\x15\\xd4\\x9a<\\x8e\\xd3\\x0bvh\\xeb\\xf3\\xfb[\\xf1?\\xedJ\\xfa\\xc4\\xd6\\xf1\\xd9\\xdclFm\\xad\\xdb\\xefq_\\xac\\x97\\xbe\\x06\\xd2u\\x1f\\x0e\\xfd\\x8d\\xe1\\\\\\x98\\xb6\\xee\\xaf\\x1d\\xd6\\xfe\\x05h\\xf6\\xd3\\xc9\\xe6[\\xa7\\xcc\\xdb\\xb7l\\xad\\xe7N\\x9c`\\xae\\xaey\\xb9ni\\x85\\xafI\\xd1\\x8c\\xb9,\\xfe\\xf3\\x9a\\xff\\x00\\x82x\\xf8\\xc3\\xc7\\x9a\\xe7\\x84\\x86\\x99\\xe3\\xbb&\\x86\\xed\\x0e\\xd9U\\xf9\\xcdi\\xfe\\xde\\x1f\\xb3\\xb5\\xb7\\xc5\\x1f\\nyqoY?\\x85\\x96\\xbb?\\x84>\\x1a\\xb1\\xf0\\xb6\\xb0\\xa6\\xcd\\x82\\x8f\\xee\\xd7\\xa1\\xfcMT\\xd6<>\\xded\\x7fu+\\x1aTa\\xc8\\xda\\xfe\\xbf#\\x87\\x1b\\x8c\\x96\\x17?\\x85Z{4\\x93\\xe9~\\x8c\\xfc\\xd1\\xf0\\x1f\\xec$\\xda\\'\\x8a\\xacu\\xcf\\xb6\\xdd+\\xdb\\xdc+\\xff\\x00\\xac8\\xff\\x00\\xbezW\\xde\\x7f\\x0c|\\x15\\x1d\\xef\\x84\\xd6\\xd1\\xdd\\x9b\\x11m\\xae#P\\xb5\\xb9\\xb3/\\xf6t\\xfb\\xb5\\xd7\\xfc%\\xd5\\xfc@m$\\xb7\\xd9\\xc0\\xaeu\\'*\\xbc\\xae6=\\xec\\xd2\\x12Ys\\x96\\x1d\\xa8\\xea\\x9e\\xe7\\xce\\x9f\\x1c\\xbfc?\\x07k\\xdf\\x10.5\\xcb\\xcd\\x1e&\\x95\\xdfs3\\xd7O\\xfb=|\\x1f\\xd1>\\x12x\\x86\\rOG\\x8a(>m\\xb2*q^\\x85\\xfbC\\xdax\\xd9l\\xcd\\xe7\\x87\\xec<\\xc9O\\xdd\\xaf\\x10\\xb0\\xbf\\xf8\\xe5\\xfd\\xa4\\xb2K\\xa5\\xb2\\xaa:\\xeeZ\\xde\\xac\\xabErt:\\xf0\\x92\\xa5\\x89\\xc0\\xaa\\x93\\xb74\\x95\\x9b\\xdf\\xa1\\xf7^\\xa9\\xad\\xe9\\xda\\xd7\\x82\\x9a)\\x1f%\\xa2\\xe6\\xbeS\\xf1\\x9d\\x9f\\x81\\xb4\\xfdzh\\xf5\\x18\\xed\\xd5\\xb7\\xb7\\xcc\\xf5\\xeb\\x7f\\x0c\\x1b\\xc4:\\xe7\\x85\\xc47\\xe5\\x95\\x8cXd\\xaf\\x9f\\x7fj\\xff\\x00\\xd9{\\xe2W\\x8a\\xb5\\x85\\xd5<\\'\\xae\\xb5\\xabn\\xfb\\xbd\\x9e\\x93\\xe6\\xa9\\x0b\\xec\\xcf\\x07\\x87\\xe8P\\xca\\xb1\\x95\\xa9s\\xdd\\xb7\\xa2=\\x13\\xe17\\xc4?\\x0b\\xe9z\\xc2\\xe9\\xf6w1q\\xf7W\\x8a\\xed>+x\\x8fD\\xd4\\xbc:\\xd7\\xfeZ\\xb1\\x89wW\\xc7\\x7f\\x0c\\x7ff_\\xda\\x17\\xc3\\xbe9\\xb3\\xd5u\\x1f\\x10\\x89!F\\xda\\xc9_X\\xc7\\xf0\\xc7^\\xd6<7%\\x9e\\xa07\\x17\\x8bk5M:U \\xed{\\xff\\x00]OK\\x14\\xb0S\\xc4\\xc3\\x15Q\\xb8I>\\xfb\\x9f8\\xf8\\x83\\xf6\\xc3\\xf0\\x07\\x85o\\xe4\\xd3\\xee/\"W\\x8d\\xb6\\xb2\\xd7\\xb2\\xfe\\xcd\\x9f\\xb5.\\x87\\xe3\\xab@4+\\xf5e\\xfe\\xee\\xfa\\xf9\\x9f\\xe3\\x0f\\xfc\\x13\\x97]\\xf1\\x1f\\x8c\\xae5[K\\xd6\\x8dem\\xcc\\xb5\\xdf\\xfe\\xcc?\\xb2\\x07\\x88~\\n\\xebq\\xdc\\x8dA\\xe5\\x8d\\xfe\\xf4c\\xa5i*\\x10\\x83\\xbaz\\x9d\\x18\\x99\\xc3\\x18\\xa5N\\xac\\x13\\x83WN\\xe8\\xf6o\\xda\\x83V\\xf1;x^]wG\\x0e\\xce\\x91nUZ\\xf87[\\xfd\\xac~0Z\\xea\\xb2i\\xff\\x00\\xd9s\\xb3\\xc7.\\xdfj\\xfdA\\xbd\\xf8z\\xba\\xf7\\x85\\x9a\\xca\\xf6%\\x931\\xfd\\xd6\\xaf\\x9f<E\\xfb+\\xf8Q5\\xb9n$\\xd3\\xe2\\xde[\\xe6\\xf9)\\xbat\\x97\\xbdSc\\x9b,\\xc6\\xd2\\xa9\\x86\\xfa\\xbd)\\xa8\\xb8\\xbf\\xc0\\xce\\xfd\\x98>+x\\xa7\\xc7~\\x10\\x86\\xe7X\\xb6\\x92\\x19\\xb6\\xe2Ej\\xe3\\xff\\x00l\\xef\\x86\\xbe8\\xf1\\x16\\x9e\\xb7\\x9e\\x1b\\xb8e\\x7f\\xef&k\\xde\\xbe\\x14\\xf8\\x03C\\xf0\\x84\\xabg\\x14*\\x89\\xfd\\xdc\\xd7\\xa0x\\xbf\\xc0\\xfa6\\xbd\\xa40\\x8e\\xddX\\x84\\xa2\\x8c\\xa9\\xa7\\xa6\\xa8\\xd6\\xbecK\\x0b]S\\x9f\\xda\\xdeH\\xfc\\xb6\\xf07\\xc0\\xdf\\x8cv~$\\x87X\\xb8\\xd6.\\x15\\xd2]\\xdb~lW\\xdf\\x7f\\x034\\x9d[Q\\xf0\\xcd\\xb5\\x96\\xa9;<\\x9eW;\\xeb>\\xff\\x00\\xc2Z~\\x93x\\xd1G\\xa7\\xc5\\x90\\xff\\x00\\xdc\\xae\\x83\\xc0Z\\xbd\\xce\\x9d\\xa8,Q\\xf1\\xfe\\xcdgS\\x13\\t\\xd4\\xe5\\xe5:\\xe7\\x87\\x940r\\x959]\\xee\\xaey\\xff\\x00\\xc7\\xef\\xd9wD\\xf1\\x85\\xff\\x00\\xdb5\\x0b\\x08\\x8b\\x7f{er\\x9e\\x03\\xfd\\x99<+\\xe0\\xcdb\\x1df\\xda8\\xa3x\\xff\\x00\\x8b\\xbd}3\\xe3\\xbb\\x1dKV\\xd1\\x9a[{}\\xc5Sw\\xcb_8\\xf8\\xb6\\xff\\x00\\xe2u\\x85\\xfc\\x96\\xd6\\xfas\\xa8\\x0f\\xf2\\xb59\\xd5\\xc4B<\\xb0\\xd8Yuhb\\xe8sU\\xb3\\x92=\\xe7\\xc3\\x9e\\x1b\\xd1\\xb5m\\x13\\xec\\x93H\\xad\\x95\\xda\\x16\\xbc\\xa7\\xe2/\\xc1?\\x06iZ\\xac\\x9a\\x85\\xe6\\x9f\\x12\\xfc\\xfb\\xb7yb\\x97\\xe1\\x17\\x88\\xfcw5\\xcf\\xf6~\\xb0\\x19O\\xf0\\xb5t\\x9f\\x17\\xbc\\x11\\xe2\\xaf\\x14\\xf8u\\xa3\\xb2}\\x92m\\xfb\\xd4\\xa9\\xce\\xb3\\x8d\\x9e\\x81\\x08K\\x0f\\x8anS\\xbc%\\xd1\\x9c\\x8f\\x83\\xf5\\x1f\\x03xJ\\xf1d\\xd3\\xeeb\\x8d\\xbe\\xed{f\\x81\\xe3\\x9d\\x1f\\xc4\\x1a/\\xd9\\x91\\xd1\\xbfu\\xb5{\\xd7\\xc2>!\\xfd\\x9e?hw\\xd6\\x1aM?X\\xf97|\\xab^\\xf9\\xfb7x3\\xe2\\x9e\\x85\\x1cv^-\\xb8V\\xa5(\\xce2\\xbd\\xee,e*8\\xb8\\xdaq\\xb7.\\xa9\\x9a?\\x1b<wk\\xf0\\xf5\\xe4\\xbc\\x92-\\xa3w\\xde\\xaf\\'\\xb3\\xfd\\xb64\\x1b;\\xf8\\xe3\\x8e\\xf3\\xe5\\xdf\\xb5\\xab\\xe9_\\x8b\\x9f\\x02\\x93\\xc6\\xda\\x04\\x96\\xf7\\x96\\xdb\\x8b\\'\\xde\\xaf\\x9b\\xe6\\xfd\\x864KmJI>\\xc8\\x9f{sP\\xe9Q\\xe5m\\x9b\\xd0\\xc6\\xc2\\xbe\\x1e*\\x8bM\\xad\\x19\\xee^\\t\\xf8\\xb5\\x0f\\x8f<<\\xb7\\x16\\xd2\\x06W]\\xcb_>\\xfe\\xd3\\x9e6\\xf1\\xff\\x00\\x85o$\\xb8\\xd1\\xf4\\xf9d]\\xff\\x00\\xc3^\\xf1\\xf0{\\xe1e\\xaf\\x84\\xac\\xa3\\xd2\\xa2\\xf9Bq]\\'\\x8f~\\x0bh\\xde$\\xd3K\\xcbl\\xb2\\x1d\\xb5t\\xe5Il\\xf4%\\xe20\\xd8i:n\\xd1r\\xec|U\\xf0[\\xf6\\x8a\\xf8\\xaf\\'\\x89#\\xb3\\xd4tk\\x88\\xe1f\\xfb\\xcf\\xc5}\\x7f\\xa1}\\xb7\\xc6\\xbe\\x1cO\\xb5\\xc7\\xcc\\xb1r\\xb5\\xc6\\x9f\\x81\\xbe\\x1b\\xd0\\xee|\\xc8\\xed\\xd5J\\xb7\\xf7+\\xd2>\\x1e\\\\\\xd9i>]\\xa3\\xfd\\xc5\\xf9v\\xd4\\xceT\\x1c\\xad\\x14S\\x85j4\\x1dK\\xf35\\xb1\\xf2\\xef\\xc7\\xbf\\xd9\\x9b\\xc47\\x9a\\xac\\x93\\xe9\\xf7\\x12\\xaa\\x1f\\xe1L\\xd4\\x1f\\x01\\xfe\\x0bx\\xab\\xc1\\x9a\\xc4\\x7fi\\xbc\\xb8\\x91\\x1d\\xbem\\xd2W\\xd9>2\\xf0\\xfd\\x96\\xb3m\\xf6\\x9b(\\xd5\\xbeZ\\xf3=KG\\xbc\\xd3.ZH\\xf6*\\x8an\\xbb\\xa7\\xd3A\\xe0\\xaa\\xd1\\xc7\\xbeii.\\xa8\\xf5\\x9f\\xd9\\xdb\\xe2\\x94^:)z\\xbf4m\\xca\\xb5t?\\xb4\\x0f\\xc6d\\xf0^\\x8f$\\x96\\xf2m\\xda\\x9f6\\xcao\\xec\\xfd\\xf0->\\x1eh\\x89\\x00\\x80\\xa6\\xd5\\xf9sP|f\\xf8Kg\\xe3\\x94k;\\x8b\\x8f\\xbd^\\xcd\\x08:8k\\x9f\\x01^\\xa6S_?\\xbe\\x9c\\xb1\\xfb\\xae|\\xce\\xbf\\xb6u\\xcc\\xfa\\xb7\\x91\\x1cn\\xcc\\xd2\\xed\\xdb_O|\\x01\\xf1\\xde\\xaf\\xadh\\xab\\xaaN\\x8c\\xa1\\xd7\\x8d\\xd5\\xe4\\x9a\\x17\\xeci\\xe1\\xb4\\xf1\\x04w\\x02\\xd2&d}\\xdb\\xab\\xe9\\xef\\x01|3\\xd3|1\\xa1\\xc5c\\x1a`*}\\xda\\x9c\\x15\\x1ez\\xeeK\\xa1\\xd9\\xc4Y\\x8eYO\\x03\\xec\\xdf+m\\xe9e\\xb2\\x17Y\\xf1\\x0c\\xb1i-wr\\xff\\x00*\\xf2\\xd5\\xe1\\x9a\\x87\\xed\\xcf\\xe0\\xcbo\\x18/\\x83\\xec\\xed\\xe4\\x92\\xe0K\\xb0\\xec\\xff\\x00z\\xbd\\x9b\\xe2m\\xa8\\xfe\\xc6\\xb8\\xb3\\xb2\\x93ht\\xdb_<\\xf8O\\xf6Y\\xd1\\xae|g\\xff\\x00\\t\\x1c\\x96j\\xd2\\xbc\\xbb\\xd9\\x9a\\xa7\\x1dR\\xa3\\xae\\xa1\\x17\\xa1\\xe4d\\x18\\\\\\xae\\xa6\\x1eU1\\tYkc\\xe8\\xdd\\x1b\\xe2\\x95\\x9d\\xd7\\x85\\x86\\xb6m\\xb6\\x92\\xbb\\xb6\\xd7\\x82|c\\xfd\\xba\\xb4\\x7f\\x04\\xeb\\xcd\\xa5\\xff\\x00g\\xbb:\\xfc\\xbf%{E\\xff\\x00\\x84\\xect\\xcf\\x0e\\r6GX\\xd4G\\xc0\\xaf\\x16\\xf1\\x7f\\xec\\xeb\\xe1\\x1f\\x14jM\\xaa^A\\x14\\x8e\\x7f\\x89\\xab\\\\MIF\\x8cc)X\\xd3&\\xc2d\\x93\\xafRr\\x8e\\x97\\xd2\\xf7j\\xc3>\\x11\\xfe\\xdb\\x12|D\\xf1\\x02i\\xba~\\x93/\\xde]\\xcd^\\xe5\\xe3\\x0f\\x8c0\\xf8c\\xc3\\x9fm\\x9a\\xdbi\\xf2\\xb75y\\xcf\\xc0\\xff\\x00\\xd9\\xef\\xc2\\xfe\\x1e\\xd5R\\xfa\\xce\\xd2$#\\xf8\\x96\\xbb\\xaf\\x8b\\xfe\\x08\\xd3\\xb5]\\x12K/\\xbd\\x94\\xdbW\\x97\\xc6Q\\xa1)\\xb9n,\\xd1dS\\xcc\\xa9Q\\x8c6\\xf8\\x9a\\xb9\\xf3O\\x8c\\xff\\x00\\xe0\\xa3Z&\\x81\\xafM\\xa5In\\xec\\xea\\xff\\x00z\\xbd\\x0f\\xf6n\\xfd\\xad%\\xf8\\xb3~~\\xcbh\\xc8\\x83\\xb9\\xaf3\\xd7?c\\x9f\\x07\\xea\\xba\\xac\\x97\\xb7\\x9atRH\\xef\\xbbw\\x19\\xaf^\\xfd\\x9e\\xbfg}#\\xe1\\xd4L\\xfa}\\xb2\\xc4\\x8f\\xf3W\\x12\\xbc\\xeb\\xda2\\xd4\\xf6\\xf1\\xd8|\\x9b\\x0f\\x82\\x9b\\x92\\x8d\\xad\\xa5\\xb7\\xb9\\xd1\\xfck\\xfd\\xa1\\x9b\\xe1\\xfe\\x956\\xa0-\\xc4\\x9eZ}\\xd0+\\xc0?\\xe1\\xe5\\x96\\x12^}\\x8f\\xfb\\x0e]\\xfb\\xb6\\xed\\xafp\\xf8\\xbb\\xf0\\xafI\\xf1l-e<\\x88\\xca\\xff\\x00yZ\\xbc\\x96\\xdf\\xf6F\\xf0\\\\\\x17\\xd1\\xc9\\x1d\\x9cYW\\xddZ\\xe2*sK\\x96R\\xd4\\xe7\\xca\\xb0\\xb9/\\xd5#\\xa4o\\xd6\\xe9\\xdc\\xf7\\x7f\\x82\\xdf\\x1c\\x1f\\xc5\\xfe\\x15]z\\xebOh\\x83\\xa6\\xed\\xac+\\x82\\xf8\\xfd\\xfbg\\xe8?\\r\\x1dc\\xd4,\\xdbs7\\xf0W\\xa9\\xf8\\x0b\\xe1\\xe6\\x9b\\xa1\\xf8A,\\x91\\x164\\x11p\\xb5\\xe0\\x9f\\xb4\\x0f\\xc0\\xad\\x07\\xc6\\x9a\\xdbG\\xa8F\\x92/\\xe7]3r\\x8e\\x17s\\x83\\x01\\x87\\xc9\\xf1Y\\xb5Og\\x05\\xa6\\xd7\\xd8\\xc9\\xf0O\\xfc\\x14C\\xc0\\xbe*\\xd7\\xed\\xf4{0\\xcb,\\xcf\\x85Z\\xfa^\\xdf\\xe2\\x95\\xb2xY5M\\x9c4y\\xaf\\x91\\xbe\\x1c~\\xc7\\xbe\\x11\\xd3<[\\x0e\\xa9a\\xa5\\xaa\\xb2>\\xe5\\xaf\\xa9\\xe7\\xf0\\x85\\x9d\\xbf\\x85\\x93L\\xb9\\xf9O\\x97\\x80\\xb5\\x86\\x1a\\xe9\\xb7\\x19ntgX<\\xb2\\x9a\\xa5\\x1a\\x91\\\\\\xcd\\xeb\\xcb\\xd8\\xf1\\x8f\\x1c\\xfe\\xdc\\xfe\\x12\\xf0\\x7f\\x8a$\\xd1\\xef\"v\\xdb\\xf7\\xab\\xaa\\xf8\\x1f\\xfb]\\xf8O\\xe2v\\xb8\\xda~\\x97\\x16\\xe0\\x9fy\\xab\\xce\\xbc\\x7f\\xfb)x{\\xc4\\xfa\\xdc\\xda\\xa4\\x91\\xa3<\\xbf\\xc3]\\x87\\xec\\xdb\\xfb7i~\\x02\\xd4\\xe5\\x9a\\xce\\x05B\\xfdZ\\xb2^\\xfd}%\\xd4\\xec\\xc4\\xe0\\xf2X`\\xe5&\\xa3\\xcb\\xcb\\xa6\\xfc\\xd7\\xfc\\x8fZ\\xf8\\x93\\xf1\\xd7\\xc2\\xfe\\x11\\xd2d\\xbc\\xd4\\x86\\xd8\\xd173W\\x86\\xdc\\xfe\\xde\\xdf\\x07|\\xe6H\\xb5H\\x9bkWa\\xfbI|.\\xfe\\xde\\xf0\\xed\\xc6\\x9do\\'3&\\xda\\xf9\\x16o\\xd8\\x97OK\\x96\\x93,\\xc5\\xdfs~\\xf2\\xb6\\xc6:\\x8e\\xd7\\x95\\x9a0\\xc9\\xb2\\x8c\\x04\\xf0\\xaaTa\\xcd\\xde\\xed\\xa3\\xee\\xdf\\x84\\x1f\\x1a\\xfc1\\xe3\\xcd\\x0f\\xfb[Iued\\xf9M`\\xfc`\\xfd\\xa5\\xbc-\\xe07\\xf35=A#\\x1f\\xdez\\xc5\\xfd\\x9a>\\x15C\\xe0\\xaf\\x07C\\xa4\\xdb\\xa3*\\xc7\\x16\\xd5\\xf4\\xaeO\\xf6\\x87\\xf8\\x03\\xa6\\xfcB\\x99\\xac\\xf5\\x0f\\x99\\x7f\\xbdY\\xc6SX}t]\\xcc\\xa9e\\xb9O\\xf6\\xcc\\xe1\\xd1l\\xaf\\xa5\\xfdK\\x1a?\\xed\\xe7\\xf0\\xefU\\xd5c\\xd1\\xec\\xefRId\\x94.\\xda\\xf6\\x9b\\xbf\\x8c\\x961x~+\\xd6\\x8f\\x86\\x8f5\\xf2G\\x81?b\\x8f\\rh\\xde,\\xb3\\xd6\"\\x8f{D\\xfb\\xbej\\xfaS\\xc4\\x7f\\x0c$\\x7f\\x08\\x8bx%\\xda\\x16\\x0c=F\\x11T\\xbbj[\\x9af\\x19~MM\\xd2U\\x12\\x8bo\\xa3\\xe8yg\\x88\\xbfm\\xaf\\x02\\xe8\\x9e!\\xb8\\xb3\\xbdt\\xde\\x8f\\xb7mz\\'\\xc1\\x0f\\xdaG\\xc3\\x1f\\x11\\xb7K\\xa6\\x15*\\xb5\\xf1\\xdf\\xc5\\x1f\\xd8\\xc3X\\xf1\\x0f\\x8a\\xee\\xb5{}VX\\xf7\\xcb\\xbbj={\\'\\xec\\x8d\\xf0SU\\xf8y!\\xb6\\xbbwb\\xc7\\xf8\\xab9s\\xc6\\xaaw\\xeaz8\\xac\\xaf\\x03,,\\x94\\xa9\\xa8\\xa4\\xb4w=\\xf3\\xe2\\xef\\xc7\\xef\\r\\xf8\\x16\\xcf\\xfbCX\\x1bbO\\xbc\\xd5\\xe6V\\xdf\\xb7g\\xc2+\\x97\\xff\\x00F\\xd5\"b\\xde\\xf5\\x7f\\xf6\\x87\\xf8E\\'\\x8c\\xfc=6\\x97q\\x1e\\xe12|\\xb5\\xf3}\\xb7\\xec\\'\\xa0\\xdb\\xce\\xb7\\x12[\\xbbK\\xe6\\xeefZ\\xac\\\\\\xa76\\x9b\\x9d\\x99\\x86Y\\x94\\xe53\\xc2E\\xc5s>\\xbe\\xf5\\x8f\\xb9<\\x03\\xf1\\x87C\\xf1\\x0f\\x86SV\\xd3\\xd1Ln\\x9b\\x95\\xbdk\\xcd\\xfe*~\\xd2\\xde\\x0f\\xf0\\x96\\xae\\xd6\\xfa\\x8c\\x91+\\x1f\\xef\\xd6\\xaf\\xc2\\x1f\\x85\\xcb\\xa4x\\x12\\x1d\"\\xd8\\xb2\\xc7\\x14;V\\xbe|\\xfd\\xaa?f;\\xcf\\x1ek\\xeb-\\xbe\\xa1q\\x0b\\xa3|\\xdeT\\x84V\\x92U^\\x1e\\xd7\\xf9\\x9c\\xd8\\x0c\\xbb)Y\\x9dE\\x15v\\xba_\\xf5=k\\xc0\\x9f\\xb5\\x8f\\x80|C\\xac\\xc7\\xa7\\xd9^[\\xb4\\x8f\\xf7v\\x9a\\xf5\\xedg\\xe2u\\xad\\x9f\\x87~\\xd7\\x1cyP\\xbb\\xab\\xe1O\\x84?\\xb2=\\xd7\\x83|gk\\xaeK\\xac\\xcf\\'\\x96\\xff\\x002\\xb3\\xd7\\xd9\\x07\\xc1M\\xa9\\xf89c\\xf3?\\xe5\\x96\\x1a\\xb1\\xa0\\xeaE8\\xa9\\\\\\xd76\\xcb\\xb2\\xdar\\xa79\\xc7\\x96\\xefk\\xdf\\xe6y\\xc6\\xb1\\xfbi\\xf8#J\\xbf\\x92\\xc2\\xf2xU\\xe2|2\\xd7Y\\xf0{\\xf6\\xa1\\xd0<uq/\\xf6]\\xc2:\\xa1\\xda\\xdbk\\xc1> ~\\xc9\\x9a\\'\\x88<C5\\xe5\\xe5\\xba\\xfc\\xed\\xb9W\\xfd\\xaa\\xef\\xff\\x00f\\xcf\\xd9\\xf7L\\xf0\\x13Mak\\x0e\\x0c\\xaf\\xb9\\x9a\\xb9\\xe2\\xaa*\\xab\\xdf\\xd6\\xfb\\x1e\\x8e/-\\xc9\\x96\\x12RpV\\xb6\\x8e\\xf7\\x7fq\\xdf\\xfcb\\xf8\\xf9\\xa2xcM\\xfb}\\xed\\xc7\\x96\\x8b\\xf7\\x99\\xab\\xc9\\xec?l_\\x06M~\\xb6\\xf1\\xf8\\x82\\x15\\xde\\xff\\x00/\\xcf]\\xa7\\xed\\t\\xfb<?\\x8d\\xb4F\\xd2\\xfe\\xce\\xd3\\tk\\xc4|?\\xff\\x00\\x04\\xdb\\xd3\\x05\\xecw\\xf7\\xae\\xf1\\xba\\xbe\\xed\\xbb\\xce)c%\\xc8\\xef9k\\xd8Yl2ZxX\\xb8\\xb5n\\xb7\\x7f\\xa1\\xf5\\xbf\\x82\\xfe#Y\\xeb\\xfe\\x15\\x17pL\\xb3#E\\xbb=k\\xc1~3|l\\xf0\\x8f\\x83\\xf5\\xc9#\\xd5#X\\xf75{/\\xc2\\x9f\\x86i\\xe1\\x8f\\r\\xae\\x82\\x8f\\xb9c\\x8b\\xcb\\xdck\\xcb>9|\\x07\\xd1<O\\xaa\\xb4z\\x85\\xba\\xb0_\\xe2\\xa5QU\\xab\\x85\\xbd\\xec\\x88\\xc8\\xd6SG8\\xa8\\x96\\xdd\\x0eC\\xe1g\\xedY\\xe0\\x9dc\\xc6\\xf6\\xfa^\\x8fp\\xac\\xef\\xf7\\x16\\xbd\\xb7\\xc7?\\x17\\xbe\\xcf\\xe1\\x99\\xaf\\xe3\\xb5\\xcf\\x95\\x16\\xe5\\xaf\\x13\\xf0\\x0f\\xec\\xdb\\xe1/\\x0bx\\xa6\\rcN\\xb3\\x89Y\\x1b\\xe5e\\x00W\\xd0\\x9a\\xb7\\xc3\\x1d:\\xff\\x00\\xc2\\xcd\\x1c\\x91\\xf2\\xf1}\\xdaXJu \\x9c\\\\\\xaew\\xe7\\x92\\xc9\\xe9\\xe2iNq\\xd7\\xd4\\xf9gU\\xff\\x00\\x82\\x89C\\xa0_\\xc9g&\\x97.\\xe8_\\x1bvW\\xb3~\\xce?\\xb6,\\x1f\\x17-\\x9akk\\'\\x8c\\xa1\\xdaQ\\xeb\\xcd\\xb5\\xff\\x00\\xd9\\x9f\\xc2-\\xacMqqe\\x16\\xf6}\\xcb\\xd2\\xbb\\x1f\\x82\\xbf\\x0e4_\\x04\\xea\\xab\\x1d\\x8cq)w\\xf9\\xb6qNP\\x84\\'u6,V\\x0b\\x07^\\x84\\xe58F\\xd6\\xd2\\xdb\\x9d\\x87\\xc7\\x8f\\x8a\\xfa\\x87\\x87\\xac?\\xb4\\xed4\\xf9d\\t\\xf7\\x95+\\xc2\\xbf\\xe1\\xb1\\xb5\\xb5\\xbe\\x8f\\xec\\xfa\\x1d\\xd6\\xcd\\xdf5}C\\xf1\\x1f\\xc1\\xba.\\xad\\xe1\\xfc\\xcb\\x1a\\xb6\\xe5\\xf9\\xb3^+7\\xc3_\\x03C+G%\\xbc\\x1f{\\xe6\\xe0Q\\x88\\x858\\xab\\xcd\\xbb\\x9c\\xd94\\xb0u\\xf0\\xaa0\\x8d\\xad\\xbe\\x97=?\\xe1\\xef\\xc6\\rO\\xc4~\\x19\\x86\\xe8\\xd9\\xb82E\\xf7^\\xbc\\xbb\\xe3\\x7f\\xc6\\xff\\x00\\x1exKUX\\xf4\\xbf\\x0f\\xb5\\xd4g\\xefW\\xa5\\xfc&\\x9b\\xc3vv\\xcd\\xa7\\xab&\\xd5\\xfb\\xabY\\x1f\\x19\\xac<-\\x1b\\xae\\xa1<\\x91*/\\xde\\xad\\x13\\x84\\xa8j\\xc9\\xc3\\xd3\\xc2\\xd2\\xcdeIR\\xb5\\xfa\\xd8\\xf2\\x8f\\x87\\xdf\\xb4\\xf7\\x8bd\\xd7\\xa1\\xb7\\xbb\\xf0d\\xd1#\\xc9\\xf3I\\xfd\\xca\\xfakA\\xf1[\\xf8\\x9fAY\\xee\\xac\\xfe\\xf2\\xfc\\xd5\\xf3d^\\'\\xf8ycy\\xe6G{n\\xac\\x1b\\xe5m\\xe2\\xbd\\xb3\\xe1\\x87\\xc4\\x1d\\x16}\\tR\\xde\\xe1d]\\xbf+-eJpUyU\\xecm\\x9ee\\xe9\\xe1\\xd5H\\xc6\\xf2Ou\\xa1\\xce\\xf8\\x92m5u)\\xad\\xe3\\x8d\\x94n\\xad\\xcf\\x86\\x1a\\xad\\xb6\\x9bvm\\xe4\\xb9\\xe1\\xfan\\xaf9\\xf8\\xeb\\xf1sG\\xf05\\xc3j\\x17\\xa9\\xf2\\x17\\xfb\\xd5\\xe5v?\\xb6\\xc7\\x84\\x8e\\xbbomo\\'-*\\xaf\\xfa\\xca\\xce\\xa5I\\xc2\\xb5\\xe0\\x8e\\xc5\\x82\\xfa\\xd6^\\xa9\\xc9\\xda\\xeb\\xab>\\xce\\xf1\\xc2\\xda\\\\\\xe8\\xbea\\x89\\x18\"\\xee\\x15\\xe5\\xc7[\\xd2-\\xaf\\x1aK\\x8bu\\xdc\\x1b\\xe6V\\xabZo\\xc4\\xe9\\xfcI\\xe1\\xe5\\xb8\\x82M\\xd1\\xc9\\x16\\xe5\\xaf\\x90\\xff\\x00h\\x7f\\xda[\\xc4\\x9e\\x02\\xf1\\x84\\xdax\\xb3\\xb8\\xd9\\xbb\\xe5dB\\x7f\\xf4\\x1a\\xde\\xa3\\xa9Wdp\\xe5Ys\\xc1\\xc2p\\xae\\xf4\\xf2>\\xef\\xf8y\\xe3\\xed\\x05\\x9b\\xec\\x8a\\x8a?\\xbdW>%k\\x1a$\\x16\\x1fm\\xb8\\xd9\\x84\\xf9\\x96\\xbf?~\\x01\\xfe\\xd5\\x9e+\\xd6\\xbcYoc\\xa9YN!\\x95\\xd7k\\x1c\\xd7\\xd7\\x1a\\xd4\\xba\\x97\\x8a\\xfc*\\xc2\\'c\\xe6E\\xf2\\xd2\\x8c\\xa6\\xa9\\xf2\\xc8\\xe7\\xa9\\x93ae\\x8c\\x8e\"\\x94\\xdf+z\\x94\\xae\\xfe2\\xf8F\\xd2\\xe3y\\xb8\\xb7VO\\xf6\\xeb\\xb6\\xf0/\\xc6\\xdf\\x0fj\\xf6X\\x82h\\xa4\\xecvs_\\x9f\\xdf\\x17~\\x17|r\\xb3\\xf1\\xb5\\xd7\\xf6>\\xa0\\xcdh\\xef\\xf7y\\xcdz_\\xec\\x99\\xe1\\xbf\\x88\\x9a\\x1d\\xc4\\x96~%\\xb8vW\\xfe\\x16\\xa8T\\xab\\xc2WOC\\xd5\\xc4\\xe5\\xd8\\x1cL}\\x9c\\xa0\\xfdn})\\xf1\\x7f\\xe3\\x06\\x83\\xe1X?\\xb5\\xee\\x02\\xaa\\x7fz\\xbc\\x82\\xeb\\xf6\\xef\\xf0\\x05\\x83\\x88\\xfe\\xd9\\x12\\xe1\\xbf\\xe7\\xa0\\xae\\xc7\\xe3\\'\\xc1\\xf9\\xfcu\\xe0\\x89\\xb4\\xfb\\x98\\xdb\\xe7O\\xe0\\xaf\\x95\\x1f\\xf6\\x1b\\xb6\\x9bR\\xff\\x00H\\xf3\\xd9U\\xfeUg5\\xa7\\xb2\\xf6\\x91\\xe6\\x93\\xb3\\x0c>\\x17\\x0fN\\x82\\x8d\\x18)\\xdb\\xbb>\\xda\\xf8]\\xfbGi^6\\xd0\\xd2\\xf7K\\x91d\\x89\\xbb\\xa5q\\x9f\\x1e\\xbe6\\\\\\xf8)\\x1bT\\x8bH\\x96\\xe1:\\xed\\x8b\\x9a\\xc0\\xfd\\x9b\\xbe\\x11\\x9f\\x87\\xb6\\x8b\\xa1\\xa4\\x98\\x87\\xf8V\\xbdc\\xe2\\'\\xc2\\xed+X\\xd0Z;\\x88\\xd6E\\xd9\\xf3V1\\xf8y\\\\\\xae\\x8c\\xdd,\\xbf\\x01\\x8cM\\xc7\\x95\\xcb\\xe6\\x91\\xf3\\x96\\x91\\xfbg\\xc3\\x7fy\\x1c\\x7f\\xf0\\x8e^\\xab\\xb3\\x7f\\xcf3_F|?\\xf8\\x9a\\x9e%\\xd2\\xa3\\xb8\\x16\\xcc\\xa1\\xe3\\xfb\\xad^K\\x17\\xc2\\x9f\\x03i\\xb7\\r\\xe6Z\\xc5\\xb8?\\xb5w\\xff\\x00\\x0e\\xf5\\xdf\\r\\xe8\\xee\\xb6\\x11\\xbc|}\\xd5\\xf3*=\\xa6\\x1e\\x9c\\xad\\x1b\\x9d\\x98\\xdc\\x1f\\xb5\\xc3\\xb7(\\xde\\xdbYX\\xca\\xf8\\x99\\xac6\\x97|\\xd2$L\\x01\\xfb\\xad\\\\\\xc6\\x83\\xe3i\\xd3R\\x8d\\xfc\\xb7j\\xf5\\x1f\\x88\\xc7\\xc3W\\xf6\\r\\x7f\\x1cj\\xdbW\\xe6\\xaf\\x0f\\xd7\\xbe.\\xf83\\xc3W\\x8doq$J\\xe1\\xfd\\xaa\\xa7\\xec\\xfe>[\\xb3\\xa3\\x03?k\\x85\\x8ak\\x95-5>\\x98\\xf8}\\xe28u\\xcd1m\\xee#\\xdc\\n\\xd67\\x8f4\\xad*\\xda\\xe5\\xa4\\x92\\xddT5y_\\xc1\\xbf\\xda\\x1f\\xc3\\x1a\\xae\\xa0\\xb6\\x96W\\xa8_\\xfb\\xbb\\xeb\\xbd\\xf8\\x95\\xe2\\t\\xb5]\\x11\\xaf,#\\xdc\\xca\\xbb\\x96\\x9f\\xb4\\x84\\xa3\\xca\\xf4g\\x8d\\xfd\\x9fS\\x0f\\x9a)\\xd3\\xf8%\\xd5\\x11\\xe9\\xf7~\\x1b\\xb4\\xb9IdER\\xb5\\xddi\\xda\\xff\\x00\\x86\\xb5k%\\xb6\\xde\\xbfr\\xbe\\x02\\xf8\\xa3\\xfbF\\xf8\\xdb\\xc2\\xba\\xc4\\xd6q\\xdb\\xdc6\\xd7\\xf9v!\\xae\\xaf\\xf6u\\xfd\\xa3<Y\\xe2\\xbb\\xdf\\xec\\xfdF\\xdau;\\xfeVx\\xc8\\xac\\xe1\\x1a\\xf1v\\xb6\\x9d\\xce\\xdcv\\x03\\x0b\\x88j.\\xa4\\xb9\\x91\\xf4\\xd7\\x8e\\xaf<?\\xa1;O\\x85U\\x1d\\x1b\\xb5r\\x03\\xe3\\xcf\\x84tk\\x85V\\xbc\\x89J\\xd5\\x1f\\x8a\\xdav\\xbb\\xe2O\\t\\xc8\\xda|\\x8c\\xd2\\xb4_.+\\xe2\\xef\\x1c\\xf8\\x0f\\xe3\\x97\\xf6\\xf4\\x96\\xd6\\xf7\\r\\xe5n\\xf9z\\xd6\\xaa\\x8dJ\\xcfGc\\xa5R\\xa7\\x87\\xc1\\xa54\\xe6\\xcf\\xd2O\\x0c|l\\xd1\\xbcG\\xa5f\\xdeU\\x93)\\xf2\\xd7\\x9d|c\\xf8\\xbd\\x07\\x81\\xe3\\x93P{M\\xc9\\xf7\\x95\\xab\\xc2\\xff\\x00e\\xd8~$h\\xf71\\xe9~$\\xb8v_\\xe1j\\xfa\\x1b\\xc5\\x7f\\x0b!\\xf1\\xe7\\x87\\xda\\xd6\\xfe\\x0f02p\\xd4N\\x12\\x8c\\xb9e\\xb1\\xcf\\x87\\xc3`\\xb0\\xd2\\xf6\\xa9r\\xa7\\xdc\\xf0\\x1f\\xf8o\\x9d\\x12\\xdbR\\xfb4v\\xed\\xf2\\xbf\\xcc\\xd5\\xed\\xdf\\n\\xff\\x00h\\x9b\\x7f\\x1eX-\\xc5\\x93n\\x0c\\xb5\\xe2\\xfa\\xc7\\xecy\\xe1HuV\\xb8\\x93OU;\\xeb\\xd1~\\x13x\\x03H\\xf0\\x0c\\x0bo\\x14\\x9bG\\xf0\\xad\\'\\x1c==\\xa4vK\\x0b:\\xba\\xcd\\'\\x1fB\\xcf\\xc6_\\x89\\xba\\xaf\\x86\\x91\\xael\\xf4f\\x9b?\\xdc\\xaf.\\xf0\\xcf\\xed-\\xe2s\\xad4rxnTM\\xff\\x00\\xc5\\xd2\\xbe\\x8d\\xd6|/\\xa0x\\x8bG`\\xf1,\\x9f/\\xcc\\xad^a\\xad\\xf8?\\xc1\\xfe\\x1b\\x99\\xae.,\\xd1\\x7f\\xbdO\\x96\\x87/3N\\xfeE\\xd0\\x97\\xb5\\x8f,\\x1d\\xad\\xd2\\xc7\\xa7|0\\xf8\\x8b\\'\\x89\\xf4\\xc8\\xcb\\xda\\x98\\xf7\\xaf\\xcc\\xafW\\xbcY\\xe18oC\\\\\\xfc\\xcb\\xbb\\xfb\\x95\\xe5\\xfe\\x14\\xf8\\xa7\\xe1m\\x02\\xe2;h\\xefb_\\xee\\xae\\xfa\\xf5}#\\xc6\\x16>*\\xb2Q\\x05\\xc20\\xdb\\xf7\\x97\\x9a\\xc98=:\\x1cx\\x9a\\x150\\xb5\\xd5j:\\'\\xbd\\x8fa\\xf1\\xbf\\x8f\\x93\\xc2\\xfe\\x15{\\x94\\x18a\\x15|\\xa7\\xe3?\\xdbVm7[\\x9a\\xcf\\x0f\\xf2>\\xdd\\xd5\\xf57\\xc4\\x7f\\n\\xd9\\xea\\xbaki\\xef\"}\\xdd\\xbbk\\xc25?\\xd9\\x17\\xc3\\x1a\\x96\\xa2\\xd7\\x92[\\xc4\\xce\\xef\\xba\\xbd\\xec[N\\n2\\xea|o\\x0e\\xbc\\xb2\\x14\\x1c\\xa5e&\\xfe\\xd2\\xbe\\x86\\xd7\\xec\\xe5\\xf1{W\\xf8\\x8f\\xa8%\\xeb#yd\\xf3_L]\\xea\\x89a\\xa3\\xfd\\xa2Y6\\x80\\x95\\xe7\\xff\\x00\\x03~\\x07\\xe8\\xbe\\x06\\xd3\\x93\\xc9\\xb5U\\xc2\\xf0\\x15+\\xb2\\xf8\\x85\\xe4\\xa7\\x87\\xa6\\xb3\\x8eM\\xa4\\xa6\\x16\\xbbp\\xb4\\xa3C\\x08\\xe6|\\xff\\x00\\x10b\\xf08\\xfc\\xd24\\xe8/uY6\\x95\\xae|\\xb5\\xfbF\\xfe\\xd8\\x1aW\\x83\\xf5\\xe948\\xef>u\\xfb\\xdf\\xbc\\xae\\x9f\\xf6e\\xf8\\xbd?\\x8e-WPt\\xf9O\\xcc\\xb5\\xc3x\\xab\\xf6T\\xd1|m\\xe2i5MB\\xdf\\xcc\\x96Yw375\\xed\\xdf\\x06\\xbe\\x0bi\\x9e\\x00\\xd0<\\x98 H\\xd5W\\x8a\\xf2iA\\xd4\\xaf\\xcf\\xbb>\\xb7\\x19<\\xab\\x03\\x94\\xbaN\\xda\\xa4\\x95\\xb7\\xf5g\\'\\xfbF\\xfcg\\xbf\\xf0\\xde\\x9f$\\x96[\\x98\\xa7\\xf0\\xd7\\xcd\\xf3~\\xd6\\xfe,}N=>\\xde\\xceY<\\xd7U]\\x99\\xef_S|N\\xf8u\\xe1\\xef\\x13\\xbb[\\xde\\\\+n\\xfe\\x17\\xae/D\\xfd\\x98\\xfc!\\xfd\\xab\\x1d\\xc4vQ1W\\xdc\\xadF/\\x96\\xa4\\xec\\xde\\xa7FS\\x88\\xcb\\xf0\\xf8(\\xda\\xc9-\\xef\\x1b\\x9d\\xbf\\xc0?\\x13\\xeb\\x93\\xf8eu\\x8dM\\x19K\\xa6\\xe1^}\\xfbE~\\xd2\\xd7\\xfe\\x12\\xb9\\xfb\\x1cq\\xbb\\x16\\x7f\\xe1\\xaf\\xa2|?\\xe0m\\'A\\xf0\\xcaZ\\xa2\\xaa\\x80\\xbf*\\xd7\\x87\\xfcQ\\xf8K\\xe1\\xdf\\x14\\xebrI{\\x1aH\\xa1\\xeb\\xbet\\xe3G\\t\\xcb}\\x0f\\'/\\xc5e\\xf8\\xfc\\xde\\xa5e\\x14\\xbbi\\xa1\\xe2\\xde\\x1c\\xfd\\xab\\xb5]O[\\x86\\xdeK9~v\\xdb\\xbb\\x9a\\xfa\\xaf\\xc0~6\\xb9\\xb9\\xf0`\\xd5%L\\x1f+5\\xe5^\\x17\\xfd\\x9a\\xbc6uX\\xe7\\xb3\\xb4\\x8827\\xcak\\xdb\\xb4\\xef\\t\\xd8hz\\n\\xe9\\xf7\\x12\\xaa\\x82\\x9dk\\xcf\\xc2\\xd2wr\\x8e\\xc7n\\x7f\\x8c\\xcb\\xaaP\\x856\\x93\\x95\\xfa+h|\\xd5\\xf1\\xb3\\xf6\\x99\\xd5|%\\xacI\\x1f\\xd9\\xe5\\x93\\xe7\\xfe\\x1c\\xd7;\\xf0\\xbf\\xf6\\x9e\\xd5<y\\xe2\\x984x\\xed\\xe7F\\xf3~c\\xb0\\x8a\\xf6\\xbf\\x18\\xfc\\x13\\xf0\\xaf\\x89\\xef\\x1a\\xf2\\xe2\\xde)\\x1bw\\xf1\\xd3\\xfe\\x19~\\xcf\\x1e\\x0f\\xd1\\xf5\\xd1ugg\\x12\\xb8o\\x99\\x92\\xb2\\x958\\xd4\\xadk\\x9e\\x85,\\xc3+\\xc3\\xe1n\\xd2\\xb2[[_\\xbc\\xe9\\xfcE\\xf1\\x16\\xf7D\\xf0\\xacR\\x12\\xca|\\xac\\xb6+\\xe4\\xef\\x89\\x7f\\xb6\\x05\\xce\\x9b\\xe2K\\x8b\\x7f/pG\\xfb\\xd5\\xf67\\xc4\\xbf\\x05\\xe92\\xe8S[\\xac\\xa9\\x9d\\x9bv\\xd7\\xcc\\xfa\\xdf\\xec\\xc7\\xe1-N\\xfeK\\xbb\\x8bug\\x91\\xdb\\xe6z\\xed\\xc4\\xc5(\\xdaL\\xe0\\xc8\\xa7\\x85\\xa9JU(\\xa4\\x9b}P\\xff\\x00\\xd9{\\xf6\\x8c\\x97\\xc7\\xde#\\x10\\x8bw]\\xad\\xfcU\\xed\\xbf\\x19>%\\xdex{B\\x92\\xe6\\xdd\\x1b\\xe4\\x8bv\\xd5\\xaeG\\xe07\\xec\\xf3\\xa5x6\\xfb\\xedz}\\x92\\xae~\\xf3-w\\xdf\\x11\\xfc\\x1d\\xa4\\xea\\xf6rY<\\x89\\x92\\x9b[ugF\\rQn\\xfa\\x0f\\x1f_\\x01<\\xd2\\x9f:M\\xa5\\xad\\xb6>L\\x7f\\xdb\\xa6\\xe6\\xc3Z\\x9a\\xc2\\xe2\\xceU1\\xb7\\xf7\\r}\\x17\\xfb<|h\\xb9\\xf1w\\x87\\x8e\\xbe\\xd0:+\\xa6\\xe5\\x0f\\\\\\x15\\xe7\\xec\\xb1\\xe1\\x1b\\xc9\\x9aym\"f\\xdf\\xbbw\\x15\\xed\\xff\\x00\\t\\xbe\\x15\\xe9\\x9a\\x17\\x85\\xd2\\xc2(\\x128\\xd5v\\x85Z\\xcf\\x0fN\\x0e\\xaai\\xeco\\x9cb\\xb2\\xe8\\xe0\\xa4\\xa6\\x93\\xbd\\x92\\xb2\\xb3<\\x9f\\xf6\\x8a\\xfd\\xa5\\xac<\\x19g\\xe6j\\x12m\\x1b\\xab\\xc9\\xbc?\\xfb_\\xf8KY\\xd5m\\xec\\xe3\\x95\\x7fz\\xeb\\xb6\\xbdW\\xf6\\x90\\xfd\\x9e\\xf4\\x7f\\x1b^}\\x8e\\xe2=\\xd1\\xff\\x00\\x15y\\x7f\\x85\\x7fc\\x0f\\ti\\xfa\\xac7\\x16v\\xff\\x004/\\xb9j\\xb1P\\xa6\\xa5\\xca\\xe5\\xa9\\xdb\\x97}Z\\x9e\\x16.\\x8a\\\\\\xaf{\\xee}G\\xe0?\\x1c\\xdb\\xcd\\xe0\\xd1\\xa9[&\\t\\x8br\\xd7\\x88|f\\xfd\\xa7\\xe1\\xf0N\\xb1\\xe5\\xdeG\\xf2\\xb3\\xb7\\xcd^\\xe5\\xe0\\xbf\\x01&\\x99\\xe11a!\\xf2\\xd1b\\xda\\xb5\\xe5?\\x12\\xff\\x00g\\xad\\x1f\\xc5Z\\x93I\\xa8l\\x91U\\xbeU\\xa2\\xa4\\x1ch\\xc6-\\xe8y\\x99|\\xb2\\xd5\\x8e\\xaa\\xe3k\\xdfK\\x9c\\xe7\\xc2\\x7f\\xda\\xb7N\\xf1\\xbf\\x89\\xad\\xb4\\xab(]\\x99\\x98}+\\xde\\xfc[\\xf1B\\xdbI\\xd0\\xda[\\x94\\xda\\x16-\\xd9\\xaf(\\xf8K\\xfb<\\xf8{\\xc2\\xfe)K\\x8b;4V\\xdd\\xf2\\xb6\\xca\\xf5\\xcf\\x89\\x9f\\x0e\\xec\\xae|3$\"5l\\xc5\\xb7m\\x18zV\\x8bqdf\\x952\\xb9c(\\xc6kW\\xd8\\xf9\\xab\\xc4?\\xb5\\xa7\\xc3\\xd8u\\xb9,\\xee/\\x11_\\x7f\\xdd\\xafY\\xfd\\x9d\\xfe0\\xf8g\\xc6q\\x9b\\x8d2dp:{W\\x88\\xeb\\x7f\\xb2/\\x865-Vk\\xc9,\\xd5\\x99\\xdfw\\xcf^\\xb7\\xfb7\\xfc\\x10\\xb5\\xf0#\\x98\\xac\\xed\\xb0\\x84\\xd6\\n\\x8c}\\xb5\\xe2\\xf5=l|p\\xbfP\\x9cgd\\xad\\xa6\\xba\\xf9\\x1d\\'\\xc6\\xff\\x00\\x8bPxn\\xd1\\xae.~dD\\xaf\\x19o\\xda\\xef\\xc3@\\xf9\\x02?\\x99\\xbf\\xd8\\xafk\\xf8\\xc7\\xf0\\xa3M\\xf1\\r\\x9c\\x96w\\x12nW\\xfb\\xd5\\xe4P\\xfe\\xcb~\\x18I\\xd5\\xe3\\x83iF\\xfb\\xd4\\xb1QR\\x95\\xe4\\xccr\\x87\\x96\\xac\\x14yR\\xf3\\xbd\\xcfr\\xf8U\\xf1Pj\\xfe\\x0fK\\xf4\\xb7\\xda\\xae\\x9b\\x85y\\x87\\xc7\\x0f\\x8e\\xba\\'\\x87\\xb5\\xbf/PM\\xa5\\xab\\xd6~\\x19\\xfc<\\xb3\\xb3\\xf0\\xc8\\xb3A\\xb5U6\\xady\\'\\xc7_\\x81VZ\\xf6\\xb7\\xe6\\\\\\x7f\\x0f\\xf1V\\xbe\\xceR\\xc3\\xef\\xa1\\xc7\\x97<\\xaf\\xfbb\\xab\\xa6\\xb5\\xe9}\\x8e/\\xc2\\xdf\\xb4\\xf7\\x85o|Oo\\xa5\\xdb\\xc7\\xf3\\xbc\\xbfv\\xbe\\x90O\\x1c\\xb1\\xf0\\x99\\xba\\x8a!\\x8f+;k\\xe6\\xff\\x00\\x0b~\\xce\\xda\\x1e\\x9b\\xaeC\\x7f\\x1ck\\xbd%\\xdc\\xb5\\xf4\\xce\\x83\\xe1{A\\xe1D\\xb6\\xbc\\x1d#\\xc6\\xda\\xcf\\r\\rZ\\x8c\\xafc|\\xfd\\xe1\\x15:r\\xa8\\x95\\xef\\xd3\\xb1\\xf3/\\xc4\\xcf\\xdar\\xe7\\xc3~!\\x9a\\xcf\\xfb2Y\\x19_\\xf8#5\\xec\\x7f\\xb2\\xd7\\x89<E\\xe3\\xc0\\xba\\xf6\\xa7\\xa6\\xbd\\xba?\\xcc\\x88\\xc7\\x9a\\xa3\\'\\xc0\\x8f\\x0c\\xf8\\xa7\\xc5\\xbe|\\xf6QH\\xc2_\\x9b\\xe4\\xcd{W\\x85\\xfc=\\xa7x>\\xda\\x1d3M\\xb6T\\n\\xbb~Z\\xf2\\xb1NQ\\xc5G\\x92]u9\\xf3\\xbc\\xdb\\x03O/\\xf6\\x14\\xa2\\xb9\\xa4\\xb4\\xd3e\\xeaV\\xf8\\x8d\\xaf&\\x89\\xa6\\xc9q\\xf6}\\xdb\\x12\\xbc/X\\xfd\\xa2%\\xb5\\xb9h\\xa3\\x81\\x9bk\\xd7\\xbb|B\\xd2\\xad\\xb5-6H\\xf1\\xf7\\x97\\xe6\\xaf\\r\\xd4>\\x1f\\xe8\\xe9;\\x19\\x02\\xabo\\xf9\\xab\\xcd\\xcfpy\\x85i\\xc2T\\xea\\xf2\\xfc\\xaes\\xf0\\x94r\\xb7B_Z\\x83\\x93;\\xcf\\x86~>\\xbb\\xf1\\x16\\x94\\xd7q\\xa7%k\\xcb\\x7fio\\x1ex\\xab\\xc3p\\xc9\\x7f\\xa5\\xe9\\xef&\\xd7\\xfb\\xa9^\\x97\\xf0\\xaci\\xba|\\x9f\\xd9\\x96\\x93\\xab\\x01\\xf7\\xb6\\xd6\\xef\\xc4\\xbf\\x08xWX\\xd3Y\\xf5Ku`?\\xbd^\\xb6\\x125a\\x82Q\\xab+\\xd8\\xd6\\x18\\xac\\x1e[\\x9es{+\\xc5\\xec\\x8f\\x8b\\xfc\\x0b\\xfb@\\xfcM\\xf17\\x8d,\\xb4i\\xbc7,04\\xe3\\xcc\\x99\\xeb\\xee\\x0b\\x0bK\\xfdW\\xc0\\xf1I\\x1f\\xfa\\xdf q\\xff\\x00\\x01\\xaf\\x1d\\xf0\\xbf\\x84<\\x0f\\x0f\\x88\\xe3\\xfb4QnG\\xf9x\\x15\\xf4\\x0f\\x85\\xcd\\x8c:r\\xc6:m\\xac)K\\xfd\\xa5\\xa8\\xcbF\\x8d8\\xbf\\x1dFt\\xe9{(Y\\xadv\\xb6\\xe7\\xc4\\x7f\\x1f\\xbe%\\xfcE\\xf0O\\x8bf\\xd3\\xed\\xf4yY~m\\xb5\\xcd\\xfc%\\xf8\\xd1\\xf17S\\xf1\\xb41j:k-\\xbb\\xb5}\\x8d\\xf1s\\xe1_\\x86\\xbca\\x1bj\\x17\\x16q4\\xc9\\xf3n\\xd9^-\\xff\\x00\\x08\\xc7\\x83\\xfc7\\xac~\\xf1\"\\x86dn+\\xa5N\\x8f\\xb4|\\xdb\\xaf3\\xd9\\xcas:y\\x96\\x15(\\xab4\\xac\\xd5\\x8fL\\xd4\\xefu\\xadk\\xc2e\\xe2\\x91\\xb2b\\xfb\\xd5\\xf2\\xa7\\xc4\\x8d+\\xe3\\x92x\\x92k\\x7f\\x0f\\xde7\\x93\\xb9\\xbe\\xf4lk\\xec_\\t\\xea\\xba\\x1b\\xf8p\\xa7\\xca\\xc0\\xa5y\\x9f\\x8d\\xbcO\\xe0\\xfd\\x17Xo\\xb6\\\\\\xc5\\x1e\\xe7\\xae\\xba\\x8a\\x9a\\x873W9\\xb2\\xaa\\xd5\\x15j\\xb4#M\\xa5~\\x87\\x93\\xfe\\xcdv\\x7f\\x16l\\xb5{\\x8b\\x7f\\x16\\xdc4\\x8a\\xff\\x00w9\\xafE\\xf8\\xe1\\xe0\\x1f\\x10\\xeb\\xfe\\x0e\\x9a\\xde9e\\x8d\\xca|\\xac\\x94\\xfd\\x13\\xe2o\\x81\"\\xd5\\xed\\xc5\\xa6\\xa1n\\xa5\\x9b\\xee\\xf1^\\x9f\\xabx\\xbf\\xc3\\x9a\\xae\\x88\\xd0\\xc8\\x15\\x86\\xca\\xce\\x84\\xe9I\\xb7m\\x8e\\x9cn#\\x15\\x87\\xad\\x07\\x1am\\xae\\xa7\\xc03~\\xcd\\x9e6w\\x92;\\xcdr\\xf5\\xb77\\xca\\xdea\\xaf\\xa3\\x7ff?\\x05k~\\x1f\\xd1\\xd3C\\xd5.\\xe5\\x91\\xc1\\xf9Z^\\xb5O\\xc7_\\x1a|\\x17\\xe1]JK{\\xcb\\x88\\x97c\\xff\\x00\\x1dI\\xf0\\xc7\\xf6\\x94\\xf0f\\xb3\\xe2%\\xb2\\xb2\\xd4\"\\xf3w|\\xab\\xe6Q*\\x91\\xe6\\xb7)\\xda\\xe9Z\\x94\\xb9\\x1f\\xbc\\xd6\\xcd\\x9d\\x87\\xc7O\\x81\\x11x\\xbbG\\x16\\xf7\\xb6\\xfb\\xb3\\xfcU\\xe2\\xf6\\x1f\\xb1\\xd7\\x86\\xac.\\xa3\\x9e8\\x13r>\\xea\\xfa{\\xc5>5\\xfb~\\x80\\xd3\\xdb\\xc5\\xbb\\x11z\\xd7\\xcb\\xdf\\x10\\xbfj\\xdf\\xf8C\\xf5\\xb9\\xb4\\xab\\x8b&\\\\}\\xd6\\xf2\\xf3WR\\xa5E\\x05\\xec\\xce\\\\\\xbaU\\xaa\\xd0o\\x12\\x92q>\\x8e\\xf8S\\xe0\\xcd4iK\\xa7\\x07\\\\G\\x1e\\xd5Z\\xe1~6~\\xcf\\x1e\\x1a\\xd65\\x9f\\xed\\x0b\\xbd>&_\\xefyu\\xc6~\\xce\\xbf\\xb4\\xf9\\xf1\\x9e\\xad5\\x84q<l>\\xef\\xc9\\x8a\\xf4_\\x8c\\x9e+\\xf1\\n\\xf8N}CN\\x8d\\xa4\\x95#\\xcd\\x14\\xeaVq\\xb7Q*8\\x88\\xe3\\xf9\\xd4\\x93\\xa6\\xfa\\x1e\\x7f\\xe1\\xcf\\x81\\xde\\t\\xd1/\\x16\\xf6+e\\x8d\\x91\\xbe]\\xb5\\xef\\xff\\x00\\x0f\\xa7\\xd0[E[IdV\\xf96\\x8a\\xfc\\xf1\\xf1W\\xed\\x15\\xf1\\x9a\\x1dVk+=\\x1e\\\\\\xa3mZ\\xf7\\xaf\\xd9?\\xe2\\xbf\\x8f\\xfcUd\\xd6\\x9e\\'\\xb2he\\xfe\\n\\x96\\xb1\\nNR\\xd9\\xf9\\x1ac!\\x87\\xc6\\xd2t`\\xec\\xd1\\xeb\\xdf\\x13\\xa1\\xf0\\xc6\\x89~\\xd7\\x97\\x86%]\\xfb\\xb75r6\\xbf\\x16|\\r\\xa3\\xdeG%\\xbe\\xa3\\x02\\x9d\\xde\\xd5{\\xe3\\xc7\\x80\\xb5\\x8f\\x15xVO\\xb3\\xca\\xf1\\xc9\\xb7r\\xb2\\xd7\\xc9:\\x97\\xec\\xf1\\xf1.mI\\xbc\\xbdr\\xe9Qe\\xdc\\xbfz\\xb3\\x9d\\x17VW\\xbd\\x8e\\x9a\\x13T\\xf0\\xaa6s\\xe8\\xcf\\xbf,>\"\\xe9Z\\xc6\\x8a\\xb1\\xa1Y\\x15\\xe2\\xfb\\xcb^\\x0f\\xf1\\xb3\\xe3\\xde\\x8d\\xf0\\xd3Sh\\xef#\\xda\\xac\\xff\\x00+WM\\xf0\\x0b\\xc2\\x1e!\\xb5\\xf0\\xc5\\xbe\\x9d\\xaa\\\\<\\x92\\xa2*\\x96j\\xc0\\xfd\\xa6?f\\x93\\xe3\\xa8VIl\\xd9\\x9a\\xb6\\x85.orN\\xe8\\xc6\\x84(a*J4\\x95\\xa4\\xf5\\xb3g\\t\\xe0\\xff\\x00\\xdb\\x87\\xc3\\xd7\\x9a\\xdc6\\xf1\\xbf\\xdf}\\xaa\\xd5\\xf4\\x96\\x85\\xf1\\'\\xfe\\x13?\\x0e,\\x96\\xb2\\xeeV\\x8b\\x8a\\xf93\\xc3\\x1f\\xb1\\xcd\\x9e\\x9by\\x1d\\xc4\\x96|\\xa3\\xee\\xdc\\xd5\\xf4\\xff\\x00\\xc1\\xbf\\t\\xc7\\xa4i\\xf0\\xe9SI\\xc2\\xfc\\xb5\\x94\\xe9S\\xa4\\xd2\\x8c\\xb5d\\xcdJ\\xad\\'S\\x11\\x15\\xee\\xecx?\\xed\\x1b\\x7f\\xf1/H\\xbfk\\x8f\\rF\\xdbw\\xfc\\xbe\\x95\\xe6\\x1e\\t\\xf1\\x87\\xc7X|[kyq\\x1by-/\\xef\\xba\\xd7\\xdc_\\x10~\\x1b\\xe8\\x97\\x91\\xfd\\xa2\\xe6\\x04u_\\x9a\\xb8\\x7f\\xf8F\\xfc\\r\\xa6\\xbf\\xfc{[\\xab\\xa7\\xd2\\x94\\x9d\\nZ\\xc9]\\x9d\\x14\\xab\\xfdz*T\\xe4\\xd2],Y\\xd0\\xa1\\xd6\\xf5\\xef\\x0c\\x84\\xbb\\xdd\\xbeX\\xbf\\xf6Z\\xf9o\\xe3\\xe7\\xec\\xe5\\xe3\\xfdW\\xc4\\xf2\\\\\\xe9\\xfa\\x84\\xab\\x13\\xb7\\xddJ\\xfb+\\xc0\\xde-\\xf0\\xd4K\\xf6\\x14\\x926\\xc57\\xe2#xvKf\\xd4\\xe3\\x8e-\\xaa\\x9f5U*\\x94\\x9c[J\\xe8\\x8a\\x95\\'*\\xbe\\xc2Piw>9\\xf8-\\xf07\\xc6~\\x08\\xf1\\x0c:\\x85\\xc6\\xa1+\\r\\xeb\\xb9k\\xed\\x0f\\x05\\xe9?\\xdb\\x1a\\x12\\xdb]|\\xcd\\xe5|\\xdb\\xab\\xc1\\xbcI\\xf1\\xef\\xc1\\xfe\\x1b\\xbcksq\\x12\\x94\\x7f\\xbb]\\xaf\\xc1\\x8f\\xda\\'B\\xf1$\\xabi\\xa6\\xea([\\xa7\\xdf\\xa5R\\xac\\xa5R\\xfc\\xba\\x15[\\x0c\\xa3\\x86p\\xa5/yw\\x0f\\x89\\x1f\\x01<1\\x7f\\xaa\\xc9q\\xa8\\xe9\\xe9\\xf37\\xf7*\\xaf\\x86~\\x1ax7\\xc2\\xb7+qe\\x1a+\\xaf\\xd2\\xbb/\\x8a\\xfa\\x95\\xfe\\xa1\\xa0\\xc9y\\xa7\\xfd\\xf5]\\xcb\\xb2\\xbe2\\xf8\\x97\\xfb@\\xfcE\\xf0\\xc6\\xb76\\x97\\x1d\\x9c\\xad\\xf3\\xfc\\xac\\xbb\\xa97\\x88\\xa9\\x1bA\\xe8kJ\\xaa\\x86\\x1a5*\\xef\\xd4\\xfb\\xd3\\xc3\\x92xwP\\xb2X%u`V\\xb8\\xaf\\x88\\x9e\\x10\\xf0\\xc6\\x9d4\\x9a\\x84\\x96\\xf1m\\xfb\\xdb\\xab\\xe7\\x8f\\xd9\\x8f\\xf6\\x83\\xf1\\xb6\\xbf\\xa8\\x9d;Y\\xb6\\x95w7\\xcb\\xbe\\xbd\\xf3\\xe2>\\x9f\\xa8\\xf8\\x8f\\xc2r}\\x8fp\\x95\\xa2\\xf9ER\\x8dX\\xa4\\x9e\\xec\\xcb\\r\\x18\\xaa\\xfe\\xd2\\x9c\\xdb\\x8b\\xe8q\\x90\\xfcN\\xf0O\\x87\\xaf\\x17\\xcb\\x92(\\xd87\\xde\\xafV\\xf8i\\xf1\\x7f@\\xf1\\x05\\x8a\\xc1gx\\xae6W\\xc0~<\\xf8i\\xf1]\\xfcO%\\xbcrJ\\xb1\\xf9\\xad\\xb7\\xad{\\x17\\xec\\xcd\\xe1/\\x1exb\\xfe;}b\\xe2]\\x8dNxY+\\xce\\xfa\\xa0\\xaf5\\x8a\\x9f\\xb0\\x9d=:3\\xdf~3jW:n\\x9b6\\xa9\\xa5\\xc7\\xce\\xcd\\xd5\\xf2\\xbf\\x8b\\x7fjm{D\\xd5Z\\xdf\\xec\\xef\\x94j\\xfb=\\xbc \\x9e&\\xd1\\r\\xb5\\xcc{\\xb7\\'\\xf1W\\x84|B\\xfd\\x95\\xf4\\x1b\\x9dbK\\x8f\\xb3\\xa2\\xb6\\xfd\\xcdS\\x1at\\xea|z3ZU\\xdb\\xa4\\xa8\\xd2\\x96\\xb1%\\xf8\\x1d\\xfbB\\xde\\xf8\\xde\\xce4\\x96\\x16\\xdc>V\\\\sR\\xfe\\xd0\\x9ao\\x88\\xf5\\r\\x1eK\\xcd\\x1e7\\xcb/\\xcb\\xb6\\xac\\xfc1\\xf8Q\\xa3\\xf8&\\xfdM\\xb4\\x88\\xa3\\x7f\\xdd\\x15\\xec\\xb6z&\\x8b\\xadi\\x8dmq\\x12\\xb6\\xe5\\xfb\\xb5Q\\x95\\x18\\xb4\\xa3\\xd0ns\\xa1IJ\\xa6\\xec\\xfc\\xe3\\xb9\\xb3\\xf8\\xaf>\\xbc\\xb1\\xc7\\xf6\\x85)/\\xca\\xdc\\xd7\\xda?\\xb2\\xa5\\x9f\\x89?\\xb1\\xa1\\x8f\\\\\\xdd\\xe6m]\\xdb\\xebSS\\xf8M\\xe1\\xbbmQ\\xae\\x7f\\xb3\\xd1J\\xb7\\xf7+\\xa8\\xf0\\xde\\xa5\\xa5xf5\\x8e\\x08\\x95@\\xa5Z\\xa5;Y#?c%NR\\x83\\xe6\\xbe\\xc4\\xff\\x00\\xb4O\\xed\\x15\\x7f\\xe0\\x9d]\\xa0\\x93{&\\xea\\xc2\\xf8=\\xfbI]x\\xf7Z\\x8a\\xc2\\xca9N\\xd7\\xc6k\\xd6\\xbe(\\xfe\\xcf\\x1a\\'\\x8e^K\\x8b\\xcbu\\x91\\xbf\\x86\\x97\\xe0O\\xec\\xc3\\xa0\\xf8;T\\xfb\\\\V\\x89\\x80\\xfb\\xab\\xdf\\xc7\\xe1)\\xcb\\x16\\xb9\\x0f\\x93\\xc3\\xe6yF\\x1f-n\\\\\\xb6Kkks\\xd9\\xbc7v\\xf6\\xbe\\x1a\\x8e\\xea\\xe0\\xe0\\xf9[\\x9a\\xbed\\xfd\\xa7?k;_\\x0ck\\xf2x~\\xd2\\xe3s\\xc5\\xfe\\xb1R\\xbe\\xa1\\xf1DpX\\xf8~Kh\\xbe_\\x93\\x0b_\\'\\xf8\\xdb\\xf6g\\xd2<[\\xe2Y\\xb5\\x8b\\xd8\\xbc\\xe9f}\\xdf?5y\\x87-:Q\\x85\\xf4>k\\x85\\xe9\\xe1k\\xe2\\xeab*$\\xad\\xb5\\xccO\\x82\\xff\\x00\\xb4%\\xe7\\x8c5\\xf4\\x82(\\xdd\\x81o\\x9b\\xd2\\xbd\\xf3\\xc6\\xbe?\\xba\\xd1<*\\'\\x83\\xef\\xb4[\\x9a\\xb8\\x9f\\x83\\xdf\\xb3f\\x9d\\xe1[\\xa1u\\x0c*\\x8b\\xbb$%z\\x17\\x8c|;\\xa6\\xddY5\\x8b\\xca\\xbfsmy\\xd4#\\xec\\xa0\\xdaz3\\xdf\\xcdq9^#\\x1dJ\\x16N\\xdb\\xdbc\\xe4/\\x1c\\xfe\\xd6\\x1e$\\xd3\\xfcC5\\x94zt\\xed\\xb1\\xf6\\xee\\xe6\\xbd\\x0b\\xf6o\\xf8\\xbf\\xe2\\x7f\\x88\\x1a\\x9cr\\xdcY\\xca\\xa8\\xad\\xf7\\x9b\\xa5t\\xba\\x9f\\xec\\xed\\xe0\\xfb\\xbb\\xa6\\xb8\\x92\\xde\\x06g\\xfb\\xcd\\xc5z_\\xc1\\x8f\\x83>\\x1c\\xf0\\xc5\\xbb=\\xad\\xb4k\\xec\\xb5\\x9d\\x1a0\\xad\\x8aZ\\xecz8\\xec\\xd7/\\xc3`%\\xb3MY+\\x14\\xfe-|Z\\xb9\\xf0\\xae\\x84\\xdf; D\\xf9\\xab\\xe4\\x9f\\x15~\\xd8\\x1a\\xa1\\xd7\\xa6\\xb7\\xb3\\xb6\\x95\\xb6\\xbf\\xcc\\xdb\\r}\\x81\\xf1\\xa7\\xc1\\x9aV\\xb3\\xa7\\xc9i&\\xd6\\x07\\xe5\\xaf\\x16\\xb6\\xfd\\x99\\xfc\\x17u?\\x16\\x11n?y\\xb8\\xad\\xf1\\xb6M.\\xc76CS\\x03\\x0c\\x1f\\xb4\\x8d\\xa2\\xfa\\xbb\\\\\\xd5\\xfd\\x96\\xbe*j\\x9e6\\x91oncu\\\\\\xf4z\\xf4/\\x8e\\x9e5\\xd54m\\x19\\xdfN\\xdf\\x94M\\xdf-_\\xf8=\\xf0cJ\\xf0]\\xbf\\x99\\x04K\\x1a\\x95\\xad\\x0f\\x88Z&\\x81\\xad#i\\xf7\\x8e\\xa3w\\xcbE(ra\\x9b\\xd93\\x83\\x17\\x8e\\xcb\\xeb\\xe7\\x91\\x9cct\\xb7\\xd3\\xf4>8\\xba\\xfd\\xa9\\xfcwg\\xaa\\xc9o-\\x94\\xfb\\x15\\xf6\\xabyf\\xbd\\xe7\\xf6y\\xf8\\x8f\\xe2O\\x10\\xe9\\xe7X\\xbf\\xb7d\\xca\\xff\\x00\\x15Ks\\xf0\\x17\\xc0\\xd7-\\xcd\\xbcY\\xdf\\xbb\\xb5z\\x9f\\xc3\\xbf\\x86\\x9a&\\x85\\xa1\\xec\\x81\\x14\"\\xafJ\\xe7\\xc3\\xd3S\\xae\\xac\\xf6=<\\xdb6\\xcbc\\x82\\x92j\\xeeZ-,x\\x7f\\xed\\x0f\\xfbAj^\\x0f\\xd3d\\xb8\\x926o\\xee\\xadxM\\x9f\\xeduy\\x7ft\\xb1\\xc7g.K\\x7f\\xcf3_P|o\\xf8W\\xe1\\xbf\\x12\\xbf\\xd9\\xef-\\xd1\\x93\\xfb\\xad^{\\xa0\\xfe\\xcd\\xfe\\x0c\\x96\\xfe8\\xe3\\xd3\\xe2\\xf9[\\xd0Ub\\xe1MN\\xd7\\xd4\\xec\\xca\\xeb\\xe1V\\x0e3\\xa6\\xd4cmU\\x8fK\\xf8\\x17\\xe3k\\xedc\\xc2\\xa9\\xa9<l\\x0b.\\xec=p_\\xb4\\'\\xc6=k\\xc2L\\xd7\\x10F\\xed\\xf3\\xfd\\xda\\xf7_\\x03\\xf8\\x07N\\xf0\\xae\\x84!h\\xd5P\\'\\xdd\\xae#\\xe2/\\x80\\xbc\\x1f\\xe2K\\xd6\\xfb`\\x8d\\xb0\\xdfu\\xaa\\xdd>J>\\xf3\\xb1\\xe4a\\xb1\\xb8\\x1a\\xb9\\xbc\\xeaF:tv\\xfd\\x0f\\x9e\\xb4\\x1f\\xdas\\xc4\\xfa\\x96\\xa5\\x0e\\x9e4\\xf9[\\xcdeZ\\xfaw\\xc2\\x9e5\\xd5m|\\x19\\x14\\xd7\\x08\\xe1\\xb6\\xeej\\xe24\\x0f\\x81^\\x10\\x8fW\\x8a\\xe2\\x08 \\xdc\\xad\\xf2\\xd7\\xb2\\xbf\\x81\\xf4\\xe8<6\\xb0\\x12\\xb8)\\xf2\\xe6\\xa3\\x07N\\x12\\x9c\\xb9_\\xdek\\x9ef\\x19{\\x84)\\xc9&\\xef\\xda\\xc7\\xcb\\x7f\\x1a\\x7fi\\x9b\\x9d\\x07[\\x92\\xcd\\xed\\x99\\x99k\\x1b\\xe1W\\xed8\\xfa\\xf7\\x8c \\xd3\\x1bOt2?\\xde\\xf2\\xcdw\\xff\\x00\\x11~\\x07\\xe8:\\xde\\xb7%\\xc5\\xe4h\\xdf5G\\xf0\\xf7\\xe0\\x0e\\x97g\\xae\\xc3ygo\\x11\\xd8\\xdf+l\\x15\\x95xS\\xf6\\xb7oS\\xdc\\xa5[\\t\\x1c-\\xd7*\\x85\\xb6\\xeaz\\xdf\\x88<o=\\xb7\\x85\\xd6\\xe2\\x04\\xda\\xcd\\x15|\\xbd\\xf1\\x0b\\xf6\\xb6\\xbf\\xf0\\xdf\\x88\\xa6\\xd3\\xe4\\xb3\\xb8fW\\xff\\x00\\x9ef\\xbe\\xb6\\xd7<1\\xa7/\\x87|\\x89\\xe2\\\\\\x88\\xb1^\\x1d\\xaf\\xfc\\x08\\xf0\\x86\\xaf\\xaaI{qg\\x131o\\xbd]\\x18\\x95\\x17I)\\xbb\\x1e6E[\\x03i\\xf2\\xab;\\xee\\xd5\\xccO\\xd9\\xe7\\xf6\\x84\\xd6<}\\xe2Bb\\xb2\\x95V/\\xe2q\\x8a\\xf5\\xaf\\x8a\\x1f\\x155\\r#C\\x9a\\xe2H\\xfeT\\x84\\xb6\\xda\\xce\\xf83\\xf0g\\xc3\\x1e\\x1f\\xd4\\x18i\\xf0${\\xbe\\xf6\\xda\\xe8\\xfe/|9\\xd2\\xb5M&Kh\\xe5U\\xde\\xbbZ\\xa7\\x0f\\x08\\xaa-\\xc5\\xe8\\x18\\xecN[S4\\xa7\\tE^\\xdb\\xd8\\xf9^\\xff\\x00\\xf6\\xb7x\\xaf$\\x93\\xfb=\\xd8+\\xb7\\xf0W\\xb9~\\xce\\xbf\\x1a\\xdb\\xc6\\x9ax\\xbe\\x86\\x0f\\xbd^t\\xff\\x00\\xb3\\x97\\x86\\x04\\xcd\\x1f\\x94\\xbf3|\\xd5\\xec?\\x03\\xbe\\x16Y\\xf8f\\xd8Ei\\x12\\xac]\\xab\\x9e0\\x8a\\xab\\xcc\\xa5vzY\\x9dL2\\xc0\\xcdV\\xe5\\xb5\\xb4\\xb1\\x81\\xf1\\xef\\xe2\\x8e\\xb7\\xe1\\xebi/--\\xdaL\\x7f\\nW\\x84\\xff\\x00\\xc3Xx\\xb5\\xeeV\\xda?\\x0f\\xdd.\\xe7\\xdb\\xbb\\xcb\\xaf\\xaa>(\\xf8cA\\xbf\\xff\\x00G\\xb8\\x8dv\\xb7\\xde\\xdd\\\\\\x12|\\'\\xf0C\\xba\\xc9\\xf6H\\x18+}\\xee)W\\x84y\\xfd\\xe7\\xa99^+\\x08\\xb0Q\\xe5\\x8d\\xbeW;/\\x84\\xff\\x00\\x10u{\\xdf\\x06%\\xec\\xf02\\xbbE\\xbbcW\\x91~\\xd1\\x1f\\xb4\\x05\\xcf\\x85u_*Kve\\xfe/\\x92\\xbe\\x8b\\xf0\\'\\x864;m\\x04[\\xa2.6ak\\xcb>4\\xfc%\\xf0\\x96\\xb7\\xaa\\xb4\\x9a\\x84j\\xe1_\\xee\\xd6\\xee\\ta\\xd2oK\\x1e~\\x03\\x17\\x80\\x96mQ\\xc6\\x16}\\x1d\\x8f\\x01\\xf0\\xe7\\xedI\\xab\\xeaz\\xed\\xbcV\\xf6O\\xe5<\\xbb[\\xf7dW\\xd5\\x9a?\\x8a\\xb5=O\\xc1\\xa9*;\\x061W\\x8f\\xe8?\\x04|\\x13mw\\x1c\\xb6\\xf6\\xea\\xa5[\\xe5\\xe9_@x+A\\xd2\\xec|:\\xb0\\xc9\\xb5\\x80O\\x96\\xb0\\xc3F\\x92v\\x8c\\x8e\\xac\\xee\\xb5\\x1at`\\xea.i_\\xb1\\xcf|\\x05\\xd3\\xfcI{\\xaf\\xde]\\xea\\xbb\\xb6\\x19[f\\xfa\\xf6\\x8b=\\x1a9\\xcf\\x9f \\xe6\\xb9\\x8f\\x02Z\\xe9\\xf6,\\xe9\\x06\\xdey\\x1cV\\xcc\\x9e\\'K\\x0b\\xaf\"9\\x97\\x96\\xfb\\xb5\\xe2F\\x86\\x1a\\x19\\xa3\\xad\\x88\\x9bq\\xbe\\xd7>\\x0b;\\xc4V\\xc7\\xe3\\xdc\\xa9\\xc6\\xda\"\\xf6\\xaf\\xe1h\\xf5\\x08\\x1a?U\\xaf\\x96\\xbfi\\xaf\\x10\\xb7\\x81/\\x1bO\\xd2\\xed\\xe5i\\xdb\\xf8V\\xbe\\xa8\\x97\\xc4p\\xac^fF6\\xd7\\x97\\xfc`\\xd2\\xbc\\x19\\xe38\\x99\\xf5\\r>&\\xb9\\xfb\\xbeg\\x19\\xafG8\\xc3e\\xb5\\xa1\\tS\\x9bV\\xf3:xK\\x1bW\\x03\\x99E\\xd7\\x8b\\x94<\\xbf\\xadO\\n\\xfd\\x8f\\xb5\\xbf\\x16x\\x93\\xc4w2\\xebw\\x80\\x05\\x9b\\xf7i\\xfe\\xcd}\\x03\\xf1+C\\xb9\\x9b\\xc2\\xb7Q\\xdb\\xc9\\xf3\\xacM\\xb5\\xab\\x8c\\xf8[\\xe1o\\x0e\\xf8SU\\xf3,bUf\\xfe\\xedzg\\x8a/\\xed\\xe7\\xd0\\xe4-\\x1e\\xe1\\xb2\\xb2\\xc3P\\xc2\\xd5\\xc3\\xb4\\xaah{\\xfcE\\x8e\\xfa\\xc6u\\n\\xd4\\x95\\xa3\\xa7K\\x1f \\xfc\\'\\xf0\\xf7\\x8f\\x13\\xe2\\x8d\\xd5\\xc6\\xb1~\\xe6\\xd4K\\xb6\\x08\\xdb\\xa7\\xde\\xaf\\xb0|\\x1bi\\x9b\\x00\\x8c\\xfb\\xbeN\\xd5\\xe1v~!\\xd0-\\xbcR\\xd2y{J?\\xcd^\\xad\\xe0_\\x1fiW\\x97\\x02\\xde\\x17\\xe9\\xfc&\\xbc\\xda8\\x0c+\\xc7)\\xaa\\x96\\xb6\\x96\\xb9\\xdd\\xc5\\x92\\xc5\\xe3\\xe8\\xc2j\\x16I\\x1b>!\\xb5h7y\\x8f\\xc1\\xe9_\\x1c\\xfe\\xdb~\\x00\\xf1\\xcc:\\xdd\\xae\\xbb\\xe0MQ\\xa3\\xfd\\xef\\xef\\x17\\xb3\\xd7\\xd7~6\\xf1%\\x85\\x9d\\x83\\\\\\\\K^)\\xf1/\\xc7\\xbe\\x18\\xbc\\xd2\\x9a}Q\\xe2\\xd9\\x13}\\xe7\\xad\\xab\\xe0V\\x17\\x18\\xaa\\xb9\\xde\\xfd\\x0eN\\x15\\x86.5\\x14\\x94[OFf~\\xcf\\'\\xc4z\\xa7\\x83 \\xb4\\xd6ef\\xb9\\t\\xb6Z\\xe5\\xbfh\\xdf\\x82\\xda\\xaf\\x8a&\\x8eKy%\\x8eU\\xfe\\xe4\\x98\\xae\\xe3\\xe0\\xaf\\xc4\\xdf\\t\\\\\\\\\\xb2\\xe9wQI\\xb7\\xf8U\\xeb\\xa2\\xf8\\xa7\\xe3}\\x0e+6\\xd4d\\xdb\\xb5\\x13\\xe6c^\\xdcg\\tS\\xb9\\xf4\\x15jb\\xa8\\xe6\\xbc\\xb1\\x87\\xba\\xfa\\x9f*h?\\xb3g\\x8a\\xac5\\x8b]BMR\\xe9\\xb6J\\xac\\xdf=}C\\xe1/\\x00\\xde_xub\\x8eM\\xc5b\\xdak\\xcb\\xaf?h\\xcf\\x04\\xd9\\xc4\\xc9%\\xc6\\xdd\\xbdZ\\xbd\\x1b\\xe0\\xe7\\xc7=\\x17\\xc4:SM\\xa7I\\xe6\\xc6+\\x1aU\\xa0\\xe7\\xf0\\xe8m\\x8e\\x86.\\x96\\x1b\\xf7\\x0b[\\xf7\\xb9\\xe0\\x1f\\xb4\\'\\xec\\x9ds\\xe2\\x7f\\x12Iy\\x1d\\xc4\\xb1\\xe5\\xfeeW\"\\xb9\\xef\\x86\\x9f\\xb2\\xbd\\xcf\\x84\\xbcK\\x0e\\xabm\\xe6\\xabD\\xff\\x0034\\x95\\xf4o\\xc7/\\x8a:?\\x87l\\xdbX\\xbc\\x8fh\\x1fz\\xbc6\\xf3\\xf6\\xc9\\xf0]\\x9c\\xdedw\\t\\xb4V\\xd5+\\xd4W\\x8cc\\xb9\\xae\\x1e*\\xa5\\x18\\xd6\\xaa\\xad/S\\xea\\x0f\\x07xHj\\xbe\\x1fX\\xee\\x1f\\xa4[k\\xca\\xbe!\\xfe\\xcf\\x1e\\x19\\xd5u\\xe9//\\xec\\x91\\x9b\\x7f\\xf7+\\xa1\\xf8\\x1d\\xf1\\xda\\xc3\\xc6ZJ\\xde\\xe9W\\x1b\\x95\\x97\\x85\\xac\\xef\\x8f^<\\xd74\\x1b\\x06\\xd54\\xfbv\\x90\\xaf\\xf7hU\\x1b\\xa7\\xa6\\x8c\\xe6\\xc3\\xc3\\x17\\x1c|\\x94\\x9a\\xe4z\\x94|\\x07\\xf0c\\xc2>\\x0c\\xd5V\\xf3O\\xb6X\\xd9\\xfe\\xf5{\\r\\xe7\\x824mc\\xc3\\xbe^\\x14\\xef\\x8b\\xbd|K\\x7f\\xfb[x\\xe6\\x1b\\x95\\x8e=\\x0ev\\xc3\\xedf\\xf2\\xeb\\xe9O\\x83\\x9f\\x13u\\xaf\\x14\\xf8Z\\xdfR\\xb8\\x8d\\xe32*\\xee\\x8d\\xeb\\x1au1\\nW\\x92\\xd0\\xacu\\n\\x95\\xa2\\xa5Fvq\\xe8r\\x9e\\'\\xf8\\'\\xe0\\xfd7V\\x92K\\x9bx\\x95\\x8b\\xfd\\xe7\\xado\\x02\\xd8xS\\xc3w\\xcb\\xf6\\'\\x88\\x16\\x7fj\\xe0\\xbfk_\\x12x\\xdbJO\\xb5\\xe8v\\xf2\\xb37\\xf7+\\xe7\\xad7\\xc7?\\x1b/5(\\xee#\\xf3c\\x02_\\x99[5u#\\x88\\xab\\xb3:\\xa5V\\x8d*qU\\x16\\xadt?H\\xae.\\xbc?\\xaa\\xe8F9\\x02\\xb7\\xc9\\xde\\xbc\\x87\\xc5~!\\xf0\\xb7\\x86\\xf5&\\xfb\\\\\\xb1G\\x96\\xfe*>\\x05\\xea\\xfe!\\xf1\\'\\x86a:\\x9e\\xef;n\\xd6\\xaek\\xf6\\x8d\\xf89\\xad\\xf8\\x86\\x15\\xbc\\xd3\\xe4up\\xbf\\xc1S(\\xceQ\\xe4\\xb9\\xcf\\x80\\xa3O\\tVQR\\xbd\\xf5\\xb1\\xd4\\xf8?\\xe3_\\x83\\xed\\xb5u\\xb3\\x82\\xfe-\\xcf\\xf7V\\xbd\\x03Z\\xf1v\\x95\\xac\\xe8\\xec\\xe6\\x15?/\\xde\\xaf\\x8b\\xfc+\\xf0\\x1f\\xc6\\xdao\\x89-\\xf5[\\x8b\\xd9\\xd9\\x92Z\\xfa\\xbf\\xc0~\\x19\\xb9\\xb9\\xd1\\x96\\xda\\xe0\\xeem\\x9f5D)J\\x9e\\x97\\xbb\\xf5+\\x15G\\x0f7\\xed\\xa7\\x17\\x16\\xba\\x9e\\x1d\\xf1W\\xf6\\x8a\\xd3|\\x11\\xacIg\\xe6m+\\xf7V\\xb3>\\x18\\xfe\\xd8V\\xba\\x97\\x89\\xe3\\xd2\\xe4}\\xbec\\xfc\\xad]\\x17\\xc7\\x7f\\xd9kJ\\xf1F\\xbb\\xf6\\xc9-\\xfe\\xf7\\xdd\\xaek\\xc2\\xbf\\xb2\\xa6\\x8f\\xa3\\xdeGy\\x1ch\\xaf\\x13|\\xb2w\\xaa\\x95\\nKy#\\xa5\\xce\\xbdi/f\\x93\\x83>\\x89\\xba\\xf1-\\xe7\\x89\\xf4-\\xf1\\xbe\\xed\\xf1|\\xb5\\xf2_\\xc7]c\\xe3\\x07\\x87\\xbcO$z=\\x9b\\xc9\\x03?\\xde\\xe6\\xbe\\xc1\\xf8a\\xa3Y\\xc3\\xa7\\xc7\\xa7\\\\\\xba\\xfc\\x8b\\xb6\\xb3~)|8\\xd0nf\\xfbE\\xc5\\xba\\xb7\\xfbTC\\x93yj\\x8ezx\\x8aT\\xeb\\xbc4}\\xdb\\x9f\\x1b\\xfc\\x1c\\xf1\\x9f\\xc6\\x0f\\xf8L\\xe1\\xfe\\xd0\\xb7\\x95aw\\xf9\\xab\\xeb4\\xd1\\xf5\\x1f\\x10\\xf8e\\xa0\\xb8\\x8f\\xe6x\\xab\\x0bO\\xf0\\xf7\\x82t\\xa9\\x96H\\xe2\\xb7WF\\xf9[\\x8a\\xf4O\\x04x\\x97A\\xf2\\xfe\\xcb\\xf6\\x88\\xd8\\xfa\\x07\\xa9\\x8d\\\\;\\xf7R\\xb1\\xbde_\\rC\\x99^L\\xf8\\x8f\\xe3g\\xec\\xb5\\xe2}K\\xc4\\xf2\\\\[\\xde\\\\*;\\xee\\xad\\xcf\\x80\\xff\\x00\\xb3\\xf6\\xbd\\xe0mn\\xde\\xf2\\xde\\xf6v\\x1b\\xff\\x00x\\xaf_Y|HM\\x11`mD\"\\xed_\\x99\\xab\\xc7\\xf5?\\x8d\\xfe\\x14\\xd0\\xae\\xda\\xdf\\xcf\\x89J\\x7f\\roW\\x12\\xf9m\\x14N\\x1e\\x95\\x1a\\xd6\\xae\\xd3O\\xb1\\xed\\xde\\x1d\\xf0\\xd2\\xebZ/\\x91q&\\xe6U\\xf9\\xab\\xca>$~\\xcf\\x1e\\x1e\\xbc\\xd6$\\xbc\\xbc\\xb3E,\\xfb\\xab\\xa5\\xf8M\\xf1\\xe3E\\xd7\\x9f\\xec\\xfam\\xea\\x9f\\xef.\\xfa\\xd6\\xf8\\xb3\\xacO6\\x93&\\xa1k\\x1e\\xe6U\\xdd\\\\\\xf0\\xa8\\xe3\\xe4\\xc9\\xa6\\xb1\\x11\\xc68\\xca\\xce\\x12<\\xef\\xc3\\x1f\\n\\xfc+\\xe1[\\xf8\\xef-\\xb6+/\\xe1^\\xc3\\xe1y4MF\\xcc[\\xc9\\xb4\\xfc\\xb5\\xf17\\xc4\\xef\\xdagX\\xf0\\xc6\\xab6\\x9f\\x1cR\\xfc\\x8f\\xb7\\xbdt\\x9f\\xb3\\xd7\\xedC\\xab\\xf8\\x9bU].\\xf8J\\xbf\\xef\\xd1\\xcb\\x89\\xbd\\xd9\\xb6#\\xea\\xd5\\x17\\xb2\\x8b\\xe5h\\xfa/\\xc7\\x9e\\x0f\\xf0\\xdd\\x9d\\xcc\\x97\\x92[\\xc5\\xb7v\\xed\\xd5\\xc9\\x7f\\xc2\\x7f\\xe0\\xfd\\x06_/\\xcd\\x89XV\\xf7\\x8dE\\xff\\x00\\x88\\xfc%$\\x96{\\xb7\\xb4_-|S\\xf1w\\xc3\\x7f\\x16\\xad\\xbcI$z}\\xc4\\xbe[?\\xfbU\\xac(N\\xbc[z4_\\xb5x|2o\\xdeg\\xde\\xff\\x00\\x0f~.\\xe8\\xba\\xa2-\\xbc\\x17*\\xe3\\xfd\\xfa\\xa5\\xf1kRhl&\\xd5,\\xe3\\xdd\\xf2\\xff\\x00\\r|\\x8d\\xfb6?\\xc5\\x1f\\x0fk\\x11\\xc7\\xae\\\\K\";\\xff\\x00\\x16k\\xec}?G\\x7f\\x12hK\\x1d\\xc4[\\x99\\xa3\\xf9\\x96\\xa1\\xd3\\x9d\\x19Y\\xa3\\x9e\\x8b\\xc3\\xc6\\xaf\\xd6\\x12\\xe5\\xee|\\x8d\\xe3\\xcf\\xda~o\\x0cjRY\\xc9#\\xab+\\xd7\\xa0~\\xcf\\x9f\\xb4\\xd3x\\xd5\\xd6\\xcd\\xae\\xf7|\\xfbsI\\xf1\\x83\\xf6K\\xd1\\xf5\\xcdZK\\xc94\\xf4\\xdcZ\\xa6\\xf8G\\xfb8Xx;X\\x8e\\xe6\\xce?,/\\xde\\xaa\\xf6t!i6t\\xcf\\xeb5*^.\\xf0g\\xbe\\xcbn\\xfa\\x9e\\x97\\xf6\\xb8\\xfef+\\xc3W\\x99x\\xf2\\xff\\x00U\\xb0v\\x8e\\xdf}{\\xb7\\x854+v\\xd2E\\xbc\\x8f\\xfc\\x15\\xc7\\xfcC\\xf0M\\xa2\\\\\\xb4\\x92G\\xf2\\x9a\\xcd\\xc65,\\xd6\\xc8\\xe7\\xcb\\xf3*Q\\xc5\\xca\\x8b\\xf9\\x1f\\xff\\xd9'],\n",
              " 'image/filename': [b'Orangeball180739.jpg'],\n",
              " 'image/format': [b'jpg'],\n",
              " 'image/height': array([480]),\n",
              " 'image/object/bbox/xmax': array([0.340625 , 0.490625 , 0.7046875], dtype=float32),\n",
              " 'image/object/bbox/xmin': array([0.2796875, 0.4015625, 0.6484375], dtype=float32),\n",
              " 'image/object/bbox/ymax': array([0.22916667, 0.30416667, 0.15      ], dtype=float32),\n",
              " 'image/object/bbox/ymin': array([0.14791666, 0.21666667, 0.075     ], dtype=float32),\n",
              " 'image/object/class/label': array([1, 1, 1]),\n",
              " 'image/object/class/text': [b'Ball', b'Ball', b'Ball'],\n",
              " 'image/source_id': [b'Orangeball180739.jpg'],\n",
              " 'image/width': array([640])}"
            ]
          },
          "metadata": {
            "tags": []
          },
          "execution_count": 27
        }
      ]
    },
    {
      "cell_type": "code",
      "metadata": {
        "colab": {
          "base_uri": "https://localhost:8080/"
        },
        "id": "RkyBEW0DvRqh",
        "outputId": "d59a4c45-c7d4-412d-87c4-8910e17e3f42"
      },
      "source": [
        "%cd /content/workspace/training_demo"
      ],
      "execution_count": null,
      "outputs": [
        {
          "output_type": "stream",
          "text": [
            "/content/workspace/training_demo\n"
          ],
          "name": "stdout"
        }
      ]
    },
    {
      "cell_type": "code",
      "metadata": {
        "id": "09l5zQywvp4_"
      },
      "source": [
        "mkdir pre_trained_models"
      ],
      "execution_count": null,
      "outputs": []
    },
    {
      "cell_type": "code",
      "metadata": {
        "colab": {
          "base_uri": "https://localhost:8080/"
        },
        "id": "tkASmqDIw9e6",
        "outputId": "9e3539a8-1301-401a-e0f3-ce3dd987c589"
      },
      "source": [
        "cd pre_trained_models/"
      ],
      "execution_count": null,
      "outputs": [
        {
          "output_type": "stream",
          "text": [
            "/content/workspace/training_demo/pre_trained_models\n"
          ],
          "name": "stdout"
        }
      ]
    },
    {
      "cell_type": "code",
      "metadata": {
        "id": "1gau4nDKIu-o"
      },
      "source": [
        "# Name of the object detection model to use.\n",
        "MODEL = MODELS_CONFIG[selected_model]['model_name']\n",
        "\n",
        "# Name of the pipline file in tensorflow object detection API.\n",
        "pipeline_file = MODELS_CONFIG[selected_model]['pipeline_file']\n",
        "\n",
        "#selecting the model\n",
        "MODEL_FILE = MODEL + '.tar.gz'\n",
        "\n",
        "#creating the download link for the model selected\n",
        "DOWNLOAD_BASE = 'http://download.tensorflow.org/models/object_detection/tf2/20200711/'\n",
        "\n",
        "#the destination folder where the model will be saved\n",
        "fine_tune_dir = '/content/workspace/training_demo/pre_trained_models'"
      ],
      "execution_count": null,
      "outputs": []
    },
    {
      "cell_type": "code",
      "metadata": {
        "id": "oAvINvCzBmv7"
      },
      "source": [
        "#checks if the model has already been downloaded, otherwise downloads to pre-trainined models folder\n",
        "if not (os.path.exists(MODEL_FILE)):\n",
        "    urllib.request.urlretrieve(DOWNLOAD_BASE + MODEL_FILE, MODEL_FILE)\n"
      ],
      "execution_count": null,
      "outputs": []
    },
    {
      "cell_type": "code",
      "metadata": {
        "id": "oX-Tsu2NJg8L"
      },
      "source": [
        "#unzipping the file and extracting its content\n",
        "tar = tarfile.open(MODEL_FILE)\n",
        "tar.extractall()\n",
        "tar.close()"
      ],
      "execution_count": null,
      "outputs": []
    },
    {
      "cell_type": "code",
      "metadata": {
        "id": "r3rDyzstJir8",
        "colab": {
          "base_uri": "https://localhost:8080/",
          "height": 181
        },
        "outputId": "f5f9fa4a-2b6d-4fd3-bd70-cd252c25900f"
      },
      "source": [
        "# remove the zip file\n",
        "os.remove(MODEL_FILE)"
      ],
      "execution_count": null,
      "outputs": [
        {
          "output_type": "error",
          "ename": "FileNotFoundError",
          "evalue": "ignored",
          "traceback": [
            "\u001b[0;31m---------------------------------------------------------------------------\u001b[0m",
            "\u001b[0;31mFileNotFoundError\u001b[0m                         Traceback (most recent call last)",
            "\u001b[0;32m<ipython-input-39-aa77a1f01c03>\u001b[0m in \u001b[0;36m<module>\u001b[0;34m()\u001b[0m\n\u001b[1;32m      1\u001b[0m \u001b[0;31m# remove the zip file\u001b[0m\u001b[0;34m\u001b[0m\u001b[0;34m\u001b[0m\u001b[0;34m\u001b[0m\u001b[0m\n\u001b[0;32m----> 2\u001b[0;31m \u001b[0mos\u001b[0m\u001b[0;34m.\u001b[0m\u001b[0mremove\u001b[0m\u001b[0;34m(\u001b[0m\u001b[0mMODEL_FILE\u001b[0m\u001b[0;34m)\u001b[0m\u001b[0;34m\u001b[0m\u001b[0;34m\u001b[0m\u001b[0m\n\u001b[0m",
            "\u001b[0;31mFileNotFoundError\u001b[0m: [Errno 2] No such file or directory: 'efficientdet_d0_coco17_tpu-32.tar.gz'"
          ]
        }
      ]
    },
    {
      "cell_type": "markdown",
      "metadata": {
        "id": "qifTqwEaXUPZ"
      },
      "source": [
        "Edit CONFIG_BASE for the model you are training"
      ]
    },
    {
      "cell_type": "code",
      "metadata": {
        "id": "GPWRQHWaB7Ms",
        "colab": {
          "base_uri": "https://localhost:8080/",
          "height": 35
        },
        "outputId": "0128f038-e5d5-478f-e53c-367d676d103b"
      },
      "source": [
        "#the path to the folder containing all the sample config files\n",
        "CONFIG_BASE = \"/content/workspace/training_demo/pre_trained_models/efficientdet_d0_coco17_tpu-32/pipeline.config\"\n",
        "\n",
        "#path to the specified model's config file\n",
        "model_pipline = os.path.join(CONFIG_BASE)\n",
        "model_pipline"
      ],
      "execution_count": null,
      "outputs": [
        {
          "output_type": "execute_result",
          "data": {
            "application/vnd.google.colaboratory.intrinsic+json": {
              "type": "string"
            },
            "text/plain": [
              "'/content/workspace/training_demo/pre_trained_models/efficientdet_d0_coco17_tpu-32/pipeline.config'"
            ]
          },
          "metadata": {
            "tags": []
          },
          "execution_count": 43
        }
      ]
    },
    {
      "cell_type": "markdown",
      "metadata": {
        "id": "3SOXPoNPTxsZ"
      },
      "source": [
        "View the standard config file for this model - edit for the model you are training"
      ]
    },
    {
      "cell_type": "code",
      "metadata": {
        "colab": {
          "base_uri": "https://localhost:8080/"
        },
        "id": "-tKttkHOimUm",
        "outputId": "5fef77ab-1084-4036-e817-bfd94aad7c70"
      },
      "source": [
        "cat efficientdet_d0_coco17_tpu-32/pipeline.config"
      ],
      "execution_count": null,
      "outputs": [
        {
          "output_type": "stream",
          "text": [
            "model {\n",
            "  ssd {\n",
            "    num_classes: 90\n",
            "    image_resizer {\n",
            "      keep_aspect_ratio_resizer {\n",
            "        min_dimension: 512\n",
            "        max_dimension: 512\n",
            "        pad_to_max_dimension: true\n",
            "      }\n",
            "    }\n",
            "    feature_extractor {\n",
            "      type: \"ssd_efficientnet-b0_bifpn_keras\"\n",
            "      conv_hyperparams {\n",
            "        regularizer {\n",
            "          l2_regularizer {\n",
            "            weight: 3.9999998989515007e-05\n",
            "          }\n",
            "        }\n",
            "        initializer {\n",
            "          truncated_normal_initializer {\n",
            "            mean: 0.0\n",
            "            stddev: 0.029999999329447746\n",
            "          }\n",
            "        }\n",
            "        activation: SWISH\n",
            "        batch_norm {\n",
            "          decay: 0.9900000095367432\n",
            "          scale: true\n",
            "          epsilon: 0.0010000000474974513\n",
            "        }\n",
            "        force_use_bias: true\n",
            "      }\n",
            "      bifpn {\n",
            "        min_level: 3\n",
            "        max_level: 7\n",
            "        num_iterations: 3\n",
            "        num_filters: 64\n",
            "      }\n",
            "    }\n",
            "    box_coder {\n",
            "      faster_rcnn_box_coder {\n",
            "        y_scale: 1.0\n",
            "        x_scale: 1.0\n",
            "        height_scale: 1.0\n",
            "        width_scale: 1.0\n",
            "      }\n",
            "    }\n",
            "    matcher {\n",
            "      argmax_matcher {\n",
            "        matched_threshold: 0.5\n",
            "        unmatched_threshold: 0.5\n",
            "        ignore_thresholds: false\n",
            "        negatives_lower_than_unmatched: true\n",
            "        force_match_for_each_row: true\n",
            "        use_matmul_gather: true\n",
            "      }\n",
            "    }\n",
            "    similarity_calculator {\n",
            "      iou_similarity {\n",
            "      }\n",
            "    }\n",
            "    box_predictor {\n",
            "      weight_shared_convolutional_box_predictor {\n",
            "        conv_hyperparams {\n",
            "          regularizer {\n",
            "            l2_regularizer {\n",
            "              weight: 3.9999998989515007e-05\n",
            "            }\n",
            "          }\n",
            "          initializer {\n",
            "            random_normal_initializer {\n",
            "              mean: 0.0\n",
            "              stddev: 0.009999999776482582\n",
            "            }\n",
            "          }\n",
            "          activation: SWISH\n",
            "          batch_norm {\n",
            "            decay: 0.9900000095367432\n",
            "            scale: true\n",
            "            epsilon: 0.0010000000474974513\n",
            "          }\n",
            "          force_use_bias: true\n",
            "        }\n",
            "        depth: 64\n",
            "        num_layers_before_predictor: 3\n",
            "        kernel_size: 3\n",
            "        class_prediction_bias_init: -4.599999904632568\n",
            "        use_depthwise: true\n",
            "      }\n",
            "    }\n",
            "    anchor_generator {\n",
            "      multiscale_anchor_generator {\n",
            "        min_level: 3\n",
            "        max_level: 7\n",
            "        anchor_scale: 4.0\n",
            "        aspect_ratios: 1.0\n",
            "        aspect_ratios: 2.0\n",
            "        aspect_ratios: 0.5\n",
            "        scales_per_octave: 3\n",
            "      }\n",
            "    }\n",
            "    post_processing {\n",
            "      batch_non_max_suppression {\n",
            "        score_threshold: 9.99999993922529e-09\n",
            "        iou_threshold: 0.5\n",
            "        max_detections_per_class: 100\n",
            "        max_total_detections: 100\n",
            "      }\n",
            "      score_converter: SIGMOID\n",
            "    }\n",
            "    normalize_loss_by_num_matches: true\n",
            "    loss {\n",
            "      localization_loss {\n",
            "        weighted_smooth_l1 {\n",
            "        }\n",
            "      }\n",
            "      classification_loss {\n",
            "        weighted_sigmoid_focal {\n",
            "          gamma: 1.5\n",
            "          alpha: 0.25\n",
            "        }\n",
            "      }\n",
            "      classification_weight: 1.0\n",
            "      localization_weight: 1.0\n",
            "    }\n",
            "    encode_background_as_zeros: true\n",
            "    normalize_loc_loss_by_codesize: true\n",
            "    inplace_batchnorm_update: true\n",
            "    freeze_batchnorm: false\n",
            "    add_background_class: false\n",
            "  }\n",
            "}\n",
            "train_config {\n",
            "  batch_size: 128\n",
            "  data_augmentation_options {\n",
            "    random_horizontal_flip {\n",
            "    }\n",
            "  }\n",
            "  data_augmentation_options {\n",
            "    random_scale_crop_and_pad_to_square {\n",
            "      output_size: 512\n",
            "      scale_min: 0.10000000149011612\n",
            "      scale_max: 2.0\n",
            "    }\n",
            "  }\n",
            "  sync_replicas: true\n",
            "  optimizer {\n",
            "    momentum_optimizer {\n",
            "      learning_rate {\n",
            "        cosine_decay_learning_rate {\n",
            "          learning_rate_base: 0.07999999821186066\n",
            "          total_steps: 300000\n",
            "          warmup_learning_rate: 0.0010000000474974513\n",
            "          warmup_steps: 2500\n",
            "        }\n",
            "      }\n",
            "      momentum_optimizer_value: 0.8999999761581421\n",
            "    }\n",
            "    use_moving_average: false\n",
            "  }\n",
            "  fine_tune_checkpoint: \"PATH_TO_BE_CONFIGURED\"\n",
            "  num_steps: 300000\n",
            "  startup_delay_steps: 0.0\n",
            "  replicas_to_aggregate: 8\n",
            "  max_number_of_boxes: 100\n",
            "  unpad_groundtruth_tensors: false\n",
            "  fine_tune_checkpoint_type: \"classification\"\n",
            "  use_bfloat16: true\n",
            "  fine_tune_checkpoint_version: V2\n",
            "}\n",
            "train_input_reader: {\n",
            "  label_map_path: \"PATH_TO_BE_CONFIGURED/label_map.txt\"\n",
            "  tf_record_input_reader {\n",
            "    input_path: \"PATH_TO_BE_CONFIGURED/train2017-?????-of-00256.tfrecord\"\n",
            "  }\n",
            "}\n",
            "\n",
            "eval_config: {\n",
            "  metrics_set: \"coco_detection_metrics\"\n",
            "  use_moving_averages: false\n",
            "  batch_size: 1;\n",
            "}\n",
            "\n",
            "eval_input_reader: {\n",
            "  label_map_path: \"PATH_TO_BE_CONFIGURED/label_map.txt\"\n",
            "  shuffle: false\n",
            "  num_epochs: 1\n",
            "  tf_record_input_reader {\n",
            "    input_path: \"PATH_TO_BE_CONFIGURED/val2017-?????-of-00032.tfrecord\"\n",
            "  }\n",
            "}\n"
          ],
          "name": "stdout"
        }
      ]
    },
    {
      "cell_type": "markdown",
      "metadata": {
        "id": "oT8_ncqyT5F0"
      },
      "source": [
        "Overwrite with your number of classes, the correct file locations and any changes to augmentation and hyperparameters - ensure height, width and config path match the model you are training - be aware you may need to cd first to the same directory as the existing pipeline config file"
      ]
    },
    {
      "cell_type": "code",
      "metadata": {
        "colab": {
          "base_uri": "https://localhost:8080/"
        },
        "id": "7zwzTsMSncp0",
        "outputId": "f004519d-3e62-4a32-a7c3-4452ee006749"
      },
      "source": [
        "%%writefile {model_pipline}\n",
        "model {\n",
        "  ssd {\n",
        "    num_classes: 2\n",
        "    image_resizer {\n",
        "      keep_aspect_ratio_resizer {\n",
        "        min_dimension: 512\n",
        "        max_dimension: 512\n",
        "        pad_to_max_dimension: true\n",
        "      }\n",
        "    }\n",
        "    feature_extractor {\n",
        "      type: \"ssd_efficientnet-b0_bifpn_keras\"\n",
        "      conv_hyperparams {\n",
        "        regularizer {\n",
        "          l2_regularizer {\n",
        "            weight: 3.9999998989515007e-05\n",
        "          }\n",
        "        }\n",
        "        initializer {\n",
        "          truncated_normal_initializer {\n",
        "            mean: 0.0\n",
        "            stddev: 0.029999999329447746\n",
        "          }\n",
        "        }\n",
        "        activation: SWISH\n",
        "        batch_norm {\n",
        "          decay: 0.9900000095367432\n",
        "          scale: true\n",
        "          epsilon: 0.0010000000474974513\n",
        "        }\n",
        "        force_use_bias: true\n",
        "      }\n",
        "      bifpn {\n",
        "        min_level: 3\n",
        "        max_level: 7\n",
        "        num_iterations: 3\n",
        "        num_filters: 64\n",
        "      }\n",
        "    }\n",
        "    box_coder {\n",
        "      faster_rcnn_box_coder {\n",
        "        y_scale: 1.0\n",
        "        x_scale: 1.0\n",
        "        height_scale: 1.0\n",
        "        width_scale: 1.0\n",
        "      }\n",
        "    }\n",
        "    matcher {\n",
        "      argmax_matcher {\n",
        "        matched_threshold: 0.5\n",
        "        unmatched_threshold: 0.5\n",
        "        ignore_thresholds: false\n",
        "        negatives_lower_than_unmatched: true\n",
        "        force_match_for_each_row: true\n",
        "        use_matmul_gather: true\n",
        "      }\n",
        "    }\n",
        "    similarity_calculator {\n",
        "      iou_similarity {\n",
        "      }\n",
        "    }\n",
        "    box_predictor {\n",
        "      weight_shared_convolutional_box_predictor {\n",
        "        conv_hyperparams {\n",
        "          regularizer {\n",
        "            l2_regularizer {\n",
        "              weight: 3.9999998989515007e-05\n",
        "            }\n",
        "          }\n",
        "          initializer {\n",
        "            random_normal_initializer {\n",
        "              mean: 0.0\n",
        "              stddev: 0.009999999776482582\n",
        "            }\n",
        "          }\n",
        "          activation: SWISH\n",
        "          batch_norm {\n",
        "            decay: 0.9900000095367432\n",
        "            scale: true\n",
        "            epsilon: 0.0010000000474974513\n",
        "          }\n",
        "          force_use_bias: true\n",
        "        }\n",
        "        depth: 64\n",
        "        num_layers_before_predictor: 3\n",
        "        kernel_size: 3\n",
        "        class_prediction_bias_init: -4.599999904632568\n",
        "        use_depthwise: true\n",
        "      }\n",
        "    }\n",
        "    anchor_generator {\n",
        "      multiscale_anchor_generator {\n",
        "        min_level: 3\n",
        "        max_level: 7\n",
        "        anchor_scale: 4.0\n",
        "        aspect_ratios: 1.0\n",
        "        aspect_ratios: 2.0\n",
        "        aspect_ratios: 0.5\n",
        "        scales_per_octave: 3\n",
        "      }\n",
        "    }\n",
        "    post_processing {\n",
        "      batch_non_max_suppression {\n",
        "        score_threshold: 9.99999993922529e-09\n",
        "        iou_threshold: 0.5\n",
        "        max_detections_per_class: 100\n",
        "        max_total_detections: 100\n",
        "      }\n",
        "      score_converter: SIGMOID\n",
        "    }\n",
        "    normalize_loss_by_num_matches: true\n",
        "    loss {\n",
        "      localization_loss {\n",
        "        weighted_smooth_l1 {\n",
        "        }\n",
        "      }\n",
        "      classification_loss {\n",
        "        weighted_sigmoid_focal {\n",
        "          gamma: 1.5\n",
        "          alpha: 0.25\n",
        "        }\n",
        "      }\n",
        "      classification_weight: 1.0\n",
        "      localization_weight: 1.0\n",
        "    }\n",
        "    encode_background_as_zeros: true\n",
        "    normalize_loc_loss_by_codesize: true\n",
        "    inplace_batchnorm_update: true\n",
        "    freeze_batchnorm: false\n",
        "    add_background_class: false\n",
        "  }\n",
        "}\n",
        "train_config {\n",
        "  batch_size: 8\n",
        "  data_augmentation_options {\n",
        "    random_horizontal_flip {\n",
        "    }\n",
        "  }\n",
        "  data_augmentation_options {\n",
        "    random_scale_crop_and_pad_to_square {\n",
        "      output_size: 512\n",
        "      scale_min: 0.10000000149011612\n",
        "      scale_max: 2.0\n",
        "    }\n",
        "  }\n",
        "  sync_replicas: true\n",
        "  optimizer {\n",
        "    momentum_optimizer {\n",
        "      learning_rate {\n",
        "        cosine_decay_learning_rate {\n",
        "          learning_rate_base: 0.07999999821186066\n",
        "          total_steps: 300000\n",
        "          warmup_learning_rate: 0.0010000000474974513\n",
        "          warmup_steps: 2500\n",
        "        }\n",
        "      }\n",
        "      momentum_optimizer_value: 0.8999999761581421\n",
        "    }\n",
        "    use_moving_average: false\n",
        "  }\n",
        "  fine_tune_checkpoint: \"/content/workspace/training_demo/pre_trained_models/efficientdet_d0_coco17_tpu-32/checkpoint/ckpt-0\" # Path to checkpoint of pre-trained model\"\n",
        "  num_steps: 1000\n",
        "  startup_delay_steps: 0.0\n",
        "  replicas_to_aggregate: 8\n",
        "  max_number_of_boxes: 100\n",
        "  unpad_groundtruth_tensors: false\n",
        "  fine_tune_checkpoint_type: \"detection\" #set this to detection as we want to train the full detection model \n",
        "  use_bfloat16: true\n",
        "  fine_tune_checkpoint_version: V2\n",
        "}\n",
        "train_input_reader: {\n",
        "  label_map_path: \"/content/workspace/training_demo/images/label_map.pbtxt\"#path to the labels file\n",
        "  tf_record_input_reader {\n",
        "    input_path: \"/content/workspace/training_demo/images/train.record\" # Path the training tf records\n",
        "  }\n",
        "}\n",
        "\n",
        "eval_config: {\n",
        "  metrics_set: \"coco_detection_metrics\"\n",
        "  use_moving_averages: false\n",
        "  batch_size: 1;\n",
        "}\n",
        "\n",
        "eval_input_reader: {\n",
        "  label_map_path: \"/content/workspace/training_demo/images/label_map.pbtxt\"#path to labels file\n",
        "  shuffle: false\n",
        "  num_epochs: 1\n",
        "  tf_record_input_reader {\n",
        "    input_path: \"/content/workspace/training_demo/images/test.record\" # Path to test tf records\n",
        "  }\n",
        "}\n"
      ],
      "execution_count": null,
      "outputs": [
        {
          "output_type": "stream",
          "text": [
            "Overwriting /content/workspace/training_demo/pre_trained_models/efficientdet_d0_coco17_tpu-32/pipeline.config\n"
          ],
          "name": "stdout"
        }
      ]
    },
    {
      "cell_type": "markdown",
      "metadata": {
        "id": "GjwHQc0kdncR"
      },
      "source": [
        "copy the model_main_tf2 and exporter_main_tf2 scripts to your pre-trained_models directory.  This just makes it easier to see what scripts you are running later"
      ]
    },
    {
      "cell_type": "code",
      "metadata": {
        "id": "a6k3HJ5v30be"
      },
      "source": [
        "cp /content/models/research/object_detection/model_main_tf2.py /content/workspace/training_demo/pre_trained_models"
      ],
      "execution_count": null,
      "outputs": []
    },
    {
      "cell_type": "code",
      "metadata": {
        "id": "Lr3K7r-Jv0v4"
      },
      "source": [
        "cp /content/models/research/object_detection/exporter_main_v2.py /content/workspace/training_demo/pre_trained_models"
      ],
      "execution_count": null,
      "outputs": []
    },
    {
      "cell_type": "markdown",
      "metadata": {
        "id": "MGu5Zpbjy5MO"
      },
      "source": [
        "Run Training! - change config path depending on model"
      ]
    },
    {
      "cell_type": "code",
      "metadata": {
        "colab": {
          "base_uri": "https://localhost:8080/"
        },
        "id": "1soXVzELta4-",
        "outputId": "f046bd1a-5e1b-4fd7-f7c1-0861b21d72eb"
      },
      "source": [
        "cd ../"
      ],
      "execution_count": null,
      "outputs": [
        {
          "output_type": "stream",
          "text": [
            "/content/workspace/training_demo/pre_trained_models\n"
          ],
          "name": "stdout"
        }
      ]
    },
    {
      "cell_type": "code",
      "metadata": {
        "colab": {
          "base_uri": "https://localhost:8080/"
        },
        "id": "goljhk2R5fBL",
        "outputId": "e51c5df4-7b16-4826-8028-ff48972af011"
      },
      "source": [
        "!python3 model_main_tf2.py \\\n",
        "--model_dir=trained_model \\\n",
        "--pipeline_config_path=efficientdet_d0_coco17_tpu-32/pipeline.config \\\n",
        "--alsologtostderr \\"
      ],
      "execution_count": null,
      "outputs": [
        {
          "output_type": "stream",
          "text": [
            "2021-01-23 10:11:23.604304: W tensorflow/stream_executor/platform/default/dso_loader.cc:60] Could not load dynamic library 'libcudart.so.11.0'; dlerror: libcudart.so.11.0: cannot open shared object file: No such file or directory; LD_LIBRARY_PATH: /usr/lib64-nvidia\n",
            "2021-01-23 10:11:23.604351: I tensorflow/stream_executor/cuda/cudart_stub.cc:29] Ignore above cudart dlerror if you do not have a GPU set up on your machine.\n",
            "2021-01-23 10:11:30.092632: I tensorflow/stream_executor/platform/default/dso_loader.cc:49] Successfully opened dynamic library libcuda.so.1\n",
            "2021-01-23 10:11:30.165831: I tensorflow/stream_executor/cuda/cuda_gpu_executor.cc:941] successful NUMA node read from SysFS had negative value (-1), but there must be at least one NUMA node, so returning NUMA node zero\n",
            "2021-01-23 10:11:30.166435: I tensorflow/core/common_runtime/gpu/gpu_device.cc:1760] Found device 0 with properties: \n",
            "pciBusID: 0000:00:04.0 name: Tesla T4 computeCapability: 7.5\n",
            "coreClock: 1.59GHz coreCount: 40 deviceMemorySize: 14.73GiB deviceMemoryBandwidth: 298.08GiB/s\n",
            "2021-01-23 10:11:30.166604: W tensorflow/stream_executor/platform/default/dso_loader.cc:60] Could not load dynamic library 'libcudart.so.11.0'; dlerror: libcudart.so.11.0: cannot open shared object file: No such file or directory; LD_LIBRARY_PATH: /usr/lib64-nvidia\n",
            "2021-01-23 10:11:30.166875: W tensorflow/stream_executor/platform/default/dso_loader.cc:60] Could not load dynamic library 'libcublas.so.11'; dlerror: libcublas.so.11: cannot open shared object file: No such file or directory; LD_LIBRARY_PATH: /usr/lib64-nvidia\n",
            "2021-01-23 10:11:30.167128: W tensorflow/stream_executor/platform/default/dso_loader.cc:60] Could not load dynamic library 'libcublasLt.so.11'; dlerror: libcublasLt.so.11: cannot open shared object file: No such file or directory; LD_LIBRARY_PATH: /usr/lib64-nvidia\n",
            "2021-01-23 10:11:30.196434: I tensorflow/stream_executor/platform/default/dso_loader.cc:49] Successfully opened dynamic library libcufft.so.10\n",
            "2021-01-23 10:11:30.197905: I tensorflow/stream_executor/platform/default/dso_loader.cc:49] Successfully opened dynamic library libcurand.so.10\n",
            "2021-01-23 10:11:30.500350: I tensorflow/stream_executor/platform/default/dso_loader.cc:49] Successfully opened dynamic library libcusolver.so.10\n",
            "2021-01-23 10:11:30.500731: W tensorflow/stream_executor/platform/default/dso_loader.cc:60] Could not load dynamic library 'libcusparse.so.11'; dlerror: libcusparse.so.11: cannot open shared object file: No such file or directory; LD_LIBRARY_PATH: /usr/lib64-nvidia\n",
            "2021-01-23 10:11:30.500942: W tensorflow/stream_executor/platform/default/dso_loader.cc:60] Could not load dynamic library 'libcudnn.so.8'; dlerror: libcudnn.so.8: cannot open shared object file: No such file or directory; LD_LIBRARY_PATH: /usr/lib64-nvidia\n",
            "2021-01-23 10:11:30.500980: W tensorflow/core/common_runtime/gpu/gpu_device.cc:1793] Cannot dlopen some GPU libraries. Please make sure the missing libraries mentioned above are installed properly if you would like to use GPU. Follow the guide at https://www.tensorflow.org/install/gpu for how to download and setup the required libraries for your platform.\n",
            "Skipping registering GPU devices...\n",
            "2021-01-23 10:11:30.504696: I tensorflow/core/platform/cpu_feature_guard.cc:142] This TensorFlow binary is optimized with oneAPI Deep Neural Network Library (oneDNN) to use the following CPU instructions in performance-critical operations:  AVX2 FMA\n",
            "To enable them in other operations, rebuild TensorFlow with the appropriate compiler flags.\n",
            "2021-01-23 10:11:30.505027: I tensorflow/core/common_runtime/gpu/gpu_device.cc:1300] Device interconnect StreamExecutor with strength 1 edge matrix:\n",
            "2021-01-23 10:11:30.505073: I tensorflow/core/common_runtime/gpu/gpu_device.cc:1306]      \n",
            "WARNING:tensorflow:There are non-GPU devices in `tf.distribute.Strategy`, not using nccl allreduce.\n",
            "W0123 10:11:30.509650 140147278681984 cross_device_ops.py:1328] There are non-GPU devices in `tf.distribute.Strategy`, not using nccl allreduce.\n",
            "INFO:tensorflow:Using MirroredStrategy with devices ('/job:localhost/replica:0/task:0/device:CPU:0',)\n",
            "I0123 10:11:30.509981 140147278681984 mirrored_strategy.py:350] Using MirroredStrategy with devices ('/job:localhost/replica:0/task:0/device:CPU:0',)\n",
            "INFO:tensorflow:Maybe overwriting train_steps: None\n",
            "I0123 10:11:30.517846 140147278681984 config_util.py:552] Maybe overwriting train_steps: None\n",
            "INFO:tensorflow:Maybe overwriting use_bfloat16: False\n",
            "I0123 10:11:30.517986 140147278681984 config_util.py:552] Maybe overwriting use_bfloat16: False\n",
            "I0123 10:11:30.612356 140147278681984 ssd_efficientnet_bifpn_feature_extractor.py:144] EfficientDet EfficientNet backbone version: efficientnet-b0\n",
            "I0123 10:11:30.612487 140147278681984 ssd_efficientnet_bifpn_feature_extractor.py:145] EfficientDet BiFPN num filters: 64\n",
            "I0123 10:11:30.612560 140147278681984 ssd_efficientnet_bifpn_feature_extractor.py:147] EfficientDet BiFPN num iterations: 3\n",
            "I0123 10:11:30.619364 140147278681984 efficientnet_model.py:147] round_filter input=32 output=32\n",
            "I0123 10:11:30.724957 140147278681984 efficientnet_model.py:147] round_filter input=32 output=32\n",
            "I0123 10:11:30.725117 140147278681984 efficientnet_model.py:147] round_filter input=16 output=16\n",
            "I0123 10:11:30.806741 140147278681984 efficientnet_model.py:147] round_filter input=16 output=16\n",
            "I0123 10:11:30.806913 140147278681984 efficientnet_model.py:147] round_filter input=24 output=24\n",
            "I0123 10:11:30.999243 140147278681984 efficientnet_model.py:147] round_filter input=24 output=24\n",
            "I0123 10:11:30.999424 140147278681984 efficientnet_model.py:147] round_filter input=40 output=40\n",
            "I0123 10:11:31.191396 140147278681984 efficientnet_model.py:147] round_filter input=40 output=40\n",
            "I0123 10:11:31.191576 140147278681984 efficientnet_model.py:147] round_filter input=80 output=80\n",
            "I0123 10:11:31.503664 140147278681984 efficientnet_model.py:147] round_filter input=80 output=80\n",
            "I0123 10:11:31.503844 140147278681984 efficientnet_model.py:147] round_filter input=112 output=112\n",
            "I0123 10:11:31.801491 140147278681984 efficientnet_model.py:147] round_filter input=112 output=112\n",
            "I0123 10:11:31.801659 140147278681984 efficientnet_model.py:147] round_filter input=192 output=192\n",
            "I0123 10:11:32.210956 140147278681984 efficientnet_model.py:147] round_filter input=192 output=192\n",
            "I0123 10:11:32.211149 140147278681984 efficientnet_model.py:147] round_filter input=320 output=320\n",
            "I0123 10:11:32.319496 140147278681984 efficientnet_model.py:147] round_filter input=1280 output=1280\n",
            "I0123 10:11:32.380674 140147278681984 efficientnet_model.py:458] Building model efficientnet with params ModelConfig(width_coefficient=1.0, depth_coefficient=1.0, resolution=224, dropout_rate=0.2, blocks=(BlockConfig(input_filters=32, output_filters=16, kernel_size=3, num_repeat=1, expand_ratio=1, strides=(1, 1), se_ratio=0.25, id_skip=True, fused_conv=False, conv_type='depthwise'), BlockConfig(input_filters=16, output_filters=24, kernel_size=3, num_repeat=2, expand_ratio=6, strides=(2, 2), se_ratio=0.25, id_skip=True, fused_conv=False, conv_type='depthwise'), BlockConfig(input_filters=24, output_filters=40, kernel_size=5, num_repeat=2, expand_ratio=6, strides=(2, 2), se_ratio=0.25, id_skip=True, fused_conv=False, conv_type='depthwise'), BlockConfig(input_filters=40, output_filters=80, kernel_size=3, num_repeat=3, expand_ratio=6, strides=(2, 2), se_ratio=0.25, id_skip=True, fused_conv=False, conv_type='depthwise'), BlockConfig(input_filters=80, output_filters=112, kernel_size=5, num_repeat=3, expand_ratio=6, strides=(1, 1), se_ratio=0.25, id_skip=True, fused_conv=False, conv_type='depthwise'), BlockConfig(input_filters=112, output_filters=192, kernel_size=5, num_repeat=4, expand_ratio=6, strides=(2, 2), se_ratio=0.25, id_skip=True, fused_conv=False, conv_type='depthwise'), BlockConfig(input_filters=192, output_filters=320, kernel_size=3, num_repeat=1, expand_ratio=6, strides=(1, 1), se_ratio=0.25, id_skip=True, fused_conv=False, conv_type='depthwise')), stem_base_filters=32, top_base_filters=1280, activation='simple_swish', batch_norm='default', bn_momentum=0.99, bn_epsilon=0.001, weight_decay=5e-06, drop_connect_rate=0.2, depth_divisor=8, min_depth=None, use_se=True, input_channels=3, num_classes=1000, model_name='efficientnet', rescale_input=False, data_format='channels_last', dtype='float32')\n",
            "WARNING:tensorflow:From /usr/local/lib/python3.6/dist-packages/object_detection/model_lib_v2.py:523: StrategyBase.experimental_distribute_datasets_from_function (from tensorflow.python.distribute.distribute_lib) is deprecated and will be removed in a future version.\n",
            "Instructions for updating:\n",
            "rename to distribute_datasets_from_function\n",
            "W0123 10:11:32.434004 140147278681984 deprecation.py:336] From /usr/local/lib/python3.6/dist-packages/object_detection/model_lib_v2.py:523: StrategyBase.experimental_distribute_datasets_from_function (from tensorflow.python.distribute.distribute_lib) is deprecated and will be removed in a future version.\n",
            "Instructions for updating:\n",
            "rename to distribute_datasets_from_function\n",
            "INFO:tensorflow:Reading unweighted datasets: ['/content/workspace/training_demo/images/train.record']\n",
            "I0123 10:11:32.443957 140147278681984 dataset_builder.py:148] Reading unweighted datasets: ['/content/workspace/training_demo/images/train.record']\n",
            "INFO:tensorflow:Reading record datasets for input file: ['/content/workspace/training_demo/images/train.record']\n",
            "I0123 10:11:32.444190 140147278681984 dataset_builder.py:77] Reading record datasets for input file: ['/content/workspace/training_demo/images/train.record']\n",
            "INFO:tensorflow:Number of filenames to read: 1\n",
            "I0123 10:11:32.444306 140147278681984 dataset_builder.py:78] Number of filenames to read: 1\n",
            "WARNING:tensorflow:num_readers has been reduced to 1 to match input file shards.\n",
            "W0123 10:11:32.444384 140147278681984 dataset_builder.py:86] num_readers has been reduced to 1 to match input file shards.\n",
            "WARNING:tensorflow:From /usr/local/lib/python3.6/dist-packages/object_detection/builders/dataset_builder.py:103: parallel_interleave (from tensorflow.python.data.experimental.ops.interleave_ops) is deprecated and will be removed in a future version.\n",
            "Instructions for updating:\n",
            "Use `tf.data.Dataset.interleave(map_func, cycle_length, block_length, num_parallel_calls=tf.data.AUTOTUNE)` instead. If sloppy execution is desired, use `tf.data.Options.experimental_deterministic`.\n",
            "W0123 10:11:32.452545 140147278681984 deprecation.py:336] From /usr/local/lib/python3.6/dist-packages/object_detection/builders/dataset_builder.py:103: parallel_interleave (from tensorflow.python.data.experimental.ops.interleave_ops) is deprecated and will be removed in a future version.\n",
            "Instructions for updating:\n",
            "Use `tf.data.Dataset.interleave(map_func, cycle_length, block_length, num_parallel_calls=tf.data.AUTOTUNE)` instead. If sloppy execution is desired, use `tf.data.Options.experimental_deterministic`.\n",
            "WARNING:tensorflow:From /usr/local/lib/python3.6/dist-packages/object_detection/builders/dataset_builder.py:222: DatasetV1.map_with_legacy_function (from tensorflow.python.data.ops.dataset_ops) is deprecated and will be removed in a future version.\n",
            "Instructions for updating:\n",
            "Use `tf.data.Dataset.map()\n",
            "W0123 10:11:32.482894 140147278681984 deprecation.py:336] From /usr/local/lib/python3.6/dist-packages/object_detection/builders/dataset_builder.py:222: DatasetV1.map_with_legacy_function (from tensorflow.python.data.ops.dataset_ops) is deprecated and will be removed in a future version.\n",
            "Instructions for updating:\n",
            "Use `tf.data.Dataset.map()\n",
            "WARNING:tensorflow:From /usr/local/lib/python3.6/dist-packages/tensorflow/python/util/dispatch.py:206: sparse_to_dense (from tensorflow.python.ops.sparse_ops) is deprecated and will be removed in a future version.\n",
            "Instructions for updating:\n",
            "Create a `tf.sparse.SparseTensor` and use `tf.sparse.to_dense` instead.\n",
            "W0123 10:11:38.201061 140147278681984 deprecation.py:336] From /usr/local/lib/python3.6/dist-packages/tensorflow/python/util/dispatch.py:206: sparse_to_dense (from tensorflow.python.ops.sparse_ops) is deprecated and will be removed in a future version.\n",
            "Instructions for updating:\n",
            "Create a `tf.sparse.SparseTensor` and use `tf.sparse.to_dense` instead.\n",
            "WARNING:tensorflow:From /usr/local/lib/python3.6/dist-packages/tensorflow/python/autograph/impl/api.py:484: to_float (from tensorflow.python.ops.math_ops) is deprecated and will be removed in a future version.\n",
            "Instructions for updating:\n",
            "Use `tf.cast` instead.\n",
            "W0123 10:11:41.896144 140147278681984 deprecation.py:336] From /usr/local/lib/python3.6/dist-packages/tensorflow/python/autograph/impl/api.py:484: to_float (from tensorflow.python.ops.math_ops) is deprecated and will be removed in a future version.\n",
            "Instructions for updating:\n",
            "Use `tf.cast` instead.\n",
            "2021-01-23 10:11:43.795914: I tensorflow/compiler/mlir/mlir_graph_optimization_pass.cc:128] None of the MLIR optimization passes are enabled (registered 2)\n",
            "2021-01-23 10:11:43.802750: I tensorflow/core/platform/profile_utils/cpu_utils.cc:112] CPU Frequency: 2199995000 Hz\n",
            "2021-01-23 10:11:54.167595: I tensorflow/core/kernels/data/shuffle_dataset_op.cc:177] Filling up shuffle buffer (this may take a while): 2035 of 2048\n",
            "2021-01-23 10:11:54.170238: I tensorflow/core/kernels/data/shuffle_dataset_op.cc:230] Shuffle buffer filled.\n",
            "/usr/local/lib/python3.6/dist-packages/tensorflow/python/keras/backend.py:440: UserWarning: `tf.keras.backend.set_learning_phase` is deprecated and will be removed after 2020-10-11. To update it, simply pass a True/False value to the `training` argument of the `__call__` method of your layer or model.\n",
            "  warnings.warn('`tf.keras.backend.set_learning_phase` is deprecated and '\n",
            "WARNING:tensorflow:Unresolved object in checkpoint: (root).model._groundtruth_lists\n",
            "W0123 10:12:25.203926 140147278681984 util.py:161] Unresolved object in checkpoint: (root).model._groundtruth_lists\n",
            "WARNING:tensorflow:Unresolved object in checkpoint: (root).model._box_predictor\n",
            "W0123 10:12:25.204190 140147278681984 util.py:161] Unresolved object in checkpoint: (root).model._box_predictor\n",
            "WARNING:tensorflow:Unresolved object in checkpoint: (root).model._batched_prediction_tensor_names\n",
            "W0123 10:12:25.204281 140147278681984 util.py:161] Unresolved object in checkpoint: (root).model._batched_prediction_tensor_names\n",
            "WARNING:tensorflow:Unresolved object in checkpoint: (root).model._box_predictor._box_prediction_head\n",
            "W0123 10:12:25.204368 140147278681984 util.py:161] Unresolved object in checkpoint: (root).model._box_predictor._box_prediction_head\n",
            "WARNING:tensorflow:Unresolved object in checkpoint: (root).model._box_predictor._prediction_heads\n",
            "W0123 10:12:25.204437 140147278681984 util.py:161] Unresolved object in checkpoint: (root).model._box_predictor._prediction_heads\n",
            "WARNING:tensorflow:Unresolved object in checkpoint: (root).model._box_predictor._sorted_head_names\n",
            "W0123 10:12:25.204500 140147278681984 util.py:161] Unresolved object in checkpoint: (root).model._box_predictor._sorted_head_names\n",
            "WARNING:tensorflow:Unresolved object in checkpoint: (root).model._box_predictor._additional_projection_layers\n",
            "W0123 10:12:25.204565 140147278681984 util.py:161] Unresolved object in checkpoint: (root).model._box_predictor._additional_projection_layers\n",
            "WARNING:tensorflow:Unresolved object in checkpoint: (root).model._box_predictor._base_tower_layers_for_heads\n",
            "W0123 10:12:25.204634 140147278681984 util.py:161] Unresolved object in checkpoint: (root).model._box_predictor._base_tower_layers_for_heads\n",
            "WARNING:tensorflow:Unresolved object in checkpoint: (root).model._box_predictor._head_scope_conv_layers\n",
            "W0123 10:12:25.204697 140147278681984 util.py:161] Unresolved object in checkpoint: (root).model._box_predictor._head_scope_conv_layers\n",
            "WARNING:tensorflow:Unresolved object in checkpoint: (root).model._box_predictor._box_prediction_head._box_encoder_layers\n",
            "W0123 10:12:25.204759 140147278681984 util.py:161] Unresolved object in checkpoint: (root).model._box_predictor._box_prediction_head._box_encoder_layers\n",
            "WARNING:tensorflow:Unresolved object in checkpoint: (root).model._box_predictor._prediction_heads.class_predictions_with_background\n",
            "W0123 10:12:25.204821 140147278681984 util.py:161] Unresolved object in checkpoint: (root).model._box_predictor._prediction_heads.class_predictions_with_background\n",
            "WARNING:tensorflow:Unresolved object in checkpoint: (root).model._box_predictor._additional_projection_layers.0\n",
            "W0123 10:12:25.204884 140147278681984 util.py:161] Unresolved object in checkpoint: (root).model._box_predictor._additional_projection_layers.0\n",
            "WARNING:tensorflow:Unresolved object in checkpoint: (root).model._box_predictor._additional_projection_layers.1\n",
            "W0123 10:12:25.204945 140147278681984 util.py:161] Unresolved object in checkpoint: (root).model._box_predictor._additional_projection_layers.1\n",
            "WARNING:tensorflow:Unresolved object in checkpoint: (root).model._box_predictor._additional_projection_layers.2\n",
            "W0123 10:12:25.205005 140147278681984 util.py:161] Unresolved object in checkpoint: (root).model._box_predictor._additional_projection_layers.2\n",
            "WARNING:tensorflow:Unresolved object in checkpoint: (root).model._box_predictor._additional_projection_layers.3\n",
            "W0123 10:12:25.205075 140147278681984 util.py:161] Unresolved object in checkpoint: (root).model._box_predictor._additional_projection_layers.3\n",
            "WARNING:tensorflow:Unresolved object in checkpoint: (root).model._box_predictor._additional_projection_layers.4\n",
            "W0123 10:12:25.205141 140147278681984 util.py:161] Unresolved object in checkpoint: (root).model._box_predictor._additional_projection_layers.4\n",
            "WARNING:tensorflow:Unresolved object in checkpoint: (root).model._box_predictor._base_tower_layers_for_heads.box_encodings\n",
            "W0123 10:12:25.205203 140147278681984 util.py:161] Unresolved object in checkpoint: (root).model._box_predictor._base_tower_layers_for_heads.box_encodings\n",
            "WARNING:tensorflow:Unresolved object in checkpoint: (root).model._box_predictor._base_tower_layers_for_heads.class_predictions_with_background\n",
            "W0123 10:12:25.205264 140147278681984 util.py:161] Unresolved object in checkpoint: (root).model._box_predictor._base_tower_layers_for_heads.class_predictions_with_background\n",
            "WARNING:tensorflow:Unresolved object in checkpoint: (root).model._box_predictor._head_scope_conv_layers.BoxPredictionTower\n",
            "W0123 10:12:25.205325 140147278681984 util.py:161] Unresolved object in checkpoint: (root).model._box_predictor._head_scope_conv_layers.BoxPredictionTower\n",
            "WARNING:tensorflow:Unresolved object in checkpoint: (root).model._box_predictor._head_scope_conv_layers.ClassPredictionTower\n",
            "W0123 10:12:25.205386 140147278681984 util.py:161] Unresolved object in checkpoint: (root).model._box_predictor._head_scope_conv_layers.ClassPredictionTower\n",
            "WARNING:tensorflow:Unresolved object in checkpoint: (root).model._box_predictor._box_prediction_head._box_encoder_layers.0\n",
            "W0123 10:12:25.205477 140147278681984 util.py:161] Unresolved object in checkpoint: (root).model._box_predictor._box_prediction_head._box_encoder_layers.0\n",
            "WARNING:tensorflow:Unresolved object in checkpoint: (root).model._box_predictor._prediction_heads.class_predictions_with_background._class_predictor_layers\n",
            "W0123 10:12:25.205546 140147278681984 util.py:161] Unresolved object in checkpoint: (root).model._box_predictor._prediction_heads.class_predictions_with_background._class_predictor_layers\n",
            "WARNING:tensorflow:Unresolved object in checkpoint: (root).model._box_predictor._base_tower_layers_for_heads.box_encodings.0\n",
            "W0123 10:12:25.205627 140147278681984 util.py:161] Unresolved object in checkpoint: (root).model._box_predictor._base_tower_layers_for_heads.box_encodings.0\n",
            "WARNING:tensorflow:Unresolved object in checkpoint: (root).model._box_predictor._base_tower_layers_for_heads.box_encodings.1\n",
            "W0123 10:12:25.205691 140147278681984 util.py:161] Unresolved object in checkpoint: (root).model._box_predictor._base_tower_layers_for_heads.box_encodings.1\n",
            "WARNING:tensorflow:Unresolved object in checkpoint: (root).model._box_predictor._base_tower_layers_for_heads.box_encodings.2\n",
            "W0123 10:12:25.205753 140147278681984 util.py:161] Unresolved object in checkpoint: (root).model._box_predictor._base_tower_layers_for_heads.box_encodings.2\n",
            "WARNING:tensorflow:Unresolved object in checkpoint: (root).model._box_predictor._base_tower_layers_for_heads.box_encodings.3\n",
            "W0123 10:12:25.205815 140147278681984 util.py:161] Unresolved object in checkpoint: (root).model._box_predictor._base_tower_layers_for_heads.box_encodings.3\n",
            "WARNING:tensorflow:Unresolved object in checkpoint: (root).model._box_predictor._base_tower_layers_for_heads.box_encodings.4\n",
            "W0123 10:12:25.205875 140147278681984 util.py:161] Unresolved object in checkpoint: (root).model._box_predictor._base_tower_layers_for_heads.box_encodings.4\n",
            "WARNING:tensorflow:Unresolved object in checkpoint: (root).model._box_predictor._base_tower_layers_for_heads.class_predictions_with_background.0\n",
            "W0123 10:12:25.205935 140147278681984 util.py:161] Unresolved object in checkpoint: (root).model._box_predictor._base_tower_layers_for_heads.class_predictions_with_background.0\n",
            "WARNING:tensorflow:Unresolved object in checkpoint: (root).model._box_predictor._base_tower_layers_for_heads.class_predictions_with_background.1\n",
            "W0123 10:12:25.205999 140147278681984 util.py:161] Unresolved object in checkpoint: (root).model._box_predictor._base_tower_layers_for_heads.class_predictions_with_background.1\n",
            "WARNING:tensorflow:Unresolved object in checkpoint: (root).model._box_predictor._base_tower_layers_for_heads.class_predictions_with_background.2\n",
            "W0123 10:12:25.206069 140147278681984 util.py:161] Unresolved object in checkpoint: (root).model._box_predictor._base_tower_layers_for_heads.class_predictions_with_background.2\n",
            "WARNING:tensorflow:Unresolved object in checkpoint: (root).model._box_predictor._base_tower_layers_for_heads.class_predictions_with_background.3\n",
            "W0123 10:12:25.206135 140147278681984 util.py:161] Unresolved object in checkpoint: (root).model._box_predictor._base_tower_layers_for_heads.class_predictions_with_background.3\n",
            "WARNING:tensorflow:Unresolved object in checkpoint: (root).model._box_predictor._base_tower_layers_for_heads.class_predictions_with_background.4\n",
            "W0123 10:12:25.206197 140147278681984 util.py:161] Unresolved object in checkpoint: (root).model._box_predictor._base_tower_layers_for_heads.class_predictions_with_background.4\n",
            "WARNING:tensorflow:Unresolved object in checkpoint: (root).model._box_predictor._head_scope_conv_layers.BoxPredictionTower.0\n",
            "W0123 10:12:25.206259 140147278681984 util.py:161] Unresolved object in checkpoint: (root).model._box_predictor._head_scope_conv_layers.BoxPredictionTower.0\n",
            "WARNING:tensorflow:Unresolved object in checkpoint: (root).model._box_predictor._head_scope_conv_layers.BoxPredictionTower.1\n",
            "W0123 10:12:25.206319 140147278681984 util.py:161] Unresolved object in checkpoint: (root).model._box_predictor._head_scope_conv_layers.BoxPredictionTower.1\n",
            "WARNING:tensorflow:Unresolved object in checkpoint: (root).model._box_predictor._head_scope_conv_layers.BoxPredictionTower.2\n",
            "W0123 10:12:25.206380 140147278681984 util.py:161] Unresolved object in checkpoint: (root).model._box_predictor._head_scope_conv_layers.BoxPredictionTower.2\n",
            "WARNING:tensorflow:Unresolved object in checkpoint: (root).model._box_predictor._head_scope_conv_layers.ClassPredictionTower.0\n",
            "W0123 10:12:25.206440 140147278681984 util.py:161] Unresolved object in checkpoint: (root).model._box_predictor._head_scope_conv_layers.ClassPredictionTower.0\n",
            "WARNING:tensorflow:Unresolved object in checkpoint: (root).model._box_predictor._head_scope_conv_layers.ClassPredictionTower.1\n",
            "W0123 10:12:25.206501 140147278681984 util.py:161] Unresolved object in checkpoint: (root).model._box_predictor._head_scope_conv_layers.ClassPredictionTower.1\n",
            "WARNING:tensorflow:Unresolved object in checkpoint: (root).model._box_predictor._head_scope_conv_layers.ClassPredictionTower.2\n",
            "W0123 10:12:25.206562 140147278681984 util.py:161] Unresolved object in checkpoint: (root).model._box_predictor._head_scope_conv_layers.ClassPredictionTower.2\n",
            "WARNING:tensorflow:Unresolved object in checkpoint: (root).model._box_predictor._box_prediction_head._box_encoder_layers.0.depthwise_kernel\n",
            "W0123 10:12:25.206696 140147278681984 util.py:161] Unresolved object in checkpoint: (root).model._box_predictor._box_prediction_head._box_encoder_layers.0.depthwise_kernel\n",
            "WARNING:tensorflow:Unresolved object in checkpoint: (root).model._box_predictor._box_prediction_head._box_encoder_layers.0.pointwise_kernel\n",
            "W0123 10:12:25.206763 140147278681984 util.py:161] Unresolved object in checkpoint: (root).model._box_predictor._box_prediction_head._box_encoder_layers.0.pointwise_kernel\n",
            "WARNING:tensorflow:Unresolved object in checkpoint: (root).model._box_predictor._box_prediction_head._box_encoder_layers.0.bias\n",
            "W0123 10:12:25.206827 140147278681984 util.py:161] Unresolved object in checkpoint: (root).model._box_predictor._box_prediction_head._box_encoder_layers.0.bias\n",
            "WARNING:tensorflow:Unresolved object in checkpoint: (root).model._box_predictor._prediction_heads.class_predictions_with_background._class_predictor_layers.0\n",
            "W0123 10:12:25.206888 140147278681984 util.py:161] Unresolved object in checkpoint: (root).model._box_predictor._prediction_heads.class_predictions_with_background._class_predictor_layers.0\n",
            "WARNING:tensorflow:Unresolved object in checkpoint: (root).model._box_predictor._base_tower_layers_for_heads.box_encodings.0.1\n",
            "W0123 10:12:25.206951 140147278681984 util.py:161] Unresolved object in checkpoint: (root).model._box_predictor._base_tower_layers_for_heads.box_encodings.0.1\n",
            "WARNING:tensorflow:Unresolved object in checkpoint: (root).model._box_predictor._base_tower_layers_for_heads.box_encodings.0.2\n",
            "W0123 10:12:25.207013 140147278681984 util.py:161] Unresolved object in checkpoint: (root).model._box_predictor._base_tower_layers_for_heads.box_encodings.0.2\n",
            "WARNING:tensorflow:Unresolved object in checkpoint: (root).model._box_predictor._base_tower_layers_for_heads.box_encodings.0.4\n",
            "W0123 10:12:25.207083 140147278681984 util.py:161] Unresolved object in checkpoint: (root).model._box_predictor._base_tower_layers_for_heads.box_encodings.0.4\n",
            "WARNING:tensorflow:Unresolved object in checkpoint: (root).model._box_predictor._base_tower_layers_for_heads.box_encodings.0.5\n",
            "W0123 10:12:25.207147 140147278681984 util.py:161] Unresolved object in checkpoint: (root).model._box_predictor._base_tower_layers_for_heads.box_encodings.0.5\n",
            "WARNING:tensorflow:Unresolved object in checkpoint: (root).model._box_predictor._base_tower_layers_for_heads.box_encodings.0.7\n",
            "W0123 10:12:25.207208 140147278681984 util.py:161] Unresolved object in checkpoint: (root).model._box_predictor._base_tower_layers_for_heads.box_encodings.0.7\n",
            "WARNING:tensorflow:Unresolved object in checkpoint: (root).model._box_predictor._base_tower_layers_for_heads.box_encodings.0.8\n",
            "W0123 10:12:25.207268 140147278681984 util.py:161] Unresolved object in checkpoint: (root).model._box_predictor._base_tower_layers_for_heads.box_encodings.0.8\n",
            "WARNING:tensorflow:Unresolved object in checkpoint: (root).model._box_predictor._base_tower_layers_for_heads.box_encodings.1.1\n",
            "W0123 10:12:25.207328 140147278681984 util.py:161] Unresolved object in checkpoint: (root).model._box_predictor._base_tower_layers_for_heads.box_encodings.1.1\n",
            "WARNING:tensorflow:Unresolved object in checkpoint: (root).model._box_predictor._base_tower_layers_for_heads.box_encodings.1.2\n",
            "W0123 10:12:25.207389 140147278681984 util.py:161] Unresolved object in checkpoint: (root).model._box_predictor._base_tower_layers_for_heads.box_encodings.1.2\n",
            "WARNING:tensorflow:Unresolved object in checkpoint: (root).model._box_predictor._base_tower_layers_for_heads.box_encodings.1.4\n",
            "W0123 10:12:25.207449 140147278681984 util.py:161] Unresolved object in checkpoint: (root).model._box_predictor._base_tower_layers_for_heads.box_encodings.1.4\n",
            "WARNING:tensorflow:Unresolved object in checkpoint: (root).model._box_predictor._base_tower_layers_for_heads.box_encodings.1.5\n",
            "W0123 10:12:25.207509 140147278681984 util.py:161] Unresolved object in checkpoint: (root).model._box_predictor._base_tower_layers_for_heads.box_encodings.1.5\n",
            "WARNING:tensorflow:Unresolved object in checkpoint: (root).model._box_predictor._base_tower_layers_for_heads.box_encodings.1.7\n",
            "W0123 10:12:25.207571 140147278681984 util.py:161] Unresolved object in checkpoint: (root).model._box_predictor._base_tower_layers_for_heads.box_encodings.1.7\n",
            "WARNING:tensorflow:Unresolved object in checkpoint: (root).model._box_predictor._base_tower_layers_for_heads.box_encodings.1.8\n",
            "W0123 10:12:25.207637 140147278681984 util.py:161] Unresolved object in checkpoint: (root).model._box_predictor._base_tower_layers_for_heads.box_encodings.1.8\n",
            "WARNING:tensorflow:Unresolved object in checkpoint: (root).model._box_predictor._base_tower_layers_for_heads.box_encodings.2.1\n",
            "W0123 10:12:25.207698 140147278681984 util.py:161] Unresolved object in checkpoint: (root).model._box_predictor._base_tower_layers_for_heads.box_encodings.2.1\n",
            "WARNING:tensorflow:Unresolved object in checkpoint: (root).model._box_predictor._base_tower_layers_for_heads.box_encodings.2.2\n",
            "W0123 10:12:25.207759 140147278681984 util.py:161] Unresolved object in checkpoint: (root).model._box_predictor._base_tower_layers_for_heads.box_encodings.2.2\n",
            "WARNING:tensorflow:Unresolved object in checkpoint: (root).model._box_predictor._base_tower_layers_for_heads.box_encodings.2.4\n",
            "W0123 10:12:25.207819 140147278681984 util.py:161] Unresolved object in checkpoint: (root).model._box_predictor._base_tower_layers_for_heads.box_encodings.2.4\n",
            "WARNING:tensorflow:Unresolved object in checkpoint: (root).model._box_predictor._base_tower_layers_for_heads.box_encodings.2.5\n",
            "W0123 10:12:25.207879 140147278681984 util.py:161] Unresolved object in checkpoint: (root).model._box_predictor._base_tower_layers_for_heads.box_encodings.2.5\n",
            "WARNING:tensorflow:Unresolved object in checkpoint: (root).model._box_predictor._base_tower_layers_for_heads.box_encodings.2.7\n",
            "W0123 10:12:25.207947 140147278681984 util.py:161] Unresolved object in checkpoint: (root).model._box_predictor._base_tower_layers_for_heads.box_encodings.2.7\n",
            "WARNING:tensorflow:Unresolved object in checkpoint: (root).model._box_predictor._base_tower_layers_for_heads.box_encodings.2.8\n",
            "W0123 10:12:25.208007 140147278681984 util.py:161] Unresolved object in checkpoint: (root).model._box_predictor._base_tower_layers_for_heads.box_encodings.2.8\n",
            "WARNING:tensorflow:Unresolved object in checkpoint: (root).model._box_predictor._base_tower_layers_for_heads.box_encodings.3.1\n",
            "W0123 10:12:25.208076 140147278681984 util.py:161] Unresolved object in checkpoint: (root).model._box_predictor._base_tower_layers_for_heads.box_encodings.3.1\n",
            "WARNING:tensorflow:Unresolved object in checkpoint: (root).model._box_predictor._base_tower_layers_for_heads.box_encodings.3.2\n",
            "W0123 10:12:25.208137 140147278681984 util.py:161] Unresolved object in checkpoint: (root).model._box_predictor._base_tower_layers_for_heads.box_encodings.3.2\n",
            "WARNING:tensorflow:Unresolved object in checkpoint: (root).model._box_predictor._base_tower_layers_for_heads.box_encodings.3.4\n",
            "W0123 10:12:25.208199 140147278681984 util.py:161] Unresolved object in checkpoint: (root).model._box_predictor._base_tower_layers_for_heads.box_encodings.3.4\n",
            "WARNING:tensorflow:Unresolved object in checkpoint: (root).model._box_predictor._base_tower_layers_for_heads.box_encodings.3.5\n",
            "W0123 10:12:25.268413 140147278681984 util.py:161] Unresolved object in checkpoint: (root).model._box_predictor._base_tower_layers_for_heads.box_encodings.3.5\n",
            "WARNING:tensorflow:Unresolved object in checkpoint: (root).model._box_predictor._base_tower_layers_for_heads.box_encodings.3.7\n",
            "W0123 10:12:25.268564 140147278681984 util.py:161] Unresolved object in checkpoint: (root).model._box_predictor._base_tower_layers_for_heads.box_encodings.3.7\n",
            "WARNING:tensorflow:Unresolved object in checkpoint: (root).model._box_predictor._base_tower_layers_for_heads.box_encodings.3.8\n",
            "W0123 10:12:25.268679 140147278681984 util.py:161] Unresolved object in checkpoint: (root).model._box_predictor._base_tower_layers_for_heads.box_encodings.3.8\n",
            "WARNING:tensorflow:Unresolved object in checkpoint: (root).model._box_predictor._base_tower_layers_for_heads.box_encodings.4.1\n",
            "W0123 10:12:25.268768 140147278681984 util.py:161] Unresolved object in checkpoint: (root).model._box_predictor._base_tower_layers_for_heads.box_encodings.4.1\n",
            "WARNING:tensorflow:Unresolved object in checkpoint: (root).model._box_predictor._base_tower_layers_for_heads.box_encodings.4.2\n",
            "W0123 10:12:25.268852 140147278681984 util.py:161] Unresolved object in checkpoint: (root).model._box_predictor._base_tower_layers_for_heads.box_encodings.4.2\n",
            "WARNING:tensorflow:Unresolved object in checkpoint: (root).model._box_predictor._base_tower_layers_for_heads.box_encodings.4.4\n",
            "W0123 10:12:25.268934 140147278681984 util.py:161] Unresolved object in checkpoint: (root).model._box_predictor._base_tower_layers_for_heads.box_encodings.4.4\n",
            "WARNING:tensorflow:Unresolved object in checkpoint: (root).model._box_predictor._base_tower_layers_for_heads.box_encodings.4.5\n",
            "W0123 10:12:25.269018 140147278681984 util.py:161] Unresolved object in checkpoint: (root).model._box_predictor._base_tower_layers_for_heads.box_encodings.4.5\n",
            "WARNING:tensorflow:Unresolved object in checkpoint: (root).model._box_predictor._base_tower_layers_for_heads.box_encodings.4.7\n",
            "W0123 10:12:25.269146 140147278681984 util.py:161] Unresolved object in checkpoint: (root).model._box_predictor._base_tower_layers_for_heads.box_encodings.4.7\n",
            "WARNING:tensorflow:Unresolved object in checkpoint: (root).model._box_predictor._base_tower_layers_for_heads.box_encodings.4.8\n",
            "W0123 10:12:25.269237 140147278681984 util.py:161] Unresolved object in checkpoint: (root).model._box_predictor._base_tower_layers_for_heads.box_encodings.4.8\n",
            "WARNING:tensorflow:Unresolved object in checkpoint: (root).model._box_predictor._base_tower_layers_for_heads.class_predictions_with_background.0.1\n",
            "W0123 10:12:25.269330 140147278681984 util.py:161] Unresolved object in checkpoint: (root).model._box_predictor._base_tower_layers_for_heads.class_predictions_with_background.0.1\n",
            "WARNING:tensorflow:Unresolved object in checkpoint: (root).model._box_predictor._base_tower_layers_for_heads.class_predictions_with_background.0.2\n",
            "W0123 10:12:25.269418 140147278681984 util.py:161] Unresolved object in checkpoint: (root).model._box_predictor._base_tower_layers_for_heads.class_predictions_with_background.0.2\n",
            "WARNING:tensorflow:Unresolved object in checkpoint: (root).model._box_predictor._base_tower_layers_for_heads.class_predictions_with_background.0.4\n",
            "W0123 10:12:25.269504 140147278681984 util.py:161] Unresolved object in checkpoint: (root).model._box_predictor._base_tower_layers_for_heads.class_predictions_with_background.0.4\n",
            "WARNING:tensorflow:Unresolved object in checkpoint: (root).model._box_predictor._base_tower_layers_for_heads.class_predictions_with_background.0.5\n",
            "W0123 10:12:25.269588 140147278681984 util.py:161] Unresolved object in checkpoint: (root).model._box_predictor._base_tower_layers_for_heads.class_predictions_with_background.0.5\n",
            "WARNING:tensorflow:Unresolved object in checkpoint: (root).model._box_predictor._base_tower_layers_for_heads.class_predictions_with_background.0.7\n",
            "W0123 10:12:25.269689 140147278681984 util.py:161] Unresolved object in checkpoint: (root).model._box_predictor._base_tower_layers_for_heads.class_predictions_with_background.0.7\n",
            "WARNING:tensorflow:Unresolved object in checkpoint: (root).model._box_predictor._base_tower_layers_for_heads.class_predictions_with_background.0.8\n",
            "W0123 10:12:25.269775 140147278681984 util.py:161] Unresolved object in checkpoint: (root).model._box_predictor._base_tower_layers_for_heads.class_predictions_with_background.0.8\n",
            "WARNING:tensorflow:Unresolved object in checkpoint: (root).model._box_predictor._base_tower_layers_for_heads.class_predictions_with_background.1.1\n",
            "W0123 10:12:25.269860 140147278681984 util.py:161] Unresolved object in checkpoint: (root).model._box_predictor._base_tower_layers_for_heads.class_predictions_with_background.1.1\n",
            "WARNING:tensorflow:Unresolved object in checkpoint: (root).model._box_predictor._base_tower_layers_for_heads.class_predictions_with_background.1.2\n",
            "W0123 10:12:25.269945 140147278681984 util.py:161] Unresolved object in checkpoint: (root).model._box_predictor._base_tower_layers_for_heads.class_predictions_with_background.1.2\n",
            "WARNING:tensorflow:Unresolved object in checkpoint: (root).model._box_predictor._base_tower_layers_for_heads.class_predictions_with_background.1.4\n",
            "W0123 10:12:25.270030 140147278681984 util.py:161] Unresolved object in checkpoint: (root).model._box_predictor._base_tower_layers_for_heads.class_predictions_with_background.1.4\n",
            "WARNING:tensorflow:Unresolved object in checkpoint: (root).model._box_predictor._base_tower_layers_for_heads.class_predictions_with_background.1.5\n",
            "W0123 10:12:25.270139 140147278681984 util.py:161] Unresolved object in checkpoint: (root).model._box_predictor._base_tower_layers_for_heads.class_predictions_with_background.1.5\n",
            "WARNING:tensorflow:Unresolved object in checkpoint: (root).model._box_predictor._base_tower_layers_for_heads.class_predictions_with_background.1.7\n",
            "W0123 10:12:25.270226 140147278681984 util.py:161] Unresolved object in checkpoint: (root).model._box_predictor._base_tower_layers_for_heads.class_predictions_with_background.1.7\n",
            "WARNING:tensorflow:Unresolved object in checkpoint: (root).model._box_predictor._base_tower_layers_for_heads.class_predictions_with_background.1.8\n",
            "W0123 10:12:25.270310 140147278681984 util.py:161] Unresolved object in checkpoint: (root).model._box_predictor._base_tower_layers_for_heads.class_predictions_with_background.1.8\n",
            "WARNING:tensorflow:Unresolved object in checkpoint: (root).model._box_predictor._base_tower_layers_for_heads.class_predictions_with_background.2.1\n",
            "W0123 10:12:25.270396 140147278681984 util.py:161] Unresolved object in checkpoint: (root).model._box_predictor._base_tower_layers_for_heads.class_predictions_with_background.2.1\n",
            "WARNING:tensorflow:Unresolved object in checkpoint: (root).model._box_predictor._base_tower_layers_for_heads.class_predictions_with_background.2.2\n",
            "W0123 10:12:25.270480 140147278681984 util.py:161] Unresolved object in checkpoint: (root).model._box_predictor._base_tower_layers_for_heads.class_predictions_with_background.2.2\n",
            "WARNING:tensorflow:Unresolved object in checkpoint: (root).model._box_predictor._base_tower_layers_for_heads.class_predictions_with_background.2.4\n",
            "W0123 10:12:25.270564 140147278681984 util.py:161] Unresolved object in checkpoint: (root).model._box_predictor._base_tower_layers_for_heads.class_predictions_with_background.2.4\n",
            "WARNING:tensorflow:Unresolved object in checkpoint: (root).model._box_predictor._base_tower_layers_for_heads.class_predictions_with_background.2.5\n",
            "W0123 10:12:25.270661 140147278681984 util.py:161] Unresolved object in checkpoint: (root).model._box_predictor._base_tower_layers_for_heads.class_predictions_with_background.2.5\n",
            "WARNING:tensorflow:Unresolved object in checkpoint: (root).model._box_predictor._base_tower_layers_for_heads.class_predictions_with_background.2.7\n",
            "W0123 10:12:25.270747 140147278681984 util.py:161] Unresolved object in checkpoint: (root).model._box_predictor._base_tower_layers_for_heads.class_predictions_with_background.2.7\n",
            "WARNING:tensorflow:Unresolved object in checkpoint: (root).model._box_predictor._base_tower_layers_for_heads.class_predictions_with_background.2.8\n",
            "W0123 10:12:25.270833 140147278681984 util.py:161] Unresolved object in checkpoint: (root).model._box_predictor._base_tower_layers_for_heads.class_predictions_with_background.2.8\n",
            "WARNING:tensorflow:Unresolved object in checkpoint: (root).model._box_predictor._base_tower_layers_for_heads.class_predictions_with_background.3.1\n",
            "W0123 10:12:25.270917 140147278681984 util.py:161] Unresolved object in checkpoint: (root).model._box_predictor._base_tower_layers_for_heads.class_predictions_with_background.3.1\n",
            "WARNING:tensorflow:Unresolved object in checkpoint: (root).model._box_predictor._base_tower_layers_for_heads.class_predictions_with_background.3.2\n",
            "W0123 10:12:25.271002 140147278681984 util.py:161] Unresolved object in checkpoint: (root).model._box_predictor._base_tower_layers_for_heads.class_predictions_with_background.3.2\n",
            "WARNING:tensorflow:Unresolved object in checkpoint: (root).model._box_predictor._base_tower_layers_for_heads.class_predictions_with_background.3.4\n",
            "W0123 10:12:25.271104 140147278681984 util.py:161] Unresolved object in checkpoint: (root).model._box_predictor._base_tower_layers_for_heads.class_predictions_with_background.3.4\n",
            "WARNING:tensorflow:Unresolved object in checkpoint: (root).model._box_predictor._base_tower_layers_for_heads.class_predictions_with_background.3.5\n",
            "W0123 10:12:25.271190 140147278681984 util.py:161] Unresolved object in checkpoint: (root).model._box_predictor._base_tower_layers_for_heads.class_predictions_with_background.3.5\n",
            "WARNING:tensorflow:Unresolved object in checkpoint: (root).model._box_predictor._base_tower_layers_for_heads.class_predictions_with_background.3.7\n",
            "W0123 10:12:25.271267 140147278681984 util.py:161] Unresolved object in checkpoint: (root).model._box_predictor._base_tower_layers_for_heads.class_predictions_with_background.3.7\n",
            "WARNING:tensorflow:Unresolved object in checkpoint: (root).model._box_predictor._base_tower_layers_for_heads.class_predictions_with_background.3.8\n",
            "W0123 10:12:25.271345 140147278681984 util.py:161] Unresolved object in checkpoint: (root).model._box_predictor._base_tower_layers_for_heads.class_predictions_with_background.3.8\n",
            "WARNING:tensorflow:Unresolved object in checkpoint: (root).model._box_predictor._base_tower_layers_for_heads.class_predictions_with_background.4.1\n",
            "W0123 10:12:25.271426 140147278681984 util.py:161] Unresolved object in checkpoint: (root).model._box_predictor._base_tower_layers_for_heads.class_predictions_with_background.4.1\n",
            "WARNING:tensorflow:Unresolved object in checkpoint: (root).model._box_predictor._base_tower_layers_for_heads.class_predictions_with_background.4.2\n",
            "W0123 10:12:25.271509 140147278681984 util.py:161] Unresolved object in checkpoint: (root).model._box_predictor._base_tower_layers_for_heads.class_predictions_with_background.4.2\n",
            "WARNING:tensorflow:Unresolved object in checkpoint: (root).model._box_predictor._base_tower_layers_for_heads.class_predictions_with_background.4.4\n",
            "W0123 10:12:25.271592 140147278681984 util.py:161] Unresolved object in checkpoint: (root).model._box_predictor._base_tower_layers_for_heads.class_predictions_with_background.4.4\n",
            "WARNING:tensorflow:Unresolved object in checkpoint: (root).model._box_predictor._base_tower_layers_for_heads.class_predictions_with_background.4.5\n",
            "W0123 10:12:25.271690 140147278681984 util.py:161] Unresolved object in checkpoint: (root).model._box_predictor._base_tower_layers_for_heads.class_predictions_with_background.4.5\n",
            "WARNING:tensorflow:Unresolved object in checkpoint: (root).model._box_predictor._base_tower_layers_for_heads.class_predictions_with_background.4.7\n",
            "W0123 10:12:25.271773 140147278681984 util.py:161] Unresolved object in checkpoint: (root).model._box_predictor._base_tower_layers_for_heads.class_predictions_with_background.4.7\n",
            "WARNING:tensorflow:Unresolved object in checkpoint: (root).model._box_predictor._base_tower_layers_for_heads.class_predictions_with_background.4.8\n",
            "W0123 10:12:25.271857 140147278681984 util.py:161] Unresolved object in checkpoint: (root).model._box_predictor._base_tower_layers_for_heads.class_predictions_with_background.4.8\n",
            "WARNING:tensorflow:Unresolved object in checkpoint: (root).model._box_predictor._head_scope_conv_layers.BoxPredictionTower.0.depthwise_kernel\n",
            "W0123 10:12:25.271939 140147278681984 util.py:161] Unresolved object in checkpoint: (root).model._box_predictor._head_scope_conv_layers.BoxPredictionTower.0.depthwise_kernel\n",
            "WARNING:tensorflow:Unresolved object in checkpoint: (root).model._box_predictor._head_scope_conv_layers.BoxPredictionTower.0.pointwise_kernel\n",
            "W0123 10:12:25.272023 140147278681984 util.py:161] Unresolved object in checkpoint: (root).model._box_predictor._head_scope_conv_layers.BoxPredictionTower.0.pointwise_kernel\n",
            "WARNING:tensorflow:Unresolved object in checkpoint: (root).model._box_predictor._head_scope_conv_layers.BoxPredictionTower.0.bias\n",
            "W0123 10:12:25.272127 140147278681984 util.py:161] Unresolved object in checkpoint: (root).model._box_predictor._head_scope_conv_layers.BoxPredictionTower.0.bias\n",
            "WARNING:tensorflow:Unresolved object in checkpoint: (root).model._box_predictor._head_scope_conv_layers.BoxPredictionTower.1.depthwise_kernel\n",
            "W0123 10:12:25.272215 140147278681984 util.py:161] Unresolved object in checkpoint: (root).model._box_predictor._head_scope_conv_layers.BoxPredictionTower.1.depthwise_kernel\n",
            "WARNING:tensorflow:Unresolved object in checkpoint: (root).model._box_predictor._head_scope_conv_layers.BoxPredictionTower.1.pointwise_kernel\n",
            "W0123 10:12:25.272377 140147278681984 util.py:161] Unresolved object in checkpoint: (root).model._box_predictor._head_scope_conv_layers.BoxPredictionTower.1.pointwise_kernel\n",
            "WARNING:tensorflow:Unresolved object in checkpoint: (root).model._box_predictor._head_scope_conv_layers.BoxPredictionTower.1.bias\n",
            "W0123 10:12:25.272467 140147278681984 util.py:161] Unresolved object in checkpoint: (root).model._box_predictor._head_scope_conv_layers.BoxPredictionTower.1.bias\n",
            "WARNING:tensorflow:Unresolved object in checkpoint: (root).model._box_predictor._head_scope_conv_layers.BoxPredictionTower.2.depthwise_kernel\n",
            "W0123 10:12:25.272552 140147278681984 util.py:161] Unresolved object in checkpoint: (root).model._box_predictor._head_scope_conv_layers.BoxPredictionTower.2.depthwise_kernel\n",
            "WARNING:tensorflow:Unresolved object in checkpoint: (root).model._box_predictor._head_scope_conv_layers.BoxPredictionTower.2.pointwise_kernel\n",
            "W0123 10:12:25.272649 140147278681984 util.py:161] Unresolved object in checkpoint: (root).model._box_predictor._head_scope_conv_layers.BoxPredictionTower.2.pointwise_kernel\n",
            "WARNING:tensorflow:Unresolved object in checkpoint: (root).model._box_predictor._head_scope_conv_layers.BoxPredictionTower.2.bias\n",
            "W0123 10:12:25.272735 140147278681984 util.py:161] Unresolved object in checkpoint: (root).model._box_predictor._head_scope_conv_layers.BoxPredictionTower.2.bias\n",
            "WARNING:tensorflow:Unresolved object in checkpoint: (root).model._box_predictor._head_scope_conv_layers.ClassPredictionTower.0.depthwise_kernel\n",
            "W0123 10:12:25.272819 140147278681984 util.py:161] Unresolved object in checkpoint: (root).model._box_predictor._head_scope_conv_layers.ClassPredictionTower.0.depthwise_kernel\n",
            "WARNING:tensorflow:Unresolved object in checkpoint: (root).model._box_predictor._head_scope_conv_layers.ClassPredictionTower.0.pointwise_kernel\n",
            "W0123 10:12:25.272912 140147278681984 util.py:161] Unresolved object in checkpoint: (root).model._box_predictor._head_scope_conv_layers.ClassPredictionTower.0.pointwise_kernel\n",
            "WARNING:tensorflow:Unresolved object in checkpoint: (root).model._box_predictor._head_scope_conv_layers.ClassPredictionTower.0.bias\n",
            "W0123 10:12:25.272998 140147278681984 util.py:161] Unresolved object in checkpoint: (root).model._box_predictor._head_scope_conv_layers.ClassPredictionTower.0.bias\n",
            "WARNING:tensorflow:Unresolved object in checkpoint: (root).model._box_predictor._head_scope_conv_layers.ClassPredictionTower.1.depthwise_kernel\n",
            "W0123 10:12:25.273099 140147278681984 util.py:161] Unresolved object in checkpoint: (root).model._box_predictor._head_scope_conv_layers.ClassPredictionTower.1.depthwise_kernel\n",
            "WARNING:tensorflow:Unresolved object in checkpoint: (root).model._box_predictor._head_scope_conv_layers.ClassPredictionTower.1.pointwise_kernel\n",
            "W0123 10:12:25.273189 140147278681984 util.py:161] Unresolved object in checkpoint: (root).model._box_predictor._head_scope_conv_layers.ClassPredictionTower.1.pointwise_kernel\n",
            "WARNING:tensorflow:Unresolved object in checkpoint: (root).model._box_predictor._head_scope_conv_layers.ClassPredictionTower.1.bias\n",
            "W0123 10:12:25.273271 140147278681984 util.py:161] Unresolved object in checkpoint: (root).model._box_predictor._head_scope_conv_layers.ClassPredictionTower.1.bias\n",
            "WARNING:tensorflow:Unresolved object in checkpoint: (root).model._box_predictor._head_scope_conv_layers.ClassPredictionTower.2.depthwise_kernel\n",
            "W0123 10:12:25.273355 140147278681984 util.py:161] Unresolved object in checkpoint: (root).model._box_predictor._head_scope_conv_layers.ClassPredictionTower.2.depthwise_kernel\n",
            "WARNING:tensorflow:Unresolved object in checkpoint: (root).model._box_predictor._head_scope_conv_layers.ClassPredictionTower.2.pointwise_kernel\n",
            "W0123 10:12:25.273439 140147278681984 util.py:161] Unresolved object in checkpoint: (root).model._box_predictor._head_scope_conv_layers.ClassPredictionTower.2.pointwise_kernel\n",
            "WARNING:tensorflow:Unresolved object in checkpoint: (root).model._box_predictor._head_scope_conv_layers.ClassPredictionTower.2.bias\n",
            "W0123 10:12:25.273524 140147278681984 util.py:161] Unresolved object in checkpoint: (root).model._box_predictor._head_scope_conv_layers.ClassPredictionTower.2.bias\n",
            "WARNING:tensorflow:Unresolved object in checkpoint: (root).model._box_predictor._prediction_heads.class_predictions_with_background._class_predictor_layers.0.depthwise_kernel\n",
            "W0123 10:12:25.273655 140147278681984 util.py:161] Unresolved object in checkpoint: (root).model._box_predictor._prediction_heads.class_predictions_with_background._class_predictor_layers.0.depthwise_kernel\n",
            "WARNING:tensorflow:Unresolved object in checkpoint: (root).model._box_predictor._prediction_heads.class_predictions_with_background._class_predictor_layers.0.pointwise_kernel\n",
            "W0123 10:12:25.273760 140147278681984 util.py:161] Unresolved object in checkpoint: (root).model._box_predictor._prediction_heads.class_predictions_with_background._class_predictor_layers.0.pointwise_kernel\n",
            "WARNING:tensorflow:Unresolved object in checkpoint: (root).model._box_predictor._prediction_heads.class_predictions_with_background._class_predictor_layers.0.bias\n",
            "W0123 10:12:25.273851 140147278681984 util.py:161] Unresolved object in checkpoint: (root).model._box_predictor._prediction_heads.class_predictions_with_background._class_predictor_layers.0.bias\n",
            "WARNING:tensorflow:Unresolved object in checkpoint: (root).model._box_predictor._base_tower_layers_for_heads.box_encodings.0.1.axis\n",
            "W0123 10:12:25.273938 140147278681984 util.py:161] Unresolved object in checkpoint: (root).model._box_predictor._base_tower_layers_for_heads.box_encodings.0.1.axis\n",
            "WARNING:tensorflow:Unresolved object in checkpoint: (root).model._box_predictor._base_tower_layers_for_heads.box_encodings.0.1.gamma\n",
            "W0123 10:12:25.274024 140147278681984 util.py:161] Unresolved object in checkpoint: (root).model._box_predictor._base_tower_layers_for_heads.box_encodings.0.1.gamma\n",
            "WARNING:tensorflow:Unresolved object in checkpoint: (root).model._box_predictor._base_tower_layers_for_heads.box_encodings.0.1.beta\n",
            "W0123 10:12:25.274129 140147278681984 util.py:161] Unresolved object in checkpoint: (root).model._box_predictor._base_tower_layers_for_heads.box_encodings.0.1.beta\n",
            "WARNING:tensorflow:Unresolved object in checkpoint: (root).model._box_predictor._base_tower_layers_for_heads.box_encodings.0.1.moving_mean\n",
            "W0123 10:12:25.274218 140147278681984 util.py:161] Unresolved object in checkpoint: (root).model._box_predictor._base_tower_layers_for_heads.box_encodings.0.1.moving_mean\n",
            "WARNING:tensorflow:Unresolved object in checkpoint: (root).model._box_predictor._base_tower_layers_for_heads.box_encodings.0.1.moving_variance\n",
            "W0123 10:12:25.274336 140147278681984 util.py:161] Unresolved object in checkpoint: (root).model._box_predictor._base_tower_layers_for_heads.box_encodings.0.1.moving_variance\n",
            "WARNING:tensorflow:Unresolved object in checkpoint: (root).model._box_predictor._base_tower_layers_for_heads.box_encodings.0.4.axis\n",
            "W0123 10:12:25.274420 140147278681984 util.py:161] Unresolved object in checkpoint: (root).model._box_predictor._base_tower_layers_for_heads.box_encodings.0.4.axis\n",
            "WARNING:tensorflow:Unresolved object in checkpoint: (root).model._box_predictor._base_tower_layers_for_heads.box_encodings.0.4.gamma\n",
            "W0123 10:12:25.274506 140147278681984 util.py:161] Unresolved object in checkpoint: (root).model._box_predictor._base_tower_layers_for_heads.box_encodings.0.4.gamma\n",
            "WARNING:tensorflow:Unresolved object in checkpoint: (root).model._box_predictor._base_tower_layers_for_heads.box_encodings.0.4.beta\n",
            "W0123 10:12:25.274590 140147278681984 util.py:161] Unresolved object in checkpoint: (root).model._box_predictor._base_tower_layers_for_heads.box_encodings.0.4.beta\n",
            "WARNING:tensorflow:Unresolved object in checkpoint: (root).model._box_predictor._base_tower_layers_for_heads.box_encodings.0.4.moving_mean\n",
            "W0123 10:12:25.274693 140147278681984 util.py:161] Unresolved object in checkpoint: (root).model._box_predictor._base_tower_layers_for_heads.box_encodings.0.4.moving_mean\n",
            "WARNING:tensorflow:Unresolved object in checkpoint: (root).model._box_predictor._base_tower_layers_for_heads.box_encodings.0.4.moving_variance\n",
            "W0123 10:12:25.274779 140147278681984 util.py:161] Unresolved object in checkpoint: (root).model._box_predictor._base_tower_layers_for_heads.box_encodings.0.4.moving_variance\n",
            "WARNING:tensorflow:Unresolved object in checkpoint: (root).model._box_predictor._base_tower_layers_for_heads.box_encodings.0.7.axis\n",
            "W0123 10:12:25.274864 140147278681984 util.py:161] Unresolved object in checkpoint: (root).model._box_predictor._base_tower_layers_for_heads.box_encodings.0.7.axis\n",
            "WARNING:tensorflow:Unresolved object in checkpoint: (root).model._box_predictor._base_tower_layers_for_heads.box_encodings.0.7.gamma\n",
            "W0123 10:12:25.274949 140147278681984 util.py:161] Unresolved object in checkpoint: (root).model._box_predictor._base_tower_layers_for_heads.box_encodings.0.7.gamma\n",
            "WARNING:tensorflow:Unresolved object in checkpoint: (root).model._box_predictor._base_tower_layers_for_heads.box_encodings.0.7.beta\n",
            "W0123 10:12:25.275033 140147278681984 util.py:161] Unresolved object in checkpoint: (root).model._box_predictor._base_tower_layers_for_heads.box_encodings.0.7.beta\n",
            "WARNING:tensorflow:Unresolved object in checkpoint: (root).model._box_predictor._base_tower_layers_for_heads.box_encodings.0.7.moving_mean\n",
            "W0123 10:12:25.275140 140147278681984 util.py:161] Unresolved object in checkpoint: (root).model._box_predictor._base_tower_layers_for_heads.box_encodings.0.7.moving_mean\n",
            "WARNING:tensorflow:Unresolved object in checkpoint: (root).model._box_predictor._base_tower_layers_for_heads.box_encodings.0.7.moving_variance\n",
            "W0123 10:12:25.275229 140147278681984 util.py:161] Unresolved object in checkpoint: (root).model._box_predictor._base_tower_layers_for_heads.box_encodings.0.7.moving_variance\n",
            "WARNING:tensorflow:Unresolved object in checkpoint: (root).model._box_predictor._base_tower_layers_for_heads.box_encodings.1.1.axis\n",
            "W0123 10:12:25.275313 140147278681984 util.py:161] Unresolved object in checkpoint: (root).model._box_predictor._base_tower_layers_for_heads.box_encodings.1.1.axis\n",
            "WARNING:tensorflow:Unresolved object in checkpoint: (root).model._box_predictor._base_tower_layers_for_heads.box_encodings.1.1.gamma\n",
            "W0123 10:12:25.275397 140147278681984 util.py:161] Unresolved object in checkpoint: (root).model._box_predictor._base_tower_layers_for_heads.box_encodings.1.1.gamma\n",
            "WARNING:tensorflow:Unresolved object in checkpoint: (root).model._box_predictor._base_tower_layers_for_heads.box_encodings.1.1.beta\n",
            "W0123 10:12:25.275480 140147278681984 util.py:161] Unresolved object in checkpoint: (root).model._box_predictor._base_tower_layers_for_heads.box_encodings.1.1.beta\n",
            "WARNING:tensorflow:Unresolved object in checkpoint: (root).model._box_predictor._base_tower_layers_for_heads.box_encodings.1.1.moving_mean\n",
            "W0123 10:12:25.275562 140147278681984 util.py:161] Unresolved object in checkpoint: (root).model._box_predictor._base_tower_layers_for_heads.box_encodings.1.1.moving_mean\n",
            "WARNING:tensorflow:Unresolved object in checkpoint: (root).model._box_predictor._base_tower_layers_for_heads.box_encodings.1.1.moving_variance\n",
            "W0123 10:12:25.275663 140147278681984 util.py:161] Unresolved object in checkpoint: (root).model._box_predictor._base_tower_layers_for_heads.box_encodings.1.1.moving_variance\n",
            "WARNING:tensorflow:Unresolved object in checkpoint: (root).model._box_predictor._base_tower_layers_for_heads.box_encodings.1.4.axis\n",
            "W0123 10:12:25.275749 140147278681984 util.py:161] Unresolved object in checkpoint: (root).model._box_predictor._base_tower_layers_for_heads.box_encodings.1.4.axis\n",
            "WARNING:tensorflow:Unresolved object in checkpoint: (root).model._box_predictor._base_tower_layers_for_heads.box_encodings.1.4.gamma\n",
            "W0123 10:12:25.275833 140147278681984 util.py:161] Unresolved object in checkpoint: (root).model._box_predictor._base_tower_layers_for_heads.box_encodings.1.4.gamma\n",
            "WARNING:tensorflow:Unresolved object in checkpoint: (root).model._box_predictor._base_tower_layers_for_heads.box_encodings.1.4.beta\n",
            "W0123 10:12:25.275918 140147278681984 util.py:161] Unresolved object in checkpoint: (root).model._box_predictor._base_tower_layers_for_heads.box_encodings.1.4.beta\n",
            "WARNING:tensorflow:Unresolved object in checkpoint: (root).model._box_predictor._base_tower_layers_for_heads.box_encodings.1.4.moving_mean\n",
            "W0123 10:12:25.276004 140147278681984 util.py:161] Unresolved object in checkpoint: (root).model._box_predictor._base_tower_layers_for_heads.box_encodings.1.4.moving_mean\n",
            "WARNING:tensorflow:Unresolved object in checkpoint: (root).model._box_predictor._base_tower_layers_for_heads.box_encodings.1.4.moving_variance\n",
            "W0123 10:12:25.276104 140147278681984 util.py:161] Unresolved object in checkpoint: (root).model._box_predictor._base_tower_layers_for_heads.box_encodings.1.4.moving_variance\n",
            "WARNING:tensorflow:Unresolved object in checkpoint: (root).model._box_predictor._base_tower_layers_for_heads.box_encodings.1.7.axis\n",
            "W0123 10:12:25.276194 140147278681984 util.py:161] Unresolved object in checkpoint: (root).model._box_predictor._base_tower_layers_for_heads.box_encodings.1.7.axis\n",
            "WARNING:tensorflow:Unresolved object in checkpoint: (root).model._box_predictor._base_tower_layers_for_heads.box_encodings.1.7.gamma\n",
            "W0123 10:12:25.276278 140147278681984 util.py:161] Unresolved object in checkpoint: (root).model._box_predictor._base_tower_layers_for_heads.box_encodings.1.7.gamma\n",
            "WARNING:tensorflow:Unresolved object in checkpoint: (root).model._box_predictor._base_tower_layers_for_heads.box_encodings.1.7.beta\n",
            "W0123 10:12:25.276364 140147278681984 util.py:161] Unresolved object in checkpoint: (root).model._box_predictor._base_tower_layers_for_heads.box_encodings.1.7.beta\n",
            "WARNING:tensorflow:Unresolved object in checkpoint: (root).model._box_predictor._base_tower_layers_for_heads.box_encodings.1.7.moving_mean\n",
            "W0123 10:12:25.276446 140147278681984 util.py:161] Unresolved object in checkpoint: (root).model._box_predictor._base_tower_layers_for_heads.box_encodings.1.7.moving_mean\n",
            "WARNING:tensorflow:Unresolved object in checkpoint: (root).model._box_predictor._base_tower_layers_for_heads.box_encodings.1.7.moving_variance\n",
            "W0123 10:12:25.276530 140147278681984 util.py:161] Unresolved object in checkpoint: (root).model._box_predictor._base_tower_layers_for_heads.box_encodings.1.7.moving_variance\n",
            "WARNING:tensorflow:Unresolved object in checkpoint: (root).model._box_predictor._base_tower_layers_for_heads.box_encodings.2.1.axis\n",
            "W0123 10:12:25.276625 140147278681984 util.py:161] Unresolved object in checkpoint: (root).model._box_predictor._base_tower_layers_for_heads.box_encodings.2.1.axis\n",
            "WARNING:tensorflow:Unresolved object in checkpoint: (root).model._box_predictor._base_tower_layers_for_heads.box_encodings.2.1.gamma\n",
            "W0123 10:12:25.276713 140147278681984 util.py:161] Unresolved object in checkpoint: (root).model._box_predictor._base_tower_layers_for_heads.box_encodings.2.1.gamma\n",
            "WARNING:tensorflow:Unresolved object in checkpoint: (root).model._box_predictor._base_tower_layers_for_heads.box_encodings.2.1.beta\n",
            "W0123 10:12:25.276797 140147278681984 util.py:161] Unresolved object in checkpoint: (root).model._box_predictor._base_tower_layers_for_heads.box_encodings.2.1.beta\n",
            "WARNING:tensorflow:Unresolved object in checkpoint: (root).model._box_predictor._base_tower_layers_for_heads.box_encodings.2.1.moving_mean\n",
            "W0123 10:12:25.276882 140147278681984 util.py:161] Unresolved object in checkpoint: (root).model._box_predictor._base_tower_layers_for_heads.box_encodings.2.1.moving_mean\n",
            "WARNING:tensorflow:Unresolved object in checkpoint: (root).model._box_predictor._base_tower_layers_for_heads.box_encodings.2.1.moving_variance\n",
            "W0123 10:12:25.276967 140147278681984 util.py:161] Unresolved object in checkpoint: (root).model._box_predictor._base_tower_layers_for_heads.box_encodings.2.1.moving_variance\n",
            "WARNING:tensorflow:Unresolved object in checkpoint: (root).model._box_predictor._base_tower_layers_for_heads.box_encodings.2.4.axis\n",
            "W0123 10:12:25.277064 140147278681984 util.py:161] Unresolved object in checkpoint: (root).model._box_predictor._base_tower_layers_for_heads.box_encodings.2.4.axis\n",
            "WARNING:tensorflow:Unresolved object in checkpoint: (root).model._box_predictor._base_tower_layers_for_heads.box_encodings.2.4.gamma\n",
            "W0123 10:12:25.277187 140147278681984 util.py:161] Unresolved object in checkpoint: (root).model._box_predictor._base_tower_layers_for_heads.box_encodings.2.4.gamma\n",
            "WARNING:tensorflow:Unresolved object in checkpoint: (root).model._box_predictor._base_tower_layers_for_heads.box_encodings.2.4.beta\n",
            "W0123 10:12:25.277292 140147278681984 util.py:161] Unresolved object in checkpoint: (root).model._box_predictor._base_tower_layers_for_heads.box_encodings.2.4.beta\n",
            "WARNING:tensorflow:Unresolved object in checkpoint: (root).model._box_predictor._base_tower_layers_for_heads.box_encodings.2.4.moving_mean\n",
            "W0123 10:12:25.277388 140147278681984 util.py:161] Unresolved object in checkpoint: (root).model._box_predictor._base_tower_layers_for_heads.box_encodings.2.4.moving_mean\n",
            "WARNING:tensorflow:Unresolved object in checkpoint: (root).model._box_predictor._base_tower_layers_for_heads.box_encodings.2.4.moving_variance\n",
            "W0123 10:12:25.277472 140147278681984 util.py:161] Unresolved object in checkpoint: (root).model._box_predictor._base_tower_layers_for_heads.box_encodings.2.4.moving_variance\n",
            "WARNING:tensorflow:Unresolved object in checkpoint: (root).model._box_predictor._base_tower_layers_for_heads.box_encodings.2.7.axis\n",
            "W0123 10:12:25.277556 140147278681984 util.py:161] Unresolved object in checkpoint: (root).model._box_predictor._base_tower_layers_for_heads.box_encodings.2.7.axis\n",
            "WARNING:tensorflow:Unresolved object in checkpoint: (root).model._box_predictor._base_tower_layers_for_heads.box_encodings.2.7.gamma\n",
            "W0123 10:12:25.277656 140147278681984 util.py:161] Unresolved object in checkpoint: (root).model._box_predictor._base_tower_layers_for_heads.box_encodings.2.7.gamma\n",
            "WARNING:tensorflow:Unresolved object in checkpoint: (root).model._box_predictor._base_tower_layers_for_heads.box_encodings.2.7.beta\n",
            "W0123 10:12:25.277743 140147278681984 util.py:161] Unresolved object in checkpoint: (root).model._box_predictor._base_tower_layers_for_heads.box_encodings.2.7.beta\n",
            "WARNING:tensorflow:Unresolved object in checkpoint: (root).model._box_predictor._base_tower_layers_for_heads.box_encodings.2.7.moving_mean\n",
            "W0123 10:12:25.277827 140147278681984 util.py:161] Unresolved object in checkpoint: (root).model._box_predictor._base_tower_layers_for_heads.box_encodings.2.7.moving_mean\n",
            "WARNING:tensorflow:Unresolved object in checkpoint: (root).model._box_predictor._base_tower_layers_for_heads.box_encodings.2.7.moving_variance\n",
            "W0123 10:12:25.277911 140147278681984 util.py:161] Unresolved object in checkpoint: (root).model._box_predictor._base_tower_layers_for_heads.box_encodings.2.7.moving_variance\n",
            "WARNING:tensorflow:Unresolved object in checkpoint: (root).model._box_predictor._base_tower_layers_for_heads.box_encodings.3.1.axis\n",
            "W0123 10:12:25.277994 140147278681984 util.py:161] Unresolved object in checkpoint: (root).model._box_predictor._base_tower_layers_for_heads.box_encodings.3.1.axis\n",
            "WARNING:tensorflow:Unresolved object in checkpoint: (root).model._box_predictor._base_tower_layers_for_heads.box_encodings.3.1.gamma\n",
            "W0123 10:12:25.278099 140147278681984 util.py:161] Unresolved object in checkpoint: (root).model._box_predictor._base_tower_layers_for_heads.box_encodings.3.1.gamma\n",
            "WARNING:tensorflow:Unresolved object in checkpoint: (root).model._box_predictor._base_tower_layers_for_heads.box_encodings.3.1.beta\n",
            "W0123 10:12:25.278224 140147278681984 util.py:161] Unresolved object in checkpoint: (root).model._box_predictor._base_tower_layers_for_heads.box_encodings.3.1.beta\n",
            "WARNING:tensorflow:Unresolved object in checkpoint: (root).model._box_predictor._base_tower_layers_for_heads.box_encodings.3.1.moving_mean\n",
            "W0123 10:12:25.278308 140147278681984 util.py:161] Unresolved object in checkpoint: (root).model._box_predictor._base_tower_layers_for_heads.box_encodings.3.1.moving_mean\n",
            "WARNING:tensorflow:Unresolved object in checkpoint: (root).model._box_predictor._base_tower_layers_for_heads.box_encodings.3.1.moving_variance\n",
            "W0123 10:12:25.278393 140147278681984 util.py:161] Unresolved object in checkpoint: (root).model._box_predictor._base_tower_layers_for_heads.box_encodings.3.1.moving_variance\n",
            "WARNING:tensorflow:Unresolved object in checkpoint: (root).model._box_predictor._base_tower_layers_for_heads.box_encodings.3.4.axis\n",
            "W0123 10:12:25.278476 140147278681984 util.py:161] Unresolved object in checkpoint: (root).model._box_predictor._base_tower_layers_for_heads.box_encodings.3.4.axis\n",
            "WARNING:tensorflow:Unresolved object in checkpoint: (root).model._box_predictor._base_tower_layers_for_heads.box_encodings.3.4.gamma\n",
            "W0123 10:12:25.278560 140147278681984 util.py:161] Unresolved object in checkpoint: (root).model._box_predictor._base_tower_layers_for_heads.box_encodings.3.4.gamma\n",
            "WARNING:tensorflow:Unresolved object in checkpoint: (root).model._box_predictor._base_tower_layers_for_heads.box_encodings.3.4.beta\n",
            "W0123 10:12:25.278659 140147278681984 util.py:161] Unresolved object in checkpoint: (root).model._box_predictor._base_tower_layers_for_heads.box_encodings.3.4.beta\n",
            "WARNING:tensorflow:Unresolved object in checkpoint: (root).model._box_predictor._base_tower_layers_for_heads.box_encodings.3.4.moving_mean\n",
            "W0123 10:12:25.278746 140147278681984 util.py:161] Unresolved object in checkpoint: (root).model._box_predictor._base_tower_layers_for_heads.box_encodings.3.4.moving_mean\n",
            "WARNING:tensorflow:Unresolved object in checkpoint: (root).model._box_predictor._base_tower_layers_for_heads.box_encodings.3.4.moving_variance\n",
            "W0123 10:12:25.278832 140147278681984 util.py:161] Unresolved object in checkpoint: (root).model._box_predictor._base_tower_layers_for_heads.box_encodings.3.4.moving_variance\n",
            "WARNING:tensorflow:Unresolved object in checkpoint: (root).model._box_predictor._base_tower_layers_for_heads.box_encodings.3.7.axis\n",
            "W0123 10:12:25.278916 140147278681984 util.py:161] Unresolved object in checkpoint: (root).model._box_predictor._base_tower_layers_for_heads.box_encodings.3.7.axis\n",
            "WARNING:tensorflow:Unresolved object in checkpoint: (root).model._box_predictor._base_tower_layers_for_heads.box_encodings.3.7.gamma\n",
            "W0123 10:12:25.278999 140147278681984 util.py:161] Unresolved object in checkpoint: (root).model._box_predictor._base_tower_layers_for_heads.box_encodings.3.7.gamma\n",
            "WARNING:tensorflow:Unresolved object in checkpoint: (root).model._box_predictor._base_tower_layers_for_heads.box_encodings.3.7.beta\n",
            "W0123 10:12:25.279102 140147278681984 util.py:161] Unresolved object in checkpoint: (root).model._box_predictor._base_tower_layers_for_heads.box_encodings.3.7.beta\n",
            "WARNING:tensorflow:Unresolved object in checkpoint: (root).model._box_predictor._base_tower_layers_for_heads.box_encodings.3.7.moving_mean\n",
            "W0123 10:12:25.279192 140147278681984 util.py:161] Unresolved object in checkpoint: (root).model._box_predictor._base_tower_layers_for_heads.box_encodings.3.7.moving_mean\n",
            "WARNING:tensorflow:Unresolved object in checkpoint: (root).model._box_predictor._base_tower_layers_for_heads.box_encodings.3.7.moving_variance\n",
            "W0123 10:12:25.279275 140147278681984 util.py:161] Unresolved object in checkpoint: (root).model._box_predictor._base_tower_layers_for_heads.box_encodings.3.7.moving_variance\n",
            "WARNING:tensorflow:Unresolved object in checkpoint: (root).model._box_predictor._base_tower_layers_for_heads.box_encodings.4.1.axis\n",
            "W0123 10:12:25.279360 140147278681984 util.py:161] Unresolved object in checkpoint: (root).model._box_predictor._base_tower_layers_for_heads.box_encodings.4.1.axis\n",
            "WARNING:tensorflow:Unresolved object in checkpoint: (root).model._box_predictor._base_tower_layers_for_heads.box_encodings.4.1.gamma\n",
            "W0123 10:12:25.279442 140147278681984 util.py:161] Unresolved object in checkpoint: (root).model._box_predictor._base_tower_layers_for_heads.box_encodings.4.1.gamma\n",
            "WARNING:tensorflow:Unresolved object in checkpoint: (root).model._box_predictor._base_tower_layers_for_heads.box_encodings.4.1.beta\n",
            "W0123 10:12:25.279526 140147278681984 util.py:161] Unresolved object in checkpoint: (root).model._box_predictor._base_tower_layers_for_heads.box_encodings.4.1.beta\n",
            "WARNING:tensorflow:Unresolved object in checkpoint: (root).model._box_predictor._base_tower_layers_for_heads.box_encodings.4.1.moving_mean\n",
            "W0123 10:12:25.279621 140147278681984 util.py:161] Unresolved object in checkpoint: (root).model._box_predictor._base_tower_layers_for_heads.box_encodings.4.1.moving_mean\n",
            "WARNING:tensorflow:Unresolved object in checkpoint: (root).model._box_predictor._base_tower_layers_for_heads.box_encodings.4.1.moving_variance\n",
            "W0123 10:12:25.279711 140147278681984 util.py:161] Unresolved object in checkpoint: (root).model._box_predictor._base_tower_layers_for_heads.box_encodings.4.1.moving_variance\n",
            "WARNING:tensorflow:Unresolved object in checkpoint: (root).model._box_predictor._base_tower_layers_for_heads.box_encodings.4.4.axis\n",
            "W0123 10:12:25.279795 140147278681984 util.py:161] Unresolved object in checkpoint: (root).model._box_predictor._base_tower_layers_for_heads.box_encodings.4.4.axis\n",
            "WARNING:tensorflow:Unresolved object in checkpoint: (root).model._box_predictor._base_tower_layers_for_heads.box_encodings.4.4.gamma\n",
            "W0123 10:12:25.279880 140147278681984 util.py:161] Unresolved object in checkpoint: (root).model._box_predictor._base_tower_layers_for_heads.box_encodings.4.4.gamma\n",
            "WARNING:tensorflow:Unresolved object in checkpoint: (root).model._box_predictor._base_tower_layers_for_heads.box_encodings.4.4.beta\n",
            "W0123 10:12:25.279963 140147278681984 util.py:161] Unresolved object in checkpoint: (root).model._box_predictor._base_tower_layers_for_heads.box_encodings.4.4.beta\n",
            "WARNING:tensorflow:Unresolved object in checkpoint: (root).model._box_predictor._base_tower_layers_for_heads.box_encodings.4.4.moving_mean\n",
            "W0123 10:12:25.280047 140147278681984 util.py:161] Unresolved object in checkpoint: (root).model._box_predictor._base_tower_layers_for_heads.box_encodings.4.4.moving_mean\n",
            "WARNING:tensorflow:Unresolved object in checkpoint: (root).model._box_predictor._base_tower_layers_for_heads.box_encodings.4.4.moving_variance\n",
            "W0123 10:12:25.280153 140147278681984 util.py:161] Unresolved object in checkpoint: (root).model._box_predictor._base_tower_layers_for_heads.box_encodings.4.4.moving_variance\n",
            "WARNING:tensorflow:Unresolved object in checkpoint: (root).model._box_predictor._base_tower_layers_for_heads.box_encodings.4.7.axis\n",
            "W0123 10:12:25.280257 140147278681984 util.py:161] Unresolved object in checkpoint: (root).model._box_predictor._base_tower_layers_for_heads.box_encodings.4.7.axis\n",
            "WARNING:tensorflow:Unresolved object in checkpoint: (root).model._box_predictor._base_tower_layers_for_heads.box_encodings.4.7.gamma\n",
            "W0123 10:12:25.280343 140147278681984 util.py:161] Unresolved object in checkpoint: (root).model._box_predictor._base_tower_layers_for_heads.box_encodings.4.7.gamma\n",
            "WARNING:tensorflow:Unresolved object in checkpoint: (root).model._box_predictor._base_tower_layers_for_heads.box_encodings.4.7.beta\n",
            "W0123 10:12:25.280426 140147278681984 util.py:161] Unresolved object in checkpoint: (root).model._box_predictor._base_tower_layers_for_heads.box_encodings.4.7.beta\n",
            "WARNING:tensorflow:Unresolved object in checkpoint: (root).model._box_predictor._base_tower_layers_for_heads.box_encodings.4.7.moving_mean\n",
            "W0123 10:12:25.280511 140147278681984 util.py:161] Unresolved object in checkpoint: (root).model._box_predictor._base_tower_layers_for_heads.box_encodings.4.7.moving_mean\n",
            "WARNING:tensorflow:Unresolved object in checkpoint: (root).model._box_predictor._base_tower_layers_for_heads.box_encodings.4.7.moving_variance\n",
            "W0123 10:12:25.280596 140147278681984 util.py:161] Unresolved object in checkpoint: (root).model._box_predictor._base_tower_layers_for_heads.box_encodings.4.7.moving_variance\n",
            "WARNING:tensorflow:Unresolved object in checkpoint: (root).model._box_predictor._base_tower_layers_for_heads.class_predictions_with_background.0.1.axis\n",
            "W0123 10:12:25.280697 140147278681984 util.py:161] Unresolved object in checkpoint: (root).model._box_predictor._base_tower_layers_for_heads.class_predictions_with_background.0.1.axis\n",
            "WARNING:tensorflow:Unresolved object in checkpoint: (root).model._box_predictor._base_tower_layers_for_heads.class_predictions_with_background.0.1.gamma\n",
            "W0123 10:12:25.280781 140147278681984 util.py:161] Unresolved object in checkpoint: (root).model._box_predictor._base_tower_layers_for_heads.class_predictions_with_background.0.1.gamma\n",
            "WARNING:tensorflow:Unresolved object in checkpoint: (root).model._box_predictor._base_tower_layers_for_heads.class_predictions_with_background.0.1.beta\n",
            "W0123 10:12:25.280868 140147278681984 util.py:161] Unresolved object in checkpoint: (root).model._box_predictor._base_tower_layers_for_heads.class_predictions_with_background.0.1.beta\n",
            "WARNING:tensorflow:Unresolved object in checkpoint: (root).model._box_predictor._base_tower_layers_for_heads.class_predictions_with_background.0.1.moving_mean\n",
            "W0123 10:12:25.280954 140147278681984 util.py:161] Unresolved object in checkpoint: (root).model._box_predictor._base_tower_layers_for_heads.class_predictions_with_background.0.1.moving_mean\n",
            "WARNING:tensorflow:Unresolved object in checkpoint: (root).model._box_predictor._base_tower_layers_for_heads.class_predictions_with_background.0.1.moving_variance\n",
            "W0123 10:12:25.281039 140147278681984 util.py:161] Unresolved object in checkpoint: (root).model._box_predictor._base_tower_layers_for_heads.class_predictions_with_background.0.1.moving_variance\n",
            "WARNING:tensorflow:Unresolved object in checkpoint: (root).model._box_predictor._base_tower_layers_for_heads.class_predictions_with_background.0.4.axis\n",
            "W0123 10:12:25.281146 140147278681984 util.py:161] Unresolved object in checkpoint: (root).model._box_predictor._base_tower_layers_for_heads.class_predictions_with_background.0.4.axis\n",
            "WARNING:tensorflow:Unresolved object in checkpoint: (root).model._box_predictor._base_tower_layers_for_heads.class_predictions_with_background.0.4.gamma\n",
            "W0123 10:12:25.281232 140147278681984 util.py:161] Unresolved object in checkpoint: (root).model._box_predictor._base_tower_layers_for_heads.class_predictions_with_background.0.4.gamma\n",
            "WARNING:tensorflow:Unresolved object in checkpoint: (root).model._box_predictor._base_tower_layers_for_heads.class_predictions_with_background.0.4.beta\n",
            "W0123 10:12:25.281317 140147278681984 util.py:161] Unresolved object in checkpoint: (root).model._box_predictor._base_tower_layers_for_heads.class_predictions_with_background.0.4.beta\n",
            "WARNING:tensorflow:Unresolved object in checkpoint: (root).model._box_predictor._base_tower_layers_for_heads.class_predictions_with_background.0.4.moving_mean\n",
            "W0123 10:12:25.281401 140147278681984 util.py:161] Unresolved object in checkpoint: (root).model._box_predictor._base_tower_layers_for_heads.class_predictions_with_background.0.4.moving_mean\n",
            "WARNING:tensorflow:Unresolved object in checkpoint: (root).model._box_predictor._base_tower_layers_for_heads.class_predictions_with_background.0.4.moving_variance\n",
            "W0123 10:12:25.281485 140147278681984 util.py:161] Unresolved object in checkpoint: (root).model._box_predictor._base_tower_layers_for_heads.class_predictions_with_background.0.4.moving_variance\n",
            "WARNING:tensorflow:Unresolved object in checkpoint: (root).model._box_predictor._base_tower_layers_for_heads.class_predictions_with_background.0.7.axis\n",
            "W0123 10:12:25.281589 140147278681984 util.py:161] Unresolved object in checkpoint: (root).model._box_predictor._base_tower_layers_for_heads.class_predictions_with_background.0.7.axis\n",
            "WARNING:tensorflow:Unresolved object in checkpoint: (root).model._box_predictor._base_tower_layers_for_heads.class_predictions_with_background.0.7.gamma\n",
            "W0123 10:12:25.281708 140147278681984 util.py:161] Unresolved object in checkpoint: (root).model._box_predictor._base_tower_layers_for_heads.class_predictions_with_background.0.7.gamma\n",
            "WARNING:tensorflow:Unresolved object in checkpoint: (root).model._box_predictor._base_tower_layers_for_heads.class_predictions_with_background.0.7.beta\n",
            "W0123 10:12:25.281793 140147278681984 util.py:161] Unresolved object in checkpoint: (root).model._box_predictor._base_tower_layers_for_heads.class_predictions_with_background.0.7.beta\n",
            "WARNING:tensorflow:Unresolved object in checkpoint: (root).model._box_predictor._base_tower_layers_for_heads.class_predictions_with_background.0.7.moving_mean\n",
            "W0123 10:12:25.281878 140147278681984 util.py:161] Unresolved object in checkpoint: (root).model._box_predictor._base_tower_layers_for_heads.class_predictions_with_background.0.7.moving_mean\n",
            "WARNING:tensorflow:Unresolved object in checkpoint: (root).model._box_predictor._base_tower_layers_for_heads.class_predictions_with_background.0.7.moving_variance\n",
            "W0123 10:12:25.281965 140147278681984 util.py:161] Unresolved object in checkpoint: (root).model._box_predictor._base_tower_layers_for_heads.class_predictions_with_background.0.7.moving_variance\n",
            "WARNING:tensorflow:Unresolved object in checkpoint: (root).model._box_predictor._base_tower_layers_for_heads.class_predictions_with_background.1.1.axis\n",
            "W0123 10:12:25.282050 140147278681984 util.py:161] Unresolved object in checkpoint: (root).model._box_predictor._base_tower_layers_for_heads.class_predictions_with_background.1.1.axis\n",
            "WARNING:tensorflow:Unresolved object in checkpoint: (root).model._box_predictor._base_tower_layers_for_heads.class_predictions_with_background.1.1.gamma\n",
            "W0123 10:12:25.282160 140147278681984 util.py:161] Unresolved object in checkpoint: (root).model._box_predictor._base_tower_layers_for_heads.class_predictions_with_background.1.1.gamma\n",
            "WARNING:tensorflow:Unresolved object in checkpoint: (root).model._box_predictor._base_tower_layers_for_heads.class_predictions_with_background.1.1.beta\n",
            "W0123 10:12:25.282246 140147278681984 util.py:161] Unresolved object in checkpoint: (root).model._box_predictor._base_tower_layers_for_heads.class_predictions_with_background.1.1.beta\n",
            "WARNING:tensorflow:Unresolved object in checkpoint: (root).model._box_predictor._base_tower_layers_for_heads.class_predictions_with_background.1.1.moving_mean\n",
            "W0123 10:12:25.282332 140147278681984 util.py:161] Unresolved object in checkpoint: (root).model._box_predictor._base_tower_layers_for_heads.class_predictions_with_background.1.1.moving_mean\n",
            "WARNING:tensorflow:Unresolved object in checkpoint: (root).model._box_predictor._base_tower_layers_for_heads.class_predictions_with_background.1.1.moving_variance\n",
            "W0123 10:12:25.282416 140147278681984 util.py:161] Unresolved object in checkpoint: (root).model._box_predictor._base_tower_layers_for_heads.class_predictions_with_background.1.1.moving_variance\n",
            "WARNING:tensorflow:Unresolved object in checkpoint: (root).model._box_predictor._base_tower_layers_for_heads.class_predictions_with_background.1.4.axis\n",
            "W0123 10:12:25.282501 140147278681984 util.py:161] Unresolved object in checkpoint: (root).model._box_predictor._base_tower_layers_for_heads.class_predictions_with_background.1.4.axis\n",
            "WARNING:tensorflow:Unresolved object in checkpoint: (root).model._box_predictor._base_tower_layers_for_heads.class_predictions_with_background.1.4.gamma\n",
            "W0123 10:12:25.282586 140147278681984 util.py:161] Unresolved object in checkpoint: (root).model._box_predictor._base_tower_layers_for_heads.class_predictions_with_background.1.4.gamma\n",
            "WARNING:tensorflow:Unresolved object in checkpoint: (root).model._box_predictor._base_tower_layers_for_heads.class_predictions_with_background.1.4.beta\n",
            "W0123 10:12:25.282687 140147278681984 util.py:161] Unresolved object in checkpoint: (root).model._box_predictor._base_tower_layers_for_heads.class_predictions_with_background.1.4.beta\n",
            "WARNING:tensorflow:Unresolved object in checkpoint: (root).model._box_predictor._base_tower_layers_for_heads.class_predictions_with_background.1.4.moving_mean\n",
            "W0123 10:12:25.282773 140147278681984 util.py:161] Unresolved object in checkpoint: (root).model._box_predictor._base_tower_layers_for_heads.class_predictions_with_background.1.4.moving_mean\n",
            "WARNING:tensorflow:Unresolved object in checkpoint: (root).model._box_predictor._base_tower_layers_for_heads.class_predictions_with_background.1.4.moving_variance\n",
            "W0123 10:12:25.282857 140147278681984 util.py:161] Unresolved object in checkpoint: (root).model._box_predictor._base_tower_layers_for_heads.class_predictions_with_background.1.4.moving_variance\n",
            "WARNING:tensorflow:Unresolved object in checkpoint: (root).model._box_predictor._base_tower_layers_for_heads.class_predictions_with_background.1.7.axis\n",
            "W0123 10:12:25.282942 140147278681984 util.py:161] Unresolved object in checkpoint: (root).model._box_predictor._base_tower_layers_for_heads.class_predictions_with_background.1.7.axis\n",
            "WARNING:tensorflow:Unresolved object in checkpoint: (root).model._box_predictor._base_tower_layers_for_heads.class_predictions_with_background.1.7.gamma\n",
            "W0123 10:12:25.283025 140147278681984 util.py:161] Unresolved object in checkpoint: (root).model._box_predictor._base_tower_layers_for_heads.class_predictions_with_background.1.7.gamma\n",
            "WARNING:tensorflow:Unresolved object in checkpoint: (root).model._box_predictor._base_tower_layers_for_heads.class_predictions_with_background.1.7.beta\n",
            "W0123 10:12:25.283129 140147278681984 util.py:161] Unresolved object in checkpoint: (root).model._box_predictor._base_tower_layers_for_heads.class_predictions_with_background.1.7.beta\n",
            "WARNING:tensorflow:Unresolved object in checkpoint: (root).model._box_predictor._base_tower_layers_for_heads.class_predictions_with_background.1.7.moving_mean\n",
            "W0123 10:12:25.283216 140147278681984 util.py:161] Unresolved object in checkpoint: (root).model._box_predictor._base_tower_layers_for_heads.class_predictions_with_background.1.7.moving_mean\n",
            "WARNING:tensorflow:Unresolved object in checkpoint: (root).model._box_predictor._base_tower_layers_for_heads.class_predictions_with_background.1.7.moving_variance\n",
            "W0123 10:12:25.283299 140147278681984 util.py:161] Unresolved object in checkpoint: (root).model._box_predictor._base_tower_layers_for_heads.class_predictions_with_background.1.7.moving_variance\n",
            "WARNING:tensorflow:Unresolved object in checkpoint: (root).model._box_predictor._base_tower_layers_for_heads.class_predictions_with_background.2.1.axis\n",
            "W0123 10:12:25.283381 140147278681984 util.py:161] Unresolved object in checkpoint: (root).model._box_predictor._base_tower_layers_for_heads.class_predictions_with_background.2.1.axis\n",
            "WARNING:tensorflow:Unresolved object in checkpoint: (root).model._box_predictor._base_tower_layers_for_heads.class_predictions_with_background.2.1.gamma\n",
            "W0123 10:12:25.283464 140147278681984 util.py:161] Unresolved object in checkpoint: (root).model._box_predictor._base_tower_layers_for_heads.class_predictions_with_background.2.1.gamma\n",
            "WARNING:tensorflow:Unresolved object in checkpoint: (root).model._box_predictor._base_tower_layers_for_heads.class_predictions_with_background.2.1.beta\n",
            "W0123 10:12:25.283547 140147278681984 util.py:161] Unresolved object in checkpoint: (root).model._box_predictor._base_tower_layers_for_heads.class_predictions_with_background.2.1.beta\n",
            "WARNING:tensorflow:Unresolved object in checkpoint: (root).model._box_predictor._base_tower_layers_for_heads.class_predictions_with_background.2.1.moving_mean\n",
            "W0123 10:12:25.283642 140147278681984 util.py:161] Unresolved object in checkpoint: (root).model._box_predictor._base_tower_layers_for_heads.class_predictions_with_background.2.1.moving_mean\n",
            "WARNING:tensorflow:Unresolved object in checkpoint: (root).model._box_predictor._base_tower_layers_for_heads.class_predictions_with_background.2.1.moving_variance\n",
            "W0123 10:12:25.283730 140147278681984 util.py:161] Unresolved object in checkpoint: (root).model._box_predictor._base_tower_layers_for_heads.class_predictions_with_background.2.1.moving_variance\n",
            "WARNING:tensorflow:Unresolved object in checkpoint: (root).model._box_predictor._base_tower_layers_for_heads.class_predictions_with_background.2.4.axis\n",
            "W0123 10:12:25.283815 140147278681984 util.py:161] Unresolved object in checkpoint: (root).model._box_predictor._base_tower_layers_for_heads.class_predictions_with_background.2.4.axis\n",
            "WARNING:tensorflow:Unresolved object in checkpoint: (root).model._box_predictor._base_tower_layers_for_heads.class_predictions_with_background.2.4.gamma\n",
            "W0123 10:12:25.283899 140147278681984 util.py:161] Unresolved object in checkpoint: (root).model._box_predictor._base_tower_layers_for_heads.class_predictions_with_background.2.4.gamma\n",
            "WARNING:tensorflow:Unresolved object in checkpoint: (root).model._box_predictor._base_tower_layers_for_heads.class_predictions_with_background.2.4.beta\n",
            "W0123 10:12:25.283982 140147278681984 util.py:161] Unresolved object in checkpoint: (root).model._box_predictor._base_tower_layers_for_heads.class_predictions_with_background.2.4.beta\n",
            "WARNING:tensorflow:Unresolved object in checkpoint: (root).model._box_predictor._base_tower_layers_for_heads.class_predictions_with_background.2.4.moving_mean\n",
            "W0123 10:12:25.284082 140147278681984 util.py:161] Unresolved object in checkpoint: (root).model._box_predictor._base_tower_layers_for_heads.class_predictions_with_background.2.4.moving_mean\n",
            "WARNING:tensorflow:Unresolved object in checkpoint: (root).model._box_predictor._base_tower_layers_for_heads.class_predictions_with_background.2.4.moving_variance\n",
            "W0123 10:12:25.284173 140147278681984 util.py:161] Unresolved object in checkpoint: (root).model._box_predictor._base_tower_layers_for_heads.class_predictions_with_background.2.4.moving_variance\n",
            "WARNING:tensorflow:Unresolved object in checkpoint: (root).model._box_predictor._base_tower_layers_for_heads.class_predictions_with_background.2.7.axis\n",
            "W0123 10:12:25.284258 140147278681984 util.py:161] Unresolved object in checkpoint: (root).model._box_predictor._base_tower_layers_for_heads.class_predictions_with_background.2.7.axis\n",
            "WARNING:tensorflow:Unresolved object in checkpoint: (root).model._box_predictor._base_tower_layers_for_heads.class_predictions_with_background.2.7.gamma\n",
            "W0123 10:12:25.284343 140147278681984 util.py:161] Unresolved object in checkpoint: (root).model._box_predictor._base_tower_layers_for_heads.class_predictions_with_background.2.7.gamma\n",
            "WARNING:tensorflow:Unresolved object in checkpoint: (root).model._box_predictor._base_tower_layers_for_heads.class_predictions_with_background.2.7.beta\n",
            "W0123 10:12:25.284426 140147278681984 util.py:161] Unresolved object in checkpoint: (root).model._box_predictor._base_tower_layers_for_heads.class_predictions_with_background.2.7.beta\n",
            "WARNING:tensorflow:Unresolved object in checkpoint: (root).model._box_predictor._base_tower_layers_for_heads.class_predictions_with_background.2.7.moving_mean\n",
            "W0123 10:12:25.284510 140147278681984 util.py:161] Unresolved object in checkpoint: (root).model._box_predictor._base_tower_layers_for_heads.class_predictions_with_background.2.7.moving_mean\n",
            "WARNING:tensorflow:Unresolved object in checkpoint: (root).model._box_predictor._base_tower_layers_for_heads.class_predictions_with_background.2.7.moving_variance\n",
            "W0123 10:12:25.284593 140147278681984 util.py:161] Unresolved object in checkpoint: (root).model._box_predictor._base_tower_layers_for_heads.class_predictions_with_background.2.7.moving_variance\n",
            "WARNING:tensorflow:Unresolved object in checkpoint: (root).model._box_predictor._base_tower_layers_for_heads.class_predictions_with_background.3.1.axis\n",
            "W0123 10:12:25.284693 140147278681984 util.py:161] Unresolved object in checkpoint: (root).model._box_predictor._base_tower_layers_for_heads.class_predictions_with_background.3.1.axis\n",
            "WARNING:tensorflow:Unresolved object in checkpoint: (root).model._box_predictor._base_tower_layers_for_heads.class_predictions_with_background.3.1.gamma\n",
            "W0123 10:12:25.284778 140147278681984 util.py:161] Unresolved object in checkpoint: (root).model._box_predictor._base_tower_layers_for_heads.class_predictions_with_background.3.1.gamma\n",
            "WARNING:tensorflow:Unresolved object in checkpoint: (root).model._box_predictor._base_tower_layers_for_heads.class_predictions_with_background.3.1.beta\n",
            "W0123 10:12:25.284862 140147278681984 util.py:161] Unresolved object in checkpoint: (root).model._box_predictor._base_tower_layers_for_heads.class_predictions_with_background.3.1.beta\n",
            "WARNING:tensorflow:Unresolved object in checkpoint: (root).model._box_predictor._base_tower_layers_for_heads.class_predictions_with_background.3.1.moving_mean\n",
            "W0123 10:12:25.284946 140147278681984 util.py:161] Unresolved object in checkpoint: (root).model._box_predictor._base_tower_layers_for_heads.class_predictions_with_background.3.1.moving_mean\n",
            "WARNING:tensorflow:Unresolved object in checkpoint: (root).model._box_predictor._base_tower_layers_for_heads.class_predictions_with_background.3.1.moving_variance\n",
            "W0123 10:12:25.285030 140147278681984 util.py:161] Unresolved object in checkpoint: (root).model._box_predictor._base_tower_layers_for_heads.class_predictions_with_background.3.1.moving_variance\n",
            "WARNING:tensorflow:Unresolved object in checkpoint: (root).model._box_predictor._base_tower_layers_for_heads.class_predictions_with_background.3.4.axis\n",
            "W0123 10:12:25.285137 140147278681984 util.py:161] Unresolved object in checkpoint: (root).model._box_predictor._base_tower_layers_for_heads.class_predictions_with_background.3.4.axis\n",
            "WARNING:tensorflow:Unresolved object in checkpoint: (root).model._box_predictor._base_tower_layers_for_heads.class_predictions_with_background.3.4.gamma\n",
            "W0123 10:12:25.285224 140147278681984 util.py:161] Unresolved object in checkpoint: (root).model._box_predictor._base_tower_layers_for_heads.class_predictions_with_background.3.4.gamma\n",
            "WARNING:tensorflow:Unresolved object in checkpoint: (root).model._box_predictor._base_tower_layers_for_heads.class_predictions_with_background.3.4.beta\n",
            "W0123 10:12:25.285308 140147278681984 util.py:161] Unresolved object in checkpoint: (root).model._box_predictor._base_tower_layers_for_heads.class_predictions_with_background.3.4.beta\n",
            "WARNING:tensorflow:Unresolved object in checkpoint: (root).model._box_predictor._base_tower_layers_for_heads.class_predictions_with_background.3.4.moving_mean\n",
            "W0123 10:12:25.285390 140147278681984 util.py:161] Unresolved object in checkpoint: (root).model._box_predictor._base_tower_layers_for_heads.class_predictions_with_background.3.4.moving_mean\n",
            "WARNING:tensorflow:Unresolved object in checkpoint: (root).model._box_predictor._base_tower_layers_for_heads.class_predictions_with_background.3.4.moving_variance\n",
            "W0123 10:12:25.285475 140147278681984 util.py:161] Unresolved object in checkpoint: (root).model._box_predictor._base_tower_layers_for_heads.class_predictions_with_background.3.4.moving_variance\n",
            "WARNING:tensorflow:Unresolved object in checkpoint: (root).model._box_predictor._base_tower_layers_for_heads.class_predictions_with_background.3.7.axis\n",
            "W0123 10:12:25.285560 140147278681984 util.py:161] Unresolved object in checkpoint: (root).model._box_predictor._base_tower_layers_for_heads.class_predictions_with_background.3.7.axis\n",
            "WARNING:tensorflow:Unresolved object in checkpoint: (root).model._box_predictor._base_tower_layers_for_heads.class_predictions_with_background.3.7.gamma\n",
            "W0123 10:12:25.285659 140147278681984 util.py:161] Unresolved object in checkpoint: (root).model._box_predictor._base_tower_layers_for_heads.class_predictions_with_background.3.7.gamma\n",
            "WARNING:tensorflow:Unresolved object in checkpoint: (root).model._box_predictor._base_tower_layers_for_heads.class_predictions_with_background.3.7.beta\n",
            "W0123 10:12:25.285747 140147278681984 util.py:161] Unresolved object in checkpoint: (root).model._box_predictor._base_tower_layers_for_heads.class_predictions_with_background.3.7.beta\n",
            "WARNING:tensorflow:Unresolved object in checkpoint: (root).model._box_predictor._base_tower_layers_for_heads.class_predictions_with_background.3.7.moving_mean\n",
            "W0123 10:12:25.285831 140147278681984 util.py:161] Unresolved object in checkpoint: (root).model._box_predictor._base_tower_layers_for_heads.class_predictions_with_background.3.7.moving_mean\n",
            "WARNING:tensorflow:Unresolved object in checkpoint: (root).model._box_predictor._base_tower_layers_for_heads.class_predictions_with_background.3.7.moving_variance\n",
            "W0123 10:12:25.285915 140147278681984 util.py:161] Unresolved object in checkpoint: (root).model._box_predictor._base_tower_layers_for_heads.class_predictions_with_background.3.7.moving_variance\n",
            "WARNING:tensorflow:Unresolved object in checkpoint: (root).model._box_predictor._base_tower_layers_for_heads.class_predictions_with_background.4.1.axis\n",
            "W0123 10:12:25.285998 140147278681984 util.py:161] Unresolved object in checkpoint: (root).model._box_predictor._base_tower_layers_for_heads.class_predictions_with_background.4.1.axis\n",
            "WARNING:tensorflow:Unresolved object in checkpoint: (root).model._box_predictor._base_tower_layers_for_heads.class_predictions_with_background.4.1.gamma\n",
            "W0123 10:12:25.286103 140147278681984 util.py:161] Unresolved object in checkpoint: (root).model._box_predictor._base_tower_layers_for_heads.class_predictions_with_background.4.1.gamma\n",
            "WARNING:tensorflow:Unresolved object in checkpoint: (root).model._box_predictor._base_tower_layers_for_heads.class_predictions_with_background.4.1.beta\n",
            "W0123 10:12:25.286191 140147278681984 util.py:161] Unresolved object in checkpoint: (root).model._box_predictor._base_tower_layers_for_heads.class_predictions_with_background.4.1.beta\n",
            "WARNING:tensorflow:Unresolved object in checkpoint: (root).model._box_predictor._base_tower_layers_for_heads.class_predictions_with_background.4.1.moving_mean\n",
            "W0123 10:12:25.286277 140147278681984 util.py:161] Unresolved object in checkpoint: (root).model._box_predictor._base_tower_layers_for_heads.class_predictions_with_background.4.1.moving_mean\n",
            "WARNING:tensorflow:Unresolved object in checkpoint: (root).model._box_predictor._base_tower_layers_for_heads.class_predictions_with_background.4.1.moving_variance\n",
            "W0123 10:12:25.286362 140147278681984 util.py:161] Unresolved object in checkpoint: (root).model._box_predictor._base_tower_layers_for_heads.class_predictions_with_background.4.1.moving_variance\n",
            "WARNING:tensorflow:Unresolved object in checkpoint: (root).model._box_predictor._base_tower_layers_for_heads.class_predictions_with_background.4.4.axis\n",
            "W0123 10:12:25.286446 140147278681984 util.py:161] Unresolved object in checkpoint: (root).model._box_predictor._base_tower_layers_for_heads.class_predictions_with_background.4.4.axis\n",
            "WARNING:tensorflow:Unresolved object in checkpoint: (root).model._box_predictor._base_tower_layers_for_heads.class_predictions_with_background.4.4.gamma\n",
            "W0123 10:12:25.286531 140147278681984 util.py:161] Unresolved object in checkpoint: (root).model._box_predictor._base_tower_layers_for_heads.class_predictions_with_background.4.4.gamma\n",
            "WARNING:tensorflow:Unresolved object in checkpoint: (root).model._box_predictor._base_tower_layers_for_heads.class_predictions_with_background.4.4.beta\n",
            "W0123 10:12:25.286627 140147278681984 util.py:161] Unresolved object in checkpoint: (root).model._box_predictor._base_tower_layers_for_heads.class_predictions_with_background.4.4.beta\n",
            "WARNING:tensorflow:Unresolved object in checkpoint: (root).model._box_predictor._base_tower_layers_for_heads.class_predictions_with_background.4.4.moving_mean\n",
            "W0123 10:12:25.286716 140147278681984 util.py:161] Unresolved object in checkpoint: (root).model._box_predictor._base_tower_layers_for_heads.class_predictions_with_background.4.4.moving_mean\n",
            "WARNING:tensorflow:Unresolved object in checkpoint: (root).model._box_predictor._base_tower_layers_for_heads.class_predictions_with_background.4.4.moving_variance\n",
            "W0123 10:12:25.286802 140147278681984 util.py:161] Unresolved object in checkpoint: (root).model._box_predictor._base_tower_layers_for_heads.class_predictions_with_background.4.4.moving_variance\n",
            "WARNING:tensorflow:Unresolved object in checkpoint: (root).model._box_predictor._base_tower_layers_for_heads.class_predictions_with_background.4.7.axis\n",
            "W0123 10:12:25.286887 140147278681984 util.py:161] Unresolved object in checkpoint: (root).model._box_predictor._base_tower_layers_for_heads.class_predictions_with_background.4.7.axis\n",
            "WARNING:tensorflow:Unresolved object in checkpoint: (root).model._box_predictor._base_tower_layers_for_heads.class_predictions_with_background.4.7.gamma\n",
            "W0123 10:12:25.286970 140147278681984 util.py:161] Unresolved object in checkpoint: (root).model._box_predictor._base_tower_layers_for_heads.class_predictions_with_background.4.7.gamma\n",
            "WARNING:tensorflow:Unresolved object in checkpoint: (root).model._box_predictor._base_tower_layers_for_heads.class_predictions_with_background.4.7.beta\n",
            "W0123 10:12:25.287070 140147278681984 util.py:161] Unresolved object in checkpoint: (root).model._box_predictor._base_tower_layers_for_heads.class_predictions_with_background.4.7.beta\n",
            "WARNING:tensorflow:Unresolved object in checkpoint: (root).model._box_predictor._base_tower_layers_for_heads.class_predictions_with_background.4.7.moving_mean\n",
            "W0123 10:12:25.287162 140147278681984 util.py:161] Unresolved object in checkpoint: (root).model._box_predictor._base_tower_layers_for_heads.class_predictions_with_background.4.7.moving_mean\n",
            "WARNING:tensorflow:Unresolved object in checkpoint: (root).model._box_predictor._base_tower_layers_for_heads.class_predictions_with_background.4.7.moving_variance\n",
            "W0123 10:12:25.287247 140147278681984 util.py:161] Unresolved object in checkpoint: (root).model._box_predictor._base_tower_layers_for_heads.class_predictions_with_background.4.7.moving_variance\n",
            "WARNING:tensorflow:A checkpoint was restored (e.g. tf.train.Checkpoint.restore or tf.keras.Model.load_weights) but not all checkpointed values were used. See above for specific issues. Use expect_partial() on the load status object, e.g. tf.train.Checkpoint.restore(...).expect_partial(), to silence these warnings, or use assert_consumed() to make the check explicit. See https://www.tensorflow.org/guide/checkpoint#loading_mechanics for details.\n",
            "W0123 10:12:25.287387 140147278681984 util.py:169] A checkpoint was restored (e.g. tf.train.Checkpoint.restore or tf.keras.Model.load_weights) but not all checkpointed values were used. See above for specific issues. Use expect_partial() on the load status object, e.g. tf.train.Checkpoint.restore(...).expect_partial(), to silence these warnings, or use assert_consumed() to make the check explicit. See https://www.tensorflow.org/guide/checkpoint#loading_mechanics for details.\n",
            "WARNING:tensorflow:Gradients do not exist for variables ['top_bn/gamma:0', 'top_bn/beta:0'] when minimizing the loss.\n",
            "W0123 10:12:33.940704 140144527861504 utils.py:83] Gradients do not exist for variables ['top_bn/gamma:0', 'top_bn/beta:0'] when minimizing the loss.\n",
            "WARNING:tensorflow:From /usr/local/lib/python3.6/dist-packages/tensorflow/python/util/deprecation.py:602: calling map_fn_v2 (from tensorflow.python.ops.map_fn) with dtype is deprecated and will be removed in a future version.\n",
            "Instructions for updating:\n",
            "Use fn_output_signature instead\n",
            "W0123 10:12:34.995674 140144527861504 deprecation.py:534] From /usr/local/lib/python3.6/dist-packages/tensorflow/python/util/deprecation.py:602: calling map_fn_v2 (from tensorflow.python.ops.map_fn) with dtype is deprecated and will be removed in a future version.\n",
            "Instructions for updating:\n",
            "Use fn_output_signature instead\n",
            "WARNING:tensorflow:Gradients do not exist for variables ['top_bn/gamma:0', 'top_bn/beta:0'] when minimizing the loss.\n",
            "W0123 10:12:44.637086 140144527861504 utils.py:83] Gradients do not exist for variables ['top_bn/gamma:0', 'top_bn/beta:0'] when minimizing the loss.\n",
            "INFO:tensorflow:Step 100 per-step time 10.132s loss=0.656\n",
            "I0123 10:29:52.772889 140147278681984 model_lib_v2.py:651] Step 100 per-step time 10.132s loss=0.656\n",
            "INFO:tensorflow:Step 200 per-step time 9.895s loss=0.405\n",
            "I0123 10:46:33.026401 140147278681984 model_lib_v2.py:651] Step 200 per-step time 9.895s loss=0.405\n",
            "INFO:tensorflow:Step 300 per-step time 9.775s loss=0.347\n",
            "I0123 11:02:55.214201 140147278681984 model_lib_v2.py:651] Step 300 per-step time 9.775s loss=0.347\n",
            "INFO:tensorflow:Step 400 per-step time 9.705s loss=0.347\n",
            "I0123 11:19:06.338009 140147278681984 model_lib_v2.py:651] Step 400 per-step time 9.705s loss=0.347\n",
            "INFO:tensorflow:Step 500 per-step time 9.835s loss=0.246\n",
            "I0123 11:35:26.683575 140147278681984 model_lib_v2.py:651] Step 500 per-step time 9.835s loss=0.246\n",
            "INFO:tensorflow:Step 600 per-step time 9.751s loss=0.279\n",
            "I0123 11:52:02.852967 140147278681984 model_lib_v2.py:651] Step 600 per-step time 9.751s loss=0.279\n",
            "INFO:tensorflow:Step 700 per-step time 9.915s loss=0.230\n",
            "I0123 12:08:32.435711 140147278681984 model_lib_v2.py:651] Step 700 per-step time 9.915s loss=0.230\n",
            "INFO:tensorflow:Step 800 per-step time 9.900s loss=0.239\n",
            "I0123 12:24:59.026938 140147278681984 model_lib_v2.py:651] Step 800 per-step time 9.900s loss=0.239\n",
            "INFO:tensorflow:Step 900 per-step time 9.745s loss=0.229\n",
            "I0123 12:41:18.207651 140147278681984 model_lib_v2.py:651] Step 900 per-step time 9.745s loss=0.229\n",
            "INFO:tensorflow:Step 1000 per-step time 10.128s loss=0.337\n",
            "I0123 12:57:46.923988 140147278681984 model_lib_v2.py:651] Step 1000 per-step time 10.128s loss=0.337\n"
          ],
          "name": "stdout"
        }
      ]
    },
    {
      "cell_type": "markdown",
      "metadata": {
        "id": "2txJUf3Oy7lD"
      },
      "source": [
        "Export your model for standard inference - creates a new folder called my_model under pre_trained_models/standard_model"
      ]
    },
    {
      "cell_type": "code",
      "metadata": {
        "id": "rvcD0EKm53YD",
        "colab": {
          "base_uri": "https://localhost:8080/"
        },
        "outputId": "2710a566-a759-496b-eafc-c223cd99bf28"
      },
      "source": [
        "!python3 exporter_main_v2.py --input_type image_tensor --pipeline_config_path efficientdet_d0_coco17_tpu-32/pipeline.config --trained_checkpoint_dir standard_model --output_directory pwd/my_model"
      ],
      "execution_count": null,
      "outputs": [
        {
          "output_type": "stream",
          "text": [
            "2021-01-23 13:27:45.665542: W tensorflow/stream_executor/platform/default/dso_loader.cc:60] Could not load dynamic library 'libcudart.so.11.0'; dlerror: libcudart.so.11.0: cannot open shared object file: No such file or directory; LD_LIBRARY_PATH: /usr/lib64-nvidia\n",
            "2021-01-23 13:27:45.665584: I tensorflow/stream_executor/cuda/cudart_stub.cc:29] Ignore above cudart dlerror if you do not have a GPU set up on your machine.\n",
            "2021-01-23 13:27:47.661431: I tensorflow/stream_executor/platform/default/dso_loader.cc:49] Successfully opened dynamic library libcuda.so.1\n",
            "2021-01-23 13:27:47.694622: I tensorflow/stream_executor/cuda/cuda_gpu_executor.cc:941] successful NUMA node read from SysFS had negative value (-1), but there must be at least one NUMA node, so returning NUMA node zero\n",
            "2021-01-23 13:27:47.695225: I tensorflow/core/common_runtime/gpu/gpu_device.cc:1760] Found device 0 with properties: \n",
            "pciBusID: 0000:00:04.0 name: Tesla T4 computeCapability: 7.5\n",
            "coreClock: 1.59GHz coreCount: 40 deviceMemorySize: 14.73GiB deviceMemoryBandwidth: 298.08GiB/s\n",
            "2021-01-23 13:27:47.695376: W tensorflow/stream_executor/platform/default/dso_loader.cc:60] Could not load dynamic library 'libcudart.so.11.0'; dlerror: libcudart.so.11.0: cannot open shared object file: No such file or directory; LD_LIBRARY_PATH: /usr/lib64-nvidia\n",
            "2021-01-23 13:27:47.695489: W tensorflow/stream_executor/platform/default/dso_loader.cc:60] Could not load dynamic library 'libcublas.so.11'; dlerror: libcublas.so.11: cannot open shared object file: No such file or directory; LD_LIBRARY_PATH: /usr/lib64-nvidia\n",
            "2021-01-23 13:27:47.695603: W tensorflow/stream_executor/platform/default/dso_loader.cc:60] Could not load dynamic library 'libcublasLt.so.11'; dlerror: libcublasLt.so.11: cannot open shared object file: No such file or directory; LD_LIBRARY_PATH: /usr/lib64-nvidia\n",
            "2021-01-23 13:27:47.697508: I tensorflow/stream_executor/platform/default/dso_loader.cc:49] Successfully opened dynamic library libcufft.so.10\n",
            "2021-01-23 13:27:47.697877: I tensorflow/stream_executor/platform/default/dso_loader.cc:49] Successfully opened dynamic library libcurand.so.10\n",
            "2021-01-23 13:27:47.706439: I tensorflow/stream_executor/platform/default/dso_loader.cc:49] Successfully opened dynamic library libcusolver.so.10\n",
            "2021-01-23 13:27:47.706643: W tensorflow/stream_executor/platform/default/dso_loader.cc:60] Could not load dynamic library 'libcusparse.so.11'; dlerror: libcusparse.so.11: cannot open shared object file: No such file or directory; LD_LIBRARY_PATH: /usr/lib64-nvidia\n",
            "2021-01-23 13:27:47.706753: W tensorflow/stream_executor/platform/default/dso_loader.cc:60] Could not load dynamic library 'libcudnn.so.8'; dlerror: libcudnn.so.8: cannot open shared object file: No such file or directory; LD_LIBRARY_PATH: /usr/lib64-nvidia\n",
            "2021-01-23 13:27:47.706782: W tensorflow/core/common_runtime/gpu/gpu_device.cc:1793] Cannot dlopen some GPU libraries. Please make sure the missing libraries mentioned above are installed properly if you would like to use GPU. Follow the guide at https://www.tensorflow.org/install/gpu for how to download and setup the required libraries for your platform.\n",
            "Skipping registering GPU devices...\n",
            "2021-01-23 13:27:47.707157: I tensorflow/core/platform/cpu_feature_guard.cc:142] This TensorFlow binary is optimized with oneAPI Deep Neural Network Library (oneDNN) to use the following CPU instructions in performance-critical operations:  AVX2 FMA\n",
            "To enable them in other operations, rebuild TensorFlow with the appropriate compiler flags.\n",
            "2021-01-23 13:27:47.707397: I tensorflow/core/common_runtime/gpu/gpu_device.cc:1300] Device interconnect StreamExecutor with strength 1 edge matrix:\n",
            "2021-01-23 13:27:47.707424: I tensorflow/core/common_runtime/gpu/gpu_device.cc:1306]      \n",
            "I0123 13:27:47.717418 140714923222912 ssd_efficientnet_bifpn_feature_extractor.py:144] EfficientDet EfficientNet backbone version: efficientnet-b0\n",
            "I0123 13:27:47.717602 140714923222912 ssd_efficientnet_bifpn_feature_extractor.py:145] EfficientDet BiFPN num filters: 64\n",
            "I0123 13:27:47.717689 140714923222912 ssd_efficientnet_bifpn_feature_extractor.py:147] EfficientDet BiFPN num iterations: 3\n",
            "I0123 13:27:47.725133 140714923222912 efficientnet_model.py:147] round_filter input=32 output=32\n",
            "I0123 13:27:47.750552 140714923222912 efficientnet_model.py:147] round_filter input=32 output=32\n",
            "I0123 13:27:47.750709 140714923222912 efficientnet_model.py:147] round_filter input=16 output=16\n",
            "I0123 13:27:47.804018 140714923222912 efficientnet_model.py:147] round_filter input=16 output=16\n",
            "I0123 13:27:47.804157 140714923222912 efficientnet_model.py:147] round_filter input=24 output=24\n",
            "I0123 13:27:47.936877 140714923222912 efficientnet_model.py:147] round_filter input=24 output=24\n",
            "I0123 13:27:47.937026 140714923222912 efficientnet_model.py:147] round_filter input=40 output=40\n",
            "I0123 13:27:48.061752 140714923222912 efficientnet_model.py:147] round_filter input=40 output=40\n",
            "I0123 13:27:48.061897 140714923222912 efficientnet_model.py:147] round_filter input=80 output=80\n",
            "I0123 13:27:48.346399 140714923222912 efficientnet_model.py:147] round_filter input=80 output=80\n",
            "I0123 13:27:48.346571 140714923222912 efficientnet_model.py:147] round_filter input=112 output=112\n",
            "I0123 13:27:48.549842 140714923222912 efficientnet_model.py:147] round_filter input=112 output=112\n",
            "I0123 13:27:48.550007 140714923222912 efficientnet_model.py:147] round_filter input=192 output=192\n",
            "I0123 13:27:48.855624 140714923222912 efficientnet_model.py:147] round_filter input=192 output=192\n",
            "I0123 13:27:48.855797 140714923222912 efficientnet_model.py:147] round_filter input=320 output=320\n",
            "I0123 13:27:48.931073 140714923222912 efficientnet_model.py:147] round_filter input=1280 output=1280\n",
            "I0123 13:27:48.976523 140714923222912 efficientnet_model.py:458] Building model efficientnet with params ModelConfig(width_coefficient=1.0, depth_coefficient=1.0, resolution=224, dropout_rate=0.2, blocks=(BlockConfig(input_filters=32, output_filters=16, kernel_size=3, num_repeat=1, expand_ratio=1, strides=(1, 1), se_ratio=0.25, id_skip=True, fused_conv=False, conv_type='depthwise'), BlockConfig(input_filters=16, output_filters=24, kernel_size=3, num_repeat=2, expand_ratio=6, strides=(2, 2), se_ratio=0.25, id_skip=True, fused_conv=False, conv_type='depthwise'), BlockConfig(input_filters=24, output_filters=40, kernel_size=5, num_repeat=2, expand_ratio=6, strides=(2, 2), se_ratio=0.25, id_skip=True, fused_conv=False, conv_type='depthwise'), BlockConfig(input_filters=40, output_filters=80, kernel_size=3, num_repeat=3, expand_ratio=6, strides=(2, 2), se_ratio=0.25, id_skip=True, fused_conv=False, conv_type='depthwise'), BlockConfig(input_filters=80, output_filters=112, kernel_size=5, num_repeat=3, expand_ratio=6, strides=(1, 1), se_ratio=0.25, id_skip=True, fused_conv=False, conv_type='depthwise'), BlockConfig(input_filters=112, output_filters=192, kernel_size=5, num_repeat=4, expand_ratio=6, strides=(2, 2), se_ratio=0.25, id_skip=True, fused_conv=False, conv_type='depthwise'), BlockConfig(input_filters=192, output_filters=320, kernel_size=3, num_repeat=1, expand_ratio=6, strides=(1, 1), se_ratio=0.25, id_skip=True, fused_conv=False, conv_type='depthwise')), stem_base_filters=32, top_base_filters=1280, activation='simple_swish', batch_norm='default', bn_momentum=0.99, bn_epsilon=0.001, weight_decay=5e-06, drop_connect_rate=0.2, depth_divisor=8, min_depth=None, use_se=True, input_channels=3, num_classes=1000, model_name='efficientnet', rescale_input=False, data_format='channels_last', dtype='float32')\n",
            "Traceback (most recent call last):\n",
            "  File \"exporter_main_v2.py\", line 159, in <module>\n",
            "    app.run(main)\n",
            "  File \"/usr/local/lib/python3.6/dist-packages/absl/app.py\", line 300, in run\n",
            "    _run_main(main, args)\n",
            "  File \"/usr/local/lib/python3.6/dist-packages/absl/app.py\", line 251, in _run_main\n",
            "    sys.exit(main(argv))\n",
            "  File \"exporter_main_v2.py\", line 155, in main\n",
            "    FLAGS.side_input_types, FLAGS.side_input_names)\n",
            "  File \"/usr/local/lib/python3.6/dist-packages/object_detection/exporter_lib_v2.py\", line 265, in export_inference_graph\n",
            "    status.assert_existing_objects_matched()\n",
            "  File \"/usr/local/lib/python3.6/dist-packages/tensorflow/python/training/tracking/util.py\", line 902, in assert_existing_objects_matched\n",
            "    \"No checkpoint specified (save_path=None); nothing is being restored.\")\n",
            "AssertionError: No checkpoint specified (save_path=None); nothing is being restored.\n"
          ],
          "name": "stdout"
        }
      ]
    },
    {
      "cell_type": "code",
      "metadata": {
        "colab": {
          "base_uri": "https://localhost:8080/"
        },
        "id": "85MJUIxqGkgV",
        "outputId": "f51069a1-67b1-4f56-8990-59c5594b5580"
      },
      "source": [
        "ls"
      ],
      "execution_count": null,
      "outputs": [
        {
          "output_type": "stream",
          "text": [
            "\u001b[0m\u001b[01;34mefficientdet_d0_coco17_tpu-32\u001b[0m/  model_main_tf2.py\n",
            "exporter_main_v2.py             \u001b[01;34mtrained_model\u001b[0m/\n"
          ],
          "name": "stdout"
        }
      ]
    },
    {
      "cell_type": "markdown",
      "metadata": {
        "id": "CLV5MRI28z3B"
      },
      "source": [
        "For TFLite we use a different script to export the model - change the config path for your model name"
      ]
    },
    {
      "cell_type": "code",
      "metadata": {
        "id": "fDFexao688V_",
        "colab": {
          "base_uri": "https://localhost:8080/"
        },
        "outputId": "6827f8ce-9ef1-460c-a11a-3a198b679f4a"
      },
      "source": [
        "\n",
        "!python3 /content/models/research/object_detection/export_tflite_graph_tf2.py \\\n",
        "--pipeline_config_path efficientdet_d0_coco17_tpu-32/pipeline.config \\\n",
        "--trained_checkpoint_dir trained_model \\\n",
        "--output_directory trained_model/tflite \\"
      ],
      "execution_count": null,
      "outputs": [
        {
          "output_type": "stream",
          "text": [
            "2021-01-23 13:28:42.261410: W tensorflow/stream_executor/platform/default/dso_loader.cc:60] Could not load dynamic library 'libcudart.so.11.0'; dlerror: libcudart.so.11.0: cannot open shared object file: No such file or directory; LD_LIBRARY_PATH: /usr/lib64-nvidia\n",
            "2021-01-23 13:28:42.261454: I tensorflow/stream_executor/cuda/cudart_stub.cc:29] Ignore above cudart dlerror if you do not have a GPU set up on your machine.\n",
            "2021-01-23 13:28:44.277171: I tensorflow/stream_executor/platform/default/dso_loader.cc:49] Successfully opened dynamic library libcuda.so.1\n",
            "2021-01-23 13:28:44.309936: I tensorflow/stream_executor/cuda/cuda_gpu_executor.cc:941] successful NUMA node read from SysFS had negative value (-1), but there must be at least one NUMA node, so returning NUMA node zero\n",
            "2021-01-23 13:28:44.310541: I tensorflow/core/common_runtime/gpu/gpu_device.cc:1760] Found device 0 with properties: \n",
            "pciBusID: 0000:00:04.0 name: Tesla T4 computeCapability: 7.5\n",
            "coreClock: 1.59GHz coreCount: 40 deviceMemorySize: 14.73GiB deviceMemoryBandwidth: 298.08GiB/s\n",
            "2021-01-23 13:28:44.310686: W tensorflow/stream_executor/platform/default/dso_loader.cc:60] Could not load dynamic library 'libcudart.so.11.0'; dlerror: libcudart.so.11.0: cannot open shared object file: No such file or directory; LD_LIBRARY_PATH: /usr/lib64-nvidia\n",
            "2021-01-23 13:28:44.310792: W tensorflow/stream_executor/platform/default/dso_loader.cc:60] Could not load dynamic library 'libcublas.so.11'; dlerror: libcublas.so.11: cannot open shared object file: No such file or directory; LD_LIBRARY_PATH: /usr/lib64-nvidia\n",
            "2021-01-23 13:28:44.310885: W tensorflow/stream_executor/platform/default/dso_loader.cc:60] Could not load dynamic library 'libcublasLt.so.11'; dlerror: libcublasLt.so.11: cannot open shared object file: No such file or directory; LD_LIBRARY_PATH: /usr/lib64-nvidia\n",
            "2021-01-23 13:28:44.312329: I tensorflow/stream_executor/platform/default/dso_loader.cc:49] Successfully opened dynamic library libcufft.so.10\n",
            "2021-01-23 13:28:44.312678: I tensorflow/stream_executor/platform/default/dso_loader.cc:49] Successfully opened dynamic library libcurand.so.10\n",
            "2021-01-23 13:28:44.314511: I tensorflow/stream_executor/platform/default/dso_loader.cc:49] Successfully opened dynamic library libcusolver.so.10\n",
            "2021-01-23 13:28:44.314629: W tensorflow/stream_executor/platform/default/dso_loader.cc:60] Could not load dynamic library 'libcusparse.so.11'; dlerror: libcusparse.so.11: cannot open shared object file: No such file or directory; LD_LIBRARY_PATH: /usr/lib64-nvidia\n",
            "2021-01-23 13:28:44.314717: W tensorflow/stream_executor/platform/default/dso_loader.cc:60] Could not load dynamic library 'libcudnn.so.8'; dlerror: libcudnn.so.8: cannot open shared object file: No such file or directory; LD_LIBRARY_PATH: /usr/lib64-nvidia\n",
            "2021-01-23 13:28:44.314740: W tensorflow/core/common_runtime/gpu/gpu_device.cc:1793] Cannot dlopen some GPU libraries. Please make sure the missing libraries mentioned above are installed properly if you would like to use GPU. Follow the guide at https://www.tensorflow.org/install/gpu for how to download and setup the required libraries for your platform.\n",
            "Skipping registering GPU devices...\n",
            "2021-01-23 13:28:44.315026: I tensorflow/core/platform/cpu_feature_guard.cc:142] This TensorFlow binary is optimized with oneAPI Deep Neural Network Library (oneDNN) to use the following CPU instructions in performance-critical operations:  AVX2 FMA\n",
            "To enable them in other operations, rebuild TensorFlow with the appropriate compiler flags.\n",
            "2021-01-23 13:28:44.315261: I tensorflow/core/common_runtime/gpu/gpu_device.cc:1300] Device interconnect StreamExecutor with strength 1 edge matrix:\n",
            "2021-01-23 13:28:44.315286: I tensorflow/core/common_runtime/gpu/gpu_device.cc:1306]      \n",
            "I0123 13:28:44.325307 139655138584448 ssd_efficientnet_bifpn_feature_extractor.py:144] EfficientDet EfficientNet backbone version: efficientnet-b0\n",
            "I0123 13:28:44.325530 139655138584448 ssd_efficientnet_bifpn_feature_extractor.py:145] EfficientDet BiFPN num filters: 64\n",
            "I0123 13:28:44.325614 139655138584448 ssd_efficientnet_bifpn_feature_extractor.py:147] EfficientDet BiFPN num iterations: 3\n",
            "I0123 13:28:44.333950 139655138584448 efficientnet_model.py:147] round_filter input=32 output=32\n",
            "I0123 13:28:44.357978 139655138584448 efficientnet_model.py:147] round_filter input=32 output=32\n",
            "I0123 13:28:44.358113 139655138584448 efficientnet_model.py:147] round_filter input=16 output=16\n",
            "I0123 13:28:44.407994 139655138584448 efficientnet_model.py:147] round_filter input=16 output=16\n",
            "I0123 13:28:44.408129 139655138584448 efficientnet_model.py:147] round_filter input=24 output=24\n",
            "I0123 13:28:44.552423 139655138584448 efficientnet_model.py:147] round_filter input=24 output=24\n",
            "I0123 13:28:44.552619 139655138584448 efficientnet_model.py:147] round_filter input=40 output=40\n",
            "I0123 13:28:44.690244 139655138584448 efficientnet_model.py:147] round_filter input=40 output=40\n",
            "I0123 13:28:44.690450 139655138584448 efficientnet_model.py:147] round_filter input=80 output=80\n",
            "I0123 13:28:45.009073 139655138584448 efficientnet_model.py:147] round_filter input=80 output=80\n",
            "I0123 13:28:45.009262 139655138584448 efficientnet_model.py:147] round_filter input=112 output=112\n",
            "I0123 13:28:45.229657 139655138584448 efficientnet_model.py:147] round_filter input=112 output=112\n",
            "I0123 13:28:45.229852 139655138584448 efficientnet_model.py:147] round_filter input=192 output=192\n",
            "I0123 13:28:45.573440 139655138584448 efficientnet_model.py:147] round_filter input=192 output=192\n",
            "I0123 13:28:45.573630 139655138584448 efficientnet_model.py:147] round_filter input=320 output=320\n",
            "I0123 13:28:45.653886 139655138584448 efficientnet_model.py:147] round_filter input=1280 output=1280\n",
            "I0123 13:28:45.701173 139655138584448 efficientnet_model.py:458] Building model efficientnet with params ModelConfig(width_coefficient=1.0, depth_coefficient=1.0, resolution=224, dropout_rate=0.2, blocks=(BlockConfig(input_filters=32, output_filters=16, kernel_size=3, num_repeat=1, expand_ratio=1, strides=(1, 1), se_ratio=0.25, id_skip=True, fused_conv=False, conv_type='depthwise'), BlockConfig(input_filters=16, output_filters=24, kernel_size=3, num_repeat=2, expand_ratio=6, strides=(2, 2), se_ratio=0.25, id_skip=True, fused_conv=False, conv_type='depthwise'), BlockConfig(input_filters=24, output_filters=40, kernel_size=5, num_repeat=2, expand_ratio=6, strides=(2, 2), se_ratio=0.25, id_skip=True, fused_conv=False, conv_type='depthwise'), BlockConfig(input_filters=40, output_filters=80, kernel_size=3, num_repeat=3, expand_ratio=6, strides=(2, 2), se_ratio=0.25, id_skip=True, fused_conv=False, conv_type='depthwise'), BlockConfig(input_filters=80, output_filters=112, kernel_size=5, num_repeat=3, expand_ratio=6, strides=(1, 1), se_ratio=0.25, id_skip=True, fused_conv=False, conv_type='depthwise'), BlockConfig(input_filters=112, output_filters=192, kernel_size=5, num_repeat=4, expand_ratio=6, strides=(2, 2), se_ratio=0.25, id_skip=True, fused_conv=False, conv_type='depthwise'), BlockConfig(input_filters=192, output_filters=320, kernel_size=3, num_repeat=1, expand_ratio=6, strides=(1, 1), se_ratio=0.25, id_skip=True, fused_conv=False, conv_type='depthwise')), stem_base_filters=32, top_base_filters=1280, activation='simple_swish', batch_norm='default', bn_momentum=0.99, bn_epsilon=0.001, weight_decay=5e-06, drop_connect_rate=0.2, depth_divisor=8, min_depth=None, use_se=True, input_channels=3, num_classes=1000, model_name='efficientnet', rescale_input=False, data_format='channels_last', dtype='float32')\n",
            "Traceback (most recent call last):\n",
            "  File \"/content/models/research/object_detection/export_tflite_graph_tf2.py\", line 131, in <module>\n",
            "    app.run(main)\n",
            "  File \"/usr/local/lib/python3.6/dist-packages/absl/app.py\", line 300, in run\n",
            "    _run_main(main, args)\n",
            "  File \"/usr/local/lib/python3.6/dist-packages/absl/app.py\", line 251, in _run_main\n",
            "    sys.exit(main(argv))\n",
            "  File \"/content/models/research/object_detection/export_tflite_graph_tf2.py\", line 127, in main\n",
            "    FLAGS.centernet_include_keypoints)\n",
            "  File \"/usr/local/lib/python3.6/dist-packages/object_detection/export_tflite_graph_lib_tf2.py\", line 339, in export_tflite_model\n",
            "    max_detections, use_regular_nms)\n",
            "  File \"/usr/local/lib/python3.6/dist-packages/object_detection/export_tflite_graph_lib_tf2.py\", line 71, in __init__\n",
            "    self._process_config(pipeline_config)\n",
            "  File \"/usr/local/lib/python3.6/dist-packages/object_detection/export_tflite_graph_lib_tf2.py\", line 104, in _process_config\n",
            "    image_resizer_config.WhichOneof('image_resizer_oneof')))\n",
            "ValueError: Only fixed_shape_resizeris supported with tflite. Found keep_aspect_ratio_resizer\n"
          ],
          "name": "stdout"
        }
      ]
    },
    {
      "cell_type": "markdown",
      "metadata": {
        "id": "oJ0bJNRb_lJI"
      },
      "source": [
        "now convert that model to a TFLite model"
      ]
    },
    {
      "cell_type": "code",
      "metadata": {
        "id": "dbaAAbdr_abp",
        "colab": {
          "base_uri": "https://localhost:8080/"
        },
        "outputId": "f6b25c5b-5178-4cac-f428-f6c71535c291"
      },
      "source": [
        "!tflite_convert --saved_model_dir=trained_model/tflite/saved_model --output_file=trained_model/tflite/model.tflite"
      ],
      "execution_count": null,
      "outputs": [
        {
          "output_type": "stream",
          "text": [
            "2021-01-23 13:29:08.466010: W tensorflow/stream_executor/platform/default/dso_loader.cc:60] Could not load dynamic library 'libcudart.so.11.0'; dlerror: libcudart.so.11.0: cannot open shared object file: No such file or directory; LD_LIBRARY_PATH: /usr/lib64-nvidia\n",
            "2021-01-23 13:29:08.466069: I tensorflow/stream_executor/cuda/cudart_stub.cc:29] Ignore above cudart dlerror if you do not have a GPU set up on your machine.\n",
            "Traceback (most recent call last):\n",
            "  File \"/usr/local/bin/tflite_convert\", line 8, in <module>\n",
            "    sys.exit(main())\n",
            "  File \"/usr/local/lib/python3.6/dist-packages/tensorflow/lite/python/tflite_convert.py\", line 694, in main\n",
            "    app.run(main=run_main, argv=sys.argv[:1])\n",
            "  File \"/usr/local/lib/python3.6/dist-packages/tensorflow/python/platform/app.py\", line 40, in run\n",
            "    _run(main=main, argv=argv, flags_parser=_parse_flags_tolerate_undef)\n",
            "  File \"/usr/local/lib/python3.6/dist-packages/absl/app.py\", line 300, in run\n",
            "    _run_main(main, args)\n",
            "  File \"/usr/local/lib/python3.6/dist-packages/absl/app.py\", line 251, in _run_main\n",
            "    sys.exit(main(argv))\n",
            "  File \"/usr/local/lib/python3.6/dist-packages/tensorflow/lite/python/tflite_convert.py\", line 677, in run_main\n",
            "    _convert_tf2_model(tflite_flags)\n",
            "  File \"/usr/local/lib/python3.6/dist-packages/tensorflow/lite/python/tflite_convert.py\", line 253, in _convert_tf2_model\n",
            "    tags=_parse_set(flags.saved_model_tag_set))\n",
            "  File \"/usr/local/lib/python3.6/dist-packages/tensorflow/lite/python/lite.py\", line 1120, in from_saved_model\n",
            "    saved_model = _load(saved_model_dir, tags)\n",
            "  File \"/usr/local/lib/python3.6/dist-packages/tensorflow/python/saved_model/load.py\", line 864, in load\n",
            "    return load_internal(export_dir, tags, options)[\"root\"]\n",
            "  File \"/usr/local/lib/python3.6/dist-packages/tensorflow/python/saved_model/load.py\", line 876, in load_internal\n",
            "    loader_impl.parse_saved_model_with_debug_info(export_dir))\n",
            "  File \"/usr/local/lib/python3.6/dist-packages/tensorflow/python/saved_model/loader_impl.py\", line 56, in parse_saved_model_with_debug_info\n",
            "    saved_model = _parse_saved_model(export_dir)\n",
            "  File \"/usr/local/lib/python3.6/dist-packages/tensorflow/python/saved_model/loader_impl.py\", line 114, in parse_saved_model\n",
            "    constants.SAVED_MODEL_FILENAME_PB))\n",
            "OSError: SavedModel file does not exist at: trained_model/tflite/saved_model/{saved_model.pbtxt|saved_model.pb}\n"
          ],
          "name": "stdout"
        }
      ]
    },
    {
      "cell_type": "code",
      "metadata": {
        "colab": {
          "base_uri": "https://localhost:8080/",
          "height": 283
        },
        "id": "o36GQzZJBs-I",
        "outputId": "d235d552-781b-4a15-db71-64ea24be805f"
      },
      "source": [
        "files.download('pwd/tflite/model.tflite')"
      ],
      "execution_count": null,
      "outputs": [
        {
          "output_type": "error",
          "ename": "FileNotFoundError",
          "evalue": "ignored",
          "traceback": [
            "\u001b[0;31m---------------------------------------------------------------------------\u001b[0m",
            "\u001b[0;31mFileNotFoundError\u001b[0m                         Traceback (most recent call last)",
            "\u001b[0;32m<ipython-input-46-f49e7d7efc2c>\u001b[0m in \u001b[0;36m<module>\u001b[0;34m()\u001b[0m\n\u001b[0;32m----> 1\u001b[0;31m \u001b[0mfiles\u001b[0m\u001b[0;34m.\u001b[0m\u001b[0mdownload\u001b[0m\u001b[0;34m(\u001b[0m\u001b[0;34m'pwd/tflite/model.tflite'\u001b[0m\u001b[0;34m)\u001b[0m\u001b[0;34m\u001b[0m\u001b[0;34m\u001b[0m\u001b[0m\n\u001b[0m",
            "\u001b[0;32m/usr/local/lib/python3.6/dist-packages/google/colab/files.py\u001b[0m in \u001b[0;36mdownload\u001b[0;34m(filename)\u001b[0m\n\u001b[1;32m    141\u001b[0m       \u001b[0;32mraise\u001b[0m \u001b[0mOSError\u001b[0m\u001b[0;34m(\u001b[0m\u001b[0mmsg\u001b[0m\u001b[0;34m)\u001b[0m\u001b[0;34m\u001b[0m\u001b[0;34m\u001b[0m\u001b[0m\n\u001b[1;32m    142\u001b[0m     \u001b[0;32melse\u001b[0m\u001b[0;34m:\u001b[0m\u001b[0;34m\u001b[0m\u001b[0;34m\u001b[0m\u001b[0m\n\u001b[0;32m--> 143\u001b[0;31m       \u001b[0;32mraise\u001b[0m \u001b[0mFileNotFoundError\u001b[0m\u001b[0;34m(\u001b[0m\u001b[0mmsg\u001b[0m\u001b[0;34m)\u001b[0m  \u001b[0;31m# pylint: disable=undefined-variable\u001b[0m\u001b[0;34m\u001b[0m\u001b[0;34m\u001b[0m\u001b[0m\n\u001b[0m\u001b[1;32m    144\u001b[0m \u001b[0;34m\u001b[0m\u001b[0m\n\u001b[1;32m    145\u001b[0m   \u001b[0mcomm_manager\u001b[0m \u001b[0;34m=\u001b[0m \u001b[0m_IPython\u001b[0m\u001b[0;34m.\u001b[0m\u001b[0mget_ipython\u001b[0m\u001b[0;34m(\u001b[0m\u001b[0;34m)\u001b[0m\u001b[0;34m.\u001b[0m\u001b[0mkernel\u001b[0m\u001b[0;34m.\u001b[0m\u001b[0mcomm_manager\u001b[0m\u001b[0;34m\u001b[0m\u001b[0;34m\u001b[0m\u001b[0m\n",
            "\u001b[0;31mFileNotFoundError\u001b[0m: Cannot find file: pwd/tflite/model.tflite"
          ]
        }
      ]
    },
    {
      "cell_type": "markdown",
      "metadata": {
        "id": "7Ck2ToT6PSRv"
      },
      "source": [
        "As an alternative, this converts a saved model with post-training quantization (converting floating numbers in parameters to integers) - this is needed to compile the model for Coral Edge TPU "
      ]
    },
    {
      "cell_type": "code",
      "metadata": {
        "id": "GgEV6_F2PgRD"
      },
      "source": [
        "saved_model_dir = \"/content/workspace/training_demo/pre_trained_models/trained_model/tflite/saved_model\""
      ],
      "execution_count": null,
      "outputs": []
    },
    {
      "cell_type": "markdown",
      "metadata": {
        "id": "Y8FV986ZxlPu"
      },
      "source": [
        "Below is a function to build a representative dataset which is needed as part of the converter - ensure you resize for your model size"
      ]
    },
    {
      "cell_type": "code",
      "metadata": {
        "id": "4e1N8IC4ZRvL"
      },
      "source": [
        "def representative_data_gen():\n",
        "  dataset_list = tf.data.Dataset.list_files(\"/content/workspace/training_demo/images/Ball/*.jpg\")\n",
        "  for i in range(100):\n",
        "    image = next(iter(dataset_list))\n",
        "    image = tf.io.read_file(image)\n",
        "    image = tf.io.decode_jpeg(image, channels=3)\n",
        "    image = tf.image.resize(image, [640, 640])\n",
        "    #image = tf.cast(image / 255., tf.float32)\n",
        "    image = tf.expand_dims(image, 0)\n",
        "    yield [image]"
      ],
      "execution_count": null,
      "outputs": []
    },
    {
      "cell_type": "code",
      "metadata": {
        "colab": {
          "base_uri": "https://localhost:8080/"
        },
        "id": "PFyvmf3xWCcw",
        "outputId": "31817d4f-8d1a-4fa6-f03c-6390975c0832"
      },
      "source": [
        "converter = tf.lite.TFLiteConverter.from_saved_model(saved_model_dir)\n",
        "# This enables quantization\n",
        "converter.optimizations = [tf.lite.Optimize.DEFAULT]\n",
        "converter.allow_custom_ops = True\n",
        "# This sets the representative dataset for quantization\n",
        "converter.representative_dataset = representative_data_gen\n",
        "# This ensures that if any ops can't be quantized, the converter throws an error\n",
        "#converter.target_spec.supported_ops = [tf.lite.OpsSet.TFLITE_BUILTINS_INT8]\n",
        "converter.target_spec.supported_ops = [tf.lite.OpsSet.TFLITE_BUILTINS_INT8, tf.lite.OpsSet.TFLITE_BUILTINS]\n",
        "# For full integer quantization, though supported types defaults to int8 only, we explicitly declare it for clarity.\n",
        "converter.target_spec.supported_types = [tf.int8]\n",
        "# These set the input and output tensors to uint8 (added in r2.3)\n",
        "converter.inference_input_type = tf.uint8\n",
        "converter.inference_output_type = tf.uint8\n",
        "tflite_model = converter.convert()"
      ],
      "execution_count": null,
      "outputs": [
        {
          "output_type": "stream",
          "text": [
            "INFO:tensorflow:Restoring parameters from /content/workspace/training_demo/pre_trained_models/trained_model/tflite/saved_model/variables/variables\n"
          ],
          "name": "stdout"
        },
        {
          "output_type": "stream",
          "text": [
            "INFO:tensorflow:Restoring parameters from /content/workspace/training_demo/pre_trained_models/trained_model/tflite/saved_model/variables/variables\n"
          ],
          "name": "stderr"
        },
        {
          "output_type": "stream",
          "text": [
            "INFO:tensorflow:The given SavedModel MetaGraphDef contains SignatureDefs with the following keys: {'serving_default', '__saved_model_init_op'}\n"
          ],
          "name": "stdout"
        },
        {
          "output_type": "stream",
          "text": [
            "INFO:tensorflow:The given SavedModel MetaGraphDef contains SignatureDefs with the following keys: {'serving_default', '__saved_model_init_op'}\n"
          ],
          "name": "stderr"
        },
        {
          "output_type": "stream",
          "text": [
            "INFO:tensorflow:input tensors info: \n"
          ],
          "name": "stdout"
        },
        {
          "output_type": "stream",
          "text": [
            "INFO:tensorflow:input tensors info: \n"
          ],
          "name": "stderr"
        },
        {
          "output_type": "stream",
          "text": [
            "INFO:tensorflow:Tensor's key in saved_model's tensor_map: input\n"
          ],
          "name": "stdout"
        },
        {
          "output_type": "stream",
          "text": [
            "INFO:tensorflow:Tensor's key in saved_model's tensor_map: input\n"
          ],
          "name": "stderr"
        },
        {
          "output_type": "stream",
          "text": [
            "INFO:tensorflow: tensor name: serving_default_input:0, shape: (1, 640, 640, 3), type: DT_FLOAT\n"
          ],
          "name": "stdout"
        },
        {
          "output_type": "stream",
          "text": [
            "INFO:tensorflow: tensor name: serving_default_input:0, shape: (1, 640, 640, 3), type: DT_FLOAT\n"
          ],
          "name": "stderr"
        },
        {
          "output_type": "stream",
          "text": [
            "INFO:tensorflow:output tensors info: \n"
          ],
          "name": "stdout"
        },
        {
          "output_type": "stream",
          "text": [
            "INFO:tensorflow:output tensors info: \n"
          ],
          "name": "stderr"
        },
        {
          "output_type": "stream",
          "text": [
            "INFO:tensorflow:Tensor's key in saved_model's tensor_map: output_2\n"
          ],
          "name": "stdout"
        },
        {
          "output_type": "stream",
          "text": [
            "INFO:tensorflow:Tensor's key in saved_model's tensor_map: output_2\n"
          ],
          "name": "stderr"
        },
        {
          "output_type": "stream",
          "text": [
            "INFO:tensorflow: tensor name: StatefulPartitionedCall:2, shape: (), type: DT_FLOAT\n"
          ],
          "name": "stdout"
        },
        {
          "output_type": "stream",
          "text": [
            "INFO:tensorflow: tensor name: StatefulPartitionedCall:2, shape: (), type: DT_FLOAT\n"
          ],
          "name": "stderr"
        },
        {
          "output_type": "stream",
          "text": [
            "INFO:tensorflow:Tensor's key in saved_model's tensor_map: output_3\n"
          ],
          "name": "stdout"
        },
        {
          "output_type": "stream",
          "text": [
            "INFO:tensorflow:Tensor's key in saved_model's tensor_map: output_3\n"
          ],
          "name": "stderr"
        },
        {
          "output_type": "stream",
          "text": [
            "INFO:tensorflow: tensor name: StatefulPartitionedCall:3, shape: (), type: DT_FLOAT\n"
          ],
          "name": "stdout"
        },
        {
          "output_type": "stream",
          "text": [
            "INFO:tensorflow: tensor name: StatefulPartitionedCall:3, shape: (), type: DT_FLOAT\n"
          ],
          "name": "stderr"
        },
        {
          "output_type": "stream",
          "text": [
            "INFO:tensorflow:Tensor's key in saved_model's tensor_map: output_0\n"
          ],
          "name": "stdout"
        },
        {
          "output_type": "stream",
          "text": [
            "INFO:tensorflow:Tensor's key in saved_model's tensor_map: output_0\n"
          ],
          "name": "stderr"
        },
        {
          "output_type": "stream",
          "text": [
            "INFO:tensorflow: tensor name: StatefulPartitionedCall:0, shape: (), type: DT_FLOAT\n"
          ],
          "name": "stdout"
        },
        {
          "output_type": "stream",
          "text": [
            "INFO:tensorflow: tensor name: StatefulPartitionedCall:0, shape: (), type: DT_FLOAT\n"
          ],
          "name": "stderr"
        },
        {
          "output_type": "stream",
          "text": [
            "INFO:tensorflow:Tensor's key in saved_model's tensor_map: output_1\n"
          ],
          "name": "stdout"
        },
        {
          "output_type": "stream",
          "text": [
            "INFO:tensorflow:Tensor's key in saved_model's tensor_map: output_1\n"
          ],
          "name": "stderr"
        },
        {
          "output_type": "stream",
          "text": [
            "INFO:tensorflow: tensor name: StatefulPartitionedCall:1, shape: (), type: DT_FLOAT\n"
          ],
          "name": "stdout"
        },
        {
          "output_type": "stream",
          "text": [
            "INFO:tensorflow: tensor name: StatefulPartitionedCall:1, shape: (), type: DT_FLOAT\n"
          ],
          "name": "stderr"
        },
        {
          "output_type": "stream",
          "text": [
            "INFO:tensorflow:Restoring parameters from /content/workspace/training_demo/pre_trained_models/trained_model/tflite/saved_model/variables/variables\n"
          ],
          "name": "stdout"
        },
        {
          "output_type": "stream",
          "text": [
            "INFO:tensorflow:Restoring parameters from /content/workspace/training_demo/pre_trained_models/trained_model/tflite/saved_model/variables/variables\n",
            "WARNING:absl:For model outputs containing unsupported operations which cannot be quantized, the `inference_output_type` attribute will default to the original type.\n"
          ],
          "name": "stderr"
        }
      ]
    },
    {
      "cell_type": "code",
      "metadata": {
        "colab": {
          "base_uri": "https://localhost:8080/"
        },
        "id": "K2Rtn9P99nH7",
        "outputId": "1a5d4290-e67d-414c-87aa-88807fb1b707"
      },
      "source": [
        "open(\"Quant_converted_model.tflite\", \"wb\").write(tflite_model)"
      ],
      "execution_count": null,
      "outputs": [
        {
          "output_type": "execute_result",
          "data": {
            "text/plain": [
              "4474120"
            ]
          },
          "metadata": {
            "tags": []
          },
          "execution_count": 54
        }
      ]
    },
    {
      "cell_type": "markdown",
      "metadata": {
        "id": "Y23eLV_mAbVR"
      },
      "source": [
        "Or we can export the tfite frozen graph and do post training quantisation on the graph rather than the saved model"
      ]
    },
    {
      "cell_type": "code",
      "metadata": {
        "colab": {
          "base_uri": "https://localhost:8080/"
        },
        "id": "yHAK3JZ8Isbr",
        "outputId": "5c45989a-3b3d-407b-86bf-6c2d55a98f6a"
      },
      "source": [
        "\n",
        "!python  /content/models/research/object_detection/export_tflite_graph_tf2.py \\\n",
        "    --pipeline_config_path=ssd_mobilenet_v2_fpnlite_320x320_coco17_tpu-8/pipeline.config \\\n",
        "    --output_directory=trained_model/tflite \\\n",
        "    --trained_checkpoint_prefix=trained_model \\\n",
        "    --add_postprocessing_op=true"
      ],
      "execution_count": null,
      "outputs": [
        {
          "output_type": "stream",
          "text": [
            "2020-12-09 11:20:16.048723: I tensorflow/stream_executor/platform/default/dso_loader.cc:48] Successfully opened dynamic library libcudart.so.10.1\n",
            "FATAL Flags parsing error: Unknown command line flag 'trained_checkpoint_prefix'. Did you mean: trained_checkpoint_dir ?\n",
            "Pass --helpshort or --helpfull to see help on flags.\n"
          ],
          "name": "stdout"
        }
      ]
    },
    {
      "cell_type": "code",
      "metadata": {
        "id": "BtS5Nqb3BB26"
      },
      "source": [
        "graph_def_file = (output_directory + '/tflite_graph.pb')\n",
        "input_arrays = [\"normalized_input_image_tensor\"]\n",
        "output_arrays = [\"TFLite_Detection_PostProcess\",\"TFLite_Detection_PostProcess:1\",\"TFLite_Detection_PostProcess:2\",\"TFLite_Detection_PostProcess:3\"]"
      ],
      "execution_count": null,
      "outputs": []
    },
    {
      "cell_type": "code",
      "metadata": {
        "id": "yVrLBbP0BIdz"
      },
      "source": [
        "converter = tf.lite.TFLiteConverter.from_frozen_graph(\n",
        "  graph_def_file, \n",
        "  input_arrays, \n",
        "  output_arrays, \n",
        "  input_shapes={'normalized_input_image_tensor':[1, 300, 300, 3]}\n",
        "  \n",
        "  )"
      ],
      "execution_count": null,
      "outputs": []
    },
    {
      "cell_type": "code",
      "metadata": {
        "id": "SmY9cKdWB31-"
      },
      "source": [
        "converter.allow_custom_ops = True\n",
        "converter.inference_type = tf.uint8 \n",
        "converter.quantized_input_stats = {input_arrays[0] : (128., 128.)}  # mean_value, std_dev"
      ],
      "execution_count": null,
      "outputs": []
    },
    {
      "cell_type": "code",
      "metadata": {
        "id": "iJ5cpcglB4lv"
      },
      "source": [
        "tflite_model = converter.convert()\n",
        "open(\"Quant_converted_model_graph.tflite\", \"wb\").write(tflite_model)"
      ],
      "execution_count": null,
      "outputs": []
    },
    {
      "cell_type": "code",
      "metadata": {
        "colab": {
          "base_uri": "https://localhost:8080/"
        },
        "id": "BcKn5vKlRUwJ",
        "outputId": "69393b80-6046-44c4-d13a-fcc421b5bb98"
      },
      "source": [
        "cd trained_model/tflite\n"
      ],
      "execution_count": null,
      "outputs": [
        {
          "output_type": "stream",
          "text": [
            "[Errno 2] No such file or directory: 'trained_model/tflite'\n",
            "/content/workspace/training_demo/pre_trained_models/trained_model/tflite\n"
          ],
          "name": "stdout"
        }
      ]
    },
    {
      "cell_type": "markdown",
      "metadata": {
        "id": "sAyimfeeTgxA"
      },
      "source": [
        "Download Edge TPU compiler"
      ]
    },
    {
      "cell_type": "code",
      "metadata": {
        "colab": {
          "base_uri": "https://localhost:8080/"
        },
        "id": "3-39hV9_Tjrp",
        "outputId": "7b6b0ae7-dbbe-4892-fe7c-05539bf509ca"
      },
      "source": [
        "! curl https://packages.cloud.google.com/apt/doc/apt-key.gpg | sudo apt-key add -\n",
        "\n",
        "! echo \"deb https://packages.cloud.google.com/apt coral-edgetpu-stable main\" | sudo tee /etc/apt/sources.list.d/coral-edgetpu.list\n",
        "\n",
        "! sudo apt-get update\n",
        "\n",
        "! sudo apt-get install edgetpu-compiler\t"
      ],
      "execution_count": null,
      "outputs": [
        {
          "output_type": "stream",
          "text": [
            "  % Total    % Received % Xferd  Average Speed   Time    Time     Time  Current\n",
            "                                 Dload  Upload   Total   Spent    Left  Speed\n",
            "\r  0     0    0     0    0     0      0      0 --:--:-- --:--:-- --:--:--     0\r100  1974  100  1974    0     0  68068      0 --:--:-- --:--:-- --:--:-- 68068\n",
            "OK\n",
            "deb https://packages.cloud.google.com/apt coral-edgetpu-stable main\n",
            "Get:1 https://cloud.r-project.org/bin/linux/ubuntu bionic-cran40/ InRelease [3,626 B]\n",
            "Ign:2 https://developer.download.nvidia.com/compute/cuda/repos/ubuntu1804/x86_64  InRelease\n",
            "Ign:3 https://developer.download.nvidia.com/compute/machine-learning/repos/ubuntu1804/x86_64  InRelease\n",
            "Get:4 http://security.ubuntu.com/ubuntu bionic-security InRelease [88.7 kB]\n",
            "Hit:5 https://developer.download.nvidia.com/compute/cuda/repos/ubuntu1804/x86_64  Release\n",
            "Get:6 https://developer.download.nvidia.com/compute/machine-learning/repos/ubuntu1804/x86_64  Release [564 B]\n",
            "Get:7 https://cloud.r-project.org/bin/linux/ubuntu bionic-cran40/ Packages [43.6 kB]\n",
            "Get:8 https://developer.download.nvidia.com/compute/machine-learning/repos/ubuntu1804/x86_64  Release.gpg [833 B]\n",
            "Get:10 http://ppa.launchpad.net/c2d4u.team/c2d4u4.0+/ubuntu bionic InRelease [15.9 kB]\n",
            "Hit:11 http://archive.ubuntu.com/ubuntu bionic InRelease\n",
            "Get:12 https://developer.download.nvidia.com/compute/machine-learning/repos/ubuntu1804/x86_64  Packages [66.5 kB]\n",
            "Get:13 http://archive.ubuntu.com/ubuntu bionic-updates InRelease [88.7 kB]\n",
            "Get:14 http://security.ubuntu.com/ubuntu bionic-security/restricted amd64 Packages [284 kB]\n",
            "Hit:15 http://ppa.launchpad.net/cran/libgit2/ubuntu bionic InRelease\n",
            "Get:16 http://security.ubuntu.com/ubuntu bionic-security/main amd64 Packages [1,881 kB]\n",
            "Get:17 https://packages.cloud.google.com/apt coral-edgetpu-stable InRelease [6,722 B]\n",
            "Get:18 http://archive.ubuntu.com/ubuntu bionic-backports InRelease [74.6 kB]\n",
            "Get:19 http://security.ubuntu.com/ubuntu bionic-security/universe amd64 Packages [1,376 kB]\n",
            "Get:20 http://ppa.launchpad.net/graphics-drivers/ppa/ubuntu bionic InRelease [21.3 kB]\n",
            "Ign:21 https://packages.cloud.google.com/apt coral-edgetpu-stable/main amd64 Packages\n",
            "Get:22 http://archive.ubuntu.com/ubuntu bionic-updates/main amd64 Packages [2,307 kB]\n",
            "Get:21 https://packages.cloud.google.com/apt coral-edgetpu-stable/main amd64 Packages [2,172 B]\n",
            "Get:23 http://ppa.launchpad.net/c2d4u.team/c2d4u4.0+/ubuntu bionic/main Sources [1,708 kB]\n",
            "Get:24 http://archive.ubuntu.com/ubuntu bionic-updates/multiverse amd64 Packages [45.6 kB]\n",
            "Get:25 http://archive.ubuntu.com/ubuntu bionic-updates/restricted amd64 Packages [309 kB]\n",
            "Get:26 http://archive.ubuntu.com/ubuntu bionic-updates/universe amd64 Packages [2,140 kB]\n",
            "Get:27 http://ppa.launchpad.net/c2d4u.team/c2d4u4.0+/ubuntu bionic/main amd64 Packages [875 kB]\n",
            "Get:28 http://ppa.launchpad.net/graphics-drivers/ppa/ubuntu bionic/main amd64 Packages [49.2 kB]\n",
            "Fetched 11.4 MB in 4s (3,084 kB/s)\n",
            "Reading package lists... Done\n",
            "Reading package lists... Done\n",
            "Building dependency tree       \n",
            "Reading state information... Done\n",
            "The following NEW packages will be installed:\n",
            "  edgetpu-compiler\n",
            "0 upgraded, 1 newly installed, 0 to remove and 46 not upgraded.\n",
            "Need to get 7,865 kB of archives.\n",
            "After this operation, 31.2 MB of additional disk space will be used.\n",
            "Get:1 https://packages.cloud.google.com/apt coral-edgetpu-stable/main amd64 edgetpu-compiler amd64 15.0 [7,865 kB]\n",
            "Fetched 7,865 kB in 2s (5,080 kB/s)\n",
            "debconf: unable to initialize frontend: Dialog\n",
            "debconf: (No usable dialog-like program is installed, so the dialog based frontend cannot be used. at /usr/share/perl5/Debconf/FrontEnd/Dialog.pm line 76, <> line 1.)\n",
            "debconf: falling back to frontend: Readline\n",
            "debconf: unable to initialize frontend: Readline\n",
            "debconf: (This frontend requires a controlling tty.)\n",
            "debconf: falling back to frontend: Teletype\n",
            "dpkg-preconfigure: unable to re-open stdin: \n",
            "Selecting previously unselected package edgetpu-compiler.\n",
            "(Reading database ... 145868 files and directories currently installed.)\n",
            "Preparing to unpack .../edgetpu-compiler_15.0_amd64.deb ...\n",
            "Unpacking edgetpu-compiler (15.0) ...\n",
            "Setting up edgetpu-compiler (15.0) ...\n",
            "Processing triggers for libc-bin (2.27-3ubuntu1.2) ...\n",
            "/sbin/ldconfig.real: /usr/local/lib/python3.6/dist-packages/ideep4py/lib/libmkldnn.so.0 is not a symbolic link\n",
            "\n"
          ],
          "name": "stdout"
        }
      ]
    },
    {
      "cell_type": "code",
      "metadata": {
        "colab": {
          "base_uri": "https://localhost:8080/"
        },
        "id": "6NPwRl2ZTxPG",
        "outputId": "27e9edd9-2803-49b2-d4e4-fe8d66f1bc1a"
      },
      "source": [
        "! edgetpu_compiler Quant_converted_model.tflite"
      ],
      "execution_count": null,
      "outputs": [
        {
          "output_type": "stream",
          "text": [
            "Edge TPU Compiler version 15.0.340273435\n",
            "\n",
            "Model compiled successfully in 1646 ms.\n",
            "\n",
            "Input model: Quant_converted_model.tflite\n",
            "Input size: 4.27MiB\n",
            "Output model: Quant_converted_model_edgetpu.tflite\n",
            "Output size: 4.74MiB\n",
            "On-chip memory used for caching model parameters: 3.21MiB\n",
            "On-chip memory remaining for caching model parameters: 3.78MiB\n",
            "Off-chip memory used for streaming uncached model parameters: 0.00B\n",
            "Number of Edge TPU subgraphs: 1\n",
            "Total number of operations: 167\n",
            "Operation log: Quant_converted_model_edgetpu.log\n",
            "\n",
            "Model successfully compiled but not all operations are supported by the Edge TPU. A percentage of the model will instead run on the CPU, which is slower. If possible, consider updating your model to use only operations supported by the Edge TPU. For details, visit g.co/coral/model-reqs.\n",
            "Number of operations that will run on Edge TPU: 118\n",
            "Number of operations that will run on CPU: 49\n",
            "See the operation log file for individual operation details.\n"
          ],
          "name": "stdout"
        }
      ]
    },
    {
      "cell_type": "code",
      "metadata": {
        "colab": {
          "base_uri": "https://localhost:8080/",
          "height": 17
        },
        "id": "ZXomJ1hc-vcj",
        "outputId": "2150d6bb-a78f-439d-e16d-307815bbafd3"
      },
      "source": [
        "files.download('Quant_converted_model_edgetpu.tflite')"
      ],
      "execution_count": null,
      "outputs": [
        {
          "output_type": "display_data",
          "data": {
            "application/javascript": [
              "\n",
              "    async function download(id, filename, size) {\n",
              "      if (!google.colab.kernel.accessAllowed) {\n",
              "        return;\n",
              "      }\n",
              "      const div = document.createElement('div');\n",
              "      const label = document.createElement('label');\n",
              "      label.textContent = `Downloading \"${filename}\": `;\n",
              "      div.appendChild(label);\n",
              "      const progress = document.createElement('progress');\n",
              "      progress.max = size;\n",
              "      div.appendChild(progress);\n",
              "      document.body.appendChild(div);\n",
              "\n",
              "      const buffers = [];\n",
              "      let downloaded = 0;\n",
              "\n",
              "      const channel = await google.colab.kernel.comms.open(id);\n",
              "      // Send a message to notify the kernel that we're ready.\n",
              "      channel.send({})\n",
              "\n",
              "      for await (const message of channel.messages) {\n",
              "        // Send a message to notify the kernel that we're ready.\n",
              "        channel.send({})\n",
              "        if (message.buffers) {\n",
              "          for (const buffer of message.buffers) {\n",
              "            buffers.push(buffer);\n",
              "            downloaded += buffer.byteLength;\n",
              "            progress.value = downloaded;\n",
              "          }\n",
              "        }\n",
              "      }\n",
              "      const blob = new Blob(buffers, {type: 'application/binary'});\n",
              "      const a = document.createElement('a');\n",
              "      a.href = window.URL.createObjectURL(blob);\n",
              "      a.download = filename;\n",
              "      div.appendChild(a);\n",
              "      a.click();\n",
              "      div.remove();\n",
              "    }\n",
              "  "
            ],
            "text/plain": [
              "<IPython.core.display.Javascript object>"
            ]
          },
          "metadata": {
            "tags": []
          }
        },
        {
          "output_type": "display_data",
          "data": {
            "application/javascript": [
              "download(\"download_a86cdd35-d614-40e2-86ca-982b8d2704ee\", \"Quant_converted_model_edgetpu.tflite\", 4966416)"
            ],
            "text/plain": [
              "<IPython.core.display.Javascript object>"
            ]
          },
          "metadata": {
            "tags": []
          }
        }
      ]
    },
    {
      "cell_type": "code",
      "metadata": {
        "colab": {
          "base_uri": "https://localhost:8080/"
        },
        "id": "BfJTjr6ExdLi",
        "outputId": "72cbcafc-9d4c-4a6c-ecab-9c5fe327e51a"
      },
      "source": [
        "#zip the trained model file and download\n",
        "!zip -r trained_model/tflite/saved_model.zip trained_model/tflite/saved_model"
      ],
      "execution_count": null,
      "outputs": [
        {
          "output_type": "stream",
          "text": [
            "  adding: trained_model/tflite/saved_model/ (stored 0%)\n",
            "  adding: trained_model/tflite/saved_model/assets/ (stored 0%)\n",
            "  adding: trained_model/tflite/saved_model/saved_model.pb (deflated 92%)\n",
            "  adding: trained_model/tflite/saved_model/variables/ (stored 0%)\n",
            "  adding: trained_model/tflite/saved_model/variables/variables.data-00000-of-00001 (deflated 8%)\n",
            "  adding: trained_model/tflite/saved_model/variables/variables.index (deflated 77%)\n"
          ],
          "name": "stdout"
        }
      ]
    },
    {
      "cell_type": "code",
      "metadata": {
        "colab": {
          "base_uri": "https://localhost:8080/",
          "height": 17
        },
        "id": "3l550IFKwIaJ",
        "outputId": "6b6c7d29-f5a4-4a90-8144-539583419de8"
      },
      "source": [
        "files.download('trained_model/tflite/saved_model.zip')"
      ],
      "execution_count": null,
      "outputs": [
        {
          "output_type": "display_data",
          "data": {
            "application/javascript": [
              "\n",
              "    async function download(id, filename, size) {\n",
              "      if (!google.colab.kernel.accessAllowed) {\n",
              "        return;\n",
              "      }\n",
              "      const div = document.createElement('div');\n",
              "      const label = document.createElement('label');\n",
              "      label.textContent = `Downloading \"${filename}\": `;\n",
              "      div.appendChild(label);\n",
              "      const progress = document.createElement('progress');\n",
              "      progress.max = size;\n",
              "      div.appendChild(progress);\n",
              "      document.body.appendChild(div);\n",
              "\n",
              "      const buffers = [];\n",
              "      let downloaded = 0;\n",
              "\n",
              "      const channel = await google.colab.kernel.comms.open(id);\n",
              "      // Send a message to notify the kernel that we're ready.\n",
              "      channel.send({})\n",
              "\n",
              "      for await (const message of channel.messages) {\n",
              "        // Send a message to notify the kernel that we're ready.\n",
              "        channel.send({})\n",
              "        if (message.buffers) {\n",
              "          for (const buffer of message.buffers) {\n",
              "            buffers.push(buffer);\n",
              "            downloaded += buffer.byteLength;\n",
              "            progress.value = downloaded;\n",
              "          }\n",
              "        }\n",
              "      }\n",
              "      const blob = new Blob(buffers, {type: 'application/binary'});\n",
              "      const a = document.createElement('a');\n",
              "      a.href = window.URL.createObjectURL(blob);\n",
              "      a.download = filename;\n",
              "      div.appendChild(a);\n",
              "      a.click();\n",
              "      div.remove();\n",
              "    }\n",
              "  "
            ],
            "text/plain": [
              "<IPython.core.display.Javascript object>"
            ]
          },
          "metadata": {
            "tags": []
          }
        },
        {
          "output_type": "display_data",
          "data": {
            "application/javascript": [
              "download(\"download_292dec88-d218-49a3-b385-bb01442cf16a\", \"saved_model.zip\", 10508967)"
            ],
            "text/plain": [
              "<IPython.core.display.Javascript object>"
            ]
          },
          "metadata": {
            "tags": []
          }
        }
      ]
    }
  ]
}